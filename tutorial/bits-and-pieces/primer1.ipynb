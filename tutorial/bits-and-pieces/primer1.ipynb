{
 "cells": [
  {
   "cell_type": "markdown",
   "metadata": {
    "toc": true
   },
   "source": [
    "<h1>Table of Contents<span class=\"tocSkip\"></span></h1>\n",
    "<div class=\"toc\" style=\"margin-top: 1em;\"><ul class=\"toc-item\"><li><span><a href=\"#MSVO-3,-70\" data-toc-modified-id=\"MSVO-3,-70-1\"><span class=\"toc-item-num\">1&nbsp;&nbsp;</span>MSVO 3, 70</a></span></li><li><span><a href=\"#Text-Fabric\" data-toc-modified-id=\"Text-Fabric-2\"><span class=\"toc-item-num\">2&nbsp;&nbsp;</span>Text-Fabric</a></span></li><li><span><a href=\"#Installing-Text-Fabric\" data-toc-modified-id=\"Installing-Text-Fabric-3\"><span class=\"toc-item-num\">3&nbsp;&nbsp;</span>Installing Text-Fabric</a></span><ul class=\"toc-item\"><li><span><a href=\"#Prerequisites\" data-toc-modified-id=\"Prerequisites-3.1\"><span class=\"toc-item-num\">3.1&nbsp;&nbsp;</span>Prerequisites</a></span></li><li><span><a href=\"#TF-itself\" data-toc-modified-id=\"TF-itself-3.2\"><span class=\"toc-item-num\">3.2&nbsp;&nbsp;</span>TF itself</a></span></li></ul></li><li><span><a href=\"#Pulling-up-a-tablet-and-its-transliteration-using-a-p-number\" data-toc-modified-id=\"Pulling-up-a-tablet-and-its-transliteration-using-a-p-number-4\"><span class=\"toc-item-num\">4&nbsp;&nbsp;</span>Pulling up a tablet and its transliteration using a p-number</a></span></li><li><span><a href=\"#Non-numerical-quads\" data-toc-modified-id=\"Non-numerical-quads-5\"><span class=\"toc-item-num\">5&nbsp;&nbsp;</span>Non-numerical quads</a></span></li><li><span><a href=\"#Generating-a-list-of-sign-frequency-and-saving-it-as-a-separate-file\" data-toc-modified-id=\"Generating-a-list-of-sign-frequency-and-saving-it-as-a-separate-file-6\"><span class=\"toc-item-num\">6&nbsp;&nbsp;</span>Generating a list of sign frequency and saving it as a separate file</a></span></li></ul></div>"
   ]
  },
  {
   "cell_type": "markdown",
   "metadata": {},
   "source": [
    "# Primer 1\n",
    "\n",
    "This notebook is meant for those with little or no familiarity with \n",
    "[Text-Fabric](https://github.com/Dans-labs/text-fabric) and will focus on several basic tasks, including calling up an individual proto-cuneiform tablet using a p-number, the coding of complex proto-cuneiform signs using what we will call \"quads\" and the identification of one of the numeral systems, and a quick look at the frequency of a few sign clusters. Each primer, including this one, will focus on a single tablet and explore three or four analytical possibilities. In this primer we look at MSVO 3, 70, which has the p-number P005381 at CDLI.\n",
    "\n",
    "## MSVO 3, 70\n",
    "\n",
    "The proto-cuneiform tablet known as MSVO 3, 70, is held in the British Museum, where it has the museum number BM 140852. The tablet dates to the Uruk III period, ca. 3200-3000 BCE, and is slated for publication in the third volume of Materialien zu den frühen Schriftzeugnissen des Vorderen Orients (MSVO). Up to now it has only appeared as a photo in Frühe Schrift (Nissen, Damerow and Englund 1990), p. 38.\n",
    "\n",
    "We'll show the lineart for this tablet and its ATF transcription in a moment, including a link to this tablet on CDLI."
   ]
  },
  {
   "cell_type": "markdown",
   "metadata": {},
   "source": [
    "## Text-Fabric\n",
    "\n",
    "Text-Fabric (TF) is a model for textual data with annotations that is optimized for efficient data analysis. As we will begin to see at the end of this primer, when we check the totals on the reverse of our primer tablet, Text-Fabric also facilitates the creation of new, derived data, which can be added to the original data.\n",
    "\n",
    "Working with TF is a bit like buying from IKEA. You get all the bits and pieces in a box, and then you assemble it yourself. TF decomposes any dataset into its components, nicely stacked, with every component uniquely labeled. And then we use short reusable bits of code to do specific things. TF is based on a model proposed by [Doedens](http://books.google.nl/books?id=9ggOBRz1dO4C) that focuses on the essential properties of texts such sequence and embedding. For a description of how Text-Fabric has been used for work on the Hebrew Bible, see Dirk Roorda's article [The Hebrew Bible as Data: Laboratory - Sharing - Experiences](https://doi.org/10.5334/bbi.18).\n",
    "\n",
    "Once data is transformed into Text-Fabric, it can also be used to build rich online interfaces for specific groups of ancient texts. For the Hebrew Bible, have a look at [SHEBANQ](https://shebanq.ancient-data.org/hebrew/text).\n",
    "\n",
    "The best environment for using Text-Fabric is in a [Jupyter Notebook](http://jupyter.readthedocs.io/en/latest/). This primer is in a Jupyter Notebook: the snippets of code can only be executed if you have installed Python 3, Jupyter Notebook, and Text-Fabric on your own computer."
   ]
  },
  {
   "cell_type": "markdown",
   "metadata": {},
   "source": [
    "## Installing Text-Fabric\n",
    "\n",
    "### Prerequisites\n",
    "\n",
    "You need to have Python on your system. Most systems have it out of the box,\n",
    "but alas, that is python2 and we need at least python 3.6.\n",
    "\n",
    "Install it from [python.org]() or from [Anaconda]().\n",
    "If you got it from python.org, you also have to install [Jupyter]().\n",
    "\n",
    "### TF itself\n",
    "\n",
    "```\n",
    "pip install text-fabric\n",
    "```\n",
    "\n",
    "if you have installed Python with the help of Anaconda, or\n",
    "\n",
    "```\n",
    "sudo -H pip3 install text-fabric\n",
    "```\n",
    "if you have installed Python from [python.org](https://www.python.org).\n",
    "\n",
    "###### Execute: If all this is done, the following cells can be executed."
   ]
  },
  {
   "cell_type": "code",
   "execution_count": 1,
   "metadata": {
    "ExecuteTime": {
     "end_time": "2018-05-02T20:57:42.908734Z",
     "start_time": "2018-05-02T20:57:42.891053Z"
    }
   },
   "outputs": [],
   "source": [
    "import os, sys, collections\n",
    "from IPython.display import display\n",
    "from tf.extra.cunei import Cunei"
   ]
  },
  {
   "cell_type": "code",
   "execution_count": 2,
   "metadata": {
    "ExecuteTime": {
     "end_time": "2018-05-02T20:57:45.655776Z",
     "start_time": "2018-05-02T20:57:44.691288Z"
    }
   },
   "outputs": [
    {
     "name": "stdout",
     "output_type": "stream",
     "text": [
      "Found 2095 ideograph linearts\n",
      "Found 2724 tablet linearts\n",
      "Found 5495 tablet photos\n"
     ]
    },
    {
     "data": {
      "text/markdown": [
       "**Documentation:** <a target=\"_blank\" href=\"https://github.com/Nino-cunei/uruk/blob/master/docs/about.md\" title=\"provenance of this corpus\">Uruk IV-III (v1.0)</a> <a target=\"_blank\" href=\"https://github.com/Nino-cunei/uruk/blob/master/docs/transcription.md\" title=\"feature documentation\">Feature docs</a> <a target=\"_blank\" href=\"https://github.com/Dans-labs/text-fabric/wiki/Cunei\" title=\"cunei api documentation\">Cunei API</a> <a target=\"_blank\" href=\"https://github.com/Dans-labs/text-fabric/wiki/api\" title=\"text-fabric-api\">Text-Fabric API 3.4.12</a> <a target=\"_blank\" href=\"https://github.com/Dans-labs/text-fabric/wiki/api#search-template-introduction\" title=\"Search Templates Introduction and Reference\">Search Reference</a>"
      ],
      "text/plain": [
       "<IPython.core.display.Markdown object>"
      ]
     },
     "metadata": {},
     "output_type": "display_data"
    },
    {
     "data": {
      "text/markdown": [
       "\n",
       "This notebook online:\n",
       "<a target=\"_blank\" href=\"http://nbviewer.jupyter.org/github/Nino-cunei/tutorials/blob/master/bits-and-pieces/primer1.ipynb\">NBViewer</a>\n",
       "<a target=\"_blank\" href=\"https://github.com/Nino-cunei/tutorials/blob/master/bits-and-pieces/primer1.ipynb\">GitHub</a>\n"
      ],
      "text/plain": [
       "<IPython.core.display.Markdown object>"
      ]
     },
     "metadata": {},
     "output_type": "display_data"
    },
    {
     "data": {
      "text/html": [
       "\n",
       "<style>\n",
       ".pnum {\n",
       "    font-family: sans-serif;\n",
       "    font-size: small;\n",
       "    font-weight: bold;\n",
       "    color: #444444;\n",
       "}\n",
       ".nd {\n",
       "    font-family: monospace;\n",
       "    font-size: x-small;\n",
       "    color: #999999;\n",
       "}\n",
       ".meta {\n",
       "    display: flex;\n",
       "    justify-content: flex-start;\n",
       "    align-items: flex-start;\n",
       "    align-content: flex-start;\n",
       "    flex-flow: row nowrap;\n",
       "}\n",
       ".features,.comments {\n",
       "    display: flex;\n",
       "    justify-content: flex-start;\n",
       "    align-items: flex-start;\n",
       "    align-content: flex-start;\n",
       "    flex-flow: column nowrap;\n",
       "}\n",
       ".children {\n",
       "    display: flex;\n",
       "    justify-content: flex-start;\n",
       "    align-items: flex-start;\n",
       "    align-content: flex-start;\n",
       "    border: 0;\n",
       "    background-color: #ffffff;\n",
       "}\n",
       ".children.tablet,.children.face {\n",
       "    flex-flow: row nowrap;\n",
       "}\n",
       ".children.column {\n",
       "    align-items: stretch;\n",
       "    flex-flow: column nowrap;\n",
       "}\n",
       ".children.line,.children.case {\n",
       "    align-items: stretch;\n",
       "    flex-flow: row nowrap;\n",
       "}\n",
       ".children.caseh,.children.trminalh {\n",
       "    flex-flow: row nowrap;\n",
       "}\n",
       ".children.casev,.children.trminalv {\n",
       "    flex-flow: column nowrap;\n",
       "}\n",
       ".children.trminal {\n",
       "    flex-flow: row nowrap;\n",
       "}\n",
       ".children.cluster {\n",
       "    flex-flow: row wrap;\n",
       "}\n",
       ".children.quad {\n",
       "    flex-flow: row wrap;\n",
       "}\n",
       ".children.sign {\n",
       "    flex-flow: column nowrap;\n",
       "}\n",
       ".contnr {\n",
       "    width: fit-content;\n",
       "}\n",
       ".contnr.tablet,.contnr.face,.contnr.column,\n",
       ".contnr.line,.contnr.case,.contnr.trminal,\n",
       ".contnr.comment,\n",
       ".contnr.cluster,\n",
       ".contnr.quad,.contnr.sign {\n",
       "    display: flex;\n",
       "    justify-content: flex-start;\n",
       "    align-items: flex-start;\n",
       "    align-content: flex-start;\n",
       "    flex-flow: column nowrap;\n",
       "    background: #ffffff none repeat scroll 0 0;\n",
       "    padding:  0.5em 0.1em 0.1em 0.1em;\n",
       "    margin: 0.8em 0.1em 0.1em 0.1em;\n",
       "    border-radius: 0.2em;\n",
       "    border-style: solid;\n",
       "    border-width: 0.2em;\n",
       "    font-size: small;\n",
       "}\n",
       ".contnr.tablet,.contnr.face,.contnr.column {\n",
       "    border-color: #bb8800;\n",
       "}\n",
       ".contnr.line,.contnr.case,.contnr.trminal {\n",
       "    border-color: #0088bb;\n",
       "}\n",
       ".contnr.cluster {\n",
       "    flex-flow: row wrap;\n",
       "    border: 0;\n",
       "}\n",
       ".contnr.sign,.contnr.quad {\n",
       "    border-color: #bbbbbb;\n",
       "}\n",
       ".contnr.comment {\n",
       "    background-color: #ffddaa;\n",
       "    border: 0.2em solid #eecc99;\n",
       "    border-radius: 0.3em;\n",
       "}\n",
       ".contnr.hl {\n",
       "    background-color: #ffee66;\n",
       "}\n",
       ".lbl.tablet,.lbl.face,.lbl.column,\n",
       ".lbl.line,.lbl.case,.lbl.trminal,\n",
       ".lbl.comment,\n",
       ".lbl.cluster,\n",
       ".lbl.quad,.lbl.sign {\n",
       "    margin-top: -1.2em;\n",
       "    margin-left: 1em;\n",
       "    background: #ffffff none repeat scroll 0 0;\n",
       "    padding: 0 0.3em;\n",
       "    border-style: solid;\n",
       "    font-size: small;\n",
       "    color: #0000cc;\n",
       "    display: block;\n",
       "}\n",
       ".lbl.tablet,.lbl.face,.lbl.column {\n",
       "    border-color: #bb8800;\n",
       "    border-width: 0.2em;\n",
       "    border-radius: 0.2em;\n",
       "    color: #bb8800;\n",
       "}\n",
       ".lbl.line,.lbl.case,.lbl.trminal {\n",
       "    border-color: #0088bb;\n",
       "    border-width: 0.2em;\n",
       "    border-radius: 0.2em;\n",
       "    color: #0088bb;\n",
       "}\n",
       ".lbl.comment {\n",
       "    border-color: #eecc99;\n",
       "    border-width: 0.2em;\n",
       "    border-radius: 0.2em;\n",
       "    color: #eecc99;\n",
       "    background-color: #ffddaa none repeat scroll 0 0;\n",
       "}\n",
       ".lbl.clusterB,.lbl.clusterE {\n",
       "    padding:  0.5em 0.1em 0.1em 0.1em;\n",
       "    margin: 0.8em 0.1em 0.1em 0.1em;\n",
       "    color: #888844;\n",
       "    font-size: x-small;\n",
       "}\n",
       ".lbl.clusterB {\n",
       "    border-left: 0.3em solid #cccc99;\n",
       "    border-right: 0;\n",
       "    border-top: 0;\n",
       "    border-bottom: 0;\n",
       "    border-radius: 1em;\n",
       "}\n",
       ".lbl.clusterE {\n",
       "    border-left: 0;\n",
       "    border-right: 0.3em solid #cccc99;\n",
       "    border-top: 0;\n",
       "    border-bottom: 0;\n",
       "    border-radius: 1em;\n",
       "}\n",
       ".lbl.quad,.lbl.sign {\n",
       "    border-color: #bbbbbb;\n",
       "    border-width: 0.1em;\n",
       "    border-radius: 0.1em;\n",
       "    color: #bbbbbb;\n",
       "}\n",
       ".op {\n",
       "    padding:  0.5em 0.1em 0.1em 0.1em;\n",
       "    margin: 0.8em 0.1em 0.1em 0.1em;\n",
       "    font-family: monospace;\n",
       "    font-size: x-large;\n",
       "    font-weight: bold;\n",
       "}\n",
       ".name {\n",
       "    font-family: monospace;\n",
       "    font-size: medium;\n",
       "    color: #0000bb;\n",
       "}\n",
       ".period {\n",
       "    font-family: monospace;\n",
       "    font-size: medium;\n",
       "    font-weight: bold;\n",
       "    color: #0000bb;\n",
       "}\n",
       ".excavation {\n",
       "    font-family: monospace;\n",
       "    font-size: medium;\n",
       "    font-style: italic;\n",
       "    color: #779900;\n",
       "}\n",
       ".text {\n",
       "    font-family: sans-serif;\n",
       "    font-size: x-small;\n",
       "    color: #000000;\n",
       "}\n",
       ".srcLn {\n",
       "    font-family: monospace;\n",
       "    font-size: medium;\n",
       "    color: #000000;\n",
       "}\n",
       ".srcLnNum {\n",
       "    font-family: monospace;\n",
       "    font-size: x-small;\n",
       "    color: #0000bb;\n",
       "}\n",
       "</style>\n"
      ],
      "text/plain": [
       "<IPython.core.display.HTML object>"
      ]
     },
     "metadata": {},
     "output_type": "display_data"
    }
   ],
   "source": [
    "import sys, os\n",
    "LOC = ('~/github', 'Nino-cunei/uruk', 'primer1')\n",
    "A = Cunei(*LOC)\n",
    "A.api.makeAvailableIn(globals())"
   ]
  },
  {
   "cell_type": "markdown",
   "metadata": {},
   "source": [
    "## Pulling up a tablet and its transliteration using a p-number\n",
    "\n",
    "Each cuneiform tablet has a unique \"p-number\" and we can use this p-number in Text-Fabric to bring up any images and the transliteration of a tablet, here P005381.\n",
    "\n",
    "There is a \"node\" in Text-Fabric for this tablet. How do we find it and display the transliteration?\n",
    "\n",
    "* We *search* for the tablet by means of a template;\n",
    "* we use functions `A.lineart()` and `A.getSource()` to bring up the lineart and transliterations of tablets."
   ]
  },
  {
   "cell_type": "code",
   "execution_count": 3,
   "metadata": {
    "ExecuteTime": {
     "end_time": "2018-05-01T14:55:23.045159Z",
     "start_time": "2018-05-01T14:55:23.014773Z"
    }
   },
   "outputs": [
    {
     "name": "stdout",
     "output_type": "stream",
     "text": [
      "1 result\n"
     ]
    }
   ],
   "source": [
    "pNum = 'P005381'\n",
    "query = f'''\n",
    "tablet catalogId={pNum}\n",
    "'''\n",
    "results = A.search(query)"
   ]
  },
  {
   "cell_type": "markdown",
   "metadata": {},
   "source": [
    "The `results` is a list of \"records\".\n",
    "\n",
    "Here we have only one result: `results[0]`.\n",
    "\n",
    "Each result record is a tuple of nodes mentioned in the template.\n",
    "\n",
    "Here we only mentioned a single thing: `tablet`.\n",
    "So we find the node of the matched tablets as the firt member of the result records.\n",
    "\n",
    "Hence the result tablet node is `results[0][0]`."
   ]
  },
  {
   "cell_type": "code",
   "execution_count": 4,
   "metadata": {
    "ExecuteTime": {
     "end_time": "2018-05-01T14:55:29.059670Z",
     "start_time": "2018-05-01T14:55:29.046492Z"
    }
   },
   "outputs": [
    {
     "data": {
      "text/html": [
       "<div style=\"display: flex;flex-flow: row nowrap;justify-content: flex-start;align-items: center;align-content: flex-start;\"><div style=\"padding: 0.5rem;\"><div style=\"display: flex;flex-flow: column nowrap;justify-content: space-between;align-items: center;align-content: space-between;\"><div><a target=\"_blank\" href=\"https://cdli.ucla.edu/dl/lineart/P005381_l.jpg\" title=\"to higher resolution lineart on CDLI\"><img src=\"cdli-imagery/lineart-p005381.jpg\" style=\"display: inline;max-width: 300px;\"  /></a></div><div><a target=\"_blank\" href=\"https://cdli.ucla.edu/search/search_results.php?SearchMode=Text&ObjectID=P005381\" title=\"to CDLI main page for this item\">P005381</a></div></div></div></div>"
      ],
      "text/plain": [
       "<IPython.core.display.HTML object>"
      ]
     },
     "metadata": {},
     "output_type": "display_data"
    },
    {
     "data": {
      "text/plain": [
       "['&P005381 = MSVO 3, 70',\n",
       " '#atf: lang qpc ',\n",
       " '@obverse ',\n",
       " '@column 1 ',\n",
       " '1.a. 2(N14) , SZE~a SAL TUR3~a NUN~a ',\n",
       " '1.b. 3(N19) , |GISZ.TE| ',\n",
       " '2. 1(N14) , NAR NUN~a SIG7 ',\n",
       " '3. 2(N04)# , PIRIG~b1 SIG7 URI3~a NUN~a ',\n",
       " '@column 2 ',\n",
       " '1. 3(N04) , |GISZ.TE| GAR |SZU2.((HI+1(N57))+(HI+1(N57)))| GI4~a ',\n",
       " '2. , GU7 AZ SI4~f ',\n",
       " '@reverse ',\n",
       " '@column 1 ',\n",
       " '1. 3(N14) , SZE~a ',\n",
       " '2. 3(N19) 5(N04) , ',\n",
       " '3. , GU7 ',\n",
       " '@column 2 ',\n",
       " '1. , AZ SI4~f ']"
      ]
     },
     "execution_count": 4,
     "metadata": {},
     "output_type": "execute_result"
    }
   ],
   "source": [
    "tablet = results[0][0]\n",
    "A.lineart(tablet, width=300)\n",
    "A.getSource(tablet)"
   ]
  },
  {
   "cell_type": "markdown",
   "metadata": {},
   "source": [
    "Now we want to view the numerals on the tablet."
   ]
  },
  {
   "cell_type": "code",
   "execution_count": 5,
   "metadata": {
    "ExecuteTime": {
     "end_time": "2018-05-01T14:55:51.448828Z",
     "start_time": "2018-05-01T14:55:51.051031Z"
    }
   },
   "outputs": [
    {
     "name": "stdout",
     "output_type": "stream",
     "text": [
      "10 results\n"
     ]
    }
   ],
   "source": [
    "query = f'''\n",
    "tablet catalogId={pNum}\n",
    "  sign type=numeral\n",
    "'''\n",
    "results = A.search(query)"
   ]
  },
  {
   "cell_type": "markdown",
   "metadata": {},
   "source": [
    "It is easy to show them at a glance:"
   ]
  },
  {
   "cell_type": "code",
   "execution_count": 6,
   "metadata": {
    "ExecuteTime": {
     "end_time": "2018-05-01T14:55:55.434971Z",
     "start_time": "2018-05-01T14:55:55.415939Z"
    }
   },
   "outputs": [
    {
     "data": {
      "text/markdown": [
       "\n",
       "##### Tablet 1\n"
      ],
      "text/plain": [
       "<IPython.core.display.Markdown object>"
      ]
     },
     "metadata": {},
     "output_type": "display_data"
    },
    {
     "data": {
      "text/html": [
       "\n",
       "<div class=\"contnr tablet \">\n",
       "    \n",
       "    <div class=\"lbl tablet\">\n",
       "        <a target=\"_blank\" href=\"https://cdli.ucla.edu/search/search_results.php?SearchMode=Text&ObjectID=P005381\" title=\"to CDLI main page for this tablet\">tablet P005381  <span class=\"name\">MSVO 3, 70</span> <span class=\"period\">uruk-iii</span></a>\n",
       "        \n",
       "    </div>\n",
       "\n",
       "    <div class=\"meta\">\n",
       "        \n",
       "        <div class=\"comments\">\n",
       "<div class=\"contnr comment \">\n",
       "    \n",
       "    <div class=\"lbl comment\">\n",
       "        meta\n",
       "        \n",
       "    </div>\n",
       "\n",
       "    <div class=\"meta\">\n",
       "        <div class=\"features\"> <span class=\"text\">atf: lang qpc</span></div>\n",
       "        \n",
       "    </div>\n",
       "\n",
       "</div>\n",
       "</div>\n",
       "    </div>\n",
       "\n",
       "\n",
       "    <div class=\"children tablet\">\n",
       "\n",
       "\n",
       "<div class=\"contnr face \">\n",
       "    \n",
       "    <div class=\"lbl face\">\n",
       "        obverse\n",
       "        \n",
       "    </div>\n",
       "\n",
       "    <div class=\"meta\">\n",
       "        <div class=\"features\"></div>\n",
       "        \n",
       "    </div>\n",
       "\n",
       "\n",
       "    <div class=\"children face\">\n",
       "\n",
       "\n",
       "<div class=\"contnr column \">\n",
       "    \n",
       "    <div class=\"lbl column\">\n",
       "        1\n",
       "        \n",
       "    </div>\n",
       "\n",
       "    <div class=\"meta\">\n",
       "        \n",
       "        \n",
       "    </div>\n",
       "\n",
       "\n",
       "    <div class=\"children column\">\n",
       "\n",
       "\n",
       "<div class=\"contnr line \">\n",
       "    \n",
       "    <div class=\"lbl line\">\n",
       "        1\n",
       "        \n",
       "    </div>\n",
       "\n",
       "    <div class=\"meta\">\n",
       "        \n",
       "        \n",
       "    </div>\n",
       "\n",
       "\n",
       "    <div class=\"children line\">\n",
       "\n",
       "\n",
       "<div class=\"contnr trminal \">\n",
       "    \n",
       "    <div class=\"lbl trminal\">\n",
       "        1a\n",
       "        \n",
       "    </div>\n",
       "\n",
       "    <div class=\"meta\">\n",
       "        <div class=\"features\"></div>\n",
       "        \n",
       "    </div>\n",
       "\n",
       "\n",
       "    <div class=\"children trminalv\">\n",
       "\n",
       "\n",
       "<div class=\"contnr sign  hl\">\n",
       "    \n",
       "    <div class=\"meta\">\n",
       "         <span class=\"srcLn\">2(N14)</span>\n",
       "        \n",
       "    </div>\n",
       "\n",
       "<div><a target=\"_blank\" href=\"https://cdli.ucla.edu/tools/SignLists/protocuneiform/archsigns/2(N14).jpg\" title=\"to higher resolution lineart on CDLI\"><img src=\"cdli-imagery/lineart-2(n14).jpg\" style=\"display: inline;max-width: 2em; max-height: 4em;\"  /></a></div>\n",
       "\n",
       "</div>\n",
       "\n",
       "\n",
       "<div class=\"contnr sign \">\n",
       "    \n",
       "    <div class=\"meta\">\n",
       "         <span class=\"srcLn\">SZE~a</span>\n",
       "        \n",
       "    </div>\n",
       "\n",
       "<div><a target=\"_blank\" href=\"https://cdli.ucla.edu/tools/SignLists/protocuneiform/archsigns/SZE~a.jpg\" title=\"to higher resolution lineart on CDLI\"><img src=\"cdli-imagery/lineart-sze-a.jpg\" style=\"display: inline;max-width: 2em; max-height: 4em;\"  /></a></div>\n",
       "\n",
       "</div>\n",
       "\n",
       "\n",
       "<div class=\"contnr sign \">\n",
       "    \n",
       "    <div class=\"meta\">\n",
       "         <span class=\"srcLn\">SAL</span>\n",
       "        \n",
       "    </div>\n",
       "\n",
       "<div><a target=\"_blank\" href=\"https://cdli.ucla.edu/tools/SignLists/protocuneiform/archsigns/SAL.jpg\" title=\"to higher resolution lineart on CDLI\"><img src=\"cdli-imagery/lineart-sal.jpg\" style=\"display: inline;max-width: 2em; max-height: 4em;\"  /></a></div>\n",
       "\n",
       "</div>\n",
       "\n",
       "\n",
       "<div class=\"contnr sign \">\n",
       "    \n",
       "    <div class=\"meta\">\n",
       "         <span class=\"srcLn\">TUR3~a</span>\n",
       "        \n",
       "    </div>\n",
       "\n",
       "<div><a target=\"_blank\" href=\"https://cdli.ucla.edu/tools/SignLists/protocuneiform/archsigns/TUR3~a.jpg\" title=\"to higher resolution lineart on CDLI\"><img src=\"cdli-imagery/lineart-tur3-a.jpg\" style=\"display: inline;max-width: 2em; max-height: 4em;\"  /></a></div>\n",
       "\n",
       "</div>\n",
       "\n",
       "\n",
       "<div class=\"contnr sign \">\n",
       "    \n",
       "    <div class=\"meta\">\n",
       "         <span class=\"srcLn\">NUN~a</span>\n",
       "        \n",
       "    </div>\n",
       "\n",
       "<div><a target=\"_blank\" href=\"https://cdli.ucla.edu/tools/SignLists/protocuneiform/archsigns/NUN~a.jpg\" title=\"to higher resolution lineart on CDLI\"><img src=\"cdli-imagery/lineart-nun-a.jpg\" style=\"display: inline;max-width: 2em; max-height: 4em;\"  /></a></div>\n",
       "\n",
       "</div>\n",
       "\n",
       "\n",
       "    </div>\n",
       "\n",
       "\n",
       "</div>\n",
       "\n",
       "\n",
       "<div class=\"contnr trminal \">\n",
       "    \n",
       "    <div class=\"lbl trminal\">\n",
       "        1b\n",
       "        \n",
       "    </div>\n",
       "\n",
       "    <div class=\"meta\">\n",
       "        <div class=\"features\"></div>\n",
       "        \n",
       "    </div>\n",
       "\n",
       "\n",
       "    <div class=\"children trminalv\">\n",
       "\n",
       "\n",
       "<div class=\"contnr sign  hl\">\n",
       "    \n",
       "    <div class=\"meta\">\n",
       "         <span class=\"srcLn\">3(N19)</span>\n",
       "        \n",
       "    </div>\n",
       "\n",
       "<div><a target=\"_blank\" href=\"https://cdli.ucla.edu/tools/SignLists/protocuneiform/archsigns/3(N19).jpg\" title=\"to higher resolution lineart on CDLI\"><img src=\"cdli-imagery/lineart-3(n19).jpg\" style=\"display: inline;max-width: 2em; max-height: 4em;\"  /></a></div>\n",
       "\n",
       "</div>\n",
       "\n",
       "\n",
       "<div class=\"contnr quad \">\n",
       "    \n",
       "    <div class=\"meta\">\n",
       "        \n",
       "        \n",
       "    </div>\n",
       "\n",
       "<div><a target=\"_blank\" href=\"https://cdli.ucla.edu/tools/SignLists/protocuneiform/archsigns/|GISZ.TE|.jpg\" title=\"to higher resolution lineart on CDLI\"><img src=\"cdli-imagery/lineart-qgisz(d)teq.jpg\" style=\"display: inline;max-width: 4em; max-height: 6em;\"  /></a></div>\n",
       "\n",
       "    <div class=\"children quad\">\n",
       "\n",
       "\n",
       "<div class=\"contnr sign \">\n",
       "    \n",
       "    <div class=\"meta\">\n",
       "         <span class=\"srcLn\">GISZ</span>\n",
       "        \n",
       "    </div>\n",
       "\n",
       "\n",
       "</div>\n",
       "\n",
       "<div class=\"op\">.</div>\n",
       "\n",
       "<div class=\"contnr sign \">\n",
       "    \n",
       "    <div class=\"meta\">\n",
       "         <span class=\"srcLn\">TE</span>\n",
       "        \n",
       "    </div>\n",
       "\n",
       "\n",
       "</div>\n",
       "\n",
       "\n",
       "    </div>\n",
       "\n",
       "\n",
       "</div>\n",
       "\n",
       "\n",
       "    </div>\n",
       "\n",
       "\n",
       "</div>\n",
       "\n",
       "\n",
       "    </div>\n",
       "\n",
       "\n",
       "</div>\n",
       "\n",
       "\n",
       "<div class=\"contnr trminal \">\n",
       "    \n",
       "    <div class=\"lbl trminal\">\n",
       "        2\n",
       "        \n",
       "    </div>\n",
       "\n",
       "    <div class=\"meta\">\n",
       "        <div class=\"features\"></div>\n",
       "        \n",
       "    </div>\n",
       "\n",
       "\n",
       "    <div class=\"children trminal\">\n",
       "\n",
       "\n",
       "<div class=\"contnr sign  hl\">\n",
       "    \n",
       "    <div class=\"meta\">\n",
       "         <span class=\"srcLn\">1(N14)</span>\n",
       "        \n",
       "    </div>\n",
       "\n",
       "<div><a target=\"_blank\" href=\"https://cdli.ucla.edu/tools/SignLists/protocuneiform/archsigns/1(N14).jpg\" title=\"to higher resolution lineart on CDLI\"><img src=\"cdli-imagery/lineart-1(n14).jpg\" style=\"display: inline;max-width: 2em; max-height: 4em;\"  /></a></div>\n",
       "\n",
       "</div>\n",
       "\n",
       "\n",
       "<div class=\"contnr sign \">\n",
       "    \n",
       "    <div class=\"meta\">\n",
       "         <span class=\"srcLn\">NAR</span>\n",
       "        \n",
       "    </div>\n",
       "\n",
       "<div><a target=\"_blank\" href=\"https://cdli.ucla.edu/tools/SignLists/protocuneiform/archsigns/NAR.jpg\" title=\"to higher resolution lineart on CDLI\"><img src=\"cdli-imagery/lineart-nar.jpg\" style=\"display: inline;max-width: 2em; max-height: 4em;\"  /></a></div>\n",
       "\n",
       "</div>\n",
       "\n",
       "\n",
       "<div class=\"contnr sign \">\n",
       "    \n",
       "    <div class=\"meta\">\n",
       "         <span class=\"srcLn\">NUN~a</span>\n",
       "        \n",
       "    </div>\n",
       "\n",
       "<div><a target=\"_blank\" href=\"https://cdli.ucla.edu/tools/SignLists/protocuneiform/archsigns/NUN~a.jpg\" title=\"to higher resolution lineart on CDLI\"><img src=\"cdli-imagery/lineart-nun-a.jpg\" style=\"display: inline;max-width: 2em; max-height: 4em;\"  /></a></div>\n",
       "\n",
       "</div>\n",
       "\n",
       "\n",
       "<div class=\"contnr sign \">\n",
       "    \n",
       "    <div class=\"meta\">\n",
       "         <span class=\"srcLn\">SIG7</span>\n",
       "        \n",
       "    </div>\n",
       "\n",
       "<div><a target=\"_blank\" href=\"https://cdli.ucla.edu/tools/SignLists/protocuneiform/archsigns/SIG7.jpg\" title=\"to higher resolution lineart on CDLI\"><img src=\"cdli-imagery/lineart-sig7.jpg\" style=\"display: inline;max-width: 2em; max-height: 4em;\"  /></a></div>\n",
       "\n",
       "</div>\n",
       "\n",
       "\n",
       "    </div>\n",
       "\n",
       "\n",
       "</div>\n",
       "\n",
       "\n",
       "<div class=\"contnr trminal \">\n",
       "    \n",
       "    <div class=\"lbl trminal\">\n",
       "        3\n",
       "        \n",
       "    </div>\n",
       "\n",
       "    <div class=\"meta\">\n",
       "        <div class=\"features\"></div>\n",
       "        \n",
       "    </div>\n",
       "\n",
       "\n",
       "    <div class=\"children trminal\">\n",
       "\n",
       "\n",
       "<div class=\"contnr sign  hl\">\n",
       "    \n",
       "    <div class=\"meta\">\n",
       "         <span class=\"srcLn\">2(N04)#</span>\n",
       "        \n",
       "    </div>\n",
       "\n",
       "<div><a target=\"_blank\" href=\"https://cdli.ucla.edu/tools/SignLists/protocuneiform/archsigns/2(N04).jpg\" title=\"to higher resolution lineart on CDLI\"><img src=\"cdli-imagery/lineart-2(n04).jpg\" style=\"display: inline;max-width: 2em; max-height: 4em;\"  /></a></div>\n",
       "\n",
       "</div>\n",
       "\n",
       "\n",
       "<div class=\"contnr sign \">\n",
       "    \n",
       "    <div class=\"meta\">\n",
       "         <span class=\"srcLn\">PIRIG~b1</span>\n",
       "        \n",
       "    </div>\n",
       "\n",
       "<div><a target=\"_blank\" href=\"https://cdli.ucla.edu/tools/SignLists/protocuneiform/archsigns/PIRIG~b1.jpg\" title=\"to higher resolution lineart on CDLI\"><img src=\"cdli-imagery/lineart-pirig-b1.jpg\" style=\"display: inline;max-width: 2em; max-height: 4em;\"  /></a></div>\n",
       "\n",
       "</div>\n",
       "\n",
       "\n",
       "<div class=\"contnr sign \">\n",
       "    \n",
       "    <div class=\"meta\">\n",
       "         <span class=\"srcLn\">SIG7</span>\n",
       "        \n",
       "    </div>\n",
       "\n",
       "<div><a target=\"_blank\" href=\"https://cdli.ucla.edu/tools/SignLists/protocuneiform/archsigns/SIG7.jpg\" title=\"to higher resolution lineart on CDLI\"><img src=\"cdli-imagery/lineart-sig7.jpg\" style=\"display: inline;max-width: 2em; max-height: 4em;\"  /></a></div>\n",
       "\n",
       "</div>\n",
       "\n",
       "\n",
       "<div class=\"contnr sign \">\n",
       "    \n",
       "    <div class=\"meta\">\n",
       "         <span class=\"srcLn\">URI3~a</span>\n",
       "        \n",
       "    </div>\n",
       "\n",
       "<div><a target=\"_blank\" href=\"https://cdli.ucla.edu/tools/SignLists/protocuneiform/archsigns/URI3~a.jpg\" title=\"to higher resolution lineart on CDLI\"><img src=\"cdli-imagery/lineart-uri3-a.jpg\" style=\"display: inline;max-width: 2em; max-height: 4em;\"  /></a></div>\n",
       "\n",
       "</div>\n",
       "\n",
       "\n",
       "<div class=\"contnr sign \">\n",
       "    \n",
       "    <div class=\"meta\">\n",
       "         <span class=\"srcLn\">NUN~a</span>\n",
       "        \n",
       "    </div>\n",
       "\n",
       "<div><a target=\"_blank\" href=\"https://cdli.ucla.edu/tools/SignLists/protocuneiform/archsigns/NUN~a.jpg\" title=\"to higher resolution lineart on CDLI\"><img src=\"cdli-imagery/lineart-nun-a.jpg\" style=\"display: inline;max-width: 2em; max-height: 4em;\"  /></a></div>\n",
       "\n",
       "</div>\n",
       "\n",
       "\n",
       "    </div>\n",
       "\n",
       "\n",
       "</div>\n",
       "\n",
       "\n",
       "    </div>\n",
       "\n",
       "\n",
       "</div>\n",
       "\n",
       "\n",
       "<div class=\"contnr column \">\n",
       "    \n",
       "    <div class=\"lbl column\">\n",
       "        2\n",
       "        \n",
       "    </div>\n",
       "\n",
       "    <div class=\"meta\">\n",
       "        \n",
       "        \n",
       "    </div>\n",
       "\n",
       "\n",
       "    <div class=\"children column\">\n",
       "\n",
       "\n",
       "<div class=\"contnr trminal \">\n",
       "    \n",
       "    <div class=\"lbl trminal\">\n",
       "        1\n",
       "        \n",
       "    </div>\n",
       "\n",
       "    <div class=\"meta\">\n",
       "        <div class=\"features\"></div>\n",
       "        \n",
       "    </div>\n",
       "\n",
       "\n",
       "    <div class=\"children trminal\">\n",
       "\n",
       "\n",
       "<div class=\"contnr sign  hl\">\n",
       "    \n",
       "    <div class=\"meta\">\n",
       "         <span class=\"srcLn\">3(N04)</span>\n",
       "        \n",
       "    </div>\n",
       "\n",
       "<div><a target=\"_blank\" href=\"https://cdli.ucla.edu/tools/SignLists/protocuneiform/archsigns/3(N04).jpg\" title=\"to higher resolution lineart on CDLI\"><img src=\"cdli-imagery/lineart-3(n04).jpg\" style=\"display: inline;max-width: 2em; max-height: 4em;\"  /></a></div>\n",
       "\n",
       "</div>\n",
       "\n",
       "\n",
       "<div class=\"contnr quad \">\n",
       "    \n",
       "    <div class=\"meta\">\n",
       "        \n",
       "        \n",
       "    </div>\n",
       "\n",
       "<div><a target=\"_blank\" href=\"https://cdli.ucla.edu/tools/SignLists/protocuneiform/archsigns/|GISZ.TE|.jpg\" title=\"to higher resolution lineart on CDLI\"><img src=\"cdli-imagery/lineart-qgisz(d)teq.jpg\" style=\"display: inline;max-width: 4em; max-height: 6em;\"  /></a></div>\n",
       "\n",
       "    <div class=\"children quad\">\n",
       "\n",
       "\n",
       "<div class=\"contnr sign \">\n",
       "    \n",
       "    <div class=\"meta\">\n",
       "         <span class=\"srcLn\">GISZ</span>\n",
       "        \n",
       "    </div>\n",
       "\n",
       "\n",
       "</div>\n",
       "\n",
       "<div class=\"op\">.</div>\n",
       "\n",
       "<div class=\"contnr sign \">\n",
       "    \n",
       "    <div class=\"meta\">\n",
       "         <span class=\"srcLn\">TE</span>\n",
       "        \n",
       "    </div>\n",
       "\n",
       "\n",
       "</div>\n",
       "\n",
       "\n",
       "    </div>\n",
       "\n",
       "\n",
       "</div>\n",
       "\n",
       "\n",
       "<div class=\"contnr sign \">\n",
       "    \n",
       "    <div class=\"meta\">\n",
       "         <span class=\"srcLn\">GAR</span>\n",
       "        \n",
       "    </div>\n",
       "\n",
       "<div><a target=\"_blank\" href=\"https://cdli.ucla.edu/tools/SignLists/protocuneiform/archsigns/GAR.jpg\" title=\"to higher resolution lineart on CDLI\"><img src=\"cdli-imagery/lineart-gar.jpg\" style=\"display: inline;max-width: 2em; max-height: 4em;\"  /></a></div>\n",
       "\n",
       "</div>\n",
       "\n",
       "\n",
       "<div class=\"contnr quad \">\n",
       "    \n",
       "    <div class=\"meta\">\n",
       "        \n",
       "        \n",
       "    </div>\n",
       "\n",
       "<div><a target=\"_blank\" href=\"https://cdli.ucla.edu/tools/SignLists/protocuneiform/archsigns/|SZU2.((HI+1(N57))+(HI+1(N57)))|.jpg\" title=\"to higher resolution lineart on CDLI\"><img src=\"cdli-imagery/lineart-qszu2(d)((hi(p)1(n57))(p)(hi(p)1(n57)))q.jpg\" style=\"display: inline;max-width: 4em; max-height: 6em;\"  /></a></div>\n",
       "\n",
       "    <div class=\"children quad\">\n",
       "\n",
       "\n",
       "<div class=\"contnr sign \">\n",
       "    \n",
       "    <div class=\"meta\">\n",
       "         <span class=\"srcLn\">SZU2</span>\n",
       "        \n",
       "    </div>\n",
       "\n",
       "\n",
       "</div>\n",
       "\n",
       "<div class=\"op\">.</div>\n",
       "\n",
       "<div class=\"contnr quad \">\n",
       "    \n",
       "    <div class=\"meta\">\n",
       "        \n",
       "        \n",
       "    </div>\n",
       "\n",
       "\n",
       "    <div class=\"children quad\">\n",
       "\n",
       "\n",
       "<div class=\"contnr quad \">\n",
       "    \n",
       "    <div class=\"meta\">\n",
       "        \n",
       "        \n",
       "    </div>\n",
       "\n",
       "\n",
       "    <div class=\"children quad\">\n",
       "\n",
       "\n",
       "<div class=\"contnr sign \">\n",
       "    \n",
       "    <div class=\"meta\">\n",
       "         <span class=\"srcLn\">HI</span>\n",
       "        \n",
       "    </div>\n",
       "\n",
       "\n",
       "</div>\n",
       "\n",
       "<div class=\"op\">+</div>\n",
       "\n",
       "<div class=\"contnr sign  hl\">\n",
       "    \n",
       "    <div class=\"meta\">\n",
       "         <span class=\"srcLn\">1(N57)</span>\n",
       "        \n",
       "    </div>\n",
       "\n",
       "\n",
       "</div>\n",
       "\n",
       "\n",
       "    </div>\n",
       "\n",
       "\n",
       "</div>\n",
       "\n",
       "<div class=\"op\">+</div>\n",
       "\n",
       "<div class=\"contnr quad \">\n",
       "    \n",
       "    <div class=\"meta\">\n",
       "        \n",
       "        \n",
       "    </div>\n",
       "\n",
       "\n",
       "    <div class=\"children quad\">\n",
       "\n",
       "\n",
       "<div class=\"contnr sign \">\n",
       "    \n",
       "    <div class=\"meta\">\n",
       "         <span class=\"srcLn\">HI</span>\n",
       "        \n",
       "    </div>\n",
       "\n",
       "\n",
       "</div>\n",
       "\n",
       "<div class=\"op\">+</div>\n",
       "\n",
       "<div class=\"contnr sign  hl\">\n",
       "    \n",
       "    <div class=\"meta\">\n",
       "         <span class=\"srcLn\">1(N57)</span>\n",
       "        \n",
       "    </div>\n",
       "\n",
       "\n",
       "</div>\n",
       "\n",
       "\n",
       "    </div>\n",
       "\n",
       "\n",
       "</div>\n",
       "\n",
       "\n",
       "    </div>\n",
       "\n",
       "\n",
       "</div>\n",
       "\n",
       "\n",
       "    </div>\n",
       "\n",
       "\n",
       "</div>\n",
       "\n",
       "\n",
       "<div class=\"contnr sign \">\n",
       "    \n",
       "    <div class=\"meta\">\n",
       "         <span class=\"srcLn\">GI4~a</span>\n",
       "        \n",
       "    </div>\n",
       "\n",
       "<div><a target=\"_blank\" href=\"https://cdli.ucla.edu/tools/SignLists/protocuneiform/archsigns/GI4~a.jpg\" title=\"to higher resolution lineart on CDLI\"><img src=\"cdli-imagery/lineart-gi4-a.jpg\" style=\"display: inline;max-width: 2em; max-height: 4em;\"  /></a></div>\n",
       "\n",
       "</div>\n",
       "\n",
       "\n",
       "    </div>\n",
       "\n",
       "\n",
       "</div>\n",
       "\n",
       "\n",
       "<div class=\"contnr trminal \">\n",
       "    \n",
       "    <div class=\"lbl trminal\">\n",
       "        2\n",
       "        \n",
       "    </div>\n",
       "\n",
       "    <div class=\"meta\">\n",
       "        <div class=\"features\"></div>\n",
       "        \n",
       "    </div>\n",
       "\n",
       "\n",
       "    <div class=\"children trminal\">\n",
       "\n",
       "\n",
       "<div class=\"contnr sign \">\n",
       "    \n",
       "    <div class=\"meta\">\n",
       "         <span class=\"srcLn\">GU7</span>\n",
       "        \n",
       "    </div>\n",
       "\n",
       "<div><a target=\"_blank\" href=\"https://cdli.ucla.edu/tools/SignLists/protocuneiform/archsigns/GU7.jpg\" title=\"to higher resolution lineart on CDLI\"><img src=\"cdli-imagery/lineart-gu7.jpg\" style=\"display: inline;max-width: 2em; max-height: 4em;\"  /></a></div>\n",
       "\n",
       "</div>\n",
       "\n",
       "\n",
       "<div class=\"contnr sign \">\n",
       "    \n",
       "    <div class=\"meta\">\n",
       "         <span class=\"srcLn\">AZ</span>\n",
       "        \n",
       "    </div>\n",
       "\n",
       "<div><a target=\"_blank\" href=\"https://cdli.ucla.edu/tools/SignLists/protocuneiform/archsigns/AZ.jpg\" title=\"to higher resolution lineart on CDLI\"><img src=\"cdli-imagery/lineart-az.jpg\" style=\"display: inline;max-width: 2em; max-height: 4em;\"  /></a></div>\n",
       "\n",
       "</div>\n",
       "\n",
       "\n",
       "<div class=\"contnr sign \">\n",
       "    \n",
       "    <div class=\"meta\">\n",
       "         <span class=\"srcLn\">SI4~f</span>\n",
       "        \n",
       "    </div>\n",
       "\n",
       "<div><a target=\"_blank\" href=\"https://cdli.ucla.edu/tools/SignLists/protocuneiform/archsigns/SI4~f.jpg\" title=\"to higher resolution lineart on CDLI\"><img src=\"cdli-imagery/lineart-si4-f.jpg\" style=\"display: inline;max-width: 2em; max-height: 4em;\"  /></a></div>\n",
       "\n",
       "</div>\n",
       "\n",
       "\n",
       "    </div>\n",
       "\n",
       "\n",
       "</div>\n",
       "\n",
       "\n",
       "    </div>\n",
       "\n",
       "\n",
       "</div>\n",
       "\n",
       "\n",
       "    </div>\n",
       "\n",
       "\n",
       "</div>\n",
       "\n",
       "\n",
       "<div class=\"contnr face \">\n",
       "    \n",
       "    <div class=\"lbl face\">\n",
       "        reverse\n",
       "        \n",
       "    </div>\n",
       "\n",
       "    <div class=\"meta\">\n",
       "        <div class=\"features\"></div>\n",
       "        \n",
       "    </div>\n",
       "\n",
       "\n",
       "    <div class=\"children face\">\n",
       "\n",
       "\n",
       "<div class=\"contnr column \">\n",
       "    \n",
       "    <div class=\"lbl column\">\n",
       "        1\n",
       "        \n",
       "    </div>\n",
       "\n",
       "    <div class=\"meta\">\n",
       "        \n",
       "        \n",
       "    </div>\n",
       "\n",
       "\n",
       "    <div class=\"children column\">\n",
       "\n",
       "\n",
       "<div class=\"contnr trminal \">\n",
       "    \n",
       "    <div class=\"lbl trminal\">\n",
       "        1\n",
       "        \n",
       "    </div>\n",
       "\n",
       "    <div class=\"meta\">\n",
       "        <div class=\"features\"></div>\n",
       "        \n",
       "    </div>\n",
       "\n",
       "\n",
       "    <div class=\"children trminal\">\n",
       "\n",
       "\n",
       "<div class=\"contnr sign  hl\">\n",
       "    \n",
       "    <div class=\"meta\">\n",
       "         <span class=\"srcLn\">3(N14)</span>\n",
       "        \n",
       "    </div>\n",
       "\n",
       "<div><a target=\"_blank\" href=\"https://cdli.ucla.edu/tools/SignLists/protocuneiform/archsigns/3(N14).jpg\" title=\"to higher resolution lineart on CDLI\"><img src=\"cdli-imagery/lineart-3(n14).jpg\" style=\"display: inline;max-width: 2em; max-height: 4em;\"  /></a></div>\n",
       "\n",
       "</div>\n",
       "\n",
       "\n",
       "<div class=\"contnr sign \">\n",
       "    \n",
       "    <div class=\"meta\">\n",
       "         <span class=\"srcLn\">SZE~a</span>\n",
       "        \n",
       "    </div>\n",
       "\n",
       "<div><a target=\"_blank\" href=\"https://cdli.ucla.edu/tools/SignLists/protocuneiform/archsigns/SZE~a.jpg\" title=\"to higher resolution lineart on CDLI\"><img src=\"cdli-imagery/lineart-sze-a.jpg\" style=\"display: inline;max-width: 2em; max-height: 4em;\"  /></a></div>\n",
       "\n",
       "</div>\n",
       "\n",
       "\n",
       "    </div>\n",
       "\n",
       "\n",
       "</div>\n",
       "\n",
       "\n",
       "<div class=\"contnr trminal \">\n",
       "    \n",
       "    <div class=\"lbl trminal\">\n",
       "        2\n",
       "        \n",
       "    </div>\n",
       "\n",
       "    <div class=\"meta\">\n",
       "        <div class=\"features\"></div>\n",
       "        \n",
       "    </div>\n",
       "\n",
       "\n",
       "    <div class=\"children trminal\">\n",
       "\n",
       "\n",
       "<div class=\"contnr sign  hl\">\n",
       "    \n",
       "    <div class=\"meta\">\n",
       "         <span class=\"srcLn\">3(N19)</span>\n",
       "        \n",
       "    </div>\n",
       "\n",
       "<div><a target=\"_blank\" href=\"https://cdli.ucla.edu/tools/SignLists/protocuneiform/archsigns/3(N19).jpg\" title=\"to higher resolution lineart on CDLI\"><img src=\"cdli-imagery/lineart-3(n19).jpg\" style=\"display: inline;max-width: 2em; max-height: 4em;\"  /></a></div>\n",
       "\n",
       "</div>\n",
       "\n",
       "\n",
       "<div class=\"contnr sign  hl\">\n",
       "    \n",
       "    <div class=\"meta\">\n",
       "         <span class=\"srcLn\">5(N04)</span>\n",
       "        \n",
       "    </div>\n",
       "\n",
       "<div><a target=\"_blank\" href=\"https://cdli.ucla.edu/tools/SignLists/protocuneiform/archsigns/5(N04).jpg\" title=\"to higher resolution lineart on CDLI\"><img src=\"cdli-imagery/lineart-5(n04).jpg\" style=\"display: inline;max-width: 2em; max-height: 4em;\"  /></a></div>\n",
       "\n",
       "</div>\n",
       "\n",
       "\n",
       "    </div>\n",
       "\n",
       "\n",
       "</div>\n",
       "\n",
       "\n",
       "<div class=\"contnr trminal \">\n",
       "    \n",
       "    <div class=\"lbl trminal\">\n",
       "        3\n",
       "        \n",
       "    </div>\n",
       "\n",
       "    <div class=\"meta\">\n",
       "        <div class=\"features\"></div>\n",
       "        \n",
       "    </div>\n",
       "\n",
       "\n",
       "    <div class=\"children trminal\">\n",
       "\n",
       "\n",
       "<div class=\"contnr sign \">\n",
       "    \n",
       "    <div class=\"meta\">\n",
       "         <span class=\"srcLn\">GU7</span>\n",
       "        \n",
       "    </div>\n",
       "\n",
       "<div><a target=\"_blank\" href=\"https://cdli.ucla.edu/tools/SignLists/protocuneiform/archsigns/GU7.jpg\" title=\"to higher resolution lineart on CDLI\"><img src=\"cdli-imagery/lineart-gu7.jpg\" style=\"display: inline;max-width: 2em; max-height: 4em;\"  /></a></div>\n",
       "\n",
       "</div>\n",
       "\n",
       "\n",
       "    </div>\n",
       "\n",
       "\n",
       "</div>\n",
       "\n",
       "\n",
       "    </div>\n",
       "\n",
       "\n",
       "</div>\n",
       "\n",
       "\n",
       "<div class=\"contnr column \">\n",
       "    \n",
       "    <div class=\"lbl column\">\n",
       "        2\n",
       "        \n",
       "    </div>\n",
       "\n",
       "    <div class=\"meta\">\n",
       "        \n",
       "        \n",
       "    </div>\n",
       "\n",
       "\n",
       "    <div class=\"children column\">\n",
       "\n",
       "\n",
       "<div class=\"contnr trminal \">\n",
       "    \n",
       "    <div class=\"lbl trminal\">\n",
       "        1\n",
       "        \n",
       "    </div>\n",
       "\n",
       "    <div class=\"meta\">\n",
       "        <div class=\"features\"></div>\n",
       "        \n",
       "    </div>\n",
       "\n",
       "\n",
       "    <div class=\"children trminal\">\n",
       "\n",
       "\n",
       "<div class=\"contnr sign \">\n",
       "    \n",
       "    <div class=\"meta\">\n",
       "         <span class=\"srcLn\">AZ</span>\n",
       "        \n",
       "    </div>\n",
       "\n",
       "<div><a target=\"_blank\" href=\"https://cdli.ucla.edu/tools/SignLists/protocuneiform/archsigns/AZ.jpg\" title=\"to higher resolution lineart on CDLI\"><img src=\"cdli-imagery/lineart-az.jpg\" style=\"display: inline;max-width: 2em; max-height: 4em;\"  /></a></div>\n",
       "\n",
       "</div>\n",
       "\n",
       "\n",
       "<div class=\"contnr sign \">\n",
       "    \n",
       "    <div class=\"meta\">\n",
       "         <span class=\"srcLn\">SI4~f</span>\n",
       "        \n",
       "    </div>\n",
       "\n",
       "<div><a target=\"_blank\" href=\"https://cdli.ucla.edu/tools/SignLists/protocuneiform/archsigns/SI4~f.jpg\" title=\"to higher resolution lineart on CDLI\"><img src=\"cdli-imagery/lineart-si4-f.jpg\" style=\"display: inline;max-width: 2em; max-height: 4em;\"  /></a></div>\n",
       "\n",
       "</div>\n",
       "\n",
       "\n",
       "    </div>\n",
       "\n",
       "\n",
       "</div>\n",
       "\n",
       "\n",
       "    </div>\n",
       "\n",
       "\n",
       "</div>\n",
       "\n",
       "\n",
       "    </div>\n",
       "\n",
       "\n",
       "</div>\n",
       "\n",
       "\n",
       "    </div>\n",
       "\n",
       "\n",
       "</div>\n"
      ],
      "text/plain": [
       "<IPython.core.display.HTML object>"
      ]
     },
     "metadata": {},
     "output_type": "display_data"
    }
   ],
   "source": [
    "A.show(results)"
   ]
  },
  {
   "cell_type": "markdown",
   "metadata": {},
   "source": [
    "Or we can show them in a table."
   ]
  },
  {
   "cell_type": "code",
   "execution_count": 7,
   "metadata": {
    "ExecuteTime": {
     "end_time": "2018-05-01T14:56:04.021740Z",
     "start_time": "2018-05-01T14:56:04.011364Z"
    }
   },
   "outputs": [
    {
     "data": {
      "text/markdown": [
       "n | tablet | sign\n",
       "--- | --- | ---\n",
       "1|<a target=\"_blank\" href=\"https://cdli.ucla.edu/search/search_results.php?SearchMode=Text&ObjectID=P005381\" title=\"to CDLI main page for this tablet\">tablet P005381</a>|2(N14) <a target=\"_blank\" href=\"https://cdli.ucla.edu/tools/SignLists/protocuneiform/archsigns/2(N14).jpg\" title=\"to higher resolution lineart on CDLI\"><img src=\"cdli-imagery/lineart-2(n14).jpg\" style=\"display: inline;max-width: 2em; max-height: 4em;\"  /></a>\n",
       "2|<a target=\"_blank\" href=\"https://cdli.ucla.edu/search/search_results.php?SearchMode=Text&ObjectID=P005381\" title=\"to CDLI main page for this tablet\">tablet P005381</a>|1(N14) <a target=\"_blank\" href=\"https://cdli.ucla.edu/tools/SignLists/protocuneiform/archsigns/1(N14).jpg\" title=\"to higher resolution lineart on CDLI\"><img src=\"cdli-imagery/lineart-1(n14).jpg\" style=\"display: inline;max-width: 2em; max-height: 4em;\"  /></a>\n",
       "3|<a target=\"_blank\" href=\"https://cdli.ucla.edu/search/search_results.php?SearchMode=Text&ObjectID=P005381\" title=\"to CDLI main page for this tablet\">tablet P005381</a>|2(N04) <a target=\"_blank\" href=\"https://cdli.ucla.edu/tools/SignLists/protocuneiform/archsigns/2(N04).jpg\" title=\"to higher resolution lineart on CDLI\"><img src=\"cdli-imagery/lineart-2(n04).jpg\" style=\"display: inline;max-width: 2em; max-height: 4em;\"  /></a>\n",
       "4|<a target=\"_blank\" href=\"https://cdli.ucla.edu/search/search_results.php?SearchMode=Text&ObjectID=P005381\" title=\"to CDLI main page for this tablet\">tablet P005381</a>|3(N04) <a target=\"_blank\" href=\"https://cdli.ucla.edu/tools/SignLists/protocuneiform/archsigns/3(N04).jpg\" title=\"to higher resolution lineart on CDLI\"><img src=\"cdli-imagery/lineart-3(n04).jpg\" style=\"display: inline;max-width: 2em; max-height: 4em;\"  /></a>\n",
       "5|<a target=\"_blank\" href=\"https://cdli.ucla.edu/search/search_results.php?SearchMode=Text&ObjectID=P005381\" title=\"to CDLI main page for this tablet\">tablet P005381</a>|1(N57) <a target=\"_blank\" href=\"https://cdli.ucla.edu/tools/SignLists/protocuneiform/archsigns/1(N57).jpg\" title=\"to higher resolution lineart on CDLI\"><img src=\"cdli-imagery/lineart-1(n57).jpg\" style=\"display: inline;max-width: 2em; max-height: 4em;\"  /></a>\n",
       "6|<a target=\"_blank\" href=\"https://cdli.ucla.edu/search/search_results.php?SearchMode=Text&ObjectID=P005381\" title=\"to CDLI main page for this tablet\">tablet P005381</a>|1(N57) <a target=\"_blank\" href=\"https://cdli.ucla.edu/tools/SignLists/protocuneiform/archsigns/1(N57).jpg\" title=\"to higher resolution lineart on CDLI\"><img src=\"cdli-imagery/lineart-1(n57).jpg\" style=\"display: inline;max-width: 2em; max-height: 4em;\"  /></a>\n",
       "7|<a target=\"_blank\" href=\"https://cdli.ucla.edu/search/search_results.php?SearchMode=Text&ObjectID=P005381\" title=\"to CDLI main page for this tablet\">tablet P005381</a>|3(N14) <a target=\"_blank\" href=\"https://cdli.ucla.edu/tools/SignLists/protocuneiform/archsigns/3(N14).jpg\" title=\"to higher resolution lineart on CDLI\"><img src=\"cdli-imagery/lineart-3(n14).jpg\" style=\"display: inline;max-width: 2em; max-height: 4em;\"  /></a>\n",
       "8|<a target=\"_blank\" href=\"https://cdli.ucla.edu/search/search_results.php?SearchMode=Text&ObjectID=P005381\" title=\"to CDLI main page for this tablet\">tablet P005381</a>|3(N19) <a target=\"_blank\" href=\"https://cdli.ucla.edu/tools/SignLists/protocuneiform/archsigns/3(N19).jpg\" title=\"to higher resolution lineart on CDLI\"><img src=\"cdli-imagery/lineart-3(n19).jpg\" style=\"display: inline;max-width: 2em; max-height: 4em;\"  /></a>\n",
       "9|<a target=\"_blank\" href=\"https://cdli.ucla.edu/search/search_results.php?SearchMode=Text&ObjectID=P005381\" title=\"to CDLI main page for this tablet\">tablet P005381</a>|5(N04) <a target=\"_blank\" href=\"https://cdli.ucla.edu/tools/SignLists/protocuneiform/archsigns/5(N04).jpg\" title=\"to higher resolution lineart on CDLI\"><img src=\"cdli-imagery/lineart-5(n04).jpg\" style=\"display: inline;max-width: 2em; max-height: 4em;\"  /></a>\n",
       "10|<a target=\"_blank\" href=\"https://cdli.ucla.edu/search/search_results.php?SearchMode=Text&ObjectID=P005381\" title=\"to CDLI main page for this tablet\">tablet P005381</a>|3(N19) <a target=\"_blank\" href=\"https://cdli.ucla.edu/tools/SignLists/protocuneiform/archsigns/3(N19).jpg\" title=\"to higher resolution lineart on CDLI\"><img src=\"cdli-imagery/lineart-3(n19).jpg\" style=\"display: inline;max-width: 2em; max-height: 4em;\"  /></a>"
      ],
      "text/plain": [
       "<IPython.core.display.Markdown object>"
      ]
     },
     "metadata": {},
     "output_type": "display_data"
    }
   ],
   "source": [
    "A.table(results)"
   ]
  },
  {
   "cell_type": "markdown",
   "metadata": {},
   "source": [
    "There are a few different types of numerals here, but we are just going to look at the numbers belonging to the \"shin prime prime\" system, abbreviated here as \"shinPP,\" which regularly adds two narrow horizatonal wedges to each number. N04, which is the basic unit in this system, is the fourth, fith and ninth of the preceding numerals: in the fourth occurrence repeated twice, in the fifth, three times and, unsurprisingly, in the ninth, which is the total on the reverse, five times. (N19, which is the next bundling unit in the same system, also occurs in the text.)"
   ]
  },
  {
   "cell_type": "code",
   "execution_count": 8,
   "metadata": {
    "ExecuteTime": {
     "end_time": "2018-05-01T14:56:07.502584Z",
     "start_time": "2018-05-01T14:56:07.496105Z"
    }
   },
   "outputs": [],
   "source": [
    "shinPP = dict(\n",
    "    N41 = 0.2,\n",
    "    N04 = 1,\n",
    "    N19 = 6,\n",
    "    N46 = 60,\n",
    "    N36 = 180,\n",
    "    N49 = 1800,\n",
    ")"
   ]
  },
  {
   "cell_type": "markdown",
   "metadata": {},
   "source": [
    "First, let's see if we can locate one of the occurrences of shinPP numerals, namely the set of 3(N04) in the first case of the second column on the obverse, using Text-Fabric."
   ]
  },
  {
   "cell_type": "code",
   "execution_count": 9,
   "metadata": {
    "ExecuteTime": {
     "end_time": "2018-05-01T14:56:10.000119Z",
     "start_time": "2018-05-01T14:56:09.772740Z"
    }
   },
   "outputs": [
    {
     "name": "stdout",
     "output_type": "stream",
     "text": [
      "1 result\n"
     ]
    },
    {
     "data": {
      "text/markdown": [
       "n | tablet | face | column | line | sign\n",
       "--- | --- | --- | --- | --- | ---\n",
       "1|<a target=\"_blank\" href=\"https://cdli.ucla.edu/search/search_results.php?SearchMode=Text&ObjectID=P005381\" title=\"to CDLI main page for this tablet\">tablet P005381</a>|face obverse|column 2|line 1|3(N04) <a target=\"_blank\" href=\"https://cdli.ucla.edu/tools/SignLists/protocuneiform/archsigns/3(N04).jpg\" title=\"to higher resolution lineart on CDLI\"><img src=\"cdli-imagery/lineart-3(n04).jpg\" style=\"display: inline;max-width: 2em; max-height: 4em;\"  /></a>"
      ],
      "text/plain": [
       "<IPython.core.display.Markdown object>"
      ]
     },
     "metadata": {},
     "output_type": "display_data"
    }
   ],
   "source": [
    "query = f'''\n",
    "tablet catalogId={pNum}\n",
    "  face type=obverse\n",
    "    column number=2\n",
    "      line number=1\n",
    "        =: sign\n",
    "'''\n",
    "results = A.search(query)\n",
    "A.table(results)"
   ]
  },
  {
   "cell_type": "markdown",
   "metadata": {},
   "source": [
    "Note the `:=` in `=: sign`. This is a device to require that the sign starts at the same position\n",
    "as the `line` above it. Effectively, we ask for the first sign of the line.\n",
    "\n",
    "Now the result records are tuples `(tablet, face, column, line, sign)`, so if we want\n",
    "the sign part of the first result, we have to say `results[0][4]` (Python counts from 0)."
   ]
  },
  {
   "cell_type": "code",
   "execution_count": 10,
   "metadata": {
    "ExecuteTime": {
     "end_time": "2018-05-01T14:56:16.713638Z",
     "start_time": "2018-05-01T14:56:16.703567Z"
    }
   },
   "outputs": [
    {
     "data": {
      "text/html": [
       "\n",
       "<div class=\"contnr sign \">\n",
       "    \n",
       "    <div class=\"lbl sign\">\n",
       "        <a target=\"_blank\" href=\"https://cdli.ucla.edu/search/search_results.php?SearchMode=Text&ObjectID=P005381\" title=\"to CDLI main page for this tablet\">sign </a>\n",
       "        <span class=\"nd\">106602</span>\n",
       "    </div>\n",
       "\n",
       "    <div class=\"meta\">\n",
       "         <span class=\"srcLn\">3(N04)</span>\n",
       "        \n",
       "    </div>\n",
       "\n",
       "<div><a target=\"_blank\" href=\"https://cdli.ucla.edu/tools/SignLists/protocuneiform/archsigns/3(N04).jpg\" title=\"to higher resolution lineart on CDLI\"><img src=\"cdli-imagery/lineart-3(n04).jpg\" style=\"display: inline;max-width: 2em; max-height: 4em;\"  /></a></div>\n",
       "\n",
       "</div>\n"
      ],
      "text/plain": [
       "<IPython.core.display.HTML object>"
      ]
     },
     "metadata": {},
     "output_type": "display_data"
    }
   ],
   "source": [
    "num = results[0][4]\n",
    "A.pretty(num, withNodes=True)"
   ]
  },
  {
   "cell_type": "markdown",
   "metadata": {},
   "source": [
    "This number is the \"node\" in Text-Fabric that corresponds to the first sign in the first case of column 2. It is like a bar-code for that position in the entire corpus. Now let's make sure that this node, viz. 106602, is actually a numeral. To do this we check the feature \"numeral\" of the node 106602. And then we can use A.atfFromSign to extract the transliteration."
   ]
  },
  {
   "cell_type": "code",
   "execution_count": 11,
   "metadata": {
    "ExecuteTime": {
     "end_time": "2018-05-01T14:56:20.781942Z",
     "start_time": "2018-05-01T14:56:20.775024Z"
    }
   },
   "outputs": [
    {
     "name": "stdout",
     "output_type": "stream",
     "text": [
      "True\n",
      "3(N04)\n"
     ]
    }
   ],
   "source": [
    "print(F.type.v(num) == 'numeral')\n",
    "print(A.atfFromSign(num))"
   ]
  },
  {
   "cell_type": "markdown",
   "metadata": {},
   "source": [
    "Let's get the name of the numeral, viz. N04, and the number of times that it occurs. This amounts to splitting apart \"3\" and \"(N04)\" but since we are calling features in Text-Fabric rather than trying to pull elements out of the transliteration, we do not need to tweak the information."
   ]
  },
  {
   "cell_type": "code",
   "execution_count": 12,
   "metadata": {
    "ExecuteTime": {
     "end_time": "2018-05-01T14:56:23.494401Z",
     "start_time": "2018-05-01T14:56:23.484747Z"
    }
   },
   "outputs": [
    {
     "name": "stdout",
     "output_type": "stream",
     "text": [
      "N04\n",
      "3\n"
     ]
    }
   ],
   "source": [
    "grapheme = F.grapheme.v(num)\n",
    "print(grapheme)\n",
    "\n",
    "iteration = F.repeat.v(num)\n",
    "print(iteration)"
   ]
  },
  {
   "cell_type": "markdown",
   "metadata": {},
   "source": [
    "Now we can replace \"N04\" with its value, using the shinPP dictionary above, and then multiple this value by the number of iterations to arrive at the value of the numeral as a whole. Since each occurrence of the numeral N04 has a value of 1, three occurrences of it should have a value of 3."
   ]
  },
  {
   "cell_type": "code",
   "execution_count": 13,
   "metadata": {
    "ExecuteTime": {
     "end_time": "2018-05-01T14:56:25.661386Z",
     "start_time": "2018-05-01T14:56:25.652138Z"
    }
   },
   "outputs": [
    {
     "name": "stdout",
     "output_type": "stream",
     "text": [
      "3\n"
     ]
    }
   ],
   "source": [
    "valueFromDict = shinPP.get(grapheme)\n",
    "\n",
    "value = iteration * valueFromDict\n",
    "print(value)"
   ]
  },
  {
   "cell_type": "markdown",
   "metadata": {},
   "source": [
    "Just to make sure that we are calculating these values correctly, let's try it again with a numeral whose value is not 1. There is a nice example in case 1b in column 1 on the obverse, where we have 3 occurrences of N19, each of which has a value of 6, so we expect the total value of 3(N19 to be 18."
   ]
  },
  {
   "cell_type": "code",
   "execution_count": 14,
   "metadata": {
    "ExecuteTime": {
     "end_time": "2018-05-01T14:56:28.589136Z",
     "start_time": "2018-05-01T14:56:28.267519Z"
    }
   },
   "outputs": [
    {
     "name": "stdout",
     "output_type": "stream",
     "text": [
      "1 result\n"
     ]
    },
    {
     "data": {
      "text/markdown": [
       "n | tablet | face | column | case | sign\n",
       "--- | --- | --- | --- | --- | ---\n",
       "1|<a target=\"_blank\" href=\"https://cdli.ucla.edu/search/search_results.php?SearchMode=Text&ObjectID=P005381\" title=\"to CDLI main page for this tablet\">tablet P005381</a>|face obverse|column 1|case 1b|3(N19) <a target=\"_blank\" href=\"https://cdli.ucla.edu/tools/SignLists/protocuneiform/archsigns/3(N19).jpg\" title=\"to higher resolution lineart on CDLI\"><img src=\"cdli-imagery/lineart-3(n19).jpg\" style=\"display: inline;max-width: 2em; max-height: 4em;\"  /></a>"
      ],
      "text/plain": [
       "<IPython.core.display.Markdown object>"
      ]
     },
     "metadata": {},
     "output_type": "display_data"
    }
   ],
   "source": [
    "query = f'''\n",
    "tablet catalogId={pNum}\n",
    "  face type=obverse\n",
    "    column number=1\n",
    "      case number=1b\n",
    "        =: sign\n",
    "'''\n",
    "results = A.search(query)\n",
    "A.table(results)"
   ]
  },
  {
   "cell_type": "code",
   "execution_count": 15,
   "metadata": {
    "ExecuteTime": {
     "end_time": "2018-05-01T14:56:34.731210Z",
     "start_time": "2018-05-01T14:56:34.725572Z"
    }
   },
   "outputs": [
    {
     "name": "stdout",
     "output_type": "stream",
     "text": [
      "18\n"
     ]
    }
   ],
   "source": [
    "sign = results[0][4]\n",
    "grapheme = F.grapheme.v(sign)\n",
    "iteration = F.repeat.v(sign)\n",
    "\n",
    "valueFromDict = shinPP.get(grapheme, 0)\n",
    "\n",
    "value = iteration * valueFromDict\n",
    "print(value)"
   ]
  },
  {
   "cell_type": "markdown",
   "metadata": {},
   "source": [
    "The next step is to walk through the nodes on the obverse, add up the total of the shinPP system on the obverse, and then do the same for the reverse and see if the obverse and the total on the reverse add up. We expect the 3(N19) and 5(N04) on the obverse to add up to 23, viz. 18 + 5 = 23."
   ]
  },
  {
   "cell_type": "code",
   "execution_count": 16,
   "metadata": {
    "ExecuteTime": {
     "end_time": "2018-05-01T14:56:39.267562Z",
     "start_time": "2018-05-01T14:56:38.894998Z"
    },
    "scrolled": false
   },
   "outputs": [
    {
     "name": "stdout",
     "output_type": "stream",
     "text": [
      "5 results\n"
     ]
    },
    {
     "data": {
      "text/markdown": [
       "\n",
       "##### Tablet 1\n"
      ],
      "text/plain": [
       "<IPython.core.display.Markdown object>"
      ]
     },
     "metadata": {},
     "output_type": "display_data"
    },
    {
     "data": {
      "text/html": [
       "\n",
       "<div class=\"contnr tablet \">\n",
       "    \n",
       "    <div class=\"lbl tablet\">\n",
       "        <a target=\"_blank\" href=\"https://cdli.ucla.edu/search/search_results.php?SearchMode=Text&ObjectID=P005381\" title=\"to CDLI main page for this tablet\">tablet P005381  <span class=\"name\">MSVO 3, 70</span> <span class=\"period\">uruk-iii</span></a>\n",
       "        \n",
       "    </div>\n",
       "\n",
       "    <div class=\"meta\">\n",
       "        \n",
       "        <div class=\"comments\">\n",
       "<div class=\"contnr comment \">\n",
       "    \n",
       "    <div class=\"lbl comment\">\n",
       "        meta\n",
       "        \n",
       "    </div>\n",
       "\n",
       "    <div class=\"meta\">\n",
       "        <div class=\"features\"> <span class=\"text\">atf: lang qpc</span></div>\n",
       "        \n",
       "    </div>\n",
       "\n",
       "</div>\n",
       "</div>\n",
       "    </div>\n",
       "\n",
       "\n",
       "    <div class=\"children tablet\">\n",
       "\n",
       "\n",
       "<div class=\"contnr face  hl\">\n",
       "    \n",
       "    <div class=\"lbl face\">\n",
       "        obverse\n",
       "        \n",
       "    </div>\n",
       "\n",
       "    <div class=\"meta\">\n",
       "        <div class=\"features\"></div>\n",
       "        \n",
       "    </div>\n",
       "\n",
       "\n",
       "    <div class=\"children face\">\n",
       "\n",
       "\n",
       "<div class=\"contnr column \">\n",
       "    \n",
       "    <div class=\"lbl column\">\n",
       "        1\n",
       "        \n",
       "    </div>\n",
       "\n",
       "    <div class=\"meta\">\n",
       "        \n",
       "        \n",
       "    </div>\n",
       "\n",
       "\n",
       "    <div class=\"children column\">\n",
       "\n",
       "\n",
       "<div class=\"contnr line \">\n",
       "    \n",
       "    <div class=\"lbl line\">\n",
       "        1\n",
       "        \n",
       "    </div>\n",
       "\n",
       "    <div class=\"meta\">\n",
       "        \n",
       "        \n",
       "    </div>\n",
       "\n",
       "\n",
       "    <div class=\"children line\">\n",
       "\n",
       "\n",
       "<div class=\"contnr trminal \">\n",
       "    \n",
       "    <div class=\"lbl trminal\">\n",
       "        1a\n",
       "        \n",
       "    </div>\n",
       "\n",
       "    <div class=\"meta\">\n",
       "        <div class=\"features\"></div>\n",
       "        \n",
       "    </div>\n",
       "\n",
       "\n",
       "    <div class=\"children trminalv\">\n",
       "\n",
       "\n",
       "<div class=\"contnr sign \">\n",
       "    \n",
       "    <div class=\"meta\">\n",
       "         <span class=\"srcLn\">2(N14)</span>\n",
       "        \n",
       "    </div>\n",
       "\n",
       "<div><a target=\"_blank\" href=\"https://cdli.ucla.edu/tools/SignLists/protocuneiform/archsigns/2(N14).jpg\" title=\"to higher resolution lineart on CDLI\"><img src=\"cdli-imagery/lineart-2(n14).jpg\" style=\"display: inline;max-width: 2em; max-height: 4em;\"  /></a></div>\n",
       "\n",
       "</div>\n",
       "\n",
       "\n",
       "<div class=\"contnr sign \">\n",
       "    \n",
       "    <div class=\"meta\">\n",
       "         <span class=\"srcLn\">SZE~a</span>\n",
       "        \n",
       "    </div>\n",
       "\n",
       "<div><a target=\"_blank\" href=\"https://cdli.ucla.edu/tools/SignLists/protocuneiform/archsigns/SZE~a.jpg\" title=\"to higher resolution lineart on CDLI\"><img src=\"cdli-imagery/lineart-sze-a.jpg\" style=\"display: inline;max-width: 2em; max-height: 4em;\"  /></a></div>\n",
       "\n",
       "</div>\n",
       "\n",
       "\n",
       "<div class=\"contnr sign \">\n",
       "    \n",
       "    <div class=\"meta\">\n",
       "         <span class=\"srcLn\">SAL</span>\n",
       "        \n",
       "    </div>\n",
       "\n",
       "<div><a target=\"_blank\" href=\"https://cdli.ucla.edu/tools/SignLists/protocuneiform/archsigns/SAL.jpg\" title=\"to higher resolution lineart on CDLI\"><img src=\"cdli-imagery/lineart-sal.jpg\" style=\"display: inline;max-width: 2em; max-height: 4em;\"  /></a></div>\n",
       "\n",
       "</div>\n",
       "\n",
       "\n",
       "<div class=\"contnr sign \">\n",
       "    \n",
       "    <div class=\"meta\">\n",
       "         <span class=\"srcLn\">TUR3~a</span>\n",
       "        \n",
       "    </div>\n",
       "\n",
       "<div><a target=\"_blank\" href=\"https://cdli.ucla.edu/tools/SignLists/protocuneiform/archsigns/TUR3~a.jpg\" title=\"to higher resolution lineart on CDLI\"><img src=\"cdli-imagery/lineart-tur3-a.jpg\" style=\"display: inline;max-width: 2em; max-height: 4em;\"  /></a></div>\n",
       "\n",
       "</div>\n",
       "\n",
       "\n",
       "<div class=\"contnr sign \">\n",
       "    \n",
       "    <div class=\"meta\">\n",
       "         <span class=\"srcLn\">NUN~a</span>\n",
       "        \n",
       "    </div>\n",
       "\n",
       "<div><a target=\"_blank\" href=\"https://cdli.ucla.edu/tools/SignLists/protocuneiform/archsigns/NUN~a.jpg\" title=\"to higher resolution lineart on CDLI\"><img src=\"cdli-imagery/lineart-nun-a.jpg\" style=\"display: inline;max-width: 2em; max-height: 4em;\"  /></a></div>\n",
       "\n",
       "</div>\n",
       "\n",
       "\n",
       "    </div>\n",
       "\n",
       "\n",
       "</div>\n",
       "\n",
       "\n",
       "<div class=\"contnr trminal \">\n",
       "    \n",
       "    <div class=\"lbl trminal\">\n",
       "        1b\n",
       "        \n",
       "    </div>\n",
       "\n",
       "    <div class=\"meta\">\n",
       "        <div class=\"features\"></div>\n",
       "        \n",
       "    </div>\n",
       "\n",
       "\n",
       "    <div class=\"children trminalv\">\n",
       "\n",
       "\n",
       "<div class=\"contnr sign  hl\">\n",
       "    \n",
       "    <div class=\"meta\">\n",
       "         <span class=\"srcLn\">3(N19)</span>\n",
       "        \n",
       "    </div>\n",
       "\n",
       "<div><a target=\"_blank\" href=\"https://cdli.ucla.edu/tools/SignLists/protocuneiform/archsigns/3(N19).jpg\" title=\"to higher resolution lineart on CDLI\"><img src=\"cdli-imagery/lineart-3(n19).jpg\" style=\"display: inline;max-width: 2em; max-height: 4em;\"  /></a></div>\n",
       "\n",
       "</div>\n",
       "\n",
       "\n",
       "<div class=\"contnr quad \">\n",
       "    \n",
       "    <div class=\"meta\">\n",
       "        \n",
       "        \n",
       "    </div>\n",
       "\n",
       "<div><a target=\"_blank\" href=\"https://cdli.ucla.edu/tools/SignLists/protocuneiform/archsigns/|GISZ.TE|.jpg\" title=\"to higher resolution lineart on CDLI\"><img src=\"cdli-imagery/lineart-qgisz(d)teq.jpg\" style=\"display: inline;max-width: 4em; max-height: 6em;\"  /></a></div>\n",
       "\n",
       "    <div class=\"children quad\">\n",
       "\n",
       "\n",
       "<div class=\"contnr sign \">\n",
       "    \n",
       "    <div class=\"meta\">\n",
       "         <span class=\"srcLn\">GISZ</span>\n",
       "        \n",
       "    </div>\n",
       "\n",
       "\n",
       "</div>\n",
       "\n",
       "<div class=\"op\">.</div>\n",
       "\n",
       "<div class=\"contnr sign \">\n",
       "    \n",
       "    <div class=\"meta\">\n",
       "         <span class=\"srcLn\">TE</span>\n",
       "        \n",
       "    </div>\n",
       "\n",
       "\n",
       "</div>\n",
       "\n",
       "\n",
       "    </div>\n",
       "\n",
       "\n",
       "</div>\n",
       "\n",
       "\n",
       "    </div>\n",
       "\n",
       "\n",
       "</div>\n",
       "\n",
       "\n",
       "    </div>\n",
       "\n",
       "\n",
       "</div>\n",
       "\n",
       "\n",
       "<div class=\"contnr trminal \">\n",
       "    \n",
       "    <div class=\"lbl trminal\">\n",
       "        2\n",
       "        \n",
       "    </div>\n",
       "\n",
       "    <div class=\"meta\">\n",
       "        <div class=\"features\"></div>\n",
       "        \n",
       "    </div>\n",
       "\n",
       "\n",
       "    <div class=\"children trminal\">\n",
       "\n",
       "\n",
       "<div class=\"contnr sign \">\n",
       "    \n",
       "    <div class=\"meta\">\n",
       "         <span class=\"srcLn\">1(N14)</span>\n",
       "        \n",
       "    </div>\n",
       "\n",
       "<div><a target=\"_blank\" href=\"https://cdli.ucla.edu/tools/SignLists/protocuneiform/archsigns/1(N14).jpg\" title=\"to higher resolution lineart on CDLI\"><img src=\"cdli-imagery/lineart-1(n14).jpg\" style=\"display: inline;max-width: 2em; max-height: 4em;\"  /></a></div>\n",
       "\n",
       "</div>\n",
       "\n",
       "\n",
       "<div class=\"contnr sign \">\n",
       "    \n",
       "    <div class=\"meta\">\n",
       "         <span class=\"srcLn\">NAR</span>\n",
       "        \n",
       "    </div>\n",
       "\n",
       "<div><a target=\"_blank\" href=\"https://cdli.ucla.edu/tools/SignLists/protocuneiform/archsigns/NAR.jpg\" title=\"to higher resolution lineart on CDLI\"><img src=\"cdli-imagery/lineart-nar.jpg\" style=\"display: inline;max-width: 2em; max-height: 4em;\"  /></a></div>\n",
       "\n",
       "</div>\n",
       "\n",
       "\n",
       "<div class=\"contnr sign \">\n",
       "    \n",
       "    <div class=\"meta\">\n",
       "         <span class=\"srcLn\">NUN~a</span>\n",
       "        \n",
       "    </div>\n",
       "\n",
       "<div><a target=\"_blank\" href=\"https://cdli.ucla.edu/tools/SignLists/protocuneiform/archsigns/NUN~a.jpg\" title=\"to higher resolution lineart on CDLI\"><img src=\"cdli-imagery/lineart-nun-a.jpg\" style=\"display: inline;max-width: 2em; max-height: 4em;\"  /></a></div>\n",
       "\n",
       "</div>\n",
       "\n",
       "\n",
       "<div class=\"contnr sign \">\n",
       "    \n",
       "    <div class=\"meta\">\n",
       "         <span class=\"srcLn\">SIG7</span>\n",
       "        \n",
       "    </div>\n",
       "\n",
       "<div><a target=\"_blank\" href=\"https://cdli.ucla.edu/tools/SignLists/protocuneiform/archsigns/SIG7.jpg\" title=\"to higher resolution lineart on CDLI\"><img src=\"cdli-imagery/lineart-sig7.jpg\" style=\"display: inline;max-width: 2em; max-height: 4em;\"  /></a></div>\n",
       "\n",
       "</div>\n",
       "\n",
       "\n",
       "    </div>\n",
       "\n",
       "\n",
       "</div>\n",
       "\n",
       "\n",
       "<div class=\"contnr trminal \">\n",
       "    \n",
       "    <div class=\"lbl trminal\">\n",
       "        3\n",
       "        \n",
       "    </div>\n",
       "\n",
       "    <div class=\"meta\">\n",
       "        <div class=\"features\"></div>\n",
       "        \n",
       "    </div>\n",
       "\n",
       "\n",
       "    <div class=\"children trminal\">\n",
       "\n",
       "\n",
       "<div class=\"contnr sign  hl\">\n",
       "    \n",
       "    <div class=\"meta\">\n",
       "         <span class=\"srcLn\">2(N04)#</span>\n",
       "        \n",
       "    </div>\n",
       "\n",
       "<div><a target=\"_blank\" href=\"https://cdli.ucla.edu/tools/SignLists/protocuneiform/archsigns/2(N04).jpg\" title=\"to higher resolution lineart on CDLI\"><img src=\"cdli-imagery/lineart-2(n04).jpg\" style=\"display: inline;max-width: 2em; max-height: 4em;\"  /></a></div>\n",
       "\n",
       "</div>\n",
       "\n",
       "\n",
       "<div class=\"contnr sign \">\n",
       "    \n",
       "    <div class=\"meta\">\n",
       "         <span class=\"srcLn\">PIRIG~b1</span>\n",
       "        \n",
       "    </div>\n",
       "\n",
       "<div><a target=\"_blank\" href=\"https://cdli.ucla.edu/tools/SignLists/protocuneiform/archsigns/PIRIG~b1.jpg\" title=\"to higher resolution lineart on CDLI\"><img src=\"cdli-imagery/lineart-pirig-b1.jpg\" style=\"display: inline;max-width: 2em; max-height: 4em;\"  /></a></div>\n",
       "\n",
       "</div>\n",
       "\n",
       "\n",
       "<div class=\"contnr sign \">\n",
       "    \n",
       "    <div class=\"meta\">\n",
       "         <span class=\"srcLn\">SIG7</span>\n",
       "        \n",
       "    </div>\n",
       "\n",
       "<div><a target=\"_blank\" href=\"https://cdli.ucla.edu/tools/SignLists/protocuneiform/archsigns/SIG7.jpg\" title=\"to higher resolution lineart on CDLI\"><img src=\"cdli-imagery/lineart-sig7.jpg\" style=\"display: inline;max-width: 2em; max-height: 4em;\"  /></a></div>\n",
       "\n",
       "</div>\n",
       "\n",
       "\n",
       "<div class=\"contnr sign \">\n",
       "    \n",
       "    <div class=\"meta\">\n",
       "         <span class=\"srcLn\">URI3~a</span>\n",
       "        \n",
       "    </div>\n",
       "\n",
       "<div><a target=\"_blank\" href=\"https://cdli.ucla.edu/tools/SignLists/protocuneiform/archsigns/URI3~a.jpg\" title=\"to higher resolution lineart on CDLI\"><img src=\"cdli-imagery/lineart-uri3-a.jpg\" style=\"display: inline;max-width: 2em; max-height: 4em;\"  /></a></div>\n",
       "\n",
       "</div>\n",
       "\n",
       "\n",
       "<div class=\"contnr sign \">\n",
       "    \n",
       "    <div class=\"meta\">\n",
       "         <span class=\"srcLn\">NUN~a</span>\n",
       "        \n",
       "    </div>\n",
       "\n",
       "<div><a target=\"_blank\" href=\"https://cdli.ucla.edu/tools/SignLists/protocuneiform/archsigns/NUN~a.jpg\" title=\"to higher resolution lineart on CDLI\"><img src=\"cdli-imagery/lineart-nun-a.jpg\" style=\"display: inline;max-width: 2em; max-height: 4em;\"  /></a></div>\n",
       "\n",
       "</div>\n",
       "\n",
       "\n",
       "    </div>\n",
       "\n",
       "\n",
       "</div>\n",
       "\n",
       "\n",
       "    </div>\n",
       "\n",
       "\n",
       "</div>\n",
       "\n",
       "\n",
       "<div class=\"contnr column \">\n",
       "    \n",
       "    <div class=\"lbl column\">\n",
       "        2\n",
       "        \n",
       "    </div>\n",
       "\n",
       "    <div class=\"meta\">\n",
       "        \n",
       "        \n",
       "    </div>\n",
       "\n",
       "\n",
       "    <div class=\"children column\">\n",
       "\n",
       "\n",
       "<div class=\"contnr trminal \">\n",
       "    \n",
       "    <div class=\"lbl trminal\">\n",
       "        1\n",
       "        \n",
       "    </div>\n",
       "\n",
       "    <div class=\"meta\">\n",
       "        <div class=\"features\"></div>\n",
       "        \n",
       "    </div>\n",
       "\n",
       "\n",
       "    <div class=\"children trminal\">\n",
       "\n",
       "\n",
       "<div class=\"contnr sign  hl\">\n",
       "    \n",
       "    <div class=\"meta\">\n",
       "         <span class=\"srcLn\">3(N04)</span>\n",
       "        \n",
       "    </div>\n",
       "\n",
       "<div><a target=\"_blank\" href=\"https://cdli.ucla.edu/tools/SignLists/protocuneiform/archsigns/3(N04).jpg\" title=\"to higher resolution lineart on CDLI\"><img src=\"cdli-imagery/lineart-3(n04).jpg\" style=\"display: inline;max-width: 2em; max-height: 4em;\"  /></a></div>\n",
       "\n",
       "</div>\n",
       "\n",
       "\n",
       "<div class=\"contnr quad \">\n",
       "    \n",
       "    <div class=\"meta\">\n",
       "        \n",
       "        \n",
       "    </div>\n",
       "\n",
       "<div><a target=\"_blank\" href=\"https://cdli.ucla.edu/tools/SignLists/protocuneiform/archsigns/|GISZ.TE|.jpg\" title=\"to higher resolution lineart on CDLI\"><img src=\"cdli-imagery/lineart-qgisz(d)teq.jpg\" style=\"display: inline;max-width: 4em; max-height: 6em;\"  /></a></div>\n",
       "\n",
       "    <div class=\"children quad\">\n",
       "\n",
       "\n",
       "<div class=\"contnr sign \">\n",
       "    \n",
       "    <div class=\"meta\">\n",
       "         <span class=\"srcLn\">GISZ</span>\n",
       "        \n",
       "    </div>\n",
       "\n",
       "\n",
       "</div>\n",
       "\n",
       "<div class=\"op\">.</div>\n",
       "\n",
       "<div class=\"contnr sign \">\n",
       "    \n",
       "    <div class=\"meta\">\n",
       "         <span class=\"srcLn\">TE</span>\n",
       "        \n",
       "    </div>\n",
       "\n",
       "\n",
       "</div>\n",
       "\n",
       "\n",
       "    </div>\n",
       "\n",
       "\n",
       "</div>\n",
       "\n",
       "\n",
       "<div class=\"contnr sign \">\n",
       "    \n",
       "    <div class=\"meta\">\n",
       "         <span class=\"srcLn\">GAR</span>\n",
       "        \n",
       "    </div>\n",
       "\n",
       "<div><a target=\"_blank\" href=\"https://cdli.ucla.edu/tools/SignLists/protocuneiform/archsigns/GAR.jpg\" title=\"to higher resolution lineart on CDLI\"><img src=\"cdli-imagery/lineart-gar.jpg\" style=\"display: inline;max-width: 2em; max-height: 4em;\"  /></a></div>\n",
       "\n",
       "</div>\n",
       "\n",
       "\n",
       "<div class=\"contnr quad \">\n",
       "    \n",
       "    <div class=\"meta\">\n",
       "        \n",
       "        \n",
       "    </div>\n",
       "\n",
       "<div><a target=\"_blank\" href=\"https://cdli.ucla.edu/tools/SignLists/protocuneiform/archsigns/|SZU2.((HI+1(N57))+(HI+1(N57)))|.jpg\" title=\"to higher resolution lineart on CDLI\"><img src=\"cdli-imagery/lineart-qszu2(d)((hi(p)1(n57))(p)(hi(p)1(n57)))q.jpg\" style=\"display: inline;max-width: 4em; max-height: 6em;\"  /></a></div>\n",
       "\n",
       "    <div class=\"children quad\">\n",
       "\n",
       "\n",
       "<div class=\"contnr sign \">\n",
       "    \n",
       "    <div class=\"meta\">\n",
       "         <span class=\"srcLn\">SZU2</span>\n",
       "        \n",
       "    </div>\n",
       "\n",
       "\n",
       "</div>\n",
       "\n",
       "<div class=\"op\">.</div>\n",
       "\n",
       "<div class=\"contnr quad \">\n",
       "    \n",
       "    <div class=\"meta\">\n",
       "        \n",
       "        \n",
       "    </div>\n",
       "\n",
       "\n",
       "    <div class=\"children quad\">\n",
       "\n",
       "\n",
       "<div class=\"contnr quad \">\n",
       "    \n",
       "    <div class=\"meta\">\n",
       "        \n",
       "        \n",
       "    </div>\n",
       "\n",
       "\n",
       "    <div class=\"children quad\">\n",
       "\n",
       "\n",
       "<div class=\"contnr sign \">\n",
       "    \n",
       "    <div class=\"meta\">\n",
       "         <span class=\"srcLn\">HI</span>\n",
       "        \n",
       "    </div>\n",
       "\n",
       "\n",
       "</div>\n",
       "\n",
       "<div class=\"op\">+</div>\n",
       "\n",
       "<div class=\"contnr sign \">\n",
       "    \n",
       "    <div class=\"meta\">\n",
       "         <span class=\"srcLn\">1(N57)</span>\n",
       "        \n",
       "    </div>\n",
       "\n",
       "\n",
       "</div>\n",
       "\n",
       "\n",
       "    </div>\n",
       "\n",
       "\n",
       "</div>\n",
       "\n",
       "<div class=\"op\">+</div>\n",
       "\n",
       "<div class=\"contnr quad \">\n",
       "    \n",
       "    <div class=\"meta\">\n",
       "        \n",
       "        \n",
       "    </div>\n",
       "\n",
       "\n",
       "    <div class=\"children quad\">\n",
       "\n",
       "\n",
       "<div class=\"contnr sign \">\n",
       "    \n",
       "    <div class=\"meta\">\n",
       "         <span class=\"srcLn\">HI</span>\n",
       "        \n",
       "    </div>\n",
       "\n",
       "\n",
       "</div>\n",
       "\n",
       "<div class=\"op\">+</div>\n",
       "\n",
       "<div class=\"contnr sign \">\n",
       "    \n",
       "    <div class=\"meta\">\n",
       "         <span class=\"srcLn\">1(N57)</span>\n",
       "        \n",
       "    </div>\n",
       "\n",
       "\n",
       "</div>\n",
       "\n",
       "\n",
       "    </div>\n",
       "\n",
       "\n",
       "</div>\n",
       "\n",
       "\n",
       "    </div>\n",
       "\n",
       "\n",
       "</div>\n",
       "\n",
       "\n",
       "    </div>\n",
       "\n",
       "\n",
       "</div>\n",
       "\n",
       "\n",
       "<div class=\"contnr sign \">\n",
       "    \n",
       "    <div class=\"meta\">\n",
       "         <span class=\"srcLn\">GI4~a</span>\n",
       "        \n",
       "    </div>\n",
       "\n",
       "<div><a target=\"_blank\" href=\"https://cdli.ucla.edu/tools/SignLists/protocuneiform/archsigns/GI4~a.jpg\" title=\"to higher resolution lineart on CDLI\"><img src=\"cdli-imagery/lineart-gi4-a.jpg\" style=\"display: inline;max-width: 2em; max-height: 4em;\"  /></a></div>\n",
       "\n",
       "</div>\n",
       "\n",
       "\n",
       "    </div>\n",
       "\n",
       "\n",
       "</div>\n",
       "\n",
       "\n",
       "<div class=\"contnr trminal \">\n",
       "    \n",
       "    <div class=\"lbl trminal\">\n",
       "        2\n",
       "        \n",
       "    </div>\n",
       "\n",
       "    <div class=\"meta\">\n",
       "        <div class=\"features\"></div>\n",
       "        \n",
       "    </div>\n",
       "\n",
       "\n",
       "    <div class=\"children trminal\">\n",
       "\n",
       "\n",
       "<div class=\"contnr sign \">\n",
       "    \n",
       "    <div class=\"meta\">\n",
       "         <span class=\"srcLn\">GU7</span>\n",
       "        \n",
       "    </div>\n",
       "\n",
       "<div><a target=\"_blank\" href=\"https://cdli.ucla.edu/tools/SignLists/protocuneiform/archsigns/GU7.jpg\" title=\"to higher resolution lineart on CDLI\"><img src=\"cdli-imagery/lineart-gu7.jpg\" style=\"display: inline;max-width: 2em; max-height: 4em;\"  /></a></div>\n",
       "\n",
       "</div>\n",
       "\n",
       "\n",
       "<div class=\"contnr sign \">\n",
       "    \n",
       "    <div class=\"meta\">\n",
       "         <span class=\"srcLn\">AZ</span>\n",
       "        \n",
       "    </div>\n",
       "\n",
       "<div><a target=\"_blank\" href=\"https://cdli.ucla.edu/tools/SignLists/protocuneiform/archsigns/AZ.jpg\" title=\"to higher resolution lineart on CDLI\"><img src=\"cdli-imagery/lineart-az.jpg\" style=\"display: inline;max-width: 2em; max-height: 4em;\"  /></a></div>\n",
       "\n",
       "</div>\n",
       "\n",
       "\n",
       "<div class=\"contnr sign \">\n",
       "    \n",
       "    <div class=\"meta\">\n",
       "         <span class=\"srcLn\">SI4~f</span>\n",
       "        \n",
       "    </div>\n",
       "\n",
       "<div><a target=\"_blank\" href=\"https://cdli.ucla.edu/tools/SignLists/protocuneiform/archsigns/SI4~f.jpg\" title=\"to higher resolution lineart on CDLI\"><img src=\"cdli-imagery/lineart-si4-f.jpg\" style=\"display: inline;max-width: 2em; max-height: 4em;\"  /></a></div>\n",
       "\n",
       "</div>\n",
       "\n",
       "\n",
       "    </div>\n",
       "\n",
       "\n",
       "</div>\n",
       "\n",
       "\n",
       "    </div>\n",
       "\n",
       "\n",
       "</div>\n",
       "\n",
       "\n",
       "    </div>\n",
       "\n",
       "\n",
       "</div>\n",
       "\n",
       "\n",
       "<div class=\"contnr face  hl\">\n",
       "    \n",
       "    <div class=\"lbl face\">\n",
       "        reverse\n",
       "        \n",
       "    </div>\n",
       "\n",
       "    <div class=\"meta\">\n",
       "        <div class=\"features\"></div>\n",
       "        \n",
       "    </div>\n",
       "\n",
       "\n",
       "    <div class=\"children face\">\n",
       "\n",
       "\n",
       "<div class=\"contnr column \">\n",
       "    \n",
       "    <div class=\"lbl column\">\n",
       "        1\n",
       "        \n",
       "    </div>\n",
       "\n",
       "    <div class=\"meta\">\n",
       "        \n",
       "        \n",
       "    </div>\n",
       "\n",
       "\n",
       "    <div class=\"children column\">\n",
       "\n",
       "\n",
       "<div class=\"contnr trminal \">\n",
       "    \n",
       "    <div class=\"lbl trminal\">\n",
       "        1\n",
       "        \n",
       "    </div>\n",
       "\n",
       "    <div class=\"meta\">\n",
       "        <div class=\"features\"></div>\n",
       "        \n",
       "    </div>\n",
       "\n",
       "\n",
       "    <div class=\"children trminal\">\n",
       "\n",
       "\n",
       "<div class=\"contnr sign \">\n",
       "    \n",
       "    <div class=\"meta\">\n",
       "         <span class=\"srcLn\">3(N14)</span>\n",
       "        \n",
       "    </div>\n",
       "\n",
       "<div><a target=\"_blank\" href=\"https://cdli.ucla.edu/tools/SignLists/protocuneiform/archsigns/3(N14).jpg\" title=\"to higher resolution lineart on CDLI\"><img src=\"cdli-imagery/lineart-3(n14).jpg\" style=\"display: inline;max-width: 2em; max-height: 4em;\"  /></a></div>\n",
       "\n",
       "</div>\n",
       "\n",
       "\n",
       "<div class=\"contnr sign \">\n",
       "    \n",
       "    <div class=\"meta\">\n",
       "         <span class=\"srcLn\">SZE~a</span>\n",
       "        \n",
       "    </div>\n",
       "\n",
       "<div><a target=\"_blank\" href=\"https://cdli.ucla.edu/tools/SignLists/protocuneiform/archsigns/SZE~a.jpg\" title=\"to higher resolution lineart on CDLI\"><img src=\"cdli-imagery/lineart-sze-a.jpg\" style=\"display: inline;max-width: 2em; max-height: 4em;\"  /></a></div>\n",
       "\n",
       "</div>\n",
       "\n",
       "\n",
       "    </div>\n",
       "\n",
       "\n",
       "</div>\n",
       "\n",
       "\n",
       "<div class=\"contnr trminal \">\n",
       "    \n",
       "    <div class=\"lbl trminal\">\n",
       "        2\n",
       "        \n",
       "    </div>\n",
       "\n",
       "    <div class=\"meta\">\n",
       "        <div class=\"features\"></div>\n",
       "        \n",
       "    </div>\n",
       "\n",
       "\n",
       "    <div class=\"children trminal\">\n",
       "\n",
       "\n",
       "<div class=\"contnr sign  hl\">\n",
       "    \n",
       "    <div class=\"meta\">\n",
       "         <span class=\"srcLn\">3(N19)</span>\n",
       "        \n",
       "    </div>\n",
       "\n",
       "<div><a target=\"_blank\" href=\"https://cdli.ucla.edu/tools/SignLists/protocuneiform/archsigns/3(N19).jpg\" title=\"to higher resolution lineart on CDLI\"><img src=\"cdli-imagery/lineart-3(n19).jpg\" style=\"display: inline;max-width: 2em; max-height: 4em;\"  /></a></div>\n",
       "\n",
       "</div>\n",
       "\n",
       "\n",
       "<div class=\"contnr sign  hl\">\n",
       "    \n",
       "    <div class=\"meta\">\n",
       "         <span class=\"srcLn\">5(N04)</span>\n",
       "        \n",
       "    </div>\n",
       "\n",
       "<div><a target=\"_blank\" href=\"https://cdli.ucla.edu/tools/SignLists/protocuneiform/archsigns/5(N04).jpg\" title=\"to higher resolution lineart on CDLI\"><img src=\"cdli-imagery/lineart-5(n04).jpg\" style=\"display: inline;max-width: 2em; max-height: 4em;\"  /></a></div>\n",
       "\n",
       "</div>\n",
       "\n",
       "\n",
       "    </div>\n",
       "\n",
       "\n",
       "</div>\n",
       "\n",
       "\n",
       "<div class=\"contnr trminal \">\n",
       "    \n",
       "    <div class=\"lbl trminal\">\n",
       "        3\n",
       "        \n",
       "    </div>\n",
       "\n",
       "    <div class=\"meta\">\n",
       "        <div class=\"features\"></div>\n",
       "        \n",
       "    </div>\n",
       "\n",
       "\n",
       "    <div class=\"children trminal\">\n",
       "\n",
       "\n",
       "<div class=\"contnr sign \">\n",
       "    \n",
       "    <div class=\"meta\">\n",
       "         <span class=\"srcLn\">GU7</span>\n",
       "        \n",
       "    </div>\n",
       "\n",
       "<div><a target=\"_blank\" href=\"https://cdli.ucla.edu/tools/SignLists/protocuneiform/archsigns/GU7.jpg\" title=\"to higher resolution lineart on CDLI\"><img src=\"cdli-imagery/lineart-gu7.jpg\" style=\"display: inline;max-width: 2em; max-height: 4em;\"  /></a></div>\n",
       "\n",
       "</div>\n",
       "\n",
       "\n",
       "    </div>\n",
       "\n",
       "\n",
       "</div>\n",
       "\n",
       "\n",
       "    </div>\n",
       "\n",
       "\n",
       "</div>\n",
       "\n",
       "\n",
       "<div class=\"contnr column \">\n",
       "    \n",
       "    <div class=\"lbl column\">\n",
       "        2\n",
       "        \n",
       "    </div>\n",
       "\n",
       "    <div class=\"meta\">\n",
       "        \n",
       "        \n",
       "    </div>\n",
       "\n",
       "\n",
       "    <div class=\"children column\">\n",
       "\n",
       "\n",
       "<div class=\"contnr trminal \">\n",
       "    \n",
       "    <div class=\"lbl trminal\">\n",
       "        1\n",
       "        \n",
       "    </div>\n",
       "\n",
       "    <div class=\"meta\">\n",
       "        <div class=\"features\"></div>\n",
       "        \n",
       "    </div>\n",
       "\n",
       "\n",
       "    <div class=\"children trminal\">\n",
       "\n",
       "\n",
       "<div class=\"contnr sign \">\n",
       "    \n",
       "    <div class=\"meta\">\n",
       "         <span class=\"srcLn\">AZ</span>\n",
       "        \n",
       "    </div>\n",
       "\n",
       "<div><a target=\"_blank\" href=\"https://cdli.ucla.edu/tools/SignLists/protocuneiform/archsigns/AZ.jpg\" title=\"to higher resolution lineart on CDLI\"><img src=\"cdli-imagery/lineart-az.jpg\" style=\"display: inline;max-width: 2em; max-height: 4em;\"  /></a></div>\n",
       "\n",
       "</div>\n",
       "\n",
       "\n",
       "<div class=\"contnr sign \">\n",
       "    \n",
       "    <div class=\"meta\">\n",
       "         <span class=\"srcLn\">SI4~f</span>\n",
       "        \n",
       "    </div>\n",
       "\n",
       "<div><a target=\"_blank\" href=\"https://cdli.ucla.edu/tools/SignLists/protocuneiform/archsigns/SI4~f.jpg\" title=\"to higher resolution lineart on CDLI\"><img src=\"cdli-imagery/lineart-si4-f.jpg\" style=\"display: inline;max-width: 2em; max-height: 4em;\"  /></a></div>\n",
       "\n",
       "</div>\n",
       "\n",
       "\n",
       "    </div>\n",
       "\n",
       "\n",
       "</div>\n",
       "\n",
       "\n",
       "    </div>\n",
       "\n",
       "\n",
       "</div>\n",
       "\n",
       "\n",
       "    </div>\n",
       "\n",
       "\n",
       "</div>\n",
       "\n",
       "\n",
       "    </div>\n",
       "\n",
       "\n",
       "</div>\n"
      ],
      "text/plain": [
       "<IPython.core.display.HTML object>"
      ]
     },
     "metadata": {},
     "output_type": "display_data"
    }
   ],
   "source": [
    "shinPPpat = '|'.join(shinPP)\n",
    "query = f'''\n",
    "tablet catalogId={pNum}\n",
    "  face\n",
    "    sign grapheme={shinPPpat}\n",
    "'''\n",
    "results = A.search(query)\n",
    "A.show(results)"
   ]
  },
  {
   "cell_type": "code",
   "execution_count": 17,
   "metadata": {
    "ExecuteTime": {
     "end_time": "2018-05-01T14:56:47.568292Z",
     "start_time": "2018-05-01T14:56:47.559802Z"
    }
   },
   "outputs": [
    {
     "name": "stdout",
     "output_type": "stream",
     "text": [
      "obverse: 23\n",
      "reverse: 23\n"
     ]
    }
   ],
   "source": [
    "sums = collections.Counter()\n",
    "\n",
    "for (tablet, face, num) in results:\n",
    "    grapheme = F.grapheme.v(num)\n",
    "    iteration = F.repeat.v(num)\n",
    "    valueFromDict = shinPP[grapheme]\n",
    "    value = iteration * valueFromDict\n",
    "    sums[F.type.v(face)] += value\n",
    "\n",
    "for faceType in sums:\n",
    "    print(f'{faceType}: {sums[faceType]}')"
   ]
  },
  {
   "cell_type": "markdown",
   "metadata": {},
   "source": [
    "It adds up!"
   ]
  },
  {
   "cell_type": "markdown",
   "metadata": {},
   "source": [
    "## Non-numerical quads\n",
    "\n",
    "Now that we have identified the numeral system in the first case of column 2 on the obverse, let's also see what we can find out about the non-numeral signs in the same case. \n",
    "\n",
    "We use the term \"quad\" to refer to all orthographic elements that occupy the space of a single proto-cuneiform sign on the surface of the tablet. This includes both an individual proto-cuneiform sign operating on its own as well as combinations of signs that occupy the same space. One of the most elaborate quads in the proto-cuneiform corpus is the following:\n",
    "\n",
    "```\n",
    "|SZU2.((HI+1(N57))+(HI+1(N57)))|\n",
    "```\n",
    "\n",
    "This quad has two sub-quads `SZU2`, `(HI+1(N57))+(HI+1(N57))`, and the second sub-quad also consists of two sub-quads `HI+1(N57)` and `HI+1(N57)`; both of these sub-quads are, in turn, composed of two further sub-quads `HI` and `1(N57)`.\n",
    "\n",
    "First we need to pick this super-quad out of the rest of the line: this is how we get the transliteration of the entire line:"
   ]
  },
  {
   "cell_type": "code",
   "execution_count": 18,
   "metadata": {
    "ExecuteTime": {
     "end_time": "2018-05-01T14:56:53.173886Z",
     "start_time": "2018-05-01T14:56:52.988057Z"
    }
   },
   "outputs": [
    {
     "name": "stdout",
     "output_type": "stream",
     "text": [
      "1 result\n"
     ]
    },
    {
     "data": {
      "text/html": [
       "\n",
       "<div class=\"contnr trminal \">\n",
       "    \n",
       "    <div class=\"lbl trminal\">\n",
       "        <a target=\"_blank\" href=\"https://cdli.ucla.edu/search/search_results.php?SearchMode=Text&ObjectID=P005381\" title=\"to CDLI main page for this tablet\">line 1</a>\n",
       "        <span class=\"nd\">254176</span>\n",
       "    </div>\n",
       "\n",
       "    <div class=\"meta\">\n",
       "        <div class=\"features\"></div>\n",
       "        \n",
       "    </div>\n",
       "\n",
       "\n",
       "    <div class=\"children trminal\">\n",
       "\n",
       "\n",
       "<div class=\"contnr sign \">\n",
       "    \n",
       "    <div class=\"lbl sign\">\n",
       "        \n",
       "        <span class=\"nd\">106602</span>\n",
       "    </div>\n",
       "\n",
       "    <div class=\"meta\">\n",
       "         <span class=\"srcLn\">3(N04)</span>\n",
       "        \n",
       "    </div>\n",
       "\n",
       "<div><a target=\"_blank\" href=\"https://cdli.ucla.edu/tools/SignLists/protocuneiform/archsigns/3(N04).jpg\" title=\"to higher resolution lineart on CDLI\"><img src=\"cdli-imagery/lineart-3(n04).jpg\" style=\"display: inline;max-width: 2em; max-height: 4em;\"  /></a></div>\n",
       "\n",
       "</div>\n",
       "\n",
       "\n",
       "<div class=\"contnr quad \">\n",
       "    \n",
       "    <div class=\"lbl quad\">\n",
       "        \n",
       "        <span class=\"nd\">143014</span>\n",
       "    </div>\n",
       "\n",
       "    <div class=\"meta\">\n",
       "        \n",
       "        \n",
       "    </div>\n",
       "\n",
       "<div><a target=\"_blank\" href=\"https://cdli.ucla.edu/tools/SignLists/protocuneiform/archsigns/|GISZ.TE|.jpg\" title=\"to higher resolution lineart on CDLI\"><img src=\"cdli-imagery/lineart-qgisz(d)teq.jpg\" style=\"display: inline;max-width: 4em; max-height: 6em;\"  /></a></div>\n",
       "\n",
       "    <div class=\"children quad\">\n",
       "\n",
       "\n",
       "<div class=\"contnr sign \">\n",
       "    \n",
       "    <div class=\"lbl sign\">\n",
       "        \n",
       "        <span class=\"nd\">106603</span>\n",
       "    </div>\n",
       "\n",
       "    <div class=\"meta\">\n",
       "         <span class=\"srcLn\">GISZ</span>\n",
       "        \n",
       "    </div>\n",
       "\n",
       "\n",
       "</div>\n",
       "\n",
       "<div class=\"op\">.</div>\n",
       "\n",
       "<div class=\"contnr sign \">\n",
       "    \n",
       "    <div class=\"lbl sign\">\n",
       "        \n",
       "        <span class=\"nd\">106604</span>\n",
       "    </div>\n",
       "\n",
       "    <div class=\"meta\">\n",
       "         <span class=\"srcLn\">TE</span>\n",
       "        \n",
       "    </div>\n",
       "\n",
       "\n",
       "</div>\n",
       "\n",
       "\n",
       "    </div>\n",
       "\n",
       "\n",
       "</div>\n",
       "\n",
       "\n",
       "<div class=\"contnr sign \">\n",
       "    \n",
       "    <div class=\"lbl sign\">\n",
       "        \n",
       "        <span class=\"nd\">106605</span>\n",
       "    </div>\n",
       "\n",
       "    <div class=\"meta\">\n",
       "         <span class=\"srcLn\">GAR</span>\n",
       "        \n",
       "    </div>\n",
       "\n",
       "<div><a target=\"_blank\" href=\"https://cdli.ucla.edu/tools/SignLists/protocuneiform/archsigns/GAR.jpg\" title=\"to higher resolution lineart on CDLI\"><img src=\"cdli-imagery/lineart-gar.jpg\" style=\"display: inline;max-width: 2em; max-height: 4em;\"  /></a></div>\n",
       "\n",
       "</div>\n",
       "\n",
       "\n",
       "<div class=\"contnr quad \">\n",
       "    \n",
       "    <div class=\"lbl quad\">\n",
       "        \n",
       "        <span class=\"nd\">143015</span>\n",
       "    </div>\n",
       "\n",
       "    <div class=\"meta\">\n",
       "        \n",
       "        \n",
       "    </div>\n",
       "\n",
       "<div><a target=\"_blank\" href=\"https://cdli.ucla.edu/tools/SignLists/protocuneiform/archsigns/|SZU2.((HI+1(N57))+(HI+1(N57)))|.jpg\" title=\"to higher resolution lineart on CDLI\"><img src=\"cdli-imagery/lineart-qszu2(d)((hi(p)1(n57))(p)(hi(p)1(n57)))q.jpg\" style=\"display: inline;max-width: 4em; max-height: 6em;\"  /></a></div>\n",
       "\n",
       "    <div class=\"children quad\">\n",
       "\n",
       "\n",
       "<div class=\"contnr sign \">\n",
       "    \n",
       "    <div class=\"lbl sign\">\n",
       "        \n",
       "        <span class=\"nd\">106606</span>\n",
       "    </div>\n",
       "\n",
       "    <div class=\"meta\">\n",
       "         <span class=\"srcLn\">SZU2</span>\n",
       "        \n",
       "    </div>\n",
       "\n",
       "\n",
       "</div>\n",
       "\n",
       "<div class=\"op\">.</div>\n",
       "\n",
       "<div class=\"contnr quad \">\n",
       "    \n",
       "    <div class=\"lbl quad\">\n",
       "        \n",
       "        <span class=\"nd\">143016</span>\n",
       "    </div>\n",
       "\n",
       "    <div class=\"meta\">\n",
       "        \n",
       "        \n",
       "    </div>\n",
       "\n",
       "\n",
       "    <div class=\"children quad\">\n",
       "\n",
       "\n",
       "<div class=\"contnr quad \">\n",
       "    \n",
       "    <div class=\"lbl quad\">\n",
       "        \n",
       "        <span class=\"nd\">143017</span>\n",
       "    </div>\n",
       "\n",
       "    <div class=\"meta\">\n",
       "        \n",
       "        \n",
       "    </div>\n",
       "\n",
       "\n",
       "    <div class=\"children quad\">\n",
       "\n",
       "\n",
       "<div class=\"contnr sign \">\n",
       "    \n",
       "    <div class=\"lbl sign\">\n",
       "        \n",
       "        <span class=\"nd\">106607</span>\n",
       "    </div>\n",
       "\n",
       "    <div class=\"meta\">\n",
       "         <span class=\"srcLn\">HI</span>\n",
       "        \n",
       "    </div>\n",
       "\n",
       "\n",
       "</div>\n",
       "\n",
       "<div class=\"op\">+</div>\n",
       "\n",
       "<div class=\"contnr sign \">\n",
       "    \n",
       "    <div class=\"lbl sign\">\n",
       "        \n",
       "        <span class=\"nd\">106608</span>\n",
       "    </div>\n",
       "\n",
       "    <div class=\"meta\">\n",
       "         <span class=\"srcLn\">1(N57)</span>\n",
       "        \n",
       "    </div>\n",
       "\n",
       "\n",
       "</div>\n",
       "\n",
       "\n",
       "    </div>\n",
       "\n",
       "\n",
       "</div>\n",
       "\n",
       "<div class=\"op\">+</div>\n",
       "\n",
       "<div class=\"contnr quad \">\n",
       "    \n",
       "    <div class=\"lbl quad\">\n",
       "        \n",
       "        <span class=\"nd\">143018</span>\n",
       "    </div>\n",
       "\n",
       "    <div class=\"meta\">\n",
       "        \n",
       "        \n",
       "    </div>\n",
       "\n",
       "\n",
       "    <div class=\"children quad\">\n",
       "\n",
       "\n",
       "<div class=\"contnr sign \">\n",
       "    \n",
       "    <div class=\"lbl sign\">\n",
       "        \n",
       "        <span class=\"nd\">106609</span>\n",
       "    </div>\n",
       "\n",
       "    <div class=\"meta\">\n",
       "         <span class=\"srcLn\">HI</span>\n",
       "        \n",
       "    </div>\n",
       "\n",
       "\n",
       "</div>\n",
       "\n",
       "<div class=\"op\">+</div>\n",
       "\n",
       "<div class=\"contnr sign \">\n",
       "    \n",
       "    <div class=\"lbl sign\">\n",
       "        \n",
       "        <span class=\"nd\">106610</span>\n",
       "    </div>\n",
       "\n",
       "    <div class=\"meta\">\n",
       "         <span class=\"srcLn\">1(N57)</span>\n",
       "        \n",
       "    </div>\n",
       "\n",
       "\n",
       "</div>\n",
       "\n",
       "\n",
       "    </div>\n",
       "\n",
       "\n",
       "</div>\n",
       "\n",
       "\n",
       "    </div>\n",
       "\n",
       "\n",
       "</div>\n",
       "\n",
       "\n",
       "    </div>\n",
       "\n",
       "\n",
       "</div>\n",
       "\n",
       "\n",
       "<div class=\"contnr sign \">\n",
       "    \n",
       "    <div class=\"lbl sign\">\n",
       "        \n",
       "        <span class=\"nd\">106611</span>\n",
       "    </div>\n",
       "\n",
       "    <div class=\"meta\">\n",
       "         <span class=\"srcLn\">GI4~a</span>\n",
       "        \n",
       "    </div>\n",
       "\n",
       "<div><a target=\"_blank\" href=\"https://cdli.ucla.edu/tools/SignLists/protocuneiform/archsigns/GI4~a.jpg\" title=\"to higher resolution lineart on CDLI\"><img src=\"cdli-imagery/lineart-gi4-a.jpg\" style=\"display: inline;max-width: 2em; max-height: 4em;\"  /></a></div>\n",
       "\n",
       "</div>\n",
       "\n",
       "\n",
       "    </div>\n",
       "\n",
       "\n",
       "</div>\n"
      ],
      "text/plain": [
       "<IPython.core.display.HTML object>"
      ]
     },
     "metadata": {},
     "output_type": "display_data"
    }
   ],
   "source": [
    "query = f'''\n",
    "tablet catalogId={pNum}\n",
    "  face type=obverse\n",
    "    column number=2\n",
    "      line number=1\n",
    "'''\n",
    "results = A.search(query)\n",
    "line = results[0][3]\n",
    "A.pretty(line, withNodes=True)"
   ]
  },
  {
   "cell_type": "markdown",
   "metadata": {},
   "source": [
    "We can just read off the node of the biggest quad."
   ]
  },
  {
   "cell_type": "code",
   "execution_count": 19,
   "metadata": {
    "ExecuteTime": {
     "end_time": "2018-05-01T14:57:05.542726Z",
     "start_time": "2018-05-01T14:57:05.538126Z"
    }
   },
   "outputs": [],
   "source": [
    "bigQuad = 143015"
   ]
  },
  {
   "cell_type": "markdown",
   "metadata": {},
   "source": [
    "Now that we have identified the \"bigQuad,\" we can also ask Text-Fabric to show us what it looks like. "
   ]
  },
  {
   "cell_type": "code",
   "execution_count": 20,
   "metadata": {
    "ExecuteTime": {
     "end_time": "2018-05-01T14:57:07.393284Z",
     "start_time": "2018-05-01T14:57:07.383617Z"
    }
   },
   "outputs": [
    {
     "data": {
      "text/html": [
       "<div style=\"display: flex;flex-flow: row nowrap;justify-content: flex-start;align-items: center;align-content: flex-start;\"><div style=\"padding: 0.5rem;\"><div style=\"display: flex;flex-flow: column nowrap;justify-content: space-between;align-items: center;align-content: space-between;\"><div><a target=\"_blank\" href=\"https://cdli.ucla.edu/tools/SignLists/protocuneiform/archsigns/|SZU2.((HI+1(N57))+(HI+1(N57)))|.jpg\" title=\"to higher resolution lineart on CDLI\"><img src=\"cdli-imagery/lineart-qszu2(d)((hi(p)1(n57))(p)(hi(p)1(n57)))q.jpg\" style=\"display: inline;\"  /></a></div><div><a target=\"_blank\" href=\"https://cdli.ucla.edu/tools/SignLists/protocuneiform/archsigns.html\" title=\"to CDLI main page for this item\">|SZU2.((HI+1(N57))+(HI+1(N57)))|</a></div></div></div></div>"
      ],
      "text/plain": [
       "<IPython.core.display.HTML object>"
      ]
     },
     "metadata": {},
     "output_type": "display_data"
    }
   ],
   "source": [
    "A.lineart(bigQuad)"
   ]
  },
  {
   "cell_type": "markdown",
   "metadata": {},
   "source": [
    "This extremely complex quad, viz. |SZU2.((HI+1(N57))+(HI+1(N57)))|, is a hapax legomenon, meaning that it only occurs here, but there are three other non-numeral quads in this line besides |SZU2.((HI+1(N57))+(HI+1(N57)))|, namely |GISZ.TE|, GAR and GI4~a, so let's see how frequent these four non-numeral signs are in the proto-cuneiform corpus. We can do this sign by sign using the function \"F.grapheme.s()\"."
   ]
  },
  {
   "cell_type": "code",
   "execution_count": 21,
   "metadata": {
    "ExecuteTime": {
     "end_time": "2018-05-01T14:57:10.207085Z",
     "start_time": "2018-05-01T14:57:10.122183Z"
    }
   },
   "outputs": [
    {
     "name": "stdout",
     "output_type": "stream",
     "text": [
      "|GISZ.TE| 0 times\n",
      "GAR = 412 times\n",
      "GI4 = 44 times\n"
     ]
    }
   ],
   "source": [
    "GISZTEs = F.grapheme.s('|GISZ.TE|')\n",
    "print(f'|GISZ.TE| {len(GISZTEs)} times')\n",
    "\n",
    "GARs = F.grapheme.s('GAR')\n",
    "print(f'GAR = {len(GARs)} times')\n",
    "\n",
    "GI4s = F.grapheme.s('GI4')\n",
    "print(f'GI4 = {len(GI4s)} times')"
   ]
  },
  {
   "cell_type": "markdown",
   "metadata": {},
   "source": [
    "There are two problems here that we need to resolve in order to get good numbers: we have to get Text-Fabric to count |GISZ.TE| as a single unit, even though it is composed of two distinct graphemes, and we have to ask it to recognize and count the \"a\" variant of \"GI4\". In order to count the number of quads that consist of GISZ and TE, namely |GISZ.TE|, it is convenient to make a frequency index for all quads.\n",
    "\n",
    "We walk through all the quads, pick up its ATF, and count the frequencies of ATF representations."
   ]
  },
  {
   "cell_type": "code",
   "execution_count": 22,
   "metadata": {
    "ExecuteTime": {
     "end_time": "2018-05-01T14:57:11.745683Z",
     "start_time": "2018-05-01T14:57:11.612690Z"
    }
   },
   "outputs": [],
   "source": [
    "quadFreqs = collections.Counter()\n",
    "for q in F.otype.s('quad'):\n",
    "    quadFreqs[A.atfFromQuad(q)] += 1"
   ]
  },
  {
   "cell_type": "markdown",
   "metadata": {},
   "source": [
    "With this in hand, we can quickly count how many quads there are that have both signs `GISZ` and `TE` in them.\n",
    "\n",
    "Added bonus: we shall also see whether there are quads with both of these signs but composed with other operators and signs as well."
   ]
  },
  {
   "cell_type": "code",
   "execution_count": 23,
   "metadata": {
    "ExecuteTime": {
     "end_time": "2018-05-01T14:57:13.308504Z",
     "start_time": "2018-05-01T14:57:13.300427Z"
    }
   },
   "outputs": [
    {
     "name": "stdout",
     "output_type": "stream",
     "text": [
      "|GISZ.TE| =  26 times\n"
     ]
    }
   ],
   "source": [
    "for qAtf in quadFreqs:\n",
    "    if 'GISZ' in qAtf and 'TE' in qAtf:\n",
    "        print(f'{qAtf} ={quadFreqs[qAtf]:>4} times')"
   ]
  },
  {
   "cell_type": "markdown",
   "metadata": {
    "collapsed": true
   },
   "source": [
    "And we can also look at the set of quads in which GISZ co-occurs with another sign, and likewise, the set of quads in which TE co-occurs with another sign."
   ]
  },
  {
   "cell_type": "code",
   "execution_count": 24,
   "metadata": {
    "ExecuteTime": {
     "end_time": "2018-05-01T14:57:14.964302Z",
     "start_time": "2018-05-01T14:57:14.945913Z"
    }
   },
   "outputs": [
    {
     "name": "stdout",
     "output_type": "stream",
     "text": [
      "  15 x |GISZxSZU2~b|\n",
      "  42 x |GISZxSZU2~a|\n",
      "  26 x |GISZ.TE|\n",
      "   1 x |GIxGISZ@t|\n",
      "   4 x |(GISZx(DIN.DIN))~a|\n",
      "   3 x |NINDA2xGISZ|\n",
      "   1 x |(GISZx(DIN.DIN))~c|\n",
      "   7 x |DUG~bxGISZ|\n",
      "   3 x |GISZ3~a&GISZ3~a|\n",
      "   1 x |GISZ+SZU2~b|\n",
      "   1 x |BU~axGISZ@t|\n",
      "   1 x |GA2~a1xGISZ@t|\n",
      "   1 x |(GISZx(DIN.DIN))~b|\n",
      "   1 x |(GI&GI)xGISZ@t|\n"
     ]
    }
   ],
   "source": [
    "for qAtf in quadFreqs:\n",
    "    if 'GISZ' in qAtf:\n",
    "        print(f'{quadFreqs[qAtf]:>4} x {qAtf}')"
   ]
  },
  {
   "cell_type": "code",
   "execution_count": 25,
   "metadata": {
    "ExecuteTime": {
     "end_time": "2018-05-01T14:57:16.219224Z",
     "start_time": "2018-05-01T14:57:16.211263Z"
    }
   },
   "outputs": [
    {
     "name": "stdout",
     "output_type": "stream",
     "text": [
      "  26 x |GISZ.TE|\n",
      "  10 x |LAGAB~b.TE|\n"
     ]
    }
   ],
   "source": [
    "for qAtf in quadFreqs:\n",
    "    if 'TE' in qAtf:\n",
    "        print(f'{quadFreqs[qAtf]:>4} x {qAtf}')"
   ]
  },
  {
   "cell_type": "markdown",
   "metadata": {},
   "source": [
    "Most of the time, however, when we are interested in particular sign frequencies, we want to cast a wide net and get the frequency of any possibly related sign or quad. The best way to do this is to check the ATF of any sign or quad that might be relevant and add up the number of its occurrences in the corpus. This following script checks both signs and quads and casts the net widely. It looks for the frequency of our same three signs/quads, namely GAR, GI4~a and |GISZ.TE|."
   ]
  },
  {
   "cell_type": "code",
   "execution_count": 26,
   "metadata": {
    "ExecuteTime": {
     "end_time": "2018-05-01T14:57:19.647271Z",
     "start_time": "2018-05-01T14:57:18.462430Z"
    }
   },
   "outputs": [],
   "source": [
    "quadSignFreqs = collections.Counter()\n",
    "quadSignTypes = {'quad', 'sign'}\n",
    "\n",
    "for n in N():\n",
    "    nType = F.otype.v(n)\n",
    "    if nType not in quadSignTypes:\n",
    "        continue\n",
    "    atf = A.atfFromQuad(n) if nType == 'quad' else A.atfFromSign(n)\n",
    "    quadSignFreqs[atf] += 1"
   ]
  },
  {
   "cell_type": "markdown",
   "metadata": {},
   "source": [
    "We have now an frequency index for all signs and quads in their ATF representation.\n",
    "Note that if a sign is part of a bigger quad, its occurrence there will be counted as an occurrence of the sign."
   ]
  },
  {
   "cell_type": "code",
   "execution_count": 27,
   "metadata": {
    "ExecuteTime": {
     "end_time": "2018-05-01T14:57:21.135482Z",
     "start_time": "2018-05-01T14:57:21.123016Z"
    }
   },
   "outputs": [
    {
     "name": "stdout",
     "output_type": "stream",
     "text": [
      "  34 x GI4~a\n",
      "  17 x |SILA3~axGARA2~a|\n",
      "  73 x GARA2~a\n",
      "  91 x NAGAR~b\n",
      " 401 x GAR\n",
      "  56 x LAGAR~a\n",
      "  20 x |ZATU651xGAR|\n",
      "   3 x |NINDA2xGAR|\n",
      "  99 x NAGAR~a\n",
      "   1 x LAGAR~a@r\n",
      "  26 x |GISZ.TE|\n",
      "   3 x GAR@g~b\n",
      "  22 x ESZGAR\n",
      "  18 x AGAR2\n",
      "   6 x |4(N57).GAR|\n",
      "   8 x |5(N57).GAR|\n",
      "   4 x |ZATU737xGAR|\n",
      "   1 x |MAR~bxGAR|\n",
      "   3 x GAR@g~c\n",
      "   2 x |3(N57).GAR|\n",
      "   1 x |SILA3~a+GARA2~a|\n",
      "   1 x |7(N57).GAR|\n",
      "   1 x |GAN~cx(4(N57).GAR)|\n",
      "   4 x |6(N57).GAR|\n",
      "   2 x |SZE~a.GAR|\n",
      "   1 x GAR~b\n",
      "   4 x LAGAR~c\n",
      "   5 x LAGAR~b1\n",
      "   2 x GARA2~b\n",
      "   1 x |GI4~a&GI4~a|\n",
      "   1 x |N(N57).GAR|\n",
      "   1 x |GI4~axA|\n",
      "  29 x GAR3\n",
      "   4 x GAR@g~a\n",
      "   3 x LAGAR~b2\n"
     ]
    }
   ],
   "source": [
    "selectedAtfs = []\n",
    "\n",
    "for qsAtf in quadSignFreqs:\n",
    "    if 'GAR' in qsAtf or 'GI4~a' in qsAtf or '|GISZ.TE|' in qsAtf:\n",
    "        selectedAtfs.append(qsAtf)\n",
    "        print(f'{quadSignFreqs[qsAtf]:>4} x {qsAtf}')"
   ]
  },
  {
   "cell_type": "markdown",
   "metadata": {},
   "source": [
    "Let's draw all these quads."
   ]
  },
  {
   "cell_type": "code",
   "execution_count": 28,
   "metadata": {
    "ExecuteTime": {
     "end_time": "2018-05-01T14:57:26.991244Z",
     "start_time": "2018-05-01T14:57:26.755376Z"
    },
    "scrolled": false
   },
   "outputs": [
    {
     "data": {
      "text/html": [
       "<div style=\"display: flex;flex-flow: row nowrap;justify-content: flex-start;align-items: center;align-content: flex-start;\"><div style=\"padding: 0.5rem;\"><div style=\"display: flex;flex-flow: row nowrap;justify-content: space-between;align-items: center;align-content: space-between;\"><div><a target=\"_blank\" href=\"https://cdli.ucla.edu/tools/SignLists/protocuneiform/archsigns/GI4~a.jpg\" title=\"to higher resolution lineart on CDLI\"><img src=\"cdli-imagery/lineart-gi4-a.jpg\" style=\"display: inline;max-width: 5em; max-height: 5em;\"  /></a></div><div><a target=\"_blank\" href=\"https://cdli.ucla.edu/tools/SignLists/protocuneiform/archsigns.html\" title=\"to CDLI main page for this item\">GI4~a</a></div></div></div></div>"
      ],
      "text/plain": [
       "<IPython.core.display.HTML object>"
      ]
     },
     "metadata": {},
     "output_type": "display_data"
    },
    {
     "data": {
      "text/html": [
       "<div style=\"display: flex;flex-flow: row nowrap;justify-content: flex-start;align-items: center;align-content: flex-start;\"><div style=\"padding: 0.5rem;\"><div style=\"display: flex;flex-flow: row nowrap;justify-content: space-between;align-items: center;align-content: space-between;\"><div><a target=\"_blank\" href=\"https://cdli.ucla.edu/tools/SignLists/protocuneiform/archsigns/|SILA3~axGARA2~a|.jpg\" title=\"to higher resolution lineart on CDLI\"><img src=\"cdli-imagery/lineart-qsila3-axgara2-aq.jpg\" style=\"display: inline;max-width: 5em; max-height: 5em;\"  /></a></div><div><a target=\"_blank\" href=\"https://cdli.ucla.edu/tools/SignLists/protocuneiform/archsigns.html\" title=\"to CDLI main page for this item\">|SILA3~axGARA2~a|</a></div></div></div></div>"
      ],
      "text/plain": [
       "<IPython.core.display.HTML object>"
      ]
     },
     "metadata": {},
     "output_type": "display_data"
    },
    {
     "data": {
      "text/html": [
       "<div style=\"display: flex;flex-flow: row nowrap;justify-content: flex-start;align-items: center;align-content: flex-start;\"><div style=\"padding: 0.5rem;\"><div style=\"display: flex;flex-flow: row nowrap;justify-content: space-between;align-items: center;align-content: space-between;\"><div><a target=\"_blank\" href=\"https://cdli.ucla.edu/tools/SignLists/protocuneiform/archsigns/GARA2~a.jpg\" title=\"to higher resolution lineart on CDLI\"><img src=\"cdli-imagery/lineart-gara2-a.jpg\" style=\"display: inline;max-width: 5em; max-height: 5em;\"  /></a></div><div><a target=\"_blank\" href=\"https://cdli.ucla.edu/tools/SignLists/protocuneiform/archsigns.html\" title=\"to CDLI main page for this item\">GARA2~a</a></div></div></div></div>"
      ],
      "text/plain": [
       "<IPython.core.display.HTML object>"
      ]
     },
     "metadata": {},
     "output_type": "display_data"
    },
    {
     "data": {
      "text/html": [
       "<div style=\"display: flex;flex-flow: row nowrap;justify-content: flex-start;align-items: center;align-content: flex-start;\"><div style=\"padding: 0.5rem;\"><div style=\"display: flex;flex-flow: row nowrap;justify-content: space-between;align-items: center;align-content: space-between;\"><div><a target=\"_blank\" href=\"https://cdli.ucla.edu/tools/SignLists/protocuneiform/archsigns/NAGAR~b.jpg\" title=\"to higher resolution lineart on CDLI\"><img src=\"cdli-imagery/lineart-nagar-b.jpg\" style=\"display: inline;max-width: 5em; max-height: 5em;\"  /></a></div><div><a target=\"_blank\" href=\"https://cdli.ucla.edu/tools/SignLists/protocuneiform/archsigns.html\" title=\"to CDLI main page for this item\">NAGAR~b</a></div></div></div></div>"
      ],
      "text/plain": [
       "<IPython.core.display.HTML object>"
      ]
     },
     "metadata": {},
     "output_type": "display_data"
    },
    {
     "data": {
      "text/html": [
       "<div style=\"display: flex;flex-flow: row nowrap;justify-content: flex-start;align-items: center;align-content: flex-start;\"><div style=\"padding: 0.5rem;\"><div style=\"display: flex;flex-flow: row nowrap;justify-content: space-between;align-items: center;align-content: space-between;\"><div><a target=\"_blank\" href=\"https://cdli.ucla.edu/tools/SignLists/protocuneiform/archsigns/GAR.jpg\" title=\"to higher resolution lineart on CDLI\"><img src=\"cdli-imagery/lineart-gar.jpg\" style=\"display: inline;max-width: 5em; max-height: 5em;\"  /></a></div><div><a target=\"_blank\" href=\"https://cdli.ucla.edu/tools/SignLists/protocuneiform/archsigns.html\" title=\"to CDLI main page for this item\">GAR</a></div></div></div></div>"
      ],
      "text/plain": [
       "<IPython.core.display.HTML object>"
      ]
     },
     "metadata": {},
     "output_type": "display_data"
    },
    {
     "data": {
      "text/html": [
       "<div style=\"display: flex;flex-flow: row nowrap;justify-content: flex-start;align-items: center;align-content: flex-start;\"><div style=\"padding: 0.5rem;\"><div style=\"display: flex;flex-flow: row nowrap;justify-content: space-between;align-items: center;align-content: space-between;\"><div><a target=\"_blank\" href=\"https://cdli.ucla.edu/tools/SignLists/protocuneiform/archsigns/LAGAR~a.jpg\" title=\"to higher resolution lineart on CDLI\"><img src=\"cdli-imagery/lineart-lagar-a.jpg\" style=\"display: inline;max-width: 5em; max-height: 5em;\"  /></a></div><div><a target=\"_blank\" href=\"https://cdli.ucla.edu/tools/SignLists/protocuneiform/archsigns.html\" title=\"to CDLI main page for this item\">LAGAR~a</a></div></div></div></div>"
      ],
      "text/plain": [
       "<IPython.core.display.HTML object>"
      ]
     },
     "metadata": {},
     "output_type": "display_data"
    },
    {
     "data": {
      "text/html": [
       "<div style=\"display: flex;flex-flow: row nowrap;justify-content: flex-start;align-items: center;align-content: flex-start;\"><div style=\"padding: 0.5rem;\"><div style=\"display: flex;flex-flow: row nowrap;justify-content: space-between;align-items: center;align-content: space-between;\"><div><a target=\"_blank\" href=\"https://cdli.ucla.edu/tools/SignLists/protocuneiform/archsigns/|ZATU651xGAR|.jpg\" title=\"to higher resolution lineart on CDLI\"><img src=\"cdli-imagery/lineart-qzatu651xgarq.jpg\" style=\"display: inline;max-width: 5em; max-height: 5em;\"  /></a></div><div><a target=\"_blank\" href=\"https://cdli.ucla.edu/tools/SignLists/protocuneiform/archsigns.html\" title=\"to CDLI main page for this item\">|ZATU651xGAR|</a></div></div></div></div>"
      ],
      "text/plain": [
       "<IPython.core.display.HTML object>"
      ]
     },
     "metadata": {},
     "output_type": "display_data"
    },
    {
     "data": {
      "text/html": [
       "<div style=\"display: flex;flex-flow: row nowrap;justify-content: flex-start;align-items: center;align-content: flex-start;\"><div style=\"padding: 0.5rem;\"><div style=\"display: flex;flex-flow: row nowrap;justify-content: space-between;align-items: center;align-content: space-between;\"><div><a target=\"_blank\" href=\"https://cdli.ucla.edu/tools/SignLists/protocuneiform/archsigns/|NINDA2xGAR|.jpg\" title=\"to higher resolution lineart on CDLI\"><img src=\"cdli-imagery/lineart-qninda2xgarq.jpg\" style=\"display: inline;max-width: 5em; max-height: 5em;\"  /></a></div><div><a target=\"_blank\" href=\"https://cdli.ucla.edu/tools/SignLists/protocuneiform/archsigns.html\" title=\"to CDLI main page for this item\">|NINDA2xGAR|</a></div></div></div></div>"
      ],
      "text/plain": [
       "<IPython.core.display.HTML object>"
      ]
     },
     "metadata": {},
     "output_type": "display_data"
    },
    {
     "data": {
      "text/html": [
       "<div style=\"display: flex;flex-flow: row nowrap;justify-content: flex-start;align-items: center;align-content: flex-start;\"><div style=\"padding: 0.5rem;\"><div style=\"display: flex;flex-flow: row nowrap;justify-content: space-between;align-items: center;align-content: space-between;\"><div><a target=\"_blank\" href=\"https://cdli.ucla.edu/tools/SignLists/protocuneiform/archsigns/NAGAR~a.jpg\" title=\"to higher resolution lineart on CDLI\"><img src=\"cdli-imagery/lineart-nagar-a.jpg\" style=\"display: inline;max-width: 5em; max-height: 5em;\"  /></a></div><div><a target=\"_blank\" href=\"https://cdli.ucla.edu/tools/SignLists/protocuneiform/archsigns.html\" title=\"to CDLI main page for this item\">NAGAR~a</a></div></div></div></div>"
      ],
      "text/plain": [
       "<IPython.core.display.HTML object>"
      ]
     },
     "metadata": {},
     "output_type": "display_data"
    },
    {
     "data": {
      "text/html": [
       "<div style=\"display: flex;flex-flow: row nowrap;justify-content: flex-start;align-items: center;align-content: flex-start;\"><div style=\"padding: 0.5rem;\"><div style=\"display: flex;flex-flow: row nowrap;justify-content: space-between;align-items: center;align-content: space-between;\"><div><a target=\"_blank\" href=\"https://cdli.ucla.edu/tools/SignLists/protocuneiform/archsigns/LAGAR~a@r.jpg\" title=\"to higher resolution lineart on CDLI\"><img src=\"cdli-imagery/lineart-lagar-a(a)r.jpg\" style=\"display: inline;max-width: 5em; max-height: 5em;\"  /></a></div><div><a target=\"_blank\" href=\"https://cdli.ucla.edu/tools/SignLists/protocuneiform/archsigns.html\" title=\"to CDLI main page for this item\">LAGAR~a@r</a></div></div></div></div>"
      ],
      "text/plain": [
       "<IPython.core.display.HTML object>"
      ]
     },
     "metadata": {},
     "output_type": "display_data"
    },
    {
     "data": {
      "text/html": [
       "<div style=\"display: flex;flex-flow: row nowrap;justify-content: flex-start;align-items: center;align-content: flex-start;\"><div style=\"padding: 0.5rem;\"><div style=\"display: flex;flex-flow: row nowrap;justify-content: space-between;align-items: center;align-content: space-between;\"><div><a target=\"_blank\" href=\"https://cdli.ucla.edu/tools/SignLists/protocuneiform/archsigns/|GISZ.TE|.jpg\" title=\"to higher resolution lineart on CDLI\"><img src=\"cdli-imagery/lineart-qgisz(d)teq.jpg\" style=\"display: inline;max-width: 5em; max-height: 5em;\"  /></a></div><div><a target=\"_blank\" href=\"https://cdli.ucla.edu/tools/SignLists/protocuneiform/archsigns.html\" title=\"to CDLI main page for this item\">|GISZ.TE|</a></div></div></div></div>"
      ],
      "text/plain": [
       "<IPython.core.display.HTML object>"
      ]
     },
     "metadata": {},
     "output_type": "display_data"
    },
    {
     "data": {
      "text/html": [
       "<div style=\"display: flex;flex-flow: row nowrap;justify-content: flex-start;align-items: center;align-content: flex-start;\"><div style=\"padding: 0.5rem;\"><div style=\"display: flex;flex-flow: row nowrap;justify-content: space-between;align-items: center;align-content: space-between;\"><div><a target=\"_blank\" href=\"https://cdli.ucla.edu/tools/SignLists/protocuneiform/archsigns/GAR@g~b.jpg\" title=\"to higher resolution lineart on CDLI\"><img src=\"cdli-imagery/lineart-gar(a)g-b.jpg\" style=\"display: inline;max-width: 5em; max-height: 5em;\"  /></a></div><div><a target=\"_blank\" href=\"https://cdli.ucla.edu/tools/SignLists/protocuneiform/archsigns.html\" title=\"to CDLI main page for this item\">GAR@g~b</a></div></div></div></div>"
      ],
      "text/plain": [
       "<IPython.core.display.HTML object>"
      ]
     },
     "metadata": {},
     "output_type": "display_data"
    },
    {
     "data": {
      "text/html": [
       "<div style=\"display: flex;flex-flow: row nowrap;justify-content: flex-start;align-items: center;align-content: flex-start;\"><div style=\"padding: 0.5rem;\"><div style=\"display: flex;flex-flow: row nowrap;justify-content: space-between;align-items: center;align-content: space-between;\"><div><a target=\"_blank\" href=\"https://cdli.ucla.edu/tools/SignLists/protocuneiform/archsigns/ESZGAR.jpg\" title=\"to higher resolution lineart on CDLI\"><img src=\"cdli-imagery/lineart-eszgar.jpg\" style=\"display: inline;max-width: 5em; max-height: 5em;\"  /></a></div><div><a target=\"_blank\" href=\"https://cdli.ucla.edu/tools/SignLists/protocuneiform/archsigns.html\" title=\"to CDLI main page for this item\">ESZGAR</a></div></div></div></div>"
      ],
      "text/plain": [
       "<IPython.core.display.HTML object>"
      ]
     },
     "metadata": {},
     "output_type": "display_data"
    },
    {
     "data": {
      "text/html": [
       "<div style=\"display: flex;flex-flow: row nowrap;justify-content: flex-start;align-items: center;align-content: flex-start;\"><div style=\"padding: 0.5rem;\"><div style=\"display: flex;flex-flow: row nowrap;justify-content: space-between;align-items: center;align-content: space-between;\"><div><a target=\"_blank\" href=\"https://cdli.ucla.edu/tools/SignLists/protocuneiform/archsigns/AGAR2.jpg\" title=\"to higher resolution lineart on CDLI\"><img src=\"cdli-imagery/lineart-agar2.jpg\" style=\"display: inline;max-width: 5em; max-height: 5em;\"  /></a></div><div><a target=\"_blank\" href=\"https://cdli.ucla.edu/tools/SignLists/protocuneiform/archsigns.html\" title=\"to CDLI main page for this item\">AGAR2</a></div></div></div></div>"
      ],
      "text/plain": [
       "<IPython.core.display.HTML object>"
      ]
     },
     "metadata": {},
     "output_type": "display_data"
    },
    {
     "data": {
      "text/html": [
       "<div style=\"display: flex;flex-flow: row nowrap;justify-content: flex-start;align-items: center;align-content: flex-start;\"><div style=\"padding: 0.5rem;\"><div style=\"display: flex;flex-flow: row nowrap;justify-content: space-between;align-items: center;align-content: space-between;\"><div><a target=\"_blank\" href=\"https://cdli.ucla.edu/tools/SignLists/protocuneiform/archsigns/|4(N57).GAR|.jpg\" title=\"to higher resolution lineart on CDLI\"><img src=\"cdli-imagery/lineart-q4(n57)(d)garq.jpg\" style=\"display: inline;max-width: 5em; max-height: 5em;\"  /></a></div><div><a target=\"_blank\" href=\"https://cdli.ucla.edu/tools/SignLists/protocuneiform/archsigns.html\" title=\"to CDLI main page for this item\">|4(N57).GAR|</a></div></div></div></div>"
      ],
      "text/plain": [
       "<IPython.core.display.HTML object>"
      ]
     },
     "metadata": {},
     "output_type": "display_data"
    },
    {
     "data": {
      "text/html": [
       "<div style=\"display: flex;flex-flow: row nowrap;justify-content: flex-start;align-items: center;align-content: flex-start;\"><div style=\"padding: 0.5rem;\"><div style=\"display: flex;flex-flow: row nowrap;justify-content: space-between;align-items: center;align-content: space-between;\"><div><a target=\"_blank\" href=\"https://cdli.ucla.edu/tools/SignLists/protocuneiform/archsigns/|5(N57).GAR|.jpg\" title=\"to higher resolution lineart on CDLI\"><img src=\"cdli-imagery/lineart-q5(n57)(d)garq.jpg\" style=\"display: inline;max-width: 5em; max-height: 5em;\"  /></a></div><div><a target=\"_blank\" href=\"https://cdli.ucla.edu/tools/SignLists/protocuneiform/archsigns.html\" title=\"to CDLI main page for this item\">|5(N57).GAR|</a></div></div></div></div>"
      ],
      "text/plain": [
       "<IPython.core.display.HTML object>"
      ]
     },
     "metadata": {},
     "output_type": "display_data"
    },
    {
     "data": {
      "text/html": [
       "<div style=\"display: flex;flex-flow: row nowrap;justify-content: flex-start;align-items: center;align-content: flex-start;\"><div style=\"padding: 0.5rem;\"><div style=\"display: flex;flex-flow: row nowrap;justify-content: space-between;align-items: center;align-content: space-between;\"><div><a target=\"_blank\" href=\"https://cdli.ucla.edu/tools/SignLists/protocuneiform/archsigns/|ZATU737xGAR|.jpg\" title=\"to higher resolution lineart on CDLI\"><img src=\"cdli-imagery/lineart-qzatu737xgarq.jpg\" style=\"display: inline;max-width: 5em; max-height: 5em;\"  /></a></div><div><a target=\"_blank\" href=\"https://cdli.ucla.edu/tools/SignLists/protocuneiform/archsigns.html\" title=\"to CDLI main page for this item\">|ZATU737xGAR|</a></div></div></div></div>"
      ],
      "text/plain": [
       "<IPython.core.display.HTML object>"
      ]
     },
     "metadata": {},
     "output_type": "display_data"
    },
    {
     "data": {
      "text/html": [
       "<div style=\"display: flex;flex-flow: row nowrap;justify-content: flex-start;align-items: center;align-content: flex-start;\"><div style=\"padding: 0.5rem;\"><div style=\"display: flex;flex-flow: row nowrap;justify-content: space-between;align-items: center;align-content: space-between;\"><div><a target=\"_blank\" href=\"https://cdli.ucla.edu/tools/SignLists/protocuneiform/archsigns/|MAR~bxGAR|.jpg\" title=\"to higher resolution lineart on CDLI\"><span><b>no lineart</b> for ideograph <code>|MAR~bxGAR|</code></span></a></div><div><a target=\"_blank\" href=\"https://cdli.ucla.edu/tools/SignLists/protocuneiform/archsigns.html\" title=\"to CDLI main page for this item\">|MAR~bxGAR|</a></div></div></div></div>"
      ],
      "text/plain": [
       "<IPython.core.display.HTML object>"
      ]
     },
     "metadata": {},
     "output_type": "display_data"
    },
    {
     "data": {
      "text/html": [
       "<div style=\"display: flex;flex-flow: row nowrap;justify-content: flex-start;align-items: center;align-content: flex-start;\"><div style=\"padding: 0.5rem;\"><div style=\"display: flex;flex-flow: row nowrap;justify-content: space-between;align-items: center;align-content: space-between;\"><div><a target=\"_blank\" href=\"https://cdli.ucla.edu/tools/SignLists/protocuneiform/archsigns/GAR@g~c.jpg\" title=\"to higher resolution lineart on CDLI\"><img src=\"cdli-imagery/lineart-gar(a)g-c.jpg\" style=\"display: inline;max-width: 5em; max-height: 5em;\"  /></a></div><div><a target=\"_blank\" href=\"https://cdli.ucla.edu/tools/SignLists/protocuneiform/archsigns.html\" title=\"to CDLI main page for this item\">GAR@g~c</a></div></div></div></div>"
      ],
      "text/plain": [
       "<IPython.core.display.HTML object>"
      ]
     },
     "metadata": {},
     "output_type": "display_data"
    },
    {
     "data": {
      "text/html": [
       "<div style=\"display: flex;flex-flow: row nowrap;justify-content: flex-start;align-items: center;align-content: flex-start;\"><div style=\"padding: 0.5rem;\"><div style=\"display: flex;flex-flow: row nowrap;justify-content: space-between;align-items: center;align-content: space-between;\"><div><a target=\"_blank\" href=\"https://cdli.ucla.edu/tools/SignLists/protocuneiform/archsigns/|3(N57).GAR|.jpg\" title=\"to higher resolution lineart on CDLI\"><img src=\"cdli-imagery/lineart-q3(n57)(d)garq.jpg\" style=\"display: inline;max-width: 5em; max-height: 5em;\"  /></a></div><div><a target=\"_blank\" href=\"https://cdli.ucla.edu/tools/SignLists/protocuneiform/archsigns.html\" title=\"to CDLI main page for this item\">|3(N57).GAR|</a></div></div></div></div>"
      ],
      "text/plain": [
       "<IPython.core.display.HTML object>"
      ]
     },
     "metadata": {},
     "output_type": "display_data"
    },
    {
     "data": {
      "text/html": [
       "<div style=\"display: flex;flex-flow: row nowrap;justify-content: flex-start;align-items: center;align-content: flex-start;\"><div style=\"padding: 0.5rem;\"><div style=\"display: flex;flex-flow: row nowrap;justify-content: space-between;align-items: center;align-content: space-between;\"><div><a target=\"_blank\" href=\"https://cdli.ucla.edu/tools/SignLists/protocuneiform/archsigns/|SILA3~a+GARA2~a|.jpg\" title=\"to higher resolution lineart on CDLI\"><span><b>no lineart</b> for ideograph <code>|SILA3~a+GARA2~a|</code></span></a></div><div><a target=\"_blank\" href=\"https://cdli.ucla.edu/tools/SignLists/protocuneiform/archsigns.html\" title=\"to CDLI main page for this item\">|SILA3~a+GARA2~a|</a></div></div></div></div>"
      ],
      "text/plain": [
       "<IPython.core.display.HTML object>"
      ]
     },
     "metadata": {},
     "output_type": "display_data"
    },
    {
     "data": {
      "text/html": [
       "<div style=\"display: flex;flex-flow: row nowrap;justify-content: flex-start;align-items: center;align-content: flex-start;\"><div style=\"padding: 0.5rem;\"><div style=\"display: flex;flex-flow: row nowrap;justify-content: space-between;align-items: center;align-content: space-between;\"><div><a target=\"_blank\" href=\"https://cdli.ucla.edu/tools/SignLists/protocuneiform/archsigns/|7(N57).GAR|.jpg\" title=\"to higher resolution lineart on CDLI\"><span><b>no lineart</b> for ideograph <code>|7(N57).GAR|</code></span></a></div><div><a target=\"_blank\" href=\"https://cdli.ucla.edu/tools/SignLists/protocuneiform/archsigns.html\" title=\"to CDLI main page for this item\">|7(N57).GAR|</a></div></div></div></div>"
      ],
      "text/plain": [
       "<IPython.core.display.HTML object>"
      ]
     },
     "metadata": {},
     "output_type": "display_data"
    },
    {
     "data": {
      "text/html": [
       "<div style=\"display: flex;flex-flow: row nowrap;justify-content: flex-start;align-items: center;align-content: flex-start;\"><div style=\"padding: 0.5rem;\"><div style=\"display: flex;flex-flow: row nowrap;justify-content: space-between;align-items: center;align-content: space-between;\"><div><a target=\"_blank\" href=\"https://cdli.ucla.edu/tools/SignLists/protocuneiform/archsigns/|GAN~cx(4(N57).GAR)|.jpg\" title=\"to higher resolution lineart on CDLI\"><span><b>no lineart</b> for ideograph <code>|GAN~cx(4(N57).GAR)|</code></span></a></div><div><a target=\"_blank\" href=\"https://cdli.ucla.edu/tools/SignLists/protocuneiform/archsigns.html\" title=\"to CDLI main page for this item\">|GAN~cx(4(N57).GAR)|</a></div></div></div></div>"
      ],
      "text/plain": [
       "<IPython.core.display.HTML object>"
      ]
     },
     "metadata": {},
     "output_type": "display_data"
    },
    {
     "data": {
      "text/html": [
       "<div style=\"display: flex;flex-flow: row nowrap;justify-content: flex-start;align-items: center;align-content: flex-start;\"><div style=\"padding: 0.5rem;\"><div style=\"display: flex;flex-flow: row nowrap;justify-content: space-between;align-items: center;align-content: space-between;\"><div><a target=\"_blank\" href=\"https://cdli.ucla.edu/tools/SignLists/protocuneiform/archsigns/|6(N57).GAR|.jpg\" title=\"to higher resolution lineart on CDLI\"><img src=\"cdli-imagery/lineart-q6(n57)(d)garq.jpg\" style=\"display: inline;max-width: 5em; max-height: 5em;\"  /></a></div><div><a target=\"_blank\" href=\"https://cdli.ucla.edu/tools/SignLists/protocuneiform/archsigns.html\" title=\"to CDLI main page for this item\">|6(N57).GAR|</a></div></div></div></div>"
      ],
      "text/plain": [
       "<IPython.core.display.HTML object>"
      ]
     },
     "metadata": {},
     "output_type": "display_data"
    },
    {
     "data": {
      "text/html": [
       "<div style=\"display: flex;flex-flow: row nowrap;justify-content: flex-start;align-items: center;align-content: flex-start;\"><div style=\"padding: 0.5rem;\"><div style=\"display: flex;flex-flow: row nowrap;justify-content: space-between;align-items: center;align-content: space-between;\"><div><a target=\"_blank\" href=\"https://cdli.ucla.edu/tools/SignLists/protocuneiform/archsigns/|SZE~a.GAR|.jpg\" title=\"to higher resolution lineart on CDLI\"><span><b>no lineart</b> for ideograph <code>|SZE~a.GAR|</code></span></a></div><div><a target=\"_blank\" href=\"https://cdli.ucla.edu/tools/SignLists/protocuneiform/archsigns.html\" title=\"to CDLI main page for this item\">|SZE~a.GAR|</a></div></div></div></div>"
      ],
      "text/plain": [
       "<IPython.core.display.HTML object>"
      ]
     },
     "metadata": {},
     "output_type": "display_data"
    },
    {
     "data": {
      "text/html": [
       "<div style=\"display: flex;flex-flow: row nowrap;justify-content: flex-start;align-items: center;align-content: flex-start;\"><div style=\"padding: 0.5rem;\"><div style=\"display: flex;flex-flow: row nowrap;justify-content: space-between;align-items: center;align-content: space-between;\"><div><a target=\"_blank\" href=\"https://cdli.ucla.edu/tools/SignLists/protocuneiform/archsigns/GAR~b.jpg\" title=\"to higher resolution lineart on CDLI\"><span><b>no lineart</b> for ideograph <code>GAR~b</code></span></a></div><div><a target=\"_blank\" href=\"https://cdli.ucla.edu/tools/SignLists/protocuneiform/archsigns.html\" title=\"to CDLI main page for this item\">GAR~b</a></div></div></div></div>"
      ],
      "text/plain": [
       "<IPython.core.display.HTML object>"
      ]
     },
     "metadata": {},
     "output_type": "display_data"
    },
    {
     "data": {
      "text/html": [
       "<div style=\"display: flex;flex-flow: row nowrap;justify-content: flex-start;align-items: center;align-content: flex-start;\"><div style=\"padding: 0.5rem;\"><div style=\"display: flex;flex-flow: row nowrap;justify-content: space-between;align-items: center;align-content: space-between;\"><div><a target=\"_blank\" href=\"https://cdli.ucla.edu/tools/SignLists/protocuneiform/archsigns/LAGAR~c.jpg\" title=\"to higher resolution lineart on CDLI\"><img src=\"cdli-imagery/lineart-lagar-c.jpg\" style=\"display: inline;max-width: 5em; max-height: 5em;\"  /></a></div><div><a target=\"_blank\" href=\"https://cdli.ucla.edu/tools/SignLists/protocuneiform/archsigns.html\" title=\"to CDLI main page for this item\">LAGAR~c</a></div></div></div></div>"
      ],
      "text/plain": [
       "<IPython.core.display.HTML object>"
      ]
     },
     "metadata": {},
     "output_type": "display_data"
    },
    {
     "data": {
      "text/html": [
       "<div style=\"display: flex;flex-flow: row nowrap;justify-content: flex-start;align-items: center;align-content: flex-start;\"><div style=\"padding: 0.5rem;\"><div style=\"display: flex;flex-flow: row nowrap;justify-content: space-between;align-items: center;align-content: space-between;\"><div><a target=\"_blank\" href=\"https://cdli.ucla.edu/tools/SignLists/protocuneiform/archsigns/LAGAR~b1.jpg\" title=\"to higher resolution lineart on CDLI\"><img src=\"cdli-imagery/lineart-lagar-b1.jpg\" style=\"display: inline;max-width: 5em; max-height: 5em;\"  /></a></div><div><a target=\"_blank\" href=\"https://cdli.ucla.edu/tools/SignLists/protocuneiform/archsigns.html\" title=\"to CDLI main page for this item\">LAGAR~b1</a></div></div></div></div>"
      ],
      "text/plain": [
       "<IPython.core.display.HTML object>"
      ]
     },
     "metadata": {},
     "output_type": "display_data"
    },
    {
     "data": {
      "text/html": [
       "<div style=\"display: flex;flex-flow: row nowrap;justify-content: flex-start;align-items: center;align-content: flex-start;\"><div style=\"padding: 0.5rem;\"><div style=\"display: flex;flex-flow: row nowrap;justify-content: space-between;align-items: center;align-content: space-between;\"><div><a target=\"_blank\" href=\"https://cdli.ucla.edu/tools/SignLists/protocuneiform/archsigns/GARA2~b.jpg\" title=\"to higher resolution lineart on CDLI\"><img src=\"cdli-imagery/lineart-gara2-b.jpg\" style=\"display: inline;max-width: 5em; max-height: 5em;\"  /></a></div><div><a target=\"_blank\" href=\"https://cdli.ucla.edu/tools/SignLists/protocuneiform/archsigns.html\" title=\"to CDLI main page for this item\">GARA2~b</a></div></div></div></div>"
      ],
      "text/plain": [
       "<IPython.core.display.HTML object>"
      ]
     },
     "metadata": {},
     "output_type": "display_data"
    },
    {
     "data": {
      "text/html": [
       "<div style=\"display: flex;flex-flow: row nowrap;justify-content: flex-start;align-items: center;align-content: flex-start;\"><div style=\"padding: 0.5rem;\"><div style=\"display: flex;flex-flow: row nowrap;justify-content: space-between;align-items: center;align-content: space-between;\"><div><a target=\"_blank\" href=\"https://cdli.ucla.edu/tools/SignLists/protocuneiform/archsigns/|GI4~a&GI4~a|.jpg\" title=\"to higher resolution lineart on CDLI\"><img src=\"cdli-imagery/lineart-qgi4-a(e)gi4-aq.jpg\" style=\"display: inline;max-width: 5em; max-height: 5em;\"  /></a></div><div><a target=\"_blank\" href=\"https://cdli.ucla.edu/tools/SignLists/protocuneiform/archsigns.html\" title=\"to CDLI main page for this item\">|GI4~a&GI4~a|</a></div></div></div></div>"
      ],
      "text/plain": [
       "<IPython.core.display.HTML object>"
      ]
     },
     "metadata": {},
     "output_type": "display_data"
    },
    {
     "data": {
      "text/html": [
       "<div style=\"display: flex;flex-flow: row nowrap;justify-content: flex-start;align-items: center;align-content: flex-start;\"><div style=\"padding: 0.5rem;\"><div style=\"display: flex;flex-flow: row nowrap;justify-content: space-between;align-items: center;align-content: space-between;\"><div><a target=\"_blank\" href=\"https://cdli.ucla.edu/tools/SignLists/protocuneiform/archsigns/|N(N57).GAR|.jpg\" title=\"to higher resolution lineart on CDLI\"><span><b>no lineart</b> for ideograph <code>|N(N57).GAR|</code></span></a></div><div><a target=\"_blank\" href=\"https://cdli.ucla.edu/tools/SignLists/protocuneiform/archsigns.html\" title=\"to CDLI main page for this item\">|N(N57).GAR|</a></div></div></div></div>"
      ],
      "text/plain": [
       "<IPython.core.display.HTML object>"
      ]
     },
     "metadata": {},
     "output_type": "display_data"
    },
    {
     "data": {
      "text/html": [
       "<div style=\"display: flex;flex-flow: row nowrap;justify-content: flex-start;align-items: center;align-content: flex-start;\"><div style=\"padding: 0.5rem;\"><div style=\"display: flex;flex-flow: row nowrap;justify-content: space-between;align-items: center;align-content: space-between;\"><div><a target=\"_blank\" href=\"https://cdli.ucla.edu/tools/SignLists/protocuneiform/archsigns/|GI4~axA|.jpg\" title=\"to higher resolution lineart on CDLI\"><img src=\"cdli-imagery/lineart-qgi4-axaq.jpg\" style=\"display: inline;max-width: 5em; max-height: 5em;\"  /></a></div><div><a target=\"_blank\" href=\"https://cdli.ucla.edu/tools/SignLists/protocuneiform/archsigns.html\" title=\"to CDLI main page for this item\">|GI4~axA|</a></div></div></div></div>"
      ],
      "text/plain": [
       "<IPython.core.display.HTML object>"
      ]
     },
     "metadata": {},
     "output_type": "display_data"
    },
    {
     "data": {
      "text/html": [
       "<div style=\"display: flex;flex-flow: row nowrap;justify-content: flex-start;align-items: center;align-content: flex-start;\"><div style=\"padding: 0.5rem;\"><div style=\"display: flex;flex-flow: row nowrap;justify-content: space-between;align-items: center;align-content: space-between;\"><div><a target=\"_blank\" href=\"https://cdli.ucla.edu/tools/SignLists/protocuneiform/archsigns/GAR3.jpg\" title=\"to higher resolution lineart on CDLI\"><img src=\"cdli-imagery/lineart-gar3.jpg\" style=\"display: inline;max-width: 5em; max-height: 5em;\"  /></a></div><div><a target=\"_blank\" href=\"https://cdli.ucla.edu/tools/SignLists/protocuneiform/archsigns.html\" title=\"to CDLI main page for this item\">GAR3</a></div></div></div></div>"
      ],
      "text/plain": [
       "<IPython.core.display.HTML object>"
      ]
     },
     "metadata": {},
     "output_type": "display_data"
    },
    {
     "data": {
      "text/html": [
       "<div style=\"display: flex;flex-flow: row nowrap;justify-content: flex-start;align-items: center;align-content: flex-start;\"><div style=\"padding: 0.5rem;\"><div style=\"display: flex;flex-flow: row nowrap;justify-content: space-between;align-items: center;align-content: space-between;\"><div><a target=\"_blank\" href=\"https://cdli.ucla.edu/tools/SignLists/protocuneiform/archsigns/GAR@g~a.jpg\" title=\"to higher resolution lineart on CDLI\"><img src=\"cdli-imagery/lineart-gar(a)g-a.jpg\" style=\"display: inline;max-width: 5em; max-height: 5em;\"  /></a></div><div><a target=\"_blank\" href=\"https://cdli.ucla.edu/tools/SignLists/protocuneiform/archsigns.html\" title=\"to CDLI main page for this item\">GAR@g~a</a></div></div></div></div>"
      ],
      "text/plain": [
       "<IPython.core.display.HTML object>"
      ]
     },
     "metadata": {},
     "output_type": "display_data"
    },
    {
     "data": {
      "text/html": [
       "<div style=\"display: flex;flex-flow: row nowrap;justify-content: flex-start;align-items: center;align-content: flex-start;\"><div style=\"padding: 0.5rem;\"><div style=\"display: flex;flex-flow: row nowrap;justify-content: space-between;align-items: center;align-content: space-between;\"><div><a target=\"_blank\" href=\"https://cdli.ucla.edu/tools/SignLists/protocuneiform/archsigns/LAGAR~b2.jpg\" title=\"to higher resolution lineart on CDLI\"><img src=\"cdli-imagery/lineart-lagar-b2.jpg\" style=\"display: inline;max-width: 5em; max-height: 5em;\"  /></a></div><div><a target=\"_blank\" href=\"https://cdli.ucla.edu/tools/SignLists/protocuneiform/archsigns.html\" title=\"to CDLI main page for this item\">LAGAR~b2</a></div></div></div></div>"
      ],
      "text/plain": [
       "<IPython.core.display.HTML object>"
      ]
     },
     "metadata": {},
     "output_type": "display_data"
    }
   ],
   "source": [
    "for sAtf in selectedAtfs:\n",
    "    A.lineart(sAtf, width='5em', height='5em', withCaption='right')"
   ]
  },
  {
   "cell_type": "markdown",
   "metadata": {
    "collapsed": true
   },
   "source": [
    "Besides our three targets, 34 occurrences of GI4~a, 401 of GAR and 26 of |GISZ.TE|:\n",
    "\n",
    "    34 x GI4~a\n",
    "    401 x GAR\n",
    "    26 x |GISZ.TE|\n",
    "\n",
    "it has also pulled in a number of quads that include either GAR or GI4~a, among others:\n",
    "\n",
    "    20 x |ZATU651xGAR|\n",
    "    3 x |NINDA2xGAR|\n",
    "    6 x |4(N57).GAR|\n",
    " \n",
    "    1 x |GI4~a&GI4~a|\n",
    "    1 x |GI4~axA|\n",
    "\n",
    "There are also other signs tas well as signs that only resemble GAR in transliteration such as LAGAR or GARA2, but as long as we know what we are looking for this type of broader frequency count can be quite useful."
   ]
  },
  {
   "cell_type": "markdown",
   "metadata": {
    "collapsed": true
   },
   "source": [
    "## Generating a list of sign frequency and saving it as a separate file\n",
    "\n",
    "First, we are going to count the number of distinct signs in the corpus, look at the top hits in the list and finally save the full list to a separate file. Then we will do the same for the quads, and then lastly we are going to combine these two lists and save them as a single frequency list for both signs and quads."
   ]
  },
  {
   "cell_type": "code",
   "execution_count": 29,
   "metadata": {
    "ExecuteTime": {
     "end_time": "2018-05-01T14:57:32.347702Z",
     "start_time": "2018-05-01T14:57:31.645607Z"
    }
   },
   "outputs": [
    {
     "data": {
      "text/plain": [
       "1477"
      ]
     },
     "execution_count": 29,
     "metadata": {},
     "output_type": "execute_result"
    }
   ],
   "source": [
    "fullGraphemes = collections.Counter()\n",
    "\n",
    "for n in F.otype.s('sign'):\n",
    "    grapheme = F.grapheme.v(n)\n",
    "    if grapheme == '' or grapheme == '…':\n",
    "        continue\n",
    "    fullGrapheme = A.atfFromSign(n)\n",
    "    fullGraphemes[fullGrapheme] += 1\n",
    "    \n",
    "len(fullGraphemes)"
   ]
  },
  {
   "cell_type": "markdown",
   "metadata": {},
   "source": [
    "So there are 1477 distinct proto-cuneiform signs in the corpus. The following snippet of code will show us the first 20 signs on that list."
   ]
  },
  {
   "cell_type": "code",
   "execution_count": 30,
   "metadata": {
    "ExecuteTime": {
     "end_time": "2018-05-01T14:57:33.828873Z",
     "start_time": "2018-05-01T14:57:33.816055Z"
    }
   },
   "outputs": [
    {
     "name": "stdout",
     "output_type": "stream",
     "text": [
      "12983 x 1(N01)\n",
      " 6870 x X\n",
      " 3080 x 2(N01)\n",
      " 2584 x 1(N14)\n",
      " 1830 x EN~a\n",
      " 1598 x 3(N01)\n",
      " 1357 x 2(N14)\n",
      " 1294 x 5(N01)\n",
      " 1294 x SZE~a\n",
      " 1164 x GAL~a\n",
      " 1117 x 4(N01)\n",
      " 1022 x U4\n",
      " 1020 x AN\n",
      "  999 x 1(N34)\n",
      "  876 x SAL\n",
      "  851 x PAP~a\n",
      "  849 x GI\n",
      "  791 x 3(N14)\n",
      "  789 x 1(N57)\n",
      "  781 x BA\n"
     ]
    }
   ],
   "source": [
    "for (value, frequency) in sorted(\n",
    "    fullGraphemes.items(), \n",
    "    key=lambda x: (-x[1], x[0]),\n",
    ")[0:20]:\n",
    "    print(f'{frequency:>5} x {value}')"
   ]
  },
  {
   "cell_type": "markdown",
   "metadata": {},
   "source": [
    "Now we are going to write the full set of sign frequency results to two files in your `_temp` directory, within this repo. The two files are called:\n",
    "\n",
    "* `grapheme-alpha.txt`, an alphabetic list of graphemes, along with the frequency of each sign, and\n",
    "* `grapheme-freq.txt`, which runs from the most frequent to the least."
   ]
  },
  {
   "cell_type": "code",
   "execution_count": 31,
   "metadata": {
    "ExecuteTime": {
     "end_time": "2018-05-01T14:57:37.602202Z",
     "start_time": "2018-05-01T14:57:37.593378Z"
    }
   },
   "outputs": [],
   "source": [
    "def writeFreqs(fileName, data, dataName):\n",
    "    print(f'There are {len(data)} {dataName}s')\n",
    "\n",
    "    for (sortName, sortKey) in (\n",
    "        ('alpha', lambda x: (x[0], -x[1])),\n",
    "        ('freq', lambda x: (-x[1], x[0])),\n",
    "    ):\n",
    "        with open(f'{A.tempDir}/{fileName}-{sortName}.txt', 'w') as fh:\n",
    "            for (item, freq) in sorted(data, key=sortKey):\n",
    "                if item != '':\n",
    "                    fh.write(f'{freq:>5} x {item}\\n')"
   ]
  },
  {
   "cell_type": "markdown",
   "metadata": {
    "collapsed": true
   },
   "source": [
    "Now let's go through some of the same steps for quads rather than individual signs, and then export a single frequency list for both signs and quads."
   ]
  },
  {
   "cell_type": "code",
   "execution_count": 32,
   "metadata": {
    "ExecuteTime": {
     "end_time": "2018-05-01T14:57:41.176129Z",
     "start_time": "2018-05-01T14:57:41.044148Z"
    }
   },
   "outputs": [
    {
     "name": "stdout",
     "output_type": "stream",
     "text": [
      "740\n"
     ]
    }
   ],
   "source": [
    "quadFreqs = collections.Counter()\n",
    "for q in F.otype.s('quad'):\n",
    "    quadFreqs[A.atfFromQuad(q)] += 1\n",
    "print(len(quadFreqs))"
   ]
  },
  {
   "cell_type": "markdown",
   "metadata": {},
   "source": [
    "So there are 740 quads in the corpus, and now we ask for the twenty most frequently attested quads."
   ]
  },
  {
   "cell_type": "code",
   "execution_count": 33,
   "metadata": {
    "ExecuteTime": {
     "end_time": "2018-05-01T14:57:42.876576Z",
     "start_time": "2018-05-01T14:57:42.863437Z"
    }
   },
   "outputs": [
    {
     "name": "stdout",
     "output_type": "stream",
     "text": [
      "  159 x |U4x1(N57)|\n",
      "  128 x |DUG~bxX|\n",
      "  112 x |SZE~a.NAM2|\n",
      "   86 x |GI&GI|\n",
      "   85 x |GA~a.ZATU753|\n",
      "   84 x |1(N58).BAD~a|\n",
      "   78 x |NI~a.RU|\n",
      "   68 x |DUG~cx1(N57)|\n",
      "   57 x |U4x2(N57)|\n",
      "   52 x |BU~a+DU6~a|\n",
      "   50 x |SAL.KUR~a|\n",
      "   43 x |U4.1(N08)|\n",
      "   43 x |U4x3(N57)|\n",
      "   42 x |BAD&BAD|\n",
      "   42 x |GISZxSZU2~a|\n",
      "   39 x |1(N57).SZUBUR|\n",
      "   38 x |E2~ax1(N57)@t|\n",
      "   37 x |SZU2.EN~a|\n",
      "   36 x |U4x1(N01)|\n",
      "   35 x |3(N57).PIRIG~b1|\n"
     ]
    }
   ],
   "source": [
    "for (value, frequency) in sorted(\n",
    "    quadFreqs.items(), \n",
    "    key=lambda x: (-x[1], x[0]),\n",
    ")[0:20]:\n",
    "    print(f'{frequency:>5} x {value}')"
   ]
  },
  {
   "cell_type": "markdown",
   "metadata": {},
   "source": [
    "And for the final task in this primer, we ask Text-Fabric to export a frequency list of both signs and quads in a separate file."
   ]
  },
  {
   "cell_type": "code",
   "execution_count": 34,
   "metadata": {
    "ExecuteTime": {
     "end_time": "2018-05-01T14:57:45.485700Z",
     "start_time": "2018-05-01T14:57:45.479217Z"
    }
   },
   "outputs": [],
   "source": [
    "reportDir = 'reports'\n",
    "os.makedirs(reportDir, exist_ok=True)"
   ]
  },
  {
   "cell_type": "code",
   "execution_count": 35,
   "metadata": {
    "ExecuteTime": {
     "end_time": "2018-05-01T14:57:46.134288Z",
     "start_time": "2018-05-01T14:57:46.124496Z"
    }
   },
   "outputs": [],
   "source": [
    "def writeFreqs(fileName, data, dataName):\n",
    "    print(f'There are {len(data)} {dataName}s')\n",
    "\n",
    "    for (sortName, sortKey) in (\n",
    "        ('alpha', lambda x: (x[0], -x[1])),\n",
    "        ('freq', lambda x: (-x[1], x[0])),\n",
    "    ):\n",
    "        with open(f'{reportDir}/{fileName}-{sortName}.txt', 'w') as fh:\n",
    "            for (item, freq) in sorted(data.items(), key=sortKey):\n",
    "                if item != '':\n",
    "                    fh.write(f'{freq:>5} x {item}\\n')"
   ]
  },
  {
   "cell_type": "markdown",
   "metadata": {},
   "source": [
    "This shows up as a pair of files named \"quad-signs-alpha.txt\" and \"quad-signs-freq.txt\" and if we copy a few pieces of the quad-signs-freq.txt file here, they look something like this:\n",
    "\n",
    "    29413 x ...\n",
    "    12983 x 1(N01)\n",
    "    6870 x X\n",
    "    3080 x 2(N01)\n",
    "    2584 x 1(N14)\n",
    "    1830 x EN~a\n",
    "    1598 x 3(N01)\n",
    "    1357 x 2(N14)\n",
    "    1294 x 5(N01)\n",
    "    1294 x SZE~a\n",
    "    1164 x GAL~a\n",
    "\n",
    "Only much farther down the list do we see signs and quads interspersed; here are the signs/quads around 88 occurrences:\n",
    "\n",
    "    88 x NIMGIR\n",
    "    88 x NIM~a\n",
    "    88 x SUG5\n",
    "    86 x EN~b\n",
    "    86 x NAMESZDA\n",
    "    86 x |GI&GI|\n",
    "    85 x GU\n",
    "    85 x |GA~a.ZATU753|\n",
    "    84 x BAD~a\n",
    "    84 x NA2~a\n",
    "    84 x ZATU651\n",
    "    84 x |1(N58).BAD~a|\n",
    "    83 x ZATU759"
   ]
  },
  {
   "cell_type": "code",
   "execution_count": null,
   "metadata": {},
   "outputs": [],
   "source": []
  }
 ],
 "metadata": {
  "kernelspec": {
   "display_name": "Python 3",
   "language": "python",
   "name": "python3"
  },
  "language_info": {
   "codemirror_mode": {
    "name": "ipython",
    "version": 3
   },
   "file_extension": ".py",
   "mimetype": "text/x-python",
   "name": "python",
   "nbconvert_exporter": "python",
   "pygments_lexer": "ipython3",
   "version": "3.6.4"
  },
  "toc": {
   "nav_menu": {},
   "number_sections": true,
   "sideBar": true,
   "skip_h1_title": true,
   "toc_cell": true,
   "toc_position": {
    "height": "857px",
    "left": "0px",
    "right": "1251px",
    "top": "110px",
    "width": "214px"
   },
   "toc_section_display": "block",
   "toc_window_display": false
  }
 },
 "nbformat": 4,
 "nbformat_minor": 2
}
