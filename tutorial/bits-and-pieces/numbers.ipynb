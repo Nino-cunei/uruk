{
 "cells": [
  {
   "cell_type": "markdown",
   "metadata": {
    "toc": true
   },
   "source": [
    "<h1>Table of Contents<span class=\"tocSkip\"></span></h1>\n",
    "<div class=\"toc\" style=\"margin-top: 1em;\"><ul class=\"toc-item\"><li><span><a href=\"#Start-up\" data-toc-modified-id=\"Start-up-1\"><span class=\"toc-item-num\">1&nbsp;&nbsp;</span>Start up</a></span><ul class=\"toc-item\"><li><span><a data-toc-modified-id=\"obverse-1.1\"><span class=\"toc-item-num\">1.1&nbsp;&nbsp;</span>obverse</a></span></li><li><span><a data-toc-modified-id=\"reverse-1.2\"><span class=\"toc-item-num\">1.2&nbsp;&nbsp;</span>reverse</a></span></li><li><span><a data-toc-modified-id=\"obverse-1.3\"><span class=\"toc-item-num\">1.3&nbsp;&nbsp;</span>obverse</a></span></li><li><span><a data-toc-modified-id=\"reverse-1.4\"><span class=\"toc-item-num\">1.4&nbsp;&nbsp;</span>reverse</a></span></li><li><span><a data-toc-modified-id=\"obverse-1.5\"><span class=\"toc-item-num\">1.5&nbsp;&nbsp;</span>obverse</a></span></li><li><span><a data-toc-modified-id=\"reverse-1.6\"><span class=\"toc-item-num\">1.6&nbsp;&nbsp;</span>reverse</a></span></li></ul></li></ul></div>"
   ]
  },
  {
   "cell_type": "markdown",
   "metadata": {},
   "source": [
    "<img src=\"images/ninologo.png\" align=\"right\" width=\"100\"/>\n",
    "<img src=\"images/tf.png\" align=\"right\" width=\"100\"/>\n",
    "\n",
    "\n",
    "# Numbers"
   ]
  },
  {
   "cell_type": "markdown",
   "metadata": {},
   "source": [
    "## Start up\n",
    "\n",
    "We import the Python modules we need."
   ]
  },
  {
   "cell_type": "code",
   "execution_count": 1,
   "metadata": {},
   "outputs": [],
   "source": [
    "%load_ext autoreload\n",
    "%autoreload 2"
   ]
  },
  {
   "cell_type": "code",
   "execution_count": 2,
   "metadata": {
    "ExecuteTime": {
     "end_time": "2018-04-14T09:59:20.899571Z",
     "start_time": "2018-04-14T09:59:20.879725Z"
    }
   },
   "outputs": [],
   "source": [
    "import os, sys, collections\n",
    "from IPython.display import display, Markdown\n",
    "\n",
    "from tf.extra.cunei import Cunei"
   ]
  },
  {
   "cell_type": "code",
   "execution_count": 3,
   "metadata": {
    "ExecuteTime": {
     "end_time": "2018-04-14T09:59:22.565907Z",
     "start_time": "2018-04-14T09:59:21.510775Z"
    }
   },
   "outputs": [
    {
     "name": "stdout",
     "output_type": "stream",
     "text": [
      "Found 2095 ideograph linearts\n",
      "Found 2724 tablet linearts\n",
      "Found 5495 tablet photos\n"
     ]
    },
    {
     "data": {
      "text/markdown": [
       "**Documentation:** <a target=\"_blank\" href=\"https://github.com/Nino-cunei/uruk/blob/master/docs/about.md\" title=\"provenance of this corpus\">Uruk IV-III (v1.0)</a> <a target=\"_blank\" href=\"https://github.com/Nino-cunei/uruk/blob/master/docs/transcription.md\" title=\"feature documentation\">Feature docs</a> <a target=\"_blank\" href=\"https://github.com/Dans-labs/text-fabric/wiki/Cunei\" title=\"cunei api documentation\">Cunei API</a> <a target=\"_blank\" href=\"https://github.com/Dans-labs/text-fabric/wiki/api\" title=\"text-fabric-api\">Text-Fabric API</a>"
      ],
      "text/plain": [
       "<IPython.core.display.Markdown object>"
      ]
     },
     "metadata": {},
     "output_type": "display_data"
    },
    {
     "data": {
      "text/markdown": [
       "\n",
       "This notebook online:\n",
       "<a target=\"_blank\" href=\"http://nbviewer.jupyter.org/github/Nino-cunei/tutorials/blob/master/bits-and-pieces/numbers.ipynb\">NBViewer</a>\n",
       "<a target=\"_blank\" href=\"https://github.com/Nino-cunei/tutorials/blob/master/bits-and-pieces/numbers.ipynb\">GitHub</a>\n"
      ],
      "text/plain": [
       "<IPython.core.display.Markdown object>"
      ]
     },
     "metadata": {},
     "output_type": "display_data"
    }
   ],
   "source": [
    "LOC = ('~/github', 'Nino-cunei/uruk', 'numbers')\n",
    "A = Cunei(*LOC)\n",
    "A.api.makeAvailableIn(globals())"
   ]
  },
  {
   "cell_type": "code",
   "execution_count": 4,
   "metadata": {
    "ExecuteTime": {
     "end_time": "2018-03-05T11:57:18.372281Z",
     "start_time": "2018-03-05T11:57:18.349565Z"
    }
   },
   "outputs": [],
   "source": [
    "def dm(markdown): display(Markdown(markdown))"
   ]
  },
  {
   "cell_type": "markdown",
   "metadata": {},
   "source": [
    "# Using Text-Fabric Search\n",
    "\n",
    "Text-Fabric has a [search](https://github.com/Dans-labs/text-fabric/wiki/Api#search) facility, by which you can avoid a lot of programming. Let's get all the shinPP numerals on a reverse face."
   ]
  },
  {
   "cell_type": "code",
   "execution_count": 5,
   "metadata": {},
   "outputs": [],
   "source": [
    "pNums = '''\n",
    "    P005381\n",
    "    P005447\n",
    "    P005448\n",
    "'''.strip().split()\n",
    "\n",
    "pNumPat = '|'.join(pNums)"
   ]
  },
  {
   "cell_type": "code",
   "execution_count": 6,
   "metadata": {
    "ExecuteTime": {
     "end_time": "2018-03-08T11:46:29.097865Z",
     "start_time": "2018-03-08T11:46:29.091512Z"
    }
   },
   "outputs": [],
   "source": [
    "shinPP = dict(\n",
    "    N41=0.2,\n",
    "    N04=1,\n",
    "    N19=6,\n",
    "    N46=60,\n",
    "    N36=180,\n",
    "    N49=1800,\n",
    ")\n",
    "\n",
    "shinPPPat = '|'.join(shinPP)"
   ]
  },
  {
   "cell_type": "markdown",
   "metadata": {},
   "source": [
    "We query for shinPP numerals on the faces of selected tablets.\n",
    "The result of the query is a list of tuples `(t, f, s)` consisting of\n",
    "a tablet node, a face node and a sign node, which is a shinPP numeral."
   ]
  },
  {
   "cell_type": "code",
   "execution_count": 7,
   "metadata": {},
   "outputs": [],
   "source": [
    "query = f'''\n",
    "tablet catalogId={pNumPat}\n",
    "    face\n",
    "        sign type=numeral grapheme={shinPPPat}\n",
    "'''"
   ]
  },
  {
   "cell_type": "code",
   "execution_count": 8,
   "metadata": {},
   "outputs": [
    {
     "data": {
      "text/plain": [
       "20"
      ]
     },
     "execution_count": 8,
     "metadata": {},
     "output_type": "execute_result"
    }
   ],
   "source": [
    "results = list(S.search(query))\n",
    "len(results)"
   ]
  },
  {
   "cell_type": "markdown",
   "metadata": {},
   "source": [
    "We have found 20 numerals.\n",
    "We group the results by tablet and by face."
   ]
  },
  {
   "cell_type": "code",
   "execution_count": 9,
   "metadata": {},
   "outputs": [],
   "source": [
    "numerals = {}\n",
    "for (tablet, face, sign) in results:\n",
    "    numerals.setdefault(tablet, {}).setdefault(face, []).append(sign)"
   ]
  },
  {
   "cell_type": "markdown",
   "metadata": {},
   "source": [
    "We show the tablets, the shinPP numerals per face, and we add up the numerals per face."
   ]
  },
  {
   "cell_type": "code",
   "execution_count": 10,
   "metadata": {},
   "outputs": [
    {
     "data": {
      "text/markdown": [
       "---\n"
      ],
      "text/plain": [
       "<IPython.core.display.Markdown object>"
      ]
     },
     "metadata": {},
     "output_type": "display_data"
    },
    {
     "data": {
      "text/html": [
       "        <div style=\"display: flex;flex-flow: row nowrap;justify-content: flex-start;align-items: center;align-content: flex-start;\">            <div style=\"padding: 0.5rem;\">                <div style=\"display: flex;flex-flow: column-reverse nowrap;justify-content: space-between;align-items: center;align-content: space-between;\"><div><a target=\"_blank\" href=\"https://cdli.ucla.edu/dl/lineart/P005447_l.jpg\" title=\"to higher resolution lineart on CDLI\"><img src=\"cdli-imagery/node148227lineart.jpg\" style=\"display: inline;\" width=\"200\" /></a></div><div><a target=\"_blank\" href=\"https://cdli.ucla.edu/search/search_results.php?SearchMode=Text&ObjectID=P005447\" title=\"to CDLI main page\">P005447 on CDLI</a></div></div>            </div>        </div>        "
      ],
      "text/plain": [
       "<IPython.core.display.HTML object>"
      ]
     },
     "metadata": {},
     "output_type": "display_data"
    },
    {
     "data": {
      "text/markdown": [
       "### obverse"
      ],
      "text/plain": [
       "<IPython.core.display.Markdown object>"
      ]
     },
     "metadata": {},
     "output_type": "display_data"
    },
    {
     "data": {
      "text/html": [
       "        <div style=\"display: flex;flex-flow: row nowrap;justify-content: flex-start;align-items: center;align-content: flex-start;\">            <div style=\"padding: 0.5rem;\">                <div style=\"display: flex;flex-flow: column nowrap;justify-content: space-between;align-items: center;align-content: space-between;\"><div><a target=\"_blank\" href=\"https://cdli.ucla.edu/tools/SignLists/protocuneiform/archsigns/9(N19).jpg\" title=\"to higher resolution lineart on CDLI\"><img src=\"cdli-imagery/node9(N19)lineart.jpg\" style=\"display: inline;\"  /></a></div><div><a target=\"_blank\" href=\"https://cdli.ucla.edu/tools/SignLists/protocuneiform/archsigns.html\" title=\"to CDLI main page\">9(N19) on CDLI</a></div></div></div><div style=\"padding: 0.5rem;\"><div style=\"display: flex;flex-flow: column nowrap;justify-content: space-between;align-items: center;align-content: space-between;\"><div><a target=\"_blank\" href=\"https://cdli.ucla.edu/tools/SignLists/protocuneiform/archsigns/4(N04).jpg\" title=\"to higher resolution lineart on CDLI\"><img src=\"cdli-imagery/node4(N04)lineart.jpg\" style=\"display: inline;\"  /></a></div><div><a target=\"_blank\" href=\"https://cdli.ucla.edu/tools/SignLists/protocuneiform/archsigns.html\" title=\"to CDLI main page\">4(N04) on CDLI</a></div></div></div><div style=\"padding: 0.5rem;\"><div style=\"display: flex;flex-flow: column nowrap;justify-content: space-between;align-items: center;align-content: space-between;\"><div><a target=\"_blank\" href=\"https://cdli.ucla.edu/tools/SignLists/protocuneiform/archsigns/2(N19).jpg\" title=\"to higher resolution lineart on CDLI\"><img src=\"cdli-imagery/node2(N19)lineart.jpg\" style=\"display: inline;\"  /></a></div><div><a target=\"_blank\" href=\"https://cdli.ucla.edu/tools/SignLists/protocuneiform/archsigns.html\" title=\"to CDLI main page\">2(N19) on CDLI</a></div></div></div><div style=\"padding: 0.5rem;\"><div style=\"display: flex;flex-flow: column nowrap;justify-content: space-between;align-items: center;align-content: space-between;\"><div><a target=\"_blank\" href=\"https://cdli.ucla.edu/tools/SignLists/protocuneiform/archsigns/2(N04).jpg\" title=\"to higher resolution lineart on CDLI\"><img src=\"cdli-imagery/node2(N04)lineart.jpg\" style=\"display: inline;\"  /></a></div><div><a target=\"_blank\" href=\"https://cdli.ucla.edu/tools/SignLists/protocuneiform/archsigns.html\" title=\"to CDLI main page\">2(N04) on CDLI</a></div></div>            </div>        </div>        "
      ],
      "text/plain": [
       "<IPython.core.display.HTML object>"
      ]
     },
     "metadata": {},
     "output_type": "display_data"
    },
    {
     "name": "stdout",
     "output_type": "stream",
     "text": [
      "1 x 9(N19) = 1 x 9 x 6 = 54\n",
      "1 x 4(N04) = 1 x 4 x 1 = 4\n",
      "2 x 2(N19) = 2 x 2 x 6 = 24\n",
      "1 x 2(N04) = 1 x 2 x 1 = 2\n"
     ]
    },
    {
     "data": {
      "text/markdown": [
       "**total** = **84**"
      ],
      "text/plain": [
       "<IPython.core.display.Markdown object>"
      ]
     },
     "metadata": {},
     "output_type": "display_data"
    },
    {
     "data": {
      "text/markdown": [
       "### reverse"
      ],
      "text/plain": [
       "<IPython.core.display.Markdown object>"
      ]
     },
     "metadata": {},
     "output_type": "display_data"
    },
    {
     "data": {
      "text/html": [
       "        <div style=\"display: flex;flex-flow: row nowrap;justify-content: flex-start;align-items: center;align-content: flex-start;\">            <div style=\"padding: 0.5rem;\">                <div style=\"display: flex;flex-flow: column nowrap;justify-content: space-between;align-items: center;align-content: space-between;\"><div><a target=\"_blank\" href=\"https://cdli.ucla.edu/tools/SignLists/protocuneiform/archsigns/1(N46).jpg\" title=\"to higher resolution lineart on CDLI\"><img src=\"cdli-imagery/node1(N46)lineart.jpg\" style=\"display: inline;\"  /></a></div><div><a target=\"_blank\" href=\"https://cdli.ucla.edu/tools/SignLists/protocuneiform/archsigns.html\" title=\"to CDLI main page\">1(N46) on CDLI</a></div></div></div><div style=\"padding: 0.5rem;\"><div style=\"display: flex;flex-flow: column nowrap;justify-content: space-between;align-items: center;align-content: space-between;\"><div><a target=\"_blank\" href=\"https://cdli.ucla.edu/tools/SignLists/protocuneiform/archsigns/2(N19).jpg\" title=\"to higher resolution lineart on CDLI\"><img src=\"cdli-imagery/node2(N19)lineart.jpg\" style=\"display: inline;\"  /></a></div><div><a target=\"_blank\" href=\"https://cdli.ucla.edu/tools/SignLists/protocuneiform/archsigns.html\" title=\"to CDLI main page\">2(N19) on CDLI</a></div></div></div><div style=\"padding: 0.5rem;\"><div style=\"display: flex;flex-flow: column nowrap;justify-content: space-between;align-items: center;align-content: space-between;\"><div><a target=\"_blank\" href=\"https://cdli.ucla.edu/tools/SignLists/protocuneiform/archsigns/4(N19).jpg\" title=\"to higher resolution lineart on CDLI\"><img src=\"cdli-imagery/node4(N19)lineart.jpg\" style=\"display: inline;\"  /></a></div><div><a target=\"_blank\" href=\"https://cdli.ucla.edu/tools/SignLists/protocuneiform/archsigns.html\" title=\"to CDLI main page\">4(N19) on CDLI</a></div></div>            </div>        </div>        "
      ],
      "text/plain": [
       "<IPython.core.display.HTML object>"
      ]
     },
     "metadata": {},
     "output_type": "display_data"
    },
    {
     "name": "stdout",
     "output_type": "stream",
     "text": [
      "2 x 1(N46) = 2 x 1 x 60 = 120\n",
      "2 x 2(N19) = 2 x 2 x 6 = 24\n",
      "1 x 4(N19) = 1 x 4 x 6 = 24\n"
     ]
    },
    {
     "data": {
      "text/markdown": [
       "**total** = **168**"
      ],
      "text/plain": [
       "<IPython.core.display.Markdown object>"
      ]
     },
     "metadata": {},
     "output_type": "display_data"
    },
    {
     "data": {
      "text/markdown": [
       "---\n"
      ],
      "text/plain": [
       "<IPython.core.display.Markdown object>"
      ]
     },
     "metadata": {},
     "output_type": "display_data"
    },
    {
     "data": {
      "text/html": [
       "        <div style=\"display: flex;flex-flow: row nowrap;justify-content: flex-start;align-items: center;align-content: flex-start;\">            <div style=\"padding: 0.5rem;\">                <div style=\"display: flex;flex-flow: column-reverse nowrap;justify-content: space-between;align-items: center;align-content: space-between;\"><div><a target=\"_blank\" href=\"https://cdli.ucla.edu/dl/lineart/P005448_l.jpg\" title=\"to higher resolution lineart on CDLI\"><img src=\"cdli-imagery/node148228lineart.jpg\" style=\"display: inline;\" width=\"200\" /></a></div><div><a target=\"_blank\" href=\"https://cdli.ucla.edu/search/search_results.php?SearchMode=Text&ObjectID=P005448\" title=\"to CDLI main page\">P005448 on CDLI</a></div></div>            </div>        </div>        "
      ],
      "text/plain": [
       "<IPython.core.display.HTML object>"
      ]
     },
     "metadata": {},
     "output_type": "display_data"
    },
    {
     "data": {
      "text/markdown": [
       "### obverse"
      ],
      "text/plain": [
       "<IPython.core.display.Markdown object>"
      ]
     },
     "metadata": {},
     "output_type": "display_data"
    },
    {
     "data": {
      "text/html": [
       "        <div style=\"display: flex;flex-flow: row nowrap;justify-content: flex-start;align-items: center;align-content: flex-start;\">            <div style=\"padding: 0.5rem;\">                <div style=\"display: flex;flex-flow: column nowrap;justify-content: space-between;align-items: center;align-content: space-between;\"><div><a target=\"_blank\" href=\"https://cdli.ucla.edu/tools/SignLists/protocuneiform/archsigns/2(N04).jpg\" title=\"to higher resolution lineart on CDLI\"><img src=\"cdli-imagery/node2(N04)lineart.jpg\" style=\"display: inline;\"  /></a></div><div><a target=\"_blank\" href=\"https://cdli.ucla.edu/tools/SignLists/protocuneiform/archsigns.html\" title=\"to CDLI main page\">2(N04) on CDLI</a></div></div></div><div style=\"padding: 0.5rem;\"><div style=\"display: flex;flex-flow: column nowrap;justify-content: space-between;align-items: center;align-content: space-between;\"><div><a target=\"_blank\" href=\"https://cdli.ucla.edu/tools/SignLists/protocuneiform/archsigns/1(N46).jpg\" title=\"to higher resolution lineart on CDLI\"><img src=\"cdli-imagery/node1(N46)lineart.jpg\" style=\"display: inline;\"  /></a></div><div><a target=\"_blank\" href=\"https://cdli.ucla.edu/tools/SignLists/protocuneiform/archsigns.html\" title=\"to CDLI main page\">1(N46) on CDLI</a></div></div></div><div style=\"padding: 0.5rem;\"><div style=\"display: flex;flex-flow: column nowrap;justify-content: space-between;align-items: center;align-content: space-between;\"><div><a target=\"_blank\" href=\"https://cdli.ucla.edu/tools/SignLists/protocuneiform/archsigns/9(N19).jpg\" title=\"to higher resolution lineart on CDLI\"><img src=\"cdli-imagery/node9(N19)lineart.jpg\" style=\"display: inline;\"  /></a></div><div><a target=\"_blank\" href=\"https://cdli.ucla.edu/tools/SignLists/protocuneiform/archsigns.html\" title=\"to CDLI main page\">9(N19) on CDLI</a></div></div>            </div>        </div>        "
      ],
      "text/plain": [
       "<IPython.core.display.HTML object>"
      ]
     },
     "metadata": {},
     "output_type": "display_data"
    },
    {
     "name": "stdout",
     "output_type": "stream",
     "text": [
      "1 x 2(N04) = 1 x 2 x 1 = 2\n",
      "1 x 1(N46) = 1 x 1 x 60 = 60\n",
      "1 x 9(N19) = 1 x 9 x 6 = 54\n"
     ]
    },
    {
     "data": {
      "text/markdown": [
       "**total** = **116**"
      ],
      "text/plain": [
       "<IPython.core.display.Markdown object>"
      ]
     },
     "metadata": {},
     "output_type": "display_data"
    },
    {
     "data": {
      "text/markdown": [
       "### reverse"
      ],
      "text/plain": [
       "<IPython.core.display.Markdown object>"
      ]
     },
     "metadata": {},
     "output_type": "display_data"
    },
    {
     "data": {
      "text/html": [
       "        <div style=\"display: flex;flex-flow: row nowrap;justify-content: flex-start;align-items: center;align-content: flex-start;\">            <div style=\"padding: 0.5rem;\">                <div style=\"display: flex;flex-flow: column nowrap;justify-content: space-between;align-items: center;align-content: space-between;\"><div><a target=\"_blank\" href=\"https://cdli.ucla.edu/tools/SignLists/protocuneiform/archsigns/1(N36).jpg\" title=\"to higher resolution lineart on CDLI\"><img src=\"cdli-imagery/node1(N36)lineart.jpg\" style=\"display: inline;\"  /></a></div><div><a target=\"_blank\" href=\"https://cdli.ucla.edu/tools/SignLists/protocuneiform/archsigns.html\" title=\"to CDLI main page\">1(N36) on CDLI</a></div></div></div><div style=\"padding: 0.5rem;\"><div style=\"display: flex;flex-flow: column nowrap;justify-content: space-between;align-items: center;align-content: space-between;\"><div><a target=\"_blank\" href=\"https://cdli.ucla.edu/tools/SignLists/protocuneiform/archsigns/1(N19).jpg\" title=\"to higher resolution lineart on CDLI\"><img src=\"cdli-imagery/node1(N19)lineart.jpg\" style=\"display: inline;\"  /></a></div><div><a target=\"_blank\" href=\"https://cdli.ucla.edu/tools/SignLists/protocuneiform/archsigns.html\" title=\"to CDLI main page\">1(N19) on CDLI</a></div></div>            </div>        </div>        "
      ],
      "text/plain": [
       "<IPython.core.display.HTML object>"
      ]
     },
     "metadata": {},
     "output_type": "display_data"
    },
    {
     "name": "stdout",
     "output_type": "stream",
     "text": [
      "1 x 1(N36) = 1 x 1 x 180 = 180\n",
      "1 x 1(N19) = 1 x 1 x 6 = 6\n"
     ]
    },
    {
     "data": {
      "text/markdown": [
       "**total** = **186**"
      ],
      "text/plain": [
       "<IPython.core.display.Markdown object>"
      ]
     },
     "metadata": {},
     "output_type": "display_data"
    },
    {
     "data": {
      "text/markdown": [
       "---\n"
      ],
      "text/plain": [
       "<IPython.core.display.Markdown object>"
      ]
     },
     "metadata": {},
     "output_type": "display_data"
    },
    {
     "data": {
      "text/html": [
       "        <div style=\"display: flex;flex-flow: row nowrap;justify-content: flex-start;align-items: center;align-content: flex-start;\">            <div style=\"padding: 0.5rem;\">                <div style=\"display: flex;flex-flow: column-reverse nowrap;justify-content: space-between;align-items: center;align-content: space-between;\"><div><a target=\"_blank\" href=\"https://cdli.ucla.edu/dl/lineart/P005381_l.jpg\" title=\"to higher resolution lineart on CDLI\"><img src=\"cdli-imagery/node148166lineart.jpg\" style=\"display: inline;\" width=\"200\" /></a></div><div><a target=\"_blank\" href=\"https://cdli.ucla.edu/search/search_results.php?SearchMode=Text&ObjectID=P005381\" title=\"to CDLI main page\">P005381 on CDLI</a></div></div>            </div>        </div>        "
      ],
      "text/plain": [
       "<IPython.core.display.HTML object>"
      ]
     },
     "metadata": {},
     "output_type": "display_data"
    },
    {
     "data": {
      "text/markdown": [
       "### obverse"
      ],
      "text/plain": [
       "<IPython.core.display.Markdown object>"
      ]
     },
     "metadata": {},
     "output_type": "display_data"
    },
    {
     "data": {
      "text/html": [
       "        <div style=\"display: flex;flex-flow: row nowrap;justify-content: flex-start;align-items: center;align-content: flex-start;\">            <div style=\"padding: 0.5rem;\">                <div style=\"display: flex;flex-flow: column nowrap;justify-content: space-between;align-items: center;align-content: space-between;\"><div><a target=\"_blank\" href=\"https://cdli.ucla.edu/tools/SignLists/protocuneiform/archsigns/3(N04).jpg\" title=\"to higher resolution lineart on CDLI\"><img src=\"cdli-imagery/node3(N04)lineart.jpg\" style=\"display: inline;\"  /></a></div><div><a target=\"_blank\" href=\"https://cdli.ucla.edu/tools/SignLists/protocuneiform/archsigns.html\" title=\"to CDLI main page\">3(N04) on CDLI</a></div></div></div><div style=\"padding: 0.5rem;\"><div style=\"display: flex;flex-flow: column nowrap;justify-content: space-between;align-items: center;align-content: space-between;\"><div><a target=\"_blank\" href=\"https://cdli.ucla.edu/tools/SignLists/protocuneiform/archsigns/2(N04).jpg\" title=\"to higher resolution lineart on CDLI\"><img src=\"cdli-imagery/node2(N04)lineart.jpg\" style=\"display: inline;\"  /></a></div><div><a target=\"_blank\" href=\"https://cdli.ucla.edu/tools/SignLists/protocuneiform/archsigns.html\" title=\"to CDLI main page\">2(N04) on CDLI</a></div></div></div><div style=\"padding: 0.5rem;\"><div style=\"display: flex;flex-flow: column nowrap;justify-content: space-between;align-items: center;align-content: space-between;\"><div><a target=\"_blank\" href=\"https://cdli.ucla.edu/tools/SignLists/protocuneiform/archsigns/3(N19).jpg\" title=\"to higher resolution lineart on CDLI\"><img src=\"cdli-imagery/node3(N19)lineart.jpg\" style=\"display: inline;\"  /></a></div><div><a target=\"_blank\" href=\"https://cdli.ucla.edu/tools/SignLists/protocuneiform/archsigns.html\" title=\"to CDLI main page\">3(N19) on CDLI</a></div></div>            </div>        </div>        "
      ],
      "text/plain": [
       "<IPython.core.display.HTML object>"
      ]
     },
     "metadata": {},
     "output_type": "display_data"
    },
    {
     "name": "stdout",
     "output_type": "stream",
     "text": [
      "1 x 3(N04) = 1 x 3 x 1 = 3\n",
      "1 x 2(N04) = 1 x 2 x 1 = 2\n",
      "1 x 3(N19) = 1 x 3 x 6 = 18\n"
     ]
    },
    {
     "data": {
      "text/markdown": [
       "**total** = **23**"
      ],
      "text/plain": [
       "<IPython.core.display.Markdown object>"
      ]
     },
     "metadata": {},
     "output_type": "display_data"
    },
    {
     "data": {
      "text/markdown": [
       "### reverse"
      ],
      "text/plain": [
       "<IPython.core.display.Markdown object>"
      ]
     },
     "metadata": {},
     "output_type": "display_data"
    },
    {
     "data": {
      "text/html": [
       "        <div style=\"display: flex;flex-flow: row nowrap;justify-content: flex-start;align-items: center;align-content: flex-start;\">            <div style=\"padding: 0.5rem;\">                <div style=\"display: flex;flex-flow: column nowrap;justify-content: space-between;align-items: center;align-content: space-between;\"><div><a target=\"_blank\" href=\"https://cdli.ucla.edu/tools/SignLists/protocuneiform/archsigns/3(N19).jpg\" title=\"to higher resolution lineart on CDLI\"><img src=\"cdli-imagery/node3(N19)lineart.jpg\" style=\"display: inline;\"  /></a></div><div><a target=\"_blank\" href=\"https://cdli.ucla.edu/tools/SignLists/protocuneiform/archsigns.html\" title=\"to CDLI main page\">3(N19) on CDLI</a></div></div></div><div style=\"padding: 0.5rem;\"><div style=\"display: flex;flex-flow: column nowrap;justify-content: space-between;align-items: center;align-content: space-between;\"><div><a target=\"_blank\" href=\"https://cdli.ucla.edu/tools/SignLists/protocuneiform/archsigns/5(N04).jpg\" title=\"to higher resolution lineart on CDLI\"><img src=\"cdli-imagery/node5(N04)lineart.jpg\" style=\"display: inline;\"  /></a></div><div><a target=\"_blank\" href=\"https://cdli.ucla.edu/tools/SignLists/protocuneiform/archsigns.html\" title=\"to CDLI main page\">5(N04) on CDLI</a></div></div>            </div>        </div>        "
      ],
      "text/plain": [
       "<IPython.core.display.HTML object>"
      ]
     },
     "metadata": {},
     "output_type": "display_data"
    },
    {
     "name": "stdout",
     "output_type": "stream",
     "text": [
      "1 x 3(N19) = 1 x 3 x 6 = 18\n",
      "1 x 5(N04) = 1 x 5 x 1 = 5\n"
     ]
    },
    {
     "data": {
      "text/markdown": [
       "**total** = **23**"
      ],
      "text/plain": [
       "<IPython.core.display.Markdown object>"
      ]
     },
     "metadata": {},
     "output_type": "display_data"
    }
   ],
   "source": [
    "for (tablet, faces) in numerals.items():\n",
    "    dm('---\\n')\n",
    "    display(A.lineart(tablet, withCaption=\"top\", width=\"200\"))\n",
    "    for (face, signs) in faces.items():\n",
    "        dm(f'### {F.type.v(face)}')\n",
    "        distinctSigns = {}\n",
    "        for s in signs:\n",
    "            distinctSigns.setdefault(A.atfFromSign(s), []).append(s)\n",
    "        display(A.lineart(distinctSigns))\n",
    "        total = 0\n",
    "        for (signAtf, signs) in distinctSigns.items():\n",
    "            # note that all signs for the same signAtf have the same grapheme and repeat\n",
    "            value = 0\n",
    "            for s in signs:\n",
    "                value += F.repeat.v(s) * shinPP[F.grapheme.v(s)]\n",
    "            total += value\n",
    "            amount = len(signs)\n",
    "            shinPPval = shinPP[F.grapheme.v(signs[0])]\n",
    "            repeat = F.repeat.v(signs[0])\n",
    "            print(f'{amount} x {signAtf} = {amount} x {repeat} x {shinPPval} = {value}')\n",
    "        dm(f'**total** = **{total}**')"
   ]
  },
  {
   "cell_type": "markdown",
   "metadata": {},
   "source": [
    "# Frequency of Quads"
   ]
  },
  {
   "cell_type": "markdown",
   "metadata": {},
   "source": [
    "We count the number of quads, according to their ATF string."
   ]
  },
  {
   "cell_type": "code",
   "execution_count": 11,
   "metadata": {},
   "outputs": [],
   "source": [
    "quadFreqs = collections.Counter()\n",
    "for q in F.otype.s('quad'):\n",
    "    quadFreqs[A.atfFromQuad(q)] += 1"
   ]
  },
  {
   "cell_type": "code",
   "execution_count": 12,
   "metadata": {},
   "outputs": [
    {
     "name": "stdout",
     "output_type": "stream",
     "text": [
      "  15 x |GISZxSZU2~b|\n",
      "  42 x |GISZxSZU2~a|\n",
      "  26 x |GISZ.TE|\n",
      "   1 x |GIxGISZ@t|\n",
      "   4 x |(GISZx(DIN.DIN))~a|\n",
      "   3 x |NINDA2xGISZ|\n",
      "   1 x |(GISZx(DIN.DIN))~c|\n",
      "   7 x |DUG~bxGISZ|\n",
      "   3 x |GISZ3~a&GISZ3~a|\n",
      "   1 x |GISZ+SZU2~b|\n",
      "   1 x |BU~axGISZ@t|\n",
      "   1 x |GA2~a1xGISZ@t|\n",
      "   1 x |(GISZx(DIN.DIN))~b|\n",
      "   1 x |(GI&GI)xGISZ@t|\n"
     ]
    }
   ],
   "source": [
    "for qAtf in quadFreqs:\n",
    "    if 'GISZ' in qAtf:\n",
    "        print(f'{quadFreqs[qAtf]:>4} x {qAtf}')"
   ]
  },
  {
   "cell_type": "markdown",
   "metadata": {},
   "source": [
    "Frequency of a particular quad:"
   ]
  },
  {
   "cell_type": "code",
   "execution_count": 13,
   "metadata": {},
   "outputs": [
    {
     "name": "stdout",
     "output_type": "stream",
     "text": [
      "The frequency of GI4~a is 0\n"
     ]
    }
   ],
   "source": [
    "pQuad = 'GI4~a'\n",
    "print(f'The frequency of {pQuad} is {quadFreqs[pQuad]}')"
   ]
  },
  {
   "cell_type": "markdown",
   "metadata": {},
   "source": [
    "Not what you expected? Let's broaden the question"
   ]
  },
  {
   "cell_type": "code",
   "execution_count": 14,
   "metadata": {},
   "outputs": [
    {
     "name": "stdout",
     "output_type": "stream",
     "text": [
      "   1 x |GI4~a&GI4~a|\n",
      "   1 x |GI4~axA|\n",
      "   1 x |GI4~b&GI4~b|\n"
     ]
    }
   ],
   "source": [
    "for qAtf in quadFreqs:\n",
    "    if 'GI4' in qAtf:\n",
    "        print(f'{quadFreqs[qAtf]:>4} x {qAtf}')"
   ]
  },
  {
   "cell_type": "markdown",
   "metadata": {},
   "source": [
    "Ah, `GI4~a` is a single sign, not a complex quad. Quads are by definition complex.\n",
    "\n",
    "That's why you want signs and quads in one table. Let's do it."
   ]
  },
  {
   "cell_type": "code",
   "execution_count": 15,
   "metadata": {},
   "outputs": [
    {
     "name": "stdout",
     "output_type": "stream",
     "text": [
      "  34 x GI4~a\n",
      "  15 x |GISZxSZU2~b|\n",
      " 478 x GISZ\n",
      "  45 x GISZIMMAR~b1\n",
      "  42 x |GISZxSZU2~a|\n",
      "  26 x |GISZ.TE|\n",
      "  41 x GISZ@t\n",
      "   1 x |GIxGISZ@t|\n",
      "  54 x GISZ3~b\n",
      "  10 x GI4~b\n",
      "   2 x GISZIMMAR~b3\n",
      "  10 x GISZGAL\n",
      "   4 x |(GISZx(DIN.DIN))~a|\n",
      "   9 x GISZIMMAR~a2\n",
      "   3 x |NINDA2xGISZ|\n",
      "   1 x |(GISZx(DIN.DIN))~c|\n",
      "   7 x |DUG~bxGISZ|\n",
      "   3 x |GISZ3~a&GISZ3~a|\n",
      "  20 x GISZ3~a\n",
      "   6 x GISZIMMAR~a1\n",
      "   1 x |GISZ+SZU2~b|\n",
      "   2 x GISZIMMAR~a3\n",
      "   1 x |GI4~a&GI4~a|\n",
      "   1 x |BU~axGISZ@t|\n",
      "   1 x |GI4~axA|\n",
      "   1 x GISZIMMAR~b2\n",
      "   1 x |GA2~a1xGISZ@t|\n",
      "   1 x |GI4~b&GI4~b|\n",
      "   1 x |(GISZx(DIN.DIN))~b|\n",
      "   1 x |(GI&GI)xGISZ@t|\n"
     ]
    }
   ],
   "source": [
    "quadSignFreqs = collections.Counter()\n",
    "quadSignTypes = {'quad', 'sign'}\n",
    "\n",
    "for n in N():\n",
    "    nType = F.otype.v(n)\n",
    "    if nType not in quadSignTypes:\n",
    "        continue\n",
    "    atf = A.atfFromQuad(n) if nType == 'quad' else A.atfFromSign(n)\n",
    "    quadSignFreqs[atf] += 1\n",
    "for qsAtf in quadSignFreqs:\n",
    "    if 'GISZ' in qsAtf or 'GI4' in qsAtf:\n",
    "        print(f'{quadSignFreqs[qsAtf]:>4} x {qsAtf}')"
   ]
  },
  {
   "cell_type": "code",
   "execution_count": 18,
   "metadata": {},
   "outputs": [
    {
     "name": "stdout",
     "output_type": "stream",
     "text": [
      "The frequency of GI4~a is 34\n"
     ]
    }
   ],
   "source": [
    "pQuad = 'GI4~a'\n",
    "print(f'The frequency of {pQuad} is {quadSignFreqs[pQuad]}')"
   ]
  },
  {
   "cell_type": "markdown",
   "metadata": {},
   "source": [
    "# Write frequencies"
   ]
  },
  {
   "cell_type": "markdown",
   "metadata": {},
   "source": [
    "You can make an output directory by hand, but we do it programmatically."
   ]
  },
  {
   "cell_type": "code",
   "execution_count": 16,
   "metadata": {},
   "outputs": [],
   "source": [
    "reportDir = 'reports'\n",
    "os.makedirs(reportDir, exist_ok=True)"
   ]
  },
  {
   "cell_type": "code",
   "execution_count": 17,
   "metadata": {
    "collapsed": true
   },
   "outputs": [],
   "source": [
    "def writeFreqs(fileName, data, dataName):\n",
    "    print(f'There are {len(data)} {dataName}s')\n",
    "\n",
    "    for (sortName, sortKey) in (\n",
    "        ('alpha', lambda x: (x[0], -x[1])),\n",
    "        ('freq', lambda x: (-x[1], x[0])),\n",
    "    ):\n",
    "        with open(f'{reportDir}/{fileName}-{sortName}.txt', 'w') as fh:\n",
    "            for (item, freq) in sorted(data.items(), key=sortKey):\n",
    "                if item != '':\n",
    "                    fh.write(f'{freq:>5} x {item}\\n')"
   ]
  },
  {
   "cell_type": "code",
   "execution_count": 18,
   "metadata": {},
   "outputs": [
    {
     "name": "stdout",
     "output_type": "stream",
     "text": [
      "There are 2219 quad/signs\n"
     ]
    }
   ],
   "source": [
    "writeFreqs('quad-signs', quadSignFreqs, 'quad/sign')"
   ]
  },
  {
   "cell_type": "markdown",
   "metadata": {},
   "source": [
    "# Grabbing subcases\n",
    "\n",
    "How can we quickly grab cases at a certain level?\n",
    "There is a short answer and a long answer.\n",
    "\n",
    "Here is the short anwer: a new `A`-utility function that does it for you."
   ]
  },
  {
   "cell_type": "code",
   "execution_count": 20,
   "metadata": {},
   "outputs": [
    {
     "data": {
      "text/plain": [
       "2595"
      ]
     },
     "execution_count": 20,
     "metadata": {},
     "output_type": "execute_result"
    }
   ],
   "source": [
    "subcases = A.casesByLevel(2, terminal=True)\n",
    "len(subcases)"
   ]
  },
  {
   "cell_type": "markdown",
   "metadata": {},
   "source": [
    "A basic check: which numbers do we get?"
   ]
  },
  {
   "cell_type": "code",
   "execution_count": 21,
   "metadata": {},
   "outputs": [
    {
     "data": {
      "text/plain": [
       "Counter({'1b1': 298,\n",
       "         '1b2': 294,\n",
       "         '2b1': 200,\n",
       "         '2b2': 194,\n",
       "         '2b3': 59,\n",
       "         '2b4': 25,\n",
       "         '2a1': 69,\n",
       "         '2a2': 64,\n",
       "         '3b1': 89,\n",
       "         '3b2': 83,\n",
       "         '4b1': 56,\n",
       "         '4b2': 56,\n",
       "         '4b3': 14,\n",
       "         '4b4': 6,\n",
       "         '1b3': 93,\n",
       "         '3a1': 42,\n",
       "         '3a2': 42,\n",
       "         '1b4': 36,\n",
       "         '5b1': 31,\n",
       "         '5c1': 2,\n",
       "         '5c2': 2,\n",
       "         '1c1': 15,\n",
       "         '1c2': 16,\n",
       "         '1b5': 18,\n",
       "         '1b6': 9,\n",
       "         '4a4': 2,\n",
       "         '4a1': 18,\n",
       "         '4a2': 18,\n",
       "         '4a3': 4,\n",
       "         '2c1': 14,\n",
       "         '2c2': 14,\n",
       "         '5b2': 30,\n",
       "         '6b2': 21,\n",
       "         '6b1': 21,\n",
       "         '1aB1': 1,\n",
       "         '1aB2': 1,\n",
       "         '7b1': 12,\n",
       "         '7b2': 12,\n",
       "         '1a2': 103,\n",
       "         '1a1': 105,\n",
       "         '1a3': 17,\n",
       "         '5a1': 14,\n",
       "         '5a2': 14,\n",
       "         '11b1': 4,\n",
       "         '11b2': 4,\n",
       "         '1a4': 3,\n",
       "         '1a5': 1,\n",
       "         '3b3': 24,\n",
       "         '3c1': 7,\n",
       "         '3c2': 7,\n",
       "         '3d1': 3,\n",
       "         '3d2': 3,\n",
       "         '6b3': 7,\n",
       "         '5f1': 1,\n",
       "         '5f2': 1,\n",
       "         '2a3': 12,\n",
       "         '3a3': 8,\n",
       "         '1c3': 5,\n",
       "         '8a1': 1,\n",
       "         '8a2': 1,\n",
       "         '10a1': 1,\n",
       "         '10a2': 1,\n",
       "         '1d1': 4,\n",
       "         '1d2': 3,\n",
       "         '1d3': 1,\n",
       "         '8c1': 1,\n",
       "         '8c2': 1,\n",
       "         '8c3': 1,\n",
       "         '8c4': 1,\n",
       "         '1c4': 2,\n",
       "         '9b1': 4,\n",
       "         '9b2': 4,\n",
       "         '5b3': 8,\n",
       "         '5b4': 4,\n",
       "         '5b5': 2,\n",
       "         '3c3': 3,\n",
       "         '4c2': 5,\n",
       "         '4c3': 2,\n",
       "         '4c1': 5,\n",
       "         '2b5': 8,\n",
       "         '10b1': 2,\n",
       "         '10b2': 2,\n",
       "         '10b3': 2,\n",
       "         '5a3': 2,\n",
       "         '1b01': 4,\n",
       "         '1b02': 4,\n",
       "         '1b03': 4,\n",
       "         '1b04': 4,\n",
       "         '1b05': 4,\n",
       "         '1b06': 4,\n",
       "         '1b07': 4,\n",
       "         '1b08': 4,\n",
       "         '1b09': 4,\n",
       "         '1b10': 4,\n",
       "         '1b11': 4,\n",
       "         '1b12': 3,\n",
       "         '1b13': 3,\n",
       "         '1b14': 3,\n",
       "         '1b15': 3,\n",
       "         '1b16': 3,\n",
       "         '1b17': 3,\n",
       "         '4e1': 1,\n",
       "         '4e2': 1,\n",
       "         '2c3': 3,\n",
       "         '5b6': 1,\n",
       "         '5b7': 1,\n",
       "         '5b8': 1,\n",
       "         '5b9': 1,\n",
       "         '1b18': 2,\n",
       "         '1b19': 2,\n",
       "         '2b6': 6,\n",
       "         '3b4': 7,\n",
       "         '3b5': 6,\n",
       "         '4b08': 1,\n",
       "         '4b09': 1,\n",
       "         '4b10': 1,\n",
       "         '4b11': 1,\n",
       "         '4b12': 1,\n",
       "         '4b13': 1,\n",
       "         '4b02': 1,\n",
       "         '4b03': 1,\n",
       "         '4b04': 1,\n",
       "         '4b05': 1,\n",
       "         '4b06': 1,\n",
       "         '4b07': 1,\n",
       "         '4b5': 2,\n",
       "         '4b6': 1,\n",
       "         '4b7': 1,\n",
       "         '2b7': 5,\n",
       "         '2b8': 2,\n",
       "         '7a1': 2,\n",
       "         '7a2': 2,\n",
       "         '2a4': 3,\n",
       "         '2a5': 2,\n",
       "         '8b1': 7,\n",
       "         '8b2': 7,\n",
       "         '8b3': 1,\n",
       "         '10b4': 1,\n",
       "         '10b5': 1,\n",
       "         '2d1': 2,\n",
       "         '2d2': 2,\n",
       "         '4d1': 1,\n",
       "         '4d2': 1,\n",
       "         '6b4': 2,\n",
       "         '1b7': 3,\n",
       "         '1b8': 2,\n",
       "         '1b9': 2,\n",
       "         '6b5': 1,\n",
       "         '3b6': 4,\n",
       "         '3b7': 3,\n",
       "         '3b8': 1,\n",
       "         '3b9': 1,\n",
       "         '3b10': 1,\n",
       "         '3b11': 1,\n",
       "         '3b12': 1,\n",
       "         '1b20': 1,\n",
       "         '1b21': 1,\n",
       "         '1b22': 1,\n",
       "         '1b23': 1,\n",
       "         '1b24': 1,\n",
       "         '1b25': 1,\n",
       "         '1b26': 1,\n",
       "         '1b27': 1,\n",
       "         '1b28': 1,\n",
       "         '1b29': 1,\n",
       "         '1b30': 1,\n",
       "         '1b31': 1,\n",
       "         '1b32': 1,\n",
       "         '2b9': 1,\n",
       "         '5b01': 1,\n",
       "         '5b02': 1,\n",
       "         '5b03': 1,\n",
       "         '5b04': 1,\n",
       "         '5b05': 1,\n",
       "         '5b06': 1,\n",
       "         '5b07': 1,\n",
       "         '5b08': 1,\n",
       "         '5b09': 1,\n",
       "         '5b10': 1,\n",
       "         '5b11': 1,\n",
       "         '5b12': 1,\n",
       "         '6a1': 1,\n",
       "         '6a2': 1,\n",
       "         '2e1': 1})"
      ]
     },
     "execution_count": 21,
     "metadata": {},
     "output_type": "execute_result"
    }
   ],
   "source": [
    "caseNumbers = collections.Counter()\n",
    "for s in subcases:\n",
    "    caseNumbers[F.number.v(s)] += 1\n",
    "caseNumbers"
   ]
  },
  {
   "cell_type": "markdown",
   "metadata": {},
   "source": [
    "This is what happens under the hood.\n",
    "\n",
    "The next query picks every line in which there is a case in which there is a case\n",
    "such that the case is a direct child of the line and the subcase is a direct child of the case.\n",
    "\n",
    "This is what the `sub` edge is for. A case containing another case is very liberal. Cases not only contain \n",
    "their subcases, but also their subsubcases and so on.\n",
    "Using `sub` brings is close to what we want."
   ]
  },
  {
   "cell_type": "code",
   "execution_count": 29,
   "metadata": {},
   "outputs": [],
   "source": [
    "query = '''\n",
    "l:line\n",
    "    w1:case\n",
    "        w2:case\n",
    "l -sub> w1\n",
    "w1 -sub> w2\n",
    "'''"
   ]
  },
  {
   "cell_type": "code",
   "execution_count": 30,
   "metadata": {},
   "outputs": [
    {
     "data": {
      "text/plain": [
       "2719"
      ]
     },
     "execution_count": 30,
     "metadata": {},
     "output_type": "execute_result"
    }
   ],
   "source": [
    "results = list(S.search(query))\n",
    "len(results)"
   ]
  },
  {
   "cell_type": "markdown",
   "metadata": {},
   "source": [
    "We still may have too much. Subcases may contain cases themselves, and in that case they do not correspond to a single line in the\n",
    "transcription. \n",
    "If you want only subcases that are terminal cases, you have to filter the results by means of an extra line of code.\n",
    "\n",
    "A case is terminal if it has a feature `terminal` (with value `1`)."
   ]
  },
  {
   "cell_type": "code",
   "execution_count": 31,
   "metadata": {},
   "outputs": [
    {
     "data": {
      "text/plain": [
       "2595"
      ]
     },
     "execution_count": 31,
     "metadata": {},
     "output_type": "execute_result"
    }
   ],
   "source": [
    "subcases = [subcase for (line, case, subcase) in results if F.terminal.v(subcase)]\n",
    "len(subcases)"
   ]
  },
  {
   "cell_type": "markdown",
   "metadata": {},
   "source": [
    "Let's just check whether the subcases have reasonable line numbers."
   ]
  },
  {
   "cell_type": "code",
   "execution_count": 32,
   "metadata": {},
   "outputs": [],
   "source": [
    "caseNumbers = collections.Counter()\n",
    "for subcase in subcases:\n",
    "    cn = F.number.v(subcase)\n",
    "    if cn:\n",
    "        caseNumbers[cn] += 1"
   ]
  },
  {
   "cell_type": "code",
   "execution_count": 33,
   "metadata": {},
   "outputs": [
    {
     "data": {
      "text/plain": [
       "Counter({'1b1': 298,\n",
       "         '1b2': 294,\n",
       "         '1b3': 93,\n",
       "         '2b1': 200,\n",
       "         '2b2': 194,\n",
       "         '2b3': 59,\n",
       "         '3b1': 89,\n",
       "         '3b2': 83,\n",
       "         '4b1': 56,\n",
       "         '4b2': 56,\n",
       "         '4b3': 14,\n",
       "         '4b4': 6,\n",
       "         '4b5': 2,\n",
       "         '4b6': 1,\n",
       "         '4b7': 1,\n",
       "         '2a1': 69,\n",
       "         '2a2': 64,\n",
       "         '1a2': 103,\n",
       "         '1a1': 105,\n",
       "         '2b4': 25,\n",
       "         '2b5': 8,\n",
       "         '6b1': 21,\n",
       "         '6b2': 21,\n",
       "         '1b4': 36,\n",
       "         '3b3': 24,\n",
       "         '5b1': 31,\n",
       "         '5b2': 30,\n",
       "         '3a1': 42,\n",
       "         '3a2': 42,\n",
       "         '3a3': 8,\n",
       "         '2a3': 12,\n",
       "         '2a4': 3,\n",
       "         '2a5': 2,\n",
       "         '1a3': 17,\n",
       "         '6b3': 7,\n",
       "         '7b1': 12,\n",
       "         '7b2': 12,\n",
       "         '8b1': 7,\n",
       "         '8b2': 7,\n",
       "         '8b3': 1,\n",
       "         '2b6': 6,\n",
       "         '2b7': 5,\n",
       "         '2b8': 2,\n",
       "         '3c1': 7,\n",
       "         '3c2': 7,\n",
       "         '5a2': 14,\n",
       "         '5a1': 14,\n",
       "         '4a3': 4,\n",
       "         '4a4': 2,\n",
       "         '4a1': 18,\n",
       "         '4a2': 18,\n",
       "         '1b01': 4,\n",
       "         '1b02': 4,\n",
       "         '1b03': 4,\n",
       "         '1b04': 4,\n",
       "         '1b05': 4,\n",
       "         '1b06': 4,\n",
       "         '1b07': 4,\n",
       "         '1b08': 4,\n",
       "         '1b09': 4,\n",
       "         '1b10': 4,\n",
       "         '1b11': 4,\n",
       "         '1b12': 3,\n",
       "         '1b13': 3,\n",
       "         '1b14': 3,\n",
       "         '1b15': 3,\n",
       "         '1b16': 3,\n",
       "         '1b17': 3,\n",
       "         '1b18': 2,\n",
       "         '1b19': 2,\n",
       "         '1b20': 1,\n",
       "         '1b21': 1,\n",
       "         '1b22': 1,\n",
       "         '1b23': 1,\n",
       "         '1b24': 1,\n",
       "         '1b25': 1,\n",
       "         '1b26': 1,\n",
       "         '1b27': 1,\n",
       "         '1b28': 1,\n",
       "         '1b29': 1,\n",
       "         '1b30': 1,\n",
       "         '1b31': 1,\n",
       "         '1b32': 1,\n",
       "         '2b9': 1,\n",
       "         '3b4': 7,\n",
       "         '3b5': 6,\n",
       "         '3b6': 4,\n",
       "         '3b7': 3,\n",
       "         '3d1': 3,\n",
       "         '3d2': 3,\n",
       "         '5b01': 1,\n",
       "         '5b02': 1,\n",
       "         '5b03': 1,\n",
       "         '5b04': 1,\n",
       "         '5b05': 1,\n",
       "         '5b06': 1,\n",
       "         '5b07': 1,\n",
       "         '5b08': 1,\n",
       "         '5b09': 1,\n",
       "         '5b10': 1,\n",
       "         '5b11': 1,\n",
       "         '5b12': 1,\n",
       "         '5b3': 8,\n",
       "         '5b4': 4,\n",
       "         '7a1': 2,\n",
       "         '7a2': 2,\n",
       "         '1c1': 15,\n",
       "         '1c2': 16,\n",
       "         '2c1': 14,\n",
       "         '2c2': 14,\n",
       "         '4c1': 5,\n",
       "         '4c2': 5,\n",
       "         '11b1': 4,\n",
       "         '11b2': 4,\n",
       "         '10b1': 2,\n",
       "         '10b2': 2,\n",
       "         '10b3': 2,\n",
       "         '10b4': 1,\n",
       "         '10b5': 1,\n",
       "         '2c3': 3,\n",
       "         '1b5': 18,\n",
       "         '1b6': 9,\n",
       "         '1aB1': 1,\n",
       "         '1aB2': 1,\n",
       "         '6b4': 2,\n",
       "         '1a4': 3,\n",
       "         '8c1': 1,\n",
       "         '8c2': 1,\n",
       "         '8c3': 1,\n",
       "         '8c4': 1,\n",
       "         '9b1': 4,\n",
       "         '9b2': 4,\n",
       "         '1b7': 3,\n",
       "         '1b8': 2,\n",
       "         '1b9': 2,\n",
       "         '6b5': 1,\n",
       "         '6a1': 1,\n",
       "         '6a2': 1,\n",
       "         '3c3': 3,\n",
       "         '1c3': 5,\n",
       "         '1c4': 2,\n",
       "         '2e1': 1,\n",
       "         '2d2': 2,\n",
       "         '2d1': 2,\n",
       "         '5a3': 2,\n",
       "         '4d1': 1,\n",
       "         '4d2': 1,\n",
       "         '5c1': 2,\n",
       "         '5c2': 2,\n",
       "         '1d1': 4,\n",
       "         '1d2': 3,\n",
       "         '5b5': 2,\n",
       "         '1a5': 1,\n",
       "         '3b8': 1,\n",
       "         '3b9': 1,\n",
       "         '3b10': 1,\n",
       "         '3b11': 1,\n",
       "         '3b12': 1,\n",
       "         '1d3': 1,\n",
       "         '4c3': 2,\n",
       "         '8a1': 1,\n",
       "         '8a2': 1,\n",
       "         '5f1': 1,\n",
       "         '5f2': 1,\n",
       "         '10a1': 1,\n",
       "         '10a2': 1,\n",
       "         '5b6': 1,\n",
       "         '5b7': 1,\n",
       "         '5b8': 1,\n",
       "         '5b9': 1,\n",
       "         '4b08': 1,\n",
       "         '4b09': 1,\n",
       "         '4b10': 1,\n",
       "         '4b11': 1,\n",
       "         '4b12': 1,\n",
       "         '4b13': 1,\n",
       "         '4b02': 1,\n",
       "         '4b03': 1,\n",
       "         '4b04': 1,\n",
       "         '4b05': 1,\n",
       "         '4b06': 1,\n",
       "         '4b07': 1,\n",
       "         '4e1': 1,\n",
       "         '4e2': 1})"
      ]
     },
     "execution_count": 33,
     "metadata": {},
     "output_type": "execute_result"
    }
   ],
   "source": [
    "caseNumbers"
   ]
  },
  {
   "cell_type": "markdown",
   "metadata": {},
   "source": [
    "In order to get cases at deeper levels, we need to compose a query that is dependent on\n",
    "the given depth. That is exactly what the `A.casesByLevel` function does."
   ]
  },
  {
   "cell_type": "markdown",
   "metadata": {},
   "source": [
    "# Displaying subcases\n",
    "\n",
    "We show the ATF of nested subcases, together with their location in the corpus."
   ]
  },
  {
   "cell_type": "markdown",
   "metadata": {},
   "source": [
    "We pick a deep level of cases, in order to make an inventory of the signs involved."
   ]
  },
  {
   "cell_type": "code",
   "execution_count": 36,
   "metadata": {},
   "outputs": [
    {
     "name": "stdout",
     "output_type": "stream",
     "text": [
      "P002694:reverse:1:3 = 3.b2B1. , X [...] \n",
      "P002694:reverse:1:3 = 3.b2B2. , X [...] \n",
      "P002694:reverse:1:3 = 3.b1B1. , [...] \n",
      "P325234:reverse:1:1 = 1.c5a1. 8(N01) , GAR U2~a \n",
      "P325234:reverse:1:1 = 1.c5a2. |SZU2.E2~b| \n",
      "P006036:obverse:1:2 = 2.b1B1. , (EN~a# PAP~a#)a \n",
      "P006036:obverse:1:2 = 2.b1B2. , (3(N57) GAN2)a \n",
      "P006036:obverse:1:2 = 2.b2B1. , (EN~a |SZU2.E2~b|)a \n",
      "P006036:obverse:1:2 = 2.b2B2. , (BU~a SZU)a \n",
      "P006036:obverse:1:2 = 2.b2B3. , (SAL BU~a)a \n",
      "P006036:obverse:1:2 = 2.b2B4. , (EN~a HI KASZ~c)a \n",
      "P218054:reverse:1:1 = 1.a1A1. [...] 5(N01)# , [...] UDU~a#? \n",
      "P218054:reverse:1:1 = 1.a1A2. [...] 7(N01)# , MASZ2 \n",
      "P006160:obverse:1:2 = 2.b2B1. , ZATU836 BU~a SZE~a \n",
      "P006160:obverse:1:2 = 2.b2B2. , U8 LAGAB~a \n",
      "P005322:reverse:1:1 = 1.b2B1. 3(N20) 1(N05) 1(N42~a) , \n",
      "P005322:reverse:1:1 = 1.b2B2. 3(N18) 1(N03) 1(N40) , \n",
      "P005322:reverse:1:1 = 1.b4B1. 2(N05)? 2(N42~a)? , 1(N57)? SZE~a \n",
      "P005322:reverse:1:1 = 1.b4B2. 1(N03) 3(N40) , \n",
      "P005322:reverse:1:1 = 1.b1B1. 1(N20) 1(N42~a) 1(N25) , \n",
      "P005322:reverse:1:1 = 1.b1B2. 1(N18) 1(N40) 1(N24~a) , \n",
      "P005322:reverse:1:1 = 1.b3B1. 3(N20)# 1(N05) 2(N42~a) , \n",
      "P005322:reverse:1:1 = 1.b3B2. 4(N18) 5(N03)# 2(N40) , \n",
      "P411608:obverse:1:1 = 1b2a1. 1(N01) , GAL~a \n",
      "P411608:obverse:1:1 = 1b2a2. 1(N01) , GA2~a1 TUR \n",
      "P411608:obverse:1:1 = 1b2b2. 1(N01) , X \n",
      "P411608:obverse:1:1 = 1b2b1. 1(N01) , |U4x3(N57)| \n",
      "P003529:obverse:2:3 = 3.b3B1. 2(N57) , SZA |U4x2(N01)| SZU \n",
      "P003529:obverse:2:3 = 3.b3B2. 1(N57) , |GIxSZE3| BAD \n",
      "P003529:obverse:2:3 = 3.b1A1. 1(N01) , DUG~c \n",
      "P003529:obverse:2:3 = 3.b1A2. 1(N01) , [...] \n",
      "P006092:obverse:1:2 = 2.b1A1. 1(N01) , SZUR2~a KU3~a E2~a \n",
      "P006092:obverse:1:2 = 2.b1A2. [1(N01)] , [...] \n",
      "P003531:obverse:1:1 = 1.b1A1. 1(N01) , BA AB~a AN MUSZ3~a \n",
      "P003531:obverse:1:1 = 1.b1A2. 1(N01) , SAL BA PIRIG~b1 \n",
      "P003808:obverse:3:2 = 2.b2B1. 1(N57) , SZA SZU \n",
      "P003808:obverse:3:2 = 2.b2B2. 1(N57) , ZATU659? PAP~a SUKKAL \n",
      "P003808:obverse:3:2 = 2.b1B1. [...] , GAN~c SZU \n",
      "P003808:obverse:3:2 = 2.b1B2. , SZITA~a1 ADAB UTUL~a \n",
      "P003808:obverse:5:2 = 2.a2A1. 1(N01) , E2~a ALAN~b NUN~a# TAK4~a \n",
      "P003808:obverse:5:2 = 2.a2A2. 1(N01) , ZATU651@g TAK4~a ALAN~b \n",
      "P005294:obverse:1:1 = 1.b1B1. , AN 3(N57) \n",
      "P005294:obverse:1:1 = 1.b1B2. , EN~a PA~a ERIN \n",
      "P003808:obverse:6:1 = 1.b2B2. 1(N57) , X AN MUSZ3~a EN~a X \n",
      "P003808:obverse:6:1 = 1.b2B3. 1(N57) , SIG2~b \n",
      "P003808:obverse:6:1 = 1.b2B4. 1(N57) , E2~a GU \n",
      "P003808:obverse:6:1 = 1.b2B1. 1(N57) , EN~a SZE3? TUR NUN~a \n",
      "P003808:obverse:6:1 = 1.b1B1. [...] , [...] X \n",
      "P003808:obverse:6:1 = 1.b1B2. 1(N57) , DILMUN \n",
      "P003808:obverse:6:2 = 2.b1B1. 1(N57) , EN~a# SAG# \n",
      "P003808:obverse:6:2 = 2.b1B2. 1(N57) , HI E2~a DILMUN NUN~a \n",
      "P003808:obverse:6:2 = 2.b1B3. 1(N57) , NAMESZDA \n",
      "P003808:obverse:6:2 = 2.b1B4. 1(N57) , GESZTU~a? DIM~a \n",
      "P003808:obverse:6:2 = 2.b1B5. 1(N57) , SZA SZU \n",
      "P003808:obverse:6:2 = 2.b1B6. 1(N57) , GI BAD \n",
      "P325754:reverse:1:1 = 1.c2b1. 1(N01) , [...] \n",
      "P325754:reverse:1:1 = 1.c2b2. 1(N14) 7(N01) , TUR \n",
      "P325754:reverse:1:1 = 1.c2b3. 2(N14) 6(N01) , SUR \n",
      "P006295:reverse:1:1 = 1.a1B1. 1(N01) , UD5~a \n",
      "P006295:reverse:1:1 = 1.a1B2. 3(N01) , MASZ2 \n",
      "P387752:obverse:0:1 = 1.b2.b09. , NAGA~a HI \n",
      "P387752:obverse:0:1 = 1.b2.b10. [...] \n",
      "P387752:obverse:0:1 = 1.b2.b11. [...] \n",
      "P387752:obverse:0:1 = 1.b2.b12. , X NUN~a# [...] \n",
      "P387752:obverse:0:1 = 1.b2.b13. , HI@g~a [...] \n",
      "P387752:obverse:0:1 = 1.b2.b14. [...] \n",
      "P387752:obverse:0:1 = 1.b2.b15. [...] \n",
      "P387752:obverse:0:1 = 1.b2.b16. [...] \n",
      "P387752:obverse:0:1 = 1.b2.b17. [...] \n",
      "P387752:obverse:0:1 = 1.b2.b01. [...] \n",
      "P387752:obverse:0:1 = 1.b2.b02. , EN~a# [...] \n",
      "P387752:obverse:0:1 = 1.b2.b03. [...] \n",
      "P387752:obverse:0:1 = 1.b2.b04. [...] \n",
      "P387752:obverse:0:1 = 1.b2.b05. , NAGA~a \n",
      "P387752:obverse:0:1 = 1.b2.b06. [...] ZATU694~c# \n",
      "P387752:obverse:0:1 = 1.b2.b07. [...] \n",
      "P387752:obverse:0:1 = 1.b2.b08. , AN NIN DUB~a \n",
      "P387752:obverse:0:1 = 1.b1.b01. , NIN NAB DI \n",
      "P387752:obverse:0:1 = 1.b1.b02. , SAL 1(N02) , PAP~a \n",
      "P387752:obverse:0:1 = 1.b1.b03. , BU~a U4 SI4~a \n",
      "P387752:obverse:0:1 = 1.b1.b04. , EN~a U4 \n",
      "P387752:obverse:0:1 = 1.b1.b05. [...] X \n",
      "P387752:obverse:0:1 = 1.b1.b06. , NAR \n",
      "P387752:obverse:0:1 = 1.b1.b07. , EN~a U4 \n",
      "P387752:obverse:0:1 = 1.b1.b08. , ZATU628~a KI \n",
      "P387752:obverse:0:1 = 1.b1.b09. [...] \n",
      "P387752:obverse:0:1 = 1.b1.b10. [...] \n",
      "P387752:obverse:0:1 = 1.b1.b11. , SAL# SAL \n",
      "P387752:obverse:0:1 = 1.b1.b12. , SZEG9 \n",
      "P387752:obverse:0:1 = 1.b1.b13. [...] \n",
      "P387752:obverse:0:1 = 1.b1.b14. [...] \n",
      "P387752:obverse:0:1 = 1.b1.b15. [...] \n",
      "P387752:obverse:0:1 = 1.b1.b16. , X GI4~a \n",
      "P387752:obverse:0:1 = 1.b1.b17. [...] \n",
      "P387752:obverse:0:1 = 1.b1.b18. [...] \n",
      "P387752:obverse:0:1 = 1.b1.b19. [...] \n",
      "P387752:obverse:0:1 = 1.b1.b20. [...] \n",
      "P387752:obverse:0:2 = 2.b2.b1. , MA AN AMA~a \n",
      "P387752:obverse:0:2 = 2.b1.b1. , AMA~a GI6 \n",
      "P387752:obverse:0:2 = 2.b1.b2. , X [...] \n",
      "P006307:reverse:1:2 = 2.b2B1. 2(N01) , U8? [...] \n",
      "P006307:reverse:1:2 = 2.b2B2. 1(N01) , SZE3 UDUNITA~a#? \n",
      "P006307:reverse:1:2 = 2.b2B3. 2(N01) , X [...] \n",
      "P006307:reverse:1:2 = 2.b1B1. 2(N01)# , U8#? [...] \n",
      "P006307:reverse:1:2 = 2.b1B2. 1(N01)# , [...] \n",
      "P006307:reverse:1:2 = 2.b1B3. 4(N01) , UDUNITA~a#? [...] \n",
      "P006307:reverse:1:2 = 2.b1B4. 6(N01) , MASZ2#? \n",
      "P004735:obverse:2:1 = 1.b1B2. , (ZI~a#? AN)a \n",
      "P004735:obverse:2:1 = 1.b1B3. , (ANSZE~e 7(N57) DUR2 DU)a \n",
      "P004735:obverse:2:1 = 1.b1B4. , (LAL3~a#? GAR IG~b)a \n",
      "P004735:obverse:2:1 = 1.b1B1. , (NAB DI |BU~a+DU6~a|)a \n",
      "P004735:obverse:2:2 = 2.b2B1. , (GI6 KISZIK~a# URI3~a)a \n",
      "P004735:obverse:2:2 = 2.b2B2. , ([...])a \n",
      "P002856:obverse:2:3 = 3.b1B4. , [...] \n",
      "P002856:obverse:2:3 = 3.b1B1. 2(N34) 2(N14) 4(N01) , SUHUR# [...] \n",
      "P002856:obverse:2:3 = 3.b1B2. 2(N14) 4(N01) , SUHUR# [...] \n",
      "P002856:obverse:2:3 = 3.b1B3. 4(N01) , SUHUR [...] \n",
      "P006056:reverse:1:3 = 3.b2B2. 3(N01) , DUB~a KUR~a \n",
      "P006056:reverse:1:3 = 3.b2B1. 2(N01) , EN~a SZE3 KUR~a \n"
     ]
    }
   ],
   "source": [
    "sublevel4Nodes = A.casesByLevel(4, terminal=True)\n",
    "\n",
    "for node in sublevel4Nodes:\n",
    "    (pNum, column, lineNum) = T.sectionFromNode(node)\n",
    "    srcLn = F.srcLn.v(node)\n",
    "    print(f'{pNum}:{column}:{lineNum} = {srcLn}')"
   ]
  },
  {
   "cell_type": "markdown",
   "metadata": {},
   "source": [
    "We collect all sign nodes in these cases into a list."
   ]
  },
  {
   "cell_type": "code",
   "execution_count": 37,
   "metadata": {},
   "outputs": [],
   "source": [
    "sublevel4Signs = []\n",
    "for c4 in sublevel4Nodes:\n",
    "    for sign in L.d(c4, otype='sign'):\n",
    "        sublevel4Signs.append(sign)"
   ]
  },
  {
   "cell_type": "markdown",
   "metadata": {},
   "source": [
    "We count the signs occurring in these cases by their full ATF representation."
   ]
  },
  {
   "cell_type": "code",
   "execution_count": 39,
   "metadata": {},
   "outputs": [],
   "source": [
    "signs4count = collections.Counter()\n",
    "for s in sublevel4Signs:\n",
    "    signs4count[A.atfFromSign(s)] += 1"
   ]
  },
  {
   "cell_type": "markdown",
   "metadata": {},
   "source": [
    "We print the counts, first sorted by atf representation."
   ]
  },
  {
   "cell_type": "code",
   "execution_count": 40,
   "metadata": {},
   "outputs": [
    {
     "name": "stdout",
     "output_type": "stream",
     "text": [
      "  47 x ...\n",
      "  16 x 1(N01)\n",
      "   1 x 1(N02)\n",
      "   2 x 1(N03)\n",
      "   2 x 1(N05)\n",
      "   1 x 1(N14)\n",
      "   1 x 1(N18)\n",
      "   1 x 1(N20)\n",
      "   1 x 1(N24~a)\n",
      "   1 x 1(N25)\n",
      "   2 x 1(N40)\n",
      "   2 x 1(N42~a)\n",
      "  15 x 1(N57)\n",
      "   5 x 2(N01)\n",
      "   1 x 2(N05)\n",
      "   3 x 2(N14)\n",
      "   1 x 2(N34)\n",
      "   1 x 2(N40)\n",
      "   2 x 2(N42~a)\n",
      "   1 x 2(N57)\n",
      "   2 x 3(N01)\n",
      "   1 x 3(N18)\n",
      "   2 x 3(N20)\n",
      "   1 x 3(N40)\n",
      "   3 x 3(N57)\n",
      "   4 x 4(N01)\n",
      "   1 x 4(N18)\n",
      "   1 x 5(N01)\n",
      "   1 x 5(N03)\n",
      "   2 x 6(N01)\n",
      "   2 x 7(N01)\n",
      "   1 x 7(N57)\n",
      "   1 x 8(N01)\n",
      "   1 x AB~a\n",
      "   1 x ADAB\n",
      "   2 x ALAN~b\n",
      "   2 x AMA~a\n",
      "   6 x AN\n",
      "   1 x ANSZE~e\n",
      "   2 x BA\n",
      "   2 x BAD\n",
      "   5 x BU~a\n",
      "   2 x DI\n",
      "   2 x DILMUN\n",
      "   1 x DIM~a\n",
      "   1 x DU\n",
      "   1 x DU6~a\n",
      "   2 x DUB~a\n",
      "   1 x DUG~c\n",
      "   1 x DUR2\n",
      "   4 x E2~a\n",
      "   2 x E2~b\n",
      "  11 x EN~a\n",
      "   1 x ERIN\n",
      "   1 x GA2~a1\n",
      "   1 x GAL~a\n",
      "   1 x GAN2\n",
      "   1 x GAN~c\n",
      "   2 x GAR\n",
      "   1 x GESZTU~a\n",
      "   2 x GI\n",
      "   1 x GI4~a\n",
      "   2 x GI6\n",
      "   1 x GU\n",
      "   3 x HI\n",
      "   1 x HI@g~a\n",
      "   1 x IG~b\n",
      "   1 x KASZ~c\n",
      "   1 x KI\n",
      "   1 x KISZIK~a\n",
      "   1 x KU3~a\n",
      "   2 x KUR~a\n",
      "   1 x LAGAB~a\n",
      "   1 x LAL3~a\n",
      "   1 x MA\n",
      "   3 x MASZ2\n",
      "   2 x MUSZ3~a\n",
      "   2 x NAB\n",
      "   2 x NAGA~a\n",
      "   1 x NAMESZDA\n",
      "   1 x NAR\n",
      "   2 x NIN\n",
      "   4 x NUN~a\n",
      "   3 x PAP~a\n",
      "   1 x PA~a\n",
      "   1 x PIRIG~b1\n",
      "   1 x SAG\n",
      "   5 x SAL\n",
      "   1 x SI4~a\n",
      "   1 x SIG2~b\n",
      "   3 x SUHUR\n",
      "   1 x SUKKAL\n",
      "   1 x SUR\n",
      "   3 x SZA\n",
      "   4 x SZE3\n",
      "   1 x SZEG9\n",
      "   2 x SZE~a\n",
      "   1 x SZITA~a1\n",
      "   5 x SZU\n",
      "   2 x SZU2\n",
      "   1 x SZUR2~a\n",
      "   2 x TAK4~a\n",
      "   3 x TUR\n",
      "   1 x U2~a\n",
      "   5 x U4\n",
      "   3 x U8\n",
      "   1 x UD5~a\n",
      "   2 x UDUNITA~a\n",
      "   1 x UDU~a\n",
      "   1 x URI3~a\n",
      "   1 x UTUL~a\n",
      "  11 x X\n",
      "   1 x ZATU628~a\n",
      "   1 x ZATU651@g\n",
      "   1 x ZATU659\n",
      "   1 x ZATU694~c\n",
      "   1 x ZATU836\n",
      "   1 x ZI~a\n"
     ]
    }
   ],
   "source": [
    "for (sign, amount) in sorted(signs4count.items()):\n",
    "    print(f'{amount:>4} x {sign}')"
   ]
  },
  {
   "cell_type": "markdown",
   "metadata": {},
   "source": [
    "and now the same list, sorted by frequency."
   ]
  },
  {
   "cell_type": "code",
   "execution_count": 41,
   "metadata": {},
   "outputs": [
    {
     "name": "stdout",
     "output_type": "stream",
     "text": [
      "  47 x ...\n",
      "  16 x 1(N01)\n",
      "  15 x 1(N57)\n",
      "  11 x EN~a\n",
      "  11 x X\n",
      "   6 x AN\n",
      "   5 x 2(N01)\n",
      "   5 x BU~a\n",
      "   5 x SAL\n",
      "   5 x SZU\n",
      "   5 x U4\n",
      "   4 x 4(N01)\n",
      "   4 x E2~a\n",
      "   4 x NUN~a\n",
      "   4 x SZE3\n",
      "   3 x 2(N14)\n",
      "   3 x 3(N57)\n",
      "   3 x HI\n",
      "   3 x MASZ2\n",
      "   3 x PAP~a\n",
      "   3 x SUHUR\n",
      "   3 x SZA\n",
      "   3 x TUR\n",
      "   3 x U8\n",
      "   2 x 1(N03)\n",
      "   2 x 1(N05)\n",
      "   2 x 1(N40)\n",
      "   2 x 1(N42~a)\n",
      "   2 x 2(N42~a)\n",
      "   2 x 3(N01)\n",
      "   2 x 3(N20)\n",
      "   2 x 6(N01)\n",
      "   2 x 7(N01)\n",
      "   2 x ALAN~b\n",
      "   2 x AMA~a\n",
      "   2 x BA\n",
      "   2 x BAD\n",
      "   2 x DI\n",
      "   2 x DILMUN\n",
      "   2 x DUB~a\n",
      "   2 x E2~b\n",
      "   2 x GAR\n",
      "   2 x GI\n",
      "   2 x GI6\n",
      "   2 x KUR~a\n",
      "   2 x MUSZ3~a\n",
      "   2 x NAB\n",
      "   2 x NAGA~a\n",
      "   2 x NIN\n",
      "   2 x SZE~a\n",
      "   2 x SZU2\n",
      "   2 x TAK4~a\n",
      "   2 x UDUNITA~a\n",
      "   1 x 1(N02)\n",
      "   1 x 1(N14)\n",
      "   1 x 1(N18)\n",
      "   1 x 1(N20)\n",
      "   1 x 1(N24~a)\n",
      "   1 x 1(N25)\n",
      "   1 x 2(N05)\n",
      "   1 x 2(N34)\n",
      "   1 x 2(N40)\n",
      "   1 x 2(N57)\n",
      "   1 x 3(N18)\n",
      "   1 x 3(N40)\n",
      "   1 x 4(N18)\n",
      "   1 x 5(N01)\n",
      "   1 x 5(N03)\n",
      "   1 x 7(N57)\n",
      "   1 x 8(N01)\n",
      "   1 x AB~a\n",
      "   1 x ADAB\n",
      "   1 x ANSZE~e\n",
      "   1 x DIM~a\n",
      "   1 x DU\n",
      "   1 x DU6~a\n",
      "   1 x DUG~c\n",
      "   1 x DUR2\n",
      "   1 x ERIN\n",
      "   1 x GA2~a1\n",
      "   1 x GAL~a\n",
      "   1 x GAN2\n",
      "   1 x GAN~c\n",
      "   1 x GESZTU~a\n",
      "   1 x GI4~a\n",
      "   1 x GU\n",
      "   1 x HI@g~a\n",
      "   1 x IG~b\n",
      "   1 x KASZ~c\n",
      "   1 x KI\n",
      "   1 x KISZIK~a\n",
      "   1 x KU3~a\n",
      "   1 x LAGAB~a\n",
      "   1 x LAL3~a\n",
      "   1 x MA\n",
      "   1 x NAMESZDA\n",
      "   1 x NAR\n",
      "   1 x PA~a\n",
      "   1 x PIRIG~b1\n",
      "   1 x SAG\n",
      "   1 x SI4~a\n",
      "   1 x SIG2~b\n",
      "   1 x SUKKAL\n",
      "   1 x SUR\n",
      "   1 x SZEG9\n",
      "   1 x SZITA~a1\n",
      "   1 x SZUR2~a\n",
      "   1 x U2~a\n",
      "   1 x UD5~a\n",
      "   1 x UDU~a\n",
      "   1 x URI3~a\n",
      "   1 x UTUL~a\n",
      "   1 x ZATU628~a\n",
      "   1 x ZATU651@g\n",
      "   1 x ZATU659\n",
      "   1 x ZATU694~c\n",
      "   1 x ZATU836\n",
      "   1 x ZI~a\n"
     ]
    }
   ],
   "source": [
    "for (sign, amount) in sorted(\n",
    "    signs4count.items(),\n",
    "    key=lambda x: (-x[1], x[0]),\n",
    "):\n",
    "    print(f'{amount:>4} x {sign}')"
   ]
  },
  {
   "cell_type": "markdown",
   "metadata": {},
   "source": [
    "# TILL SO FAR\n",
    "Below are ways to classify tablets as to what number systems are present on them.\n",
    "This I did earlier."
   ]
  },
  {
   "cell_type": "markdown",
   "metadata": {},
   "source": [
    "Specification of the Shin systems: just the bare minimum of info."
   ]
  },
  {
   "cell_type": "code",
   "execution_count": 5,
   "metadata": {
    "ExecuteTime": {
     "end_time": "2018-03-05T11:57:20.895551Z",
     "start_time": "2018-03-05T11:57:20.869236Z"
    }
   },
   "outputs": [],
   "source": [
    "numberSystems = dict(\n",
    "    shinP = (40, 3, 18, 24, 45),\n",
    "    shinPP = (4,19, 36, 41, 46, 49),\n",
    "    shinS = (25, 27, 28, 42, 5, 20, 47, 37),\n",
    ")"
   ]
  },
  {
   "cell_type": "markdown",
   "metadata": {},
   "source": [
    "We turn the numbers into numeral graphemes:"
   ]
  },
  {
   "cell_type": "code",
   "execution_count": 6,
   "metadata": {
    "ExecuteTime": {
     "end_time": "2018-03-05T11:57:21.988281Z",
     "start_time": "2018-03-05T11:57:21.959339Z"
    }
   },
   "outputs": [],
   "source": [
    "systems = {}\n",
    "\n",
    "for (shin, numbers) in numberSystems.items():\n",
    "    systems[shin] = {f'N{n:>02}' for n in numbers}"
   ]
  },
  {
   "cell_type": "markdown",
   "metadata": {},
   "source": [
    "Reality check"
   ]
  },
  {
   "cell_type": "code",
   "execution_count": 7,
   "metadata": {
    "ExecuteTime": {
     "end_time": "2018-03-05T11:57:22.891838Z",
     "start_time": "2018-03-05T11:57:22.858900Z"
    }
   },
   "outputs": [
    {
     "data": {
      "text/plain": [
       "{'shinP': {'N03', 'N18', 'N24', 'N40', 'N45'},\n",
       " 'shinPP': {'N04', 'N19', 'N36', 'N41', 'N46', 'N49'},\n",
       " 'shinS': {'N05', 'N20', 'N25', 'N27', 'N28', 'N37', 'N42', 'N47'}}"
      ]
     },
     "execution_count": 7,
     "metadata": {},
     "output_type": "execute_result"
    }
   ],
   "source": [
    "systems"
   ]
  },
  {
   "cell_type": "markdown",
   "metadata": {},
   "source": [
    "We also want the opposite: given a numeral, which system is it?"
   ]
  },
  {
   "cell_type": "code",
   "execution_count": 8,
   "metadata": {
    "ExecuteTime": {
     "end_time": "2018-03-05T11:57:25.455293Z",
     "start_time": "2018-03-05T11:57:25.421103Z"
    }
   },
   "outputs": [
    {
     "data": {
      "text/plain": [
       "{'N03': 'shinP',\n",
       " 'N04': 'shinPP',\n",
       " 'N05': 'shinS',\n",
       " 'N18': 'shinP',\n",
       " 'N19': 'shinPP',\n",
       " 'N20': 'shinS',\n",
       " 'N24': 'shinP',\n",
       " 'N25': 'shinS',\n",
       " 'N27': 'shinS',\n",
       " 'N28': 'shinS',\n",
       " 'N36': 'shinPP',\n",
       " 'N37': 'shinS',\n",
       " 'N40': 'shinP',\n",
       " 'N41': 'shinPP',\n",
       " 'N42': 'shinS',\n",
       " 'N45': 'shinP',\n",
       " 'N46': 'shinPP',\n",
       " 'N47': 'shinS',\n",
       " 'N49': 'shinPP'}"
      ]
     },
     "execution_count": 8,
     "metadata": {},
     "output_type": "execute_result"
    }
   ],
   "source": [
    "numeralMap = {}\n",
    "\n",
    "for (shin, numerals) in systems.items():\n",
    "    for n in numerals:\n",
    "        if n in numeralMap:\n",
    "            dm(f'**warning:** Numeral {n} in {shin} was already in {numeralMap[n]}')\n",
    "        numeralMap[n] = shin\n",
    "\n",
    "numeralMap"
   ]
  },
  {
   "cell_type": "markdown",
   "metadata": {},
   "source": [
    "Exercise:\n",
    "\n",
    "For each tablet, add three properties: hasShinP, hasShinPP, hasShinS.\n",
    "They will be True if and only if the tablet has a numeral in that category.\n",
    "Even better, instead of True or False, we let them record how many numerals in that set they have. "
   ]
  },
  {
   "cell_type": "code",
   "execution_count": 9,
   "metadata": {
    "ExecuteTime": {
     "end_time": "2018-03-05T11:57:27.858075Z",
     "start_time": "2018-03-05T11:57:27.637006Z"
    }
   },
   "outputs": [],
   "source": [
    "tabletNumerics = collections.defaultdict(collections.Counter)\n",
    "\n",
    "for tablet in F.otype.s('tablet'):\n",
    "    pNum = F.catalogId.v(tablet)\n",
    "    for sign in L.d(tablet, otype='sign'):\n",
    "        if F.type.v(sign) == 'numeral':\n",
    "            numeral = F.grapheme.v(sign)\n",
    "            system = numeralMap.get(numeral, None)\n",
    "            if system is not None:\n",
    "                tabletNumerics[pNum][system] += 1"
   ]
  },
  {
   "cell_type": "markdown",
   "metadata": {},
   "source": [
    "Now we write a csv file to the report directory, so that you can work with the data in Excel.\n",
    "\n",
    "We show the first few lines in the notebook"
   ]
  },
  {
   "cell_type": "code",
   "execution_count": 10,
   "metadata": {
    "ExecuteTime": {
     "end_time": "2018-03-05T11:57:29.123677Z",
     "start_time": "2018-03-05T11:57:29.079389Z"
    }
   },
   "outputs": [
    {
     "name": "stdout",
     "output_type": "stream",
     "text": [
      "P000148\t0\t0\t1\n",
      "P000245\t2\t0\t0\n",
      "P000266\t0\t1\t0\n",
      "P000308\t2\t0\t0\n",
      "P000434\t2\t0\t0\n",
      "P000511\t1\t0\t0\n",
      "P000517\t1\t0\t0\n",
      "P000550\t2\t0\t0\n",
      "P000734\t2\t0\t0\n",
      "P000735\t2\t0\t1\n",
      "\n"
     ]
    }
   ],
   "source": [
    "filePath = f'{A.reportDir}/tabletNumerics.tsv'\n",
    "lines = []\n",
    "systemNames = sorted(systems)\n",
    "fieldNames = \"\\t\".join(systemNames)\n",
    "for pNum in sorted(tabletNumerics):\n",
    "    data = tabletNumerics[pNum]\n",
    "    values = \"\\t\".join(str(data[s]) for s in systemNames)\n",
    "    lines.append(f'{pNum}\\t{values}\\n')\n",
    "with open(filePath, 'w') as fh:\n",
    "    fh.write(f'tablet\\t{fieldNames}\\n')\n",
    "    fh.write(''.join(lines))\n",
    "\n",
    "print(''.join(lines[0:10]))"
   ]
  },
  {
   "cell_type": "code",
   "execution_count": null,
   "metadata": {},
   "outputs": [],
   "source": []
  }
 ],
 "metadata": {
  "kernelspec": {
   "display_name": "Python 3",
   "language": "python",
   "name": "python3"
  },
  "language_info": {
   "codemirror_mode": {
    "name": "ipython",
    "version": 3
   },
   "file_extension": ".py",
   "mimetype": "text/x-python",
   "name": "python",
   "nbconvert_exporter": "python",
   "pygments_lexer": "ipython3",
   "version": "3.6.4"
  },
  "toc": {
   "nav_menu": {},
   "number_sections": true,
   "sideBar": true,
   "skip_h1_title": true,
   "toc_cell": true,
   "toc_position": {
    "height": "857px",
    "left": "0px",
    "right": "1251px",
    "top": "110px",
    "width": "214px"
   },
   "toc_section_display": "block",
   "toc_window_display": false
  }
 },
 "nbformat": 4,
 "nbformat_minor": 2
}
