{
 "cells": [
  {
   "cell_type": "markdown",
   "metadata": {
    "toc": true
   },
   "source": [
    "<h1>Table of Contents<span class=\"tocSkip\"></span></h1>\n",
    "<div class=\"toc\" style=\"margin-top: 1em;\"><ul class=\"toc-item\"></ul></div>"
   ]
  },
  {
   "cell_type": "code",
   "execution_count": 1,
   "metadata": {},
   "outputs": [],
   "source": [
    "%load_ext autoreload\n",
    "%autoreload 2"
   ]
  },
  {
   "cell_type": "code",
   "execution_count": 2,
   "metadata": {
    "ExecuteTime": {
     "end_time": "2018-04-20T10:03:12.799354Z",
     "start_time": "2018-04-20T10:03:12.773813Z"
    }
   },
   "outputs": [],
   "source": [
    "import os, sys\n",
    "from IPython.display import display, HTML, Markdown\n",
    "from ipywidgets import interact, interactive, fixed, interact_manual\n",
    "import ipywidgets as widgets\n",
    "\n",
    "from tf.extra.cunei import Cunei"
   ]
  },
  {
   "cell_type": "code",
   "execution_count": 3,
   "metadata": {
    "ExecuteTime": {
     "end_time": "2018-04-20T10:03:14.507452Z",
     "start_time": "2018-04-20T10:03:13.712379Z"
    }
   },
   "outputs": [
    {
     "name": "stdout",
     "output_type": "stream",
     "text": [
      "Found 2095 ideograph linearts\n",
      "Found 2724 tablet linearts\n",
      "Found 5495 tablet photos\n"
     ]
    },
    {
     "data": {
      "text/markdown": [
       "**Documentation:** <a target=\"_blank\" href=\"https://github.com/Nino-cunei/uruk/blob/master/docs/about.md\" title=\"provenance of this corpus\">Uruk IV-III (v1.0)</a> <a target=\"_blank\" href=\"https://github.com/Nino-cunei/uruk/blob/master/docs/transcription.md\" title=\"feature documentation\">Feature docs</a> <a target=\"_blank\" href=\"https://dans-labs.github.io/text-fabric/Api/Cunei/\" title=\"cunei api documentation\">Cunei API</a> <a target=\"_blank\" href=\"https://dans-labs.github.io/text-fabric/Api/General/\" title=\"text-fabric-api\">Text-Fabric API 5.0.4</a> <a target=\"_blank\" href=\"https://dans-labs.github.io/text-fabric/Api/General/#search-templates\" title=\"Search Templates Introduction and Reference\">Search help</a>"
      ],
      "text/plain": [
       "<IPython.core.display.Markdown object>"
      ]
     },
     "metadata": {},
     "output_type": "display_data"
    },
    {
     "data": {
      "text/markdown": [
       "\n",
       "This notebook online:\n",
       "<a target=\"_blank\" href=\"http://nbviewer.jupyter.org/github/Nino-cunei/tutorials/blob/master/bits-and-pieces/calculator.ipynb\">NBViewer</a>\n",
       "<a target=\"_blank\" href=\"https://github.com/Nino-cunei/tutorials/blob/master/bits-and-pieces/calculator.ipynb\">GitHub</a>\n"
      ],
      "text/plain": [
       "<IPython.core.display.Markdown object>"
      ]
     },
     "metadata": {},
     "output_type": "display_data"
    },
    {
     "data": {
      "text/html": [
       "\n",
       "<style type=\"text/css\">\n",
       ".pnum {\n",
       "    font-family: sans-serif;\n",
       "    font-size: small;\n",
       "    font-weight: bold;\n",
       "    color: #444444;\n",
       "}\n",
       ".nd {\n",
       "    font-family: monospace;\n",
       "    font-size: x-small;\n",
       "    color: #999999;\n",
       "}\n",
       ".meta {\n",
       "    display: flex;\n",
       "    justify-content: flex-start;\n",
       "    align-items: flex-start;\n",
       "    align-content: flex-start;\n",
       "    flex-flow: row nowrap;\n",
       "}\n",
       ".features,.comments {\n",
       "    display: flex;\n",
       "    justify-content: flex-start;\n",
       "    align-items: flex-start;\n",
       "    align-content: flex-start;\n",
       "    flex-flow: column nowrap;\n",
       "}\n",
       ".children {\n",
       "    display: flex;\n",
       "    justify-content: flex-start;\n",
       "    align-items: flex-start;\n",
       "    align-content: flex-start;\n",
       "    border: 0;\n",
       "    background-color: #ffffff;\n",
       "}\n",
       ".children.tablet,.children.face {\n",
       "    flex-flow: row nowrap;\n",
       "}\n",
       ".children.column {\n",
       "    align-items: stretch;\n",
       "    flex-flow: column nowrap;\n",
       "}\n",
       ".children.line,.children.case {\n",
       "    align-items: stretch;\n",
       "    flex-flow: row nowrap;\n",
       "}\n",
       ".children.caseh,.children.trminalh {\n",
       "    flex-flow: row nowrap;\n",
       "}\n",
       ".children.casev,.children.trminalv {\n",
       "    flex-flow: column nowrap;\n",
       "}\n",
       ".children.trminal {\n",
       "    flex-flow: row nowrap;\n",
       "}\n",
       ".children.cluster {\n",
       "    flex-flow: row wrap;\n",
       "}\n",
       ".children.quad {\n",
       "    flex-flow: row wrap;\n",
       "}\n",
       ".children.sign {\n",
       "    flex-flow: column nowrap;\n",
       "}\n",
       ".contnr {\n",
       "    width: fit-content;\n",
       "}\n",
       ".contnr.tablet,.contnr.face,.contnr.column,\n",
       ".contnr.line,.contnr.case,.contnr.trminal,\n",
       ".contnr.comment,\n",
       ".contnr.cluster,\n",
       ".contnr.quad,.contnr.sign {\n",
       "    display: flex;\n",
       "    justify-content: flex-start;\n",
       "    align-items: flex-start;\n",
       "    align-content: flex-start;\n",
       "    flex-flow: column nowrap;\n",
       "    background: #ffffff none repeat scroll 0 0;\n",
       "    padding:  0.5em 0.1em 0.1em 0.1em;\n",
       "    margin: 0.8em 0.1em 0.1em 0.1em;\n",
       "    border-radius: 0.2em;\n",
       "    border-style: solid;\n",
       "    border-width: 0.2em;\n",
       "    font-size: small;\n",
       "}\n",
       ".contnr.tablet,.contnr.face,.contnr.column {\n",
       "    border-color: #bb8800;\n",
       "}\n",
       ".contnr.line,.contnr.case,.contnr.trminal {\n",
       "    border-color: #0088bb;\n",
       "}\n",
       ".contnr.cluster {\n",
       "    flex-flow: row wrap;\n",
       "    border: 0;\n",
       "}\n",
       ".contnr.sign,.contnr.quad {\n",
       "    border-color: #bbbbbb;\n",
       "}\n",
       ".contnr.comment {\n",
       "    background-color: #ffddaa;\n",
       "    border: 0.2em solid #eecc99;\n",
       "    border-radius: 0.3em;\n",
       "}\n",
       ".contnr.hl {\n",
       "    background-color: #ffee66;\n",
       "}\n",
       ".lbl.tablet,.lbl.face,.lbl.column,\n",
       ".lbl.line,.lbl.case,.lbl.trminal,\n",
       ".lbl.comment,\n",
       ".lbl.cluster,\n",
       ".lbl.quad,.lbl.sign {\n",
       "    margin-top: -1.2em;\n",
       "    margin-left: 1em;\n",
       "    background: #ffffff none repeat scroll 0 0;\n",
       "    padding: 0 0.3em;\n",
       "    border-style: solid;\n",
       "    font-size: small;\n",
       "    color: #0000cc;\n",
       "    display: block;\n",
       "}\n",
       ".lbl.tablet,.lbl.face,.lbl.column {\n",
       "    border-color: #bb8800;\n",
       "    border-width: 0.2em;\n",
       "    border-radius: 0.2em;\n",
       "    color: #bb8800;\n",
       "}\n",
       ".lbl.line,.lbl.case,.lbl.trminal {\n",
       "    border-color: #0088bb;\n",
       "    border-width: 0.2em;\n",
       "    border-radius: 0.2em;\n",
       "    color: #0088bb;\n",
       "}\n",
       ".lbl.comment {\n",
       "    border-color: #eecc99;\n",
       "    border-width: 0.2em;\n",
       "    border-radius: 0.2em;\n",
       "    color: #eecc99;\n",
       "    background-color: #ffddaa none repeat scroll 0 0;\n",
       "}\n",
       ".lbl.clusterB,.lbl.clusterE {\n",
       "    padding:  0.5em 0.1em 0.1em 0.1em;\n",
       "    margin: 0.8em 0.1em 0.1em 0.1em;\n",
       "    color: #888844;\n",
       "    font-size: x-small;\n",
       "}\n",
       ".lbl.clusterB {\n",
       "    border-left: 0.3em solid #cccc99;\n",
       "    border-right: 0;\n",
       "    border-top: 0;\n",
       "    border-bottom: 0;\n",
       "    border-radius: 1em;\n",
       "}\n",
       ".lbl.clusterE {\n",
       "    border-left: 0;\n",
       "    border-right: 0.3em solid #cccc99;\n",
       "    border-top: 0;\n",
       "    border-bottom: 0;\n",
       "    border-radius: 1em;\n",
       "}\n",
       ".lbl.quad,.lbl.sign {\n",
       "    border-color: #bbbbbb;\n",
       "    border-width: 0.1em;\n",
       "    border-radius: 0.1em;\n",
       "    color: #bbbbbb;\n",
       "}\n",
       ".op {\n",
       "    padding:  0.5em 0.1em 0.1em 0.1em;\n",
       "    margin: 0.8em 0.1em 0.1em 0.1em;\n",
       "    font-family: monospace;\n",
       "    font-size: x-large;\n",
       "    font-weight: bold;\n",
       "}\n",
       ".name {\n",
       "    font-family: monospace;\n",
       "    font-size: medium;\n",
       "    color: #0000bb;\n",
       "}\n",
       ".period {\n",
       "    font-family: monospace;\n",
       "    font-size: medium;\n",
       "    font-weight: bold;\n",
       "    color: #0000bb;\n",
       "}\n",
       ".excavation {\n",
       "    font-family: monospace;\n",
       "    font-size: medium;\n",
       "    font-style: italic;\n",
       "    color: #779900;\n",
       "}\n",
       ".text {\n",
       "    font-family: sans-serif;\n",
       "    font-size: x-small;\n",
       "    color: #000000;\n",
       "}\n",
       ".srcLn {\n",
       "    font-family: monospace;\n",
       "    font-size: medium;\n",
       "    color: #000000;\n",
       "}\n",
       ".srcLnNum {\n",
       "    font-family: monospace;\n",
       "    font-size: x-small;\n",
       "    color: #0000bb;\n",
       "}\n",
       "</style>\n"
      ],
      "text/plain": [
       "<IPython.core.display.HTML object>"
      ]
     },
     "metadata": {},
     "output_type": "display_data"
    }
   ],
   "source": [
    "A = Cunei('~/github', 'Nino-cunei/uruk', 'calculator')\n",
    "A.api.makeAvailableIn(globals())"
   ]
  },
  {
   "cell_type": "code",
   "execution_count": 4,
   "metadata": {},
   "outputs": [
    {
     "data": {
      "text/plain": [
       "(('tablet', 22.013513513513512, 143889, 150252),\n",
       " ('face', 14.098032994923859, 150253, 159708),\n",
       " ('column', 9.338016116380233, 180450, 194472),\n",
       " ('line', 3.6104012052898833, 227226, 263067),\n",
       " ('case', 3.4648222982074395, 159709, 169359),\n",
       " ('cluster', 1.031416969437914, 194473, 227225),\n",
       " ('quad', 2.050606220347918, 140095, 143888),\n",
       " ('comment', 1.0, 169360, 180449),\n",
       " ('sign', 1, 1, 140094))"
      ]
     },
     "execution_count": 4,
     "metadata": {},
     "output_type": "execute_result"
    }
   ],
   "source": [
    "C.levels.data"
   ]
  },
  {
   "cell_type": "code",
   "execution_count": 5,
   "metadata": {
    "ExecuteTime": {
     "end_time": "2018-04-20T10:03:14.641150Z",
     "start_time": "2018-04-20T10:03:14.634465Z"
    }
   },
   "outputs": [],
   "source": [
    "shinPP = dict(\n",
    "    N41=0.2,\n",
    "    N04=1,\n",
    "    N19=6,\n",
    "    N46=60,\n",
    "    N36=180,\n",
    "    N49=1800,\n",
    ")\n",
    "\n",
    "shinPPPat = '|'.join(shinPP)"
   ]
  },
  {
   "cell_type": "markdown",
   "metadata": {},
   "source": [
    "We query for shinPP numerals on the faces of tablets.\n",
    "The result of the query is a list of tuples `(t, f, s)` consisting of\n",
    "a tablet node, a face node and a sign node, which is a shinPP numeral."
   ]
  },
  {
   "cell_type": "code",
   "execution_count": 13,
   "metadata": {},
   "outputs": [],
   "source": [
    "def condense(results):\n",
    "    otype = F.otype.v\n",
    "    up = L.u\n",
    "    tablets = {}\n",
    "    for ns in results:\n",
    "      for n in ns:\n",
    "        if otype(n) == 'tablet':\n",
    "          tablets.setdefault(n, set())\n",
    "        else:\n",
    "          t = up(n, otype='tablet')[0]\n",
    "          tablets.setdefault(t, set()).add(n)\n",
    "    return tuple((t, ) + tuple(tablets[t]) for t in sortNodes(tablets))"
   ]
  },
  {
   "cell_type": "code",
   "execution_count": 14,
   "metadata": {
    "ExecuteTime": {
     "end_time": "2018-04-20T10:03:16.923296Z",
     "start_time": "2018-04-20T10:03:16.919513Z"
    }
   },
   "outputs": [
    {
     "name": "stdout",
     "output_type": "stream",
     "text": [
      "  0.39s 38122 results\n"
     ]
    }
   ],
   "source": [
    "query = f'''\n",
    "tablet\n",
    "    sign type=numeral\n",
    "'''\n",
    "results = A.search(query)"
   ]
  },
  {
   "cell_type": "code",
   "execution_count": 15,
   "metadata": {},
   "outputs": [],
   "source": [
    "cresults = condense(results)"
   ]
  },
  {
   "cell_type": "code",
   "execution_count": 16,
   "metadata": {},
   "outputs": [
    {
     "data": {
      "text/plain": [
       "5071"
      ]
     },
     "execution_count": 16,
     "metadata": {},
     "output_type": "execute_result"
    }
   ],
   "source": [
    "len(cresults)"
   ]
  },
  {
   "cell_type": "code",
   "execution_count": 18,
   "metadata": {},
   "outputs": [
    {
     "data": {
      "text/plain": [
       "((143889, 5),\n",
       " (143890, 26, 20, 28, 22),\n",
       " (143891, 40, 41, 39),\n",
       " (143892, 64, 67, 68, 69, 70, 77, 56, 59, 60, 61),\n",
       " (143893, 98, 101, 88, 91, 94),\n",
       " (143894, 135, 108, 110, 142, 143, 119, 120, 122),\n",
       " (143895, 152, 148, 151),\n",
       " (143896, 161, 164, 166, 170, 172, 173, 176, 177, 179),\n",
       " (143897, 195, 197, 201, 204, 205, 206, 209, 211, 214, 215, 218, 187, 190),\n",
       " (143898, 232, 226, 229, 223))"
      ]
     },
     "execution_count": 18,
     "metadata": {},
     "output_type": "execute_result"
    }
   ],
   "source": [
    "cresults[0:10]"
   ]
  },
  {
   "cell_type": "code",
   "execution_count": 5,
   "metadata": {
    "ExecuteTime": {
     "end_time": "2018-04-20T10:03:16.923296Z",
     "start_time": "2018-04-20T10:03:16.919513Z"
    }
   },
   "outputs": [],
   "source": [
    "query = f'''\n",
    "tablet\n",
    "    face\n",
    "        sign type=numeral grapheme={shinPPPat}\n",
    "'''"
   ]
  },
  {
   "cell_type": "code",
   "execution_count": 6,
   "metadata": {
    "ExecuteTime": {
     "end_time": "2018-04-20T10:03:17.763081Z",
     "start_time": "2018-04-20T10:03:17.542294Z"
    }
   },
   "outputs": [
    {
     "data": {
      "text/plain": [
       "1018"
      ]
     },
     "execution_count": 6,
     "metadata": {},
     "output_type": "execute_result"
    }
   ],
   "source": [
    "results = list(S.search(query))\n",
    "len(results)"
   ]
  },
  {
   "cell_type": "code",
   "execution_count": 7,
   "metadata": {
    "ExecuteTime": {
     "end_time": "2018-04-20T10:03:18.027754Z",
     "start_time": "2018-04-20T10:03:18.015450Z"
    }
   },
   "outputs": [
    {
     "data": {
      "text/plain": [
       "235"
      ]
     },
     "execution_count": 7,
     "metadata": {},
     "output_type": "execute_result"
    }
   ],
   "source": [
    "numerals = {}\n",
    "pNums = {}\n",
    "for (tablet, face, sign) in results:\n",
    "    pNums[F.catalogId.v(tablet)] = tablet\n",
    "    numerals.setdefault(tablet, {}).setdefault(face, []).append(sign)\n",
    "len(pNums)"
   ]
  },
  {
   "cell_type": "markdown",
   "metadata": {},
   "source": [
    "We show the tablets, the shinPP numerals per face, and we add up the numerals per face."
   ]
  },
  {
   "cell_type": "code",
   "execution_count": 8,
   "metadata": {
    "ExecuteTime": {
     "end_time": "2018-04-20T10:03:19.856125Z",
     "start_time": "2018-04-20T10:03:19.848240Z"
    }
   },
   "outputs": [],
   "source": [
    "def dm(x): display(Markdown(x))\n",
    "\n",
    "def showResult(pNum, tabletLineart):\n",
    "    dm('---\\n')\n",
    "    tablet = pNums.get(pNum, None)\n",
    "    if tablet is None:\n",
    "        dm(f'**no results for {pNum}**')\n",
    "    if tabletLineart:\n",
    "        display(A.lineart(tablet, withCaption=\"top\", width=\"200\"))\n",
    "    faces = numerals[tablet]\n",
    "    for (face, signs) in faces.items():\n",
    "        dm(f'### {F.type.v(face)}')\n",
    "        distinctSigns = {}\n",
    "        for s in signs:\n",
    "            distinctSigns.setdefault(A.atfFromSign(s), []).append(s)\n",
    "        display(A.lineart(distinctSigns))\n",
    "        total = 0\n",
    "        for (signAtf, signs) in distinctSigns.items():\n",
    "            # note that all signs for the same signAtf have the same grapheme and repeat\n",
    "            value = 0\n",
    "            for s in signs:\n",
    "                value += F.repeat.v(s) * shinPP[F.grapheme.v(s)]\n",
    "            total += value\n",
    "            amount = len(signs)\n",
    "            shinPPval = shinPP[F.grapheme.v(signs[0])]\n",
    "            repeat = F.repeat.v(signs[0])\n",
    "            print(f'{amount} x {signAtf} = {amount} x {repeat} x {shinPPval} = {value}')\n",
    "        dm(f'**total** = **{total}**')"
   ]
  },
  {
   "cell_type": "markdown",
   "metadata": {},
   "source": [
    "Below you can select any of the tablets with ShinPP numerals on it, and see how its faces add up."
   ]
  },
  {
   "cell_type": "code",
   "execution_count": 9,
   "metadata": {
    "ExecuteTime": {
     "end_time": "2018-04-20T10:03:21.222902Z",
     "start_time": "2018-04-20T10:03:21.134039Z"
    }
   },
   "outputs": [
    {
     "data": {
      "text/markdown": [
       "---\n"
      ],
      "text/plain": [
       "<IPython.core.display.Markdown object>"
      ]
     },
     "metadata": {},
     "output_type": "display_data"
    },
    {
     "data": {
      "text/markdown": [
       "### obverse"
      ],
      "text/plain": [
       "<IPython.core.display.Markdown object>"
      ]
     },
     "metadata": {},
     "output_type": "display_data"
    },
    {
     "data": {
      "text/html": [
       "<div style=\"display: flex;flex-flow: row nowrap;justify-content: flex-start;align-items: center;align-content: flex-start;\"><div style=\"padding: 0.5rem;\"><div style=\"display: flex;flex-flow: column nowrap;justify-content: space-between;align-items: center;align-content: space-between;\"><div><a target=\"_blank\" href=\"https://cdli.ucla.edu/tools/SignLists/protocuneiform/archsigns/1(N04).jpg\" title=\"to higher resolution lineart on CDLI\"><img src=\"cdli-imagery/lineart-1(n04).jpg\" style=\"display: inline;\"  /></a></div><div><a target=\"_blank\" href=\"https://cdli.ucla.edu/tools/SignLists/protocuneiform/archsigns.html\" title=\"to CDLI main page for this item\">1(N04)</a></div></div></div></div>"
      ],
      "text/plain": [
       "<IPython.core.display.HTML object>"
      ]
     },
     "metadata": {},
     "output_type": "display_data"
    },
    {
     "data": {
      "text/plain": [
       "None"
      ]
     },
     "metadata": {},
     "output_type": "display_data"
    },
    {
     "name": "stdout",
     "output_type": "stream",
     "text": [
      "1 x 1(N04) = 1 x 1 x 1 = 1\n"
     ]
    },
    {
     "data": {
      "text/markdown": [
       "**total** = **1**"
      ],
      "text/plain": [
       "<IPython.core.display.Markdown object>"
      ]
     },
     "metadata": {},
     "output_type": "display_data"
    }
   ],
   "source": [
    "widget = interactive(showResult, pNum=sorted(pNums), tabletLineart=False)\n",
    "display(widget)"
   ]
  },
  {
   "cell_type": "code",
   "execution_count": null,
   "metadata": {},
   "outputs": [],
   "source": []
  }
 ],
 "metadata": {
  "kernelspec": {
   "display_name": "Python 3",
   "language": "python",
   "name": "python3"
  },
  "language_info": {
   "codemirror_mode": {
    "name": "ipython",
    "version": 3
   },
   "file_extension": ".py",
   "mimetype": "text/x-python",
   "name": "python",
   "nbconvert_exporter": "python",
   "pygments_lexer": "ipython3",
   "version": "3.6.5"
  },
  "toc": {
   "nav_menu": {},
   "number_sections": true,
   "sideBar": true,
   "skip_h1_title": true,
   "toc_cell": true,
   "toc_position": {},
   "toc_section_display": "block",
   "toc_window_display": false
  },
  "widgets": {
   "application/vnd.jupyter.widget-state+json": {
    "state": {
     "0305ff4eea7b4b72b123fe3fd53f8dc0": {
      "model_module": "@jupyter-widgets/controls",
      "model_module_version": "1.2.0",
      "model_name": "CheckboxModel",
      "state": {
       "description": "tabletLineart",
       "disabled": false,
       "layout": "IPY_MODEL_9d1768ed92b64029b4d096f30160f4c2",
       "style": "IPY_MODEL_ef53fd405a744c84adb6c0992512ef4d",
       "value": true
      }
     },
     "11a8f36fa2df42deb1cd0981a43b8216": {
      "model_module": "@jupyter-widgets/base",
      "model_module_version": "1.0.0",
      "model_name": "LayoutModel",
      "state": {}
     },
     "2e267b6a3901496b9e0125da93049bbc": {
      "model_module": "@jupyter-widgets/controls",
      "model_module_version": "1.2.0",
      "model_name": "DescriptionStyleModel",
      "state": {
       "description_width": ""
      }
     },
     "332eb10d96cd46a4abba84c96f7b74e3": {
      "model_module": "@jupyter-widgets/controls",
      "model_module_version": "1.2.0",
      "model_name": "DropdownModel",
      "state": {
       "_options_labels": [
        "P000266",
        "P001043",
        "P001270",
        "P002260",
        "P002275",
        "P002310",
        "P002329",
        "P002342",
        "P002344",
        "P002398",
        "P002464",
        "P002551",
        "P002622",
        "P002626",
        "P002652",
        "P002668",
        "P002673",
        "P002705",
        "P002727",
        "P002756",
        "P002760",
        "P002767",
        "P002776",
        "P002782",
        "P002783",
        "P002809",
        "P003094",
        "P003270",
        "P003330",
        "P003357",
        "P003503",
        "P003509",
        "P003517",
        "P003542",
        "P003655",
        "P003695",
        "P003768",
        "P003785",
        "P003808",
        "P003809",
        "P003810",
        "P003967",
        "P004028",
        "P004045",
        "P004292",
        "P004375",
        "P004392",
        "P004452",
        "P004514",
        "P004520",
        "P004553",
        "P004644",
        "P004670",
        "P004748",
        "P004831",
        "P004856",
        "P004880",
        "P005074",
        "P005078",
        "P005083",
        "P005084",
        "P005085",
        "P005096",
        "P005097",
        "P005100",
        "P005101",
        "P005103",
        "P005104",
        "P005105",
        "P005106",
        "P005109",
        "P005110",
        "P005111",
        "P005114",
        "P005115",
        "P005116",
        "P005118",
        "P005121",
        "P005127",
        "P005133",
        "P005149",
        "P005155",
        "P005161",
        "P005171",
        "P005223",
        "P005257",
        "P005276",
        "P005279",
        "P005312",
        "P005343",
        "P005348",
        "P005352",
        "P005353",
        "P005355",
        "P005365",
        "P005369",
        "P005378",
        "P005379",
        "P005381",
        "P005384",
        "P005385",
        "P005386",
        "P005390",
        "P005395",
        "P005397",
        "P005402",
        "P005403",
        "P005404",
        "P005407",
        "P005410",
        "P005445",
        "P005446",
        "P005447",
        "P005448",
        "P005450",
        "P005453",
        "P005454",
        "P005456",
        "P005464",
        "P005466",
        "P005467",
        "P005469",
        "P006005",
        "P006022",
        "P006027",
        "P006035",
        "P006048",
        "P006057",
        "P006064",
        "P006080",
        "P006111",
        "P006163",
        "P006238",
        "P006257",
        "P006273",
        "P006298",
        "P006310",
        "P006319",
        "P006320",
        "P006328",
        "P006330",
        "P006359",
        "P006375",
        "P006376",
        "P006377",
        "P006382",
        "P006391",
        "P006396",
        "P006409",
        "P006420",
        "P006421",
        "P006437",
        "P200003",
        "P212396",
        "P231787",
        "P231788",
        "P235782",
        "P250423",
        "P252182",
        "P257532",
        "P270809",
        "P274472",
        "P283916",
        "P283917",
        "P325061",
        "P325062",
        "P325066",
        "P325070",
        "P325073",
        "P325076",
        "P325218",
        "P325223",
        "P325225",
        "P325226",
        "P325232",
        "P325233",
        "P325238",
        "P325247",
        "P325354",
        "P325485",
        "P325737",
        "P325738",
        "P325740",
        "P325744",
        "P325749",
        "P325750",
        "P325757",
        "P325758",
        "P326287",
        "P326897",
        "P328729",
        "P328737",
        "P328872",
        "P328875",
        "P328886",
        "P330047",
        "P330069",
        "P330072",
        "P382659",
        "P387521",
        "P387734",
        "P391520",
        "P411540",
        "P411599",
        "P411601",
        "P411604",
        "P411609",
        "P411612",
        "P411616",
        "P411621",
        "P411875",
        "P429582",
        "P429583",
        "P448701",
        "P449948",
        "P449961",
        "P449962",
        "P464140",
        "P464167",
        "P464168",
        "P464169",
        "P464170",
        "P464172",
        "P464173",
        "P464174",
        "P464175",
        "P464176",
        "P464177",
        "P464180",
        "P464181",
        "P464182",
        "P464183",
        "P464184",
        "P464189",
        "P464273"
       ],
       "description": "pNum",
       "index": 43,
       "layout": "IPY_MODEL_a3814d520128408c840955b29b1b524b",
       "style": "IPY_MODEL_2e267b6a3901496b9e0125da93049bbc"
      }
     },
     "3d5158c1057646d9a91023b6b1966352": {
      "model_module": "@jupyter-widgets/controls",
      "model_module_version": "1.2.0",
      "model_name": "DescriptionStyleModel",
      "state": {
       "description_width": ""
      }
     },
     "5104a1590a4443789a322396dfc7d0bb": {
      "model_module": "@jupyter-widgets/base",
      "model_module_version": "1.0.0",
      "model_name": "LayoutModel",
      "state": {}
     },
     "524b7a929e074b719ad6c36a9ca9057d": {
      "model_module": "@jupyter-widgets/controls",
      "model_module_version": "1.2.0",
      "model_name": "VBoxModel",
      "state": {
       "_dom_classes": [
        "widget-interact"
       ],
       "children": [
        "IPY_MODEL_7319b2d26db74f3f86df34d56f6333cd",
        "IPY_MODEL_0305ff4eea7b4b72b123fe3fd53f8dc0",
        "IPY_MODEL_ad6760de5ada4ad9a3ef4755682cc1d3"
       ],
       "layout": "IPY_MODEL_8c3718da812e40beaa0102e5e1ee619c"
      }
     },
     "640e2061b5ca4729b2ae7227da2798cf": {
      "model_module": "@jupyter-widgets/controls",
      "model_module_version": "1.2.0",
      "model_name": "VBoxModel",
      "state": {
       "_dom_classes": [
        "widget-interact"
       ],
       "children": [
        "IPY_MODEL_332eb10d96cd46a4abba84c96f7b74e3",
        "IPY_MODEL_bb3ff7c494714f4db2cb9f25f53d9062",
        "IPY_MODEL_bea30d1d00094ad6823d40eb67535d97"
       ],
       "layout": "IPY_MODEL_ec054e96e4d04ed2a79d6c513fb94bf2"
      }
     },
     "7319b2d26db74f3f86df34d56f6333cd": {
      "model_module": "@jupyter-widgets/controls",
      "model_module_version": "1.2.0",
      "model_name": "DropdownModel",
      "state": {
       "_options_labels": [
        "P000266",
        "P001043",
        "P001270",
        "P002260",
        "P002275",
        "P002310",
        "P002329",
        "P002342",
        "P002344",
        "P002398",
        "P002464",
        "P002551",
        "P002622",
        "P002626",
        "P002652",
        "P002668",
        "P002673",
        "P002705",
        "P002727",
        "P002756",
        "P002760",
        "P002767",
        "P002776",
        "P002782",
        "P002783",
        "P002809",
        "P003094",
        "P003270",
        "P003330",
        "P003357",
        "P003503",
        "P003509",
        "P003517",
        "P003542",
        "P003655",
        "P003695",
        "P003768",
        "P003785",
        "P003808",
        "P003809",
        "P003810",
        "P003967",
        "P004028",
        "P004045",
        "P004292",
        "P004375",
        "P004392",
        "P004452",
        "P004514",
        "P004520",
        "P004553",
        "P004644",
        "P004670",
        "P004748",
        "P004831",
        "P004856",
        "P004880",
        "P005074",
        "P005078",
        "P005083",
        "P005084",
        "P005085",
        "P005096",
        "P005097",
        "P005100",
        "P005101",
        "P005103",
        "P005104",
        "P005105",
        "P005106",
        "P005109",
        "P005110",
        "P005111",
        "P005114",
        "P005115",
        "P005116",
        "P005118",
        "P005121",
        "P005127",
        "P005133",
        "P005149",
        "P005155",
        "P005161",
        "P005171",
        "P005223",
        "P005257",
        "P005276",
        "P005279",
        "P005312",
        "P005343",
        "P005348",
        "P005352",
        "P005353",
        "P005355",
        "P005365",
        "P005369",
        "P005378",
        "P005379",
        "P005381",
        "P005384",
        "P005385",
        "P005386",
        "P005390",
        "P005395",
        "P005397",
        "P005402",
        "P005403",
        "P005404",
        "P005407",
        "P005410",
        "P005445",
        "P005446",
        "P005447",
        "P005448",
        "P005450",
        "P005453",
        "P005454",
        "P005456",
        "P005464",
        "P005466",
        "P005467",
        "P005469",
        "P006005",
        "P006022",
        "P006027",
        "P006035",
        "P006048",
        "P006057",
        "P006064",
        "P006080",
        "P006111",
        "P006163",
        "P006238",
        "P006257",
        "P006273",
        "P006298",
        "P006310",
        "P006319",
        "P006320",
        "P006328",
        "P006330",
        "P006359",
        "P006375",
        "P006376",
        "P006377",
        "P006382",
        "P006391",
        "P006396",
        "P006409",
        "P006420",
        "P006421",
        "P006437",
        "P200003",
        "P212396",
        "P231787",
        "P231788",
        "P235782",
        "P250423",
        "P252182",
        "P257532",
        "P270809",
        "P274472",
        "P283916",
        "P283917",
        "P325061",
        "P325062",
        "P325066",
        "P325070",
        "P325073",
        "P325076",
        "P325218",
        "P325223",
        "P325225",
        "P325226",
        "P325232",
        "P325233",
        "P325238",
        "P325247",
        "P325354",
        "P325485",
        "P325737",
        "P325738",
        "P325740",
        "P325744",
        "P325749",
        "P325750",
        "P325757",
        "P325758",
        "P326287",
        "P326897",
        "P328729",
        "P328737",
        "P328872",
        "P328875",
        "P328886",
        "P330047",
        "P330069",
        "P330072",
        "P382659",
        "P387521",
        "P387734",
        "P391520",
        "P411540",
        "P411599",
        "P411601",
        "P411604",
        "P411609",
        "P411612",
        "P411616",
        "P411621",
        "P411875",
        "P429582",
        "P429583",
        "P448701",
        "P449948",
        "P449961",
        "P449962",
        "P464140",
        "P464167",
        "P464168",
        "P464169",
        "P464170",
        "P464172",
        "P464173",
        "P464174",
        "P464175",
        "P464176",
        "P464177",
        "P464180",
        "P464181",
        "P464182",
        "P464183",
        "P464184",
        "P464189",
        "P464273"
       ],
       "description": "pNum",
       "index": 1,
       "layout": "IPY_MODEL_ef3af97232444e7db7939c56cf470095",
       "style": "IPY_MODEL_3d5158c1057646d9a91023b6b1966352"
      }
     },
     "8c3718da812e40beaa0102e5e1ee619c": {
      "model_module": "@jupyter-widgets/base",
      "model_module_version": "1.0.0",
      "model_name": "LayoutModel",
      "state": {}
     },
     "9d1768ed92b64029b4d096f30160f4c2": {
      "model_module": "@jupyter-widgets/base",
      "model_module_version": "1.0.0",
      "model_name": "LayoutModel",
      "state": {}
     },
     "a1fa564c008c4e96834bcc809d6f5719": {
      "model_module": "@jupyter-widgets/controls",
      "model_module_version": "1.2.0",
      "model_name": "DescriptionStyleModel",
      "state": {
       "description_width": ""
      }
     },
     "a3814d520128408c840955b29b1b524b": {
      "model_module": "@jupyter-widgets/base",
      "model_module_version": "1.0.0",
      "model_name": "LayoutModel",
      "state": {}
     },
     "ad6760de5ada4ad9a3ef4755682cc1d3": {
      "model_module": "@jupyter-widgets/output",
      "model_module_version": "1.0.0",
      "model_name": "OutputModel",
      "state": {
       "layout": "IPY_MODEL_11a8f36fa2df42deb1cd0981a43b8216",
       "outputs": [
        {
         "data": {
          "text/markdown": "---\n",
          "text/plain": "<IPython.core.display.Markdown object>"
         },
         "metadata": {},
         "output_type": "display_data"
        },
        {
         "data": {
          "text/html": "        <div style=\"display: flex;flex-flow: row nowrap;justify-content: flex-start;align-items: center;align-content: flex-start;\">            <div style=\"padding: 0.5rem;\">                <div style=\"display: flex;flex-flow: column-reverse nowrap;justify-content: space-between;align-items: center;align-content: space-between;\"><div><a target=\"_blank\" href=\"https://cdli.ucla.edu/dl/lineart/P001043_l.jpg\" title=\"to higher resolution lineart on CDLI\"><img src=\"cdli-imagery/node148647lineart.jpg\" style=\"display: inline;max-width: 200px;\"  /></a></div><div><a target=\"_blank\" href=\"https://cdli.ucla.edu/search/search_results.php?SearchMode=Text&ObjectID=P001043\" title=\"to CDLI main page for this item\">P001043</a></div></div>            </div>        </div>        ",
          "text/plain": "<IPython.core.display.HTML object>"
         },
         "metadata": {},
         "output_type": "display_data"
        },
        {
         "data": {
          "text/markdown": "### obverse",
          "text/plain": "<IPython.core.display.Markdown object>"
         },
         "metadata": {},
         "output_type": "display_data"
        },
        {
         "data": {
          "text/html": "        <div style=\"display: flex;flex-flow: row nowrap;justify-content: flex-start;align-items: center;align-content: flex-start;\">            <div style=\"padding: 0.5rem;\">                <div style=\"display: flex;flex-flow: column nowrap;justify-content: space-between;align-items: center;align-content: space-between;\"><div><a target=\"_blank\" href=\"https://cdli.ucla.edu/tools/SignLists/protocuneiform/archsigns/1(N36).jpg\" title=\"to higher resolution lineart on CDLI\"><img src=\"cdli-imagery/node1(N36)lineart.jpg\" style=\"display: inline;\"  /></a></div><div><a target=\"_blank\" href=\"https://cdli.ucla.edu/tools/SignLists/protocuneiform/archsigns.html\" title=\"to CDLI main page for this item\">1(N36)</a></div></div>            </div>        </div>        ",
          "text/plain": "<IPython.core.display.HTML object>"
         },
         "metadata": {},
         "output_type": "display_data"
        },
        {
         "name": "stdout",
         "output_type": "stream",
         "text": "2 x 1(N36) = 2 x 1 x 180 = 360\n"
        },
        {
         "data": {
          "text/markdown": "**total** = **360**",
          "text/plain": "<IPython.core.display.Markdown object>"
         },
         "metadata": {},
         "output_type": "display_data"
        },
        {
         "data": {
          "text/markdown": "### reverse",
          "text/plain": "<IPython.core.display.Markdown object>"
         },
         "metadata": {},
         "output_type": "display_data"
        },
        {
         "data": {
          "text/html": "        <div style=\"display: flex;flex-flow: row nowrap;justify-content: flex-start;align-items: center;align-content: flex-start;\">            <div style=\"padding: 0.5rem;\">                <div style=\"display: flex;flex-flow: column nowrap;justify-content: space-between;align-items: center;align-content: space-between;\"><div><a target=\"_blank\" href=\"https://cdli.ucla.edu/tools/SignLists/protocuneiform/archsigns/3(N36).jpg\" title=\"to higher resolution lineart on CDLI\"><img src=\"cdli-imagery/node3(N36)lineart.jpg\" style=\"display: inline;\"  /></a></div><div><a target=\"_blank\" href=\"https://cdli.ucla.edu/tools/SignLists/protocuneiform/archsigns.html\" title=\"to CDLI main page for this item\">3(N36)</a></div></div>            </div>        </div>        ",
          "text/plain": "<IPython.core.display.HTML object>"
         },
         "metadata": {},
         "output_type": "display_data"
        },
        {
         "name": "stdout",
         "output_type": "stream",
         "text": "1 x 3(N36) = 1 x 3 x 180 = 540\n"
        },
        {
         "data": {
          "text/markdown": "**total** = **540**",
          "text/plain": "<IPython.core.display.Markdown object>"
         },
         "metadata": {},
         "output_type": "display_data"
        }
       ]
      }
     },
     "bb3ff7c494714f4db2cb9f25f53d9062": {
      "model_module": "@jupyter-widgets/controls",
      "model_module_version": "1.2.0",
      "model_name": "CheckboxModel",
      "state": {
       "description": "tabletLineart",
       "disabled": false,
       "layout": "IPY_MODEL_5104a1590a4443789a322396dfc7d0bb",
       "style": "IPY_MODEL_a1fa564c008c4e96834bcc809d6f5719",
       "value": true
      }
     },
     "bea30d1d00094ad6823d40eb67535d97": {
      "model_module": "@jupyter-widgets/output",
      "model_module_version": "1.0.0",
      "model_name": "OutputModel",
      "state": {
       "layout": "IPY_MODEL_e4bd776a9695414c8ea48163d97a417e",
       "outputs": [
        {
         "data": {
          "text/markdown": "---\n",
          "text/plain": "<IPython.core.display.Markdown object>"
         },
         "metadata": {},
         "output_type": "display_data"
        },
        {
         "data": {
          "text/html": "        <div style=\"display: flex;flex-flow: row nowrap;justify-content: flex-start;align-items: center;align-content: flex-start;\">            <div style=\"padding: 0.5rem;\">                <div style=\"display: flex;flex-flow: column-reverse nowrap;justify-content: space-between;align-items: center;align-content: space-between;\"><div><a target=\"_blank\" href=\"https://cdli.ucla.edu/dl/lineart/P004045_l.jpg\" title=\"to higher resolution lineart on CDLI\"><img src=\"cdli-imagery/node149985lineart.jpg\" style=\"display: inline;\" width=\"200\" /></a></div><div><a target=\"_blank\" href=\"https://cdli.ucla.edu/search/search_results.php?SearchMode=Text&ObjectID=P004045\" title=\"to CDLI main page\">P004045 on CDLI</a></div></div>            </div>        </div>        ",
          "text/plain": "<IPython.core.display.HTML object>"
         },
         "metadata": {},
         "output_type": "display_data"
        },
        {
         "data": {
          "text/markdown": "### obverse",
          "text/plain": "<IPython.core.display.Markdown object>"
         },
         "metadata": {},
         "output_type": "display_data"
        },
        {
         "data": {
          "text/html": "        <div style=\"display: flex;flex-flow: row nowrap;justify-content: flex-start;align-items: center;align-content: flex-start;\">            <div style=\"padding: 0.5rem;\">                <div style=\"display: flex;flex-flow: column nowrap;justify-content: space-between;align-items: center;align-content: space-between;\"><div><a target=\"_blank\" href=\"https://cdli.ucla.edu/tools/SignLists/protocuneiform/archsigns/1(N49).jpg\" title=\"to higher resolution lineart on CDLI\"><img src=\"cdli-imagery/node1(N49)lineart.jpg\" style=\"display: inline;\"  /></a></div><div><a target=\"_blank\" href=\"https://cdli.ucla.edu/tools/SignLists/protocuneiform/archsigns.html\" title=\"to CDLI main page\">1(N49) on CDLI</a></div></div></div><div style=\"padding: 0.5rem;\"><div style=\"display: flex;flex-flow: column nowrap;justify-content: space-between;align-items: center;align-content: space-between;\"><div><a target=\"_blank\" href=\"https://cdli.ucla.edu/tools/SignLists/protocuneiform/archsigns/2(N36).jpg\" title=\"to higher resolution lineart on CDLI\"><img src=\"cdli-imagery/node2(N36)lineart.jpg\" style=\"display: inline;\"  /></a></div><div><a target=\"_blank\" href=\"https://cdli.ucla.edu/tools/SignLists/protocuneiform/archsigns.html\" title=\"to CDLI main page\">2(N36) on CDLI</a></div></div></div><div style=\"padding: 0.5rem;\"><div style=\"display: flex;flex-flow: column nowrap;justify-content: space-between;align-items: center;align-content: space-between;\"><div><a target=\"_blank\" href=\"https://cdli.ucla.edu/tools/SignLists/protocuneiform/archsigns/1(N46).jpg\" title=\"to higher resolution lineart on CDLI\"><img src=\"cdli-imagery/node1(N46)lineart.jpg\" style=\"display: inline;\"  /></a></div><div><a target=\"_blank\" href=\"https://cdli.ucla.edu/tools/SignLists/protocuneiform/archsigns.html\" title=\"to CDLI main page\">1(N46) on CDLI</a></div></div></div><div style=\"padding: 0.5rem;\"><div style=\"display: flex;flex-flow: column nowrap;justify-content: space-between;align-items: center;align-content: space-between;\"><div><a target=\"_blank\" href=\"https://cdli.ucla.edu/tools/SignLists/protocuneiform/archsigns/3(N19).jpg\" title=\"to higher resolution lineart on CDLI\"><img src=\"cdli-imagery/node3(N19)lineart.jpg\" style=\"display: inline;\"  /></a></div><div><a target=\"_blank\" href=\"https://cdli.ucla.edu/tools/SignLists/protocuneiform/archsigns.html\" title=\"to CDLI main page\">3(N19) on CDLI</a></div></div>            </div>        </div>        ",
          "text/plain": "<IPython.core.display.HTML object>"
         },
         "metadata": {},
         "output_type": "display_data"
        },
        {
         "name": "stdout",
         "output_type": "stream",
         "text": "1 x 1(N49) = 1 x 1 x 1800 = 1800\n1 x 2(N36) = 1 x 2 x 180 = 360\n1 x 1(N46) = 1 x 1 x 60 = 60\n1 x 3(N19) = 1 x 3 x 6 = 18\n"
        },
        {
         "data": {
          "text/markdown": "**total** = **2238**",
          "text/plain": "<IPython.core.display.Markdown object>"
         },
         "metadata": {},
         "output_type": "display_data"
        },
        {
         "data": {
          "text/markdown": "### reverse",
          "text/plain": "<IPython.core.display.Markdown object>"
         },
         "metadata": {},
         "output_type": "display_data"
        },
        {
         "data": {
          "text/html": "        <div style=\"display: flex;flex-flow: row nowrap;justify-content: flex-start;align-items: center;align-content: flex-start;\">            <div style=\"padding: 0.5rem;\">                <div style=\"display: flex;flex-flow: column nowrap;justify-content: space-between;align-items: center;align-content: space-between;\"><div><a target=\"_blank\" href=\"https://cdli.ucla.edu/tools/SignLists/protocuneiform/archsigns/4(N36).jpg\" title=\"to higher resolution lineart on CDLI\"><img src=\"cdli-imagery/node4(N36)lineart.jpg\" style=\"display: inline;\"  /></a></div><div><a target=\"_blank\" href=\"https://cdli.ucla.edu/tools/SignLists/protocuneiform/archsigns.html\" title=\"to CDLI main page\">4(N36) on CDLI</a></div></div>            </div>        </div>        ",
          "text/plain": "<IPython.core.display.HTML object>"
         },
         "metadata": {},
         "output_type": "display_data"
        },
        {
         "name": "stdout",
         "output_type": "stream",
         "text": "1 x 4(N36) = 1 x 4 x 180 = 720\n"
        },
        {
         "data": {
          "text/markdown": "**total** = **720**",
          "text/plain": "<IPython.core.display.Markdown object>"
         },
         "metadata": {},
         "output_type": "display_data"
        }
       ]
      }
     },
     "e4bd776a9695414c8ea48163d97a417e": {
      "model_module": "@jupyter-widgets/base",
      "model_module_version": "1.0.0",
      "model_name": "LayoutModel",
      "state": {}
     },
     "ec054e96e4d04ed2a79d6c513fb94bf2": {
      "model_module": "@jupyter-widgets/base",
      "model_module_version": "1.0.0",
      "model_name": "LayoutModel",
      "state": {}
     },
     "ef3af97232444e7db7939c56cf470095": {
      "model_module": "@jupyter-widgets/base",
      "model_module_version": "1.0.0",
      "model_name": "LayoutModel",
      "state": {}
     },
     "ef53fd405a744c84adb6c0992512ef4d": {
      "model_module": "@jupyter-widgets/controls",
      "model_module_version": "1.2.0",
      "model_name": "DescriptionStyleModel",
      "state": {
       "description_width": ""
      }
     }
    },
    "version_major": 2,
    "version_minor": 0
   }
  }
 },
 "nbformat": 4,
 "nbformat_minor": 2
}
