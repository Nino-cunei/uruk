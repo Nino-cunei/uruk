{
 "cells": [
  {
   "cell_type": "markdown",
   "metadata": {
    "toc": true
   },
   "source": [
    "<h1>Table of Contents<span class=\"tocSkip\"></span></h1>\n",
    "<div class=\"toc\" style=\"margin-top: 1em;\"><ul class=\"toc-item\"><li><span><a href=\"#Collocation\" data-toc-modified-id=\"Collocation-1\"><span class=\"toc-item-num\">1&nbsp;&nbsp;</span>Collocation</a></span><ul class=\"toc-item\"><li><span><a href=\"#TF-ad\" data-toc-modified-id=\"TF-ad-1.1\"><span class=\"toc-item-num\">1.1&nbsp;&nbsp;</span>TF ad</a></span></li><li><span><a href=\"#Back-to-collocation\" data-toc-modified-id=\"Back-to-collocation-1.2\"><span class=\"toc-item-num\">1.2&nbsp;&nbsp;</span>Back to collocation</a></span></li><li><span><a href=\"#Collect-sign-pairs\" data-toc-modified-id=\"Collect-sign-pairs-1.3\"><span class=\"toc-item-num\">1.3&nbsp;&nbsp;</span>Collect sign-pairs</a></span></li></ul></li></ul></div>"
   ]
  },
  {
   "cell_type": "markdown",
   "metadata": {},
   "source": [
    "<img align=\"right\" src=\"images/tf-small.png\"/>"
   ]
  },
  {
   "cell_type": "code",
   "execution_count": 3,
   "metadata": {
    "ExecuteTime": {
     "end_time": "2018-03-05T11:55:57.394403Z",
     "start_time": "2018-03-05T11:55:56.316747Z"
    }
   },
   "outputs": [
    {
     "name": "stdout",
     "output_type": "stream",
     "text": [
      "Found 2724 tablet linearts\n",
      "Found 2095 ideographs\n"
     ]
    },
    {
     "data": {
      "text/markdown": [
       "\n",
       "**Documentation:**\n",
       "[Feature docs](https://github.com/Nino-cunei/uruk/blob/master/docs/transcription.md)\n",
       "[Cunei API](https://github.com/Nino-cunei/uruk/blob/master/docs/cunei.md)\n",
       "[Text-Fabric API](https://github.com/Dans-labs/text-fabric)\n"
      ],
      "text/plain": [
       "<IPython.core.display.Markdown object>"
      ]
     },
     "metadata": {},
     "output_type": "display_data"
    },
    {
     "data": {
      "text/markdown": [
       "\n",
       "Go to\n",
       "[nbviewer](http://nbviewer.jupyter.org/github/Nino-cunei/tutorials/blob/master/start.ipynb)\n",
       "to view this notebook with all its pdf images.\n"
      ],
      "text/plain": [
       "<IPython.core.display.Markdown object>"
      ]
     },
     "metadata": {},
     "output_type": "display_data"
    }
   ],
   "source": [
    "import sys, os\n",
    "LOC = ('~/github', 'Nino-cunei/uruk', 'start')\n",
    "sys.path.append(os.path.expanduser(f'{LOC[0]}/{LOC[1]}/programs'))\n",
    "from cunei import Cunei\n",
    "A = Cunei(*LOC)\n",
    "A.api.makeAvailableIn(globals())"
   ]
  },
  {
   "cell_type": "markdown",
   "metadata": {},
   "source": [
    "## Collocation\n",
    "\n",
    "We end this tutorial with a cliff hanger: collocation.\n",
    "\n",
    "For the study of cuneiform corpora it is useful to know which signs co-occur: on tablets and faces,\n",
    "in columns and lines, and in cases.\n",
    "\n",
    "Here we just show how to compute collocation information with respect to tablets.\n",
    "\n",
    "We refer to a future notebook [collocation](collocation.ipynb) that will be dedicated to the art and craft\n",
    "of collocation.\n",
    "\n",
    "### TF ad\n",
    "Already the task of computing collocation of signs for tablets shows a typical pattern in the modus operandi of Text-Fabric. In order to compute collocation efficiently, we have to grab a significant swath of the data, and reorganise it before we can do business.\n",
    "\n",
    "**The bad news is**: Text-Fabric does not have the right organization for this particular problem.\n",
    "\n",
    "**The good news is**: You can put the data in the right order.\n",
    "\n",
    "**The best news is**: because of the IKEA-like organization of the data in TF, you can easily\n",
    "put your bits and pieces in a cart, walk outside, and stack it in new ways to your liking.\n",
    "Indeed, the bit that draws the data from TF and puts it into the required form, is only\n",
    "a few lines of code.\n",
    "\n",
    "### Back to collocation\n",
    "\n",
    "This is what we do:\n",
    "\n",
    "* we collect all pairs of signs that co-occur on a tablet\n",
    "* we compute a measure of co-occurrence: \n",
    "  * closer together is better\n",
    "  * more tablets with the same co-occurence is better\n",
    "  \n",
    "We explain the steps as we go."
   ]
  },
  {
   "cell_type": "markdown",
   "metadata": {},
   "source": [
    "### Collect sign-pairs\n",
    "\n",
    "We want signs with primes, variants and modifiers, but without flags.\n",
    "\n",
    "In a first round, we collect all pairs of signs that have a co-occurrence on a tablet.\n",
    "\n",
    "Suppose two signs co-occur on a tablet.\n",
    "Both may have multiple occurrences.\n",
    "\n",
    "The question is: what is a sensible measure for the the degree of co-occurrence of that pair on\n",
    "that tablet?\n",
    "\n",
    "In this tutorial we ignore the faces, columns, lines and cases that the signs occur in.\n",
    "The only thing that counts is the distance between two occurrences, seen as slots.\n",
    "Every sign has a sequence number, its slot number, which tells you where the sign stands in the whole\n",
    "corpus. The distance between two slots is just the difference of those slots as numbers.\n",
    "\n",
    "The distance between two signs on a tablet is the minumum distance you can find between an occurence\n",
    "of the one and an occurrence of the other.\n",
    "\n",
    "In fact, we turn distance into closeness.\n",
    "If, on a tablet of 200 signs long, there are signs with occurrences on 40 and 60,\n",
    "their distance is 20, but there closeness is 200 - 20 = 180.\n",
    "We shall make that closeness proportional to the length of the tablet (in signs): \n",
    "180 / 200 = 0.9\n",
    "\n",
    "The same signs may co-occur on other tablet. We also compute the relative closeness there.\n",
    "In the end, we add it all up.\n",
    "\n",
    "So every pair of signs gets a measure that expresses the total relative closeness of its co-occurrences\n",
    "on all tablets where they co-occur."
   ]
  },
  {
   "cell_type": "markdown",
   "metadata": {},
   "source": [
    "We have to visit nodes multiple times and get their atf representation,\n",
    "so we do it once for all and store them.\n",
    "\n",
    "We exclude the empty graphemes and the `…` , `X` graphemes."
   ]
  },
  {
   "cell_type": "code",
   "execution_count": 75,
   "metadata": {
    "ExecuteTime": {
     "end_time": "2018-03-05T09:29:26.557493Z",
     "start_time": "2018-03-05T09:29:25.935352Z"
    }
   },
   "outputs": [
    {
     "name": "stdout",
     "output_type": "stream",
     "text": [
      "91362\n",
      " 6 = 3(N14)\n",
      " 8 = SANGA~a\n",
      "22 = 3(N14)\n",
      "24 = 1(N14)\n",
      "25 = SUHUR\n",
      "28 = 1(N01)\n",
      "29 = DUG~b\n",
      "30 = 1(N57)\n",
      "41 = 1(N46)\n",
      "42 = 2(N19)\n",
      "43 = 4(N41)\n",
      "44 = AB~a\n",
      "45 = APIN~a\n",
      "46 = NUN~a\n",
      "51 = SZE~a\n",
      "52 = DU\n",
      "53 = NUN~a\n",
      "58 = n\n",
      "60 = KA~a\n",
      "61 = n\n",
      "62 = 2(N14)\n"
     ]
    }
   ],
   "source": [
    "NA = {'', '…', 'X'}\n",
    "\n",
    "signFromNode = dict()\n",
    "\n",
    "for tablet in F.otype.s('tablet'):\n",
    "    for s in L.d(tablet, otype='sign'):\n",
    "        if F.grapheme.v(s) in NA:\n",
    "            continue\n",
    "        signFromNode[s] = A.atfFromSign(s)\n",
    "print(len(signFromNode))\n",
    "\n",
    "LIMIT = 20\n",
    "n = 0\n",
    "for i in sorted(signFromNode):\n",
    "    print(f'{i:>2} = {signFromNode[i]}')\n",
    "    n += 1\n",
    "    if n > LIMIT:\n",
    "        break"
   ]
  },
  {
   "cell_type": "markdown",
   "metadata": {
    "ExecuteTime": {
     "end_time": "2018-02-26T15:06:05.444996Z",
     "start_time": "2018-02-26T15:06:05.427419Z"
    }
   },
   "source": [
    "Now we work per tablet.\n",
    "First we collect the relevant sign slots in a list.\n",
    "\n",
    "Then we loop through all distinct pairs of slots of that list, and store the difference between the slots\n",
    "for each pair.\n",
    "If we encounter the same pair with a smaller difference, we replace the bigger difference with the smaller one.\n",
    "We end up with a dictionary that gives for each pair of signs the minimal difference.\n",
    "\n",
    "Then we turn distance into closeness and make it proportional to the length of the tablet, for all pairs."
   ]
  },
  {
   "cell_type": "code",
   "execution_count": 76,
   "metadata": {
    "ExecuteTime": {
     "end_time": "2018-03-05T09:29:34.110744Z",
     "start_time": "2018-03-05T09:29:30.537069Z"
    }
   },
   "outputs": [
    {
     "data": {
      "text/plain": [
       "117472"
      ]
     },
     "execution_count": 76,
     "metadata": {},
     "output_type": "execute_result"
    }
   ],
   "source": [
    "pairs = collections.Counter()\n",
    "\n",
    "for tablet in F.otype.s('tablet'):\n",
    "    slots = L.d(tablet, otype='sign')\n",
    "    length = slots[-1] - slots[0]\n",
    "    thesePairs = {}\n",
    "    for i in range(len(slots)):\n",
    "        slotI = slots[i]\n",
    "        if slotI not in signFromNode:\n",
    "            continue\n",
    "        signI = signFromNode[slotI]\n",
    "        for j in range(i + 1, len(slots)):\n",
    "            slotJ = slots[j]\n",
    "            if slotJ not in signFromNode:\n",
    "                continue\n",
    "            signJ = signFromNode[slotJ]\n",
    "            if signJ == signI:\n",
    "                continue\n",
    "            pair = (signI, signJ) if signI < signJ else (signJ, signI)\n",
    "            difference = slotJ - slotI\n",
    "            oldDifference = thesePairs.get(pair, None)\n",
    "            if oldDifference is None or oldDifference > difference:\n",
    "                thesePairs[pair] = difference\n",
    "    for ((signI, signJ), difference) in thesePairs.items():\n",
    "        relativeCloseness = (length - difference) / length\n",
    "        pairs[(signI, signJ)] += relativeCloseness\n",
    "\n",
    "len(pairs)"
   ]
  },
  {
   "cell_type": "code",
   "execution_count": 77,
   "metadata": {
    "ExecuteTime": {
     "end_time": "2018-03-05T09:29:35.618366Z",
     "start_time": "2018-03-05T09:29:35.282481Z"
    }
   },
   "outputs": [
    {
     "name": "stdout",
     "output_type": "stream",
     "text": [
      "1(N01)     <=> 2(N01)     at closeness  794.77\n",
      "1(N01)     <=> 1(N14)     at closeness  641.24\n",
      "1(N01)     <=> EN~a       at closeness  573.55\n",
      "1(N14)     <=> 2(N01)     at closeness  572.39\n",
      "1(N01)     <=> 3(N01)     at closeness  507.99\n",
      "2(N01)     <=> 3(N01)     at closeness  439.41\n",
      "1(N01)     <=> N          at closeness  434.06\n",
      "1(N14)     <=> 3(N01)     at closeness  413.32\n",
      "1(N01)     <=> AN         at closeness  402.56\n",
      "1(N01)     <=> GAL~a      at closeness  387.34\n",
      "1(N14)     <=> 5(N01)     at closeness  383.53\n",
      "1(N01)     <=> 4(N01)     at closeness  373.17\n",
      "1(N01)     <=> 5(N01)     at closeness  370.17\n",
      "1(N14)     <=> 2(N14)     at closeness  364.15\n",
      "2(N01)     <=> EN~a       at closeness  355.88\n",
      "1(N01)     <=> SZE~a      at closeness  352.99\n",
      "1(N01)     <=> 2(N14)     at closeness  351.48\n",
      "1(N01)     <=> U4         at closeness  349.05\n",
      "2(N01)     <=> 2(N14)     at closeness  343.82\n",
      "1(N14)     <=> 4(N01)     at closeness  341.40\n",
      "2(N01)     <=> 4(N01)     at closeness  335.39\n",
      "2(N01)     <=> 5(N01)     at closeness  324.91\n",
      "1(N14)     <=> EN~a       at closeness  299.54\n",
      "1(N01)     <=> PAP~a      at closeness  298.81\n",
      "1(N14)     <=> 1(N34)     at closeness  297.69\n",
      "1(N01)     <=> SAL        at closeness  292.81\n",
      "1(N01)     <=> NUN~a      at closeness  289.62\n",
      "1(N01)     <=> GI         at closeness  286.10\n",
      "1(N01)     <=> BA         at closeness  284.82\n",
      "2(N14)     <=> 3(N01)     at closeness  281.25\n",
      "1(N01)     <=> SANGA~a    at closeness  279.47\n",
      "1(N01)     <=> 1(N57)     at closeness  278.64\n",
      "1(N01)     <=> BU~a       at closeness  277.97\n",
      "1(N01)     <=> SZU        at closeness  262.63\n",
      "3(N01)     <=> 5(N01)     at closeness  259.86\n",
      "3(N01)     <=> 4(N01)     at closeness  254.49\n",
      "1(N01)     <=> 1(N34)     at closeness  254.23\n",
      "1(N01)     <=> A          at closeness  250.61\n",
      "1(N01)     <=> NAM2       at closeness  245.90\n",
      "1(N14)     <=> 3(N14)     at closeness  244.08\n",
      "1(N01)     <=> UDU~a      at closeness  243.78\n",
      "3(N01)     <=> EN~a       at closeness  241.43\n",
      "1(N14)     <=> SZE~a      at closeness  241.30\n",
      "1(N01)     <=> E2~a       at closeness  240.36\n",
      "AN         <=> EN~a       at closeness  234.55\n",
      "2(N01)     <=> SZE~a      at closeness  232.36\n",
      "2(N14)     <=> 5(N01)     at closeness  231.52\n",
      "1(N34)     <=> 2(N14)     at closeness  226.73\n",
      "1(N01)     <=> 3(N14)     at closeness  226.37\n",
      "1(N01)     <=> 3(N57)     at closeness  225.47\n",
      "2(N01)     <=> AN         at closeness  223.64\n",
      "2(N01)     <=> U4         at closeness  223.10\n",
      "2(N14)     <=> 4(N01)     at closeness  222.49\n",
      "EN~a       <=> PAP~a      at closeness  218.98\n",
      "1(N01)     <=> 6(N01)     at closeness  214.89\n",
      "1(N01)     <=> DU         at closeness  212.21\n",
      "2(N01)     <=> 3(N14)     at closeness  209.93\n",
      "1(N34)     <=> 2(N01)     at closeness  209.16\n",
      "1(N14)     <=> 6(N01)     at closeness  208.20\n",
      "1(N01)     <=> ME~a       at closeness  205.40\n",
      "1(N01)     <=> AB~a       at closeness  205.38\n",
      "2(N14)     <=> 3(N14)     at closeness  205.30\n",
      "2(N01)     <=> BA         at closeness  205.22\n",
      "2(N01)     <=> PAP~a      at closeness  202.84\n",
      "1(N01)     <=> SAG        at closeness  201.09\n",
      "1(N14)     <=> U4         at closeness  199.41\n",
      "2(N01)     <=> SAL        at closeness  197.87\n",
      "4(N01)     <=> 5(N01)     at closeness  196.83\n",
      "EN~a       <=> NUN~a      at closeness  194.61\n",
      "2(N14)     <=> EN~a       at closeness  194.00\n",
      "2(N01)     <=> UDU~a      at closeness  193.13\n",
      "1(N57)     <=> 2(N01)     at closeness  192.16\n",
      "1(N14)     <=> BA         at closeness  189.55\n",
      "5(N01)     <=> EN~a       at closeness  189.50\n",
      "2(N01)     <=> 6(N01)     at closeness  188.13\n",
      "3(N01)     <=> SZE~a      at closeness  187.71\n",
      "1(N01)     <=> KI         at closeness  187.63\n",
      "1(N01)     <=> HI         at closeness  186.87\n",
      "1(N01)     <=> SI         at closeness  186.05\n",
      "EN~a       <=> SZE~a      at closeness  185.45\n",
      "1(N01)     <=> PA~a       at closeness  184.55\n",
      "DU         <=> EN~a       at closeness  183.27\n",
      "1(N14)     <=> AN         at closeness  183.11\n",
      "1(N14)     <=> UDU~a      at closeness  182.86\n",
      "1(N01)     <=> KU6~a      at closeness  181.25\n",
      "2(N14)     <=> SZE~a      at closeness  179.50\n",
      "EN~a       <=> SZU        at closeness  175.70\n",
      "4(N01)     <=> EN~a       at closeness  174.43\n",
      "1(N01)     <=> TUR        at closeness  174.17\n",
      "1(N14)     <=> GI         at closeness  173.47\n",
      "1(N01)     <=> SZU2       at closeness  173.44\n",
      "2(N01)     <=> GI         at closeness  172.61\n",
      "2(N01)     <=> SZU        at closeness  172.24\n",
      "1(N34)     <=> 3(N14)     at closeness  171.93\n",
      "EN~a       <=> U4         at closeness  169.45\n",
      "3(N01)     <=> 3(N14)     at closeness  168.51\n",
      "3(N01)     <=> U4         at closeness  167.92\n",
      "EN~a       <=> GAL~a      at closeness  166.31\n",
      "1(N01)     <=> GA~a       at closeness  165.63\n",
      "3(N14)     <=> 5(N01)     at closeness  165.58\n"
     ]
    }
   ],
   "source": [
    "for ((signI, signJ), closeness) in sorted(pairs.items(), key=lambda x: (-x[1], x[0]))[0:100]:\n",
    "    print(f'{signI:<10} <=> {signJ:<10} at closeness {closeness:>7.2f}')"
   ]
  },
  {
   "cell_type": "markdown",
   "metadata": {},
   "source": [
    "We print all collocations to the file\n",
    "[collocations-tablet.tsv](https://github.com/Dans-labs/Nino-cunei/blob/master/reports/collocations-tablet.tsv)"
   ]
  },
  {
   "cell_type": "code",
   "execution_count": 78,
   "metadata": {
    "ExecuteTime": {
     "end_time": "2018-03-05T09:29:40.569311Z",
     "start_time": "2018-03-05T09:29:40.067105Z"
    }
   },
   "outputs": [],
   "source": [
    "with open(f'{A.reportDir}/collocations-tablet.tsv', 'w') as fh:\n",
    "    fh.write(f'sign1\\tsign2\\tcloseness\\n')\n",
    "    for ((signI, signJ), closeness) in sorted(pairs.items(), key=lambda x: (-x[1], x[0])):\n",
    "        fh.write(f'{signI}\\t{signJ}\\t{closeness:>7.2f}\\n')"
   ]
  },
  {
   "cell_type": "markdown",
   "metadata": {},
   "source": [
    "Finally, we show an overview of how the closeness of collocated pairs is distributed."
   ]
  },
  {
   "cell_type": "code",
   "execution_count": 79,
   "metadata": {
    "ExecuteTime": {
     "end_time": "2018-03-05T09:29:42.358855Z",
     "start_time": "2018-03-05T09:29:42.100201Z"
    },
    "scrolled": false
   },
   "outputs": [
    {
     "name": "stdout",
     "output_type": "stream",
     "text": [
      "10493 pairs with closeness ~    0\n",
      "56654 pairs with closeness ~    1\n",
      "16882 pairs with closeness ~    2\n",
      "8277 pairs with closeness ~    3\n",
      "5045 pairs with closeness ~    4\n",
      "3409 pairs with closeness ~    5\n",
      "2449 pairs with closeness ~    6\n",
      "1880 pairs with closeness ~    7\n",
      "1517 pairs with closeness ~    8\n",
      "1224 pairs with closeness ~    9\n",
      "1022 pairs with closeness ~   10\n",
      " 845 pairs with closeness ~   11\n",
      " 741 pairs with closeness ~   12\n",
      " 625 pairs with closeness ~   13\n",
      " 503 pairs with closeness ~   14\n",
      " 480 pairs with closeness ~   15\n",
      " 410 pairs with closeness ~   16\n",
      " 357 pairs with closeness ~   17\n",
      " 325 pairs with closeness ~   18\n",
      " 289 pairs with closeness ~   19\n",
      " 268 pairs with closeness ~   20\n",
      " 207 pairs with closeness ~   21\n",
      " 197 pairs with closeness ~   22\n",
      " 210 pairs with closeness ~   23\n",
      " 195 pairs with closeness ~   24\n",
      " 156 pairs with closeness ~   25\n",
      " 140 pairs with closeness ~   26\n",
      " 137 pairs with closeness ~   27\n",
      " 129 pairs with closeness ~   28\n",
      " 109 pairs with closeness ~   29\n",
      " 113 pairs with closeness ~   30\n",
      " 101 pairs with closeness ~   31\n",
      "  85 pairs with closeness ~   32\n",
      " 103 pairs with closeness ~   33\n",
      "  80 pairs with closeness ~   34\n",
      "  78 pairs with closeness ~   35\n",
      "  60 pairs with closeness ~   36\n",
      "  60 pairs with closeness ~   37\n",
      "  66 pairs with closeness ~   38\n",
      "  59 pairs with closeness ~   39\n",
      "  54 pairs with closeness ~   40\n",
      "  42 pairs with closeness ~   41\n",
      "  45 pairs with closeness ~   42\n",
      "  46 pairs with closeness ~   43\n",
      "  51 pairs with closeness ~   44\n",
      "  32 pairs with closeness ~   45\n",
      "  33 pairs with closeness ~   46\n",
      "  37 pairs with closeness ~   47\n",
      "  49 pairs with closeness ~   48\n",
      "  42 pairs with closeness ~   49\n",
      "  31 pairs with closeness ~   50\n",
      "  35 pairs with closeness ~   51\n",
      "  32 pairs with closeness ~   52\n",
      "  49 pairs with closeness ~   53\n",
      "  24 pairs with closeness ~   54\n",
      "  24 pairs with closeness ~   55\n",
      "  27 pairs with closeness ~   56\n",
      "  21 pairs with closeness ~   57\n",
      "  22 pairs with closeness ~   58\n",
      "  21 pairs with closeness ~   59\n",
      "  19 pairs with closeness ~   60\n",
      "  15 pairs with closeness ~   61\n",
      "  17 pairs with closeness ~   62\n",
      "  17 pairs with closeness ~   63\n",
      "  17 pairs with closeness ~   64\n",
      "  20 pairs with closeness ~   65\n",
      "  14 pairs with closeness ~   66\n",
      "  22 pairs with closeness ~   67\n",
      "  21 pairs with closeness ~   68\n",
      "  22 pairs with closeness ~   69\n",
      "  21 pairs with closeness ~   70\n",
      "  15 pairs with closeness ~   71\n",
      "  18 pairs with closeness ~   72\n",
      "  11 pairs with closeness ~   73\n",
      "  22 pairs with closeness ~   74\n",
      "  16 pairs with closeness ~   75\n",
      "   9 pairs with closeness ~   76\n",
      "  12 pairs with closeness ~   77\n",
      "   9 pairs with closeness ~   78\n",
      "  12 pairs with closeness ~   79\n",
      "  14 pairs with closeness ~   80\n",
      "  13 pairs with closeness ~   81\n",
      "   6 pairs with closeness ~   82\n",
      "   6 pairs with closeness ~   83\n",
      "   6 pairs with closeness ~   84\n",
      "   7 pairs with closeness ~   85\n",
      "  11 pairs with closeness ~   86\n",
      "   8 pairs with closeness ~   87\n",
      "   4 pairs with closeness ~   88\n",
      "   9 pairs with closeness ~   89\n",
      "   5 pairs with closeness ~   90\n",
      "   5 pairs with closeness ~   91\n",
      "   5 pairs with closeness ~   92\n",
      "  10 pairs with closeness ~   93\n",
      "  11 pairs with closeness ~   94\n",
      "   7 pairs with closeness ~   95\n",
      "   8 pairs with closeness ~   96\n",
      "   8 pairs with closeness ~   97\n",
      "   2 pairs with closeness ~   98\n",
      "   6 pairs with closeness ~   99\n",
      "   8 pairs with closeness ~  100\n",
      "   6 pairs with closeness ~  101\n",
      "   5 pairs with closeness ~  102\n",
      "   9 pairs with closeness ~  103\n",
      "   3 pairs with closeness ~  104\n",
      "   2 pairs with closeness ~  105\n",
      "   5 pairs with closeness ~  106\n",
      "   3 pairs with closeness ~  107\n",
      "   8 pairs with closeness ~  108\n",
      "   2 pairs with closeness ~  109\n",
      "   4 pairs with closeness ~  110\n",
      "   4 pairs with closeness ~  111\n",
      "   3 pairs with closeness ~  112\n",
      "   7 pairs with closeness ~  113\n",
      "   2 pairs with closeness ~  114\n",
      "   2 pairs with closeness ~  115\n",
      "   8 pairs with closeness ~  116\n",
      "   4 pairs with closeness ~  117\n",
      "   3 pairs with closeness ~  118\n",
      "   4 pairs with closeness ~  119\n",
      "   3 pairs with closeness ~  120\n",
      "   5 pairs with closeness ~  121\n",
      "   2 pairs with closeness ~  122\n",
      "   3 pairs with closeness ~  123\n",
      "   4 pairs with closeness ~  124\n",
      "   1 pairs with closeness ~  125\n",
      "   4 pairs with closeness ~  126\n",
      "   4 pairs with closeness ~  127\n",
      "   1 pairs with closeness ~  128\n",
      "   3 pairs with closeness ~  129\n",
      "   6 pairs with closeness ~  130\n",
      "   5 pairs with closeness ~  131\n",
      "   1 pairs with closeness ~  132\n",
      "   2 pairs with closeness ~  133\n",
      "   2 pairs with closeness ~  134\n",
      "   2 pairs with closeness ~  135\n",
      "   3 pairs with closeness ~  137\n",
      "   4 pairs with closeness ~  138\n",
      "   2 pairs with closeness ~  139\n",
      "   1 pairs with closeness ~  140\n",
      "   1 pairs with closeness ~  141\n",
      "   3 pairs with closeness ~  142\n",
      "   3 pairs with closeness ~  143\n",
      "   2 pairs with closeness ~  144\n",
      "   1 pairs with closeness ~  145\n",
      "   4 pairs with closeness ~  146\n",
      "   1 pairs with closeness ~  147\n",
      "   2 pairs with closeness ~  148\n",
      "   1 pairs with closeness ~  150\n",
      "   5 pairs with closeness ~  151\n",
      "   2 pairs with closeness ~  152\n",
      "   2 pairs with closeness ~  153\n",
      "   2 pairs with closeness ~  154\n",
      "   1 pairs with closeness ~  155\n",
      "   5 pairs with closeness ~  156\n",
      "   1 pairs with closeness ~  157\n",
      "   2 pairs with closeness ~  159\n",
      "   1 pairs with closeness ~  160\n",
      "   2 pairs with closeness ~  161\n",
      "   1 pairs with closeness ~  162\n",
      "   1 pairs with closeness ~  164\n",
      "   2 pairs with closeness ~  165\n",
      "   3 pairs with closeness ~  166\n",
      "   1 pairs with closeness ~  168\n",
      "   2 pairs with closeness ~  169\n",
      "   2 pairs with closeness ~  172\n",
      "   3 pairs with closeness ~  173\n",
      "   2 pairs with closeness ~  174\n",
      "   1 pairs with closeness ~  176\n",
      "   1 pairs with closeness ~  179\n",
      "   1 pairs with closeness ~  181\n",
      "   3 pairs with closeness ~  183\n",
      "   2 pairs with closeness ~  185\n",
      "   1 pairs with closeness ~  186\n",
      "   1 pairs with closeness ~  187\n",
      "   3 pairs with closeness ~  188\n",
      "   2 pairs with closeness ~  190\n",
      "   1 pairs with closeness ~  192\n",
      "   1 pairs with closeness ~  193\n",
      "   1 pairs with closeness ~  194\n",
      "   1 pairs with closeness ~  195\n",
      "   1 pairs with closeness ~  197\n",
      "   1 pairs with closeness ~  198\n",
      "   1 pairs with closeness ~  199\n",
      "   1 pairs with closeness ~  201\n",
      "   1 pairs with closeness ~  203\n",
      "   4 pairs with closeness ~  205\n",
      "   1 pairs with closeness ~  208\n",
      "   1 pairs with closeness ~  209\n",
      "   1 pairs with closeness ~  210\n",
      "   1 pairs with closeness ~  212\n",
      "   1 pairs with closeness ~  215\n",
      "   1 pairs with closeness ~  219\n",
      "   1 pairs with closeness ~  222\n",
      "   1 pairs with closeness ~  223\n",
      "   1 pairs with closeness ~  224\n",
      "   1 pairs with closeness ~  225\n",
      "   1 pairs with closeness ~  226\n",
      "   1 pairs with closeness ~  227\n",
      "   2 pairs with closeness ~  232\n",
      "   1 pairs with closeness ~  235\n",
      "   1 pairs with closeness ~  240\n",
      "   2 pairs with closeness ~  241\n",
      "   2 pairs with closeness ~  244\n",
      "   1 pairs with closeness ~  246\n",
      "   1 pairs with closeness ~  251\n",
      "   2 pairs with closeness ~  254\n",
      "   1 pairs with closeness ~  260\n",
      "   1 pairs with closeness ~  263\n",
      "   1 pairs with closeness ~  278\n",
      "   2 pairs with closeness ~  279\n",
      "   1 pairs with closeness ~  281\n",
      "   1 pairs with closeness ~  285\n",
      "   1 pairs with closeness ~  286\n",
      "   1 pairs with closeness ~  290\n",
      "   1 pairs with closeness ~  293\n",
      "   1 pairs with closeness ~  298\n",
      "   1 pairs with closeness ~  299\n",
      "   1 pairs with closeness ~  300\n",
      "   1 pairs with closeness ~  325\n",
      "   1 pairs with closeness ~  335\n",
      "   1 pairs with closeness ~  341\n",
      "   1 pairs with closeness ~  344\n",
      "   1 pairs with closeness ~  349\n",
      "   1 pairs with closeness ~  351\n",
      "   1 pairs with closeness ~  353\n",
      "   1 pairs with closeness ~  356\n",
      "   1 pairs with closeness ~  364\n",
      "   1 pairs with closeness ~  370\n",
      "   1 pairs with closeness ~  373\n",
      "   1 pairs with closeness ~  384\n",
      "   1 pairs with closeness ~  387\n",
      "   1 pairs with closeness ~  403\n",
      "   1 pairs with closeness ~  413\n",
      "   1 pairs with closeness ~  434\n",
      "   1 pairs with closeness ~  439\n",
      "   1 pairs with closeness ~  508\n",
      "   1 pairs with closeness ~  572\n",
      "   1 pairs with closeness ~  574\n",
      "   1 pairs with closeness ~  641\n",
      "   1 pairs with closeness ~  795\n"
     ]
    }
   ],
   "source": [
    "closenessDistribution = collections.Counter()\n",
    "for ((signI, signJ), closeness) in pairs.items():\n",
    "    closenessDistribution[int(round(closeness))] += 1\n",
    "\n",
    "for (closeness, amount) in sorted(closenessDistribution.items()):\n",
    "    print(f'{amount:>4} pairs with closeness ~ {closeness:>4}')"
   ]
  },
  {
   "cell_type": "code",
   "execution_count": null,
   "metadata": {},
   "outputs": [],
   "source": []
  }
 ],
 "metadata": {
  "kernelspec": {
   "display_name": "Python 3",
   "language": "python",
   "name": "python3"
  },
  "language_info": {
   "codemirror_mode": {
    "name": "ipython",
    "version": 3
   },
   "file_extension": ".py",
   "mimetype": "text/x-python",
   "name": "python",
   "nbconvert_exporter": "python",
   "pygments_lexer": "ipython3",
   "version": "3.6.4"
  },
  "toc": {
   "nav_menu": {},
   "number_sections": true,
   "sideBar": true,
   "skip_h1_title": true,
   "toc_cell": true,
   "toc_position": {
    "height": "607px",
    "left": "0px",
    "right": "983px",
    "top": "110px",
    "width": "297px"
   },
   "toc_section_display": "block",
   "toc_window_display": true
  }
 },
 "nbformat": 4,
 "nbformat_minor": 1
}
