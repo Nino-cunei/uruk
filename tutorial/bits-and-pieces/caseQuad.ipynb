{
 "cells": [
  {
   "cell_type": "code",
   "execution_count": 1,
   "metadata": {
    "ExecuteTime": {
     "end_time": "2018-05-09T12:19:15.688808Z",
     "start_time": "2018-05-09T12:19:15.666267Z"
    }
   },
   "outputs": [],
   "source": [
    "import os, sys, collections\n",
    "from IPython.display import display, Markdown\n",
    "from tf.extra.cunei import Cunei"
   ]
  },
  {
   "cell_type": "code",
   "execution_count": 2,
   "metadata": {
    "ExecuteTime": {
     "end_time": "2018-05-09T12:19:19.141140Z",
     "start_time": "2018-05-09T12:19:18.141508Z"
    }
   },
   "outputs": [
    {
     "name": "stdout",
     "output_type": "stream",
     "text": [
      "Found 2095 ideograph linearts\n",
      "Found 2724 tablet linearts\n",
      "Found 5495 tablet photos\n"
     ]
    },
    {
     "data": {
      "text/markdown": [
       "**Documentation:** <a target=\"_blank\" href=\"https://github.com/Nino-cunei/uruk/blob/master/docs/about.md\" title=\"provenance of this corpus\">Uruk IV-III (v1.0)</a> <a target=\"_blank\" href=\"https://github.com/Nino-cunei/uruk/blob/master/docs/transcription.md\" title=\"feature documentation\">Feature docs</a> <a target=\"_blank\" href=\"https://github.com/Dans-labs/text-fabric/wiki/Cunei\" title=\"cunei api documentation\">Cunei API</a> <a target=\"_blank\" href=\"https://github.com/Dans-labs/text-fabric/wiki/api\" title=\"text-fabric-api\">Text-Fabric API 3.4.13</a> <a target=\"_blank\" href=\"https://github.com/Dans-labs/text-fabric/wiki/api#search-template-introduction\" title=\"Search Templates Introduction and Reference\">Search Reference</a>"
      ],
      "text/plain": [
       "<IPython.core.display.Markdown object>"
      ]
     },
     "metadata": {},
     "output_type": "display_data"
    },
    {
     "data": {
      "text/markdown": [
       "\n",
       "This notebook online:\n",
       "<a target=\"_blank\" href=\"http://nbviewer.jupyter.org/github/Nino-cunei/tutorials/blob/master/bits-and-pieces/caseQuad.ipynb\">NBViewer</a>\n",
       "<a target=\"_blank\" href=\"https://github.com/Nino-cunei/tutorials/blob/master/bits-and-pieces/caseQuad.ipynb\">GitHub</a>\n"
      ],
      "text/plain": [
       "<IPython.core.display.Markdown object>"
      ]
     },
     "metadata": {},
     "output_type": "display_data"
    },
    {
     "data": {
      "text/html": [
       "\n",
       "<style>\n",
       ".pnum {\n",
       "    font-family: sans-serif;\n",
       "    font-size: small;\n",
       "    font-weight: bold;\n",
       "    color: #444444;\n",
       "}\n",
       ".nd {\n",
       "    font-family: monospace;\n",
       "    font-size: x-small;\n",
       "    color: #999999;\n",
       "}\n",
       ".meta {\n",
       "    display: flex;\n",
       "    justify-content: flex-start;\n",
       "    align-items: flex-start;\n",
       "    align-content: flex-start;\n",
       "    flex-flow: row nowrap;\n",
       "}\n",
       ".features,.comments {\n",
       "    display: flex;\n",
       "    justify-content: flex-start;\n",
       "    align-items: flex-start;\n",
       "    align-content: flex-start;\n",
       "    flex-flow: column nowrap;\n",
       "}\n",
       ".children {\n",
       "    display: flex;\n",
       "    justify-content: flex-start;\n",
       "    align-items: flex-start;\n",
       "    align-content: flex-start;\n",
       "    border: 0;\n",
       "    background-color: #ffffff;\n",
       "}\n",
       ".children.tablet,.children.face {\n",
       "    flex-flow: row nowrap;\n",
       "}\n",
       ".children.column {\n",
       "    align-items: stretch;\n",
       "    flex-flow: column nowrap;\n",
       "}\n",
       ".children.line,.children.case {\n",
       "    align-items: stretch;\n",
       "    flex-flow: row nowrap;\n",
       "}\n",
       ".children.caseh,.children.trminalh {\n",
       "    flex-flow: row nowrap;\n",
       "}\n",
       ".children.casev,.children.trminalv {\n",
       "    flex-flow: column nowrap;\n",
       "}\n",
       ".children.trminal {\n",
       "    flex-flow: row nowrap;\n",
       "}\n",
       ".children.cluster {\n",
       "    flex-flow: row wrap;\n",
       "}\n",
       ".children.quad {\n",
       "    flex-flow: row wrap;\n",
       "}\n",
       ".children.sign {\n",
       "    flex-flow: column nowrap;\n",
       "}\n",
       ".contnr {\n",
       "    width: fit-content;\n",
       "}\n",
       ".contnr.tablet,.contnr.face,.contnr.column,\n",
       ".contnr.line,.contnr.case,.contnr.trminal,\n",
       ".contnr.comment,\n",
       ".contnr.cluster,\n",
       ".contnr.quad,.contnr.sign {\n",
       "    display: flex;\n",
       "    justify-content: flex-start;\n",
       "    align-items: flex-start;\n",
       "    align-content: flex-start;\n",
       "    flex-flow: column nowrap;\n",
       "    background: #ffffff none repeat scroll 0 0;\n",
       "    padding:  0.5em 0.1em 0.1em 0.1em;\n",
       "    margin: 0.8em 0.1em 0.1em 0.1em;\n",
       "    border-radius: 0.2em;\n",
       "    border-style: solid;\n",
       "    border-width: 0.2em;\n",
       "    font-size: small;\n",
       "}\n",
       ".contnr.tablet,.contnr.face,.contnr.column {\n",
       "    border-color: #bb8800;\n",
       "}\n",
       ".contnr.line,.contnr.case,.contnr.trminal {\n",
       "    border-color: #0088bb;\n",
       "}\n",
       ".contnr.cluster {\n",
       "    flex-flow: row wrap;\n",
       "    border: 0;\n",
       "}\n",
       ".contnr.sign,.contnr.quad {\n",
       "    border-color: #bbbbbb;\n",
       "}\n",
       ".contnr.comment {\n",
       "    background-color: #ffddaa;\n",
       "    border: 0.2em solid #eecc99;\n",
       "    border-radius: 0.3em;\n",
       "}\n",
       ".contnr.hl {\n",
       "    background-color: #ffee66;\n",
       "}\n",
       ".lbl.tablet,.lbl.face,.lbl.column,\n",
       ".lbl.line,.lbl.case,.lbl.trminal,\n",
       ".lbl.comment,\n",
       ".lbl.cluster,\n",
       ".lbl.quad,.lbl.sign {\n",
       "    margin-top: -1.2em;\n",
       "    margin-left: 1em;\n",
       "    background: #ffffff none repeat scroll 0 0;\n",
       "    padding: 0 0.3em;\n",
       "    border-style: solid;\n",
       "    font-size: small;\n",
       "    color: #0000cc;\n",
       "    display: block;\n",
       "}\n",
       ".lbl.tablet,.lbl.face,.lbl.column {\n",
       "    border-color: #bb8800;\n",
       "    border-width: 0.2em;\n",
       "    border-radius: 0.2em;\n",
       "    color: #bb8800;\n",
       "}\n",
       ".lbl.line,.lbl.case,.lbl.trminal {\n",
       "    border-color: #0088bb;\n",
       "    border-width: 0.2em;\n",
       "    border-radius: 0.2em;\n",
       "    color: #0088bb;\n",
       "}\n",
       ".lbl.comment {\n",
       "    border-color: #eecc99;\n",
       "    border-width: 0.2em;\n",
       "    border-radius: 0.2em;\n",
       "    color: #eecc99;\n",
       "    background-color: #ffddaa none repeat scroll 0 0;\n",
       "}\n",
       ".lbl.clusterB,.lbl.clusterE {\n",
       "    padding:  0.5em 0.1em 0.1em 0.1em;\n",
       "    margin: 0.8em 0.1em 0.1em 0.1em;\n",
       "    color: #888844;\n",
       "    font-size: x-small;\n",
       "}\n",
       ".lbl.clusterB {\n",
       "    border-left: 0.3em solid #cccc99;\n",
       "    border-right: 0;\n",
       "    border-top: 0;\n",
       "    border-bottom: 0;\n",
       "    border-radius: 1em;\n",
       "}\n",
       ".lbl.clusterE {\n",
       "    border-left: 0;\n",
       "    border-right: 0.3em solid #cccc99;\n",
       "    border-top: 0;\n",
       "    border-bottom: 0;\n",
       "    border-radius: 1em;\n",
       "}\n",
       ".lbl.quad,.lbl.sign {\n",
       "    border-color: #bbbbbb;\n",
       "    border-width: 0.1em;\n",
       "    border-radius: 0.1em;\n",
       "    color: #bbbbbb;\n",
       "}\n",
       ".op {\n",
       "    padding:  0.5em 0.1em 0.1em 0.1em;\n",
       "    margin: 0.8em 0.1em 0.1em 0.1em;\n",
       "    font-family: monospace;\n",
       "    font-size: x-large;\n",
       "    font-weight: bold;\n",
       "}\n",
       ".name {\n",
       "    font-family: monospace;\n",
       "    font-size: medium;\n",
       "    color: #0000bb;\n",
       "}\n",
       ".period {\n",
       "    font-family: monospace;\n",
       "    font-size: medium;\n",
       "    font-weight: bold;\n",
       "    color: #0000bb;\n",
       "}\n",
       ".excavation {\n",
       "    font-family: monospace;\n",
       "    font-size: medium;\n",
       "    font-style: italic;\n",
       "    color: #779900;\n",
       "}\n",
       ".text {\n",
       "    font-family: sans-serif;\n",
       "    font-size: x-small;\n",
       "    color: #000000;\n",
       "}\n",
       ".srcLn {\n",
       "    font-family: monospace;\n",
       "    font-size: medium;\n",
       "    color: #000000;\n",
       "}\n",
       ".srcLnNum {\n",
       "    font-family: monospace;\n",
       "    font-size: x-small;\n",
       "    color: #0000bb;\n",
       "}\n",
       "</style>\n"
      ],
      "text/plain": [
       "<IPython.core.display.HTML object>"
      ]
     },
     "metadata": {},
     "output_type": "display_data"
    }
   ],
   "source": [
    "LOC = ('~/github', 'Nino-cunei/uruk', 'caseQuad')\n",
    "A = Cunei(*LOC)\n",
    "A.api.makeAvailableIn(globals())"
   ]
  },
  {
   "cell_type": "code",
   "execution_count": 3,
   "metadata": {
    "ExecuteTime": {
     "end_time": "2018-05-09T12:19:28.733045Z",
     "start_time": "2018-05-09T12:19:28.681243Z"
    }
   },
   "outputs": [
    {
     "name": "stdout",
     "output_type": "stream",
     "text": [
      "6559 results\n"
     ]
    }
   ],
   "source": [
    "query = '''\n",
    "case depth<2\n",
    "'''\n",
    "results = A.search(query)"
   ]
  },
  {
   "cell_type": "code",
   "execution_count": 7,
   "metadata": {
    "ExecuteTime": {
     "end_time": "2018-05-09T12:25:05.158772Z",
     "start_time": "2018-05-09T12:25:00.789700Z"
    }
   },
   "outputs": [
    {
     "name": "stdout",
     "output_type": "stream",
     "text": [
      "12 results\n",
      "12 results\n",
      "12 results\n",
      "12 results\n",
      "12 results\n",
      "0 results\n",
      "0 results\n",
      "0 results\n"
     ]
    }
   ],
   "source": [
    "ops = [\n",
    "    '',\n",
    "    '=x',\n",
    "    '=x|y',\n",
    "    '~[x]',\n",
    "    '~[xy]',\n",
    "    '=y',\n",
    "    '~[y]',\n",
    "    '!',\n",
    "]\n",
    "queries = [\n",
    "'''\n",
    "tablet\n",
    "  case\n",
    "    quad\n",
    "      =: sign grapheme=ZATU659\n",
    "      -op{}> sign grapheme=N01 repeat=1\n",
    "      :=\n",
    "'''.format(vals)\n",
    "for vals in ops\n",
    "]\n",
    "\n",
    "for query in queries:\n",
    "    results = A.search(query)"
   ]
  },
  {
   "cell_type": "code",
   "execution_count": 29,
   "metadata": {
    "ExecuteTime": {
     "end_time": "2018-05-08T07:09:26.438681Z",
     "start_time": "2018-05-08T07:09:26.431922Z"
    }
   },
   "outputs": [
    {
     "data": {
      "text/markdown": [
       "\n",
       "n | m | o\n",
       "--- | --- | ---\n",
       "aaa | dd &#124;ZATUx1(N01)&#124; ee | bbb\n"
      ],
      "text/plain": [
       "<IPython.core.display.Markdown object>"
      ]
     },
     "metadata": {},
     "output_type": "display_data"
    }
   ],
   "source": [
    "markdown = '''\n",
    "n | m | o\n",
    "--- | --- | ---\n",
    "aaa | dd &#124;ZATUx1(N01)&#124; ee | bbb\n",
    "'''\n",
    "display(Markdown(markdown))"
   ]
  },
  {
   "cell_type": "code",
   "execution_count": 4,
   "metadata": {
    "ExecuteTime": {
     "end_time": "2018-05-08T06:21:24.681616Z",
     "start_time": "2018-05-08T06:21:24.673427Z"
    }
   },
   "outputs": [
    {
     "data": {
      "text/plain": [
       "(100950, 100951)"
      ]
     },
     "execution_count": 4,
     "metadata": {},
     "output_type": "execute_result"
    }
   ],
   "source": [
    "E.sub.f(142753)"
   ]
  },
  {
   "cell_type": "code",
   "execution_count": 5,
   "metadata": {
    "ExecuteTime": {
     "end_time": "2018-05-08T06:21:26.265688Z",
     "start_time": "2018-05-08T06:21:26.258194Z"
    }
   },
   "outputs": [
    {
     "data": {
      "text/plain": [
       "False"
      ]
     },
     "execution_count": 5,
     "metadata": {},
     "output_type": "execute_result"
    }
   ],
   "source": [
    "E.sub.doValues"
   ]
  },
  {
   "cell_type": "code",
   "execution_count": 6,
   "metadata": {
    "ExecuteTime": {
     "end_time": "2018-05-08T06:21:27.217945Z",
     "start_time": "2018-05-08T06:21:27.208437Z"
    }
   },
   "outputs": [
    {
     "data": {
      "text/plain": [
       "((100951, 'x'),)"
      ]
     },
     "execution_count": 6,
     "metadata": {},
     "output_type": "execute_result"
    }
   ],
   "source": [
    "E.op.f(100950)"
   ]
  },
  {
   "cell_type": "code",
   "execution_count": 7,
   "metadata": {
    "ExecuteTime": {
     "end_time": "2018-05-08T06:21:28.138363Z",
     "start_time": "2018-05-08T06:21:28.129914Z"
    }
   },
   "outputs": [
    {
     "data": {
      "text/plain": [
       "True"
      ]
     },
     "execution_count": 7,
     "metadata": {},
     "output_type": "execute_result"
    }
   ],
   "source": [
    "E.op.doValues"
   ]
  },
  {
   "cell_type": "code",
   "execution_count": null,
   "metadata": {},
   "outputs": [],
   "source": [
    "  case depth=1 terminal\n",
    "    sign grapheme=SZITA variant=a1\n",
    "\n",
    "\n"
   ]
  }
 ],
 "metadata": {
  "kernelspec": {
   "display_name": "Python 3",
   "language": "python",
   "name": "python3"
  },
  "language_info": {
   "codemirror_mode": {
    "name": "ipython",
    "version": 3
   },
   "file_extension": ".py",
   "mimetype": "text/x-python",
   "name": "python",
   "nbconvert_exporter": "python",
   "pygments_lexer": "ipython3",
   "version": "3.6.5"
  },
  "toc": {
   "base_numbering": 1,
   "nav_menu": {},
   "number_sections": true,
   "sideBar": true,
   "skip_h1_title": true,
   "title_cell": "Table of Contents",
   "title_sidebar": "Contents",
   "toc_cell": true,
   "toc_position": {},
   "toc_section_display": "block",
   "toc_window_display": false
  }
 },
 "nbformat": 4,
 "nbformat_minor": 2
}
