{
 "cells": [
  {
   "cell_type": "markdown",
   "metadata": {},
   "source": [
    "<img align=\"right\" src=\"images/ninologo.png\" width=\"150\"/>\n",
    "<img align=\"right\" src=\"images/tf-small.png\" width=\"125\"/>\n",
    "<img align=\"right\" src=\"images/dans.png\" width=\"150\"/>\n",
    "\n",
    "# Search\n",
    "\n",
    "Search is essential to get around in the corpus, and it is convenient as well.\n",
    "Whereas the whole point of Text-Fabric is to move around in the corpus programmatically,\n",
    "we show that\n",
    "[template based search](https://annotation.github.io/text-fabric/tf/about/searchusage.html)\n",
    "makes everything a lot more convenient ...\n",
    "\n",
    "Along with showing how search works, we also point to pretty ways to display your search results.\n",
    "The good news is that `search` and `pretty` work well together."
   ]
  },
  {
   "cell_type": "code",
   "execution_count": 1,
   "metadata": {},
   "outputs": [],
   "source": [
    "%load_ext autoreload\n",
    "%autoreload 2"
   ]
  },
  {
   "cell_type": "code",
   "execution_count": 2,
   "metadata": {
    "ExecuteTime": {
     "end_time": "2018-05-24T10:17:06.453483Z",
     "start_time": "2018-05-24T10:17:06.432200Z"
    }
   },
   "outputs": [],
   "source": [
    "from IPython.display import display, Markdown\n",
    "from tf.app import use"
   ]
  },
  {
   "cell_type": "code",
   "execution_count": 3,
   "metadata": {
    "ExecuteTime": {
     "end_time": "2018-05-24T10:17:08.349408Z",
     "start_time": "2018-05-24T10:17:07.481634Z"
    }
   },
   "outputs": [
    {
     "data": {
      "text/markdown": [
       "**Locating corpus resources ...**"
      ],
      "text/plain": [
       "<IPython.core.display.Markdown object>"
      ]
     },
     "metadata": {},
     "output_type": "display_data"
    },
    {
     "data": {
      "text/html": [
       "<b title=\"local github\">app:</b> <span title=\"repo clone offline under /Users/me/github\">~/github/Nino-cunei/uruk/app</span>"
      ],
      "text/plain": [
       "<IPython.core.display.HTML object>"
      ]
     },
     "metadata": {},
     "output_type": "display_data"
    },
    {
     "data": {
      "text/html": [
       "<b title=\"local commit\">data:</b> <span title=\"#7da6cb7cd9dffb12aff5e35639078029727a90e7 offline under /Users/me/text-fabric-data/github\">~/text-fabric-data/github/Nino-cunei/uruk/tf/1.0</span>"
      ],
      "text/plain": [
       "<IPython.core.display.HTML object>"
      ]
     },
     "metadata": {},
     "output_type": "display_data"
    },
    {
     "data": {
      "text/html": [
       "\n",
       "            <b>Text-Fabric:</b> <a target=\"_blank\" href=\"https://annotation.github.io/text-fabric/tf/cheatsheet.html\" title=\"text-fabric-api\">Text-Fabric API 11.3.0</a>, <a target=\"_blank\" href=\"https://github.com/Nino-cunei/uruk/blob/master/app\" title=\"Nino-cunei/uruk app\">Nino-cunei/uruk/app  v3</a>, <a target=\"_blank\" href=\"https://annotation.github.io/text-fabric/tf/about/searchusage.html\" title=\"Search Templates Introduction and Reference\">Search Reference</a><br>\n",
       "            <b>Data:</b> <a target=\"_blank\" href=\"https://github.com/Nino-cunei/uruk/blob/master/tf/docs/about.md\" title=\"provenance of Uruk IV/III: Proto-cuneiform tablets \">Nino-cunei - uruk 1.0</a>, <a target=\"_blank\" href=\"https://annotation.github.io/text-fabric/tf/writing/\" title=\"How TF features represent text\">Character table</a>, <a target=\"_blank\" href=\"https://github.com/Nino-cunei/uruk/blob/master/tf/docs/transcription.md\" title=\"Nino-cunei - uruk feature documentation\">Feature docs</a><br>\n",
       "            <details class=\"nodeinfo\"><summary><b>Node types</b></summary>\n",
       "<table class=\"nodeinfo\">\n",
       "    <tr>\n",
       "        <th>Name</th>\n",
       "        <th># of nodes</th>\n",
       "        <th># slots/node</th>\n",
       "        <th>% coverage</th>\n",
       "    </tr>\n",
       "\n",
       "<tr>\n",
       "    <th>tablet</th>\n",
       "    <td>6364</td>\n",
       "    <td>22.01</td>\n",
       "    <td><b>100</b></td>\n",
       "</tr>\n",
       "\n",
       "<tr>\n",
       "    <th>face</th>\n",
       "    <td>9456</td>\n",
       "    <td>14.10</td>\n",
       "    <td>95</td>\n",
       "</tr>\n",
       "\n",
       "<tr>\n",
       "    <th>column</th>\n",
       "    <td>14023</td>\n",
       "    <td>9.34</td>\n",
       "    <td>93</td>\n",
       "</tr>\n",
       "\n",
       "<tr>\n",
       "    <th>line</th>\n",
       "    <td>35842</td>\n",
       "    <td>3.61</td>\n",
       "    <td>92</td>\n",
       "</tr>\n",
       "\n",
       "<tr>\n",
       "    <th>case</th>\n",
       "    <td>9651</td>\n",
       "    <td>3.46</td>\n",
       "    <td>24</td>\n",
       "</tr>\n",
       "\n",
       "<tr>\n",
       "    <th>cluster</th>\n",
       "    <td>32753</td>\n",
       "    <td>1.03</td>\n",
       "    <td>24</td>\n",
       "</tr>\n",
       "\n",
       "<tr>\n",
       "    <th>quad</th>\n",
       "    <td>3794</td>\n",
       "    <td>2.05</td>\n",
       "    <td>6</td>\n",
       "</tr>\n",
       "\n",
       "<tr>\n",
       "    <th>comment</th>\n",
       "    <td>11090</td>\n",
       "    <td>1.00</td>\n",
       "    <td>8</td>\n",
       "</tr>\n",
       "\n",
       "<tr>\n",
       "    <th><i>sign</i></th>\n",
       "    <td>140094</td>\n",
       "    <td>1.00</td>\n",
       "    <td><b>100</b></td>\n",
       "</tr>\n",
       "</table></details>\n",
       "            <b>Sets:</b> no custom sets<br>\n",
       "            <b>Features:</b><br>\n",
       "<details><summary><b>Uruk IV/III: Proto-cuneiform tablets </b></summary>\n",
       "    <div class=\"fcorpus\">\n",
       "\n",
       "<div class=\"frow\">\n",
       "    <div class=\"fnamecat \">\n",
       "<a target=\"_blank\" href=\"https://github.com/Nino-cunei/uruk/blob/master/tf/docs/transcription.md\" title=\"~/text-fabric-data/github/Nino-cunei/uruk/tf/1.0/catalogId.tf\">catalogId</a>\n",
       "</div>\n",
       "<div class=\"fmono\">str</div>\n",
       "\n",
       "<span> identifier of tablet in catalog (http://www.flutopedia.com/tablets.htm)</span>\n",
       "\n",
       "</div>\n",
       "\n",
       "<div class=\"frow\">\n",
       "    <div class=\"fnamecat \">\n",
       "<a target=\"_blank\" href=\"https://github.com/Nino-cunei/uruk/blob/master/tf/docs/transcription.md\" title=\"~/text-fabric-data/github/Nino-cunei/uruk/tf/1.0/crossref.tf\">crossref</a>\n",
       "</div>\n",
       "<div class=\"fmono\">str</div>\n",
       "\n",
       "<span> </span>\n",
       "\n",
       "</div>\n",
       "\n",
       "<div class=\"frow\">\n",
       "    <div class=\"fnamecat \">\n",
       "<a target=\"_blank\" href=\"https://github.com/Nino-cunei/uruk/blob/master/tf/docs/transcription.md\" title=\"~/text-fabric-data/github/Nino-cunei/uruk/tf/1.0/damage.tf\">damage</a>\n",
       "</div>\n",
       "<div class=\"fmono\">int</div>\n",
       "\n",
       "<span> indicates damage of signs or quads,corresponds to #-flag in transcription</span>\n",
       "\n",
       "</div>\n",
       "\n",
       "<div class=\"frow\">\n",
       "    <div class=\"fnamecat \">\n",
       "<a target=\"_blank\" href=\"https://github.com/Nino-cunei/uruk/blob/master/tf/docs/transcription.md\" title=\"~/text-fabric-data/github/Nino-cunei/uruk/tf/1.0/depth.tf\">depth</a>\n",
       "</div>\n",
       "<div class=\"fmono\">int</div>\n",
       "\n",
       "<span> </span>\n",
       "\n",
       "</div>\n",
       "\n",
       "<div class=\"frow\">\n",
       "    <div class=\"fnamecat \">\n",
       "<a target=\"_blank\" href=\"https://github.com/Nino-cunei/uruk/blob/master/tf/docs/transcription.md\" title=\"~/text-fabric-data/github/Nino-cunei/uruk/tf/1.0/excavation.tf\">excavation</a>\n",
       "</div>\n",
       "<div class=\"fmono\">str</div>\n",
       "\n",
       "<span> excavation number of tablet</span>\n",
       "\n",
       "</div>\n",
       "\n",
       "<div class=\"frow\">\n",
       "    <div class=\"fnamecat \">\n",
       "<a target=\"_blank\" href=\"https://github.com/Nino-cunei/uruk/blob/master/tf/docs/transcription.md\" title=\"~/text-fabric-data/github/Nino-cunei/uruk/tf/1.0/fragment.tf\">fragment</a>\n",
       "</div>\n",
       "<div class=\"fmono\">str</div>\n",
       "\n",
       "<span> level between tablet and face</span>\n",
       "\n",
       "</div>\n",
       "\n",
       "<div class=\"frow\">\n",
       "    <div class=\"fnamecat \">\n",
       "<a target=\"_blank\" href=\"https://github.com/Nino-cunei/uruk/blob/master/tf/docs/transcription.md\" title=\"~/text-fabric-data/github/Nino-cunei/uruk/tf/1.0/fullNumber.tf\">fullNumber</a>\n",
       "</div>\n",
       "<div class=\"fmono\">str</div>\n",
       "\n",
       "<span> the combination of face type and column number on columns</span>\n",
       "\n",
       "</div>\n",
       "\n",
       "<div class=\"frow\">\n",
       "    <div class=\"fnamecat \">\n",
       "<a target=\"_blank\" href=\"https://github.com/Nino-cunei/uruk/blob/master/tf/docs/transcription.md\" title=\"~/text-fabric-data/github/Nino-cunei/uruk/tf/1.0/grapheme.tf\">grapheme</a>\n",
       "</div>\n",
       "<div class=\"fmono\">str</div>\n",
       "\n",
       "<span> name of a grapheme (glyph)</span>\n",
       "\n",
       "</div>\n",
       "\n",
       "<div class=\"frow\">\n",
       "    <div class=\"fnamecat \">\n",
       "<a target=\"_blank\" href=\"https://github.com/Nino-cunei/uruk/blob/master/tf/docs/transcription.md\" title=\"~/text-fabric-data/github/Nino-cunei/uruk/tf/1.0/identifier.tf\">identifier</a>\n",
       "</div>\n",
       "<div class=\"fmono\">str</div>\n",
       "\n",
       "<span> additional information pertaining to the name of a face</span>\n",
       "\n",
       "</div>\n",
       "\n",
       "<div class=\"frow\">\n",
       "    <div class=\"fnamecat \">\n",
       "<a target=\"_blank\" href=\"https://github.com/Nino-cunei/uruk/blob/master/tf/docs/transcription.md\" title=\"~/text-fabric-data/github/Nino-cunei/uruk/tf/1.0/modifier.tf\">modifier</a>\n",
       "</div>\n",
       "<div class=\"fmono\">str</div>\n",
       "\n",
       "<span> indicates modifcation of a sign; corresponds to sign@letter in transcription. if the grapheme is a repeat, the modification applies to the whole repeat.</span>\n",
       "\n",
       "</div>\n",
       "\n",
       "<div class=\"frow\">\n",
       "    <div class=\"fnamecat \">\n",
       "<a target=\"_blank\" href=\"https://github.com/Nino-cunei/uruk/blob/master/tf/docs/transcription.md\" title=\"~/text-fabric-data/github/Nino-cunei/uruk/tf/1.0/modifierFirst.tf\">modifierFirst</a>\n",
       "</div>\n",
       "<div class=\"fmono\">str</div>\n",
       "\n",
       "<span> indicates the order between modifiers and variants on the same object; if 1, modifiers come before variants</span>\n",
       "\n",
       "</div>\n",
       "\n",
       "<div class=\"frow\">\n",
       "    <div class=\"fnamecat \">\n",
       "<a target=\"_blank\" href=\"https://github.com/Nino-cunei/uruk/blob/master/tf/docs/transcription.md\" title=\"~/text-fabric-data/github/Nino-cunei/uruk/tf/1.0/modifierInner.tf\">modifierInner</a>\n",
       "</div>\n",
       "<div class=\"fmono\">str</div>\n",
       "\n",
       "<span> indicates modifcation of a sign within a repeatcorresponds to sign@letter in transcription</span>\n",
       "\n",
       "</div>\n",
       "\n",
       "<div class=\"frow\">\n",
       "    <div class=\"fnamecat \">\n",
       "<a target=\"_blank\" href=\"https://github.com/Nino-cunei/uruk/blob/master/tf/docs/transcription.md\" title=\"~/text-fabric-data/github/Nino-cunei/uruk/tf/1.0/name.tf\">name</a>\n",
       "</div>\n",
       "<div class=\"fmono\">str</div>\n",
       "\n",
       "<span> name of tablet</span>\n",
       "\n",
       "</div>\n",
       "\n",
       "<div class=\"frow\">\n",
       "    <div class=\"fnamecat \">\n",
       "<a target=\"_blank\" href=\"https://github.com/Nino-cunei/uruk/blob/master/tf/docs/transcription.md\" title=\"~/text-fabric-data/github/Nino-cunei/uruk/tf/1.0/number.tf\">number</a>\n",
       "</div>\n",
       "<div class=\"fmono\">str</div>\n",
       "\n",
       "<span> number of a column or line or case</span>\n",
       "\n",
       "</div>\n",
       "\n",
       "<div class=\"frow\">\n",
       "    <div class=\"fnamecat \">\n",
       "<a target=\"_blank\" href=\"https://github.com/Nino-cunei/uruk/blob/master/tf/docs/transcription.md\" title=\"~/text-fabric-data/github/Nino-cunei/uruk/tf/1.0/otype.tf\">otype</a>\n",
       "</div>\n",
       "<div class=\"fmono\">str</div>\n",
       "\n",
       "<span> </span>\n",
       "\n",
       "</div>\n",
       "\n",
       "<div class=\"frow\">\n",
       "    <div class=\"fnamecat \">\n",
       "<a target=\"_blank\" href=\"https://github.com/Nino-cunei/uruk/blob/master/tf/docs/transcription.md\" title=\"~/text-fabric-data/github/Nino-cunei/uruk/tf/1.0/period.tf\">period</a>\n",
       "</div>\n",
       "<div class=\"fmono\">str</div>\n",
       "\n",
       "<span> period that characterises the tablet corpus</span>\n",
       "\n",
       "</div>\n",
       "\n",
       "<div class=\"frow\">\n",
       "    <div class=\"fnamecat \">\n",
       "<a target=\"_blank\" href=\"https://github.com/Nino-cunei/uruk/blob/master/tf/docs/transcription.md\" title=\"~/text-fabric-data/github/Nino-cunei/uruk/tf/1.0/prime.tf\">prime</a>\n",
       "</div>\n",
       "<div class=\"fmono\">int</div>\n",
       "\n",
       "<span> indicates the presence/multiplicity of a prime (single quote)</span>\n",
       "\n",
       "</div>\n",
       "\n",
       "<div class=\"frow\">\n",
       "    <div class=\"fnamecat \">\n",
       "<a target=\"_blank\" href=\"https://github.com/Nino-cunei/uruk/blob/master/tf/docs/transcription.md\" title=\"~/text-fabric-data/github/Nino-cunei/uruk/tf/1.0/remarkable.tf\">remarkable</a>\n",
       "</div>\n",
       "<div class=\"fmono\">int</div>\n",
       "\n",
       "<span> corresponds to ! flag in transcription </span>\n",
       "\n",
       "</div>\n",
       "\n",
       "<div class=\"frow\">\n",
       "    <div class=\"fnamecat \">\n",
       "<a target=\"_blank\" href=\"https://github.com/Nino-cunei/uruk/blob/master/tf/docs/transcription.md\" title=\"~/text-fabric-data/github/Nino-cunei/uruk/tf/1.0/repeat.tf\">repeat</a>\n",
       "</div>\n",
       "<div class=\"fmono\">int</div>\n",
       "\n",
       "<span> number indicating the number of repeats of a grapheme,especially in numerals; -1 comes from repeat N in transcription</span>\n",
       "\n",
       "</div>\n",
       "\n",
       "<div class=\"frow\">\n",
       "    <div class=\"fnamecat \">\n",
       "<a target=\"_blank\" href=\"https://github.com/Nino-cunei/uruk/blob/master/tf/docs/transcription.md\" title=\"~/text-fabric-data/github/Nino-cunei/uruk/tf/1.0/srcLn.tf\">srcLn</a>\n",
       "</div>\n",
       "<div class=\"fmono\">str</div>\n",
       "\n",
       "<span> transcribed line</span>\n",
       "\n",
       "</div>\n",
       "\n",
       "<div class=\"frow\">\n",
       "    <div class=\"fnamecat \">\n",
       "<a target=\"_blank\" href=\"https://github.com/Nino-cunei/uruk/blob/master/tf/docs/transcription.md\" title=\"~/text-fabric-data/github/Nino-cunei/uruk/tf/1.0/srcLnNum.tf\">srcLnNum</a>\n",
       "</div>\n",
       "<div class=\"fmono\">int</div>\n",
       "\n",
       "<span> line number in transcription file</span>\n",
       "\n",
       "</div>\n",
       "\n",
       "<div class=\"frow\">\n",
       "    <div class=\"fnamecat \">\n",
       "<a target=\"_blank\" href=\"https://github.com/Nino-cunei/uruk/blob/master/tf/docs/transcription.md\" title=\"~/text-fabric-data/github/Nino-cunei/uruk/tf/1.0/terminal.tf\">terminal</a>\n",
       "</div>\n",
       "<div class=\"fmono\">str</div>\n",
       "\n",
       "<span> </span>\n",
       "\n",
       "</div>\n",
       "\n",
       "<div class=\"frow\">\n",
       "    <div class=\"fnamecat \">\n",
       "<a target=\"_blank\" href=\"https://github.com/Nino-cunei/uruk/blob/master/tf/docs/transcription.md\" title=\"~/text-fabric-data/github/Nino-cunei/uruk/tf/1.0/text.tf\">text</a>\n",
       "</div>\n",
       "<div class=\"fmono\">str</div>\n",
       "\n",
       "<span> text of comment nodes</span>\n",
       "\n",
       "</div>\n",
       "\n",
       "<div class=\"frow\">\n",
       "    <div class=\"fnamecat \">\n",
       "<a target=\"_blank\" href=\"https://github.com/Nino-cunei/uruk/blob/master/tf/docs/transcription.md\" title=\"~/text-fabric-data/github/Nino-cunei/uruk/tf/1.0/type.tf\">type</a>\n",
       "</div>\n",
       "<div class=\"fmono\">str</div>\n",
       "\n",
       "<span> type of a face; type of a comment; type of a cluster;type of a sign</span>\n",
       "\n",
       "</div>\n",
       "\n",
       "<div class=\"frow\">\n",
       "    <div class=\"fnamecat \">\n",
       "<a target=\"_blank\" href=\"https://github.com/Nino-cunei/uruk/blob/master/tf/docs/transcription.md\" title=\"~/text-fabric-data/github/Nino-cunei/uruk/tf/1.0/uncertain.tf\">uncertain</a>\n",
       "</div>\n",
       "<div class=\"fmono\">int</div>\n",
       "\n",
       "<span> corresponds to ?-flag in transcription</span>\n",
       "\n",
       "</div>\n",
       "\n",
       "<div class=\"frow\">\n",
       "    <div class=\"fnamecat \">\n",
       "<a target=\"_blank\" href=\"https://github.com/Nino-cunei/uruk/blob/master/tf/docs/transcription.md\" title=\"~/text-fabric-data/github/Nino-cunei/uruk/tf/1.0/variant.tf\">variant</a>\n",
       "</div>\n",
       "<div class=\"fmono\">str</div>\n",
       "\n",
       "<span> allograph for a sign, corresponds to ~x in transcription</span>\n",
       "\n",
       "</div>\n",
       "\n",
       "<div class=\"frow\">\n",
       "    <div class=\"fnamecat \">\n",
       "<a target=\"_blank\" href=\"https://github.com/Nino-cunei/uruk/blob/master/tf/docs/transcription.md\" title=\"~/text-fabric-data/github/Nino-cunei/uruk/tf/1.0/variantOuter.tf\">variantOuter</a>\n",
       "</div>\n",
       "<div class=\"fmono\">str</div>\n",
       "\n",
       "<span> allograph for a quad, corresponds to ~x in transcription</span>\n",
       "\n",
       "</div>\n",
       "\n",
       "<div class=\"frow\">\n",
       "    <div class=\"fnamecat \">\n",
       "<a target=\"_blank\" href=\"https://github.com/Nino-cunei/uruk/blob/master/tf/docs/transcription.md\" title=\"~/text-fabric-data/github/Nino-cunei/uruk/tf/1.0/written.tf\">written</a>\n",
       "</div>\n",
       "<div class=\"fmono\">str</div>\n",
       "\n",
       "<span> corresponds to !(xxx) flag in transcription</span>\n",
       "\n",
       "</div>\n",
       "\n",
       "<div class=\"frow\">\n",
       "    <div class=\"fnamecat edge\">\n",
       "<a target=\"_blank\" href=\"https://github.com/Nino-cunei/uruk/blob/master/tf/docs/transcription.md\" title=\"~/text-fabric-data/github/Nino-cunei/uruk/tf/1.0/comments.tf\">comments</a>\n",
       "</div>\n",
       "<div class=\"fmono\">none</div>\n",
       "\n",
       "<span> links comment nodes to their targets</span>\n",
       "\n",
       "</div>\n",
       "\n",
       "<div class=\"frow\">\n",
       "    <div class=\"fnamecat edge\">\n",
       "<a target=\"_blank\" href=\"https://github.com/Nino-cunei/uruk/blob/master/tf/docs/transcription.md\" title=\"~/text-fabric-data/github/Nino-cunei/uruk/tf/1.0/op.tf\">op</a>\n",
       "</div>\n",
       "<div class=\"fmono\">str</div>\n",
       "\n",
       "<span> operator connecting left to right operand in a quad</span>\n",
       "\n",
       "</div>\n",
       "\n",
       "<div class=\"frow\">\n",
       "    <div class=\"fnamecat edge\">\n",
       "<a target=\"_blank\" href=\"https://github.com/Nino-cunei/uruk/blob/master/tf/docs/transcription.md\" title=\"~/text-fabric-data/github/Nino-cunei/uruk/tf/1.0/oslots.tf\">oslots</a>\n",
       "</div>\n",
       "<div class=\"fmono\">none</div>\n",
       "\n",
       "<span> </span>\n",
       "\n",
       "</div>\n",
       "\n",
       "<div class=\"frow\">\n",
       "    <div class=\"fnamecat edge\">\n",
       "<a target=\"_blank\" href=\"https://github.com/Nino-cunei/uruk/blob/master/tf/docs/transcription.md\" title=\"~/text-fabric-data/github/Nino-cunei/uruk/tf/1.0/sub.tf\">sub</a>\n",
       "</div>\n",
       "<div class=\"fmono\">none</div>\n",
       "\n",
       "<span> connects line or case with sub-cases, quad with sub-quads; clusters with sub-clusters</span>\n",
       "\n",
       "</div>\n",
       "\n",
       "    </div>\n",
       "</details>\n",
       "\n"
      ],
      "text/plain": [
       "<IPython.core.display.HTML object>"
      ]
     },
     "metadata": {},
     "output_type": "display_data"
    },
    {
     "data": {
      "text/html": [
       "<style>tr.tf.ltr, td.tf.ltr, th.tf.ltr { text-align: left ! important;}\n",
       "tr.tf.rtl, td.tf.rtl, th.tf.rtl { text-align: right ! important;}\n",
       "@font-face {\n",
       "  font-family: \"Gentium Plus\";\n",
       "  src: local('Gentium Plus'), local('GentiumPlus'),\n",
       "    url('/server/static/fonts/GentiumPlus-R.woff') format('woff'),\n",
       "    url('https://github.com/annotation/text-fabric/blob/master/tf/server/static/fonts/GentiumPlus-R.woff?raw=true') format('woff');\n",
       "}\n",
       "\n",
       "@font-face {\n",
       "  font-family: \"Ezra SIL\";\n",
       "  src: local('Ezra SIL'), local('EzraSIL'),\n",
       "    url('/server/static/fonts/SILEOT.woff') format('woff'),\n",
       "    url('https://github.com/annotation/text-fabric/blob/master/tf/server/static/fonts/SILEOT.woff?raw=true') format('woff');\n",
       "}\n",
       "\n",
       "@font-face {\n",
       "  font-family: \"SBL Hebrew\";\n",
       "  src: local('SBL Hebrew'), local('SBLHebrew'),\n",
       "    url('/server/static/fonts/SBL_Hbrw.woff') format('woff'),\n",
       "    url('https://github.com/annotation/text-fabric/blob/master/tf/server/static/fonts/SBL_Hbrw.woff?raw=true') format('woff');\n",
       "}\n",
       "\n",
       "@font-face {\n",
       "  font-family: \"Estrangelo Edessa\";\n",
       "  src: local('Estrangelo Edessa'), local('EstrangeloEdessa');\n",
       "    url('/server/static/fonts/SyrCOMEdessa.woff') format('woff'),\n",
       "    url('https://github.com/annotation/text-fabric/blob/master/tf/server/static/fonts/SyrCOMEdessa.woff?raw=true') format('woff');\n",
       "}\n",
       "\n",
       "@font-face {\n",
       "  font-family: AmiriQuran;\n",
       "  font-style: normal;\n",
       "  font-weight: 400;\n",
       "  src: local('Amiri Quran'), local('AmiriQuran'),\n",
       "    url('/server/static/fonts/AmiriQuran.woff') format('woff'),\n",
       "    url('https://github.com/annotation/text-fabric/blob/master/tf/server/static/fonts/AmiriQuran.woff?raw=true') format('woff');\n",
       "}\n",
       "\n",
       "@font-face {\n",
       "  font-family: AmiriQuranColored;\n",
       "  font-style: normal;\n",
       "  font-weight: 400;\n",
       "  src: local('Amiri Quran Colored'), local('AmiriQuranColored'),\n",
       "    url('/server/static/fonts/AmiriQuranColored.woff') format('woff'),\n",
       "    url('https://github.com/annotation/text-fabric/blob/master/tf/server/static/fonts/AmiriQuranColored.woff?raw=true') format('woff');\n",
       "}\n",
       "\n",
       "@font-face {\n",
       "  font-family: \"Santakku\";\n",
       "  src: local('Santakku'),\n",
       "    url('/server/static/fonts/Santakku.woff') format('woff'),\n",
       "    url('https://github.com/annotation/text-fabric/blob/master/tf/server/static/fonts/Santakku.woff?raw=true') format('woff');\n",
       "}\n",
       "\n",
       "@font-face {\n",
       "  font-family: \"SantakkuM\";\n",
       "  src: local('SantakkuM'),\n",
       "    url('/server/static/fonts/SantakkuM.woff') format('woff'),\n",
       "    url('https://github.com/annotation/text-fabric/blob/master/tf/server/static/fonts/SantakkuM.woff?raw=true') format('woff');\n",
       "}\n",
       "/* bypassing some classical notebook settings */\n",
       "div#notebook {\n",
       "  line-height: unset;\n",
       "}\n",
       "/* neutral text */\n",
       ".txtn,.txtn a:visited,.txtn a:link {\n",
       "    font-family: sans-serif;\n",
       "    font-size: medium;\n",
       "    direction: ltr;\n",
       "    unicode-bidi: embed;\n",
       "    text-decoration: none;\n",
       "    color: var(--text-color);\n",
       "}\n",
       "/* transcription text */\n",
       ".txtt,.txtt a:visited,.txtt a:link {\n",
       "    font-family: monospace;\n",
       "    font-size: medium;\n",
       "    direction: ltr;\n",
       "    unicode-bidi: embed;\n",
       "    text-decoration: none;\n",
       "    color: var(--text-color);\n",
       "}\n",
       "/* source text */\n",
       ".txto,.txto a:visited,.txto a:link {\n",
       "    font-family: serif;\n",
       "    font-size: medium;\n",
       "    direction: ltr;\n",
       "    unicode-bidi: embed;\n",
       "    text-decoration: none;\n",
       "    color: var(--text-color);\n",
       "}\n",
       "/* phonetic text */\n",
       ".txtp,.txtp a:visited,.txtp a:link {\n",
       "    font-family: Gentium, sans-serif;\n",
       "    font-size: medium;\n",
       "    direction: ltr;\n",
       "    unicode-bidi: embed;\n",
       "    text-decoration: none;\n",
       "    color: var(--text-color);\n",
       "}\n",
       "/* original script text */\n",
       ".txtu,.txtu a:visited,.txtu a:link {\n",
       "    font-family: Gentium, sans-serif;\n",
       "    font-size: medium;\n",
       "    text-decoration: none;\n",
       "    color: var(--text-color);\n",
       "}\n",
       "/* hebrew */\n",
       ".txtu.hbo,.lex.hbo {\n",
       "    font-family: \"Ezra SIL\", \"SBL Hebrew\", sans-serif;\n",
       "    font-size: large;\n",
       "    direction: rtl ! important;\n",
       "    unicode-bidi: embed;\n",
       "}\n",
       "/* syriac */\n",
       ".txtu.syc,.lex.syc {\n",
       "    font-family: \"Estrangelo Edessa\", sans-serif;\n",
       "    font-size: medium;\n",
       "    direction: rtl ! important;\n",
       "    unicode-bidi: embed;\n",
       "}\n",
       "/* neo aramaic */\n",
       ".txtu.cld,.lex.cld {\n",
       "    font-family: \"CharisSIL-R\", sans-serif;\n",
       "    font-size: medium;\n",
       "    direction: ltr ! important;\n",
       "    unicode-bidi: embed;\n",
       "}\n",
       "/* standard arabic */\n",
       ".txtu.ara,.lex.ara {\n",
       "    font-family: \"AmiriQuran\", sans-serif;\n",
       "    font-size: large;\n",
       "    direction: rtl ! important;\n",
       "    unicode-bidi: embed;\n",
       "}\n",
       "/* cuneiform */\n",
       ".txtu.akk,.lex.akk {\n",
       "    font-family: Santakku, sans-serif;\n",
       "    font-size: large;\n",
       "    direction: ltr ! important;\n",
       "    unicode-bidi: embed;\n",
       "}\n",
       "/* greek */\n",
       ".txtu.grc,.lex.grc a:link {\n",
       "    font-family: Gentium, sans-serif;\n",
       "    font-size: medium;\n",
       "    direction: ltr ! important;\n",
       "    unicode-bidi: embed;\n",
       "}\n",
       "a:hover {\n",
       "    text-decoration: underline | important;\n",
       "    color: #0000ff | important;\n",
       "}\n",
       ".ltr {\n",
       "    direction: ltr ! important;\n",
       "    unicode-bidi: embed;\n",
       "}\n",
       ".rtl {\n",
       "    direction: rtl ! important;\n",
       "    unicode-bidi: embed;\n",
       "}\n",
       ".ubd {\n",
       "    unicode-bidi: embed;\n",
       "}\n",
       ".col {\n",
       "   display: inline-block;\n",
       "}\n",
       ".features {\n",
       "    font-family: monospace;\n",
       "    font-size: medium;\n",
       "    font-weight: bold;\n",
       "    color: var(--features);\n",
       "    display: flex;\n",
       "    flex-flow: column nowrap;\n",
       "    justify-content: flex-start;\n",
       "    align-items: flex-start;\n",
       "    align-content: flex-start;\n",
       "    padding: 2px;\n",
       "    margin: 2px;\n",
       "    direction: ltr;\n",
       "    unicode-bidi: embed;\n",
       "    border: var(--meta-width) solid var(--meta-color);\n",
       "    border-radius: var(--meta-width);\n",
       "}\n",
       ".features div,.features span {\n",
       "    padding: 0;\n",
       "    margin: -2px 0;\n",
       "}\n",
       ".features .f {\n",
       "    font-family: sans-serif;\n",
       "    font-size: small;\n",
       "    font-weight: normal;\n",
       "    color: #5555bb;\n",
       "}\n",
       ".features .xft {\n",
       "  color: #000000;\n",
       "  background-color: #eeeeee;\n",
       "  font-size: medium;\n",
       "  margin: 2px 0px;\n",
       "}\n",
       ".features .xft .f {\n",
       "  color: #000000;\n",
       "  background-color: #eeeeee;\n",
       "  font-size: small;\n",
       "  font-weight: normal;\n",
       "}\n",
       ".tfsechead {\n",
       "    font-family: sans-serif;\n",
       "    font-size: small;\n",
       "    font-weight: bold;\n",
       "    color: var(--tfsechead);\n",
       "    unicode-bidi: embed;\n",
       "    text-align: start;\n",
       "}\n",
       ".structure {\n",
       "    font-family: sans-serif;\n",
       "    font-size: small;\n",
       "    font-weight: bold;\n",
       "    color: var(--structure);\n",
       "    unicode-bidi: embed;\n",
       "    text-align: start;\n",
       "}\n",
       ".comments {\n",
       "    display: flex;\n",
       "    justify-content: flex-start;\n",
       "    align-items: flex-start;\n",
       "    align-content: flex-start;\n",
       "    flex-flow: column nowrap;\n",
       "}\n",
       ".nd, a:link.nd {\n",
       "    font-family: sans-serif;\n",
       "    font-size: small;\n",
       "    color: var(--node);\n",
       "    vertical-align: super;\n",
       "    direction: ltr ! important;\n",
       "    unicode-bidi: embed;\n",
       "}\n",
       ".lex {\n",
       "  color: var(--lex-color);;\n",
       "}\n",
       ".children,.children.ltr {\n",
       "    display: flex;\n",
       "    border: 0;\n",
       "    background-color: #ffffff;\n",
       "    justify-content: flex-start;\n",
       "    align-items: flex-start;\n",
       "    align-content: flex-start;\n",
       "}\n",
       ".children.stretch {\n",
       "    align-items: stretch;\n",
       "}\n",
       ".children.hor {\n",
       "    flex-flow: row nowrap;\n",
       "}\n",
       ".children.hor.wrap {\n",
       "    flex-flow: row wrap;\n",
       "}\n",
       ".children.ver {\n",
       "    flex-flow: column nowrap;\n",
       "}\n",
       ".children.ver.wrap {\n",
       "    flex-flow: column wrap;\n",
       "}\n",
       ".contnr {\n",
       "    width: fit-content;\n",
       "    display: flex;\n",
       "    justify-content: flex-start;\n",
       "    align-items: flex-start;\n",
       "    align-content: flex-start;\n",
       "    flex-flow: column nowrap;\n",
       "    background: #ffffff none repeat scroll 0 0;\n",
       "    padding:  10px 2px 2px 2px;\n",
       "    margin: 16px 2px 2px 2px;\n",
       "    border-style: solid;\n",
       "    font-size: small;\n",
       "}\n",
       ".contnr.trm {\n",
       "    background-attachment: local;\n",
       "}\n",
       ".contnr.cnul {\n",
       "    padding:  0;\n",
       "    margin: 0;\n",
       "    border-style: solid;\n",
       "    font-size: xx-small;\n",
       "}\n",
       ".contnr.cnul,.lbl.cnul {\n",
       "    border-color: var(--border-color-nul);\n",
       "    border-width: var(--border-width-nul);\n",
       "    border-radius: var(--border-width-nul);\n",
       "}\n",
       ".contnr.c0,.lbl.c0 {\n",
       "    border-color: var(--border-color0);\n",
       "    border-width: var(--border-width0);\n",
       "    border-radius: var(--border-width0);\n",
       "}\n",
       ".contnr.c1,.lbl.c1 {\n",
       "    border-color: var(--border-color1);\n",
       "    border-width: var(--border-width1);\n",
       "    border-radius: var(--border-width1);\n",
       "}\n",
       ".contnr.c2,.lbl.c2 {\n",
       "    border-color: var(--border-color2);\n",
       "    border-width: var(--border-width2);\n",
       "    border-radius: var(--border-width2);\n",
       "}\n",
       ".contnr.c3,.lbl.c3 {\n",
       "    border-color: var(--border-color3);\n",
       "    border-width: var(--border-width3);\n",
       "    border-radius: var(--border-width3);\n",
       "}\n",
       ".contnr.c4,.lbl.c4 {\n",
       "    border-color: var(--border-color4);\n",
       "    border-width: var(--border-width4);\n",
       "    border-radius: var(--border-width4);\n",
       "}\n",
       "span.plain {\n",
       "    /*display: inline-block;*/\n",
       "    display: inline-flex;\n",
       "    flex-flow: row wrap;\n",
       "    white-space: pre-wrap;\n",
       "}\n",
       ".plain {\n",
       "    background-color: #ffffff;\n",
       "}\n",
       ".plain.l,.contnr.l,.contnr.l>.lbl {\n",
       "    border-left-style: dotted\n",
       "}\n",
       ".plain.r,.contnr.r,.contnr.r>.lbl {\n",
       "    border-right-style: dotted\n",
       "}\n",
       ".plain.lno,.contnr.lno,.contnr.lno>.lbl {\n",
       "    border-left-style: none\n",
       "}\n",
       ".plain.rno,.contnr.rno,.contnr.rno>.lbl {\n",
       "    border-right-style: none\n",
       "}\n",
       ".plain.l {\n",
       "    padding-left: 4px;\n",
       "    margin-left: 2px;\n",
       "    border-width: var(--border-width-plain);\n",
       "}\n",
       ".plain.r {\n",
       "    padding-right: 4px;\n",
       "    margin-right: 2px;\n",
       "    border-width: var(--border-width-plain);\n",
       "}\n",
       ".lbl {\n",
       "    font-family: monospace;\n",
       "    margin-top: -24px;\n",
       "    margin-left: 20px;\n",
       "    background: #ffffff none repeat scroll 0 0;\n",
       "    padding: 0 6px;\n",
       "    border-style: solid;\n",
       "    display: block;\n",
       "    color: var(--label)\n",
       "}\n",
       ".lbl.trm {\n",
       "    background-attachment: local;\n",
       "    margin-top: 2px;\n",
       "    margin-left: 2px;\n",
       "    padding: 2px 2px;\n",
       "    border-style: none;\n",
       "}\n",
       ".lbl.cnul {\n",
       "    font-size: xx-small;\n",
       "}\n",
       ".lbl.c0 {\n",
       "    font-size: small;\n",
       "}\n",
       ".lbl.c1 {\n",
       "    font-size: small;\n",
       "}\n",
       ".lbl.c2 {\n",
       "    font-size: medium;\n",
       "}\n",
       ".lbl.c3 {\n",
       "    font-size: medium;\n",
       "}\n",
       ".lbl.c4 {\n",
       "    font-size: large;\n",
       "}\n",
       ".occs, a:link.occs {\n",
       "    font-size: small;\n",
       "}\n",
       "\n",
       "/* PROVENANCE */\n",
       "\n",
       "div.prov {\n",
       "\tmargin: 40px;\n",
       "\tpadding: 20px;\n",
       "\tborder: 2px solid var(--fog-rim);\n",
       "}\n",
       "div.pline {\n",
       "\tdisplay: flex;\n",
       "\tflex-flow: row nowrap;\n",
       "\tjustify-content: stretch;\n",
       "\talign-items: baseline;\n",
       "}\n",
       "div.p2line {\n",
       "\tmargin-left: 2em;\n",
       "\tdisplay: flex;\n",
       "\tflex-flow: row nowrap;\n",
       "\tjustify-content: stretch;\n",
       "\talign-items: baseline;\n",
       "}\n",
       "div.psline {\n",
       "\tdisplay: flex;\n",
       "\tflex-flow: row nowrap;\n",
       "\tjustify-content: stretch;\n",
       "\talign-items: baseline;\n",
       "\tbackground-color: var(--gold-mist-back);\n",
       "}\n",
       "div.pname {\n",
       "\tflex: 0 0 5rem;\n",
       "\tfont-weight: bold;\n",
       "}\n",
       "div.pval {\n",
       "    flex: 1 1 auto;\n",
       "}\n",
       "\n",
       "/* KEYBOARD */\n",
       ".ccoff {\n",
       "  background-color: inherit;\n",
       "}\n",
       ".ccon {\n",
       "  background-color: yellow ! important;\n",
       "}\n",
       ".ccon,.ccoff {\n",
       "  padding: 0.2rem;\n",
       "  margin: 0.2rem;\n",
       "  border: 0.1rem solid var(--letter-box-border);\n",
       "  border-radius: 0.1rem;\n",
       "}\n",
       ".ccline {\n",
       "  font-size: xx-large ! important;\n",
       "  font-weight: bold;\n",
       "  line-height: 2em ! important;\n",
       "}\n",
       "/* TF header */\n",
       "\n",
       "summary {\n",
       "  /* needed to override the normalize.less\n",
       "   * in the classical jupyter notebook\n",
       "   */\n",
       "  display: list-item ! important;\n",
       "}\n",
       "\n",
       ".fcorpus {\n",
       "  display: flex;\n",
       "  flex-flow: column nowrap;\n",
       "  justify-content: flex-start;\n",
       "  align-items: flex-start;\n",
       "  align-content: flex-start;\n",
       "}\n",
       ".frow {\n",
       "  display: flex;\n",
       "  flex-flow: row nowrap;\n",
       "  justify-content: flex-start;\n",
       "  align-items: flex-start;\n",
       "  align-content: flex-start;\n",
       "}\n",
       ".fmeta {\n",
       "  display: flex;\n",
       "  flex-flow: column nowrap;\n",
       "  justify-content: flex-start;\n",
       "  align-items: flex-start;\n",
       "  align-content: flex-start;\n",
       "}\n",
       ".fmetarow {\n",
       "  display: flex;\n",
       "  flex-flow: row nowrap;\n",
       "  justify-content: flex-start;\n",
       "  align-items: flex-start;\n",
       "  align-content: flex-start;\n",
       "}\n",
       ".fmetakey {\n",
       "  min-width: 8em;\n",
       "  font-family: monospace;\n",
       "}\n",
       ".fnamecat {\n",
       "  min-width: 8em;\n",
       "}\n",
       ".fnamecat.edge {\n",
       "  font-weight: bold;\n",
       "  font-style: italic;\n",
       "}\n",
       ".fmono {\n",
       "    font-family: monospace;\n",
       "}\n",
       "\n",
       ":root {\n",
       "\t--node:               hsla(120, 100%,  20%, 1.0  );\n",
       "\t--label:              hsla(  0, 100%,  20%, 1.0  );\n",
       "\t--tfsechead:          hsla(  0, 100%,  25%, 1.0  );\n",
       "\t--structure:          hsla(120, 100%,  25%, 1.0  );\n",
       "\t--features:           hsla(  0,   0%,  30%, 1.0  );\n",
       "  --text-color:         hsla( 60,  80%,  10%, 1.0  );\n",
       "  --lex-color:          hsla(220,  90%,  60%, 1.0  );\n",
       "  --meta-color:         hsla(  0,   0%,  90%, 0.7  );\n",
       "  --meta-width:         3px;\n",
       "  --border-color-nul:   hsla(  0,   0%,  90%, 0.5  );\n",
       "  --border-color0:      hsla(  0,   0%,  90%, 0.9  );\n",
       "  --border-color1:      hsla(  0,   0%,  80%, 0.9  );\n",
       "  --border-color2:      hsla(  0,   0%,  70%, 0.9  );\n",
       "  --border-color3:      hsla(  0,   0%,  80%, 0.8  );\n",
       "  --border-color4:      hsla(  0,   0%,  60%, 0.9  );\n",
       "\t--letter-box-border:  hsla(  0,   0%,  80%, 0.5  );\n",
       "  --border-width-nul:   2px;\n",
       "  --border-width0:      2px;\n",
       "  --border-width1:      3px;\n",
       "  --border-width2:      4px;\n",
       "  --border-width3:      6px;\n",
       "  --border-width4:      5px;\n",
       "  --border-width-plain: 2px;\n",
       "}\n",
       ".hl {\n",
       "  background-color: var(--hl-strong);\n",
       "}\n",
       "span.hl {\n",
       "\tbackground-color: var(--hl-strong);\n",
       "\tborder-width: 0;\n",
       "\tborder-radius: 2px;\n",
       "\tborder-style: solid;\n",
       "}\n",
       "div.contnr.hl,div.lbl.hl {\n",
       "  background-color: var(--hl-strong);\n",
       "}\n",
       "div.contnr.hl {\n",
       "  border-color: var(--hl-rim) ! important;\n",
       "\tborder-width: 4px ! important;\n",
       "}\n",
       "\n",
       "span.hlbx {\n",
       "\tborder-color: var(--hl-rim);\n",
       "\tborder-width: 4px ! important;\n",
       "\tborder-style: solid;\n",
       "\tborder-radius: 6px;\n",
       "  padding: 4px;\n",
       "  margin: 4px;\n",
       "}\n",
       "\n",
       ":root {\n",
       "\t--hl-strong:        hsla( 60, 100%,  70%, 0.9  );\n",
       "\t--hl-rim:           hsla( 55,  80%,  50%, 1.0  );\n",
       "}\n",
       ".contnr.cluster {\n",
       "    flex-flow: row wrap;\n",
       "    border: 0;\n",
       "}\n",
       ".meta .features {\n",
       "    background-color: #ffeedd;\n",
       "}\n",
       ".lbl.clusterb,.lbl.clustere {\n",
       "    padding:  0.5em 0.1em 0.1em 0.1em;\n",
       "    margin: 0.8em 0.1em 0.1em 0.1em;\n",
       "    color: #888844;\n",
       "    font-size: x-small;\n",
       "}\n",
       ".lbl.clusterb {\n",
       "    border-left: 0.3em solid #cccc99;\n",
       "    border-right: 0;\n",
       "    border-top: 0;\n",
       "    border-bottom: 0;\n",
       "    border-radius: 1rem;\n",
       "}\n",
       ".lbl.clustere {\n",
       "    border-left: 0;\n",
       "    border-right: 0.3em solid #cccc99;\n",
       "    border-top: 0;\n",
       "    border-bottom: 0;\n",
       "    border-radius: 1rem;\n",
       "}\n",
       ".op {\n",
       "    padding:  0.5em 0.1em 0.1em 0.1em;\n",
       "    margin: 0.8em 0.1em 0.1em 0.1em;\n",
       "    font-family: monospace;\n",
       "    font-size: x-large;\n",
       "    font-weight: bold;\n",
       "}\n",
       ".period {\n",
       "    font-family: monospace;\n",
       "    font-size: medium;\n",
       "    font-weight: bold;\n",
       "    color: #0000bb;\n",
       "}\n",
       ".excavation {\n",
       "    font-family: monospace;\n",
       "    font-size: medium;\n",
       "    font-style: italic;\n",
       "    color: #779900;\n",
       "}\n",
       "</style>"
      ],
      "text/plain": [
       "<IPython.core.display.HTML object>"
      ]
     },
     "metadata": {},
     "output_type": "display_data"
    },
    {
     "data": {
      "text/html": [
       "\n",
       "<script>\n",
       "globalThis.copyChar = (el, c) => {\n",
       "    for (const el of document.getElementsByClassName('ccon')) {\n",
       "        el.className = 'ccoff'\n",
       "    }\n",
       "    el.className = 'ccon'\n",
       "    navigator.clipboard.writeText(String.fromCharCode(c))\n",
       "}\n",
       "</script>\n"
      ],
      "text/plain": [
       "<IPython.core.display.HTML object>"
      ]
     },
     "metadata": {},
     "output_type": "display_data"
    },
    {
     "data": {
      "text/html": [
       "<div><b>Text-Fabric API:</b> names <a target=\"_blank\" href=\"https://annotation.github.io/text-fabric/tf/cheatsheet.html\" title=\"doc\">N F E L T S C TF</a> directly usable</div><hr>"
      ],
      "text/plain": [
       "<IPython.core.display.HTML object>"
      ]
     },
     "metadata": {},
     "output_type": "display_data"
    },
    {
     "data": {
      "text/html": [
       "<b title=\"local commit\">data:</b> <span title=\"#7da6cb7cd9dffb12aff5e35639078029727a90e7 offline under /Users/me/text-fabric-data/github\">~/text-fabric-data/github/Nino-cunei/uruk/sources/cdli/images</span>"
      ],
      "text/plain": [
       "<IPython.core.display.HTML object>"
      ]
     },
     "metadata": {},
     "output_type": "display_data"
    },
    {
     "data": {
      "text/html": [
       "Found 2095 ideograph linearts<br>"
      ],
      "text/plain": [
       "<IPython.core.display.HTML object>"
      ]
     },
     "metadata": {},
     "output_type": "display_data"
    },
    {
     "data": {
      "text/html": [
       "Found 2724 tablet linearts<br>"
      ],
      "text/plain": [
       "<IPython.core.display.HTML object>"
      ]
     },
     "metadata": {},
     "output_type": "display_data"
    },
    {
     "data": {
      "text/html": [
       "Found 5495 tablet photos<br>"
      ],
      "text/plain": [
       "<IPython.core.display.HTML object>"
      ]
     },
     "metadata": {},
     "output_type": "display_data"
    }
   ],
   "source": [
    "A = use(\"Nino-cunei/uruk:clone\", hoist=globals())"
   ]
  },
  {
   "cell_type": "markdown",
   "metadata": {},
   "source": [
    "# The basics\n",
    "\n",
    "Here is a very simple query: we look for tablets containing a numeral sign."
   ]
  },
  {
   "cell_type": "code",
   "execution_count": 4,
   "metadata": {},
   "outputs": [
    {
     "name": "stdout",
     "output_type": "stream",
     "text": [
      "  0.10s 38122 results\n"
     ]
    }
   ],
   "source": [
    "query = \"\"\"\n",
    "tablet\n",
    "  sign type=numeral\n",
    "\"\"\"\n",
    "\n",
    "results = A.search(query)"
   ]
  },
  {
   "cell_type": "markdown",
   "metadata": {},
   "source": [
    "We can display the results in a table (here are the first 5):"
   ]
  },
  {
   "cell_type": "code",
   "execution_count": 5,
   "metadata": {},
   "outputs": [
    {
     "data": {
      "text/html": [
       "<table><tr class=\"tf ltr\"><th class=\"tf ltr\">n</th><th class=\"tf ltr\">p</th><th class=\"tf ltr\">tablet</th><th class=\"tf\">sign</th></tr>\n",
       "<tr class=\"tf ltr\"><td class=\"tf ltr\">1</td><td class=\"tf ltr\"><span class=\"tfsechead ltr\"><span class=\"ltr\"><a target=\"_blank\" href=\"https://cdli.ucla.edu/search/search_results.php?SearchMode=Text&amp;ObjectID=P006427\" title=\"to CDLI main page for this tablet\" sec=\"P006427 obverse:2:1\">P006427 obverse:2:1</a></span></span></td><td class=\"tf ltr\"><span class=\" ubd\"><span class=\"txtu \"><span class=\"tfsechead ltr\"><span class=\"ltr\">P006427</span></span></span></span></td><td class=\"tf ltr\"><span class=\" ubd\"><span class=\"plain   hl\" ><span class=\"plain hl\" >3(N14)</span>  <a target=\"_blank\" href=\"https://cdli.ucla.edu/tools/SignLists/protocuneiform/archsigns/3(N14).jpg\" title=\"to higher resolution lineart on CDLI\"><img src=\"cdli-imagery/lineart-3(n14).jpg\" style=\"display: inline;max-width: 2em; max-height: 6em;\"  /></a></span></span></td></tr>\n",
       "<tr class=\"tf ltr\"><td class=\"tf ltr\">2</td><td class=\"tf ltr\"><span class=\"tfsechead ltr\"><span class=\"ltr\"><a target=\"_blank\" href=\"https://cdli.ucla.edu/search/search_results.php?SearchMode=Text&amp;ObjectID=P006428\" title=\"to CDLI main page for this tablet\" sec=\"P006428 obverse:3:2\">P006428 obverse:3:2</a></span></span></td><td class=\"tf ltr\"><span class=\" ubd\"><span class=\"txtu \"><span class=\"tfsechead ltr\"><span class=\"ltr\">P006428</span></span></span></span></td><td class=\"tf ltr\"><span class=\" ubd\"><span class=\"plain   hl\" ><span class=\"plain hl\" >3(N14)</span>  <a target=\"_blank\" href=\"https://cdli.ucla.edu/tools/SignLists/protocuneiform/archsigns/3(N14).jpg\" title=\"to higher resolution lineart on CDLI\"><img src=\"cdli-imagery/lineart-3(n14).jpg\" style=\"display: inline;max-width: 2em; max-height: 6em;\"  /></a></span></span></td></tr>\n",
       "<tr class=\"tf ltr\"><td class=\"tf ltr\">3</td><td class=\"tf ltr\"><span class=\"tfsechead ltr\"><span class=\"ltr\"><a target=\"_blank\" href=\"https://cdli.ucla.edu/search/search_results.php?SearchMode=Text&amp;ObjectID=P006428\" title=\"to CDLI main page for this tablet\" sec=\"P006428 obverse:3:3\">P006428 obverse:3:3</a></span></span></td><td class=\"tf ltr\"><span class=\" ubd\"><span class=\"txtu \"><span class=\"tfsechead ltr\"><span class=\"ltr\">P006428</span></span></span></span></td><td class=\"tf ltr\"><span class=\" ubd\"><span class=\"plain   hl\" ><span class=\"plain hl\" >1(N14)</span>  <a target=\"_blank\" href=\"https://cdli.ucla.edu/tools/SignLists/protocuneiform/archsigns/1(N14).jpg\" title=\"to higher resolution lineart on CDLI\"><img src=\"cdli-imagery/lineart-1(n14).jpg\" style=\"display: inline;max-width: 2em; max-height: 6em;\"  /></a></span></span></td></tr>\n",
       "<tr class=\"tf ltr\"><td class=\"tf ltr\">4</td><td class=\"tf ltr\"><span class=\"tfsechead ltr\"><span class=\"ltr\"><a target=\"_blank\" href=\"https://cdli.ucla.edu/search/search_results.php?SearchMode=Text&amp;ObjectID=P006428\" title=\"to CDLI main page for this tablet\" sec=\"P006428 obverse:3:5\">P006428 obverse:3:5</a></span></span></td><td class=\"tf ltr\"><span class=\" ubd\"><span class=\"txtu \"><span class=\"tfsechead ltr\"><span class=\"ltr\">P006428</span></span></span></span></td><td class=\"tf ltr\"><span class=\" ubd\"><span class=\"plain   hl\" ><span class=\"plain hl\" >1(N01)</span>  <a target=\"_blank\" href=\"https://cdli.ucla.edu/tools/SignLists/protocuneiform/archsigns/1(N01).jpg\" title=\"to higher resolution lineart on CDLI\"><img src=\"cdli-imagery/lineart-1(n01).jpg\" style=\"display: inline;max-width: 2em; max-height: 6em;\"  /></a></span></span></td></tr>\n",
       "<tr class=\"tf ltr\"><td class=\"tf ltr\">5</td><td class=\"tf ltr\"><span class=\"tfsechead ltr\"><span class=\"ltr\"><a target=\"_blank\" href=\"https://cdli.ucla.edu/search/search_results.php?SearchMode=Text&amp;ObjectID=P006428\" title=\"to CDLI main page for this tablet\" sec=\"P006428 obverse:3:5\">P006428 obverse:3:5</a></span></span></td><td class=\"tf ltr\"><span class=\" ubd\"><span class=\"txtu \"><span class=\"tfsechead ltr\"><span class=\"ltr\">P006428</span></span></span></span></td><td class=\"tf ltr\"><span class=\" ubd\"><span class=\"plain   hl\" ><span class=\"plain hl\" >1(N57)</span>  <a target=\"_blank\" href=\"https://cdli.ucla.edu/tools/SignLists/protocuneiform/archsigns/1(N57).jpg\" title=\"to higher resolution lineart on CDLI\"><img src=\"cdli-imagery/lineart-1(n57).jpg\" style=\"display: inline;max-width: 2em; max-height: 6em;\"  /></a></span></span></td></tr></table>"
      ],
      "text/plain": [
       "<IPython.core.display.HTML object>"
      ]
     },
     "metadata": {},
     "output_type": "display_data"
    }
   ],
   "source": [
    "A.table(results, end=5, condenseType=\"line\")"
   ]
  },
  {
   "cell_type": "markdown",
   "metadata": {},
   "source": [
    "We can combine all results that are on the same tablet:"
   ]
  },
  {
   "cell_type": "code",
   "execution_count": 6,
   "metadata": {},
   "outputs": [
    {
     "data": {
      "text/html": [
       "<table><tr class=\"tf ltr\"><th class=\"tf ltr\">n</th><th class=\"tf ltr\">p</th><th class=\"tf ltr\">line</th><th class=\"tf\">sign</th></tr>\n",
       "<tr class=\"tf ltr\"><td class=\"tf ltr\">1</td><td class=\"tf ltr\"><span class=\"tfsechead ltr\"><span class=\"ltr\"><a target=\"_blank\" href=\"https://cdli.ucla.edu/search/search_results.php?SearchMode=Text&amp;ObjectID=P006427\" title=\"to CDLI main page for this tablet\" sec=\"P006427 obverse:2:1\">P006427 obverse:2:1</a></span></span></td><td class=\"tf ltr\"><span class=\" ubd\"><span class=\"plain   hl\" ><span class=\"plain hl\" >3(N14)</span>  <a target=\"_blank\" href=\"https://cdli.ucla.edu/tools/SignLists/protocuneiform/archsigns/3(N14).jpg\" title=\"to higher resolution lineart on CDLI\"><img src=\"cdli-imagery/lineart-3(n14).jpg\" style=\"display: inline;max-width: 2em; max-height: 6em;\"  /></a></span><span class=\"plain \" >X</span> <span class=\"plain \" >SANGA~a</span>  <a target=\"_blank\" href=\"https://cdli.ucla.edu/tools/SignLists/protocuneiform/archsigns/SANGA~a.jpg\" title=\"to higher resolution lineart on CDLI\"><img src=\"cdli-imagery/lineart-sanga-a.jpg\" style=\"display: inline;max-width: 2em; max-height: 6em;\"  /></a><span class=\"plain \" >[<span class=\"plain \" >...</span>]</span> </span></td><td class=\"tf ltr\"><span class=\" ubd\"><span class=\"plain   hl\" ><span class=\"plain hl\" >3(N14)</span>  <a target=\"_blank\" href=\"https://cdli.ucla.edu/tools/SignLists/protocuneiform/archsigns/3(N14).jpg\" title=\"to higher resolution lineart on CDLI\"><img src=\"cdli-imagery/lineart-3(n14).jpg\" style=\"display: inline;max-width: 2em; max-height: 6em;\"  /></a></span></span></td></tr>\n",
       "<tr class=\"tf ltr\"><td class=\"tf ltr\">2</td><td class=\"tf ltr\"><span class=\"tfsechead ltr\"><span class=\"ltr\"><a target=\"_blank\" href=\"https://cdli.ucla.edu/search/search_results.php?SearchMode=Text&amp;ObjectID=P006428\" title=\"to CDLI main page for this tablet\" sec=\"P006428 obverse:3:2\">P006428 obverse:3:2</a></span></span></td><td class=\"tf ltr\"><span class=\" ubd\"><span class=\"plain   hl\" ><span class=\"plain hl\" >3(N14)</span>  <a target=\"_blank\" href=\"https://cdli.ucla.edu/tools/SignLists/protocuneiform/archsigns/3(N14).jpg\" title=\"to higher resolution lineart on CDLI\"><img src=\"cdli-imagery/lineart-3(n14).jpg\" style=\"display: inline;max-width: 2em; max-height: 6em;\"  /></a></span><span class=\"plain \" >X</span> </span></td><td class=\"tf ltr\"><span class=\" ubd\"><span class=\"plain   hl\" ><span class=\"plain hl\" >3(N14)</span>  <a target=\"_blank\" href=\"https://cdli.ucla.edu/tools/SignLists/protocuneiform/archsigns/3(N14).jpg\" title=\"to higher resolution lineart on CDLI\"><img src=\"cdli-imagery/lineart-3(n14).jpg\" style=\"display: inline;max-width: 2em; max-height: 6em;\"  /></a></span></span></td></tr>\n",
       "<tr class=\"tf ltr\"><td class=\"tf ltr\">3</td><td class=\"tf ltr\"><span class=\"tfsechead ltr\"><span class=\"ltr\"><a target=\"_blank\" href=\"https://cdli.ucla.edu/search/search_results.php?SearchMode=Text&amp;ObjectID=P006428\" title=\"to CDLI main page for this tablet\" sec=\"P006428 obverse:3:3\">P006428 obverse:3:3</a></span></span></td><td class=\"tf ltr\"><span class=\" ubd\"><span class=\"plain   hl\" ><span class=\"plain hl\" >1(N14)</span>  <a target=\"_blank\" href=\"https://cdli.ucla.edu/tools/SignLists/protocuneiform/archsigns/1(N14).jpg\" title=\"to higher resolution lineart on CDLI\"><img src=\"cdli-imagery/lineart-1(n14).jpg\" style=\"display: inline;max-width: 2em; max-height: 6em;\"  /></a></span><span class=\"plain \" >SUHUR</span>  <a target=\"_blank\" href=\"https://cdli.ucla.edu/tools/SignLists/protocuneiform/archsigns/SUHUR.jpg\" title=\"to higher resolution lineart on CDLI\"><img src=\"cdli-imagery/lineart-suhur.jpg\" style=\"display: inline;max-width: 2em; max-height: 6em;\"  /></a></span></td><td class=\"tf ltr\"><span class=\" ubd\"><span class=\"plain   hl\" ><span class=\"plain hl\" >1(N14)</span>  <a target=\"_blank\" href=\"https://cdli.ucla.edu/tools/SignLists/protocuneiform/archsigns/1(N14).jpg\" title=\"to higher resolution lineart on CDLI\"><img src=\"cdli-imagery/lineart-1(n14).jpg\" style=\"display: inline;max-width: 2em; max-height: 6em;\"  /></a></span></span></td></tr>\n",
       "<tr class=\"tf ltr\"><td class=\"tf ltr\">4</td><td class=\"tf ltr\"><span class=\"tfsechead ltr\"><span class=\"ltr\"><a target=\"_blank\" href=\"https://cdli.ucla.edu/search/search_results.php?SearchMode=Text&amp;ObjectID=P006428\" title=\"to CDLI main page for this tablet\" sec=\"P006428 obverse:3:5\">P006428 obverse:3:5</a></span></span></td><td class=\"tf ltr\"><span class=\" ubd\"><span class=\"plain   hl\" ><span class=\"plain hl\" >1(N01)</span>  <a target=\"_blank\" href=\"https://cdli.ucla.edu/tools/SignLists/protocuneiform/archsigns/1(N01).jpg\" title=\"to higher resolution lineart on CDLI\"><img src=\"cdli-imagery/lineart-1(n01).jpg\" style=\"display: inline;max-width: 2em; max-height: 6em;\"  /></a></span><span class=\"plain \" >|<span class=\"plain \" >DUG~b</span>x<span class=\"plain hl\" >1(N57)</span>|</span>  <a target=\"_blank\" href=\"https://cdli.ucla.edu/tools/SignLists/protocuneiform/archsigns/|DUG~bx1(N57)|.jpg\" title=\"to higher resolution lineart on CDLI\"><img src=\"cdli-imagery/lineart-qdug-bx1(n57)q.jpg\" style=\"display: inline;max-width: 4em; max-height: 4em;\"  /></a></span></td><td class=\"tf ltr\"><span class=\" ubd\"><span class=\"plain   hl\" ><span class=\"plain hl\" >1(N01)</span>  <a target=\"_blank\" href=\"https://cdli.ucla.edu/tools/SignLists/protocuneiform/archsigns/1(N01).jpg\" title=\"to higher resolution lineart on CDLI\"><img src=\"cdli-imagery/lineart-1(n01).jpg\" style=\"display: inline;max-width: 2em; max-height: 6em;\"  /></a></span></span></td><td class=\"tf ltr\"><span class=\" ubd\"><span class=\"plain   hl\" ><span class=\"plain hl\" >1(N57)</span>  <a target=\"_blank\" href=\"https://cdli.ucla.edu/tools/SignLists/protocuneiform/archsigns/1(N57).jpg\" title=\"to higher resolution lineart on CDLI\"><img src=\"cdli-imagery/lineart-1(n57).jpg\" style=\"display: inline;max-width: 2em; max-height: 6em;\"  /></a></span></span></td></tr>\n",
       "<tr class=\"tf ltr\"><td class=\"tf ltr\">5</td><td class=\"tf ltr\"><span class=\"tfsechead ltr\"><span class=\"ltr\"><a target=\"_blank\" href=\"https://cdli.ucla.edu/search/search_results.php?SearchMode=Text&amp;ObjectID=P448701\" title=\"to CDLI main page for this tablet\" sec=\"P448701 obverse:1:1\">P448701 obverse:1:1</a></span></span></td><td class=\"tf ltr\"><span class=\" ubd\"><span class=\"plain   hl\" ><span class=\"plain hl\" >1(N46)</span>  <a target=\"_blank\" href=\"https://cdli.ucla.edu/tools/SignLists/protocuneiform/archsigns/1(N46).jpg\" title=\"to higher resolution lineart on CDLI\"><img src=\"cdli-imagery/lineart-1(n46).jpg\" style=\"display: inline;max-width: 2em; max-height: 6em;\"  /></a></span><span class=\"plain   hl\" ><span class=\"plain hl\" >2(N19)</span>  <a target=\"_blank\" href=\"https://cdli.ucla.edu/tools/SignLists/protocuneiform/archsigns/2(N19).jpg\" title=\"to higher resolution lineart on CDLI\"><img src=\"cdli-imagery/lineart-2(n19).jpg\" style=\"display: inline;max-width: 2em; max-height: 6em;\"  /></a></span><span class=\"plain   hl\" ><span class=\"plain hl\" >4(N41)</span>  <a target=\"_blank\" href=\"https://cdli.ucla.edu/tools/SignLists/protocuneiform/archsigns/4(N41).jpg\" title=\"to higher resolution lineart on CDLI\"><img src=\"cdli-imagery/lineart-4(n41).jpg\" style=\"display: inline;max-width: 2em; max-height: 6em;\"  /></a></span></span></td><td class=\"tf ltr\"><span class=\" ubd\"><span class=\"plain   hl\" ><span class=\"plain hl\" >2(N19)</span>  <a target=\"_blank\" href=\"https://cdli.ucla.edu/tools/SignLists/protocuneiform/archsigns/2(N19).jpg\" title=\"to higher resolution lineart on CDLI\"><img src=\"cdli-imagery/lineart-2(n19).jpg\" style=\"display: inline;max-width: 2em; max-height: 6em;\"  /></a></span></span></td><td class=\"tf ltr\"><span class=\" ubd\"><span class=\"plain   hl\" ><span class=\"plain hl\" >4(N41)</span>  <a target=\"_blank\" href=\"https://cdli.ucla.edu/tools/SignLists/protocuneiform/archsigns/4(N41).jpg\" title=\"to higher resolution lineart on CDLI\"><img src=\"cdli-imagery/lineart-4(n41).jpg\" style=\"display: inline;max-width: 2em; max-height: 6em;\"  /></a></span></span></td><td class=\"tf ltr\"><span class=\" ubd\"><span class=\"plain   hl\" ><span class=\"plain hl\" >1(N46)</span>  <a target=\"_blank\" href=\"https://cdli.ucla.edu/tools/SignLists/protocuneiform/archsigns/1(N46).jpg\" title=\"to higher resolution lineart on CDLI\"><img src=\"cdli-imagery/lineart-1(n46).jpg\" style=\"display: inline;max-width: 2em; max-height: 6em;\"  /></a></span></span></td></tr></table>"
      ],
      "text/plain": [
       "<IPython.core.display.HTML object>"
      ]
     },
     "metadata": {},
     "output_type": "display_data"
    }
   ],
   "source": [
    "A.table(results, condensed=True, condenseType=\"line\", end=5)"
   ]
  },
  {
   "cell_type": "markdown",
   "metadata": {},
   "source": [
    "And we can show them inside the face they occur in:"
   ]
  },
  {
   "cell_type": "code",
   "execution_count": 7,
   "metadata": {},
   "outputs": [
    {
     "data": {
      "text/html": [
       "<p><b>result</b> <i>1</i>"
      ],
      "text/plain": [
       "<IPython.core.display.HTML object>"
      ]
     },
     "metadata": {},
     "output_type": "display_data"
    },
    {
     "data": {
      "text/html": [
       "<div class=\"tfsechead \"><span class=\"ltr\"><a target=\"_blank\" href=\"https://cdli.ucla.edu/search/search_results.php?SearchMode=Text&amp;ObjectID=P006427\" title=\"to CDLI main page for this tablet\" sec=\"P006427\">P006427</a></span></div><div class=\" children\"><div class=\"contnr c4 trm   \" ><div class=\"lbl c4 trm \" ><span class=\"nd\">tablet </span> <span class=\"txtu\"><span class=\"tfsechead ltr\"><span class=\"ltr\">P006427</span></span></span></div><div class=\"features\"><span class=\"name \" title=\"name\">Anonymous 006427</span><span class=\"period \" title=\"period\">uruk-iii</span></div></div></div>"
      ],
      "text/plain": [
       "<IPython.core.display.HTML object>"
      ]
     },
     "metadata": {},
     "output_type": "display_data"
    },
    {
     "data": {
      "text/html": [
       "<div class=\"tfsechead \"><span class=\"ltr\"><a target=\"_blank\" href=\"https://cdli.ucla.edu/search/search_results.php?SearchMode=Text&amp;ObjectID=P006427\" title=\"to CDLI main page for this tablet\" sec=\"P006427 obverse:1:1\">P006427 obverse:1:1</a></span></div><div class=\" children\"><div class=\"contnr c2    \" ><div class=\"lbl c2  \" ><span class=\"nd\">face </span> <span class=\"txtu\"><span title=\"type\">obverse</span></span></div><div class=\"features\"><span class=\"type xft\" ><span class=\"f\">type=</span>obverse</span></div><div class=\"children hor  \"><div class=\"contnr c3    \" ><div class=\"lbl c3  \" ><span class=\"nd\">column </span> <span class=\"txtu\"><span title=\"number\">1</span><span title=\"prime\"></span></span></div><div class=\"children ver  \"><div class=\"contnr c2    \" ><div class=\"lbl c2  \" ><span class=\"nd\">line </span> <span class=\"txtu\"><span title=\"number\">1</span></span></div><div class=\"children hor  \"><div class=\"contnr c1 cluster trm   \" ><div class=\"lbl c1 clusterb trm \" ><span class=\"nd\">cluster </span> <span class=\"txtu\"><span title=\"type\">?</span></span></div><div class=\"features\"><span class=\"type xft\" ><span class=\"f\">type=</span>uncertain</span></div></div><div class=\"children hor wrap \"><div class=\"contnr c0 trm   \" ><div class=\"lbl c0 trm \" ><span class=\"txtu\"><span title=\"atf\">...</span></span></div><div class=\"features\"><span class=\"type xft\" ><span class=\"f\">type=</span>ellipsis</span></div></div></div><div class=\"contnr c1 cluster {}   \" ><div class=\"lbl c1 clustere trm \" ><span class=\"nd\">cluster </span> <span class=\"txtu\"><span title=\"type\">?</span></span></div> <div class=\"features\"><span class=\"type xft\" ><span class=\"f\">type=</span>uncertain</span></div></div><div class=\"contnr c0 trm   \" ><div class=\"lbl c0 trm \" ><span class=\"txtu\"><span title=\"atf\">X</span></span></div><div class=\"features\"><span class=\"type xft\" ><span class=\"f\">type=</span>unknown</span></div></div><div class=\"contnr c0 trm   \" ><div class=\"lbl c0 trm \" ><span class=\"txtu\"><span title=\"atf\">X</span></span></div><div class=\"features\"><span class=\"type xft\" ><span class=\"f\">type=</span>unknown</span></div></div></div></div></div></div><div class=\"contnr c3    \" ><div class=\"lbl c3  \" ><span class=\"nd\">column </span> <span class=\"txtu\"><span title=\"number\">2</span><span title=\"prime\"></span></span></div><div class=\"children ver  \"><div class=\"contnr c2    \" ><div class=\"lbl c2  \" ><span class=\"nd\">line </span> <span class=\"txtu\"><span title=\"number\">1</span></span></div><div class=\"children hor  \"><div class=\"contnr c0 trm   hl\" ><div class=\"lbl c0 trm hl\" ><span class=\"txtu\"><span title=\"atf\">3(N14)</span></span></div><div class=\"features\"><span class=\"type xft\" ><span class=\"f\">type=</span>numeral</span></div><div><a target=\"_blank\" href=\"https://cdli.ucla.edu/tools/SignLists/protocuneiform/archsigns/3(N14).jpg\" title=\"to higher resolution lineart on CDLI\"><img src=\"cdli-imagery/lineart-3(n14).jpg\" style=\"display: inline;max-width: 2em; max-height: 6em;\"  /></a></div></div><div class=\"contnr c0 trm   \" ><div class=\"lbl c0 trm \" ><span class=\"txtu\"><span title=\"atf\">X</span></span></div><div class=\"features\"><span class=\"type xft\" ><span class=\"f\">type=</span>unknown</span></div></div><div class=\"contnr c0 trm   \" ><div class=\"lbl c0 trm \" ><span class=\"txtu\"><span title=\"atf\">SANGA~a?</span></span></div><div class=\"features\"><span class=\"type xft\" ><span class=\"f\">type=</span>ideograph</span></div><div><a target=\"_blank\" href=\"https://cdli.ucla.edu/tools/SignLists/protocuneiform/archsigns/SANGA~a.jpg\" title=\"to higher resolution lineart on CDLI\"><img src=\"cdli-imagery/lineart-sanga-a.jpg\" style=\"display: inline;max-width: 2em; max-height: 6em;\"  /></a></div></div><div class=\"contnr c1 cluster trm   \" ><div class=\"lbl c1 clusterb trm \" ><span class=\"nd\">cluster </span> <span class=\"txtu\"><span title=\"type\">?</span></span></div><div class=\"features\"><span class=\"type xft\" ><span class=\"f\">type=</span>uncertain</span></div></div><div class=\"children hor wrap \"><div class=\"contnr c0 trm   \" ><div class=\"lbl c0 trm \" ><span class=\"txtu\"><span title=\"atf\">...</span></span></div><div class=\"features\"><span class=\"type xft\" ><span class=\"f\">type=</span>ellipsis</span></div></div></div><div class=\"contnr c1 cluster {}   \" ><div class=\"lbl c1 clustere trm \" ><span class=\"nd\">cluster </span> <span class=\"txtu\"><span title=\"type\">?</span></span></div> <div class=\"features\"><span class=\"type xft\" ><span class=\"f\">type=</span>uncertain</span></div></div></div></div></div></div></div></div></div>"
      ],
      "text/plain": [
       "<IPython.core.display.HTML object>"
      ]
     },
     "metadata": {},
     "output_type": "display_data"
    },
    {
     "data": {
      "text/html": [
       "<p><b>result</b> <i>2</i>"
      ],
      "text/plain": [
       "<IPython.core.display.HTML object>"
      ]
     },
     "metadata": {},
     "output_type": "display_data"
    },
    {
     "data": {
      "text/html": [
       "<div class=\"tfsechead \"><span class=\"ltr\"><a target=\"_blank\" href=\"https://cdli.ucla.edu/search/search_results.php?SearchMode=Text&amp;ObjectID=P006428\" title=\"to CDLI main page for this tablet\" sec=\"P006428\">P006428</a></span></div><div class=\" children\"><div class=\"contnr c4 trm   \" ><div class=\"lbl c4 trm \" ><span class=\"nd\">tablet </span> <span class=\"txtu\"><span class=\"tfsechead ltr\"><span class=\"ltr\">P006428</span></span></span></div><div class=\"features\"><span class=\"name \" title=\"name\">Anonymous 006428</span><span class=\"period \" title=\"period\">uruk-iii</span></div></div></div>"
      ],
      "text/plain": [
       "<IPython.core.display.HTML object>"
      ]
     },
     "metadata": {},
     "output_type": "display_data"
    },
    {
     "data": {
      "text/html": [
       "<div class=\"tfsechead \"><span class=\"ltr\"><a target=\"_blank\" href=\"https://cdli.ucla.edu/search/search_results.php?SearchMode=Text&amp;ObjectID=P006428\" title=\"to CDLI main page for this tablet\" sec=\"P006428 obverse:1:1\">P006428 obverse:1:1</a></span></div><div class=\" children\"><div class=\"contnr c2    \" ><div class=\"lbl c2  \" ><span class=\"nd\">face </span> <span class=\"txtu\"><span title=\"type\">obverse</span></span></div><div class=\"features\"><span class=\"type xft\" ><span class=\"f\">type=</span>obverse</span></div><div class=\"children hor  \"><div class=\"contnr c3    \" ><div class=\"lbl c3  \" ><span class=\"nd\">column </span> <span class=\"txtu\"><span title=\"number\">1</span><span title=\"prime\"></span></span></div><div class=\"children ver  \"><div class=\"contnr c2    \" ><div class=\"lbl c2  \" ><span class=\"nd\">line </span> <span class=\"txtu\"><span title=\"number\">1</span></span></div><div class=\"children hor  \"><div class=\"contnr c0 trm   \" ><div class=\"lbl c0 trm \" ><span class=\"txtu\"><span title=\"atf\">X</span></span></div><div class=\"features\"><span class=\"type xft\" ><span class=\"f\">type=</span>unknown</span></div></div><div class=\"contnr c0 trm   \" ><div class=\"lbl c0 trm \" ><span class=\"txtu\"><span title=\"atf\">X</span></span></div><div class=\"features\"><span class=\"type xft\" ><span class=\"f\">type=</span>unknown</span></div></div></div></div><div class=\"contnr c2    \" ><div class=\"lbl c2  \" ><span class=\"nd\">line </span> <span class=\"txtu\"><span title=\"number\">2</span></span></div><div class=\"children hor  \"><div class=\"contnr c0 trm   \" ><div class=\"lbl c0 trm \" ><span class=\"txtu\"><span title=\"atf\">X</span></span></div><div class=\"features\"><span class=\"type xft\" ><span class=\"f\">type=</span>unknown</span></div></div><div class=\"contnr c0 trm   \" ><div class=\"lbl c0 trm \" ><span class=\"txtu\"><span title=\"atf\">X</span></span></div><div class=\"features\"><span class=\"type xft\" ><span class=\"f\">type=</span>unknown</span></div></div></div></div></div></div><div class=\"contnr c3    \" ><div class=\"lbl c3  \" ><span class=\"nd\">column </span> <span class=\"txtu\"><span title=\"number\">2</span><span title=\"prime\"></span></span></div><div class=\"children ver  \"><div class=\"contnr c2    \" ><div class=\"lbl c2  \" ><span class=\"nd\">line </span> <span class=\"txtu\"><span title=\"number\">1</span></span></div><div class=\"children hor  \"><div class=\"contnr c0 trm   \" ><div class=\"lbl c0 trm \" ><span class=\"txtu\"><span title=\"atf\">X</span></span></div><div class=\"features\"><span class=\"type xft\" ><span class=\"f\">type=</span>unknown</span></div></div><div class=\"contnr c0 trm   \" ><div class=\"lbl c0 trm \" ><span class=\"txtu\"><span title=\"atf\">X</span></span></div><div class=\"features\"><span class=\"type xft\" ><span class=\"f\">type=</span>unknown</span></div></div></div></div><div class=\"contnr c2    \" ><div class=\"lbl c2  \" ><span class=\"nd\">line </span> <span class=\"txtu\"><span title=\"number\">2</span></span></div><div class=\"children hor  \"><div class=\"contnr c0 trm   \" ><div class=\"lbl c0 trm \" ><span class=\"txtu\"><span title=\"atf\">X</span></span></div><div class=\"features\"><span class=\"type xft\" ><span class=\"f\">type=</span>unknown</span></div></div><div class=\"contnr c0 trm   \" ><div class=\"lbl c0 trm \" ><span class=\"txtu\"><span title=\"atf\">X</span></span></div><div class=\"features\"><span class=\"type xft\" ><span class=\"f\">type=</span>unknown</span></div></div></div></div></div></div><div class=\"contnr c3    \" ><div class=\"lbl c3  \" ><span class=\"nd\">column </span> <span class=\"txtu\"><span title=\"number\">3</span><span title=\"prime\"></span></span></div><div class=\"children ver  \"><div class=\"contnr c2    \" ><div class=\"lbl c2  \" ><span class=\"nd\">line </span> <span class=\"txtu\"><span title=\"number\">1</span></span></div><div class=\"children hor  \"><div class=\"contnr c0 trm   \" ><div class=\"lbl c0 trm \" ><span class=\"txtu\"><span title=\"atf\">X</span></span></div><div class=\"features\"><span class=\"type xft\" ><span class=\"f\">type=</span>unknown</span></div></div><div class=\"contnr c0 trm   \" ><div class=\"lbl c0 trm \" ><span class=\"txtu\"><span title=\"atf\">X</span></span></div><div class=\"features\"><span class=\"type xft\" ><span class=\"f\">type=</span>unknown</span></div></div></div></div><div class=\"contnr c2    \" ><div class=\"lbl c2  \" ><span class=\"nd\">line </span> <span class=\"txtu\"><span title=\"number\">2</span></span></div><div class=\"children hor  \"><div class=\"contnr c0 trm   hl\" ><div class=\"lbl c0 trm hl\" ><span class=\"txtu\"><span title=\"atf\">3(N14)</span></span></div><div class=\"features\"><span class=\"type xft\" ><span class=\"f\">type=</span>numeral</span></div><div><a target=\"_blank\" href=\"https://cdli.ucla.edu/tools/SignLists/protocuneiform/archsigns/3(N14).jpg\" title=\"to higher resolution lineart on CDLI\"><img src=\"cdli-imagery/lineart-3(n14).jpg\" style=\"display: inline;max-width: 2em; max-height: 6em;\"  /></a></div></div><div class=\"contnr c0 trm   \" ><div class=\"lbl c0 trm \" ><span class=\"txtu\"><span title=\"atf\">X</span></span></div><div class=\"features\"><span class=\"type xft\" ><span class=\"f\">type=</span>unknown</span></div></div></div></div><div class=\"contnr c2    \" ><div class=\"lbl c2  \" ><span class=\"nd\">line </span> <span class=\"txtu\"><span title=\"number\">3</span></span></div><div class=\"children hor  \"><div class=\"contnr c0 trm   \" ><div class=\"lbl c0 trm \" ><span class=\"txtu\"><span title=\"atf\">1(N14)</span></span></div><div class=\"features\"><span class=\"type xft\" ><span class=\"f\">type=</span>numeral</span></div><div><a target=\"_blank\" href=\"https://cdli.ucla.edu/tools/SignLists/protocuneiform/archsigns/1(N14).jpg\" title=\"to higher resolution lineart on CDLI\"><img src=\"cdli-imagery/lineart-1(n14).jpg\" style=\"display: inline;max-width: 2em; max-height: 6em;\"  /></a></div></div><div class=\"contnr c0 trm   \" ><div class=\"lbl c0 trm \" ><span class=\"txtu\"><span title=\"atf\">SUHUR</span></span></div><div class=\"features\"><span class=\"type xft\" ><span class=\"f\">type=</span>ideograph</span></div><div><a target=\"_blank\" href=\"https://cdli.ucla.edu/tools/SignLists/protocuneiform/archsigns/SUHUR.jpg\" title=\"to higher resolution lineart on CDLI\"><img src=\"cdli-imagery/lineart-suhur.jpg\" style=\"display: inline;max-width: 2em; max-height: 6em;\"  /></a></div></div></div></div><div class=\"contnr c2    \" ><div class=\"lbl c2  \" ><span class=\"nd\">line </span> <span class=\"txtu\"><span title=\"number\">4</span></span></div><div class=\"children hor  \"><div class=\"contnr c0 trm   \" ><div class=\"lbl c0 trm \" ><span class=\"txtu\"><span title=\"atf\">X</span></span></div><div class=\"features\"><span class=\"type xft\" ><span class=\"f\">type=</span>unknown</span></div></div><div class=\"contnr c0 trm   \" ><div class=\"lbl c0 trm \" ><span class=\"txtu\"><span title=\"atf\">X</span></span></div><div class=\"features\"><span class=\"type xft\" ><span class=\"f\">type=</span>unknown</span></div></div></div></div><div class=\"contnr c2    \" ><div class=\"lbl c2  \" ><span class=\"nd\">line </span> <span class=\"txtu\"><span title=\"number\">5</span></span></div><div class=\"children hor  \"><div class=\"contnr c0 trm   \" ><div class=\"lbl c0 trm \" ><span class=\"txtu\"><span title=\"atf\">1(N01)</span></span></div><div class=\"features\"><span class=\"type xft\" ><span class=\"f\">type=</span>numeral</span></div><div><a target=\"_blank\" href=\"https://cdli.ucla.edu/tools/SignLists/protocuneiform/archsigns/1(N01).jpg\" title=\"to higher resolution lineart on CDLI\"><img src=\"cdli-imagery/lineart-1(n01).jpg\" style=\"display: inline;max-width: 2em; max-height: 6em;\"  /></a></div></div><div class=\"contnr c1    \" ><div class=\"lbl c1  \" ><span class=\"nd\">quad </span></div><div><a target=\"_blank\" href=\"https://cdli.ucla.edu/tools/SignLists/protocuneiform/archsigns/|DUG~bx1(N57)|.jpg\" title=\"to higher resolution lineart on CDLI\"><img src=\"cdli-imagery/lineart-qdug-bx1(n57)q.jpg\" style=\"display: inline;max-width: 4em; max-height: 4em;\"  /></a></div><div class=\"children hor wrap \"><div class=\"contnr c0 trm   \" ><div class=\"lbl c0 trm \" ><span class=\"txtu\"><span title=\"atf\">DUG~b</span></span></div><div class=\"features\"><span class=\"type xft\" ><span class=\"f\">type=</span>ideograph</span></div></div><div class=\"op\">x</div><div class=\"contnr c0 trm   \" ><div class=\"lbl c0 trm \" ><span class=\"txtu\"><span title=\"atf\">1(N57)</span></span></div><div class=\"features\"><span class=\"type xft\" ><span class=\"f\">type=</span>numeral</span></div></div></div></div></div></div><div class=\"contnr c2    \" ><div class=\"lbl c2  \" ><span class=\"nd\">line </span> <span class=\"txtu\"><span title=\"number\">6</span></span></div><div class=\"children hor  \"><div class=\"contnr c0 trm   \" ><div class=\"lbl c0 trm \" ><span class=\"txtu\"><span title=\"atf\">X</span></span></div><div class=\"features\"><span class=\"type xft\" ><span class=\"f\">type=</span>unknown</span></div></div><div class=\"contnr c0 trm   \" ><div class=\"lbl c0 trm \" ><span class=\"txtu\"><span title=\"atf\">X</span></span></div><div class=\"features\"><span class=\"type xft\" ><span class=\"f\">type=</span>unknown</span></div></div></div></div><div class=\"contnr c2    \" ><div class=\"lbl c2  \" ><span class=\"nd\">line </span> <span class=\"txtu\"><span title=\"number\">7</span></span></div><div class=\"children hor  \"><div class=\"contnr c0 trm   \" ><div class=\"lbl c0 trm \" ><span class=\"txtu\"><span title=\"atf\">X</span></span></div><div class=\"features\"><span class=\"type xft\" ><span class=\"f\">type=</span>unknown</span></div></div><div class=\"contnr c0 trm   \" ><div class=\"lbl c0 trm \" ><span class=\"txtu\"><span title=\"atf\">X</span></span></div><div class=\"features\"><span class=\"type xft\" ><span class=\"f\">type=</span>unknown</span></div></div></div></div></div></div><div class=\"contnr c3    \" ><div class=\"lbl c3  \" ><span class=\"nd\">column </span> <span class=\"txtu\"><span title=\"number\">4</span><span title=\"prime\"></span></span></div><div class=\"children ver  \"><div class=\"contnr c2    \" ><div class=\"lbl c2  \" ><span class=\"nd\">line </span> <span class=\"txtu\"><span title=\"number\">1</span></span></div><div class=\"children hor  \"><div class=\"contnr c0 trm   \" ><div class=\"lbl c0 trm \" ><span class=\"txtu\"><span title=\"atf\">X</span></span></div><div class=\"features\"><span class=\"type xft\" ><span class=\"f\">type=</span>unknown</span></div></div><div class=\"contnr c0 trm   \" ><div class=\"lbl c0 trm \" ><span class=\"txtu\"><span title=\"atf\">X</span></span></div><div class=\"features\"><span class=\"type xft\" ><span class=\"f\">type=</span>unknown</span></div></div></div></div><div class=\"contnr c2    \" ><div class=\"lbl c2  \" ><span class=\"nd\">line </span> <span class=\"txtu\"><span title=\"number\">2</span></span></div><div class=\"children hor  \"><div class=\"contnr c0 trm   \" ><div class=\"lbl c0 trm \" ><span class=\"txtu\"><span title=\"atf\">X</span></span></div><div class=\"features\"><span class=\"type xft\" ><span class=\"f\">type=</span>unknown</span></div></div><div class=\"contnr c0 trm   \" ><div class=\"lbl c0 trm \" ><span class=\"txtu\"><span title=\"atf\">X</span></span></div><div class=\"features\"><span class=\"type xft\" ><span class=\"f\">type=</span>unknown</span></div></div></div></div></div></div><div class=\"contnr c3    \" ><div class=\"lbl c3  \" ><span class=\"nd\">column </span> <span class=\"txtu\"><span title=\"number\">5</span><span title=\"prime\"></span></span></div><div class=\"children ver  \"><div class=\"contnr c2    \" ><div class=\"lbl c2  \" ><span class=\"nd\">line </span> <span class=\"txtu\"><span title=\"number\">1</span></span></div><div class=\"children hor  \"><div class=\"contnr c1 cluster trm   \" ><div class=\"lbl c1 clusterb trm \" ><span class=\"nd\">cluster </span> <span class=\"txtu\"><span title=\"type\">?</span></span></div><div class=\"features\"><span class=\"type xft\" ><span class=\"f\">type=</span>uncertain</span></div></div><div class=\"children hor wrap \"><div class=\"contnr c0 trm   \" ><div class=\"lbl c0 trm \" ><span class=\"txtu\"><span title=\"atf\">...</span></span></div><div class=\"features\"><span class=\"type xft\" ><span class=\"f\">type=</span>ellipsis</span></div></div></div><div class=\"contnr c1 cluster {}   \" ><div class=\"lbl c1 clustere trm \" ><span class=\"nd\">cluster </span> <span class=\"txtu\"><span title=\"type\">?</span></span></div> <div class=\"features\"><span class=\"type xft\" ><span class=\"f\">type=</span>uncertain</span></div></div></div></div></div></div></div></div></div>"
      ],
      "text/plain": [
       "<IPython.core.display.HTML object>"
      ]
     },
     "metadata": {},
     "output_type": "display_data"
    }
   ],
   "source": [
    "A.show(results, condenseType=\"face\", end=2, skipCols=\"1\")"
   ]
  },
  {
   "cell_type": "markdown",
   "metadata": {},
   "source": [
    "The feature *type* is displayed because it occurs in the query.\n",
    "We can make the display a bit more compact by suppressing those features:"
   ]
  },
  {
   "cell_type": "code",
   "execution_count": 8,
   "metadata": {},
   "outputs": [
    {
     "data": {
      "text/html": [
       "<p><b>result</b> <i>1</i>"
      ],
      "text/plain": [
       "<IPython.core.display.HTML object>"
      ]
     },
     "metadata": {},
     "output_type": "display_data"
    },
    {
     "data": {
      "text/html": [
       "<div class=\"tfsechead \"><span class=\"ltr\"><a target=\"_blank\" href=\"https://cdli.ucla.edu/search/search_results.php?SearchMode=Text&amp;ObjectID=P006427\" title=\"to CDLI main page for this tablet\" sec=\"P006427\">P006427</a></span></div><div class=\" children\"><div class=\"contnr c4 trm   \" ><div class=\"lbl c4 trm \" ><span class=\"nd\">tablet </span> <span class=\"txtu\"><span class=\"tfsechead ltr\"><span class=\"ltr\">P006427</span></span></span></div><div class=\"features\"><span class=\"name \" title=\"name\">Anonymous 006427</span><span class=\"period \" title=\"period\">uruk-iii</span></div></div></div>"
      ],
      "text/plain": [
       "<IPython.core.display.HTML object>"
      ]
     },
     "metadata": {},
     "output_type": "display_data"
    },
    {
     "data": {
      "text/html": [
       "<div class=\"tfsechead \"><span class=\"ltr\"><a target=\"_blank\" href=\"https://cdli.ucla.edu/search/search_results.php?SearchMode=Text&amp;ObjectID=P006427\" title=\"to CDLI main page for this tablet\" sec=\"P006427 obverse:1:1\">P006427 obverse:1:1</a></span></div><div class=\" children\"><div class=\"contnr c2    \" ><div class=\"lbl c2  \" ><span class=\"nd\">face </span> <span class=\"txtu\"><span title=\"type\">obverse</span></span></div><div class=\"children hor  \"><div class=\"contnr c3    \" ><div class=\"lbl c3  \" ><span class=\"nd\">column </span> <span class=\"txtu\"><span title=\"number\">1</span><span title=\"prime\"></span></span></div><div class=\"children ver  \"><div class=\"contnr c2    \" ><div class=\"lbl c2  \" ><span class=\"nd\">line </span> <span class=\"txtu\"><span title=\"number\">1</span></span></div><div class=\"children hor  \"><div class=\"contnr c1 cluster trm   \" ><div class=\"lbl c1 clusterb trm \" ><span class=\"nd\">cluster </span> <span class=\"txtu\"><span title=\"type\">?</span></span></div></div><div class=\"children hor wrap \"><div class=\"contnr c0 trm   \" ><div class=\"lbl c0 trm \" ><span class=\"txtu\"><span title=\"atf\">...</span></span></div></div></div><div class=\"contnr c1 cluster {}   \" ><div class=\"lbl c1 clustere trm \" ><span class=\"nd\">cluster </span> <span class=\"txtu\"><span title=\"type\">?</span></span></div> </div><div class=\"contnr c0 trm   \" ><div class=\"lbl c0 trm \" ><span class=\"txtu\"><span title=\"atf\">X</span></span></div></div><div class=\"contnr c0 trm   \" ><div class=\"lbl c0 trm \" ><span class=\"txtu\"><span title=\"atf\">X</span></span></div></div></div></div></div></div><div class=\"contnr c3    \" ><div class=\"lbl c3  \" ><span class=\"nd\">column </span> <span class=\"txtu\"><span title=\"number\">2</span><span title=\"prime\"></span></span></div><div class=\"children ver  \"><div class=\"contnr c2    \" ><div class=\"lbl c2  \" ><span class=\"nd\">line </span> <span class=\"txtu\"><span title=\"number\">1</span></span></div><div class=\"children hor  \"><div class=\"contnr c0 trm   hl\" ><div class=\"lbl c0 trm hl\" ><span class=\"txtu\"><span title=\"atf\">3(N14)</span></span></div><div><a target=\"_blank\" href=\"https://cdli.ucla.edu/tools/SignLists/protocuneiform/archsigns/3(N14).jpg\" title=\"to higher resolution lineart on CDLI\"><img src=\"cdli-imagery/lineart-3(n14).jpg\" style=\"display: inline;max-width: 2em; max-height: 6em;\"  /></a></div></div><div class=\"contnr c0 trm   \" ><div class=\"lbl c0 trm \" ><span class=\"txtu\"><span title=\"atf\">X</span></span></div></div><div class=\"contnr c0 trm   \" ><div class=\"lbl c0 trm \" ><span class=\"txtu\"><span title=\"atf\">SANGA~a?</span></span></div><div><a target=\"_blank\" href=\"https://cdli.ucla.edu/tools/SignLists/protocuneiform/archsigns/SANGA~a.jpg\" title=\"to higher resolution lineart on CDLI\"><img src=\"cdli-imagery/lineart-sanga-a.jpg\" style=\"display: inline;max-width: 2em; max-height: 6em;\"  /></a></div></div><div class=\"contnr c1 cluster trm   \" ><div class=\"lbl c1 clusterb trm \" ><span class=\"nd\">cluster </span> <span class=\"txtu\"><span title=\"type\">?</span></span></div></div><div class=\"children hor wrap \"><div class=\"contnr c0 trm   \" ><div class=\"lbl c0 trm \" ><span class=\"txtu\"><span title=\"atf\">...</span></span></div></div></div><div class=\"contnr c1 cluster {}   \" ><div class=\"lbl c1 clustere trm \" ><span class=\"nd\">cluster </span> <span class=\"txtu\"><span title=\"type\">?</span></span></div> </div></div></div></div></div></div></div></div>"
      ],
      "text/plain": [
       "<IPython.core.display.HTML object>"
      ]
     },
     "metadata": {},
     "output_type": "display_data"
    },
    {
     "data": {
      "text/html": [
       "<p><b>result</b> <i>2</i>"
      ],
      "text/plain": [
       "<IPython.core.display.HTML object>"
      ]
     },
     "metadata": {},
     "output_type": "display_data"
    },
    {
     "data": {
      "text/html": [
       "<div class=\"tfsechead \"><span class=\"ltr\"><a target=\"_blank\" href=\"https://cdli.ucla.edu/search/search_results.php?SearchMode=Text&amp;ObjectID=P006428\" title=\"to CDLI main page for this tablet\" sec=\"P006428\">P006428</a></span></div><div class=\" children\"><div class=\"contnr c4 trm   \" ><div class=\"lbl c4 trm \" ><span class=\"nd\">tablet </span> <span class=\"txtu\"><span class=\"tfsechead ltr\"><span class=\"ltr\">P006428</span></span></span></div><div class=\"features\"><span class=\"name \" title=\"name\">Anonymous 006428</span><span class=\"period \" title=\"period\">uruk-iii</span></div></div></div>"
      ],
      "text/plain": [
       "<IPython.core.display.HTML object>"
      ]
     },
     "metadata": {},
     "output_type": "display_data"
    },
    {
     "data": {
      "text/html": [
       "<div class=\"tfsechead \"><span class=\"ltr\"><a target=\"_blank\" href=\"https://cdli.ucla.edu/search/search_results.php?SearchMode=Text&amp;ObjectID=P006428\" title=\"to CDLI main page for this tablet\" sec=\"P006428 obverse:1:1\">P006428 obverse:1:1</a></span></div><div class=\" children\"><div class=\"contnr c2    \" ><div class=\"lbl c2  \" ><span class=\"nd\">face </span> <span class=\"txtu\"><span title=\"type\">obverse</span></span></div><div class=\"children hor  \"><div class=\"contnr c3    \" ><div class=\"lbl c3  \" ><span class=\"nd\">column </span> <span class=\"txtu\"><span title=\"number\">1</span><span title=\"prime\"></span></span></div><div class=\"children ver  \"><div class=\"contnr c2    \" ><div class=\"lbl c2  \" ><span class=\"nd\">line </span> <span class=\"txtu\"><span title=\"number\">1</span></span></div><div class=\"children hor  \"><div class=\"contnr c0 trm   \" ><div class=\"lbl c0 trm \" ><span class=\"txtu\"><span title=\"atf\">X</span></span></div></div><div class=\"contnr c0 trm   \" ><div class=\"lbl c0 trm \" ><span class=\"txtu\"><span title=\"atf\">X</span></span></div></div></div></div><div class=\"contnr c2    \" ><div class=\"lbl c2  \" ><span class=\"nd\">line </span> <span class=\"txtu\"><span title=\"number\">2</span></span></div><div class=\"children hor  \"><div class=\"contnr c0 trm   \" ><div class=\"lbl c0 trm \" ><span class=\"txtu\"><span title=\"atf\">X</span></span></div></div><div class=\"contnr c0 trm   \" ><div class=\"lbl c0 trm \" ><span class=\"txtu\"><span title=\"atf\">X</span></span></div></div></div></div></div></div><div class=\"contnr c3    \" ><div class=\"lbl c3  \" ><span class=\"nd\">column </span> <span class=\"txtu\"><span title=\"number\">2</span><span title=\"prime\"></span></span></div><div class=\"children ver  \"><div class=\"contnr c2    \" ><div class=\"lbl c2  \" ><span class=\"nd\">line </span> <span class=\"txtu\"><span title=\"number\">1</span></span></div><div class=\"children hor  \"><div class=\"contnr c0 trm   \" ><div class=\"lbl c0 trm \" ><span class=\"txtu\"><span title=\"atf\">X</span></span></div></div><div class=\"contnr c0 trm   \" ><div class=\"lbl c0 trm \" ><span class=\"txtu\"><span title=\"atf\">X</span></span></div></div></div></div><div class=\"contnr c2    \" ><div class=\"lbl c2  \" ><span class=\"nd\">line </span> <span class=\"txtu\"><span title=\"number\">2</span></span></div><div class=\"children hor  \"><div class=\"contnr c0 trm   \" ><div class=\"lbl c0 trm \" ><span class=\"txtu\"><span title=\"atf\">X</span></span></div></div><div class=\"contnr c0 trm   \" ><div class=\"lbl c0 trm \" ><span class=\"txtu\"><span title=\"atf\">X</span></span></div></div></div></div></div></div><div class=\"contnr c3    \" ><div class=\"lbl c3  \" ><span class=\"nd\">column </span> <span class=\"txtu\"><span title=\"number\">3</span><span title=\"prime\"></span></span></div><div class=\"children ver  \"><div class=\"contnr c2    \" ><div class=\"lbl c2  \" ><span class=\"nd\">line </span> <span class=\"txtu\"><span title=\"number\">1</span></span></div><div class=\"children hor  \"><div class=\"contnr c0 trm   \" ><div class=\"lbl c0 trm \" ><span class=\"txtu\"><span title=\"atf\">X</span></span></div></div><div class=\"contnr c0 trm   \" ><div class=\"lbl c0 trm \" ><span class=\"txtu\"><span title=\"atf\">X</span></span></div></div></div></div><div class=\"contnr c2    \" ><div class=\"lbl c2  \" ><span class=\"nd\">line </span> <span class=\"txtu\"><span title=\"number\">2</span></span></div><div class=\"children hor  \"><div class=\"contnr c0 trm   hl\" ><div class=\"lbl c0 trm hl\" ><span class=\"txtu\"><span title=\"atf\">3(N14)</span></span></div><div><a target=\"_blank\" href=\"https://cdli.ucla.edu/tools/SignLists/protocuneiform/archsigns/3(N14).jpg\" title=\"to higher resolution lineart on CDLI\"><img src=\"cdli-imagery/lineart-3(n14).jpg\" style=\"display: inline;max-width: 2em; max-height: 6em;\"  /></a></div></div><div class=\"contnr c0 trm   \" ><div class=\"lbl c0 trm \" ><span class=\"txtu\"><span title=\"atf\">X</span></span></div></div></div></div><div class=\"contnr c2    \" ><div class=\"lbl c2  \" ><span class=\"nd\">line </span> <span class=\"txtu\"><span title=\"number\">3</span></span></div><div class=\"children hor  \"><div class=\"contnr c0 trm   \" ><div class=\"lbl c0 trm \" ><span class=\"txtu\"><span title=\"atf\">1(N14)</span></span></div><div><a target=\"_blank\" href=\"https://cdli.ucla.edu/tools/SignLists/protocuneiform/archsigns/1(N14).jpg\" title=\"to higher resolution lineart on CDLI\"><img src=\"cdli-imagery/lineart-1(n14).jpg\" style=\"display: inline;max-width: 2em; max-height: 6em;\"  /></a></div></div><div class=\"contnr c0 trm   \" ><div class=\"lbl c0 trm \" ><span class=\"txtu\"><span title=\"atf\">SUHUR</span></span></div><div><a target=\"_blank\" href=\"https://cdli.ucla.edu/tools/SignLists/protocuneiform/archsigns/SUHUR.jpg\" title=\"to higher resolution lineart on CDLI\"><img src=\"cdli-imagery/lineart-suhur.jpg\" style=\"display: inline;max-width: 2em; max-height: 6em;\"  /></a></div></div></div></div><div class=\"contnr c2    \" ><div class=\"lbl c2  \" ><span class=\"nd\">line </span> <span class=\"txtu\"><span title=\"number\">4</span></span></div><div class=\"children hor  \"><div class=\"contnr c0 trm   \" ><div class=\"lbl c0 trm \" ><span class=\"txtu\"><span title=\"atf\">X</span></span></div></div><div class=\"contnr c0 trm   \" ><div class=\"lbl c0 trm \" ><span class=\"txtu\"><span title=\"atf\">X</span></span></div></div></div></div><div class=\"contnr c2    \" ><div class=\"lbl c2  \" ><span class=\"nd\">line </span> <span class=\"txtu\"><span title=\"number\">5</span></span></div><div class=\"children hor  \"><div class=\"contnr c0 trm   \" ><div class=\"lbl c0 trm \" ><span class=\"txtu\"><span title=\"atf\">1(N01)</span></span></div><div><a target=\"_blank\" href=\"https://cdli.ucla.edu/tools/SignLists/protocuneiform/archsigns/1(N01).jpg\" title=\"to higher resolution lineart on CDLI\"><img src=\"cdli-imagery/lineart-1(n01).jpg\" style=\"display: inline;max-width: 2em; max-height: 6em;\"  /></a></div></div><div class=\"contnr c1    \" ><div class=\"lbl c1  \" ><span class=\"nd\">quad </span></div><div><a target=\"_blank\" href=\"https://cdli.ucla.edu/tools/SignLists/protocuneiform/archsigns/|DUG~bx1(N57)|.jpg\" title=\"to higher resolution lineart on CDLI\"><img src=\"cdli-imagery/lineart-qdug-bx1(n57)q.jpg\" style=\"display: inline;max-width: 4em; max-height: 4em;\"  /></a></div><div class=\"children hor wrap \"><div class=\"contnr c0 trm   \" ><div class=\"lbl c0 trm \" ><span class=\"txtu\"><span title=\"atf\">DUG~b</span></span></div></div><div class=\"op\">x</div><div class=\"contnr c0 trm   \" ><div class=\"lbl c0 trm \" ><span class=\"txtu\"><span title=\"atf\">1(N57)</span></span></div></div></div></div></div></div><div class=\"contnr c2    \" ><div class=\"lbl c2  \" ><span class=\"nd\">line </span> <span class=\"txtu\"><span title=\"number\">6</span></span></div><div class=\"children hor  \"><div class=\"contnr c0 trm   \" ><div class=\"lbl c0 trm \" ><span class=\"txtu\"><span title=\"atf\">X</span></span></div></div><div class=\"contnr c0 trm   \" ><div class=\"lbl c0 trm \" ><span class=\"txtu\"><span title=\"atf\">X</span></span></div></div></div></div><div class=\"contnr c2    \" ><div class=\"lbl c2  \" ><span class=\"nd\">line </span> <span class=\"txtu\"><span title=\"number\">7</span></span></div><div class=\"children hor  \"><div class=\"contnr c0 trm   \" ><div class=\"lbl c0 trm \" ><span class=\"txtu\"><span title=\"atf\">X</span></span></div></div><div class=\"contnr c0 trm   \" ><div class=\"lbl c0 trm \" ><span class=\"txtu\"><span title=\"atf\">X</span></span></div></div></div></div></div></div><div class=\"contnr c3    \" ><div class=\"lbl c3  \" ><span class=\"nd\">column </span> <span class=\"txtu\"><span title=\"number\">4</span><span title=\"prime\"></span></span></div><div class=\"children ver  \"><div class=\"contnr c2    \" ><div class=\"lbl c2  \" ><span class=\"nd\">line </span> <span class=\"txtu\"><span title=\"number\">1</span></span></div><div class=\"children hor  \"><div class=\"contnr c0 trm   \" ><div class=\"lbl c0 trm \" ><span class=\"txtu\"><span title=\"atf\">X</span></span></div></div><div class=\"contnr c0 trm   \" ><div class=\"lbl c0 trm \" ><span class=\"txtu\"><span title=\"atf\">X</span></span></div></div></div></div><div class=\"contnr c2    \" ><div class=\"lbl c2  \" ><span class=\"nd\">line </span> <span class=\"txtu\"><span title=\"number\">2</span></span></div><div class=\"children hor  \"><div class=\"contnr c0 trm   \" ><div class=\"lbl c0 trm \" ><span class=\"txtu\"><span title=\"atf\">X</span></span></div></div><div class=\"contnr c0 trm   \" ><div class=\"lbl c0 trm \" ><span class=\"txtu\"><span title=\"atf\">X</span></span></div></div></div></div></div></div><div class=\"contnr c3    \" ><div class=\"lbl c3  \" ><span class=\"nd\">column </span> <span class=\"txtu\"><span title=\"number\">5</span><span title=\"prime\"></span></span></div><div class=\"children ver  \"><div class=\"contnr c2    \" ><div class=\"lbl c2  \" ><span class=\"nd\">line </span> <span class=\"txtu\"><span title=\"number\">1</span></span></div><div class=\"children hor  \"><div class=\"contnr c1 cluster trm   \" ><div class=\"lbl c1 clusterb trm \" ><span class=\"nd\">cluster </span> <span class=\"txtu\"><span title=\"type\">?</span></span></div></div><div class=\"children hor wrap \"><div class=\"contnr c0 trm   \" ><div class=\"lbl c0 trm \" ><span class=\"txtu\"><span title=\"atf\">...</span></span></div></div></div><div class=\"contnr c1 cluster {}   \" ><div class=\"lbl c1 clustere trm \" ><span class=\"nd\">cluster </span> <span class=\"txtu\"><span title=\"type\">?</span></span></div> </div></div></div></div></div></div></div></div>"
      ],
      "text/plain": [
       "<IPython.core.display.HTML object>"
      ]
     },
     "metadata": {},
     "output_type": "display_data"
    }
   ],
   "source": [
    "A.show(results, condenseType=\"face\", end=2, queryFeatures=False, skipCols=\"1\")"
   ]
  },
  {
   "cell_type": "markdown",
   "metadata": {},
   "source": [
    "## Finding a tablet\n",
    "\n",
    "Suppose we have the *p-number* of a tablet.\n",
    "How do we find that tablet?\n",
    "Remembering from the feature docs that the p-numbers are stored in the feature\n",
    "`catalogId`, we can write a *search template*."
   ]
  },
  {
   "cell_type": "code",
   "execution_count": 9,
   "metadata": {
    "ExecuteTime": {
     "end_time": "2018-05-24T10:17:10.302974Z",
     "start_time": "2018-05-24T10:17:10.275639Z"
    }
   },
   "outputs": [
    {
     "name": "stdout",
     "output_type": "stream",
     "text": [
      "  0.00s 1 result\n"
     ]
    },
    {
     "data": {
      "text/html": [
       "<table><tr class=\"tf ltr\"><th class=\"tf ltr\">n</th><th class=\"tf ltr\">p</th><th class=\"tf ltr\">tablet</th></tr>\n",
       "<tr class=\"tf ltr\"><td class=\"tf ltr\">1</td><td class=\"tf ltr\"><span class=\"tfsechead ltr\"><span class=\"ltr\"><a target=\"_blank\" href=\"https://cdli.ucla.edu/search/search_results.php?SearchMode=Text&amp;ObjectID=P005381\" title=\"to CDLI main page for this tablet\" sec=\"P005381\">P005381</a></span></span></td><td class=\"tf ltr\"><span class=\" ubd\"><span class=\"txtu \"><span class=\"tfsechead ltr\"><span class=\"ltr\">P005381</span></span></span></span></td></tr></table>"
      ],
      "text/plain": [
       "<IPython.core.display.HTML object>"
      ]
     },
     "metadata": {},
     "output_type": "display_data"
    }
   ],
   "source": [
    "query = \"\"\"\n",
    "tablet catalogId=P005381\n",
    "\"\"\"\n",
    "results = A.search(query)\n",
    "A.table(results)"
   ]
  },
  {
   "cell_type": "markdown",
   "metadata": {},
   "source": [
    "The function `A.table()` gives you a tabular overview of the results,\n",
    "with a link to the tablet on CDLI.\n",
    "\n",
    "But we can also get more information by using `A.show()`:"
   ]
  },
  {
   "cell_type": "code",
   "execution_count": 10,
   "metadata": {
    "ExecuteTime": {
     "end_time": "2018-05-24T10:17:11.778651Z",
     "start_time": "2018-05-24T10:17:11.761567Z"
    }
   },
   "outputs": [
    {
     "data": {
      "text/html": [
       "<p><b>result</b> <i>1</i>"
      ],
      "text/plain": [
       "<IPython.core.display.HTML object>"
      ]
     },
     "metadata": {},
     "output_type": "display_data"
    },
    {
     "data": {
      "text/html": [
       "<div class=\"tfsechead \"><span class=\"ltr\"><a target=\"_blank\" href=\"https://cdli.ucla.edu/search/search_results.php?SearchMode=Text&amp;ObjectID=P005381\" title=\"to CDLI main page for this tablet\" sec=\"P005381\">P005381</a></span></div><div class=\" children\"><div class=\"contnr c4    \" ><div class=\"lbl c4  \" ><span class=\"nd\">tablet </span> <span class=\"txtu\"><span class=\"tfsechead ltr\"><span class=\"ltr\">P005381</span></span></span></div><div class=\"features\"><span class=\"name \" title=\"name\">MSVO 3, 70</span><span class=\"period \" title=\"period\">uruk-iii</span><span class=\"catalogid xft\" ><span class=\"f\">catalogId=</span>P005381</span></div><div class=\"children ver  \"><div class=\"contnr c1 trm   \" ><div class=\"lbl c1 trm \" ><span class=\"nd\">comment </span> <span class=\"txtu\"><span class=\"plain   \" ><span class=\"plain \" ></span> </span></span></div><div class=\"features\"><span class=\"text \" title=\"text\">atf: lang qpc</span></div></div><div class=\"contnr c2    \" ><div class=\"lbl c2  \" ><span class=\"nd\">face </span> <span class=\"txtu\"><span title=\"type\">obverse</span></span></div><div class=\"children hor  \"><div class=\"contnr c3    \" ><div class=\"lbl c3  \" ><span class=\"nd\">column </span> <span class=\"txtu\"><span title=\"number\">1</span><span title=\"prime\"></span></span></div><div class=\"children ver  \"><div class=\"contnr c2    \" ><div class=\"lbl c2  \" ><span class=\"nd\">line </span> <span class=\"txtu\"><span title=\"number\">1</span></span></div><div class=\"children hor  \"><div class=\"contnr c2    \" ><div class=\"lbl c2  \" ><span class=\"nd\">case </span> <span class=\"txtu\"><span title=\"number\">1a</span><span title=\"prime\"></span></span></div><div class=\"children ver False \"><div class=\"contnr c0 trm   \" ><div class=\"lbl c0 trm \" ><span class=\"txtu\"><span title=\"atf\">2(N14)</span></span></div><div><a target=\"_blank\" href=\"https://cdli.ucla.edu/tools/SignLists/protocuneiform/archsigns/2(N14).jpg\" title=\"to higher resolution lineart on CDLI\"><img src=\"cdli-imagery/lineart-2(n14).jpg\" style=\"display: inline;max-width: 2em; max-height: 6em;\"  /></a></div></div><div class=\"contnr c0 trm   \" ><div class=\"lbl c0 trm \" ><span class=\"txtu\"><span title=\"atf\">SZE~a</span></span></div><div><a target=\"_blank\" href=\"https://cdli.ucla.edu/tools/SignLists/protocuneiform/archsigns/SZE~a.jpg\" title=\"to higher resolution lineart on CDLI\"><img src=\"cdli-imagery/lineart-sze-a.jpg\" style=\"display: inline;max-width: 2em; max-height: 6em;\"  /></a></div></div><div class=\"contnr c0 trm   \" ><div class=\"lbl c0 trm \" ><span class=\"txtu\"><span title=\"atf\">SAL</span></span></div><div><a target=\"_blank\" href=\"https://cdli.ucla.edu/tools/SignLists/protocuneiform/archsigns/SAL.jpg\" title=\"to higher resolution lineart on CDLI\"><img src=\"cdli-imagery/lineart-sal.jpg\" style=\"display: inline;max-width: 2em; max-height: 6em;\"  /></a></div></div><div class=\"contnr c0 trm   \" ><div class=\"lbl c0 trm \" ><span class=\"txtu\"><span title=\"atf\">TUR3~a</span></span></div><div><a target=\"_blank\" href=\"https://cdli.ucla.edu/tools/SignLists/protocuneiform/archsigns/TUR3~a.jpg\" title=\"to higher resolution lineart on CDLI\"><img src=\"cdli-imagery/lineart-tur3-a.jpg\" style=\"display: inline;max-width: 2em; max-height: 6em;\"  /></a></div></div><div class=\"contnr c0 trm   \" ><div class=\"lbl c0 trm \" ><span class=\"txtu\"><span title=\"atf\">NUN~a</span></span></div><div><a target=\"_blank\" href=\"https://cdli.ucla.edu/tools/SignLists/protocuneiform/archsigns/NUN~a.jpg\" title=\"to higher resolution lineart on CDLI\"><img src=\"cdli-imagery/lineart-nun-a.jpg\" style=\"display: inline;max-width: 2em; max-height: 6em;\"  /></a></div></div></div></div><div class=\"contnr c2    \" ><div class=\"lbl c2  \" ><span class=\"nd\">case </span> <span class=\"txtu\"><span title=\"number\">1b</span><span title=\"prime\"></span></span></div><div class=\"children ver False \"><div class=\"contnr c0 trm   \" ><div class=\"lbl c0 trm \" ><span class=\"txtu\"><span title=\"atf\">3(N19)</span></span></div><div><a target=\"_blank\" href=\"https://cdli.ucla.edu/tools/SignLists/protocuneiform/archsigns/3(N19).jpg\" title=\"to higher resolution lineart on CDLI\"><img src=\"cdli-imagery/lineart-3(n19).jpg\" style=\"display: inline;max-width: 2em; max-height: 6em;\"  /></a></div></div><div class=\"contnr c1    \" ><div class=\"lbl c1  \" ><span class=\"nd\">quad </span></div><div><a target=\"_blank\" href=\"https://cdli.ucla.edu/tools/SignLists/protocuneiform/archsigns/|GISZ.TE|.jpg\" title=\"to higher resolution lineart on CDLI\"><img src=\"cdli-imagery/lineart-qgisz(d)teq.jpg\" style=\"display: inline;max-width: 4em; max-height: 4em;\"  /></a></div><div class=\"children hor wrap \"><div class=\"contnr c0 trm   \" ><div class=\"lbl c0 trm \" ><span class=\"txtu\"><span title=\"atf\">GISZ</span></span></div></div><div class=\"op\">.</div><div class=\"contnr c0 trm   \" ><div class=\"lbl c0 trm \" ><span class=\"txtu\"><span title=\"atf\">TE</span></span></div></div></div></div></div></div></div></div><div class=\"contnr c2    \" ><div class=\"lbl c2  \" ><span class=\"nd\">line </span> <span class=\"txtu\"><span title=\"number\">2</span></span></div><div class=\"children hor  \"><div class=\"contnr c0 trm   \" ><div class=\"lbl c0 trm \" ><span class=\"txtu\"><span title=\"atf\">1(N14)</span></span></div><div><a target=\"_blank\" href=\"https://cdli.ucla.edu/tools/SignLists/protocuneiform/archsigns/1(N14).jpg\" title=\"to higher resolution lineart on CDLI\"><img src=\"cdli-imagery/lineart-1(n14).jpg\" style=\"display: inline;max-width: 2em; max-height: 6em;\"  /></a></div></div><div class=\"contnr c0 trm   \" ><div class=\"lbl c0 trm \" ><span class=\"txtu\"><span title=\"atf\">NAR</span></span></div><div><a target=\"_blank\" href=\"https://cdli.ucla.edu/tools/SignLists/protocuneiform/archsigns/NAR.jpg\" title=\"to higher resolution lineart on CDLI\"><img src=\"cdli-imagery/lineart-nar.jpg\" style=\"display: inline;max-width: 2em; max-height: 6em;\"  /></a></div></div><div class=\"contnr c0 trm   \" ><div class=\"lbl c0 trm \" ><span class=\"txtu\"><span title=\"atf\">NUN~a</span></span></div><div><a target=\"_blank\" href=\"https://cdli.ucla.edu/tools/SignLists/protocuneiform/archsigns/NUN~a.jpg\" title=\"to higher resolution lineart on CDLI\"><img src=\"cdli-imagery/lineart-nun-a.jpg\" style=\"display: inline;max-width: 2em; max-height: 6em;\"  /></a></div></div><div class=\"contnr c0 trm   \" ><div class=\"lbl c0 trm \" ><span class=\"txtu\"><span title=\"atf\">SIG7</span></span></div><div><a target=\"_blank\" href=\"https://cdli.ucla.edu/tools/SignLists/protocuneiform/archsigns/SIG7.jpg\" title=\"to higher resolution lineart on CDLI\"><img src=\"cdli-imagery/lineart-sig7.jpg\" style=\"display: inline;max-width: 2em; max-height: 6em;\"  /></a></div></div></div></div><div class=\"contnr c2    \" ><div class=\"lbl c2  \" ><span class=\"nd\">line </span> <span class=\"txtu\"><span title=\"number\">3</span></span></div><div class=\"children hor  \"><div class=\"contnr c0 trm   \" ><div class=\"lbl c0 trm \" ><span class=\"txtu\"><span title=\"atf\">2(N04)#</span></span></div><div><a target=\"_blank\" href=\"https://cdli.ucla.edu/tools/SignLists/protocuneiform/archsigns/2(N04).jpg\" title=\"to higher resolution lineart on CDLI\"><img src=\"cdli-imagery/lineart-2(n04).jpg\" style=\"display: inline;max-width: 2em; max-height: 6em;\"  /></a></div></div><div class=\"contnr c0 trm   \" ><div class=\"lbl c0 trm \" ><span class=\"txtu\"><span title=\"atf\">PIRIG~b1</span></span></div><div><a target=\"_blank\" href=\"https://cdli.ucla.edu/tools/SignLists/protocuneiform/archsigns/PIRIG~b1.jpg\" title=\"to higher resolution lineart on CDLI\"><img src=\"cdli-imagery/lineart-pirig-b1.jpg\" style=\"display: inline;max-width: 2em; max-height: 6em;\"  /></a></div></div><div class=\"contnr c0 trm   \" ><div class=\"lbl c0 trm \" ><span class=\"txtu\"><span title=\"atf\">SIG7</span></span></div><div><a target=\"_blank\" href=\"https://cdli.ucla.edu/tools/SignLists/protocuneiform/archsigns/SIG7.jpg\" title=\"to higher resolution lineart on CDLI\"><img src=\"cdli-imagery/lineart-sig7.jpg\" style=\"display: inline;max-width: 2em; max-height: 6em;\"  /></a></div></div><div class=\"contnr c0 trm   \" ><div class=\"lbl c0 trm \" ><span class=\"txtu\"><span title=\"atf\">URI3~a</span></span></div><div><a target=\"_blank\" href=\"https://cdli.ucla.edu/tools/SignLists/protocuneiform/archsigns/URI3~a.jpg\" title=\"to higher resolution lineart on CDLI\"><img src=\"cdli-imagery/lineart-uri3-a.jpg\" style=\"display: inline;max-width: 2em; max-height: 6em;\"  /></a></div></div><div class=\"contnr c0 trm   \" ><div class=\"lbl c0 trm \" ><span class=\"txtu\"><span title=\"atf\">NUN~a</span></span></div><div><a target=\"_blank\" href=\"https://cdli.ucla.edu/tools/SignLists/protocuneiform/archsigns/NUN~a.jpg\" title=\"to higher resolution lineart on CDLI\"><img src=\"cdli-imagery/lineart-nun-a.jpg\" style=\"display: inline;max-width: 2em; max-height: 6em;\"  /></a></div></div></div></div></div></div><div class=\"contnr c3    \" ><div class=\"lbl c3  \" ><span class=\"nd\">column </span> <span class=\"txtu\"><span title=\"number\">2</span><span title=\"prime\"></span></span></div><div class=\"children ver  \"><div class=\"contnr c2    \" ><div class=\"lbl c2  \" ><span class=\"nd\">line </span> <span class=\"txtu\"><span title=\"number\">1</span></span></div><div class=\"children hor  \"><div class=\"contnr c0 trm   \" ><div class=\"lbl c0 trm \" ><span class=\"txtu\"><span title=\"atf\">3(N04)</span></span></div><div><a target=\"_blank\" href=\"https://cdli.ucla.edu/tools/SignLists/protocuneiform/archsigns/3(N04).jpg\" title=\"to higher resolution lineart on CDLI\"><img src=\"cdli-imagery/lineart-3(n04).jpg\" style=\"display: inline;max-width: 2em; max-height: 6em;\"  /></a></div></div><div class=\"contnr c1    \" ><div class=\"lbl c1  \" ><span class=\"nd\">quad </span></div><div><a target=\"_blank\" href=\"https://cdli.ucla.edu/tools/SignLists/protocuneiform/archsigns/|GISZ.TE|.jpg\" title=\"to higher resolution lineart on CDLI\"><img src=\"cdli-imagery/lineart-qgisz(d)teq.jpg\" style=\"display: inline;max-width: 4em; max-height: 4em;\"  /></a></div><div class=\"children hor wrap \"><div class=\"contnr c0 trm   \" ><div class=\"lbl c0 trm \" ><span class=\"txtu\"><span title=\"atf\">GISZ</span></span></div></div><div class=\"op\">.</div><div class=\"contnr c0 trm   \" ><div class=\"lbl c0 trm \" ><span class=\"txtu\"><span title=\"atf\">TE</span></span></div></div></div></div><div class=\"contnr c0 trm   \" ><div class=\"lbl c0 trm \" ><span class=\"txtu\"><span title=\"atf\">GAR</span></span></div><div><a target=\"_blank\" href=\"https://cdli.ucla.edu/tools/SignLists/protocuneiform/archsigns/GAR.jpg\" title=\"to higher resolution lineart on CDLI\"><img src=\"cdli-imagery/lineart-gar.jpg\" style=\"display: inline;max-width: 2em; max-height: 6em;\"  /></a></div></div><div class=\"contnr c1    \" ><div class=\"lbl c1  \" ><span class=\"nd\">quad </span></div><div><a target=\"_blank\" href=\"https://cdli.ucla.edu/tools/SignLists/protocuneiform/archsigns/|SZU2.((HI+1(N57))+(HI+1(N57)))|.jpg\" title=\"to higher resolution lineart on CDLI\"><img src=\"cdli-imagery/lineart-qszu2(d)((hi(p)1(n57))(p)(hi(p)1(n57)))q.jpg\" style=\"display: inline;max-width: 4em; max-height: 4em;\"  /></a></div><div class=\"children hor wrap \"><div class=\"contnr c0 trm   \" ><div class=\"lbl c0 trm \" ><span class=\"txtu\"><span title=\"atf\">SZU2</span></span></div></div><div class=\"op\">.</div><div class=\"contnr c1    \" ><div class=\"lbl c1  \" ><span class=\"nd\">quad </span></div><div class=\"children hor wrap \"><div class=\"contnr c1    \" ><div class=\"lbl c1  \" ><span class=\"nd\">quad </span></div><div class=\"children hor wrap \"><div class=\"contnr c0 trm   \" ><div class=\"lbl c0 trm \" ><span class=\"txtu\"><span title=\"atf\">HI</span></span></div></div><div class=\"op\">+</div><div class=\"contnr c0 trm   \" ><div class=\"lbl c0 trm \" ><span class=\"txtu\"><span title=\"atf\">1(N57)</span></span></div></div></div></div><div class=\"op\">+</div><div class=\"contnr c1    \" ><div class=\"lbl c1  \" ><span class=\"nd\">quad </span></div><div class=\"children hor wrap \"><div class=\"contnr c0 trm   \" ><div class=\"lbl c0 trm \" ><span class=\"txtu\"><span title=\"atf\">HI</span></span></div></div><div class=\"op\">+</div><div class=\"contnr c0 trm   \" ><div class=\"lbl c0 trm \" ><span class=\"txtu\"><span title=\"atf\">1(N57)</span></span></div></div></div></div></div></div></div></div><div class=\"contnr c0 trm   \" ><div class=\"lbl c0 trm \" ><span class=\"txtu\"><span title=\"atf\">GI4~a</span></span></div><div><a target=\"_blank\" href=\"https://cdli.ucla.edu/tools/SignLists/protocuneiform/archsigns/GI4~a.jpg\" title=\"to higher resolution lineart on CDLI\"><img src=\"cdli-imagery/lineart-gi4-a.jpg\" style=\"display: inline;max-width: 2em; max-height: 6em;\"  /></a></div></div></div></div><div class=\"contnr c2    \" ><div class=\"lbl c2  \" ><span class=\"nd\">line </span> <span class=\"txtu\"><span title=\"number\">2</span></span></div><div class=\"children hor  \"><div class=\"contnr c0 trm   \" ><div class=\"lbl c0 trm \" ><span class=\"txtu\"><span title=\"atf\">GU7</span></span></div><div><a target=\"_blank\" href=\"https://cdli.ucla.edu/tools/SignLists/protocuneiform/archsigns/GU7.jpg\" title=\"to higher resolution lineart on CDLI\"><img src=\"cdli-imagery/lineart-gu7.jpg\" style=\"display: inline;max-width: 2em; max-height: 6em;\"  /></a></div></div><div class=\"contnr c0 trm   \" ><div class=\"lbl c0 trm \" ><span class=\"txtu\"><span title=\"atf\">AZ</span></span></div><div><a target=\"_blank\" href=\"https://cdli.ucla.edu/tools/SignLists/protocuneiform/archsigns/AZ.jpg\" title=\"to higher resolution lineart on CDLI\"><img src=\"cdli-imagery/lineart-az.jpg\" style=\"display: inline;max-width: 2em; max-height: 6em;\"  /></a></div></div><div class=\"contnr c0 trm   \" ><div class=\"lbl c0 trm \" ><span class=\"txtu\"><span title=\"atf\">SI4~f</span></span></div><div><a target=\"_blank\" href=\"https://cdli.ucla.edu/tools/SignLists/protocuneiform/archsigns/SI4~f.jpg\" title=\"to higher resolution lineart on CDLI\"><img src=\"cdli-imagery/lineart-si4-f.jpg\" style=\"display: inline;max-width: 2em; max-height: 6em;\"  /></a></div></div></div></div></div></div></div></div><div class=\"contnr c2    \" ><div class=\"lbl c2  \" ><span class=\"nd\">face </span> <span class=\"txtu\"><span title=\"type\">reverse</span></span></div><div class=\"children hor  \"><div class=\"contnr c3    \" ><div class=\"lbl c3  \" ><span class=\"nd\">column </span> <span class=\"txtu\"><span title=\"number\">1</span><span title=\"prime\"></span></span></div><div class=\"children ver  \"><div class=\"contnr c2    \" ><div class=\"lbl c2  \" ><span class=\"nd\">line </span> <span class=\"txtu\"><span title=\"number\">1</span></span></div><div class=\"children hor  \"><div class=\"contnr c0 trm   \" ><div class=\"lbl c0 trm \" ><span class=\"txtu\"><span title=\"atf\">3(N14)</span></span></div><div><a target=\"_blank\" href=\"https://cdli.ucla.edu/tools/SignLists/protocuneiform/archsigns/3(N14).jpg\" title=\"to higher resolution lineart on CDLI\"><img src=\"cdli-imagery/lineart-3(n14).jpg\" style=\"display: inline;max-width: 2em; max-height: 6em;\"  /></a></div></div><div class=\"contnr c0 trm   \" ><div class=\"lbl c0 trm \" ><span class=\"txtu\"><span title=\"atf\">SZE~a</span></span></div><div><a target=\"_blank\" href=\"https://cdli.ucla.edu/tools/SignLists/protocuneiform/archsigns/SZE~a.jpg\" title=\"to higher resolution lineart on CDLI\"><img src=\"cdli-imagery/lineart-sze-a.jpg\" style=\"display: inline;max-width: 2em; max-height: 6em;\"  /></a></div></div></div></div><div class=\"contnr c2    \" ><div class=\"lbl c2  \" ><span class=\"nd\">line </span> <span class=\"txtu\"><span title=\"number\">2</span></span></div><div class=\"children hor  \"><div class=\"contnr c0 trm   \" ><div class=\"lbl c0 trm \" ><span class=\"txtu\"><span title=\"atf\">3(N19)</span></span></div><div><a target=\"_blank\" href=\"https://cdli.ucla.edu/tools/SignLists/protocuneiform/archsigns/3(N19).jpg\" title=\"to higher resolution lineart on CDLI\"><img src=\"cdli-imagery/lineart-3(n19).jpg\" style=\"display: inline;max-width: 2em; max-height: 6em;\"  /></a></div></div><div class=\"contnr c0 trm   \" ><div class=\"lbl c0 trm \" ><span class=\"txtu\"><span title=\"atf\">5(N04)</span></span></div><div><a target=\"_blank\" href=\"https://cdli.ucla.edu/tools/SignLists/protocuneiform/archsigns/5(N04).jpg\" title=\"to higher resolution lineart on CDLI\"><img src=\"cdli-imagery/lineart-5(n04).jpg\" style=\"display: inline;max-width: 2em; max-height: 6em;\"  /></a></div></div></div></div><div class=\"contnr c2    \" ><div class=\"lbl c2  \" ><span class=\"nd\">line </span> <span class=\"txtu\"><span title=\"number\">3</span></span></div><div class=\"children hor  \"><div class=\"contnr c0 trm   \" ><div class=\"lbl c0 trm \" ><span class=\"txtu\"><span title=\"atf\">GU7</span></span></div><div><a target=\"_blank\" href=\"https://cdli.ucla.edu/tools/SignLists/protocuneiform/archsigns/GU7.jpg\" title=\"to higher resolution lineart on CDLI\"><img src=\"cdli-imagery/lineart-gu7.jpg\" style=\"display: inline;max-width: 2em; max-height: 6em;\"  /></a></div></div></div></div></div></div><div class=\"contnr c3    \" ><div class=\"lbl c3  \" ><span class=\"nd\">column </span> <span class=\"txtu\"><span title=\"number\">2</span><span title=\"prime\"></span></span></div><div class=\"children ver  \"><div class=\"contnr c2    \" ><div class=\"lbl c2  \" ><span class=\"nd\">line </span> <span class=\"txtu\"><span title=\"number\">1</span></span></div><div class=\"children hor  \"><div class=\"contnr c0 trm   \" ><div class=\"lbl c0 trm \" ><span class=\"txtu\"><span title=\"atf\">AZ</span></span></div><div><a target=\"_blank\" href=\"https://cdli.ucla.edu/tools/SignLists/protocuneiform/archsigns/AZ.jpg\" title=\"to higher resolution lineart on CDLI\"><img src=\"cdli-imagery/lineart-az.jpg\" style=\"display: inline;max-width: 2em; max-height: 6em;\"  /></a></div></div><div class=\"contnr c0 trm   \" ><div class=\"lbl c0 trm \" ><span class=\"txtu\"><span title=\"atf\">SI4~f</span></span></div><div><a target=\"_blank\" href=\"https://cdli.ucla.edu/tools/SignLists/protocuneiform/archsigns/SI4~f.jpg\" title=\"to higher resolution lineart on CDLI\"><img src=\"cdli-imagery/lineart-si4-f.jpg\" style=\"display: inline;max-width: 2em; max-height: 6em;\"  /></a></div></div></div></div></div></div></div></div></div></div></div>"
      ],
      "text/plain": [
       "<IPython.core.display.HTML object>"
      ]
     },
     "metadata": {},
     "output_type": "display_data"
    }
   ],
   "source": [
    "A.show(results)"
   ]
  },
  {
   "cell_type": "markdown",
   "metadata": {},
   "source": [
    "Several things to note here\n",
    "\n",
    "* if you want to see the tablet on CDLI, you can click on the tablet header;\n",
    "* the display matches the layout on the tablet:\n",
    "  * faces and columns are delineated with red lines\n",
    "  * lines and cases are delineated with blue lines\n",
    "  * cases and subcases alternate their direction of division between horizontal and vertical:\n",
    "    lines are horizontally divided into cases, they are vertically divided into subcases, and they\n",
    "    in turn are horizontally divided in subsubcases, etc.\n",
    "  * quads and signs are delineated with grey lines\n",
    "  * clusters are delineated with brown lines (see further on)\n",
    "  * lineart is given for top-level signs and quads; those that are part of a bigger quad do not\n",
    "    get lineart;\n",
    "\n",
    "It is possible to switch off the lineart."
   ]
  },
  {
   "cell_type": "markdown",
   "metadata": {},
   "source": [
    "## More info in the results\n",
    "You can show the line numbers that correspond to the ATF source files as well.\n",
    "Let us also switch off the lineart."
   ]
  },
  {
   "cell_type": "code",
   "execution_count": 11,
   "metadata": {
    "ExecuteTime": {
     "end_time": "2018-05-24T10:17:14.948197Z",
     "start_time": "2018-05-24T10:17:14.911049Z"
    }
   },
   "outputs": [
    {
     "name": "stdout",
     "output_type": "stream",
     "text": [
      "  0.00s 1 result\n"
     ]
    },
    {
     "data": {
      "text/html": [
       "<table><tr class=\"tf ltr\"><th class=\"tf ltr\">n</th><th class=\"tf ltr\">p</th><th class=\"tf ltr\">tablet</th></tr>\n",
       "<tr class=\"tf ltr\"><td class=\"tf ltr\">1</td><td class=\"tf ltr\"><span class=\"tfsechead ltr\"><span class=\"ltr\"><a target=\"_blank\" href=\"https://cdli.ucla.edu/search/search_results.php?SearchMode=Text&amp;ObjectID=P005381\" title=\"to CDLI main page for this tablet\" sec=\"P005381\">P005381</a></span></span></td><td class=\"tf ltr\"><span class=\" ubd\"><span class=\"plain   \" ><span class=\"nd\">@85111 </span><span class=\"txtu \"><span class=\"tfsechead ltr\"><span class=\"ltr\">P005381</span></span></span></span></span></td></tr></table>"
      ],
      "text/plain": [
       "<IPython.core.display.HTML object>"
      ]
     },
     "metadata": {},
     "output_type": "display_data"
    },
    {
     "data": {
      "text/html": [
       "<p><b>result</b> <i>1</i>"
      ],
      "text/plain": [
       "<IPython.core.display.HTML object>"
      ]
     },
     "metadata": {},
     "output_type": "display_data"
    },
    {
     "data": {
      "text/html": [
       "<div class=\"tfsechead \"><span class=\"ltr\"><a target=\"_blank\" href=\"https://cdli.ucla.edu/search/search_results.php?SearchMode=Text&amp;ObjectID=P005381\" title=\"to CDLI main page for this tablet\" sec=\"P005381\">P005381</a></span></div><div class=\" children\"><div class=\"contnr c4    \" ><div class=\"lbl c4  \" ><span class=\"nd\">tablet@85111 </span> <span class=\"txtu\"><span class=\"tfsechead ltr\"><span class=\"ltr\">P005381</span></span></span></div><div class=\"features\"><span class=\"name \" title=\"name\">MSVO 3, 70</span><span class=\"period \" title=\"period\">uruk-iii</span><span class=\"catalogid xft\" ><span class=\"f\">catalogId=</span>P005381</span></div><div class=\"children ver  \"><div class=\"contnr c1 trm   \" ><div class=\"lbl c1 trm \" ><span class=\"nd\">comment@85112 </span> <span class=\"txtu\"><span class=\"plain   \" ><span class=\"plain \" ></span> </span></span></div><div class=\"features\"><span class=\"text \" title=\"text\">atf: lang qpc</span></div></div><div class=\"contnr c2    \" ><div class=\"lbl c2  \" ><span class=\"nd\">face@85114 </span> <span class=\"txtu\"><span title=\"type\">obverse</span></span></div><div class=\"children hor  \"><div class=\"contnr c3    \" ><div class=\"lbl c3  \" ><span class=\"nd\">column@85115 </span> <span class=\"txtu\"><span title=\"number\">1</span><span title=\"prime\"></span></span></div><div class=\"children ver  \"><div class=\"contnr c2    \" ><div class=\"lbl c2  \" ><span class=\"nd\">lineNone </span> <span class=\"txtu\"><span title=\"number\">1</span></span></div><div class=\"children hor  \"><div class=\"contnr c2    \" ><div class=\"lbl c2  \" ><span class=\"nd\">case@85116 </span> <span class=\"txtu\"><span title=\"number\">1a</span><span title=\"prime\"></span></span></div><div class=\"children ver False \"><div class=\"contnr c0 trm   \" ><div class=\"lbl c0 trm \" ><span class=\"txtu\"><span title=\"atf\">2(N14)</span></span></div></div><div class=\"contnr c0 trm   \" ><div class=\"lbl c0 trm \" ><span class=\"txtu\"><span title=\"atf\">SZE~a</span></span></div></div><div class=\"contnr c0 trm   \" ><div class=\"lbl c0 trm \" ><span class=\"txtu\"><span title=\"atf\">SAL</span></span></div></div><div class=\"contnr c0 trm   \" ><div class=\"lbl c0 trm \" ><span class=\"txtu\"><span title=\"atf\">TUR3~a</span></span></div></div><div class=\"contnr c0 trm   \" ><div class=\"lbl c0 trm \" ><span class=\"txtu\"><span title=\"atf\">NUN~a</span></span></div></div></div></div><div class=\"contnr c2    \" ><div class=\"lbl c2  \" ><span class=\"nd\">case@85117 </span> <span class=\"txtu\"><span title=\"number\">1b</span><span title=\"prime\"></span></span></div><div class=\"children ver False \"><div class=\"contnr c0 trm   \" ><div class=\"lbl c0 trm \" ><span class=\"txtu\"><span title=\"atf\">3(N19)</span></span></div></div><div class=\"contnr c1    \" ><div class=\"lbl c1  \" ><span class=\"nd\">quad </span></div><div class=\"children hor wrap \"><div class=\"contnr c0 trm   \" ><div class=\"lbl c0 trm \" ><span class=\"txtu\"><span title=\"atf\">GISZ</span></span></div></div><div class=\"op\">.</div><div class=\"contnr c0 trm   \" ><div class=\"lbl c0 trm \" ><span class=\"txtu\"><span title=\"atf\">TE</span></span></div></div></div></div></div></div></div></div><div class=\"contnr c2    \" ><div class=\"lbl c2  \" ><span class=\"nd\">line@85118 </span> <span class=\"txtu\"><span title=\"number\">2</span></span></div><div class=\"children hor  \"><div class=\"contnr c0 trm   \" ><div class=\"lbl c0 trm \" ><span class=\"txtu\"><span title=\"atf\">1(N14)</span></span></div></div><div class=\"contnr c0 trm   \" ><div class=\"lbl c0 trm \" ><span class=\"txtu\"><span title=\"atf\">NAR</span></span></div></div><div class=\"contnr c0 trm   \" ><div class=\"lbl c0 trm \" ><span class=\"txtu\"><span title=\"atf\">NUN~a</span></span></div></div><div class=\"contnr c0 trm   \" ><div class=\"lbl c0 trm \" ><span class=\"txtu\"><span title=\"atf\">SIG7</span></span></div></div></div></div><div class=\"contnr c2    \" ><div class=\"lbl c2  \" ><span class=\"nd\">line@85119 </span> <span class=\"txtu\"><span title=\"number\">3</span></span></div><div class=\"children hor  \"><div class=\"contnr c0 trm   \" ><div class=\"lbl c0 trm \" ><span class=\"txtu\"><span title=\"atf\">2(N04)#</span></span></div></div><div class=\"contnr c0 trm   \" ><div class=\"lbl c0 trm \" ><span class=\"txtu\"><span title=\"atf\">PIRIG~b1</span></span></div></div><div class=\"contnr c0 trm   \" ><div class=\"lbl c0 trm \" ><span class=\"txtu\"><span title=\"atf\">SIG7</span></span></div></div><div class=\"contnr c0 trm   \" ><div class=\"lbl c0 trm \" ><span class=\"txtu\"><span title=\"atf\">URI3~a</span></span></div></div><div class=\"contnr c0 trm   \" ><div class=\"lbl c0 trm \" ><span class=\"txtu\"><span title=\"atf\">NUN~a</span></span></div></div></div></div></div></div><div class=\"contnr c3    \" ><div class=\"lbl c3  \" ><span class=\"nd\">column@85120 </span> <span class=\"txtu\"><span title=\"number\">2</span><span title=\"prime\"></span></span></div><div class=\"children ver  \"><div class=\"contnr c2    \" ><div class=\"lbl c2  \" ><span class=\"nd\">line@85121 </span> <span class=\"txtu\"><span title=\"number\">1</span></span></div><div class=\"children hor  \"><div class=\"contnr c0 trm   \" ><div class=\"lbl c0 trm \" ><span class=\"txtu\"><span title=\"atf\">3(N04)</span></span></div></div><div class=\"contnr c1    \" ><div class=\"lbl c1  \" ><span class=\"nd\">quad </span></div><div class=\"children hor wrap \"><div class=\"contnr c0 trm   \" ><div class=\"lbl c0 trm \" ><span class=\"txtu\"><span title=\"atf\">GISZ</span></span></div></div><div class=\"op\">.</div><div class=\"contnr c0 trm   \" ><div class=\"lbl c0 trm \" ><span class=\"txtu\"><span title=\"atf\">TE</span></span></div></div></div></div><div class=\"contnr c0 trm   \" ><div class=\"lbl c0 trm \" ><span class=\"txtu\"><span title=\"atf\">GAR</span></span></div></div><div class=\"contnr c1    \" ><div class=\"lbl c1  \" ><span class=\"nd\">quad </span></div><div class=\"children hor wrap \"><div class=\"contnr c0 trm   \" ><div class=\"lbl c0 trm \" ><span class=\"txtu\"><span title=\"atf\">SZU2</span></span></div></div><div class=\"op\">.</div><div class=\"contnr c1    \" ><div class=\"lbl c1  \" ><span class=\"nd\">quad </span></div><div class=\"children hor wrap \"><div class=\"contnr c1    \" ><div class=\"lbl c1  \" ><span class=\"nd\">quad </span></div><div class=\"children hor wrap \"><div class=\"contnr c0 trm   \" ><div class=\"lbl c0 trm \" ><span class=\"txtu\"><span title=\"atf\">HI</span></span></div></div><div class=\"op\">+</div><div class=\"contnr c0 trm   \" ><div class=\"lbl c0 trm \" ><span class=\"txtu\"><span title=\"atf\">1(N57)</span></span></div></div></div></div><div class=\"op\">+</div><div class=\"contnr c1    \" ><div class=\"lbl c1  \" ><span class=\"nd\">quad </span></div><div class=\"children hor wrap \"><div class=\"contnr c0 trm   \" ><div class=\"lbl c0 trm \" ><span class=\"txtu\"><span title=\"atf\">HI</span></span></div></div><div class=\"op\">+</div><div class=\"contnr c0 trm   \" ><div class=\"lbl c0 trm \" ><span class=\"txtu\"><span title=\"atf\">1(N57)</span></span></div></div></div></div></div></div></div></div><div class=\"contnr c0 trm   \" ><div class=\"lbl c0 trm \" ><span class=\"txtu\"><span title=\"atf\">GI4~a</span></span></div></div></div></div><div class=\"contnr c2    \" ><div class=\"lbl c2  \" ><span class=\"nd\">line@85122 </span> <span class=\"txtu\"><span title=\"number\">2</span></span></div><div class=\"children hor  \"><div class=\"contnr c0 trm   \" ><div class=\"lbl c0 trm \" ><span class=\"txtu\"><span title=\"atf\">GU7</span></span></div></div><div class=\"contnr c0 trm   \" ><div class=\"lbl c0 trm \" ><span class=\"txtu\"><span title=\"atf\">AZ</span></span></div></div><div class=\"contnr c0 trm   \" ><div class=\"lbl c0 trm \" ><span class=\"txtu\"><span title=\"atf\">SI4~f</span></span></div></div></div></div></div></div></div></div><div class=\"contnr c2    \" ><div class=\"lbl c2  \" ><span class=\"nd\">face@85123 </span> <span class=\"txtu\"><span title=\"type\">reverse</span></span></div><div class=\"children hor  \"><div class=\"contnr c3    \" ><div class=\"lbl c3  \" ><span class=\"nd\">column@85124 </span> <span class=\"txtu\"><span title=\"number\">1</span><span title=\"prime\"></span></span></div><div class=\"children ver  \"><div class=\"contnr c2    \" ><div class=\"lbl c2  \" ><span class=\"nd\">line@85125 </span> <span class=\"txtu\"><span title=\"number\">1</span></span></div><div class=\"children hor  \"><div class=\"contnr c0 trm   \" ><div class=\"lbl c0 trm \" ><span class=\"txtu\"><span title=\"atf\">3(N14)</span></span></div></div><div class=\"contnr c0 trm   \" ><div class=\"lbl c0 trm \" ><span class=\"txtu\"><span title=\"atf\">SZE~a</span></span></div></div></div></div><div class=\"contnr c2    \" ><div class=\"lbl c2  \" ><span class=\"nd\">line@85126 </span> <span class=\"txtu\"><span title=\"number\">2</span></span></div><div class=\"children hor  \"><div class=\"contnr c0 trm   \" ><div class=\"lbl c0 trm \" ><span class=\"txtu\"><span title=\"atf\">3(N19)</span></span></div></div><div class=\"contnr c0 trm   \" ><div class=\"lbl c0 trm \" ><span class=\"txtu\"><span title=\"atf\">5(N04)</span></span></div></div></div></div><div class=\"contnr c2    \" ><div class=\"lbl c2  \" ><span class=\"nd\">line@85127 </span> <span class=\"txtu\"><span title=\"number\">3</span></span></div><div class=\"children hor  \"><div class=\"contnr c0 trm   \" ><div class=\"lbl c0 trm \" ><span class=\"txtu\"><span title=\"atf\">GU7</span></span></div></div></div></div></div></div><div class=\"contnr c3    \" ><div class=\"lbl c3  \" ><span class=\"nd\">column@85128 </span> <span class=\"txtu\"><span title=\"number\">2</span><span title=\"prime\"></span></span></div><div class=\"children ver  \"><div class=\"contnr c2    \" ><div class=\"lbl c2  \" ><span class=\"nd\">line@85129 </span> <span class=\"txtu\"><span title=\"number\">1</span></span></div><div class=\"children hor  \"><div class=\"contnr c0 trm   \" ><div class=\"lbl c0 trm \" ><span class=\"txtu\"><span title=\"atf\">AZ</span></span></div></div><div class=\"contnr c0 trm   \" ><div class=\"lbl c0 trm \" ><span class=\"txtu\"><span title=\"atf\">SI4~f</span></span></div></div></div></div></div></div></div></div></div></div></div>"
      ],
      "text/plain": [
       "<IPython.core.display.HTML object>"
      ]
     },
     "metadata": {},
     "output_type": "display_data"
    }
   ],
   "source": [
    "query = \"\"\"\n",
    "tablet catalogId=P005381\n",
    "\"\"\"\n",
    "results = A.search(query)\n",
    "A.table(results, lineNumbers=True)\n",
    "A.show(results, lineNumbers=True, showGraphics=False)"
   ]
  },
  {
   "cell_type": "markdown",
   "metadata": {},
   "source": [
    "There is a big quad in `obverse:2 line 1`. We want to call up the lineart for it separately.\n",
    "First step: make the nodes visible."
   ]
  },
  {
   "cell_type": "code",
   "execution_count": 12,
   "metadata": {
    "ExecuteTime": {
     "end_time": "2018-05-24T10:17:16.760443Z",
     "start_time": "2018-05-24T10:17:16.724844Z"
    }
   },
   "outputs": [
    {
     "name": "stdout",
     "output_type": "stream",
     "text": [
      "  0.00s 1 result\n"
     ]
    },
    {
     "data": {
      "text/html": [
       "<table><tr class=\"tf ltr\"><th class=\"tf ltr\">n</th><th class=\"tf ltr\">p</th><th class=\"tf ltr\">tablet</th></tr>\n",
       "<tr class=\"tf ltr\"><td class=\"tf ltr\">1</td><td class=\"tf ltr\"><span class=\"tfsechead ltr\"><span class=\"ltr\"><a target=\"_blank\" href=\"https://cdli.ucla.edu/search/search_results.php?SearchMode=Text&amp;ObjectID=P005381\" title=\"to CDLI main page for this tablet\" sec=\"P005381\">P005381</a></span></span></td><td class=\"tf ltr\"><span class=\" ubd\"><span class=\"plain   \" ><span class=\"nd\">148166 </span><span class=\"txtu \"><span class=\"tfsechead ltr\"><span class=\"ltr\">P005381</span></span></span></span></span></td></tr></table>"
      ],
      "text/plain": [
       "<IPython.core.display.HTML object>"
      ]
     },
     "metadata": {},
     "output_type": "display_data"
    },
    {
     "data": {
      "text/html": [
       "<p><b>result</b> <i>1</i>"
      ],
      "text/plain": [
       "<IPython.core.display.HTML object>"
      ]
     },
     "metadata": {},
     "output_type": "display_data"
    },
    {
     "data": {
      "text/html": [
       "<div class=\"tfsechead \"><span class=\"ltr\"><a target=\"_blank\" href=\"https://cdli.ucla.edu/search/search_results.php?SearchMode=Text&amp;ObjectID=P005381\" title=\"to CDLI main page for this tablet\" sec=\"P005381\">P005381</a></span></div><div class=\" children\"><div class=\"contnr c4    \" ><div class=\"lbl c4  \" ><span class=\"nd\">tablet:148166 </span> <span class=\"txtu\"><span class=\"tfsechead ltr\"><span class=\"ltr\">P005381</span></span></span></div><div class=\"features\"><span class=\"name \" title=\"name\">MSVO 3, 70</span><span class=\"period \" title=\"period\">uruk-iii</span><span class=\"catalogid xft\" ><span class=\"f\">catalogId=</span>P005381</span></div><div class=\"children ver  \"><div class=\"contnr c1 trm   \" ><div class=\"lbl c1 trm \" ><span class=\"nd\">comment:178162 </span> <span class=\"txtu\"><span class=\"plain   \" ><span class=\"plain \" ></span> </span></span></div><div class=\"features\"><span class=\"text \" title=\"text\">atf: lang qpc</span></div></div><div class=\"contnr c2    \" ><div class=\"lbl c2  \" ><span class=\"nd\">face:156932 </span> <span class=\"txtu\"><span title=\"type\">obverse</span></span></div><div class=\"children hor  \"><div class=\"contnr c3    \" ><div class=\"lbl c3  \" ><span class=\"nd\">column:190362 </span> <span class=\"txtu\"><span title=\"number\">1</span><span title=\"prime\"></span></span></div><div class=\"children ver  \"><div class=\"contnr c2    \" ><div class=\"lbl c2  \" ><span class=\"nd\">line:254173 </span> <span class=\"txtu\"><span title=\"number\">1</span></span></div><div class=\"children hor  \"><div class=\"contnr c2    \" ><div class=\"lbl c2  \" ><span class=\"nd\">case:167736 </span> <span class=\"txtu\"><span title=\"number\">1a</span><span title=\"prime\"></span></span></div><div class=\"children ver False \"><div class=\"contnr c0 trm   \" ><div class=\"lbl c0 trm \" ><span class=\"nd\">106585 </span> <span class=\"txtu\"><span title=\"atf\">2(N14)</span></span></div></div><div class=\"contnr c0 trm   \" ><div class=\"lbl c0 trm \" ><span class=\"nd\">106586 </span> <span class=\"txtu\"><span title=\"atf\">SZE~a</span></span></div></div><div class=\"contnr c0 trm   \" ><div class=\"lbl c0 trm \" ><span class=\"nd\">106587 </span> <span class=\"txtu\"><span title=\"atf\">SAL</span></span></div></div><div class=\"contnr c0 trm   \" ><div class=\"lbl c0 trm \" ><span class=\"nd\">106588 </span> <span class=\"txtu\"><span title=\"atf\">TUR3~a</span></span></div></div><div class=\"contnr c0 trm   \" ><div class=\"lbl c0 trm \" ><span class=\"nd\">106589 </span> <span class=\"txtu\"><span title=\"atf\">NUN~a</span></span></div></div></div></div><div class=\"contnr c2    \" ><div class=\"lbl c2  \" ><span class=\"nd\">case:167737 </span> <span class=\"txtu\"><span title=\"number\">1b</span><span title=\"prime\"></span></span></div><div class=\"children ver False \"><div class=\"contnr c0 trm   \" ><div class=\"lbl c0 trm \" ><span class=\"nd\">106590 </span> <span class=\"txtu\"><span title=\"atf\">3(N19)</span></span></div></div><div class=\"contnr c1    \" ><div class=\"lbl c1  \" ><span class=\"nd\">quad:143013 </span></div><div class=\"children hor wrap \"><div class=\"contnr c0 trm   \" ><div class=\"lbl c0 trm \" ><span class=\"nd\">106591 </span> <span class=\"txtu\"><span title=\"atf\">GISZ</span></span></div></div><div class=\"op\">.</div><div class=\"contnr c0 trm   \" ><div class=\"lbl c0 trm \" ><span class=\"nd\">106592 </span> <span class=\"txtu\"><span title=\"atf\">TE</span></span></div></div></div></div></div></div></div></div><div class=\"contnr c2    \" ><div class=\"lbl c2  \" ><span class=\"nd\">line:254174 </span> <span class=\"txtu\"><span title=\"number\">2</span></span></div><div class=\"children hor  \"><div class=\"contnr c0 trm   \" ><div class=\"lbl c0 trm \" ><span class=\"nd\">106593 </span> <span class=\"txtu\"><span title=\"atf\">1(N14)</span></span></div></div><div class=\"contnr c0 trm   \" ><div class=\"lbl c0 trm \" ><span class=\"nd\">106594 </span> <span class=\"txtu\"><span title=\"atf\">NAR</span></span></div></div><div class=\"contnr c0 trm   \" ><div class=\"lbl c0 trm \" ><span class=\"nd\">106595 </span> <span class=\"txtu\"><span title=\"atf\">NUN~a</span></span></div></div><div class=\"contnr c0 trm   \" ><div class=\"lbl c0 trm \" ><span class=\"nd\">106596 </span> <span class=\"txtu\"><span title=\"atf\">SIG7</span></span></div></div></div></div><div class=\"contnr c2    \" ><div class=\"lbl c2  \" ><span class=\"nd\">line:254175 </span> <span class=\"txtu\"><span title=\"number\">3</span></span></div><div class=\"children hor  \"><div class=\"contnr c0 trm   \" ><div class=\"lbl c0 trm \" ><span class=\"nd\">106597 </span> <span class=\"txtu\"><span title=\"atf\">2(N04)#</span></span></div></div><div class=\"contnr c0 trm   \" ><div class=\"lbl c0 trm \" ><span class=\"nd\">106598 </span> <span class=\"txtu\"><span title=\"atf\">PIRIG~b1</span></span></div></div><div class=\"contnr c0 trm   \" ><div class=\"lbl c0 trm \" ><span class=\"nd\">106599 </span> <span class=\"txtu\"><span title=\"atf\">SIG7</span></span></div></div><div class=\"contnr c0 trm   \" ><div class=\"lbl c0 trm \" ><span class=\"nd\">106600 </span> <span class=\"txtu\"><span title=\"atf\">URI3~a</span></span></div></div><div class=\"contnr c0 trm   \" ><div class=\"lbl c0 trm \" ><span class=\"nd\">106601 </span> <span class=\"txtu\"><span title=\"atf\">NUN~a</span></span></div></div></div></div></div></div><div class=\"contnr c3    \" ><div class=\"lbl c3  \" ><span class=\"nd\">column:190363 </span> <span class=\"txtu\"><span title=\"number\">2</span><span title=\"prime\"></span></span></div><div class=\"children ver  \"><div class=\"contnr c2    \" ><div class=\"lbl c2  \" ><span class=\"nd\">line:254176 </span> <span class=\"txtu\"><span title=\"number\">1</span></span></div><div class=\"children hor  \"><div class=\"contnr c0 trm   \" ><div class=\"lbl c0 trm \" ><span class=\"nd\">106602 </span> <span class=\"txtu\"><span title=\"atf\">3(N04)</span></span></div></div><div class=\"contnr c1    \" ><div class=\"lbl c1  \" ><span class=\"nd\">quad:143014 </span></div><div class=\"children hor wrap \"><div class=\"contnr c0 trm   \" ><div class=\"lbl c0 trm \" ><span class=\"nd\">106603 </span> <span class=\"txtu\"><span title=\"atf\">GISZ</span></span></div></div><div class=\"op\">.</div><div class=\"contnr c0 trm   \" ><div class=\"lbl c0 trm \" ><span class=\"nd\">106604 </span> <span class=\"txtu\"><span title=\"atf\">TE</span></span></div></div></div></div><div class=\"contnr c0 trm   \" ><div class=\"lbl c0 trm \" ><span class=\"nd\">106605 </span> <span class=\"txtu\"><span title=\"atf\">GAR</span></span></div></div><div class=\"contnr c1    \" ><div class=\"lbl c1  \" ><span class=\"nd\">quad:143015 </span></div><div class=\"children hor wrap \"><div class=\"contnr c0 trm   \" ><div class=\"lbl c0 trm \" ><span class=\"nd\">106606 </span> <span class=\"txtu\"><span title=\"atf\">SZU2</span></span></div></div><div class=\"op\">.</div><div class=\"contnr c1    \" ><div class=\"lbl c1  \" ><span class=\"nd\">quad:143016 </span></div><div class=\"children hor wrap \"><div class=\"contnr c1    \" ><div class=\"lbl c1  \" ><span class=\"nd\">quad:143017 </span></div><div class=\"children hor wrap \"><div class=\"contnr c0 trm   \" ><div class=\"lbl c0 trm \" ><span class=\"nd\">106607 </span> <span class=\"txtu\"><span title=\"atf\">HI</span></span></div></div><div class=\"op\">+</div><div class=\"contnr c0 trm   \" ><div class=\"lbl c0 trm \" ><span class=\"nd\">106608 </span> <span class=\"txtu\"><span title=\"atf\">1(N57)</span></span></div></div></div></div><div class=\"op\">+</div><div class=\"contnr c1    \" ><div class=\"lbl c1  \" ><span class=\"nd\">quad:143018 </span></div><div class=\"children hor wrap \"><div class=\"contnr c0 trm   \" ><div class=\"lbl c0 trm \" ><span class=\"nd\">106609 </span> <span class=\"txtu\"><span title=\"atf\">HI</span></span></div></div><div class=\"op\">+</div><div class=\"contnr c0 trm   \" ><div class=\"lbl c0 trm \" ><span class=\"nd\">106610 </span> <span class=\"txtu\"><span title=\"atf\">1(N57)</span></span></div></div></div></div></div></div></div></div><div class=\"contnr c0 trm   \" ><div class=\"lbl c0 trm \" ><span class=\"nd\">106611 </span> <span class=\"txtu\"><span title=\"atf\">GI4~a</span></span></div></div></div></div><div class=\"contnr c2    \" ><div class=\"lbl c2  \" ><span class=\"nd\">line:254177 </span> <span class=\"txtu\"><span title=\"number\">2</span></span></div><div class=\"children hor  \"><div class=\"contnr c0 trm   \" ><div class=\"lbl c0 trm \" ><span class=\"nd\">106612 </span> <span class=\"txtu\"><span title=\"atf\">GU7</span></span></div></div><div class=\"contnr c0 trm   \" ><div class=\"lbl c0 trm \" ><span class=\"nd\">106613 </span> <span class=\"txtu\"><span title=\"atf\">AZ</span></span></div></div><div class=\"contnr c0 trm   \" ><div class=\"lbl c0 trm \" ><span class=\"nd\">106614 </span> <span class=\"txtu\"><span title=\"atf\">SI4~f</span></span></div></div></div></div></div></div></div></div><div class=\"contnr c2    \" ><div class=\"lbl c2  \" ><span class=\"nd\">face:156933 </span> <span class=\"txtu\"><span title=\"type\">reverse</span></span></div><div class=\"children hor  \"><div class=\"contnr c3    \" ><div class=\"lbl c3  \" ><span class=\"nd\">column:190364 </span> <span class=\"txtu\"><span title=\"number\">1</span><span title=\"prime\"></span></span></div><div class=\"children ver  \"><div class=\"contnr c2    \" ><div class=\"lbl c2  \" ><span class=\"nd\">line:254178 </span> <span class=\"txtu\"><span title=\"number\">1</span></span></div><div class=\"children hor  \"><div class=\"contnr c0 trm   \" ><div class=\"lbl c0 trm \" ><span class=\"nd\">106615 </span> <span class=\"txtu\"><span title=\"atf\">3(N14)</span></span></div></div><div class=\"contnr c0 trm   \" ><div class=\"lbl c0 trm \" ><span class=\"nd\">106616 </span> <span class=\"txtu\"><span title=\"atf\">SZE~a</span></span></div></div></div></div><div class=\"contnr c2    \" ><div class=\"lbl c2  \" ><span class=\"nd\">line:254179 </span> <span class=\"txtu\"><span title=\"number\">2</span></span></div><div class=\"children hor  \"><div class=\"contnr c0 trm   \" ><div class=\"lbl c0 trm \" ><span class=\"nd\">106617 </span> <span class=\"txtu\"><span title=\"atf\">3(N19)</span></span></div></div><div class=\"contnr c0 trm   \" ><div class=\"lbl c0 trm \" ><span class=\"nd\">106618 </span> <span class=\"txtu\"><span title=\"atf\">5(N04)</span></span></div></div></div></div><div class=\"contnr c2    \" ><div class=\"lbl c2  \" ><span class=\"nd\">line:254180 </span> <span class=\"txtu\"><span title=\"number\">3</span></span></div><div class=\"children hor  \"><div class=\"contnr c0 trm   \" ><div class=\"lbl c0 trm \" ><span class=\"nd\">106619 </span> <span class=\"txtu\"><span title=\"atf\">GU7</span></span></div></div></div></div></div></div><div class=\"contnr c3    \" ><div class=\"lbl c3  \" ><span class=\"nd\">column:190365 </span> <span class=\"txtu\"><span title=\"number\">2</span><span title=\"prime\"></span></span></div><div class=\"children ver  \"><div class=\"contnr c2    \" ><div class=\"lbl c2  \" ><span class=\"nd\">line:254181 </span> <span class=\"txtu\"><span title=\"number\">1</span></span></div><div class=\"children hor  \"><div class=\"contnr c0 trm   \" ><div class=\"lbl c0 trm \" ><span class=\"nd\">106620 </span> <span class=\"txtu\"><span title=\"atf\">AZ</span></span></div></div><div class=\"contnr c0 trm   \" ><div class=\"lbl c0 trm \" ><span class=\"nd\">106621 </span> <span class=\"txtu\"><span title=\"atf\">SI4~f</span></span></div></div></div></div></div></div></div></div></div></div></div>"
      ],
      "text/plain": [
       "<IPython.core.display.HTML object>"
      ]
     },
     "metadata": {},
     "output_type": "display_data"
    }
   ],
   "source": [
    "query = \"\"\"\n",
    "tablet catalogId=P005381\n",
    "\"\"\"\n",
    "results = A.search(query)\n",
    "A.table(results, withNodes=True)\n",
    "A.show(results, withNodes=True, showGraphics=False)"
   ]
  },
  {
   "cell_type": "markdown",
   "metadata": {},
   "source": [
    "We read off the node number of that quad and fetch the lineart."
   ]
  },
  {
   "cell_type": "code",
   "execution_count": 13,
   "metadata": {
    "ExecuteTime": {
     "end_time": "2018-05-24T10:17:18.666778Z",
     "start_time": "2018-05-24T10:17:18.656611Z"
    }
   },
   "outputs": [
    {
     "data": {
      "text/html": [
       "<div style=\"display: flex;flex-flow: row nowrap;justify-content: flex-start;align-items: center;align-content: flex-start;\"><div style=\"padding: 0.5rem;\"><div style=\"display: flex;flex-flow: column nowrap;justify-content: space-between;align-items: center;align-content: space-between;\"><div><a target=\"_blank\" href=\"https://cdli.ucla.edu/tools/SignLists/protocuneiform/archsigns/|SZU2.((HI+1(N57))+(HI+1(N57)))|.jpg\" title=\"to higher resolution lineart on CDLI\"><img src=\"cdli-imagery/lineart-qszu2(d)((hi(p)1(n57))(p)(hi(p)1(n57)))q.jpg\" style=\"display: inline;\"  /></a></div><div><a target=\"_blank\" href=\"https://cdli.ucla.edu/tools/SignLists/protocuneiform/archsigns.html\" title=\"to CDLI main page for this item\">|SZU2.((HI+1(N57))+(HI+1(N57)))|</a></div></div></div></div>"
      ],
      "text/plain": [
       "<IPython.core.display.HTML object>"
      ]
     },
     "metadata": {},
     "output_type": "display_data"
    }
   ],
   "source": [
    "A.lineart(143015)"
   ]
  },
  {
   "cell_type": "markdown",
   "metadata": {},
   "source": [
    "## Search templates\n",
    "Let's highlight all numerals on the tablet.\n",
    "\n",
    "We prefer our results to be condensed per tablet for the next few shows.\n",
    "\n",
    "We make that the temporary default:"
   ]
  },
  {
   "cell_type": "code",
   "execution_count": 14,
   "metadata": {},
   "outputs": [],
   "source": [
    "A.displaySetup(condensed=True)"
   ]
  },
  {
   "cell_type": "code",
   "execution_count": 15,
   "metadata": {
    "ExecuteTime": {
     "end_time": "2018-05-24T10:17:21.430933Z",
     "start_time": "2018-05-24T10:17:21.125331Z"
    }
   },
   "outputs": [
    {
     "name": "stdout",
     "output_type": "stream",
     "text": [
      "  0.05s 10 results\n"
     ]
    },
    {
     "data": {
      "text/html": [
       "<p><b>tablet</b> <i>1</i>"
      ],
      "text/plain": [
       "<IPython.core.display.HTML object>"
      ]
     },
     "metadata": {},
     "output_type": "display_data"
    },
    {
     "data": {
      "text/html": [
       "<div class=\"tfsechead \"><span class=\"ltr\"><a target=\"_blank\" href=\"https://cdli.ucla.edu/search/search_results.php?SearchMode=Text&amp;ObjectID=P005381\" title=\"to CDLI main page for this tablet\" sec=\"P005381\">P005381</a></span></div><div class=\" children\"><div class=\"contnr c4    \" ><div class=\"lbl c4  \" ><span class=\"nd\">tablet </span> <span class=\"txtu\"><span class=\"tfsechead ltr\"><span class=\"ltr\">P005381</span></span></span></div><div class=\"features\"><span class=\"name \" title=\"name\">MSVO 3, 70</span><span class=\"period \" title=\"period\">uruk-iii</span></div><div class=\"children ver  \"><div class=\"contnr c1 trm   \" ><div class=\"lbl c1 trm \" ><span class=\"nd\">comment </span> <span class=\"txtu\"><span class=\"plain   \" ><span class=\"plain \" ></span> </span></span></div><div class=\"features\"><span class=\"text \" title=\"text\">atf: lang qpc</span></div></div><div class=\"contnr c2    \" ><div class=\"lbl c2  \" ><span class=\"nd\">face </span> <span class=\"txtu\"><span title=\"type\">obverse</span></span></div><div class=\"children hor  \"><div class=\"contnr c3    \" ><div class=\"lbl c3  \" ><span class=\"nd\">column </span> <span class=\"txtu\"><span title=\"number\">1</span><span title=\"prime\"></span></span></div><div class=\"children ver  \"><div class=\"contnr c2    \" ><div class=\"lbl c2  \" ><span class=\"nd\">line </span> <span class=\"txtu\"><span title=\"number\">1</span></span></div><div class=\"children hor  \"><div class=\"contnr c2    \" ><div class=\"lbl c2  \" ><span class=\"nd\">case </span> <span class=\"txtu\"><span title=\"number\">1a</span><span title=\"prime\"></span></span></div><div class=\"children ver False \"><div class=\"contnr c0 trm   hl\" ><div class=\"lbl c0 trm hl\" ><span class=\"txtu\"><span title=\"atf\">2(N14)</span></span></div><div><a target=\"_blank\" href=\"https://cdli.ucla.edu/tools/SignLists/protocuneiform/archsigns/2(N14).jpg\" title=\"to higher resolution lineart on CDLI\"><img src=\"cdli-imagery/lineart-2(n14).jpg\" style=\"display: inline;max-width: 2em; max-height: 6em;\"  /></a></div></div><div class=\"contnr c0 trm   \" ><div class=\"lbl c0 trm \" ><span class=\"txtu\"><span title=\"atf\">SZE~a</span></span></div><div><a target=\"_blank\" href=\"https://cdli.ucla.edu/tools/SignLists/protocuneiform/archsigns/SZE~a.jpg\" title=\"to higher resolution lineart on CDLI\"><img src=\"cdli-imagery/lineart-sze-a.jpg\" style=\"display: inline;max-width: 2em; max-height: 6em;\"  /></a></div></div><div class=\"contnr c0 trm   \" ><div class=\"lbl c0 trm \" ><span class=\"txtu\"><span title=\"atf\">SAL</span></span></div><div><a target=\"_blank\" href=\"https://cdli.ucla.edu/tools/SignLists/protocuneiform/archsigns/SAL.jpg\" title=\"to higher resolution lineart on CDLI\"><img src=\"cdli-imagery/lineart-sal.jpg\" style=\"display: inline;max-width: 2em; max-height: 6em;\"  /></a></div></div><div class=\"contnr c0 trm   \" ><div class=\"lbl c0 trm \" ><span class=\"txtu\"><span title=\"atf\">TUR3~a</span></span></div><div><a target=\"_blank\" href=\"https://cdli.ucla.edu/tools/SignLists/protocuneiform/archsigns/TUR3~a.jpg\" title=\"to higher resolution lineart on CDLI\"><img src=\"cdli-imagery/lineart-tur3-a.jpg\" style=\"display: inline;max-width: 2em; max-height: 6em;\"  /></a></div></div><div class=\"contnr c0 trm   \" ><div class=\"lbl c0 trm \" ><span class=\"txtu\"><span title=\"atf\">NUN~a</span></span></div><div><a target=\"_blank\" href=\"https://cdli.ucla.edu/tools/SignLists/protocuneiform/archsigns/NUN~a.jpg\" title=\"to higher resolution lineart on CDLI\"><img src=\"cdli-imagery/lineart-nun-a.jpg\" style=\"display: inline;max-width: 2em; max-height: 6em;\"  /></a></div></div></div></div><div class=\"contnr c2    \" ><div class=\"lbl c2  \" ><span class=\"nd\">case </span> <span class=\"txtu\"><span title=\"number\">1b</span><span title=\"prime\"></span></span></div><div class=\"children ver False \"><div class=\"contnr c0 trm   hl\" ><div class=\"lbl c0 trm hl\" ><span class=\"txtu\"><span title=\"atf\">3(N19)</span></span></div><div><a target=\"_blank\" href=\"https://cdli.ucla.edu/tools/SignLists/protocuneiform/archsigns/3(N19).jpg\" title=\"to higher resolution lineart on CDLI\"><img src=\"cdli-imagery/lineart-3(n19).jpg\" style=\"display: inline;max-width: 2em; max-height: 6em;\"  /></a></div></div><div class=\"contnr c1    \" ><div class=\"lbl c1  \" ><span class=\"nd\">quad </span></div><div><a target=\"_blank\" href=\"https://cdli.ucla.edu/tools/SignLists/protocuneiform/archsigns/|GISZ.TE|.jpg\" title=\"to higher resolution lineart on CDLI\"><img src=\"cdli-imagery/lineart-qgisz(d)teq.jpg\" style=\"display: inline;max-width: 4em; max-height: 4em;\"  /></a></div><div class=\"children hor wrap \"><div class=\"contnr c0 trm   \" ><div class=\"lbl c0 trm \" ><span class=\"txtu\"><span title=\"atf\">GISZ</span></span></div></div><div class=\"op\">.</div><div class=\"contnr c0 trm   \" ><div class=\"lbl c0 trm \" ><span class=\"txtu\"><span title=\"atf\">TE</span></span></div></div></div></div></div></div></div></div><div class=\"contnr c2    \" ><div class=\"lbl c2  \" ><span class=\"nd\">line </span> <span class=\"txtu\"><span title=\"number\">2</span></span></div><div class=\"children hor  \"><div class=\"contnr c0 trm   hl\" ><div class=\"lbl c0 trm hl\" ><span class=\"txtu\"><span title=\"atf\">1(N14)</span></span></div><div><a target=\"_blank\" href=\"https://cdli.ucla.edu/tools/SignLists/protocuneiform/archsigns/1(N14).jpg\" title=\"to higher resolution lineart on CDLI\"><img src=\"cdli-imagery/lineart-1(n14).jpg\" style=\"display: inline;max-width: 2em; max-height: 6em;\"  /></a></div></div><div class=\"contnr c0 trm   \" ><div class=\"lbl c0 trm \" ><span class=\"txtu\"><span title=\"atf\">NAR</span></span></div><div><a target=\"_blank\" href=\"https://cdli.ucla.edu/tools/SignLists/protocuneiform/archsigns/NAR.jpg\" title=\"to higher resolution lineart on CDLI\"><img src=\"cdli-imagery/lineart-nar.jpg\" style=\"display: inline;max-width: 2em; max-height: 6em;\"  /></a></div></div><div class=\"contnr c0 trm   \" ><div class=\"lbl c0 trm \" ><span class=\"txtu\"><span title=\"atf\">NUN~a</span></span></div><div><a target=\"_blank\" href=\"https://cdli.ucla.edu/tools/SignLists/protocuneiform/archsigns/NUN~a.jpg\" title=\"to higher resolution lineart on CDLI\"><img src=\"cdli-imagery/lineart-nun-a.jpg\" style=\"display: inline;max-width: 2em; max-height: 6em;\"  /></a></div></div><div class=\"contnr c0 trm   \" ><div class=\"lbl c0 trm \" ><span class=\"txtu\"><span title=\"atf\">SIG7</span></span></div><div><a target=\"_blank\" href=\"https://cdli.ucla.edu/tools/SignLists/protocuneiform/archsigns/SIG7.jpg\" title=\"to higher resolution lineart on CDLI\"><img src=\"cdli-imagery/lineart-sig7.jpg\" style=\"display: inline;max-width: 2em; max-height: 6em;\"  /></a></div></div></div></div><div class=\"contnr c2    \" ><div class=\"lbl c2  \" ><span class=\"nd\">line </span> <span class=\"txtu\"><span title=\"number\">3</span></span></div><div class=\"children hor  \"><div class=\"contnr c0 trm   hl\" ><div class=\"lbl c0 trm hl\" ><span class=\"txtu\"><span title=\"atf\">2(N04)#</span></span></div><div><a target=\"_blank\" href=\"https://cdli.ucla.edu/tools/SignLists/protocuneiform/archsigns/2(N04).jpg\" title=\"to higher resolution lineart on CDLI\"><img src=\"cdli-imagery/lineart-2(n04).jpg\" style=\"display: inline;max-width: 2em; max-height: 6em;\"  /></a></div></div><div class=\"contnr c0 trm   \" ><div class=\"lbl c0 trm \" ><span class=\"txtu\"><span title=\"atf\">PIRIG~b1</span></span></div><div><a target=\"_blank\" href=\"https://cdli.ucla.edu/tools/SignLists/protocuneiform/archsigns/PIRIG~b1.jpg\" title=\"to higher resolution lineart on CDLI\"><img src=\"cdli-imagery/lineart-pirig-b1.jpg\" style=\"display: inline;max-width: 2em; max-height: 6em;\"  /></a></div></div><div class=\"contnr c0 trm   \" ><div class=\"lbl c0 trm \" ><span class=\"txtu\"><span title=\"atf\">SIG7</span></span></div><div><a target=\"_blank\" href=\"https://cdli.ucla.edu/tools/SignLists/protocuneiform/archsigns/SIG7.jpg\" title=\"to higher resolution lineart on CDLI\"><img src=\"cdli-imagery/lineart-sig7.jpg\" style=\"display: inline;max-width: 2em; max-height: 6em;\"  /></a></div></div><div class=\"contnr c0 trm   \" ><div class=\"lbl c0 trm \" ><span class=\"txtu\"><span title=\"atf\">URI3~a</span></span></div><div><a target=\"_blank\" href=\"https://cdli.ucla.edu/tools/SignLists/protocuneiform/archsigns/URI3~a.jpg\" title=\"to higher resolution lineart on CDLI\"><img src=\"cdli-imagery/lineart-uri3-a.jpg\" style=\"display: inline;max-width: 2em; max-height: 6em;\"  /></a></div></div><div class=\"contnr c0 trm   \" ><div class=\"lbl c0 trm \" ><span class=\"txtu\"><span title=\"atf\">NUN~a</span></span></div><div><a target=\"_blank\" href=\"https://cdli.ucla.edu/tools/SignLists/protocuneiform/archsigns/NUN~a.jpg\" title=\"to higher resolution lineart on CDLI\"><img src=\"cdli-imagery/lineart-nun-a.jpg\" style=\"display: inline;max-width: 2em; max-height: 6em;\"  /></a></div></div></div></div></div></div><div class=\"contnr c3    \" ><div class=\"lbl c3  \" ><span class=\"nd\">column </span> <span class=\"txtu\"><span title=\"number\">2</span><span title=\"prime\"></span></span></div><div class=\"children ver  \"><div class=\"contnr c2    \" ><div class=\"lbl c2  \" ><span class=\"nd\">line </span> <span class=\"txtu\"><span title=\"number\">1</span></span></div><div class=\"children hor  \"><div class=\"contnr c0 trm   hl\" ><div class=\"lbl c0 trm hl\" ><span class=\"txtu\"><span title=\"atf\">3(N04)</span></span></div><div><a target=\"_blank\" href=\"https://cdli.ucla.edu/tools/SignLists/protocuneiform/archsigns/3(N04).jpg\" title=\"to higher resolution lineart on CDLI\"><img src=\"cdli-imagery/lineart-3(n04).jpg\" style=\"display: inline;max-width: 2em; max-height: 6em;\"  /></a></div></div><div class=\"contnr c1    \" ><div class=\"lbl c1  \" ><span class=\"nd\">quad </span></div><div><a target=\"_blank\" href=\"https://cdli.ucla.edu/tools/SignLists/protocuneiform/archsigns/|GISZ.TE|.jpg\" title=\"to higher resolution lineart on CDLI\"><img src=\"cdli-imagery/lineart-qgisz(d)teq.jpg\" style=\"display: inline;max-width: 4em; max-height: 4em;\"  /></a></div><div class=\"children hor wrap \"><div class=\"contnr c0 trm   \" ><div class=\"lbl c0 trm \" ><span class=\"txtu\"><span title=\"atf\">GISZ</span></span></div></div><div class=\"op\">.</div><div class=\"contnr c0 trm   \" ><div class=\"lbl c0 trm \" ><span class=\"txtu\"><span title=\"atf\">TE</span></span></div></div></div></div><div class=\"contnr c0 trm   \" ><div class=\"lbl c0 trm \" ><span class=\"txtu\"><span title=\"atf\">GAR</span></span></div><div><a target=\"_blank\" href=\"https://cdli.ucla.edu/tools/SignLists/protocuneiform/archsigns/GAR.jpg\" title=\"to higher resolution lineart on CDLI\"><img src=\"cdli-imagery/lineart-gar.jpg\" style=\"display: inline;max-width: 2em; max-height: 6em;\"  /></a></div></div><div class=\"contnr c1    \" ><div class=\"lbl c1  \" ><span class=\"nd\">quad </span></div><div><a target=\"_blank\" href=\"https://cdli.ucla.edu/tools/SignLists/protocuneiform/archsigns/|SZU2.((HI+1(N57))+(HI+1(N57)))|.jpg\" title=\"to higher resolution lineart on CDLI\"><img src=\"cdli-imagery/lineart-qszu2(d)((hi(p)1(n57))(p)(hi(p)1(n57)))q.jpg\" style=\"display: inline;max-width: 4em; max-height: 4em;\"  /></a></div><div class=\"children hor wrap \"><div class=\"contnr c0 trm   \" ><div class=\"lbl c0 trm \" ><span class=\"txtu\"><span title=\"atf\">SZU2</span></span></div></div><div class=\"op\">.</div><div class=\"contnr c1    \" ><div class=\"lbl c1  \" ><span class=\"nd\">quad </span></div><div class=\"children hor wrap \"><div class=\"contnr c1    \" ><div class=\"lbl c1  \" ><span class=\"nd\">quad </span></div><div class=\"children hor wrap \"><div class=\"contnr c0 trm   \" ><div class=\"lbl c0 trm \" ><span class=\"txtu\"><span title=\"atf\">HI</span></span></div></div><div class=\"op\">+</div><div class=\"contnr c0 trm   hl\" ><div class=\"lbl c0 trm hl\" ><span class=\"txtu\"><span title=\"atf\">1(N57)</span></span></div></div></div></div><div class=\"op\">+</div><div class=\"contnr c1    \" ><div class=\"lbl c1  \" ><span class=\"nd\">quad </span></div><div class=\"children hor wrap \"><div class=\"contnr c0 trm   \" ><div class=\"lbl c0 trm \" ><span class=\"txtu\"><span title=\"atf\">HI</span></span></div></div><div class=\"op\">+</div><div class=\"contnr c0 trm   hl\" ><div class=\"lbl c0 trm hl\" ><span class=\"txtu\"><span title=\"atf\">1(N57)</span></span></div></div></div></div></div></div></div></div><div class=\"contnr c0 trm   \" ><div class=\"lbl c0 trm \" ><span class=\"txtu\"><span title=\"atf\">GI4~a</span></span></div><div><a target=\"_blank\" href=\"https://cdli.ucla.edu/tools/SignLists/protocuneiform/archsigns/GI4~a.jpg\" title=\"to higher resolution lineart on CDLI\"><img src=\"cdli-imagery/lineart-gi4-a.jpg\" style=\"display: inline;max-width: 2em; max-height: 6em;\"  /></a></div></div></div></div><div class=\"contnr c2    \" ><div class=\"lbl c2  \" ><span class=\"nd\">line </span> <span class=\"txtu\"><span title=\"number\">2</span></span></div><div class=\"children hor  \"><div class=\"contnr c0 trm   \" ><div class=\"lbl c0 trm \" ><span class=\"txtu\"><span title=\"atf\">GU7</span></span></div><div><a target=\"_blank\" href=\"https://cdli.ucla.edu/tools/SignLists/protocuneiform/archsigns/GU7.jpg\" title=\"to higher resolution lineart on CDLI\"><img src=\"cdli-imagery/lineart-gu7.jpg\" style=\"display: inline;max-width: 2em; max-height: 6em;\"  /></a></div></div><div class=\"contnr c0 trm   \" ><div class=\"lbl c0 trm \" ><span class=\"txtu\"><span title=\"atf\">AZ</span></span></div><div><a target=\"_blank\" href=\"https://cdli.ucla.edu/tools/SignLists/protocuneiform/archsigns/AZ.jpg\" title=\"to higher resolution lineart on CDLI\"><img src=\"cdli-imagery/lineart-az.jpg\" style=\"display: inline;max-width: 2em; max-height: 6em;\"  /></a></div></div><div class=\"contnr c0 trm   \" ><div class=\"lbl c0 trm \" ><span class=\"txtu\"><span title=\"atf\">SI4~f</span></span></div><div><a target=\"_blank\" href=\"https://cdli.ucla.edu/tools/SignLists/protocuneiform/archsigns/SI4~f.jpg\" title=\"to higher resolution lineart on CDLI\"><img src=\"cdli-imagery/lineart-si4-f.jpg\" style=\"display: inline;max-width: 2em; max-height: 6em;\"  /></a></div></div></div></div></div></div></div></div><div class=\"contnr c2    \" ><div class=\"lbl c2  \" ><span class=\"nd\">face </span> <span class=\"txtu\"><span title=\"type\">reverse</span></span></div><div class=\"children hor  \"><div class=\"contnr c3    \" ><div class=\"lbl c3  \" ><span class=\"nd\">column </span> <span class=\"txtu\"><span title=\"number\">1</span><span title=\"prime\"></span></span></div><div class=\"children ver  \"><div class=\"contnr c2    \" ><div class=\"lbl c2  \" ><span class=\"nd\">line </span> <span class=\"txtu\"><span title=\"number\">1</span></span></div><div class=\"children hor  \"><div class=\"contnr c0 trm   hl\" ><div class=\"lbl c0 trm hl\" ><span class=\"txtu\"><span title=\"atf\">3(N14)</span></span></div><div><a target=\"_blank\" href=\"https://cdli.ucla.edu/tools/SignLists/protocuneiform/archsigns/3(N14).jpg\" title=\"to higher resolution lineart on CDLI\"><img src=\"cdli-imagery/lineart-3(n14).jpg\" style=\"display: inline;max-width: 2em; max-height: 6em;\"  /></a></div></div><div class=\"contnr c0 trm   \" ><div class=\"lbl c0 trm \" ><span class=\"txtu\"><span title=\"atf\">SZE~a</span></span></div><div><a target=\"_blank\" href=\"https://cdli.ucla.edu/tools/SignLists/protocuneiform/archsigns/SZE~a.jpg\" title=\"to higher resolution lineart on CDLI\"><img src=\"cdli-imagery/lineart-sze-a.jpg\" style=\"display: inline;max-width: 2em; max-height: 6em;\"  /></a></div></div></div></div><div class=\"contnr c2    \" ><div class=\"lbl c2  \" ><span class=\"nd\">line </span> <span class=\"txtu\"><span title=\"number\">2</span></span></div><div class=\"children hor  \"><div class=\"contnr c0 trm   hl\" ><div class=\"lbl c0 trm hl\" ><span class=\"txtu\"><span title=\"atf\">3(N19)</span></span></div><div><a target=\"_blank\" href=\"https://cdli.ucla.edu/tools/SignLists/protocuneiform/archsigns/3(N19).jpg\" title=\"to higher resolution lineart on CDLI\"><img src=\"cdli-imagery/lineart-3(n19).jpg\" style=\"display: inline;max-width: 2em; max-height: 6em;\"  /></a></div></div><div class=\"contnr c0 trm   hl\" ><div class=\"lbl c0 trm hl\" ><span class=\"txtu\"><span title=\"atf\">5(N04)</span></span></div><div><a target=\"_blank\" href=\"https://cdli.ucla.edu/tools/SignLists/protocuneiform/archsigns/5(N04).jpg\" title=\"to higher resolution lineart on CDLI\"><img src=\"cdli-imagery/lineart-5(n04).jpg\" style=\"display: inline;max-width: 2em; max-height: 6em;\"  /></a></div></div></div></div><div class=\"contnr c2    \" ><div class=\"lbl c2  \" ><span class=\"nd\">line </span> <span class=\"txtu\"><span title=\"number\">3</span></span></div><div class=\"children hor  \"><div class=\"contnr c0 trm   \" ><div class=\"lbl c0 trm \" ><span class=\"txtu\"><span title=\"atf\">GU7</span></span></div><div><a target=\"_blank\" href=\"https://cdli.ucla.edu/tools/SignLists/protocuneiform/archsigns/GU7.jpg\" title=\"to higher resolution lineart on CDLI\"><img src=\"cdli-imagery/lineart-gu7.jpg\" style=\"display: inline;max-width: 2em; max-height: 6em;\"  /></a></div></div></div></div></div></div><div class=\"contnr c3    \" ><div class=\"lbl c3  \" ><span class=\"nd\">column </span> <span class=\"txtu\"><span title=\"number\">2</span><span title=\"prime\"></span></span></div><div class=\"children ver  \"><div class=\"contnr c2    \" ><div class=\"lbl c2  \" ><span class=\"nd\">line </span> <span class=\"txtu\"><span title=\"number\">1</span></span></div><div class=\"children hor  \"><div class=\"contnr c0 trm   \" ><div class=\"lbl c0 trm \" ><span class=\"txtu\"><span title=\"atf\">AZ</span></span></div><div><a target=\"_blank\" href=\"https://cdli.ucla.edu/tools/SignLists/protocuneiform/archsigns/AZ.jpg\" title=\"to higher resolution lineart on CDLI\"><img src=\"cdli-imagery/lineart-az.jpg\" style=\"display: inline;max-width: 2em; max-height: 6em;\"  /></a></div></div><div class=\"contnr c0 trm   \" ><div class=\"lbl c0 trm \" ><span class=\"txtu\"><span title=\"atf\">SI4~f</span></span></div><div><a target=\"_blank\" href=\"https://cdli.ucla.edu/tools/SignLists/protocuneiform/archsigns/SI4~f.jpg\" title=\"to higher resolution lineart on CDLI\"><img src=\"cdli-imagery/lineart-si4-f.jpg\" style=\"display: inline;max-width: 2em; max-height: 6em;\"  /></a></div></div></div></div></div></div></div></div></div></div></div>"
      ],
      "text/plain": [
       "<IPython.core.display.HTML object>"
      ]
     },
     "metadata": {},
     "output_type": "display_data"
    }
   ],
   "source": [
    "query = \"\"\"\n",
    "tablet catalogId=P005381\n",
    "  sign type=numeral\n",
    "\"\"\"\n",
    "results = A.search(query)\n",
    "A.show(results, queryFeatures=False)"
   ]
  },
  {
   "cell_type": "markdown",
   "metadata": {},
   "source": [
    "We can do the same for multiple tablets. But now we highlight the undivided lines,\n",
    "just for variation."
   ]
  },
  {
   "cell_type": "code",
   "execution_count": 16,
   "metadata": {
    "ExecuteTime": {
     "end_time": "2018-05-24T10:17:25.919381Z",
     "start_time": "2018-05-24T10:17:25.800395Z"
    }
   },
   "outputs": [
    {
     "name": "stdout",
     "output_type": "stream",
     "text": [
      "  0.01s 11 results\n"
     ]
    }
   ],
   "source": [
    "query = \"\"\"\n",
    "tablet catalogId=P003581|P000311\n",
    "  line terminal\n",
    "\"\"\"\n",
    "results = A.search(query)"
   ]
  },
  {
   "cell_type": "code",
   "execution_count": 17,
   "metadata": {
    "ExecuteTime": {
     "end_time": "2018-05-24T10:17:25.919381Z",
     "start_time": "2018-05-24T10:17:25.800395Z"
    }
   },
   "outputs": [
    {
     "data": {
      "text/html": [
       "<table><tr class=\"tf ltr\"><th class=\"tf ltr\">n</th><th class=\"tf ltr\">tablet</th><th class=\"tf\">line</th><th class=\"tf\">line</th><th class=\"tf\">line</th><th class=\"tf\">line</th><th class=\"tf\">line</th><th class=\"tf\">line</th></tr>\n",
       "<tr class=\"tf ltr\"><td class=\"tf ltr\">1</td><td class=\"tf ltr\"><span class=\" ubd\"><span class=\"txtu \"><span class=\"tfsechead ltr\"><span class=\"ltr\">P000311</span></span></span></span></td><td class=\"tf ltr\"><span class=\" ubd\"><span class=\"plain   hlbx\" ><span class=\"plain \" >[<span class=\"plain \" >1(N01)</span>]</span> <span class=\"plain \" >[<span class=\"plain \" >...</span>]</span> <span class=\"plain \" >IR~a</span> </span></span></td><td class=\"tf ltr\"><span class=\" ubd\"><span class=\"plain   hlbx\" ><span class=\"plain \" >[<span class=\"plain \" >1(N01)</span>]</span> <span class=\"plain \" >ERIM2</span> </span></span></td><td class=\"tf ltr\"><span class=\" ubd\"><span class=\"plain   hlbx\" ><span class=\"plain \" >1(N01)</span> <span class=\"plain \" >NIMGIR</span> <span class=\"plain \" >SIG7</span> </span></span></td><td class=\"tf ltr\"><span class=\" ubd\"><span class=\"plain   hlbx\" ><span class=\"plain \" >1(N01)</span> <span class=\"plain \" >U2~b</span> <span class=\"plain \" >NAGA~a</span> <span class=\"plain \" >MUSZEN</span> <span class=\"plain \" >ZATU647</span> <span class=\"plain \" >BA</span> </span></span></td><td class=\"tf ltr\"><span class=\" ubd\"><span class=\"plain   hlbx\" ><span class=\"plain \" ></span> <span class=\"plain \" >1(N01)</span> <span class=\"plain \" >IM~a</span> <span class=\"plain \" >[<span class=\"plain \" >...</span>]</span> </span></span></td><td class=\"tf ltr\"><span class=\" ubd\"><span class=\"plain   hlbx\" ><span class=\"plain \" >[<span class=\"plain \" >N</span>]</span> <span class=\"plain \" >[<span class=\"plain \" >...</span>]</span> </span></span></td></tr>\n",
       "<tr class=\"tf ltr\"><td class=\"tf ltr\">2</td><td class=\"tf ltr\"><span class=\" ubd\"><span class=\"txtu \"><span class=\"tfsechead ltr\"><span class=\"ltr\">P003581</span></span></span></span></td><td class=\"tf ltr\"><span class=\" ubd\"><span class=\"plain   hlbx\" ><span class=\"plain \" >5(N01)</span> <span class=\"plain \" >U2~a</span> <span class=\"plain \" >[<span class=\"plain \" >...</span>]</span> </span></span></td><td class=\"tf ltr\"><span class=\" ubd\"><span class=\"plain   hlbx\" ><span class=\"plain \" >1(N01)</span> <span class=\"plain \" >X</span> <span class=\"plain \" >[<span class=\"plain \" >...</span>]</span> </span></span></td><td class=\"tf ltr\"><span class=\" ubd\"><span class=\"plain   hlbx\" ><span class=\"plain \" >1(N14)</span> <span class=\"plain \" >[<span class=\"plain \" >...</span>]</span> <span class=\"plain \" >SUHUR</span> <span class=\"plain \" >[<span class=\"plain \" >...</span>]</span> </span></span></td><td class=\"tf ltr\"><span class=\" ubd\"><span class=\"plain   hlbx\" ><span class=\"plain \" >5(N14)</span> <span class=\"plain \" >1(N01)</span> <span class=\"plain \" >[<span class=\"plain \" >...</span>]</span> <span class=\"plain \" >U2~a</span> </span></span></td><td class=\"tf ltr\"><span class=\" ubd\"><span class=\"plain   hlbx\" ><span class=\"plain \" >|<span class=\"plain \" >GI</span>&<span class=\"plain \" >GI</span>|</span> <span class=\"plain \" >GU7</span> </span></span></td></tr></table>"
      ],
      "text/plain": [
       "<IPython.core.display.HTML object>"
      ]
     },
     "metadata": {},
     "output_type": "display_data"
    }
   ],
   "source": [
    "A.table(results, showGraphics=False, withPassage=False)"
   ]
  },
  {
   "cell_type": "code",
   "execution_count": 18,
   "metadata": {
    "ExecuteTime": {
     "end_time": "2018-05-24T10:17:25.919381Z",
     "start_time": "2018-05-24T10:17:25.800395Z"
    }
   },
   "outputs": [
    {
     "data": {
      "text/html": [
       "<p><b>tablet</b> <i>1</i>"
      ],
      "text/plain": [
       "<IPython.core.display.HTML object>"
      ]
     },
     "metadata": {},
     "output_type": "display_data"
    },
    {
     "data": {
      "text/html": [
       "<div class=\"tfsechead \"><span class=\"ltr\"><a target=\"_blank\" href=\"https://cdli.ucla.edu/search/search_results.php?SearchMode=Text&amp;ObjectID=P000311\" title=\"to CDLI main page for this tablet\" sec=\"P000311\">P000311</a></span></div><div class=\" children\"><div class=\"contnr c4    \" ><div class=\"lbl c4  \" ><span class=\"nd\">tablet </span> <span class=\"txtu\"><span class=\"tfsechead ltr\"><span class=\"ltr\">P000311</span></span></span></div><div class=\"features\"><span class=\"name \" title=\"name\">CDLI Lexical 000034, ex. 01</span><span class=\"period \" title=\"period\">uruk-iii</span><span class=\"excavation \" title=\"excavation\">W 20266,065</span><span class=\"catalogid xft\" ><span class=\"f\">catalogId=</span>P000311</span></div><div class=\"children ver  \"><div class=\"contnr c1 trm   \" ><div class=\"lbl c1 trm \" ><span class=\"nd\">comment </span> <span class=\"txtu\"><span class=\"plain   \" ><span class=\"plain \" ></span> </span></span></div><div class=\"features\"><span class=\"text \" title=\"text\">atf: lang qpc</span></div></div><div class=\"contnr c2    \" ><div class=\"lbl c2  \" ><span class=\"nd\">face </span> <span class=\"txtu\"><span title=\"type\">obverse</span></span></div><div class=\"children hor  \"><div class=\"contnr c1 trm   \" ><div class=\"lbl c1 trm \" ><span class=\"nd\">comment </span> <span class=\"txtu\"><span class=\"plain   \" ><span class=\"plain \" ></span> </span></span></div><div class=\"features\"><span class=\"text \" title=\"text\">beginning broken</span></div></div><div class=\"contnr c3    \" ><div class=\"lbl c3  \" ><span class=\"nd\">column </span> <span class=\"txtu\"><span title=\"number\">1</span><span title=\"prime\">'</span></span></div><div class=\"children ver  \"><div class=\"contnr c1 trm   \" ><div class=\"lbl c1 trm \" ><span class=\"nd\">comment </span> <span class=\"txtu\"><span class=\"plain   \" ><span class=\"plain \" ></span> </span></span></div><div class=\"features\"><span class=\"text \" title=\"text\">beginning broken</span></div></div><div class=\"contnr c2    hl\" ><div class=\"lbl c2  hl\" ><span class=\"nd\">line </span> <span class=\"txtu\"><span title=\"number\">1</span></span></div><div class=\"features\"><span class=\"terminal xft\" ><span class=\"f\">terminal=</span>1</span></div><div class=\"children hor  \"><div class=\"contnr c1 cluster trm   \" ><div class=\"lbl c1 clusterb trm \" ><span class=\"nd\">cluster </span> <span class=\"txtu\"><span title=\"type\">?</span></span></div></div><div class=\"children hor wrap \"><div class=\"contnr c0 trm   \" ><div class=\"lbl c0 trm \" ><span class=\"txtu\"><span title=\"atf\">1(N01)</span></span></div></div></div><div class=\"contnr c1 cluster {}   \" ><div class=\"lbl c1 clustere trm \" ><span class=\"nd\">cluster </span> <span class=\"txtu\"><span title=\"type\">?</span></span></div> </div><div class=\"contnr c1 cluster trm   \" ><div class=\"lbl c1 clusterb trm \" ><span class=\"nd\">cluster </span> <span class=\"txtu\"><span title=\"type\">?</span></span></div></div><div class=\"children hor wrap \"><div class=\"contnr c0 trm   \" ><div class=\"lbl c0 trm \" ><span class=\"txtu\"><span title=\"atf\">...</span></span></div></div></div><div class=\"contnr c1 cluster {}   \" ><div class=\"lbl c1 clustere trm \" ><span class=\"nd\">cluster </span> <span class=\"txtu\"><span title=\"type\">?</span></span></div> </div><div class=\"contnr c0 trm   \" ><div class=\"lbl c0 trm \" ><span class=\"txtu\"><span title=\"atf\">IR~a#</span></span></div></div></div></div><div class=\"contnr c2    hl\" ><div class=\"lbl c2  hl\" ><span class=\"nd\">line </span> <span class=\"txtu\"><span title=\"number\">2</span></span></div><div class=\"features\"><span class=\"terminal xft\" ><span class=\"f\">terminal=</span>1</span></div><div class=\"children hor  \"><div class=\"contnr c1 cluster trm   \" ><div class=\"lbl c1 clusterb trm \" ><span class=\"nd\">cluster </span> <span class=\"txtu\"><span title=\"type\">?</span></span></div></div><div class=\"children hor wrap \"><div class=\"contnr c0 trm   \" ><div class=\"lbl c0 trm \" ><span class=\"txtu\"><span title=\"atf\">1(N01)</span></span></div></div></div><div class=\"contnr c1 cluster {}   \" ><div class=\"lbl c1 clustere trm \" ><span class=\"nd\">cluster </span> <span class=\"txtu\"><span title=\"type\">?</span></span></div> </div><div class=\"contnr c0 trm   \" ><div class=\"lbl c0 trm \" ><span class=\"txtu\"><span title=\"atf\">ERIM2#</span></span></div></div></div></div></div></div><div class=\"contnr c3    \" ><div class=\"lbl c3  \" ><span class=\"nd\">column </span> <span class=\"txtu\"><span title=\"number\">2</span><span title=\"prime\">'</span></span></div><div class=\"children ver  \"><div class=\"contnr c1 trm   \" ><div class=\"lbl c1 trm \" ><span class=\"nd\">comment </span> <span class=\"txtu\"><span class=\"plain   \" ><span class=\"plain \" ></span> </span></span></div><div class=\"features\"><span class=\"text \" title=\"text\">beginning broken</span></div></div><div class=\"contnr c2    hl\" ><div class=\"lbl c2  hl\" ><span class=\"nd\">line </span> <span class=\"txtu\"><span title=\"number\">1</span></span></div><div class=\"features\"><span class=\"terminal xft\" ><span class=\"f\">terminal=</span>1</span></div><div class=\"children hor  \"><div class=\"contnr c0 trm   \" ><div class=\"lbl c0 trm \" ><span class=\"txtu\"><span title=\"atf\">1(N01)</span></span></div></div><div class=\"contnr c0 trm   \" ><div class=\"lbl c0 trm \" ><span class=\"txtu\"><span title=\"atf\">NIMGIR</span></span></div></div><div class=\"contnr c0 trm   \" ><div class=\"lbl c0 trm \" ><span class=\"txtu\"><span title=\"atf\">SIG7#</span></span></div></div></div></div><div class=\"contnr c2    hl\" ><div class=\"lbl c2  hl\" ><span class=\"nd\">line </span> <span class=\"txtu\"><span title=\"number\">2</span></span></div><div class=\"features\"><span class=\"terminal xft\" ><span class=\"f\">terminal=</span>1</span></div><div class=\"children hor  \"><div class=\"contnr c0 trm   \" ><div class=\"lbl c0 trm \" ><span class=\"txtu\"><span title=\"atf\">1(N01)</span></span></div></div><div class=\"contnr c0 trm   \" ><div class=\"lbl c0 trm \" ><span class=\"txtu\"><span title=\"atf\">U2~b</span></span></div></div><div class=\"contnr c0 trm   \" ><div class=\"lbl c0 trm \" ><span class=\"txtu\"><span title=\"atf\">NAGA~a</span></span></div></div><div class=\"contnr c0 trm   \" ><div class=\"lbl c0 trm \" ><span class=\"txtu\"><span title=\"atf\">MUSZEN</span></span></div></div><div class=\"contnr c0 trm   \" ><div class=\"lbl c0 trm \" ><span class=\"txtu\"><span title=\"atf\">ZATU647</span></span></div></div><div class=\"contnr c0 trm   \" ><div class=\"lbl c0 trm \" ><span class=\"txtu\"><span title=\"atf\">BA</span></span></div></div></div></div><div class=\"contnr c2    hl\" ><div class=\"lbl c2  hl\" ><span class=\"nd\">line </span> <span class=\"txtu\"><span title=\"number\">3</span></span></div><div class=\"features\"><span class=\"terminal xft\" ><span class=\"f\">terminal=</span>1</span></div><div class=\"children hor  \"><div class=\"contnr c1 trm   \" ><div class=\"lbl c1 trm \" ><span class=\"nd\">comment </span> <span class=\"txtu\"><span class=\"plain   \" ><span class=\"plain \" ></span> </span></span></div><div class=\"features\"><span class=\"text \" title=\"text\">rest broken</span></div></div><div class=\"contnr c0 trm   \" ><div class=\"lbl c0 trm \" ><span class=\"txtu\"><span title=\"atf\">1(N01)#</span></span></div></div><div class=\"contnr c0 trm   \" ><div class=\"lbl c0 trm \" ><span class=\"txtu\"><span title=\"atf\">IM~a</span></span></div></div><div class=\"contnr c1 cluster trm   \" ><div class=\"lbl c1 clusterb trm \" ><span class=\"nd\">cluster </span> <span class=\"txtu\"><span title=\"type\">?</span></span></div></div><div class=\"children hor wrap \"><div class=\"contnr c0 trm   \" ><div class=\"lbl c0 trm \" ><span class=\"txtu\"><span title=\"atf\">...</span></span></div></div></div><div class=\"contnr c1 cluster {}   \" ><div class=\"lbl c1 clustere trm \" ><span class=\"nd\">cluster </span> <span class=\"txtu\"><span title=\"type\">?</span></span></div> </div></div></div></div></div></div></div><div class=\"contnr c2    \" ><div class=\"lbl c2  \" ><span class=\"nd\">face </span> <span class=\"txtu\"><span title=\"type\">reverse</span></span></div><div class=\"children hor  \"><div class=\"contnr c3    \" ><div class=\"lbl c3  \" ><span class=\"nd\">column </span> <span class=\"txtu\"><span title=\"number\">0</span><span title=\"prime\"></span></span></div><div class=\"children ver  \"><div class=\"contnr c2    hl\" ><div class=\"lbl c2  hl\" ><span class=\"nd\">line </span> <span class=\"txtu\"><span title=\"number\">1</span></span></div><div class=\"features\"><span class=\"terminal xft\" ><span class=\"f\">terminal=</span>1</span></div><div class=\"children hor  \"><div class=\"contnr c1 cluster trm   \" ><div class=\"lbl c1 clusterb trm \" ><span class=\"nd\">cluster </span> <span class=\"txtu\"><span title=\"type\">?</span></span></div></div><div class=\"children hor wrap \"><div class=\"contnr c0 trm   \" ><div class=\"lbl c0 trm \" ><span class=\"txtu\"><span title=\"atf\">N</span></span></div></div></div><div class=\"contnr c1 cluster {}   \" ><div class=\"lbl c1 clustere trm \" ><span class=\"nd\">cluster </span> <span class=\"txtu\"><span title=\"type\">?</span></span></div> </div><div class=\"contnr c1 cluster trm   \" ><div class=\"lbl c1 clusterb trm \" ><span class=\"nd\">cluster </span> <span class=\"txtu\"><span title=\"type\">?</span></span></div></div><div class=\"children hor wrap \"><div class=\"contnr c0 trm   \" ><div class=\"lbl c0 trm \" ><span class=\"txtu\"><span title=\"atf\">...</span></span></div></div></div><div class=\"contnr c1 cluster {}   \" ><div class=\"lbl c1 clustere trm \" ><span class=\"nd\">cluster </span> <span class=\"txtu\"><span title=\"type\">?</span></span></div> </div></div></div></div></div></div></div></div></div></div>"
      ],
      "text/plain": [
       "<IPython.core.display.HTML object>"
      ]
     },
     "metadata": {},
     "output_type": "display_data"
    },
    {
     "data": {
      "text/html": [
       "<p><b>tablet</b> <i>2</i>"
      ],
      "text/plain": [
       "<IPython.core.display.HTML object>"
      ]
     },
     "metadata": {},
     "output_type": "display_data"
    },
    {
     "data": {
      "text/html": [
       "<div class=\"tfsechead \"><span class=\"ltr\"><a target=\"_blank\" href=\"https://cdli.ucla.edu/search/search_results.php?SearchMode=Text&amp;ObjectID=P003581\" title=\"to CDLI main page for this tablet\" sec=\"P003581\">P003581</a></span></div><div class=\" children\"><div class=\"contnr c4    \" ><div class=\"lbl c4  \" ><span class=\"nd\">tablet </span> <span class=\"txtu\"><span class=\"tfsechead ltr\"><span class=\"ltr\">P003581</span></span></span></div><div class=\"features\"><span class=\"name \" title=\"name\">W 20274,083</span><span class=\"period \" title=\"period\">uruk-iii</span><span class=\"excavation \" title=\"excavation\">W 20274,083</span><span class=\"catalogid xft\" ><span class=\"f\">catalogId=</span>P003581</span></div><div class=\"children ver  \"><div class=\"contnr c1 trm   \" ><div class=\"lbl c1 trm \" ><span class=\"nd\">comment </span> <span class=\"txtu\"><span class=\"plain   \" ><span class=\"plain \" ></span> </span></span></div><div class=\"features\"><span class=\"text \" title=\"text\">atf: lang qpc</span></div></div><div class=\"contnr c2    \" ><div class=\"lbl c2  \" ><span class=\"nd\">face </span> <span class=\"txtu\"><span title=\"type\">obverse</span></span></div><div class=\"children hor  \"><div class=\"contnr c3    \" ><div class=\"lbl c3  \" ><span class=\"nd\">column </span> <span class=\"txtu\"><span title=\"number\">1</span><span title=\"prime\"></span></span></div><div class=\"children ver  \"><div class=\"contnr c2    hl\" ><div class=\"lbl c2  hl\" ><span class=\"nd\">line </span> <span class=\"txtu\"><span title=\"number\">1</span></span></div><div class=\"features\"><span class=\"terminal xft\" ><span class=\"f\">terminal=</span>1</span></div><div class=\"children hor  \"><div class=\"contnr c0 trm   \" ><div class=\"lbl c0 trm \" ><span class=\"txtu\"><span title=\"atf\">5(N01)</span></span></div></div><div class=\"contnr c0 trm   \" ><div class=\"lbl c0 trm \" ><span class=\"txtu\"><span title=\"atf\">U2~a#</span></span></div></div><div class=\"contnr c1 cluster trm   \" ><div class=\"lbl c1 clusterb trm \" ><span class=\"nd\">cluster </span> <span class=\"txtu\"><span title=\"type\">?</span></span></div></div><div class=\"children hor wrap \"><div class=\"contnr c0 trm   \" ><div class=\"lbl c0 trm \" ><span class=\"txtu\"><span title=\"atf\">...</span></span></div></div></div><div class=\"contnr c1 cluster {}   \" ><div class=\"lbl c1 clustere trm \" ><span class=\"nd\">cluster </span> <span class=\"txtu\"><span title=\"type\">?</span></span></div> </div></div></div></div></div><div class=\"contnr c3    \" ><div class=\"lbl c3  \" ><span class=\"nd\">column </span> <span class=\"txtu\"><span title=\"number\">2</span><span title=\"prime\"></span></span></div><div class=\"children ver  \"><div class=\"contnr c2    \" ><div class=\"lbl c2  \" ><span class=\"nd\">line </span> <span class=\"txtu\"><span title=\"number\">1</span></span></div><div class=\"children hor  \"><div class=\"contnr c2    \" ><div class=\"lbl c2  \" ><span class=\"nd\">case </span> <span class=\"txtu\"><span title=\"number\">1a</span><span title=\"prime\"></span></span></div><div class=\"features\"><span class=\"terminal xft\" ><span class=\"f\">terminal=</span>1</span></div><div class=\"children ver False \"><div class=\"contnr c0 trm   \" ><div class=\"lbl c0 trm \" ><span class=\"txtu\"><span title=\"atf\">1(N14)</span></span></div></div><div class=\"contnr c0 trm   \" ><div class=\"lbl c0 trm \" ><span class=\"txtu\"><span title=\"atf\">X</span></span></div></div><div class=\"contnr c0 trm   \" ><div class=\"lbl c0 trm \" ><span class=\"txtu\"><span title=\"atf\">X</span></span></div></div></div></div><div class=\"contnr c2    \" ><div class=\"lbl c2  \" ><span class=\"nd\">case </span> <span class=\"txtu\"><span title=\"number\">1b</span><span title=\"prime\"></span></span></div><div class=\"children ver False \"><div class=\"contnr c2    \" ><div class=\"lbl c2  \" ><span class=\"nd\">case </span> <span class=\"txtu\"><span title=\"number\">1b1</span><span title=\"prime\"></span></span></div><div class=\"features\"><span class=\"terminal xft\" ><span class=\"f\">terminal=</span>1</span></div><div class=\"children hor False \"><div class=\"contnr c1 cluster trm   \" ><div class=\"lbl c1 clusterb trm \" ><span class=\"nd\">cluster </span> <span class=\"txtu\"><span title=\"type\">?</span></span></div></div><div class=\"children hor wrap \"><div class=\"contnr c0 trm   \" ><div class=\"lbl c0 trm \" ><span class=\"txtu\"><span title=\"atf\">...</span></span></div></div></div><div class=\"contnr c1 cluster {}   \" ><div class=\"lbl c1 clustere trm \" ><span class=\"nd\">cluster </span> <span class=\"txtu\"><span title=\"type\">?</span></span></div> </div><div class=\"contnr c0 trm   \" ><div class=\"lbl c0 trm \" ><span class=\"txtu\"><span title=\"atf\">X</span></span></div></div><div class=\"contnr c1 cluster trm   \" ><div class=\"lbl c1 clusterb trm \" ><span class=\"nd\">cluster </span> <span class=\"txtu\"><span title=\"type\">?</span></span></div></div><div class=\"children hor wrap \"><div class=\"contnr c0 trm   \" ><div class=\"lbl c0 trm \" ><span class=\"txtu\"><span title=\"atf\">...</span></span></div></div></div><div class=\"contnr c1 cluster {}   \" ><div class=\"lbl c1 clustere trm \" ><span class=\"nd\">cluster </span> <span class=\"txtu\"><span title=\"type\">?</span></span></div> </div></div></div><div class=\"contnr c2    \" ><div class=\"lbl c2  \" ><span class=\"nd\">case </span> <span class=\"txtu\"><span title=\"number\">1b2</span><span title=\"prime\"></span></span></div><div class=\"features\"><span class=\"terminal xft\" ><span class=\"f\">terminal=</span>1</span></div><div class=\"children hor False \"><div class=\"contnr c0 trm   \" ><div class=\"lbl c0 trm \" ><span class=\"txtu\"><span title=\"atf\">I</span></span></div></div><div class=\"contnr c0 trm   \" ><div class=\"lbl c0 trm \" ><span class=\"txtu\"><span title=\"atf\">BU3</span></span></div></div></div></div></div></div></div></div><div class=\"contnr c2    hl\" ><div class=\"lbl c2  hl\" ><span class=\"nd\">line </span> <span class=\"txtu\"><span title=\"number\">2</span></span></div><div class=\"features\"><span class=\"terminal xft\" ><span class=\"f\">terminal=</span>1</span></div><div class=\"children hor  \"><div class=\"contnr c0 trm   \" ><div class=\"lbl c0 trm \" ><span class=\"txtu\"><span title=\"atf\">1(N01)</span></span></div></div><div class=\"contnr c0 trm   \" ><div class=\"lbl c0 trm \" ><span class=\"txtu\"><span title=\"atf\">X</span></span></div></div><div class=\"contnr c1 cluster trm   \" ><div class=\"lbl c1 clusterb trm \" ><span class=\"nd\">cluster </span> <span class=\"txtu\"><span title=\"type\">?</span></span></div></div><div class=\"children hor wrap \"><div class=\"contnr c0 trm   \" ><div class=\"lbl c0 trm \" ><span class=\"txtu\"><span title=\"atf\">...</span></span></div></div></div><div class=\"contnr c1 cluster {}   \" ><div class=\"lbl c1 clustere trm \" ><span class=\"nd\">cluster </span> <span class=\"txtu\"><span title=\"type\">?</span></span></div> </div></div></div></div></div><div class=\"contnr c3    \" ><div class=\"lbl c3  \" ><span class=\"nd\">column </span> <span class=\"txtu\"><span title=\"number\">3</span><span title=\"prime\"></span></span></div><div class=\"children ver  \"><div class=\"contnr c2    \" ><div class=\"lbl c2  \" ><span class=\"nd\">line </span> <span class=\"txtu\"><span title=\"number\">1</span></span></div><div class=\"children hor  \"><div class=\"contnr c2    \" ><div class=\"lbl c2  \" ><span class=\"nd\">case </span> <span class=\"txtu\"><span title=\"number\">1a</span><span title=\"prime\"></span></span></div><div class=\"features\"><span class=\"terminal xft\" ><span class=\"f\">terminal=</span>1</span></div><div class=\"children ver False \"><div class=\"contnr c0 trm   \" ><div class=\"lbl c0 trm \" ><span class=\"txtu\"><span title=\"atf\">3(N01)</span></span></div></div><div class=\"contnr c0 trm   \" ><div class=\"lbl c0 trm \" ><span class=\"txtu\"><span title=\"atf\">GA~a#</span></span></div></div><div class=\"contnr c0 trm   \" ><div class=\"lbl c0 trm \" ><span class=\"txtu\"><span title=\"atf\">AB2</span></span></div></div></div></div><div class=\"contnr c2    \" ><div class=\"lbl c2  \" ><span class=\"nd\">case </span> <span class=\"txtu\"><span title=\"number\">1b</span><span title=\"prime\"></span></span></div><div class=\"features\"><span class=\"terminal xft\" ><span class=\"f\">terminal=</span>1</span></div><div class=\"children ver False \"><div class=\"contnr c1 cluster trm   \" ><div class=\"lbl c1 clusterb trm \" ><span class=\"nd\">cluster </span> <span class=\"txtu\"><span title=\"type\">?</span></span></div></div><div class=\"children hor wrap \"><div class=\"contnr c0 trm   \" ><div class=\"lbl c0 trm \" ><span class=\"txtu\"><span title=\"atf\">...</span></span></div></div></div><div class=\"contnr c1 cluster {}   \" ><div class=\"lbl c1 clustere trm \" ><span class=\"nd\">cluster </span> <span class=\"txtu\"><span title=\"type\">?</span></span></div> </div><div class=\"contnr c0 trm   \" ><div class=\"lbl c0 trm \" ><span class=\"txtu\"><span title=\"atf\">GI</span></span></div></div><div class=\"contnr c0 trm   \" ><div class=\"lbl c0 trm \" ><span class=\"txtu\"><span title=\"atf\">3(N57)</span></span></div></div></div></div></div></div><div class=\"contnr c2    hl\" ><div class=\"lbl c2  hl\" ><span class=\"nd\">line </span> <span class=\"txtu\"><span title=\"number\">2</span></span></div><div class=\"features\"><span class=\"terminal xft\" ><span class=\"f\">terminal=</span>1</span></div><div class=\"children hor  \"><div class=\"contnr c0 trm   \" ><div class=\"lbl c0 trm \" ><span class=\"txtu\"><span title=\"atf\">1(N14)</span></span></div></div><div class=\"contnr c1 cluster trm   \" ><div class=\"lbl c1 clusterb trm \" ><span class=\"nd\">cluster </span> <span class=\"txtu\"><span title=\"type\">?</span></span></div></div><div class=\"children hor wrap \"><div class=\"contnr c0 trm   \" ><div class=\"lbl c0 trm \" ><span class=\"txtu\"><span title=\"atf\">...</span></span></div></div></div><div class=\"contnr c1 cluster {}   \" ><div class=\"lbl c1 clustere trm \" ><span class=\"nd\">cluster </span> <span class=\"txtu\"><span title=\"type\">?</span></span></div> </div><div class=\"contnr c0 trm   \" ><div class=\"lbl c0 trm \" ><span class=\"txtu\"><span title=\"atf\">SUHUR#</span></span></div></div><div class=\"contnr c1 cluster trm   \" ><div class=\"lbl c1 clusterb trm \" ><span class=\"nd\">cluster </span> <span class=\"txtu\"><span title=\"type\">?</span></span></div></div><div class=\"children hor wrap \"><div class=\"contnr c0 trm   \" ><div class=\"lbl c0 trm \" ><span class=\"txtu\"><span title=\"atf\">...</span></span></div></div></div><div class=\"contnr c1 cluster {}   \" ><div class=\"lbl c1 clustere trm \" ><span class=\"nd\">cluster </span> <span class=\"txtu\"><span title=\"type\">?</span></span></div> </div></div></div></div></div></div></div><div class=\"contnr c2    \" ><div class=\"lbl c2  \" ><span class=\"nd\">face </span> <span class=\"txtu\"><span title=\"type\">reverse</span></span></div><div class=\"children hor  \"><div class=\"contnr c3    \" ><div class=\"lbl c3  \" ><span class=\"nd\">column </span> <span class=\"txtu\"><span title=\"number\">1</span><span title=\"prime\"></span></span></div><div class=\"children ver  \"><div class=\"contnr c2    hl\" ><div class=\"lbl c2  hl\" ><span class=\"nd\">line </span> <span class=\"txtu\"><span title=\"number\">1</span></span></div><div class=\"features\"><span class=\"terminal xft\" ><span class=\"f\">terminal=</span>1</span></div><div class=\"children hor  \"><div class=\"contnr c0 trm   \" ><div class=\"lbl c0 trm \" ><span class=\"txtu\"><span title=\"atf\">5(N14)</span></span></div></div><div class=\"contnr c0 trm   \" ><div class=\"lbl c0 trm \" ><span class=\"txtu\"><span title=\"atf\">1(N01)</span></span></div></div><div class=\"contnr c1 cluster trm   \" ><div class=\"lbl c1 clusterb trm \" ><span class=\"nd\">cluster </span> <span class=\"txtu\"><span title=\"type\">?</span></span></div></div><div class=\"children hor wrap \"><div class=\"contnr c0 trm   \" ><div class=\"lbl c0 trm \" ><span class=\"txtu\"><span title=\"atf\">...</span></span></div></div></div><div class=\"contnr c1 cluster {}   \" ><div class=\"lbl c1 clustere trm \" ><span class=\"nd\">cluster </span> <span class=\"txtu\"><span title=\"type\">?</span></span></div> </div><div class=\"contnr c0 trm   \" ><div class=\"lbl c0 trm \" ><span class=\"txtu\"><span title=\"atf\">U2~a</span></span></div></div></div></div><div class=\"contnr c2    hl\" ><div class=\"lbl c2  hl\" ><span class=\"nd\">line </span> <span class=\"txtu\"><span title=\"number\">2</span></span></div><div class=\"features\"><span class=\"terminal xft\" ><span class=\"f\">terminal=</span>1</span></div><div class=\"children hor  \"><div class=\"contnr c1    \" ><div class=\"lbl c1  \" ><span class=\"nd\">quad </span></div><div class=\"children hor wrap \"><div class=\"contnr c0 trm   \" ><div class=\"lbl c0 trm \" ><span class=\"txtu\"><span title=\"atf\">GI</span></span></div></div><div class=\"op\">&</div><div class=\"contnr c0 trm   \" ><div class=\"lbl c0 trm \" ><span class=\"txtu\"><span title=\"atf\">GI</span></span></div></div></div></div><div class=\"contnr c0 trm   \" ><div class=\"lbl c0 trm \" ><span class=\"txtu\"><span title=\"atf\">GU7</span></span></div></div></div></div></div></div></div></div></div></div></div>"
      ],
      "text/plain": [
       "<IPython.core.display.HTML object>"
      ]
     },
     "metadata": {},
     "output_type": "display_data"
    }
   ],
   "source": [
    "A.show(results, showGraphics=False, condenseType=\"tablet\")"
   ]
  },
  {
   "cell_type": "markdown",
   "metadata": {},
   "source": [
    "In an other chapter of this tutorial, [steps](steps.ipynb) we encounter a grapheme with a double prime.\n",
    "There is only one, and we showed the tablet on which it occurs, without highlighting the grapheme in question.\n",
    "Now we can do the highlight:"
   ]
  },
  {
   "cell_type": "code",
   "execution_count": 19,
   "metadata": {
    "ExecuteTime": {
     "end_time": "2018-05-24T10:17:42.815595Z",
     "start_time": "2018-05-24T10:17:42.580015Z"
    }
   },
   "outputs": [
    {
     "name": "stdout",
     "output_type": "stream",
     "text": [
      "  0.04s 1 result\n"
     ]
    }
   ],
   "source": [
    "results = A.search(\n",
    "    \"\"\"\n",
    "sign prime=2\n",
    "\"\"\"\n",
    ")"
   ]
  },
  {
   "cell_type": "code",
   "execution_count": 20,
   "metadata": {},
   "outputs": [
    {
     "data": {
      "text/html": [
       "<p><b>tablet</b> <i>1</i>"
      ],
      "text/plain": [
       "<IPython.core.display.HTML object>"
      ]
     },
     "metadata": {},
     "output_type": "display_data"
    },
    {
     "data": {
      "text/html": [
       "<div class=\"tfsechead \"><span class=\"ltr\"><a target=\"_blank\" href=\"https://cdli.ucla.edu/search/search_results.php?SearchMode=Text&amp;ObjectID=P411604\" title=\"to CDLI main page for this tablet\" sec=\"P411604\">P411604</a></span></div><div class=\" children\"><div class=\"contnr c4    \" ><div class=\"lbl c4  \" ><span class=\"nd\">tablet </span> <span class=\"txtu\"><span class=\"tfsechead ltr\"><span class=\"ltr\">P411604</span></span></span></div><div class=\"features\"><span class=\"name \" title=\"name\">CUSAS 21, 074</span><span class=\"period \" title=\"period\">uruk-iii</span></div><div class=\"children ver  \"><div class=\"contnr c1 trm   \" ><div class=\"lbl c1 trm \" ><span class=\"nd\">comment </span> <span class=\"txtu\"><span class=\"plain   \" ><span class=\"plain \" ></span> </span></span></div><div class=\"features\"><span class=\"text \" title=\"text\">atf: lang qpc</span></div></div><div class=\"contnr c2    \" ><div class=\"lbl c2  \" ><span class=\"nd\">face </span> <span class=\"txtu\"><span title=\"type\">obverse</span></span></div><div class=\"children hor  \"><div class=\"contnr c3    \" ><div class=\"lbl c3  \" ><span class=\"nd\">column </span> <span class=\"txtu\"><span title=\"number\">1</span><span title=\"prime\"></span></span></div><div class=\"children ver  \"><div class=\"contnr c2    \" ><div class=\"lbl c2  \" ><span class=\"nd\">line </span> <span class=\"txtu\"><span title=\"number\">1</span></span></div><div class=\"children hor  \"><div class=\"contnr c0 trm   \" ><div class=\"lbl c0 trm \" ><span class=\"txtu\"><span title=\"atf\">1(N01)</span></span></div><div><a target=\"_blank\" href=\"https://cdli.ucla.edu/tools/SignLists/protocuneiform/archsigns/1(N01).jpg\" title=\"to higher resolution lineart on CDLI\"><img src=\"cdli-imagery/lineart-1(n01).jpg\" style=\"display: inline;max-width: 2em; max-height: 6em;\"  /></a></div></div><div class=\"contnr c0 trm   \" ><div class=\"lbl c0 trm \" ><span class=\"txtu\"><span title=\"atf\">AN</span></span></div><div><a target=\"_blank\" href=\"https://cdli.ucla.edu/tools/SignLists/protocuneiform/archsigns/AN.jpg\" title=\"to higher resolution lineart on CDLI\"><img src=\"cdli-imagery/lineart-an.jpg\" style=\"display: inline;max-width: 2em; max-height: 6em;\"  /></a></div></div><div class=\"contnr c0 trm   \" ><div class=\"lbl c0 trm \" ><span class=\"txtu\"><span title=\"atf\">NUNUZ~a1</span></span></div><div><a target=\"_blank\" href=\"https://cdli.ucla.edu/tools/SignLists/protocuneiform/archsigns/NUNUZ~a1.jpg\" title=\"to higher resolution lineart on CDLI\"><img src=\"cdli-imagery/lineart-nunuz-a1.jpg\" style=\"display: inline;max-width: 2em; max-height: 6em;\"  /></a></div></div><div class=\"contnr c0 trm   \" ><div class=\"lbl c0 trm \" ><span class=\"txtu\"><span title=\"atf\">ZATU788#</span></span></div><div><a target=\"_blank\" href=\"https://cdli.ucla.edu/tools/SignLists/protocuneiform/archsigns/ZATU788.jpg\" title=\"to higher resolution lineart on CDLI\"><img src=\"cdli-imagery/lineart-zatu788.jpg\" style=\"display: inline;max-width: 2em; max-height: 6em;\"  /></a></div></div></div></div><div class=\"contnr c2    \" ><div class=\"lbl c2  \" ><span class=\"nd\">line </span> <span class=\"txtu\"><span title=\"number\">2</span></span></div><div class=\"children hor  \"><div class=\"contnr c0 trm   \" ><div class=\"lbl c0 trm \" ><span class=\"txtu\"><span title=\"atf\">1(N01)</span></span></div><div><a target=\"_blank\" href=\"https://cdli.ucla.edu/tools/SignLists/protocuneiform/archsigns/1(N01).jpg\" title=\"to higher resolution lineart on CDLI\"><img src=\"cdli-imagery/lineart-1(n01).jpg\" style=\"display: inline;max-width: 2em; max-height: 6em;\"  /></a></div></div><div class=\"contnr c0 trm   \" ><div class=\"lbl c0 trm \" ><span class=\"txtu\"><span title=\"atf\">1(N39~a)</span></span></div><div><a target=\"_blank\" href=\"https://cdli.ucla.edu/tools/SignLists/protocuneiform/archsigns/1(N39~a).jpg\" title=\"to higher resolution lineart on CDLI\"><img src=\"cdli-imagery/lineart-1(n39-a).jpg\" style=\"display: inline;max-width: 2em; max-height: 6em;\"  /></a></div></div><div class=\"contnr c0 trm   \" ><div class=\"lbl c0 trm \" ><span class=\"txtu\"><span title=\"atf\">MUD</span></span></div><div><a target=\"_blank\" href=\"https://cdli.ucla.edu/tools/SignLists/protocuneiform/archsigns/MUD.jpg\" title=\"to higher resolution lineart on CDLI\"><img src=\"cdli-imagery/lineart-mud.jpg\" style=\"display: inline;max-width: 2em; max-height: 6em;\"  /></a></div></div><div class=\"contnr c0 trm   \" ><div class=\"lbl c0 trm \" ><span class=\"txtu\"><span title=\"atf\">NA~a#</span></span></div><div><a target=\"_blank\" href=\"https://cdli.ucla.edu/tools/SignLists/protocuneiform/archsigns/NA~a.jpg\" title=\"to higher resolution lineart on CDLI\"><img src=\"cdli-imagery/lineart-na-a.jpg\" style=\"display: inline;max-width: 2em; max-height: 6em;\"  /></a></div></div><div class=\"contnr c0 trm   \" ><div class=\"lbl c0 trm \" ><span class=\"txtu\"><span title=\"atf\">BU~a</span></span></div><div><a target=\"_blank\" href=\"https://cdli.ucla.edu/tools/SignLists/protocuneiform/archsigns/BU~a.jpg\" title=\"to higher resolution lineart on CDLI\"><img src=\"cdli-imagery/lineart-bu-a.jpg\" style=\"display: inline;max-width: 2em; max-height: 6em;\"  /></a></div></div></div></div><div class=\"contnr c2    \" ><div class=\"lbl c2  \" ><span class=\"nd\">line </span> <span class=\"txtu\"><span title=\"number\">3</span></span></div><div class=\"children hor  \"><div class=\"contnr c0 trm   \" ><div class=\"lbl c0 trm \" ><span class=\"txtu\"><span title=\"atf\">1(N01)</span></span></div><div><a target=\"_blank\" href=\"https://cdli.ucla.edu/tools/SignLists/protocuneiform/archsigns/1(N01).jpg\" title=\"to higher resolution lineart on CDLI\"><img src=\"cdli-imagery/lineart-1(n01).jpg\" style=\"display: inline;max-width: 2em; max-height: 6em;\"  /></a></div></div><div class=\"contnr c0 trm   \" ><div class=\"lbl c0 trm \" ><span class=\"txtu\"><span title=\"atf\">1(N39~a)</span></span></div><div><a target=\"_blank\" href=\"https://cdli.ucla.edu/tools/SignLists/protocuneiform/archsigns/1(N39~a).jpg\" title=\"to higher resolution lineart on CDLI\"><img src=\"cdli-imagery/lineart-1(n39-a).jpg\" style=\"display: inline;max-width: 2em; max-height: 6em;\"  /></a></div></div><div class=\"contnr c0 trm   \" ><div class=\"lbl c0 trm \" ><span class=\"txtu\"><span title=\"atf\">U4#</span></span></div><div><a target=\"_blank\" href=\"https://cdli.ucla.edu/tools/SignLists/protocuneiform/archsigns/U4.jpg\" title=\"to higher resolution lineart on CDLI\"><img src=\"cdli-imagery/lineart-u4.jpg\" style=\"display: inline;max-width: 2em; max-height: 6em;\"  /></a></div></div><div class=\"contnr c0 trm   \" ><div class=\"lbl c0 trm \" ><span class=\"txtu\"><span title=\"atf\">KU6~a</span></span></div><div><a target=\"_blank\" href=\"https://cdli.ucla.edu/tools/SignLists/protocuneiform/archsigns/KU6~a.jpg\" title=\"to higher resolution lineart on CDLI\"><img src=\"cdli-imagery/lineart-ku6-a.jpg\" style=\"display: inline;max-width: 2em; max-height: 6em;\"  /></a></div></div><div class=\"contnr c0 trm   \" ><div class=\"lbl c0 trm \" ><span class=\"txtu\"><span title=\"atf\">A</span></span></div><div><a target=\"_blank\" href=\"https://cdli.ucla.edu/tools/SignLists/protocuneiform/archsigns/A.jpg\" title=\"to higher resolution lineart on CDLI\"><img src=\"cdli-imagery/lineart-a.jpg\" style=\"display: inline;max-width: 2em; max-height: 6em;\"  /></a></div></div></div></div><div class=\"contnr c2    \" ><div class=\"lbl c2  \" ><span class=\"nd\">line </span> <span class=\"txtu\"><span title=\"number\">4</span></span></div><div class=\"children hor  \"><div class=\"contnr c0 trm   \" ><div class=\"lbl c0 trm \" ><span class=\"txtu\"><span title=\"atf\">1(N01)</span></span></div><div><a target=\"_blank\" href=\"https://cdli.ucla.edu/tools/SignLists/protocuneiform/archsigns/1(N01).jpg\" title=\"to higher resolution lineart on CDLI\"><img src=\"cdli-imagery/lineart-1(n01).jpg\" style=\"display: inline;max-width: 2em; max-height: 6em;\"  /></a></div></div><div class=\"contnr c0 trm   \" ><div class=\"lbl c0 trm \" ><span class=\"txtu\"><span title=\"atf\">1(N39~a)</span></span></div><div><a target=\"_blank\" href=\"https://cdli.ucla.edu/tools/SignLists/protocuneiform/archsigns/1(N39~a).jpg\" title=\"to higher resolution lineart on CDLI\"><img src=\"cdli-imagery/lineart-1(n39-a).jpg\" style=\"display: inline;max-width: 2em; max-height: 6em;\"  /></a></div></div><div class=\"contnr c0 trm   \" ><div class=\"lbl c0 trm \" ><span class=\"txtu\"><span title=\"atf\">AB~a</span></span></div><div><a target=\"_blank\" href=\"https://cdli.ucla.edu/tools/SignLists/protocuneiform/archsigns/AB~a.jpg\" title=\"to higher resolution lineart on CDLI\"><img src=\"cdli-imagery/lineart-ab-a.jpg\" style=\"display: inline;max-width: 2em; max-height: 6em;\"  /></a></div></div><div class=\"contnr c0 trm   \" ><div class=\"lbl c0 trm \" ><span class=\"txtu\"><span title=\"atf\">SZE~a</span></span></div><div><a target=\"_blank\" href=\"https://cdli.ucla.edu/tools/SignLists/protocuneiform/archsigns/SZE~a.jpg\" title=\"to higher resolution lineart on CDLI\"><img src=\"cdli-imagery/lineart-sze-a.jpg\" style=\"display: inline;max-width: 2em; max-height: 6em;\"  /></a></div></div></div></div><div class=\"contnr c2    \" ><div class=\"lbl c2  \" ><span class=\"nd\">line </span> <span class=\"txtu\"><span title=\"number\">5</span></span></div><div class=\"children hor  \"><div class=\"contnr c0 trm   \" ><div class=\"lbl c0 trm \" ><span class=\"txtu\"><span title=\"atf\">3(N01)</span></span></div><div><a target=\"_blank\" href=\"https://cdli.ucla.edu/tools/SignLists/protocuneiform/archsigns/3(N01).jpg\" title=\"to higher resolution lineart on CDLI\"><img src=\"cdli-imagery/lineart-3(n01).jpg\" style=\"display: inline;max-width: 2em; max-height: 6em;\"  /></a></div></div><div class=\"contnr c0 trm   \" ><div class=\"lbl c0 trm \" ><span class=\"txtu\"><span title=\"atf\">BAHAR2~b</span></span></div><div><a target=\"_blank\" href=\"https://cdli.ucla.edu/tools/SignLists/protocuneiform/archsigns/BAHAR2~b.jpg\" title=\"to higher resolution lineart on CDLI\"><img src=\"cdli-imagery/lineart-bahar2-b.jpg\" style=\"display: inline;max-width: 2em; max-height: 6em;\"  /></a></div></div></div></div><div class=\"contnr c2    \" ><div class=\"lbl c2  \" ><span class=\"nd\">line </span> <span class=\"txtu\"><span title=\"number\">6</span></span></div><div class=\"children hor  \"><div class=\"contnr c0 trm   \" ><div class=\"lbl c0 trm \" ><span class=\"txtu\"><span title=\"atf\">2(N01)</span></span></div><div><a target=\"_blank\" href=\"https://cdli.ucla.edu/tools/SignLists/protocuneiform/archsigns/2(N01).jpg\" title=\"to higher resolution lineart on CDLI\"><img src=\"cdli-imagery/lineart-2(n01).jpg\" style=\"display: inline;max-width: 2em; max-height: 6em;\"  /></a></div></div><div class=\"contnr c1 cluster trm   \" ><div class=\"lbl c1 clusterb trm \" ><span class=\"nd\">cluster </span> <span class=\"txtu\"><span title=\"type\">?</span></span></div></div><div class=\"children hor wrap \"><div class=\"contnr c0 trm   \" ><div class=\"lbl c0 trm \" ><span class=\"txtu\"><span title=\"atf\">...</span></span></div></div></div><div class=\"contnr c1 cluster {}   \" ><div class=\"lbl c1 clustere trm \" ><span class=\"nd\">cluster </span> <span class=\"txtu\"><span title=\"type\">?</span></span></div> </div></div></div><div class=\"contnr c2    \" ><div class=\"lbl c2  \" ><span class=\"nd\">line </span> <span class=\"txtu\"><span title=\"number\">7</span></span></div><div class=\"children hor  \"><div class=\"contnr c0 trm   \" ><div class=\"lbl c0 trm \" ><span class=\"txtu\"><span title=\"atf\">2(N01)</span></span></div><div><a target=\"_blank\" href=\"https://cdli.ucla.edu/tools/SignLists/protocuneiform/archsigns/2(N01).jpg\" title=\"to higher resolution lineart on CDLI\"><img src=\"cdli-imagery/lineart-2(n01).jpg\" style=\"display: inline;max-width: 2em; max-height: 6em;\"  /></a></div></div><div class=\"contnr c1 cluster trm   \" ><div class=\"lbl c1 clusterb trm \" ><span class=\"nd\">cluster </span> <span class=\"txtu\"><span title=\"type\">?</span></span></div></div><div class=\"children hor wrap \"><div class=\"contnr c0 trm   \" ><div class=\"lbl c0 trm \" ><span class=\"txtu\"><span title=\"atf\">...</span></span></div></div></div><div class=\"contnr c1 cluster {}   \" ><div class=\"lbl c1 clustere trm \" ><span class=\"nd\">cluster </span> <span class=\"txtu\"><span title=\"type\">?</span></span></div> </div><div class=\"contnr c0 trm   \" ><div class=\"lbl c0 trm \" ><span class=\"txtu\"><span title=\"atf\">MUD#</span></span></div><div><a target=\"_blank\" href=\"https://cdli.ucla.edu/tools/SignLists/protocuneiform/archsigns/MUD.jpg\" title=\"to higher resolution lineart on CDLI\"><img src=\"cdli-imagery/lineart-mud.jpg\" style=\"display: inline;max-width: 2em; max-height: 6em;\"  /></a></div></div><div class=\"contnr c1 cluster trm   \" ><div class=\"lbl c1 clusterb trm \" ><span class=\"nd\">cluster </span> <span class=\"txtu\"><span title=\"type\">?</span></span></div></div><div class=\"children hor wrap \"><div class=\"contnr c0 trm   \" ><div class=\"lbl c0 trm \" ><span class=\"txtu\"><span title=\"atf\">NA~a</span></span></div><div><a target=\"_blank\" href=\"https://cdli.ucla.edu/tools/SignLists/protocuneiform/archsigns/NA~a.jpg\" title=\"to higher resolution lineart on CDLI\"><img src=\"cdli-imagery/lineart-na-a.jpg\" style=\"display: inline;max-width: 2em; max-height: 6em;\"  /></a></div></div></div><div class=\"contnr c1 cluster {}   \" ><div class=\"lbl c1 clustere trm \" ><span class=\"nd\">cluster </span> <span class=\"txtu\"><span title=\"type\">?</span></span></div> </div><div class=\"contnr c0 trm   \" ><div class=\"lbl c0 trm \" ><span class=\"txtu\"><span title=\"atf\">BU~a#</span></span></div><div><a target=\"_blank\" href=\"https://cdli.ucla.edu/tools/SignLists/protocuneiform/archsigns/BU~a.jpg\" title=\"to higher resolution lineart on CDLI\"><img src=\"cdli-imagery/lineart-bu-a.jpg\" style=\"display: inline;max-width: 2em; max-height: 6em;\"  /></a></div></div></div></div></div></div><div class=\"contnr c3    \" ><div class=\"lbl c3  \" ><span class=\"nd\">column </span> <span class=\"txtu\"><span title=\"number\">2</span><span title=\"prime\"></span></span></div><div class=\"children ver  \"><div class=\"contnr c2    \" ><div class=\"lbl c2  \" ><span class=\"nd\">line </span> <span class=\"txtu\"><span title=\"number\">1</span></span></div><div class=\"children hor  \"><div class=\"contnr c2    \" ><div class=\"lbl c2  \" ><span class=\"nd\">case </span> <span class=\"txtu\"><span title=\"number\">1a</span><span title=\"prime\"></span></span></div><div class=\"children ver False \"><div class=\"contnr c0 trm   \" ><div class=\"lbl c0 trm \" ><span class=\"txtu\"><span title=\"atf\">2(N01)</span></span></div><div><a target=\"_blank\" href=\"https://cdli.ucla.edu/tools/SignLists/protocuneiform/archsigns/2(N01).jpg\" title=\"to higher resolution lineart on CDLI\"><img src=\"cdli-imagery/lineart-2(n01).jpg\" style=\"display: inline;max-width: 2em; max-height: 6em;\"  /></a></div></div><div class=\"contnr c0 trm   \" ><div class=\"lbl c0 trm \" ><span class=\"txtu\"><span title=\"atf\">1(N57)</span></span></div><div><a target=\"_blank\" href=\"https://cdli.ucla.edu/tools/SignLists/protocuneiform/archsigns/1(N57).jpg\" title=\"to higher resolution lineart on CDLI\"><img src=\"cdli-imagery/lineart-1(n57).jpg\" style=\"display: inline;max-width: 2em; max-height: 6em;\"  /></a></div></div><div class=\"contnr c0 trm   \" ><div class=\"lbl c0 trm \" ><span class=\"txtu\"><span title=\"atf\">NIN</span></span></div><div><a target=\"_blank\" href=\"https://cdli.ucla.edu/tools/SignLists/protocuneiform/archsigns/NIN.jpg\" title=\"to higher resolution lineart on CDLI\"><img src=\"cdli-imagery/lineart-nin.jpg\" style=\"display: inline;max-width: 2em; max-height: 6em;\"  /></a></div></div></div></div><div class=\"contnr c2    \" ><div class=\"lbl c2  \" ><span class=\"nd\">case </span> <span class=\"txtu\"><span title=\"number\">1b</span><span title=\"prime\"></span></span></div><div class=\"children ver False \"><div class=\"contnr c0 trm   \" ><div class=\"lbl c0 trm \" ><span class=\"txtu\"><span title=\"atf\">1(N39~a)</span></span></div><div><a target=\"_blank\" href=\"https://cdli.ucla.edu/tools/SignLists/protocuneiform/archsigns/1(N39~a).jpg\" title=\"to higher resolution lineart on CDLI\"><img src=\"cdli-imagery/lineart-1(n39-a).jpg\" style=\"display: inline;max-width: 2em; max-height: 6em;\"  /></a></div></div><div class=\"contnr c0 trm   \" ><div class=\"lbl c0 trm \" ><span class=\"txtu\"><span title=\"atf\">TAR~a</span></span></div><div><a target=\"_blank\" href=\"https://cdli.ucla.edu/tools/SignLists/protocuneiform/archsigns/TAR~a.jpg\" title=\"to higher resolution lineart on CDLI\"><img src=\"cdli-imagery/lineart-tar-a.jpg\" style=\"display: inline;max-width: 2em; max-height: 6em;\"  /></a></div></div></div></div></div></div><div class=\"contnr c2    \" ><div class=\"lbl c2  \" ><span class=\"nd\">line </span> <span class=\"txtu\"><span title=\"number\">2</span></span></div><div class=\"children hor  \"><div class=\"contnr c2    \" ><div class=\"lbl c2  \" ><span class=\"nd\">case </span> <span class=\"txtu\"><span title=\"number\">2a</span><span title=\"prime\"></span></span></div><div class=\"children ver False \"><div class=\"contnr c0 trm   \" ><div class=\"lbl c0 trm \" ><span class=\"txtu\"><span title=\"atf\">4(N01)</span></span></div><div><a target=\"_blank\" href=\"https://cdli.ucla.edu/tools/SignLists/protocuneiform/archsigns/4(N01).jpg\" title=\"to higher resolution lineart on CDLI\"><img src=\"cdli-imagery/lineart-4(n01).jpg\" style=\"display: inline;max-width: 2em; max-height: 6em;\"  /></a></div></div><div class=\"contnr c0 trm   \" ><div class=\"lbl c0 trm \" ><span class=\"txtu\"><span title=\"atf\">ZATU694</span></span></div></div><div class=\"contnr c0 trm   \" ><div class=\"lbl c0 trm \" ><span class=\"txtu\"><span title=\"atf\">KU6~a</span></span></div><div><a target=\"_blank\" href=\"https://cdli.ucla.edu/tools/SignLists/protocuneiform/archsigns/KU6~a.jpg\" title=\"to higher resolution lineart on CDLI\"><img src=\"cdli-imagery/lineart-ku6-a.jpg\" style=\"display: inline;max-width: 2em; max-height: 6em;\"  /></a></div></div><div class=\"contnr c0 trm   \" ><div class=\"lbl c0 trm \" ><span class=\"txtu\"><span title=\"atf\">KISAL~b1</span></span></div><div><a target=\"_blank\" href=\"https://cdli.ucla.edu/tools/SignLists/protocuneiform/archsigns/KISAL~b1.jpg\" title=\"to higher resolution lineart on CDLI\"><img src=\"cdli-imagery/lineart-kisal-b1.jpg\" style=\"display: inline;max-width: 2em; max-height: 6em;\"  /></a></div></div></div></div><div class=\"contnr c2    \" ><div class=\"lbl c2  \" ><span class=\"nd\">case </span> <span class=\"txtu\"><span title=\"number\">2b</span><span title=\"prime\"></span></span></div><div class=\"children ver False \"><div class=\"contnr c0 trm   \" ><div class=\"lbl c0 trm \" ><span class=\"txtu\"><span title=\"atf\">2(N39~a)</span></span></div><div><a target=\"_blank\" href=\"https://cdli.ucla.edu/tools/SignLists/protocuneiform/archsigns/2(N39~a).jpg\" title=\"to higher resolution lineart on CDLI\"><img src=\"cdli-imagery/lineart-2(n39-a).jpg\" style=\"display: inline;max-width: 2em; max-height: 6em;\"  /></a></div></div><div class=\"contnr c0 trm   \" ><div class=\"lbl c0 trm \" ><span class=\"txtu\"><span title=\"atf\">TAR~a</span></span></div><div><a target=\"_blank\" href=\"https://cdli.ucla.edu/tools/SignLists/protocuneiform/archsigns/TAR~a.jpg\" title=\"to higher resolution lineart on CDLI\"><img src=\"cdli-imagery/lineart-tar-a.jpg\" style=\"display: inline;max-width: 2em; max-height: 6em;\"  /></a></div></div></div></div></div></div><div class=\"contnr c2    \" ><div class=\"lbl c2  \" ><span class=\"nd\">line </span> <span class=\"txtu\"><span title=\"number\">3</span></span></div><div class=\"children hor  \"><div class=\"contnr c0 trm   \" ><div class=\"lbl c0 trm \" ><span class=\"txtu\"><span title=\"atf\">1(N39~a)</span></span></div><div><a target=\"_blank\" href=\"https://cdli.ucla.edu/tools/SignLists/protocuneiform/archsigns/1(N39~a).jpg\" title=\"to higher resolution lineart on CDLI\"><img src=\"cdli-imagery/lineart-1(n39-a).jpg\" style=\"display: inline;max-width: 2em; max-height: 6em;\"  /></a></div></div><div class=\"contnr c0 trm   \" ><div class=\"lbl c0 trm \" ><span class=\"txtu\"><span title=\"atf\">AB~a</span></span></div><div><a target=\"_blank\" href=\"https://cdli.ucla.edu/tools/SignLists/protocuneiform/archsigns/AB~a.jpg\" title=\"to higher resolution lineart on CDLI\"><img src=\"cdli-imagery/lineart-ab-a.jpg\" style=\"display: inline;max-width: 2em; max-height: 6em;\"  /></a></div></div><div class=\"contnr c0 trm   \" ><div class=\"lbl c0 trm \" ><span class=\"txtu\"><span title=\"atf\">SZUBUR</span></span></div><div><a target=\"_blank\" href=\"https://cdli.ucla.edu/tools/SignLists/protocuneiform/archsigns/SZUBUR.jpg\" title=\"to higher resolution lineart on CDLI\"><img src=\"cdli-imagery/lineart-szubur.jpg\" style=\"display: inline;max-width: 2em; max-height: 6em;\"  /></a></div></div><div class=\"contnr c0 trm   \" ><div class=\"lbl c0 trm \" ><span class=\"txtu\"><span title=\"atf\">BULUG3</span></span></div><div><a target=\"_blank\" href=\"https://cdli.ucla.edu/tools/SignLists/protocuneiform/archsigns/BULUG3.jpg\" title=\"to higher resolution lineart on CDLI\"><img src=\"cdli-imagery/lineart-bulug3.jpg\" style=\"display: inline;max-width: 2em; max-height: 6em;\"  /></a></div></div><div class=\"contnr c0 trm   \" ><div class=\"lbl c0 trm \" ><span class=\"txtu\"><span title=\"atf\">SZE~a</span></span></div><div><a target=\"_blank\" href=\"https://cdli.ucla.edu/tools/SignLists/protocuneiform/archsigns/SZE~a.jpg\" title=\"to higher resolution lineart on CDLI\"><img src=\"cdli-imagery/lineart-sze-a.jpg\" style=\"display: inline;max-width: 2em; max-height: 6em;\"  /></a></div></div></div></div><div class=\"contnr c2    \" ><div class=\"lbl c2  \" ><span class=\"nd\">line </span> <span class=\"txtu\"><span title=\"number\">4</span></span></div><div class=\"children hor  \"><div class=\"contnr c0 trm   \" ><div class=\"lbl c0 trm \" ><span class=\"txtu\"><span title=\"atf\">GIBIL</span></span></div><div><a target=\"_blank\" href=\"https://cdli.ucla.edu/tools/SignLists/protocuneiform/archsigns/GIBIL.jpg\" title=\"to higher resolution lineart on CDLI\"><img src=\"cdli-imagery/lineart-gibil.jpg\" style=\"display: inline;max-width: 2em; max-height: 6em;\"  /></a></div></div><div class=\"contnr c0 trm   \" ><div class=\"lbl c0 trm \" ><span class=\"txtu\"><span title=\"atf\">GU7</span></span></div><div><a target=\"_blank\" href=\"https://cdli.ucla.edu/tools/SignLists/protocuneiform/archsigns/GU7.jpg\" title=\"to higher resolution lineart on CDLI\"><img src=\"cdli-imagery/lineart-gu7.jpg\" style=\"display: inline;max-width: 2em; max-height: 6em;\"  /></a></div></div></div></div><div class=\"contnr c2    \" ><div class=\"lbl c2  \" ><span class=\"nd\">line </span> <span class=\"txtu\"><span title=\"number\">5</span></span></div><div class=\"children hor  \"><div class=\"contnr c0 trm   \" ><div class=\"lbl c0 trm \" ><span class=\"txtu\"><span title=\"atf\">2(N04)</span></span></div><div><a target=\"_blank\" href=\"https://cdli.ucla.edu/tools/SignLists/protocuneiform/archsigns/2(N04).jpg\" title=\"to higher resolution lineart on CDLI\"><img src=\"cdli-imagery/lineart-2(n04).jpg\" style=\"display: inline;max-width: 2em; max-height: 6em;\"  /></a></div></div><div class=\"contnr c0 trm   \" ><div class=\"lbl c0 trm \" ><span class=\"txtu\"><span title=\"atf\">1(N41)</span></span></div><div><a target=\"_blank\" href=\"https://cdli.ucla.edu/tools/SignLists/protocuneiform/archsigns/1(N41).jpg\" title=\"to higher resolution lineart on CDLI\"><img src=\"cdli-imagery/lineart-1(n41).jpg\" style=\"display: inline;max-width: 2em; max-height: 6em;\"  /></a></div></div><div class=\"contnr c0 trm   \" ><div class=\"lbl c0 trm \" ><span class=\"txtu\"><span title=\"atf\">U4</span></span></div><div><a target=\"_blank\" href=\"https://cdli.ucla.edu/tools/SignLists/protocuneiform/archsigns/U4.jpg\" title=\"to higher resolution lineart on CDLI\"><img src=\"cdli-imagery/lineart-u4.jpg\" style=\"display: inline;max-width: 2em; max-height: 6em;\"  /></a></div></div></div></div><div class=\"contnr c2    \" ><div class=\"lbl c2  \" ><span class=\"nd\">line </span> <span class=\"txtu\"><span title=\"number\">6</span></span></div><div class=\"children hor  \"><div class=\"contnr c0 trm   \" ><div class=\"lbl c0 trm \" ><span class=\"txtu\"><span title=\"atf\">1(N19)</span></span></div><div><a target=\"_blank\" href=\"https://cdli.ucla.edu/tools/SignLists/protocuneiform/archsigns/1(N19).jpg\" title=\"to higher resolution lineart on CDLI\"><img src=\"cdli-imagery/lineart-1(n19).jpg\" style=\"display: inline;max-width: 2em; max-height: 6em;\"  /></a></div></div><div class=\"contnr c0 trm   \" ><div class=\"lbl c0 trm \" ><span class=\"txtu\"><span title=\"atf\">NAM~a</span></span></div><div><a target=\"_blank\" href=\"https://cdli.ucla.edu/tools/SignLists/protocuneiform/archsigns/NAM~a.jpg\" title=\"to higher resolution lineart on CDLI\"><img src=\"cdli-imagery/lineart-nam-a.jpg\" style=\"display: inline;max-width: 2em; max-height: 6em;\"  /></a></div></div><div class=\"contnr c0 trm   \" ><div class=\"lbl c0 trm \" ><span class=\"txtu\"><span title=\"atf\">NA2~a</span></span></div><div><a target=\"_blank\" href=\"https://cdli.ucla.edu/tools/SignLists/protocuneiform/archsigns/NA2~a.jpg\" title=\"to higher resolution lineart on CDLI\"><img src=\"cdli-imagery/lineart-na2-a.jpg\" style=\"display: inline;max-width: 2em; max-height: 6em;\"  /></a></div></div></div></div></div></div><div class=\"contnr c3    \" ><div class=\"lbl c3  \" ><span class=\"nd\">column </span> <span class=\"txtu\"><span title=\"number\">3</span><span title=\"prime\"></span></span></div><div class=\"children ver  \"><div class=\"contnr c2    \" ><div class=\"lbl c2  \" ><span class=\"nd\">line </span> <span class=\"txtu\"><span title=\"number\">1</span></span></div><div class=\"children hor  \"><div class=\"contnr c2    \" ><div class=\"lbl c2  \" ><span class=\"nd\">case </span> <span class=\"txtu\"><span title=\"number\">1a</span><span title=\"prime\"></span></span></div><div class=\"children ver False \"><div class=\"contnr c0 trm   \" ><div class=\"lbl c0 trm \" ><span class=\"txtu\"><span title=\"atf\">3(N01)</span></span></div><div><a target=\"_blank\" href=\"https://cdli.ucla.edu/tools/SignLists/protocuneiform/archsigns/3(N01).jpg\" title=\"to higher resolution lineart on CDLI\"><img src=\"cdli-imagery/lineart-3(n01).jpg\" style=\"display: inline;max-width: 2em; max-height: 6em;\"  /></a></div></div><div class=\"contnr c0 trm   \" ><div class=\"lbl c0 trm \" ><span class=\"txtu\"><span title=\"atf\">3(N57)</span></span></div><div><a target=\"_blank\" href=\"https://cdli.ucla.edu/tools/SignLists/protocuneiform/archsigns/3(N57).jpg\" title=\"to higher resolution lineart on CDLI\"><img src=\"cdli-imagery/lineart-3(n57).jpg\" style=\"display: inline;max-width: 2em; max-height: 6em;\"  /></a></div></div><div class=\"contnr c1 cluster trm   \" ><div class=\"lbl c1 clusterb trm \" ><span class=\"nd\">cluster </span> <span class=\"txtu\"><span title=\"type\">?</span></span></div></div><div class=\"children hor wrap \"><div class=\"contnr c0 trm   \" ><div class=\"lbl c0 trm \" ><span class=\"txtu\"><span title=\"atf\">...</span></span></div></div></div><div class=\"contnr c1 cluster {}   \" ><div class=\"lbl c1 clustere trm \" ><span class=\"nd\">cluster </span> <span class=\"txtu\"><span title=\"type\">?</span></span></div> </div></div></div><div class=\"contnr c2    \" ><div class=\"lbl c2  \" ><span class=\"nd\">case </span> <span class=\"txtu\"><span title=\"number\">1b</span><span title=\"prime\"></span></span></div><div class=\"children ver False \"><div class=\"contnr c0 trm   \" ><div class=\"lbl c0 trm \" ><span class=\"txtu\"><span title=\"atf\">2(N39~a)</span></span></div><div><a target=\"_blank\" href=\"https://cdli.ucla.edu/tools/SignLists/protocuneiform/archsigns/2(N39~a).jpg\" title=\"to higher resolution lineart on CDLI\"><img src=\"cdli-imagery/lineart-2(n39-a).jpg\" style=\"display: inline;max-width: 2em; max-height: 6em;\"  /></a></div></div><div class=\"contnr c0 trm   \" ><div class=\"lbl c0 trm \" ><span class=\"txtu\"><span title=\"atf\">1(N24)</span></span></div><div><a target=\"_blank\" href=\"https://cdli.ucla.edu/tools/SignLists/protocuneiform/archsigns/1(N24).jpg\" title=\"to higher resolution lineart on CDLI\"><img src=\"cdli-imagery/lineart-1(n24).jpg\" style=\"display: inline;max-width: 2em; max-height: 6em;\"  /></a></div></div><div class=\"contnr c1 cluster trm   \" ><div class=\"lbl c1 clusterb trm \" ><span class=\"nd\">cluster </span> <span class=\"txtu\"><span title=\"type\">?</span></span></div></div><div class=\"children hor wrap \"><div class=\"contnr c0 trm   \" ><div class=\"lbl c0 trm \" ><span class=\"txtu\"><span title=\"atf\">TAR~a</span></span></div><div><a target=\"_blank\" href=\"https://cdli.ucla.edu/tools/SignLists/protocuneiform/archsigns/TAR~a.jpg\" title=\"to higher resolution lineart on CDLI\"><img src=\"cdli-imagery/lineart-tar-a.jpg\" style=\"display: inline;max-width: 2em; max-height: 6em;\"  /></a></div></div></div><div class=\"contnr c1 cluster {}   \" ><div class=\"lbl c1 clustere trm \" ><span class=\"nd\">cluster </span> <span class=\"txtu\"><span title=\"type\">?</span></span></div> </div></div></div></div></div><div class=\"contnr c2    \" ><div class=\"lbl c2  \" ><span class=\"nd\">line </span> <span class=\"txtu\"><span title=\"number\">2</span></span></div><div class=\"children hor  \"><div class=\"contnr c0 trm   \" ><div class=\"lbl c0 trm \" ><span class=\"txtu\"><span title=\"atf\">1(N19)</span></span></div><div><a target=\"_blank\" href=\"https://cdli.ucla.edu/tools/SignLists/protocuneiform/archsigns/1(N19).jpg\" title=\"to higher resolution lineart on CDLI\"><img src=\"cdli-imagery/lineart-1(n19).jpg\" style=\"display: inline;max-width: 2em; max-height: 6em;\"  /></a></div></div><div class=\"contnr c0 trm   \" ><div class=\"lbl c0 trm \" ><span class=\"txtu\"><span title=\"atf\">AB~a</span></span></div><div><a target=\"_blank\" href=\"https://cdli.ucla.edu/tools/SignLists/protocuneiform/archsigns/AB~a.jpg\" title=\"to higher resolution lineart on CDLI\"><img src=\"cdli-imagery/lineart-ab-a.jpg\" style=\"display: inline;max-width: 2em; max-height: 6em;\"  /></a></div></div></div></div><div class=\"contnr c2    \" ><div class=\"lbl c2  \" ><span class=\"nd\">line </span> <span class=\"txtu\"><span title=\"number\">3</span></span></div><div class=\"children hor  \"><div class=\"contnr c2    \" ><div class=\"lbl c2  \" ><span class=\"nd\">case </span> <span class=\"txtu\"><span title=\"number\">3a</span><span title=\"prime\"></span></span></div><div class=\"children ver False \"><div class=\"contnr c0 trm   \" ><div class=\"lbl c0 trm \" ><span class=\"txtu\"><span title=\"atf\">1(N19)</span></span></div><div><a target=\"_blank\" href=\"https://cdli.ucla.edu/tools/SignLists/protocuneiform/archsigns/1(N19).jpg\" title=\"to higher resolution lineart on CDLI\"><img src=\"cdli-imagery/lineart-1(n19).jpg\" style=\"display: inline;max-width: 2em; max-height: 6em;\"  /></a></div></div><div class=\"contnr c0 trm   \" ><div class=\"lbl c0 trm \" ><span class=\"txtu\"><span title=\"atf\">1(N04)</span></span></div><div><a target=\"_blank\" href=\"https://cdli.ucla.edu/tools/SignLists/protocuneiform/archsigns/1(N04).jpg\" title=\"to higher resolution lineart on CDLI\"><img src=\"cdli-imagery/lineart-1(n04).jpg\" style=\"display: inline;max-width: 2em; max-height: 6em;\"  /></a></div></div><div class=\"contnr c0 trm   \" ><div class=\"lbl c0 trm \" ><span class=\"txtu\"><span title=\"atf\">AN</span></span></div><div><a target=\"_blank\" href=\"https://cdli.ucla.edu/tools/SignLists/protocuneiform/archsigns/AN.jpg\" title=\"to higher resolution lineart on CDLI\"><img src=\"cdli-imagery/lineart-an.jpg\" style=\"display: inline;max-width: 2em; max-height: 6em;\"  /></a></div></div><div class=\"contnr c0 trm   \" ><div class=\"lbl c0 trm \" ><span class=\"txtu\"><span title=\"atf\">NUNUZ~a1#</span></span></div><div><a target=\"_blank\" href=\"https://cdli.ucla.edu/tools/SignLists/protocuneiform/archsigns/NUNUZ~a1.jpg\" title=\"to higher resolution lineart on CDLI\"><img src=\"cdli-imagery/lineart-nunuz-a1.jpg\" style=\"display: inline;max-width: 2em; max-height: 6em;\"  /></a></div></div><div class=\"contnr c0 trm   \" ><div class=\"lbl c0 trm \" ><span class=\"txtu\"><span title=\"atf\">ZATU788</span></span></div><div><a target=\"_blank\" href=\"https://cdli.ucla.edu/tools/SignLists/protocuneiform/archsigns/ZATU788.jpg\" title=\"to higher resolution lineart on CDLI\"><img src=\"cdli-imagery/lineart-zatu788.jpg\" style=\"display: inline;max-width: 2em; max-height: 6em;\"  /></a></div></div><div class=\"contnr c0 trm   \" ><div class=\"lbl c0 trm \" ><span class=\"txtu\"><span title=\"atf\">X</span></span></div></div></div></div><div class=\"contnr c2    \" ><div class=\"lbl c2  \" ><span class=\"nd\">case </span> <span class=\"txtu\"><span title=\"number\">3b</span><span title=\"prime\"></span></span></div><div class=\"children ver False \"><div class=\"contnr c0 trm   \" ><div class=\"lbl c0 trm \" ><span class=\"txtu\"><span title=\"atf\">3(N41)</span></span></div><div><a target=\"_blank\" href=\"https://cdli.ucla.edu/tools/SignLists/protocuneiform/archsigns/3(N41).jpg\" title=\"to higher resolution lineart on CDLI\"><img src=\"cdli-imagery/lineart-3(n41).jpg\" style=\"display: inline;max-width: 2em; max-height: 6em;\"  /></a></div></div><div class=\"contnr c0 trm   hl\" ><div class=\"lbl c0 trm hl\" ><span class=\"txtu\"><span title=\"atf\">1(N24'')#</span></span></div><div class=\"features\"><span class=\"prime xft\" ><span class=\"f\">prime=</span>2</span></div></div><div class=\"contnr c1 cluster trm   \" ><div class=\"lbl c1 clusterb trm \" ><span class=\"nd\">cluster </span> <span class=\"txtu\"><span title=\"type\">?</span></span></div></div><div class=\"children hor wrap \"><div class=\"contnr c0 trm   \" ><div class=\"lbl c0 trm \" ><span class=\"txtu\"><span title=\"atf\">TAR~a</span></span></div><div><a target=\"_blank\" href=\"https://cdli.ucla.edu/tools/SignLists/protocuneiform/archsigns/TAR~a.jpg\" title=\"to higher resolution lineart on CDLI\"><img src=\"cdli-imagery/lineart-tar-a.jpg\" style=\"display: inline;max-width: 2em; max-height: 6em;\"  /></a></div></div></div><div class=\"contnr c1 cluster {}   \" ><div class=\"lbl c1 clustere trm \" ><span class=\"nd\">cluster </span> <span class=\"txtu\"><span title=\"type\">?</span></span></div> </div></div></div></div></div><div class=\"contnr c2    \" ><div class=\"lbl c2  \" ><span class=\"nd\">line </span> <span class=\"txtu\"><span title=\"number\">4</span></span></div><div class=\"children hor  \"><div class=\"contnr c0 trm   \" ><div class=\"lbl c0 trm \" ><span class=\"txtu\"><span title=\"atf\">GU7</span></span></div><div><a target=\"_blank\" href=\"https://cdli.ucla.edu/tools/SignLists/protocuneiform/archsigns/GU7.jpg\" title=\"to higher resolution lineart on CDLI\"><img src=\"cdli-imagery/lineart-gu7.jpg\" style=\"display: inline;max-width: 2em; max-height: 6em;\"  /></a></div></div></div></div></div></div></div></div><div class=\"contnr c2    \" ><div class=\"lbl c2  \" ><span class=\"nd\">face </span> <span class=\"txtu\"><span title=\"type\">reverse</span></span></div><div class=\"children hor  \"><div class=\"contnr c1 trm   \" ><div class=\"lbl c1 trm \" ><span class=\"nd\">comment </span> <span class=\"txtu\"><span class=\"plain   \" ><span class=\"plain \" ></span> </span></span></div><div class=\"features\"><span class=\"text \" title=\"text\">blank space</span></div></div><div class=\"contnr c0 trm   \" ><div class=\"lbl c0 trm \" ><span class=\"txtu\"><span title=\"atf\"></span></span></div></div></div></div></div></div></div>"
      ],
      "text/plain": [
       "<IPython.core.display.HTML object>"
      ]
     },
     "metadata": {},
     "output_type": "display_data"
    }
   ],
   "source": [
    "A.show(results)"
   ]
  },
  {
   "cell_type": "markdown",
   "metadata": {},
   "source": [
    "## Search for spatial patterns\n",
    "A few words on the construction of search templates.\n",
    "\n",
    "The idea is that you mimick the things you are looking for\n",
    "in your search template.\n",
    "Embedded things are mimicked by indentation.\n",
    "\n",
    "Let's search for a line with a case in it that is not further divided,\n",
    "in which there is a numeral and an ideograph.\n",
    "\n",
    "Here is our first attempt, and we show the first tablet only.\n",
    "Note that you can have comments in a search template.\n",
    "Lines that start with `#` are ignored."
   ]
  },
  {
   "cell_type": "code",
   "execution_count": 21,
   "metadata": {
    "ExecuteTime": {
     "end_time": "2018-05-24T10:17:46.856080Z",
     "start_time": "2018-05-24T10:17:46.284836Z"
    }
   },
   "outputs": [
    {
     "name": "stdout",
     "output_type": "stream",
     "text": [
      "  0.14s 10673 results\n"
     ]
    }
   ],
   "source": [
    "query = \"\"\"\n",
    "line\n",
    "  case terminal=1\n",
    "% order is not important\n",
    "    sign type=ideograph\n",
    "    sign type=numeral\n",
    "\"\"\"\n",
    "results = A.search(query)"
   ]
  },
  {
   "cell_type": "markdown",
   "metadata": {},
   "source": [
    "First a glance at the first 3 items in tabular view."
   ]
  },
  {
   "cell_type": "code",
   "execution_count": 22,
   "metadata": {
    "ExecuteTime": {
     "end_time": "2018-05-24T10:17:49.495993Z",
     "start_time": "2018-05-24T10:17:49.480690Z"
    }
   },
   "outputs": [
    {
     "data": {
      "text/html": [
       "<table><tr class=\"tf ltr\"><th class=\"tf ltr\">n</th><th class=\"tf ltr\">p</th><th class=\"tf ltr\">tablet</th><th class=\"tf\">sign</th><th class=\"tf\">sign</th><th class=\"tf\">sign</th><th class=\"tf\">line</th><th class=\"tf\">sign</th><th class=\"tf\">case</th><th class=\"tf\">sign</th><th class=\"tf\">sign</th><th class=\"tf\">case</th><th class=\"tf\">sign</th><th class=\"tf\">sign</th></tr>\n",
       "<tr class=\"tf ltr\"><td class=\"tf ltr\">1</td><td class=\"tf ltr\"><span class=\"tfsechead ltr\"><span class=\"ltr\"><a target=\"_blank\" href=\"https://cdli.ucla.edu/search/search_results.php?SearchMode=Text&amp;ObjectID=P448702\" title=\"to CDLI main page for this tablet\" sec=\"P448702 obverse:1:2\">P448702 obverse:1:2</a></span></span></td><td class=\"tf ltr\"><span class=\" ubd\"><span class=\"txtu \"><span class=\"tfsechead ltr\"><span class=\"ltr\">P448702</span></span></span></span></td><td class=\"tf ltr\"><span class=\" ubd\"><span class=\"plain   hl\" ><span class=\"plain hl\" >3(N01)</span> </span></span></td><td class=\"tf ltr\"><span class=\" ubd\"><span class=\"plain   hl\" ><span class=\"plain hl\" >KASZ~a</span> </span></span></td><td class=\"tf ltr\"><span class=\" ubd\"><span class=\"plain   hl\" ><span class=\"plain hl\" >GI</span> </span></span></td><td class=\"tf ltr\"><span class=\" ubd\"><span class=\"plain   hlbx\" ><span class=\"plain   hlbx\" ><span class=\"txtu \"><span title=\"number\">2a</span><span title=\"prime\">'</span></span><span class=\"plain \" >[<span class=\"plain hl\" >N</span>]</span> <span class=\"plain   hl\" ><span class=\"plain hl\" >2(N14)</span> </span><span class=\"plain   hl\" ><span class=\"plain hl\" >3(N01)</span> </span><span class=\"plain   hl\" ><span class=\"plain hl\" >KASZ~b</span> </span><span class=\"plain   hl\" ><span class=\"plain hl\" >NUN~a</span> </span></span><span class=\"plain   hlbx\" ><span class=\"txtu \"><span title=\"number\">2b</span><span title=\"prime\">'</span></span><span class=\"plain   hl\" ><span class=\"plain hl\" >3(N01)</span> </span><span class=\"plain   hl\" ><span class=\"plain hl\" >KASZ~a</span> </span><span class=\"plain   hl\" ><span class=\"plain hl\" >GI</span> </span></span></span></span></td><td class=\"tf ltr\"><span class=\" ubd\"><span class=\"plain   hl\" ><span class=\"plain hl\" >3(N01)</span> </span></span></td><td class=\"tf ltr\"><span class=\" ubd\"><span class=\"plain   hlbx\" ><span class=\"txtu \"><span title=\"number\">2b</span><span title=\"prime\">'</span></span><span class=\"plain   hl\" ><span class=\"plain hl\" >3(N01)</span> </span><span class=\"plain   hl\" ><span class=\"plain hl\" >KASZ~a</span> </span><span class=\"plain   hl\" ><span class=\"plain hl\" >GI</span> </span></span></span></td><td class=\"tf ltr\"><span class=\" ubd\"><span class=\"plain   hl\" ><span class=\"plain hl\" >N</span> </span></span></td><td class=\"tf ltr\"><span class=\" ubd\"><span class=\"plain   hl\" ><span class=\"plain hl\" >2(N14)</span> </span></span></td><td class=\"tf ltr\"><span class=\" ubd\"><span class=\"plain   hlbx\" ><span class=\"txtu \"><span title=\"number\">2a</span><span title=\"prime\">'</span></span><span class=\"plain \" >[<span class=\"plain hl\" >N</span>]</span> <span class=\"plain   hl\" ><span class=\"plain hl\" >2(N14)</span> </span><span class=\"plain   hl\" ><span class=\"plain hl\" >3(N01)</span> </span><span class=\"plain   hl\" ><span class=\"plain hl\" >KASZ~b</span> </span><span class=\"plain   hl\" ><span class=\"plain hl\" >NUN~a</span> </span></span></span></td><td class=\"tf ltr\"><span class=\" ubd\"><span class=\"plain   hl\" ><span class=\"plain hl\" >KASZ~b</span> </span></span></td><td class=\"tf ltr\"><span class=\" ubd\"><span class=\"plain   hl\" ><span class=\"plain hl\" >NUN~a</span> </span></span></td></tr>\n",
       "<tr class=\"tf ltr\"><td class=\"tf ltr\">2</td><td class=\"tf ltr\"><span class=\"tfsechead ltr\"><span class=\"ltr\"><a target=\"_blank\" href=\"https://cdli.ucla.edu/search/search_results.php?SearchMode=Text&amp;ObjectID=P471695\" title=\"to CDLI main page for this tablet\" sec=\"P471695 obverse:2:1\">P471695 obverse:2:1</a></span></span></td><td class=\"tf ltr\"><span class=\" ubd\"><span class=\"txtu \"><span class=\"tfsechead ltr\"><span class=\"ltr\">P471695</span></span></span></span></td><td class=\"tf ltr\"><span class=\" ubd\"><span class=\"plain   hlbx\" ><span class=\"txtu \"><span title=\"number\">2b1</span><span title=\"prime\"></span></span><span class=\"plain \" >(<span class=\"plain hl\" >3(N57)</span> <span class=\"plain hl\" >PAP~a</span>)a</span> </span></span></td><td class=\"tf ltr\"><span class=\" ubd\"><span class=\"plain   hl\" ><span class=\"plain hl\" >1(N01)</span> </span></span></td><td class=\"tf ltr\"><span class=\" ubd\"><span class=\"plain   hl\" ><span class=\"plain hl\" >ISZ~a</span> </span></span></td><td class=\"tf ltr\"><span class=\" ubd\"><span class=\"plain   hlbx\" ><span class=\"txtu \"><span title=\"number\">1a</span><span title=\"prime\"></span></span><span class=\"plain   hl\" ><span class=\"plain hl\" >1(N01)</span> </span><span class=\"plain   hl\" ><span class=\"plain hl\" >ISZ~a</span> </span></span></span></td><td class=\"tf ltr\"><span class=\" ubd\"><span class=\"plain   hl\" ><span class=\"plain hl\" >3(N01)</span> </span></span></td><td class=\"tf ltr\"><span class=\" ubd\"><span class=\"plain   hl\" ><span class=\"plain hl\" >APIN~a</span> </span></span></td><td class=\"tf ltr\"><span class=\" ubd\"><span class=\"plain   hl\" ><span class=\"plain hl\" >3(N57)</span> </span></span></td><td class=\"tf ltr\"><span class=\" ubd\"><span class=\"plain   hl\" ><span class=\"plain hl\" >UR4~a</span> </span></span></td><td class=\"tf ltr\"><span class=\" ubd\"><span class=\"plain   hlbx\" ><span class=\"plain   hlbx\" ><span class=\"txtu \"><span title=\"number\">1a</span><span title=\"prime\"></span></span><span class=\"plain   hl\" ><span class=\"plain hl\" >3(N01)</span> </span><span class=\"plain   hl\" ><span class=\"plain hl\" >APIN~a</span> </span><span class=\"plain   hl\" ><span class=\"plain hl\" >3(N57)</span> </span><span class=\"plain   hl\" ><span class=\"plain hl\" >UR4~a</span> </span></span><span class=\"txtu \"><span title=\"number\">1b</span><span title=\"prime\"></span></span><span class=\"txtu \"><span title=\"number\">1b1</span><span title=\"prime\"></span></span><span class=\"plain \" >(<span class=\"plain \" >EN~a</span> <span class=\"plain \" >DU</span> <span class=\"plain \" >ZATU759</span>)a</span> <span class=\"txtu \"><span title=\"number\">1b2</span><span title=\"prime\"></span></span><span class=\"plain \" >(<span class=\"plain \" >BAN~b</span> <span class=\"plain \" >KASZ~c</span>)a</span> <span class=\"txtu \"><span title=\"number\">1b3</span><span title=\"prime\"></span></span><span class=\"plain \" >(<span class=\"plain \" >KI@n</span> <span class=\"plain \" >SAG</span>)a</span> </span></span></td><td class=\"tf ltr\"><span class=\" ubd\"><span class=\"plain   hlbx\" ><span class=\"txtu \"><span title=\"number\">2a</span><span title=\"prime\"></span></span><span class=\"plain \" >1(N14)</span> <span class=\"plain \" >2(N01)</span> <span class=\"plain \" >[<span class=\"plain \" >...</span>]</span> <span class=\"txtu \"><span title=\"number\">2b</span><span title=\"prime\"></span></span><span class=\"plain   hlbx\" ><span class=\"txtu \"><span title=\"number\">2b1</span><span title=\"prime\"></span></span><span class=\"plain \" >(<span class=\"plain hl\" >3(N57)</span> <span class=\"plain hl\" >PAP~a</span>)a</span> </span><span class=\"txtu \"><span title=\"number\">2b2</span><span title=\"prime\"></span></span><span class=\"plain \" ></span> <span class=\"plain \" >(<span class=\"plain \" >SZU</span> <span class=\"plain \" >KI</span> <span class=\"plain \" >X</span>)a</span> <span class=\"txtu \"><span title=\"number\">2b3</span><span title=\"prime\">'</span></span><span class=\"plain \" >(<span class=\"plain \" >EN~a</span> <span class=\"plain \" >AN</span> <span class=\"plain \" >EZINU~d</span>)a</span> <span class=\"txtu \"><span title=\"number\">2b4</span><span title=\"prime\">'</span></span><span class=\"plain \" ></span> <span class=\"plain \" ></span> <span class=\"plain \" >(<span class=\"plain \" >IDIGNA</span> <span class=\"plain \" >[<span class=\"plain \" >...</span>]</span>)a</span> </span></span></td><td class=\"tf ltr\"><span class=\" ubd\"><span class=\"plain   hlbx\" ><span class=\"plain   hlbx\" ><span class=\"txtu \"><span title=\"number\">1a</span><span title=\"prime\"></span></span><span class=\"plain   hl\" ><span class=\"plain hl\" >1(N01)</span> </span><span class=\"plain   hl\" ><span class=\"plain hl\" >ISZ~a</span> </span></span><span class=\"txtu \"><span title=\"number\">1b</span><span title=\"prime\"></span></span><span class=\"txtu \"><span title=\"number\">1b1</span><span title=\"prime\"></span></span><span class=\"plain \" ></span> <span class=\"plain \" ></span> <span class=\"plain \" >(<span class=\"plain \" >PAP~a</span> <span class=\"plain \" >GIR3~c</span>)a</span> </span></span></td><td class=\"tf ltr\"><span class=\" ubd\"><span class=\"plain   hl\" ><span class=\"plain hl\" >3(N57)</span> </span></span></td><td class=\"tf ltr\"><span class=\" ubd\"><span class=\"plain   hl\" ><span class=\"plain hl\" >PAP~a</span> </span></span></td><td class=\"tf ltr\"><span class=\" ubd\"><span class=\"plain   hlbx\" ><span class=\"txtu \"><span title=\"number\">1a</span><span title=\"prime\"></span></span><span class=\"plain   hl\" ><span class=\"plain hl\" >3(N01)</span> </span><span class=\"plain   hl\" ><span class=\"plain hl\" >APIN~a</span> </span><span class=\"plain   hl\" ><span class=\"plain hl\" >3(N57)</span> </span><span class=\"plain   hl\" ><span class=\"plain hl\" >UR4~a</span> </span></span></span></td></tr></table>"
      ],
      "text/plain": [
       "<IPython.core.display.HTML object>"
      ]
     },
     "metadata": {},
     "output_type": "display_data"
    }
   ],
   "source": [
    "A.table(results, end=2, showGraphics=False)"
   ]
  },
  {
   "cell_type": "markdown",
   "metadata": {},
   "source": [
    "Ah, we were still in condensed mode.\n",
    "\n",
    "For this query the table is more perspicuous in normal mode, so we tell not to condense."
   ]
  },
  {
   "cell_type": "code",
   "execution_count": 23,
   "metadata": {
    "ExecuteTime": {
     "end_time": "2018-05-24T10:17:49.495993Z",
     "start_time": "2018-05-24T10:17:49.480690Z"
    }
   },
   "outputs": [
    {
     "data": {
      "text/html": [
       "<table><tr class=\"tf ltr\"><th class=\"tf ltr\">n</th><th class=\"tf ltr\">p</th><th class=\"tf ltr\">line</th><th class=\"tf\">case</th><th class=\"tf\">sign</th><th class=\"tf\">sign</th></tr>\n",
       "<tr class=\"tf ltr\"><td class=\"tf ltr\">1</td><td class=\"tf ltr\"><span class=\"tfsechead ltr\"><span class=\"ltr\"><a target=\"_blank\" href=\"https://cdli.ucla.edu/search/search_results.php?SearchMode=Text&amp;ObjectID=P448702\" title=\"to CDLI main page for this tablet\" sec=\"P448702 obverse:1:2\">P448702 obverse:1:2</a></span></span></td><td class=\"tf ltr\"><span class=\" ubd\"><span class=\"plain   hlbx\" ><span class=\"plain   hlbx\" ><span class=\"txtu \"><span title=\"number\">2a</span><span title=\"prime\">'</span></span><span class=\"plain \" >[<span class=\"plain hl\" >N</span>]</span> <span class=\"plain \" >2(N14)</span> <span class=\"plain \" >3(N01)</span> <span class=\"plain   hl\" ><span class=\"plain hl\" >KASZ~b</span> </span><span class=\"plain \" >NUN~a</span> </span><span class=\"txtu \"><span title=\"number\">2b</span><span title=\"prime\">'</span></span><span class=\"plain \" >3(N01)</span> <span class=\"plain \" >KASZ~a</span> <span class=\"plain \" >GI</span> </span></span></td><td class=\"tf ltr\"><span class=\" ubd\"><span class=\"plain   hlbx\" ><span class=\"txtu \"><span title=\"number\">2a</span><span title=\"prime\">'</span></span><span class=\"plain \" >[<span class=\"plain hl\" >N</span>]</span> <span class=\"plain \" >2(N14)</span> <span class=\"plain \" >3(N01)</span> <span class=\"plain   hl\" ><span class=\"plain hl\" >KASZ~b</span> </span><span class=\"plain \" >NUN~a</span> </span></span></td><td class=\"tf ltr\"><span class=\" ubd\"><span class=\"plain   hl\" ><span class=\"plain hl\" >KASZ~b</span> </span></span></td><td class=\"tf ltr\"><span class=\" ubd\"><span class=\"plain   hl\" ><span class=\"plain hl\" >N</span> </span></span></td></tr>\n",
       "<tr class=\"tf ltr\"><td class=\"tf ltr\">2</td><td class=\"tf ltr\"><span class=\"tfsechead ltr\"><span class=\"ltr\"><a target=\"_blank\" href=\"https://cdli.ucla.edu/search/search_results.php?SearchMode=Text&amp;ObjectID=P448702\" title=\"to CDLI main page for this tablet\" sec=\"P448702 obverse:1:2\">P448702 obverse:1:2</a></span></span></td><td class=\"tf ltr\"><span class=\" ubd\"><span class=\"plain   hlbx\" ><span class=\"plain   hlbx\" ><span class=\"txtu \"><span title=\"number\">2a</span><span title=\"prime\">'</span></span><span class=\"plain \" >[<span class=\"plain \" >N</span>]</span> <span class=\"plain   hl\" ><span class=\"plain hl\" >2(N14)</span> </span><span class=\"plain \" >3(N01)</span> <span class=\"plain   hl\" ><span class=\"plain hl\" >KASZ~b</span> </span><span class=\"plain \" >NUN~a</span> </span><span class=\"txtu \"><span title=\"number\">2b</span><span title=\"prime\">'</span></span><span class=\"plain \" >3(N01)</span> <span class=\"plain \" >KASZ~a</span> <span class=\"plain \" >GI</span> </span></span></td><td class=\"tf ltr\"><span class=\" ubd\"><span class=\"plain   hlbx\" ><span class=\"txtu \"><span title=\"number\">2a</span><span title=\"prime\">'</span></span><span class=\"plain \" >[<span class=\"plain \" >N</span>]</span> <span class=\"plain   hl\" ><span class=\"plain hl\" >2(N14)</span> </span><span class=\"plain \" >3(N01)</span> <span class=\"plain   hl\" ><span class=\"plain hl\" >KASZ~b</span> </span><span class=\"plain \" >NUN~a</span> </span></span></td><td class=\"tf ltr\"><span class=\" ubd\"><span class=\"plain   hl\" ><span class=\"plain hl\" >KASZ~b</span> </span></span></td><td class=\"tf ltr\"><span class=\" ubd\"><span class=\"plain   hl\" ><span class=\"plain hl\" >2(N14)</span> </span></span></td></tr>\n",
       "<tr class=\"tf ltr\"><td class=\"tf ltr\">3</td><td class=\"tf ltr\"><span class=\"tfsechead ltr\"><span class=\"ltr\"><a target=\"_blank\" href=\"https://cdli.ucla.edu/search/search_results.php?SearchMode=Text&amp;ObjectID=P448702\" title=\"to CDLI main page for this tablet\" sec=\"P448702 obverse:1:2\">P448702 obverse:1:2</a></span></span></td><td class=\"tf ltr\"><span class=\" ubd\"><span class=\"plain   hlbx\" ><span class=\"plain   hlbx\" ><span class=\"txtu \"><span title=\"number\">2a</span><span title=\"prime\">'</span></span><span class=\"plain \" >[<span class=\"plain \" >N</span>]</span> <span class=\"plain \" >2(N14)</span> <span class=\"plain   hl\" ><span class=\"plain hl\" >3(N01)</span> </span><span class=\"plain   hl\" ><span class=\"plain hl\" >KASZ~b</span> </span><span class=\"plain \" >NUN~a</span> </span><span class=\"txtu \"><span title=\"number\">2b</span><span title=\"prime\">'</span></span><span class=\"plain \" >3(N01)</span> <span class=\"plain \" >KASZ~a</span> <span class=\"plain \" >GI</span> </span></span></td><td class=\"tf ltr\"><span class=\" ubd\"><span class=\"plain   hlbx\" ><span class=\"txtu \"><span title=\"number\">2a</span><span title=\"prime\">'</span></span><span class=\"plain \" >[<span class=\"plain \" >N</span>]</span> <span class=\"plain \" >2(N14)</span> <span class=\"plain   hl\" ><span class=\"plain hl\" >3(N01)</span> </span><span class=\"plain   hl\" ><span class=\"plain hl\" >KASZ~b</span> </span><span class=\"plain \" >NUN~a</span> </span></span></td><td class=\"tf ltr\"><span class=\" ubd\"><span class=\"plain   hl\" ><span class=\"plain hl\" >KASZ~b</span> </span></span></td><td class=\"tf ltr\"><span class=\" ubd\"><span class=\"plain   hl\" ><span class=\"plain hl\" >3(N01)</span> </span></span></td></tr>\n",
       "<tr class=\"tf ltr\"><td class=\"tf ltr\">4</td><td class=\"tf ltr\"><span class=\"tfsechead ltr\"><span class=\"ltr\"><a target=\"_blank\" href=\"https://cdli.ucla.edu/search/search_results.php?SearchMode=Text&amp;ObjectID=P448702\" title=\"to CDLI main page for this tablet\" sec=\"P448702 obverse:1:2\">P448702 obverse:1:2</a></span></span></td><td class=\"tf ltr\"><span class=\" ubd\"><span class=\"plain   hlbx\" ><span class=\"plain   hlbx\" ><span class=\"txtu \"><span title=\"number\">2a</span><span title=\"prime\">'</span></span><span class=\"plain \" >[<span class=\"plain hl\" >N</span>]</span> <span class=\"plain \" >2(N14)</span> <span class=\"plain \" >3(N01)</span> <span class=\"plain \" >KASZ~b</span> <span class=\"plain   hl\" ><span class=\"plain hl\" >NUN~a</span> </span></span><span class=\"txtu \"><span title=\"number\">2b</span><span title=\"prime\">'</span></span><span class=\"plain \" >3(N01)</span> <span class=\"plain \" >KASZ~a</span> <span class=\"plain \" >GI</span> </span></span></td><td class=\"tf ltr\"><span class=\" ubd\"><span class=\"plain   hlbx\" ><span class=\"txtu \"><span title=\"number\">2a</span><span title=\"prime\">'</span></span><span class=\"plain \" >[<span class=\"plain hl\" >N</span>]</span> <span class=\"plain \" >2(N14)</span> <span class=\"plain \" >3(N01)</span> <span class=\"plain \" >KASZ~b</span> <span class=\"plain   hl\" ><span class=\"plain hl\" >NUN~a</span> </span></span></span></td><td class=\"tf ltr\"><span class=\" ubd\"><span class=\"plain   hl\" ><span class=\"plain hl\" >NUN~a</span> </span></span></td><td class=\"tf ltr\"><span class=\" ubd\"><span class=\"plain   hl\" ><span class=\"plain hl\" >N</span> </span></span></td></tr>\n",
       "<tr class=\"tf ltr\"><td class=\"tf ltr\">5</td><td class=\"tf ltr\"><span class=\"tfsechead ltr\"><span class=\"ltr\"><a target=\"_blank\" href=\"https://cdli.ucla.edu/search/search_results.php?SearchMode=Text&amp;ObjectID=P448702\" title=\"to CDLI main page for this tablet\" sec=\"P448702 obverse:1:2\">P448702 obverse:1:2</a></span></span></td><td class=\"tf ltr\"><span class=\" ubd\"><span class=\"plain   hlbx\" ><span class=\"plain   hlbx\" ><span class=\"txtu \"><span title=\"number\">2a</span><span title=\"prime\">'</span></span><span class=\"plain \" >[<span class=\"plain \" >N</span>]</span> <span class=\"plain   hl\" ><span class=\"plain hl\" >2(N14)</span> </span><span class=\"plain \" >3(N01)</span> <span class=\"plain \" >KASZ~b</span> <span class=\"plain   hl\" ><span class=\"plain hl\" >NUN~a</span> </span></span><span class=\"txtu \"><span title=\"number\">2b</span><span title=\"prime\">'</span></span><span class=\"plain \" >3(N01)</span> <span class=\"plain \" >KASZ~a</span> <span class=\"plain \" >GI</span> </span></span></td><td class=\"tf ltr\"><span class=\" ubd\"><span class=\"plain   hlbx\" ><span class=\"txtu \"><span title=\"number\">2a</span><span title=\"prime\">'</span></span><span class=\"plain \" >[<span class=\"plain \" >N</span>]</span> <span class=\"plain   hl\" ><span class=\"plain hl\" >2(N14)</span> </span><span class=\"plain \" >3(N01)</span> <span class=\"plain \" >KASZ~b</span> <span class=\"plain   hl\" ><span class=\"plain hl\" >NUN~a</span> </span></span></span></td><td class=\"tf ltr\"><span class=\" ubd\"><span class=\"plain   hl\" ><span class=\"plain hl\" >NUN~a</span> </span></span></td><td class=\"tf ltr\"><span class=\" ubd\"><span class=\"plain   hl\" ><span class=\"plain hl\" >2(N14)</span> </span></span></td></tr>\n",
       "<tr class=\"tf ltr\"><td class=\"tf ltr\">6</td><td class=\"tf ltr\"><span class=\"tfsechead ltr\"><span class=\"ltr\"><a target=\"_blank\" href=\"https://cdli.ucla.edu/search/search_results.php?SearchMode=Text&amp;ObjectID=P448702\" title=\"to CDLI main page for this tablet\" sec=\"P448702 obverse:1:2\">P448702 obverse:1:2</a></span></span></td><td class=\"tf ltr\"><span class=\" ubd\"><span class=\"plain   hlbx\" ><span class=\"plain   hlbx\" ><span class=\"txtu \"><span title=\"number\">2a</span><span title=\"prime\">'</span></span><span class=\"plain \" >[<span class=\"plain \" >N</span>]</span> <span class=\"plain \" >2(N14)</span> <span class=\"plain   hl\" ><span class=\"plain hl\" >3(N01)</span> </span><span class=\"plain \" >KASZ~b</span> <span class=\"plain   hl\" ><span class=\"plain hl\" >NUN~a</span> </span></span><span class=\"txtu \"><span title=\"number\">2b</span><span title=\"prime\">'</span></span><span class=\"plain \" >3(N01)</span> <span class=\"plain \" >KASZ~a</span> <span class=\"plain \" >GI</span> </span></span></td><td class=\"tf ltr\"><span class=\" ubd\"><span class=\"plain   hlbx\" ><span class=\"txtu \"><span title=\"number\">2a</span><span title=\"prime\">'</span></span><span class=\"plain \" >[<span class=\"plain \" >N</span>]</span> <span class=\"plain \" >2(N14)</span> <span class=\"plain   hl\" ><span class=\"plain hl\" >3(N01)</span> </span><span class=\"plain \" >KASZ~b</span> <span class=\"plain   hl\" ><span class=\"plain hl\" >NUN~a</span> </span></span></span></td><td class=\"tf ltr\"><span class=\" ubd\"><span class=\"plain   hl\" ><span class=\"plain hl\" >NUN~a</span> </span></span></td><td class=\"tf ltr\"><span class=\" ubd\"><span class=\"plain   hl\" ><span class=\"plain hl\" >3(N01)</span> </span></span></td></tr>\n",
       "<tr class=\"tf ltr\"><td class=\"tf ltr\">7</td><td class=\"tf ltr\"><span class=\"tfsechead ltr\"><span class=\"ltr\"><a target=\"_blank\" href=\"https://cdli.ucla.edu/search/search_results.php?SearchMode=Text&amp;ObjectID=P448702\" title=\"to CDLI main page for this tablet\" sec=\"P448702 obverse:1:2\">P448702 obverse:1:2</a></span></span></td><td class=\"tf ltr\"><span class=\" ubd\"><span class=\"plain   hlbx\" ><span class=\"txtu \"><span title=\"number\">2a</span><span title=\"prime\">'</span></span><span class=\"plain \" >[<span class=\"plain \" >N</span>]</span> <span class=\"plain \" >2(N14)</span> <span class=\"plain \" >3(N01)</span> <span class=\"plain \" >KASZ~b</span> <span class=\"plain \" >NUN~a</span> <span class=\"plain   hlbx\" ><span class=\"txtu \"><span title=\"number\">2b</span><span title=\"prime\">'</span></span><span class=\"plain   hl\" ><span class=\"plain hl\" >3(N01)</span> </span><span class=\"plain   hl\" ><span class=\"plain hl\" >KASZ~a</span> </span><span class=\"plain \" >GI</span> </span></span></span></td><td class=\"tf ltr\"><span class=\" ubd\"><span class=\"plain   hlbx\" ><span class=\"txtu \"><span title=\"number\">2b</span><span title=\"prime\">'</span></span><span class=\"plain   hl\" ><span class=\"plain hl\" >3(N01)</span> </span><span class=\"plain   hl\" ><span class=\"plain hl\" >KASZ~a</span> </span><span class=\"plain \" >GI</span> </span></span></td><td class=\"tf ltr\"><span class=\" ubd\"><span class=\"plain   hl\" ><span class=\"plain hl\" >KASZ~a</span> </span></span></td><td class=\"tf ltr\"><span class=\" ubd\"><span class=\"plain   hl\" ><span class=\"plain hl\" >3(N01)</span> </span></span></td></tr></table>"
      ],
      "text/plain": [
       "<IPython.core.display.HTML object>"
      ]
     },
     "metadata": {},
     "output_type": "display_data"
    }
   ],
   "source": [
    "A.table(results, condensed=False, end=7, showGraphics=False)"
   ]
  },
  {
   "cell_type": "markdown",
   "metadata": {},
   "source": [
    "Now the results on the first tablet, condensed by line."
   ]
  },
  {
   "cell_type": "code",
   "execution_count": 24,
   "metadata": {
    "ExecuteTime": {
     "end_time": "2018-05-24T10:17:52.967852Z",
     "start_time": "2018-05-24T10:17:52.635909Z"
    }
   },
   "outputs": [
    {
     "data": {
      "text/html": [
       "<p><b>line</b> <i>1</i>"
      ],
      "text/plain": [
       "<IPython.core.display.HTML object>"
      ]
     },
     "metadata": {},
     "output_type": "display_data"
    },
    {
     "data": {
      "text/html": [
       "<div class=\"tfsechead \"><span class=\"ltr\"><a target=\"_blank\" href=\"https://cdli.ucla.edu/search/search_results.php?SearchMode=Text&amp;ObjectID=P448702\" title=\"to CDLI main page for this tablet\" sec=\"P448702 obverse:1:2\">P448702 obverse:1:2</a></span></div><div class=\" children\"><div class=\"contnr c2    \" ><div class=\"lbl c2  \" ><span class=\"nd\">line </span> <span class=\"txtu\"><span title=\"number\">2</span></span></div><div class=\"children hor  \"><div class=\"contnr c2    hl\" ><div class=\"lbl c2  hl\" ><span class=\"nd\">case </span> <span class=\"txtu\"><span title=\"number\">2a</span><span title=\"prime\">'</span></span></div><div class=\"features\"><span class=\"terminal xft\" ><span class=\"f\">terminal=</span>1</span></div><div class=\"children ver False \"><div class=\"contnr c1 cluster trm   \" ><div class=\"lbl c1 clusterb trm \" ><span class=\"nd\">cluster </span> <span class=\"txtu\"><span title=\"type\">?</span></span></div><div class=\"features\"><span class=\"type xft\" ><span class=\"f\">type=</span>uncertain</span></div></div><div class=\"children hor wrap \"><div class=\"contnr c0 trm   hl\" ><div class=\"lbl c0 trm hl\" ><span class=\"txtu\"><span title=\"atf\">N</span></span></div><div class=\"features\"><span class=\"type xft\" ><span class=\"f\">type=</span>numeral</span></div></div></div><div class=\"contnr c1 cluster {}   \" ><div class=\"lbl c1 clustere trm \" ><span class=\"nd\">cluster </span> <span class=\"txtu\"><span title=\"type\">?</span></span></div> <div class=\"features\"><span class=\"type xft\" ><span class=\"f\">type=</span>uncertain</span></div></div><div class=\"contnr c0 trm   hl\" ><div class=\"lbl c0 trm hl\" ><span class=\"txtu\"><span title=\"atf\">2(N14)</span></span></div><div class=\"features\"><span class=\"type xft\" ><span class=\"f\">type=</span>numeral</span></div><div><a target=\"_blank\" href=\"https://cdli.ucla.edu/tools/SignLists/protocuneiform/archsigns/2(N14).jpg\" title=\"to higher resolution lineart on CDLI\"><img src=\"cdli-imagery/lineart-2(n14).jpg\" style=\"display: inline;max-width: 2em; max-height: 6em;\"  /></a></div></div><div class=\"contnr c0 trm   hl\" ><div class=\"lbl c0 trm hl\" ><span class=\"txtu\"><span title=\"atf\">3(N01)</span></span></div><div class=\"features\"><span class=\"type xft\" ><span class=\"f\">type=</span>numeral</span></div><div><a target=\"_blank\" href=\"https://cdli.ucla.edu/tools/SignLists/protocuneiform/archsigns/3(N01).jpg\" title=\"to higher resolution lineart on CDLI\"><img src=\"cdli-imagery/lineart-3(n01).jpg\" style=\"display: inline;max-width: 2em; max-height: 6em;\"  /></a></div></div><div class=\"contnr c0 trm   hl\" ><div class=\"lbl c0 trm hl\" ><span class=\"txtu\"><span title=\"atf\">KASZ~b</span></span></div><div class=\"features\"><span class=\"type xft\" ><span class=\"f\">type=</span>ideograph</span></div><div><a target=\"_blank\" href=\"https://cdli.ucla.edu/tools/SignLists/protocuneiform/archsigns/KASZ~b.jpg\" title=\"to higher resolution lineart on CDLI\"><img src=\"cdli-imagery/lineart-kasz-b.jpg\" style=\"display: inline;max-width: 2em; max-height: 6em;\"  /></a></div></div><div class=\"contnr c0 trm   hl\" ><div class=\"lbl c0 trm hl\" ><span class=\"txtu\"><span title=\"atf\">NUN~a</span></span></div><div class=\"features\"><span class=\"type xft\" ><span class=\"f\">type=</span>ideograph</span></div><div><a target=\"_blank\" href=\"https://cdli.ucla.edu/tools/SignLists/protocuneiform/archsigns/NUN~a.jpg\" title=\"to higher resolution lineart on CDLI\"><img src=\"cdli-imagery/lineart-nun-a.jpg\" style=\"display: inline;max-width: 2em; max-height: 6em;\"  /></a></div></div></div></div><div class=\"contnr c2    hl\" ><div class=\"lbl c2  hl\" ><span class=\"nd\">case </span> <span class=\"txtu\"><span title=\"number\">2b</span><span title=\"prime\">'</span></span></div><div class=\"features\"><span class=\"terminal xft\" ><span class=\"f\">terminal=</span>1</span></div><div class=\"children ver False \"><div class=\"contnr c0 trm   hl\" ><div class=\"lbl c0 trm hl\" ><span class=\"txtu\"><span title=\"atf\">3(N01)</span></span></div><div class=\"features\"><span class=\"type xft\" ><span class=\"f\">type=</span>numeral</span></div><div><a target=\"_blank\" href=\"https://cdli.ucla.edu/tools/SignLists/protocuneiform/archsigns/3(N01).jpg\" title=\"to higher resolution lineart on CDLI\"><img src=\"cdli-imagery/lineart-3(n01).jpg\" style=\"display: inline;max-width: 2em; max-height: 6em;\"  /></a></div></div><div class=\"contnr c0 trm   hl\" ><div class=\"lbl c0 trm hl\" ><span class=\"txtu\"><span title=\"atf\">KASZ~a?</span></span></div><div class=\"features\"><span class=\"type xft\" ><span class=\"f\">type=</span>ideograph</span></div><div><a target=\"_blank\" href=\"https://cdli.ucla.edu/tools/SignLists/protocuneiform/archsigns/KASZ~a.jpg\" title=\"to higher resolution lineart on CDLI\"><img src=\"cdli-imagery/lineart-kasz-a.jpg\" style=\"display: inline;max-width: 2em; max-height: 6em;\"  /></a></div></div><div class=\"contnr c0 trm   hl\" ><div class=\"lbl c0 trm hl\" ><span class=\"txtu\"><span title=\"atf\">GI</span></span></div><div class=\"features\"><span class=\"type xft\" ><span class=\"f\">type=</span>ideograph</span></div><div><a target=\"_blank\" href=\"https://cdli.ucla.edu/tools/SignLists/protocuneiform/archsigns/GI.jpg\" title=\"to higher resolution lineart on CDLI\"><img src=\"cdli-imagery/lineart-gi.jpg\" style=\"display: inline;max-width: 2em; max-height: 6em;\"  /></a></div></div></div></div></div></div></div>"
      ],
      "text/plain": [
       "<IPython.core.display.HTML object>"
      ]
     },
     "metadata": {},
     "output_type": "display_data"
    }
   ],
   "source": [
    "A.show(results, end=1, condenseType=\"line\")"
   ]
  },
  {
   "cell_type": "markdown",
   "metadata": {},
   "source": [
    "The order between the two signs is not defined by the template,\n",
    "despite the fact that the line with the ideograph\n",
    "precedes the line with the numeral.\n",
    "Results may have the numeral and the ideograph in any order.\n",
    "\n",
    "In fact, the highlights above represent multiple results.\n",
    "If a case has say 2 numerals and 3 ideographs, there are 6 possible\n",
    "pairs.\n",
    "\n",
    "By default, results are shown in *condensed* mode.\n",
    "That means that results are shown per tablet, and on the result tablets\n",
    "everything that is in some result is being highlighted.\n",
    "\n",
    "It is also possible to see the uncondensed results.\n",
    "That gives you an exact picture of each real result constellation.\n",
    "\n",
    "In order to illustrate the difference, we focus on one tablet and one case.\n",
    "This case has 3 numerals and 2 ideographs, so we expect 6 results."
   ]
  },
  {
   "cell_type": "code",
   "execution_count": 25,
   "metadata": {
    "ExecuteTime": {
     "end_time": "2018-05-24T10:17:56.152337Z",
     "start_time": "2018-05-24T10:17:55.609431Z"
    }
   },
   "outputs": [
    {
     "name": "stdout",
     "output_type": "stream",
     "text": [
      "  0.10s 6 results\n"
     ]
    }
   ],
   "source": [
    "query = \"\"\"\n",
    "tablet catalogId=P448702\n",
    "  line\n",
    "    case terminal=1 number=2a\n",
    "      sign type=ideograph\n",
    "      sign type=numeral\n",
    "\"\"\"\n",
    "results = A.search(query)"
   ]
  },
  {
   "cell_type": "markdown",
   "metadata": {},
   "source": [
    "We show them condensed (by default), so we expect 1 line with all ideographs and numerals in case `2a'` highlighted."
   ]
  },
  {
   "cell_type": "code",
   "execution_count": 26,
   "metadata": {
    "ExecuteTime": {
     "end_time": "2018-05-24T10:17:58.399716Z",
     "start_time": "2018-05-24T10:17:58.386450Z"
    }
   },
   "outputs": [
    {
     "data": {
      "text/html": [
       "<p><b>line</b> <i>1</i>"
      ],
      "text/plain": [
       "<IPython.core.display.HTML object>"
      ]
     },
     "metadata": {},
     "output_type": "display_data"
    },
    {
     "data": {
      "text/html": [
       "<div class=\"tfsechead \"><span class=\"ltr\"><a target=\"_blank\" href=\"https://cdli.ucla.edu/search/search_results.php?SearchMode=Text&amp;ObjectID=P448702\" title=\"to CDLI main page for this tablet\" sec=\"P448702 obverse:1:2\">P448702 obverse:1:2</a></span></div><div class=\" children\"><div class=\"contnr c2    \" ><div class=\"lbl c2  \" ><span class=\"nd\">line </span> <span class=\"txtu\"><span title=\"number\">2</span></span></div><div class=\"features\"><span class=\"number xft\" ><span class=\"f\">number=</span>2</span></div><div class=\"children hor  \"><div class=\"contnr c2    hl\" ><div class=\"lbl c2  hl\" ><span class=\"nd\">case </span> <span class=\"txtu\"><span title=\"number\">2a</span><span title=\"prime\">'</span></span></div><div class=\"features\"><span class=\"number xft\" ><span class=\"f\">number=</span>2a</span><span class=\"terminal xft\" ><span class=\"f\">terminal=</span>1</span></div><div class=\"children ver False \"><div class=\"contnr c1 cluster trm   \" ><div class=\"lbl c1 clusterb trm \" ><span class=\"nd\">cluster </span> <span class=\"txtu\"><span title=\"type\">?</span></span></div><div class=\"features\"><span class=\"type xft\" ><span class=\"f\">type=</span>uncertain</span></div></div><div class=\"children hor wrap \"><div class=\"contnr c0 trm   hl\" ><div class=\"lbl c0 trm hl\" ><span class=\"txtu\"><span title=\"atf\">N</span></span></div><div class=\"features\"><span class=\"type xft\" ><span class=\"f\">type=</span>numeral</span></div></div></div><div class=\"contnr c1 cluster {}   \" ><div class=\"lbl c1 clustere trm \" ><span class=\"nd\">cluster </span> <span class=\"txtu\"><span title=\"type\">?</span></span></div> <div class=\"features\"><span class=\"type xft\" ><span class=\"f\">type=</span>uncertain</span></div></div><div class=\"contnr c0 trm   hl\" ><div class=\"lbl c0 trm hl\" ><span class=\"txtu\"><span title=\"atf\">2(N14)</span></span></div><div class=\"features\"><span class=\"type xft\" ><span class=\"f\">type=</span>numeral</span></div></div><div class=\"contnr c0 trm   hl\" ><div class=\"lbl c0 trm hl\" ><span class=\"txtu\"><span title=\"atf\">3(N01)</span></span></div><div class=\"features\"><span class=\"type xft\" ><span class=\"f\">type=</span>numeral</span></div></div><div class=\"contnr c0 trm   hl\" ><div class=\"lbl c0 trm hl\" ><span class=\"txtu\"><span title=\"atf\">KASZ~b</span></span></div><div class=\"features\"><span class=\"type xft\" ><span class=\"f\">type=</span>ideograph</span></div></div><div class=\"contnr c0 trm   hl\" ><div class=\"lbl c0 trm hl\" ><span class=\"txtu\"><span title=\"atf\">NUN~a</span></span></div><div class=\"features\"><span class=\"type xft\" ><span class=\"f\">type=</span>ideograph</span></div></div></div></div><div class=\"contnr c2    \" ><div class=\"lbl c2  \" ><span class=\"nd\">case </span> <span class=\"txtu\"><span title=\"number\">2b</span><span title=\"prime\">'</span></span></div><div class=\"features\"><span class=\"number xft\" ><span class=\"f\">number=</span>2b</span><span class=\"terminal xft\" ><span class=\"f\">terminal=</span>1</span></div><div class=\"children ver False \"><div class=\"contnr c0 trm   \" ><div class=\"lbl c0 trm \" ><span class=\"txtu\"><span title=\"atf\">3(N01)</span></span></div><div class=\"features\"><span class=\"type xft\" ><span class=\"f\">type=</span>numeral</span></div></div><div class=\"contnr c0 trm   \" ><div class=\"lbl c0 trm \" ><span class=\"txtu\"><span title=\"atf\">KASZ~a?</span></span></div><div class=\"features\"><span class=\"type xft\" ><span class=\"f\">type=</span>ideograph</span></div></div><div class=\"contnr c0 trm   \" ><div class=\"lbl c0 trm \" ><span class=\"txtu\"><span title=\"atf\">GI</span></span></div><div class=\"features\"><span class=\"type xft\" ><span class=\"f\">type=</span>ideograph</span></div></div></div></div></div></div></div>"
      ],
      "text/plain": [
       "<IPython.core.display.HTML object>"
      ]
     },
     "metadata": {},
     "output_type": "display_data"
    }
   ],
   "source": [
    "A.show(results, showGraphics=False, condenseType=\"line\")"
   ]
  },
  {
   "cell_type": "markdown",
   "metadata": {},
   "source": [
    "Now the same results in uncondensed mode. Expect 6 times the same line with\n",
    "different highlighted pairs of signs.\n",
    "\n",
    "Note that we can apply different highlight colors to different parts of the result.\n",
    "The words in the pair are member 4 and 5.\n",
    "\n",
    "The members that we do not map, will not be highlighted.\n",
    "The members that we map to the empty string will be highlighted with the default color.\n",
    "\n",
    "**NB:** Choose your colors from the\n",
    "[CSS specification](https://developer.mozilla.org/en-US/docs/Web/CSS/color_value)."
   ]
  },
  {
   "cell_type": "code",
   "execution_count": 27,
   "metadata": {},
   "outputs": [],
   "source": [
    "A.displaySetup(\n",
    "    condensed=False,\n",
    "    skipCols=\"1\",\n",
    "    colorMap={2: \"\", 3: \"cyan\", 4: \"magenta\"},\n",
    "    showGraphics=False,\n",
    "    condenseType=\"line\",\n",
    "    queryFeatures=False,\n",
    ")"
   ]
  },
  {
   "cell_type": "code",
   "execution_count": 28,
   "metadata": {
    "ExecuteTime": {
     "end_time": "2018-05-24T10:18:01.547855Z",
     "start_time": "2018-05-24T10:18:01.495155Z"
    }
   },
   "outputs": [
    {
     "data": {
      "text/html": [
       "<p><b>result</b> <i>1</i>"
      ],
      "text/plain": [
       "<IPython.core.display.HTML object>"
      ]
     },
     "metadata": {},
     "output_type": "display_data"
    },
    {
     "data": {
      "text/html": [
       "<div class=\"tfsechead \"><span class=\"ltr\"><a target=\"_blank\" href=\"https://cdli.ucla.edu/search/search_results.php?SearchMode=Text&amp;ObjectID=P448702\" title=\"to CDLI main page for this tablet\" sec=\"P448702\">P448702</a></span></div><div class=\" children\"><div class=\"contnr c4 trm   \" ><div class=\"lbl c4 trm \" ><span class=\"nd\">tablet </span> <span class=\"txtu\"><span class=\"tfsechead ltr\"><span class=\"ltr\">P448702</span></span></span></div><div class=\"features\"><span class=\"name \" title=\"name\">Anonymous 448702</span><span class=\"period \" title=\"period\">uruk-iii</span></div></div></div>"
      ],
      "text/plain": [
       "<IPython.core.display.HTML object>"
      ]
     },
     "metadata": {},
     "output_type": "display_data"
    },
    {
     "data": {
      "text/html": [
       "<div class=\"tfsechead \"><span class=\"ltr\"><a target=\"_blank\" href=\"https://cdli.ucla.edu/search/search_results.php?SearchMode=Text&amp;ObjectID=P448702\" title=\"to CDLI main page for this tablet\" sec=\"P448702 obverse:1:2\">P448702 obverse:1:2</a></span></div><div class=\" children\"><div class=\"contnr c2    \" ><div class=\"lbl c2  \" ><span class=\"nd\">line </span> <span class=\"txtu\"><span title=\"number\">2</span></span></div><div class=\"children hor  \"><div class=\"contnr c2    hl\"  style=\"background-color: cyan;\" ><div class=\"lbl c2  hl\"  style=\"background-color: cyan;\" ><span class=\"nd\">case </span> <span class=\"txtu\"><span title=\"number\">2a</span><span title=\"prime\">'</span></span></div><div class=\"children ver False \"><div class=\"contnr c1 cluster trm   \" ><div class=\"lbl c1 clusterb trm \" ><span class=\"nd\">cluster </span> <span class=\"txtu\"><span title=\"type\">?</span></span></div></div><div class=\"children hor wrap \"><div class=\"contnr c0 trm   hl\" ><div class=\"lbl c0 trm hl\" ><span class=\"txtu\"><span title=\"atf\">N</span></span></div></div></div><div class=\"contnr c1 cluster {}   \" ><div class=\"lbl c1 clustere trm \" ><span class=\"nd\">cluster </span> <span class=\"txtu\"><span title=\"type\">?</span></span></div> </div><div class=\"contnr c0 trm   \" ><div class=\"lbl c0 trm \" ><span class=\"txtu\"><span title=\"atf\">2(N14)</span></span></div></div><div class=\"contnr c0 trm   \" ><div class=\"lbl c0 trm \" ><span class=\"txtu\"><span title=\"atf\">3(N01)</span></span></div></div><div class=\"contnr c0 trm   hl\"  style=\"background-color: magenta;\" ><div class=\"lbl c0 trm hl\"  style=\"background-color: magenta;\" ><span class=\"txtu\"><span title=\"atf\">KASZ~b</span></span></div></div><div class=\"contnr c0 trm   \" ><div class=\"lbl c0 trm \" ><span class=\"txtu\"><span title=\"atf\">NUN~a</span></span></div></div></div></div><div class=\"contnr c2    \" ><div class=\"lbl c2  \" ><span class=\"nd\">case </span> <span class=\"txtu\"><span title=\"number\">2b</span><span title=\"prime\">'</span></span></div><div class=\"children ver False \"><div class=\"contnr c0 trm   \" ><div class=\"lbl c0 trm \" ><span class=\"txtu\"><span title=\"atf\">3(N01)</span></span></div></div><div class=\"contnr c0 trm   \" ><div class=\"lbl c0 trm \" ><span class=\"txtu\"><span title=\"atf\">KASZ~a?</span></span></div></div><div class=\"contnr c0 trm   \" ><div class=\"lbl c0 trm \" ><span class=\"txtu\"><span title=\"atf\">GI</span></span></div></div></div></div></div></div></div>"
      ],
      "text/plain": [
       "<IPython.core.display.HTML object>"
      ]
     },
     "metadata": {},
     "output_type": "display_data"
    },
    {
     "data": {
      "text/html": [
       "<p><b>result</b> <i>2</i>"
      ],
      "text/plain": [
       "<IPython.core.display.HTML object>"
      ]
     },
     "metadata": {},
     "output_type": "display_data"
    },
    {
     "data": {
      "text/html": [
       "<div class=\"tfsechead \"><span class=\"ltr\"><a target=\"_blank\" href=\"https://cdli.ucla.edu/search/search_results.php?SearchMode=Text&amp;ObjectID=P448702\" title=\"to CDLI main page for this tablet\" sec=\"P448702\">P448702</a></span></div><div class=\" children\"><div class=\"contnr c4 trm   \" ><div class=\"lbl c4 trm \" ><span class=\"nd\">tablet </span> <span class=\"txtu\"><span class=\"tfsechead ltr\"><span class=\"ltr\">P448702</span></span></span></div><div class=\"features\"><span class=\"name \" title=\"name\">Anonymous 448702</span><span class=\"period \" title=\"period\">uruk-iii</span></div></div></div>"
      ],
      "text/plain": [
       "<IPython.core.display.HTML object>"
      ]
     },
     "metadata": {},
     "output_type": "display_data"
    },
    {
     "data": {
      "text/html": [
       "<div class=\"tfsechead \"><span class=\"ltr\"><a target=\"_blank\" href=\"https://cdli.ucla.edu/search/search_results.php?SearchMode=Text&amp;ObjectID=P448702\" title=\"to CDLI main page for this tablet\" sec=\"P448702 obverse:1:2\">P448702 obverse:1:2</a></span></div><div class=\" children\"><div class=\"contnr c2    \" ><div class=\"lbl c2  \" ><span class=\"nd\">line </span> <span class=\"txtu\"><span title=\"number\">2</span></span></div><div class=\"children hor  \"><div class=\"contnr c2    hl\"  style=\"background-color: cyan;\" ><div class=\"lbl c2  hl\"  style=\"background-color: cyan;\" ><span class=\"nd\">case </span> <span class=\"txtu\"><span title=\"number\">2a</span><span title=\"prime\">'</span></span></div><div class=\"children ver False \"><div class=\"contnr c1 cluster trm   \" ><div class=\"lbl c1 clusterb trm \" ><span class=\"nd\">cluster </span> <span class=\"txtu\"><span title=\"type\">?</span></span></div></div><div class=\"children hor wrap \"><div class=\"contnr c0 trm   \" ><div class=\"lbl c0 trm \" ><span class=\"txtu\"><span title=\"atf\">N</span></span></div></div></div><div class=\"contnr c1 cluster {}   \" ><div class=\"lbl c1 clustere trm \" ><span class=\"nd\">cluster </span> <span class=\"txtu\"><span title=\"type\">?</span></span></div> </div><div class=\"contnr c0 trm   hl\" ><div class=\"lbl c0 trm hl\" ><span class=\"txtu\"><span title=\"atf\">2(N14)</span></span></div></div><div class=\"contnr c0 trm   \" ><div class=\"lbl c0 trm \" ><span class=\"txtu\"><span title=\"atf\">3(N01)</span></span></div></div><div class=\"contnr c0 trm   hl\"  style=\"background-color: magenta;\" ><div class=\"lbl c0 trm hl\"  style=\"background-color: magenta;\" ><span class=\"txtu\"><span title=\"atf\">KASZ~b</span></span></div></div><div class=\"contnr c0 trm   \" ><div class=\"lbl c0 trm \" ><span class=\"txtu\"><span title=\"atf\">NUN~a</span></span></div></div></div></div><div class=\"contnr c2    \" ><div class=\"lbl c2  \" ><span class=\"nd\">case </span> <span class=\"txtu\"><span title=\"number\">2b</span><span title=\"prime\">'</span></span></div><div class=\"children ver False \"><div class=\"contnr c0 trm   \" ><div class=\"lbl c0 trm \" ><span class=\"txtu\"><span title=\"atf\">3(N01)</span></span></div></div><div class=\"contnr c0 trm   \" ><div class=\"lbl c0 trm \" ><span class=\"txtu\"><span title=\"atf\">KASZ~a?</span></span></div></div><div class=\"contnr c0 trm   \" ><div class=\"lbl c0 trm \" ><span class=\"txtu\"><span title=\"atf\">GI</span></span></div></div></div></div></div></div></div>"
      ],
      "text/plain": [
       "<IPython.core.display.HTML object>"
      ]
     },
     "metadata": {},
     "output_type": "display_data"
    },
    {
     "data": {
      "text/html": [
       "<p><b>result</b> <i>3</i>"
      ],
      "text/plain": [
       "<IPython.core.display.HTML object>"
      ]
     },
     "metadata": {},
     "output_type": "display_data"
    },
    {
     "data": {
      "text/html": [
       "<div class=\"tfsechead \"><span class=\"ltr\"><a target=\"_blank\" href=\"https://cdli.ucla.edu/search/search_results.php?SearchMode=Text&amp;ObjectID=P448702\" title=\"to CDLI main page for this tablet\" sec=\"P448702\">P448702</a></span></div><div class=\" children\"><div class=\"contnr c4 trm   \" ><div class=\"lbl c4 trm \" ><span class=\"nd\">tablet </span> <span class=\"txtu\"><span class=\"tfsechead ltr\"><span class=\"ltr\">P448702</span></span></span></div><div class=\"features\"><span class=\"name \" title=\"name\">Anonymous 448702</span><span class=\"period \" title=\"period\">uruk-iii</span></div></div></div>"
      ],
      "text/plain": [
       "<IPython.core.display.HTML object>"
      ]
     },
     "metadata": {},
     "output_type": "display_data"
    },
    {
     "data": {
      "text/html": [
       "<div class=\"tfsechead \"><span class=\"ltr\"><a target=\"_blank\" href=\"https://cdli.ucla.edu/search/search_results.php?SearchMode=Text&amp;ObjectID=P448702\" title=\"to CDLI main page for this tablet\" sec=\"P448702 obverse:1:2\">P448702 obverse:1:2</a></span></div><div class=\" children\"><div class=\"contnr c2    \" ><div class=\"lbl c2  \" ><span class=\"nd\">line </span> <span class=\"txtu\"><span title=\"number\">2</span></span></div><div class=\"children hor  \"><div class=\"contnr c2    hl\"  style=\"background-color: cyan;\" ><div class=\"lbl c2  hl\"  style=\"background-color: cyan;\" ><span class=\"nd\">case </span> <span class=\"txtu\"><span title=\"number\">2a</span><span title=\"prime\">'</span></span></div><div class=\"children ver False \"><div class=\"contnr c1 cluster trm   \" ><div class=\"lbl c1 clusterb trm \" ><span class=\"nd\">cluster </span> <span class=\"txtu\"><span title=\"type\">?</span></span></div></div><div class=\"children hor wrap \"><div class=\"contnr c0 trm   \" ><div class=\"lbl c0 trm \" ><span class=\"txtu\"><span title=\"atf\">N</span></span></div></div></div><div class=\"contnr c1 cluster {}   \" ><div class=\"lbl c1 clustere trm \" ><span class=\"nd\">cluster </span> <span class=\"txtu\"><span title=\"type\">?</span></span></div> </div><div class=\"contnr c0 trm   \" ><div class=\"lbl c0 trm \" ><span class=\"txtu\"><span title=\"atf\">2(N14)</span></span></div></div><div class=\"contnr c0 trm   hl\" ><div class=\"lbl c0 trm hl\" ><span class=\"txtu\"><span title=\"atf\">3(N01)</span></span></div></div><div class=\"contnr c0 trm   hl\"  style=\"background-color: magenta;\" ><div class=\"lbl c0 trm hl\"  style=\"background-color: magenta;\" ><span class=\"txtu\"><span title=\"atf\">KASZ~b</span></span></div></div><div class=\"contnr c0 trm   \" ><div class=\"lbl c0 trm \" ><span class=\"txtu\"><span title=\"atf\">NUN~a</span></span></div></div></div></div><div class=\"contnr c2    \" ><div class=\"lbl c2  \" ><span class=\"nd\">case </span> <span class=\"txtu\"><span title=\"number\">2b</span><span title=\"prime\">'</span></span></div><div class=\"children ver False \"><div class=\"contnr c0 trm   \" ><div class=\"lbl c0 trm \" ><span class=\"txtu\"><span title=\"atf\">3(N01)</span></span></div></div><div class=\"contnr c0 trm   \" ><div class=\"lbl c0 trm \" ><span class=\"txtu\"><span title=\"atf\">KASZ~a?</span></span></div></div><div class=\"contnr c0 trm   \" ><div class=\"lbl c0 trm \" ><span class=\"txtu\"><span title=\"atf\">GI</span></span></div></div></div></div></div></div></div>"
      ],
      "text/plain": [
       "<IPython.core.display.HTML object>"
      ]
     },
     "metadata": {},
     "output_type": "display_data"
    },
    {
     "data": {
      "text/html": [
       "<p><b>result</b> <i>4</i>"
      ],
      "text/plain": [
       "<IPython.core.display.HTML object>"
      ]
     },
     "metadata": {},
     "output_type": "display_data"
    },
    {
     "data": {
      "text/html": [
       "<div class=\"tfsechead \"><span class=\"ltr\"><a target=\"_blank\" href=\"https://cdli.ucla.edu/search/search_results.php?SearchMode=Text&amp;ObjectID=P448702\" title=\"to CDLI main page for this tablet\" sec=\"P448702\">P448702</a></span></div><div class=\" children\"><div class=\"contnr c4 trm   \" ><div class=\"lbl c4 trm \" ><span class=\"nd\">tablet </span> <span class=\"txtu\"><span class=\"tfsechead ltr\"><span class=\"ltr\">P448702</span></span></span></div><div class=\"features\"><span class=\"name \" title=\"name\">Anonymous 448702</span><span class=\"period \" title=\"period\">uruk-iii</span></div></div></div>"
      ],
      "text/plain": [
       "<IPython.core.display.HTML object>"
      ]
     },
     "metadata": {},
     "output_type": "display_data"
    },
    {
     "data": {
      "text/html": [
       "<div class=\"tfsechead \"><span class=\"ltr\"><a target=\"_blank\" href=\"https://cdli.ucla.edu/search/search_results.php?SearchMode=Text&amp;ObjectID=P448702\" title=\"to CDLI main page for this tablet\" sec=\"P448702 obverse:1:2\">P448702 obverse:1:2</a></span></div><div class=\" children\"><div class=\"contnr c2    \" ><div class=\"lbl c2  \" ><span class=\"nd\">line </span> <span class=\"txtu\"><span title=\"number\">2</span></span></div><div class=\"children hor  \"><div class=\"contnr c2    hl\"  style=\"background-color: cyan;\" ><div class=\"lbl c2  hl\"  style=\"background-color: cyan;\" ><span class=\"nd\">case </span> <span class=\"txtu\"><span title=\"number\">2a</span><span title=\"prime\">'</span></span></div><div class=\"children ver False \"><div class=\"contnr c1 cluster trm   \" ><div class=\"lbl c1 clusterb trm \" ><span class=\"nd\">cluster </span> <span class=\"txtu\"><span title=\"type\">?</span></span></div></div><div class=\"children hor wrap \"><div class=\"contnr c0 trm   hl\" ><div class=\"lbl c0 trm hl\" ><span class=\"txtu\"><span title=\"atf\">N</span></span></div></div></div><div class=\"contnr c1 cluster {}   \" ><div class=\"lbl c1 clustere trm \" ><span class=\"nd\">cluster </span> <span class=\"txtu\"><span title=\"type\">?</span></span></div> </div><div class=\"contnr c0 trm   \" ><div class=\"lbl c0 trm \" ><span class=\"txtu\"><span title=\"atf\">2(N14)</span></span></div></div><div class=\"contnr c0 trm   \" ><div class=\"lbl c0 trm \" ><span class=\"txtu\"><span title=\"atf\">3(N01)</span></span></div></div><div class=\"contnr c0 trm   \" ><div class=\"lbl c0 trm \" ><span class=\"txtu\"><span title=\"atf\">KASZ~b</span></span></div></div><div class=\"contnr c0 trm   hl\"  style=\"background-color: magenta;\" ><div class=\"lbl c0 trm hl\"  style=\"background-color: magenta;\" ><span class=\"txtu\"><span title=\"atf\">NUN~a</span></span></div></div></div></div><div class=\"contnr c2    \" ><div class=\"lbl c2  \" ><span class=\"nd\">case </span> <span class=\"txtu\"><span title=\"number\">2b</span><span title=\"prime\">'</span></span></div><div class=\"children ver False \"><div class=\"contnr c0 trm   \" ><div class=\"lbl c0 trm \" ><span class=\"txtu\"><span title=\"atf\">3(N01)</span></span></div></div><div class=\"contnr c0 trm   \" ><div class=\"lbl c0 trm \" ><span class=\"txtu\"><span title=\"atf\">KASZ~a?</span></span></div></div><div class=\"contnr c0 trm   \" ><div class=\"lbl c0 trm \" ><span class=\"txtu\"><span title=\"atf\">GI</span></span></div></div></div></div></div></div></div>"
      ],
      "text/plain": [
       "<IPython.core.display.HTML object>"
      ]
     },
     "metadata": {},
     "output_type": "display_data"
    },
    {
     "data": {
      "text/html": [
       "<p><b>result</b> <i>5</i>"
      ],
      "text/plain": [
       "<IPython.core.display.HTML object>"
      ]
     },
     "metadata": {},
     "output_type": "display_data"
    },
    {
     "data": {
      "text/html": [
       "<div class=\"tfsechead \"><span class=\"ltr\"><a target=\"_blank\" href=\"https://cdli.ucla.edu/search/search_results.php?SearchMode=Text&amp;ObjectID=P448702\" title=\"to CDLI main page for this tablet\" sec=\"P448702\">P448702</a></span></div><div class=\" children\"><div class=\"contnr c4 trm   \" ><div class=\"lbl c4 trm \" ><span class=\"nd\">tablet </span> <span class=\"txtu\"><span class=\"tfsechead ltr\"><span class=\"ltr\">P448702</span></span></span></div><div class=\"features\"><span class=\"name \" title=\"name\">Anonymous 448702</span><span class=\"period \" title=\"period\">uruk-iii</span></div></div></div>"
      ],
      "text/plain": [
       "<IPython.core.display.HTML object>"
      ]
     },
     "metadata": {},
     "output_type": "display_data"
    },
    {
     "data": {
      "text/html": [
       "<div class=\"tfsechead \"><span class=\"ltr\"><a target=\"_blank\" href=\"https://cdli.ucla.edu/search/search_results.php?SearchMode=Text&amp;ObjectID=P448702\" title=\"to CDLI main page for this tablet\" sec=\"P448702 obverse:1:2\">P448702 obverse:1:2</a></span></div><div class=\" children\"><div class=\"contnr c2    \" ><div class=\"lbl c2  \" ><span class=\"nd\">line </span> <span class=\"txtu\"><span title=\"number\">2</span></span></div><div class=\"children hor  \"><div class=\"contnr c2    hl\"  style=\"background-color: cyan;\" ><div class=\"lbl c2  hl\"  style=\"background-color: cyan;\" ><span class=\"nd\">case </span> <span class=\"txtu\"><span title=\"number\">2a</span><span title=\"prime\">'</span></span></div><div class=\"children ver False \"><div class=\"contnr c1 cluster trm   \" ><div class=\"lbl c1 clusterb trm \" ><span class=\"nd\">cluster </span> <span class=\"txtu\"><span title=\"type\">?</span></span></div></div><div class=\"children hor wrap \"><div class=\"contnr c0 trm   \" ><div class=\"lbl c0 trm \" ><span class=\"txtu\"><span title=\"atf\">N</span></span></div></div></div><div class=\"contnr c1 cluster {}   \" ><div class=\"lbl c1 clustere trm \" ><span class=\"nd\">cluster </span> <span class=\"txtu\"><span title=\"type\">?</span></span></div> </div><div class=\"contnr c0 trm   hl\" ><div class=\"lbl c0 trm hl\" ><span class=\"txtu\"><span title=\"atf\">2(N14)</span></span></div></div><div class=\"contnr c0 trm   \" ><div class=\"lbl c0 trm \" ><span class=\"txtu\"><span title=\"atf\">3(N01)</span></span></div></div><div class=\"contnr c0 trm   \" ><div class=\"lbl c0 trm \" ><span class=\"txtu\"><span title=\"atf\">KASZ~b</span></span></div></div><div class=\"contnr c0 trm   hl\"  style=\"background-color: magenta;\" ><div class=\"lbl c0 trm hl\"  style=\"background-color: magenta;\" ><span class=\"txtu\"><span title=\"atf\">NUN~a</span></span></div></div></div></div><div class=\"contnr c2    \" ><div class=\"lbl c2  \" ><span class=\"nd\">case </span> <span class=\"txtu\"><span title=\"number\">2b</span><span title=\"prime\">'</span></span></div><div class=\"children ver False \"><div class=\"contnr c0 trm   \" ><div class=\"lbl c0 trm \" ><span class=\"txtu\"><span title=\"atf\">3(N01)</span></span></div></div><div class=\"contnr c0 trm   \" ><div class=\"lbl c0 trm \" ><span class=\"txtu\"><span title=\"atf\">KASZ~a?</span></span></div></div><div class=\"contnr c0 trm   \" ><div class=\"lbl c0 trm \" ><span class=\"txtu\"><span title=\"atf\">GI</span></span></div></div></div></div></div></div></div>"
      ],
      "text/plain": [
       "<IPython.core.display.HTML object>"
      ]
     },
     "metadata": {},
     "output_type": "display_data"
    },
    {
     "data": {
      "text/html": [
       "<p><b>result</b> <i>6</i>"
      ],
      "text/plain": [
       "<IPython.core.display.HTML object>"
      ]
     },
     "metadata": {},
     "output_type": "display_data"
    },
    {
     "data": {
      "text/html": [
       "<div class=\"tfsechead \"><span class=\"ltr\"><a target=\"_blank\" href=\"https://cdli.ucla.edu/search/search_results.php?SearchMode=Text&amp;ObjectID=P448702\" title=\"to CDLI main page for this tablet\" sec=\"P448702\">P448702</a></span></div><div class=\" children\"><div class=\"contnr c4 trm   \" ><div class=\"lbl c4 trm \" ><span class=\"nd\">tablet </span> <span class=\"txtu\"><span class=\"tfsechead ltr\"><span class=\"ltr\">P448702</span></span></span></div><div class=\"features\"><span class=\"name \" title=\"name\">Anonymous 448702</span><span class=\"period \" title=\"period\">uruk-iii</span></div></div></div>"
      ],
      "text/plain": [
       "<IPython.core.display.HTML object>"
      ]
     },
     "metadata": {},
     "output_type": "display_data"
    },
    {
     "data": {
      "text/html": [
       "<div class=\"tfsechead \"><span class=\"ltr\"><a target=\"_blank\" href=\"https://cdli.ucla.edu/search/search_results.php?SearchMode=Text&amp;ObjectID=P448702\" title=\"to CDLI main page for this tablet\" sec=\"P448702 obverse:1:2\">P448702 obverse:1:2</a></span></div><div class=\" children\"><div class=\"contnr c2    \" ><div class=\"lbl c2  \" ><span class=\"nd\">line </span> <span class=\"txtu\"><span title=\"number\">2</span></span></div><div class=\"children hor  \"><div class=\"contnr c2    hl\"  style=\"background-color: cyan;\" ><div class=\"lbl c2  hl\"  style=\"background-color: cyan;\" ><span class=\"nd\">case </span> <span class=\"txtu\"><span title=\"number\">2a</span><span title=\"prime\">'</span></span></div><div class=\"children ver False \"><div class=\"contnr c1 cluster trm   \" ><div class=\"lbl c1 clusterb trm \" ><span class=\"nd\">cluster </span> <span class=\"txtu\"><span title=\"type\">?</span></span></div></div><div class=\"children hor wrap \"><div class=\"contnr c0 trm   \" ><div class=\"lbl c0 trm \" ><span class=\"txtu\"><span title=\"atf\">N</span></span></div></div></div><div class=\"contnr c1 cluster {}   \" ><div class=\"lbl c1 clustere trm \" ><span class=\"nd\">cluster </span> <span class=\"txtu\"><span title=\"type\">?</span></span></div> </div><div class=\"contnr c0 trm   \" ><div class=\"lbl c0 trm \" ><span class=\"txtu\"><span title=\"atf\">2(N14)</span></span></div></div><div class=\"contnr c0 trm   hl\" ><div class=\"lbl c0 trm hl\" ><span class=\"txtu\"><span title=\"atf\">3(N01)</span></span></div></div><div class=\"contnr c0 trm   \" ><div class=\"lbl c0 trm \" ><span class=\"txtu\"><span title=\"atf\">KASZ~b</span></span></div></div><div class=\"contnr c0 trm   hl\"  style=\"background-color: magenta;\" ><div class=\"lbl c0 trm hl\"  style=\"background-color: magenta;\" ><span class=\"txtu\"><span title=\"atf\">NUN~a</span></span></div></div></div></div><div class=\"contnr c2    \" ><div class=\"lbl c2  \" ><span class=\"nd\">case </span> <span class=\"txtu\"><span title=\"number\">2b</span><span title=\"prime\">'</span></span></div><div class=\"children ver False \"><div class=\"contnr c0 trm   \" ><div class=\"lbl c0 trm \" ><span class=\"txtu\"><span title=\"atf\">3(N01)</span></span></div></div><div class=\"contnr c0 trm   \" ><div class=\"lbl c0 trm \" ><span class=\"txtu\"><span title=\"atf\">KASZ~a?</span></span></div></div><div class=\"contnr c0 trm   \" ><div class=\"lbl c0 trm \" ><span class=\"txtu\"><span title=\"atf\">GI</span></span></div></div></div></div></div></div></div>"
      ],
      "text/plain": [
       "<IPython.core.display.HTML object>"
      ]
     },
     "metadata": {},
     "output_type": "display_data"
    }
   ],
   "source": [
    "A.show(results)"
   ]
  },
  {
   "cell_type": "markdown",
   "metadata": {},
   "source": [
    "Color mapping works best for uncondensed results. If you condense results, some nodes may occupy\n",
    "different positions in different results. It is unpredictable which color will be used\n",
    "for such nodes:"
   ]
  },
  {
   "cell_type": "code",
   "execution_count": 29,
   "metadata": {
    "ExecuteTime": {
     "end_time": "2018-05-24T10:18:08.424670Z",
     "start_time": "2018-05-24T10:18:08.412515Z"
    }
   },
   "outputs": [
    {
     "data": {
      "text/html": [
       "<p><b>line</b> <i>1</i>"
      ],
      "text/plain": [
       "<IPython.core.display.HTML object>"
      ]
     },
     "metadata": {},
     "output_type": "display_data"
    },
    {
     "data": {
      "text/html": [
       "<div class=\"tfsechead \"><span class=\"ltr\"><a target=\"_blank\" href=\"https://cdli.ucla.edu/search/search_results.php?SearchMode=Text&amp;ObjectID=P448702\" title=\"to CDLI main page for this tablet\" sec=\"P448702 obverse:1:2\">P448702 obverse:1:2</a></span></div><div class=\" children\"><div class=\"contnr c2    \" ><div class=\"lbl c2  \" ><span class=\"nd\">line </span> <span class=\"txtu\"><span title=\"number\">2</span></span></div><div class=\"children hor  \"><div class=\"contnr c2    hl\" ><div class=\"lbl c2  hl\" ><span class=\"nd\">case </span> <span class=\"txtu\"><span title=\"number\">2a</span><span title=\"prime\">'</span></span></div><div class=\"children ver False \"><div class=\"contnr c1 cluster trm   \" ><div class=\"lbl c1 clusterb trm \" ><span class=\"nd\">cluster </span> <span class=\"txtu\"><span title=\"type\">?</span></span></div></div><div class=\"children hor wrap \"><div class=\"contnr c0 trm   hl\"  style=\"background-color: cyan;\" ><div class=\"lbl c0 trm hl\"  style=\"background-color: cyan;\" ><span class=\"txtu\"><span title=\"atf\">N</span></span></div></div></div><div class=\"contnr c1 cluster {}   \" ><div class=\"lbl c1 clustere trm \" ><span class=\"nd\">cluster </span> <span class=\"txtu\"><span title=\"type\">?</span></span></div> </div><div class=\"contnr c0 trm   hl\"  style=\"background-color: magenta;\" ><div class=\"lbl c0 trm hl\"  style=\"background-color: magenta;\" ><span class=\"txtu\"><span title=\"atf\">2(N14)</span></span></div></div><div class=\"contnr c0 trm   hl\" ><div class=\"lbl c0 trm hl\" ><span class=\"txtu\"><span title=\"atf\">3(N01)</span></span></div></div><div class=\"contnr c0 trm   hl\" ><div class=\"lbl c0 trm hl\" ><span class=\"txtu\"><span title=\"atf\">KASZ~b</span></span></div></div><div class=\"contnr c0 trm   hl\" ><div class=\"lbl c0 trm hl\" ><span class=\"txtu\"><span title=\"atf\">NUN~a</span></span></div></div></div></div><div class=\"contnr c2    \" ><div class=\"lbl c2  \" ><span class=\"nd\">case </span> <span class=\"txtu\"><span title=\"number\">2b</span><span title=\"prime\">'</span></span></div><div class=\"children ver False \"><div class=\"contnr c0 trm   \" ><div class=\"lbl c0 trm \" ><span class=\"txtu\"><span title=\"atf\">3(N01)</span></span></div></div><div class=\"contnr c0 trm   \" ><div class=\"lbl c0 trm \" ><span class=\"txtu\"><span title=\"atf\">KASZ~a?</span></span></div></div><div class=\"contnr c0 trm   \" ><div class=\"lbl c0 trm \" ><span class=\"txtu\"><span title=\"atf\">GI</span></span></div></div></div></div></div></div></div>"
      ],
      "text/plain": [
       "<IPython.core.display.HTML object>"
      ]
     },
     "metadata": {},
     "output_type": "display_data"
    }
   ],
   "source": [
    "A.show(results, condensed=True)"
   ]
  },
  {
   "cell_type": "code",
   "execution_count": 30,
   "metadata": {},
   "outputs": [],
   "source": [
    "A.displayReset()"
   ]
  },
  {
   "cell_type": "markdown",
   "metadata": {},
   "source": [
    "You can enforce order.\n",
    "We modify the template a little to state a\n",
    "relational condition, namely that the ideograph follows the numeral."
   ]
  },
  {
   "cell_type": "code",
   "execution_count": 31,
   "metadata": {
    "ExecuteTime": {
     "end_time": "2018-05-24T10:18:13.882678Z",
     "start_time": "2018-05-24T10:18:13.342157Z"
    }
   },
   "outputs": [
    {
     "name": "stdout",
     "output_type": "stream",
     "text": [
      "  0.11s 6 results\n"
     ]
    },
    {
     "data": {
      "text/html": [
       "<table><tr class=\"tf ltr\"><th class=\"tf ltr\">n</th><th class=\"tf ltr\">p</th><th class=\"tf ltr\">tablet</th><th class=\"tf\">line</th><th class=\"tf\">case</th><th class=\"tf\">sign</th><th class=\"tf\">sign</th></tr>\n",
       "<tr class=\"tf ltr\"><td class=\"tf ltr\">1</td><td class=\"tf ltr\"><span class=\"tfsechead ltr\"><span class=\"ltr\"><a target=\"_blank\" href=\"https://cdli.ucla.edu/search/search_results.php?SearchMode=Text&amp;ObjectID=P448702\" title=\"to CDLI main page for this tablet\" sec=\"P448702 obverse:1:2\">P448702 obverse:1:2</a></span></span></td><td class=\"tf ltr\"><span class=\" ubd\"><span class=\"txtu \"><span class=\"tfsechead ltr\"><span class=\"ltr\">P448702</span></span></span></span></td><td class=\"tf ltr\"><span class=\" ubd\"><span class=\"plain   hlbx\" ><span class=\"plain   hlbx\" ><span class=\"txtu \"><span title=\"number\">2a</span><span title=\"prime\">'</span></span><span class=\"plain \" >[<span class=\"plain hl\" >N</span>]</span> <span class=\"plain \" >2(N14)</span> <span class=\"plain \" >3(N01)</span> <span class=\"plain   hl\" ><span class=\"plain hl\" >KASZ~b</span> </span><span class=\"plain \" >NUN~a</span> </span><span class=\"txtu \"><span title=\"number\">2b</span><span title=\"prime\">'</span></span><span class=\"plain \" >3(N01)</span> <span class=\"plain \" >KASZ~a</span> <span class=\"plain \" >GI</span> </span></span></td><td class=\"tf ltr\"><span class=\" ubd\"><span class=\"plain   hlbx\" ><span class=\"txtu \"><span title=\"number\">2a</span><span title=\"prime\">'</span></span><span class=\"plain \" >[<span class=\"plain hl\" >N</span>]</span> <span class=\"plain \" >2(N14)</span> <span class=\"plain \" >3(N01)</span> <span class=\"plain   hl\" ><span class=\"plain hl\" >KASZ~b</span> </span><span class=\"plain \" >NUN~a</span> </span></span></td><td class=\"tf ltr\"><span class=\" ubd\"><span class=\"plain   hl\" ><span class=\"plain hl\" >KASZ~b</span> </span></span></td><td class=\"tf ltr\"><span class=\" ubd\"><span class=\"plain   hl\" ><span class=\"plain hl\" >N</span> </span></span></td></tr>\n",
       "<tr class=\"tf ltr\"><td class=\"tf ltr\">2</td><td class=\"tf ltr\"><span class=\"tfsechead ltr\"><span class=\"ltr\"><a target=\"_blank\" href=\"https://cdli.ucla.edu/search/search_results.php?SearchMode=Text&amp;ObjectID=P448702\" title=\"to CDLI main page for this tablet\" sec=\"P448702 obverse:1:2\">P448702 obverse:1:2</a></span></span></td><td class=\"tf ltr\"><span class=\" ubd\"><span class=\"txtu \"><span class=\"tfsechead ltr\"><span class=\"ltr\">P448702</span></span></span></span></td><td class=\"tf ltr\"><span class=\" ubd\"><span class=\"plain   hlbx\" ><span class=\"plain   hlbx\" ><span class=\"txtu \"><span title=\"number\">2a</span><span title=\"prime\">'</span></span><span class=\"plain \" >[<span class=\"plain \" >N</span>]</span> <span class=\"plain   hl\" ><span class=\"plain hl\" >2(N14)</span> </span><span class=\"plain \" >3(N01)</span> <span class=\"plain   hl\" ><span class=\"plain hl\" >KASZ~b</span> </span><span class=\"plain \" >NUN~a</span> </span><span class=\"txtu \"><span title=\"number\">2b</span><span title=\"prime\">'</span></span><span class=\"plain \" >3(N01)</span> <span class=\"plain \" >KASZ~a</span> <span class=\"plain \" >GI</span> </span></span></td><td class=\"tf ltr\"><span class=\" ubd\"><span class=\"plain   hlbx\" ><span class=\"txtu \"><span title=\"number\">2a</span><span title=\"prime\">'</span></span><span class=\"plain \" >[<span class=\"plain \" >N</span>]</span> <span class=\"plain   hl\" ><span class=\"plain hl\" >2(N14)</span> </span><span class=\"plain \" >3(N01)</span> <span class=\"plain   hl\" ><span class=\"plain hl\" >KASZ~b</span> </span><span class=\"plain \" >NUN~a</span> </span></span></td><td class=\"tf ltr\"><span class=\" ubd\"><span class=\"plain   hl\" ><span class=\"plain hl\" >KASZ~b</span> </span></span></td><td class=\"tf ltr\"><span class=\" ubd\"><span class=\"plain   hl\" ><span class=\"plain hl\" >2(N14)</span> </span></span></td></tr>\n",
       "<tr class=\"tf ltr\"><td class=\"tf ltr\">3</td><td class=\"tf ltr\"><span class=\"tfsechead ltr\"><span class=\"ltr\"><a target=\"_blank\" href=\"https://cdli.ucla.edu/search/search_results.php?SearchMode=Text&amp;ObjectID=P448702\" title=\"to CDLI main page for this tablet\" sec=\"P448702 obverse:1:2\">P448702 obverse:1:2</a></span></span></td><td class=\"tf ltr\"><span class=\" ubd\"><span class=\"txtu \"><span class=\"tfsechead ltr\"><span class=\"ltr\">P448702</span></span></span></span></td><td class=\"tf ltr\"><span class=\" ubd\"><span class=\"plain   hlbx\" ><span class=\"plain   hlbx\" ><span class=\"txtu \"><span title=\"number\">2a</span><span title=\"prime\">'</span></span><span class=\"plain \" >[<span class=\"plain \" >N</span>]</span> <span class=\"plain \" >2(N14)</span> <span class=\"plain   hl\" ><span class=\"plain hl\" >3(N01)</span> </span><span class=\"plain   hl\" ><span class=\"plain hl\" >KASZ~b</span> </span><span class=\"plain \" >NUN~a</span> </span><span class=\"txtu \"><span title=\"number\">2b</span><span title=\"prime\">'</span></span><span class=\"plain \" >3(N01)</span> <span class=\"plain \" >KASZ~a</span> <span class=\"plain \" >GI</span> </span></span></td><td class=\"tf ltr\"><span class=\" ubd\"><span class=\"plain   hlbx\" ><span class=\"txtu \"><span title=\"number\">2a</span><span title=\"prime\">'</span></span><span class=\"plain \" >[<span class=\"plain \" >N</span>]</span> <span class=\"plain \" >2(N14)</span> <span class=\"plain   hl\" ><span class=\"plain hl\" >3(N01)</span> </span><span class=\"plain   hl\" ><span class=\"plain hl\" >KASZ~b</span> </span><span class=\"plain \" >NUN~a</span> </span></span></td><td class=\"tf ltr\"><span class=\" ubd\"><span class=\"plain   hl\" ><span class=\"plain hl\" >KASZ~b</span> </span></span></td><td class=\"tf ltr\"><span class=\" ubd\"><span class=\"plain   hl\" ><span class=\"plain hl\" >3(N01)</span> </span></span></td></tr>\n",
       "<tr class=\"tf ltr\"><td class=\"tf ltr\">4</td><td class=\"tf ltr\"><span class=\"tfsechead ltr\"><span class=\"ltr\"><a target=\"_blank\" href=\"https://cdli.ucla.edu/search/search_results.php?SearchMode=Text&amp;ObjectID=P448702\" title=\"to CDLI main page for this tablet\" sec=\"P448702 obverse:1:2\">P448702 obverse:1:2</a></span></span></td><td class=\"tf ltr\"><span class=\" ubd\"><span class=\"txtu \"><span class=\"tfsechead ltr\"><span class=\"ltr\">P448702</span></span></span></span></td><td class=\"tf ltr\"><span class=\" ubd\"><span class=\"plain   hlbx\" ><span class=\"plain   hlbx\" ><span class=\"txtu \"><span title=\"number\">2a</span><span title=\"prime\">'</span></span><span class=\"plain \" >[<span class=\"plain hl\" >N</span>]</span> <span class=\"plain \" >2(N14)</span> <span class=\"plain \" >3(N01)</span> <span class=\"plain \" >KASZ~b</span> <span class=\"plain   hl\" ><span class=\"plain hl\" >NUN~a</span> </span></span><span class=\"txtu \"><span title=\"number\">2b</span><span title=\"prime\">'</span></span><span class=\"plain \" >3(N01)</span> <span class=\"plain \" >KASZ~a</span> <span class=\"plain \" >GI</span> </span></span></td><td class=\"tf ltr\"><span class=\" ubd\"><span class=\"plain   hlbx\" ><span class=\"txtu \"><span title=\"number\">2a</span><span title=\"prime\">'</span></span><span class=\"plain \" >[<span class=\"plain hl\" >N</span>]</span> <span class=\"plain \" >2(N14)</span> <span class=\"plain \" >3(N01)</span> <span class=\"plain \" >KASZ~b</span> <span class=\"plain   hl\" ><span class=\"plain hl\" >NUN~a</span> </span></span></span></td><td class=\"tf ltr\"><span class=\" ubd\"><span class=\"plain   hl\" ><span class=\"plain hl\" >NUN~a</span> </span></span></td><td class=\"tf ltr\"><span class=\" ubd\"><span class=\"plain   hl\" ><span class=\"plain hl\" >N</span> </span></span></td></tr>\n",
       "<tr class=\"tf ltr\"><td class=\"tf ltr\">5</td><td class=\"tf ltr\"><span class=\"tfsechead ltr\"><span class=\"ltr\"><a target=\"_blank\" href=\"https://cdli.ucla.edu/search/search_results.php?SearchMode=Text&amp;ObjectID=P448702\" title=\"to CDLI main page for this tablet\" sec=\"P448702 obverse:1:2\">P448702 obverse:1:2</a></span></span></td><td class=\"tf ltr\"><span class=\" ubd\"><span class=\"txtu \"><span class=\"tfsechead ltr\"><span class=\"ltr\">P448702</span></span></span></span></td><td class=\"tf ltr\"><span class=\" ubd\"><span class=\"plain   hlbx\" ><span class=\"plain   hlbx\" ><span class=\"txtu \"><span title=\"number\">2a</span><span title=\"prime\">'</span></span><span class=\"plain \" >[<span class=\"plain \" >N</span>]</span> <span class=\"plain   hl\" ><span class=\"plain hl\" >2(N14)</span> </span><span class=\"plain \" >3(N01)</span> <span class=\"plain \" >KASZ~b</span> <span class=\"plain   hl\" ><span class=\"plain hl\" >NUN~a</span> </span></span><span class=\"txtu \"><span title=\"number\">2b</span><span title=\"prime\">'</span></span><span class=\"plain \" >3(N01)</span> <span class=\"plain \" >KASZ~a</span> <span class=\"plain \" >GI</span> </span></span></td><td class=\"tf ltr\"><span class=\" ubd\"><span class=\"plain   hlbx\" ><span class=\"txtu \"><span title=\"number\">2a</span><span title=\"prime\">'</span></span><span class=\"plain \" >[<span class=\"plain \" >N</span>]</span> <span class=\"plain   hl\" ><span class=\"plain hl\" >2(N14)</span> </span><span class=\"plain \" >3(N01)</span> <span class=\"plain \" >KASZ~b</span> <span class=\"plain   hl\" ><span class=\"plain hl\" >NUN~a</span> </span></span></span></td><td class=\"tf ltr\"><span class=\" ubd\"><span class=\"plain   hl\" ><span class=\"plain hl\" >NUN~a</span> </span></span></td><td class=\"tf ltr\"><span class=\" ubd\"><span class=\"plain   hl\" ><span class=\"plain hl\" >2(N14)</span> </span></span></td></tr>\n",
       "<tr class=\"tf ltr\"><td class=\"tf ltr\">6</td><td class=\"tf ltr\"><span class=\"tfsechead ltr\"><span class=\"ltr\"><a target=\"_blank\" href=\"https://cdli.ucla.edu/search/search_results.php?SearchMode=Text&amp;ObjectID=P448702\" title=\"to CDLI main page for this tablet\" sec=\"P448702 obverse:1:2\">P448702 obverse:1:2</a></span></span></td><td class=\"tf ltr\"><span class=\" ubd\"><span class=\"txtu \"><span class=\"tfsechead ltr\"><span class=\"ltr\">P448702</span></span></span></span></td><td class=\"tf ltr\"><span class=\" ubd\"><span class=\"plain   hlbx\" ><span class=\"plain   hlbx\" ><span class=\"txtu \"><span title=\"number\">2a</span><span title=\"prime\">'</span></span><span class=\"plain \" >[<span class=\"plain \" >N</span>]</span> <span class=\"plain \" >2(N14)</span> <span class=\"plain   hl\" ><span class=\"plain hl\" >3(N01)</span> </span><span class=\"plain \" >KASZ~b</span> <span class=\"plain   hl\" ><span class=\"plain hl\" >NUN~a</span> </span></span><span class=\"txtu \"><span title=\"number\">2b</span><span title=\"prime\">'</span></span><span class=\"plain \" >3(N01)</span> <span class=\"plain \" >KASZ~a</span> <span class=\"plain \" >GI</span> </span></span></td><td class=\"tf ltr\"><span class=\" ubd\"><span class=\"plain   hlbx\" ><span class=\"txtu \"><span title=\"number\">2a</span><span title=\"prime\">'</span></span><span class=\"plain \" >[<span class=\"plain \" >N</span>]</span> <span class=\"plain \" >2(N14)</span> <span class=\"plain   hl\" ><span class=\"plain hl\" >3(N01)</span> </span><span class=\"plain \" >KASZ~b</span> <span class=\"plain   hl\" ><span class=\"plain hl\" >NUN~a</span> </span></span></span></td><td class=\"tf ltr\"><span class=\" ubd\"><span class=\"plain   hl\" ><span class=\"plain hl\" >NUN~a</span> </span></span></td><td class=\"tf ltr\"><span class=\" ubd\"><span class=\"plain   hl\" ><span class=\"plain hl\" >3(N01)</span> </span></span></td></tr></table>"
      ],
      "text/plain": [
       "<IPython.core.display.HTML object>"
      ]
     },
     "metadata": {},
     "output_type": "display_data"
    }
   ],
   "source": [
    "query = \"\"\"\n",
    "tablet catalogId=P448702\n",
    "  line\n",
    "    case terminal=1 number=2a\n",
    "      sign type=ideograph\n",
    "      > sign type=numeral\n",
    "\"\"\"\n",
    "results = A.search(query)\n",
    "A.table(results, condensed=False, showGraphics=False)"
   ]
  },
  {
   "cell_type": "markdown",
   "metadata": {},
   "source": [
    "Still six results.\n",
    "No wonder, because the case has first three numerals in a row and then 2 ideographs.\n",
    "\n",
    "Do you want the ideograph and the numeral to be *adjacent* as well?\n",
    "We only have to add 1 character to the template to make it happen."
   ]
  },
  {
   "cell_type": "code",
   "execution_count": 32,
   "metadata": {
    "ExecuteTime": {
     "end_time": "2018-05-24T10:18:18.838300Z",
     "start_time": "2018-05-24T10:18:18.284271Z"
    }
   },
   "outputs": [
    {
     "name": "stdout",
     "output_type": "stream",
     "text": [
      "  0.12s 1 result\n"
     ]
    }
   ],
   "source": [
    "query = \"\"\"\n",
    "tablet catalogId=P448702\n",
    "  line\n",
    "    case terminal=1 number=2a\n",
    "      sign type=ideograph\n",
    "      :> sign type=numeral\n",
    "\"\"\"\n",
    "results = A.search(query)"
   ]
  },
  {
   "cell_type": "code",
   "execution_count": 33,
   "metadata": {
    "ExecuteTime": {
     "end_time": "2018-05-24T10:18:18.838300Z",
     "start_time": "2018-05-24T10:18:18.284271Z"
    }
   },
   "outputs": [
    {
     "data": {
      "text/html": [
       "<table><tr class=\"tf ltr\"><th class=\"tf ltr\">n</th><th class=\"tf ltr\">p</th><th class=\"tf ltr\">tablet</th><th class=\"tf\">line</th><th class=\"tf\">case</th><th class=\"tf\">sign</th><th class=\"tf\">sign</th></tr>\n",
       "<tr class=\"tf ltr\"><td class=\"tf ltr\">1</td><td class=\"tf ltr\"><span class=\"tfsechead ltr\"><span class=\"ltr\"><a target=\"_blank\" href=\"https://cdli.ucla.edu/search/search_results.php?SearchMode=Text&amp;ObjectID=P448702\" title=\"to CDLI main page for this tablet\" sec=\"P448702 obverse:1:2\">P448702 obverse:1:2</a></span></span></td><td class=\"tf ltr\"><span class=\" ubd\"><span class=\"txtu \"><span class=\"tfsechead ltr\"><span class=\"ltr\">P448702</span></span></span></span></td><td class=\"tf ltr\"><span class=\" ubd\"><span class=\"plain   hlbx\" ><span class=\"plain   hlbx\" ><span class=\"txtu \"><span title=\"number\">2a</span><span title=\"prime\">'</span></span><span class=\"plain \" >[<span class=\"plain \" >N</span>]</span> <span class=\"plain \" >2(N14)</span> <span class=\"plain   hl\" ><span class=\"plain hl\" >3(N01)</span> </span><span class=\"plain   hl\" ><span class=\"plain hl\" >KASZ~b</span> </span><span class=\"plain \" >NUN~a</span> </span><span class=\"txtu \"><span title=\"number\">2b</span><span title=\"prime\">'</span></span><span class=\"plain \" >3(N01)</span> <span class=\"plain \" >KASZ~a</span> <span class=\"plain \" >GI</span> </span></span></td><td class=\"tf ltr\"><span class=\" ubd\"><span class=\"plain   hlbx\" ><span class=\"txtu \"><span title=\"number\">2a</span><span title=\"prime\">'</span></span><span class=\"plain \" >[<span class=\"plain \" >N</span>]</span> <span class=\"plain \" >2(N14)</span> <span class=\"plain   hl\" ><span class=\"plain hl\" >3(N01)</span> </span><span class=\"plain   hl\" ><span class=\"plain hl\" >KASZ~b</span> </span><span class=\"plain \" >NUN~a</span> </span></span></td><td class=\"tf ltr\"><span class=\" ubd\"><span class=\"plain   hl\" ><span class=\"plain hl\" >KASZ~b</span> </span></span></td><td class=\"tf ltr\"><span class=\" ubd\"><span class=\"plain   hl\" ><span class=\"plain hl\" >3(N01)</span> </span></span></td></tr></table>"
      ],
      "text/plain": [
       "<IPython.core.display.HTML object>"
      ]
     },
     "metadata": {},
     "output_type": "display_data"
    }
   ],
   "source": [
    "A.table(results, condensed=False, showGraphics=False)"
   ]
  },
  {
   "cell_type": "code",
   "execution_count": 34,
   "metadata": {},
   "outputs": [],
   "source": [
    "A.displaySetup(\n",
    "    condensed=False,\n",
    "    skipCols=\"1\",\n",
    "    colorMap={2: \"\", 3: \"cyan\", 4: \"magenta\"},\n",
    "    showGraphics=False,\n",
    "    condenseType=\"line\",\n",
    "    queryFeatures=False,\n",
    ")"
   ]
  },
  {
   "cell_type": "code",
   "execution_count": 35,
   "metadata": {
    "ExecuteTime": {
     "end_time": "2018-05-24T10:18:18.838300Z",
     "start_time": "2018-05-24T10:18:18.284271Z"
    }
   },
   "outputs": [
    {
     "data": {
      "text/html": [
       "<p><b>result</b> <i>1</i>"
      ],
      "text/plain": [
       "<IPython.core.display.HTML object>"
      ]
     },
     "metadata": {},
     "output_type": "display_data"
    },
    {
     "data": {
      "text/html": [
       "<div class=\"tfsechead \"><span class=\"ltr\"><a target=\"_blank\" href=\"https://cdli.ucla.edu/search/search_results.php?SearchMode=Text&amp;ObjectID=P448702\" title=\"to CDLI main page for this tablet\" sec=\"P448702\">P448702</a></span></div><div class=\" children\"><div class=\"contnr c4 trm   \" ><div class=\"lbl c4 trm \" ><span class=\"nd\">tablet </span> <span class=\"txtu\"><span class=\"tfsechead ltr\"><span class=\"ltr\">P448702</span></span></span></div><div class=\"features\"><span class=\"name \" title=\"name\">Anonymous 448702</span><span class=\"period \" title=\"period\">uruk-iii</span></div></div></div>"
      ],
      "text/plain": [
       "<IPython.core.display.HTML object>"
      ]
     },
     "metadata": {},
     "output_type": "display_data"
    },
    {
     "data": {
      "text/html": [
       "<div class=\"tfsechead \"><span class=\"ltr\"><a target=\"_blank\" href=\"https://cdli.ucla.edu/search/search_results.php?SearchMode=Text&amp;ObjectID=P448702\" title=\"to CDLI main page for this tablet\" sec=\"P448702 obverse:1:2\">P448702 obverse:1:2</a></span></div><div class=\" children\"><div class=\"contnr c2    \" ><div class=\"lbl c2  \" ><span class=\"nd\">line </span> <span class=\"txtu\"><span title=\"number\">2</span></span></div><div class=\"children hor  \"><div class=\"contnr c2    hl\"  style=\"background-color: cyan;\" ><div class=\"lbl c2  hl\"  style=\"background-color: cyan;\" ><span class=\"nd\">case </span> <span class=\"txtu\"><span title=\"number\">2a</span><span title=\"prime\">'</span></span></div><div class=\"children ver False \"><div class=\"contnr c1 cluster trm   \" ><div class=\"lbl c1 clusterb trm \" ><span class=\"nd\">cluster </span> <span class=\"txtu\"><span title=\"type\">?</span></span></div></div><div class=\"children hor wrap \"><div class=\"contnr c0 trm   \" ><div class=\"lbl c0 trm \" ><span class=\"txtu\"><span title=\"atf\">N</span></span></div></div></div><div class=\"contnr c1 cluster {}   \" ><div class=\"lbl c1 clustere trm \" ><span class=\"nd\">cluster </span> <span class=\"txtu\"><span title=\"type\">?</span></span></div> </div><div class=\"contnr c0 trm   \" ><div class=\"lbl c0 trm \" ><span class=\"txtu\"><span title=\"atf\">2(N14)</span></span></div></div><div class=\"contnr c0 trm   hl\" ><div class=\"lbl c0 trm hl\" ><span class=\"txtu\"><span title=\"atf\">3(N01)</span></span></div></div><div class=\"contnr c0 trm   hl\"  style=\"background-color: magenta;\" ><div class=\"lbl c0 trm hl\"  style=\"background-color: magenta;\" ><span class=\"txtu\"><span title=\"atf\">KASZ~b</span></span></div></div><div class=\"contnr c0 trm   \" ><div class=\"lbl c0 trm \" ><span class=\"txtu\"><span title=\"atf\">NUN~a</span></span></div></div></div></div><div class=\"contnr c2    \" ><div class=\"lbl c2  \" ><span class=\"nd\">case </span> <span class=\"txtu\"><span title=\"number\">2b</span><span title=\"prime\">'</span></span></div><div class=\"children ver False \"><div class=\"contnr c0 trm   \" ><div class=\"lbl c0 trm \" ><span class=\"txtu\"><span title=\"atf\">3(N01)</span></span></div></div><div class=\"contnr c0 trm   \" ><div class=\"lbl c0 trm \" ><span class=\"txtu\"><span title=\"atf\">KASZ~a?</span></span></div></div><div class=\"contnr c0 trm   \" ><div class=\"lbl c0 trm \" ><span class=\"txtu\"><span title=\"atf\">GI</span></span></div></div></div></div></div></div></div>"
      ],
      "text/plain": [
       "<IPython.core.display.HTML object>"
      ]
     },
     "metadata": {},
     "output_type": "display_data"
    }
   ],
   "source": [
    "A.show(results, condensed=False)"
   ]
  },
  {
   "cell_type": "code",
   "execution_count": 36,
   "metadata": {},
   "outputs": [],
   "source": [
    "A.displayReset()"
   ]
  },
  {
   "cell_type": "markdown",
   "metadata": {},
   "source": [
    "By now it pays off to study the possibilities of\n",
    "[search templates](https://annotation.github.io/text-fabric/tf/about/searchusage.html).\n",
    "\n",
    "If you want a reminder of all possible spatial relationships between nodes, you can call it up\n",
    "here in your notebook:"
   ]
  },
  {
   "cell_type": "code",
   "execution_count": 37,
   "metadata": {
    "ExecuteTime": {
     "end_time": "2018-05-24T10:18:21.290354Z",
     "start_time": "2018-05-24T10:18:21.285739Z"
    }
   },
   "outputs": [
    {
     "name": "stdout",
     "output_type": "stream",
     "text": [
      "                      = left equal to right (as node)\n",
      "                      # left unequal to right (as node)\n",
      "                      < left before right (in canonical node ordering)\n",
      "                      > left after right (in canonical node ordering)\n",
      "                     == left occupies same slots as right\n",
      "                     && left has overlapping slots with right\n",
      "                     ## left and right do not have the same slot set\n",
      "                     || left and right do not have common slots\n",
      "                     [[ left embeds right\n",
      "                     ]] left embedded in right\n",
      "                     << left completely before right\n",
      "                     >> left completely after right\n",
      "                     =: left and right start at the same slot\n",
      "                     := left and right end at the same slot\n",
      "                     :: left and right start and end at the same slot\n",
      "                     <: left immediately before right\n",
      "                     :> left immediately after right\n",
      "                    =k: left and right start at k-nearly the same slot\n",
      "                    :k= left and right end at k-nearly the same slot\n",
      "                    :k: left and right start and end at k-near slots\n",
      "                    <k: left k-nearly before right\n",
      "                    :k> left k-nearly after right\n",
      "                    .f. left.f = right.f\n",
      "                  .f=g. left.f = right.g\n",
      "                .f~r~g. left.f matches right.g\n",
      "                  .f#g. left.f # right.g\n",
      "                  .f>g. left.f > right.g\n",
      "                  .f<g. left.f < right.g\n",
      "             -comments> edge feature \"comments\"\n",
      "             <comments- edge feature \"comments\" (opposite direction)\n",
      "             <comments> edge feature \"comments\" (either direction)\n",
      "                   -op> edge feature \"op\" with value specification allowed\n",
      "                   <op- edge feature \"op\" with value specification allowed (opposite direction)\n",
      "                   <op> edge feature \"op\" with value specification allowed (either direction)\n",
      "                  -sub> edge feature \"sub\"\n",
      "                  <sub- edge feature \"sub\" (opposite direction)\n",
      "                  <sub> edge feature \"sub\" (either direction)\n",
      "The warp feature \"oslots\" cannot be used in searches.\n",
      "One of the above relations on nodes and/or slots will suit you better.\n"
     ]
    }
   ],
   "source": [
    "S.relationsLegend()"
   ]
  },
  {
   "cell_type": "markdown",
   "metadata": {},
   "source": [
    "## Comparisons in templates: cases\n",
    "\n",
    "Cases have a feature depth which indicate their nesting depth within a line.\n",
    "It is not the depth *of* that case, but the depth *at* which that case occurs.\n",
    "\n",
    "Comparison queries are handy to select cases of a certain minimum or maximum depth."
   ]
  },
  {
   "cell_type": "markdown",
   "metadata": {},
   "source": [
    "We'll work a lot with `condensed=False`, and `lineart` likewise, so let's make that the default:"
   ]
  },
  {
   "cell_type": "code",
   "execution_count": 38,
   "metadata": {},
   "outputs": [],
   "source": [
    "A.displaySetup(condensed=False, showGraphics=False)"
   ]
  },
  {
   "cell_type": "code",
   "execution_count": 39,
   "metadata": {
    "ExecuteTime": {
     "end_time": "2018-05-24T10:18:24.286961Z",
     "start_time": "2018-05-24T10:18:24.255031Z"
    }
   },
   "outputs": [
    {
     "name": "stdout",
     "output_type": "stream",
     "text": [
      "  0.00s 254 results\n"
     ]
    },
    {
     "data": {
      "text/html": [
       "<table><tr class=\"tf ltr\"><th class=\"tf ltr\">n</th><th class=\"tf ltr\">p</th><th class=\"tf ltr\">case</th></tr>\n",
       "<tr class=\"tf ltr\"><td class=\"tf ltr\">1</td><td class=\"tf ltr\"><span class=\"tfsechead ltr\"><span class=\"ltr\"><a target=\"_blank\" href=\"https://cdli.ucla.edu/search/search_results.php?SearchMode=Text&amp;ObjectID=P003357\" title=\"to CDLI main page for this tablet\" sec=\"P003357 obverse:1:1\">P003357 obverse:1:1</a></span></span></td><td class=\"tf ltr\"><span class=\" ubd\"><span class=\"plain   hlbx\" ><span class=\"txtu \"><span title=\"number\">1b1A</span><span title=\"prime\"></span></span><span class=\"plain \" >EN~a</span> <span class=\"plain \" >ZATU759</span> <span class=\"plain \" >DU</span> </span></span></td></tr>\n",
       "<tr class=\"tf ltr\"><td class=\"tf ltr\">2</td><td class=\"tf ltr\"><span class=\"tfsechead ltr\"><span class=\"ltr\"><a target=\"_blank\" href=\"https://cdli.ucla.edu/search/search_results.php?SearchMode=Text&amp;ObjectID=P003357\" title=\"to CDLI main page for this tablet\" sec=\"P003357 obverse:1:1\">P003357 obverse:1:1</a></span></span></td><td class=\"tf ltr\"><span class=\" ubd\"><span class=\"plain   hlbx\" ><span class=\"txtu \"><span title=\"number\">1b1B</span><span title=\"prime\"></span></span><span class=\"plain \" >3(N57)</span> <span class=\"plain \" >SU~a</span> </span></span></td></tr>\n",
       "<tr class=\"tf ltr\"><td class=\"tf ltr\">3</td><td class=\"tf ltr\"><span class=\"tfsechead ltr\"><span class=\"ltr\"><a target=\"_blank\" href=\"https://cdli.ucla.edu/search/search_results.php?SearchMode=Text&amp;ObjectID=P003537\" title=\"to CDLI main page for this tablet\" sec=\"P003537 obverse:5:4\">P003537 obverse:5:4</a></span></span></td><td class=\"tf ltr\"><span class=\" ubd\"><span class=\"plain   hlbx\" ><span class=\"txtu \"><span title=\"number\">4b1A</span><span title=\"prime\"></span></span><span class=\"plain \" >3(N57)</span> <span class=\"plain \" >X</span> <span class=\"plain \" >SZA</span> <span class=\"plain \" >U4</span> <span class=\"plain \" >[<span class=\"plain \" >...</span>]</span> <span class=\"plain \" >X</span> </span></span></td></tr>\n",
       "<tr class=\"tf ltr\"><td class=\"tf ltr\">4</td><td class=\"tf ltr\"><span class=\"tfsechead ltr\"><span class=\"ltr\"><a target=\"_blank\" href=\"https://cdli.ucla.edu/search/search_results.php?SearchMode=Text&amp;ObjectID=P003537\" title=\"to CDLI main page for this tablet\" sec=\"P003537 obverse:5:4\">P003537 obverse:5:4</a></span></span></td><td class=\"tf ltr\"><span class=\" ubd\"><span class=\"plain   hlbx\" ><span class=\"txtu \"><span title=\"number\">4b1B</span><span title=\"prime\"></span></span><span class=\"plain \" >X</span> <span class=\"plain \" >X</span> </span></span></td></tr>\n",
       "<tr class=\"tf ltr\"><td class=\"tf ltr\">5</td><td class=\"tf ltr\"><span class=\"tfsechead ltr\"><span class=\"ltr\"><a target=\"_blank\" href=\"https://cdli.ucla.edu/search/search_results.php?SearchMode=Text&amp;ObjectID=P003537\" title=\"to CDLI main page for this tablet\" sec=\"P003537 obverse:5:4\">P003537 obverse:5:4</a></span></span></td><td class=\"tf ltr\"><span class=\" ubd\"><span class=\"plain   hlbx\" ><span class=\"txtu \"><span title=\"number\">4b2A</span><span title=\"prime\"></span></span><span class=\"plain \" >2(N57)</span> <span class=\"plain \" >GAN~b</span> <span class=\"plain \" >SZU</span> <span class=\"plain \" >[<span class=\"plain \" >...</span>]</span> </span></span></td></tr>\n",
       "<tr class=\"tf ltr\"><td class=\"tf ltr\">6</td><td class=\"tf ltr\"><span class=\"tfsechead ltr\"><span class=\"ltr\"><a target=\"_blank\" href=\"https://cdli.ucla.edu/search/search_results.php?SearchMode=Text&amp;ObjectID=P003537\" title=\"to CDLI main page for this tablet\" sec=\"P003537 obverse:5:4\">P003537 obverse:5:4</a></span></span></td><td class=\"tf ltr\"><span class=\" ubd\"><span class=\"plain   hlbx\" ><span class=\"txtu \"><span title=\"number\">4b2B</span><span title=\"prime\"></span></span><span class=\"plain \" >X</span> <span class=\"plain \" >[<span class=\"plain \" >...</span>]</span> </span></span></td></tr>\n",
       "<tr class=\"tf ltr\"><td class=\"tf ltr\">7</td><td class=\"tf ltr\"><span class=\"tfsechead ltr\"><span class=\"ltr\"><a target=\"_blank\" href=\"https://cdli.ucla.edu/search/search_results.php?SearchMode=Text&amp;ObjectID=P003589\" title=\"to CDLI main page for this tablet\" sec=\"P003589 obverse:1:3\">P003589 obverse:1:3</a></span></span></td><td class=\"tf ltr\"><span class=\" ubd\"><span class=\"plain   hlbx\" ><span class=\"txtu \"><span title=\"number\">3b2A</span><span title=\"prime\"></span></span><span class=\"plain \" >|<span class=\"plain \" >GA~a</span>.<span class=\"plain \" >ZATU753</span>|</span> </span></span></td></tr>\n",
       "<tr class=\"tf ltr\"><td class=\"tf ltr\">8</td><td class=\"tf ltr\"><span class=\"tfsechead ltr\"><span class=\"ltr\"><a target=\"_blank\" href=\"https://cdli.ucla.edu/search/search_results.php?SearchMode=Text&amp;ObjectID=P003589\" title=\"to CDLI main page for this tablet\" sec=\"P003589 obverse:1:3\">P003589 obverse:1:3</a></span></span></td><td class=\"tf ltr\"><span class=\" ubd\"><span class=\"plain   hlbx\" ><span class=\"txtu \"><span title=\"number\">3b2B</span><span title=\"prime\"></span></span><span class=\"plain \" >MUD</span> <span class=\"plain \" >[<span class=\"plain \" >...</span>]</span> </span></span></td></tr>\n",
       "<tr class=\"tf ltr\"><td class=\"tf ltr\">9</td><td class=\"tf ltr\"><span class=\"tfsechead ltr\"><span class=\"ltr\"><a target=\"_blank\" href=\"https://cdli.ucla.edu/search/search_results.php?SearchMode=Text&amp;ObjectID=P003822\" title=\"to CDLI main page for this tablet\" sec=\"P003822 obverse:1:1\">P003822 obverse:1:1</a></span></span></td><td class=\"tf ltr\"><span class=\" ubd\"><span class=\"plain   hlbx\" ><span class=\"txtu \"><span title=\"number\">1a2A</span><span title=\"prime\"></span></span><span class=\"plain \" >[<span class=\"plain \" >...</span>]</span> <span class=\"plain \" >[<span class=\"plain \" >...</span>]</span> </span></span></td></tr>\n",
       "<tr class=\"tf ltr\"><td class=\"tf ltr\">10</td><td class=\"tf ltr\"><span class=\"tfsechead ltr\"><span class=\"ltr\"><a target=\"_blank\" href=\"https://cdli.ucla.edu/search/search_results.php?SearchMode=Text&amp;ObjectID=P003822\" title=\"to CDLI main page for this tablet\" sec=\"P003822 obverse:1:1\">P003822 obverse:1:1</a></span></span></td><td class=\"tf ltr\"><span class=\" ubd\"><span class=\"plain   hlbx\" ><span class=\"txtu \"><span title=\"number\">1a2B</span><span title=\"prime\"></span></span><span class=\"plain \" >[<span class=\"plain \" >...</span>]</span> <span class=\"plain \" >PAP~a</span> <span class=\"plain \" >SU~a</span> </span></span></td></tr></table>"
      ],
      "text/plain": [
       "<IPython.core.display.HTML object>"
      ]
     },
     "metadata": {},
     "output_type": "display_data"
    }
   ],
   "source": [
    "query = \"\"\"\n",
    "case depth=3\n",
    "\"\"\"\n",
    "results = A.search(query)\n",
    "A.table(results, end=10)"
   ]
  },
  {
   "cell_type": "markdown",
   "metadata": {},
   "source": [
    "Are there deeper cases?"
   ]
  },
  {
   "cell_type": "code",
   "execution_count": 40,
   "metadata": {
    "ExecuteTime": {
     "end_time": "2018-05-24T10:18:29.110454Z",
     "start_time": "2018-05-24T10:18:29.072076Z"
    }
   },
   "outputs": [
    {
     "name": "stdout",
     "output_type": "stream",
     "text": [
      "  0.00s 119 results\n"
     ]
    },
    {
     "data": {
      "text/html": [
       "<table><tr class=\"tf ltr\"><th class=\"tf ltr\">n</th><th class=\"tf ltr\">p</th><th class=\"tf ltr\">case</th></tr>\n",
       "<tr class=\"tf ltr\"><td class=\"tf ltr\">1</td><td class=\"tf ltr\"><span class=\"tfsechead ltr\"><span class=\"ltr\"><a target=\"_blank\" href=\"https://cdli.ucla.edu/search/search_results.php?SearchMode=Text&amp;ObjectID=P004735\" title=\"to CDLI main page for this tablet\" sec=\"P004735 obverse:2:1\">P004735 obverse:2:1</a></span></span></td><td class=\"tf ltr\"><span class=\" ubd\"><span class=\"plain   hlbx\" ><span class=\"txtu \"><span title=\"number\">1b1B1</span><span title=\"prime\"></span></span><span class=\"plain \" >(<span class=\"plain \" >NAB</span> <span class=\"plain \" >DI</span> <span class=\"plain \" >|<span class=\"plain \" >BU~a</span>+<span class=\"plain \" >DU6~a</span>|</span>)a</span> </span></span></td></tr>\n",
       "<tr class=\"tf ltr\"><td class=\"tf ltr\">2</td><td class=\"tf ltr\"><span class=\"tfsechead ltr\"><span class=\"ltr\"><a target=\"_blank\" href=\"https://cdli.ucla.edu/search/search_results.php?SearchMode=Text&amp;ObjectID=P004735\" title=\"to CDLI main page for this tablet\" sec=\"P004735 obverse:2:1\">P004735 obverse:2:1</a></span></span></td><td class=\"tf ltr\"><span class=\" ubd\"><span class=\"plain   hlbx\" ><span class=\"txtu \"><span title=\"number\">1b1B2</span><span title=\"prime\"></span></span><span class=\"plain \" >(<span class=\"plain \" >ZI~a#?</span> <span class=\"plain \" >AN</span>)a</span> </span></span></td></tr>\n",
       "<tr class=\"tf ltr\"><td class=\"tf ltr\">3</td><td class=\"tf ltr\"><span class=\"tfsechead ltr\"><span class=\"ltr\"><a target=\"_blank\" href=\"https://cdli.ucla.edu/search/search_results.php?SearchMode=Text&amp;ObjectID=P004735\" title=\"to CDLI main page for this tablet\" sec=\"P004735 obverse:2:1\">P004735 obverse:2:1</a></span></span></td><td class=\"tf ltr\"><span class=\" ubd\"><span class=\"plain   hlbx\" ><span class=\"txtu \"><span title=\"number\">1b1B3</span><span title=\"prime\"></span></span><span class=\"plain \" >(<span class=\"plain \" >ANSZE~e</span> <span class=\"plain \" >7(N57)</span> <span class=\"plain \" >DUR2</span> <span class=\"plain \" >DU</span>)a</span> </span></span></td></tr>\n",
       "<tr class=\"tf ltr\"><td class=\"tf ltr\">4</td><td class=\"tf ltr\"><span class=\"tfsechead ltr\"><span class=\"ltr\"><a target=\"_blank\" href=\"https://cdli.ucla.edu/search/search_results.php?SearchMode=Text&amp;ObjectID=P004735\" title=\"to CDLI main page for this tablet\" sec=\"P004735 obverse:2:1\">P004735 obverse:2:1</a></span></span></td><td class=\"tf ltr\"><span class=\" ubd\"><span class=\"plain   hlbx\" ><span class=\"txtu \"><span title=\"number\">1b1B4</span><span title=\"prime\"></span></span><span class=\"plain \" >(<span class=\"plain \" >LAL3~a#?</span> <span class=\"plain \" >GAR</span> <span class=\"plain \" >IG~b</span>)a</span> </span></span></td></tr>\n",
       "<tr class=\"tf ltr\"><td class=\"tf ltr\">5</td><td class=\"tf ltr\"><span class=\"tfsechead ltr\"><span class=\"ltr\"><a target=\"_blank\" href=\"https://cdli.ucla.edu/search/search_results.php?SearchMode=Text&amp;ObjectID=P004735\" title=\"to CDLI main page for this tablet\" sec=\"P004735 obverse:2:2\">P004735 obverse:2:2</a></span></span></td><td class=\"tf ltr\"><span class=\" ubd\"><span class=\"plain   hlbx\" ><span class=\"txtu \"><span title=\"number\">2b2B1</span><span title=\"prime\"></span></span><span class=\"plain \" >(<span class=\"plain \" >GI6</span> <span class=\"plain \" >KISZIK~a#</span> <span class=\"plain \" >URI3~a</span>)a</span> </span></span></td></tr>\n",
       "<tr class=\"tf ltr\"><td class=\"tf ltr\">6</td><td class=\"tf ltr\"><span class=\"tfsechead ltr\"><span class=\"ltr\"><a target=\"_blank\" href=\"https://cdli.ucla.edu/search/search_results.php?SearchMode=Text&amp;ObjectID=P004735\" title=\"to CDLI main page for this tablet\" sec=\"P004735 obverse:2:2\">P004735 obverse:2:2</a></span></span></td><td class=\"tf ltr\"><span class=\" ubd\"><span class=\"plain   hlbx\" ><span class=\"txtu \"><span title=\"number\">2b2B2</span><span title=\"prime\"></span></span><span class=\"plain \" >(<span class=\"plain \" >[<span class=\"plain \" >...</span>]</span>)a</span> </span></span></td></tr>\n",
       "<tr class=\"tf ltr\"><td class=\"tf ltr\">7</td><td class=\"tf ltr\"><span class=\"tfsechead ltr\"><span class=\"ltr\"><a target=\"_blank\" href=\"https://cdli.ucla.edu/search/search_results.php?SearchMode=Text&amp;ObjectID=P218054\" title=\"to CDLI main page for this tablet\" sec=\"P218054 reverse:1:1\">P218054 reverse:1:1</a></span></span></td><td class=\"tf ltr\"><span class=\" ubd\"><span class=\"plain   hlbx\" ><span class=\"txtu \"><span title=\"number\">1a1A1</span><span title=\"prime\"></span></span><span class=\"plain \" >[<span class=\"plain \" >...</span>]</span> <span class=\"plain \" >5(N01)</span> <span class=\"plain \" >[<span class=\"plain \" >...</span>]</span> <span class=\"plain \" >UDU~a</span> </span></span></td></tr>\n",
       "<tr class=\"tf ltr\"><td class=\"tf ltr\">8</td><td class=\"tf ltr\"><span class=\"tfsechead ltr\"><span class=\"ltr\"><a target=\"_blank\" href=\"https://cdli.ucla.edu/search/search_results.php?SearchMode=Text&amp;ObjectID=P218054\" title=\"to CDLI main page for this tablet\" sec=\"P218054 reverse:1:1\">P218054 reverse:1:1</a></span></span></td><td class=\"tf ltr\"><span class=\" ubd\"><span class=\"plain   hlbx\" ><span class=\"txtu \"><span title=\"number\">1a1A2</span><span title=\"prime\"></span></span><span class=\"plain \" >[<span class=\"plain \" >...</span>]</span> <span class=\"plain \" >7(N01)</span> <span class=\"plain \" >MASZ2</span> </span></span></td></tr>\n",
       "<tr class=\"tf ltr\"><td class=\"tf ltr\">9</td><td class=\"tf ltr\"><span class=\"tfsechead ltr\"><span class=\"ltr\"><a target=\"_blank\" href=\"https://cdli.ucla.edu/search/search_results.php?SearchMode=Text&amp;ObjectID=P325754\" title=\"to CDLI main page for this tablet\" sec=\"P325754 reverse:1:1\">P325754 reverse:1:1</a></span></span></td><td class=\"tf ltr\"><span class=\" ubd\"><span class=\"plain   hlbx\" ><span class=\"txtu \"><span title=\"number\">1c2b1</span><span title=\"prime\"></span></span><span class=\"plain \" >1(N01)</span> <span class=\"plain \" >[<span class=\"plain \" >...</span>]</span> </span></span></td></tr>\n",
       "<tr class=\"tf ltr\"><td class=\"tf ltr\">10</td><td class=\"tf ltr\"><span class=\"tfsechead ltr\"><span class=\"ltr\"><a target=\"_blank\" href=\"https://cdli.ucla.edu/search/search_results.php?SearchMode=Text&amp;ObjectID=P325754\" title=\"to CDLI main page for this tablet\" sec=\"P325754 reverse:1:1\">P325754 reverse:1:1</a></span></span></td><td class=\"tf ltr\"><span class=\" ubd\"><span class=\"plain   hlbx\" ><span class=\"txtu \"><span title=\"number\">1c2b2</span><span title=\"prime\"></span></span><span class=\"plain \" >1(N14)</span> <span class=\"plain \" >7(N01)</span> <span class=\"plain \" >TUR</span> </span></span></td></tr></table>"
      ],
      "text/plain": [
       "<IPython.core.display.HTML object>"
      ]
     },
     "metadata": {},
     "output_type": "display_data"
    }
   ],
   "source": [
    "query = \"\"\"\n",
    "case depth>3\n",
    "\"\"\"\n",
    "results = A.search(query)\n",
    "A.table(results, end=10)"
   ]
  },
  {
   "cell_type": "markdown",
   "metadata": {},
   "source": [
    "Still deeper?"
   ]
  },
  {
   "cell_type": "code",
   "execution_count": 41,
   "metadata": {
    "ExecuteTime": {
     "end_time": "2018-05-24T10:18:33.726027Z",
     "start_time": "2018-05-24T10:18:33.700012Z"
    }
   },
   "outputs": [
    {
     "name": "stdout",
     "output_type": "stream",
     "text": [
      "  0.00s 0 results\n"
     ]
    },
    {
     "data": {
      "text/html": [
       "<table></table>"
      ],
      "text/plain": [
       "<IPython.core.display.HTML object>"
      ]
     },
     "metadata": {},
     "output_type": "display_data"
    }
   ],
   "source": [
    "query = \"\"\"\n",
    "case depth>4\n",
    "\"\"\"\n",
    "results = A.search(query)\n",
    "A.table(results, end=10)"
   ]
  },
  {
   "cell_type": "markdown",
   "metadata": {},
   "source": [
    "As a check: the cases with depth 4 should be exactly the cases with depth > 3:"
   ]
  },
  {
   "cell_type": "code",
   "execution_count": 42,
   "metadata": {
    "ExecuteTime": {
     "end_time": "2018-05-24T10:18:38.070599Z",
     "start_time": "2018-05-24T10:18:38.038606Z"
    }
   },
   "outputs": [
    {
     "name": "stdout",
     "output_type": "stream",
     "text": [
      "  0.01s 119 results\n"
     ]
    },
    {
     "data": {
      "text/html": [
       "<table><tr class=\"tf ltr\"><th class=\"tf ltr\">n</th><th class=\"tf ltr\">p</th><th class=\"tf ltr\">case</th></tr>\n",
       "<tr class=\"tf ltr\"><td class=\"tf ltr\">1</td><td class=\"tf ltr\"><span class=\"tfsechead ltr\"><span class=\"ltr\"><a target=\"_blank\" href=\"https://cdli.ucla.edu/search/search_results.php?SearchMode=Text&amp;ObjectID=P004735\" title=\"to CDLI main page for this tablet\" sec=\"P004735 obverse:2:1\">P004735 obverse:2:1</a></span></span></td><td class=\"tf ltr\"><span class=\" ubd\"><span class=\"plain   hlbx\" ><span class=\"txtu \"><span title=\"number\">1b1B1</span><span title=\"prime\"></span></span><span class=\"plain \" >(<span class=\"plain \" >NAB</span> <span class=\"plain \" >DI</span> <span class=\"plain \" >|<span class=\"plain \" >BU~a</span>+<span class=\"plain \" >DU6~a</span>|</span>)a</span> </span></span></td></tr>\n",
       "<tr class=\"tf ltr\"><td class=\"tf ltr\">2</td><td class=\"tf ltr\"><span class=\"tfsechead ltr\"><span class=\"ltr\"><a target=\"_blank\" href=\"https://cdli.ucla.edu/search/search_results.php?SearchMode=Text&amp;ObjectID=P004735\" title=\"to CDLI main page for this tablet\" sec=\"P004735 obverse:2:1\">P004735 obverse:2:1</a></span></span></td><td class=\"tf ltr\"><span class=\" ubd\"><span class=\"plain   hlbx\" ><span class=\"txtu \"><span title=\"number\">1b1B2</span><span title=\"prime\"></span></span><span class=\"plain \" >(<span class=\"plain \" >ZI~a#?</span> <span class=\"plain \" >AN</span>)a</span> </span></span></td></tr>\n",
       "<tr class=\"tf ltr\"><td class=\"tf ltr\">3</td><td class=\"tf ltr\"><span class=\"tfsechead ltr\"><span class=\"ltr\"><a target=\"_blank\" href=\"https://cdli.ucla.edu/search/search_results.php?SearchMode=Text&amp;ObjectID=P004735\" title=\"to CDLI main page for this tablet\" sec=\"P004735 obverse:2:1\">P004735 obverse:2:1</a></span></span></td><td class=\"tf ltr\"><span class=\" ubd\"><span class=\"plain   hlbx\" ><span class=\"txtu \"><span title=\"number\">1b1B3</span><span title=\"prime\"></span></span><span class=\"plain \" >(<span class=\"plain \" >ANSZE~e</span> <span class=\"plain \" >7(N57)</span> <span class=\"plain \" >DUR2</span> <span class=\"plain \" >DU</span>)a</span> </span></span></td></tr>\n",
       "<tr class=\"tf ltr\"><td class=\"tf ltr\">4</td><td class=\"tf ltr\"><span class=\"tfsechead ltr\"><span class=\"ltr\"><a target=\"_blank\" href=\"https://cdli.ucla.edu/search/search_results.php?SearchMode=Text&amp;ObjectID=P004735\" title=\"to CDLI main page for this tablet\" sec=\"P004735 obverse:2:1\">P004735 obverse:2:1</a></span></span></td><td class=\"tf ltr\"><span class=\" ubd\"><span class=\"plain   hlbx\" ><span class=\"txtu \"><span title=\"number\">1b1B4</span><span title=\"prime\"></span></span><span class=\"plain \" >(<span class=\"plain \" >LAL3~a#?</span> <span class=\"plain \" >GAR</span> <span class=\"plain \" >IG~b</span>)a</span> </span></span></td></tr>\n",
       "<tr class=\"tf ltr\"><td class=\"tf ltr\">5</td><td class=\"tf ltr\"><span class=\"tfsechead ltr\"><span class=\"ltr\"><a target=\"_blank\" href=\"https://cdli.ucla.edu/search/search_results.php?SearchMode=Text&amp;ObjectID=P004735\" title=\"to CDLI main page for this tablet\" sec=\"P004735 obverse:2:2\">P004735 obverse:2:2</a></span></span></td><td class=\"tf ltr\"><span class=\" ubd\"><span class=\"plain   hlbx\" ><span class=\"txtu \"><span title=\"number\">2b2B1</span><span title=\"prime\"></span></span><span class=\"plain \" >(<span class=\"plain \" >GI6</span> <span class=\"plain \" >KISZIK~a#</span> <span class=\"plain \" >URI3~a</span>)a</span> </span></span></td></tr>\n",
       "<tr class=\"tf ltr\"><td class=\"tf ltr\">6</td><td class=\"tf ltr\"><span class=\"tfsechead ltr\"><span class=\"ltr\"><a target=\"_blank\" href=\"https://cdli.ucla.edu/search/search_results.php?SearchMode=Text&amp;ObjectID=P004735\" title=\"to CDLI main page for this tablet\" sec=\"P004735 obverse:2:2\">P004735 obverse:2:2</a></span></span></td><td class=\"tf ltr\"><span class=\" ubd\"><span class=\"plain   hlbx\" ><span class=\"txtu \"><span title=\"number\">2b2B2</span><span title=\"prime\"></span></span><span class=\"plain \" >(<span class=\"plain \" >[<span class=\"plain \" >...</span>]</span>)a</span> </span></span></td></tr>\n",
       "<tr class=\"tf ltr\"><td class=\"tf ltr\">7</td><td class=\"tf ltr\"><span class=\"tfsechead ltr\"><span class=\"ltr\"><a target=\"_blank\" href=\"https://cdli.ucla.edu/search/search_results.php?SearchMode=Text&amp;ObjectID=P218054\" title=\"to CDLI main page for this tablet\" sec=\"P218054 reverse:1:1\">P218054 reverse:1:1</a></span></span></td><td class=\"tf ltr\"><span class=\" ubd\"><span class=\"plain   hlbx\" ><span class=\"txtu \"><span title=\"number\">1a1A1</span><span title=\"prime\"></span></span><span class=\"plain \" >[<span class=\"plain \" >...</span>]</span> <span class=\"plain \" >5(N01)</span> <span class=\"plain \" >[<span class=\"plain \" >...</span>]</span> <span class=\"plain \" >UDU~a</span> </span></span></td></tr>\n",
       "<tr class=\"tf ltr\"><td class=\"tf ltr\">8</td><td class=\"tf ltr\"><span class=\"tfsechead ltr\"><span class=\"ltr\"><a target=\"_blank\" href=\"https://cdli.ucla.edu/search/search_results.php?SearchMode=Text&amp;ObjectID=P218054\" title=\"to CDLI main page for this tablet\" sec=\"P218054 reverse:1:1\">P218054 reverse:1:1</a></span></span></td><td class=\"tf ltr\"><span class=\" ubd\"><span class=\"plain   hlbx\" ><span class=\"txtu \"><span title=\"number\">1a1A2</span><span title=\"prime\"></span></span><span class=\"plain \" >[<span class=\"plain \" >...</span>]</span> <span class=\"plain \" >7(N01)</span> <span class=\"plain \" >MASZ2</span> </span></span></td></tr>\n",
       "<tr class=\"tf ltr\"><td class=\"tf ltr\">9</td><td class=\"tf ltr\"><span class=\"tfsechead ltr\"><span class=\"ltr\"><a target=\"_blank\" href=\"https://cdli.ucla.edu/search/search_results.php?SearchMode=Text&amp;ObjectID=P325754\" title=\"to CDLI main page for this tablet\" sec=\"P325754 reverse:1:1\">P325754 reverse:1:1</a></span></span></td><td class=\"tf ltr\"><span class=\" ubd\"><span class=\"plain   hlbx\" ><span class=\"txtu \"><span title=\"number\">1c2b1</span><span title=\"prime\"></span></span><span class=\"plain \" >1(N01)</span> <span class=\"plain \" >[<span class=\"plain \" >...</span>]</span> </span></span></td></tr>\n",
       "<tr class=\"tf ltr\"><td class=\"tf ltr\">10</td><td class=\"tf ltr\"><span class=\"tfsechead ltr\"><span class=\"ltr\"><a target=\"_blank\" href=\"https://cdli.ucla.edu/search/search_results.php?SearchMode=Text&amp;ObjectID=P325754\" title=\"to CDLI main page for this tablet\" sec=\"P325754 reverse:1:1\">P325754 reverse:1:1</a></span></span></td><td class=\"tf ltr\"><span class=\" ubd\"><span class=\"plain   hlbx\" ><span class=\"txtu \"><span title=\"number\">1c2b2</span><span title=\"prime\"></span></span><span class=\"plain \" >1(N14)</span> <span class=\"plain \" >7(N01)</span> <span class=\"plain \" >TUR</span> </span></span></td></tr></table>"
      ],
      "text/plain": [
       "<IPython.core.display.HTML object>"
      ]
     },
     "metadata": {},
     "output_type": "display_data"
    }
   ],
   "source": [
    "query = \"\"\"\n",
    "case depth=4\n",
    "\"\"\"\n",
    "results = A.search(query)\n",
    "A.table(results, end=10)\n",
    "tc4 = len(results)"
   ]
  },
  {
   "cell_type": "markdown",
   "metadata": {},
   "source": [
    "Terminal cases at depth 1 are top-level divisions of lines that are not themselves divided further."
   ]
  },
  {
   "cell_type": "code",
   "execution_count": 43,
   "metadata": {
    "ExecuteTime": {
     "end_time": "2018-05-24T10:18:41.114124Z",
     "start_time": "2018-05-24T10:18:41.064714Z"
    }
   },
   "outputs": [
    {
     "name": "stdout",
     "output_type": "stream",
     "text": [
      "  0.01s 5468 results\n"
     ]
    },
    {
     "data": {
      "text/html": [
       "<table><tr class=\"tf ltr\"><th class=\"tf ltr\">n</th><th class=\"tf ltr\">p</th><th class=\"tf ltr\">case</th></tr>\n",
       "<tr class=\"tf ltr\"><td class=\"tf ltr\">1</td><td class=\"tf ltr\"><span class=\"tfsechead ltr\"><span class=\"ltr\"><a target=\"_blank\" href=\"https://cdli.ucla.edu/search/search_results.php?SearchMode=Text&amp;ObjectID=P448702\" title=\"to CDLI main page for this tablet\" sec=\"P448702 obverse:1:2\">P448702 obverse:1:2</a></span></span></td><td class=\"tf ltr\"><span class=\" ubd\"><span class=\"plain   hlbx\" ><span class=\"txtu \"><span title=\"number\">2a</span><span title=\"prime\">'</span></span><span class=\"plain \" >[<span class=\"plain \" >N</span>]</span> <span class=\"plain \" >2(N14)</span> <span class=\"plain \" >3(N01)</span> <span class=\"plain \" >KASZ~b</span> <span class=\"plain \" >NUN~a</span> </span></span></td></tr>\n",
       "<tr class=\"tf ltr\"><td class=\"tf ltr\">2</td><td class=\"tf ltr\"><span class=\"tfsechead ltr\"><span class=\"ltr\"><a target=\"_blank\" href=\"https://cdli.ucla.edu/search/search_results.php?SearchMode=Text&amp;ObjectID=P448702\" title=\"to CDLI main page for this tablet\" sec=\"P448702 obverse:1:2\">P448702 obverse:1:2</a></span></span></td><td class=\"tf ltr\"><span class=\" ubd\"><span class=\"plain   hlbx\" ><span class=\"txtu \"><span title=\"number\">2b</span><span title=\"prime\">'</span></span><span class=\"plain \" >3(N01)</span> <span class=\"plain \" >KASZ~a</span> <span class=\"plain \" >GI</span> </span></span></td></tr>\n",
       "<tr class=\"tf ltr\"><td class=\"tf ltr\">3</td><td class=\"tf ltr\"><span class=\"tfsechead ltr\"><span class=\"ltr\"><a target=\"_blank\" href=\"https://cdli.ucla.edu/search/search_results.php?SearchMode=Text&amp;ObjectID=P471695\" title=\"to CDLI main page for this tablet\" sec=\"P471695 obverse:1:1\">P471695 obverse:1:1</a></span></span></td><td class=\"tf ltr\"><span class=\" ubd\"><span class=\"plain   hlbx\" ><span class=\"txtu \"><span title=\"number\">1a</span><span title=\"prime\"></span></span><span class=\"plain \" >3(N01)</span> <span class=\"plain \" >APIN~a</span> <span class=\"plain \" >3(N57)</span> <span class=\"plain \" >UR4~a</span> </span></span></td></tr>\n",
       "<tr class=\"tf ltr\"><td class=\"tf ltr\">4</td><td class=\"tf ltr\"><span class=\"tfsechead ltr\"><span class=\"ltr\"><a target=\"_blank\" href=\"https://cdli.ucla.edu/search/search_results.php?SearchMode=Text&amp;ObjectID=P471695\" title=\"to CDLI main page for this tablet\" sec=\"P471695 obverse:1:2\">P471695 obverse:1:2</a></span></span></td><td class=\"tf ltr\"><span class=\" ubd\"><span class=\"plain   hlbx\" ><span class=\"txtu \"><span title=\"number\">2a</span><span title=\"prime\"></span></span><span class=\"plain \" >1(N14)</span> <span class=\"plain \" >2(N01)</span> <span class=\"plain \" >[<span class=\"plain \" >...</span>]</span> </span></span></td></tr>\n",
       "<tr class=\"tf ltr\"><td class=\"tf ltr\">5</td><td class=\"tf ltr\"><span class=\"tfsechead ltr\"><span class=\"ltr\"><a target=\"_blank\" href=\"https://cdli.ucla.edu/search/search_results.php?SearchMode=Text&amp;ObjectID=P471695\" title=\"to CDLI main page for this tablet\" sec=\"P471695 obverse:2:1\">P471695 obverse:2:1</a></span></span></td><td class=\"tf ltr\"><span class=\" ubd\"><span class=\"plain   hlbx\" ><span class=\"txtu \"><span title=\"number\">1a</span><span title=\"prime\"></span></span><span class=\"plain \" >1(N01)</span> <span class=\"plain \" >ISZ~a</span> </span></span></td></tr>\n",
       "<tr class=\"tf ltr\"><td class=\"tf ltr\">6</td><td class=\"tf ltr\"><span class=\"tfsechead ltr\"><span class=\"ltr\"><a target=\"_blank\" href=\"https://cdli.ucla.edu/search/search_results.php?SearchMode=Text&amp;ObjectID=P482083\" title=\"to CDLI main page for this tablet\" sec=\"P482083 obverse:1:1\">P482083 obverse:1:1</a></span></span></td><td class=\"tf ltr\"><span class=\" ubd\"><span class=\"plain   hlbx\" ><span class=\"txtu \"><span title=\"number\">1a</span><span title=\"prime\">'</span></span><span class=\"plain \" >[<span class=\"plain \" >...</span>]</span> <span class=\"plain \" >1(N14)</span> <span class=\"plain \" >[<span class=\"plain \" >...</span>]</span> <span class=\"plain \" >SZE~a</span> </span></span></td></tr>\n",
       "<tr class=\"tf ltr\"><td class=\"tf ltr\">7</td><td class=\"tf ltr\"><span class=\"tfsechead ltr\"><span class=\"ltr\"><a target=\"_blank\" href=\"https://cdli.ucla.edu/search/search_results.php?SearchMode=Text&amp;ObjectID=P482083\" title=\"to CDLI main page for this tablet\" sec=\"P482083 obverse:1:1\">P482083 obverse:1:1</a></span></span></td><td class=\"tf ltr\"><span class=\" ubd\"><span class=\"plain   hlbx\" ><span class=\"txtu \"><span title=\"number\">1b</span><span title=\"prime\">'</span></span><span class=\"plain \" >[<span class=\"plain \" >N</span>]</span> <span class=\"plain \" >TAR~a</span> </span></span></td></tr>\n",
       "<tr class=\"tf ltr\"><td class=\"tf ltr\">8</td><td class=\"tf ltr\"><span class=\"tfsechead ltr\"><span class=\"ltr\"><a target=\"_blank\" href=\"https://cdli.ucla.edu/search/search_results.php?SearchMode=Text&amp;ObjectID=P482083\" title=\"to CDLI main page for this tablet\" sec=\"P482083 obverse:1:2\">P482083 obverse:1:2</a></span></span></td><td class=\"tf ltr\"><span class=\" ubd\"><span class=\"plain   hlbx\" ><span class=\"txtu \"><span title=\"number\">2a</span><span title=\"prime\">'</span></span><span class=\"plain \" >3(N01)</span> <span class=\"plain \" >SZE~a</span> <span class=\"plain \" >KASZ~b</span> <span class=\"plain \" >|<span class=\"plain \" >U4</span>x<span class=\"plain \" >3(N01)</span>|</span> </span></span></td></tr>\n",
       "<tr class=\"tf ltr\"><td class=\"tf ltr\">9</td><td class=\"tf ltr\"><span class=\"tfsechead ltr\"><span class=\"ltr\"><a target=\"_blank\" href=\"https://cdli.ucla.edu/search/search_results.php?SearchMode=Text&amp;ObjectID=P482083\" title=\"to CDLI main page for this tablet\" sec=\"P482083 obverse:1:2\">P482083 obverse:1:2</a></span></span></td><td class=\"tf ltr\"><span class=\" ubd\"><span class=\"plain   hlbx\" ><span class=\"txtu \"><span title=\"number\">2b</span><span title=\"prime\">'</span></span><span class=\"plain \" ></span> <span class=\"plain \" >1(N42~a)</span> <span class=\"plain \" >1(N25)</span> <span class=\"plain \" >TAR~a</span> </span></span></td></tr>\n",
       "<tr class=\"tf ltr\"><td class=\"tf ltr\">10</td><td class=\"tf ltr\"><span class=\"tfsechead ltr\"><span class=\"ltr\"><a target=\"_blank\" href=\"https://cdli.ucla.edu/search/search_results.php?SearchMode=Text&amp;ObjectID=P006438\" title=\"to CDLI main page for this tablet\" sec=\"P006438 obverse:1:2\">P006438 obverse:1:2</a></span></span></td><td class=\"tf ltr\"><span class=\" ubd\"><span class=\"plain   hlbx\" ><span class=\"txtu \"><span title=\"number\">2a</span><span title=\"prime\"></span></span><span class=\"plain \" >KU6~a</span> <span class=\"plain \" >BU~a</span> </span></span></td></tr></table>"
      ],
      "text/plain": [
       "<IPython.core.display.HTML object>"
      ]
     },
     "metadata": {},
     "output_type": "display_data"
    }
   ],
   "source": [
    "query = \"\"\"\n",
    "case depth=1 terminal\n",
    "\"\"\"\n",
    "results = A.search(query)\n",
    "A.table(results, end=10)\n",
    "tc1 = len(results)"
   ]
  },
  {
   "cell_type": "markdown",
   "metadata": {},
   "source": [
    "Now let us select both the terminal cases of level 1 and 4.\n",
    "They are disjunct, so the amounts should add up."
   ]
  },
  {
   "cell_type": "code",
   "execution_count": 44,
   "metadata": {
    "ExecuteTime": {
     "end_time": "2018-05-24T10:18:43.551533Z",
     "start_time": "2018-05-24T10:18:43.505697Z"
    }
   },
   "outputs": [
    {
     "name": "stdout",
     "output_type": "stream",
     "text": [
      "  0.01s 5587 results\n"
     ]
    },
    {
     "data": {
      "text/html": [
       "<table><tr class=\"tf ltr\"><th class=\"tf ltr\">n</th><th class=\"tf ltr\">p</th><th class=\"tf ltr\">case</th></tr>\n",
       "<tr class=\"tf ltr\"><td class=\"tf ltr\">1</td><td class=\"tf ltr\"><span class=\"tfsechead ltr\"><span class=\"ltr\"><a target=\"_blank\" href=\"https://cdli.ucla.edu/search/search_results.php?SearchMode=Text&amp;ObjectID=P448702\" title=\"to CDLI main page for this tablet\" sec=\"P448702 obverse:1:2\">P448702 obverse:1:2</a></span></span></td><td class=\"tf ltr\"><span class=\" ubd\"><span class=\"plain   hlbx\" ><span class=\"txtu \"><span title=\"number\">2a</span><span title=\"prime\">'</span></span><span class=\"plain \" >[<span class=\"plain \" >N</span>]</span> <span class=\"plain \" >2(N14)</span> <span class=\"plain \" >3(N01)</span> <span class=\"plain \" >KASZ~b</span> <span class=\"plain \" >NUN~a</span> </span></span></td></tr>\n",
       "<tr class=\"tf ltr\"><td class=\"tf ltr\">2</td><td class=\"tf ltr\"><span class=\"tfsechead ltr\"><span class=\"ltr\"><a target=\"_blank\" href=\"https://cdli.ucla.edu/search/search_results.php?SearchMode=Text&amp;ObjectID=P448702\" title=\"to CDLI main page for this tablet\" sec=\"P448702 obverse:1:2\">P448702 obverse:1:2</a></span></span></td><td class=\"tf ltr\"><span class=\" ubd\"><span class=\"plain   hlbx\" ><span class=\"txtu \"><span title=\"number\">2b</span><span title=\"prime\">'</span></span><span class=\"plain \" >3(N01)</span> <span class=\"plain \" >KASZ~a</span> <span class=\"plain \" >GI</span> </span></span></td></tr>\n",
       "<tr class=\"tf ltr\"><td class=\"tf ltr\">3</td><td class=\"tf ltr\"><span class=\"tfsechead ltr\"><span class=\"ltr\"><a target=\"_blank\" href=\"https://cdli.ucla.edu/search/search_results.php?SearchMode=Text&amp;ObjectID=P471695\" title=\"to CDLI main page for this tablet\" sec=\"P471695 obverse:1:1\">P471695 obverse:1:1</a></span></span></td><td class=\"tf ltr\"><span class=\" ubd\"><span class=\"plain   hlbx\" ><span class=\"txtu \"><span title=\"number\">1a</span><span title=\"prime\"></span></span><span class=\"plain \" >3(N01)</span> <span class=\"plain \" >APIN~a</span> <span class=\"plain \" >3(N57)</span> <span class=\"plain \" >UR4~a</span> </span></span></td></tr>\n",
       "<tr class=\"tf ltr\"><td class=\"tf ltr\">4</td><td class=\"tf ltr\"><span class=\"tfsechead ltr\"><span class=\"ltr\"><a target=\"_blank\" href=\"https://cdli.ucla.edu/search/search_results.php?SearchMode=Text&amp;ObjectID=P471695\" title=\"to CDLI main page for this tablet\" sec=\"P471695 obverse:1:2\">P471695 obverse:1:2</a></span></span></td><td class=\"tf ltr\"><span class=\" ubd\"><span class=\"plain   hlbx\" ><span class=\"txtu \"><span title=\"number\">2a</span><span title=\"prime\"></span></span><span class=\"plain \" >1(N14)</span> <span class=\"plain \" >2(N01)</span> <span class=\"plain \" >[<span class=\"plain \" >...</span>]</span> </span></span></td></tr>\n",
       "<tr class=\"tf ltr\"><td class=\"tf ltr\">5</td><td class=\"tf ltr\"><span class=\"tfsechead ltr\"><span class=\"ltr\"><a target=\"_blank\" href=\"https://cdli.ucla.edu/search/search_results.php?SearchMode=Text&amp;ObjectID=P471695\" title=\"to CDLI main page for this tablet\" sec=\"P471695 obverse:2:1\">P471695 obverse:2:1</a></span></span></td><td class=\"tf ltr\"><span class=\" ubd\"><span class=\"plain   hlbx\" ><span class=\"txtu \"><span title=\"number\">1a</span><span title=\"prime\"></span></span><span class=\"plain \" >1(N01)</span> <span class=\"plain \" >ISZ~a</span> </span></span></td></tr>\n",
       "<tr class=\"tf ltr\"><td class=\"tf ltr\">6</td><td class=\"tf ltr\"><span class=\"tfsechead ltr\"><span class=\"ltr\"><a target=\"_blank\" href=\"https://cdli.ucla.edu/search/search_results.php?SearchMode=Text&amp;ObjectID=P482083\" title=\"to CDLI main page for this tablet\" sec=\"P482083 obverse:1:1\">P482083 obverse:1:1</a></span></span></td><td class=\"tf ltr\"><span class=\" ubd\"><span class=\"plain   hlbx\" ><span class=\"txtu \"><span title=\"number\">1a</span><span title=\"prime\">'</span></span><span class=\"plain \" >[<span class=\"plain \" >...</span>]</span> <span class=\"plain \" >1(N14)</span> <span class=\"plain \" >[<span class=\"plain \" >...</span>]</span> <span class=\"plain \" >SZE~a</span> </span></span></td></tr>\n",
       "<tr class=\"tf ltr\"><td class=\"tf ltr\">7</td><td class=\"tf ltr\"><span class=\"tfsechead ltr\"><span class=\"ltr\"><a target=\"_blank\" href=\"https://cdli.ucla.edu/search/search_results.php?SearchMode=Text&amp;ObjectID=P482083\" title=\"to CDLI main page for this tablet\" sec=\"P482083 obverse:1:1\">P482083 obverse:1:1</a></span></span></td><td class=\"tf ltr\"><span class=\" ubd\"><span class=\"plain   hlbx\" ><span class=\"txtu \"><span title=\"number\">1b</span><span title=\"prime\">'</span></span><span class=\"plain \" >[<span class=\"plain \" >N</span>]</span> <span class=\"plain \" >TAR~a</span> </span></span></td></tr>\n",
       "<tr class=\"tf ltr\"><td class=\"tf ltr\">8</td><td class=\"tf ltr\"><span class=\"tfsechead ltr\"><span class=\"ltr\"><a target=\"_blank\" href=\"https://cdli.ucla.edu/search/search_results.php?SearchMode=Text&amp;ObjectID=P482083\" title=\"to CDLI main page for this tablet\" sec=\"P482083 obverse:1:2\">P482083 obverse:1:2</a></span></span></td><td class=\"tf ltr\"><span class=\" ubd\"><span class=\"plain   hlbx\" ><span class=\"txtu \"><span title=\"number\">2a</span><span title=\"prime\">'</span></span><span class=\"plain \" >3(N01)</span> <span class=\"plain \" >SZE~a</span> <span class=\"plain \" >KASZ~b</span> <span class=\"plain \" >|<span class=\"plain \" >U4</span>x<span class=\"plain \" >3(N01)</span>|</span> </span></span></td></tr>\n",
       "<tr class=\"tf ltr\"><td class=\"tf ltr\">9</td><td class=\"tf ltr\"><span class=\"tfsechead ltr\"><span class=\"ltr\"><a target=\"_blank\" href=\"https://cdli.ucla.edu/search/search_results.php?SearchMode=Text&amp;ObjectID=P482083\" title=\"to CDLI main page for this tablet\" sec=\"P482083 obverse:1:2\">P482083 obverse:1:2</a></span></span></td><td class=\"tf ltr\"><span class=\" ubd\"><span class=\"plain   hlbx\" ><span class=\"txtu \"><span title=\"number\">2b</span><span title=\"prime\">'</span></span><span class=\"plain \" ></span> <span class=\"plain \" >1(N42~a)</span> <span class=\"plain \" >1(N25)</span> <span class=\"plain \" >TAR~a</span> </span></span></td></tr>\n",
       "<tr class=\"tf ltr\"><td class=\"tf ltr\">10</td><td class=\"tf ltr\"><span class=\"tfsechead ltr\"><span class=\"ltr\"><a target=\"_blank\" href=\"https://cdli.ucla.edu/search/search_results.php?SearchMode=Text&amp;ObjectID=P006438\" title=\"to CDLI main page for this tablet\" sec=\"P006438 obverse:1:2\">P006438 obverse:1:2</a></span></span></td><td class=\"tf ltr\"><span class=\" ubd\"><span class=\"plain   hlbx\" ><span class=\"txtu \"><span title=\"number\">2a</span><span title=\"prime\"></span></span><span class=\"plain \" >KU6~a</span> <span class=\"plain \" >BU~a</span> </span></span></td></tr></table>"
      ],
      "text/plain": [
       "<IPython.core.display.HTML object>"
      ]
     },
     "metadata": {},
     "output_type": "display_data"
    },
    {
     "name": "stdout",
     "output_type": "stream",
     "text": [
      "5468 + 119 = 5587 = 5587\n"
     ]
    }
   ],
   "source": [
    "query = \"\"\"\n",
    "case depth=1|4 terminal\n",
    "\"\"\"\n",
    "results = A.search(query)\n",
    "A.table(results, end=10)\n",
    "tc14 = len(results)\n",
    "print(f\"{tc1} + {tc4} = {tc1 + tc4} = {tc14}\")"
   ]
  },
  {
   "cell_type": "markdown",
   "metadata": {},
   "source": [
    "## Relational patterns: quads\n",
    "\n",
    "Quads are compositions of signs by means of *operators*, such as `.` and `x`.\n",
    "The operators are coded as an *edge* feature with values. The `op`-edges are between the signs/quads that are combined,\n",
    "and the values of the `op` edges are the names of the operators in question.\n",
    "\n",
    "Which operators do we have?"
   ]
  },
  {
   "cell_type": "code",
   "execution_count": 45,
   "metadata": {
    "ExecuteTime": {
     "end_time": "2018-05-24T10:18:45.976887Z",
     "start_time": "2018-05-24T10:18:45.964422Z"
    }
   },
   "outputs": [
    {
     "name": "stdout",
     "output_type": "stream",
     "text": [
      "x :  2346x\n",
      ". :  1042x\n",
      "& :   222x\n",
      "+ :   200x\n"
     ]
    }
   ],
   "source": [
    "for (op, freq) in E.op.freqList():\n",
    "    print(f\"{op} : {freq:>5}x\")"
   ]
  },
  {
   "cell_type": "markdown",
   "metadata": {},
   "source": [
    "Between how many sign pairs do we have an operator?"
   ]
  },
  {
   "cell_type": "code",
   "execution_count": 46,
   "metadata": {
    "ExecuteTime": {
     "end_time": "2018-05-24T10:18:47.834105Z",
     "start_time": "2018-05-24T10:18:47.352938Z"
    }
   },
   "outputs": [
    {
     "name": "stdout",
     "output_type": "stream",
     "text": [
      "  0.06s 3642 results\n"
     ]
    }
   ],
   "source": [
    "query = \"\"\"\n",
    "sign\n",
    "-op> sign\n",
    "\"\"\"\n",
    "results = A.search(query)"
   ]
  },
  {
   "cell_type": "markdown",
   "metadata": {},
   "source": [
    "Lets specifically ask for the `x` operator:"
   ]
  },
  {
   "cell_type": "code",
   "execution_count": 47,
   "metadata": {
    "ExecuteTime": {
     "end_time": "2018-05-24T10:18:50.032239Z",
     "start_time": "2018-05-24T10:18:49.683663Z"
    },
    "lines_to_next_cell": 2
   },
   "outputs": [
    {
     "name": "stdout",
     "output_type": "stream",
     "text": [
      "  0.06s 2238 results\n"
     ]
    }
   ],
   "source": [
    "query = \"\"\"\n",
    "sign\n",
    "-op=x> sign\n",
    "\"\"\"\n",
    "results = A.search(query)"
   ]
  },
  {
   "cell_type": "markdown",
   "metadata": {
    "lines_to_next_cell": 2
   },
   "source": [
    "Less than expected?\n",
    "\n",
    "We must not forget the combinations between quads and between quads and signs.\n",
    "\n",
    "We write a function that gives all pairs of sign/quads connected by a specific operator.\n",
    "\n",
    "This is a fine illustration of how you can use programming to compose search templates,\n",
    "instead of writing them out yourself."
   ]
  },
  {
   "cell_type": "code",
   "execution_count": 48,
   "metadata": {
    "ExecuteTime": {
     "end_time": "2018-05-24T10:18:52.433677Z",
     "start_time": "2018-05-24T10:18:52.427761Z"
    }
   },
   "outputs": [],
   "source": [
    "def getCombi(op):\n",
    "    types = (\"sign\", \"quad\")\n",
    "    allResults = []\n",
    "    for type1 in types:\n",
    "        for type2 in types:\n",
    "            query = f\"\"\"\n",
    "{type1}\n",
    "-op{op}> {type2}\n",
    "\"\"\"\n",
    "            results = A.search(query, silent=True)\n",
    "            print(f\"{len(results):>5} {type1} {op} {type2}\")\n",
    "            allResults += results\n",
    "    print(f\"{len(allResults):>5} {op}\")"
   ]
  },
  {
   "cell_type": "markdown",
   "metadata": {},
   "source": [
    "Now we can count all combinations with `x`:"
   ]
  },
  {
   "cell_type": "code",
   "execution_count": 49,
   "metadata": {
    "ExecuteTime": {
     "end_time": "2018-05-24T10:18:54.827984Z",
     "start_time": "2018-05-24T10:18:54.177596Z"
    }
   },
   "outputs": [
    {
     "name": "stdout",
     "output_type": "stream",
     "text": [
      " 2238 sign =x sign\n",
      "  105 sign =x quad\n",
      "    3 quad =x sign\n",
      "    0 quad =x quad\n",
      " 2346 =x\n"
     ]
    }
   ],
   "source": [
    "getCombi(\"=x\")"
   ]
  },
  {
   "cell_type": "code",
   "execution_count": 50,
   "metadata": {
    "ExecuteTime": {
     "end_time": "2018-05-24T10:18:56.734739Z",
     "start_time": "2018-05-24T10:18:56.098035Z"
    }
   },
   "outputs": [
    {
     "name": "stdout",
     "output_type": "stream",
     "text": [
      "  985 sign =. sign\n",
      "   43 sign =. quad\n",
      "   14 quad =. sign\n",
      "    0 quad =. quad\n",
      " 1042 =.\n"
     ]
    }
   ],
   "source": [
    "getCombi(\"=.\")"
   ]
  },
  {
   "cell_type": "code",
   "execution_count": 51,
   "metadata": {
    "ExecuteTime": {
     "end_time": "2018-05-24T10:18:59.101012Z",
     "start_time": "2018-05-24T10:18:58.459589Z"
    }
   },
   "outputs": [
    {
     "name": "stdout",
     "output_type": "stream",
     "text": [
      "  220 sign =& sign\n",
      "    1 sign =& quad\n",
      "    0 quad =& sign\n",
      "    1 quad =& quad\n",
      "  222 =&\n"
     ]
    }
   ],
   "source": [
    "getCombi(\"=&\")"
   ]
  },
  {
   "cell_type": "code",
   "execution_count": 52,
   "metadata": {
    "ExecuteTime": {
     "end_time": "2018-05-24T10:19:00.555930Z",
     "start_time": "2018-05-24T10:18:59.932307Z"
    }
   },
   "outputs": [
    {
     "name": "stdout",
     "output_type": "stream",
     "text": [
      "  199 sign =+ sign\n",
      "    0 sign =+ quad\n",
      "    0 quad =+ sign\n",
      "    1 quad =+ quad\n",
      "  200 =+\n"
     ]
    }
   ],
   "source": [
    "getCombi(\"=+\")"
   ]
  },
  {
   "cell_type": "markdown",
   "metadata": {},
   "source": [
    "In exact agreement with the results of `E.op.freqList()` above.\n",
    "But we are more flexible!\n",
    "\n",
    "We can ask for more operators at the same time."
   ]
  },
  {
   "cell_type": "code",
   "execution_count": 53,
   "metadata": {
    "ExecuteTime": {
     "end_time": "2018-05-24T10:19:02.823778Z",
     "start_time": "2018-05-24T10:19:02.169533Z"
    }
   },
   "outputs": [
    {
     "name": "stdout",
     "output_type": "stream",
     "text": [
      " 2437 sign =x|+ sign\n",
      "  105 sign =x|+ quad\n",
      "    3 quad =x|+ sign\n",
      "    1 quad =x|+ quad\n",
      " 2546 =x|+\n"
     ]
    }
   ],
   "source": [
    "getCombi(\"=x|+\")"
   ]
  },
  {
   "cell_type": "code",
   "execution_count": 54,
   "metadata": {
    "ExecuteTime": {
     "end_time": "2018-05-24T10:19:05.873634Z",
     "start_time": "2018-05-24T10:19:05.095921Z"
    }
   },
   "outputs": [
    {
     "name": "stdout",
     "output_type": "stream",
     "text": [
      " 1404 sign ~[^a-z] sign\n",
      "   44 sign ~[^a-z] quad\n",
      "   14 quad ~[^a-z] sign\n",
      "    2 quad ~[^a-z] quad\n",
      " 1464 ~[^a-z]\n"
     ]
    }
   ],
   "source": [
    "getCombi(\"~[^a-z]\")"
   ]
  },
  {
   "cell_type": "markdown",
   "metadata": {},
   "source": [
    "Finally, we zoom in on the rare cases where the operator is `x` used between a quad and a sign.\n",
    "We want to see the show the lines where they occur."
   ]
  },
  {
   "cell_type": "code",
   "execution_count": 55,
   "metadata": {
    "ExecuteTime": {
     "end_time": "2018-05-24T10:19:09.476226Z",
     "start_time": "2018-05-24T10:19:09.362590Z"
    }
   },
   "outputs": [
    {
     "name": "stdout",
     "output_type": "stream",
     "text": [
      "  0.04s 3 results\n"
     ]
    },
    {
     "data": {
      "text/html": [
       "<p><b>result</b> <i>1</i>"
      ],
      "text/plain": [
       "<IPython.core.display.HTML object>"
      ]
     },
     "metadata": {},
     "output_type": "display_data"
    },
    {
     "data": {
      "text/html": [
       "<div class=\"tfsechead \"><span class=\"ltr\"><a target=\"_blank\" href=\"https://cdli.ucla.edu/search/search_results.php?SearchMode=Text&amp;ObjectID=P002264\" title=\"to CDLI main page for this tablet\" sec=\"P002264 obverse:1:1\">P002264 obverse:1:1</a></span></div><div class=\" children\"><div class=\"contnr c2    \" ><div class=\"lbl c2  \" ><span class=\"nd\">line:244724 </span> <span class=\"txtu\"><span title=\"number\">1</span></span></div><div class=\"children hor  \"><div class=\"contnr c1 cluster trm   \" ><div class=\"lbl c1 clusterb trm \" ><span class=\"nd\">cluster:210220 </span> <span class=\"txtu\"><span title=\"type\">?</span></span></div></div><div class=\"children hor wrap \"><div class=\"contnr c0 trm   \" ><div class=\"lbl c0 trm \" ><span class=\"nd\">67704 </span> <span class=\"txtu\"><span title=\"atf\">...</span></span></div></div></div><div class=\"contnr c1 cluster {}   \" ><div class=\"lbl c1 clustere trm \" ><span class=\"nd\">cluster:210220 </span> <span class=\"txtu\"><span title=\"type\">?</span></span></div> </div><div class=\"contnr c1    \" ><div class=\"lbl c1  \" ><span class=\"nd\">quad:141950 </span></div><div class=\"children hor wrap \"><div class=\"contnr c1    hl\" ><div class=\"lbl c1  hl\" ><span class=\"nd\">quad:141951 </span></div><div class=\"children hor wrap \"><div class=\"contnr c0 trm   \" ><div class=\"lbl c0 trm \" ><span class=\"nd\">67705 </span> <span class=\"txtu\"><span title=\"atf\">GI</span></span></div></div><div class=\"op\">&</div><div class=\"contnr c0 trm   \" ><div class=\"lbl c0 trm \" ><span class=\"nd\">67706 </span> <span class=\"txtu\"><span title=\"atf\">GI</span></span></div></div></div></div><div class=\"op\">x</div><div class=\"contnr c0 trm   hl\" ><div class=\"lbl c0 trm hl\" ><span class=\"nd\">67707 </span> <span class=\"txtu\"><span title=\"atf\">SZE3</span></span></div></div></div></div><div class=\"contnr c0 trm   \" ><div class=\"lbl c0 trm \" ><span class=\"nd\">67708 </span> <span class=\"txtu\"><span title=\"atf\">UR2</span></span></div><div><a target=\"_blank\" href=\"https://cdli.ucla.edu/tools/SignLists/protocuneiform/archsigns/UR2.jpg\" title=\"to higher resolution lineart on CDLI\"><img src=\"cdli-imagery/lineart-ur2.jpg\" style=\"display: inline;max-width: 2em; max-height: 6em;\"  /></a></div></div><div class=\"contnr c1 cluster trm   \" ><div class=\"lbl c1 clusterb trm \" ><span class=\"nd\">cluster:210221 </span> <span class=\"txtu\"><span title=\"type\">?</span></span></div></div><div class=\"children hor wrap \"><div class=\"contnr c0 trm   \" ><div class=\"lbl c0 trm \" ><span class=\"nd\">67709 </span> <span class=\"txtu\"><span title=\"atf\">...</span></span></div></div></div><div class=\"contnr c1 cluster {}   \" ><div class=\"lbl c1 clustere trm \" ><span class=\"nd\">cluster:210221 </span> <span class=\"txtu\"><span title=\"type\">?</span></span></div> </div></div></div></div>"
      ],
      "text/plain": [
       "<IPython.core.display.HTML object>"
      ]
     },
     "metadata": {},
     "output_type": "display_data"
    },
    {
     "data": {
      "text/html": [
       "<p><b>result</b> <i>2</i>"
      ],
      "text/plain": [
       "<IPython.core.display.HTML object>"
      ]
     },
     "metadata": {},
     "output_type": "display_data"
    },
    {
     "data": {
      "text/html": [
       "<div class=\"tfsechead \"><span class=\"ltr\"><a target=\"_blank\" href=\"https://cdli.ucla.edu/search/search_results.php?SearchMode=Text&amp;ObjectID=P002624\" title=\"to CDLI main page for this tablet\" sec=\"P002624 obverse:2:3\">P002624 obverse:2:3</a></span></div><div class=\" children\"><div class=\"contnr c2    \" ><div class=\"lbl c2  \" ><span class=\"nd\">line:255152 </span> <span class=\"txtu\"><span title=\"number\">3</span></span></div><div class=\"children hor  \"><div class=\"contnr c1    \" ><div class=\"lbl c1  \" ><span class=\"nd\">quad:143120 </span></div><div class=\"children hor wrap \"><div class=\"contnr c1    hl\" ><div class=\"lbl c1  hl\" ><span class=\"nd\">quad:143121 </span></div><div class=\"children hor wrap \"><div class=\"contnr c0 trm   \" ><div class=\"lbl c0 trm \" ><span class=\"nd\">110687 </span> <span class=\"txtu\"><span title=\"atf\">GI</span></span></div></div><div class=\"op\">&</div><div class=\"contnr c0 trm   \" ><div class=\"lbl c0 trm \" ><span class=\"nd\">110688 </span> <span class=\"txtu\"><span title=\"atf\">GI</span></span></div></div></div></div><div class=\"op\">x</div><div class=\"contnr c0 trm   hl\" ><div class=\"lbl c0 trm hl\" ><span class=\"nd\">110689 </span> <span class=\"txtu\"><span title=\"atf\">SZE3</span></span></div></div></div></div><div class=\"contnr c0 trm   \" ><div class=\"lbl c0 trm \" ><span class=\"nd\">110690 </span> <span class=\"txtu\"><span title=\"atf\">3(N57)</span></span></div><div><a target=\"_blank\" href=\"https://cdli.ucla.edu/tools/SignLists/protocuneiform/archsigns/3(N57).jpg\" title=\"to higher resolution lineart on CDLI\"><img src=\"cdli-imagery/lineart-3(n57).jpg\" style=\"display: inline;max-width: 2em; max-height: 6em;\"  /></a></div></div></div></div></div>"
      ],
      "text/plain": [
       "<IPython.core.display.HTML object>"
      ]
     },
     "metadata": {},
     "output_type": "display_data"
    },
    {
     "data": {
      "text/html": [
       "<p><b>result</b> <i>3</i>"
      ],
      "text/plain": [
       "<IPython.core.display.HTML object>"
      ]
     },
     "metadata": {},
     "output_type": "display_data"
    },
    {
     "data": {
      "text/html": [
       "<div class=\"tfsechead \"><span class=\"ltr\"><a target=\"_blank\" href=\"https://cdli.ucla.edu/search/search_results.php?SearchMode=Text&amp;ObjectID=P004659\" title=\"to CDLI main page for this tablet\" sec=\"P004659 obverse:1:2\">P004659 obverse:1:2</a></span></div><div class=\" children\"><div class=\"contnr c2    \" ><div class=\"lbl c2  \" ><span class=\"nd\">line:260576 </span> <span class=\"txtu\"><span title=\"number\">2</span></span></div><div class=\"children hor  \"><div class=\"contnr c0 trm   \" ><div class=\"lbl c0 trm \" ><span class=\"nd\">131407 </span> <span class=\"txtu\"><span title=\"atf\">1(N48)#</span></span></div><div><a target=\"_blank\" href=\"https://cdli.ucla.edu/tools/SignLists/protocuneiform/archsigns/1(N48).jpg\" title=\"to higher resolution lineart on CDLI\"><img src=\"cdli-imagery/lineart-1(n48).jpg\" style=\"display: inline;max-width: 2em; max-height: 6em;\"  /></a></div></div><div class=\"contnr c0 trm   \" ><div class=\"lbl c0 trm \" ><span class=\"nd\">131408 </span> <span class=\"txtu\"><span title=\"atf\">8(N34)#</span></span></div><div><a target=\"_blank\" href=\"https://cdli.ucla.edu/tools/SignLists/protocuneiform/archsigns/8(N34).jpg\" title=\"to higher resolution lineart on CDLI\"><img src=\"cdli-imagery/lineart-8(n34).jpg\" style=\"display: inline;max-width: 2em; max-height: 6em;\"  /></a></div></div><div class=\"contnr c1    \" ><div class=\"lbl c1  \" ><span class=\"nd\">quad:143672 </span></div><div><a target=\"_blank\" href=\"https://cdli.ucla.edu/tools/SignLists/protocuneiform/archsigns/|(GI&amp;GI)xGISZ@t|.jpg\" title=\"to higher resolution lineart on CDLI\"><img src=\"cdli-imagery/lineart-q(gi(e)gi)xgisz(a)tq.jpg\" style=\"display: inline;max-width: 4em; max-height: 4em;\"  /></a></div><div class=\"children hor wrap \"><div class=\"contnr c1    hl\" ><div class=\"lbl c1  hl\" ><span class=\"nd\">quad:143673 </span></div><div class=\"children hor wrap \"><div class=\"contnr c0 trm   \" ><div class=\"lbl c0 trm \" ><span class=\"nd\">131409 </span> <span class=\"txtu\"><span title=\"atf\">GI</span></span></div></div><div class=\"op\">&</div><div class=\"contnr c0 trm   \" ><div class=\"lbl c0 trm \" ><span class=\"nd\">131410 </span> <span class=\"txtu\"><span title=\"atf\">GI</span></span></div></div></div></div><div class=\"op\">x</div><div class=\"contnr c0 trm   hl\" ><div class=\"lbl c0 trm hl\" ><span class=\"nd\">131411 </span> <span class=\"txtu\"><span title=\"atf\">GISZ@t</span></span></div></div></div></div><div class=\"contnr c0 trm   \" ><div class=\"lbl c0 trm \" ><span class=\"nd\">131412 </span> <span class=\"txtu\"><span title=\"atf\">ZATU659#?</span></span></div><div><a target=\"_blank\" href=\"https://cdli.ucla.edu/tools/SignLists/protocuneiform/archsigns/ZATU659.jpg\" title=\"to higher resolution lineart on CDLI\"><img src=\"cdli-imagery/lineart-zatu659.jpg\" style=\"display: inline;max-width: 2em; max-height: 6em;\"  /></a></div></div><div class=\"contnr c0 trm   \" ><div class=\"lbl c0 trm \" ><span class=\"nd\">131413 </span> <span class=\"txtu\"><span title=\"atf\">USZ~a</span></span></div><div><a target=\"_blank\" href=\"https://cdli.ucla.edu/tools/SignLists/protocuneiform/archsigns/USZ~a.jpg\" title=\"to higher resolution lineart on CDLI\"><img src=\"cdli-imagery/lineart-usz-a.jpg\" style=\"display: inline;max-width: 2em; max-height: 6em;\"  /></a></div></div><div class=\"contnr c0 trm   \" ><div class=\"lbl c0 trm \" ><span class=\"nd\">131414 </span> <span class=\"txtu\"><span title=\"atf\">GU4#</span></span></div><div><a target=\"_blank\" href=\"https://cdli.ucla.edu/tools/SignLists/protocuneiform/archsigns/GU4.jpg\" title=\"to higher resolution lineart on CDLI\"><img src=\"cdli-imagery/lineart-gu4.jpg\" style=\"display: inline;max-width: 2em; max-height: 6em;\"  /></a></div></div></div></div></div>"
      ],
      "text/plain": [
       "<IPython.core.display.HTML object>"
      ]
     },
     "metadata": {},
     "output_type": "display_data"
    }
   ],
   "source": [
    "query = \"\"\"\n",
    "line\n",
    "  quad\n",
    "  -op=x> sign\n",
    "\"\"\"\n",
    "results = A.search(query)\n",
    "A.show(results, withNodes=True, showGraphics=True, condenseType=\"line\")"
   ]
  },
  {
   "cell_type": "markdown",
   "metadata": {},
   "source": [
    "Hint: if you want to see where these lines come from, hover over the line indicator, or click on it.\n",
    "\n",
    "Alternatively, you can set the condense type to tablet.\n",
    "And note that we have set the base type to `quad`, so that the pretty display does not unravel the quads."
   ]
  },
  {
   "cell_type": "code",
   "execution_count": 56,
   "metadata": {},
   "outputs": [
    {
     "data": {
      "text/html": [
       "<p><b>result</b> <i>1</i>"
      ],
      "text/plain": [
       "<IPython.core.display.HTML object>"
      ]
     },
     "metadata": {},
     "output_type": "display_data"
    },
    {
     "data": {
      "text/html": [
       "<div class=\"tfsechead \"><span class=\"ltr\"><a target=\"_blank\" href=\"https://cdli.ucla.edu/search/search_results.php?SearchMode=Text&amp;ObjectID=P002264\" title=\"to CDLI main page for this tablet\" sec=\"P002264\">P002264</a></span></div><div class=\" children\"><div class=\"contnr c4    \" ><div class=\"lbl c4  \" ><span class=\"nd\">tablet:146811 </span> <span class=\"txtu\"><span class=\"tfsechead ltr\"><span class=\"ltr\">P002264</span></span></span></div><div class=\"features\"><span class=\"name \" title=\"name\">IM 023435,19</span><span class=\"period \" title=\"period\">uruk-iii</span><span class=\"excavation \" title=\"excavation\">W 15771,h</span></div><div class=\"children ver  \"><div class=\"contnr c1    \" ><div class=\"lbl c1  \" ><span class=\"nd\">comment:176501 </span> <span class=\"txtu\"><span title=\"type\">meta</span></span></div><div class=\"features\"><span class=\"text \" title=\"text\">atf: lang qpc</span></div><div class=\"children hor wrap \"><div class=\"contnr c0 trm   \" ><div class=\"lbl c0 trm \" ><span class=\"nd\">67703 </span> <span class=\"txtu\"><span title=\"atf\"></span></span></div></div></div></div><div class=\"contnr c2    \" ><div class=\"lbl c2  \" ><span class=\"nd\">face:154869 </span> <span class=\"txtu\"><span title=\"type\">obverse</span></span></div><div class=\"children hor  \"><div class=\"contnr c3    \" ><div class=\"lbl c3  \" ><span class=\"nd\">column:186837 </span> <span class=\"txtu\"><span title=\"number\">1</span><span title=\"prime\"></span></span></div><div class=\"children ver  \"><div class=\"contnr c2    hl\" ><div class=\"lbl c2  hl\" ><span class=\"nd\">line:244724 </span> <span class=\"txtu\"><span title=\"number\">1</span></span></div><div class=\"children hor  \"><div class=\"contnr c1 cluster trm   \" ><div class=\"lbl c1 clusterb trm \" ><span class=\"nd\">cluster:210220 </span> <span class=\"txtu\"><span class=\"plain   \" ><span class=\"plain \" >[<span class=\"plain \" >...</span>]</span> </span></span></div></div><div class=\"contnr c1 cluster {}   \" ><div class=\"lbl c1 clustere trm \" ><span class=\"nd\">cluster:210220 </span> <span class=\"txtu\"><span class=\"plain   \" ><span class=\"plain \" >[<span class=\"plain \" >...</span>]</span> </span></span></div> </div><div class=\"contnr c1 trm   \" ><div class=\"lbl c1 trm \" ><span class=\"nd\">quad:141950 </span> <span class=\"txtu\"><span class=\"plain   \" ><span class=\"plain \" >|<span class=\"plain hl\" >(<span class=\"plain \" >GI</span>&<span class=\"plain \" >GI</span>)</span>x<span class=\"plain hl\" >SZE3</span>|</span> </span></span></div></div><div class=\"contnr c0 trm   \" ><div class=\"lbl c0 trm \" ><span class=\"nd\">67708 </span> <span class=\"txtu\"><span title=\"atf\">UR2</span></span></div><div><a target=\"_blank\" href=\"https://cdli.ucla.edu/tools/SignLists/protocuneiform/archsigns/UR2.jpg\" title=\"to higher resolution lineart on CDLI\"><img src=\"cdli-imagery/lineart-ur2.jpg\" style=\"display: inline;max-width: 2em; max-height: 6em;\"  /></a></div></div><div class=\"contnr c1 cluster trm   \" ><div class=\"lbl c1 clusterb trm \" ><span class=\"nd\">cluster:210221 </span> <span class=\"txtu\"><span class=\"plain   \" ><span class=\"plain \" >[<span class=\"plain \" >...</span>]</span> </span></span></div></div><div class=\"contnr c1 cluster {}   \" ><div class=\"lbl c1 clustere trm \" ><span class=\"nd\">cluster:210221 </span> <span class=\"txtu\"><span class=\"plain   \" ><span class=\"plain \" >[<span class=\"plain \" >...</span>]</span> </span></span></div> </div></div></div><div class=\"contnr c2    \" ><div class=\"lbl c2  \" ><span class=\"nd\">line:244725 </span> <span class=\"txtu\"><span title=\"number\">2</span></span></div><div class=\"children hor  \"><div class=\"contnr c1 trm   \" ><div class=\"lbl c1 trm \" ><span class=\"nd\">quad:141952 </span> <span class=\"txtu\"><span class=\"plain   \" ><span class=\"plain \" >|<span class=\"plain \" >SILA3~a</span>x<span class=\"plain \" >DUG~a</span>|</span>  <a target=\"_blank\" href=\"https://cdli.ucla.edu/tools/SignLists/protocuneiform/archsigns/|SILA3~axDUG~a|.jpg\" title=\"to higher resolution lineart on CDLI\"><img src=\"cdli-imagery/lineart-qsila3-axdug-aq.jpg\" style=\"display: inline;max-width: 4em; max-height: 4em;\"  /></a></span></span></div><div><a target=\"_blank\" href=\"https://cdli.ucla.edu/tools/SignLists/protocuneiform/archsigns/|SILA3~axDUG~a|.jpg\" title=\"to higher resolution lineart on CDLI\"><img src=\"cdli-imagery/lineart-qsila3-axdug-aq.jpg\" style=\"display: inline;max-width: 4em; max-height: 4em;\"  /></a></div></div><div class=\"contnr c0 trm   \" ><div class=\"lbl c0 trm \" ><span class=\"nd\">67712 </span> <span class=\"txtu\"><span title=\"atf\">MEN~a</span></span></div><div><a target=\"_blank\" href=\"https://cdli.ucla.edu/tools/SignLists/protocuneiform/archsigns/MEN~a.jpg\" title=\"to higher resolution lineart on CDLI\"><img src=\"cdli-imagery/lineart-men-a.jpg\" style=\"display: inline;max-width: 2em; max-height: 6em;\"  /></a></div></div><div class=\"contnr c0 trm   \" ><div class=\"lbl c0 trm \" ><span class=\"nd\">67713 </span> <span class=\"txtu\"><span title=\"atf\">SUKKAL#?</span></span></div><div><a target=\"_blank\" href=\"https://cdli.ucla.edu/tools/SignLists/protocuneiform/archsigns/SUKKAL.jpg\" title=\"to higher resolution lineart on CDLI\"><img src=\"cdli-imagery/lineart-sukkal.jpg\" style=\"display: inline;max-width: 2em; max-height: 6em;\"  /></a></div></div><div class=\"contnr c0 trm   \" ><div class=\"lbl c0 trm \" ><span class=\"nd\">67714 </span> <span class=\"txtu\"><span title=\"atf\">X</span></span></div></div><div class=\"contnr c0 trm   \" ><div class=\"lbl c0 trm \" ><span class=\"nd\">67715 </span> <span class=\"txtu\"><span title=\"atf\">X</span></span></div></div><div class=\"contnr c1 cluster trm   \" ><div class=\"lbl c1 clusterb trm \" ><span class=\"nd\">cluster:210222 </span> <span class=\"txtu\"><span class=\"plain   \" ><span class=\"plain \" >[<span class=\"plain \" >...</span>]</span> </span></span></div></div><div class=\"contnr c1 cluster {}   \" ><div class=\"lbl c1 clustere trm \" ><span class=\"nd\">cluster:210222 </span> <span class=\"txtu\"><span class=\"plain   \" ><span class=\"plain \" >[<span class=\"plain \" >...</span>]</span> </span></span></div> </div></div></div></div></div></div></div></div></div></div>"
      ],
      "text/plain": [
       "<IPython.core.display.HTML object>"
      ]
     },
     "metadata": {},
     "output_type": "display_data"
    },
    {
     "data": {
      "text/html": [
       "<p><b>result</b> <i>2</i>"
      ],
      "text/plain": [
       "<IPython.core.display.HTML object>"
      ]
     },
     "metadata": {},
     "output_type": "display_data"
    },
    {
     "data": {
      "text/html": [
       "<div class=\"tfsechead \"><span class=\"ltr\"><a target=\"_blank\" href=\"https://cdli.ucla.edu/search/search_results.php?SearchMode=Text&amp;ObjectID=P002624\" title=\"to CDLI main page for this tablet\" sec=\"P002624\">P002624</a></span></div><div class=\" children\"><div class=\"contnr c4    \" ><div class=\"lbl c4  \" ><span class=\"nd\">tablet:148296 </span> <span class=\"txtu\"><span class=\"tfsechead ltr\"><span class=\"ltr\">P002624</span></span></span></div><div class=\"features\"><span class=\"name \" title=\"name\">W 17480,b</span><span class=\"period \" title=\"period\">uruk-iii</span><span class=\"excavation \" title=\"excavation\">W 17480,b</span></div><div class=\"children ver  \"><div class=\"contnr c1    \" ><div class=\"lbl c1  \" ><span class=\"nd\">comment:178317 </span> <span class=\"txtu\"><span title=\"type\">meta</span></span></div><div class=\"features\"><span class=\"text \" title=\"text\">atf: lang qpc</span></div><div class=\"children hor wrap \"><div class=\"contnr c0 trm   \" ><div class=\"lbl c0 trm \" ><span class=\"nd\">110673 </span> <span class=\"txtu\"><span title=\"atf\"></span></span></div></div></div></div><div class=\"contnr c2    \" ><div class=\"lbl c2  \" ><span class=\"nd\">face:157130 </span> <span class=\"txtu\"><span title=\"type\">obverse</span></span></div><div class=\"children hor  \"><div class=\"contnr c3    \" ><div class=\"lbl c3  \" ><span class=\"nd\">column:190707 </span> <span class=\"txtu\"><span title=\"number\">1</span><span title=\"prime\"></span></span></div><div class=\"children ver  \"><div class=\"contnr c2    \" ><div class=\"lbl c2  \" ><span class=\"nd\">line:255146 </span> <span class=\"txtu\"><span title=\"number\">1</span></span></div><div class=\"children hor  \"><div class=\"contnr c0 trm   \" ><div class=\"lbl c0 trm \" ><span class=\"nd\">110674 </span> <span class=\"txtu\"><span title=\"atf\">TUM~b#</span></span></div><div><a target=\"_blank\" href=\"https://cdli.ucla.edu/tools/SignLists/protocuneiform/archsigns/TUM~b.jpg\" title=\"to higher resolution lineart on CDLI\"><img src=\"cdli-imagery/lineart-tum-b.jpg\" style=\"display: inline;max-width: 2em; max-height: 6em;\"  /></a></div></div><div class=\"contnr c1 cluster trm   \" ><div class=\"lbl c1 clusterb trm \" ><span class=\"nd\">cluster:220130 </span> <span class=\"txtu\"><span class=\"plain   \" ><span class=\"plain \" >[<span class=\"plain \" >...</span>]</span> </span></span></div></div><div class=\"contnr c1 cluster {}   \" ><div class=\"lbl c1 clustere trm \" ><span class=\"nd\">cluster:220130 </span> <span class=\"txtu\"><span class=\"plain   \" ><span class=\"plain \" >[<span class=\"plain \" >...</span>]</span> </span></span></div> </div></div></div><div class=\"contnr c2    \" ><div class=\"lbl c2  \" ><span class=\"nd\">line:255147 </span> <span class=\"txtu\"><span title=\"number\">2</span></span></div><div class=\"children hor  \"><div class=\"contnr c0 trm   \" ><div class=\"lbl c0 trm \" ><span class=\"nd\">110676 </span> <span class=\"txtu\"><span title=\"atf\">SU~a</span></span></div><div><a target=\"_blank\" href=\"https://cdli.ucla.edu/tools/SignLists/protocuneiform/archsigns/SU~a.jpg\" title=\"to higher resolution lineart on CDLI\"><img src=\"cdli-imagery/lineart-su-a.jpg\" style=\"display: inline;max-width: 2em; max-height: 6em;\"  /></a></div></div><div class=\"contnr c1 cluster trm   \" ><div class=\"lbl c1 clusterb trm \" ><span class=\"nd\">cluster:220131 </span> <span class=\"txtu\"><span class=\"plain   \" ><span class=\"plain \" >[<span class=\"plain \" >...</span>]</span> </span></span></div></div><div class=\"contnr c1 cluster {}   \" ><div class=\"lbl c1 clustere trm \" ><span class=\"nd\">cluster:220131 </span> <span class=\"txtu\"><span class=\"plain   \" ><span class=\"plain \" >[<span class=\"plain \" >...</span>]</span> </span></span></div> </div></div></div><div class=\"contnr c2    \" ><div class=\"lbl c2  \" ><span class=\"nd\">line:255148 </span> <span class=\"txtu\"><span title=\"number\">3</span></span></div><div class=\"children hor  \"><div class=\"contnr c0 trm   \" ><div class=\"lbl c0 trm \" ><span class=\"nd\">110678 </span> <span class=\"txtu\"><span title=\"atf\">PIRIG~b1</span></span></div><div><a target=\"_blank\" href=\"https://cdli.ucla.edu/tools/SignLists/protocuneiform/archsigns/PIRIG~b1.jpg\" title=\"to higher resolution lineart on CDLI\"><img src=\"cdli-imagery/lineart-pirig-b1.jpg\" style=\"display: inline;max-width: 2em; max-height: 6em;\"  /></a></div></div><div class=\"contnr c0 trm   \" ><div class=\"lbl c0 trm \" ><span class=\"nd\">110679 </span> <span class=\"txtu\"><span title=\"atf\">X</span></span></div></div></div></div><div class=\"contnr c2    \" ><div class=\"lbl c2  \" ><span class=\"nd\">line:255149 </span> <span class=\"txtu\"><span title=\"number\">4</span></span></div><div class=\"children hor  \"><div class=\"contnr c0 trm   \" ><div class=\"lbl c0 trm \" ><span class=\"nd\">110680 </span> <span class=\"txtu\"><span title=\"atf\">NA2~a#</span></span></div><div><a target=\"_blank\" href=\"https://cdli.ucla.edu/tools/SignLists/protocuneiform/archsigns/NA2~a.jpg\" title=\"to higher resolution lineart on CDLI\"><img src=\"cdli-imagery/lineart-na2-a.jpg\" style=\"display: inline;max-width: 2em; max-height: 6em;\"  /></a></div></div><div class=\"contnr c1 cluster trm   \" ><div class=\"lbl c1 clusterb trm \" ><span class=\"nd\">cluster:220132 </span> <span class=\"txtu\"><span class=\"plain   \" ><span class=\"plain \" >[<span class=\"plain \" >...</span>]</span> </span></span></div></div><div class=\"contnr c1 cluster {}   \" ><div class=\"lbl c1 clustere trm \" ><span class=\"nd\">cluster:220132 </span> <span class=\"txtu\"><span class=\"plain   \" ><span class=\"plain \" >[<span class=\"plain \" >...</span>]</span> </span></span></div> </div></div></div></div></div><div class=\"contnr c3    \" ><div class=\"lbl c3  \" ><span class=\"nd\">column:190708 </span> <span class=\"txtu\"><span title=\"number\">2</span><span title=\"prime\"></span></span></div><div class=\"children ver  \"><div class=\"contnr c2    \" ><div class=\"lbl c2  \" ><span class=\"nd\">line:255150 </span> <span class=\"txtu\"><span title=\"number\">1</span></span></div><div class=\"children hor  \"><div class=\"contnr c0 trm   \" ><div class=\"lbl c0 trm \" ><span class=\"nd\">110682 </span> <span class=\"txtu\"><span title=\"atf\">RU#?</span></span></div><div><a target=\"_blank\" href=\"https://cdli.ucla.edu/tools/SignLists/protocuneiform/archsigns/RU.jpg\" title=\"to higher resolution lineart on CDLI\"><img src=\"cdli-imagery/lineart-ru.jpg\" style=\"display: inline;max-width: 2em; max-height: 6em;\"  /></a></div></div><div class=\"contnr c1 cluster trm   \" ><div class=\"lbl c1 clusterb trm \" ><span class=\"nd\">cluster:220133 </span> <span class=\"txtu\"><span class=\"plain   \" ><span class=\"plain \" >[<span class=\"plain \" >...</span>]</span> </span></span></div></div><div class=\"contnr c1 cluster {}   \" ><div class=\"lbl c1 clustere trm \" ><span class=\"nd\">cluster:220133 </span> <span class=\"txtu\"><span class=\"plain   \" ><span class=\"plain \" >[<span class=\"plain \" >...</span>]</span> </span></span></div> </div></div></div><div class=\"contnr c2    \" ><div class=\"lbl c2  \" ><span class=\"nd\">line:255151 </span> <span class=\"txtu\"><span title=\"number\">2</span></span></div><div class=\"children hor  \"><div class=\"contnr c1 trm   \" ><div class=\"lbl c1 trm \" ><span class=\"nd\">quad:143119 </span> <span class=\"txtu\"><span class=\"plain   \" ><span class=\"plain \" >|<span class=\"plain \" >BU~b</span>.<span class=\"plain \" >NA2~a</span>|</span>  <a target=\"_blank\" href=\"https://cdli.ucla.edu/tools/SignLists/protocuneiform/archsigns/|BU~b.NA2~a|.jpg\" title=\"to higher resolution lineart on CDLI\"><img src=\"cdli-imagery/lineart-qbu-b(d)na2-aq.jpg\" style=\"display: inline;max-width: 4em; max-height: 4em;\"  /></a></span></span></div><div><a target=\"_blank\" href=\"https://cdli.ucla.edu/tools/SignLists/protocuneiform/archsigns/|BU~b.NA2~a|.jpg\" title=\"to higher resolution lineart on CDLI\"><img src=\"cdli-imagery/lineart-qbu-b(d)na2-aq.jpg\" style=\"display: inline;max-width: 4em; max-height: 4em;\"  /></a></div></div><div class=\"contnr c0 trm   \" ><div class=\"lbl c0 trm \" ><span class=\"nd\">110686 </span> <span class=\"txtu\"><span title=\"atf\">3(N57)</span></span></div><div><a target=\"_blank\" href=\"https://cdli.ucla.edu/tools/SignLists/protocuneiform/archsigns/3(N57).jpg\" title=\"to higher resolution lineart on CDLI\"><img src=\"cdli-imagery/lineart-3(n57).jpg\" style=\"display: inline;max-width: 2em; max-height: 6em;\"  /></a></div></div></div></div><div class=\"contnr c2    hl\" ><div class=\"lbl c2  hl\" ><span class=\"nd\">line:255152 </span> <span class=\"txtu\"><span title=\"number\">3</span></span></div><div class=\"children hor  \"><div class=\"contnr c1 trm   \" ><div class=\"lbl c1 trm \" ><span class=\"nd\">quad:143120 </span> <span class=\"txtu\"><span class=\"plain   \" ><span class=\"plain \" >|<span class=\"plain hl\" >(<span class=\"plain \" >GI</span>&<span class=\"plain \" >GI</span>)</span>x<span class=\"plain hl\" >SZE3</span>|</span> </span></span></div></div><div class=\"contnr c0 trm   \" ><div class=\"lbl c0 trm \" ><span class=\"nd\">110690 </span> <span class=\"txtu\"><span title=\"atf\">3(N57)</span></span></div><div><a target=\"_blank\" href=\"https://cdli.ucla.edu/tools/SignLists/protocuneiform/archsigns/3(N57).jpg\" title=\"to higher resolution lineart on CDLI\"><img src=\"cdli-imagery/lineart-3(n57).jpg\" style=\"display: inline;max-width: 2em; max-height: 6em;\"  /></a></div></div></div></div></div></div><div class=\"contnr c3    \" ><div class=\"lbl c3  \" ><span class=\"nd\">column:190709 </span> <span class=\"txtu\"><span title=\"number\">3</span><span title=\"prime\"></span></span></div><div class=\"children ver  \"><div class=\"contnr c2    \" ><div class=\"lbl c2  \" ><span class=\"nd\">line:255153 </span> <span class=\"txtu\"><span title=\"number\">1</span></span></div><div class=\"children hor  \"><div class=\"contnr c1 cluster trm   \" ><div class=\"lbl c1 clusterb trm \" ><span class=\"nd\">cluster:220134 </span> <span class=\"txtu\"><span class=\"plain   \" ><span class=\"plain \" >[<span class=\"plain \" >...</span>]</span> </span></span></div></div><div class=\"contnr c1 cluster {}   \" ><div class=\"lbl c1 clustere trm \" ><span class=\"nd\">cluster:220134 </span> <span class=\"txtu\"><span class=\"plain   \" ><span class=\"plain \" >[<span class=\"plain \" >...</span>]</span> </span></span></div> </div><div class=\"contnr c0 trm   \" ><div class=\"lbl c0 trm \" ><span class=\"nd\">110692 </span> <span class=\"txtu\"><span title=\"atf\">X</span></span></div></div><div class=\"contnr c1 cluster trm   \" ><div class=\"lbl c1 clusterb trm \" ><span class=\"nd\">cluster:220135 </span> <span class=\"txtu\"><span class=\"plain   \" ><span class=\"plain \" >[<span class=\"plain \" >...</span>]</span> </span></span></div></div><div class=\"contnr c1 cluster {}   \" ><div class=\"lbl c1 clustere trm \" ><span class=\"nd\">cluster:220135 </span> <span class=\"txtu\"><span class=\"plain   \" ><span class=\"plain \" >[<span class=\"plain \" >...</span>]</span> </span></span></div> </div></div></div></div></div></div></div></div></div></div>"
      ],
      "text/plain": [
       "<IPython.core.display.HTML object>"
      ]
     },
     "metadata": {},
     "output_type": "display_data"
    },
    {
     "data": {
      "text/html": [
       "<p><b>result</b> <i>3</i>"
      ],
      "text/plain": [
       "<IPython.core.display.HTML object>"
      ]
     },
     "metadata": {},
     "output_type": "display_data"
    },
    {
     "data": {
      "text/html": [
       "<div class=\"tfsechead \"><span class=\"ltr\"><a target=\"_blank\" href=\"https://cdli.ucla.edu/search/search_results.php?SearchMode=Text&amp;ObjectID=P004659\" title=\"to CDLI main page for this tablet\" sec=\"P004659\">P004659</a></span></div><div class=\" children\"><div class=\"contnr c4    \" ><div class=\"lbl c4  \" ><span class=\"nd\">tablet:149624 </span> <span class=\"txtu\"><span class=\"tfsechead ltr\"><span class=\"ltr\">P004659</span></span></span></div><div class=\"features\"><span class=\"name \" title=\"name\">ATU 7, pl. 091, W 22133</span><span class=\"period \" title=\"period\">uruk-iv</span><span class=\"excavation \" title=\"excavation\">W 22133</span></div><div class=\"children ver  \"><div class=\"contnr c1    \" ><div class=\"lbl c1  \" ><span class=\"nd\">comment:179698 </span> <span class=\"txtu\"><span title=\"type\">meta</span></span></div><div class=\"features\"><span class=\"text \" title=\"text\">atf: lang qpc</span></div><div class=\"children hor wrap \"><div class=\"contnr c0 trm   \" ><div class=\"lbl c0 trm \" ><span class=\"nd\">131402 </span> <span class=\"txtu\"><span title=\"atf\"></span></span></div></div></div></div><div class=\"contnr c2    \" ><div class=\"lbl c2  \" ><span class=\"nd\">face:158867 </span> <span class=\"txtu\"><span title=\"type\">obverse</span></span></div><div class=\"children hor  \"><div class=\"contnr c3    \" ><div class=\"lbl c3  \" ><span class=\"nd\">column:193298 </span> <span class=\"txtu\"><span title=\"number\">1</span><span title=\"prime\"></span></span></div><div class=\"children ver  \"><div class=\"contnr c2    \" ><div class=\"lbl c2  \" ><span class=\"nd\">line:260575 </span> <span class=\"txtu\"><span title=\"number\">1</span></span></div><div class=\"children hor  \"><div class=\"contnr c0 trm   \" ><div class=\"lbl c0 trm \" ><span class=\"nd\">131403 </span> <span class=\"txtu\"><span title=\"atf\">1(N34)</span></span></div><div><a target=\"_blank\" href=\"https://cdli.ucla.edu/tools/SignLists/protocuneiform/archsigns/1(N34).jpg\" title=\"to higher resolution lineart on CDLI\"><img src=\"cdli-imagery/lineart-1(n34).jpg\" style=\"display: inline;max-width: 2em; max-height: 6em;\"  /></a></div></div><div class=\"contnr c0 trm   \" ><div class=\"lbl c0 trm \" ><span class=\"nd\">131404 </span> <span class=\"txtu\"><span title=\"atf\">3(N14)</span></span></div><div><a target=\"_blank\" href=\"https://cdli.ucla.edu/tools/SignLists/protocuneiform/archsigns/3(N14).jpg\" title=\"to higher resolution lineart on CDLI\"><img src=\"cdli-imagery/lineart-3(n14).jpg\" style=\"display: inline;max-width: 2em; max-height: 6em;\"  /></a></div></div><div class=\"contnr c0 trm   \" ><div class=\"lbl c0 trm \" ><span class=\"nd\">131405 </span> <span class=\"txtu\"><span title=\"atf\">2(N01)#</span></span></div><div><a target=\"_blank\" href=\"https://cdli.ucla.edu/tools/SignLists/protocuneiform/archsigns/2(N01).jpg\" title=\"to higher resolution lineart on CDLI\"><img src=\"cdli-imagery/lineart-2(n01).jpg\" style=\"display: inline;max-width: 2em; max-height: 6em;\"  /></a></div></div><div class=\"contnr c0 trm   \" ><div class=\"lbl c0 trm \" ><span class=\"nd\">131406 </span> <span class=\"txtu\"><span title=\"atf\">SZE3</span></span></div><div><a target=\"_blank\" href=\"https://cdli.ucla.edu/tools/SignLists/protocuneiform/archsigns/SZE3.jpg\" title=\"to higher resolution lineart on CDLI\"><img src=\"cdli-imagery/lineart-sze3.jpg\" style=\"display: inline;max-width: 2em; max-height: 6em;\"  /></a></div></div></div></div><div class=\"contnr c2    hl\" ><div class=\"lbl c2  hl\" ><span class=\"nd\">line:260576 </span> <span class=\"txtu\"><span title=\"number\">2</span></span></div><div class=\"children hor  \"><div class=\"contnr c0 trm   \" ><div class=\"lbl c0 trm \" ><span class=\"nd\">131407 </span> <span class=\"txtu\"><span title=\"atf\">1(N48)#</span></span></div><div><a target=\"_blank\" href=\"https://cdli.ucla.edu/tools/SignLists/protocuneiform/archsigns/1(N48).jpg\" title=\"to higher resolution lineart on CDLI\"><img src=\"cdli-imagery/lineart-1(n48).jpg\" style=\"display: inline;max-width: 2em; max-height: 6em;\"  /></a></div></div><div class=\"contnr c0 trm   \" ><div class=\"lbl c0 trm \" ><span class=\"nd\">131408 </span> <span class=\"txtu\"><span title=\"atf\">8(N34)#</span></span></div><div><a target=\"_blank\" href=\"https://cdli.ucla.edu/tools/SignLists/protocuneiform/archsigns/8(N34).jpg\" title=\"to higher resolution lineart on CDLI\"><img src=\"cdli-imagery/lineart-8(n34).jpg\" style=\"display: inline;max-width: 2em; max-height: 6em;\"  /></a></div></div><div class=\"contnr c1 trm   \" ><div class=\"lbl c1 trm \" ><span class=\"nd\">quad:143672 </span> <span class=\"txtu\"><span class=\"plain   \" ><span class=\"plain \" >|<span class=\"plain hl\" >(<span class=\"plain \" >GI</span>&<span class=\"plain \" >GI</span>)</span>x<span class=\"plain hl\" >GISZ@t</span>|</span>  <a target=\"_blank\" href=\"https://cdli.ucla.edu/tools/SignLists/protocuneiform/archsigns/|(GI&amp;GI)xGISZ@t|.jpg\" title=\"to higher resolution lineart on CDLI\"><img src=\"cdli-imagery/lineart-q(gi(e)gi)xgisz(a)tq.jpg\" style=\"display: inline;max-width: 4em; max-height: 4em;\"  /></a></span></span></div><div><a target=\"_blank\" href=\"https://cdli.ucla.edu/tools/SignLists/protocuneiform/archsigns/|(GI&amp;GI)xGISZ@t|.jpg\" title=\"to higher resolution lineart on CDLI\"><img src=\"cdli-imagery/lineart-q(gi(e)gi)xgisz(a)tq.jpg\" style=\"display: inline;max-width: 4em; max-height: 4em;\"  /></a></div></div><div class=\"contnr c0 trm   \" ><div class=\"lbl c0 trm \" ><span class=\"nd\">131412 </span> <span class=\"txtu\"><span title=\"atf\">ZATU659#?</span></span></div><div><a target=\"_blank\" href=\"https://cdli.ucla.edu/tools/SignLists/protocuneiform/archsigns/ZATU659.jpg\" title=\"to higher resolution lineart on CDLI\"><img src=\"cdli-imagery/lineart-zatu659.jpg\" style=\"display: inline;max-width: 2em; max-height: 6em;\"  /></a></div></div><div class=\"contnr c0 trm   \" ><div class=\"lbl c0 trm \" ><span class=\"nd\">131413 </span> <span class=\"txtu\"><span title=\"atf\">USZ~a</span></span></div><div><a target=\"_blank\" href=\"https://cdli.ucla.edu/tools/SignLists/protocuneiform/archsigns/USZ~a.jpg\" title=\"to higher resolution lineart on CDLI\"><img src=\"cdli-imagery/lineart-usz-a.jpg\" style=\"display: inline;max-width: 2em; max-height: 6em;\"  /></a></div></div><div class=\"contnr c0 trm   \" ><div class=\"lbl c0 trm \" ><span class=\"nd\">131414 </span> <span class=\"txtu\"><span title=\"atf\">GU4#</span></span></div><div><a target=\"_blank\" href=\"https://cdli.ucla.edu/tools/SignLists/protocuneiform/archsigns/GU4.jpg\" title=\"to higher resolution lineart on CDLI\"><img src=\"cdli-imagery/lineart-gu4.jpg\" style=\"display: inline;max-width: 2em; max-height: 6em;\"  /></a></div></div></div></div></div></div></div></div><div class=\"contnr c2    \" ><div class=\"lbl c2  \" ><span class=\"nd\">face:158868 </span> <span class=\"txtu\"><span title=\"type\">reverse</span></span></div><div class=\"children hor  \"><div class=\"contnr c3    \" ><div class=\"lbl c3  \" ><span class=\"nd\">column:193299 </span> <span class=\"txtu\"><span title=\"number\">1</span><span title=\"prime\"></span></span></div><div class=\"children ver  \"><div class=\"contnr c2    \" ><div class=\"lbl c2  \" ><span class=\"nd\">line:260577 </span> <span class=\"txtu\"><span title=\"number\">1</span></span></div><div class=\"children hor  \"><div class=\"contnr c1 cluster trm   \" ><div class=\"lbl c1 clusterb trm \" ><span class=\"nd\">cluster:225099 </span> <span class=\"txtu\"><span class=\"plain   \" ><span class=\"plain \" >[<span class=\"plain \" >...</span>]</span> </span></span></div></div><div class=\"contnr c1 cluster {}   \" ><div class=\"lbl c1 clustere trm \" ><span class=\"nd\">cluster:225099 </span> <span class=\"txtu\"><span class=\"plain   \" ><span class=\"plain \" >[<span class=\"plain \" >...</span>]</span> </span></span></div> </div><div class=\"contnr c1 cluster trm   \" ><div class=\"lbl c1 clusterb trm \" ><span class=\"nd\">cluster:225100 </span> <span class=\"txtu\"><span class=\"plain   \" ><span class=\"plain \" >[<span class=\"plain \" >...</span>]</span> </span></span></div></div><div class=\"contnr c1 cluster {}   \" ><div class=\"lbl c1 clustere trm \" ><span class=\"nd\">cluster:225100 </span> <span class=\"txtu\"><span class=\"plain   \" ><span class=\"plain \" >[<span class=\"plain \" >...</span>]</span> </span></span></div> </div><div class=\"contnr c0 trm   \" ><div class=\"lbl c0 trm \" ><span class=\"nd\">131417 </span> <span class=\"txtu\"><span title=\"atf\">EN~a#?</span></span></div><div><a target=\"_blank\" href=\"https://cdli.ucla.edu/tools/SignLists/protocuneiform/archsigns/EN~a.jpg\" title=\"to higher resolution lineart on CDLI\"><img src=\"cdli-imagery/lineart-en-a.jpg\" style=\"display: inline;max-width: 2em; max-height: 6em;\"  /></a></div></div></div></div></div></div></div></div></div></div></div>"
      ],
      "text/plain": [
       "<IPython.core.display.HTML object>"
      ]
     },
     "metadata": {},
     "output_type": "display_data"
    }
   ],
   "source": [
    "A.show(\n",
    "    results, withNodes=True, showGraphics=True, condenseType=\"tablet\", baseTypes=\"quad\"\n",
    ")"
   ]
  },
  {
   "cell_type": "markdown",
   "metadata": {},
   "source": [
    "## Regular expressions in templates\n",
    "We can use regular expressions in our search templates.\n",
    "\n",
    "### Digits in graphemes\n",
    "We search for non-numeral signs whose graphemes contains digits."
   ]
  },
  {
   "cell_type": "code",
   "execution_count": 57,
   "metadata": {},
   "outputs": [],
   "source": [
    "A.displaySetup(condensed=True)"
   ]
  },
  {
   "cell_type": "code",
   "execution_count": 58,
   "metadata": {
    "ExecuteTime": {
     "end_time": "2018-05-24T10:19:15.284182Z",
     "start_time": "2018-05-24T10:19:14.908350Z"
    }
   },
   "outputs": [
    {
     "name": "stdout",
     "output_type": "stream",
     "text": [
      "  0.09s 14558 results\n"
     ]
    },
    {
     "data": {
      "text/html": [
       "<table><tr class=\"tf ltr\"><th class=\"tf ltr\">n</th><th class=\"tf ltr\">p</th><th class=\"tf ltr\">tablet</th><th class=\"tf\">sign</th><th class=\"tf\">sign</th></tr>\n",
       "<tr class=\"tf ltr\"><td class=\"tf ltr\">1</td><td class=\"tf ltr\"><span class=\"tfsechead ltr\"><span class=\"ltr\"><a target=\"_blank\" href=\"https://cdli.ucla.edu/search/search_results.php?SearchMode=Text&amp;ObjectID=P448702\" title=\"to CDLI main page for this tablet\" sec=\"P448702 obverse:2:1\">P448702 obverse:2:1</a></span></span></td><td class=\"tf ltr\"><span class=\" ubd\"><span class=\"plain   \" ><span class=\"nd\">143892 </span><span class=\"txtu \"><span class=\"tfsechead ltr\"><span class=\"ltr\">P448702</span></span></span></span></span></td><td class=\"tf ltr\"><span class=\" ubd\"><span class=\"plain   hl\" ><span class=\"nd\">75 </span><span class=\"plain hl\" >U4</span> </span></span></td><td class=\"tf ltr\"><span class=\" ubd\"><span class=\"plain   hl\" ><span class=\"nd\">76 </span><span class=\"plain hl\" >U4</span> </span></span></td></tr>\n",
       "<tr class=\"tf ltr\"><td class=\"tf ltr\">2</td><td class=\"tf ltr\"><span class=\"tfsechead ltr\"><span class=\"ltr\"><a target=\"_blank\" href=\"https://cdli.ucla.edu/search/search_results.php?SearchMode=Text&amp;ObjectID=P448703\" title=\"to CDLI main page for this tablet\" sec=\"P448703 obverse:1:4\">P448703 obverse:1:4</a></span></span></td><td class=\"tf ltr\"><span class=\" ubd\"><span class=\"plain   \" ><span class=\"nd\">143893 </span><span class=\"txtu \"><span class=\"tfsechead ltr\"><span class=\"ltr\">P448703</span></span></span></span></span></td><td class=\"tf ltr\"><span class=\" ubd\"><span class=\"plain   hl\" ><span class=\"nd\">97 </span><span class=\"plain hl\" >U4</span> </span></span></td><td class=\"tf ltr\"><span class=\" ubd\"><span class=\"plain   hl\" ><span class=\"nd\">100 </span><span class=\"plain hl\" >U4</span> </span></span></td><td class=\"tf ltr\"><span class=\" ubd\"><span class=\"plain   hl\" ><span class=\"nd\">87 </span><span class=\"plain hl\" >U4</span> </span></span></td><td class=\"tf ltr\"><span class=\" ubd\"><span class=\"plain   hl\" ><span class=\"nd\">90 </span><span class=\"plain hl\" >U4</span> </span></span></td><td class=\"tf ltr\"><span class=\" ubd\"><span class=\"plain   hl\" ><span class=\"nd\">93 </span><span class=\"plain hl\" >U4</span> </span></span></td></tr>\n",
       "<tr class=\"tf ltr\"><td class=\"tf ltr\">3</td><td class=\"tf ltr\"><span class=\"tfsechead ltr\"><span class=\"ltr\"><a target=\"_blank\" href=\"https://cdli.ucla.edu/search/search_results.php?SearchMode=Text&amp;ObjectID=P471695\" title=\"to CDLI main page for this tablet\" sec=\"P471695 obverse:1:1\">P471695 obverse:1:1</a></span></span></td><td class=\"tf ltr\"><span class=\" ubd\"><span class=\"plain   \" ><span class=\"nd\">143894 </span><span class=\"txtu \"><span class=\"tfsechead ltr\"><span class=\"ltr\">P471695</span></span></span></span></span></td><td class=\"tf ltr\"><span class=\" ubd\"><span class=\"plain   hl\" ><span class=\"nd\">114 </span><span class=\"plain hl\" >ZATU759</span> </span></span></td><td class=\"tf ltr\"><span class=\" ubd\"><span class=\"plain   hl\" ><span class=\"nd\">140 </span><span class=\"plain hl\" >GIR3~c</span> </span></span></td><td class=\"tf ltr\"><span class=\" ubd\"><span class=\"plain   hl\" ><span class=\"nd\">111 </span><span class=\"plain hl\" >UR4~a</span> </span></span></td></tr>\n",
       "<tr class=\"tf ltr\"><td class=\"tf ltr\">4</td><td class=\"tf ltr\"><span class=\"tfsechead ltr\"><span class=\"ltr\"><a target=\"_blank\" href=\"https://cdli.ucla.edu/search/search_results.php?SearchMode=Text&amp;ObjectID=P482082\" title=\"to CDLI main page for this tablet\" sec=\"P482082 obverse:1:2\">P482082 obverse:1:2</a></span></span></td><td class=\"tf ltr\"><span class=\" ubd\"><span class=\"plain   \" ><span class=\"nd\">143895 </span><span class=\"txtu \"><span class=\"tfsechead ltr\"><span class=\"ltr\">P482082</span></span></span></span></span></td><td class=\"tf ltr\"><span class=\" ubd\"><span class=\"plain   hl\" ><span class=\"nd\">155 </span><span class=\"plain hl\" >ZATU694~c</span> </span></span></td></tr>\n",
       "<tr class=\"tf ltr\"><td class=\"tf ltr\">5</td><td class=\"tf ltr\"><span class=\"tfsechead ltr\"><span class=\"ltr\"><a target=\"_blank\" href=\"https://cdli.ucla.edu/search/search_results.php?SearchMode=Text&amp;ObjectID=P482083\" title=\"to CDLI main page for this tablet\" sec=\"P482083 obverse:1:2\">P482083 obverse:1:2</a></span></span></td><td class=\"tf ltr\"><span class=\" ubd\"><span class=\"plain   \" ><span class=\"nd\">143896 </span><span class=\"txtu \"><span class=\"tfsechead ltr\"><span class=\"ltr\">P482083</span></span></span></span></span></td><td class=\"tf ltr\"><span class=\" ubd\"><span class=\"plain   hl\" ><span class=\"nd\">169 </span><span class=\"plain hl\" >U4</span> </span></span></td></tr></table>"
      ],
      "text/plain": [
       "<IPython.core.display.HTML object>"
      ]
     },
     "metadata": {},
     "output_type": "display_data"
    }
   ],
   "source": [
    "query = \"\"\"\n",
    "sign type=ideograph grapheme~[0-9]\n",
    "\"\"\"\n",
    "results = A.search(query)\n",
    "A.table(results, withNodes=True, end=5)"
   ]
  },
  {
   "cell_type": "markdown",
   "metadata": {},
   "source": [
    "We can add a bit more context easily:"
   ]
  },
  {
   "cell_type": "code",
   "execution_count": 59,
   "metadata": {
    "ExecuteTime": {
     "end_time": "2018-05-24T10:19:18.466899Z",
     "start_time": "2018-05-24T10:19:17.901962Z"
    }
   },
   "outputs": [
    {
     "name": "stdout",
     "output_type": "stream",
     "text": [
      "  0.14s 14558 results\n"
     ]
    },
    {
     "data": {
      "text/html": [
       "<table><tr class=\"tf ltr\"><th class=\"tf ltr\">n</th><th class=\"tf ltr\">p</th><th class=\"tf ltr\">tablet</th><th class=\"tf\">face</th><th class=\"tf\">column</th><th class=\"tf\">line</th><th class=\"tf\">sign</th></tr>\n",
       "<tr class=\"tf ltr\"><td class=\"tf ltr\">1</td><td class=\"tf ltr\"><span class=\"tfsechead ltr\"><span class=\"ltr\"><a target=\"_blank\" href=\"https://cdli.ucla.edu/search/search_results.php?SearchMode=Text&amp;ObjectID=P448702\" title=\"to CDLI main page for this tablet\" sec=\"P448702 obverse:2:1\">P448702 obverse:2:1</a></span></span></td><td class=\"tf ltr\"><span class=\" ubd\"><span class=\"txtu \"><span class=\"tfsechead ltr\"><span class=\"ltr\">P448702</span></span></span></span></td><td class=\"tf ltr\"><span class=\" ubd\"><span class=\"plain   hlbx\" ><span class=\"txtu \"><span title=\"type\">obverse</span></span></span></span></td><td class=\"tf ltr\"><span class=\" ubd\"><span class=\"plain   hlbx\" ><span class=\"txtu \"><span class=\"tfsechead ltr\"><span class=\"ltr\">P448702 obverse:2</span></span></span></span></span></td><td class=\"tf ltr\"><span class=\" ubd\"><span class=\"plain   hlbx\" ><span class=\"plain   hl\" ><span class=\"plain hl\" >U4</span> </span><span class=\"plain \" >|<span class=\"plain \" >U4</span>x<span class=\"plain \" >1(N01)</span>|</span> <span class=\"plain \" >SAG</span> <span class=\"plain \" >SUKUD@h</span> <span class=\"plain \" >NA</span> </span></span></td><td class=\"tf ltr\"><span class=\" ubd\"><span class=\"plain   hl\" ><span class=\"plain hl\" >U4</span> </span></span></td></tr>\n",
       "<tr class=\"tf ltr\"><td class=\"tf ltr\">2</td><td class=\"tf ltr\"><span class=\"tfsechead ltr\"><span class=\"ltr\"><a target=\"_blank\" href=\"https://cdli.ucla.edu/search/search_results.php?SearchMode=Text&amp;ObjectID=P448702\" title=\"to CDLI main page for this tablet\" sec=\"P448702 obverse:2:1\">P448702 obverse:2:1</a></span></span></td><td class=\"tf ltr\"><span class=\" ubd\"><span class=\"txtu \"><span class=\"tfsechead ltr\"><span class=\"ltr\">P448702</span></span></span></span></td><td class=\"tf ltr\"><span class=\" ubd\"><span class=\"plain   hlbx\" ><span class=\"txtu \"><span title=\"type\">obverse</span></span></span></span></td><td class=\"tf ltr\"><span class=\" ubd\"><span class=\"plain   hlbx\" ><span class=\"txtu \"><span class=\"tfsechead ltr\"><span class=\"ltr\">P448702 obverse:2</span></span></span></span></span></td><td class=\"tf ltr\"><span class=\" ubd\"><span class=\"plain   hlbx\" ><span class=\"plain \" >U4</span> <span class=\"plain \" >|<span class=\"plain hl\" >U4</span>x<span class=\"plain \" >1(N01)</span>|</span> <span class=\"plain \" >SAG</span> <span class=\"plain \" >SUKUD@h</span> <span class=\"plain \" >NA</span> </span></span></td><td class=\"tf ltr\"><span class=\" ubd\"><span class=\"plain   hl\" ><span class=\"plain hl\" >U4</span> </span></span></td></tr>\n",
       "<tr class=\"tf ltr\"><td class=\"tf ltr\">3</td><td class=\"tf ltr\"><span class=\"tfsechead ltr\"><span class=\"ltr\"><a target=\"_blank\" href=\"https://cdli.ucla.edu/search/search_results.php?SearchMode=Text&amp;ObjectID=P448703\" title=\"to CDLI main page for this tablet\" sec=\"P448703 obverse:1:1\">P448703 obverse:1:1</a></span></span></td><td class=\"tf ltr\"><span class=\" ubd\"><span class=\"txtu \"><span class=\"tfsechead ltr\"><span class=\"ltr\">P448703</span></span></span></span></td><td class=\"tf ltr\"><span class=\" ubd\"><span class=\"plain   hlbx\" ><span class=\"txtu \"><span title=\"type\">obverse</span></span></span></span></td><td class=\"tf ltr\"><span class=\" ubd\"><span class=\"plain   hlbx\" ><span class=\"txtu \"><span class=\"tfsechead ltr\"><span class=\"ltr\">P448703 obverse:1</span></span></span></span></span></td><td class=\"tf ltr\"><span class=\" ubd\"><span class=\"plain   hlbx\" ><span class=\"plain \" >|<span class=\"plain hl\" >U4</span>.<span class=\"plain \" >1(N08)</span>|</span> <span class=\"plain \" >X</span> </span></span></td><td class=\"tf ltr\"><span class=\" ubd\"><span class=\"plain   hl\" ><span class=\"plain hl\" >U4</span> </span></span></td></tr>\n",
       "<tr class=\"tf ltr\"><td class=\"tf ltr\">4</td><td class=\"tf ltr\"><span class=\"tfsechead ltr\"><span class=\"ltr\"><a target=\"_blank\" href=\"https://cdli.ucla.edu/search/search_results.php?SearchMode=Text&amp;ObjectID=P448703\" title=\"to CDLI main page for this tablet\" sec=\"P448703 obverse:1:2\">P448703 obverse:1:2</a></span></span></td><td class=\"tf ltr\"><span class=\" ubd\"><span class=\"txtu \"><span class=\"tfsechead ltr\"><span class=\"ltr\">P448703</span></span></span></span></td><td class=\"tf ltr\"><span class=\" ubd\"><span class=\"plain   hlbx\" ><span class=\"txtu \"><span title=\"type\">obverse</span></span></span></span></td><td class=\"tf ltr\"><span class=\" ubd\"><span class=\"plain   hlbx\" ><span class=\"txtu \"><span class=\"tfsechead ltr\"><span class=\"ltr\">P448703 obverse:1</span></span></span></span></span></td><td class=\"tf ltr\"><span class=\" ubd\"><span class=\"plain   hlbx\" ><span class=\"plain \" >|<span class=\"plain hl\" >U4</span>.<span class=\"plain \" >1(N08)</span>|</span> <span class=\"plain \" >GI</span> </span></span></td><td class=\"tf ltr\"><span class=\" ubd\"><span class=\"plain   hl\" ><span class=\"plain hl\" >U4</span> </span></span></td></tr>\n",
       "<tr class=\"tf ltr\"><td class=\"tf ltr\">5</td><td class=\"tf ltr\"><span class=\"tfsechead ltr\"><span class=\"ltr\"><a target=\"_blank\" href=\"https://cdli.ucla.edu/search/search_results.php?SearchMode=Text&amp;ObjectID=P448703\" title=\"to CDLI main page for this tablet\" sec=\"P448703 obverse:1:3\">P448703 obverse:1:3</a></span></span></td><td class=\"tf ltr\"><span class=\" ubd\"><span class=\"txtu \"><span class=\"tfsechead ltr\"><span class=\"ltr\">P448703</span></span></span></span></td><td class=\"tf ltr\"><span class=\" ubd\"><span class=\"plain   hlbx\" ><span class=\"txtu \"><span title=\"type\">obverse</span></span></span></span></td><td class=\"tf ltr\"><span class=\" ubd\"><span class=\"plain   hlbx\" ><span class=\"txtu \"><span class=\"tfsechead ltr\"><span class=\"ltr\">P448703 obverse:1</span></span></span></span></span></td><td class=\"tf ltr\"><span class=\" ubd\"><span class=\"plain   hlbx\" ><span class=\"plain \" >|<span class=\"plain hl\" >U4</span>.<span class=\"plain \" >1(N08)</span>|</span> <span class=\"plain \" >|<span class=\"plain \" >GI</span>&<span class=\"plain \" >GI</span>|</span> </span></span></td><td class=\"tf ltr\"><span class=\" ubd\"><span class=\"plain   hl\" ><span class=\"plain hl\" >U4</span> </span></span></td></tr>\n",
       "<tr class=\"tf ltr\"><td class=\"tf ltr\">6</td><td class=\"tf ltr\"><span class=\"tfsechead ltr\"><span class=\"ltr\"><a target=\"_blank\" href=\"https://cdli.ucla.edu/search/search_results.php?SearchMode=Text&amp;ObjectID=P448703\" title=\"to CDLI main page for this tablet\" sec=\"P448703 obverse:1:4\">P448703 obverse:1:4</a></span></span></td><td class=\"tf ltr\"><span class=\" ubd\"><span class=\"txtu \"><span class=\"tfsechead ltr\"><span class=\"ltr\">P448703</span></span></span></span></td><td class=\"tf ltr\"><span class=\" ubd\"><span class=\"plain   hlbx\" ><span class=\"txtu \"><span title=\"type\">obverse</span></span></span></span></td><td class=\"tf ltr\"><span class=\" ubd\"><span class=\"plain   hlbx\" ><span class=\"txtu \"><span class=\"tfsechead ltr\"><span class=\"ltr\">P448703 obverse:1</span></span></span></span></span></td><td class=\"tf ltr\"><span class=\" ubd\"><span class=\"plain   hlbx\" ><span class=\"plain \" >|<span class=\"plain hl\" >U4</span>.<span class=\"plain \" >1(N08)</span>|</span> <span class=\"plain \" >X</span> </span></span></td><td class=\"tf ltr\"><span class=\" ubd\"><span class=\"plain   hl\" ><span class=\"plain hl\" >U4</span> </span></span></td></tr>\n",
       "<tr class=\"tf ltr\"><td class=\"tf ltr\">7</td><td class=\"tf ltr\"><span class=\"tfsechead ltr\"><span class=\"ltr\"><a target=\"_blank\" href=\"https://cdli.ucla.edu/search/search_results.php?SearchMode=Text&amp;ObjectID=P448703\" title=\"to CDLI main page for this tablet\" sec=\"P448703 obverse:1:5\">P448703 obverse:1:5</a></span></span></td><td class=\"tf ltr\"><span class=\" ubd\"><span class=\"txtu \"><span class=\"tfsechead ltr\"><span class=\"ltr\">P448703</span></span></span></span></td><td class=\"tf ltr\"><span class=\" ubd\"><span class=\"plain   hlbx\" ><span class=\"txtu \"><span title=\"type\">obverse</span></span></span></span></td><td class=\"tf ltr\"><span class=\" ubd\"><span class=\"plain   hlbx\" ><span class=\"txtu \"><span class=\"tfsechead ltr\"><span class=\"ltr\">P448703 obverse:1</span></span></span></span></span></td><td class=\"tf ltr\"><span class=\" ubd\"><span class=\"plain   hlbx\" ><span class=\"plain \" >|<span class=\"plain hl\" >U4</span>.<span class=\"plain \" >1(N08)</span>|</span> <span class=\"plain \" >X</span> </span></span></td><td class=\"tf ltr\"><span class=\" ubd\"><span class=\"plain   hl\" ><span class=\"plain hl\" >U4</span> </span></span></td></tr>\n",
       "<tr class=\"tf ltr\"><td class=\"tf ltr\">8</td><td class=\"tf ltr\"><span class=\"tfsechead ltr\"><span class=\"ltr\"><a target=\"_blank\" href=\"https://cdli.ucla.edu/search/search_results.php?SearchMode=Text&amp;ObjectID=P471695\" title=\"to CDLI main page for this tablet\" sec=\"P471695 obverse:1:1\">P471695 obverse:1:1</a></span></span></td><td class=\"tf ltr\"><span class=\" ubd\"><span class=\"txtu \"><span class=\"tfsechead ltr\"><span class=\"ltr\">P471695</span></span></span></span></td><td class=\"tf ltr\"><span class=\" ubd\"><span class=\"plain   hlbx\" ><span class=\"txtu \"><span title=\"type\">obverse</span></span></span></span></td><td class=\"tf ltr\"><span class=\" ubd\"><span class=\"plain   hlbx\" ><span class=\"txtu \"><span class=\"tfsechead ltr\"><span class=\"ltr\">P471695 obverse:1</span></span></span></span></span></td><td class=\"tf ltr\"><span class=\" ubd\"><span class=\"plain   hlbx\" ><span class=\"txtu \"><span title=\"number\">1a</span><span title=\"prime\"></span></span><span class=\"plain \" >3(N01)</span> <span class=\"plain \" >APIN~a</span> <span class=\"plain \" >3(N57)</span> <span class=\"plain   hl\" ><span class=\"plain hl\" >UR4~a</span> </span><span class=\"txtu \"><span title=\"number\">1b</span><span title=\"prime\"></span></span><span class=\"txtu \"><span title=\"number\">1b1</span><span title=\"prime\"></span></span><span class=\"plain \" >(<span class=\"plain \" >EN~a</span> <span class=\"plain \" >DU</span> <span class=\"plain \" >ZATU759</span>)a</span> <span class=\"txtu \"><span title=\"number\">1b2</span><span title=\"prime\"></span></span><span class=\"plain \" >(<span class=\"plain \" >BAN~b</span> <span class=\"plain \" >KASZ~c</span>)a</span> <span class=\"txtu \"><span title=\"number\">1b3</span><span title=\"prime\"></span></span><span class=\"plain \" >(<span class=\"plain \" >KI@n</span> <span class=\"plain \" >SAG</span>)a</span> </span></span></td><td class=\"tf ltr\"><span class=\" ubd\"><span class=\"plain   hl\" ><span class=\"plain hl\" >UR4~a</span> </span></span></td></tr>\n",
       "<tr class=\"tf ltr\"><td class=\"tf ltr\">9</td><td class=\"tf ltr\"><span class=\"tfsechead ltr\"><span class=\"ltr\"><a target=\"_blank\" href=\"https://cdli.ucla.edu/search/search_results.php?SearchMode=Text&amp;ObjectID=P471695\" title=\"to CDLI main page for this tablet\" sec=\"P471695 obverse:1:1\">P471695 obverse:1:1</a></span></span></td><td class=\"tf ltr\"><span class=\" ubd\"><span class=\"txtu \"><span class=\"tfsechead ltr\"><span class=\"ltr\">P471695</span></span></span></span></td><td class=\"tf ltr\"><span class=\" ubd\"><span class=\"plain   hlbx\" ><span class=\"txtu \"><span title=\"type\">obverse</span></span></span></span></td><td class=\"tf ltr\"><span class=\" ubd\"><span class=\"plain   hlbx\" ><span class=\"txtu \"><span class=\"tfsechead ltr\"><span class=\"ltr\">P471695 obverse:1</span></span></span></span></span></td><td class=\"tf ltr\"><span class=\" ubd\"><span class=\"plain   hlbx\" ><span class=\"txtu \"><span title=\"number\">1a</span><span title=\"prime\"></span></span><span class=\"plain \" >3(N01)</span> <span class=\"plain \" >APIN~a</span> <span class=\"plain \" >3(N57)</span> <span class=\"plain \" >UR4~a</span> <span class=\"txtu \"><span title=\"number\">1b</span><span title=\"prime\"></span></span><span class=\"txtu \"><span title=\"number\">1b1</span><span title=\"prime\"></span></span><span class=\"plain \" >(<span class=\"plain \" >EN~a</span> <span class=\"plain \" >DU</span> <span class=\"plain hl\" >ZATU759</span>)a</span> <span class=\"txtu \"><span title=\"number\">1b2</span><span title=\"prime\"></span></span><span class=\"plain \" >(<span class=\"plain \" >BAN~b</span> <span class=\"plain \" >KASZ~c</span>)a</span> <span class=\"txtu \"><span title=\"number\">1b3</span><span title=\"prime\"></span></span><span class=\"plain \" >(<span class=\"plain \" >KI@n</span> <span class=\"plain \" >SAG</span>)a</span> </span></span></td><td class=\"tf ltr\"><span class=\" ubd\"><span class=\"plain   hl\" ><span class=\"plain hl\" >ZATU759</span> </span></span></td></tr>\n",
       "<tr class=\"tf ltr\"><td class=\"tf ltr\">10</td><td class=\"tf ltr\"><span class=\"tfsechead ltr\"><span class=\"ltr\"><a target=\"_blank\" href=\"https://cdli.ucla.edu/search/search_results.php?SearchMode=Text&amp;ObjectID=P471695\" title=\"to CDLI main page for this tablet\" sec=\"P471695 obverse:2:1\">P471695 obverse:2:1</a></span></span></td><td class=\"tf ltr\"><span class=\" ubd\"><span class=\"txtu \"><span class=\"tfsechead ltr\"><span class=\"ltr\">P471695</span></span></span></span></td><td class=\"tf ltr\"><span class=\" ubd\"><span class=\"plain   hlbx\" ><span class=\"txtu \"><span title=\"type\">obverse</span></span></span></span></td><td class=\"tf ltr\"><span class=\" ubd\"><span class=\"plain   hlbx\" ><span class=\"txtu \"><span class=\"tfsechead ltr\"><span class=\"ltr\">P471695 obverse:2</span></span></span></span></span></td><td class=\"tf ltr\"><span class=\" ubd\"><span class=\"plain   hlbx\" ><span class=\"txtu \"><span title=\"number\">1a</span><span title=\"prime\"></span></span><span class=\"plain \" >1(N01)</span> <span class=\"plain \" >ISZ~a</span> <span class=\"txtu \"><span title=\"number\">1b</span><span title=\"prime\"></span></span><span class=\"txtu \"><span title=\"number\">1b1</span><span title=\"prime\"></span></span><span class=\"plain \" ></span> <span class=\"plain \" ></span> <span class=\"plain \" >(<span class=\"plain \" >PAP~a</span> <span class=\"plain hl\" >GIR3~c</span>)a</span> </span></span></td><td class=\"tf ltr\"><span class=\" ubd\"><span class=\"plain   hl\" ><span class=\"plain hl\" >GIR3~c</span> </span></span></td></tr></table>"
      ],
      "text/plain": [
       "<IPython.core.display.HTML object>"
      ]
     },
     "metadata": {},
     "output_type": "display_data"
    }
   ],
   "source": [
    "query = \"\"\"\n",
    "tablet\n",
    "  face\n",
    "    column\n",
    "      line\n",
    "        sign type=ideograph grapheme~[0-9]\n",
    "\"\"\"\n",
    "results = A.search(query)\n",
    "A.table(results, condensed=False, end=10)"
   ]
  },
  {
   "cell_type": "markdown",
   "metadata": {},
   "source": [
    "### Pit numbers\n",
    "\n",
    "The feature `excavation` gives you the number of the pit where a tablet is found.\n",
    "The syntax of pit numbers is a bit involved, here are a few possible values:\n",
    "\n",
    "```\n",
    "W 20497\n",
    "W 20335,3\n",
    "W 19948,10\n",
    "W 20493,26\n",
    "W 17890,b\n",
    "W 17729,o\n",
    "W 15920,b5\n",
    "W 17729,aq\n",
    "W 19548,a + W 19548,b\n",
    "W 17729,cn + W 17729,eq\n",
    "W 14337,a + W 14337,b + W 14337,c + W 14337,d + W 14337,e\n",
    "Ashm 1928-445b\n",
    "```\n",
    "\n",
    "Let's assume we are interested in `SZITA~a1` signs occurring in cases of depth 1.\n",
    "The following query finds them all:"
   ]
  },
  {
   "cell_type": "code",
   "execution_count": 60,
   "metadata": {
    "ExecuteTime": {
     "end_time": "2018-05-24T10:19:21.588480Z",
     "start_time": "2018-05-24T10:19:21.329207Z"
    }
   },
   "outputs": [
    {
     "name": "stdout",
     "output_type": "stream",
     "text": [
      "  0.05s 78 results\n"
     ]
    }
   ],
   "source": [
    "query = \"\"\"\n",
    "tablet\n",
    "  case depth=1\n",
    "    sign grapheme=SZITA variant=a1\n",
    "\"\"\"\n",
    "results = A.search(query)"
   ]
  },
  {
   "cell_type": "markdown",
   "metadata": {},
   "source": [
    "Now we want to organize them by excavation number:"
   ]
  },
  {
   "cell_type": "code",
   "execution_count": 61,
   "metadata": {
    "ExecuteTime": {
     "end_time": "2018-05-24T10:19:23.513103Z",
     "start_time": "2018-05-24T10:19:23.500285Z"
    }
   },
   "outputs": [
    {
     "name": "stdout",
     "output_type": "stream",
     "text": [
      "Ashm 1926,562                   1\n",
      "Ashm 1926,567                   1\n",
      "Ashm 1926,569                  13\n",
      "Ashm 1926,695+737+741           6\n",
      "Ashm 1926,716+732               1\n",
      "Ashm 1926,739                   1\n",
      "W 14731,z                       1\n",
      "W 14777,c                       4\n",
      "W 15776,i                       1\n",
      "W 15785,a2                      1\n",
      "W 15833,a01 + W 15833,aa04      1\n",
      "W 15897,b5                      1\n",
      "W 15897,c26                     1\n",
      "W 20274,001                     1\n",
      "W 20274,043                     1\n",
      "W 20274,095                     2\n",
      "W 20274,119                     1\n",
      "W 20327,01                      1\n",
      "W 20327,03                      1\n",
      "W 20511,01                      1\n",
      "W 20511,02                      6\n",
      "W 21157                         1\n",
      "W 21194                         1\n",
      "W 21733,1                       3\n",
      "W 22100,01                      4\n",
      "W 22100,03                      5\n",
      "W 22101,1                       1\n",
      "W 23950                         1\n",
      "W 23973,01                      1\n",
      "W 24033,05                      1\n",
      "no pit information             13\n"
     ]
    }
   ],
   "source": [
    "signPerPit = {}\n",
    "\n",
    "for (tablet, case, sign) in sorted(results):\n",
    "    pit = F.excavation.v(tablet) or \"no pit information\"\n",
    "    signPerPit.setdefault(pit, []).append(sign)\n",
    "\n",
    "for pit in sorted(signPerPit):\n",
    "    print(f\"{pit:<30} {len(signPerPit[pit]):>2}\")"
   ]
  },
  {
   "cell_type": "markdown",
   "metadata": {},
   "source": [
    "We can restrict results to those on tablets found in certain pits by constraining the search template.\n",
    "If we are interested in pit `20274` we can use a regular expression that matches all 4 detailed pit numbers\n",
    "based on `20274`.\n",
    "So, we do not say\n",
    "\n",
    "```\n",
    "excavation=20274\n",
    "```\n",
    "but\n",
    "\n",
    "```\n",
    "excavation~20274\n",
    "```"
   ]
  },
  {
   "cell_type": "code",
   "execution_count": 62,
   "metadata": {
    "ExecuteTime": {
     "end_time": "2018-05-24T10:19:26.308874Z",
     "start_time": "2018-05-24T10:19:26.037774Z"
    }
   },
   "outputs": [
    {
     "name": "stdout",
     "output_type": "stream",
     "text": [
      "  0.05s 5 results\n"
     ]
    },
    {
     "data": {
      "text/html": [
       "<table><tr class=\"tf ltr\"><th class=\"tf ltr\">n</th><th class=\"tf ltr\">p</th><th class=\"tf ltr\">tablet</th><th class=\"tf\">case</th><th class=\"tf\">sign</th></tr>\n",
       "<tr class=\"tf ltr\"><td class=\"tf ltr\">1</td><td class=\"tf ltr\"><span class=\"tfsechead ltr\"><span class=\"ltr\"><a target=\"_blank\" href=\"https://cdli.ucla.edu/search/search_results.php?SearchMode=Text&amp;ObjectID=P003617\" title=\"to CDLI main page for this tablet\" sec=\"P003617 obverse:2:2\">P003617 obverse:2:2</a></span></span></td><td class=\"tf ltr\"><span class=\" ubd\"><span class=\"txtu \"><span class=\"tfsechead ltr\"><span class=\"ltr\">P003617</span></span></span></span></td><td class=\"tf ltr\"><span class=\" ubd\"><span class=\"plain   hlbx\" ><span class=\"txtu \"><span title=\"number\">2b</span><span title=\"prime\"></span></span><span class=\"plain   hl\" ><span class=\"plain hl\" >SZITA~a1</span> </span><span class=\"plain \" >BU~a</span> </span></span></td><td class=\"tf ltr\"><span class=\" ubd\"><span class=\"plain   hl\" ><span class=\"plain hl\" >SZITA~a1</span> </span></span></td></tr>\n",
       "<tr class=\"tf ltr\"><td class=\"tf ltr\">2</td><td class=\"tf ltr\"><span class=\"tfsechead ltr\"><span class=\"ltr\"><a target=\"_blank\" href=\"https://cdli.ucla.edu/search/search_results.php?SearchMode=Text&amp;ObjectID=P003499\" title=\"to CDLI main page for this tablet\" sec=\"P003499 obverse:1:2\">P003499 obverse:1:2</a></span></span></td><td class=\"tf ltr\"><span class=\" ubd\"><span class=\"txtu \"><span class=\"tfsechead ltr\"><span class=\"ltr\">P003499</span></span></span></span></td><td class=\"tf ltr\"><span class=\" ubd\"><span class=\"plain   hlbx\" ><span class=\"txtu \"><span title=\"number\">2a</span><span title=\"prime\"></span></span><span class=\"plain \" >GAL~a</span> <span class=\"plain   hl\" ><span class=\"plain hl\" >SZITA~a1</span> </span></span></span></td><td class=\"tf ltr\"><span class=\" ubd\"><span class=\"plain   hl\" ><span class=\"plain hl\" >SZITA~a1</span> </span></span></td></tr>\n",
       "<tr class=\"tf ltr\"><td class=\"tf ltr\">3</td><td class=\"tf ltr\"><span class=\"tfsechead ltr\"><span class=\"ltr\"><a target=\"_blank\" href=\"https://cdli.ucla.edu/search/search_results.php?SearchMode=Text&amp;ObjectID=P003541\" title=\"to CDLI main page for this tablet\" sec=\"P003541 obverse:2:1\">P003541 obverse:2:1</a></span></span></td><td class=\"tf ltr\"><span class=\" ubd\"><span class=\"txtu \"><span class=\"tfsechead ltr\"><span class=\"ltr\">P003541</span></span></span></span></td><td class=\"tf ltr\"><span class=\" ubd\"><span class=\"plain   hlbx\" ><span class=\"txtu \"><span title=\"number\">1b</span><span title=\"prime\"></span></span><span class=\"plain \" >GESZTU~b</span> <span class=\"plain   hl\" ><span class=\"plain hl\" >SZITA~a1</span> </span><span class=\"plain \" >ZATU686~a</span> </span></span></td><td class=\"tf ltr\"><span class=\" ubd\"><span class=\"plain   hl\" ><span class=\"plain hl\" >SZITA~a1</span> </span></span></td></tr>\n",
       "<tr class=\"tf ltr\"><td class=\"tf ltr\">4</td><td class=\"tf ltr\"><span class=\"tfsechead ltr\"><span class=\"ltr\"><a target=\"_blank\" href=\"https://cdli.ucla.edu/search/search_results.php?SearchMode=Text&amp;ObjectID=P003593\" title=\"to CDLI main page for this tablet\" sec=\"P003593 obverse:5:2\">P003593 obverse:5:2</a></span></span></td><td class=\"tf ltr\"><span class=\" ubd\"><span class=\"txtu \"><span class=\"tfsechead ltr\"><span class=\"ltr\">P003593</span></span></span></span></td><td class=\"tf ltr\"><span class=\" ubd\"><span class=\"plain   hlbx\" ><span class=\"txtu \"><span title=\"number\">2a</span><span title=\"prime\"></span></span><span class=\"plain \" >[<span class=\"plain \" >...</span>]</span> <span class=\"plain \" >GADA~a</span> <span class=\"plain   hl\" ><span class=\"plain hl\" >SZITA~a1</span> </span><span class=\"plain \" >X</span> </span></span></td><td class=\"tf ltr\"><span class=\" ubd\"><span class=\"plain   hl\" ><span class=\"plain hl\" >SZITA~a1</span> </span></span></td></tr>\n",
       "<tr class=\"tf ltr\"><td class=\"tf ltr\">5</td><td class=\"tf ltr\"><span class=\"tfsechead ltr\"><span class=\"ltr\"><a target=\"_blank\" href=\"https://cdli.ucla.edu/search/search_results.php?SearchMode=Text&amp;ObjectID=P003593\" title=\"to CDLI main page for this tablet\" sec=\"P003593 obverse:5:3\">P003593 obverse:5:3</a></span></span></td><td class=\"tf ltr\"><span class=\" ubd\"><span class=\"txtu \"><span class=\"tfsechead ltr\"><span class=\"ltr\">P003593</span></span></span></span></td><td class=\"tf ltr\"><span class=\" ubd\"><span class=\"plain   hlbx\" ><span class=\"txtu \"><span title=\"number\">3b</span><span title=\"prime\"></span></span><span class=\"plain \" >GESZTU~b</span> <span class=\"plain   hl\" ><span class=\"plain hl\" >SZITA~a1</span> </span><span class=\"plain \" >ZATU686~a</span> </span></span></td><td class=\"tf ltr\"><span class=\" ubd\"><span class=\"plain   hl\" ><span class=\"plain hl\" >SZITA~a1</span> </span></span></td></tr></table>"
      ],
      "text/plain": [
       "<IPython.core.display.HTML object>"
      ]
     },
     "metadata": {},
     "output_type": "display_data"
    }
   ],
   "source": [
    "query = \"\"\"\n",
    "tablet excavation~20274\n",
    "  case depth=1\n",
    "    sign grapheme=SZITA variant=a1\n",
    "\"\"\"\n",
    "results = A.search(query)\n",
    "A.table(results, condensed=False, showGraphics=False)"
   ]
  },
  {
   "cell_type": "markdown",
   "metadata": {},
   "source": [
    "Or if we want to restrict ourselves to pit numbers with a `W`, we can say:"
   ]
  },
  {
   "cell_type": "code",
   "execution_count": 63,
   "metadata": {
    "ExecuteTime": {
     "end_time": "2018-05-24T10:19:28.493360Z",
     "start_time": "2018-05-24T10:19:28.229437Z"
    }
   },
   "outputs": [
    {
     "name": "stdout",
     "output_type": "stream",
     "text": [
      "  0.06s 42 results\n"
     ]
    }
   ],
   "source": [
    "query = \"\"\"\n",
    "tablet excavation~W\n",
    "  case depth=1\n",
    "    sign grapheme=SZITA variant=a1\n",
    "\"\"\"\n",
    "results = A.search(query)"
   ]
  },
  {
   "cell_type": "markdown",
   "metadata": {},
   "source": [
    "## Quantifiers in templates\n",
    "\n",
    "So far we have seen only very positive templates.\n",
    "They express what you want to see in the result.\n",
    "\n",
    "It is also possible to state conditions about what you do not want to see in the results."
   ]
  },
  {
   "cell_type": "markdown",
   "metadata": {},
   "source": [
    "### Tablets without case divisions\n",
    "\n",
    "Let's find all tablets in which all lines are undivided, i.e. lines without cases."
   ]
  },
  {
   "cell_type": "code",
   "execution_count": 64,
   "metadata": {},
   "outputs": [],
   "source": [
    "query = \"\"\"\n",
    "tablet\n",
    "/without/\n",
    "  case\n",
    "/-/\n",
    "\"\"\""
   ]
  },
  {
   "cell_type": "markdown",
   "metadata": {},
   "source": [
    "The expression\n",
    "\n",
    "```\n",
    "/without/\n",
    "template\n",
    "/-/\n",
    "```\n",
    "\n",
    "is a [quantifier](https://annotation.github.io/text-fabric/tf/about/searchusage.html#quantifiers).\n",
    "\n",
    "It poses a condition on the preceding line in the template, in this case the `tablet`.\n",
    "And the condition is that the template\n",
    "\n",
    "```\n",
    "tablet\n",
    "  case\n",
    "```\n",
    "\n",
    "does not have results."
   ]
  },
  {
   "cell_type": "code",
   "execution_count": 65,
   "metadata": {},
   "outputs": [
    {
     "name": "stdout",
     "output_type": "stream",
     "text": [
      "  0.01s 5384 results\n"
     ]
    }
   ],
   "source": [
    "results = A.search(query)"
   ]
  },
  {
   "cell_type": "code",
   "execution_count": 66,
   "metadata": {},
   "outputs": [
    {
     "data": {
      "text/html": [
       "<p><b>tablet</b> <i>1</i>"
      ],
      "text/plain": [
       "<IPython.core.display.HTML object>"
      ]
     },
     "metadata": {},
     "output_type": "display_data"
    },
    {
     "data": {
      "text/html": [
       "<div class=\"tfsechead \"><span class=\"ltr\"><a target=\"_blank\" href=\"https://cdli.ucla.edu/search/search_results.php?SearchMode=Text&amp;ObjectID=P006427\" title=\"to CDLI main page for this tablet\" sec=\"P006427\">P006427</a></span></div><div class=\" children\"><div class=\"contnr c4    \" ><div class=\"lbl c4  \" ><span class=\"nd\">tablet </span> <span class=\"txtu\"><span class=\"tfsechead ltr\"><span class=\"ltr\">P006427</span></span></span></div><div class=\"features\"><span class=\"name \" title=\"name\">Anonymous 006427</span><span class=\"period \" title=\"period\">uruk-iii</span></div><div class=\"children ver  \"><div class=\"contnr c1 trm   \" ><div class=\"lbl c1 trm \" ><span class=\"nd\">comment </span> <span class=\"txtu\"><span class=\"plain   \" ><span class=\"plain \" ></span> </span></span></div><div class=\"features\"><span class=\"text \" title=\"text\">atf: lang qpc</span></div></div><div class=\"contnr c2    \" ><div class=\"lbl c2  \" ><span class=\"nd\">face </span> <span class=\"txtu\"><span title=\"type\">obverse</span></span></div><div class=\"children hor  \"><div class=\"contnr c3    \" ><div class=\"lbl c3  \" ><span class=\"nd\">column </span> <span class=\"txtu\"><span title=\"number\">1</span><span title=\"prime\"></span></span></div><div class=\"children ver  \"><div class=\"contnr c2    \" ><div class=\"lbl c2  \" ><span class=\"nd\">line </span> <span class=\"txtu\"><span title=\"number\">1</span></span></div><div class=\"children hor  \"><div class=\"contnr c1 cluster trm   \" ><div class=\"lbl c1 clusterb trm \" ><span class=\"nd\">cluster </span> <span class=\"txtu\"><span title=\"type\">?</span></span></div></div><div class=\"children hor wrap \"><div class=\"contnr c0 trm   \" ><div class=\"lbl c0 trm \" ><span class=\"txtu\"><span title=\"atf\">...</span></span></div></div></div><div class=\"contnr c1 cluster {}   \" ><div class=\"lbl c1 clustere trm \" ><span class=\"nd\">cluster </span> <span class=\"txtu\"><span title=\"type\">?</span></span></div> </div><div class=\"contnr c0 trm   \" ><div class=\"lbl c0 trm \" ><span class=\"txtu\"><span title=\"atf\">X</span></span></div></div><div class=\"contnr c0 trm   \" ><div class=\"lbl c0 trm \" ><span class=\"txtu\"><span title=\"atf\">X</span></span></div></div></div></div></div></div><div class=\"contnr c3    \" ><div class=\"lbl c3  \" ><span class=\"nd\">column </span> <span class=\"txtu\"><span title=\"number\">2</span><span title=\"prime\"></span></span></div><div class=\"children ver  \"><div class=\"contnr c2    \" ><div class=\"lbl c2  \" ><span class=\"nd\">line </span> <span class=\"txtu\"><span title=\"number\">1</span></span></div><div class=\"children hor  \"><div class=\"contnr c0 trm   \" ><div class=\"lbl c0 trm \" ><span class=\"txtu\"><span title=\"atf\">3(N14)</span></span></div></div><div class=\"contnr c0 trm   \" ><div class=\"lbl c0 trm \" ><span class=\"txtu\"><span title=\"atf\">X</span></span></div></div><div class=\"contnr c0 trm   \" ><div class=\"lbl c0 trm \" ><span class=\"txtu\"><span title=\"atf\">SANGA~a?</span></span></div></div><div class=\"contnr c1 cluster trm   \" ><div class=\"lbl c1 clusterb trm \" ><span class=\"nd\">cluster </span> <span class=\"txtu\"><span title=\"type\">?</span></span></div></div><div class=\"children hor wrap \"><div class=\"contnr c0 trm   \" ><div class=\"lbl c0 trm \" ><span class=\"txtu\"><span title=\"atf\">...</span></span></div></div></div><div class=\"contnr c1 cluster {}   \" ><div class=\"lbl c1 clustere trm \" ><span class=\"nd\">cluster </span> <span class=\"txtu\"><span title=\"type\">?</span></span></div> </div></div></div></div></div></div></div></div></div></div>"
      ],
      "text/plain": [
       "<IPython.core.display.HTML object>"
      ]
     },
     "metadata": {},
     "output_type": "display_data"
    },
    {
     "data": {
      "text/html": [
       "<p><b>tablet</b> <i>2</i>"
      ],
      "text/plain": [
       "<IPython.core.display.HTML object>"
      ]
     },
     "metadata": {},
     "output_type": "display_data"
    },
    {
     "data": {
      "text/html": [
       "<div class=\"tfsechead \"><span class=\"ltr\"><a target=\"_blank\" href=\"https://cdli.ucla.edu/search/search_results.php?SearchMode=Text&amp;ObjectID=P006428\" title=\"to CDLI main page for this tablet\" sec=\"P006428\">P006428</a></span></div><div class=\" children\"><div class=\"contnr c4    \" ><div class=\"lbl c4  \" ><span class=\"nd\">tablet </span> <span class=\"txtu\"><span class=\"tfsechead ltr\"><span class=\"ltr\">P006428</span></span></span></div><div class=\"features\"><span class=\"name \" title=\"name\">Anonymous 006428</span><span class=\"period \" title=\"period\">uruk-iii</span></div><div class=\"children ver  \"><div class=\"contnr c1 trm   \" ><div class=\"lbl c1 trm \" ><span class=\"nd\">comment </span> <span class=\"txtu\"><span class=\"plain   \" ><span class=\"plain \" ></span> </span></span></div><div class=\"features\"><span class=\"text \" title=\"text\">atf: lang qpc</span></div></div><div class=\"contnr c2    \" ><div class=\"lbl c2  \" ><span class=\"nd\">face </span> <span class=\"txtu\"><span title=\"type\">obverse</span></span></div><div class=\"children hor  \"><div class=\"contnr c3    \" ><div class=\"lbl c3  \" ><span class=\"nd\">column </span> <span class=\"txtu\"><span title=\"number\">1</span><span title=\"prime\"></span></span></div><div class=\"children ver  \"><div class=\"contnr c2    \" ><div class=\"lbl c2  \" ><span class=\"nd\">line </span> <span class=\"txtu\"><span title=\"number\">1</span></span></div><div class=\"children hor  \"><div class=\"contnr c0 trm   \" ><div class=\"lbl c0 trm \" ><span class=\"txtu\"><span title=\"atf\">X</span></span></div></div><div class=\"contnr c0 trm   \" ><div class=\"lbl c0 trm \" ><span class=\"txtu\"><span title=\"atf\">X</span></span></div></div></div></div><div class=\"contnr c2    \" ><div class=\"lbl c2  \" ><span class=\"nd\">line </span> <span class=\"txtu\"><span title=\"number\">2</span></span></div><div class=\"children hor  \"><div class=\"contnr c0 trm   \" ><div class=\"lbl c0 trm \" ><span class=\"txtu\"><span title=\"atf\">X</span></span></div></div><div class=\"contnr c0 trm   \" ><div class=\"lbl c0 trm \" ><span class=\"txtu\"><span title=\"atf\">X</span></span></div></div></div></div></div></div><div class=\"contnr c3    \" ><div class=\"lbl c3  \" ><span class=\"nd\">column </span> <span class=\"txtu\"><span title=\"number\">2</span><span title=\"prime\"></span></span></div><div class=\"children ver  \"><div class=\"contnr c2    \" ><div class=\"lbl c2  \" ><span class=\"nd\">line </span> <span class=\"txtu\"><span title=\"number\">1</span></span></div><div class=\"children hor  \"><div class=\"contnr c0 trm   \" ><div class=\"lbl c0 trm \" ><span class=\"txtu\"><span title=\"atf\">X</span></span></div></div><div class=\"contnr c0 trm   \" ><div class=\"lbl c0 trm \" ><span class=\"txtu\"><span title=\"atf\">X</span></span></div></div></div></div><div class=\"contnr c2    \" ><div class=\"lbl c2  \" ><span class=\"nd\">line </span> <span class=\"txtu\"><span title=\"number\">2</span></span></div><div class=\"children hor  \"><div class=\"contnr c0 trm   \" ><div class=\"lbl c0 trm \" ><span class=\"txtu\"><span title=\"atf\">X</span></span></div></div><div class=\"contnr c0 trm   \" ><div class=\"lbl c0 trm \" ><span class=\"txtu\"><span title=\"atf\">X</span></span></div></div></div></div></div></div><div class=\"contnr c3    \" ><div class=\"lbl c3  \" ><span class=\"nd\">column </span> <span class=\"txtu\"><span title=\"number\">3</span><span title=\"prime\"></span></span></div><div class=\"children ver  \"><div class=\"contnr c2    \" ><div class=\"lbl c2  \" ><span class=\"nd\">line </span> <span class=\"txtu\"><span title=\"number\">1</span></span></div><div class=\"children hor  \"><div class=\"contnr c0 trm   \" ><div class=\"lbl c0 trm \" ><span class=\"txtu\"><span title=\"atf\">X</span></span></div></div><div class=\"contnr c0 trm   \" ><div class=\"lbl c0 trm \" ><span class=\"txtu\"><span title=\"atf\">X</span></span></div></div></div></div><div class=\"contnr c2    \" ><div class=\"lbl c2  \" ><span class=\"nd\">line </span> <span class=\"txtu\"><span title=\"number\">2</span></span></div><div class=\"children hor  \"><div class=\"contnr c0 trm   \" ><div class=\"lbl c0 trm \" ><span class=\"txtu\"><span title=\"atf\">3(N14)</span></span></div></div><div class=\"contnr c0 trm   \" ><div class=\"lbl c0 trm \" ><span class=\"txtu\"><span title=\"atf\">X</span></span></div></div></div></div><div class=\"contnr c2    \" ><div class=\"lbl c2  \" ><span class=\"nd\">line </span> <span class=\"txtu\"><span title=\"number\">3</span></span></div><div class=\"children hor  \"><div class=\"contnr c0 trm   \" ><div class=\"lbl c0 trm \" ><span class=\"txtu\"><span title=\"atf\">1(N14)</span></span></div></div><div class=\"contnr c0 trm   \" ><div class=\"lbl c0 trm \" ><span class=\"txtu\"><span title=\"atf\">SUHUR</span></span></div></div></div></div><div class=\"contnr c2    \" ><div class=\"lbl c2  \" ><span class=\"nd\">line </span> <span class=\"txtu\"><span title=\"number\">4</span></span></div><div class=\"children hor  \"><div class=\"contnr c0 trm   \" ><div class=\"lbl c0 trm \" ><span class=\"txtu\"><span title=\"atf\">X</span></span></div></div><div class=\"contnr c0 trm   \" ><div class=\"lbl c0 trm \" ><span class=\"txtu\"><span title=\"atf\">X</span></span></div></div></div></div><div class=\"contnr c2    \" ><div class=\"lbl c2  \" ><span class=\"nd\">line </span> <span class=\"txtu\"><span title=\"number\">5</span></span></div><div class=\"children hor  \"><div class=\"contnr c0 trm   \" ><div class=\"lbl c0 trm \" ><span class=\"txtu\"><span title=\"atf\">1(N01)</span></span></div></div><div class=\"contnr c1    \" ><div class=\"lbl c1  \" ><span class=\"nd\">quad </span></div><div class=\"children hor wrap \"><div class=\"contnr c0 trm   \" ><div class=\"lbl c0 trm \" ><span class=\"txtu\"><span title=\"atf\">DUG~b</span></span></div></div><div class=\"op\">x</div><div class=\"contnr c0 trm   \" ><div class=\"lbl c0 trm \" ><span class=\"txtu\"><span title=\"atf\">1(N57)</span></span></div></div></div></div></div></div><div class=\"contnr c2    \" ><div class=\"lbl c2  \" ><span class=\"nd\">line </span> <span class=\"txtu\"><span title=\"number\">6</span></span></div><div class=\"children hor  \"><div class=\"contnr c0 trm   \" ><div class=\"lbl c0 trm \" ><span class=\"txtu\"><span title=\"atf\">X</span></span></div></div><div class=\"contnr c0 trm   \" ><div class=\"lbl c0 trm \" ><span class=\"txtu\"><span title=\"atf\">X</span></span></div></div></div></div><div class=\"contnr c2    \" ><div class=\"lbl c2  \" ><span class=\"nd\">line </span> <span class=\"txtu\"><span title=\"number\">7</span></span></div><div class=\"children hor  \"><div class=\"contnr c0 trm   \" ><div class=\"lbl c0 trm \" ><span class=\"txtu\"><span title=\"atf\">X</span></span></div></div><div class=\"contnr c0 trm   \" ><div class=\"lbl c0 trm \" ><span class=\"txtu\"><span title=\"atf\">X</span></span></div></div></div></div></div></div><div class=\"contnr c3    \" ><div class=\"lbl c3  \" ><span class=\"nd\">column </span> <span class=\"txtu\"><span title=\"number\">4</span><span title=\"prime\"></span></span></div><div class=\"children ver  \"><div class=\"contnr c2    \" ><div class=\"lbl c2  \" ><span class=\"nd\">line </span> <span class=\"txtu\"><span title=\"number\">1</span></span></div><div class=\"children hor  \"><div class=\"contnr c0 trm   \" ><div class=\"lbl c0 trm \" ><span class=\"txtu\"><span title=\"atf\">X</span></span></div></div><div class=\"contnr c0 trm   \" ><div class=\"lbl c0 trm \" ><span class=\"txtu\"><span title=\"atf\">X</span></span></div></div></div></div><div class=\"contnr c2    \" ><div class=\"lbl c2  \" ><span class=\"nd\">line </span> <span class=\"txtu\"><span title=\"number\">2</span></span></div><div class=\"children hor  \"><div class=\"contnr c0 trm   \" ><div class=\"lbl c0 trm \" ><span class=\"txtu\"><span title=\"atf\">X</span></span></div></div><div class=\"contnr c0 trm   \" ><div class=\"lbl c0 trm \" ><span class=\"txtu\"><span title=\"atf\">X</span></span></div></div></div></div></div></div><div class=\"contnr c3    \" ><div class=\"lbl c3  \" ><span class=\"nd\">column </span> <span class=\"txtu\"><span title=\"number\">5</span><span title=\"prime\"></span></span></div><div class=\"children ver  \"><div class=\"contnr c2    \" ><div class=\"lbl c2  \" ><span class=\"nd\">line </span> <span class=\"txtu\"><span title=\"number\">1</span></span></div><div class=\"children hor  \"><div class=\"contnr c1 cluster trm   \" ><div class=\"lbl c1 clusterb trm \" ><span class=\"nd\">cluster </span> <span class=\"txtu\"><span title=\"type\">?</span></span></div></div><div class=\"children hor wrap \"><div class=\"contnr c0 trm   \" ><div class=\"lbl c0 trm \" ><span class=\"txtu\"><span title=\"atf\">...</span></span></div></div></div><div class=\"contnr c1 cluster {}   \" ><div class=\"lbl c1 clustere trm \" ><span class=\"nd\">cluster </span> <span class=\"txtu\"><span title=\"type\">?</span></span></div> </div></div></div></div></div></div></div></div></div></div>"
      ],
      "text/plain": [
       "<IPython.core.display.HTML object>"
      ]
     },
     "metadata": {},
     "output_type": "display_data"
    }
   ],
   "source": [
    "A.show(results, end=2)"
   ]
  },
  {
   "cell_type": "markdown",
   "metadata": {},
   "source": [
    "Now let's find cases without numerals."
   ]
  },
  {
   "cell_type": "code",
   "execution_count": 67,
   "metadata": {},
   "outputs": [
    {
     "name": "stdout",
     "output_type": "stream",
     "text": [
      "  0.06s 2833 results\n"
     ]
    }
   ],
   "source": [
    "query = \"\"\"\n",
    "case\n",
    "/without/\n",
    "  sign type=numeral\n",
    "/-/\n",
    "\"\"\"\n",
    "results = A.search(query)"
   ]
  },
  {
   "cell_type": "markdown",
   "metadata": {},
   "source": [
    "We show a few."
   ]
  },
  {
   "cell_type": "code",
   "execution_count": 68,
   "metadata": {},
   "outputs": [
    {
     "data": {
      "text/html": [
       "<p><b>tablet</b> <i>1</i>"
      ],
      "text/plain": [
       "<IPython.core.display.HTML object>"
      ]
     },
     "metadata": {},
     "output_type": "display_data"
    },
    {
     "data": {
      "text/html": [
       "<div class=\"tfsechead \"><span class=\"ltr\"><a target=\"_blank\" href=\"https://cdli.ucla.edu/search/search_results.php?SearchMode=Text&amp;ObjectID=P471695\" title=\"to CDLI main page for this tablet\" sec=\"P471695\">P471695</a></span></div><div class=\" children\"><div class=\"contnr c4    \" ><div class=\"lbl c4  \" ><span class=\"nd\">tablet </span> <span class=\"txtu\"><span class=\"tfsechead ltr\"><span class=\"ltr\">P471695</span></span></span></div><div class=\"features\"><span class=\"name \" title=\"name\">Anonymous 471695</span><span class=\"period \" title=\"period\">uruk-iii</span></div><div class=\"children ver  \"><div class=\"contnr c1 trm   \" ><div class=\"lbl c1 trm \" ><span class=\"nd\">comment </span> <span class=\"txtu\"><span class=\"plain   \" ><span class=\"plain \" ></span> </span></span></div><div class=\"features\"><span class=\"text \" title=\"text\">atf: lang qpc</span></div></div><div class=\"contnr c2    \" ><div class=\"lbl c2  \" ><span class=\"nd\">face </span> <span class=\"txtu\"><span title=\"type\">obverse</span></span></div><div class=\"children hor  \"><div class=\"contnr c3    \" ><div class=\"lbl c3  \" ><span class=\"nd\">column </span> <span class=\"txtu\"><span title=\"number\">1</span><span title=\"prime\"></span></span></div><div class=\"children ver  \"><div class=\"contnr c2    \" ><div class=\"lbl c2  \" ><span class=\"nd\">line </span> <span class=\"txtu\"><span title=\"number\">1</span></span></div><div class=\"children hor  \"><div class=\"contnr c2    \" ><div class=\"lbl c2  \" ><span class=\"nd\">case </span> <span class=\"txtu\"><span title=\"number\">1a</span><span title=\"prime\"></span></span></div><div class=\"children ver False \"><div class=\"contnr c0 trm   \" ><div class=\"lbl c0 trm \" ><span class=\"txtu\"><span title=\"atf\">3(N01)</span></span></div></div><div class=\"contnr c0 trm   \" ><div class=\"lbl c0 trm \" ><span class=\"txtu\"><span title=\"atf\">APIN~a</span></span></div></div><div class=\"contnr c0 trm   \" ><div class=\"lbl c0 trm \" ><span class=\"txtu\"><span title=\"atf\">3(N57)</span></span></div></div><div class=\"contnr c0 trm   \" ><div class=\"lbl c0 trm \" ><span class=\"txtu\"><span title=\"atf\">UR4~a</span></span></div></div></div></div><div class=\"contnr c2    hl\" ><div class=\"lbl c2  hl\" ><span class=\"nd\">case </span> <span class=\"txtu\"><span title=\"number\">1b</span><span title=\"prime\"></span></span></div><div class=\"children ver False \"><div class=\"contnr c2    hl\" ><div class=\"lbl c2  hl\" ><span class=\"nd\">case </span> <span class=\"txtu\"><span title=\"number\">1b1</span><span title=\"prime\"></span></span></div><div class=\"children hor False \"><div class=\"contnr c1 cluster trm   \" ><div class=\"lbl c1 clusterb trm \" ><span class=\"nd\">cluster </span> <span class=\"txtu\"><span title=\"type\">=</span></span></div></div><div class=\"children hor wrap \"><div class=\"contnr c0 trm   \" ><div class=\"lbl c0 trm \" ><span class=\"txtu\"><span title=\"atf\">EN~a</span></span></div></div><div class=\"contnr c0 trm   \" ><div class=\"lbl c0 trm \" ><span class=\"txtu\"><span title=\"atf\">DU</span></span></div></div><div class=\"contnr c0 trm   \" ><div class=\"lbl c0 trm \" ><span class=\"txtu\"><span title=\"atf\">ZATU759</span></span></div></div></div><div class=\"contnr c1 cluster {}   \" ><div class=\"lbl c1 clustere trm \" ><span class=\"nd\">cluster </span> <span class=\"txtu\"><span title=\"type\">=</span></span></div> </div></div></div><div class=\"contnr c2    hl\" ><div class=\"lbl c2  hl\" ><span class=\"nd\">case </span> <span class=\"txtu\"><span title=\"number\">1b2</span><span title=\"prime\"></span></span></div><div class=\"children hor False \"><div class=\"contnr c1 cluster trm   \" ><div class=\"lbl c1 clusterb trm \" ><span class=\"nd\">cluster </span> <span class=\"txtu\"><span title=\"type\">=</span></span></div></div><div class=\"children hor wrap \"><div class=\"contnr c0 trm   \" ><div class=\"lbl c0 trm \" ><span class=\"txtu\"><span title=\"atf\">BAN~b</span></span></div></div><div class=\"contnr c0 trm   \" ><div class=\"lbl c0 trm \" ><span class=\"txtu\"><span title=\"atf\">KASZ~c</span></span></div></div></div><div class=\"contnr c1 cluster {}   \" ><div class=\"lbl c1 clustere trm \" ><span class=\"nd\">cluster </span> <span class=\"txtu\"><span title=\"type\">=</span></span></div> </div></div></div><div class=\"contnr c2    hl\" ><div class=\"lbl c2  hl\" ><span class=\"nd\">case </span> <span class=\"txtu\"><span title=\"number\">1b3</span><span title=\"prime\"></span></span></div><div class=\"children hor False \"><div class=\"contnr c1 cluster trm   \" ><div class=\"lbl c1 clusterb trm \" ><span class=\"nd\">cluster </span> <span class=\"txtu\"><span title=\"type\">=</span></span></div></div><div class=\"children hor wrap \"><div class=\"contnr c0 trm   \" ><div class=\"lbl c0 trm \" ><span class=\"txtu\"><span title=\"atf\">KI@n</span></span></div></div><div class=\"contnr c0 trm   \" ><div class=\"lbl c0 trm \" ><span class=\"txtu\"><span title=\"atf\">SAG</span></span></div></div></div><div class=\"contnr c1 cluster {}   \" ><div class=\"lbl c1 clustere trm \" ><span class=\"nd\">cluster </span> <span class=\"txtu\"><span title=\"type\">=</span></span></div> </div></div></div></div></div></div></div><div class=\"contnr c2    \" ><div class=\"lbl c2  \" ><span class=\"nd\">line </span> <span class=\"txtu\"><span title=\"number\">2</span></span></div><div class=\"children hor  \"><div class=\"contnr c2    \" ><div class=\"lbl c2  \" ><span class=\"nd\">case </span> <span class=\"txtu\"><span title=\"number\">2a</span><span title=\"prime\"></span></span></div><div class=\"children ver False \"><div class=\"contnr c0 trm   \" ><div class=\"lbl c0 trm \" ><span class=\"txtu\"><span title=\"atf\">1(N14)</span></span></div></div><div class=\"contnr c0 trm   \" ><div class=\"lbl c0 trm \" ><span class=\"txtu\"><span title=\"atf\">2(N01)</span></span></div></div><div class=\"contnr c1 cluster trm   \" ><div class=\"lbl c1 clusterb trm \" ><span class=\"nd\">cluster </span> <span class=\"txtu\"><span title=\"type\">?</span></span></div></div><div class=\"children hor wrap \"><div class=\"contnr c0 trm   \" ><div class=\"lbl c0 trm \" ><span class=\"txtu\"><span title=\"atf\">...</span></span></div></div></div><div class=\"contnr c1 cluster {}   \" ><div class=\"lbl c1 clustere trm \" ><span class=\"nd\">cluster </span> <span class=\"txtu\"><span title=\"type\">?</span></span></div> </div></div></div><div class=\"contnr c2    \" ><div class=\"lbl c2  \" ><span class=\"nd\">case </span> <span class=\"txtu\"><span title=\"number\">2b</span><span title=\"prime\"></span></span></div><div class=\"children ver False \"><div class=\"contnr c2    \" ><div class=\"lbl c2  \" ><span class=\"nd\">case </span> <span class=\"txtu\"><span title=\"number\">2b1</span><span title=\"prime\"></span></span></div><div class=\"children hor False \"><div class=\"contnr c1 cluster trm   \" ><div class=\"lbl c1 clusterb trm \" ><span class=\"nd\">cluster </span> <span class=\"txtu\"><span title=\"type\">=</span></span></div></div><div class=\"children hor wrap \"><div class=\"contnr c0 trm   \" ><div class=\"lbl c0 trm \" ><span class=\"txtu\"><span title=\"atf\">3(N57)</span></span></div></div><div class=\"contnr c0 trm   \" ><div class=\"lbl c0 trm \" ><span class=\"txtu\"><span title=\"atf\">PAP~a</span></span></div></div></div><div class=\"contnr c1 cluster {}   \" ><div class=\"lbl c1 clustere trm \" ><span class=\"nd\">cluster </span> <span class=\"txtu\"><span title=\"type\">=</span></span></div> </div></div></div><div class=\"contnr c2    hl\" ><div class=\"lbl c2  hl\" ><span class=\"nd\">case </span> <span class=\"txtu\"><span title=\"number\">2b2</span><span title=\"prime\"></span></span></div><div class=\"children hor False \"><div class=\"contnr c1 trm   \" ><div class=\"lbl c1 trm \" ><span class=\"nd\">comment </span> <span class=\"txtu\"><span class=\"plain   \" ><span class=\"plain \" ></span> </span></span></div><div class=\"features\"><span class=\"text \" title=\"text\">n lines broken</span></div></div><div class=\"contnr c1 cluster trm   \" ><div class=\"lbl c1 clusterb trm \" ><span class=\"nd\">cluster </span> <span class=\"txtu\"><span title=\"type\">=</span></span></div></div><div class=\"children hor wrap \"><div class=\"contnr c0 trm   \" ><div class=\"lbl c0 trm \" ><span class=\"txtu\"><span title=\"atf\">SZU</span></span></div></div><div class=\"contnr c0 trm   \" ><div class=\"lbl c0 trm \" ><span class=\"txtu\"><span title=\"atf\">KI</span></span></div></div><div class=\"contnr c0 trm   \" ><div class=\"lbl c0 trm \" ><span class=\"txtu\"><span title=\"atf\">X</span></span></div></div></div><div class=\"contnr c1 cluster {}   \" ><div class=\"lbl c1 clustere trm \" ><span class=\"nd\">cluster </span> <span class=\"txtu\"><span title=\"type\">=</span></span></div> </div></div></div><div class=\"contnr c2    hl\" ><div class=\"lbl c2  hl\" ><span class=\"nd\">case </span> <span class=\"txtu\"><span title=\"number\">2b3</span><span title=\"prime\">'</span></span></div><div class=\"children hor False \"><div class=\"contnr c1 cluster trm   \" ><div class=\"lbl c1 clusterb trm \" ><span class=\"nd\">cluster </span> <span class=\"txtu\"><span title=\"type\">=</span></span></div></div><div class=\"children hor wrap \"><div class=\"contnr c0 trm   \" ><div class=\"lbl c0 trm \" ><span class=\"txtu\"><span title=\"atf\">EN~a</span></span></div></div><div class=\"contnr c0 trm   \" ><div class=\"lbl c0 trm \" ><span class=\"txtu\"><span title=\"atf\">AN</span></span></div></div><div class=\"contnr c0 trm   \" ><div class=\"lbl c0 trm \" ><span class=\"txtu\"><span title=\"atf\">EZINU~d</span></span></div></div></div><div class=\"contnr c1 cluster {}   \" ><div class=\"lbl c1 clustere trm \" ><span class=\"nd\">cluster </span> <span class=\"txtu\"><span title=\"type\">=</span></span></div> </div></div></div><div class=\"contnr c2    hl\" ><div class=\"lbl c2  hl\" ><span class=\"nd\">case </span> <span class=\"txtu\"><span title=\"number\">2b4</span><span title=\"prime\">'</span></span></div><div class=\"children hor False \"><div class=\"contnr c1 trm   \" ><div class=\"lbl c1 trm \" ><span class=\"nd\">comment </span> <span class=\"txtu\"><span class=\"plain   \" ><span class=\"plain \" ></span> </span></span></div><div class=\"features\"><span class=\"text \" title=\"text\">rest broken</span></div></div><div class=\"contnr c1 trm   \" ><div class=\"lbl c1 trm \" ><span class=\"nd\">comment </span> <span class=\"txtu\"><span class=\"plain   \" ><span class=\"plain \" ></span> </span></span></div><div class=\"features\"><span class=\"text \" title=\"text\">(for a total of 12 sub-cases with PNN)</span></div></div><div class=\"contnr c1 cluster trm   \" ><div class=\"lbl c1 clusterb trm \" ><span class=\"nd\">cluster </span> <span class=\"txtu\"><span title=\"type\">=</span></span></div></div><div class=\"children hor wrap \"><div class=\"contnr c0 trm   \" ><div class=\"lbl c0 trm \" ><span class=\"txtu\"><span title=\"atf\">IDIGNA</span></span></div></div><div class=\"contnr c1 cluster trm   \" ><div class=\"lbl c1 clusterb trm \" ><span class=\"nd\">cluster </span> <span class=\"txtu\"><span title=\"type\">?</span></span></div></div><div class=\"children hor wrap \"><div class=\"contnr c0 trm   \" ><div class=\"lbl c0 trm \" ><span class=\"txtu\"><span title=\"atf\">...</span></span></div></div></div><div class=\"contnr c1 cluster {}   \" ><div class=\"lbl c1 clustere trm \" ><span class=\"nd\">cluster </span> <span class=\"txtu\"><span title=\"type\">?</span></span></div> </div></div><div class=\"contnr c1 cluster {}   \" ><div class=\"lbl c1 clustere trm \" ><span class=\"nd\">cluster </span> <span class=\"txtu\"><span title=\"type\">=</span></span></div> </div></div></div></div></div></div></div></div></div><div class=\"contnr c3    \" ><div class=\"lbl c3  \" ><span class=\"nd\">column </span> <span class=\"txtu\"><span title=\"number\">2</span><span title=\"prime\"></span></span></div><div class=\"children ver  \"><div class=\"contnr c2    \" ><div class=\"lbl c2  \" ><span class=\"nd\">line </span> <span class=\"txtu\"><span title=\"number\">1</span></span></div><div class=\"children hor  \"><div class=\"contnr c2    \" ><div class=\"lbl c2  \" ><span class=\"nd\">case </span> <span class=\"txtu\"><span title=\"number\">1a</span><span title=\"prime\"></span></span></div><div class=\"children ver False \"><div class=\"contnr c0 trm   \" ><div class=\"lbl c0 trm \" ><span class=\"txtu\"><span title=\"atf\">1(N01)</span></span></div></div><div class=\"contnr c0 trm   \" ><div class=\"lbl c0 trm \" ><span class=\"txtu\"><span title=\"atf\">ISZ~a#?</span></span></div></div></div></div><div class=\"contnr c2    hl\" ><div class=\"lbl c2  hl\" ><span class=\"nd\">case </span> <span class=\"txtu\"><span title=\"number\">1b</span><span title=\"prime\"></span></span></div><div class=\"children ver False \"><div class=\"contnr c2    hl\" ><div class=\"lbl c2  hl\" ><span class=\"nd\">case </span> <span class=\"txtu\"><span title=\"number\">1b1</span><span title=\"prime\"></span></span></div><div class=\"children hor False \"><div class=\"contnr c1 trm   \" ><div class=\"lbl c1 trm \" ><span class=\"nd\">comment </span> <span class=\"txtu\"><span class=\"plain   \" ><span class=\"plain \" ></span> </span></span></div><div class=\"features\"><span class=\"text \" title=\"text\">blank space</span></div></div><div class=\"contnr c1 trm   \" ><div class=\"lbl c1 trm \" ><span class=\"nd\">comment </span> <span class=\"txtu\"><span class=\"plain   \" ><span class=\"plain \" ></span> </span></span></div><div class=\"features\"><span class=\"text \" title=\"text\">rest broken</span></div></div><div class=\"contnr c1 cluster trm   \" ><div class=\"lbl c1 clusterb trm \" ><span class=\"nd\">cluster </span> <span class=\"txtu\"><span title=\"type\">=</span></span></div></div><div class=\"children hor wrap \"><div class=\"contnr c0 trm   \" ><div class=\"lbl c0 trm \" ><span class=\"txtu\"><span title=\"atf\">PAP~a</span></span></div></div><div class=\"contnr c0 trm   \" ><div class=\"lbl c0 trm \" ><span class=\"txtu\"><span title=\"atf\">GIR3~c</span></span></div></div></div><div class=\"contnr c1 cluster {}   \" ><div class=\"lbl c1 clustere trm \" ><span class=\"nd\">cluster </span> <span class=\"txtu\"><span title=\"type\">=</span></span></div> </div></div></div></div></div></div></div></div></div></div></div><div class=\"contnr c2    \" ><div class=\"lbl c2  \" ><span class=\"nd\">face </span> <span class=\"txtu\"><span title=\"type\">reverse</span></span></div><div class=\"children hor  \"><div class=\"contnr c1 trm   \" ><div class=\"lbl c1 trm \" ><span class=\"nd\">comment </span> <span class=\"txtu\"><span class=\"plain   \" ><span class=\"plain \" ></span> </span></span></div><div class=\"features\"><span class=\"text \" title=\"text\">beginning broken</span></div></div><div class=\"contnr c3    \" ><div class=\"lbl c3  \" ><span class=\"nd\">column </span> <span class=\"txtu\"><span title=\"number\">0</span><span title=\"prime\"></span></span></div><div class=\"children ver  \"><div class=\"contnr c2    \" ><div class=\"lbl c2  \" ><span class=\"nd\">line </span> <span class=\"txtu\"><span title=\"number\">1</span></span></div><div class=\"children hor  \"><div class=\"contnr c1 cluster trm   \" ><div class=\"lbl c1 clusterb trm \" ><span class=\"nd\">cluster </span> <span class=\"txtu\"><span title=\"type\">?</span></span></div></div><div class=\"children hor wrap \"><div class=\"contnr c0 trm   \" ><div class=\"lbl c0 trm \" ><span class=\"txtu\"><span title=\"atf\">1(N14)</span></span></div></div></div><div class=\"contnr c1 cluster {}   \" ><div class=\"lbl c1 clustere trm \" ><span class=\"nd\">cluster </span> <span class=\"txtu\"><span title=\"type\">?</span></span></div> </div><div class=\"contnr c0 trm   \" ><div class=\"lbl c0 trm \" ><span class=\"txtu\"><span title=\"atf\">6(N01)#</span></span></div></div><div class=\"contnr c1 cluster trm   \" ><div class=\"lbl c1 clusterb trm \" ><span class=\"nd\">cluster </span> <span class=\"txtu\"><span title=\"type\">?</span></span></div></div><div class=\"children hor wrap \"><div class=\"contnr c0 trm   \" ><div class=\"lbl c0 trm \" ><span class=\"txtu\"><span title=\"atf\">...</span></span></div></div></div><div class=\"contnr c1 cluster {}   \" ><div class=\"lbl c1 clustere trm \" ><span class=\"nd\">cluster </span> <span class=\"txtu\"><span title=\"type\">?</span></span></div> </div></div></div></div></div></div></div></div></div></div>"
      ],
      "text/plain": [
       "<IPython.core.display.HTML object>"
      ]
     },
     "metadata": {},
     "output_type": "display_data"
    },
    {
     "data": {
      "text/html": [
       "<p><b>tablet</b> <i>2</i>"
      ],
      "text/plain": [
       "<IPython.core.display.HTML object>"
      ]
     },
     "metadata": {},
     "output_type": "display_data"
    },
    {
     "data": {
      "text/html": [
       "<div class=\"tfsechead \"><span class=\"ltr\"><a target=\"_blank\" href=\"https://cdli.ucla.edu/search/search_results.php?SearchMode=Text&amp;ObjectID=P006438\" title=\"to CDLI main page for this tablet\" sec=\"P006438\">P006438</a></span></div><div class=\" children\"><div class=\"contnr c4    \" ><div class=\"lbl c4  \" ><span class=\"nd\">tablet </span> <span class=\"txtu\"><span class=\"tfsechead ltr\"><span class=\"ltr\">P006438</span></span></span></div><div class=\"features\"><span class=\"name \" title=\"name\">AOST 109</span><span class=\"period \" title=\"period\">uruk-iii</span></div><div class=\"children ver  \"><div class=\"contnr c1 trm   \" ><div class=\"lbl c1 trm \" ><span class=\"nd\">comment </span> <span class=\"txtu\"><span class=\"plain   \" ><span class=\"plain \" ></span> </span></span></div><div class=\"features\"><span class=\"text \" title=\"text\">atf: lang qpc</span></div></div><div class=\"contnr c2    \" ><div class=\"lbl c2  \" ><span class=\"nd\">face </span> <span class=\"txtu\"><span title=\"type\">obverse</span></span></div><div class=\"children hor  \"><div class=\"contnr c3    \" ><div class=\"lbl c3  \" ><span class=\"nd\">column </span> <span class=\"txtu\"><span title=\"number\">1</span><span title=\"prime\"></span></span></div><div class=\"children ver  \"><div class=\"contnr c2    \" ><div class=\"lbl c2  \" ><span class=\"nd\">line </span> <span class=\"txtu\"><span title=\"number\">1</span></span></div><div class=\"children hor  \"><div class=\"contnr c1 cluster trm   \" ><div class=\"lbl c1 clusterb trm \" ><span class=\"nd\">cluster </span> <span class=\"txtu\"><span title=\"type\">?</span></span></div></div><div class=\"children hor wrap \"><div class=\"contnr c0 trm   \" ><div class=\"lbl c0 trm \" ><span class=\"txtu\"><span title=\"atf\">...</span></span></div></div></div><div class=\"contnr c1 cluster {}   \" ><div class=\"lbl c1 clustere trm \" ><span class=\"nd\">cluster </span> <span class=\"txtu\"><span title=\"type\">?</span></span></div> </div><div class=\"contnr c1 cluster trm   \" ><div class=\"lbl c1 clusterb trm \" ><span class=\"nd\">cluster </span> <span class=\"txtu\"><span title=\"type\">?</span></span></div></div><div class=\"children hor wrap \"><div class=\"contnr c0 trm   \" ><div class=\"lbl c0 trm \" ><span class=\"txtu\"><span title=\"atf\">...</span></span></div></div></div><div class=\"contnr c1 cluster {}   \" ><div class=\"lbl c1 clustere trm \" ><span class=\"nd\">cluster </span> <span class=\"txtu\"><span title=\"type\">?</span></span></div> </div></div></div><div class=\"contnr c2    \" ><div class=\"lbl c2  \" ><span class=\"nd\">line </span> <span class=\"txtu\"><span title=\"number\">2</span></span></div><div class=\"children hor  \"><div class=\"contnr c2    hl\" ><div class=\"lbl c2  hl\" ><span class=\"nd\">case </span> <span class=\"txtu\"><span title=\"number\">2a</span><span title=\"prime\"></span></span></div><div class=\"children ver False \"><div class=\"contnr c0 trm   \" ><div class=\"lbl c0 trm \" ><span class=\"txtu\"><span title=\"atf\">KU6~a</span></span></div></div><div class=\"contnr c0 trm   \" ><div class=\"lbl c0 trm \" ><span class=\"txtu\"><span title=\"atf\">BU~a</span></span></div></div></div></div><div class=\"contnr c2    hl\" ><div class=\"lbl c2  hl\" ><span class=\"nd\">case </span> <span class=\"txtu\"><span title=\"number\">2b</span><span title=\"prime\"></span></span></div><div class=\"children ver False \"><div class=\"contnr c1    \" ><div class=\"lbl c1  \" ><span class=\"nd\">quad </span></div><div class=\"children hor wrap \"><div class=\"contnr c0 trm   \" ><div class=\"lbl c0 trm \" ><span class=\"txtu\"><span title=\"atf\">AB~a</span></span></div></div><div class=\"op\">x</div><div class=\"contnr c0 trm   \" ><div class=\"lbl c0 trm \" ><span class=\"txtu\"><span title=\"atf\">SUKKAL</span></span></div></div></div></div></div></div><div class=\"contnr c2    hl\" ><div class=\"lbl c2  hl\" ><span class=\"nd\">case </span> <span class=\"txtu\"><span title=\"number\">2c</span><span title=\"prime\"></span></span></div><div class=\"children ver False \"><div class=\"contnr c0 trm   \" ><div class=\"lbl c0 trm \" ><span class=\"txtu\"><span title=\"atf\">NAM2</span></span></div></div><div class=\"contnr c0 trm   \" ><div class=\"lbl c0 trm \" ><span class=\"txtu\"><span title=\"atf\">RAD~a</span></span></div></div><div class=\"contnr c0 trm   \" ><div class=\"lbl c0 trm \" ><span class=\"txtu\"><span title=\"atf\">PA~a</span></span></div></div><div class=\"contnr c0 trm   \" ><div class=\"lbl c0 trm \" ><span class=\"txtu\"><span title=\"atf\">SZU</span></span></div></div></div></div><div class=\"contnr c2    hl\" ><div class=\"lbl c2  hl\" ><span class=\"nd\">case </span> <span class=\"txtu\"><span title=\"number\">2d</span><span title=\"prime\"></span></span></div><div class=\"children ver False \"><div class=\"contnr c0 trm   \" ><div class=\"lbl c0 trm \" ><span class=\"txtu\"><span title=\"atf\">RAD~a</span></span></div></div><div class=\"contnr c1 cluster trm   \" ><div class=\"lbl c1 clusterb trm \" ><span class=\"nd\">cluster </span> <span class=\"txtu\"><span title=\"type\">?</span></span></div></div><div class=\"children hor wrap \"><div class=\"contnr c0 trm   \" ><div class=\"lbl c0 trm \" ><span class=\"txtu\"><span title=\"atf\">...</span></span></div></div></div><div class=\"contnr c1 cluster {}   \" ><div class=\"lbl c1 clustere trm \" ><span class=\"nd\">cluster </span> <span class=\"txtu\"><span title=\"type\">?</span></span></div> </div></div></div></div></div><div class=\"contnr c2    \" ><div class=\"lbl c2  \" ><span class=\"nd\">line </span> <span class=\"txtu\"><span title=\"number\">3</span></span></div><div class=\"children hor  \"><div class=\"contnr c1 cluster trm   \" ><div class=\"lbl c1 clusterb trm \" ><span class=\"nd\">cluster </span> <span class=\"txtu\"><span title=\"type\">?</span></span></div></div><div class=\"children hor wrap \"><div class=\"contnr c0 trm   \" ><div class=\"lbl c0 trm \" ><span class=\"txtu\"><span title=\"atf\">...</span></span></div></div></div><div class=\"contnr c1 cluster {}   \" ><div class=\"lbl c1 clustere trm \" ><span class=\"nd\">cluster </span> <span class=\"txtu\"><span title=\"type\">?</span></span></div> </div></div></div></div></div></div></div><div class=\"contnr c2    \" ><div class=\"lbl c2  \" ><span class=\"nd\">face </span> <span class=\"txtu\"><span title=\"type\">reverse</span></span></div><div class=\"children hor  \"><div class=\"contnr c3    \" ><div class=\"lbl c3  \" ><span class=\"nd\">column </span> <span class=\"txtu\"><span title=\"number\">1</span><span title=\"prime\"></span></span></div><div class=\"children ver  \"><div class=\"contnr c2    \" ><div class=\"lbl c2  \" ><span class=\"nd\">line </span> <span class=\"txtu\"><span title=\"number\">1</span></span></div><div class=\"children hor  \"><div class=\"contnr c1 cluster trm   \" ><div class=\"lbl c1 clusterb trm \" ><span class=\"nd\">cluster </span> <span class=\"txtu\"><span title=\"type\">?</span></span></div></div><div class=\"children hor wrap \"><div class=\"contnr c0 trm   \" ><div class=\"lbl c0 trm \" ><span class=\"txtu\"><span title=\"atf\">...</span></span></div></div></div><div class=\"contnr c1 cluster {}   \" ><div class=\"lbl c1 clustere trm \" ><span class=\"nd\">cluster </span> <span class=\"txtu\"><span title=\"type\">?</span></span></div> </div><div class=\"contnr c1 cluster trm   \" ><div class=\"lbl c1 clusterb trm \" ><span class=\"nd\">cluster </span> <span class=\"txtu\"><span title=\"type\">?</span></span></div></div><div class=\"children hor wrap \"><div class=\"contnr c0 trm   \" ><div class=\"lbl c0 trm \" ><span class=\"txtu\"><span title=\"atf\">...</span></span></div></div></div><div class=\"contnr c1 cluster {}   \" ><div class=\"lbl c1 clustere trm \" ><span class=\"nd\">cluster </span> <span class=\"txtu\"><span title=\"type\">?</span></span></div> </div></div></div><div class=\"contnr c2    \" ><div class=\"lbl c2  \" ><span class=\"nd\">line </span> <span class=\"txtu\"><span title=\"number\">2</span></span></div><div class=\"children hor  \"><div class=\"contnr c0 trm   \" ><div class=\"lbl c0 trm \" ><span class=\"txtu\"><span title=\"atf\">1(N01)</span></span></div></div><div class=\"contnr c0 trm   \" ><div class=\"lbl c0 trm \" ><span class=\"txtu\"><span title=\"atf\">USZ~a</span></span></div></div><div class=\"contnr c0 trm   \" ><div class=\"lbl c0 trm \" ><span class=\"txtu\"><span title=\"atf\">SZUBUR</span></span></div></div><div class=\"contnr c0 trm   \" ><div class=\"lbl c0 trm \" ><span class=\"txtu\"><span title=\"atf\">GAL~a</span></span></div></div><div class=\"contnr c0 trm   \" ><div class=\"lbl c0 trm \" ><span class=\"txtu\"><span title=\"atf\">IM~a</span></span></div></div></div></div><div class=\"contnr c2    \" ><div class=\"lbl c2  \" ><span class=\"nd\">line </span> <span class=\"txtu\"><span title=\"number\">3</span></span></div><div class=\"children hor  \"><div class=\"contnr c0 trm   \" ><div class=\"lbl c0 trm \" ><span class=\"txtu\"><span title=\"atf\">SZA</span></span></div></div><div class=\"contnr c1 cluster trm   \" ><div class=\"lbl c1 clusterb trm \" ><span class=\"nd\">cluster </span> <span class=\"txtu\"><span title=\"type\">?</span></span></div></div><div class=\"children hor wrap \"><div class=\"contnr c0 trm   \" ><div class=\"lbl c0 trm \" ><span class=\"txtu\"><span title=\"atf\">...</span></span></div></div></div><div class=\"contnr c1 cluster {}   \" ><div class=\"lbl c1 clustere trm \" ><span class=\"nd\">cluster </span> <span class=\"txtu\"><span title=\"type\">?</span></span></div> </div><div class=\"contnr c0 trm   \" ><div class=\"lbl c0 trm \" ><span class=\"txtu\"><span title=\"atf\">RAD~a#</span></span></div></div></div></div><div class=\"contnr c2    \" ><div class=\"lbl c2  \" ><span class=\"nd\">line </span> <span class=\"txtu\"><span title=\"number\">4</span></span></div><div class=\"children hor  \"><div class=\"contnr c1 cluster trm   \" ><div class=\"lbl c1 clusterb trm \" ><span class=\"nd\">cluster </span> <span class=\"txtu\"><span title=\"type\">?</span></span></div></div><div class=\"children hor wrap \"><div class=\"contnr c0 trm   \" ><div class=\"lbl c0 trm \" ><span class=\"txtu\"><span title=\"atf\">...</span></span></div></div></div><div class=\"contnr c1 cluster {}   \" ><div class=\"lbl c1 clustere trm \" ><span class=\"nd\">cluster </span> <span class=\"txtu\"><span title=\"type\">?</span></span></div> </div><div class=\"contnr c1 cluster trm   \" ><div class=\"lbl c1 clusterb trm \" ><span class=\"nd\">cluster </span> <span class=\"txtu\"><span title=\"type\">?</span></span></div></div><div class=\"children hor wrap \"><div class=\"contnr c0 trm   \" ><div class=\"lbl c0 trm \" ><span class=\"txtu\"><span title=\"atf\">...</span></span></div></div></div><div class=\"contnr c1 cluster {}   \" ><div class=\"lbl c1 clustere trm \" ><span class=\"nd\">cluster </span> <span class=\"txtu\"><span title=\"type\">?</span></span></div> </div></div></div></div></div><div class=\"contnr c3    \" ><div class=\"lbl c3  \" ><span class=\"nd\">column </span> <span class=\"txtu\"><span title=\"number\">2</span><span title=\"prime\"></span></span></div><div class=\"children ver  \"><div class=\"contnr c2    \" ><div class=\"lbl c2  \" ><span class=\"nd\">line </span> <span class=\"txtu\"><span title=\"number\">1</span></span></div><div class=\"children hor  \"><div class=\"contnr c1 cluster trm   \" ><div class=\"lbl c1 clusterb trm \" ><span class=\"nd\">cluster </span> <span class=\"txtu\"><span title=\"type\">?</span></span></div></div><div class=\"children hor wrap \"><div class=\"contnr c0 trm   \" ><div class=\"lbl c0 trm \" ><span class=\"txtu\"><span title=\"atf\">...</span></span></div></div></div><div class=\"contnr c1 cluster {}   \" ><div class=\"lbl c1 clustere trm \" ><span class=\"nd\">cluster </span> <span class=\"txtu\"><span title=\"type\">?</span></span></div> </div><div class=\"contnr c1 cluster trm   \" ><div class=\"lbl c1 clusterb trm \" ><span class=\"nd\">cluster </span> <span class=\"txtu\"><span title=\"type\">?</span></span></div></div><div class=\"children hor wrap \"><div class=\"contnr c0 trm   \" ><div class=\"lbl c0 trm \" ><span class=\"txtu\"><span title=\"atf\">...</span></span></div></div></div><div class=\"contnr c1 cluster {}   \" ><div class=\"lbl c1 clustere trm \" ><span class=\"nd\">cluster </span> <span class=\"txtu\"><span title=\"type\">?</span></span></div> </div></div></div><div class=\"contnr c2    \" ><div class=\"lbl c2  \" ><span class=\"nd\">line </span> <span class=\"txtu\"><span title=\"number\">2</span></span></div><div class=\"children hor  \"><div class=\"contnr c0 trm   \" ><div class=\"lbl c0 trm \" ><span class=\"txtu\"><span title=\"atf\">EN~a</span></span></div></div><div class=\"contnr c0 trm   \" ><div class=\"lbl c0 trm \" ><span class=\"txtu\"><span title=\"atf\">LAL2~a#?</span></span></div></div><div class=\"contnr c0 trm   \" ><div class=\"lbl c0 trm \" ><span class=\"txtu\"><span title=\"atf\">NIM~b2#?</span></span></div></div><div class=\"contnr c1 cluster trm   \" ><div class=\"lbl c1 clusterb trm \" ><span class=\"nd\">cluster </span> <span class=\"txtu\"><span title=\"type\">?</span></span></div></div><div class=\"children hor wrap \"><div class=\"contnr c0 trm   \" ><div class=\"lbl c0 trm \" ><span class=\"txtu\"><span title=\"atf\">...</span></span></div></div></div><div class=\"contnr c1 cluster {}   \" ><div class=\"lbl c1 clustere trm \" ><span class=\"nd\">cluster </span> <span class=\"txtu\"><span title=\"type\">?</span></span></div> </div></div></div></div></div></div></div></div></div></div>"
      ],
      "text/plain": [
       "<IPython.core.display.HTML object>"
      ]
     },
     "metadata": {},
     "output_type": "display_data"
    }
   ],
   "source": [
    "A.show(results, end=2)"
   ]
  },
  {
   "cell_type": "markdown",
   "metadata": {},
   "source": [
    "Now we can use this to get something more sophisticated: the tablets that do not have numerals in their cases. So only undivided lines may contain numerals.\n",
    "\n",
    "Let's find tablets that do have cases, but just no cases with numerals."
   ]
  },
  {
   "cell_type": "code",
   "execution_count": 69,
   "metadata": {},
   "outputs": [],
   "source": [
    "query = \"\"\"\n",
    "tablet\n",
    "/where/\n",
    "  case\n",
    "/have/\n",
    "  /without/\n",
    "    sign type=numeral\n",
    "  /-/\n",
    "/-/\n",
    "/with/\n",
    "  case\n",
    "/-/\n",
    "\"\"\""
   ]
  },
  {
   "cell_type": "code",
   "execution_count": 70,
   "metadata": {},
   "outputs": [
    {
     "name": "stdout",
     "output_type": "stream",
     "text": [
      "  0.01s 53 results\n"
     ]
    }
   ],
   "source": [
    "results = A.search(query)"
   ]
  },
  {
   "cell_type": "code",
   "execution_count": 71,
   "metadata": {},
   "outputs": [
    {
     "data": {
      "text/html": [
       "<p><b>tablet</b> <i>1</i>"
      ],
      "text/plain": [
       "<IPython.core.display.HTML object>"
      ]
     },
     "metadata": {},
     "output_type": "display_data"
    },
    {
     "data": {
      "text/html": [
       "<div class=\"tfsechead \"><span class=\"ltr\"><a target=\"_blank\" href=\"https://cdli.ucla.edu/search/search_results.php?SearchMode=Text&amp;ObjectID=P006438\" title=\"to CDLI main page for this tablet\" sec=\"P006438\">P006438</a></span></div><div class=\" children\"><div class=\"contnr c4    \" ><div class=\"lbl c4  \" ><span class=\"nd\">tablet </span> <span class=\"txtu\"><span class=\"tfsechead ltr\"><span class=\"ltr\">P006438</span></span></span></div><div class=\"features\"><span class=\"name \" title=\"name\">AOST 109</span><span class=\"period \" title=\"period\">uruk-iii</span></div><div class=\"children ver  \"><div class=\"contnr c1 trm   \" ><div class=\"lbl c1 trm \" ><span class=\"nd\">comment </span> <span class=\"txtu\"><span class=\"plain   \" ><span class=\"plain \" ></span> </span></span></div><div class=\"features\"><span class=\"text \" title=\"text\">atf: lang qpc</span></div></div><div class=\"contnr c2    \" ><div class=\"lbl c2  \" ><span class=\"nd\">face </span> <span class=\"txtu\"><span title=\"type\">obverse</span></span></div><div class=\"children hor  \"><div class=\"contnr c3    \" ><div class=\"lbl c3  \" ><span class=\"nd\">column </span> <span class=\"txtu\"><span title=\"number\">1</span><span title=\"prime\"></span></span></div><div class=\"children ver  \"><div class=\"contnr c2    \" ><div class=\"lbl c2  \" ><span class=\"nd\">line </span> <span class=\"txtu\"><span title=\"number\">1</span></span></div><div class=\"children hor  \"><div class=\"contnr c1 cluster trm   \" ><div class=\"lbl c1 clusterb trm \" ><span class=\"nd\">cluster </span> <span class=\"txtu\"><span title=\"type\">?</span></span></div></div><div class=\"children hor wrap \"><div class=\"contnr c0 trm   \" ><div class=\"lbl c0 trm \" ><span class=\"txtu\"><span title=\"atf\">...</span></span></div></div></div><div class=\"contnr c1 cluster {}   \" ><div class=\"lbl c1 clustere trm \" ><span class=\"nd\">cluster </span> <span class=\"txtu\"><span title=\"type\">?</span></span></div> </div><div class=\"contnr c1 cluster trm   \" ><div class=\"lbl c1 clusterb trm \" ><span class=\"nd\">cluster </span> <span class=\"txtu\"><span title=\"type\">?</span></span></div></div><div class=\"children hor wrap \"><div class=\"contnr c0 trm   \" ><div class=\"lbl c0 trm \" ><span class=\"txtu\"><span title=\"atf\">...</span></span></div></div></div><div class=\"contnr c1 cluster {}   \" ><div class=\"lbl c1 clustere trm \" ><span class=\"nd\">cluster </span> <span class=\"txtu\"><span title=\"type\">?</span></span></div> </div></div></div><div class=\"contnr c2    \" ><div class=\"lbl c2  \" ><span class=\"nd\">line </span> <span class=\"txtu\"><span title=\"number\">2</span></span></div><div class=\"children hor  \"><div class=\"contnr c2    \" ><div class=\"lbl c2  \" ><span class=\"nd\">case </span> <span class=\"txtu\"><span title=\"number\">2a</span><span title=\"prime\"></span></span></div><div class=\"children ver False \"><div class=\"contnr c0 trm   \" ><div class=\"lbl c0 trm \" ><span class=\"txtu\"><span title=\"atf\">KU6~a</span></span></div></div><div class=\"contnr c0 trm   \" ><div class=\"lbl c0 trm \" ><span class=\"txtu\"><span title=\"atf\">BU~a</span></span></div></div></div></div><div class=\"contnr c2    \" ><div class=\"lbl c2  \" ><span class=\"nd\">case </span> <span class=\"txtu\"><span title=\"number\">2b</span><span title=\"prime\"></span></span></div><div class=\"children ver False \"><div class=\"contnr c1    \" ><div class=\"lbl c1  \" ><span class=\"nd\">quad </span></div><div class=\"children hor wrap \"><div class=\"contnr c0 trm   \" ><div class=\"lbl c0 trm \" ><span class=\"txtu\"><span title=\"atf\">AB~a</span></span></div></div><div class=\"op\">x</div><div class=\"contnr c0 trm   \" ><div class=\"lbl c0 trm \" ><span class=\"txtu\"><span title=\"atf\">SUKKAL</span></span></div></div></div></div></div></div><div class=\"contnr c2    \" ><div class=\"lbl c2  \" ><span class=\"nd\">case </span> <span class=\"txtu\"><span title=\"number\">2c</span><span title=\"prime\"></span></span></div><div class=\"children ver False \"><div class=\"contnr c0 trm   \" ><div class=\"lbl c0 trm \" ><span class=\"txtu\"><span title=\"atf\">NAM2</span></span></div></div><div class=\"contnr c0 trm   \" ><div class=\"lbl c0 trm \" ><span class=\"txtu\"><span title=\"atf\">RAD~a</span></span></div></div><div class=\"contnr c0 trm   \" ><div class=\"lbl c0 trm \" ><span class=\"txtu\"><span title=\"atf\">PA~a</span></span></div></div><div class=\"contnr c0 trm   \" ><div class=\"lbl c0 trm \" ><span class=\"txtu\"><span title=\"atf\">SZU</span></span></div></div></div></div><div class=\"contnr c2    \" ><div class=\"lbl c2  \" ><span class=\"nd\">case </span> <span class=\"txtu\"><span title=\"number\">2d</span><span title=\"prime\"></span></span></div><div class=\"children ver False \"><div class=\"contnr c0 trm   \" ><div class=\"lbl c0 trm \" ><span class=\"txtu\"><span title=\"atf\">RAD~a</span></span></div></div><div class=\"contnr c1 cluster trm   \" ><div class=\"lbl c1 clusterb trm \" ><span class=\"nd\">cluster </span> <span class=\"txtu\"><span title=\"type\">?</span></span></div></div><div class=\"children hor wrap \"><div class=\"contnr c0 trm   \" ><div class=\"lbl c0 trm \" ><span class=\"txtu\"><span title=\"atf\">...</span></span></div></div></div><div class=\"contnr c1 cluster {}   \" ><div class=\"lbl c1 clustere trm \" ><span class=\"nd\">cluster </span> <span class=\"txtu\"><span title=\"type\">?</span></span></div> </div></div></div></div></div><div class=\"contnr c2    \" ><div class=\"lbl c2  \" ><span class=\"nd\">line </span> <span class=\"txtu\"><span title=\"number\">3</span></span></div><div class=\"children hor  \"><div class=\"contnr c1 cluster trm   \" ><div class=\"lbl c1 clusterb trm \" ><span class=\"nd\">cluster </span> <span class=\"txtu\"><span title=\"type\">?</span></span></div></div><div class=\"children hor wrap \"><div class=\"contnr c0 trm   \" ><div class=\"lbl c0 trm \" ><span class=\"txtu\"><span title=\"atf\">...</span></span></div></div></div><div class=\"contnr c1 cluster {}   \" ><div class=\"lbl c1 clustere trm \" ><span class=\"nd\">cluster </span> <span class=\"txtu\"><span title=\"type\">?</span></span></div> </div></div></div></div></div></div></div><div class=\"contnr c2    \" ><div class=\"lbl c2  \" ><span class=\"nd\">face </span> <span class=\"txtu\"><span title=\"type\">reverse</span></span></div><div class=\"children hor  \"><div class=\"contnr c3    \" ><div class=\"lbl c3  \" ><span class=\"nd\">column </span> <span class=\"txtu\"><span title=\"number\">1</span><span title=\"prime\"></span></span></div><div class=\"children ver  \"><div class=\"contnr c2    \" ><div class=\"lbl c2  \" ><span class=\"nd\">line </span> <span class=\"txtu\"><span title=\"number\">1</span></span></div><div class=\"children hor  \"><div class=\"contnr c1 cluster trm   \" ><div class=\"lbl c1 clusterb trm \" ><span class=\"nd\">cluster </span> <span class=\"txtu\"><span title=\"type\">?</span></span></div></div><div class=\"children hor wrap \"><div class=\"contnr c0 trm   \" ><div class=\"lbl c0 trm \" ><span class=\"txtu\"><span title=\"atf\">...</span></span></div></div></div><div class=\"contnr c1 cluster {}   \" ><div class=\"lbl c1 clustere trm \" ><span class=\"nd\">cluster </span> <span class=\"txtu\"><span title=\"type\">?</span></span></div> </div><div class=\"contnr c1 cluster trm   \" ><div class=\"lbl c1 clusterb trm \" ><span class=\"nd\">cluster </span> <span class=\"txtu\"><span title=\"type\">?</span></span></div></div><div class=\"children hor wrap \"><div class=\"contnr c0 trm   \" ><div class=\"lbl c0 trm \" ><span class=\"txtu\"><span title=\"atf\">...</span></span></div></div></div><div class=\"contnr c1 cluster {}   \" ><div class=\"lbl c1 clustere trm \" ><span class=\"nd\">cluster </span> <span class=\"txtu\"><span title=\"type\">?</span></span></div> </div></div></div><div class=\"contnr c2    \" ><div class=\"lbl c2  \" ><span class=\"nd\">line </span> <span class=\"txtu\"><span title=\"number\">2</span></span></div><div class=\"children hor  \"><div class=\"contnr c0 trm   \" ><div class=\"lbl c0 trm \" ><span class=\"txtu\"><span title=\"atf\">1(N01)</span></span></div></div><div class=\"contnr c0 trm   \" ><div class=\"lbl c0 trm \" ><span class=\"txtu\"><span title=\"atf\">USZ~a</span></span></div></div><div class=\"contnr c0 trm   \" ><div class=\"lbl c0 trm \" ><span class=\"txtu\"><span title=\"atf\">SZUBUR</span></span></div></div><div class=\"contnr c0 trm   \" ><div class=\"lbl c0 trm \" ><span class=\"txtu\"><span title=\"atf\">GAL~a</span></span></div></div><div class=\"contnr c0 trm   \" ><div class=\"lbl c0 trm \" ><span class=\"txtu\"><span title=\"atf\">IM~a</span></span></div></div></div></div><div class=\"contnr c2    \" ><div class=\"lbl c2  \" ><span class=\"nd\">line </span> <span class=\"txtu\"><span title=\"number\">3</span></span></div><div class=\"children hor  \"><div class=\"contnr c0 trm   \" ><div class=\"lbl c0 trm \" ><span class=\"txtu\"><span title=\"atf\">SZA</span></span></div></div><div class=\"contnr c1 cluster trm   \" ><div class=\"lbl c1 clusterb trm \" ><span class=\"nd\">cluster </span> <span class=\"txtu\"><span title=\"type\">?</span></span></div></div><div class=\"children hor wrap \"><div class=\"contnr c0 trm   \" ><div class=\"lbl c0 trm \" ><span class=\"txtu\"><span title=\"atf\">...</span></span></div></div></div><div class=\"contnr c1 cluster {}   \" ><div class=\"lbl c1 clustere trm \" ><span class=\"nd\">cluster </span> <span class=\"txtu\"><span title=\"type\">?</span></span></div> </div><div class=\"contnr c0 trm   \" ><div class=\"lbl c0 trm \" ><span class=\"txtu\"><span title=\"atf\">RAD~a#</span></span></div></div></div></div><div class=\"contnr c2    \" ><div class=\"lbl c2  \" ><span class=\"nd\">line </span> <span class=\"txtu\"><span title=\"number\">4</span></span></div><div class=\"children hor  \"><div class=\"contnr c1 cluster trm   \" ><div class=\"lbl c1 clusterb trm \" ><span class=\"nd\">cluster </span> <span class=\"txtu\"><span title=\"type\">?</span></span></div></div><div class=\"children hor wrap \"><div class=\"contnr c0 trm   \" ><div class=\"lbl c0 trm \" ><span class=\"txtu\"><span title=\"atf\">...</span></span></div></div></div><div class=\"contnr c1 cluster {}   \" ><div class=\"lbl c1 clustere trm \" ><span class=\"nd\">cluster </span> <span class=\"txtu\"><span title=\"type\">?</span></span></div> </div><div class=\"contnr c1 cluster trm   \" ><div class=\"lbl c1 clusterb trm \" ><span class=\"nd\">cluster </span> <span class=\"txtu\"><span title=\"type\">?</span></span></div></div><div class=\"children hor wrap \"><div class=\"contnr c0 trm   \" ><div class=\"lbl c0 trm \" ><span class=\"txtu\"><span title=\"atf\">...</span></span></div></div></div><div class=\"contnr c1 cluster {}   \" ><div class=\"lbl c1 clustere trm \" ><span class=\"nd\">cluster </span> <span class=\"txtu\"><span title=\"type\">?</span></span></div> </div></div></div></div></div><div class=\"contnr c3    \" ><div class=\"lbl c3  \" ><span class=\"nd\">column </span> <span class=\"txtu\"><span title=\"number\">2</span><span title=\"prime\"></span></span></div><div class=\"children ver  \"><div class=\"contnr c2    \" ><div class=\"lbl c2  \" ><span class=\"nd\">line </span> <span class=\"txtu\"><span title=\"number\">1</span></span></div><div class=\"children hor  \"><div class=\"contnr c1 cluster trm   \" ><div class=\"lbl c1 clusterb trm \" ><span class=\"nd\">cluster </span> <span class=\"txtu\"><span title=\"type\">?</span></span></div></div><div class=\"children hor wrap \"><div class=\"contnr c0 trm   \" ><div class=\"lbl c0 trm \" ><span class=\"txtu\"><span title=\"atf\">...</span></span></div></div></div><div class=\"contnr c1 cluster {}   \" ><div class=\"lbl c1 clustere trm \" ><span class=\"nd\">cluster </span> <span class=\"txtu\"><span title=\"type\">?</span></span></div> </div><div class=\"contnr c1 cluster trm   \" ><div class=\"lbl c1 clusterb trm \" ><span class=\"nd\">cluster </span> <span class=\"txtu\"><span title=\"type\">?</span></span></div></div><div class=\"children hor wrap \"><div class=\"contnr c0 trm   \" ><div class=\"lbl c0 trm \" ><span class=\"txtu\"><span title=\"atf\">...</span></span></div></div></div><div class=\"contnr c1 cluster {}   \" ><div class=\"lbl c1 clustere trm \" ><span class=\"nd\">cluster </span> <span class=\"txtu\"><span title=\"type\">?</span></span></div> </div></div></div><div class=\"contnr c2    \" ><div class=\"lbl c2  \" ><span class=\"nd\">line </span> <span class=\"txtu\"><span title=\"number\">2</span></span></div><div class=\"children hor  \"><div class=\"contnr c0 trm   \" ><div class=\"lbl c0 trm \" ><span class=\"txtu\"><span title=\"atf\">EN~a</span></span></div></div><div class=\"contnr c0 trm   \" ><div class=\"lbl c0 trm \" ><span class=\"txtu\"><span title=\"atf\">LAL2~a#?</span></span></div></div><div class=\"contnr c0 trm   \" ><div class=\"lbl c0 trm \" ><span class=\"txtu\"><span title=\"atf\">NIM~b2#?</span></span></div></div><div class=\"contnr c1 cluster trm   \" ><div class=\"lbl c1 clusterb trm \" ><span class=\"nd\">cluster </span> <span class=\"txtu\"><span title=\"type\">?</span></span></div></div><div class=\"children hor wrap \"><div class=\"contnr c0 trm   \" ><div class=\"lbl c0 trm \" ><span class=\"txtu\"><span title=\"atf\">...</span></span></div></div></div><div class=\"contnr c1 cluster {}   \" ><div class=\"lbl c1 clustere trm \" ><span class=\"nd\">cluster </span> <span class=\"txtu\"><span title=\"type\">?</span></span></div> </div></div></div></div></div></div></div></div></div></div>"
      ],
      "text/plain": [
       "<IPython.core.display.HTML object>"
      ]
     },
     "metadata": {},
     "output_type": "display_data"
    },
    {
     "data": {
      "text/html": [
       "<p><b>tablet</b> <i>2</i>"
      ],
      "text/plain": [
       "<IPython.core.display.HTML object>"
      ]
     },
     "metadata": {},
     "output_type": "display_data"
    },
    {
     "data": {
      "text/html": [
       "<div class=\"tfsechead \"><span class=\"ltr\"><a target=\"_blank\" href=\"https://cdli.ucla.edu/search/search_results.php?SearchMode=Text&amp;ObjectID=P002044\" title=\"to CDLI main page for this tablet\" sec=\"P002044\">P002044</a></span></div><div class=\" children\"><div class=\"contnr c4    \" ><div class=\"lbl c4  \" ><span class=\"nd\">tablet </span> <span class=\"txtu\"><span class=\"tfsechead ltr\"><span class=\"ltr\">P002044</span></span></span></div><div class=\"features\"><span class=\"name \" title=\"name\">ATU 6, pl. 043, W 14335,x</span><span class=\"period \" title=\"period\">uruk-iii</span><span class=\"excavation \" title=\"excavation\">W 14335,x</span></div><div class=\"children ver  \"><div class=\"contnr c1 trm   \" ><div class=\"lbl c1 trm \" ><span class=\"nd\">comment </span> <span class=\"txtu\"><span class=\"plain   \" ><span class=\"plain \" ></span> </span></span></div><div class=\"features\"><span class=\"text \" title=\"text\">atf: lang qpc</span></div></div><div class=\"contnr c2    \" ><div class=\"lbl c2  \" ><span class=\"nd\">face </span> <span class=\"txtu\"><span title=\"type\">obverse</span></span></div><div class=\"children hor  \"><div class=\"contnr c3    \" ><div class=\"lbl c3  \" ><span class=\"nd\">column </span> <span class=\"txtu\"><span title=\"number\">1</span><span title=\"prime\"></span></span></div><div class=\"children ver  \"><div class=\"contnr c2    \" ><div class=\"lbl c2  \" ><span class=\"nd\">line </span> <span class=\"txtu\"><span title=\"number\">1</span></span></div><div class=\"children hor  \"><div class=\"contnr c2    \" ><div class=\"lbl c2  \" ><span class=\"nd\">case </span> <span class=\"txtu\"><span title=\"number\">1a</span><span title=\"prime\"></span></span></div><div class=\"children ver False \"><div class=\"contnr c1 cluster trm   \" ><div class=\"lbl c1 clusterb trm \" ><span class=\"nd\">cluster </span> <span class=\"txtu\"><span title=\"type\">?</span></span></div></div><div class=\"children hor wrap \"><div class=\"contnr c0 trm   \" ><div class=\"lbl c0 trm \" ><span class=\"txtu\"><span title=\"atf\">...</span></span></div></div></div><div class=\"contnr c1 cluster {}   \" ><div class=\"lbl c1 clustere trm \" ><span class=\"nd\">cluster </span> <span class=\"txtu\"><span title=\"type\">?</span></span></div> </div><div class=\"contnr c1 cluster trm   \" ><div class=\"lbl c1 clusterb trm \" ><span class=\"nd\">cluster </span> <span class=\"txtu\"><span title=\"type\">?</span></span></div></div><div class=\"children hor wrap \"><div class=\"contnr c0 trm   \" ><div class=\"lbl c0 trm \" ><span class=\"txtu\"><span title=\"atf\">...</span></span></div></div></div><div class=\"contnr c1 cluster {}   \" ><div class=\"lbl c1 clustere trm \" ><span class=\"nd\">cluster </span> <span class=\"txtu\"><span title=\"type\">?</span></span></div> </div><div class=\"contnr c0 trm   \" ><div class=\"lbl c0 trm \" ><span class=\"txtu\"><span title=\"atf\">GAL~a#</span></span></div></div></div></div><div class=\"contnr c2    \" ><div class=\"lbl c2  \" ><span class=\"nd\">case </span> <span class=\"txtu\"><span title=\"number\">1b</span><span title=\"prime\"></span></span></div><div class=\"children ver False \"><div class=\"contnr c1 cluster trm   \" ><div class=\"lbl c1 clusterb trm \" ><span class=\"nd\">cluster </span> <span class=\"txtu\"><span title=\"type\">?</span></span></div></div><div class=\"children hor wrap \"><div class=\"contnr c0 trm   \" ><div class=\"lbl c0 trm \" ><span class=\"txtu\"><span title=\"atf\">...</span></span></div></div></div><div class=\"contnr c1 cluster {}   \" ><div class=\"lbl c1 clustere trm \" ><span class=\"nd\">cluster </span> <span class=\"txtu\"><span title=\"type\">?</span></span></div> </div><div class=\"contnr c1 cluster trm   \" ><div class=\"lbl c1 clusterb trm \" ><span class=\"nd\">cluster </span> <span class=\"txtu\"><span title=\"type\">?</span></span></div></div><div class=\"children hor wrap \"><div class=\"contnr c0 trm   \" ><div class=\"lbl c0 trm \" ><span class=\"txtu\"><span title=\"atf\">...</span></span></div></div></div><div class=\"contnr c1 cluster {}   \" ><div class=\"lbl c1 clustere trm \" ><span class=\"nd\">cluster </span> <span class=\"txtu\"><span title=\"type\">?</span></span></div> </div></div></div></div></div><div class=\"contnr c2    \" ><div class=\"lbl c2  \" ><span class=\"nd\">line </span> <span class=\"txtu\"><span title=\"number\">2</span></span></div><div class=\"children hor  \"><div class=\"contnr c1 cluster trm   \" ><div class=\"lbl c1 clusterb trm \" ><span class=\"nd\">cluster </span> <span class=\"txtu\"><span title=\"type\">?</span></span></div></div><div class=\"children hor wrap \"><div class=\"contnr c0 trm   \" ><div class=\"lbl c0 trm \" ><span class=\"txtu\"><span title=\"atf\">...</span></span></div></div></div><div class=\"contnr c1 cluster {}   \" ><div class=\"lbl c1 clustere trm \" ><span class=\"nd\">cluster </span> <span class=\"txtu\"><span title=\"type\">?</span></span></div> </div><div class=\"contnr c1 cluster trm   \" ><div class=\"lbl c1 clusterb trm \" ><span class=\"nd\">cluster </span> <span class=\"txtu\"><span title=\"type\">?</span></span></div></div><div class=\"children hor wrap \"><div class=\"contnr c0 trm   \" ><div class=\"lbl c0 trm \" ><span class=\"txtu\"><span title=\"atf\">...</span></span></div></div></div><div class=\"contnr c1 cluster {}   \" ><div class=\"lbl c1 clustere trm \" ><span class=\"nd\">cluster </span> <span class=\"txtu\"><span title=\"type\">?</span></span></div> </div><div class=\"contnr c0 trm   \" ><div class=\"lbl c0 trm \" ><span class=\"txtu\"><span title=\"atf\">PAP~a#?</span></span></div></div></div></div></div></div></div></div></div></div></div>"
      ],
      "text/plain": [
       "<IPython.core.display.HTML object>"
      ]
     },
     "metadata": {},
     "output_type": "display_data"
    }
   ],
   "source": [
    "A.show(results, end=2)"
   ]
  },
  {
   "cell_type": "markdown",
   "metadata": {},
   "source": [
    "Can we find such tablet which do have numerals on their undivided lines.\n",
    "\n",
    "We show here a way to use the results of one query in another one:\n",
    "*custom sets*.\n",
    "\n",
    "We put the set of tablets with cases but without numerals in cases in a set called `cntablet`.\n",
    "\n",
    "We run the query again, but now in shallow mode, so that the result is a set.\n",
    "\n",
    "By the way: read more about custom sets and shallow mode in the description of\n",
    "[`A.search()`](https://annotation.github.io/text-fabric/tf/search/search.html#tf.search.search.Search.search)."
   ]
  },
  {
   "cell_type": "code",
   "execution_count": 72,
   "metadata": {},
   "outputs": [
    {
     "name": "stdout",
     "output_type": "stream",
     "text": [
      "  0.01s 53 results\n"
     ]
    }
   ],
   "source": [
    "results = A.search(query, shallow=True)\n",
    "customSets = dict(cntablet=results)"
   ]
  },
  {
   "cell_type": "markdown",
   "metadata": {},
   "source": [
    "Now we can perform a very simple query for numerals on this set: we want tablets with numerals.\n",
    "By restricting ourselves to this set, we now that these numerals must occur on undivided lines."
   ]
  },
  {
   "cell_type": "code",
   "execution_count": 73,
   "metadata": {},
   "outputs": [
    {
     "name": "stdout",
     "output_type": "stream",
     "text": [
      "  0.06s 160 results\n"
     ]
    }
   ],
   "source": [
    "query = \"\"\"\n",
    "cntablet\n",
    "  sign type=numeral\n",
    "\"\"\"\n",
    "results = A.search(query, sets=customSets)"
   ]
  },
  {
   "cell_type": "code",
   "execution_count": 74,
   "metadata": {},
   "outputs": [
    {
     "data": {
      "text/html": [
       "<p><b>tablet</b> <i>1</i>"
      ],
      "text/plain": [
       "<IPython.core.display.HTML object>"
      ]
     },
     "metadata": {},
     "output_type": "display_data"
    },
    {
     "data": {
      "text/html": [
       "<div class=\"tfsechead \"><span class=\"ltr\"><a target=\"_blank\" href=\"https://cdli.ucla.edu/search/search_results.php?SearchMode=Text&amp;ObjectID=P006438\" title=\"to CDLI main page for this tablet\" sec=\"P006438\">P006438</a></span></div><div class=\" children\"><div class=\"contnr c4    \" ><div class=\"lbl c4  \" ><span class=\"nd\">tablet </span> <span class=\"txtu\"><span class=\"tfsechead ltr\"><span class=\"ltr\">P006438</span></span></span></div><div class=\"features\"><span class=\"name \" title=\"name\">AOST 109</span><span class=\"period \" title=\"period\">uruk-iii</span></div><div class=\"children ver  \"><div class=\"contnr c1 trm   \" ><div class=\"lbl c1 trm \" ><span class=\"nd\">comment </span> <span class=\"txtu\"><span class=\"plain   \" ><span class=\"plain \" ></span> </span></span></div><div class=\"features\"><span class=\"text \" title=\"text\">atf: lang qpc</span></div></div><div class=\"contnr c2    \" ><div class=\"lbl c2  \" ><span class=\"nd\">face </span> <span class=\"txtu\"><span title=\"type\">obverse</span></span></div><div class=\"children hor  \"><div class=\"contnr c3    \" ><div class=\"lbl c3  \" ><span class=\"nd\">column </span> <span class=\"txtu\"><span title=\"number\">1</span><span title=\"prime\"></span></span></div><div class=\"children ver  \"><div class=\"contnr c2    \" ><div class=\"lbl c2  \" ><span class=\"nd\">line </span> <span class=\"txtu\"><span title=\"number\">1</span></span></div><div class=\"children hor  \"><div class=\"contnr c1 cluster trm   \" ><div class=\"lbl c1 clusterb trm \" ><span class=\"nd\">cluster </span> <span class=\"txtu\"><span title=\"type\">?</span></span></div></div><div class=\"children hor wrap \"><div class=\"contnr c0 trm   \" ><div class=\"lbl c0 trm \" ><span class=\"txtu\"><span title=\"atf\">...</span></span></div></div></div><div class=\"contnr c1 cluster {}   \" ><div class=\"lbl c1 clustere trm \" ><span class=\"nd\">cluster </span> <span class=\"txtu\"><span title=\"type\">?</span></span></div> </div><div class=\"contnr c1 cluster trm   \" ><div class=\"lbl c1 clusterb trm \" ><span class=\"nd\">cluster </span> <span class=\"txtu\"><span title=\"type\">?</span></span></div></div><div class=\"children hor wrap \"><div class=\"contnr c0 trm   \" ><div class=\"lbl c0 trm \" ><span class=\"txtu\"><span title=\"atf\">...</span></span></div></div></div><div class=\"contnr c1 cluster {}   \" ><div class=\"lbl c1 clustere trm \" ><span class=\"nd\">cluster </span> <span class=\"txtu\"><span title=\"type\">?</span></span></div> </div></div></div><div class=\"contnr c2    \" ><div class=\"lbl c2  \" ><span class=\"nd\">line </span> <span class=\"txtu\"><span title=\"number\">2</span></span></div><div class=\"children hor  \"><div class=\"contnr c2    \" ><div class=\"lbl c2  \" ><span class=\"nd\">case </span> <span class=\"txtu\"><span title=\"number\">2a</span><span title=\"prime\"></span></span></div><div class=\"children ver False \"><div class=\"contnr c0 trm   \" ><div class=\"lbl c0 trm \" ><span class=\"txtu\"><span title=\"atf\">KU6~a</span></span></div></div><div class=\"contnr c0 trm   \" ><div class=\"lbl c0 trm \" ><span class=\"txtu\"><span title=\"atf\">BU~a</span></span></div></div></div></div><div class=\"contnr c2    \" ><div class=\"lbl c2  \" ><span class=\"nd\">case </span> <span class=\"txtu\"><span title=\"number\">2b</span><span title=\"prime\"></span></span></div><div class=\"children ver False \"><div class=\"contnr c1    \" ><div class=\"lbl c1  \" ><span class=\"nd\">quad </span></div><div class=\"children hor wrap \"><div class=\"contnr c0 trm   \" ><div class=\"lbl c0 trm \" ><span class=\"txtu\"><span title=\"atf\">AB~a</span></span></div></div><div class=\"op\">x</div><div class=\"contnr c0 trm   \" ><div class=\"lbl c0 trm \" ><span class=\"txtu\"><span title=\"atf\">SUKKAL</span></span></div></div></div></div></div></div><div class=\"contnr c2    \" ><div class=\"lbl c2  \" ><span class=\"nd\">case </span> <span class=\"txtu\"><span title=\"number\">2c</span><span title=\"prime\"></span></span></div><div class=\"children ver False \"><div class=\"contnr c0 trm   \" ><div class=\"lbl c0 trm \" ><span class=\"txtu\"><span title=\"atf\">NAM2</span></span></div></div><div class=\"contnr c0 trm   \" ><div class=\"lbl c0 trm \" ><span class=\"txtu\"><span title=\"atf\">RAD~a</span></span></div></div><div class=\"contnr c0 trm   \" ><div class=\"lbl c0 trm \" ><span class=\"txtu\"><span title=\"atf\">PA~a</span></span></div></div><div class=\"contnr c0 trm   \" ><div class=\"lbl c0 trm \" ><span class=\"txtu\"><span title=\"atf\">SZU</span></span></div></div></div></div><div class=\"contnr c2    \" ><div class=\"lbl c2  \" ><span class=\"nd\">case </span> <span class=\"txtu\"><span title=\"number\">2d</span><span title=\"prime\"></span></span></div><div class=\"children ver False \"><div class=\"contnr c0 trm   \" ><div class=\"lbl c0 trm \" ><span class=\"txtu\"><span title=\"atf\">RAD~a</span></span></div></div><div class=\"contnr c1 cluster trm   \" ><div class=\"lbl c1 clusterb trm \" ><span class=\"nd\">cluster </span> <span class=\"txtu\"><span title=\"type\">?</span></span></div></div><div class=\"children hor wrap \"><div class=\"contnr c0 trm   \" ><div class=\"lbl c0 trm \" ><span class=\"txtu\"><span title=\"atf\">...</span></span></div></div></div><div class=\"contnr c1 cluster {}   \" ><div class=\"lbl c1 clustere trm \" ><span class=\"nd\">cluster </span> <span class=\"txtu\"><span title=\"type\">?</span></span></div> </div></div></div></div></div><div class=\"contnr c2    \" ><div class=\"lbl c2  \" ><span class=\"nd\">line </span> <span class=\"txtu\"><span title=\"number\">3</span></span></div><div class=\"children hor  \"><div class=\"contnr c1 cluster trm   \" ><div class=\"lbl c1 clusterb trm \" ><span class=\"nd\">cluster </span> <span class=\"txtu\"><span title=\"type\">?</span></span></div></div><div class=\"children hor wrap \"><div class=\"contnr c0 trm   \" ><div class=\"lbl c0 trm \" ><span class=\"txtu\"><span title=\"atf\">...</span></span></div></div></div><div class=\"contnr c1 cluster {}   \" ><div class=\"lbl c1 clustere trm \" ><span class=\"nd\">cluster </span> <span class=\"txtu\"><span title=\"type\">?</span></span></div> </div></div></div></div></div></div></div><div class=\"contnr c2    \" ><div class=\"lbl c2  \" ><span class=\"nd\">face </span> <span class=\"txtu\"><span title=\"type\">reverse</span></span></div><div class=\"children hor  \"><div class=\"contnr c3    \" ><div class=\"lbl c3  \" ><span class=\"nd\">column </span> <span class=\"txtu\"><span title=\"number\">1</span><span title=\"prime\"></span></span></div><div class=\"children ver  \"><div class=\"contnr c2    \" ><div class=\"lbl c2  \" ><span class=\"nd\">line </span> <span class=\"txtu\"><span title=\"number\">1</span></span></div><div class=\"children hor  \"><div class=\"contnr c1 cluster trm   \" ><div class=\"lbl c1 clusterb trm \" ><span class=\"nd\">cluster </span> <span class=\"txtu\"><span title=\"type\">?</span></span></div></div><div class=\"children hor wrap \"><div class=\"contnr c0 trm   \" ><div class=\"lbl c0 trm \" ><span class=\"txtu\"><span title=\"atf\">...</span></span></div></div></div><div class=\"contnr c1 cluster {}   \" ><div class=\"lbl c1 clustere trm \" ><span class=\"nd\">cluster </span> <span class=\"txtu\"><span title=\"type\">?</span></span></div> </div><div class=\"contnr c1 cluster trm   \" ><div class=\"lbl c1 clusterb trm \" ><span class=\"nd\">cluster </span> <span class=\"txtu\"><span title=\"type\">?</span></span></div></div><div class=\"children hor wrap \"><div class=\"contnr c0 trm   \" ><div class=\"lbl c0 trm \" ><span class=\"txtu\"><span title=\"atf\">...</span></span></div></div></div><div class=\"contnr c1 cluster {}   \" ><div class=\"lbl c1 clustere trm \" ><span class=\"nd\">cluster </span> <span class=\"txtu\"><span title=\"type\">?</span></span></div> </div></div></div><div class=\"contnr c2    \" ><div class=\"lbl c2  \" ><span class=\"nd\">line </span> <span class=\"txtu\"><span title=\"number\">2</span></span></div><div class=\"children hor  \"><div class=\"contnr c0 trm   hl\" ><div class=\"lbl c0 trm hl\" ><span class=\"txtu\"><span title=\"atf\">1(N01)</span></span></div></div><div class=\"contnr c0 trm   \" ><div class=\"lbl c0 trm \" ><span class=\"txtu\"><span title=\"atf\">USZ~a</span></span></div></div><div class=\"contnr c0 trm   \" ><div class=\"lbl c0 trm \" ><span class=\"txtu\"><span title=\"atf\">SZUBUR</span></span></div></div><div class=\"contnr c0 trm   \" ><div class=\"lbl c0 trm \" ><span class=\"txtu\"><span title=\"atf\">GAL~a</span></span></div></div><div class=\"contnr c0 trm   \" ><div class=\"lbl c0 trm \" ><span class=\"txtu\"><span title=\"atf\">IM~a</span></span></div></div></div></div><div class=\"contnr c2    \" ><div class=\"lbl c2  \" ><span class=\"nd\">line </span> <span class=\"txtu\"><span title=\"number\">3</span></span></div><div class=\"children hor  \"><div class=\"contnr c0 trm   \" ><div class=\"lbl c0 trm \" ><span class=\"txtu\"><span title=\"atf\">SZA</span></span></div></div><div class=\"contnr c1 cluster trm   \" ><div class=\"lbl c1 clusterb trm \" ><span class=\"nd\">cluster </span> <span class=\"txtu\"><span title=\"type\">?</span></span></div></div><div class=\"children hor wrap \"><div class=\"contnr c0 trm   \" ><div class=\"lbl c0 trm \" ><span class=\"txtu\"><span title=\"atf\">...</span></span></div></div></div><div class=\"contnr c1 cluster {}   \" ><div class=\"lbl c1 clustere trm \" ><span class=\"nd\">cluster </span> <span class=\"txtu\"><span title=\"type\">?</span></span></div> </div><div class=\"contnr c0 trm   \" ><div class=\"lbl c0 trm \" ><span class=\"txtu\"><span title=\"atf\">RAD~a#</span></span></div></div></div></div><div class=\"contnr c2    \" ><div class=\"lbl c2  \" ><span class=\"nd\">line </span> <span class=\"txtu\"><span title=\"number\">4</span></span></div><div class=\"children hor  \"><div class=\"contnr c1 cluster trm   \" ><div class=\"lbl c1 clusterb trm \" ><span class=\"nd\">cluster </span> <span class=\"txtu\"><span title=\"type\">?</span></span></div></div><div class=\"children hor wrap \"><div class=\"contnr c0 trm   \" ><div class=\"lbl c0 trm \" ><span class=\"txtu\"><span title=\"atf\">...</span></span></div></div></div><div class=\"contnr c1 cluster {}   \" ><div class=\"lbl c1 clustere trm \" ><span class=\"nd\">cluster </span> <span class=\"txtu\"><span title=\"type\">?</span></span></div> </div><div class=\"contnr c1 cluster trm   \" ><div class=\"lbl c1 clusterb trm \" ><span class=\"nd\">cluster </span> <span class=\"txtu\"><span title=\"type\">?</span></span></div></div><div class=\"children hor wrap \"><div class=\"contnr c0 trm   \" ><div class=\"lbl c0 trm \" ><span class=\"txtu\"><span title=\"atf\">...</span></span></div></div></div><div class=\"contnr c1 cluster {}   \" ><div class=\"lbl c1 clustere trm \" ><span class=\"nd\">cluster </span> <span class=\"txtu\"><span title=\"type\">?</span></span></div> </div></div></div></div></div><div class=\"contnr c3    \" ><div class=\"lbl c3  \" ><span class=\"nd\">column </span> <span class=\"txtu\"><span title=\"number\">2</span><span title=\"prime\"></span></span></div><div class=\"children ver  \"><div class=\"contnr c2    \" ><div class=\"lbl c2  \" ><span class=\"nd\">line </span> <span class=\"txtu\"><span title=\"number\">1</span></span></div><div class=\"children hor  \"><div class=\"contnr c1 cluster trm   \" ><div class=\"lbl c1 clusterb trm \" ><span class=\"nd\">cluster </span> <span class=\"txtu\"><span title=\"type\">?</span></span></div></div><div class=\"children hor wrap \"><div class=\"contnr c0 trm   \" ><div class=\"lbl c0 trm \" ><span class=\"txtu\"><span title=\"atf\">...</span></span></div></div></div><div class=\"contnr c1 cluster {}   \" ><div class=\"lbl c1 clustere trm \" ><span class=\"nd\">cluster </span> <span class=\"txtu\"><span title=\"type\">?</span></span></div> </div><div class=\"contnr c1 cluster trm   \" ><div class=\"lbl c1 clusterb trm \" ><span class=\"nd\">cluster </span> <span class=\"txtu\"><span title=\"type\">?</span></span></div></div><div class=\"children hor wrap \"><div class=\"contnr c0 trm   \" ><div class=\"lbl c0 trm \" ><span class=\"txtu\"><span title=\"atf\">...</span></span></div></div></div><div class=\"contnr c1 cluster {}   \" ><div class=\"lbl c1 clustere trm \" ><span class=\"nd\">cluster </span> <span class=\"txtu\"><span title=\"type\">?</span></span></div> </div></div></div><div class=\"contnr c2    \" ><div class=\"lbl c2  \" ><span class=\"nd\">line </span> <span class=\"txtu\"><span title=\"number\">2</span></span></div><div class=\"children hor  \"><div class=\"contnr c0 trm   \" ><div class=\"lbl c0 trm \" ><span class=\"txtu\"><span title=\"atf\">EN~a</span></span></div></div><div class=\"contnr c0 trm   \" ><div class=\"lbl c0 trm \" ><span class=\"txtu\"><span title=\"atf\">LAL2~a#?</span></span></div></div><div class=\"contnr c0 trm   \" ><div class=\"lbl c0 trm \" ><span class=\"txtu\"><span title=\"atf\">NIM~b2#?</span></span></div></div><div class=\"contnr c1 cluster trm   \" ><div class=\"lbl c1 clusterb trm \" ><span class=\"nd\">cluster </span> <span class=\"txtu\"><span title=\"type\">?</span></span></div></div><div class=\"children hor wrap \"><div class=\"contnr c0 trm   \" ><div class=\"lbl c0 trm \" ><span class=\"txtu\"><span title=\"atf\">...</span></span></div></div></div><div class=\"contnr c1 cluster {}   \" ><div class=\"lbl c1 clustere trm \" ><span class=\"nd\">cluster </span> <span class=\"txtu\"><span title=\"type\">?</span></span></div> </div></div></div></div></div></div></div></div></div></div>"
      ],
      "text/plain": [
       "<IPython.core.display.HTML object>"
      ]
     },
     "metadata": {},
     "output_type": "display_data"
    },
    {
     "data": {
      "text/html": [
       "<p><b>tablet</b> <i>2</i>"
      ],
      "text/plain": [
       "<IPython.core.display.HTML object>"
      ]
     },
     "metadata": {},
     "output_type": "display_data"
    },
    {
     "data": {
      "text/html": [
       "<div class=\"tfsechead \"><span class=\"ltr\"><a target=\"_blank\" href=\"https://cdli.ucla.edu/search/search_results.php?SearchMode=Text&amp;ObjectID=P002082\" title=\"to CDLI main page for this tablet\" sec=\"P002082\">P002082</a></span></div><div class=\" children\"><div class=\"contnr c4    \" ><div class=\"lbl c4  \" ><span class=\"nd\">tablet </span> <span class=\"txtu\"><span class=\"tfsechead ltr\"><span class=\"ltr\">P002082</span></span></span></div><div class=\"features\"><span class=\"name \" title=\"name\">ATU 6, pl. 047, W 14637</span><span class=\"period \" title=\"period\">uruk-iii</span><span class=\"excavation \" title=\"excavation\">W 14637</span></div><div class=\"children ver  \"><div class=\"contnr c1 trm   \" ><div class=\"lbl c1 trm \" ><span class=\"nd\">comment </span> <span class=\"txtu\"><span class=\"plain   \" ><span class=\"plain \" ></span> </span></span></div><div class=\"features\"><span class=\"text \" title=\"text\">atf: lang qpc</span></div></div><div class=\"contnr c2    \" ><div class=\"lbl c2  \" ><span class=\"nd\">face </span> <span class=\"txtu\"><span title=\"type\">obverse</span></span></div><div class=\"children hor  \"><div class=\"contnr c3    \" ><div class=\"lbl c3  \" ><span class=\"nd\">column </span> <span class=\"txtu\"><span title=\"number\">1</span><span title=\"prime\"></span></span></div><div class=\"children ver  \"><div class=\"contnr c2    \" ><div class=\"lbl c2  \" ><span class=\"nd\">line </span> <span class=\"txtu\"><span title=\"number\">1</span></span></div><div class=\"children hor  \"><div class=\"contnr c0 trm   hl\" ><div class=\"lbl c0 trm hl\" ><span class=\"txtu\"><span title=\"atf\">1(N01)#</span></span></div></div><div class=\"contnr c0 trm   \" ><div class=\"lbl c0 trm \" ><span class=\"txtu\"><span title=\"atf\">BA#</span></span></div></div><div class=\"contnr c0 trm   \" ><div class=\"lbl c0 trm \" ><span class=\"txtu\"><span title=\"atf\">SUHUR#</span></span></div></div><div class=\"contnr c0 trm   \" ><div class=\"lbl c0 trm \" ><span class=\"txtu\"><span title=\"atf\">SAG</span></span></div></div></div></div><div class=\"contnr c2    \" ><div class=\"lbl c2  \" ><span class=\"nd\">line </span> <span class=\"txtu\"><span title=\"number\">2</span></span></div><div class=\"children hor  \"><div class=\"contnr c0 trm   hl\" ><div class=\"lbl c0 trm hl\" ><span class=\"txtu\"><span title=\"atf\">2(N01)#</span></span></div></div><div class=\"contnr c0 trm   \" ><div class=\"lbl c0 trm \" ><span class=\"txtu\"><span title=\"atf\">BA#</span></span></div></div><div class=\"contnr c0 trm   \" ><div class=\"lbl c0 trm \" ><span class=\"txtu\"><span title=\"atf\">SUHUR</span></span></div></div></div></div><div class=\"contnr c2    \" ><div class=\"lbl c2  \" ><span class=\"nd\">line </span> <span class=\"txtu\"><span title=\"number\">3</span></span></div><div class=\"children hor  \"><div class=\"contnr c0 trm   hl\" ><div class=\"lbl c0 trm hl\" ><span class=\"txtu\"><span title=\"atf\">1(N14)#</span></span></div></div><div class=\"contnr c0 trm   \" ><div class=\"lbl c0 trm \" ><span class=\"txtu\"><span title=\"atf\">X</span></span></div></div><div class=\"contnr c0 trm   \" ><div class=\"lbl c0 trm \" ><span class=\"txtu\"><span title=\"atf\">SUHUR#</span></span></div></div></div></div><div class=\"contnr c2    \" ><div class=\"lbl c2  \" ><span class=\"nd\">line </span> <span class=\"txtu\"><span title=\"number\">4</span></span></div><div class=\"children hor  \"><div class=\"contnr c0 trm   hl\" ><div class=\"lbl c0 trm hl\" ><span class=\"txtu\"><span title=\"atf\">1(N01)#</span></span></div></div><div class=\"contnr c0 trm   \" ><div class=\"lbl c0 trm \" ><span class=\"txtu\"><span title=\"atf\">SUMASZ</span></span></div></div><div class=\"contnr c0 trm   \" ><div class=\"lbl c0 trm \" ><span class=\"txtu\"><span title=\"atf\">X</span></span></div></div></div></div></div></div><div class=\"contnr c3    \" ><div class=\"lbl c3  \" ><span class=\"nd\">column </span> <span class=\"txtu\"><span title=\"number\">2</span><span title=\"prime\"></span></span></div><div class=\"children ver  \"><div class=\"contnr c2    \" ><div class=\"lbl c2  \" ><span class=\"nd\">line </span> <span class=\"txtu\"><span title=\"number\">1</span></span></div><div class=\"children hor  \"><div class=\"contnr c0 trm   hl\" ><div class=\"lbl c0 trm hl\" ><span class=\"txtu\"><span title=\"atf\">1(N34)</span></span></div></div><div class=\"contnr c1    \" ><div class=\"lbl c1  \" ><span class=\"nd\">quad </span></div><div class=\"children hor wrap \"><div class=\"contnr c0 trm   \" ><div class=\"lbl c0 trm \" ><span class=\"txtu\"><span title=\"atf\">ZATU759</span></span></div></div><div class=\"op\">x</div><div class=\"contnr c0 trm   \" ><div class=\"lbl c0 trm \" ><span class=\"txtu\"><span title=\"atf\">KU6~a</span></span></div></div></div></div></div></div><div class=\"contnr c2    \" ><div class=\"lbl c2  \" ><span class=\"nd\">line </span> <span class=\"txtu\"><span title=\"number\">2</span></span></div><div class=\"children hor  \"><div class=\"contnr c0 trm   \" ><div class=\"lbl c0 trm \" ><span class=\"txtu\"><span title=\"atf\">UB</span></span></div></div><div class=\"contnr c0 trm   \" ><div class=\"lbl c0 trm \" ><span class=\"txtu\"><span title=\"atf\">KU6~a</span></span></div></div></div></div><div class=\"contnr c2    \" ><div class=\"lbl c2  \" ><span class=\"nd\">line </span> <span class=\"txtu\"><span title=\"number\">3</span></span></div><div class=\"children hor  \"><div class=\"contnr c2    \" ><div class=\"lbl c2  \" ><span class=\"nd\">case </span> <span class=\"txtu\"><span title=\"number\">3a</span><span title=\"prime\"></span></span></div><div class=\"children ver False \"><div class=\"contnr c0 trm   \" ><div class=\"lbl c0 trm \" ><span class=\"txtu\"><span title=\"atf\">X</span></span></div></div><div class=\"contnr c0 trm   \" ><div class=\"lbl c0 trm \" ><span class=\"txtu\"><span title=\"atf\">EN~a#</span></span></div></div><div class=\"contnr c0 trm   \" ><div class=\"lbl c0 trm \" ><span class=\"txtu\"><span title=\"atf\">X</span></span></div></div></div></div><div class=\"contnr c2    \" ><div class=\"lbl c2  \" ><span class=\"nd\">case </span> <span class=\"txtu\"><span title=\"number\">3b</span><span title=\"prime\"></span></span></div><div class=\"children ver False \"><div class=\"contnr c2    \" ><div class=\"lbl c2  \" ><span class=\"nd\">case </span> <span class=\"txtu\"><span title=\"number\">3b1</span><span title=\"prime\"></span></span></div><div class=\"children hor False \"><div class=\"contnr c0 trm   \" ><div class=\"lbl c0 trm \" ><span class=\"txtu\"><span title=\"atf\">SUHUR#</span></span></div></div><div class=\"contnr c0 trm   \" ><div class=\"lbl c0 trm \" ><span class=\"txtu\"><span title=\"atf\">X</span></span></div></div></div></div><div class=\"contnr c2    \" ><div class=\"lbl c2  \" ><span class=\"nd\">case </span> <span class=\"txtu\"><span title=\"number\">3b2</span><span title=\"prime\"></span></span></div><div class=\"children hor False \"><div class=\"contnr c0 trm   \" ><div class=\"lbl c0 trm \" ><span class=\"txtu\"><span title=\"atf\">TUR3~a#</span></span></div></div><div class=\"contnr c0 trm   \" ><div class=\"lbl c0 trm \" ><span class=\"txtu\"><span title=\"atf\">DU#</span></span></div></div><div class=\"contnr c0 trm   \" ><div class=\"lbl c0 trm \" ><span class=\"txtu\"><span title=\"atf\">SZE3#</span></span></div></div></div></div></div></div></div></div></div></div></div></div><div class=\"contnr c2    \" ><div class=\"lbl c2  \" ><span class=\"nd\">face </span> <span class=\"txtu\"><span title=\"type\">reverse</span></span></div><div class=\"children hor  \"><div class=\"contnr c3    \" ><div class=\"lbl c3  \" ><span class=\"nd\">column </span> <span class=\"txtu\"><span title=\"number\">1</span><span title=\"prime\"></span></span></div><div class=\"children ver  \"><div class=\"contnr c2    \" ><div class=\"lbl c2  \" ><span class=\"nd\">line </span> <span class=\"txtu\"><span title=\"number\">1</span></span></div><div class=\"children hor  \"><div class=\"contnr c1 cluster trm   \" ><div class=\"lbl c1 clusterb trm \" ><span class=\"nd\">cluster </span> <span class=\"txtu\"><span title=\"type\">?</span></span></div></div><div class=\"children hor wrap \"><div class=\"contnr c0 trm   \" ><div class=\"lbl c0 trm \" ><span class=\"txtu\"><span title=\"atf\">...</span></span></div></div></div><div class=\"contnr c1 cluster {}   \" ><div class=\"lbl c1 clustere trm \" ><span class=\"nd\">cluster </span> <span class=\"txtu\"><span title=\"type\">?</span></span></div> </div><div class=\"contnr c1 cluster trm   \" ><div class=\"lbl c1 clusterb trm \" ><span class=\"nd\">cluster </span> <span class=\"txtu\"><span title=\"type\">?</span></span></div></div><div class=\"children hor wrap \"><div class=\"contnr c0 trm   \" ><div class=\"lbl c0 trm \" ><span class=\"txtu\"><span title=\"atf\">...</span></span></div></div></div><div class=\"contnr c1 cluster {}   \" ><div class=\"lbl c1 clustere trm \" ><span class=\"nd\">cluster </span> <span class=\"txtu\"><span title=\"type\">?</span></span></div> </div></div></div></div></div><div class=\"contnr c3    \" ><div class=\"lbl c3  \" ><span class=\"nd\">column </span> <span class=\"txtu\"><span title=\"number\">2</span><span title=\"prime\"></span></span></div><div class=\"children ver  \"><div class=\"contnr c2    \" ><div class=\"lbl c2  \" ><span class=\"nd\">line </span> <span class=\"txtu\"><span title=\"number\">1</span></span></div><div class=\"children hor  \"><div class=\"contnr c1    \" ><div class=\"lbl c1  \" ><span class=\"nd\">quad </span></div><div class=\"children hor wrap \"><div class=\"contnr c0 trm   \" ><div class=\"lbl c0 trm \" ><span class=\"txtu\"><span title=\"atf\">GI</span></span></div></div><div class=\"op\">&</div><div class=\"contnr c0 trm   \" ><div class=\"lbl c0 trm \" ><span class=\"txtu\"><span title=\"atf\">GI</span></span></div></div></div></div><div class=\"contnr c0 trm   \" ><div class=\"lbl c0 trm \" ><span class=\"txtu\"><span title=\"atf\">GIR3~a#?</span></span></div></div><div class=\"contnr c0 trm   \" ><div class=\"lbl c0 trm \" ><span class=\"txtu\"><span title=\"atf\">SUHUR#</span></span></div></div></div></div></div></div></div></div></div></div></div>"
      ],
      "text/plain": [
       "<IPython.core.display.HTML object>"
      ]
     },
     "metadata": {},
     "output_type": "display_data"
    }
   ],
   "source": [
    "A.show(results, end=2, queryFeatures=False)"
   ]
  },
  {
   "cell_type": "markdown",
   "metadata": {},
   "source": [
    "We could have found these results by one query as well.\n",
    "Judge for yourself which method causes the least friction."
   ]
  },
  {
   "cell_type": "code",
   "execution_count": 75,
   "metadata": {},
   "outputs": [
    {
     "name": "stdout",
     "output_type": "stream",
     "text": [
      "  0.06s 160 results\n"
     ]
    },
    {
     "data": {
      "text/html": [
       "<p><b>tablet</b> <i>1</i>"
      ],
      "text/plain": [
       "<IPython.core.display.HTML object>"
      ]
     },
     "metadata": {},
     "output_type": "display_data"
    },
    {
     "data": {
      "text/html": [
       "<div class=\"tfsechead \"><span class=\"ltr\"><a target=\"_blank\" href=\"https://cdli.ucla.edu/search/search_results.php?SearchMode=Text&amp;ObjectID=P006438\" title=\"to CDLI main page for this tablet\" sec=\"P006438\">P006438</a></span></div><div class=\" children\"><div class=\"contnr c4    \" ><div class=\"lbl c4  \" ><span class=\"nd\">tablet </span> <span class=\"txtu\"><span class=\"tfsechead ltr\"><span class=\"ltr\">P006438</span></span></span></div><div class=\"features\"><span class=\"name \" title=\"name\">AOST 109</span><span class=\"period \" title=\"period\">uruk-iii</span></div><div class=\"children ver  \"><div class=\"contnr c1 trm   \" ><div class=\"lbl c1 trm \" ><span class=\"nd\">comment </span> <span class=\"txtu\"><span class=\"plain   \" ><span class=\"plain \" ></span> </span></span></div><div class=\"features\"><span class=\"text \" title=\"text\">atf: lang qpc</span></div></div><div class=\"contnr c2    \" ><div class=\"lbl c2  \" ><span class=\"nd\">face </span> <span class=\"txtu\"><span title=\"type\">obverse</span></span></div><div class=\"children hor  \"><div class=\"contnr c3    \" ><div class=\"lbl c3  \" ><span class=\"nd\">column </span> <span class=\"txtu\"><span title=\"number\">1</span><span title=\"prime\"></span></span></div><div class=\"children ver  \"><div class=\"contnr c2    \" ><div class=\"lbl c2  \" ><span class=\"nd\">line </span> <span class=\"txtu\"><span title=\"number\">1</span></span></div><div class=\"children hor  \"><div class=\"contnr c1 cluster trm   \" ><div class=\"lbl c1 clusterb trm \" ><span class=\"nd\">cluster </span> <span class=\"txtu\"><span title=\"type\">?</span></span></div></div><div class=\"children hor wrap \"><div class=\"contnr c0 trm   \" ><div class=\"lbl c0 trm \" ><span class=\"txtu\"><span title=\"atf\">...</span></span></div></div></div><div class=\"contnr c1 cluster {}   \" ><div class=\"lbl c1 clustere trm \" ><span class=\"nd\">cluster </span> <span class=\"txtu\"><span title=\"type\">?</span></span></div> </div><div class=\"contnr c1 cluster trm   \" ><div class=\"lbl c1 clusterb trm \" ><span class=\"nd\">cluster </span> <span class=\"txtu\"><span title=\"type\">?</span></span></div></div><div class=\"children hor wrap \"><div class=\"contnr c0 trm   \" ><div class=\"lbl c0 trm \" ><span class=\"txtu\"><span title=\"atf\">...</span></span></div></div></div><div class=\"contnr c1 cluster {}   \" ><div class=\"lbl c1 clustere trm \" ><span class=\"nd\">cluster </span> <span class=\"txtu\"><span title=\"type\">?</span></span></div> </div></div></div><div class=\"contnr c2    \" ><div class=\"lbl c2  \" ><span class=\"nd\">line </span> <span class=\"txtu\"><span title=\"number\">2</span></span></div><div class=\"children hor  \"><div class=\"contnr c2    \" ><div class=\"lbl c2  \" ><span class=\"nd\">case </span> <span class=\"txtu\"><span title=\"number\">2a</span><span title=\"prime\"></span></span></div><div class=\"children ver False \"><div class=\"contnr c0 trm   \" ><div class=\"lbl c0 trm \" ><span class=\"txtu\"><span title=\"atf\">KU6~a</span></span></div></div><div class=\"contnr c0 trm   \" ><div class=\"lbl c0 trm \" ><span class=\"txtu\"><span title=\"atf\">BU~a</span></span></div></div></div></div><div class=\"contnr c2    \" ><div class=\"lbl c2  \" ><span class=\"nd\">case </span> <span class=\"txtu\"><span title=\"number\">2b</span><span title=\"prime\"></span></span></div><div class=\"children ver False \"><div class=\"contnr c1    \" ><div class=\"lbl c1  \" ><span class=\"nd\">quad </span></div><div class=\"children hor wrap \"><div class=\"contnr c0 trm   \" ><div class=\"lbl c0 trm \" ><span class=\"txtu\"><span title=\"atf\">AB~a</span></span></div></div><div class=\"op\">x</div><div class=\"contnr c0 trm   \" ><div class=\"lbl c0 trm \" ><span class=\"txtu\"><span title=\"atf\">SUKKAL</span></span></div></div></div></div></div></div><div class=\"contnr c2    \" ><div class=\"lbl c2  \" ><span class=\"nd\">case </span> <span class=\"txtu\"><span title=\"number\">2c</span><span title=\"prime\"></span></span></div><div class=\"children ver False \"><div class=\"contnr c0 trm   \" ><div class=\"lbl c0 trm \" ><span class=\"txtu\"><span title=\"atf\">NAM2</span></span></div></div><div class=\"contnr c0 trm   \" ><div class=\"lbl c0 trm \" ><span class=\"txtu\"><span title=\"atf\">RAD~a</span></span></div></div><div class=\"contnr c0 trm   \" ><div class=\"lbl c0 trm \" ><span class=\"txtu\"><span title=\"atf\">PA~a</span></span></div></div><div class=\"contnr c0 trm   \" ><div class=\"lbl c0 trm \" ><span class=\"txtu\"><span title=\"atf\">SZU</span></span></div></div></div></div><div class=\"contnr c2    \" ><div class=\"lbl c2  \" ><span class=\"nd\">case </span> <span class=\"txtu\"><span title=\"number\">2d</span><span title=\"prime\"></span></span></div><div class=\"children ver False \"><div class=\"contnr c0 trm   \" ><div class=\"lbl c0 trm \" ><span class=\"txtu\"><span title=\"atf\">RAD~a</span></span></div></div><div class=\"contnr c1 cluster trm   \" ><div class=\"lbl c1 clusterb trm \" ><span class=\"nd\">cluster </span> <span class=\"txtu\"><span title=\"type\">?</span></span></div></div><div class=\"children hor wrap \"><div class=\"contnr c0 trm   \" ><div class=\"lbl c0 trm \" ><span class=\"txtu\"><span title=\"atf\">...</span></span></div></div></div><div class=\"contnr c1 cluster {}   \" ><div class=\"lbl c1 clustere trm \" ><span class=\"nd\">cluster </span> <span class=\"txtu\"><span title=\"type\">?</span></span></div> </div></div></div></div></div><div class=\"contnr c2    \" ><div class=\"lbl c2  \" ><span class=\"nd\">line </span> <span class=\"txtu\"><span title=\"number\">3</span></span></div><div class=\"children hor  \"><div class=\"contnr c1 cluster trm   \" ><div class=\"lbl c1 clusterb trm \" ><span class=\"nd\">cluster </span> <span class=\"txtu\"><span title=\"type\">?</span></span></div></div><div class=\"children hor wrap \"><div class=\"contnr c0 trm   \" ><div class=\"lbl c0 trm \" ><span class=\"txtu\"><span title=\"atf\">...</span></span></div></div></div><div class=\"contnr c1 cluster {}   \" ><div class=\"lbl c1 clustere trm \" ><span class=\"nd\">cluster </span> <span class=\"txtu\"><span title=\"type\">?</span></span></div> </div></div></div></div></div></div></div><div class=\"contnr c2    \" ><div class=\"lbl c2  \" ><span class=\"nd\">face </span> <span class=\"txtu\"><span title=\"type\">reverse</span></span></div><div class=\"children hor  \"><div class=\"contnr c3    \" ><div class=\"lbl c3  \" ><span class=\"nd\">column </span> <span class=\"txtu\"><span title=\"number\">1</span><span title=\"prime\"></span></span></div><div class=\"children ver  \"><div class=\"contnr c2    \" ><div class=\"lbl c2  \" ><span class=\"nd\">line </span> <span class=\"txtu\"><span title=\"number\">1</span></span></div><div class=\"children hor  \"><div class=\"contnr c1 cluster trm   \" ><div class=\"lbl c1 clusterb trm \" ><span class=\"nd\">cluster </span> <span class=\"txtu\"><span title=\"type\">?</span></span></div></div><div class=\"children hor wrap \"><div class=\"contnr c0 trm   \" ><div class=\"lbl c0 trm \" ><span class=\"txtu\"><span title=\"atf\">...</span></span></div></div></div><div class=\"contnr c1 cluster {}   \" ><div class=\"lbl c1 clustere trm \" ><span class=\"nd\">cluster </span> <span class=\"txtu\"><span title=\"type\">?</span></span></div> </div><div class=\"contnr c1 cluster trm   \" ><div class=\"lbl c1 clusterb trm \" ><span class=\"nd\">cluster </span> <span class=\"txtu\"><span title=\"type\">?</span></span></div></div><div class=\"children hor wrap \"><div class=\"contnr c0 trm   \" ><div class=\"lbl c0 trm \" ><span class=\"txtu\"><span title=\"atf\">...</span></span></div></div></div><div class=\"contnr c1 cluster {}   \" ><div class=\"lbl c1 clustere trm \" ><span class=\"nd\">cluster </span> <span class=\"txtu\"><span title=\"type\">?</span></span></div> </div></div></div><div class=\"contnr c2    \" ><div class=\"lbl c2  \" ><span class=\"nd\">line </span> <span class=\"txtu\"><span title=\"number\">2</span></span></div><div class=\"children hor  \"><div class=\"contnr c0 trm   hl\" ><div class=\"lbl c0 trm hl\" ><span class=\"txtu\"><span title=\"atf\">1(N01)</span></span></div></div><div class=\"contnr c0 trm   \" ><div class=\"lbl c0 trm \" ><span class=\"txtu\"><span title=\"atf\">USZ~a</span></span></div></div><div class=\"contnr c0 trm   \" ><div class=\"lbl c0 trm \" ><span class=\"txtu\"><span title=\"atf\">SZUBUR</span></span></div></div><div class=\"contnr c0 trm   \" ><div class=\"lbl c0 trm \" ><span class=\"txtu\"><span title=\"atf\">GAL~a</span></span></div></div><div class=\"contnr c0 trm   \" ><div class=\"lbl c0 trm \" ><span class=\"txtu\"><span title=\"atf\">IM~a</span></span></div></div></div></div><div class=\"contnr c2    \" ><div class=\"lbl c2  \" ><span class=\"nd\">line </span> <span class=\"txtu\"><span title=\"number\">3</span></span></div><div class=\"children hor  \"><div class=\"contnr c0 trm   \" ><div class=\"lbl c0 trm \" ><span class=\"txtu\"><span title=\"atf\">SZA</span></span></div></div><div class=\"contnr c1 cluster trm   \" ><div class=\"lbl c1 clusterb trm \" ><span class=\"nd\">cluster </span> <span class=\"txtu\"><span title=\"type\">?</span></span></div></div><div class=\"children hor wrap \"><div class=\"contnr c0 trm   \" ><div class=\"lbl c0 trm \" ><span class=\"txtu\"><span title=\"atf\">...</span></span></div></div></div><div class=\"contnr c1 cluster {}   \" ><div class=\"lbl c1 clustere trm \" ><span class=\"nd\">cluster </span> <span class=\"txtu\"><span title=\"type\">?</span></span></div> </div><div class=\"contnr c0 trm   \" ><div class=\"lbl c0 trm \" ><span class=\"txtu\"><span title=\"atf\">RAD~a#</span></span></div></div></div></div><div class=\"contnr c2    \" ><div class=\"lbl c2  \" ><span class=\"nd\">line </span> <span class=\"txtu\"><span title=\"number\">4</span></span></div><div class=\"children hor  \"><div class=\"contnr c1 cluster trm   \" ><div class=\"lbl c1 clusterb trm \" ><span class=\"nd\">cluster </span> <span class=\"txtu\"><span title=\"type\">?</span></span></div></div><div class=\"children hor wrap \"><div class=\"contnr c0 trm   \" ><div class=\"lbl c0 trm \" ><span class=\"txtu\"><span title=\"atf\">...</span></span></div></div></div><div class=\"contnr c1 cluster {}   \" ><div class=\"lbl c1 clustere trm \" ><span class=\"nd\">cluster </span> <span class=\"txtu\"><span title=\"type\">?</span></span></div> </div><div class=\"contnr c1 cluster trm   \" ><div class=\"lbl c1 clusterb trm \" ><span class=\"nd\">cluster </span> <span class=\"txtu\"><span title=\"type\">?</span></span></div></div><div class=\"children hor wrap \"><div class=\"contnr c0 trm   \" ><div class=\"lbl c0 trm \" ><span class=\"txtu\"><span title=\"atf\">...</span></span></div></div></div><div class=\"contnr c1 cluster {}   \" ><div class=\"lbl c1 clustere trm \" ><span class=\"nd\">cluster </span> <span class=\"txtu\"><span title=\"type\">?</span></span></div> </div></div></div></div></div><div class=\"contnr c3    \" ><div class=\"lbl c3  \" ><span class=\"nd\">column </span> <span class=\"txtu\"><span title=\"number\">2</span><span title=\"prime\"></span></span></div><div class=\"children ver  \"><div class=\"contnr c2    \" ><div class=\"lbl c2  \" ><span class=\"nd\">line </span> <span class=\"txtu\"><span title=\"number\">1</span></span></div><div class=\"children hor  \"><div class=\"contnr c1 cluster trm   \" ><div class=\"lbl c1 clusterb trm \" ><span class=\"nd\">cluster </span> <span class=\"txtu\"><span title=\"type\">?</span></span></div></div><div class=\"children hor wrap \"><div class=\"contnr c0 trm   \" ><div class=\"lbl c0 trm \" ><span class=\"txtu\"><span title=\"atf\">...</span></span></div></div></div><div class=\"contnr c1 cluster {}   \" ><div class=\"lbl c1 clustere trm \" ><span class=\"nd\">cluster </span> <span class=\"txtu\"><span title=\"type\">?</span></span></div> </div><div class=\"contnr c1 cluster trm   \" ><div class=\"lbl c1 clusterb trm \" ><span class=\"nd\">cluster </span> <span class=\"txtu\"><span title=\"type\">?</span></span></div></div><div class=\"children hor wrap \"><div class=\"contnr c0 trm   \" ><div class=\"lbl c0 trm \" ><span class=\"txtu\"><span title=\"atf\">...</span></span></div></div></div><div class=\"contnr c1 cluster {}   \" ><div class=\"lbl c1 clustere trm \" ><span class=\"nd\">cluster </span> <span class=\"txtu\"><span title=\"type\">?</span></span></div> </div></div></div><div class=\"contnr c2    \" ><div class=\"lbl c2  \" ><span class=\"nd\">line </span> <span class=\"txtu\"><span title=\"number\">2</span></span></div><div class=\"children hor  \"><div class=\"contnr c0 trm   \" ><div class=\"lbl c0 trm \" ><span class=\"txtu\"><span title=\"atf\">EN~a</span></span></div></div><div class=\"contnr c0 trm   \" ><div class=\"lbl c0 trm \" ><span class=\"txtu\"><span title=\"atf\">LAL2~a#?</span></span></div></div><div class=\"contnr c0 trm   \" ><div class=\"lbl c0 trm \" ><span class=\"txtu\"><span title=\"atf\">NIM~b2#?</span></span></div></div><div class=\"contnr c1 cluster trm   \" ><div class=\"lbl c1 clusterb trm \" ><span class=\"nd\">cluster </span> <span class=\"txtu\"><span title=\"type\">?</span></span></div></div><div class=\"children hor wrap \"><div class=\"contnr c0 trm   \" ><div class=\"lbl c0 trm \" ><span class=\"txtu\"><span title=\"atf\">...</span></span></div></div></div><div class=\"contnr c1 cluster {}   \" ><div class=\"lbl c1 clustere trm \" ><span class=\"nd\">cluster </span> <span class=\"txtu\"><span title=\"type\">?</span></span></div> </div></div></div></div></div></div></div></div></div></div>"
      ],
      "text/plain": [
       "<IPython.core.display.HTML object>"
      ]
     },
     "metadata": {},
     "output_type": "display_data"
    },
    {
     "data": {
      "text/html": [
       "<p><b>tablet</b> <i>2</i>"
      ],
      "text/plain": [
       "<IPython.core.display.HTML object>"
      ]
     },
     "metadata": {},
     "output_type": "display_data"
    },
    {
     "data": {
      "text/html": [
       "<div class=\"tfsechead \"><span class=\"ltr\"><a target=\"_blank\" href=\"https://cdli.ucla.edu/search/search_results.php?SearchMode=Text&amp;ObjectID=P002082\" title=\"to CDLI main page for this tablet\" sec=\"P002082\">P002082</a></span></div><div class=\" children\"><div class=\"contnr c4    \" ><div class=\"lbl c4  \" ><span class=\"nd\">tablet </span> <span class=\"txtu\"><span class=\"tfsechead ltr\"><span class=\"ltr\">P002082</span></span></span></div><div class=\"features\"><span class=\"name \" title=\"name\">ATU 6, pl. 047, W 14637</span><span class=\"period \" title=\"period\">uruk-iii</span><span class=\"excavation \" title=\"excavation\">W 14637</span></div><div class=\"children ver  \"><div class=\"contnr c1 trm   \" ><div class=\"lbl c1 trm \" ><span class=\"nd\">comment </span> <span class=\"txtu\"><span class=\"plain   \" ><span class=\"plain \" ></span> </span></span></div><div class=\"features\"><span class=\"text \" title=\"text\">atf: lang qpc</span></div></div><div class=\"contnr c2    \" ><div class=\"lbl c2  \" ><span class=\"nd\">face </span> <span class=\"txtu\"><span title=\"type\">obverse</span></span></div><div class=\"children hor  \"><div class=\"contnr c3    \" ><div class=\"lbl c3  \" ><span class=\"nd\">column </span> <span class=\"txtu\"><span title=\"number\">1</span><span title=\"prime\"></span></span></div><div class=\"children ver  \"><div class=\"contnr c2    \" ><div class=\"lbl c2  \" ><span class=\"nd\">line </span> <span class=\"txtu\"><span title=\"number\">1</span></span></div><div class=\"children hor  \"><div class=\"contnr c0 trm   hl\" ><div class=\"lbl c0 trm hl\" ><span class=\"txtu\"><span title=\"atf\">1(N01)#</span></span></div></div><div class=\"contnr c0 trm   \" ><div class=\"lbl c0 trm \" ><span class=\"txtu\"><span title=\"atf\">BA#</span></span></div></div><div class=\"contnr c0 trm   \" ><div class=\"lbl c0 trm \" ><span class=\"txtu\"><span title=\"atf\">SUHUR#</span></span></div></div><div class=\"contnr c0 trm   \" ><div class=\"lbl c0 trm \" ><span class=\"txtu\"><span title=\"atf\">SAG</span></span></div></div></div></div><div class=\"contnr c2    \" ><div class=\"lbl c2  \" ><span class=\"nd\">line </span> <span class=\"txtu\"><span title=\"number\">2</span></span></div><div class=\"children hor  \"><div class=\"contnr c0 trm   hl\" ><div class=\"lbl c0 trm hl\" ><span class=\"txtu\"><span title=\"atf\">2(N01)#</span></span></div></div><div class=\"contnr c0 trm   \" ><div class=\"lbl c0 trm \" ><span class=\"txtu\"><span title=\"atf\">BA#</span></span></div></div><div class=\"contnr c0 trm   \" ><div class=\"lbl c0 trm \" ><span class=\"txtu\"><span title=\"atf\">SUHUR</span></span></div></div></div></div><div class=\"contnr c2    \" ><div class=\"lbl c2  \" ><span class=\"nd\">line </span> <span class=\"txtu\"><span title=\"number\">3</span></span></div><div class=\"children hor  \"><div class=\"contnr c0 trm   hl\" ><div class=\"lbl c0 trm hl\" ><span class=\"txtu\"><span title=\"atf\">1(N14)#</span></span></div></div><div class=\"contnr c0 trm   \" ><div class=\"lbl c0 trm \" ><span class=\"txtu\"><span title=\"atf\">X</span></span></div></div><div class=\"contnr c0 trm   \" ><div class=\"lbl c0 trm \" ><span class=\"txtu\"><span title=\"atf\">SUHUR#</span></span></div></div></div></div><div class=\"contnr c2    \" ><div class=\"lbl c2  \" ><span class=\"nd\">line </span> <span class=\"txtu\"><span title=\"number\">4</span></span></div><div class=\"children hor  \"><div class=\"contnr c0 trm   hl\" ><div class=\"lbl c0 trm hl\" ><span class=\"txtu\"><span title=\"atf\">1(N01)#</span></span></div></div><div class=\"contnr c0 trm   \" ><div class=\"lbl c0 trm \" ><span class=\"txtu\"><span title=\"atf\">SUMASZ</span></span></div></div><div class=\"contnr c0 trm   \" ><div class=\"lbl c0 trm \" ><span class=\"txtu\"><span title=\"atf\">X</span></span></div></div></div></div></div></div><div class=\"contnr c3    \" ><div class=\"lbl c3  \" ><span class=\"nd\">column </span> <span class=\"txtu\"><span title=\"number\">2</span><span title=\"prime\"></span></span></div><div class=\"children ver  \"><div class=\"contnr c2    \" ><div class=\"lbl c2  \" ><span class=\"nd\">line </span> <span class=\"txtu\"><span title=\"number\">1</span></span></div><div class=\"children hor  \"><div class=\"contnr c0 trm   hl\" ><div class=\"lbl c0 trm hl\" ><span class=\"txtu\"><span title=\"atf\">1(N34)</span></span></div></div><div class=\"contnr c1    \" ><div class=\"lbl c1  \" ><span class=\"nd\">quad </span></div><div class=\"children hor wrap \"><div class=\"contnr c0 trm   \" ><div class=\"lbl c0 trm \" ><span class=\"txtu\"><span title=\"atf\">ZATU759</span></span></div></div><div class=\"op\">x</div><div class=\"contnr c0 trm   \" ><div class=\"lbl c0 trm \" ><span class=\"txtu\"><span title=\"atf\">KU6~a</span></span></div></div></div></div></div></div><div class=\"contnr c2    \" ><div class=\"lbl c2  \" ><span class=\"nd\">line </span> <span class=\"txtu\"><span title=\"number\">2</span></span></div><div class=\"children hor  \"><div class=\"contnr c0 trm   \" ><div class=\"lbl c0 trm \" ><span class=\"txtu\"><span title=\"atf\">UB</span></span></div></div><div class=\"contnr c0 trm   \" ><div class=\"lbl c0 trm \" ><span class=\"txtu\"><span title=\"atf\">KU6~a</span></span></div></div></div></div><div class=\"contnr c2    \" ><div class=\"lbl c2  \" ><span class=\"nd\">line </span> <span class=\"txtu\"><span title=\"number\">3</span></span></div><div class=\"children hor  \"><div class=\"contnr c2    \" ><div class=\"lbl c2  \" ><span class=\"nd\">case </span> <span class=\"txtu\"><span title=\"number\">3a</span><span title=\"prime\"></span></span></div><div class=\"children ver False \"><div class=\"contnr c0 trm   \" ><div class=\"lbl c0 trm \" ><span class=\"txtu\"><span title=\"atf\">X</span></span></div></div><div class=\"contnr c0 trm   \" ><div class=\"lbl c0 trm \" ><span class=\"txtu\"><span title=\"atf\">EN~a#</span></span></div></div><div class=\"contnr c0 trm   \" ><div class=\"lbl c0 trm \" ><span class=\"txtu\"><span title=\"atf\">X</span></span></div></div></div></div><div class=\"contnr c2    \" ><div class=\"lbl c2  \" ><span class=\"nd\">case </span> <span class=\"txtu\"><span title=\"number\">3b</span><span title=\"prime\"></span></span></div><div class=\"children ver False \"><div class=\"contnr c2    \" ><div class=\"lbl c2  \" ><span class=\"nd\">case </span> <span class=\"txtu\"><span title=\"number\">3b1</span><span title=\"prime\"></span></span></div><div class=\"children hor False \"><div class=\"contnr c0 trm   \" ><div class=\"lbl c0 trm \" ><span class=\"txtu\"><span title=\"atf\">SUHUR#</span></span></div></div><div class=\"contnr c0 trm   \" ><div class=\"lbl c0 trm \" ><span class=\"txtu\"><span title=\"atf\">X</span></span></div></div></div></div><div class=\"contnr c2    \" ><div class=\"lbl c2  \" ><span class=\"nd\">case </span> <span class=\"txtu\"><span title=\"number\">3b2</span><span title=\"prime\"></span></span></div><div class=\"children hor False \"><div class=\"contnr c0 trm   \" ><div class=\"lbl c0 trm \" ><span class=\"txtu\"><span title=\"atf\">TUR3~a#</span></span></div></div><div class=\"contnr c0 trm   \" ><div class=\"lbl c0 trm \" ><span class=\"txtu\"><span title=\"atf\">DU#</span></span></div></div><div class=\"contnr c0 trm   \" ><div class=\"lbl c0 trm \" ><span class=\"txtu\"><span title=\"atf\">SZE3#</span></span></div></div></div></div></div></div></div></div></div></div></div></div><div class=\"contnr c2    \" ><div class=\"lbl c2  \" ><span class=\"nd\">face </span> <span class=\"txtu\"><span title=\"type\">reverse</span></span></div><div class=\"children hor  \"><div class=\"contnr c3    \" ><div class=\"lbl c3  \" ><span class=\"nd\">column </span> <span class=\"txtu\"><span title=\"number\">1</span><span title=\"prime\"></span></span></div><div class=\"children ver  \"><div class=\"contnr c2    \" ><div class=\"lbl c2  \" ><span class=\"nd\">line </span> <span class=\"txtu\"><span title=\"number\">1</span></span></div><div class=\"children hor  \"><div class=\"contnr c1 cluster trm   \" ><div class=\"lbl c1 clusterb trm \" ><span class=\"nd\">cluster </span> <span class=\"txtu\"><span title=\"type\">?</span></span></div></div><div class=\"children hor wrap \"><div class=\"contnr c0 trm   \" ><div class=\"lbl c0 trm \" ><span class=\"txtu\"><span title=\"atf\">...</span></span></div></div></div><div class=\"contnr c1 cluster {}   \" ><div class=\"lbl c1 clustere trm \" ><span class=\"nd\">cluster </span> <span class=\"txtu\"><span title=\"type\">?</span></span></div> </div><div class=\"contnr c1 cluster trm   \" ><div class=\"lbl c1 clusterb trm \" ><span class=\"nd\">cluster </span> <span class=\"txtu\"><span title=\"type\">?</span></span></div></div><div class=\"children hor wrap \"><div class=\"contnr c0 trm   \" ><div class=\"lbl c0 trm \" ><span class=\"txtu\"><span title=\"atf\">...</span></span></div></div></div><div class=\"contnr c1 cluster {}   \" ><div class=\"lbl c1 clustere trm \" ><span class=\"nd\">cluster </span> <span class=\"txtu\"><span title=\"type\">?</span></span></div> </div></div></div></div></div><div class=\"contnr c3    \" ><div class=\"lbl c3  \" ><span class=\"nd\">column </span> <span class=\"txtu\"><span title=\"number\">2</span><span title=\"prime\"></span></span></div><div class=\"children ver  \"><div class=\"contnr c2    \" ><div class=\"lbl c2  \" ><span class=\"nd\">line </span> <span class=\"txtu\"><span title=\"number\">1</span></span></div><div class=\"children hor  \"><div class=\"contnr c1    \" ><div class=\"lbl c1  \" ><span class=\"nd\">quad </span></div><div class=\"children hor wrap \"><div class=\"contnr c0 trm   \" ><div class=\"lbl c0 trm \" ><span class=\"txtu\"><span title=\"atf\">GI</span></span></div></div><div class=\"op\">&</div><div class=\"contnr c0 trm   \" ><div class=\"lbl c0 trm \" ><span class=\"txtu\"><span title=\"atf\">GI</span></span></div></div></div></div><div class=\"contnr c0 trm   \" ><div class=\"lbl c0 trm \" ><span class=\"txtu\"><span title=\"atf\">GIR3~a#?</span></span></div></div><div class=\"contnr c0 trm   \" ><div class=\"lbl c0 trm \" ><span class=\"txtu\"><span title=\"atf\">SUHUR#</span></span></div></div></div></div></div></div></div></div></div></div></div>"
      ],
      "text/plain": [
       "<IPython.core.display.HTML object>"
      ]
     },
     "metadata": {},
     "output_type": "display_data"
    }
   ],
   "source": [
    "query = \"\"\"\n",
    "tablet\n",
    "/without/\n",
    "  case\n",
    "    sign type=numeral\n",
    "/-/\n",
    "/with/\n",
    "  case\n",
    "/-/\n",
    "  sign type=numeral\n",
    "\"\"\"\n",
    "results = A.search(query)\n",
    "A.show(results, end=2, queryFeatures=False)"
   ]
  },
  {
   "cell_type": "markdown",
   "metadata": {},
   "source": [
    "## More ...\n",
    "\n",
    "The capabilities of search are endless.\n",
    "Often it is the quickest way to focus on a phenomenon, quicker than hand coding all the logic\n",
    "to retrieve your patterns.\n",
    "\n",
    "That said, it is not a matter of either-or. You can use coding to craft your templates,\n",
    "and you can use coding to process your results.\n",
    "\n",
    "It's an explosive mix. A later chapter in this tutorial shows\n",
    "even more [cases](cases.ipynb).\n",
    "\n",
    "Have another look at\n",
    "[the manual](https://annotation.github.io/text-fabric/tf/about/searchusage.html)."
   ]
  },
  {
   "cell_type": "markdown",
   "metadata": {},
   "source": [
    "# Next\n",
    "\n",
    "[calc](calc.ipynb)\n",
    "\n",
    "*A tablet calculator ...*\n",
    "\n",
    "All chapters:\n",
    "[start](start.ipynb)\n",
    "[imagery](imagery.ipynb)\n",
    "[steps](steps.ipynb)\n",
    "**search**\n",
    "[calc](calc.ipynb)\n",
    "[signs](signs.ipynb)\n",
    "[quads](quads.ipynb)\n",
    "[jumps](jumps.ipynb)\n",
    "[cases](cases.ipynb)\n",
    "\n",
    "---\n",
    "\n",
    "CC-BY Dirk Roorda"
   ]
  }
 ],
 "metadata": {
  "kernelspec": {
   "display_name": "Python 3 (ipykernel)",
   "language": "python",
   "name": "python3"
  },
  "language_info": {
   "codemirror_mode": {
    "name": "ipython",
    "version": 3
   },
   "file_extension": ".py",
   "mimetype": "text/x-python",
   "name": "python",
   "nbconvert_exporter": "python",
   "pygments_lexer": "ipython3",
   "version": "3.11.1"
  },
  "toc": {
   "base_numbering": 1,
   "nav_menu": {},
   "number_sections": true,
   "sideBar": true,
   "skip_h1_title": true,
   "title_cell": "Table of Contents",
   "title_sidebar": "Contents",
   "toc_cell": true,
   "toc_position": {
    "height": "607px",
    "left": "0px",
    "right": "983px",
    "top": "110px",
    "width": "297px"
   },
   "toc_section_display": "block",
   "toc_window_display": false
  },
  "widgets": {
   "application/vnd.jupyter.widget-state+json": {
    "state": {},
    "version_major": 2,
    "version_minor": 0
   }
  }
 },
 "nbformat": 4,
 "nbformat_minor": 4
}
