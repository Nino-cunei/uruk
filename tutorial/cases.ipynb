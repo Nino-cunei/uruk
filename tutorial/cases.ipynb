{
 "cells": [
  {
   "cell_type": "markdown",
   "metadata": {},
   "source": [
    "<img align=\"right\" src=\"images/ninologo.png\" width=\"150\"/>\n",
    "<img align=\"right\" src=\"images/tf-small.png\" width=\"125\"/>\n",
    "<img align=\"right\" src=\"images/dans.png\" width=\"150\"/>\n",
    "\n",
    "# Cases\n",
    "\n",
    "Cases are the building blocks on the faces of tablets.\n",
    "\n",
    "What about the distribution of signs in deeply nested cases versus outer cases?\n",
    "We show here how you can begin to investigate that."
   ]
  },
  {
   "cell_type": "code",
   "execution_count": 1,
   "metadata": {},
   "outputs": [],
   "source": [
    "%load_ext autoreload\n",
    "%autoreload 2"
   ]
  },
  {
   "cell_type": "code",
   "execution_count": 2,
   "metadata": {
    "ExecuteTime": {
     "end_time": "2018-05-11T10:16:51.900758Z",
     "start_time": "2018-05-11T10:16:51.835847Z"
    }
   },
   "outputs": [],
   "source": [
    "import sys, os\n",
    "import collections\n",
    "from IPython.display import display, Markdown\n",
    "from tf.app import use"
   ]
  },
  {
   "cell_type": "code",
   "execution_count": 3,
   "metadata": {
    "ExecuteTime": {
     "end_time": "2018-05-11T10:16:54.454775Z",
     "start_time": "2018-05-11T10:16:53.137842Z"
    }
   },
   "outputs": [
    {
     "name": "stdout",
     "output_type": "stream",
     "text": [
      "Using Nino-cunei/uruk - 1.0 r1.2 in ~/text-fabric-data/Nino-cunei/uruk/tf/uruk/1.0\n"
     ]
    },
    {
     "data": {
      "text/markdown": [
       "**Documentation:** <a target=\"_blank\" href=\"https://github.com/Nino-cunei/uruk/blob/master/docs/\" title=\"provenance of Uruk IV/III: Proto-cuneiform tablets \">URUK</a> <a target=\"_blank\" href=\"https://github.com/Nino-cunei/uruk/blob/master/docs/transcription.md\" title=\"How TF features represent ATF\">Character table</a> <a target=\"_blank\" href=\"https://github.com/Nino-cunei/uruk/blob/master/docs//transcription.md\" title=\"URUK feature documentation\">Feature docs</a> <a target=\"_blank\" href=\"https://dans-labs.github.io/text-fabric/Api/Uruk/\" title=\"uruk API documentation\">uruk API</a> <a target=\"_blank\" href=\"https://dans-labs.github.io/text-fabric/Api/General/\" title=\"text-fabric-api\">Text-Fabric API 6.4.6</a> <a target=\"_blank\" href=\"https://dans-labs.github.io/text-fabric/Api/General/#search-templates\" title=\"Search Templates Introduction and Reference\">Search Reference</a>"
      ],
      "text/plain": [
       "<IPython.core.display.Markdown object>"
      ]
     },
     "metadata": {},
     "output_type": "display_data"
    },
    {
     "data": {
      "text/html": [
       "<details open><summary><b>Loaded features</b>:</summary>\n",
       "<p><b>Uruk IV/III: Proto-cuneiform tablets </b>: <a target=\"_blank\" href=\"https://github.com/Nino-cunei/uruk/blob/master/docs//transcription.md\" title=\"info\">catalogId</a> <a target=\"_blank\" href=\"https://github.com/Nino-cunei/uruk/blob/master/docs//transcription.md\" title=\"info\">comments</a> <a target=\"_blank\" href=\"https://github.com/Nino-cunei/uruk/blob/master/docs//transcription.md\" title=\"info\">crossref</a> <a target=\"_blank\" href=\"https://github.com/Nino-cunei/uruk/blob/master/docs//transcription.md\" title=\"info\">damage</a> <a target=\"_blank\" href=\"https://github.com/Nino-cunei/uruk/blob/master/docs//transcription.md\" title=\"info\">depth</a> <a target=\"_blank\" href=\"https://github.com/Nino-cunei/uruk/blob/master/docs//transcription.md\" title=\"info\">excavation</a> <a target=\"_blank\" href=\"https://github.com/Nino-cunei/uruk/blob/master/docs//transcription.md\" title=\"info\">fragment</a> <a target=\"_blank\" href=\"https://github.com/Nino-cunei/uruk/blob/master/docs//transcription.md\" title=\"info\">fullNumber</a> <a target=\"_blank\" href=\"https://github.com/Nino-cunei/uruk/blob/master/docs//transcription.md\" title=\"info\">grapheme</a> <a target=\"_blank\" href=\"https://github.com/Nino-cunei/uruk/blob/master/docs//transcription.md\" title=\"info\">identifier</a> <a target=\"_blank\" href=\"https://github.com/Nino-cunei/uruk/blob/master/docs//transcription.md\" title=\"info\">modifier</a> <a target=\"_blank\" href=\"https://github.com/Nino-cunei/uruk/blob/master/docs//transcription.md\" title=\"info\">modifierFirst</a> <a target=\"_blank\" href=\"https://github.com/Nino-cunei/uruk/blob/master/docs//transcription.md\" title=\"info\">modifierInner</a> <a target=\"_blank\" href=\"https://github.com/Nino-cunei/uruk/blob/master/docs//transcription.md\" title=\"info\">name</a> <a target=\"_blank\" href=\"https://github.com/Nino-cunei/uruk/blob/master/docs//transcription.md\" title=\"info\">number</a> <a target=\"_blank\" href=\"https://github.com/Nino-cunei/uruk/blob/master/docs//transcription.md\" title=\"info\">op</a> <a target=\"_blank\" href=\"https://github.com/Nino-cunei/uruk/blob/master/docs//transcription.md\" title=\"info\">oslots</a> <a target=\"_blank\" href=\"https://github.com/Nino-cunei/uruk/blob/master/docs//transcription.md\" title=\"info\">otype</a> <a target=\"_blank\" href=\"https://github.com/Nino-cunei/uruk/blob/master/docs//transcription.md\" title=\"info\">period</a> <a target=\"_blank\" href=\"https://github.com/Nino-cunei/uruk/blob/master/docs//transcription.md\" title=\"info\">prime</a> <a target=\"_blank\" href=\"https://github.com/Nino-cunei/uruk/blob/master/docs//transcription.md\" title=\"info\">remarkable</a> <a target=\"_blank\" href=\"https://github.com/Nino-cunei/uruk/blob/master/docs//transcription.md\" title=\"info\">repeat</a> <a target=\"_blank\" href=\"https://github.com/Nino-cunei/uruk/blob/master/docs//transcription.md\" title=\"info\">srcLn</a> <a target=\"_blank\" href=\"https://github.com/Nino-cunei/uruk/blob/master/docs//transcription.md\" title=\"info\">srcLnNum</a> <a target=\"_blank\" href=\"https://github.com/Nino-cunei/uruk/blob/master/docs//transcription.md\" title=\"info\">sub</a> <a target=\"_blank\" href=\"https://github.com/Nino-cunei/uruk/blob/master/docs//transcription.md\" title=\"info\">terminal</a> <a target=\"_blank\" href=\"https://github.com/Nino-cunei/uruk/blob/master/docs//transcription.md\" title=\"info\">text</a> <a target=\"_blank\" href=\"https://github.com/Nino-cunei/uruk/blob/master/docs//transcription.md\" title=\"info\">type</a> <a target=\"_blank\" href=\"https://github.com/Nino-cunei/uruk/blob/master/docs//transcription.md\" title=\"info\">uncertain</a> <a target=\"_blank\" href=\"https://github.com/Nino-cunei/uruk/blob/master/docs//transcription.md\" title=\"info\">variant</a> <a target=\"_blank\" href=\"https://github.com/Nino-cunei/uruk/blob/master/docs//transcription.md\" title=\"info\">variantOuter</a> <a target=\"_blank\" href=\"https://github.com/Nino-cunei/uruk/blob/master/docs//transcription.md\" title=\"info\">written</a></p></details>"
      ],
      "text/plain": [
       "<IPython.core.display.HTML object>"
      ]
     },
     "metadata": {},
     "output_type": "display_data"
    },
    {
     "data": {
      "text/markdown": [
       "\n",
       "This notebook online:\n",
       "<a target=\"_blank\" href=\"https://nbviewer.jupyter.org/github/Nino-cunei/uruk/blob/master/tutorial/cases.ipynb\">NBViewer</a>\n",
       "<a target=\"_blank\" href=\"https://github.com/Nino-cunei/uruk/blob/master/tutorial/cases.ipynb\">GitHub</a>\n"
      ],
      "text/plain": [
       "<IPython.core.display.Markdown object>"
      ]
     },
     "metadata": {},
     "output_type": "display_data"
    },
    {
     "data": {
      "text/html": [
       "\n",
       "<style type=\"text/css\">\n",
       ".features {\n",
       "    font-family: monospace;\n",
       "    font-size: medium;\n",
       "    font-weight: bold;\n",
       "    color: #0a6611;\n",
       "    display: flex;\n",
       "    flex-flow: column nowrap;\n",
       "    padding: 0.1em;\n",
       "    margin: 0.1em;\n",
       "    direction: ltr;\n",
       "}\n",
       ".features div,.features span {\n",
       "    padding: 0;\n",
       "    margin: -0.1rem 0;\n",
       "}\n",
       ".features .f {\n",
       "    font-family: sans-serif;\n",
       "    font-size: x-small;\n",
       "    font-weight: normal;\n",
       "    color: #5555bb;\n",
       "}\n",
       ".features .xft {\n",
       "  color: #000000;\n",
       "  background-color: #eeeeee;\n",
       "  font-size: medium;\n",
       "  margin: 0.1em 0em;\n",
       "}\n",
       ".features .xft .f {\n",
       "  color: #000000;\n",
       "  background-color: #eeeeee;\n",
       "  font-style: italic;\n",
       "  font-size: small;\n",
       "  font-weight: normal;\n",
       "}\n",
       ".pnum {\n",
       "    font-family: sans-serif;\n",
       "    font-size: small;\n",
       "    font-weight: bold;\n",
       "    color: #444444;\n",
       "}\n",
       ".nd {\n",
       "    font-family: monospace;\n",
       "    font-size: x-small;\n",
       "    color: #999999;\n",
       "}\n",
       ".meta {\n",
       "    display: flex;\n",
       "    justify-content: flex-start;\n",
       "    align-items: flex-start;\n",
       "    align-content: flex-start;\n",
       "    flex-flow: row nowrap;\n",
       "}\n",
       ".features,.comments {\n",
       "    display: flex;\n",
       "    justify-content: flex-start;\n",
       "    align-items: flex-start;\n",
       "    align-content: flex-start;\n",
       "    flex-flow: column nowrap;\n",
       "}\n",
       ".children {\n",
       "    display: flex;\n",
       "    justify-content: flex-start;\n",
       "    align-items: flex-start;\n",
       "    align-content: flex-start;\n",
       "    border: 0;\n",
       "    background-color: #ffffff;\n",
       "}\n",
       ".children.tablet,.children.face {\n",
       "    flex-flow: row nowrap;\n",
       "}\n",
       ".children.column {\n",
       "    align-items: stretch;\n",
       "    flex-flow: column nowrap;\n",
       "}\n",
       ".children.line,.children.case {\n",
       "    align-items: stretch;\n",
       "    flex-flow: row nowrap;\n",
       "}\n",
       ".children.caseh,.children.trminalh {\n",
       "    flex-flow: row nowrap;\n",
       "}\n",
       ".children.casev,.children.trminalv {\n",
       "    flex-flow: column nowrap;\n",
       "}\n",
       ".children.trminal {\n",
       "    flex-flow: row nowrap;\n",
       "}\n",
       ".children.cluster {\n",
       "    flex-flow: row wrap;\n",
       "}\n",
       ".children.quad {\n",
       "    flex-flow: row wrap;\n",
       "}\n",
       ".children.sign {\n",
       "    flex-flow: column nowrap;\n",
       "}\n",
       ".contnr {\n",
       "    width: fit-content;\n",
       "}\n",
       ".contnr.tablet,.contnr.face,.contnr.column,\n",
       ".contnr.line,.contnr.case,.contnr.trminal,\n",
       ".contnr.comment,\n",
       ".contnr.cluster,\n",
       ".contnr.quad,.contnr.sign {\n",
       "    display: flex;\n",
       "    justify-content: flex-start;\n",
       "    align-items: flex-start;\n",
       "    align-content: flex-start;\n",
       "    flex-flow: column nowrap;\n",
       "    background: #ffffff none repeat scroll 0 0;\n",
       "    padding:  0.5em 0.1em 0.1em 0.1em;\n",
       "    margin: 0.8em 0.1em 0.1em 0.1em;\n",
       "    border-radius: 0.2em;\n",
       "    border-style: solid;\n",
       "    border-width: 0.2em;\n",
       "    font-size: small;\n",
       "}\n",
       ".contnr.tablet,.contnr.face,.contnr.column {\n",
       "    border-color: #bb8800;\n",
       "}\n",
       ".contnr.line,.contnr.case,.contnr.trminal {\n",
       "    border-color: #0088bb;\n",
       "}\n",
       ".contnr.cluster {\n",
       "    flex-flow: row wrap;\n",
       "    border: 0;\n",
       "}\n",
       ".contnr.sign,.contnr.quad {\n",
       "    border-color: #bbbbbb;\n",
       "}\n",
       ".contnr.comment {\n",
       "    background-color: #ffddaa;\n",
       "    border: 0.2em solid #eecc99;\n",
       "    border-radius: 0.3em;\n",
       "}\n",
       ".contnr.hl {\n",
       "    background-color: #ffee66;\n",
       "}\n",
       ".lbl.tablet,.lbl.face,.lbl.column,\n",
       ".lbl.line,.lbl.case,.lbl.trminal,\n",
       ".lbl.comment,\n",
       ".lbl.cluster,\n",
       ".lbl.quad,.lbl.sign {\n",
       "    margin-top: -1.2em;\n",
       "    margin-left: 1em;\n",
       "    background: #ffffff none repeat scroll 0 0;\n",
       "    padding: 0 0.3em;\n",
       "    border-style: solid;\n",
       "    font-size: small;\n",
       "    color: #0000cc;\n",
       "    display: block;\n",
       "}\n",
       ".lbl.tablet,.lbl.face,.lbl.column {\n",
       "    border-color: #bb8800;\n",
       "    border-width: 0.2em;\n",
       "    border-radius: 0.2em;\n",
       "    color: #bb8800;\n",
       "}\n",
       ".lbl.line,.lbl.case,.lbl.trminal {\n",
       "    border-color: #0088bb;\n",
       "    border-width: 0.2em;\n",
       "    border-radius: 0.2em;\n",
       "    color: #0088bb;\n",
       "}\n",
       ".lbl.comment {\n",
       "    border-color: #eecc99;\n",
       "    border-width: 0.2em;\n",
       "    border-radius: 0.2em;\n",
       "    color: #eecc99;\n",
       "    background-color: #ffddaa none repeat scroll 0 0;\n",
       "}\n",
       ".lbl.clusterB,.lbl.clusterE {\n",
       "    padding:  0.5em 0.1em 0.1em 0.1em;\n",
       "    margin: 0.8em 0.1em 0.1em 0.1em;\n",
       "    color: #888844;\n",
       "    font-size: x-small;\n",
       "}\n",
       ".lbl.clusterB {\n",
       "    border-left: 0.3em solid #cccc99;\n",
       "    border-right: 0;\n",
       "    border-top: 0;\n",
       "    border-bottom: 0;\n",
       "    border-radius: 1em;\n",
       "}\n",
       ".lbl.clusterE {\n",
       "    border-left: 0;\n",
       "    border-right: 0.3em solid #cccc99;\n",
       "    border-top: 0;\n",
       "    border-bottom: 0;\n",
       "    border-radius: 1em;\n",
       "}\n",
       ".lbl.quad,.lbl.sign {\n",
       "    border-color: #bbbbbb;\n",
       "    border-width: 0.1em;\n",
       "    border-radius: 0.1em;\n",
       "    color: #bbbbbb;\n",
       "}\n",
       ".op {\n",
       "    padding:  0.5em 0.1em 0.1em 0.1em;\n",
       "    margin: 0.8em 0.1em 0.1em 0.1em;\n",
       "    font-family: monospace;\n",
       "    font-size: x-large;\n",
       "    font-weight: bold;\n",
       "}\n",
       ".name {\n",
       "    font-family: monospace;\n",
       "    font-size: medium;\n",
       "    color: #0000bb;\n",
       "}\n",
       ".period {\n",
       "    font-family: monospace;\n",
       "    font-size: medium;\n",
       "    font-weight: bold;\n",
       "    color: #0000bb;\n",
       "}\n",
       ".excavation {\n",
       "    font-family: monospace;\n",
       "    font-size: medium;\n",
       "    font-style: italic;\n",
       "    color: #779900;\n",
       "}\n",
       ".text {\n",
       "    font-family: sans-serif;\n",
       "    font-size: x-small;\n",
       "    color: #000000;\n",
       "}\n",
       ".srcLn {\n",
       "    font-family: monospace;\n",
       "    font-size: medium;\n",
       "    color: #000000;\n",
       "}\n",
       ".srcLnNum {\n",
       "    font-family: monospace;\n",
       "    font-size: x-small;\n",
       "    color: #0000bb;\n",
       "}\n",
       "</style>\n"
      ],
      "text/plain": [
       "<IPython.core.display.HTML object>"
      ]
     },
     "metadata": {},
     "output_type": "display_data"
    },
    {
     "data": {
      "text/html": [
       "<details open><summary><b>API members</b>:</summary>\n",
       "<a target=\"_blank\" href=\"https://dans-labs.github.io/text-fabric/Api/General/#computed-data\" title=\"doc\">C Computed</a>, <a target=\"_blank\" href=\"https://dans-labs.github.io/text-fabric/Api/General/#computed-data\" title=\"doc\">Call AllComputeds</a>, <a target=\"_blank\" href=\"https://dans-labs.github.io/text-fabric/Api/General/#computed-data\" title=\"doc\">Cs ComputedString</a><br/>\n",
       "<a target=\"_blank\" href=\"https://dans-labs.github.io/text-fabric/Api/General/#edge-features\" title=\"doc\">E Edge</a>, <a target=\"_blank\" href=\"https://dans-labs.github.io/text-fabric/Api/General/#edge-features\" title=\"doc\">Eall AllEdges</a>, <a target=\"_blank\" href=\"https://dans-labs.github.io/text-fabric/Api/General/#edge-features\" title=\"doc\">Es EdgeString</a><br/>\n",
       "<a target=\"_blank\" href=\"https://dans-labs.github.io/text-fabric/Api/General/#loading\" title=\"doc\">TF</a>, <a target=\"_blank\" href=\"https://dans-labs.github.io/text-fabric/Api/General/#loading\" title=\"doc\">ensureLoaded</a>, <a target=\"_blank\" href=\"https://dans-labs.github.io/text-fabric/Api/General/#loading\" title=\"doc\">ignored</a>, <a target=\"_blank\" href=\"https://dans-labs.github.io/text-fabric/Api/General/#loading\" title=\"doc\">loadLog</a><br/>\n",
       "<a target=\"_blank\" href=\"https://dans-labs.github.io/text-fabric/Api/General/#locality\" title=\"doc\">L Locality</a><br/>\n",
       "<a target=\"_blank\" href=\"https://dans-labs.github.io/text-fabric/Api/General/#messaging\" title=\"doc\">cache</a>, <a target=\"_blank\" href=\"https://dans-labs.github.io/text-fabric/Api/General/#messaging\" title=\"doc\">error</a>, <a target=\"_blank\" href=\"https://dans-labs.github.io/text-fabric/Api/General/#messaging\" title=\"doc\">indent</a>, <a target=\"_blank\" href=\"https://dans-labs.github.io/text-fabric/Api/General/#messaging\" title=\"doc\">info</a>, <a target=\"_blank\" href=\"https://dans-labs.github.io/text-fabric/Api/General/#messaging\" title=\"doc\">reset</a><br/>\n",
       "<a target=\"_blank\" href=\"https://dans-labs.github.io/text-fabric/Api/General/#navigating-nodes\" title=\"doc\">N Nodes</a>, <a target=\"_blank\" href=\"https://dans-labs.github.io/text-fabric/Api/General/#navigating-nodes\" title=\"doc\">sortKey</a>, <a target=\"_blank\" href=\"https://dans-labs.github.io/text-fabric/Api/General/#navigating-nodes\" title=\"doc\">otypeRank</a>, <a target=\"_blank\" href=\"https://dans-labs.github.io/text-fabric/Api/General/#navigating-nodes\" title=\"doc\">sortNodes</a><br/>\n",
       "<a target=\"_blank\" href=\"https://dans-labs.github.io/text-fabric/Api/General/#node-features\" title=\"doc\">F Feature</a>, <a target=\"_blank\" href=\"https://dans-labs.github.io/text-fabric/Api/General/#node-features\" title=\"doc\">Fall AllFeatures</a>, <a target=\"_blank\" href=\"https://dans-labs.github.io/text-fabric/Api/General/#node-features\" title=\"doc\">Fs FeatureString</a><br/>\n",
       "<a target=\"_blank\" href=\"https://dans-labs.github.io/text-fabric/Api/General/#searching\" title=\"doc\">S Search</a><br/>\n",
       "<a target=\"_blank\" href=\"https://dans-labs.github.io/text-fabric/Api/General/#text\" title=\"doc\">T Text</a></details>"
      ],
      "text/plain": [
       "<IPython.core.display.HTML object>"
      ]
     },
     "metadata": {},
     "output_type": "display_data"
    },
    {
     "name": "stdout",
     "output_type": "stream",
     "text": [
      "Using Nino-cunei/uruk r1.2 in ~/text-fabric-data/Nino-cunei/uruk/sources/cdli/images\n",
      "Found 2095 ideograph linearts\n",
      "Found 2724 tablet linearts\n",
      "Found 5495 tablet photos\n"
     ]
    }
   ],
   "source": [
    "A = use('uruk', hoist=globals())"
   ]
  },
  {
   "cell_type": "markdown",
   "metadata": {},
   "source": [
    "## `search`\n",
    "\n",
    "You might want to read the \n",
    "[docs](https://dans-labs.github.io/text-fabric/Api/General/#search-templates) \n",
    "or the tutorial chapter on \n",
    "[search](search.ipynb)\n",
    "first.\n",
    "\n",
    "Here is a quick recap.\n",
    "\n",
    "### Explanation\n",
    "\n",
    "The search template is basically\n",
    "\n",
    "```\n",
    "line\n",
    "   case\n",
    "      case\n",
    "         sign\n",
    "```\n",
    "\n",
    "This bare template looks for a sign within a case within a case within a line.\n",
    "Indententation acts as shorthand for embedding.\n",
    "\n",
    "But this is not enough, because a subsubcase of a case is also embedded in that case.\n",
    "We look for a situation where the first case is *directly* embedded in the line,\n",
    "and the second case is *directly* embedded in the first case.\n",
    "\n",
    "In our data we have an *edge* (relationship), called `sub`, that connects lines/cases with\n",
    "cases that are directly embedded in them.\n",
    "\n",
    "So\n",
    "\n",
    "```\n",
    "c0 -sub> c1\n",
    "```\n",
    "\n",
    "means that `c0` is `sub`-related to `c1`.\n",
    "\n",
    "Now it is possible to see that the result of this query will have signs that occur in\n",
    "subcases of cases of lines."
   ]
  },
  {
   "cell_type": "markdown",
   "metadata": {},
   "source": [
    "The Cunei API provides a function to collect (sub)cases at a given level of nesting.\n",
    "\n",
    "We show how to use them, and for each task we show **how you can get things done easier with search**."
   ]
  },
  {
   "cell_type": "markdown",
   "metadata": {},
   "source": [
    "## Level 0\n",
    "\n",
    "If we do `casesByLevel(0, terminal=False)` we get all lines.\n",
    "\n",
    "If we do `casesByLevel(0)`, we get precisely the undivided lines."
   ]
  },
  {
   "cell_type": "code",
   "execution_count": 4,
   "metadata": {
    "ExecuteTime": {
     "end_time": "2018-05-09T17:50:02.543628Z",
     "start_time": "2018-05-09T17:50:02.448403Z"
    }
   },
   "outputs": [
    {
     "name": "stdout",
     "output_type": "stream",
     "text": [
      "test0Cases: 35842\n",
      "allLines : 35842\n",
      "test0Cases equal to allLines: True\n",
      "types of test0Cases: {'line'}\n",
      "test0CasesT: 32732\n",
      "Divided lines:  3110\n"
     ]
    }
   ],
   "source": [
    "test0Cases = set(A.casesByLevel(0, terminal=False))\n",
    "allLines = set(F.otype.s('line'))\n",
    "types0 = {F.otype.v(n) for n in test0Cases}\n",
    "print(f'test0Cases: {len(test0Cases):>5}')\n",
    "print(f'allLines : {len(allLines):>5}')\n",
    "print(f'test0Cases equal to allLines: {test0Cases == allLines}')\n",
    "print(f'types of test0Cases: {types0}')\n",
    "\n",
    "test0CasesT = set(A.casesByLevel(0))\n",
    "print(f'test0CasesT: {len(test0CasesT):>5}')\n",
    "print(f'Divided lines: {len(test0Cases) - len(test0CasesT):>5}')"
   ]
  },
  {
   "cell_type": "markdown",
   "metadata": {},
   "source": [
    "Let us compare this with doing the same by means of search.\n",
    "\n",
    "* All lines"
   ]
  },
  {
   "cell_type": "code",
   "execution_count": 5,
   "metadata": {
    "ExecuteTime": {
     "end_time": "2018-05-09T17:50:05.087375Z",
     "start_time": "2018-05-09T17:50:05.040872Z"
    }
   },
   "outputs": [
    {
     "name": "stdout",
     "output_type": "stream",
     "text": [
      "  0.02s 35842 results\n"
     ]
    }
   ],
   "source": [
    "query = '''\n",
    "line\n",
    "'''\n",
    "results = A.search(query)"
   ]
  },
  {
   "cell_type": "markdown",
   "metadata": {},
   "source": [
    "* Undivided lines"
   ]
  },
  {
   "cell_type": "code",
   "execution_count": 6,
   "metadata": {
    "ExecuteTime": {
     "end_time": "2018-05-09T17:50:06.483120Z",
     "start_time": "2018-05-09T17:50:06.388710Z"
    }
   },
   "outputs": [
    {
     "name": "stdout",
     "output_type": "stream",
     "text": [
      "  0.05s 32732 results\n"
     ]
    }
   ],
   "source": [
    "query = '''\n",
    "line terminal\n",
    "'''\n",
    "results = A.search(query)"
   ]
  },
  {
   "cell_type": "markdown",
   "metadata": {},
   "source": [
    "* Divided lines"
   ]
  },
  {
   "cell_type": "code",
   "execution_count": 7,
   "metadata": {
    "ExecuteTime": {
     "end_time": "2018-05-09T17:50:11.046637Z",
     "start_time": "2018-05-09T17:50:10.967173Z"
    }
   },
   "outputs": [
    {
     "name": "stdout",
     "output_type": "stream",
     "text": [
      "  0.03s 3110 results\n"
     ]
    }
   ],
   "source": [
    "query = '''\n",
    "line terminal#\n",
    "'''\n",
    "results = A.search(query)"
   ]
  },
  {
   "cell_type": "markdown",
   "metadata": {},
   "source": [
    "## Level 1\n",
    "\n",
    "If we do `casesByLevel(1, terminal=False)` we get all cases (not lines) that are the first subdivision of a line.\n",
    "\n",
    "If we do `casesByLevel(1)`, we get a subset of these cases, namely the ones that are not themselves subdivided."
   ]
  },
  {
   "cell_type": "code",
   "execution_count": 8,
   "metadata": {
    "ExecuteTime": {
     "end_time": "2018-05-09T17:50:14.536431Z",
     "start_time": "2018-05-09T17:50:14.489811Z"
    }
   },
   "outputs": [
    {
     "name": "stdout",
     "output_type": "stream",
     "text": [
      "test1Cases:  6559\n",
      "types of test1Cases: {'case'}\n",
      "test1CasesT:  5468\n",
      "Divided cases:  1091\n"
     ]
    }
   ],
   "source": [
    "test1Cases = set(A.casesByLevel(1, terminal=False))\n",
    "types1 = {F.otype.v(n) for n in test1Cases}\n",
    "\n",
    "print(f'test1Cases: {len(test1Cases):>5}')\n",
    "print(f'types of test1Cases: {types1}')\n",
    "\n",
    "test1CasesT = set(A.casesByLevel(1))\n",
    "print(f'test1CasesT: {len(test1CasesT):>5}')\n",
    "print(f'Divided cases: {len(test1Cases) - len(test1CasesT):>5}')"
   ]
  },
  {
   "cell_type": "markdown",
   "metadata": {},
   "source": [
    "Or, by query:\n",
    "\n",
    "* Top-level cases"
   ]
  },
  {
   "cell_type": "code",
   "execution_count": 9,
   "metadata": {
    "ExecuteTime": {
     "end_time": "2018-05-09T17:50:18.634620Z",
     "start_time": "2018-05-09T17:50:18.592599Z"
    }
   },
   "outputs": [
    {
     "name": "stdout",
     "output_type": "stream",
     "text": [
      "  0.02s 6559 results\n"
     ]
    }
   ],
   "source": [
    "query = '''\n",
    "case depth=1\n",
    "'''\n",
    "results = A.search(query)"
   ]
  },
  {
   "cell_type": "markdown",
   "metadata": {},
   "source": [
    "* Undivided top-level cases"
   ]
  },
  {
   "cell_type": "code",
   "execution_count": 10,
   "metadata": {
    "ExecuteTime": {
     "end_time": "2018-05-09T17:50:20.516445Z",
     "start_time": "2018-05-09T17:50:20.471585Z"
    }
   },
   "outputs": [
    {
     "name": "stdout",
     "output_type": "stream",
     "text": [
      "  0.02s 5468 results\n"
     ]
    }
   ],
   "source": [
    "query = '''\n",
    "case depth=1 terminal\n",
    "'''\n",
    "results = A.search(query)"
   ]
  },
  {
   "cell_type": "markdown",
   "metadata": {},
   "source": [
    "* Divided top-level cases"
   ]
  },
  {
   "cell_type": "code",
   "execution_count": 11,
   "metadata": {
    "ExecuteTime": {
     "end_time": "2018-05-09T17:50:22.744904Z",
     "start_time": "2018-05-09T17:50:22.694624Z"
    }
   },
   "outputs": [
    {
     "name": "stdout",
     "output_type": "stream",
     "text": [
      "  0.02s 1091 results\n"
     ]
    }
   ],
   "source": [
    "query = '''\n",
    "case depth=1 terminal#\n",
    "'''\n",
    "results = A.search(query)"
   ]
  },
  {
   "cell_type": "markdown",
   "metadata": {},
   "source": [
    "## Example tablet\n",
    "Here we show by means of an example tablet the difference between `terminal=False` and \n",
    "`terminal=True` when calling `A.casesByLevel`\n",
    "\n",
    "We'll use an example tablet `P471695`."
   ]
  },
  {
   "cell_type": "code",
   "execution_count": 12,
   "metadata": {
    "ExecuteTime": {
     "end_time": "2018-05-09T17:50:25.101466Z",
     "start_time": "2018-05-09T17:50:25.082362Z"
    },
    "scrolled": false
   },
   "outputs": [
    {
     "data": {
      "text/html": [
       "\n",
       "<div class=\"contnr tablet\" style=\"background-color: None;\">\n",
       "    \n",
       "    <div class=\"lbl tablet\">\n",
       "        <a href=\"https://cdli.ucla.edu/search/search_results.php?SearchMode=Text&ObjectID=P471695\" title=\"to CDLI main page for this tablet\" sec=\"P471695\">tablet P471695  <span class=\"name\">Anonymous 471695</span> <span class=\"period\">uruk-iii</span></a>\n",
       "        \n",
       "    </div>\n",
       "\n",
       "    <div class=\"meta\">\n",
       "        \n",
       "        <div class=\"comments\">\n",
       "<div class=\"contnr comment\" style=\"background-color: None;\">\n",
       "    \n",
       "    <div class=\"lbl comment\">\n",
       "        meta\n",
       "        \n",
       "    </div>\n",
       "\n",
       "    <div class=\"meta\">\n",
       "        <div class=\"features\"> <span class=\"text\">atf: lang qpc</span></div>\n",
       "        \n",
       "    </div>\n",
       "\n",
       "</div>\n",
       "</div>\n",
       "    </div>\n",
       "\n",
       "\n",
       "    <div class=\"children tablet\">\n",
       "\n",
       "\n",
       "<div class=\"contnr face\" style=\"background-color: None;\">\n",
       "    \n",
       "    <div class=\"lbl face\">\n",
       "        obverse\n",
       "        \n",
       "    </div>\n",
       "\n",
       "    <div class=\"meta\">\n",
       "        <div class=\"features\"></div>\n",
       "        \n",
       "    </div>\n",
       "\n",
       "\n",
       "    <div class=\"children face\">\n",
       "\n",
       "\n",
       "<div class=\"contnr column\" style=\"background-color: None;\">\n",
       "    \n",
       "    <div class=\"lbl column\">\n",
       "        1\n",
       "        \n",
       "    </div>\n",
       "\n",
       "    <div class=\"meta\">\n",
       "        \n",
       "        \n",
       "    </div>\n",
       "\n",
       "\n",
       "    <div class=\"children column\">\n",
       "\n",
       "\n",
       "<div class=\"contnr line\" style=\"background-color: None;\">\n",
       "    \n",
       "    <div class=\"lbl line\">\n",
       "        1\n",
       "        \n",
       "    </div>\n",
       "\n",
       "    <div class=\"meta\">\n",
       "        \n",
       "        \n",
       "    </div>\n",
       "\n",
       "\n",
       "    <div class=\"children line\">\n",
       "\n",
       "\n",
       "<div class=\"contnr trminal\" style=\"background-color: None;\">\n",
       "    \n",
       "    <div class=\"lbl trminal\">\n",
       "        1a\n",
       "        \n",
       "    </div>\n",
       "\n",
       "    <div class=\"meta\">\n",
       "        <div class=\"features\"></div>\n",
       "        \n",
       "    </div>\n",
       "\n",
       "\n",
       "    <div class=\"children trminalv\">\n",
       "\n",
       "\n",
       "<div class=\"contnr sign\" style=\"background-color: None;\">\n",
       "    \n",
       "    <div class=\"meta\">\n",
       "         <span class=\"srcLn\">3(N01)</span><div class=\"features\"></div>\n",
       "        \n",
       "    </div>\n",
       "\n",
       "<div><a target=\"_blank\" href=\"https://cdli.ucla.edu/tools/SignLists/protocuneiform/archsigns/3(N01).jpg\" title=\"to higher resolution lineart on CDLI\"><img src=\"cdli-imagery/lineart-3(n01).jpg\" style=\"display: inline;max-width: 2em; max-height: 4em;\"  /></a></div>\n",
       "\n",
       "</div>\n",
       "\n",
       "\n",
       "<div class=\"contnr sign\" style=\"background-color: None;\">\n",
       "    \n",
       "    <div class=\"meta\">\n",
       "         <span class=\"srcLn\">APIN~a</span><div class=\"features\"></div>\n",
       "        \n",
       "    </div>\n",
       "\n",
       "<div><a target=\"_blank\" href=\"https://cdli.ucla.edu/tools/SignLists/protocuneiform/archsigns/APIN~a.jpg\" title=\"to higher resolution lineart on CDLI\"><img src=\"cdli-imagery/lineart-apin-a.jpg\" style=\"display: inline;max-width: 2em; max-height: 4em;\"  /></a></div>\n",
       "\n",
       "</div>\n",
       "\n",
       "\n",
       "<div class=\"contnr sign\" style=\"background-color: None;\">\n",
       "    \n",
       "    <div class=\"meta\">\n",
       "         <span class=\"srcLn\">3(N57)</span><div class=\"features\"></div>\n",
       "        \n",
       "    </div>\n",
       "\n",
       "<div><a target=\"_blank\" href=\"https://cdli.ucla.edu/tools/SignLists/protocuneiform/archsigns/3(N57).jpg\" title=\"to higher resolution lineart on CDLI\"><img src=\"cdli-imagery/lineart-3(n57).jpg\" style=\"display: inline;max-width: 2em; max-height: 4em;\"  /></a></div>\n",
       "\n",
       "</div>\n",
       "\n",
       "\n",
       "<div class=\"contnr sign\" style=\"background-color: None;\">\n",
       "    \n",
       "    <div class=\"meta\">\n",
       "         <span class=\"srcLn\">UR4~a</span><div class=\"features\"></div>\n",
       "        \n",
       "    </div>\n",
       "\n",
       "<div><a target=\"_blank\" href=\"https://cdli.ucla.edu/tools/SignLists/protocuneiform/archsigns/UR4~a.jpg\" title=\"to higher resolution lineart on CDLI\"><img src=\"cdli-imagery/lineart-ur4-a.jpg\" style=\"display: inline;max-width: 2em; max-height: 4em;\"  /></a></div>\n",
       "\n",
       "</div>\n",
       "\n",
       "\n",
       "    </div>\n",
       "\n",
       "\n",
       "</div>\n",
       "\n",
       "\n",
       "<div class=\"contnr case\" style=\"background-color: None;\">\n",
       "    \n",
       "    <div class=\"lbl case\">\n",
       "        1b\n",
       "        \n",
       "    </div>\n",
       "\n",
       "    <div class=\"meta\">\n",
       "        \n",
       "        \n",
       "    </div>\n",
       "\n",
       "\n",
       "    <div class=\"children casev\">\n",
       "\n",
       "\n",
       "<div class=\"contnr trminal\" style=\"background-color: None;\">\n",
       "    \n",
       "    <div class=\"lbl trminal\">\n",
       "        1b1\n",
       "        \n",
       "    </div>\n",
       "\n",
       "    <div class=\"meta\">\n",
       "        <div class=\"features\"></div>\n",
       "        \n",
       "    </div>\n",
       "\n",
       "\n",
       "    <div class=\"children trminalh\">\n",
       "\n",
       "\n",
       "    <div class=\"lbl clusterB\">\n",
       "        =\n",
       "        \n",
       "    </div>\n",
       "\n",
       "\n",
       "<div class=\"contnr sign\" style=\"background-color: None;\">\n",
       "    \n",
       "    <div class=\"meta\">\n",
       "         <span class=\"srcLn\">EN~a</span><div class=\"features\"></div>\n",
       "        \n",
       "    </div>\n",
       "\n",
       "<div><a target=\"_blank\" href=\"https://cdli.ucla.edu/tools/SignLists/protocuneiform/archsigns/EN~a.jpg\" title=\"to higher resolution lineart on CDLI\"><img src=\"cdli-imagery/lineart-en-a.jpg\" style=\"display: inline;max-width: 2em; max-height: 4em;\"  /></a></div>\n",
       "\n",
       "</div>\n",
       "\n",
       "\n",
       "<div class=\"contnr sign\" style=\"background-color: None;\">\n",
       "    \n",
       "    <div class=\"meta\">\n",
       "         <span class=\"srcLn\">DU</span><div class=\"features\"></div>\n",
       "        \n",
       "    </div>\n",
       "\n",
       "<div><a target=\"_blank\" href=\"https://cdli.ucla.edu/tools/SignLists/protocuneiform/archsigns/DU.jpg\" title=\"to higher resolution lineart on CDLI\"><img src=\"cdli-imagery/lineart-du.jpg\" style=\"display: inline;max-width: 2em; max-height: 4em;\"  /></a></div>\n",
       "\n",
       "</div>\n",
       "\n",
       "\n",
       "<div class=\"contnr sign\" style=\"background-color: None;\">\n",
       "    \n",
       "    <div class=\"meta\">\n",
       "         <span class=\"srcLn\">ZATU759</span><div class=\"features\"></div>\n",
       "        \n",
       "    </div>\n",
       "\n",
       "<div><a target=\"_blank\" href=\"https://cdli.ucla.edu/tools/SignLists/protocuneiform/archsigns/ZATU759.jpg\" title=\"to higher resolution lineart on CDLI\"><img src=\"cdli-imagery/lineart-zatu759.jpg\" style=\"display: inline;max-width: 2em; max-height: 4em;\"  /></a></div>\n",
       "\n",
       "</div>\n",
       "\n",
       "\n",
       "    <div class=\"lbl clusterE\" style=\"background-color: None;\">\n",
       "        =\n",
       "        \n",
       "    </div>\n",
       "\n",
       "\n",
       "    </div>\n",
       "\n",
       "\n",
       "</div>\n",
       "\n",
       "\n",
       "<div class=\"contnr trminal\" style=\"background-color: None;\">\n",
       "    \n",
       "    <div class=\"lbl trminal\">\n",
       "        1b2\n",
       "        \n",
       "    </div>\n",
       "\n",
       "    <div class=\"meta\">\n",
       "        <div class=\"features\"></div>\n",
       "        \n",
       "    </div>\n",
       "\n",
       "\n",
       "    <div class=\"children trminalh\">\n",
       "\n",
       "\n",
       "    <div class=\"lbl clusterB\">\n",
       "        =\n",
       "        \n",
       "    </div>\n",
       "\n",
       "\n",
       "<div class=\"contnr sign\" style=\"background-color: None;\">\n",
       "    \n",
       "    <div class=\"meta\">\n",
       "         <span class=\"srcLn\">BAN~b</span><div class=\"features\"></div>\n",
       "        \n",
       "    </div>\n",
       "\n",
       "<div><a target=\"_blank\" href=\"https://cdli.ucla.edu/tools/SignLists/protocuneiform/archsigns/BAN~b.jpg\" title=\"to higher resolution lineart on CDLI\"><img src=\"cdli-imagery/lineart-ban-b.jpg\" style=\"display: inline;max-width: 2em; max-height: 4em;\"  /></a></div>\n",
       "\n",
       "</div>\n",
       "\n",
       "\n",
       "<div class=\"contnr sign\" style=\"background-color: None;\">\n",
       "    \n",
       "    <div class=\"meta\">\n",
       "         <span class=\"srcLn\">KASZ~c</span><div class=\"features\"></div>\n",
       "        \n",
       "    </div>\n",
       "\n",
       "<div><a target=\"_blank\" href=\"https://cdli.ucla.edu/tools/SignLists/protocuneiform/archsigns/KASZ~c.jpg\" title=\"to higher resolution lineart on CDLI\"><img src=\"cdli-imagery/lineart-kasz-c.jpg\" style=\"display: inline;max-width: 2em; max-height: 4em;\"  /></a></div>\n",
       "\n",
       "</div>\n",
       "\n",
       "\n",
       "    <div class=\"lbl clusterE\" style=\"background-color: None;\">\n",
       "        =\n",
       "        \n",
       "    </div>\n",
       "\n",
       "\n",
       "    </div>\n",
       "\n",
       "\n",
       "</div>\n",
       "\n",
       "\n",
       "<div class=\"contnr trminal\" style=\"background-color: None;\">\n",
       "    \n",
       "    <div class=\"lbl trminal\">\n",
       "        1b3\n",
       "        \n",
       "    </div>\n",
       "\n",
       "    <div class=\"meta\">\n",
       "        <div class=\"features\"></div>\n",
       "        \n",
       "    </div>\n",
       "\n",
       "\n",
       "    <div class=\"children trminalh\">\n",
       "\n",
       "\n",
       "    <div class=\"lbl clusterB\">\n",
       "        =\n",
       "        \n",
       "    </div>\n",
       "\n",
       "\n",
       "<div class=\"contnr sign\" style=\"background-color: None;\">\n",
       "    \n",
       "    <div class=\"meta\">\n",
       "         <span class=\"srcLn\">KI@n</span><div class=\"features\"></div>\n",
       "        \n",
       "    </div>\n",
       "\n",
       "<div><a target=\"_blank\" href=\"https://cdli.ucla.edu/tools/SignLists/protocuneiform/archsigns/KI@n.jpg\" title=\"to higher resolution lineart on CDLI\"><img src=\"cdli-imagery/lineart-ki(a)n.jpg\" style=\"display: inline;max-width: 2em; max-height: 4em;\"  /></a></div>\n",
       "\n",
       "</div>\n",
       "\n",
       "\n",
       "<div class=\"contnr sign\" style=\"background-color: None;\">\n",
       "    \n",
       "    <div class=\"meta\">\n",
       "         <span class=\"srcLn\">SAG</span><div class=\"features\"></div>\n",
       "        \n",
       "    </div>\n",
       "\n",
       "<div><a target=\"_blank\" href=\"https://cdli.ucla.edu/tools/SignLists/protocuneiform/archsigns/SAG.jpg\" title=\"to higher resolution lineart on CDLI\"><img src=\"cdli-imagery/lineart-sag.jpg\" style=\"display: inline;max-width: 2em; max-height: 4em;\"  /></a></div>\n",
       "\n",
       "</div>\n",
       "\n",
       "\n",
       "    <div class=\"lbl clusterE\" style=\"background-color: None;\">\n",
       "        =\n",
       "        \n",
       "    </div>\n",
       "\n",
       "\n",
       "    </div>\n",
       "\n",
       "\n",
       "</div>\n",
       "\n",
       "\n",
       "    </div>\n",
       "\n",
       "\n",
       "</div>\n",
       "\n",
       "\n",
       "    </div>\n",
       "\n",
       "\n",
       "</div>\n",
       "\n",
       "\n",
       "<div class=\"contnr line\" style=\"background-color: None;\">\n",
       "    \n",
       "    <div class=\"lbl line\">\n",
       "        2\n",
       "        \n",
       "    </div>\n",
       "\n",
       "    <div class=\"meta\">\n",
       "        \n",
       "        \n",
       "    </div>\n",
       "\n",
       "\n",
       "    <div class=\"children line\">\n",
       "\n",
       "\n",
       "<div class=\"contnr trminal\" style=\"background-color: None;\">\n",
       "    \n",
       "    <div class=\"lbl trminal\">\n",
       "        2a\n",
       "        \n",
       "    </div>\n",
       "\n",
       "    <div class=\"meta\">\n",
       "        <div class=\"features\"></div>\n",
       "        \n",
       "    </div>\n",
       "\n",
       "\n",
       "    <div class=\"children trminalv\">\n",
       "\n",
       "\n",
       "<div class=\"contnr sign\" style=\"background-color: None;\">\n",
       "    \n",
       "    <div class=\"meta\">\n",
       "         <span class=\"srcLn\">1(N14)</span><div class=\"features\"></div>\n",
       "        \n",
       "    </div>\n",
       "\n",
       "<div><a target=\"_blank\" href=\"https://cdli.ucla.edu/tools/SignLists/protocuneiform/archsigns/1(N14).jpg\" title=\"to higher resolution lineart on CDLI\"><img src=\"cdli-imagery/lineart-1(n14).jpg\" style=\"display: inline;max-width: 2em; max-height: 4em;\"  /></a></div>\n",
       "\n",
       "</div>\n",
       "\n",
       "\n",
       "<div class=\"contnr sign\" style=\"background-color: None;\">\n",
       "    \n",
       "    <div class=\"meta\">\n",
       "         <span class=\"srcLn\">2(N01)</span><div class=\"features\"></div>\n",
       "        \n",
       "    </div>\n",
       "\n",
       "<div><a target=\"_blank\" href=\"https://cdli.ucla.edu/tools/SignLists/protocuneiform/archsigns/2(N01).jpg\" title=\"to higher resolution lineart on CDLI\"><img src=\"cdli-imagery/lineart-2(n01).jpg\" style=\"display: inline;max-width: 2em; max-height: 4em;\"  /></a></div>\n",
       "\n",
       "</div>\n",
       "\n",
       "\n",
       "    <div class=\"lbl clusterB\">\n",
       "        ?\n",
       "        \n",
       "    </div>\n",
       "\n",
       "\n",
       "<div class=\"contnr sign\" style=\"background-color: None;\">\n",
       "    \n",
       "    <div class=\"meta\">\n",
       "         <span class=\"srcLn\">...</span><div class=\"features\"></div>\n",
       "        \n",
       "    </div>\n",
       "\n",
       "\n",
       "</div>\n",
       "\n",
       "\n",
       "    <div class=\"lbl clusterE\" style=\"background-color: None;\">\n",
       "        ?\n",
       "        \n",
       "    </div>\n",
       "\n",
       "\n",
       "    </div>\n",
       "\n",
       "\n",
       "</div>\n",
       "\n",
       "\n",
       "<div class=\"contnr case\" style=\"background-color: None;\">\n",
       "    \n",
       "    <div class=\"lbl case\">\n",
       "        2b\n",
       "        \n",
       "    </div>\n",
       "\n",
       "    <div class=\"meta\">\n",
       "        \n",
       "        \n",
       "    </div>\n",
       "\n",
       "\n",
       "    <div class=\"children casev\">\n",
       "\n",
       "\n",
       "<div class=\"contnr trminal\" style=\"background-color: None;\">\n",
       "    \n",
       "    <div class=\"lbl trminal\">\n",
       "        2b1\n",
       "        \n",
       "    </div>\n",
       "\n",
       "    <div class=\"meta\">\n",
       "        <div class=\"features\"></div>\n",
       "        \n",
       "    </div>\n",
       "\n",
       "\n",
       "    <div class=\"children trminalh\">\n",
       "\n",
       "\n",
       "    <div class=\"lbl clusterB\">\n",
       "        =\n",
       "        \n",
       "    </div>\n",
       "\n",
       "\n",
       "<div class=\"contnr sign\" style=\"background-color: None;\">\n",
       "    \n",
       "    <div class=\"meta\">\n",
       "         <span class=\"srcLn\">3(N57)</span><div class=\"features\"></div>\n",
       "        \n",
       "    </div>\n",
       "\n",
       "<div><a target=\"_blank\" href=\"https://cdli.ucla.edu/tools/SignLists/protocuneiform/archsigns/3(N57).jpg\" title=\"to higher resolution lineart on CDLI\"><img src=\"cdli-imagery/lineart-3(n57).jpg\" style=\"display: inline;max-width: 2em; max-height: 4em;\"  /></a></div>\n",
       "\n",
       "</div>\n",
       "\n",
       "\n",
       "<div class=\"contnr sign\" style=\"background-color: None;\">\n",
       "    \n",
       "    <div class=\"meta\">\n",
       "         <span class=\"srcLn\">PAP~a</span><div class=\"features\"></div>\n",
       "        \n",
       "    </div>\n",
       "\n",
       "<div><a target=\"_blank\" href=\"https://cdli.ucla.edu/tools/SignLists/protocuneiform/archsigns/PAP~a.jpg\" title=\"to higher resolution lineart on CDLI\"><img src=\"cdli-imagery/lineart-pap-a.jpg\" style=\"display: inline;max-width: 2em; max-height: 4em;\"  /></a></div>\n",
       "\n",
       "</div>\n",
       "\n",
       "\n",
       "    <div class=\"lbl clusterE\" style=\"background-color: None;\">\n",
       "        =\n",
       "        \n",
       "    </div>\n",
       "\n",
       "\n",
       "    </div>\n",
       "\n",
       "\n",
       "</div>\n",
       "\n",
       "\n",
       "<div class=\"contnr trminal\" style=\"background-color: None;\">\n",
       "    \n",
       "    <div class=\"lbl trminal\">\n",
       "        2b2\n",
       "        \n",
       "    </div>\n",
       "\n",
       "    <div class=\"meta\">\n",
       "        <div class=\"features\"></div>\n",
       "        <div class=\"comments\">\n",
       "<div class=\"contnr comment\" style=\"background-color: None;\">\n",
       "    \n",
       "    <div class=\"lbl comment\">\n",
       "        ruling\n",
       "        \n",
       "    </div>\n",
       "\n",
       "    <div class=\"meta\">\n",
       "        <div class=\"features\"> <span class=\"text\">n lines broken</span></div>\n",
       "        \n",
       "    </div>\n",
       "\n",
       "</div>\n",
       "</div>\n",
       "    </div>\n",
       "\n",
       "\n",
       "    <div class=\"children trminalh\">\n",
       "\n",
       "\n",
       "    <div class=\"lbl clusterB\">\n",
       "        =\n",
       "        \n",
       "    </div>\n",
       "\n",
       "\n",
       "<div class=\"contnr sign\" style=\"background-color: None;\">\n",
       "    \n",
       "    <div class=\"meta\">\n",
       "         <span class=\"srcLn\">SZU</span><div class=\"features\"></div>\n",
       "        \n",
       "    </div>\n",
       "\n",
       "<div><a target=\"_blank\" href=\"https://cdli.ucla.edu/tools/SignLists/protocuneiform/archsigns/SZU.jpg\" title=\"to higher resolution lineart on CDLI\"><img src=\"cdli-imagery/lineart-szu.jpg\" style=\"display: inline;max-width: 2em; max-height: 4em;\"  /></a></div>\n",
       "\n",
       "</div>\n",
       "\n",
       "\n",
       "<div class=\"contnr sign\" style=\"background-color: None;\">\n",
       "    \n",
       "    <div class=\"meta\">\n",
       "         <span class=\"srcLn\">KI</span><div class=\"features\"></div>\n",
       "        \n",
       "    </div>\n",
       "\n",
       "<div><a target=\"_blank\" href=\"https://cdli.ucla.edu/tools/SignLists/protocuneiform/archsigns/KI.jpg\" title=\"to higher resolution lineart on CDLI\"><img src=\"cdli-imagery/lineart-ki.jpg\" style=\"display: inline;max-width: 2em; max-height: 4em;\"  /></a></div>\n",
       "\n",
       "</div>\n",
       "\n",
       "\n",
       "<div class=\"contnr sign\" style=\"background-color: None;\">\n",
       "    \n",
       "    <div class=\"meta\">\n",
       "         <span class=\"srcLn\">X</span><div class=\"features\"></div>\n",
       "        \n",
       "    </div>\n",
       "\n",
       "\n",
       "</div>\n",
       "\n",
       "\n",
       "    <div class=\"lbl clusterE\" style=\"background-color: None;\">\n",
       "        =\n",
       "        \n",
       "    </div>\n",
       "\n",
       "\n",
       "    </div>\n",
       "\n",
       "\n",
       "</div>\n",
       "\n",
       "\n",
       "<div class=\"contnr trminal\" style=\"background-color: None;\">\n",
       "    \n",
       "    <div class=\"lbl trminal\">\n",
       "        2b3'\n",
       "        \n",
       "    </div>\n",
       "\n",
       "    <div class=\"meta\">\n",
       "        <div class=\"features\"></div>\n",
       "        \n",
       "    </div>\n",
       "\n",
       "\n",
       "    <div class=\"children trminalh\">\n",
       "\n",
       "\n",
       "    <div class=\"lbl clusterB\">\n",
       "        =\n",
       "        \n",
       "    </div>\n",
       "\n",
       "\n",
       "<div class=\"contnr sign\" style=\"background-color: None;\">\n",
       "    \n",
       "    <div class=\"meta\">\n",
       "         <span class=\"srcLn\">EN~a</span><div class=\"features\"></div>\n",
       "        \n",
       "    </div>\n",
       "\n",
       "<div><a target=\"_blank\" href=\"https://cdli.ucla.edu/tools/SignLists/protocuneiform/archsigns/EN~a.jpg\" title=\"to higher resolution lineart on CDLI\"><img src=\"cdli-imagery/lineart-en-a.jpg\" style=\"display: inline;max-width: 2em; max-height: 4em;\"  /></a></div>\n",
       "\n",
       "</div>\n",
       "\n",
       "\n",
       "<div class=\"contnr sign\" style=\"background-color: None;\">\n",
       "    \n",
       "    <div class=\"meta\">\n",
       "         <span class=\"srcLn\">AN</span><div class=\"features\"></div>\n",
       "        \n",
       "    </div>\n",
       "\n",
       "<div><a target=\"_blank\" href=\"https://cdli.ucla.edu/tools/SignLists/protocuneiform/archsigns/AN.jpg\" title=\"to higher resolution lineart on CDLI\"><img src=\"cdli-imagery/lineart-an.jpg\" style=\"display: inline;max-width: 2em; max-height: 4em;\"  /></a></div>\n",
       "\n",
       "</div>\n",
       "\n",
       "\n",
       "<div class=\"contnr sign\" style=\"background-color: None;\">\n",
       "    \n",
       "    <div class=\"meta\">\n",
       "         <span class=\"srcLn\">EZINU~d</span><div class=\"features\"></div>\n",
       "        \n",
       "    </div>\n",
       "\n",
       "<div><a target=\"_blank\" href=\"https://cdli.ucla.edu/tools/SignLists/protocuneiform/archsigns/EZINU~d.jpg\" title=\"to higher resolution lineart on CDLI\"><img src=\"cdli-imagery/lineart-ezinu-d.jpg\" style=\"display: inline;max-width: 2em; max-height: 4em;\"  /></a></div>\n",
       "\n",
       "</div>\n",
       "\n",
       "\n",
       "    <div class=\"lbl clusterE\" style=\"background-color: None;\">\n",
       "        =\n",
       "        \n",
       "    </div>\n",
       "\n",
       "\n",
       "    </div>\n",
       "\n",
       "\n",
       "</div>\n",
       "\n",
       "\n",
       "<div class=\"contnr trminal\" style=\"background-color: None;\">\n",
       "    \n",
       "    <div class=\"lbl trminal\">\n",
       "        2b4'\n",
       "        \n",
       "    </div>\n",
       "\n",
       "    <div class=\"meta\">\n",
       "        <div class=\"features\"></div>\n",
       "        <div class=\"comments\">\n",
       "<div class=\"contnr comment\" style=\"background-color: None;\">\n",
       "    \n",
       "    <div class=\"lbl comment\">\n",
       "        ruling\n",
       "        \n",
       "    </div>\n",
       "\n",
       "    <div class=\"meta\">\n",
       "        <div class=\"features\"> <span class=\"text\">rest broken</span></div>\n",
       "        \n",
       "    </div>\n",
       "\n",
       "</div>\n",
       "\n",
       "<div class=\"contnr comment\" style=\"background-color: None;\">\n",
       "    \n",
       "    <div class=\"lbl comment\">\n",
       "        ruling\n",
       "        \n",
       "    </div>\n",
       "\n",
       "    <div class=\"meta\">\n",
       "        <div class=\"features\"> <span class=\"text\">(for a total of 12 sub-cases with PNN)</span></div>\n",
       "        \n",
       "    </div>\n",
       "\n",
       "</div>\n",
       "</div>\n",
       "    </div>\n",
       "\n",
       "\n",
       "    <div class=\"children trminalh\">\n",
       "\n",
       "\n",
       "    <div class=\"lbl clusterB\">\n",
       "        =\n",
       "        \n",
       "    </div>\n",
       "\n",
       "\n",
       "<div class=\"contnr sign\" style=\"background-color: None;\">\n",
       "    \n",
       "    <div class=\"meta\">\n",
       "         <span class=\"srcLn\">IDIGNA</span><div class=\"features\"></div>\n",
       "        \n",
       "    </div>\n",
       "\n",
       "<div><a target=\"_blank\" href=\"https://cdli.ucla.edu/tools/SignLists/protocuneiform/archsigns/IDIGNA.jpg\" title=\"to higher resolution lineart on CDLI\"><img src=\"cdli-imagery/lineart-idigna.jpg\" style=\"display: inline;max-width: 2em; max-height: 4em;\"  /></a></div>\n",
       "\n",
       "</div>\n",
       "\n",
       "\n",
       "    <div class=\"lbl clusterB\">\n",
       "        ?\n",
       "        \n",
       "    </div>\n",
       "\n",
       "\n",
       "<div class=\"contnr sign\" style=\"background-color: None;\">\n",
       "    \n",
       "    <div class=\"meta\">\n",
       "         <span class=\"srcLn\">...</span><div class=\"features\"></div>\n",
       "        \n",
       "    </div>\n",
       "\n",
       "\n",
       "</div>\n",
       "\n",
       "\n",
       "    <div class=\"lbl clusterE\" style=\"background-color: None;\">\n",
       "        ?\n",
       "        \n",
       "    </div>\n",
       "\n",
       "\n",
       "    <div class=\"lbl clusterE\" style=\"background-color: None;\">\n",
       "        =\n",
       "        \n",
       "    </div>\n",
       "\n",
       "\n",
       "    </div>\n",
       "\n",
       "\n",
       "</div>\n",
       "\n",
       "\n",
       "    </div>\n",
       "\n",
       "\n",
       "</div>\n",
       "\n",
       "\n",
       "    </div>\n",
       "\n",
       "\n",
       "</div>\n",
       "\n",
       "\n",
       "    </div>\n",
       "\n",
       "\n",
       "</div>\n",
       "\n",
       "\n",
       "<div class=\"contnr column\" style=\"background-color: None;\">\n",
       "    \n",
       "    <div class=\"lbl column\">\n",
       "        2\n",
       "        \n",
       "    </div>\n",
       "\n",
       "    <div class=\"meta\">\n",
       "        \n",
       "        \n",
       "    </div>\n",
       "\n",
       "\n",
       "    <div class=\"children column\">\n",
       "\n",
       "\n",
       "<div class=\"contnr line\" style=\"background-color: None;\">\n",
       "    \n",
       "    <div class=\"lbl line\">\n",
       "        1\n",
       "        \n",
       "    </div>\n",
       "\n",
       "    <div class=\"meta\">\n",
       "        \n",
       "        \n",
       "    </div>\n",
       "\n",
       "\n",
       "    <div class=\"children line\">\n",
       "\n",
       "\n",
       "<div class=\"contnr trminal\" style=\"background-color: None;\">\n",
       "    \n",
       "    <div class=\"lbl trminal\">\n",
       "        1a\n",
       "        \n",
       "    </div>\n",
       "\n",
       "    <div class=\"meta\">\n",
       "        <div class=\"features\"></div>\n",
       "        \n",
       "    </div>\n",
       "\n",
       "\n",
       "    <div class=\"children trminalv\">\n",
       "\n",
       "\n",
       "<div class=\"contnr sign\" style=\"background-color: None;\">\n",
       "    \n",
       "    <div class=\"meta\">\n",
       "         <span class=\"srcLn\">1(N01)</span><div class=\"features\"></div>\n",
       "        \n",
       "    </div>\n",
       "\n",
       "<div><a target=\"_blank\" href=\"https://cdli.ucla.edu/tools/SignLists/protocuneiform/archsigns/1(N01).jpg\" title=\"to higher resolution lineart on CDLI\"><img src=\"cdli-imagery/lineart-1(n01).jpg\" style=\"display: inline;max-width: 2em; max-height: 4em;\"  /></a></div>\n",
       "\n",
       "</div>\n",
       "\n",
       "\n",
       "<div class=\"contnr sign\" style=\"background-color: None;\">\n",
       "    \n",
       "    <div class=\"meta\">\n",
       "         <span class=\"srcLn\">ISZ~a#?</span><div class=\"features\"></div>\n",
       "        \n",
       "    </div>\n",
       "\n",
       "<div><a target=\"_blank\" href=\"https://cdli.ucla.edu/tools/SignLists/protocuneiform/archsigns/ISZ~a.jpg\" title=\"to higher resolution lineart on CDLI\"><img src=\"cdli-imagery/lineart-isz-a.jpg\" style=\"display: inline;max-width: 2em; max-height: 4em;\"  /></a></div>\n",
       "\n",
       "</div>\n",
       "\n",
       "\n",
       "    </div>\n",
       "\n",
       "\n",
       "</div>\n",
       "\n",
       "\n",
       "<div class=\"contnr case\" style=\"background-color: None;\">\n",
       "    \n",
       "    <div class=\"lbl case\">\n",
       "        1b\n",
       "        \n",
       "    </div>\n",
       "\n",
       "    <div class=\"meta\">\n",
       "        \n",
       "        \n",
       "    </div>\n",
       "\n",
       "\n",
       "    <div class=\"children casev\">\n",
       "\n",
       "\n",
       "<div class=\"contnr trminal\" style=\"background-color: None;\">\n",
       "    \n",
       "    <div class=\"lbl trminal\">\n",
       "        1b1\n",
       "        \n",
       "    </div>\n",
       "\n",
       "    <div class=\"meta\">\n",
       "        <div class=\"features\"></div>\n",
       "        <div class=\"comments\">\n",
       "<div class=\"contnr comment\" style=\"background-color: None;\">\n",
       "    \n",
       "    <div class=\"lbl comment\">\n",
       "        ruling\n",
       "        \n",
       "    </div>\n",
       "\n",
       "    <div class=\"meta\">\n",
       "        <div class=\"features\"> <span class=\"text\">blank space</span></div>\n",
       "        \n",
       "    </div>\n",
       "\n",
       "</div>\n",
       "\n",
       "<div class=\"contnr comment\" style=\"background-color: None;\">\n",
       "    \n",
       "    <div class=\"lbl comment\">\n",
       "        ruling\n",
       "        \n",
       "    </div>\n",
       "\n",
       "    <div class=\"meta\">\n",
       "        <div class=\"features\"> <span class=\"text\">rest broken</span></div>\n",
       "        \n",
       "    </div>\n",
       "\n",
       "</div>\n",
       "</div>\n",
       "    </div>\n",
       "\n",
       "\n",
       "    <div class=\"children trminalh\">\n",
       "\n",
       "\n",
       "    <div class=\"lbl clusterB\">\n",
       "        =\n",
       "        \n",
       "    </div>\n",
       "\n",
       "\n",
       "<div class=\"contnr sign\" style=\"background-color: None;\">\n",
       "    \n",
       "    <div class=\"meta\">\n",
       "         <span class=\"srcLn\">PAP~a</span><div class=\"features\"></div>\n",
       "        \n",
       "    </div>\n",
       "\n",
       "<div><a target=\"_blank\" href=\"https://cdli.ucla.edu/tools/SignLists/protocuneiform/archsigns/PAP~a.jpg\" title=\"to higher resolution lineart on CDLI\"><img src=\"cdli-imagery/lineart-pap-a.jpg\" style=\"display: inline;max-width: 2em; max-height: 4em;\"  /></a></div>\n",
       "\n",
       "</div>\n",
       "\n",
       "\n",
       "<div class=\"contnr sign\" style=\"background-color: None;\">\n",
       "    \n",
       "    <div class=\"meta\">\n",
       "         <span class=\"srcLn\">GIR3~c</span><div class=\"features\"></div>\n",
       "        \n",
       "    </div>\n",
       "\n",
       "<div><a target=\"_blank\" href=\"https://cdli.ucla.edu/tools/SignLists/protocuneiform/archsigns/GIR3~c.jpg\" title=\"to higher resolution lineart on CDLI\"><img src=\"cdli-imagery/lineart-gir3-c.jpg\" style=\"display: inline;max-width: 2em; max-height: 4em;\"  /></a></div>\n",
       "\n",
       "</div>\n",
       "\n",
       "\n",
       "    <div class=\"lbl clusterE\" style=\"background-color: None;\">\n",
       "        =\n",
       "        \n",
       "    </div>\n",
       "\n",
       "\n",
       "    </div>\n",
       "\n",
       "\n",
       "</div>\n",
       "\n",
       "\n",
       "    </div>\n",
       "\n",
       "\n",
       "</div>\n",
       "\n",
       "\n",
       "    </div>\n",
       "\n",
       "\n",
       "</div>\n",
       "\n",
       "\n",
       "    </div>\n",
       "\n",
       "\n",
       "</div>\n",
       "\n",
       "\n",
       "    </div>\n",
       "\n",
       "\n",
       "</div>\n",
       "\n",
       "\n",
       "<div class=\"contnr face\" style=\"background-color: None;\">\n",
       "    \n",
       "    <div class=\"lbl face\">\n",
       "        reverse\n",
       "        \n",
       "    </div>\n",
       "\n",
       "    <div class=\"meta\">\n",
       "        <div class=\"features\"></div>\n",
       "        <div class=\"comments\">\n",
       "<div class=\"contnr comment\" style=\"background-color: None;\">\n",
       "    \n",
       "    <div class=\"lbl comment\">\n",
       "        ruling\n",
       "        \n",
       "    </div>\n",
       "\n",
       "    <div class=\"meta\">\n",
       "        <div class=\"features\"> <span class=\"text\">beginning broken</span></div>\n",
       "        \n",
       "    </div>\n",
       "\n",
       "</div>\n",
       "</div>\n",
       "    </div>\n",
       "\n",
       "\n",
       "    <div class=\"children face\">\n",
       "\n",
       "\n",
       "<div class=\"contnr column\" style=\"background-color: None;\">\n",
       "    \n",
       "    <div class=\"lbl column\">\n",
       "        0\n",
       "        \n",
       "    </div>\n",
       "\n",
       "    <div class=\"meta\">\n",
       "        \n",
       "        \n",
       "    </div>\n",
       "\n",
       "\n",
       "    <div class=\"children column\">\n",
       "\n",
       "\n",
       "<div class=\"contnr trminal\" style=\"background-color: None;\">\n",
       "    \n",
       "    <div class=\"lbl trminal\">\n",
       "        1'\n",
       "        \n",
       "    </div>\n",
       "\n",
       "    <div class=\"meta\">\n",
       "        <div class=\"features\"></div>\n",
       "        \n",
       "    </div>\n",
       "\n",
       "\n",
       "    <div class=\"children trminal\">\n",
       "\n",
       "\n",
       "    <div class=\"lbl clusterB\">\n",
       "        ?\n",
       "        \n",
       "    </div>\n",
       "\n",
       "\n",
       "<div class=\"contnr sign\" style=\"background-color: None;\">\n",
       "    \n",
       "    <div class=\"meta\">\n",
       "         <span class=\"srcLn\">1(N14)</span><div class=\"features\"></div>\n",
       "        \n",
       "    </div>\n",
       "\n",
       "<div><a target=\"_blank\" href=\"https://cdli.ucla.edu/tools/SignLists/protocuneiform/archsigns/1(N14).jpg\" title=\"to higher resolution lineart on CDLI\"><img src=\"cdli-imagery/lineart-1(n14).jpg\" style=\"display: inline;max-width: 2em; max-height: 4em;\"  /></a></div>\n",
       "\n",
       "</div>\n",
       "\n",
       "\n",
       "    <div class=\"lbl clusterE\" style=\"background-color: None;\">\n",
       "        ?\n",
       "        \n",
       "    </div>\n",
       "\n",
       "\n",
       "<div class=\"contnr sign\" style=\"background-color: None;\">\n",
       "    \n",
       "    <div class=\"meta\">\n",
       "         <span class=\"srcLn\">6(N01)#</span><div class=\"features\"></div>\n",
       "        \n",
       "    </div>\n",
       "\n",
       "<div><a target=\"_blank\" href=\"https://cdli.ucla.edu/tools/SignLists/protocuneiform/archsigns/6(N01).jpg\" title=\"to higher resolution lineart on CDLI\"><img src=\"cdli-imagery/lineart-6(n01).jpg\" style=\"display: inline;max-width: 2em; max-height: 4em;\"  /></a></div>\n",
       "\n",
       "</div>\n",
       "\n",
       "\n",
       "    <div class=\"lbl clusterB\">\n",
       "        ?\n",
       "        \n",
       "    </div>\n",
       "\n",
       "\n",
       "<div class=\"contnr sign\" style=\"background-color: None;\">\n",
       "    \n",
       "    <div class=\"meta\">\n",
       "         <span class=\"srcLn\">...</span><div class=\"features\"></div>\n",
       "        \n",
       "    </div>\n",
       "\n",
       "\n",
       "</div>\n",
       "\n",
       "\n",
       "    <div class=\"lbl clusterE\" style=\"background-color: None;\">\n",
       "        ?\n",
       "        \n",
       "    </div>\n",
       "\n",
       "\n",
       "    </div>\n",
       "\n",
       "\n",
       "</div>\n",
       "\n",
       "\n",
       "    </div>\n",
       "\n",
       "\n",
       "</div>\n",
       "\n",
       "\n",
       "    </div>\n",
       "\n",
       "\n",
       "</div>\n",
       "\n",
       "\n",
       "    </div>\n",
       "\n",
       "\n",
       "</div>\n"
      ],
      "text/plain": [
       "<IPython.core.display.HTML object>"
      ]
     },
     "metadata": {},
     "output_type": "display_data"
    }
   ],
   "source": [
    "examplePnum = 'P471695'\n",
    "exampleTablet = T.nodeFromSection((examplePnum,))\n",
    "A.getSource(exampleTablet)\n",
    "A.pretty(exampleTablet)"
   ]
  },
  {
   "cell_type": "markdown",
   "metadata": {},
   "source": [
    "Above we have selected all cases of level 1 from the whole corpus, and constructed two sets:\n",
    "* terminal cases of level 1;\n",
    "* all cases of level 1.\n",
    "Now we take the intersection of these sets with the cases of the example tablet."
   ]
  },
  {
   "cell_type": "code",
   "execution_count": 13,
   "metadata": {
    "ExecuteTime": {
     "end_time": "2018-05-09T17:50:28.564887Z",
     "start_time": "2018-05-09T17:50:28.557253Z"
    }
   },
   "outputs": [],
   "source": [
    "exampleCases = (\n",
    "    set(L.d(exampleTablet, otype='case'))\n",
    "    |\n",
    "    set(L.d(exampleTablet, otype='line'))\n",
    ")\n",
    "example2 = test1Cases & exampleCases\n",
    "example2T = test1CasesT & exampleCases"
   ]
  },
  {
   "cell_type": "code",
   "execution_count": 14,
   "metadata": {
    "ExecuteTime": {
     "end_time": "2018-05-09T17:50:29.733836Z",
     "start_time": "2018-05-09T17:50:29.723812Z"
    }
   },
   "outputs": [
    {
     "name": "stdout",
     "output_type": "stream",
     "text": [
      "1.a. 3(N01) , APIN~a 3(N57) UR4~a \n",
      "------------------------------------------------\n",
      "1.b1. , (EN~a DU ZATU759)a \n",
      "1.b2. , (BAN~b KASZ~c)a \n",
      "1.b3. , (KI@n SAG)a \n",
      "------------------------------------------------\n",
      "2.a. 1(N14) 2(N01) , [...] \n",
      "------------------------------------------------\n",
      "2.b1. , (3(N57) PAP~a)a \n",
      "2.b2. , (SZU KI X)a \n",
      "$ n lines broken \n",
      "2.b3'. , (EN~a AN EZINU~d)a \n",
      "2.b4'. , (IDIGNA [...])a \n",
      "$ rest broken \n",
      "$ (for a total of 12 sub-cases with PNN) \n",
      "------------------------------------------------\n",
      "1.a. 1(N01) , ISZ~a#? \n",
      "------------------------------------------------\n",
      "1.b1. , (PAP~a GIR3~c)a \n",
      "$ blank space \n",
      "$ rest broken \n"
     ]
    }
   ],
   "source": [
    "print(f'\\n{\"-\" * 48}\\n'.join('\\n'.join(A.getSource(c)) for c in sorted(example2)))"
   ]
  },
  {
   "cell_type": "code",
   "execution_count": 15,
   "metadata": {
    "ExecuteTime": {
     "end_time": "2018-05-09T17:50:31.335542Z",
     "start_time": "2018-05-09T17:50:31.328295Z"
    }
   },
   "outputs": [
    {
     "name": "stdout",
     "output_type": "stream",
     "text": [
      "1.a. 3(N01) , APIN~a 3(N57) UR4~a \n",
      "------------------------------------------------\n",
      "2.a. 1(N14) 2(N01) , [...] \n",
      "------------------------------------------------\n",
      "1.a. 1(N01) , ISZ~a#? \n"
     ]
    }
   ],
   "source": [
    "print(f'\\n{\"-\" * 48}\\n'.join('\\n'.join(A.getSource(c)) for c in sorted(example2T)))"
   ]
  },
  {
   "cell_type": "markdown",
   "metadata": {},
   "source": [
    "We can also show it with `plain()`."
   ]
  },
  {
   "cell_type": "code",
   "execution_count": 16,
   "metadata": {
    "ExecuteTime": {
     "end_time": "2018-05-09T17:50:33.171554Z",
     "start_time": "2018-05-09T17:50:33.146893Z"
    },
    "scrolled": false
   },
   "outputs": [
    {
     "data": {
      "text/markdown": [
       "<a href=\"https://cdli.ucla.edu/search/search_results.php?SearchMode=Text&ObjectID=P471695\" title=\"to CDLI main page for this tablet\" sec=\"P471695\">case 1a</a>"
      ],
      "text/plain": [
       "<IPython.core.display.Markdown object>"
      ]
     },
     "metadata": {},
     "output_type": "display_data"
    },
    {
     "data": {
      "text/markdown": [
       "<a href=\"https://cdli.ucla.edu/search/search_results.php?SearchMode=Text&ObjectID=P471695\" title=\"to CDLI main page for this tablet\" sec=\"P471695\">case 1b</a>"
      ],
      "text/plain": [
       "<IPython.core.display.Markdown object>"
      ]
     },
     "metadata": {},
     "output_type": "display_data"
    },
    {
     "data": {
      "text/markdown": [
       "<a href=\"https://cdli.ucla.edu/search/search_results.php?SearchMode=Text&ObjectID=P471695\" title=\"to CDLI main page for this tablet\" sec=\"P471695\">case 2a</a>"
      ],
      "text/plain": [
       "<IPython.core.display.Markdown object>"
      ]
     },
     "metadata": {},
     "output_type": "display_data"
    },
    {
     "data": {
      "text/markdown": [
       "<a href=\"https://cdli.ucla.edu/search/search_results.php?SearchMode=Text&ObjectID=P471695\" title=\"to CDLI main page for this tablet\" sec=\"P471695\">case 2b</a>"
      ],
      "text/plain": [
       "<IPython.core.display.Markdown object>"
      ]
     },
     "metadata": {},
     "output_type": "display_data"
    },
    {
     "data": {
      "text/markdown": [
       "<a href=\"https://cdli.ucla.edu/search/search_results.php?SearchMode=Text&ObjectID=P471695\" title=\"to CDLI main page for this tablet\" sec=\"P471695\">case 1a</a>"
      ],
      "text/plain": [
       "<IPython.core.display.Markdown object>"
      ]
     },
     "metadata": {},
     "output_type": "display_data"
    },
    {
     "data": {
      "text/markdown": [
       "<a href=\"https://cdli.ucla.edu/search/search_results.php?SearchMode=Text&ObjectID=P471695\" title=\"to CDLI main page for this tablet\" sec=\"P471695\">case 1b</a>"
      ],
      "text/plain": [
       "<IPython.core.display.Markdown object>"
      ]
     },
     "metadata": {},
     "output_type": "display_data"
    }
   ],
   "source": [
    "for c in sorted(example2):\n",
    "    A.plain(c)"
   ]
  },
  {
   "cell_type": "code",
   "execution_count": 17,
   "metadata": {
    "ExecuteTime": {
     "end_time": "2018-05-09T17:50:35.495622Z",
     "start_time": "2018-05-09T17:50:35.479279Z"
    }
   },
   "outputs": [
    {
     "data": {
      "text/markdown": [
       "<a href=\"https://cdli.ucla.edu/search/search_results.php?SearchMode=Text&ObjectID=P471695\" title=\"to CDLI main page for this tablet\" sec=\"P471695\">case 1a</a>"
      ],
      "text/plain": [
       "<IPython.core.display.Markdown object>"
      ]
     },
     "metadata": {},
     "output_type": "display_data"
    },
    {
     "data": {
      "text/markdown": [
       "<a href=\"https://cdli.ucla.edu/search/search_results.php?SearchMode=Text&ObjectID=P471695\" title=\"to CDLI main page for this tablet\" sec=\"P471695\">case 2a</a>"
      ],
      "text/plain": [
       "<IPython.core.display.Markdown object>"
      ]
     },
     "metadata": {},
     "output_type": "display_data"
    },
    {
     "data": {
      "text/markdown": [
       "<a href=\"https://cdli.ucla.edu/search/search_results.php?SearchMode=Text&ObjectID=P471695\" title=\"to CDLI main page for this tablet\" sec=\"P471695\">case 1a</a>"
      ],
      "text/plain": [
       "<IPython.core.display.Markdown object>"
      ]
     },
     "metadata": {},
     "output_type": "display_data"
    }
   ],
   "source": [
    "for c in sorted(example2T):\n",
    "    A.plain(c)"
   ]
  },
  {
   "cell_type": "markdown",
   "metadata": {},
   "source": [
    "We can also show it with `pretty()`."
   ]
  },
  {
   "cell_type": "code",
   "execution_count": 18,
   "metadata": {
    "ExecuteTime": {
     "end_time": "2018-05-09T17:50:37.451755Z",
     "start_time": "2018-05-09T17:50:37.427299Z"
    },
    "scrolled": false
   },
   "outputs": [
    {
     "data": {
      "text/html": [
       "\n",
       "<div class=\"contnr trminal\" style=\"background-color: None;\">\n",
       "    \n",
       "    <div class=\"lbl trminal\">\n",
       "        <a href=\"https://cdli.ucla.edu/search/search_results.php?SearchMode=Text&ObjectID=P471695\" title=\"to CDLI main page for this tablet\" sec=\"P471695\">case 1a</a>\n",
       "        \n",
       "    </div>\n",
       "\n",
       "    <div class=\"meta\">\n",
       "        <div class=\"features\"></div>\n",
       "        \n",
       "    </div>\n",
       "\n",
       "\n",
       "    <div class=\"children trminalv\">\n",
       "\n",
       "\n",
       "<div class=\"contnr sign\" style=\"background-color: None;\">\n",
       "    \n",
       "    <div class=\"meta\">\n",
       "         <span class=\"srcLn\">3(N01)</span><div class=\"features\"></div>\n",
       "        \n",
       "    </div>\n",
       "\n",
       "\n",
       "</div>\n",
       "\n",
       "\n",
       "<div class=\"contnr sign\" style=\"background-color: None;\">\n",
       "    \n",
       "    <div class=\"meta\">\n",
       "         <span class=\"srcLn\">APIN~a</span><div class=\"features\"></div>\n",
       "        \n",
       "    </div>\n",
       "\n",
       "\n",
       "</div>\n",
       "\n",
       "\n",
       "<div class=\"contnr sign\" style=\"background-color: None;\">\n",
       "    \n",
       "    <div class=\"meta\">\n",
       "         <span class=\"srcLn\">3(N57)</span><div class=\"features\"></div>\n",
       "        \n",
       "    </div>\n",
       "\n",
       "\n",
       "</div>\n",
       "\n",
       "\n",
       "<div class=\"contnr sign\" style=\"background-color: None;\">\n",
       "    \n",
       "    <div class=\"meta\">\n",
       "         <span class=\"srcLn\">UR4~a</span><div class=\"features\"></div>\n",
       "        \n",
       "    </div>\n",
       "\n",
       "\n",
       "</div>\n",
       "\n",
       "\n",
       "    </div>\n",
       "\n",
       "\n",
       "</div>\n"
      ],
      "text/plain": [
       "<IPython.core.display.HTML object>"
      ]
     },
     "metadata": {},
     "output_type": "display_data"
    },
    {
     "data": {
      "text/html": [
       "\n",
       "<div class=\"contnr case\" style=\"background-color: None;\">\n",
       "    \n",
       "    <div class=\"lbl case\">\n",
       "        <a href=\"https://cdli.ucla.edu/search/search_results.php?SearchMode=Text&ObjectID=P471695\" title=\"to CDLI main page for this tablet\" sec=\"P471695\">case 1b</a>\n",
       "        \n",
       "    </div>\n",
       "\n",
       "    <div class=\"meta\">\n",
       "        \n",
       "        \n",
       "    </div>\n",
       "\n",
       "\n",
       "    <div class=\"children casev\">\n",
       "\n",
       "\n",
       "<div class=\"contnr trminal\" style=\"background-color: None;\">\n",
       "    \n",
       "    <div class=\"lbl trminal\">\n",
       "        1b1\n",
       "        \n",
       "    </div>\n",
       "\n",
       "    <div class=\"meta\">\n",
       "        <div class=\"features\"></div>\n",
       "        \n",
       "    </div>\n",
       "\n",
       "\n",
       "    <div class=\"children trminalh\">\n",
       "\n",
       "\n",
       "    <div class=\"lbl clusterB\">\n",
       "        =\n",
       "        \n",
       "    </div>\n",
       "\n",
       "\n",
       "<div class=\"contnr sign\" style=\"background-color: None;\">\n",
       "    \n",
       "    <div class=\"meta\">\n",
       "         <span class=\"srcLn\">EN~a</span><div class=\"features\"></div>\n",
       "        \n",
       "    </div>\n",
       "\n",
       "\n",
       "</div>\n",
       "\n",
       "\n",
       "<div class=\"contnr sign\" style=\"background-color: None;\">\n",
       "    \n",
       "    <div class=\"meta\">\n",
       "         <span class=\"srcLn\">DU</span><div class=\"features\"></div>\n",
       "        \n",
       "    </div>\n",
       "\n",
       "\n",
       "</div>\n",
       "\n",
       "\n",
       "<div class=\"contnr sign\" style=\"background-color: None;\">\n",
       "    \n",
       "    <div class=\"meta\">\n",
       "         <span class=\"srcLn\">ZATU759</span><div class=\"features\"></div>\n",
       "        \n",
       "    </div>\n",
       "\n",
       "\n",
       "</div>\n",
       "\n",
       "\n",
       "    <div class=\"lbl clusterE\" style=\"background-color: None;\">\n",
       "        =\n",
       "        \n",
       "    </div>\n",
       "\n",
       "\n",
       "    </div>\n",
       "\n",
       "\n",
       "</div>\n",
       "\n",
       "\n",
       "<div class=\"contnr trminal\" style=\"background-color: None;\">\n",
       "    \n",
       "    <div class=\"lbl trminal\">\n",
       "        1b2\n",
       "        \n",
       "    </div>\n",
       "\n",
       "    <div class=\"meta\">\n",
       "        <div class=\"features\"></div>\n",
       "        \n",
       "    </div>\n",
       "\n",
       "\n",
       "    <div class=\"children trminalh\">\n",
       "\n",
       "\n",
       "    <div class=\"lbl clusterB\">\n",
       "        =\n",
       "        \n",
       "    </div>\n",
       "\n",
       "\n",
       "<div class=\"contnr sign\" style=\"background-color: None;\">\n",
       "    \n",
       "    <div class=\"meta\">\n",
       "         <span class=\"srcLn\">BAN~b</span><div class=\"features\"></div>\n",
       "        \n",
       "    </div>\n",
       "\n",
       "\n",
       "</div>\n",
       "\n",
       "\n",
       "<div class=\"contnr sign\" style=\"background-color: None;\">\n",
       "    \n",
       "    <div class=\"meta\">\n",
       "         <span class=\"srcLn\">KASZ~c</span><div class=\"features\"></div>\n",
       "        \n",
       "    </div>\n",
       "\n",
       "\n",
       "</div>\n",
       "\n",
       "\n",
       "    <div class=\"lbl clusterE\" style=\"background-color: None;\">\n",
       "        =\n",
       "        \n",
       "    </div>\n",
       "\n",
       "\n",
       "    </div>\n",
       "\n",
       "\n",
       "</div>\n",
       "\n",
       "\n",
       "<div class=\"contnr trminal\" style=\"background-color: None;\">\n",
       "    \n",
       "    <div class=\"lbl trminal\">\n",
       "        1b3\n",
       "        \n",
       "    </div>\n",
       "\n",
       "    <div class=\"meta\">\n",
       "        <div class=\"features\"></div>\n",
       "        \n",
       "    </div>\n",
       "\n",
       "\n",
       "    <div class=\"children trminalh\">\n",
       "\n",
       "\n",
       "    <div class=\"lbl clusterB\">\n",
       "        =\n",
       "        \n",
       "    </div>\n",
       "\n",
       "\n",
       "<div class=\"contnr sign\" style=\"background-color: None;\">\n",
       "    \n",
       "    <div class=\"meta\">\n",
       "         <span class=\"srcLn\">KI@n</span><div class=\"features\"></div>\n",
       "        \n",
       "    </div>\n",
       "\n",
       "\n",
       "</div>\n",
       "\n",
       "\n",
       "<div class=\"contnr sign\" style=\"background-color: None;\">\n",
       "    \n",
       "    <div class=\"meta\">\n",
       "         <span class=\"srcLn\">SAG</span><div class=\"features\"></div>\n",
       "        \n",
       "    </div>\n",
       "\n",
       "\n",
       "</div>\n",
       "\n",
       "\n",
       "    <div class=\"lbl clusterE\" style=\"background-color: None;\">\n",
       "        =\n",
       "        \n",
       "    </div>\n",
       "\n",
       "\n",
       "    </div>\n",
       "\n",
       "\n",
       "</div>\n",
       "\n",
       "\n",
       "    </div>\n",
       "\n",
       "\n",
       "</div>\n"
      ],
      "text/plain": [
       "<IPython.core.display.HTML object>"
      ]
     },
     "metadata": {},
     "output_type": "display_data"
    },
    {
     "data": {
      "text/html": [
       "\n",
       "<div class=\"contnr trminal\" style=\"background-color: None;\">\n",
       "    \n",
       "    <div class=\"lbl trminal\">\n",
       "        <a href=\"https://cdli.ucla.edu/search/search_results.php?SearchMode=Text&ObjectID=P471695\" title=\"to CDLI main page for this tablet\" sec=\"P471695\">case 2a</a>\n",
       "        \n",
       "    </div>\n",
       "\n",
       "    <div class=\"meta\">\n",
       "        <div class=\"features\"></div>\n",
       "        \n",
       "    </div>\n",
       "\n",
       "\n",
       "    <div class=\"children trminalv\">\n",
       "\n",
       "\n",
       "<div class=\"contnr sign\" style=\"background-color: None;\">\n",
       "    \n",
       "    <div class=\"meta\">\n",
       "         <span class=\"srcLn\">1(N14)</span><div class=\"features\"></div>\n",
       "        \n",
       "    </div>\n",
       "\n",
       "\n",
       "</div>\n",
       "\n",
       "\n",
       "<div class=\"contnr sign\" style=\"background-color: None;\">\n",
       "    \n",
       "    <div class=\"meta\">\n",
       "         <span class=\"srcLn\">2(N01)</span><div class=\"features\"></div>\n",
       "        \n",
       "    </div>\n",
       "\n",
       "\n",
       "</div>\n",
       "\n",
       "\n",
       "    <div class=\"lbl clusterB\">\n",
       "        ?\n",
       "        \n",
       "    </div>\n",
       "\n",
       "\n",
       "<div class=\"contnr sign\" style=\"background-color: None;\">\n",
       "    \n",
       "    <div class=\"meta\">\n",
       "         <span class=\"srcLn\">...</span><div class=\"features\"></div>\n",
       "        \n",
       "    </div>\n",
       "\n",
       "\n",
       "</div>\n",
       "\n",
       "\n",
       "    <div class=\"lbl clusterE\" style=\"background-color: None;\">\n",
       "        ?\n",
       "        \n",
       "    </div>\n",
       "\n",
       "\n",
       "    </div>\n",
       "\n",
       "\n",
       "</div>\n"
      ],
      "text/plain": [
       "<IPython.core.display.HTML object>"
      ]
     },
     "metadata": {},
     "output_type": "display_data"
    },
    {
     "data": {
      "text/html": [
       "\n",
       "<div class=\"contnr case\" style=\"background-color: None;\">\n",
       "    \n",
       "    <div class=\"lbl case\">\n",
       "        <a href=\"https://cdli.ucla.edu/search/search_results.php?SearchMode=Text&ObjectID=P471695\" title=\"to CDLI main page for this tablet\" sec=\"P471695\">case 2b</a>\n",
       "        \n",
       "    </div>\n",
       "\n",
       "    <div class=\"meta\">\n",
       "        \n",
       "        \n",
       "    </div>\n",
       "\n",
       "\n",
       "    <div class=\"children casev\">\n",
       "\n",
       "\n",
       "<div class=\"contnr trminal\" style=\"background-color: None;\">\n",
       "    \n",
       "    <div class=\"lbl trminal\">\n",
       "        2b1\n",
       "        \n",
       "    </div>\n",
       "\n",
       "    <div class=\"meta\">\n",
       "        <div class=\"features\"></div>\n",
       "        \n",
       "    </div>\n",
       "\n",
       "\n",
       "    <div class=\"children trminalh\">\n",
       "\n",
       "\n",
       "    <div class=\"lbl clusterB\">\n",
       "        =\n",
       "        \n",
       "    </div>\n",
       "\n",
       "\n",
       "<div class=\"contnr sign\" style=\"background-color: None;\">\n",
       "    \n",
       "    <div class=\"meta\">\n",
       "         <span class=\"srcLn\">3(N57)</span><div class=\"features\"></div>\n",
       "        \n",
       "    </div>\n",
       "\n",
       "\n",
       "</div>\n",
       "\n",
       "\n",
       "<div class=\"contnr sign\" style=\"background-color: None;\">\n",
       "    \n",
       "    <div class=\"meta\">\n",
       "         <span class=\"srcLn\">PAP~a</span><div class=\"features\"></div>\n",
       "        \n",
       "    </div>\n",
       "\n",
       "\n",
       "</div>\n",
       "\n",
       "\n",
       "    <div class=\"lbl clusterE\" style=\"background-color: None;\">\n",
       "        =\n",
       "        \n",
       "    </div>\n",
       "\n",
       "\n",
       "    </div>\n",
       "\n",
       "\n",
       "</div>\n",
       "\n",
       "\n",
       "<div class=\"contnr trminal\" style=\"background-color: None;\">\n",
       "    \n",
       "    <div class=\"lbl trminal\">\n",
       "        2b2\n",
       "        \n",
       "    </div>\n",
       "\n",
       "    <div class=\"meta\">\n",
       "        <div class=\"features\"></div>\n",
       "        <div class=\"comments\">\n",
       "<div class=\"contnr comment\" style=\"background-color: None;\">\n",
       "    \n",
       "    <div class=\"lbl comment\">\n",
       "        ruling\n",
       "        \n",
       "    </div>\n",
       "\n",
       "    <div class=\"meta\">\n",
       "        <div class=\"features\"> <span class=\"text\">n lines broken</span></div>\n",
       "        \n",
       "    </div>\n",
       "\n",
       "</div>\n",
       "</div>\n",
       "    </div>\n",
       "\n",
       "\n",
       "    <div class=\"children trminalh\">\n",
       "\n",
       "\n",
       "    <div class=\"lbl clusterB\">\n",
       "        =\n",
       "        \n",
       "    </div>\n",
       "\n",
       "\n",
       "<div class=\"contnr sign\" style=\"background-color: None;\">\n",
       "    \n",
       "    <div class=\"meta\">\n",
       "         <span class=\"srcLn\">SZU</span><div class=\"features\"></div>\n",
       "        \n",
       "    </div>\n",
       "\n",
       "\n",
       "</div>\n",
       "\n",
       "\n",
       "<div class=\"contnr sign\" style=\"background-color: None;\">\n",
       "    \n",
       "    <div class=\"meta\">\n",
       "         <span class=\"srcLn\">KI</span><div class=\"features\"></div>\n",
       "        \n",
       "    </div>\n",
       "\n",
       "\n",
       "</div>\n",
       "\n",
       "\n",
       "<div class=\"contnr sign\" style=\"background-color: None;\">\n",
       "    \n",
       "    <div class=\"meta\">\n",
       "         <span class=\"srcLn\">X</span><div class=\"features\"></div>\n",
       "        \n",
       "    </div>\n",
       "\n",
       "\n",
       "</div>\n",
       "\n",
       "\n",
       "    <div class=\"lbl clusterE\" style=\"background-color: None;\">\n",
       "        =\n",
       "        \n",
       "    </div>\n",
       "\n",
       "\n",
       "    </div>\n",
       "\n",
       "\n",
       "</div>\n",
       "\n",
       "\n",
       "<div class=\"contnr trminal\" style=\"background-color: None;\">\n",
       "    \n",
       "    <div class=\"lbl trminal\">\n",
       "        2b3'\n",
       "        \n",
       "    </div>\n",
       "\n",
       "    <div class=\"meta\">\n",
       "        <div class=\"features\"></div>\n",
       "        \n",
       "    </div>\n",
       "\n",
       "\n",
       "    <div class=\"children trminalh\">\n",
       "\n",
       "\n",
       "    <div class=\"lbl clusterB\">\n",
       "        =\n",
       "        \n",
       "    </div>\n",
       "\n",
       "\n",
       "<div class=\"contnr sign\" style=\"background-color: None;\">\n",
       "    \n",
       "    <div class=\"meta\">\n",
       "         <span class=\"srcLn\">EN~a</span><div class=\"features\"></div>\n",
       "        \n",
       "    </div>\n",
       "\n",
       "\n",
       "</div>\n",
       "\n",
       "\n",
       "<div class=\"contnr sign\" style=\"background-color: None;\">\n",
       "    \n",
       "    <div class=\"meta\">\n",
       "         <span class=\"srcLn\">AN</span><div class=\"features\"></div>\n",
       "        \n",
       "    </div>\n",
       "\n",
       "\n",
       "</div>\n",
       "\n",
       "\n",
       "<div class=\"contnr sign\" style=\"background-color: None;\">\n",
       "    \n",
       "    <div class=\"meta\">\n",
       "         <span class=\"srcLn\">EZINU~d</span><div class=\"features\"></div>\n",
       "        \n",
       "    </div>\n",
       "\n",
       "\n",
       "</div>\n",
       "\n",
       "\n",
       "    <div class=\"lbl clusterE\" style=\"background-color: None;\">\n",
       "        =\n",
       "        \n",
       "    </div>\n",
       "\n",
       "\n",
       "    </div>\n",
       "\n",
       "\n",
       "</div>\n",
       "\n",
       "\n",
       "<div class=\"contnr trminal\" style=\"background-color: None;\">\n",
       "    \n",
       "    <div class=\"lbl trminal\">\n",
       "        2b4'\n",
       "        \n",
       "    </div>\n",
       "\n",
       "    <div class=\"meta\">\n",
       "        <div class=\"features\"></div>\n",
       "        <div class=\"comments\">\n",
       "<div class=\"contnr comment\" style=\"background-color: None;\">\n",
       "    \n",
       "    <div class=\"lbl comment\">\n",
       "        ruling\n",
       "        \n",
       "    </div>\n",
       "\n",
       "    <div class=\"meta\">\n",
       "        <div class=\"features\"> <span class=\"text\">rest broken</span></div>\n",
       "        \n",
       "    </div>\n",
       "\n",
       "</div>\n",
       "\n",
       "<div class=\"contnr comment\" style=\"background-color: None;\">\n",
       "    \n",
       "    <div class=\"lbl comment\">\n",
       "        ruling\n",
       "        \n",
       "    </div>\n",
       "\n",
       "    <div class=\"meta\">\n",
       "        <div class=\"features\"> <span class=\"text\">(for a total of 12 sub-cases with PNN)</span></div>\n",
       "        \n",
       "    </div>\n",
       "\n",
       "</div>\n",
       "</div>\n",
       "    </div>\n",
       "\n",
       "\n",
       "    <div class=\"children trminalh\">\n",
       "\n",
       "\n",
       "    <div class=\"lbl clusterB\">\n",
       "        =\n",
       "        \n",
       "    </div>\n",
       "\n",
       "\n",
       "<div class=\"contnr sign\" style=\"background-color: None;\">\n",
       "    \n",
       "    <div class=\"meta\">\n",
       "         <span class=\"srcLn\">IDIGNA</span><div class=\"features\"></div>\n",
       "        \n",
       "    </div>\n",
       "\n",
       "\n",
       "</div>\n",
       "\n",
       "\n",
       "    <div class=\"lbl clusterB\">\n",
       "        ?\n",
       "        \n",
       "    </div>\n",
       "\n",
       "\n",
       "<div class=\"contnr sign\" style=\"background-color: None;\">\n",
       "    \n",
       "    <div class=\"meta\">\n",
       "         <span class=\"srcLn\">...</span><div class=\"features\"></div>\n",
       "        \n",
       "    </div>\n",
       "\n",
       "\n",
       "</div>\n",
       "\n",
       "\n",
       "    <div class=\"lbl clusterE\" style=\"background-color: None;\">\n",
       "        ?\n",
       "        \n",
       "    </div>\n",
       "\n",
       "\n",
       "    <div class=\"lbl clusterE\" style=\"background-color: None;\">\n",
       "        =\n",
       "        \n",
       "    </div>\n",
       "\n",
       "\n",
       "    </div>\n",
       "\n",
       "\n",
       "</div>\n",
       "\n",
       "\n",
       "    </div>\n",
       "\n",
       "\n",
       "</div>\n"
      ],
      "text/plain": [
       "<IPython.core.display.HTML object>"
      ]
     },
     "metadata": {},
     "output_type": "display_data"
    },
    {
     "data": {
      "text/html": [
       "\n",
       "<div class=\"contnr trminal\" style=\"background-color: None;\">\n",
       "    \n",
       "    <div class=\"lbl trminal\">\n",
       "        <a href=\"https://cdli.ucla.edu/search/search_results.php?SearchMode=Text&ObjectID=P471695\" title=\"to CDLI main page for this tablet\" sec=\"P471695\">case 1a</a>\n",
       "        \n",
       "    </div>\n",
       "\n",
       "    <div class=\"meta\">\n",
       "        <div class=\"features\"></div>\n",
       "        \n",
       "    </div>\n",
       "\n",
       "\n",
       "    <div class=\"children trminalv\">\n",
       "\n",
       "\n",
       "<div class=\"contnr sign\" style=\"background-color: None;\">\n",
       "    \n",
       "    <div class=\"meta\">\n",
       "         <span class=\"srcLn\">1(N01)</span><div class=\"features\"></div>\n",
       "        \n",
       "    </div>\n",
       "\n",
       "\n",
       "</div>\n",
       "\n",
       "\n",
       "<div class=\"contnr sign\" style=\"background-color: None;\">\n",
       "    \n",
       "    <div class=\"meta\">\n",
       "         <span class=\"srcLn\">ISZ~a#?</span><div class=\"features\"></div>\n",
       "        \n",
       "    </div>\n",
       "\n",
       "\n",
       "</div>\n",
       "\n",
       "\n",
       "    </div>\n",
       "\n",
       "\n",
       "</div>\n"
      ],
      "text/plain": [
       "<IPython.core.display.HTML object>"
      ]
     },
     "metadata": {},
     "output_type": "display_data"
    },
    {
     "data": {
      "text/html": [
       "\n",
       "<div class=\"contnr case\" style=\"background-color: None;\">\n",
       "    \n",
       "    <div class=\"lbl case\">\n",
       "        <a href=\"https://cdli.ucla.edu/search/search_results.php?SearchMode=Text&ObjectID=P471695\" title=\"to CDLI main page for this tablet\" sec=\"P471695\">case 1b</a>\n",
       "        \n",
       "    </div>\n",
       "\n",
       "    <div class=\"meta\">\n",
       "        \n",
       "        \n",
       "    </div>\n",
       "\n",
       "\n",
       "    <div class=\"children casev\">\n",
       "\n",
       "\n",
       "<div class=\"contnr trminal\" style=\"background-color: None;\">\n",
       "    \n",
       "    <div class=\"lbl trminal\">\n",
       "        1b1\n",
       "        \n",
       "    </div>\n",
       "\n",
       "    <div class=\"meta\">\n",
       "        <div class=\"features\"></div>\n",
       "        <div class=\"comments\">\n",
       "<div class=\"contnr comment\" style=\"background-color: None;\">\n",
       "    \n",
       "    <div class=\"lbl comment\">\n",
       "        ruling\n",
       "        \n",
       "    </div>\n",
       "\n",
       "    <div class=\"meta\">\n",
       "        <div class=\"features\"> <span class=\"text\">blank space</span></div>\n",
       "        \n",
       "    </div>\n",
       "\n",
       "</div>\n",
       "\n",
       "<div class=\"contnr comment\" style=\"background-color: None;\">\n",
       "    \n",
       "    <div class=\"lbl comment\">\n",
       "        ruling\n",
       "        \n",
       "    </div>\n",
       "\n",
       "    <div class=\"meta\">\n",
       "        <div class=\"features\"> <span class=\"text\">rest broken</span></div>\n",
       "        \n",
       "    </div>\n",
       "\n",
       "</div>\n",
       "</div>\n",
       "    </div>\n",
       "\n",
       "\n",
       "    <div class=\"children trminalh\">\n",
       "\n",
       "\n",
       "    <div class=\"lbl clusterB\">\n",
       "        =\n",
       "        \n",
       "    </div>\n",
       "\n",
       "\n",
       "<div class=\"contnr sign\" style=\"background-color: None;\">\n",
       "    \n",
       "    <div class=\"meta\">\n",
       "         <span class=\"srcLn\">PAP~a</span><div class=\"features\"></div>\n",
       "        \n",
       "    </div>\n",
       "\n",
       "\n",
       "</div>\n",
       "\n",
       "\n",
       "<div class=\"contnr sign\" style=\"background-color: None;\">\n",
       "    \n",
       "    <div class=\"meta\">\n",
       "         <span class=\"srcLn\">GIR3~c</span><div class=\"features\"></div>\n",
       "        \n",
       "    </div>\n",
       "\n",
       "\n",
       "</div>\n",
       "\n",
       "\n",
       "    <div class=\"lbl clusterE\" style=\"background-color: None;\">\n",
       "        =\n",
       "        \n",
       "    </div>\n",
       "\n",
       "\n",
       "    </div>\n",
       "\n",
       "\n",
       "</div>\n",
       "\n",
       "\n",
       "    </div>\n",
       "\n",
       "\n",
       "</div>\n"
      ],
      "text/plain": [
       "<IPython.core.display.HTML object>"
      ]
     },
     "metadata": {},
     "output_type": "display_data"
    }
   ],
   "source": [
    "for c in sorted(example2):\n",
    "    A.pretty(c, lineart=False)"
   ]
  },
  {
   "cell_type": "code",
   "execution_count": 19,
   "metadata": {
    "ExecuteTime": {
     "end_time": "2018-05-09T17:50:41.067990Z",
     "start_time": "2018-05-09T17:50:41.050502Z"
    }
   },
   "outputs": [
    {
     "data": {
      "text/html": [
       "\n",
       "<div class=\"contnr trminal\" style=\"background-color: None;\">\n",
       "    \n",
       "    <div class=\"lbl trminal\">\n",
       "        <a href=\"https://cdli.ucla.edu/search/search_results.php?SearchMode=Text&ObjectID=P471695\" title=\"to CDLI main page for this tablet\" sec=\"P471695\">case 1a</a>\n",
       "        \n",
       "    </div>\n",
       "\n",
       "    <div class=\"meta\">\n",
       "        <div class=\"features\"></div>\n",
       "        \n",
       "    </div>\n",
       "\n",
       "\n",
       "    <div class=\"children trminalv\">\n",
       "\n",
       "\n",
       "<div class=\"contnr sign\" style=\"background-color: None;\">\n",
       "    \n",
       "    <div class=\"meta\">\n",
       "         <span class=\"srcLn\">3(N01)</span><div class=\"features\"></div>\n",
       "        \n",
       "    </div>\n",
       "\n",
       "\n",
       "</div>\n",
       "\n",
       "\n",
       "<div class=\"contnr sign\" style=\"background-color: None;\">\n",
       "    \n",
       "    <div class=\"meta\">\n",
       "         <span class=\"srcLn\">APIN~a</span><div class=\"features\"></div>\n",
       "        \n",
       "    </div>\n",
       "\n",
       "\n",
       "</div>\n",
       "\n",
       "\n",
       "<div class=\"contnr sign\" style=\"background-color: None;\">\n",
       "    \n",
       "    <div class=\"meta\">\n",
       "         <span class=\"srcLn\">3(N57)</span><div class=\"features\"></div>\n",
       "        \n",
       "    </div>\n",
       "\n",
       "\n",
       "</div>\n",
       "\n",
       "\n",
       "<div class=\"contnr sign\" style=\"background-color: None;\">\n",
       "    \n",
       "    <div class=\"meta\">\n",
       "         <span class=\"srcLn\">UR4~a</span><div class=\"features\"></div>\n",
       "        \n",
       "    </div>\n",
       "\n",
       "\n",
       "</div>\n",
       "\n",
       "\n",
       "    </div>\n",
       "\n",
       "\n",
       "</div>\n"
      ],
      "text/plain": [
       "<IPython.core.display.HTML object>"
      ]
     },
     "metadata": {},
     "output_type": "display_data"
    },
    {
     "data": {
      "text/html": [
       "\n",
       "<div class=\"contnr trminal\" style=\"background-color: None;\">\n",
       "    \n",
       "    <div class=\"lbl trminal\">\n",
       "        <a href=\"https://cdli.ucla.edu/search/search_results.php?SearchMode=Text&ObjectID=P471695\" title=\"to CDLI main page for this tablet\" sec=\"P471695\">case 2a</a>\n",
       "        \n",
       "    </div>\n",
       "\n",
       "    <div class=\"meta\">\n",
       "        <div class=\"features\"></div>\n",
       "        \n",
       "    </div>\n",
       "\n",
       "\n",
       "    <div class=\"children trminalv\">\n",
       "\n",
       "\n",
       "<div class=\"contnr sign\" style=\"background-color: None;\">\n",
       "    \n",
       "    <div class=\"meta\">\n",
       "         <span class=\"srcLn\">1(N14)</span><div class=\"features\"></div>\n",
       "        \n",
       "    </div>\n",
       "\n",
       "\n",
       "</div>\n",
       "\n",
       "\n",
       "<div class=\"contnr sign\" style=\"background-color: None;\">\n",
       "    \n",
       "    <div class=\"meta\">\n",
       "         <span class=\"srcLn\">2(N01)</span><div class=\"features\"></div>\n",
       "        \n",
       "    </div>\n",
       "\n",
       "\n",
       "</div>\n",
       "\n",
       "\n",
       "    <div class=\"lbl clusterB\">\n",
       "        ?\n",
       "        \n",
       "    </div>\n",
       "\n",
       "\n",
       "<div class=\"contnr sign\" style=\"background-color: None;\">\n",
       "    \n",
       "    <div class=\"meta\">\n",
       "         <span class=\"srcLn\">...</span><div class=\"features\"></div>\n",
       "        \n",
       "    </div>\n",
       "\n",
       "\n",
       "</div>\n",
       "\n",
       "\n",
       "    <div class=\"lbl clusterE\" style=\"background-color: None;\">\n",
       "        ?\n",
       "        \n",
       "    </div>\n",
       "\n",
       "\n",
       "    </div>\n",
       "\n",
       "\n",
       "</div>\n"
      ],
      "text/plain": [
       "<IPython.core.display.HTML object>"
      ]
     },
     "metadata": {},
     "output_type": "display_data"
    },
    {
     "data": {
      "text/html": [
       "\n",
       "<div class=\"contnr trminal\" style=\"background-color: None;\">\n",
       "    \n",
       "    <div class=\"lbl trminal\">\n",
       "        <a href=\"https://cdli.ucla.edu/search/search_results.php?SearchMode=Text&ObjectID=P471695\" title=\"to CDLI main page for this tablet\" sec=\"P471695\">case 1a</a>\n",
       "        \n",
       "    </div>\n",
       "\n",
       "    <div class=\"meta\">\n",
       "        <div class=\"features\"></div>\n",
       "        \n",
       "    </div>\n",
       "\n",
       "\n",
       "    <div class=\"children trminalv\">\n",
       "\n",
       "\n",
       "<div class=\"contnr sign\" style=\"background-color: None;\">\n",
       "    \n",
       "    <div class=\"meta\">\n",
       "         <span class=\"srcLn\">1(N01)</span><div class=\"features\"></div>\n",
       "        \n",
       "    </div>\n",
       "\n",
       "\n",
       "</div>\n",
       "\n",
       "\n",
       "<div class=\"contnr sign\" style=\"background-color: None;\">\n",
       "    \n",
       "    <div class=\"meta\">\n",
       "         <span class=\"srcLn\">ISZ~a#?</span><div class=\"features\"></div>\n",
       "        \n",
       "    </div>\n",
       "\n",
       "\n",
       "</div>\n",
       "\n",
       "\n",
       "    </div>\n",
       "\n",
       "\n",
       "</div>\n"
      ],
      "text/plain": [
       "<IPython.core.display.HTML object>"
      ]
     },
     "metadata": {},
     "output_type": "display_data"
    }
   ],
   "source": [
    "for c in sorted(example2T):\n",
    "    A.pretty(c, lineart=False)"
   ]
  },
  {
   "cell_type": "markdown",
   "metadata": {},
   "source": [
    "What about case `1.b`?\n",
    "It is a case at level 2.\n",
    "Why isn't is in `example2T`?\n",
    "\n",
    "Yes, but it is not a terminal case. It has subcases.\n",
    "That is why `1.b` is left out. \n",
    "The parameter `terminal` specifies that only cases without children will be in the result."
   ]
  },
  {
   "cell_type": "markdown",
   "metadata": {},
   "source": [
    "## Level 2\n",
    "\n",
    "What if we want all signs that occur in a subcase, i.e. a case at level 2?\n",
    "\n",
    "We can call `casesByLevel(2, terminal=False)`, iterate through the resulting cases, and \n",
    "collect all signs per case.\n",
    "However, we will encounter signs multiple times. \n",
    "Because if a sign is in a subcase, it is also in its containing case and in its containing line.\n",
    "We can solve this by collecting the signs in a set.\n",
    "Then we loose the corpus order of the signs, but we can easily reorder the set into a list.\n",
    "\n",
    "There is an alternative method: a search template.\n",
    "Search delivers unordered results, so we will reorder the search results as well.\n",
    "\n",
    "Text-Fabric has an API function for sorting nodes into corpus order: `sortNodes`.\n",
    "\n",
    "Let us try out both methods and compare the outcomes."
   ]
  },
  {
   "cell_type": "markdown",
   "metadata": {},
   "source": [
    "### `casesByLevel`"
   ]
  },
  {
   "cell_type": "code",
   "execution_count": 20,
   "metadata": {
    "ExecuteTime": {
     "end_time": "2018-05-09T17:50:45.090757Z",
     "start_time": "2018-05-09T17:50:45.052254Z"
    }
   },
   "outputs": [
    {
     "data": {
      "text/plain": [
       "7738"
      ]
     },
     "execution_count": 20,
     "metadata": {},
     "output_type": "execute_result"
    }
   ],
   "source": [
    "cases = A.casesByLevel(2, terminal=False)\n",
    "signSet = set()\n",
    "for case in cases:\n",
    "    signSet |= set(L.d(case, otype='sign'))\n",
    "signsA = sortNodes(signSet)\n",
    "len(signsA)"
   ]
  },
  {
   "cell_type": "markdown",
   "metadata": {},
   "source": [
    "or, by query:"
   ]
  },
  {
   "cell_type": "code",
   "execution_count": 21,
   "metadata": {
    "ExecuteTime": {
     "end_time": "2018-05-09T17:50:47.418888Z",
     "start_time": "2018-05-09T17:50:47.152637Z"
    }
   },
   "outputs": [
    {
     "name": "stdout",
     "output_type": "stream",
     "text": [
      "  0.06s 7738 results\n"
     ]
    }
   ],
   "source": [
    "query = '''\n",
    "case depth=2\n",
    "  sign\n",
    "'''\n",
    "results = A.search(query)"
   ]
  },
  {
   "cell_type": "markdown",
   "metadata": {},
   "source": [
    "or by a query not using the `depth` feature:"
   ]
  },
  {
   "cell_type": "code",
   "execution_count": 22,
   "metadata": {
    "ExecuteTime": {
     "end_time": "2018-05-09T17:50:49.778344Z",
     "start_time": "2018-05-09T17:50:49.575908Z"
    }
   },
   "outputs": [
    {
     "name": "stdout",
     "output_type": "stream",
     "text": [
      "  0.17s 7738 results\n"
     ]
    }
   ],
   "source": [
    "query = '''\n",
    "line\n",
    "  -sub> case\n",
    "    -sub> case\n",
    "         sign\n",
    "'''\n",
    "results = A.search(query)\n",
    "signsB = sortNodes(r[3] for r in results)"
   ]
  },
  {
   "cell_type": "markdown",
   "metadata": {},
   "source": [
    "A bit about results.\n",
    "The query mentions four quantities: `line`, `case`, `case`, `sign`.\n",
    "Every result of the query is an instantiation of those 4 quantities, hence a tuple of nodes:\n",
    "\n",
    "```\n",
    "(resultLine, resultCase1, resultCase2, resultSign)\n",
    "```\n",
    "\n",
    "See the table view:"
   ]
  },
  {
   "cell_type": "code",
   "execution_count": 23,
   "metadata": {
    "ExecuteTime": {
     "end_time": "2018-05-09T17:50:51.742028Z",
     "start_time": "2018-05-09T17:50:51.728828Z"
    }
   },
   "outputs": [
    {
     "data": {
      "text/markdown": [
       "n | line | case | case | sign\n",
       "--- | --- | --- | --- | ---\n",
       "1|<a href=\"https://cdli.ucla.edu/search/search_results.php?SearchMode=Text&ObjectID=P471695\" title=\"to CDLI main page for this tablet\" sec=\"P471695\">line 1</a>|case 1b|case 1b1|EN~a <a target=\"_blank\" href=\"https://cdli.ucla.edu/tools/SignLists/protocuneiform/archsigns/EN~a.jpg\" title=\"to higher resolution lineart on CDLI\"><img src=\"cdli-imagery/lineart-en-a.jpg\" style=\"display: inline;max-width: 2em; max-height: 4em;\"  /></a>\n",
       "2|<a href=\"https://cdli.ucla.edu/search/search_results.php?SearchMode=Text&ObjectID=P471695\" title=\"to CDLI main page for this tablet\" sec=\"P471695\">line 1</a>|case 1b|case 1b1|DU <a target=\"_blank\" href=\"https://cdli.ucla.edu/tools/SignLists/protocuneiform/archsigns/DU.jpg\" title=\"to higher resolution lineart on CDLI\"><img src=\"cdli-imagery/lineart-du.jpg\" style=\"display: inline;max-width: 2em; max-height: 4em;\"  /></a>\n",
       "3|<a href=\"https://cdli.ucla.edu/search/search_results.php?SearchMode=Text&ObjectID=P471695\" title=\"to CDLI main page for this tablet\" sec=\"P471695\">line 1</a>|case 1b|case 1b1|ZATU759 <a target=\"_blank\" href=\"https://cdli.ucla.edu/tools/SignLists/protocuneiform/archsigns/ZATU759.jpg\" title=\"to higher resolution lineart on CDLI\"><img src=\"cdli-imagery/lineart-zatu759.jpg\" style=\"display: inline;max-width: 2em; max-height: 4em;\"  /></a>\n",
       "4|<a href=\"https://cdli.ucla.edu/search/search_results.php?SearchMode=Text&ObjectID=P471695\" title=\"to CDLI main page for this tablet\" sec=\"P471695\">line 1</a>|case 1b|case 1b2|BAN~b <a target=\"_blank\" href=\"https://cdli.ucla.edu/tools/SignLists/protocuneiform/archsigns/BAN~b.jpg\" title=\"to higher resolution lineart on CDLI\"><img src=\"cdli-imagery/lineart-ban-b.jpg\" style=\"display: inline;max-width: 2em; max-height: 4em;\"  /></a>\n",
       "5|<a href=\"https://cdli.ucla.edu/search/search_results.php?SearchMode=Text&ObjectID=P471695\" title=\"to CDLI main page for this tablet\" sec=\"P471695\">line 1</a>|case 1b|case 1b2|KASZ~c <a target=\"_blank\" href=\"https://cdli.ucla.edu/tools/SignLists/protocuneiform/archsigns/KASZ~c.jpg\" title=\"to higher resolution lineart on CDLI\"><img src=\"cdli-imagery/lineart-kasz-c.jpg\" style=\"display: inline;max-width: 2em; max-height: 4em;\"  /></a>\n",
       "6|<a href=\"https://cdli.ucla.edu/search/search_results.php?SearchMode=Text&ObjectID=P471695\" title=\"to CDLI main page for this tablet\" sec=\"P471695\">line 1</a>|case 1b|case 1b3|KI@n <a target=\"_blank\" href=\"https://cdli.ucla.edu/tools/SignLists/protocuneiform/archsigns/KI@n.jpg\" title=\"to higher resolution lineart on CDLI\"><img src=\"cdli-imagery/lineart-ki(a)n.jpg\" style=\"display: inline;max-width: 2em; max-height: 4em;\"  /></a>\n",
       "7|<a href=\"https://cdli.ucla.edu/search/search_results.php?SearchMode=Text&ObjectID=P471695\" title=\"to CDLI main page for this tablet\" sec=\"P471695\">line 1</a>|case 1b|case 1b3|SAG <a target=\"_blank\" href=\"https://cdli.ucla.edu/tools/SignLists/protocuneiform/archsigns/SAG.jpg\" title=\"to higher resolution lineart on CDLI\"><img src=\"cdli-imagery/lineart-sag.jpg\" style=\"display: inline;max-width: 2em; max-height: 4em;\"  /></a>\n",
       "8|<a href=\"https://cdli.ucla.edu/search/search_results.php?SearchMode=Text&ObjectID=P471695\" title=\"to CDLI main page for this tablet\" sec=\"P471695\">line 2</a>|case 2b|case 2b1|3(N57) <a target=\"_blank\" href=\"https://cdli.ucla.edu/tools/SignLists/protocuneiform/archsigns/3(N57).jpg\" title=\"to higher resolution lineart on CDLI\"><img src=\"cdli-imagery/lineart-3(n57).jpg\" style=\"display: inline;max-width: 2em; max-height: 4em;\"  /></a>\n",
       "9|<a href=\"https://cdli.ucla.edu/search/search_results.php?SearchMode=Text&ObjectID=P471695\" title=\"to CDLI main page for this tablet\" sec=\"P471695\">line 2</a>|case 2b|case 2b1|PAP~a <a target=\"_blank\" href=\"https://cdli.ucla.edu/tools/SignLists/protocuneiform/archsigns/PAP~a.jpg\" title=\"to higher resolution lineart on CDLI\"><img src=\"cdli-imagery/lineart-pap-a.jpg\" style=\"display: inline;max-width: 2em; max-height: 4em;\"  /></a>\n",
       "10|<a href=\"https://cdli.ucla.edu/search/search_results.php?SearchMode=Text&ObjectID=P471695\" title=\"to CDLI main page for this tablet\" sec=\"P471695\">line 2</a>|case 2b|case 2b2| "
      ],
      "text/plain": [
       "<IPython.core.display.Markdown object>"
      ]
     },
     "metadata": {},
     "output_type": "display_data"
    }
   ],
   "source": [
    "A.table(results, end=10)"
   ]
  },
  {
   "cell_type": "markdown",
   "metadata": {},
   "source": [
    "For our purposes we are only interested in the `resultSign` part, so we select it by the\n",
    "`r[3]` when we walk through all results `r`."
   ]
  },
  {
   "cell_type": "markdown",
   "metadata": {},
   "source": [
    "### Check\n",
    "\n",
    "Both methods yield the same number of results, but are they exactly the same results?"
   ]
  },
  {
   "cell_type": "code",
   "execution_count": 24,
   "metadata": {
    "ExecuteTime": {
     "end_time": "2018-05-09T17:50:54.751424Z",
     "start_time": "2018-05-09T17:50:54.742379Z"
    }
   },
   "outputs": [
    {
     "data": {
      "text/plain": [
       "True"
      ]
     },
     "execution_count": 24,
     "metadata": {},
     "output_type": "execute_result"
    }
   ],
   "source": [
    "signsA == signsB"
   ]
  },
  {
   "cell_type": "markdown",
   "metadata": {},
   "source": [
    "Yes!"
   ]
  },
  {
   "cell_type": "markdown",
   "metadata": {},
   "source": [
    "### Twist\n",
    "\n",
    "Now we want to restrict ourselves to non-numerical signs.\n",
    "If you look at the feature docs (see the link at the start of the notebook),\n",
    "and read about the `type` feature for signs, you see that it can have the values\n",
    "`empty` `unknown` `numeral` `ideograph`."
   ]
  },
  {
   "cell_type": "code",
   "execution_count": 25,
   "metadata": {
    "ExecuteTime": {
     "end_time": "2018-05-09T17:50:57.313253Z",
     "start_time": "2018-05-09T17:50:57.161093Z"
    }
   },
   "outputs": [
    {
     "data": {
      "text/plain": [
       "(('ideograph', 53249),\n",
       " ('numeral', 38122),\n",
       " ('uncertain', 32116),\n",
       " ('ellipsis', 29413),\n",
       " ('empty', 12440),\n",
       " ('unknown', 6870),\n",
       " ('meta', 6630),\n",
       " ('obverse', 5959),\n",
       " ('ruling', 4057),\n",
       " ('reverse', 3044),\n",
       " ('properName', 636),\n",
       " ('surface', 408),\n",
       " ('object', 403),\n",
       " ('seal', 21),\n",
       " ('bottom', 17),\n",
       " ('top', 3),\n",
       " ('left', 2),\n",
       " ('noface', 2),\n",
       " ('supplied', 1))"
      ]
     },
     "execution_count": 25,
     "metadata": {},
     "output_type": "execute_result"
    }
   ],
   "source": [
    "F.type.freqList()"
   ]
  },
  {
   "cell_type": "markdown",
   "metadata": {},
   "source": [
    "Ah, the feature `type` is also used for other things than signs.\n",
    "We just want a frequency list of `type` values for signs:"
   ]
  },
  {
   "cell_type": "code",
   "execution_count": 26,
   "metadata": {
    "ExecuteTime": {
     "end_time": "2018-05-09T17:50:59.706021Z",
     "start_time": "2018-05-09T17:50:59.485736Z"
    }
   },
   "outputs": [
    {
     "data": {
      "text/plain": [
       "(('ideograph', 53249),\n",
       " ('numeral', 38122),\n",
       " ('ellipsis', 29413),\n",
       " ('empty', 12440),\n",
       " ('unknown', 6870))"
      ]
     },
     "execution_count": 26,
     "metadata": {},
     "output_type": "execute_result"
    }
   ],
   "source": [
    "F.type.freqList({'sign'})"
   ]
  },
  {
   "cell_type": "markdown",
   "metadata": {},
   "source": [
    "We just want the ideographs.\n",
    "\n",
    "We'll adapt both methods to get them and ignore the numerals and lesser defined graphemes.\n",
    "\n",
    "Of course, we can just filter the result list that we have already got, \n",
    "but this is a tutorial, and it may come in handy to have a well stocked repertoire \n",
    "of direct ways to drill to your data."
   ]
  },
  {
   "cell_type": "markdown",
   "metadata": {},
   "source": [
    "#### `casesByLevel`"
   ]
  },
  {
   "cell_type": "code",
   "execution_count": 27,
   "metadata": {
    "ExecuteTime": {
     "end_time": "2018-05-09T17:51:02.890023Z",
     "start_time": "2018-05-09T17:51:02.843207Z"
    }
   },
   "outputs": [
    {
     "data": {
      "text/plain": [
       "3813"
      ]
     },
     "execution_count": 27,
     "metadata": {},
     "output_type": "execute_result"
    }
   ],
   "source": [
    "cases = A.casesByLevel(2, terminal=False)\n",
    "signSet = set()\n",
    "for case in cases:\n",
    "    signSet |= set(s for s in L.d(case, otype='sign') if F.type.v(s) == 'ideograph')\n",
    "signsA = sortNodes(signSet)\n",
    "len(signsA)"
   ]
  },
  {
   "cell_type": "markdown",
   "metadata": {},
   "source": [
    "### `search`\n",
    "\n",
    "Note that it is very easy to add the desired condition to the template.\n",
    "\n",
    "This method is much easier to adapt than the first method!"
   ]
  },
  {
   "cell_type": "code",
   "execution_count": 28,
   "metadata": {
    "ExecuteTime": {
     "end_time": "2018-05-09T17:51:07.242458Z",
     "start_time": "2018-05-09T17:51:06.900769Z"
    }
   },
   "outputs": [
    {
     "name": "stdout",
     "output_type": "stream",
     "text": [
      "  0.17s 3813 results\n"
     ]
    }
   ],
   "source": [
    "query = '''\n",
    "case depth=2\n",
    "  sign type=ideograph\n",
    "'''\n",
    "results = A.search(query)\n",
    "signsB = sortNodes(r[1] for r in results)"
   ]
  },
  {
   "cell_type": "code",
   "execution_count": 29,
   "metadata": {
    "ExecuteTime": {
     "end_time": "2018-05-09T17:51:08.743091Z",
     "start_time": "2018-05-09T17:51:08.736191Z"
    }
   },
   "outputs": [
    {
     "data": {
      "text/plain": [
       "True"
      ]
     },
     "execution_count": 29,
     "metadata": {},
     "output_type": "execute_result"
    }
   ],
   "source": [
    "signsA == signsB"
   ]
  },
  {
   "cell_type": "markdown",
   "metadata": {},
   "source": [
    "## Supercase versus subcase\n",
    "\n",
    "We finish of with a comparison of the frequencies of signs that occur on lines and level-1 cases, and the frequencies of signs that occur on level-2 and deeper cases.\n",
    "\n",
    "From both groups we pick the top-20.\n",
    "We make a nice markdown table showing the frequencies those top-20 signs in both groups.\n",
    "\n",
    "We do this for non-numeric ideographs only.\n",
    "\n",
    "Note that we have already collected the group of the subcases and deeper: `signsB`.\n",
    "\n",
    "We give this sequence an other name: `subSigns`."
   ]
  },
  {
   "cell_type": "code",
   "execution_count": 30,
   "metadata": {
    "ExecuteTime": {
     "end_time": "2018-05-09T17:51:11.031878Z",
     "start_time": "2018-05-09T17:51:11.023641Z"
    }
   },
   "outputs": [
    {
     "data": {
      "text/plain": [
       "3813"
      ]
     },
     "execution_count": 30,
     "metadata": {},
     "output_type": "execute_result"
    }
   ],
   "source": [
    "subSigns = signsB\n",
    "len(subSigns)"
   ]
  },
  {
   "cell_type": "markdown",
   "metadata": {},
   "source": [
    "We need to collect the group of signs in lines and immediate cases.\n",
    "So we have to exclude cases that are subdivided in subcases.\n",
    "\n",
    "For that, we use the feature `terminal`, which exists and is equal to `1` for undivided\n",
    "cases and lines, and which does not exist for divided cases and lines.\n",
    "\n",
    "We get this group by two queries."
   ]
  },
  {
   "cell_type": "code",
   "execution_count": 31,
   "metadata": {
    "ExecuteTime": {
     "end_time": "2018-05-09T17:51:14.123200Z",
     "start_time": "2018-05-09T17:51:13.489034Z"
    }
   },
   "outputs": [
    {
     "name": "stdout",
     "output_type": "stream",
     "text": [
      "  0.29s 41788 results\n"
     ]
    }
   ],
   "source": [
    "query0 = '''\n",
    "line terminal=1\n",
    "   sign type=ideograph\n",
    "'''\n",
    "signs0 = [r[1] for r in A.search(query0)]"
   ]
  },
  {
   "cell_type": "code",
   "execution_count": 32,
   "metadata": {
    "ExecuteTime": {
     "end_time": "2018-05-09T17:51:25.872050Z",
     "start_time": "2018-05-09T17:51:25.452155Z"
    }
   },
   "outputs": [
    {
     "name": "stdout",
     "output_type": "stream",
     "text": [
      "  0.23s 7648 results\n"
     ]
    }
   ],
   "source": [
    "query1 = '''\n",
    "line\n",
    "  -sub> case terminal=1\n",
    "      sign type=ideograph\n",
    "'''\n",
    "signs1 = [r[2] for r in A.search(query1)]"
   ]
  },
  {
   "cell_type": "markdown",
   "metadata": {},
   "source": [
    "Let us collect both results into `superSigns`.\n",
    "Note that `signs0` and `signs1` have no occurrences in common:\n",
    "a sign in `signs1` is part of a case, so the line that contains that case is divided,\n",
    "so it has no value for the`terminal` feature, so ot is not in the results of `query0`."
   ]
  },
  {
   "cell_type": "code",
   "execution_count": 33,
   "metadata": {
    "ExecuteTime": {
     "end_time": "2018-05-09T17:51:30.106012Z",
     "start_time": "2018-05-09T17:51:30.100850Z"
    }
   },
   "outputs": [],
   "source": [
    "superSigns = signs0 + signs1"
   ]
  },
  {
   "cell_type": "markdown",
   "metadata": {},
   "source": [
    "Also note that `superSigns` and `subSigns` have nothing in common, for the same kind of reasoning as why `signs0` and `signs1` have no occurrences in common.\n",
    "\n",
    "That said, reasoning is one thing, and using data to verify assertions is another thing.\n",
    "Let us just check!"
   ]
  },
  {
   "cell_type": "code",
   "execution_count": 34,
   "metadata": {
    "ExecuteTime": {
     "end_time": "2018-05-09T17:51:34.127191Z",
     "start_time": "2018-05-09T17:51:34.111018Z"
    }
   },
   "outputs": [
    {
     "data": {
      "text/plain": [
       "set()"
      ]
     },
     "execution_count": 34,
     "metadata": {},
     "output_type": "execute_result"
    }
   ],
   "source": [
    "set(signs0) & set(signs1)"
   ]
  },
  {
   "cell_type": "code",
   "execution_count": 35,
   "metadata": {
    "ExecuteTime": {
     "end_time": "2018-05-09T17:51:35.225601Z",
     "start_time": "2018-05-09T17:51:35.212911Z"
    }
   },
   "outputs": [
    {
     "data": {
      "text/plain": [
       "set()"
      ]
     },
     "execution_count": 35,
     "metadata": {},
     "output_type": "execute_result"
    }
   ],
   "source": [
    "set(subSigns) & set(superSigns)"
   ]
  },
  {
   "cell_type": "markdown",
   "metadata": {},
   "source": [
    "Check!"
   ]
  },
  {
   "cell_type": "markdown",
   "metadata": {},
   "source": [
    "Last, but not least, we want to compare the frequencies of the super and sub groups with the\n",
    "overall frequencies."
   ]
  },
  {
   "cell_type": "code",
   "execution_count": 36,
   "metadata": {
    "ExecuteTime": {
     "end_time": "2018-05-09T17:51:41.822173Z",
     "start_time": "2018-05-09T17:51:41.301271Z"
    }
   },
   "outputs": [
    {
     "name": "stdout",
     "output_type": "stream",
     "text": [
      "  0.28s 53249 results\n"
     ]
    }
   ],
   "source": [
    "queryA = '''\n",
    "line\n",
    "   sign type=ideograph\n",
    "'''\n",
    "allSigns = [r[1] for r in A.search(queryA)]"
   ]
  },
  {
   "cell_type": "markdown",
   "metadata": {},
   "source": [
    "### Frequency and rank\n",
    "\n",
    "We are going to make a frequency distribution for both groups.\n",
    "We do not want to repeat ourselves\n",
    "[DRY](https://en.wikipedia.org/wiki/Don%27t_repeat_yourself),\n",
    "so we write a function that given a list of items,\n",
    "produces a frequency list.\n",
    "\n",
    "While we're at it, we also produce a ranking list: the most frequent item has rank 1,\n",
    "the second frequent item has rank 2, and so on.\n",
    "\n",
    "When we compute the frequencies, we count the number of times a sign, identified by its\n",
    "ATF transcription (without flags), occurs."
   ]
  },
  {
   "cell_type": "code",
   "execution_count": 37,
   "metadata": {
    "ExecuteTime": {
     "end_time": "2018-05-09T17:51:51.655351Z",
     "start_time": "2018-05-09T17:51:51.645870Z"
    }
   },
   "outputs": [],
   "source": [
    "def getFreqs(items):\n",
    "    freqs = collections.Counter()\n",
    "    for item in items:\n",
    "        freqs[A.atfFromSign(item)] += 1\n",
    "    ranks = {}\n",
    "    for item in sorted(freqs, key=lambda i: -freqs[i]):\n",
    "        ranks[item] = len(ranks) + 1\n",
    "    return (freqs, ranks)"
   ]
  },
  {
   "cell_type": "code",
   "execution_count": 38,
   "metadata": {
    "ExecuteTime": {
     "end_time": "2018-05-09T17:51:53.020313Z",
     "start_time": "2018-05-09T17:51:52.435073Z"
    }
   },
   "outputs": [],
   "source": [
    "(allFreqs, allRanks) = getFreqs(allSigns)\n",
    "(superFreqs, superRanks) = getFreqs(superSigns)\n",
    "(subFreqs, subRanks) = getFreqs(subSigns)"
   ]
  },
  {
   "cell_type": "markdown",
   "metadata": {},
   "source": [
    "Now we want the top scorers in the super and sub teams.\n",
    "We make it customisable whether you want the top-20 or top-100, or whatever."
   ]
  },
  {
   "cell_type": "code",
   "execution_count": 39,
   "metadata": {
    "ExecuteTime": {
     "end_time": "2018-05-09T17:51:54.201650Z",
     "start_time": "2018-05-09T17:51:54.195913Z"
    }
   },
   "outputs": [],
   "source": [
    "def getTop(ranks, amount):\n",
    "    return sorted(ranks, key=lambda i: ranks[i])[0:amount]"
   ]
  },
  {
   "cell_type": "code",
   "execution_count": 40,
   "metadata": {
    "ExecuteTime": {
     "end_time": "2018-05-09T17:51:55.220801Z",
     "start_time": "2018-05-09T17:51:55.214275Z"
    }
   },
   "outputs": [],
   "source": [
    "AMOUNT = 20\n",
    "superTop = getTop(superRanks, AMOUNT)\n",
    "subTop = getTop(subRanks, AMOUNT)"
   ]
  },
  {
   "cell_type": "markdown",
   "metadata": {},
   "source": [
    "We combine the two tops without duplication ..."
   ]
  },
  {
   "cell_type": "code",
   "execution_count": 41,
   "metadata": {
    "ExecuteTime": {
     "end_time": "2018-05-09T17:51:57.541506Z",
     "start_time": "2018-05-09T17:51:57.535190Z"
    }
   },
   "outputs": [],
   "source": [
    "combiTopSet = set(superTop) | set(subTop)"
   ]
  },
  {
   "cell_type": "markdown",
   "metadata": {},
   "source": [
    "... and sort them by overall rank:"
   ]
  },
  {
   "cell_type": "code",
   "execution_count": 42,
   "metadata": {
    "ExecuteTime": {
     "end_time": "2018-05-09T17:51:58.623765Z",
     "start_time": "2018-05-09T17:51:58.618624Z"
    }
   },
   "outputs": [],
   "source": [
    "combiTop = sorted(combiTopSet, key=lambda i: allRanks[i])"
   ]
  },
  {
   "cell_type": "markdown",
   "metadata": {},
   "source": [
    "Since we have now our top characters ready, let us just show them.\n",
    "We group them into horizontal lines."
   ]
  },
  {
   "cell_type": "code",
   "execution_count": 43,
   "metadata": {
    "ExecuteTime": {
     "end_time": "2018-05-09T17:52:00.641095Z",
     "start_time": "2018-05-09T17:52:00.634478Z"
    }
   },
   "outputs": [],
   "source": [
    "def chunk(items, chunkSize):\n",
    "    chunks = [[]]\n",
    "    j = 0\n",
    "    for item in items:\n",
    "        if j == chunkSize:\n",
    "            chunks.append([])\n",
    "            j = 0\n",
    "        chunks[-1].append(item)\n",
    "        j += 1\n",
    "    return chunks   "
   ]
  },
  {
   "cell_type": "code",
   "execution_count": 44,
   "metadata": {
    "ExecuteTime": {
     "end_time": "2018-05-09T17:52:02.116647Z",
     "start_time": "2018-05-09T17:52:02.020123Z"
    }
   },
   "outputs": [
    {
     "data": {
      "text/markdown": [
       "\n",
       "\n",
       "---\n",
       "\n"
      ],
      "text/plain": [
       "<IPython.core.display.Markdown object>"
      ]
     },
     "metadata": {},
     "output_type": "display_data"
    },
    {
     "data": {
      "text/html": [
       "<div style=\"display: flex;flex-flow: row nowrap;justify-content: flex-start;align-items: center;align-content: flex-start;\"><div style=\"padding: 0.5rem;\"><div style=\"display: flex;flex-flow: column nowrap;justify-content: space-between;align-items: center;align-content: space-between;\"><div><a target=\"_blank\" href=\"https://cdli.ucla.edu/tools/SignLists/protocuneiform/archsigns/EN~a.jpg\" title=\"to higher resolution lineart on CDLI\"><img src=\"cdli-imagery/lineart-en-a.jpg\" style=\"display: inline;max-height: 80px; max-width: 60px;\"  /></a></div><div><a target=\"_blank\" href=\"https://cdli.ucla.edu/tools/SignLists/protocuneiform/archsigns.html\" title=\"to CDLI main page for this item\">EN~a</a></div></div></div><div style=\"padding: 0.5rem;\"><div style=\"display: flex;flex-flow: column nowrap;justify-content: space-between;align-items: center;align-content: space-between;\"><div><a target=\"_blank\" href=\"https://cdli.ucla.edu/tools/SignLists/protocuneiform/archsigns/SZE~a.jpg\" title=\"to higher resolution lineart on CDLI\"><img src=\"cdli-imagery/lineart-sze-a.jpg\" style=\"display: inline;max-height: 80px; max-width: 60px;\"  /></a></div><div><a target=\"_blank\" href=\"https://cdli.ucla.edu/tools/SignLists/protocuneiform/archsigns.html\" title=\"to CDLI main page for this item\">SZE~a</a></div></div></div><div style=\"padding: 0.5rem;\"><div style=\"display: flex;flex-flow: column nowrap;justify-content: space-between;align-items: center;align-content: space-between;\"><div><a target=\"_blank\" href=\"https://cdli.ucla.edu/tools/SignLists/protocuneiform/archsigns/GAL~a.jpg\" title=\"to higher resolution lineart on CDLI\"><img src=\"cdli-imagery/lineart-gal-a.jpg\" style=\"display: inline;max-height: 80px; max-width: 60px;\"  /></a></div><div><a target=\"_blank\" href=\"https://cdli.ucla.edu/tools/SignLists/protocuneiform/archsigns.html\" title=\"to CDLI main page for this item\">GAL~a</a></div></div></div><div style=\"padding: 0.5rem;\"><div style=\"display: flex;flex-flow: column nowrap;justify-content: space-between;align-items: center;align-content: space-between;\"><div><a target=\"_blank\" href=\"https://cdli.ucla.edu/tools/SignLists/protocuneiform/archsigns/U4.jpg\" title=\"to higher resolution lineart on CDLI\"><img src=\"cdli-imagery/lineart-u4.jpg\" style=\"display: inline;max-height: 80px; max-width: 60px;\"  /></a></div><div><a target=\"_blank\" href=\"https://cdli.ucla.edu/tools/SignLists/protocuneiform/archsigns.html\" title=\"to CDLI main page for this item\">U4</a></div></div></div></div>"
      ],
      "text/plain": [
       "<IPython.core.display.HTML object>"
      ]
     },
     "metadata": {},
     "output_type": "display_data"
    },
    {
     "data": {
      "text/markdown": [
       "\n",
       "\n",
       "---\n",
       "\n"
      ],
      "text/plain": [
       "<IPython.core.display.Markdown object>"
      ]
     },
     "metadata": {},
     "output_type": "display_data"
    },
    {
     "data": {
      "text/html": [
       "<div style=\"display: flex;flex-flow: row nowrap;justify-content: flex-start;align-items: center;align-content: flex-start;\"><div style=\"padding: 0.5rem;\"><div style=\"display: flex;flex-flow: column nowrap;justify-content: space-between;align-items: center;align-content: space-between;\"><div><a target=\"_blank\" href=\"https://cdli.ucla.edu/tools/SignLists/protocuneiform/archsigns/AN.jpg\" title=\"to higher resolution lineart on CDLI\"><img src=\"cdli-imagery/lineart-an.jpg\" style=\"display: inline;max-height: 80px; max-width: 60px;\"  /></a></div><div><a target=\"_blank\" href=\"https://cdli.ucla.edu/tools/SignLists/protocuneiform/archsigns.html\" title=\"to CDLI main page for this item\">AN</a></div></div></div><div style=\"padding: 0.5rem;\"><div style=\"display: flex;flex-flow: column nowrap;justify-content: space-between;align-items: center;align-content: space-between;\"><div><a target=\"_blank\" href=\"https://cdli.ucla.edu/tools/SignLists/protocuneiform/archsigns/SAL.jpg\" title=\"to higher resolution lineart on CDLI\"><img src=\"cdli-imagery/lineart-sal.jpg\" style=\"display: inline;max-height: 80px; max-width: 60px;\"  /></a></div><div><a target=\"_blank\" href=\"https://cdli.ucla.edu/tools/SignLists/protocuneiform/archsigns.html\" title=\"to CDLI main page for this item\">SAL</a></div></div></div><div style=\"padding: 0.5rem;\"><div style=\"display: flex;flex-flow: column nowrap;justify-content: space-between;align-items: center;align-content: space-between;\"><div><a target=\"_blank\" href=\"https://cdli.ucla.edu/tools/SignLists/protocuneiform/archsigns/PAP~a.jpg\" title=\"to higher resolution lineart on CDLI\"><img src=\"cdli-imagery/lineart-pap-a.jpg\" style=\"display: inline;max-height: 80px; max-width: 60px;\"  /></a></div><div><a target=\"_blank\" href=\"https://cdli.ucla.edu/tools/SignLists/protocuneiform/archsigns.html\" title=\"to CDLI main page for this item\">PAP~a</a></div></div></div><div style=\"padding: 0.5rem;\"><div style=\"display: flex;flex-flow: column nowrap;justify-content: space-between;align-items: center;align-content: space-between;\"><div><a target=\"_blank\" href=\"https://cdli.ucla.edu/tools/SignLists/protocuneiform/archsigns/GI.jpg\" title=\"to higher resolution lineart on CDLI\"><img src=\"cdli-imagery/lineart-gi.jpg\" style=\"display: inline;max-height: 80px; max-width: 60px;\"  /></a></div><div><a target=\"_blank\" href=\"https://cdli.ucla.edu/tools/SignLists/protocuneiform/archsigns.html\" title=\"to CDLI main page for this item\">GI</a></div></div></div></div>"
      ],
      "text/plain": [
       "<IPython.core.display.HTML object>"
      ]
     },
     "metadata": {},
     "output_type": "display_data"
    },
    {
     "data": {
      "text/markdown": [
       "\n",
       "\n",
       "---\n",
       "\n"
      ],
      "text/plain": [
       "<IPython.core.display.Markdown object>"
      ]
     },
     "metadata": {},
     "output_type": "display_data"
    },
    {
     "data": {
      "text/html": [
       "<div style=\"display: flex;flex-flow: row nowrap;justify-content: flex-start;align-items: center;align-content: flex-start;\"><div style=\"padding: 0.5rem;\"><div style=\"display: flex;flex-flow: column nowrap;justify-content: space-between;align-items: center;align-content: space-between;\"><div><a target=\"_blank\" href=\"https://cdli.ucla.edu/tools/SignLists/protocuneiform/archsigns/BA.jpg\" title=\"to higher resolution lineart on CDLI\"><img src=\"cdli-imagery/lineart-ba.jpg\" style=\"display: inline;max-height: 80px; max-width: 60px;\"  /></a></div><div><a target=\"_blank\" href=\"https://cdli.ucla.edu/tools/SignLists/protocuneiform/archsigns.html\" title=\"to CDLI main page for this item\">BA</a></div></div></div><div style=\"padding: 0.5rem;\"><div style=\"display: flex;flex-flow: column nowrap;justify-content: space-between;align-items: center;align-content: space-between;\"><div><a target=\"_blank\" href=\"https://cdli.ucla.edu/tools/SignLists/protocuneiform/archsigns/NUN~a.jpg\" title=\"to higher resolution lineart on CDLI\"><img src=\"cdli-imagery/lineart-nun-a.jpg\" style=\"display: inline;max-height: 80px; max-width: 60px;\"  /></a></div><div><a target=\"_blank\" href=\"https://cdli.ucla.edu/tools/SignLists/protocuneiform/archsigns.html\" title=\"to CDLI main page for this item\">NUN~a</a></div></div></div><div style=\"padding: 0.5rem;\"><div style=\"display: flex;flex-flow: column nowrap;justify-content: space-between;align-items: center;align-content: space-between;\"><div><a target=\"_blank\" href=\"https://cdli.ucla.edu/tools/SignLists/protocuneiform/archsigns/SANGA~a.jpg\" title=\"to higher resolution lineart on CDLI\"><img src=\"cdli-imagery/lineart-sanga-a.jpg\" style=\"display: inline;max-height: 80px; max-width: 60px;\"  /></a></div><div><a target=\"_blank\" href=\"https://cdli.ucla.edu/tools/SignLists/protocuneiform/archsigns.html\" title=\"to CDLI main page for this item\">SANGA~a</a></div></div></div><div style=\"padding: 0.5rem;\"><div style=\"display: flex;flex-flow: column nowrap;justify-content: space-between;align-items: center;align-content: space-between;\"><div><a target=\"_blank\" href=\"https://cdli.ucla.edu/tools/SignLists/protocuneiform/archsigns/SZU.jpg\" title=\"to higher resolution lineart on CDLI\"><img src=\"cdli-imagery/lineart-szu.jpg\" style=\"display: inline;max-height: 80px; max-width: 60px;\"  /></a></div><div><a target=\"_blank\" href=\"https://cdli.ucla.edu/tools/SignLists/protocuneiform/archsigns.html\" title=\"to CDLI main page for this item\">SZU</a></div></div></div></div>"
      ],
      "text/plain": [
       "<IPython.core.display.HTML object>"
      ]
     },
     "metadata": {},
     "output_type": "display_data"
    },
    {
     "data": {
      "text/markdown": [
       "\n",
       "\n",
       "---\n",
       "\n"
      ],
      "text/plain": [
       "<IPython.core.display.Markdown object>"
      ]
     },
     "metadata": {},
     "output_type": "display_data"
    },
    {
     "data": {
      "text/html": [
       "<div style=\"display: flex;flex-flow: row nowrap;justify-content: flex-start;align-items: center;align-content: flex-start;\"><div style=\"padding: 0.5rem;\"><div style=\"display: flex;flex-flow: column nowrap;justify-content: space-between;align-items: center;align-content: space-between;\"><div><a target=\"_blank\" href=\"https://cdli.ucla.edu/tools/SignLists/protocuneiform/archsigns/BU~a.jpg\" title=\"to higher resolution lineart on CDLI\"><img src=\"cdli-imagery/lineart-bu-a.jpg\" style=\"display: inline;max-height: 80px; max-width: 60px;\"  /></a></div><div><a target=\"_blank\" href=\"https://cdli.ucla.edu/tools/SignLists/protocuneiform/archsigns.html\" title=\"to CDLI main page for this item\">BU~a</a></div></div></div><div style=\"padding: 0.5rem;\"><div style=\"display: flex;flex-flow: column nowrap;justify-content: space-between;align-items: center;align-content: space-between;\"><div><a target=\"_blank\" href=\"https://cdli.ucla.edu/tools/SignLists/protocuneiform/archsigns/NAM2.jpg\" title=\"to higher resolution lineart on CDLI\"><img src=\"cdli-imagery/lineart-nam2.jpg\" style=\"display: inline;max-height: 80px; max-width: 60px;\"  /></a></div><div><a target=\"_blank\" href=\"https://cdli.ucla.edu/tools/SignLists/protocuneiform/archsigns.html\" title=\"to CDLI main page for this item\">NAM2</a></div></div></div><div style=\"padding: 0.5rem;\"><div style=\"display: flex;flex-flow: column nowrap;justify-content: space-between;align-items: center;align-content: space-between;\"><div><a target=\"_blank\" href=\"https://cdli.ucla.edu/tools/SignLists/protocuneiform/archsigns/E2~a.jpg\" title=\"to higher resolution lineart on CDLI\"><img src=\"cdli-imagery/lineart-e2-a.jpg\" style=\"display: inline;max-height: 80px; max-width: 60px;\"  /></a></div><div><a target=\"_blank\" href=\"https://cdli.ucla.edu/tools/SignLists/protocuneiform/archsigns.html\" title=\"to CDLI main page for this item\">E2~a</a></div></div></div><div style=\"padding: 0.5rem;\"><div style=\"display: flex;flex-flow: column nowrap;justify-content: space-between;align-items: center;align-content: space-between;\"><div><a target=\"_blank\" href=\"https://cdli.ucla.edu/tools/SignLists/protocuneiform/archsigns/UDU~a.jpg\" title=\"to higher resolution lineart on CDLI\"><img src=\"cdli-imagery/lineart-udu-a.jpg\" style=\"display: inline;max-height: 80px; max-width: 60px;\"  /></a></div><div><a target=\"_blank\" href=\"https://cdli.ucla.edu/tools/SignLists/protocuneiform/archsigns.html\" title=\"to CDLI main page for this item\">UDU~a</a></div></div></div></div>"
      ],
      "text/plain": [
       "<IPython.core.display.HTML object>"
      ]
     },
     "metadata": {},
     "output_type": "display_data"
    },
    {
     "data": {
      "text/markdown": [
       "\n",
       "\n",
       "---\n",
       "\n"
      ],
      "text/plain": [
       "<IPython.core.display.Markdown object>"
      ]
     },
     "metadata": {},
     "output_type": "display_data"
    },
    {
     "data": {
      "text/html": [
       "<div style=\"display: flex;flex-flow: row nowrap;justify-content: flex-start;align-items: center;align-content: flex-start;\"><div style=\"padding: 0.5rem;\"><div style=\"display: flex;flex-flow: column nowrap;justify-content: space-between;align-items: center;align-content: space-between;\"><div><a target=\"_blank\" href=\"https://cdli.ucla.edu/tools/SignLists/protocuneiform/archsigns/A.jpg\" title=\"to higher resolution lineart on CDLI\"><img src=\"cdli-imagery/lineart-a.jpg\" style=\"display: inline;max-height: 80px; max-width: 60px;\"  /></a></div><div><a target=\"_blank\" href=\"https://cdli.ucla.edu/tools/SignLists/protocuneiform/archsigns.html\" title=\"to CDLI main page for this item\">A</a></div></div></div><div style=\"padding: 0.5rem;\"><div style=\"display: flex;flex-flow: column nowrap;justify-content: space-between;align-items: center;align-content: space-between;\"><div><a target=\"_blank\" href=\"https://cdli.ucla.edu/tools/SignLists/protocuneiform/archsigns/KI.jpg\" title=\"to higher resolution lineart on CDLI\"><img src=\"cdli-imagery/lineart-ki.jpg\" style=\"display: inline;max-height: 80px; max-width: 60px;\"  /></a></div><div><a target=\"_blank\" href=\"https://cdli.ucla.edu/tools/SignLists/protocuneiform/archsigns.html\" title=\"to CDLI main page for this item\">KI</a></div></div></div><div style=\"padding: 0.5rem;\"><div style=\"display: flex;flex-flow: column nowrap;justify-content: space-between;align-items: center;align-content: space-between;\"><div><a target=\"_blank\" href=\"https://cdli.ucla.edu/tools/SignLists/protocuneiform/archsigns/DUG~b.jpg\" title=\"to higher resolution lineart on CDLI\"><img src=\"cdli-imagery/lineart-dug-b.jpg\" style=\"display: inline;max-height: 80px; max-width: 60px;\"  /></a></div><div><a target=\"_blank\" href=\"https://cdli.ucla.edu/tools/SignLists/protocuneiform/archsigns.html\" title=\"to CDLI main page for this item\">DUG~b</a></div></div></div><div style=\"padding: 0.5rem;\"><div style=\"display: flex;flex-flow: column nowrap;justify-content: space-between;align-items: center;align-content: space-between;\"><div><a target=\"_blank\" href=\"https://cdli.ucla.edu/tools/SignLists/protocuneiform/archsigns/DU.jpg\" title=\"to higher resolution lineart on CDLI\"><img src=\"cdli-imagery/lineart-du.jpg\" style=\"display: inline;max-height: 80px; max-width: 60px;\"  /></a></div><div><a target=\"_blank\" href=\"https://cdli.ucla.edu/tools/SignLists/protocuneiform/archsigns.html\" title=\"to CDLI main page for this item\">DU</a></div></div></div></div>"
      ],
      "text/plain": [
       "<IPython.core.display.HTML object>"
      ]
     },
     "metadata": {},
     "output_type": "display_data"
    },
    {
     "data": {
      "text/markdown": [
       "\n",
       "\n",
       "---\n",
       "\n"
      ],
      "text/plain": [
       "<IPython.core.display.Markdown object>"
      ]
     },
     "metadata": {},
     "output_type": "display_data"
    },
    {
     "data": {
      "text/html": [
       "<div style=\"display: flex;flex-flow: row nowrap;justify-content: flex-start;align-items: center;align-content: flex-start;\"><div style=\"padding: 0.5rem;\"><div style=\"display: flex;flex-flow: column nowrap;justify-content: space-between;align-items: center;align-content: space-between;\"><div><a target=\"_blank\" href=\"https://cdli.ucla.edu/tools/SignLists/protocuneiform/archsigns/GISZ.jpg\" title=\"to higher resolution lineart on CDLI\"><img src=\"cdli-imagery/lineart-gisz.jpg\" style=\"display: inline;max-height: 80px; max-width: 60px;\"  /></a></div><div><a target=\"_blank\" href=\"https://cdli.ucla.edu/tools/SignLists/protocuneiform/archsigns.html\" title=\"to CDLI main page for this item\">GISZ</a></div></div></div><div style=\"padding: 0.5rem;\"><div style=\"display: flex;flex-flow: column nowrap;justify-content: space-between;align-items: center;align-content: space-between;\"><div><a target=\"_blank\" href=\"https://cdli.ucla.edu/tools/SignLists/protocuneiform/archsigns/HI.jpg\" title=\"to higher resolution lineart on CDLI\"><img src=\"cdli-imagery/lineart-hi.jpg\" style=\"display: inline;max-height: 80px; max-width: 60px;\"  /></a></div><div><a target=\"_blank\" href=\"https://cdli.ucla.edu/tools/SignLists/protocuneiform/archsigns.html\" title=\"to CDLI main page for this item\">HI</a></div></div></div><div style=\"padding: 0.5rem;\"><div style=\"display: flex;flex-flow: column nowrap;justify-content: space-between;align-items: center;align-content: space-between;\"><div><a target=\"_blank\" href=\"https://cdli.ucla.edu/tools/SignLists/protocuneiform/archsigns/TUR.jpg\" title=\"to higher resolution lineart on CDLI\"><img src=\"cdli-imagery/lineart-tur.jpg\" style=\"display: inline;max-height: 80px; max-width: 60px;\"  /></a></div><div><a target=\"_blank\" href=\"https://cdli.ucla.edu/tools/SignLists/protocuneiform/archsigns.html\" title=\"to CDLI main page for this item\">TUR</a></div></div></div><div style=\"padding: 0.5rem;\"><div style=\"display: flex;flex-flow: column nowrap;justify-content: space-between;align-items: center;align-content: space-between;\"><div><a target=\"_blank\" href=\"https://cdli.ucla.edu/tools/SignLists/protocuneiform/archsigns/KU3~a.jpg\" title=\"to higher resolution lineart on CDLI\"><img src=\"cdli-imagery/lineart-ku3-a.jpg\" style=\"display: inline;max-height: 80px; max-width: 60px;\"  /></a></div><div><a target=\"_blank\" href=\"https://cdli.ucla.edu/tools/SignLists/protocuneiform/archsigns.html\" title=\"to CDLI main page for this item\">KU3~a</a></div></div></div></div>"
      ],
      "text/plain": [
       "<IPython.core.display.HTML object>"
      ]
     },
     "metadata": {},
     "output_type": "display_data"
    },
    {
     "data": {
      "text/markdown": [
       "\n",
       "\n",
       "---\n",
       "\n"
      ],
      "text/plain": [
       "<IPython.core.display.Markdown object>"
      ]
     },
     "metadata": {},
     "output_type": "display_data"
    },
    {
     "data": {
      "text/html": [
       "<div style=\"display: flex;flex-flow: row nowrap;justify-content: flex-start;align-items: center;align-content: flex-start;\"><div style=\"padding: 0.5rem;\"><div style=\"display: flex;flex-flow: column nowrap;justify-content: space-between;align-items: center;align-content: space-between;\"><div><a target=\"_blank\" href=\"https://cdli.ucla.edu/tools/SignLists/protocuneiform/archsigns/HI@g~a.jpg\" title=\"to higher resolution lineart on CDLI\"><img src=\"cdli-imagery/lineart-hi(a)g-a.jpg\" style=\"display: inline;max-height: 80px; max-width: 60px;\"  /></a></div><div><a target=\"_blank\" href=\"https://cdli.ucla.edu/tools/SignLists/protocuneiform/archsigns.html\" title=\"to CDLI main page for this item\">HI@g~a</a></div></div></div></div>"
      ],
      "text/plain": [
       "<IPython.core.display.HTML object>"
      ]
     },
     "metadata": {},
     "output_type": "display_data"
    }
   ],
   "source": [
    "for batch in chunk(combiTop, 4):\n",
    "    display(Markdown('\\n\\n---\\n\\n'))\n",
    "    A.lineart(batch, height=80, width=60)"
   ]
  },
  {
   "cell_type": "markdown",
   "metadata": {},
   "source": [
    "We can now compose our table.\n",
    "\n",
    "For each sign we make a row in which we report the frequency and rank of that sign in all\n",
    "groups."
   ]
  },
  {
   "cell_type": "code",
   "execution_count": 45,
   "metadata": {
    "ExecuteTime": {
     "end_time": "2018-05-09T17:52:06.119441Z",
     "start_time": "2018-05-09T17:52:06.107390Z"
    }
   },
   "outputs": [
    {
     "data": {
      "text/markdown": [
       "\n",
       "### Frequencies and ranks of non-numeral signs\n",
       "sign | all F | all R | super F | super R | sub F | sub R\n",
       "---  | ---   | ---   | ---     | ---     | ---   | ---\n",
       "**EN~a** | **1830** | **1** | 1670 | *1* | 160 | *1*\n",
       "**SZE~a** | **1294** | **2** | 1178 | *2* | 116 | *2*\n",
       "**GAL~a** | **1164** | **3** | 1136 | *3* | 28 | *30*\n",
       "**U4** | **1022** | **4** | 936 | *5* | 86 | *7*\n",
       "**AN** | **1020** | **5** | 946 | *4* | 74 | *9*\n",
       "**SAL** | **876** | **6** | 795 | *6* | 81 | *8*\n",
       "**PAP~a** | **851** | **7** | 765 | *7* | 86 | *6*\n",
       "**GI** | **849** | **8** | 754 | *8* | 95 | *4*\n",
       "**BA** | **781** | **9** | 679 | *10* | 102 | *3*\n",
       "**NUN~a** | **719** | **10** | 677 | *11* | 42 | *20*\n",
       "**SANGA~a** | **714** | **11** | 698 | *9* | 16 | *60*\n",
       "**SZU** | **680** | **12** | 611 | *13* | 69 | *10*\n",
       "**BU~a** | **653** | **13** | 561 | *16* | 92 | *5*\n",
       "**NAM2** | **649** | **14** | 625 | *12* | 24 | *39*\n",
       "**E2~a** | **646** | **15** | 583 | *14* | 63 | *11*\n",
       "**UDU~a** | **616** | **16** | 574 | *15* | 42 | *19*\n",
       "**A** | **600** | **17** | 557 | *17* | 43 | *18*\n",
       "**KI** | **546** | **18** | 503 | *19* | 43 | *17*\n",
       "**DUG~b** | **509** | **19** | 506 | *18* | 3 | *226*\n",
       "**DU** | **480** | **20** | 435 | *22* | 45 | *14*\n",
       "**GISZ** | **478** | **21** | 461 | *20* | 17 | *57*\n",
       "**HI** | **408** | **29** | 363 | *31* | 45 | *15*\n",
       "**TUR** | **382** | **32** | 330 | *36* | 52 | *12*\n",
       "**KU3~a** | **264** | **52** | 220 | *58* | 44 | *16*\n",
       "**HI@g~a** | **235** | **58** | 186 | *67* | 49 | *13*\n"
      ],
      "text/plain": [
       "<IPython.core.display.Markdown object>"
      ]
     },
     "metadata": {},
     "output_type": "display_data"
    }
   ],
   "source": [
    "table = f'''\n",
    "### Frequencies and ranks of non-numeral signs\n",
    "sign | all F | all R | super F | super R | sub F | sub R\n",
    "---  | ---   | ---   | ---     | ---     | ---   | ---\n",
    "'''\n",
    "for sign in combiTop:\n",
    "    allF = allFreqs[sign]\n",
    "    allR = allRanks[sign]\n",
    "    superF = superFreqs.get(sign, ' ')\n",
    "    superR = superRanks.get(sign, ' ')\n",
    "    subF = subFreqs.get(sign, ' ')\n",
    "    subR = subRanks.get(sign, ' ')\n",
    "    row = f'**{sign}** | **{allF}** | **{allR}** | {superF} | *{superR}* | {subF} | *{subR}*'\n",
    "    table += f'{row}\\n'\n",
    "display(Markdown(table))"
   ]
  },
  {
   "cell_type": "markdown",
   "metadata": {},
   "source": [
    "# Next\n",
    "\n",
    "*Ready for advanced ...*\n",
    "\n",
    "Try the\n",
    "[primers](http://nbviewer.jupyter.org/github/Nino-cunei/primers/tree/master/)\n",
    "for introductions into digital cuneiform research.\n",
    "\n",
    "All chapters:\n",
    "[start](start.ipynb)\n",
    "[imagery](imagery.ipynb)\n",
    "[steps](steps.ipynb)\n",
    "[search](search.ipynb)\n",
    "[signs](signs.ipynb)\n",
    "[quads](quads.ipynb)\n",
    "[jumps](jumps.ipynb)\n",
    "[cases](cases.ipynb)"
   ]
  }
 ],
 "metadata": {
  "kernelspec": {
   "display_name": "Python 3",
   "language": "python",
   "name": "python3"
  },
  "language_info": {
   "codemirror_mode": {
    "name": "ipython",
    "version": 3
   },
   "file_extension": ".py",
   "mimetype": "text/x-python",
   "name": "python",
   "nbconvert_exporter": "python",
   "pygments_lexer": "ipython3",
   "version": "3.7.1"
  },
  "toc": {
   "base_numbering": 1,
   "nav_menu": {},
   "number_sections": true,
   "sideBar": true,
   "skip_h1_title": true,
   "title_cell": "Table of Contents",
   "title_sidebar": "Contents",
   "toc_cell": true,
   "toc_position": {
    "height": "651px",
    "left": "0px",
    "right": "1054px",
    "top": "66px",
    "width": "226px"
   },
   "toc_section_display": "block",
   "toc_window_display": false
  }
 },
 "nbformat": 4,
 "nbformat_minor": 2
}
