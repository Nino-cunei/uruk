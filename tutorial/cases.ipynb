{
 "cells": [
  {
   "cell_type": "markdown",
   "metadata": {},
   "source": [
    "<img align=\"right\" src=\"images/ninologo.png\" width=\"150\"/>\n",
    "<img align=\"right\" src=\"images/tf-small.png\" width=\"125\"/>\n",
    "<img align=\"right\" src=\"images/dans.png\" width=\"150\"/>\n",
    "\n",
    "# Cases\n",
    "\n",
    "Cases are the building blocks on the faces of tablets.\n",
    "\n",
    "What about the distribution of signs in deeply nested cases versus outer cases?\n",
    "We show here how you can begin to investigate that."
   ]
  },
  {
   "cell_type": "code",
   "execution_count": 1,
   "metadata": {},
   "outputs": [],
   "source": [
    "%load_ext autoreload\n",
    "%autoreload 2"
   ]
  },
  {
   "cell_type": "code",
   "execution_count": 2,
   "metadata": {
    "ExecuteTime": {
     "end_time": "2018-05-11T10:16:51.900758Z",
     "start_time": "2018-05-11T10:16:51.835847Z"
    }
   },
   "outputs": [],
   "source": [
    "import collections\n",
    "from IPython.display import display, Markdown\n",
    "from tf.app import use"
   ]
  },
  {
   "cell_type": "code",
   "execution_count": 3,
   "metadata": {
    "ExecuteTime": {
     "end_time": "2018-05-11T10:16:54.454775Z",
     "start_time": "2018-05-11T10:16:53.137842Z"
    }
   },
   "outputs": [
    {
     "data": {
      "text/markdown": [
       "**Locating corpus resources ...**"
      ],
      "text/plain": [
       "<IPython.core.display.Markdown object>"
      ]
     },
     "metadata": {},
     "output_type": "display_data"
    },
    {
     "data": {
      "text/html": [
       "<b title=\"local commit\">app:</b> <span title=\"#7da6cb7cd9dffb12aff5e35639078029727a90e7 offline under /Users/me/text-fabric-data/github\">~/text-fabric-data/github/Nino-cunei/uruk/app</span>"
      ],
      "text/plain": [
       "<IPython.core.display.HTML object>"
      ]
     },
     "metadata": {},
     "output_type": "display_data"
    },
    {
     "data": {
      "text/html": [
       "<b title=\"local commit\">data:</b> <span title=\"#7da6cb7cd9dffb12aff5e35639078029727a90e7 offline under /Users/me/text-fabric-data/github\">~/text-fabric-data/github/Nino-cunei/uruk/tf/1.0</span>"
      ],
      "text/plain": [
       "<IPython.core.display.HTML object>"
      ]
     },
     "metadata": {},
     "output_type": "display_data"
    },
    {
     "data": {
      "text/html": [
       "\n",
       "            <b>Text-Fabric:</b> <a target=\"_blank\" href=\"https://annotation.github.io/text-fabric/tf/cheatsheet.html\" title=\"text-fabric-api\">Text-Fabric API 11.3.0</a>, <a target=\"_blank\" href=\"https://github.com/Nino-cunei/uruk/blob/master/app\" title=\"Nino-cunei/uruk app\">Nino-cunei/uruk/app  v3</a>, <a target=\"_blank\" href=\"https://annotation.github.io/text-fabric/tf/about/searchusage.html\" title=\"Search Templates Introduction and Reference\">Search Reference</a><br>\n",
       "            <b>Data:</b> <a target=\"_blank\" href=\"https://github.com/Nino-cunei/uruk/blob/master/tf/docs/about.md\" title=\"provenance of Uruk IV/III: Proto-cuneiform tablets \">Nino-cunei - uruk 1.0</a>, <a target=\"_blank\" href=\"https://annotation.github.io/text-fabric/tf/writing/\" title=\"How TF features represent text\">Character table</a>, <a target=\"_blank\" href=\"https://github.com/Nino-cunei/uruk/blob/master/tf/docs/transcription.md\" title=\"Nino-cunei - uruk feature documentation\">Feature docs</a><br>\n",
       "            <details class=\"nodeinfo\"><summary><b>Node types</b></summary>\n",
       "<table class=\"nodeinfo\">\n",
       "    <tr>\n",
       "        <th>Name</th>\n",
       "        <th># of nodes</th>\n",
       "        <th># slots/node</th>\n",
       "        <th>% coverage</th>\n",
       "    </tr>\n",
       "\n",
       "<tr>\n",
       "    <th>tablet</th>\n",
       "    <td>6364</td>\n",
       "    <td>22.01</td>\n",
       "    <td><b>100</b></td>\n",
       "</tr>\n",
       "\n",
       "<tr>\n",
       "    <th>face</th>\n",
       "    <td>9456</td>\n",
       "    <td>14.10</td>\n",
       "    <td>95</td>\n",
       "</tr>\n",
       "\n",
       "<tr>\n",
       "    <th>column</th>\n",
       "    <td>14023</td>\n",
       "    <td>9.34</td>\n",
       "    <td>93</td>\n",
       "</tr>\n",
       "\n",
       "<tr>\n",
       "    <th>line</th>\n",
       "    <td>35842</td>\n",
       "    <td>3.61</td>\n",
       "    <td>92</td>\n",
       "</tr>\n",
       "\n",
       "<tr>\n",
       "    <th>case</th>\n",
       "    <td>9651</td>\n",
       "    <td>3.46</td>\n",
       "    <td>24</td>\n",
       "</tr>\n",
       "\n",
       "<tr>\n",
       "    <th>cluster</th>\n",
       "    <td>32753</td>\n",
       "    <td>1.03</td>\n",
       "    <td>24</td>\n",
       "</tr>\n",
       "\n",
       "<tr>\n",
       "    <th>quad</th>\n",
       "    <td>3794</td>\n",
       "    <td>2.05</td>\n",
       "    <td>6</td>\n",
       "</tr>\n",
       "\n",
       "<tr>\n",
       "    <th>comment</th>\n",
       "    <td>11090</td>\n",
       "    <td>1.00</td>\n",
       "    <td>8</td>\n",
       "</tr>\n",
       "\n",
       "<tr>\n",
       "    <th><i>sign</i></th>\n",
       "    <td>140094</td>\n",
       "    <td>1.00</td>\n",
       "    <td><b>100</b></td>\n",
       "</tr>\n",
       "</table></details>\n",
       "            <b>Sets:</b> no custom sets<br>\n",
       "            <b>Features:</b><br>\n",
       "<details><summary><b>Uruk IV/III: Proto-cuneiform tablets </b></summary>\n",
       "    <div class=\"fcorpus\">\n",
       "\n",
       "<div class=\"frow\">\n",
       "    <div class=\"fnamecat \">\n",
       "<a target=\"_blank\" href=\"https://github.com/Nino-cunei/uruk/blob/master/tf/docs/transcription.md\" title=\"~/text-fabric-data/github/Nino-cunei/uruk/tf/1.0/catalogId.tf\">catalogId</a>\n",
       "</div>\n",
       "<div class=\"fmono\">str</div>\n",
       "\n",
       "<span> identifier of tablet in catalog (http://www.flutopedia.com/tablets.htm)</span>\n",
       "\n",
       "</div>\n",
       "\n",
       "<div class=\"frow\">\n",
       "    <div class=\"fnamecat \">\n",
       "<a target=\"_blank\" href=\"https://github.com/Nino-cunei/uruk/blob/master/tf/docs/transcription.md\" title=\"~/text-fabric-data/github/Nino-cunei/uruk/tf/1.0/crossref.tf\">crossref</a>\n",
       "</div>\n",
       "<div class=\"fmono\">str</div>\n",
       "\n",
       "<span> </span>\n",
       "\n",
       "</div>\n",
       "\n",
       "<div class=\"frow\">\n",
       "    <div class=\"fnamecat \">\n",
       "<a target=\"_blank\" href=\"https://github.com/Nino-cunei/uruk/blob/master/tf/docs/transcription.md\" title=\"~/text-fabric-data/github/Nino-cunei/uruk/tf/1.0/damage.tf\">damage</a>\n",
       "</div>\n",
       "<div class=\"fmono\">int</div>\n",
       "\n",
       "<span> indicates damage of signs or quads,corresponds to #-flag in transcription</span>\n",
       "\n",
       "</div>\n",
       "\n",
       "<div class=\"frow\">\n",
       "    <div class=\"fnamecat \">\n",
       "<a target=\"_blank\" href=\"https://github.com/Nino-cunei/uruk/blob/master/tf/docs/transcription.md\" title=\"~/text-fabric-data/github/Nino-cunei/uruk/tf/1.0/depth.tf\">depth</a>\n",
       "</div>\n",
       "<div class=\"fmono\">int</div>\n",
       "\n",
       "<span> </span>\n",
       "\n",
       "</div>\n",
       "\n",
       "<div class=\"frow\">\n",
       "    <div class=\"fnamecat \">\n",
       "<a target=\"_blank\" href=\"https://github.com/Nino-cunei/uruk/blob/master/tf/docs/transcription.md\" title=\"~/text-fabric-data/github/Nino-cunei/uruk/tf/1.0/excavation.tf\">excavation</a>\n",
       "</div>\n",
       "<div class=\"fmono\">str</div>\n",
       "\n",
       "<span> excavation number of tablet</span>\n",
       "\n",
       "</div>\n",
       "\n",
       "<div class=\"frow\">\n",
       "    <div class=\"fnamecat \">\n",
       "<a target=\"_blank\" href=\"https://github.com/Nino-cunei/uruk/blob/master/tf/docs/transcription.md\" title=\"~/text-fabric-data/github/Nino-cunei/uruk/tf/1.0/fragment.tf\">fragment</a>\n",
       "</div>\n",
       "<div class=\"fmono\">str</div>\n",
       "\n",
       "<span> level between tablet and face</span>\n",
       "\n",
       "</div>\n",
       "\n",
       "<div class=\"frow\">\n",
       "    <div class=\"fnamecat \">\n",
       "<a target=\"_blank\" href=\"https://github.com/Nino-cunei/uruk/blob/master/tf/docs/transcription.md\" title=\"~/text-fabric-data/github/Nino-cunei/uruk/tf/1.0/fullNumber.tf\">fullNumber</a>\n",
       "</div>\n",
       "<div class=\"fmono\">str</div>\n",
       "\n",
       "<span> the combination of face type and column number on columns</span>\n",
       "\n",
       "</div>\n",
       "\n",
       "<div class=\"frow\">\n",
       "    <div class=\"fnamecat \">\n",
       "<a target=\"_blank\" href=\"https://github.com/Nino-cunei/uruk/blob/master/tf/docs/transcription.md\" title=\"~/text-fabric-data/github/Nino-cunei/uruk/tf/1.0/grapheme.tf\">grapheme</a>\n",
       "</div>\n",
       "<div class=\"fmono\">str</div>\n",
       "\n",
       "<span> name of a grapheme (glyph)</span>\n",
       "\n",
       "</div>\n",
       "\n",
       "<div class=\"frow\">\n",
       "    <div class=\"fnamecat \">\n",
       "<a target=\"_blank\" href=\"https://github.com/Nino-cunei/uruk/blob/master/tf/docs/transcription.md\" title=\"~/text-fabric-data/github/Nino-cunei/uruk/tf/1.0/identifier.tf\">identifier</a>\n",
       "</div>\n",
       "<div class=\"fmono\">str</div>\n",
       "\n",
       "<span> additional information pertaining to the name of a face</span>\n",
       "\n",
       "</div>\n",
       "\n",
       "<div class=\"frow\">\n",
       "    <div class=\"fnamecat \">\n",
       "<a target=\"_blank\" href=\"https://github.com/Nino-cunei/uruk/blob/master/tf/docs/transcription.md\" title=\"~/text-fabric-data/github/Nino-cunei/uruk/tf/1.0/modifier.tf\">modifier</a>\n",
       "</div>\n",
       "<div class=\"fmono\">str</div>\n",
       "\n",
       "<span> indicates modifcation of a sign; corresponds to sign@letter in transcription. if the grapheme is a repeat, the modification applies to the whole repeat.</span>\n",
       "\n",
       "</div>\n",
       "\n",
       "<div class=\"frow\">\n",
       "    <div class=\"fnamecat \">\n",
       "<a target=\"_blank\" href=\"https://github.com/Nino-cunei/uruk/blob/master/tf/docs/transcription.md\" title=\"~/text-fabric-data/github/Nino-cunei/uruk/tf/1.0/modifierFirst.tf\">modifierFirst</a>\n",
       "</div>\n",
       "<div class=\"fmono\">str</div>\n",
       "\n",
       "<span> indicates the order between modifiers and variants on the same object; if 1, modifiers come before variants</span>\n",
       "\n",
       "</div>\n",
       "\n",
       "<div class=\"frow\">\n",
       "    <div class=\"fnamecat \">\n",
       "<a target=\"_blank\" href=\"https://github.com/Nino-cunei/uruk/blob/master/tf/docs/transcription.md\" title=\"~/text-fabric-data/github/Nino-cunei/uruk/tf/1.0/modifierInner.tf\">modifierInner</a>\n",
       "</div>\n",
       "<div class=\"fmono\">str</div>\n",
       "\n",
       "<span> indicates modifcation of a sign within a repeatcorresponds to sign@letter in transcription</span>\n",
       "\n",
       "</div>\n",
       "\n",
       "<div class=\"frow\">\n",
       "    <div class=\"fnamecat \">\n",
       "<a target=\"_blank\" href=\"https://github.com/Nino-cunei/uruk/blob/master/tf/docs/transcription.md\" title=\"~/text-fabric-data/github/Nino-cunei/uruk/tf/1.0/name.tf\">name</a>\n",
       "</div>\n",
       "<div class=\"fmono\">str</div>\n",
       "\n",
       "<span> name of tablet</span>\n",
       "\n",
       "</div>\n",
       "\n",
       "<div class=\"frow\">\n",
       "    <div class=\"fnamecat \">\n",
       "<a target=\"_blank\" href=\"https://github.com/Nino-cunei/uruk/blob/master/tf/docs/transcription.md\" title=\"~/text-fabric-data/github/Nino-cunei/uruk/tf/1.0/number.tf\">number</a>\n",
       "</div>\n",
       "<div class=\"fmono\">str</div>\n",
       "\n",
       "<span> number of a column or line or case</span>\n",
       "\n",
       "</div>\n",
       "\n",
       "<div class=\"frow\">\n",
       "    <div class=\"fnamecat \">\n",
       "<a target=\"_blank\" href=\"https://github.com/Nino-cunei/uruk/blob/master/tf/docs/transcription.md\" title=\"~/text-fabric-data/github/Nino-cunei/uruk/tf/1.0/otype.tf\">otype</a>\n",
       "</div>\n",
       "<div class=\"fmono\">str</div>\n",
       "\n",
       "<span> </span>\n",
       "\n",
       "</div>\n",
       "\n",
       "<div class=\"frow\">\n",
       "    <div class=\"fnamecat \">\n",
       "<a target=\"_blank\" href=\"https://github.com/Nino-cunei/uruk/blob/master/tf/docs/transcription.md\" title=\"~/text-fabric-data/github/Nino-cunei/uruk/tf/1.0/period.tf\">period</a>\n",
       "</div>\n",
       "<div class=\"fmono\">str</div>\n",
       "\n",
       "<span> period that characterises the tablet corpus</span>\n",
       "\n",
       "</div>\n",
       "\n",
       "<div class=\"frow\">\n",
       "    <div class=\"fnamecat \">\n",
       "<a target=\"_blank\" href=\"https://github.com/Nino-cunei/uruk/blob/master/tf/docs/transcription.md\" title=\"~/text-fabric-data/github/Nino-cunei/uruk/tf/1.0/prime.tf\">prime</a>\n",
       "</div>\n",
       "<div class=\"fmono\">int</div>\n",
       "\n",
       "<span> indicates the presence/multiplicity of a prime (single quote)</span>\n",
       "\n",
       "</div>\n",
       "\n",
       "<div class=\"frow\">\n",
       "    <div class=\"fnamecat \">\n",
       "<a target=\"_blank\" href=\"https://github.com/Nino-cunei/uruk/blob/master/tf/docs/transcription.md\" title=\"~/text-fabric-data/github/Nino-cunei/uruk/tf/1.0/remarkable.tf\">remarkable</a>\n",
       "</div>\n",
       "<div class=\"fmono\">int</div>\n",
       "\n",
       "<span> corresponds to ! flag in transcription </span>\n",
       "\n",
       "</div>\n",
       "\n",
       "<div class=\"frow\">\n",
       "    <div class=\"fnamecat \">\n",
       "<a target=\"_blank\" href=\"https://github.com/Nino-cunei/uruk/blob/master/tf/docs/transcription.md\" title=\"~/text-fabric-data/github/Nino-cunei/uruk/tf/1.0/repeat.tf\">repeat</a>\n",
       "</div>\n",
       "<div class=\"fmono\">int</div>\n",
       "\n",
       "<span> number indicating the number of repeats of a grapheme,especially in numerals; -1 comes from repeat N in transcription</span>\n",
       "\n",
       "</div>\n",
       "\n",
       "<div class=\"frow\">\n",
       "    <div class=\"fnamecat \">\n",
       "<a target=\"_blank\" href=\"https://github.com/Nino-cunei/uruk/blob/master/tf/docs/transcription.md\" title=\"~/text-fabric-data/github/Nino-cunei/uruk/tf/1.0/srcLn.tf\">srcLn</a>\n",
       "</div>\n",
       "<div class=\"fmono\">str</div>\n",
       "\n",
       "<span> transcribed line</span>\n",
       "\n",
       "</div>\n",
       "\n",
       "<div class=\"frow\">\n",
       "    <div class=\"fnamecat \">\n",
       "<a target=\"_blank\" href=\"https://github.com/Nino-cunei/uruk/blob/master/tf/docs/transcription.md\" title=\"~/text-fabric-data/github/Nino-cunei/uruk/tf/1.0/srcLnNum.tf\">srcLnNum</a>\n",
       "</div>\n",
       "<div class=\"fmono\">int</div>\n",
       "\n",
       "<span> line number in transcription file</span>\n",
       "\n",
       "</div>\n",
       "\n",
       "<div class=\"frow\">\n",
       "    <div class=\"fnamecat \">\n",
       "<a target=\"_blank\" href=\"https://github.com/Nino-cunei/uruk/blob/master/tf/docs/transcription.md\" title=\"~/text-fabric-data/github/Nino-cunei/uruk/tf/1.0/terminal.tf\">terminal</a>\n",
       "</div>\n",
       "<div class=\"fmono\">str</div>\n",
       "\n",
       "<span> </span>\n",
       "\n",
       "</div>\n",
       "\n",
       "<div class=\"frow\">\n",
       "    <div class=\"fnamecat \">\n",
       "<a target=\"_blank\" href=\"https://github.com/Nino-cunei/uruk/blob/master/tf/docs/transcription.md\" title=\"~/text-fabric-data/github/Nino-cunei/uruk/tf/1.0/text.tf\">text</a>\n",
       "</div>\n",
       "<div class=\"fmono\">str</div>\n",
       "\n",
       "<span> text of comment nodes</span>\n",
       "\n",
       "</div>\n",
       "\n",
       "<div class=\"frow\">\n",
       "    <div class=\"fnamecat \">\n",
       "<a target=\"_blank\" href=\"https://github.com/Nino-cunei/uruk/blob/master/tf/docs/transcription.md\" title=\"~/text-fabric-data/github/Nino-cunei/uruk/tf/1.0/type.tf\">type</a>\n",
       "</div>\n",
       "<div class=\"fmono\">str</div>\n",
       "\n",
       "<span> type of a face; type of a comment; type of a cluster;type of a sign</span>\n",
       "\n",
       "</div>\n",
       "\n",
       "<div class=\"frow\">\n",
       "    <div class=\"fnamecat \">\n",
       "<a target=\"_blank\" href=\"https://github.com/Nino-cunei/uruk/blob/master/tf/docs/transcription.md\" title=\"~/text-fabric-data/github/Nino-cunei/uruk/tf/1.0/uncertain.tf\">uncertain</a>\n",
       "</div>\n",
       "<div class=\"fmono\">int</div>\n",
       "\n",
       "<span> corresponds to ?-flag in transcription</span>\n",
       "\n",
       "</div>\n",
       "\n",
       "<div class=\"frow\">\n",
       "    <div class=\"fnamecat \">\n",
       "<a target=\"_blank\" href=\"https://github.com/Nino-cunei/uruk/blob/master/tf/docs/transcription.md\" title=\"~/text-fabric-data/github/Nino-cunei/uruk/tf/1.0/variant.tf\">variant</a>\n",
       "</div>\n",
       "<div class=\"fmono\">str</div>\n",
       "\n",
       "<span> allograph for a sign, corresponds to ~x in transcription</span>\n",
       "\n",
       "</div>\n",
       "\n",
       "<div class=\"frow\">\n",
       "    <div class=\"fnamecat \">\n",
       "<a target=\"_blank\" href=\"https://github.com/Nino-cunei/uruk/blob/master/tf/docs/transcription.md\" title=\"~/text-fabric-data/github/Nino-cunei/uruk/tf/1.0/variantOuter.tf\">variantOuter</a>\n",
       "</div>\n",
       "<div class=\"fmono\">str</div>\n",
       "\n",
       "<span> allograph for a quad, corresponds to ~x in transcription</span>\n",
       "\n",
       "</div>\n",
       "\n",
       "<div class=\"frow\">\n",
       "    <div class=\"fnamecat \">\n",
       "<a target=\"_blank\" href=\"https://github.com/Nino-cunei/uruk/blob/master/tf/docs/transcription.md\" title=\"~/text-fabric-data/github/Nino-cunei/uruk/tf/1.0/written.tf\">written</a>\n",
       "</div>\n",
       "<div class=\"fmono\">str</div>\n",
       "\n",
       "<span> corresponds to !(xxx) flag in transcription</span>\n",
       "\n",
       "</div>\n",
       "\n",
       "<div class=\"frow\">\n",
       "    <div class=\"fnamecat edge\">\n",
       "<a target=\"_blank\" href=\"https://github.com/Nino-cunei/uruk/blob/master/tf/docs/transcription.md\" title=\"~/text-fabric-data/github/Nino-cunei/uruk/tf/1.0/comments.tf\">comments</a>\n",
       "</div>\n",
       "<div class=\"fmono\">none</div>\n",
       "\n",
       "<span> links comment nodes to their targets</span>\n",
       "\n",
       "</div>\n",
       "\n",
       "<div class=\"frow\">\n",
       "    <div class=\"fnamecat edge\">\n",
       "<a target=\"_blank\" href=\"https://github.com/Nino-cunei/uruk/blob/master/tf/docs/transcription.md\" title=\"~/text-fabric-data/github/Nino-cunei/uruk/tf/1.0/op.tf\">op</a>\n",
       "</div>\n",
       "<div class=\"fmono\">str</div>\n",
       "\n",
       "<span> operator connecting left to right operand in a quad</span>\n",
       "\n",
       "</div>\n",
       "\n",
       "<div class=\"frow\">\n",
       "    <div class=\"fnamecat edge\">\n",
       "<a target=\"_blank\" href=\"https://github.com/Nino-cunei/uruk/blob/master/tf/docs/transcription.md\" title=\"~/text-fabric-data/github/Nino-cunei/uruk/tf/1.0/oslots.tf\">oslots</a>\n",
       "</div>\n",
       "<div class=\"fmono\">none</div>\n",
       "\n",
       "<span> </span>\n",
       "\n",
       "</div>\n",
       "\n",
       "<div class=\"frow\">\n",
       "    <div class=\"fnamecat edge\">\n",
       "<a target=\"_blank\" href=\"https://github.com/Nino-cunei/uruk/blob/master/tf/docs/transcription.md\" title=\"~/text-fabric-data/github/Nino-cunei/uruk/tf/1.0/sub.tf\">sub</a>\n",
       "</div>\n",
       "<div class=\"fmono\">none</div>\n",
       "\n",
       "<span> connects line or case with sub-cases, quad with sub-quads; clusters with sub-clusters</span>\n",
       "\n",
       "</div>\n",
       "\n",
       "    </div>\n",
       "</details>\n",
       "\n"
      ],
      "text/plain": [
       "<IPython.core.display.HTML object>"
      ]
     },
     "metadata": {},
     "output_type": "display_data"
    },
    {
     "data": {
      "text/html": [
       "<style>tr.tf.ltr, td.tf.ltr, th.tf.ltr { text-align: left ! important;}\n",
       "tr.tf.rtl, td.tf.rtl, th.tf.rtl { text-align: right ! important;}\n",
       "@font-face {\n",
       "  font-family: \"Gentium Plus\";\n",
       "  src: local('Gentium Plus'), local('GentiumPlus'),\n",
       "    url('/server/static/fonts/GentiumPlus-R.woff') format('woff'),\n",
       "    url('https://github.com/annotation/text-fabric/blob/master/tf/server/static/fonts/GentiumPlus-R.woff?raw=true') format('woff');\n",
       "}\n",
       "\n",
       "@font-face {\n",
       "  font-family: \"Ezra SIL\";\n",
       "  src: local('Ezra SIL'), local('EzraSIL'),\n",
       "    url('/server/static/fonts/SILEOT.woff') format('woff'),\n",
       "    url('https://github.com/annotation/text-fabric/blob/master/tf/server/static/fonts/SILEOT.woff?raw=true') format('woff');\n",
       "}\n",
       "\n",
       "@font-face {\n",
       "  font-family: \"SBL Hebrew\";\n",
       "  src: local('SBL Hebrew'), local('SBLHebrew'),\n",
       "    url('/server/static/fonts/SBL_Hbrw.woff') format('woff'),\n",
       "    url('https://github.com/annotation/text-fabric/blob/master/tf/server/static/fonts/SBL_Hbrw.woff?raw=true') format('woff');\n",
       "}\n",
       "\n",
       "@font-face {\n",
       "  font-family: \"Estrangelo Edessa\";\n",
       "  src: local('Estrangelo Edessa'), local('EstrangeloEdessa');\n",
       "    url('/server/static/fonts/SyrCOMEdessa.woff') format('woff'),\n",
       "    url('https://github.com/annotation/text-fabric/blob/master/tf/server/static/fonts/SyrCOMEdessa.woff?raw=true') format('woff');\n",
       "}\n",
       "\n",
       "@font-face {\n",
       "  font-family: AmiriQuran;\n",
       "  font-style: normal;\n",
       "  font-weight: 400;\n",
       "  src: local('Amiri Quran'), local('AmiriQuran'),\n",
       "    url('/server/static/fonts/AmiriQuran.woff') format('woff'),\n",
       "    url('https://github.com/annotation/text-fabric/blob/master/tf/server/static/fonts/AmiriQuran.woff?raw=true') format('woff');\n",
       "}\n",
       "\n",
       "@font-face {\n",
       "  font-family: AmiriQuranColored;\n",
       "  font-style: normal;\n",
       "  font-weight: 400;\n",
       "  src: local('Amiri Quran Colored'), local('AmiriQuranColored'),\n",
       "    url('/server/static/fonts/AmiriQuranColored.woff') format('woff'),\n",
       "    url('https://github.com/annotation/text-fabric/blob/master/tf/server/static/fonts/AmiriQuranColored.woff?raw=true') format('woff');\n",
       "}\n",
       "\n",
       "@font-face {\n",
       "  font-family: \"Santakku\";\n",
       "  src: local('Santakku'),\n",
       "    url('/server/static/fonts/Santakku.woff') format('woff'),\n",
       "    url('https://github.com/annotation/text-fabric/blob/master/tf/server/static/fonts/Santakku.woff?raw=true') format('woff');\n",
       "}\n",
       "\n",
       "@font-face {\n",
       "  font-family: \"SantakkuM\";\n",
       "  src: local('SantakkuM'),\n",
       "    url('/server/static/fonts/SantakkuM.woff') format('woff'),\n",
       "    url('https://github.com/annotation/text-fabric/blob/master/tf/server/static/fonts/SantakkuM.woff?raw=true') format('woff');\n",
       "}\n",
       "/* bypassing some classical notebook settings */\n",
       "div#notebook {\n",
       "  line-height: unset;\n",
       "}\n",
       "/* neutral text */\n",
       ".txtn,.txtn a:visited,.txtn a:link {\n",
       "    font-family: sans-serif;\n",
       "    font-size: medium;\n",
       "    direction: ltr;\n",
       "    unicode-bidi: embed;\n",
       "    text-decoration: none;\n",
       "    color: var(--text-color);\n",
       "}\n",
       "/* transcription text */\n",
       ".txtt,.txtt a:visited,.txtt a:link {\n",
       "    font-family: monospace;\n",
       "    font-size: medium;\n",
       "    direction: ltr;\n",
       "    unicode-bidi: embed;\n",
       "    text-decoration: none;\n",
       "    color: var(--text-color);\n",
       "}\n",
       "/* source text */\n",
       ".txto,.txto a:visited,.txto a:link {\n",
       "    font-family: serif;\n",
       "    font-size: medium;\n",
       "    direction: ltr;\n",
       "    unicode-bidi: embed;\n",
       "    text-decoration: none;\n",
       "    color: var(--text-color);\n",
       "}\n",
       "/* phonetic text */\n",
       ".txtp,.txtp a:visited,.txtp a:link {\n",
       "    font-family: Gentium, sans-serif;\n",
       "    font-size: medium;\n",
       "    direction: ltr;\n",
       "    unicode-bidi: embed;\n",
       "    text-decoration: none;\n",
       "    color: var(--text-color);\n",
       "}\n",
       "/* original script text */\n",
       ".txtu,.txtu a:visited,.txtu a:link {\n",
       "    font-family: Gentium, sans-serif;\n",
       "    font-size: medium;\n",
       "    text-decoration: none;\n",
       "    color: var(--text-color);\n",
       "}\n",
       "/* hebrew */\n",
       ".txtu.hbo,.lex.hbo {\n",
       "    font-family: \"Ezra SIL\", \"SBL Hebrew\", sans-serif;\n",
       "    font-size: large;\n",
       "    direction: rtl ! important;\n",
       "    unicode-bidi: embed;\n",
       "}\n",
       "/* syriac */\n",
       ".txtu.syc,.lex.syc {\n",
       "    font-family: \"Estrangelo Edessa\", sans-serif;\n",
       "    font-size: medium;\n",
       "    direction: rtl ! important;\n",
       "    unicode-bidi: embed;\n",
       "}\n",
       "/* neo aramaic */\n",
       ".txtu.cld,.lex.cld {\n",
       "    font-family: \"CharisSIL-R\", sans-serif;\n",
       "    font-size: medium;\n",
       "    direction: ltr ! important;\n",
       "    unicode-bidi: embed;\n",
       "}\n",
       "/* standard arabic */\n",
       ".txtu.ara,.lex.ara {\n",
       "    font-family: \"AmiriQuran\", sans-serif;\n",
       "    font-size: large;\n",
       "    direction: rtl ! important;\n",
       "    unicode-bidi: embed;\n",
       "}\n",
       "/* cuneiform */\n",
       ".txtu.akk,.lex.akk {\n",
       "    font-family: Santakku, sans-serif;\n",
       "    font-size: large;\n",
       "    direction: ltr ! important;\n",
       "    unicode-bidi: embed;\n",
       "}\n",
       "/* greek */\n",
       ".txtu.grc,.lex.grc a:link {\n",
       "    font-family: Gentium, sans-serif;\n",
       "    font-size: medium;\n",
       "    direction: ltr ! important;\n",
       "    unicode-bidi: embed;\n",
       "}\n",
       "a:hover {\n",
       "    text-decoration: underline | important;\n",
       "    color: #0000ff | important;\n",
       "}\n",
       ".ltr {\n",
       "    direction: ltr ! important;\n",
       "    unicode-bidi: embed;\n",
       "}\n",
       ".rtl {\n",
       "    direction: rtl ! important;\n",
       "    unicode-bidi: embed;\n",
       "}\n",
       ".ubd {\n",
       "    unicode-bidi: embed;\n",
       "}\n",
       ".col {\n",
       "   display: inline-block;\n",
       "}\n",
       ".features {\n",
       "    font-family: monospace;\n",
       "    font-size: medium;\n",
       "    font-weight: bold;\n",
       "    color: var(--features);\n",
       "    display: flex;\n",
       "    flex-flow: column nowrap;\n",
       "    justify-content: flex-start;\n",
       "    align-items: flex-start;\n",
       "    align-content: flex-start;\n",
       "    padding: 2px;\n",
       "    margin: 2px;\n",
       "    direction: ltr;\n",
       "    unicode-bidi: embed;\n",
       "    border: var(--meta-width) solid var(--meta-color);\n",
       "    border-radius: var(--meta-width);\n",
       "}\n",
       ".features div,.features span {\n",
       "    padding: 0;\n",
       "    margin: -2px 0;\n",
       "}\n",
       ".features .f {\n",
       "    font-family: sans-serif;\n",
       "    font-size: small;\n",
       "    font-weight: normal;\n",
       "    color: #5555bb;\n",
       "}\n",
       ".features .xft {\n",
       "  color: #000000;\n",
       "  background-color: #eeeeee;\n",
       "  font-size: medium;\n",
       "  margin: 2px 0px;\n",
       "}\n",
       ".features .xft .f {\n",
       "  color: #000000;\n",
       "  background-color: #eeeeee;\n",
       "  font-size: small;\n",
       "  font-weight: normal;\n",
       "}\n",
       ".tfsechead {\n",
       "    font-family: sans-serif;\n",
       "    font-size: small;\n",
       "    font-weight: bold;\n",
       "    color: var(--tfsechead);\n",
       "    unicode-bidi: embed;\n",
       "    text-align: start;\n",
       "}\n",
       ".structure {\n",
       "    font-family: sans-serif;\n",
       "    font-size: small;\n",
       "    font-weight: bold;\n",
       "    color: var(--structure);\n",
       "    unicode-bidi: embed;\n",
       "    text-align: start;\n",
       "}\n",
       ".comments {\n",
       "    display: flex;\n",
       "    justify-content: flex-start;\n",
       "    align-items: flex-start;\n",
       "    align-content: flex-start;\n",
       "    flex-flow: column nowrap;\n",
       "}\n",
       ".nd, a:link.nd {\n",
       "    font-family: sans-serif;\n",
       "    font-size: small;\n",
       "    color: var(--node);\n",
       "    vertical-align: super;\n",
       "    direction: ltr ! important;\n",
       "    unicode-bidi: embed;\n",
       "}\n",
       ".lex {\n",
       "  color: var(--lex-color);;\n",
       "}\n",
       ".children,.children.ltr {\n",
       "    display: flex;\n",
       "    border: 0;\n",
       "    background-color: #ffffff;\n",
       "    justify-content: flex-start;\n",
       "    align-items: flex-start;\n",
       "    align-content: flex-start;\n",
       "}\n",
       ".children.stretch {\n",
       "    align-items: stretch;\n",
       "}\n",
       ".children.hor {\n",
       "    flex-flow: row nowrap;\n",
       "}\n",
       ".children.hor.wrap {\n",
       "    flex-flow: row wrap;\n",
       "}\n",
       ".children.ver {\n",
       "    flex-flow: column nowrap;\n",
       "}\n",
       ".children.ver.wrap {\n",
       "    flex-flow: column wrap;\n",
       "}\n",
       ".contnr {\n",
       "    width: fit-content;\n",
       "    display: flex;\n",
       "    justify-content: flex-start;\n",
       "    align-items: flex-start;\n",
       "    align-content: flex-start;\n",
       "    flex-flow: column nowrap;\n",
       "    background: #ffffff none repeat scroll 0 0;\n",
       "    padding:  10px 2px 2px 2px;\n",
       "    margin: 16px 2px 2px 2px;\n",
       "    border-style: solid;\n",
       "    font-size: small;\n",
       "}\n",
       ".contnr.trm {\n",
       "    background-attachment: local;\n",
       "}\n",
       ".contnr.cnul {\n",
       "    padding:  0;\n",
       "    margin: 0;\n",
       "    border-style: solid;\n",
       "    font-size: xx-small;\n",
       "}\n",
       ".contnr.cnul,.lbl.cnul {\n",
       "    border-color: var(--border-color-nul);\n",
       "    border-width: var(--border-width-nul);\n",
       "    border-radius: var(--border-width-nul);\n",
       "}\n",
       ".contnr.c0,.lbl.c0 {\n",
       "    border-color: var(--border-color0);\n",
       "    border-width: var(--border-width0);\n",
       "    border-radius: var(--border-width0);\n",
       "}\n",
       ".contnr.c1,.lbl.c1 {\n",
       "    border-color: var(--border-color1);\n",
       "    border-width: var(--border-width1);\n",
       "    border-radius: var(--border-width1);\n",
       "}\n",
       ".contnr.c2,.lbl.c2 {\n",
       "    border-color: var(--border-color2);\n",
       "    border-width: var(--border-width2);\n",
       "    border-radius: var(--border-width2);\n",
       "}\n",
       ".contnr.c3,.lbl.c3 {\n",
       "    border-color: var(--border-color3);\n",
       "    border-width: var(--border-width3);\n",
       "    border-radius: var(--border-width3);\n",
       "}\n",
       ".contnr.c4,.lbl.c4 {\n",
       "    border-color: var(--border-color4);\n",
       "    border-width: var(--border-width4);\n",
       "    border-radius: var(--border-width4);\n",
       "}\n",
       "span.plain {\n",
       "    /*display: inline-block;*/\n",
       "    display: inline-flex;\n",
       "    flex-flow: row wrap;\n",
       "    white-space: pre-wrap;\n",
       "}\n",
       ".plain {\n",
       "    background-color: #ffffff;\n",
       "}\n",
       ".plain.l,.contnr.l,.contnr.l>.lbl {\n",
       "    border-left-style: dotted\n",
       "}\n",
       ".plain.r,.contnr.r,.contnr.r>.lbl {\n",
       "    border-right-style: dotted\n",
       "}\n",
       ".plain.lno,.contnr.lno,.contnr.lno>.lbl {\n",
       "    border-left-style: none\n",
       "}\n",
       ".plain.rno,.contnr.rno,.contnr.rno>.lbl {\n",
       "    border-right-style: none\n",
       "}\n",
       ".plain.l {\n",
       "    padding-left: 4px;\n",
       "    margin-left: 2px;\n",
       "    border-width: var(--border-width-plain);\n",
       "}\n",
       ".plain.r {\n",
       "    padding-right: 4px;\n",
       "    margin-right: 2px;\n",
       "    border-width: var(--border-width-plain);\n",
       "}\n",
       ".lbl {\n",
       "    font-family: monospace;\n",
       "    margin-top: -24px;\n",
       "    margin-left: 20px;\n",
       "    background: #ffffff none repeat scroll 0 0;\n",
       "    padding: 0 6px;\n",
       "    border-style: solid;\n",
       "    display: block;\n",
       "    color: var(--label)\n",
       "}\n",
       ".lbl.trm {\n",
       "    background-attachment: local;\n",
       "    margin-top: 2px;\n",
       "    margin-left: 2px;\n",
       "    padding: 2px 2px;\n",
       "    border-style: none;\n",
       "}\n",
       ".lbl.cnul {\n",
       "    font-size: xx-small;\n",
       "}\n",
       ".lbl.c0 {\n",
       "    font-size: small;\n",
       "}\n",
       ".lbl.c1 {\n",
       "    font-size: small;\n",
       "}\n",
       ".lbl.c2 {\n",
       "    font-size: medium;\n",
       "}\n",
       ".lbl.c3 {\n",
       "    font-size: medium;\n",
       "}\n",
       ".lbl.c4 {\n",
       "    font-size: large;\n",
       "}\n",
       ".occs, a:link.occs {\n",
       "    font-size: small;\n",
       "}\n",
       "\n",
       "/* PROVENANCE */\n",
       "\n",
       "div.prov {\n",
       "\tmargin: 40px;\n",
       "\tpadding: 20px;\n",
       "\tborder: 2px solid var(--fog-rim);\n",
       "}\n",
       "div.pline {\n",
       "\tdisplay: flex;\n",
       "\tflex-flow: row nowrap;\n",
       "\tjustify-content: stretch;\n",
       "\talign-items: baseline;\n",
       "}\n",
       "div.p2line {\n",
       "\tmargin-left: 2em;\n",
       "\tdisplay: flex;\n",
       "\tflex-flow: row nowrap;\n",
       "\tjustify-content: stretch;\n",
       "\talign-items: baseline;\n",
       "}\n",
       "div.psline {\n",
       "\tdisplay: flex;\n",
       "\tflex-flow: row nowrap;\n",
       "\tjustify-content: stretch;\n",
       "\talign-items: baseline;\n",
       "\tbackground-color: var(--gold-mist-back);\n",
       "}\n",
       "div.pname {\n",
       "\tflex: 0 0 5rem;\n",
       "\tfont-weight: bold;\n",
       "}\n",
       "div.pval {\n",
       "    flex: 1 1 auto;\n",
       "}\n",
       "\n",
       "/* KEYBOARD */\n",
       ".ccoff {\n",
       "  background-color: inherit;\n",
       "}\n",
       ".ccon {\n",
       "  background-color: yellow ! important;\n",
       "}\n",
       ".ccon,.ccoff {\n",
       "  padding: 0.2rem;\n",
       "  margin: 0.2rem;\n",
       "  border: 0.1rem solid var(--letter-box-border);\n",
       "  border-radius: 0.1rem;\n",
       "}\n",
       ".ccline {\n",
       "  font-size: xx-large ! important;\n",
       "  font-weight: bold;\n",
       "  line-height: 2em ! important;\n",
       "}\n",
       "/* TF header */\n",
       "\n",
       "summary {\n",
       "  /* needed to override the normalize.less\n",
       "   * in the classical jupyter notebook\n",
       "   */\n",
       "  display: list-item ! important;\n",
       "}\n",
       "\n",
       ".fcorpus {\n",
       "  display: flex;\n",
       "  flex-flow: column nowrap;\n",
       "  justify-content: flex-start;\n",
       "  align-items: flex-start;\n",
       "  align-content: flex-start;\n",
       "}\n",
       ".frow {\n",
       "  display: flex;\n",
       "  flex-flow: row nowrap;\n",
       "  justify-content: flex-start;\n",
       "  align-items: flex-start;\n",
       "  align-content: flex-start;\n",
       "}\n",
       ".fmeta {\n",
       "  display: flex;\n",
       "  flex-flow: column nowrap;\n",
       "  justify-content: flex-start;\n",
       "  align-items: flex-start;\n",
       "  align-content: flex-start;\n",
       "}\n",
       ".fmetarow {\n",
       "  display: flex;\n",
       "  flex-flow: row nowrap;\n",
       "  justify-content: flex-start;\n",
       "  align-items: flex-start;\n",
       "  align-content: flex-start;\n",
       "}\n",
       ".fmetakey {\n",
       "  min-width: 8em;\n",
       "  font-family: monospace;\n",
       "}\n",
       ".fnamecat {\n",
       "  min-width: 8em;\n",
       "}\n",
       ".fnamecat.edge {\n",
       "  font-weight: bold;\n",
       "  font-style: italic;\n",
       "}\n",
       ".fmono {\n",
       "    font-family: monospace;\n",
       "}\n",
       "\n",
       ":root {\n",
       "\t--node:               hsla(120, 100%,  20%, 1.0  );\n",
       "\t--label:              hsla(  0, 100%,  20%, 1.0  );\n",
       "\t--tfsechead:          hsla(  0, 100%,  25%, 1.0  );\n",
       "\t--structure:          hsla(120, 100%,  25%, 1.0  );\n",
       "\t--features:           hsla(  0,   0%,  30%, 1.0  );\n",
       "  --text-color:         hsla( 60,  80%,  10%, 1.0  );\n",
       "  --lex-color:          hsla(220,  90%,  60%, 1.0  );\n",
       "  --meta-color:         hsla(  0,   0%,  90%, 0.7  );\n",
       "  --meta-width:         3px;\n",
       "  --border-color-nul:   hsla(  0,   0%,  90%, 0.5  );\n",
       "  --border-color0:      hsla(  0,   0%,  90%, 0.9  );\n",
       "  --border-color1:      hsla(  0,   0%,  80%, 0.9  );\n",
       "  --border-color2:      hsla(  0,   0%,  70%, 0.9  );\n",
       "  --border-color3:      hsla(  0,   0%,  80%, 0.8  );\n",
       "  --border-color4:      hsla(  0,   0%,  60%, 0.9  );\n",
       "\t--letter-box-border:  hsla(  0,   0%,  80%, 0.5  );\n",
       "  --border-width-nul:   2px;\n",
       "  --border-width0:      2px;\n",
       "  --border-width1:      3px;\n",
       "  --border-width2:      4px;\n",
       "  --border-width3:      6px;\n",
       "  --border-width4:      5px;\n",
       "  --border-width-plain: 2px;\n",
       "}\n",
       ".hl {\n",
       "  background-color: var(--hl-strong);\n",
       "}\n",
       "span.hl {\n",
       "\tbackground-color: var(--hl-strong);\n",
       "\tborder-width: 0;\n",
       "\tborder-radius: 2px;\n",
       "\tborder-style: solid;\n",
       "}\n",
       "div.contnr.hl,div.lbl.hl {\n",
       "  background-color: var(--hl-strong);\n",
       "}\n",
       "div.contnr.hl {\n",
       "  border-color: var(--hl-rim) ! important;\n",
       "\tborder-width: 4px ! important;\n",
       "}\n",
       "\n",
       "span.hlbx {\n",
       "\tborder-color: var(--hl-rim);\n",
       "\tborder-width: 4px ! important;\n",
       "\tborder-style: solid;\n",
       "\tborder-radius: 6px;\n",
       "  padding: 4px;\n",
       "  margin: 4px;\n",
       "}\n",
       "\n",
       ":root {\n",
       "\t--hl-strong:        hsla( 60, 100%,  70%, 0.9  );\n",
       "\t--hl-rim:           hsla( 55,  80%,  50%, 1.0  );\n",
       "}\n",
       ".contnr.cluster {\n",
       "    flex-flow: row wrap;\n",
       "    border: 0;\n",
       "}\n",
       ".meta .features {\n",
       "    background-color: #ffeedd;\n",
       "}\n",
       ".lbl.clusterb,.lbl.clustere {\n",
       "    padding:  0.5em 0.1em 0.1em 0.1em;\n",
       "    margin: 0.8em 0.1em 0.1em 0.1em;\n",
       "    color: #888844;\n",
       "    font-size: x-small;\n",
       "}\n",
       ".lbl.clusterb {\n",
       "    border-left: 0.3em solid #cccc99;\n",
       "    border-right: 0;\n",
       "    border-top: 0;\n",
       "    border-bottom: 0;\n",
       "    border-radius: 1rem;\n",
       "}\n",
       ".lbl.clustere {\n",
       "    border-left: 0;\n",
       "    border-right: 0.3em solid #cccc99;\n",
       "    border-top: 0;\n",
       "    border-bottom: 0;\n",
       "    border-radius: 1rem;\n",
       "}\n",
       ".op {\n",
       "    padding:  0.5em 0.1em 0.1em 0.1em;\n",
       "    margin: 0.8em 0.1em 0.1em 0.1em;\n",
       "    font-family: monospace;\n",
       "    font-size: x-large;\n",
       "    font-weight: bold;\n",
       "}\n",
       ".period {\n",
       "    font-family: monospace;\n",
       "    font-size: medium;\n",
       "    font-weight: bold;\n",
       "    color: #0000bb;\n",
       "}\n",
       ".excavation {\n",
       "    font-family: monospace;\n",
       "    font-size: medium;\n",
       "    font-style: italic;\n",
       "    color: #779900;\n",
       "}\n",
       "</style>"
      ],
      "text/plain": [
       "<IPython.core.display.HTML object>"
      ]
     },
     "metadata": {},
     "output_type": "display_data"
    },
    {
     "data": {
      "text/html": [
       "\n",
       "<script>\n",
       "globalThis.copyChar = (el, c) => {\n",
       "    for (const el of document.getElementsByClassName('ccon')) {\n",
       "        el.className = 'ccoff'\n",
       "    }\n",
       "    el.className = 'ccon'\n",
       "    navigator.clipboard.writeText(String.fromCharCode(c))\n",
       "}\n",
       "</script>\n"
      ],
      "text/plain": [
       "<IPython.core.display.HTML object>"
      ]
     },
     "metadata": {},
     "output_type": "display_data"
    },
    {
     "data": {
      "text/html": [
       "<div><b>Text-Fabric API:</b> names <a target=\"_blank\" href=\"https://annotation.github.io/text-fabric/tf/cheatsheet.html\" title=\"doc\">N F E L T S C TF</a> directly usable</div><hr>"
      ],
      "text/plain": [
       "<IPython.core.display.HTML object>"
      ]
     },
     "metadata": {},
     "output_type": "display_data"
    },
    {
     "data": {
      "text/html": [
       "<b title=\"local commit\">data:</b> <span title=\"#7da6cb7cd9dffb12aff5e35639078029727a90e7 offline under /Users/me/text-fabric-data/github\">~/text-fabric-data/github/Nino-cunei/uruk/sources/cdli/images</span>"
      ],
      "text/plain": [
       "<IPython.core.display.HTML object>"
      ]
     },
     "metadata": {},
     "output_type": "display_data"
    },
    {
     "data": {
      "text/html": [
       "Found 2095 ideograph linearts<br>"
      ],
      "text/plain": [
       "<IPython.core.display.HTML object>"
      ]
     },
     "metadata": {},
     "output_type": "display_data"
    },
    {
     "data": {
      "text/html": [
       "Found 2724 tablet linearts<br>"
      ],
      "text/plain": [
       "<IPython.core.display.HTML object>"
      ]
     },
     "metadata": {},
     "output_type": "display_data"
    },
    {
     "data": {
      "text/html": [
       "Found 5495 tablet photos<br>"
      ],
      "text/plain": [
       "<IPython.core.display.HTML object>"
      ]
     },
     "metadata": {},
     "output_type": "display_data"
    }
   ],
   "source": [
    "A = use(\"Nino-cunei/uruk\",hoist=globals())"
   ]
  },
  {
   "cell_type": "markdown",
   "metadata": {},
   "source": [
    "## `search`\n",
    "\n",
    "You might want to read the\n",
    "[docs](https://annotation.github.io/text-fabric/tf/about/searchusage.html)\n",
    "or the tutorial chapter on\n",
    "[search](search.ipynb)\n",
    "first.\n",
    "\n",
    "Here is a quick recap.\n",
    "\n",
    "### Explanation\n",
    "\n",
    "The search template is basically\n",
    "\n",
    "```\n",
    "line\n",
    "   case\n",
    "      case\n",
    "         sign\n",
    "```\n",
    "\n",
    "This bare template looks for a sign within a case within a case within a line.\n",
    "Indententation acts as shorthand for embedding.\n",
    "\n",
    "But this is not enough, because a subsubcase of a case is also embedded in that case.\n",
    "We look for a situation where the first case is *directly* embedded in the line,\n",
    "and the second case is *directly* embedded in the first case.\n",
    "\n",
    "In our data we have an *edge* (relationship), called `sub`, that connects lines/cases with\n",
    "cases that are directly embedded in them.\n",
    "\n",
    "So\n",
    "\n",
    "```\n",
    "c0 -sub> c1\n",
    "```\n",
    "\n",
    "means that `c0` is `sub`-related to `c1`.\n",
    "\n",
    "Now it is possible to see that the result of this query will have signs that occur in\n",
    "subcases of cases of lines."
   ]
  },
  {
   "cell_type": "markdown",
   "metadata": {},
   "source": [
    "The Cunei API provides a function to collect (sub)cases at a given level of nesting.\n",
    "\n",
    "We show how to use them, and for each task we show **how you can get things done easier with search**."
   ]
  },
  {
   "cell_type": "markdown",
   "metadata": {},
   "source": [
    "## Level 0\n",
    "\n",
    "If we do `casesByLevel(0, terminal=False)` we get all lines.\n",
    "\n",
    "If we do `casesByLevel(0)`, we get precisely the undivided lines."
   ]
  },
  {
   "cell_type": "code",
   "execution_count": 4,
   "metadata": {
    "ExecuteTime": {
     "end_time": "2018-05-09T17:50:02.543628Z",
     "start_time": "2018-05-09T17:50:02.448403Z"
    }
   },
   "outputs": [
    {
     "name": "stdout",
     "output_type": "stream",
     "text": [
      "test0Cases: 35842\n",
      "allLines : 35842\n",
      "test0Cases equal to allLines: True\n",
      "types of test0Cases: {'line'}\n",
      "test0CasesT: 32732\n",
      "Divided lines:  3110\n"
     ]
    }
   ],
   "source": [
    "test0Cases = set(A.casesByLevel(0, terminal=False))\n",
    "allLines = set(F.otype.s(\"line\"))\n",
    "types0 = {F.otype.v(n) for n in test0Cases}\n",
    "print(f\"test0Cases: {len(test0Cases):>5}\")\n",
    "print(f\"allLines : {len(allLines):>5}\")\n",
    "print(f\"test0Cases equal to allLines: {test0Cases == allLines}\")\n",
    "print(f\"types of test0Cases: {types0}\")\n",
    "\n",
    "test0CasesT = set(A.casesByLevel(0))\n",
    "print(f\"test0CasesT: {len(test0CasesT):>5}\")\n",
    "print(f\"Divided lines: {len(test0Cases) - len(test0CasesT):>5}\")"
   ]
  },
  {
   "cell_type": "markdown",
   "metadata": {},
   "source": [
    "Let us compare this with doing the same by means of search.\n",
    "\n",
    "* All lines"
   ]
  },
  {
   "cell_type": "code",
   "execution_count": 5,
   "metadata": {
    "ExecuteTime": {
     "end_time": "2018-05-09T17:50:05.087375Z",
     "start_time": "2018-05-09T17:50:05.040872Z"
    }
   },
   "outputs": [
    {
     "name": "stdout",
     "output_type": "stream",
     "text": [
      "  0.02s 35842 results\n"
     ]
    }
   ],
   "source": [
    "query = \"\"\"\n",
    "line\n",
    "\"\"\"\n",
    "results = A.search(query)"
   ]
  },
  {
   "cell_type": "markdown",
   "metadata": {},
   "source": [
    "* Undivided lines"
   ]
  },
  {
   "cell_type": "code",
   "execution_count": 6,
   "metadata": {
    "ExecuteTime": {
     "end_time": "2018-05-09T17:50:06.483120Z",
     "start_time": "2018-05-09T17:50:06.388710Z"
    }
   },
   "outputs": [
    {
     "name": "stdout",
     "output_type": "stream",
     "text": [
      "  0.03s 32732 results\n"
     ]
    }
   ],
   "source": [
    "query = \"\"\"\n",
    "line terminal\n",
    "\"\"\"\n",
    "results = A.search(query)"
   ]
  },
  {
   "cell_type": "markdown",
   "metadata": {},
   "source": [
    "* Divided lines"
   ]
  },
  {
   "cell_type": "code",
   "execution_count": 7,
   "metadata": {
    "ExecuteTime": {
     "end_time": "2018-05-09T17:50:11.046637Z",
     "start_time": "2018-05-09T17:50:10.967173Z"
    }
   },
   "outputs": [
    {
     "name": "stdout",
     "output_type": "stream",
     "text": [
      "  0.01s 3110 results\n"
     ]
    }
   ],
   "source": [
    "query = \"\"\"\n",
    "line terminal#\n",
    "\"\"\"\n",
    "results = A.search(query)"
   ]
  },
  {
   "cell_type": "markdown",
   "metadata": {},
   "source": [
    "## Level 1\n",
    "\n",
    "If we do `casesByLevel(1, terminal=False)` we get all cases (not lines) that are the first subdivision of a line.\n",
    "\n",
    "If we do `casesByLevel(1)`, we get a subset of these cases, namely the ones that are not themselves subdivided."
   ]
  },
  {
   "cell_type": "code",
   "execution_count": 8,
   "metadata": {
    "ExecuteTime": {
     "end_time": "2018-05-09T17:50:14.536431Z",
     "start_time": "2018-05-09T17:50:14.489811Z"
    }
   },
   "outputs": [
    {
     "name": "stdout",
     "output_type": "stream",
     "text": [
      "test1Cases:  6559\n",
      "types of test1Cases: {'case'}\n",
      "test1CasesT:  5468\n",
      "Divided cases:  1091\n"
     ]
    }
   ],
   "source": [
    "test1Cases = set(A.casesByLevel(1, terminal=False))\n",
    "types1 = {F.otype.v(n) for n in test1Cases}\n",
    "\n",
    "print(f\"test1Cases: {len(test1Cases):>5}\")\n",
    "print(f\"types of test1Cases: {types1}\")\n",
    "\n",
    "test1CasesT = set(A.casesByLevel(1))\n",
    "print(f\"test1CasesT: {len(test1CasesT):>5}\")\n",
    "print(f\"Divided cases: {len(test1Cases) - len(test1CasesT):>5}\")"
   ]
  },
  {
   "cell_type": "markdown",
   "metadata": {},
   "source": [
    "Or, by query:\n",
    "\n",
    "* Top-level cases"
   ]
  },
  {
   "cell_type": "code",
   "execution_count": 9,
   "metadata": {
    "ExecuteTime": {
     "end_time": "2018-05-09T17:50:18.634620Z",
     "start_time": "2018-05-09T17:50:18.592599Z"
    }
   },
   "outputs": [
    {
     "name": "stdout",
     "output_type": "stream",
     "text": [
      "  0.01s 6559 results\n"
     ]
    }
   ],
   "source": [
    "query = \"\"\"\n",
    "case depth=1\n",
    "\"\"\"\n",
    "results = A.search(query)"
   ]
  },
  {
   "cell_type": "markdown",
   "metadata": {},
   "source": [
    "* Undivided top-level cases"
   ]
  },
  {
   "cell_type": "code",
   "execution_count": 10,
   "metadata": {
    "ExecuteTime": {
     "end_time": "2018-05-09T17:50:20.516445Z",
     "start_time": "2018-05-09T17:50:20.471585Z"
    }
   },
   "outputs": [
    {
     "name": "stdout",
     "output_type": "stream",
     "text": [
      "  0.01s 5468 results\n"
     ]
    }
   ],
   "source": [
    "query = \"\"\"\n",
    "case depth=1 terminal\n",
    "\"\"\"\n",
    "results = A.search(query)"
   ]
  },
  {
   "cell_type": "markdown",
   "metadata": {},
   "source": [
    "* Divided top-level cases"
   ]
  },
  {
   "cell_type": "code",
   "execution_count": 11,
   "metadata": {
    "ExecuteTime": {
     "end_time": "2018-05-09T17:50:22.744904Z",
     "start_time": "2018-05-09T17:50:22.694624Z"
    }
   },
   "outputs": [
    {
     "name": "stdout",
     "output_type": "stream",
     "text": [
      "  0.01s 1091 results\n"
     ]
    }
   ],
   "source": [
    "query = \"\"\"\n",
    "case depth=1 terminal#\n",
    "\"\"\"\n",
    "results = A.search(query)"
   ]
  },
  {
   "cell_type": "markdown",
   "metadata": {},
   "source": [
    "## Example tablet\n",
    "Here we show by means of an example tablet the difference between `terminal=False` and\n",
    "`terminal=True` when calling `A.casesByLevel`\n",
    "\n",
    "We'll use an example tablet `P471695`."
   ]
  },
  {
   "cell_type": "code",
   "execution_count": 12,
   "metadata": {
    "ExecuteTime": {
     "end_time": "2018-05-09T17:50:25.101466Z",
     "start_time": "2018-05-09T17:50:25.082362Z"
    }
   },
   "outputs": [
    {
     "data": {
      "text/html": [
       "<div class=\"tfsechead \"><span class=\"ltr\"><a target=\"_blank\" href=\"https://cdli.ucla.edu/search/search_results.php?SearchMode=Text&amp;ObjectID=P471695\" title=\"to CDLI main page for this tablet\" sec=\"P471695\">P471695</a></span></div><div class=\" children\"><div class=\"contnr c4    \" ><div class=\"lbl c4  \" ><span class=\"nd\">tablet </span> <span class=\"txtu\"><span class=\"tfsechead ltr\"><span class=\"ltr\">P471695</span></span></span></div><div class=\"features\"><span class=\"name \" title=\"name\">Anonymous 471695</span><span class=\"period \" title=\"period\">uruk-iii</span></div><div class=\"children ver  \"><div class=\"contnr c1 trm   \" ><div class=\"lbl c1 trm \" ><span class=\"nd\">comment </span> <span class=\"txtu\"><span class=\"plain   \" ><span class=\"plain \" ></span> </span></span></div><div class=\"features\"><span class=\"text \" title=\"text\">atf: lang qpc</span></div></div><div class=\"contnr c2    \" ><div class=\"lbl c2  \" ><span class=\"nd\">face </span> <span class=\"txtu\"><span title=\"type\">obverse</span></span></div><div class=\"children hor  \"><div class=\"contnr c3    \" ><div class=\"lbl c3  \" ><span class=\"nd\">column </span> <span class=\"txtu\"><span title=\"number\">1</span><span title=\"prime\"></span></span></div><div class=\"children ver  \"><div class=\"contnr c2    \" ><div class=\"lbl c2  \" ><span class=\"nd\">line </span> <span class=\"txtu\"><span title=\"number\">1</span></span></div><div class=\"children hor  \"><div class=\"contnr c2    \" ><div class=\"lbl c2  \" ><span class=\"nd\">case </span> <span class=\"txtu\"><span title=\"number\">1a</span><span title=\"prime\"></span></span></div><div class=\"features\"><span class=\"depth xft\" ><span class=\"f\">depth=</span>1</span><span class=\"terminal xft\" ><span class=\"f\">terminal=</span>1</span></div><div class=\"children ver False \"><div class=\"contnr c0 trm   \" ><div class=\"lbl c0 trm \" ><span class=\"txtu\"><span title=\"atf\">3(N01)</span></span></div><div><a target=\"_blank\" href=\"https://cdli.ucla.edu/tools/SignLists/protocuneiform/archsigns/3(N01).jpg\" title=\"to higher resolution lineart on CDLI\"><img src=\"cdli-imagery/lineart-3(n01).jpg\" style=\"display: inline;max-width: 2em; max-height: 6em;\"  /></a></div></div><div class=\"contnr c0 trm   \" ><div class=\"lbl c0 trm \" ><span class=\"txtu\"><span title=\"atf\">APIN~a</span></span></div><div><a target=\"_blank\" href=\"https://cdli.ucla.edu/tools/SignLists/protocuneiform/archsigns/APIN~a.jpg\" title=\"to higher resolution lineart on CDLI\"><img src=\"cdli-imagery/lineart-apin-a.jpg\" style=\"display: inline;max-width: 2em; max-height: 6em;\"  /></a></div></div><div class=\"contnr c0 trm   \" ><div class=\"lbl c0 trm \" ><span class=\"txtu\"><span title=\"atf\">3(N57)</span></span></div><div><a target=\"_blank\" href=\"https://cdli.ucla.edu/tools/SignLists/protocuneiform/archsigns/3(N57).jpg\" title=\"to higher resolution lineart on CDLI\"><img src=\"cdli-imagery/lineart-3(n57).jpg\" style=\"display: inline;max-width: 2em; max-height: 6em;\"  /></a></div></div><div class=\"contnr c0 trm   \" ><div class=\"lbl c0 trm \" ><span class=\"txtu\"><span title=\"atf\">UR4~a</span></span></div><div><a target=\"_blank\" href=\"https://cdli.ucla.edu/tools/SignLists/protocuneiform/archsigns/UR4~a.jpg\" title=\"to higher resolution lineart on CDLI\"><img src=\"cdli-imagery/lineart-ur4-a.jpg\" style=\"display: inline;max-width: 2em; max-height: 6em;\"  /></a></div></div></div></div><div class=\"contnr c2    \" ><div class=\"lbl c2  \" ><span class=\"nd\">case </span> <span class=\"txtu\"><span title=\"number\">1b</span><span title=\"prime\"></span></span></div><div class=\"features\"><span class=\"depth xft\" ><span class=\"f\">depth=</span>1</span></div><div class=\"children ver False \"><div class=\"contnr c2    \" ><div class=\"lbl c2  \" ><span class=\"nd\">case </span> <span class=\"txtu\"><span title=\"number\">1b1</span><span title=\"prime\"></span></span></div><div class=\"features\"><span class=\"depth xft\" ><span class=\"f\">depth=</span>2</span><span class=\"terminal xft\" ><span class=\"f\">terminal=</span>1</span></div><div class=\"children hor False \"><div class=\"contnr c1 cluster trm   \" ><div class=\"lbl c1 clusterb trm \" ><span class=\"nd\">cluster </span> <span class=\"txtu\"><span title=\"type\">=</span></span></div></div><div class=\"children hor wrap \"><div class=\"contnr c0 trm   \" ><div class=\"lbl c0 trm \" ><span class=\"txtu\"><span title=\"atf\">EN~a</span></span></div><div><a target=\"_blank\" href=\"https://cdli.ucla.edu/tools/SignLists/protocuneiform/archsigns/EN~a.jpg\" title=\"to higher resolution lineart on CDLI\"><img src=\"cdli-imagery/lineart-en-a.jpg\" style=\"display: inline;max-width: 2em; max-height: 6em;\"  /></a></div></div><div class=\"contnr c0 trm   \" ><div class=\"lbl c0 trm \" ><span class=\"txtu\"><span title=\"atf\">DU</span></span></div><div><a target=\"_blank\" href=\"https://cdli.ucla.edu/tools/SignLists/protocuneiform/archsigns/DU.jpg\" title=\"to higher resolution lineart on CDLI\"><img src=\"cdli-imagery/lineart-du.jpg\" style=\"display: inline;max-width: 2em; max-height: 6em;\"  /></a></div></div><div class=\"contnr c0 trm   \" ><div class=\"lbl c0 trm \" ><span class=\"txtu\"><span title=\"atf\">ZATU759</span></span></div><div><a target=\"_blank\" href=\"https://cdli.ucla.edu/tools/SignLists/protocuneiform/archsigns/ZATU759.jpg\" title=\"to higher resolution lineart on CDLI\"><img src=\"cdli-imagery/lineart-zatu759.jpg\" style=\"display: inline;max-width: 2em; max-height: 6em;\"  /></a></div></div></div><div class=\"contnr c1 cluster {}   \" ><div class=\"lbl c1 clustere trm \" ><span class=\"nd\">cluster </span> <span class=\"txtu\"><span title=\"type\">=</span></span></div> </div></div></div><div class=\"contnr c2    \" ><div class=\"lbl c2  \" ><span class=\"nd\">case </span> <span class=\"txtu\"><span title=\"number\">1b2</span><span title=\"prime\"></span></span></div><div class=\"features\"><span class=\"depth xft\" ><span class=\"f\">depth=</span>2</span><span class=\"terminal xft\" ><span class=\"f\">terminal=</span>1</span></div><div class=\"children hor False \"><div class=\"contnr c1 cluster trm   \" ><div class=\"lbl c1 clusterb trm \" ><span class=\"nd\">cluster </span> <span class=\"txtu\"><span title=\"type\">=</span></span></div></div><div class=\"children hor wrap \"><div class=\"contnr c0 trm   \" ><div class=\"lbl c0 trm \" ><span class=\"txtu\"><span title=\"atf\">BAN~b</span></span></div><div><a target=\"_blank\" href=\"https://cdli.ucla.edu/tools/SignLists/protocuneiform/archsigns/BAN~b.jpg\" title=\"to higher resolution lineart on CDLI\"><img src=\"cdli-imagery/lineart-ban-b.jpg\" style=\"display: inline;max-width: 2em; max-height: 6em;\"  /></a></div></div><div class=\"contnr c0 trm   \" ><div class=\"lbl c0 trm \" ><span class=\"txtu\"><span title=\"atf\">KASZ~c</span></span></div><div><a target=\"_blank\" href=\"https://cdli.ucla.edu/tools/SignLists/protocuneiform/archsigns/KASZ~c.jpg\" title=\"to higher resolution lineart on CDLI\"><img src=\"cdli-imagery/lineart-kasz-c.jpg\" style=\"display: inline;max-width: 2em; max-height: 6em;\"  /></a></div></div></div><div class=\"contnr c1 cluster {}   \" ><div class=\"lbl c1 clustere trm \" ><span class=\"nd\">cluster </span> <span class=\"txtu\"><span title=\"type\">=</span></span></div> </div></div></div><div class=\"contnr c2    \" ><div class=\"lbl c2  \" ><span class=\"nd\">case </span> <span class=\"txtu\"><span title=\"number\">1b3</span><span title=\"prime\"></span></span></div><div class=\"features\"><span class=\"depth xft\" ><span class=\"f\">depth=</span>2</span><span class=\"terminal xft\" ><span class=\"f\">terminal=</span>1</span></div><div class=\"children hor False \"><div class=\"contnr c1 cluster trm   \" ><div class=\"lbl c1 clusterb trm \" ><span class=\"nd\">cluster </span> <span class=\"txtu\"><span title=\"type\">=</span></span></div></div><div class=\"children hor wrap \"><div class=\"contnr c0 trm   \" ><div class=\"lbl c0 trm \" ><span class=\"txtu\"><span title=\"atf\">KI@n</span></span></div><div><a target=\"_blank\" href=\"https://cdli.ucla.edu/tools/SignLists/protocuneiform/archsigns/KI@n.jpg\" title=\"to higher resolution lineart on CDLI\"><img src=\"cdli-imagery/lineart-ki(a)n.jpg\" style=\"display: inline;max-width: 2em; max-height: 6em;\"  /></a></div></div><div class=\"contnr c0 trm   \" ><div class=\"lbl c0 trm \" ><span class=\"txtu\"><span title=\"atf\">SAG</span></span></div><div><a target=\"_blank\" href=\"https://cdli.ucla.edu/tools/SignLists/protocuneiform/archsigns/SAG.jpg\" title=\"to higher resolution lineart on CDLI\"><img src=\"cdli-imagery/lineart-sag.jpg\" style=\"display: inline;max-width: 2em; max-height: 6em;\"  /></a></div></div></div><div class=\"contnr c1 cluster {}   \" ><div class=\"lbl c1 clustere trm \" ><span class=\"nd\">cluster </span> <span class=\"txtu\"><span title=\"type\">=</span></span></div> </div></div></div></div></div></div></div><div class=\"contnr c2    \" ><div class=\"lbl c2  \" ><span class=\"nd\">line </span> <span class=\"txtu\"><span title=\"number\">2</span></span></div><div class=\"children hor  \"><div class=\"contnr c2    \" ><div class=\"lbl c2  \" ><span class=\"nd\">case </span> <span class=\"txtu\"><span title=\"number\">2a</span><span title=\"prime\"></span></span></div><div class=\"features\"><span class=\"depth xft\" ><span class=\"f\">depth=</span>1</span><span class=\"terminal xft\" ><span class=\"f\">terminal=</span>1</span></div><div class=\"children ver False \"><div class=\"contnr c0 trm   \" ><div class=\"lbl c0 trm \" ><span class=\"txtu\"><span title=\"atf\">1(N14)</span></span></div><div><a target=\"_blank\" href=\"https://cdli.ucla.edu/tools/SignLists/protocuneiform/archsigns/1(N14).jpg\" title=\"to higher resolution lineart on CDLI\"><img src=\"cdli-imagery/lineart-1(n14).jpg\" style=\"display: inline;max-width: 2em; max-height: 6em;\"  /></a></div></div><div class=\"contnr c0 trm   \" ><div class=\"lbl c0 trm \" ><span class=\"txtu\"><span title=\"atf\">2(N01)</span></span></div><div><a target=\"_blank\" href=\"https://cdli.ucla.edu/tools/SignLists/protocuneiform/archsigns/2(N01).jpg\" title=\"to higher resolution lineart on CDLI\"><img src=\"cdli-imagery/lineart-2(n01).jpg\" style=\"display: inline;max-width: 2em; max-height: 6em;\"  /></a></div></div><div class=\"contnr c1 cluster trm   \" ><div class=\"lbl c1 clusterb trm \" ><span class=\"nd\">cluster </span> <span class=\"txtu\"><span title=\"type\">?</span></span></div></div><div class=\"children hor wrap \"><div class=\"contnr c0 trm   \" ><div class=\"lbl c0 trm \" ><span class=\"txtu\"><span title=\"atf\">...</span></span></div></div></div><div class=\"contnr c1 cluster {}   \" ><div class=\"lbl c1 clustere trm \" ><span class=\"nd\">cluster </span> <span class=\"txtu\"><span title=\"type\">?</span></span></div> </div></div></div><div class=\"contnr c2    \" ><div class=\"lbl c2  \" ><span class=\"nd\">case </span> <span class=\"txtu\"><span title=\"number\">2b</span><span title=\"prime\"></span></span></div><div class=\"features\"><span class=\"depth xft\" ><span class=\"f\">depth=</span>1</span></div><div class=\"children ver False \"><div class=\"contnr c2    \" ><div class=\"lbl c2  \" ><span class=\"nd\">case </span> <span class=\"txtu\"><span title=\"number\">2b1</span><span title=\"prime\"></span></span></div><div class=\"features\"><span class=\"depth xft\" ><span class=\"f\">depth=</span>2</span><span class=\"terminal xft\" ><span class=\"f\">terminal=</span>1</span></div><div class=\"children hor False \"><div class=\"contnr c1 cluster trm   \" ><div class=\"lbl c1 clusterb trm \" ><span class=\"nd\">cluster </span> <span class=\"txtu\"><span title=\"type\">=</span></span></div></div><div class=\"children hor wrap \"><div class=\"contnr c0 trm   \" ><div class=\"lbl c0 trm \" ><span class=\"txtu\"><span title=\"atf\">3(N57)</span></span></div><div><a target=\"_blank\" href=\"https://cdli.ucla.edu/tools/SignLists/protocuneiform/archsigns/3(N57).jpg\" title=\"to higher resolution lineart on CDLI\"><img src=\"cdli-imagery/lineart-3(n57).jpg\" style=\"display: inline;max-width: 2em; max-height: 6em;\"  /></a></div></div><div class=\"contnr c0 trm   \" ><div class=\"lbl c0 trm \" ><span class=\"txtu\"><span title=\"atf\">PAP~a</span></span></div><div><a target=\"_blank\" href=\"https://cdli.ucla.edu/tools/SignLists/protocuneiform/archsigns/PAP~a.jpg\" title=\"to higher resolution lineart on CDLI\"><img src=\"cdli-imagery/lineart-pap-a.jpg\" style=\"display: inline;max-width: 2em; max-height: 6em;\"  /></a></div></div></div><div class=\"contnr c1 cluster {}   \" ><div class=\"lbl c1 clustere trm \" ><span class=\"nd\">cluster </span> <span class=\"txtu\"><span title=\"type\">=</span></span></div> </div></div></div><div class=\"contnr c2    \" ><div class=\"lbl c2  \" ><span class=\"nd\">case </span> <span class=\"txtu\"><span title=\"number\">2b2</span><span title=\"prime\"></span></span></div><div class=\"features\"><span class=\"depth xft\" ><span class=\"f\">depth=</span>2</span><span class=\"terminal xft\" ><span class=\"f\">terminal=</span>1</span></div><div class=\"children hor False \"><div class=\"contnr c1 trm   \" ><div class=\"lbl c1 trm \" ><span class=\"nd\">comment </span> <span class=\"txtu\"><span class=\"plain   \" ><span class=\"plain \" ></span> </span></span></div><div class=\"features\"><span class=\"text \" title=\"text\">n lines broken</span></div></div><div class=\"contnr c1 cluster trm   \" ><div class=\"lbl c1 clusterb trm \" ><span class=\"nd\">cluster </span> <span class=\"txtu\"><span title=\"type\">=</span></span></div></div><div class=\"children hor wrap \"><div class=\"contnr c0 trm   \" ><div class=\"lbl c0 trm \" ><span class=\"txtu\"><span title=\"atf\">SZU</span></span></div><div><a target=\"_blank\" href=\"https://cdli.ucla.edu/tools/SignLists/protocuneiform/archsigns/SZU.jpg\" title=\"to higher resolution lineart on CDLI\"><img src=\"cdli-imagery/lineart-szu.jpg\" style=\"display: inline;max-width: 2em; max-height: 6em;\"  /></a></div></div><div class=\"contnr c0 trm   \" ><div class=\"lbl c0 trm \" ><span class=\"txtu\"><span title=\"atf\">KI</span></span></div><div><a target=\"_blank\" href=\"https://cdli.ucla.edu/tools/SignLists/protocuneiform/archsigns/KI.jpg\" title=\"to higher resolution lineart on CDLI\"><img src=\"cdli-imagery/lineart-ki.jpg\" style=\"display: inline;max-width: 2em; max-height: 6em;\"  /></a></div></div><div class=\"contnr c0 trm   \" ><div class=\"lbl c0 trm \" ><span class=\"txtu\"><span title=\"atf\">X</span></span></div></div></div><div class=\"contnr c1 cluster {}   \" ><div class=\"lbl c1 clustere trm \" ><span class=\"nd\">cluster </span> <span class=\"txtu\"><span title=\"type\">=</span></span></div> </div></div></div><div class=\"contnr c2    \" ><div class=\"lbl c2  \" ><span class=\"nd\">case </span> <span class=\"txtu\"><span title=\"number\">2b3</span><span title=\"prime\">'</span></span></div><div class=\"features\"><span class=\"depth xft\" ><span class=\"f\">depth=</span>2</span><span class=\"terminal xft\" ><span class=\"f\">terminal=</span>1</span></div><div class=\"children hor False \"><div class=\"contnr c1 cluster trm   \" ><div class=\"lbl c1 clusterb trm \" ><span class=\"nd\">cluster </span> <span class=\"txtu\"><span title=\"type\">=</span></span></div></div><div class=\"children hor wrap \"><div class=\"contnr c0 trm   \" ><div class=\"lbl c0 trm \" ><span class=\"txtu\"><span title=\"atf\">EN~a</span></span></div><div><a target=\"_blank\" href=\"https://cdli.ucla.edu/tools/SignLists/protocuneiform/archsigns/EN~a.jpg\" title=\"to higher resolution lineart on CDLI\"><img src=\"cdli-imagery/lineart-en-a.jpg\" style=\"display: inline;max-width: 2em; max-height: 6em;\"  /></a></div></div><div class=\"contnr c0 trm   \" ><div class=\"lbl c0 trm \" ><span class=\"txtu\"><span title=\"atf\">AN</span></span></div><div><a target=\"_blank\" href=\"https://cdli.ucla.edu/tools/SignLists/protocuneiform/archsigns/AN.jpg\" title=\"to higher resolution lineart on CDLI\"><img src=\"cdli-imagery/lineart-an.jpg\" style=\"display: inline;max-width: 2em; max-height: 6em;\"  /></a></div></div><div class=\"contnr c0 trm   \" ><div class=\"lbl c0 trm \" ><span class=\"txtu\"><span title=\"atf\">EZINU~d</span></span></div><div><a target=\"_blank\" href=\"https://cdli.ucla.edu/tools/SignLists/protocuneiform/archsigns/EZINU~d.jpg\" title=\"to higher resolution lineart on CDLI\"><img src=\"cdli-imagery/lineart-ezinu-d.jpg\" style=\"display: inline;max-width: 2em; max-height: 6em;\"  /></a></div></div></div><div class=\"contnr c1 cluster {}   \" ><div class=\"lbl c1 clustere trm \" ><span class=\"nd\">cluster </span> <span class=\"txtu\"><span title=\"type\">=</span></span></div> </div></div></div><div class=\"contnr c2    \" ><div class=\"lbl c2  \" ><span class=\"nd\">case </span> <span class=\"txtu\"><span title=\"number\">2b4</span><span title=\"prime\">'</span></span></div><div class=\"features\"><span class=\"depth xft\" ><span class=\"f\">depth=</span>2</span><span class=\"terminal xft\" ><span class=\"f\">terminal=</span>1</span></div><div class=\"children hor False \"><div class=\"contnr c1 trm   \" ><div class=\"lbl c1 trm \" ><span class=\"nd\">comment </span> <span class=\"txtu\"><span class=\"plain   \" ><span class=\"plain \" ></span> </span></span></div><div class=\"features\"><span class=\"text \" title=\"text\">rest broken</span></div></div><div class=\"contnr c1 trm   \" ><div class=\"lbl c1 trm \" ><span class=\"nd\">comment </span> <span class=\"txtu\"><span class=\"plain   \" ><span class=\"plain \" ></span> </span></span></div><div class=\"features\"><span class=\"text \" title=\"text\">(for a total of 12 sub-cases with PNN)</span></div></div><div class=\"contnr c1 cluster trm   \" ><div class=\"lbl c1 clusterb trm \" ><span class=\"nd\">cluster </span> <span class=\"txtu\"><span title=\"type\">=</span></span></div></div><div class=\"children hor wrap \"><div class=\"contnr c0 trm   \" ><div class=\"lbl c0 trm \" ><span class=\"txtu\"><span title=\"atf\">IDIGNA</span></span></div><div><a target=\"_blank\" href=\"https://cdli.ucla.edu/tools/SignLists/protocuneiform/archsigns/IDIGNA.jpg\" title=\"to higher resolution lineart on CDLI\"><img src=\"cdli-imagery/lineart-idigna.jpg\" style=\"display: inline;max-width: 2em; max-height: 6em;\"  /></a></div></div><div class=\"contnr c1 cluster trm   \" ><div class=\"lbl c1 clusterb trm \" ><span class=\"nd\">cluster </span> <span class=\"txtu\"><span title=\"type\">?</span></span></div></div><div class=\"children hor wrap \"><div class=\"contnr c0 trm   \" ><div class=\"lbl c0 trm \" ><span class=\"txtu\"><span title=\"atf\">...</span></span></div></div></div><div class=\"contnr c1 cluster {}   \" ><div class=\"lbl c1 clustere trm \" ><span class=\"nd\">cluster </span> <span class=\"txtu\"><span title=\"type\">?</span></span></div> </div></div><div class=\"contnr c1 cluster {}   \" ><div class=\"lbl c1 clustere trm \" ><span class=\"nd\">cluster </span> <span class=\"txtu\"><span title=\"type\">=</span></span></div> </div></div></div></div></div></div></div></div></div><div class=\"contnr c3    \" ><div class=\"lbl c3  \" ><span class=\"nd\">column </span> <span class=\"txtu\"><span title=\"number\">2</span><span title=\"prime\"></span></span></div><div class=\"children ver  \"><div class=\"contnr c2    \" ><div class=\"lbl c2  \" ><span class=\"nd\">line </span> <span class=\"txtu\"><span title=\"number\">1</span></span></div><div class=\"children hor  \"><div class=\"contnr c2    \" ><div class=\"lbl c2  \" ><span class=\"nd\">case </span> <span class=\"txtu\"><span title=\"number\">1a</span><span title=\"prime\"></span></span></div><div class=\"features\"><span class=\"depth xft\" ><span class=\"f\">depth=</span>1</span><span class=\"terminal xft\" ><span class=\"f\">terminal=</span>1</span></div><div class=\"children ver False \"><div class=\"contnr c0 trm   \" ><div class=\"lbl c0 trm \" ><span class=\"txtu\"><span title=\"atf\">1(N01)</span></span></div><div><a target=\"_blank\" href=\"https://cdli.ucla.edu/tools/SignLists/protocuneiform/archsigns/1(N01).jpg\" title=\"to higher resolution lineart on CDLI\"><img src=\"cdli-imagery/lineart-1(n01).jpg\" style=\"display: inline;max-width: 2em; max-height: 6em;\"  /></a></div></div><div class=\"contnr c0 trm   \" ><div class=\"lbl c0 trm \" ><span class=\"txtu\"><span title=\"atf\">ISZ~a#?</span></span></div><div><a target=\"_blank\" href=\"https://cdli.ucla.edu/tools/SignLists/protocuneiform/archsigns/ISZ~a.jpg\" title=\"to higher resolution lineart on CDLI\"><img src=\"cdli-imagery/lineart-isz-a.jpg\" style=\"display: inline;max-width: 2em; max-height: 6em;\"  /></a></div></div></div></div><div class=\"contnr c2    \" ><div class=\"lbl c2  \" ><span class=\"nd\">case </span> <span class=\"txtu\"><span title=\"number\">1b</span><span title=\"prime\"></span></span></div><div class=\"features\"><span class=\"depth xft\" ><span class=\"f\">depth=</span>1</span></div><div class=\"children ver False \"><div class=\"contnr c2    \" ><div class=\"lbl c2  \" ><span class=\"nd\">case </span> <span class=\"txtu\"><span title=\"number\">1b1</span><span title=\"prime\"></span></span></div><div class=\"features\"><span class=\"depth xft\" ><span class=\"f\">depth=</span>2</span><span class=\"terminal xft\" ><span class=\"f\">terminal=</span>1</span></div><div class=\"children hor False \"><div class=\"contnr c1 trm   \" ><div class=\"lbl c1 trm \" ><span class=\"nd\">comment </span> <span class=\"txtu\"><span class=\"plain   \" ><span class=\"plain \" ></span> </span></span></div><div class=\"features\"><span class=\"text \" title=\"text\">blank space</span></div></div><div class=\"contnr c1 trm   \" ><div class=\"lbl c1 trm \" ><span class=\"nd\">comment </span> <span class=\"txtu\"><span class=\"plain   \" ><span class=\"plain \" ></span> </span></span></div><div class=\"features\"><span class=\"text \" title=\"text\">rest broken</span></div></div><div class=\"contnr c1 cluster trm   \" ><div class=\"lbl c1 clusterb trm \" ><span class=\"nd\">cluster </span> <span class=\"txtu\"><span title=\"type\">=</span></span></div></div><div class=\"children hor wrap \"><div class=\"contnr c0 trm   \" ><div class=\"lbl c0 trm \" ><span class=\"txtu\"><span title=\"atf\">PAP~a</span></span></div><div><a target=\"_blank\" href=\"https://cdli.ucla.edu/tools/SignLists/protocuneiform/archsigns/PAP~a.jpg\" title=\"to higher resolution lineart on CDLI\"><img src=\"cdli-imagery/lineart-pap-a.jpg\" style=\"display: inline;max-width: 2em; max-height: 6em;\"  /></a></div></div><div class=\"contnr c0 trm   \" ><div class=\"lbl c0 trm \" ><span class=\"txtu\"><span title=\"atf\">GIR3~c</span></span></div><div><a target=\"_blank\" href=\"https://cdli.ucla.edu/tools/SignLists/protocuneiform/archsigns/GIR3~c.jpg\" title=\"to higher resolution lineart on CDLI\"><img src=\"cdli-imagery/lineart-gir3-c.jpg\" style=\"display: inline;max-width: 2em; max-height: 6em;\"  /></a></div></div></div><div class=\"contnr c1 cluster {}   \" ><div class=\"lbl c1 clustere trm \" ><span class=\"nd\">cluster </span> <span class=\"txtu\"><span title=\"type\">=</span></span></div> </div></div></div></div></div></div></div></div></div></div></div><div class=\"contnr c2    \" ><div class=\"lbl c2  \" ><span class=\"nd\">face </span> <span class=\"txtu\"><span title=\"type\">reverse</span></span></div><div class=\"children hor  \"><div class=\"contnr c1 trm   \" ><div class=\"lbl c1 trm \" ><span class=\"nd\">comment </span> <span class=\"txtu\"><span class=\"plain   \" ><span class=\"plain \" ></span> </span></span></div><div class=\"features\"><span class=\"text \" title=\"text\">beginning broken</span></div></div><div class=\"contnr c3    \" ><div class=\"lbl c3  \" ><span class=\"nd\">column </span> <span class=\"txtu\"><span title=\"number\">0</span><span title=\"prime\"></span></span></div><div class=\"children ver  \"><div class=\"contnr c2    \" ><div class=\"lbl c2  \" ><span class=\"nd\">line </span> <span class=\"txtu\"><span title=\"number\">1</span></span></div><div class=\"features\"><span class=\"terminal xft\" ><span class=\"f\">terminal=</span>1</span></div><div class=\"children hor  \"><div class=\"contnr c1 cluster trm   \" ><div class=\"lbl c1 clusterb trm \" ><span class=\"nd\">cluster </span> <span class=\"txtu\"><span title=\"type\">?</span></span></div></div><div class=\"children hor wrap \"><div class=\"contnr c0 trm   \" ><div class=\"lbl c0 trm \" ><span class=\"txtu\"><span title=\"atf\">1(N14)</span></span></div><div><a target=\"_blank\" href=\"https://cdli.ucla.edu/tools/SignLists/protocuneiform/archsigns/1(N14).jpg\" title=\"to higher resolution lineart on CDLI\"><img src=\"cdli-imagery/lineart-1(n14).jpg\" style=\"display: inline;max-width: 2em; max-height: 6em;\"  /></a></div></div></div><div class=\"contnr c1 cluster {}   \" ><div class=\"lbl c1 clustere trm \" ><span class=\"nd\">cluster </span> <span class=\"txtu\"><span title=\"type\">?</span></span></div> </div><div class=\"contnr c0 trm   \" ><div class=\"lbl c0 trm \" ><span class=\"txtu\"><span title=\"atf\">6(N01)#</span></span></div><div><a target=\"_blank\" href=\"https://cdli.ucla.edu/tools/SignLists/protocuneiform/archsigns/6(N01).jpg\" title=\"to higher resolution lineart on CDLI\"><img src=\"cdli-imagery/lineart-6(n01).jpg\" style=\"display: inline;max-width: 2em; max-height: 6em;\"  /></a></div></div><div class=\"contnr c1 cluster trm   \" ><div class=\"lbl c1 clusterb trm \" ><span class=\"nd\">cluster </span> <span class=\"txtu\"><span title=\"type\">?</span></span></div></div><div class=\"children hor wrap \"><div class=\"contnr c0 trm   \" ><div class=\"lbl c0 trm \" ><span class=\"txtu\"><span title=\"atf\">...</span></span></div></div></div><div class=\"contnr c1 cluster {}   \" ><div class=\"lbl c1 clustere trm \" ><span class=\"nd\">cluster </span> <span class=\"txtu\"><span title=\"type\">?</span></span></div> </div></div></div></div></div></div></div></div></div></div>"
      ],
      "text/plain": [
       "<IPython.core.display.HTML object>"
      ]
     },
     "metadata": {},
     "output_type": "display_data"
    }
   ],
   "source": [
    "examplePnum = \"P471695\"\n",
    "exampleTablet = T.nodeFromSection((examplePnum,))\n",
    "A.getSource(exampleTablet)\n",
    "A.pretty(exampleTablet)"
   ]
  },
  {
   "cell_type": "markdown",
   "metadata": {},
   "source": [
    "Above we have selected all cases of level 1 from the whole corpus, and constructed two sets:\n",
    "* terminal cases of level 1;\n",
    "* all cases of level 1.\n",
    "Now we take the intersection of these sets with the cases of the example tablet."
   ]
  },
  {
   "cell_type": "code",
   "execution_count": 13,
   "metadata": {
    "ExecuteTime": {
     "end_time": "2018-05-09T17:50:28.564887Z",
     "start_time": "2018-05-09T17:50:28.557253Z"
    }
   },
   "outputs": [],
   "source": [
    "exampleCases = set(L.d(exampleTablet, otype=\"case\")) | set(\n",
    "    L.d(exampleTablet, otype=\"line\")\n",
    ")\n",
    "example2 = test1Cases & exampleCases\n",
    "example2T = test1CasesT & exampleCases"
   ]
  },
  {
   "cell_type": "code",
   "execution_count": 14,
   "metadata": {
    "ExecuteTime": {
     "end_time": "2018-05-09T17:50:29.733836Z",
     "start_time": "2018-05-09T17:50:29.723812Z"
    }
   },
   "outputs": [
    {
     "name": "stdout",
     "output_type": "stream",
     "text": [
      "1.a. 3(N01) , APIN~a 3(N57) UR4~a \n",
      "------------------------------------------------\n",
      "1.b1. , (EN~a DU ZATU759)a \n",
      "1.b2. , (BAN~b KASZ~c)a \n",
      "1.b3. , (KI@n SAG)a \n",
      "------------------------------------------------\n",
      "2.a. 1(N14) 2(N01) , [...] \n",
      "------------------------------------------------\n",
      "2.b1. , (3(N57) PAP~a)a \n",
      "2.b2. , (SZU KI X)a \n",
      "$ n lines broken \n",
      "2.b3'. , (EN~a AN EZINU~d)a \n",
      "2.b4'. , (IDIGNA [...])a \n",
      "$ rest broken \n",
      "$ (for a total of 12 sub-cases with PNN) \n",
      "------------------------------------------------\n",
      "1.a. 1(N01) , ISZ~a#? \n",
      "------------------------------------------------\n",
      "1.b1. , (PAP~a GIR3~c)a \n",
      "$ blank space \n",
      "$ rest broken \n"
     ]
    }
   ],
   "source": [
    "print(f'\\n{\"-\" * 48}\\n'.join(\"\\n\".join(A.getSource(c)) for c in sorted(example2)))"
   ]
  },
  {
   "cell_type": "code",
   "execution_count": 15,
   "metadata": {
    "ExecuteTime": {
     "end_time": "2018-05-09T17:50:31.335542Z",
     "start_time": "2018-05-09T17:50:31.328295Z"
    }
   },
   "outputs": [
    {
     "name": "stdout",
     "output_type": "stream",
     "text": [
      "1.a. 3(N01) , APIN~a 3(N57) UR4~a \n",
      "------------------------------------------------\n",
      "2.a. 1(N14) 2(N01) , [...] \n",
      "------------------------------------------------\n",
      "1.a. 1(N01) , ISZ~a#? \n"
     ]
    }
   ],
   "source": [
    "print(f'\\n{\"-\" * 48}\\n'.join(\"\\n\".join(A.getSource(c)) for c in sorted(example2T)))"
   ]
  },
  {
   "cell_type": "markdown",
   "metadata": {},
   "source": [
    "We can also show it with `plain()`."
   ]
  },
  {
   "cell_type": "code",
   "execution_count": 16,
   "metadata": {
    "ExecuteTime": {
     "end_time": "2018-05-09T17:50:33.171554Z",
     "start_time": "2018-05-09T17:50:33.146893Z"
    }
   },
   "outputs": [
    {
     "data": {
      "text/html": [
       "<div class=\"\"><span class=\"tfsechead \"><span class=\"ltr\"><a target=\"_blank\" href=\"https://cdli.ucla.edu/search/search_results.php?SearchMode=Text&amp;ObjectID=P471695\" title=\"to CDLI main page for this tablet\" sec=\"P471695 obverse:1:1\">P471695 obverse:1:1</a></span></span>  <span class=\"txtu \"><span title=\"number\">1a</span><span title=\"prime\"></span></span><span class=\"plain \" >3(N01)</span>  <a target=\"_blank\" href=\"https://cdli.ucla.edu/tools/SignLists/protocuneiform/archsigns/3(N01).jpg\" title=\"to higher resolution lineart on CDLI\"><img src=\"cdli-imagery/lineart-3(n01).jpg\" style=\"display: inline;max-width: 2em; max-height: 6em;\"  /></a><span class=\"plain \" >APIN~a</span>  <a target=\"_blank\" href=\"https://cdli.ucla.edu/tools/SignLists/protocuneiform/archsigns/APIN~a.jpg\" title=\"to higher resolution lineart on CDLI\"><img src=\"cdli-imagery/lineart-apin-a.jpg\" style=\"display: inline;max-width: 2em; max-height: 6em;\"  /></a><span class=\"plain \" >3(N57)</span>  <a target=\"_blank\" href=\"https://cdli.ucla.edu/tools/SignLists/protocuneiform/archsigns/3(N57).jpg\" title=\"to higher resolution lineart on CDLI\"><img src=\"cdli-imagery/lineart-3(n57).jpg\" style=\"display: inline;max-width: 2em; max-height: 6em;\"  /></a><span class=\"plain \" >UR4~a</span>  <a target=\"_blank\" href=\"https://cdli.ucla.edu/tools/SignLists/protocuneiform/archsigns/UR4~a.jpg\" title=\"to higher resolution lineart on CDLI\"><img src=\"cdli-imagery/lineart-ur4-a.jpg\" style=\"display: inline;max-width: 2em; max-height: 6em;\"  /></a></div>"
      ],
      "text/plain": [
       "<IPython.core.display.HTML object>"
      ]
     },
     "metadata": {},
     "output_type": "display_data"
    },
    {
     "data": {
      "text/html": [
       "<div class=\"\"><span class=\"tfsechead \"><span class=\"ltr\"><a target=\"_blank\" href=\"https://cdli.ucla.edu/search/search_results.php?SearchMode=Text&amp;ObjectID=P471695\" title=\"to CDLI main page for this tablet\" sec=\"P471695 obverse:1:1\">P471695 obverse:1:1</a></span></span>  <span class=\"txtu \"><span title=\"number\">1b</span><span title=\"prime\"></span></span><span class=\"txtu \"><span title=\"number\">1b1</span><span title=\"prime\"></span></span><span class=\"plain \" >(<span class=\"plain \" >EN~a</span> <span class=\"plain \" >DU</span> <span class=\"plain \" >ZATU759</span>)a</span> <span class=\"txtu \"><span title=\"number\">1b2</span><span title=\"prime\"></span></span><span class=\"plain \" >(<span class=\"plain \" >BAN~b</span> <span class=\"plain \" >KASZ~c</span>)a</span> <span class=\"txtu \"><span title=\"number\">1b3</span><span title=\"prime\"></span></span><span class=\"plain \" >(<span class=\"plain \" >KI@n</span> <span class=\"plain \" >SAG</span>)a</span> </div>"
      ],
      "text/plain": [
       "<IPython.core.display.HTML object>"
      ]
     },
     "metadata": {},
     "output_type": "display_data"
    },
    {
     "data": {
      "text/html": [
       "<div class=\"\"><span class=\"tfsechead \"><span class=\"ltr\"><a target=\"_blank\" href=\"https://cdli.ucla.edu/search/search_results.php?SearchMode=Text&amp;ObjectID=P471695\" title=\"to CDLI main page for this tablet\" sec=\"P471695 obverse:1:2\">P471695 obverse:1:2</a></span></span>  <span class=\"txtu \"><span title=\"number\">2a</span><span title=\"prime\"></span></span><span class=\"plain \" >1(N14)</span>  <a target=\"_blank\" href=\"https://cdli.ucla.edu/tools/SignLists/protocuneiform/archsigns/1(N14).jpg\" title=\"to higher resolution lineart on CDLI\"><img src=\"cdli-imagery/lineart-1(n14).jpg\" style=\"display: inline;max-width: 2em; max-height: 6em;\"  /></a><span class=\"plain \" >2(N01)</span>  <a target=\"_blank\" href=\"https://cdli.ucla.edu/tools/SignLists/protocuneiform/archsigns/2(N01).jpg\" title=\"to higher resolution lineart on CDLI\"><img src=\"cdli-imagery/lineart-2(n01).jpg\" style=\"display: inline;max-width: 2em; max-height: 6em;\"  /></a><span class=\"plain \" >[<span class=\"plain \" >...</span>]</span> </div>"
      ],
      "text/plain": [
       "<IPython.core.display.HTML object>"
      ]
     },
     "metadata": {},
     "output_type": "display_data"
    },
    {
     "data": {
      "text/html": [
       "<div class=\"\"><span class=\"tfsechead \"><span class=\"ltr\"><a target=\"_blank\" href=\"https://cdli.ucla.edu/search/search_results.php?SearchMode=Text&amp;ObjectID=P471695\" title=\"to CDLI main page for this tablet\" sec=\"P471695 obverse:1:2\">P471695 obverse:1:2</a></span></span>  <span class=\"txtu \"><span title=\"number\">2b</span><span title=\"prime\"></span></span><span class=\"txtu \"><span title=\"number\">2b1</span><span title=\"prime\"></span></span><span class=\"plain \" >(<span class=\"plain \" >3(N57)</span> <span class=\"plain \" >PAP~a</span>)a</span> <span class=\"txtu \"><span title=\"number\">2b2</span><span title=\"prime\"></span></span><span class=\"plain \" ></span> <span class=\"plain \" >(<span class=\"plain \" >SZU</span> <span class=\"plain \" >KI</span> <span class=\"plain \" >X</span>)a</span> <span class=\"txtu \"><span title=\"number\">2b3</span><span title=\"prime\">'</span></span><span class=\"plain \" >(<span class=\"plain \" >EN~a</span> <span class=\"plain \" >AN</span> <span class=\"plain \" >EZINU~d</span>)a</span> <span class=\"txtu \"><span title=\"number\">2b4</span><span title=\"prime\">'</span></span><span class=\"plain \" ></span> <span class=\"plain \" ></span> <span class=\"plain \" >(<span class=\"plain \" >IDIGNA</span> <span class=\"plain \" >[<span class=\"plain \" >...</span>]</span>)a</span> </div>"
      ],
      "text/plain": [
       "<IPython.core.display.HTML object>"
      ]
     },
     "metadata": {},
     "output_type": "display_data"
    },
    {
     "data": {
      "text/html": [
       "<div class=\"\"><span class=\"tfsechead \"><span class=\"ltr\"><a target=\"_blank\" href=\"https://cdli.ucla.edu/search/search_results.php?SearchMode=Text&amp;ObjectID=P471695\" title=\"to CDLI main page for this tablet\" sec=\"P471695 obverse:2:1\">P471695 obverse:2:1</a></span></span>  <span class=\"txtu \"><span title=\"number\">1a</span><span title=\"prime\"></span></span><span class=\"plain \" >1(N01)</span>  <a target=\"_blank\" href=\"https://cdli.ucla.edu/tools/SignLists/protocuneiform/archsigns/1(N01).jpg\" title=\"to higher resolution lineart on CDLI\"><img src=\"cdli-imagery/lineart-1(n01).jpg\" style=\"display: inline;max-width: 2em; max-height: 6em;\"  /></a><span class=\"plain \" >ISZ~a</span>  <a target=\"_blank\" href=\"https://cdli.ucla.edu/tools/SignLists/protocuneiform/archsigns/ISZ~a.jpg\" title=\"to higher resolution lineart on CDLI\"><img src=\"cdli-imagery/lineart-isz-a.jpg\" style=\"display: inline;max-width: 2em; max-height: 6em;\"  /></a></div>"
      ],
      "text/plain": [
       "<IPython.core.display.HTML object>"
      ]
     },
     "metadata": {},
     "output_type": "display_data"
    },
    {
     "data": {
      "text/html": [
       "<div class=\"\"><span class=\"tfsechead \"><span class=\"ltr\"><a target=\"_blank\" href=\"https://cdli.ucla.edu/search/search_results.php?SearchMode=Text&amp;ObjectID=P471695\" title=\"to CDLI main page for this tablet\" sec=\"P471695 obverse:2:1\">P471695 obverse:2:1</a></span></span>  <span class=\"txtu \"><span title=\"number\">1b</span><span title=\"prime\"></span></span><span class=\"plain \" ></span> <span class=\"plain \" ></span> <span class=\"plain \" >(<span class=\"plain \" >PAP~a</span> <span class=\"plain \" >GIR3~c</span>)a</span> </div>"
      ],
      "text/plain": [
       "<IPython.core.display.HTML object>"
      ]
     },
     "metadata": {},
     "output_type": "display_data"
    }
   ],
   "source": [
    "for c in sorted(example2):\n",
    "    A.plain(c)"
   ]
  },
  {
   "cell_type": "code",
   "execution_count": 17,
   "metadata": {
    "ExecuteTime": {
     "end_time": "2018-05-09T17:50:35.495622Z",
     "start_time": "2018-05-09T17:50:35.479279Z"
    }
   },
   "outputs": [
    {
     "data": {
      "text/html": [
       "<div class=\"\"><span class=\"tfsechead \"><span class=\"ltr\"><a target=\"_blank\" href=\"https://cdli.ucla.edu/search/search_results.php?SearchMode=Text&amp;ObjectID=P471695\" title=\"to CDLI main page for this tablet\" sec=\"P471695 obverse:1:1\">P471695 obverse:1:1</a></span></span>  <span class=\"txtu \"><span title=\"number\">1a</span><span title=\"prime\"></span></span><span class=\"plain \" >3(N01)</span>  <a target=\"_blank\" href=\"https://cdli.ucla.edu/tools/SignLists/protocuneiform/archsigns/3(N01).jpg\" title=\"to higher resolution lineart on CDLI\"><img src=\"cdli-imagery/lineart-3(n01).jpg\" style=\"display: inline;max-width: 2em; max-height: 6em;\"  /></a><span class=\"plain \" >APIN~a</span>  <a target=\"_blank\" href=\"https://cdli.ucla.edu/tools/SignLists/protocuneiform/archsigns/APIN~a.jpg\" title=\"to higher resolution lineart on CDLI\"><img src=\"cdli-imagery/lineart-apin-a.jpg\" style=\"display: inline;max-width: 2em; max-height: 6em;\"  /></a><span class=\"plain \" >3(N57)</span>  <a target=\"_blank\" href=\"https://cdli.ucla.edu/tools/SignLists/protocuneiform/archsigns/3(N57).jpg\" title=\"to higher resolution lineart on CDLI\"><img src=\"cdli-imagery/lineart-3(n57).jpg\" style=\"display: inline;max-width: 2em; max-height: 6em;\"  /></a><span class=\"plain \" >UR4~a</span>  <a target=\"_blank\" href=\"https://cdli.ucla.edu/tools/SignLists/protocuneiform/archsigns/UR4~a.jpg\" title=\"to higher resolution lineart on CDLI\"><img src=\"cdli-imagery/lineart-ur4-a.jpg\" style=\"display: inline;max-width: 2em; max-height: 6em;\"  /></a></div>"
      ],
      "text/plain": [
       "<IPython.core.display.HTML object>"
      ]
     },
     "metadata": {},
     "output_type": "display_data"
    },
    {
     "data": {
      "text/html": [
       "<div class=\"\"><span class=\"tfsechead \"><span class=\"ltr\"><a target=\"_blank\" href=\"https://cdli.ucla.edu/search/search_results.php?SearchMode=Text&amp;ObjectID=P471695\" title=\"to CDLI main page for this tablet\" sec=\"P471695 obverse:1:2\">P471695 obverse:1:2</a></span></span>  <span class=\"txtu \"><span title=\"number\">2a</span><span title=\"prime\"></span></span><span class=\"plain \" >1(N14)</span>  <a target=\"_blank\" href=\"https://cdli.ucla.edu/tools/SignLists/protocuneiform/archsigns/1(N14).jpg\" title=\"to higher resolution lineart on CDLI\"><img src=\"cdli-imagery/lineart-1(n14).jpg\" style=\"display: inline;max-width: 2em; max-height: 6em;\"  /></a><span class=\"plain \" >2(N01)</span>  <a target=\"_blank\" href=\"https://cdli.ucla.edu/tools/SignLists/protocuneiform/archsigns/2(N01).jpg\" title=\"to higher resolution lineart on CDLI\"><img src=\"cdli-imagery/lineart-2(n01).jpg\" style=\"display: inline;max-width: 2em; max-height: 6em;\"  /></a><span class=\"plain \" >[<span class=\"plain \" >...</span>]</span> </div>"
      ],
      "text/plain": [
       "<IPython.core.display.HTML object>"
      ]
     },
     "metadata": {},
     "output_type": "display_data"
    },
    {
     "data": {
      "text/html": [
       "<div class=\"\"><span class=\"tfsechead \"><span class=\"ltr\"><a target=\"_blank\" href=\"https://cdli.ucla.edu/search/search_results.php?SearchMode=Text&amp;ObjectID=P471695\" title=\"to CDLI main page for this tablet\" sec=\"P471695 obverse:2:1\">P471695 obverse:2:1</a></span></span>  <span class=\"txtu \"><span title=\"number\">1a</span><span title=\"prime\"></span></span><span class=\"plain \" >1(N01)</span>  <a target=\"_blank\" href=\"https://cdli.ucla.edu/tools/SignLists/protocuneiform/archsigns/1(N01).jpg\" title=\"to higher resolution lineart on CDLI\"><img src=\"cdli-imagery/lineart-1(n01).jpg\" style=\"display: inline;max-width: 2em; max-height: 6em;\"  /></a><span class=\"plain \" >ISZ~a</span>  <a target=\"_blank\" href=\"https://cdli.ucla.edu/tools/SignLists/protocuneiform/archsigns/ISZ~a.jpg\" title=\"to higher resolution lineart on CDLI\"><img src=\"cdli-imagery/lineart-isz-a.jpg\" style=\"display: inline;max-width: 2em; max-height: 6em;\"  /></a></div>"
      ],
      "text/plain": [
       "<IPython.core.display.HTML object>"
      ]
     },
     "metadata": {},
     "output_type": "display_data"
    }
   ],
   "source": [
    "for c in sorted(example2T):\n",
    "    A.plain(c)"
   ]
  },
  {
   "cell_type": "markdown",
   "metadata": {},
   "source": [
    "We can also show it with `pretty()`."
   ]
  },
  {
   "cell_type": "code",
   "execution_count": 18,
   "metadata": {
    "ExecuteTime": {
     "end_time": "2018-05-09T17:50:37.451755Z",
     "start_time": "2018-05-09T17:50:37.427299Z"
    }
   },
   "outputs": [
    {
     "data": {
      "text/html": [
       "<div class=\"tfsechead \"><span class=\"ltr\"><a target=\"_blank\" href=\"https://cdli.ucla.edu/search/search_results.php?SearchMode=Text&amp;ObjectID=P471695\" title=\"to CDLI main page for this tablet\" sec=\"P471695 obverse:1:1\">P471695 obverse:1:1</a></span></div><div class=\" children\"><div class=\"contnr c2    \" ><div class=\"lbl c2  \" ><span class=\"nd\">case </span> <span class=\"txtu\"><span title=\"number\">1a</span><span title=\"prime\"></span></span></div><div class=\"features\"><span class=\"depth xft\" ><span class=\"f\">depth=</span>1</span><span class=\"terminal xft\" ><span class=\"f\">terminal=</span>1</span></div><div class=\"children ver False \"><div class=\"contnr c0 trm   \" ><div class=\"lbl c0 trm \" ><span class=\"txtu\"><span title=\"atf\">3(N01)</span></span></div></div><div class=\"contnr c0 trm   \" ><div class=\"lbl c0 trm \" ><span class=\"txtu\"><span title=\"atf\">APIN~a</span></span></div></div><div class=\"contnr c0 trm   \" ><div class=\"lbl c0 trm \" ><span class=\"txtu\"><span title=\"atf\">3(N57)</span></span></div></div><div class=\"contnr c0 trm   \" ><div class=\"lbl c0 trm \" ><span class=\"txtu\"><span title=\"atf\">UR4~a</span></span></div></div></div></div></div>"
      ],
      "text/plain": [
       "<IPython.core.display.HTML object>"
      ]
     },
     "metadata": {},
     "output_type": "display_data"
    },
    {
     "data": {
      "text/html": [
       "<div class=\"tfsechead \"><span class=\"ltr\"><a target=\"_blank\" href=\"https://cdli.ucla.edu/search/search_results.php?SearchMode=Text&amp;ObjectID=P471695\" title=\"to CDLI main page for this tablet\" sec=\"P471695 obverse:1:1\">P471695 obverse:1:1</a></span></div><div class=\" children\"><div class=\"contnr c2    \" ><div class=\"lbl c2  \" ><span class=\"nd\">case </span> <span class=\"txtu\"><span title=\"number\">1b</span><span title=\"prime\"></span></span></div><div class=\"features\"><span class=\"depth xft\" ><span class=\"f\">depth=</span>1</span></div><div class=\"children ver False \"><div class=\"contnr c2    \" ><div class=\"lbl c2  \" ><span class=\"nd\">case </span> <span class=\"txtu\"><span title=\"number\">1b1</span><span title=\"prime\"></span></span></div><div class=\"features\"><span class=\"depth xft\" ><span class=\"f\">depth=</span>2</span><span class=\"terminal xft\" ><span class=\"f\">terminal=</span>1</span></div><div class=\"children hor False \"><div class=\"contnr c1 cluster trm   \" ><div class=\"lbl c1 clusterb trm \" ><span class=\"nd\">cluster </span> <span class=\"txtu\"><span title=\"type\">=</span></span></div></div><div class=\"children hor wrap \"><div class=\"contnr c0 trm   \" ><div class=\"lbl c0 trm \" ><span class=\"txtu\"><span title=\"atf\">EN~a</span></span></div></div><div class=\"contnr c0 trm   \" ><div class=\"lbl c0 trm \" ><span class=\"txtu\"><span title=\"atf\">DU</span></span></div></div><div class=\"contnr c0 trm   \" ><div class=\"lbl c0 trm \" ><span class=\"txtu\"><span title=\"atf\">ZATU759</span></span></div></div></div><div class=\"contnr c1 cluster {}   \" ><div class=\"lbl c1 clustere trm \" ><span class=\"nd\">cluster </span> <span class=\"txtu\"><span title=\"type\">=</span></span></div> </div></div></div><div class=\"contnr c2    \" ><div class=\"lbl c2  \" ><span class=\"nd\">case </span> <span class=\"txtu\"><span title=\"number\">1b2</span><span title=\"prime\"></span></span></div><div class=\"features\"><span class=\"depth xft\" ><span class=\"f\">depth=</span>2</span><span class=\"terminal xft\" ><span class=\"f\">terminal=</span>1</span></div><div class=\"children hor False \"><div class=\"contnr c1 cluster trm   \" ><div class=\"lbl c1 clusterb trm \" ><span class=\"nd\">cluster </span> <span class=\"txtu\"><span title=\"type\">=</span></span></div></div><div class=\"children hor wrap \"><div class=\"contnr c0 trm   \" ><div class=\"lbl c0 trm \" ><span class=\"txtu\"><span title=\"atf\">BAN~b</span></span></div></div><div class=\"contnr c0 trm   \" ><div class=\"lbl c0 trm \" ><span class=\"txtu\"><span title=\"atf\">KASZ~c</span></span></div></div></div><div class=\"contnr c1 cluster {}   \" ><div class=\"lbl c1 clustere trm \" ><span class=\"nd\">cluster </span> <span class=\"txtu\"><span title=\"type\">=</span></span></div> </div></div></div><div class=\"contnr c2    \" ><div class=\"lbl c2  \" ><span class=\"nd\">case </span> <span class=\"txtu\"><span title=\"number\">1b3</span><span title=\"prime\"></span></span></div><div class=\"features\"><span class=\"depth xft\" ><span class=\"f\">depth=</span>2</span><span class=\"terminal xft\" ><span class=\"f\">terminal=</span>1</span></div><div class=\"children hor False \"><div class=\"contnr c1 cluster trm   \" ><div class=\"lbl c1 clusterb trm \" ><span class=\"nd\">cluster </span> <span class=\"txtu\"><span title=\"type\">=</span></span></div></div><div class=\"children hor wrap \"><div class=\"contnr c0 trm   \" ><div class=\"lbl c0 trm \" ><span class=\"txtu\"><span title=\"atf\">KI@n</span></span></div></div><div class=\"contnr c0 trm   \" ><div class=\"lbl c0 trm \" ><span class=\"txtu\"><span title=\"atf\">SAG</span></span></div></div></div><div class=\"contnr c1 cluster {}   \" ><div class=\"lbl c1 clustere trm \" ><span class=\"nd\">cluster </span> <span class=\"txtu\"><span title=\"type\">=</span></span></div> </div></div></div></div></div></div>"
      ],
      "text/plain": [
       "<IPython.core.display.HTML object>"
      ]
     },
     "metadata": {},
     "output_type": "display_data"
    },
    {
     "data": {
      "text/html": [
       "<div class=\"tfsechead \"><span class=\"ltr\"><a target=\"_blank\" href=\"https://cdli.ucla.edu/search/search_results.php?SearchMode=Text&amp;ObjectID=P471695\" title=\"to CDLI main page for this tablet\" sec=\"P471695 obverse:1:2\">P471695 obverse:1:2</a></span></div><div class=\" children\"><div class=\"contnr c2    \" ><div class=\"lbl c2  \" ><span class=\"nd\">case </span> <span class=\"txtu\"><span title=\"number\">2a</span><span title=\"prime\"></span></span></div><div class=\"features\"><span class=\"depth xft\" ><span class=\"f\">depth=</span>1</span><span class=\"terminal xft\" ><span class=\"f\">terminal=</span>1</span></div><div class=\"children ver False \"><div class=\"contnr c0 trm   \" ><div class=\"lbl c0 trm \" ><span class=\"txtu\"><span title=\"atf\">1(N14)</span></span></div></div><div class=\"contnr c0 trm   \" ><div class=\"lbl c0 trm \" ><span class=\"txtu\"><span title=\"atf\">2(N01)</span></span></div></div><div class=\"contnr c1 cluster trm   \" ><div class=\"lbl c1 clusterb trm \" ><span class=\"nd\">cluster </span> <span class=\"txtu\"><span title=\"type\">?</span></span></div></div><div class=\"children hor wrap \"><div class=\"contnr c0 trm   \" ><div class=\"lbl c0 trm \" ><span class=\"txtu\"><span title=\"atf\">...</span></span></div></div></div><div class=\"contnr c1 cluster {}   \" ><div class=\"lbl c1 clustere trm \" ><span class=\"nd\">cluster </span> <span class=\"txtu\"><span title=\"type\">?</span></span></div> </div></div></div></div>"
      ],
      "text/plain": [
       "<IPython.core.display.HTML object>"
      ]
     },
     "metadata": {},
     "output_type": "display_data"
    },
    {
     "data": {
      "text/html": [
       "<div class=\"tfsechead \"><span class=\"ltr\"><a target=\"_blank\" href=\"https://cdli.ucla.edu/search/search_results.php?SearchMode=Text&amp;ObjectID=P471695\" title=\"to CDLI main page for this tablet\" sec=\"P471695 obverse:1:2\">P471695 obverse:1:2</a></span></div><div class=\" children\"><div class=\"contnr c2    \" ><div class=\"lbl c2  \" ><span class=\"nd\">case </span> <span class=\"txtu\"><span title=\"number\">2b</span><span title=\"prime\"></span></span></div><div class=\"features\"><span class=\"depth xft\" ><span class=\"f\">depth=</span>1</span></div><div class=\"children ver False \"><div class=\"contnr c2    \" ><div class=\"lbl c2  \" ><span class=\"nd\">case </span> <span class=\"txtu\"><span title=\"number\">2b1</span><span title=\"prime\"></span></span></div><div class=\"features\"><span class=\"depth xft\" ><span class=\"f\">depth=</span>2</span><span class=\"terminal xft\" ><span class=\"f\">terminal=</span>1</span></div><div class=\"children hor False \"><div class=\"contnr c1 cluster trm   \" ><div class=\"lbl c1 clusterb trm \" ><span class=\"nd\">cluster </span> <span class=\"txtu\"><span title=\"type\">=</span></span></div></div><div class=\"children hor wrap \"><div class=\"contnr c0 trm   \" ><div class=\"lbl c0 trm \" ><span class=\"txtu\"><span title=\"atf\">3(N57)</span></span></div></div><div class=\"contnr c0 trm   \" ><div class=\"lbl c0 trm \" ><span class=\"txtu\"><span title=\"atf\">PAP~a</span></span></div></div></div><div class=\"contnr c1 cluster {}   \" ><div class=\"lbl c1 clustere trm \" ><span class=\"nd\">cluster </span> <span class=\"txtu\"><span title=\"type\">=</span></span></div> </div></div></div><div class=\"contnr c2    \" ><div class=\"lbl c2  \" ><span class=\"nd\">case </span> <span class=\"txtu\"><span title=\"number\">2b2</span><span title=\"prime\"></span></span></div><div class=\"features\"><span class=\"depth xft\" ><span class=\"f\">depth=</span>2</span><span class=\"terminal xft\" ><span class=\"f\">terminal=</span>1</span></div><div class=\"children hor False \"><div class=\"contnr c1 trm   \" ><div class=\"lbl c1 trm \" ><span class=\"nd\">comment </span> <span class=\"txtu\"><span class=\"plain   \" ><span class=\"plain \" ></span> </span></span></div><div class=\"features\"><span class=\"text \" title=\"text\">n lines broken</span></div></div><div class=\"contnr c1 cluster trm   \" ><div class=\"lbl c1 clusterb trm \" ><span class=\"nd\">cluster </span> <span class=\"txtu\"><span title=\"type\">=</span></span></div></div><div class=\"children hor wrap \"><div class=\"contnr c0 trm   \" ><div class=\"lbl c0 trm \" ><span class=\"txtu\"><span title=\"atf\">SZU</span></span></div></div><div class=\"contnr c0 trm   \" ><div class=\"lbl c0 trm \" ><span class=\"txtu\"><span title=\"atf\">KI</span></span></div></div><div class=\"contnr c0 trm   \" ><div class=\"lbl c0 trm \" ><span class=\"txtu\"><span title=\"atf\">X</span></span></div></div></div><div class=\"contnr c1 cluster {}   \" ><div class=\"lbl c1 clustere trm \" ><span class=\"nd\">cluster </span> <span class=\"txtu\"><span title=\"type\">=</span></span></div> </div></div></div><div class=\"contnr c2    \" ><div class=\"lbl c2  \" ><span class=\"nd\">case </span> <span class=\"txtu\"><span title=\"number\">2b3</span><span title=\"prime\">'</span></span></div><div class=\"features\"><span class=\"depth xft\" ><span class=\"f\">depth=</span>2</span><span class=\"terminal xft\" ><span class=\"f\">terminal=</span>1</span></div><div class=\"children hor False \"><div class=\"contnr c1 cluster trm   \" ><div class=\"lbl c1 clusterb trm \" ><span class=\"nd\">cluster </span> <span class=\"txtu\"><span title=\"type\">=</span></span></div></div><div class=\"children hor wrap \"><div class=\"contnr c0 trm   \" ><div class=\"lbl c0 trm \" ><span class=\"txtu\"><span title=\"atf\">EN~a</span></span></div></div><div class=\"contnr c0 trm   \" ><div class=\"lbl c0 trm \" ><span class=\"txtu\"><span title=\"atf\">AN</span></span></div></div><div class=\"contnr c0 trm   \" ><div class=\"lbl c0 trm \" ><span class=\"txtu\"><span title=\"atf\">EZINU~d</span></span></div></div></div><div class=\"contnr c1 cluster {}   \" ><div class=\"lbl c1 clustere trm \" ><span class=\"nd\">cluster </span> <span class=\"txtu\"><span title=\"type\">=</span></span></div> </div></div></div><div class=\"contnr c2    \" ><div class=\"lbl c2  \" ><span class=\"nd\">case </span> <span class=\"txtu\"><span title=\"number\">2b4</span><span title=\"prime\">'</span></span></div><div class=\"features\"><span class=\"depth xft\" ><span class=\"f\">depth=</span>2</span><span class=\"terminal xft\" ><span class=\"f\">terminal=</span>1</span></div><div class=\"children hor False \"><div class=\"contnr c1 trm   \" ><div class=\"lbl c1 trm \" ><span class=\"nd\">comment </span> <span class=\"txtu\"><span class=\"plain   \" ><span class=\"plain \" ></span> </span></span></div><div class=\"features\"><span class=\"text \" title=\"text\">rest broken</span></div></div><div class=\"contnr c1 trm   \" ><div class=\"lbl c1 trm \" ><span class=\"nd\">comment </span> <span class=\"txtu\"><span class=\"plain   \" ><span class=\"plain \" ></span> </span></span></div><div class=\"features\"><span class=\"text \" title=\"text\">(for a total of 12 sub-cases with PNN)</span></div></div><div class=\"contnr c1 cluster trm   \" ><div class=\"lbl c1 clusterb trm \" ><span class=\"nd\">cluster </span> <span class=\"txtu\"><span title=\"type\">=</span></span></div></div><div class=\"children hor wrap \"><div class=\"contnr c0 trm   \" ><div class=\"lbl c0 trm \" ><span class=\"txtu\"><span title=\"atf\">IDIGNA</span></span></div></div><div class=\"contnr c1 cluster trm   \" ><div class=\"lbl c1 clusterb trm \" ><span class=\"nd\">cluster </span> <span class=\"txtu\"><span title=\"type\">?</span></span></div></div><div class=\"children hor wrap \"><div class=\"contnr c0 trm   \" ><div class=\"lbl c0 trm \" ><span class=\"txtu\"><span title=\"atf\">...</span></span></div></div></div><div class=\"contnr c1 cluster {}   \" ><div class=\"lbl c1 clustere trm \" ><span class=\"nd\">cluster </span> <span class=\"txtu\"><span title=\"type\">?</span></span></div> </div></div><div class=\"contnr c1 cluster {}   \" ><div class=\"lbl c1 clustere trm \" ><span class=\"nd\">cluster </span> <span class=\"txtu\"><span title=\"type\">=</span></span></div> </div></div></div></div></div></div>"
      ],
      "text/plain": [
       "<IPython.core.display.HTML object>"
      ]
     },
     "metadata": {},
     "output_type": "display_data"
    },
    {
     "data": {
      "text/html": [
       "<div class=\"tfsechead \"><span class=\"ltr\"><a target=\"_blank\" href=\"https://cdli.ucla.edu/search/search_results.php?SearchMode=Text&amp;ObjectID=P471695\" title=\"to CDLI main page for this tablet\" sec=\"P471695 obverse:2:1\">P471695 obverse:2:1</a></span></div><div class=\" children\"><div class=\"contnr c2    \" ><div class=\"lbl c2  \" ><span class=\"nd\">case </span> <span class=\"txtu\"><span title=\"number\">1a</span><span title=\"prime\"></span></span></div><div class=\"features\"><span class=\"depth xft\" ><span class=\"f\">depth=</span>1</span><span class=\"terminal xft\" ><span class=\"f\">terminal=</span>1</span></div><div class=\"children ver False \"><div class=\"contnr c0 trm   \" ><div class=\"lbl c0 trm \" ><span class=\"txtu\"><span title=\"atf\">1(N01)</span></span></div></div><div class=\"contnr c0 trm   \" ><div class=\"lbl c0 trm \" ><span class=\"txtu\"><span title=\"atf\">ISZ~a#?</span></span></div></div></div></div></div>"
      ],
      "text/plain": [
       "<IPython.core.display.HTML object>"
      ]
     },
     "metadata": {},
     "output_type": "display_data"
    },
    {
     "data": {
      "text/html": [
       "<div class=\"tfsechead \"><span class=\"ltr\"><a target=\"_blank\" href=\"https://cdli.ucla.edu/search/search_results.php?SearchMode=Text&amp;ObjectID=P471695\" title=\"to CDLI main page for this tablet\" sec=\"P471695 obverse:2:1\">P471695 obverse:2:1</a></span></div><div class=\" children\"><div class=\"contnr c2    \" ><div class=\"lbl c2  \" ><span class=\"nd\">case </span> <span class=\"txtu\"><span title=\"number\">1b</span><span title=\"prime\"></span></span></div><div class=\"features\"><span class=\"depth xft\" ><span class=\"f\">depth=</span>1</span></div><div class=\"children ver False \"><div class=\"contnr c1 trm   \" ><div class=\"lbl c1 trm \" ><span class=\"nd\">comment </span> <span class=\"txtu\"><span class=\"plain   \" ><span class=\"plain \" ></span> </span></span></div><div class=\"features\"><span class=\"text \" title=\"text\">blank space</span></div></div><div class=\"contnr c1 trm   \" ><div class=\"lbl c1 trm \" ><span class=\"nd\">comment </span> <span class=\"txtu\"><span class=\"plain   \" ><span class=\"plain \" ></span> </span></span></div><div class=\"features\"><span class=\"text \" title=\"text\">rest broken</span></div></div><div class=\"contnr c1 cluster trm   \" ><div class=\"lbl c1 clusterb trm \" ><span class=\"nd\">cluster </span> <span class=\"txtu\"><span title=\"type\">=</span></span></div></div><div class=\"children hor wrap \"><div class=\"contnr c0 trm   \" ><div class=\"lbl c0 trm \" ><span class=\"txtu\"><span title=\"atf\">PAP~a</span></span></div></div><div class=\"contnr c0 trm   \" ><div class=\"lbl c0 trm \" ><span class=\"txtu\"><span title=\"atf\">GIR3~c</span></span></div></div></div><div class=\"contnr c1 cluster {}   \" ><div class=\"lbl c1 clustere trm \" ><span class=\"nd\">cluster </span> <span class=\"txtu\"><span title=\"type\">=</span></span></div> </div></div></div></div>"
      ],
      "text/plain": [
       "<IPython.core.display.HTML object>"
      ]
     },
     "metadata": {},
     "output_type": "display_data"
    }
   ],
   "source": [
    "for c in sorted(example2):\n",
    "    A.pretty(c, showGraphics=False)"
   ]
  },
  {
   "cell_type": "code",
   "execution_count": 19,
   "metadata": {
    "ExecuteTime": {
     "end_time": "2018-05-09T17:50:41.067990Z",
     "start_time": "2018-05-09T17:50:41.050502Z"
    }
   },
   "outputs": [
    {
     "data": {
      "text/html": [
       "<div class=\"tfsechead \"><span class=\"ltr\"><a target=\"_blank\" href=\"https://cdli.ucla.edu/search/search_results.php?SearchMode=Text&amp;ObjectID=P471695\" title=\"to CDLI main page for this tablet\" sec=\"P471695 obverse:1:1\">P471695 obverse:1:1</a></span></div><div class=\" children\"><div class=\"contnr c2    \" ><div class=\"lbl c2  \" ><span class=\"nd\">case </span> <span class=\"txtu\"><span title=\"number\">1a</span><span title=\"prime\"></span></span></div><div class=\"features\"><span class=\"depth xft\" ><span class=\"f\">depth=</span>1</span><span class=\"terminal xft\" ><span class=\"f\">terminal=</span>1</span></div><div class=\"children ver False \"><div class=\"contnr c0 trm   \" ><div class=\"lbl c0 trm \" ><span class=\"txtu\"><span title=\"atf\">3(N01)</span></span></div></div><div class=\"contnr c0 trm   \" ><div class=\"lbl c0 trm \" ><span class=\"txtu\"><span title=\"atf\">APIN~a</span></span></div></div><div class=\"contnr c0 trm   \" ><div class=\"lbl c0 trm \" ><span class=\"txtu\"><span title=\"atf\">3(N57)</span></span></div></div><div class=\"contnr c0 trm   \" ><div class=\"lbl c0 trm \" ><span class=\"txtu\"><span title=\"atf\">UR4~a</span></span></div></div></div></div></div>"
      ],
      "text/plain": [
       "<IPython.core.display.HTML object>"
      ]
     },
     "metadata": {},
     "output_type": "display_data"
    },
    {
     "data": {
      "text/html": [
       "<div class=\"tfsechead \"><span class=\"ltr\"><a target=\"_blank\" href=\"https://cdli.ucla.edu/search/search_results.php?SearchMode=Text&amp;ObjectID=P471695\" title=\"to CDLI main page for this tablet\" sec=\"P471695 obverse:1:2\">P471695 obverse:1:2</a></span></div><div class=\" children\"><div class=\"contnr c2    \" ><div class=\"lbl c2  \" ><span class=\"nd\">case </span> <span class=\"txtu\"><span title=\"number\">2a</span><span title=\"prime\"></span></span></div><div class=\"features\"><span class=\"depth xft\" ><span class=\"f\">depth=</span>1</span><span class=\"terminal xft\" ><span class=\"f\">terminal=</span>1</span></div><div class=\"children ver False \"><div class=\"contnr c0 trm   \" ><div class=\"lbl c0 trm \" ><span class=\"txtu\"><span title=\"atf\">1(N14)</span></span></div></div><div class=\"contnr c0 trm   \" ><div class=\"lbl c0 trm \" ><span class=\"txtu\"><span title=\"atf\">2(N01)</span></span></div></div><div class=\"contnr c1 cluster trm   \" ><div class=\"lbl c1 clusterb trm \" ><span class=\"nd\">cluster </span> <span class=\"txtu\"><span title=\"type\">?</span></span></div></div><div class=\"children hor wrap \"><div class=\"contnr c0 trm   \" ><div class=\"lbl c0 trm \" ><span class=\"txtu\"><span title=\"atf\">...</span></span></div></div></div><div class=\"contnr c1 cluster {}   \" ><div class=\"lbl c1 clustere trm \" ><span class=\"nd\">cluster </span> <span class=\"txtu\"><span title=\"type\">?</span></span></div> </div></div></div></div>"
      ],
      "text/plain": [
       "<IPython.core.display.HTML object>"
      ]
     },
     "metadata": {},
     "output_type": "display_data"
    },
    {
     "data": {
      "text/html": [
       "<div class=\"tfsechead \"><span class=\"ltr\"><a target=\"_blank\" href=\"https://cdli.ucla.edu/search/search_results.php?SearchMode=Text&amp;ObjectID=P471695\" title=\"to CDLI main page for this tablet\" sec=\"P471695 obverse:2:1\">P471695 obverse:2:1</a></span></div><div class=\" children\"><div class=\"contnr c2    \" ><div class=\"lbl c2  \" ><span class=\"nd\">case </span> <span class=\"txtu\"><span title=\"number\">1a</span><span title=\"prime\"></span></span></div><div class=\"features\"><span class=\"depth xft\" ><span class=\"f\">depth=</span>1</span><span class=\"terminal xft\" ><span class=\"f\">terminal=</span>1</span></div><div class=\"children ver False \"><div class=\"contnr c0 trm   \" ><div class=\"lbl c0 trm \" ><span class=\"txtu\"><span title=\"atf\">1(N01)</span></span></div></div><div class=\"contnr c0 trm   \" ><div class=\"lbl c0 trm \" ><span class=\"txtu\"><span title=\"atf\">ISZ~a#?</span></span></div></div></div></div></div>"
      ],
      "text/plain": [
       "<IPython.core.display.HTML object>"
      ]
     },
     "metadata": {},
     "output_type": "display_data"
    }
   ],
   "source": [
    "for c in sorted(example2T):\n",
    "    A.pretty(c, showGraphics=False)"
   ]
  },
  {
   "cell_type": "markdown",
   "metadata": {},
   "source": [
    "What about case `1.b`?\n",
    "It is a case at level 2.\n",
    "Why isn't is in `example2T`?\n",
    "\n",
    "Yes, but it is not a terminal case. It has subcases.\n",
    "That is why `1.b` is left out.\n",
    "The parameter `terminal` specifies that only cases without children will be in the result."
   ]
  },
  {
   "cell_type": "markdown",
   "metadata": {},
   "source": [
    "## Level 2\n",
    "\n",
    "What if we want all signs that occur in a subcase, i.e. a case at level 2?\n",
    "\n",
    "We can call `casesByLevel(2, terminal=False)`, iterate through the resulting cases, and\n",
    "collect all signs per case.\n",
    "However, we will encounter signs multiple times.\n",
    "Because if a sign is in a subcase, it is also in its containing case and in its containing line.\n",
    "We can solve this by collecting the signs in a set.\n",
    "Then we loose the corpus order of the signs, but we can easily reorder the set into a list.\n",
    "\n",
    "There is an alternative method: a search template.\n",
    "Search delivers unordered results, so we will reorder the search results as well.\n",
    "\n",
    "Text-Fabric has an API function for sorting nodes into corpus order: `sortNodes`.\n",
    "\n",
    "Let us try out both methods and compare the outcomes."
   ]
  },
  {
   "cell_type": "markdown",
   "metadata": {},
   "source": [
    "### `casesByLevel`"
   ]
  },
  {
   "cell_type": "code",
   "execution_count": 20,
   "metadata": {
    "ExecuteTime": {
     "end_time": "2018-05-09T17:50:45.090757Z",
     "start_time": "2018-05-09T17:50:45.052254Z"
    }
   },
   "outputs": [
    {
     "data": {
      "text/plain": [
       "7738"
      ]
     },
     "execution_count": 20,
     "metadata": {},
     "output_type": "execute_result"
    }
   ],
   "source": [
    "cases = A.casesByLevel(2, terminal=False)\n",
    "signSet = set()\n",
    "for case in cases:\n",
    "    signSet |= set(L.d(case, otype=\"sign\"))\n",
    "signsA = N.sortNodes(signSet)\n",
    "len(signsA)"
   ]
  },
  {
   "cell_type": "markdown",
   "metadata": {},
   "source": [
    "or, by query:"
   ]
  },
  {
   "cell_type": "code",
   "execution_count": 21,
   "metadata": {
    "ExecuteTime": {
     "end_time": "2018-05-09T17:50:47.418888Z",
     "start_time": "2018-05-09T17:50:47.152637Z"
    }
   },
   "outputs": [
    {
     "name": "stdout",
     "output_type": "stream",
     "text": [
      "  0.05s 7738 results\n"
     ]
    }
   ],
   "source": [
    "query = \"\"\"\n",
    "case depth=2\n",
    "  sign\n",
    "\"\"\"\n",
    "results = A.search(query)"
   ]
  },
  {
   "cell_type": "markdown",
   "metadata": {},
   "source": [
    "or by a query not using the `depth` feature:"
   ]
  },
  {
   "cell_type": "code",
   "execution_count": 22,
   "metadata": {
    "ExecuteTime": {
     "end_time": "2018-05-09T17:50:49.778344Z",
     "start_time": "2018-05-09T17:50:49.575908Z"
    }
   },
   "outputs": [
    {
     "name": "stdout",
     "output_type": "stream",
     "text": [
      "  0.06s 7738 results\n"
     ]
    }
   ],
   "source": [
    "query = \"\"\"\n",
    "line\n",
    "  -sub> case\n",
    "    -sub> case\n",
    "         sign\n",
    "\"\"\"\n",
    "results = A.search(query)\n",
    "signsB = N.sortNodes(r[3] for r in results)"
   ]
  },
  {
   "cell_type": "markdown",
   "metadata": {},
   "source": [
    "A bit about results.\n",
    "The query mentions four quantities: `line`, `case`, `case`, `sign`.\n",
    "Every result of the query is an instantiation of those 4 quantities, hence a tuple of nodes:\n",
    "\n",
    "```\n",
    "(resultLine, resultCase1, resultCase2, resultSign)\n",
    "```\n",
    "\n",
    "See the table view:"
   ]
  },
  {
   "cell_type": "code",
   "execution_count": 23,
   "metadata": {
    "ExecuteTime": {
     "end_time": "2018-05-09T17:50:51.742028Z",
     "start_time": "2018-05-09T17:50:51.728828Z"
    }
   },
   "outputs": [
    {
     "data": {
      "text/html": [
       "<table><tr class=\"tf ltr\"><th class=\"tf ltr\">n</th><th class=\"tf ltr\">p</th><th class=\"tf ltr\">line</th><th class=\"tf\">case</th><th class=\"tf\">case</th><th class=\"tf\">sign</th></tr>\n",
       "<tr class=\"tf ltr\"><td class=\"tf ltr\">1</td><td class=\"tf ltr\"><span class=\"tfsechead ltr\"><span class=\"ltr\"><a target=\"_blank\" href=\"https://cdli.ucla.edu/search/search_results.php?SearchMode=Text&amp;ObjectID=P471695\" title=\"to CDLI main page for this tablet\" sec=\"P471695 obverse:1:1\">P471695 obverse:1:1</a></span></span></td><td class=\"tf ltr\"><span class=\" ubd\"><span class=\"plain   hlbx\" ><span class=\"txtu \"><span title=\"number\">1a</span><span title=\"prime\"></span></span><span class=\"plain \" >3(N01)</span>  <a target=\"_blank\" href=\"https://cdli.ucla.edu/tools/SignLists/protocuneiform/archsigns/3(N01).jpg\" title=\"to higher resolution lineart on CDLI\"><img src=\"cdli-imagery/lineart-3(n01).jpg\" style=\"display: inline;max-width: 2em; max-height: 6em;\"  /></a><span class=\"plain \" >APIN~a</span>  <a target=\"_blank\" href=\"https://cdli.ucla.edu/tools/SignLists/protocuneiform/archsigns/APIN~a.jpg\" title=\"to higher resolution lineart on CDLI\"><img src=\"cdli-imagery/lineart-apin-a.jpg\" style=\"display: inline;max-width: 2em; max-height: 6em;\"  /></a><span class=\"plain \" >3(N57)</span>  <a target=\"_blank\" href=\"https://cdli.ucla.edu/tools/SignLists/protocuneiform/archsigns/3(N57).jpg\" title=\"to higher resolution lineart on CDLI\"><img src=\"cdli-imagery/lineart-3(n57).jpg\" style=\"display: inline;max-width: 2em; max-height: 6em;\"  /></a><span class=\"plain \" >UR4~a</span>  <a target=\"_blank\" href=\"https://cdli.ucla.edu/tools/SignLists/protocuneiform/archsigns/UR4~a.jpg\" title=\"to higher resolution lineart on CDLI\"><img src=\"cdli-imagery/lineart-ur4-a.jpg\" style=\"display: inline;max-width: 2em; max-height: 6em;\"  /></a><span class=\"plain   hlbx\" ><span class=\"txtu \"><span title=\"number\">1b</span><span title=\"prime\"></span></span><span class=\"plain   hlbx\" ><span class=\"txtu \"><span title=\"number\">1b1</span><span title=\"prime\"></span></span><span class=\"plain \" >(<span class=\"plain hl\" >EN~a</span> <span class=\"plain \" >DU</span> <span class=\"plain \" >ZATU759</span>)a</span> </span><span class=\"txtu \"><span title=\"number\">1b2</span><span title=\"prime\"></span></span><span class=\"plain \" >(<span class=\"plain \" >BAN~b</span> <span class=\"plain \" >KASZ~c</span>)a</span> <span class=\"txtu \"><span title=\"number\">1b3</span><span title=\"prime\"></span></span><span class=\"plain \" >(<span class=\"plain \" >KI@n</span> <span class=\"plain \" >SAG</span>)a</span> </span></span></span></td><td class=\"tf ltr\"><span class=\" ubd\"><span class=\"plain   hlbx\" ><span class=\"txtu \"><span title=\"number\">1b</span><span title=\"prime\"></span></span><span class=\"plain   hlbx\" ><span class=\"txtu \"><span title=\"number\">1b1</span><span title=\"prime\"></span></span><span class=\"plain \" >(<span class=\"plain hl\" >EN~a</span> <span class=\"plain \" >DU</span> <span class=\"plain \" >ZATU759</span>)a</span> </span><span class=\"txtu \"><span title=\"number\">1b2</span><span title=\"prime\"></span></span><span class=\"plain \" >(<span class=\"plain \" >BAN~b</span> <span class=\"plain \" >KASZ~c</span>)a</span> <span class=\"txtu \"><span title=\"number\">1b3</span><span title=\"prime\"></span></span><span class=\"plain \" >(<span class=\"plain \" >KI@n</span> <span class=\"plain \" >SAG</span>)a</span> </span></span></td><td class=\"tf ltr\"><span class=\" ubd\"><span class=\"plain   hlbx\" ><span class=\"txtu \"><span title=\"number\">1b1</span><span title=\"prime\"></span></span><span class=\"plain \" >(<span class=\"plain hl\" >EN~a</span> <span class=\"plain \" >DU</span> <span class=\"plain \" >ZATU759</span>)a</span> </span></span></td><td class=\"tf ltr\"><span class=\" ubd\"><span class=\"plain   hl\" ><span class=\"plain hl\" >EN~a</span>  <a target=\"_blank\" href=\"https://cdli.ucla.edu/tools/SignLists/protocuneiform/archsigns/EN~a.jpg\" title=\"to higher resolution lineart on CDLI\"><img src=\"cdli-imagery/lineart-en-a.jpg\" style=\"display: inline;max-width: 2em; max-height: 6em;\"  /></a></span></span></td></tr>\n",
       "<tr class=\"tf ltr\"><td class=\"tf ltr\">2</td><td class=\"tf ltr\"><span class=\"tfsechead ltr\"><span class=\"ltr\"><a target=\"_blank\" href=\"https://cdli.ucla.edu/search/search_results.php?SearchMode=Text&amp;ObjectID=P471695\" title=\"to CDLI main page for this tablet\" sec=\"P471695 obverse:1:1\">P471695 obverse:1:1</a></span></span></td><td class=\"tf ltr\"><span class=\" ubd\"><span class=\"plain   hlbx\" ><span class=\"txtu \"><span title=\"number\">1a</span><span title=\"prime\"></span></span><span class=\"plain \" >3(N01)</span>  <a target=\"_blank\" href=\"https://cdli.ucla.edu/tools/SignLists/protocuneiform/archsigns/3(N01).jpg\" title=\"to higher resolution lineart on CDLI\"><img src=\"cdli-imagery/lineart-3(n01).jpg\" style=\"display: inline;max-width: 2em; max-height: 6em;\"  /></a><span class=\"plain \" >APIN~a</span>  <a target=\"_blank\" href=\"https://cdli.ucla.edu/tools/SignLists/protocuneiform/archsigns/APIN~a.jpg\" title=\"to higher resolution lineart on CDLI\"><img src=\"cdli-imagery/lineart-apin-a.jpg\" style=\"display: inline;max-width: 2em; max-height: 6em;\"  /></a><span class=\"plain \" >3(N57)</span>  <a target=\"_blank\" href=\"https://cdli.ucla.edu/tools/SignLists/protocuneiform/archsigns/3(N57).jpg\" title=\"to higher resolution lineart on CDLI\"><img src=\"cdli-imagery/lineart-3(n57).jpg\" style=\"display: inline;max-width: 2em; max-height: 6em;\"  /></a><span class=\"plain \" >UR4~a</span>  <a target=\"_blank\" href=\"https://cdli.ucla.edu/tools/SignLists/protocuneiform/archsigns/UR4~a.jpg\" title=\"to higher resolution lineart on CDLI\"><img src=\"cdli-imagery/lineart-ur4-a.jpg\" style=\"display: inline;max-width: 2em; max-height: 6em;\"  /></a><span class=\"plain   hlbx\" ><span class=\"txtu \"><span title=\"number\">1b</span><span title=\"prime\"></span></span><span class=\"plain   hlbx\" ><span class=\"txtu \"><span title=\"number\">1b1</span><span title=\"prime\"></span></span><span class=\"plain \" >(<span class=\"plain \" >EN~a</span> <span class=\"plain hl\" >DU</span> <span class=\"plain \" >ZATU759</span>)a</span> </span><span class=\"txtu \"><span title=\"number\">1b2</span><span title=\"prime\"></span></span><span class=\"plain \" >(<span class=\"plain \" >BAN~b</span> <span class=\"plain \" >KASZ~c</span>)a</span> <span class=\"txtu \"><span title=\"number\">1b3</span><span title=\"prime\"></span></span><span class=\"plain \" >(<span class=\"plain \" >KI@n</span> <span class=\"plain \" >SAG</span>)a</span> </span></span></span></td><td class=\"tf ltr\"><span class=\" ubd\"><span class=\"plain   hlbx\" ><span class=\"txtu \"><span title=\"number\">1b</span><span title=\"prime\"></span></span><span class=\"plain   hlbx\" ><span class=\"txtu \"><span title=\"number\">1b1</span><span title=\"prime\"></span></span><span class=\"plain \" >(<span class=\"plain \" >EN~a</span> <span class=\"plain hl\" >DU</span> <span class=\"plain \" >ZATU759</span>)a</span> </span><span class=\"txtu \"><span title=\"number\">1b2</span><span title=\"prime\"></span></span><span class=\"plain \" >(<span class=\"plain \" >BAN~b</span> <span class=\"plain \" >KASZ~c</span>)a</span> <span class=\"txtu \"><span title=\"number\">1b3</span><span title=\"prime\"></span></span><span class=\"plain \" >(<span class=\"plain \" >KI@n</span> <span class=\"plain \" >SAG</span>)a</span> </span></span></td><td class=\"tf ltr\"><span class=\" ubd\"><span class=\"plain   hlbx\" ><span class=\"txtu \"><span title=\"number\">1b1</span><span title=\"prime\"></span></span><span class=\"plain \" >(<span class=\"plain \" >EN~a</span> <span class=\"plain hl\" >DU</span> <span class=\"plain \" >ZATU759</span>)a</span> </span></span></td><td class=\"tf ltr\"><span class=\" ubd\"><span class=\"plain   hl\" ><span class=\"plain hl\" >DU</span>  <a target=\"_blank\" href=\"https://cdli.ucla.edu/tools/SignLists/protocuneiform/archsigns/DU.jpg\" title=\"to higher resolution lineart on CDLI\"><img src=\"cdli-imagery/lineart-du.jpg\" style=\"display: inline;max-width: 2em; max-height: 6em;\"  /></a></span></span></td></tr>\n",
       "<tr class=\"tf ltr\"><td class=\"tf ltr\">3</td><td class=\"tf ltr\"><span class=\"tfsechead ltr\"><span class=\"ltr\"><a target=\"_blank\" href=\"https://cdli.ucla.edu/search/search_results.php?SearchMode=Text&amp;ObjectID=P471695\" title=\"to CDLI main page for this tablet\" sec=\"P471695 obverse:1:1\">P471695 obverse:1:1</a></span></span></td><td class=\"tf ltr\"><span class=\" ubd\"><span class=\"plain   hlbx\" ><span class=\"txtu \"><span title=\"number\">1a</span><span title=\"prime\"></span></span><span class=\"plain \" >3(N01)</span>  <a target=\"_blank\" href=\"https://cdli.ucla.edu/tools/SignLists/protocuneiform/archsigns/3(N01).jpg\" title=\"to higher resolution lineart on CDLI\"><img src=\"cdli-imagery/lineart-3(n01).jpg\" style=\"display: inline;max-width: 2em; max-height: 6em;\"  /></a><span class=\"plain \" >APIN~a</span>  <a target=\"_blank\" href=\"https://cdli.ucla.edu/tools/SignLists/protocuneiform/archsigns/APIN~a.jpg\" title=\"to higher resolution lineart on CDLI\"><img src=\"cdli-imagery/lineart-apin-a.jpg\" style=\"display: inline;max-width: 2em; max-height: 6em;\"  /></a><span class=\"plain \" >3(N57)</span>  <a target=\"_blank\" href=\"https://cdli.ucla.edu/tools/SignLists/protocuneiform/archsigns/3(N57).jpg\" title=\"to higher resolution lineart on CDLI\"><img src=\"cdli-imagery/lineart-3(n57).jpg\" style=\"display: inline;max-width: 2em; max-height: 6em;\"  /></a><span class=\"plain \" >UR4~a</span>  <a target=\"_blank\" href=\"https://cdli.ucla.edu/tools/SignLists/protocuneiform/archsigns/UR4~a.jpg\" title=\"to higher resolution lineart on CDLI\"><img src=\"cdli-imagery/lineart-ur4-a.jpg\" style=\"display: inline;max-width: 2em; max-height: 6em;\"  /></a><span class=\"plain   hlbx\" ><span class=\"txtu \"><span title=\"number\">1b</span><span title=\"prime\"></span></span><span class=\"plain   hlbx\" ><span class=\"txtu \"><span title=\"number\">1b1</span><span title=\"prime\"></span></span><span class=\"plain \" >(<span class=\"plain \" >EN~a</span> <span class=\"plain \" >DU</span> <span class=\"plain hl\" >ZATU759</span>)a</span> </span><span class=\"txtu \"><span title=\"number\">1b2</span><span title=\"prime\"></span></span><span class=\"plain \" >(<span class=\"plain \" >BAN~b</span> <span class=\"plain \" >KASZ~c</span>)a</span> <span class=\"txtu \"><span title=\"number\">1b3</span><span title=\"prime\"></span></span><span class=\"plain \" >(<span class=\"plain \" >KI@n</span> <span class=\"plain \" >SAG</span>)a</span> </span></span></span></td><td class=\"tf ltr\"><span class=\" ubd\"><span class=\"plain   hlbx\" ><span class=\"txtu \"><span title=\"number\">1b</span><span title=\"prime\"></span></span><span class=\"plain   hlbx\" ><span class=\"txtu \"><span title=\"number\">1b1</span><span title=\"prime\"></span></span><span class=\"plain \" >(<span class=\"plain \" >EN~a</span> <span class=\"plain \" >DU</span> <span class=\"plain hl\" >ZATU759</span>)a</span> </span><span class=\"txtu \"><span title=\"number\">1b2</span><span title=\"prime\"></span></span><span class=\"plain \" >(<span class=\"plain \" >BAN~b</span> <span class=\"plain \" >KASZ~c</span>)a</span> <span class=\"txtu \"><span title=\"number\">1b3</span><span title=\"prime\"></span></span><span class=\"plain \" >(<span class=\"plain \" >KI@n</span> <span class=\"plain \" >SAG</span>)a</span> </span></span></td><td class=\"tf ltr\"><span class=\" ubd\"><span class=\"plain   hlbx\" ><span class=\"txtu \"><span title=\"number\">1b1</span><span title=\"prime\"></span></span><span class=\"plain \" >(<span class=\"plain \" >EN~a</span> <span class=\"plain \" >DU</span> <span class=\"plain hl\" >ZATU759</span>)a</span> </span></span></td><td class=\"tf ltr\"><span class=\" ubd\"><span class=\"plain   hl\" ><span class=\"plain hl\" >ZATU759</span>  <a target=\"_blank\" href=\"https://cdli.ucla.edu/tools/SignLists/protocuneiform/archsigns/ZATU759.jpg\" title=\"to higher resolution lineart on CDLI\"><img src=\"cdli-imagery/lineart-zatu759.jpg\" style=\"display: inline;max-width: 2em; max-height: 6em;\"  /></a></span></span></td></tr>\n",
       "<tr class=\"tf ltr\"><td class=\"tf ltr\">4</td><td class=\"tf ltr\"><span class=\"tfsechead ltr\"><span class=\"ltr\"><a target=\"_blank\" href=\"https://cdli.ucla.edu/search/search_results.php?SearchMode=Text&amp;ObjectID=P471695\" title=\"to CDLI main page for this tablet\" sec=\"P471695 obverse:1:1\">P471695 obverse:1:1</a></span></span></td><td class=\"tf ltr\"><span class=\" ubd\"><span class=\"plain   hlbx\" ><span class=\"txtu \"><span title=\"number\">1a</span><span title=\"prime\"></span></span><span class=\"plain \" >3(N01)</span>  <a target=\"_blank\" href=\"https://cdli.ucla.edu/tools/SignLists/protocuneiform/archsigns/3(N01).jpg\" title=\"to higher resolution lineart on CDLI\"><img src=\"cdli-imagery/lineart-3(n01).jpg\" style=\"display: inline;max-width: 2em; max-height: 6em;\"  /></a><span class=\"plain \" >APIN~a</span>  <a target=\"_blank\" href=\"https://cdli.ucla.edu/tools/SignLists/protocuneiform/archsigns/APIN~a.jpg\" title=\"to higher resolution lineart on CDLI\"><img src=\"cdli-imagery/lineart-apin-a.jpg\" style=\"display: inline;max-width: 2em; max-height: 6em;\"  /></a><span class=\"plain \" >3(N57)</span>  <a target=\"_blank\" href=\"https://cdli.ucla.edu/tools/SignLists/protocuneiform/archsigns/3(N57).jpg\" title=\"to higher resolution lineart on CDLI\"><img src=\"cdli-imagery/lineart-3(n57).jpg\" style=\"display: inline;max-width: 2em; max-height: 6em;\"  /></a><span class=\"plain \" >UR4~a</span>  <a target=\"_blank\" href=\"https://cdli.ucla.edu/tools/SignLists/protocuneiform/archsigns/UR4~a.jpg\" title=\"to higher resolution lineart on CDLI\"><img src=\"cdli-imagery/lineart-ur4-a.jpg\" style=\"display: inline;max-width: 2em; max-height: 6em;\"  /></a><span class=\"plain   hlbx\" ><span class=\"txtu \"><span title=\"number\">1b</span><span title=\"prime\"></span></span><span class=\"txtu \"><span title=\"number\">1b1</span><span title=\"prime\"></span></span><span class=\"plain \" >(<span class=\"plain \" >EN~a</span> <span class=\"plain \" >DU</span> <span class=\"plain \" >ZATU759</span>)a</span> <span class=\"plain   hlbx\" ><span class=\"txtu \"><span title=\"number\">1b2</span><span title=\"prime\"></span></span><span class=\"plain \" >(<span class=\"plain hl\" >BAN~b</span> <span class=\"plain \" >KASZ~c</span>)a</span> </span><span class=\"txtu \"><span title=\"number\">1b3</span><span title=\"prime\"></span></span><span class=\"plain \" >(<span class=\"plain \" >KI@n</span> <span class=\"plain \" >SAG</span>)a</span> </span></span></span></td><td class=\"tf ltr\"><span class=\" ubd\"><span class=\"plain   hlbx\" ><span class=\"txtu \"><span title=\"number\">1b</span><span title=\"prime\"></span></span><span class=\"txtu \"><span title=\"number\">1b1</span><span title=\"prime\"></span></span><span class=\"plain \" >(<span class=\"plain \" >EN~a</span> <span class=\"plain \" >DU</span> <span class=\"plain \" >ZATU759</span>)a</span> <span class=\"plain   hlbx\" ><span class=\"txtu \"><span title=\"number\">1b2</span><span title=\"prime\"></span></span><span class=\"plain \" >(<span class=\"plain hl\" >BAN~b</span> <span class=\"plain \" >KASZ~c</span>)a</span> </span><span class=\"txtu \"><span title=\"number\">1b3</span><span title=\"prime\"></span></span><span class=\"plain \" >(<span class=\"plain \" >KI@n</span> <span class=\"plain \" >SAG</span>)a</span> </span></span></td><td class=\"tf ltr\"><span class=\" ubd\"><span class=\"plain   hlbx\" ><span class=\"txtu \"><span title=\"number\">1b2</span><span title=\"prime\"></span></span><span class=\"plain \" >(<span class=\"plain hl\" >BAN~b</span> <span class=\"plain \" >KASZ~c</span>)a</span> </span></span></td><td class=\"tf ltr\"><span class=\" ubd\"><span class=\"plain   hl\" ><span class=\"plain hl\" >BAN~b</span>  <a target=\"_blank\" href=\"https://cdli.ucla.edu/tools/SignLists/protocuneiform/archsigns/BAN~b.jpg\" title=\"to higher resolution lineart on CDLI\"><img src=\"cdli-imagery/lineart-ban-b.jpg\" style=\"display: inline;max-width: 2em; max-height: 6em;\"  /></a></span></span></td></tr>\n",
       "<tr class=\"tf ltr\"><td class=\"tf ltr\">5</td><td class=\"tf ltr\"><span class=\"tfsechead ltr\"><span class=\"ltr\"><a target=\"_blank\" href=\"https://cdli.ucla.edu/search/search_results.php?SearchMode=Text&amp;ObjectID=P471695\" title=\"to CDLI main page for this tablet\" sec=\"P471695 obverse:1:1\">P471695 obverse:1:1</a></span></span></td><td class=\"tf ltr\"><span class=\" ubd\"><span class=\"plain   hlbx\" ><span class=\"txtu \"><span title=\"number\">1a</span><span title=\"prime\"></span></span><span class=\"plain \" >3(N01)</span>  <a target=\"_blank\" href=\"https://cdli.ucla.edu/tools/SignLists/protocuneiform/archsigns/3(N01).jpg\" title=\"to higher resolution lineart on CDLI\"><img src=\"cdli-imagery/lineart-3(n01).jpg\" style=\"display: inline;max-width: 2em; max-height: 6em;\"  /></a><span class=\"plain \" >APIN~a</span>  <a target=\"_blank\" href=\"https://cdli.ucla.edu/tools/SignLists/protocuneiform/archsigns/APIN~a.jpg\" title=\"to higher resolution lineart on CDLI\"><img src=\"cdli-imagery/lineart-apin-a.jpg\" style=\"display: inline;max-width: 2em; max-height: 6em;\"  /></a><span class=\"plain \" >3(N57)</span>  <a target=\"_blank\" href=\"https://cdli.ucla.edu/tools/SignLists/protocuneiform/archsigns/3(N57).jpg\" title=\"to higher resolution lineart on CDLI\"><img src=\"cdli-imagery/lineart-3(n57).jpg\" style=\"display: inline;max-width: 2em; max-height: 6em;\"  /></a><span class=\"plain \" >UR4~a</span>  <a target=\"_blank\" href=\"https://cdli.ucla.edu/tools/SignLists/protocuneiform/archsigns/UR4~a.jpg\" title=\"to higher resolution lineart on CDLI\"><img src=\"cdli-imagery/lineart-ur4-a.jpg\" style=\"display: inline;max-width: 2em; max-height: 6em;\"  /></a><span class=\"plain   hlbx\" ><span class=\"txtu \"><span title=\"number\">1b</span><span title=\"prime\"></span></span><span class=\"txtu \"><span title=\"number\">1b1</span><span title=\"prime\"></span></span><span class=\"plain \" >(<span class=\"plain \" >EN~a</span> <span class=\"plain \" >DU</span> <span class=\"plain \" >ZATU759</span>)a</span> <span class=\"plain   hlbx\" ><span class=\"txtu \"><span title=\"number\">1b2</span><span title=\"prime\"></span></span><span class=\"plain \" >(<span class=\"plain \" >BAN~b</span> <span class=\"plain hl\" >KASZ~c</span>)a</span> </span><span class=\"txtu \"><span title=\"number\">1b3</span><span title=\"prime\"></span></span><span class=\"plain \" >(<span class=\"plain \" >KI@n</span> <span class=\"plain \" >SAG</span>)a</span> </span></span></span></td><td class=\"tf ltr\"><span class=\" ubd\"><span class=\"plain   hlbx\" ><span class=\"txtu \"><span title=\"number\">1b</span><span title=\"prime\"></span></span><span class=\"txtu \"><span title=\"number\">1b1</span><span title=\"prime\"></span></span><span class=\"plain \" >(<span class=\"plain \" >EN~a</span> <span class=\"plain \" >DU</span> <span class=\"plain \" >ZATU759</span>)a</span> <span class=\"plain   hlbx\" ><span class=\"txtu \"><span title=\"number\">1b2</span><span title=\"prime\"></span></span><span class=\"plain \" >(<span class=\"plain \" >BAN~b</span> <span class=\"plain hl\" >KASZ~c</span>)a</span> </span><span class=\"txtu \"><span title=\"number\">1b3</span><span title=\"prime\"></span></span><span class=\"plain \" >(<span class=\"plain \" >KI@n</span> <span class=\"plain \" >SAG</span>)a</span> </span></span></td><td class=\"tf ltr\"><span class=\" ubd\"><span class=\"plain   hlbx\" ><span class=\"txtu \"><span title=\"number\">1b2</span><span title=\"prime\"></span></span><span class=\"plain \" >(<span class=\"plain \" >BAN~b</span> <span class=\"plain hl\" >KASZ~c</span>)a</span> </span></span></td><td class=\"tf ltr\"><span class=\" ubd\"><span class=\"plain   hl\" ><span class=\"plain hl\" >KASZ~c</span>  <a target=\"_blank\" href=\"https://cdli.ucla.edu/tools/SignLists/protocuneiform/archsigns/KASZ~c.jpg\" title=\"to higher resolution lineart on CDLI\"><img src=\"cdli-imagery/lineart-kasz-c.jpg\" style=\"display: inline;max-width: 2em; max-height: 6em;\"  /></a></span></span></td></tr>\n",
       "<tr class=\"tf ltr\"><td class=\"tf ltr\">6</td><td class=\"tf ltr\"><span class=\"tfsechead ltr\"><span class=\"ltr\"><a target=\"_blank\" href=\"https://cdli.ucla.edu/search/search_results.php?SearchMode=Text&amp;ObjectID=P471695\" title=\"to CDLI main page for this tablet\" sec=\"P471695 obverse:1:1\">P471695 obverse:1:1</a></span></span></td><td class=\"tf ltr\"><span class=\" ubd\"><span class=\"plain   hlbx\" ><span class=\"txtu \"><span title=\"number\">1a</span><span title=\"prime\"></span></span><span class=\"plain \" >3(N01)</span>  <a target=\"_blank\" href=\"https://cdli.ucla.edu/tools/SignLists/protocuneiform/archsigns/3(N01).jpg\" title=\"to higher resolution lineart on CDLI\"><img src=\"cdli-imagery/lineart-3(n01).jpg\" style=\"display: inline;max-width: 2em; max-height: 6em;\"  /></a><span class=\"plain \" >APIN~a</span>  <a target=\"_blank\" href=\"https://cdli.ucla.edu/tools/SignLists/protocuneiform/archsigns/APIN~a.jpg\" title=\"to higher resolution lineart on CDLI\"><img src=\"cdli-imagery/lineart-apin-a.jpg\" style=\"display: inline;max-width: 2em; max-height: 6em;\"  /></a><span class=\"plain \" >3(N57)</span>  <a target=\"_blank\" href=\"https://cdli.ucla.edu/tools/SignLists/protocuneiform/archsigns/3(N57).jpg\" title=\"to higher resolution lineart on CDLI\"><img src=\"cdli-imagery/lineart-3(n57).jpg\" style=\"display: inline;max-width: 2em; max-height: 6em;\"  /></a><span class=\"plain \" >UR4~a</span>  <a target=\"_blank\" href=\"https://cdli.ucla.edu/tools/SignLists/protocuneiform/archsigns/UR4~a.jpg\" title=\"to higher resolution lineart on CDLI\"><img src=\"cdli-imagery/lineart-ur4-a.jpg\" style=\"display: inline;max-width: 2em; max-height: 6em;\"  /></a><span class=\"plain   hlbx\" ><span class=\"txtu \"><span title=\"number\">1b</span><span title=\"prime\"></span></span><span class=\"txtu \"><span title=\"number\">1b1</span><span title=\"prime\"></span></span><span class=\"plain \" >(<span class=\"plain \" >EN~a</span> <span class=\"plain \" >DU</span> <span class=\"plain \" >ZATU759</span>)a</span> <span class=\"txtu \"><span title=\"number\">1b2</span><span title=\"prime\"></span></span><span class=\"plain \" >(<span class=\"plain \" >BAN~b</span> <span class=\"plain \" >KASZ~c</span>)a</span> <span class=\"plain   hlbx\" ><span class=\"txtu \"><span title=\"number\">1b3</span><span title=\"prime\"></span></span><span class=\"plain \" >(<span class=\"plain hl\" >KI@n</span> <span class=\"plain \" >SAG</span>)a</span> </span></span></span></span></td><td class=\"tf ltr\"><span class=\" ubd\"><span class=\"plain   hlbx\" ><span class=\"txtu \"><span title=\"number\">1b</span><span title=\"prime\"></span></span><span class=\"txtu \"><span title=\"number\">1b1</span><span title=\"prime\"></span></span><span class=\"plain \" >(<span class=\"plain \" >EN~a</span> <span class=\"plain \" >DU</span> <span class=\"plain \" >ZATU759</span>)a</span> <span class=\"txtu \"><span title=\"number\">1b2</span><span title=\"prime\"></span></span><span class=\"plain \" >(<span class=\"plain \" >BAN~b</span> <span class=\"plain \" >KASZ~c</span>)a</span> <span class=\"plain   hlbx\" ><span class=\"txtu \"><span title=\"number\">1b3</span><span title=\"prime\"></span></span><span class=\"plain \" >(<span class=\"plain hl\" >KI@n</span> <span class=\"plain \" >SAG</span>)a</span> </span></span></span></td><td class=\"tf ltr\"><span class=\" ubd\"><span class=\"plain   hlbx\" ><span class=\"txtu \"><span title=\"number\">1b3</span><span title=\"prime\"></span></span><span class=\"plain \" >(<span class=\"plain hl\" >KI@n</span> <span class=\"plain \" >SAG</span>)a</span> </span></span></td><td class=\"tf ltr\"><span class=\" ubd\"><span class=\"plain   hl\" ><span class=\"plain hl\" >KI@n</span>  <a target=\"_blank\" href=\"https://cdli.ucla.edu/tools/SignLists/protocuneiform/archsigns/KI@n.jpg\" title=\"to higher resolution lineart on CDLI\"><img src=\"cdli-imagery/lineart-ki(a)n.jpg\" style=\"display: inline;max-width: 2em; max-height: 6em;\"  /></a></span></span></td></tr>\n",
       "<tr class=\"tf ltr\"><td class=\"tf ltr\">7</td><td class=\"tf ltr\"><span class=\"tfsechead ltr\"><span class=\"ltr\"><a target=\"_blank\" href=\"https://cdli.ucla.edu/search/search_results.php?SearchMode=Text&amp;ObjectID=P471695\" title=\"to CDLI main page for this tablet\" sec=\"P471695 obverse:1:1\">P471695 obverse:1:1</a></span></span></td><td class=\"tf ltr\"><span class=\" ubd\"><span class=\"plain   hlbx\" ><span class=\"txtu \"><span title=\"number\">1a</span><span title=\"prime\"></span></span><span class=\"plain \" >3(N01)</span>  <a target=\"_blank\" href=\"https://cdli.ucla.edu/tools/SignLists/protocuneiform/archsigns/3(N01).jpg\" title=\"to higher resolution lineart on CDLI\"><img src=\"cdli-imagery/lineart-3(n01).jpg\" style=\"display: inline;max-width: 2em; max-height: 6em;\"  /></a><span class=\"plain \" >APIN~a</span>  <a target=\"_blank\" href=\"https://cdli.ucla.edu/tools/SignLists/protocuneiform/archsigns/APIN~a.jpg\" title=\"to higher resolution lineart on CDLI\"><img src=\"cdli-imagery/lineart-apin-a.jpg\" style=\"display: inline;max-width: 2em; max-height: 6em;\"  /></a><span class=\"plain \" >3(N57)</span>  <a target=\"_blank\" href=\"https://cdli.ucla.edu/tools/SignLists/protocuneiform/archsigns/3(N57).jpg\" title=\"to higher resolution lineart on CDLI\"><img src=\"cdli-imagery/lineart-3(n57).jpg\" style=\"display: inline;max-width: 2em; max-height: 6em;\"  /></a><span class=\"plain \" >UR4~a</span>  <a target=\"_blank\" href=\"https://cdli.ucla.edu/tools/SignLists/protocuneiform/archsigns/UR4~a.jpg\" title=\"to higher resolution lineart on CDLI\"><img src=\"cdli-imagery/lineart-ur4-a.jpg\" style=\"display: inline;max-width: 2em; max-height: 6em;\"  /></a><span class=\"plain   hlbx\" ><span class=\"txtu \"><span title=\"number\">1b</span><span title=\"prime\"></span></span><span class=\"txtu \"><span title=\"number\">1b1</span><span title=\"prime\"></span></span><span class=\"plain \" >(<span class=\"plain \" >EN~a</span> <span class=\"plain \" >DU</span> <span class=\"plain \" >ZATU759</span>)a</span> <span class=\"txtu \"><span title=\"number\">1b2</span><span title=\"prime\"></span></span><span class=\"plain \" >(<span class=\"plain \" >BAN~b</span> <span class=\"plain \" >KASZ~c</span>)a</span> <span class=\"plain   hlbx\" ><span class=\"txtu \"><span title=\"number\">1b3</span><span title=\"prime\"></span></span><span class=\"plain \" >(<span class=\"plain \" >KI@n</span> <span class=\"plain hl\" >SAG</span>)a</span> </span></span></span></span></td><td class=\"tf ltr\"><span class=\" ubd\"><span class=\"plain   hlbx\" ><span class=\"txtu \"><span title=\"number\">1b</span><span title=\"prime\"></span></span><span class=\"txtu \"><span title=\"number\">1b1</span><span title=\"prime\"></span></span><span class=\"plain \" >(<span class=\"plain \" >EN~a</span> <span class=\"plain \" >DU</span> <span class=\"plain \" >ZATU759</span>)a</span> <span class=\"txtu \"><span title=\"number\">1b2</span><span title=\"prime\"></span></span><span class=\"plain \" >(<span class=\"plain \" >BAN~b</span> <span class=\"plain \" >KASZ~c</span>)a</span> <span class=\"plain   hlbx\" ><span class=\"txtu \"><span title=\"number\">1b3</span><span title=\"prime\"></span></span><span class=\"plain \" >(<span class=\"plain \" >KI@n</span> <span class=\"plain hl\" >SAG</span>)a</span> </span></span></span></td><td class=\"tf ltr\"><span class=\" ubd\"><span class=\"plain   hlbx\" ><span class=\"txtu \"><span title=\"number\">1b3</span><span title=\"prime\"></span></span><span class=\"plain \" >(<span class=\"plain \" >KI@n</span> <span class=\"plain hl\" >SAG</span>)a</span> </span></span></td><td class=\"tf ltr\"><span class=\" ubd\"><span class=\"plain   hl\" ><span class=\"plain hl\" >SAG</span>  <a target=\"_blank\" href=\"https://cdli.ucla.edu/tools/SignLists/protocuneiform/archsigns/SAG.jpg\" title=\"to higher resolution lineart on CDLI\"><img src=\"cdli-imagery/lineart-sag.jpg\" style=\"display: inline;max-width: 2em; max-height: 6em;\"  /></a></span></span></td></tr>\n",
       "<tr class=\"tf ltr\"><td class=\"tf ltr\">8</td><td class=\"tf ltr\"><span class=\"tfsechead ltr\"><span class=\"ltr\"><a target=\"_blank\" href=\"https://cdli.ucla.edu/search/search_results.php?SearchMode=Text&amp;ObjectID=P471695\" title=\"to CDLI main page for this tablet\" sec=\"P471695 obverse:1:2\">P471695 obverse:1:2</a></span></span></td><td class=\"tf ltr\"><span class=\" ubd\"><span class=\"plain   hlbx\" ><span class=\"txtu \"><span title=\"number\">2a</span><span title=\"prime\"></span></span><span class=\"plain \" >1(N14)</span>  <a target=\"_blank\" href=\"https://cdli.ucla.edu/tools/SignLists/protocuneiform/archsigns/1(N14).jpg\" title=\"to higher resolution lineart on CDLI\"><img src=\"cdli-imagery/lineart-1(n14).jpg\" style=\"display: inline;max-width: 2em; max-height: 6em;\"  /></a><span class=\"plain \" >2(N01)</span>  <a target=\"_blank\" href=\"https://cdli.ucla.edu/tools/SignLists/protocuneiform/archsigns/2(N01).jpg\" title=\"to higher resolution lineart on CDLI\"><img src=\"cdli-imagery/lineart-2(n01).jpg\" style=\"display: inline;max-width: 2em; max-height: 6em;\"  /></a><span class=\"plain \" >[<span class=\"plain \" >...</span>]</span> <span class=\"plain   hlbx\" ><span class=\"txtu \"><span title=\"number\">2b</span><span title=\"prime\"></span></span><span class=\"plain   hlbx\" ><span class=\"txtu \"><span title=\"number\">2b1</span><span title=\"prime\"></span></span><span class=\"plain \" >(<span class=\"plain hl\" >3(N57)</span> <span class=\"plain \" >PAP~a</span>)a</span> </span><span class=\"txtu \"><span title=\"number\">2b2</span><span title=\"prime\"></span></span><span class=\"plain \" ></span> <span class=\"plain \" >(<span class=\"plain \" >SZU</span> <span class=\"plain \" >KI</span> <span class=\"plain \" >X</span>)a</span> <span class=\"txtu \"><span title=\"number\">2b3</span><span title=\"prime\">'</span></span><span class=\"plain \" >(<span class=\"plain \" >EN~a</span> <span class=\"plain \" >AN</span> <span class=\"plain \" >EZINU~d</span>)a</span> <span class=\"txtu \"><span title=\"number\">2b4</span><span title=\"prime\">'</span></span><span class=\"plain \" ></span> <span class=\"plain \" ></span> <span class=\"plain \" >(<span class=\"plain \" >IDIGNA</span> <span class=\"plain \" >[<span class=\"plain \" >...</span>]</span>)a</span> </span></span></span></td><td class=\"tf ltr\"><span class=\" ubd\"><span class=\"plain   hlbx\" ><span class=\"txtu \"><span title=\"number\">2b</span><span title=\"prime\"></span></span><span class=\"plain   hlbx\" ><span class=\"txtu \"><span title=\"number\">2b1</span><span title=\"prime\"></span></span><span class=\"plain \" >(<span class=\"plain hl\" >3(N57)</span> <span class=\"plain \" >PAP~a</span>)a</span> </span><span class=\"txtu \"><span title=\"number\">2b2</span><span title=\"prime\"></span></span><span class=\"plain \" ></span> <span class=\"plain \" >(<span class=\"plain \" >SZU</span> <span class=\"plain \" >KI</span> <span class=\"plain \" >X</span>)a</span> <span class=\"txtu \"><span title=\"number\">2b3</span><span title=\"prime\">'</span></span><span class=\"plain \" >(<span class=\"plain \" >EN~a</span> <span class=\"plain \" >AN</span> <span class=\"plain \" >EZINU~d</span>)a</span> <span class=\"txtu \"><span title=\"number\">2b4</span><span title=\"prime\">'</span></span><span class=\"plain \" ></span> <span class=\"plain \" ></span> <span class=\"plain \" >(<span class=\"plain \" >IDIGNA</span> <span class=\"plain \" >[<span class=\"plain \" >...</span>]</span>)a</span> </span></span></td><td class=\"tf ltr\"><span class=\" ubd\"><span class=\"plain   hlbx\" ><span class=\"txtu \"><span title=\"number\">2b1</span><span title=\"prime\"></span></span><span class=\"plain \" >(<span class=\"plain hl\" >3(N57)</span> <span class=\"plain \" >PAP~a</span>)a</span> </span></span></td><td class=\"tf ltr\"><span class=\" ubd\"><span class=\"plain   hl\" ><span class=\"plain hl\" >3(N57)</span>  <a target=\"_blank\" href=\"https://cdli.ucla.edu/tools/SignLists/protocuneiform/archsigns/3(N57).jpg\" title=\"to higher resolution lineart on CDLI\"><img src=\"cdli-imagery/lineart-3(n57).jpg\" style=\"display: inline;max-width: 2em; max-height: 6em;\"  /></a></span></span></td></tr>\n",
       "<tr class=\"tf ltr\"><td class=\"tf ltr\">9</td><td class=\"tf ltr\"><span class=\"tfsechead ltr\"><span class=\"ltr\"><a target=\"_blank\" href=\"https://cdli.ucla.edu/search/search_results.php?SearchMode=Text&amp;ObjectID=P471695\" title=\"to CDLI main page for this tablet\" sec=\"P471695 obverse:1:2\">P471695 obverse:1:2</a></span></span></td><td class=\"tf ltr\"><span class=\" ubd\"><span class=\"plain   hlbx\" ><span class=\"txtu \"><span title=\"number\">2a</span><span title=\"prime\"></span></span><span class=\"plain \" >1(N14)</span>  <a target=\"_blank\" href=\"https://cdli.ucla.edu/tools/SignLists/protocuneiform/archsigns/1(N14).jpg\" title=\"to higher resolution lineart on CDLI\"><img src=\"cdli-imagery/lineart-1(n14).jpg\" style=\"display: inline;max-width: 2em; max-height: 6em;\"  /></a><span class=\"plain \" >2(N01)</span>  <a target=\"_blank\" href=\"https://cdli.ucla.edu/tools/SignLists/protocuneiform/archsigns/2(N01).jpg\" title=\"to higher resolution lineart on CDLI\"><img src=\"cdli-imagery/lineart-2(n01).jpg\" style=\"display: inline;max-width: 2em; max-height: 6em;\"  /></a><span class=\"plain \" >[<span class=\"plain \" >...</span>]</span> <span class=\"plain   hlbx\" ><span class=\"txtu \"><span title=\"number\">2b</span><span title=\"prime\"></span></span><span class=\"plain   hlbx\" ><span class=\"txtu \"><span title=\"number\">2b1</span><span title=\"prime\"></span></span><span class=\"plain \" >(<span class=\"plain \" >3(N57)</span> <span class=\"plain hl\" >PAP~a</span>)a</span> </span><span class=\"txtu \"><span title=\"number\">2b2</span><span title=\"prime\"></span></span><span class=\"plain \" ></span> <span class=\"plain \" >(<span class=\"plain \" >SZU</span> <span class=\"plain \" >KI</span> <span class=\"plain \" >X</span>)a</span> <span class=\"txtu \"><span title=\"number\">2b3</span><span title=\"prime\">'</span></span><span class=\"plain \" >(<span class=\"plain \" >EN~a</span> <span class=\"plain \" >AN</span> <span class=\"plain \" >EZINU~d</span>)a</span> <span class=\"txtu \"><span title=\"number\">2b4</span><span title=\"prime\">'</span></span><span class=\"plain \" ></span> <span class=\"plain \" ></span> <span class=\"plain \" >(<span class=\"plain \" >IDIGNA</span> <span class=\"plain \" >[<span class=\"plain \" >...</span>]</span>)a</span> </span></span></span></td><td class=\"tf ltr\"><span class=\" ubd\"><span class=\"plain   hlbx\" ><span class=\"txtu \"><span title=\"number\">2b</span><span title=\"prime\"></span></span><span class=\"plain   hlbx\" ><span class=\"txtu \"><span title=\"number\">2b1</span><span title=\"prime\"></span></span><span class=\"plain \" >(<span class=\"plain \" >3(N57)</span> <span class=\"plain hl\" >PAP~a</span>)a</span> </span><span class=\"txtu \"><span title=\"number\">2b2</span><span title=\"prime\"></span></span><span class=\"plain \" ></span> <span class=\"plain \" >(<span class=\"plain \" >SZU</span> <span class=\"plain \" >KI</span> <span class=\"plain \" >X</span>)a</span> <span class=\"txtu \"><span title=\"number\">2b3</span><span title=\"prime\">'</span></span><span class=\"plain \" >(<span class=\"plain \" >EN~a</span> <span class=\"plain \" >AN</span> <span class=\"plain \" >EZINU~d</span>)a</span> <span class=\"txtu \"><span title=\"number\">2b4</span><span title=\"prime\">'</span></span><span class=\"plain \" ></span> <span class=\"plain \" ></span> <span class=\"plain \" >(<span class=\"plain \" >IDIGNA</span> <span class=\"plain \" >[<span class=\"plain \" >...</span>]</span>)a</span> </span></span></td><td class=\"tf ltr\"><span class=\" ubd\"><span class=\"plain   hlbx\" ><span class=\"txtu \"><span title=\"number\">2b1</span><span title=\"prime\"></span></span><span class=\"plain \" >(<span class=\"plain \" >3(N57)</span> <span class=\"plain hl\" >PAP~a</span>)a</span> </span></span></td><td class=\"tf ltr\"><span class=\" ubd\"><span class=\"plain   hl\" ><span class=\"plain hl\" >PAP~a</span>  <a target=\"_blank\" href=\"https://cdli.ucla.edu/tools/SignLists/protocuneiform/archsigns/PAP~a.jpg\" title=\"to higher resolution lineart on CDLI\"><img src=\"cdli-imagery/lineart-pap-a.jpg\" style=\"display: inline;max-width: 2em; max-height: 6em;\"  /></a></span></span></td></tr>\n",
       "<tr class=\"tf ltr\"><td class=\"tf ltr\">10</td><td class=\"tf ltr\"><span class=\"tfsechead ltr\"><span class=\"ltr\"><a target=\"_blank\" href=\"https://cdli.ucla.edu/search/search_results.php?SearchMode=Text&amp;ObjectID=P471695\" title=\"to CDLI main page for this tablet\" sec=\"P471695 obverse:1:2\">P471695 obverse:1:2</a></span></span></td><td class=\"tf ltr\"><span class=\" ubd\"><span class=\"plain   hlbx\" ><span class=\"txtu \"><span title=\"number\">2a</span><span title=\"prime\"></span></span><span class=\"plain \" >1(N14)</span>  <a target=\"_blank\" href=\"https://cdli.ucla.edu/tools/SignLists/protocuneiform/archsigns/1(N14).jpg\" title=\"to higher resolution lineart on CDLI\"><img src=\"cdli-imagery/lineart-1(n14).jpg\" style=\"display: inline;max-width: 2em; max-height: 6em;\"  /></a><span class=\"plain \" >2(N01)</span>  <a target=\"_blank\" href=\"https://cdli.ucla.edu/tools/SignLists/protocuneiform/archsigns/2(N01).jpg\" title=\"to higher resolution lineart on CDLI\"><img src=\"cdli-imagery/lineart-2(n01).jpg\" style=\"display: inline;max-width: 2em; max-height: 6em;\"  /></a><span class=\"plain \" >[<span class=\"plain \" >...</span>]</span> <span class=\"plain   hlbx\" ><span class=\"txtu \"><span title=\"number\">2b</span><span title=\"prime\"></span></span><span class=\"txtu \"><span title=\"number\">2b1</span><span title=\"prime\"></span></span><span class=\"plain \" >(<span class=\"plain \" >3(N57)</span> <span class=\"plain \" >PAP~a</span>)a</span> <span class=\"plain   hlbx\" ><span class=\"txtu \"><span title=\"number\">2b2</span><span title=\"prime\"></span></span><span class=\"plain   hl\" ><span class=\"plain hl\" ></span> </span><span class=\"plain \" >(<span class=\"plain \" >SZU</span> <span class=\"plain \" >KI</span> <span class=\"plain \" >X</span>)a</span> </span><span class=\"txtu \"><span title=\"number\">2b3</span><span title=\"prime\">'</span></span><span class=\"plain \" >(<span class=\"plain \" >EN~a</span> <span class=\"plain \" >AN</span> <span class=\"plain \" >EZINU~d</span>)a</span> <span class=\"txtu \"><span title=\"number\">2b4</span><span title=\"prime\">'</span></span><span class=\"plain \" ></span> <span class=\"plain \" ></span> <span class=\"plain \" >(<span class=\"plain \" >IDIGNA</span> <span class=\"plain \" >[<span class=\"plain \" >...</span>]</span>)a</span> </span></span></span></td><td class=\"tf ltr\"><span class=\" ubd\"><span class=\"plain   hlbx\" ><span class=\"txtu \"><span title=\"number\">2b</span><span title=\"prime\"></span></span><span class=\"txtu \"><span title=\"number\">2b1</span><span title=\"prime\"></span></span><span class=\"plain \" >(<span class=\"plain \" >3(N57)</span> <span class=\"plain \" >PAP~a</span>)a</span> <span class=\"plain   hlbx\" ><span class=\"txtu \"><span title=\"number\">2b2</span><span title=\"prime\"></span></span><span class=\"plain   hl\" ><span class=\"plain hl\" ></span> </span><span class=\"plain \" >(<span class=\"plain \" >SZU</span> <span class=\"plain \" >KI</span> <span class=\"plain \" >X</span>)a</span> </span><span class=\"txtu \"><span title=\"number\">2b3</span><span title=\"prime\">'</span></span><span class=\"plain \" >(<span class=\"plain \" >EN~a</span> <span class=\"plain \" >AN</span> <span class=\"plain \" >EZINU~d</span>)a</span> <span class=\"txtu \"><span title=\"number\">2b4</span><span title=\"prime\">'</span></span><span class=\"plain \" ></span> <span class=\"plain \" ></span> <span class=\"plain \" >(<span class=\"plain \" >IDIGNA</span> <span class=\"plain \" >[<span class=\"plain \" >...</span>]</span>)a</span> </span></span></td><td class=\"tf ltr\"><span class=\" ubd\"><span class=\"plain   hlbx\" ><span class=\"txtu \"><span title=\"number\">2b2</span><span title=\"prime\"></span></span><span class=\"plain   hl\" ><span class=\"plain hl\" ></span> </span><span class=\"plain \" >(<span class=\"plain \" >SZU</span> <span class=\"plain \" >KI</span> <span class=\"plain \" >X</span>)a</span> </span></span></td><td class=\"tf ltr\"><span class=\" ubd\"><span class=\"plain   hl\" ><span class=\"plain hl\" ></span> </span></span></td></tr></table>"
      ],
      "text/plain": [
       "<IPython.core.display.HTML object>"
      ]
     },
     "metadata": {},
     "output_type": "display_data"
    }
   ],
   "source": [
    "A.table(results, end=10)"
   ]
  },
  {
   "cell_type": "markdown",
   "metadata": {},
   "source": [
    "For our purposes we are only interested in the `resultSign` part, so we select it by the\n",
    "`r[3]` when we walk through all results `r`."
   ]
  },
  {
   "cell_type": "markdown",
   "metadata": {},
   "source": [
    "### Check\n",
    "\n",
    "Both methods yield the same number of results, but are they exactly the same results?"
   ]
  },
  {
   "cell_type": "code",
   "execution_count": 24,
   "metadata": {
    "ExecuteTime": {
     "end_time": "2018-05-09T17:50:54.751424Z",
     "start_time": "2018-05-09T17:50:54.742379Z"
    }
   },
   "outputs": [
    {
     "data": {
      "text/plain": [
       "True"
      ]
     },
     "execution_count": 24,
     "metadata": {},
     "output_type": "execute_result"
    }
   ],
   "source": [
    "signsA == signsB"
   ]
  },
  {
   "cell_type": "markdown",
   "metadata": {},
   "source": [
    "Yes!"
   ]
  },
  {
   "cell_type": "markdown",
   "metadata": {},
   "source": [
    "### Twist\n",
    "\n",
    "Now we want to restrict ourselves to non-numerical signs.\n",
    "If you look at the feature docs (see the link at the start of the notebook),\n",
    "and read about the `type` feature for signs, you see that it can have the values\n",
    "`empty` `unknown` `numeral` `ideograph`."
   ]
  },
  {
   "cell_type": "code",
   "execution_count": 25,
   "metadata": {
    "ExecuteTime": {
     "end_time": "2018-05-09T17:50:57.313253Z",
     "start_time": "2018-05-09T17:50:57.161093Z"
    }
   },
   "outputs": [
    {
     "data": {
      "text/plain": [
       "(('ideograph', 53249),\n",
       " ('numeral', 38122),\n",
       " ('uncertain', 32116),\n",
       " ('ellipsis', 29413),\n",
       " ('empty', 12440),\n",
       " ('unknown', 6870),\n",
       " ('meta', 6630),\n",
       " ('obverse', 5959),\n",
       " ('ruling', 4057),\n",
       " ('reverse', 3044),\n",
       " ('properName', 636),\n",
       " ('surface', 408),\n",
       " ('object', 403),\n",
       " ('seal', 21),\n",
       " ('bottom', 17),\n",
       " ('top', 3),\n",
       " ('left', 2),\n",
       " ('noface', 2),\n",
       " ('supplied', 1))"
      ]
     },
     "execution_count": 25,
     "metadata": {},
     "output_type": "execute_result"
    }
   ],
   "source": [
    "F.type.freqList()"
   ]
  },
  {
   "cell_type": "markdown",
   "metadata": {},
   "source": [
    "Ah, the feature `type` is also used for other things than signs.\n",
    "We just want a frequency list of `type` values for signs:"
   ]
  },
  {
   "cell_type": "code",
   "execution_count": 26,
   "metadata": {
    "ExecuteTime": {
     "end_time": "2018-05-09T17:50:59.706021Z",
     "start_time": "2018-05-09T17:50:59.485736Z"
    }
   },
   "outputs": [
    {
     "data": {
      "text/plain": [
       "(('ideograph', 53249),\n",
       " ('numeral', 38122),\n",
       " ('ellipsis', 29413),\n",
       " ('empty', 12440),\n",
       " ('unknown', 6870))"
      ]
     },
     "execution_count": 26,
     "metadata": {},
     "output_type": "execute_result"
    }
   ],
   "source": [
    "F.type.freqList({\"sign\"})"
   ]
  },
  {
   "cell_type": "markdown",
   "metadata": {},
   "source": [
    "We just want the ideographs.\n",
    "\n",
    "We'll adapt both methods to get them and ignore the numerals and lesser defined graphemes.\n",
    "\n",
    "Of course, we can just filter the result list that we have already got,\n",
    "but this is a tutorial, and it may come in handy to have a well stocked repertoire\n",
    "of direct ways to drill to your data."
   ]
  },
  {
   "cell_type": "markdown",
   "metadata": {},
   "source": [
    "#### `casesByLevel`"
   ]
  },
  {
   "cell_type": "code",
   "execution_count": 27,
   "metadata": {
    "ExecuteTime": {
     "end_time": "2018-05-09T17:51:02.890023Z",
     "start_time": "2018-05-09T17:51:02.843207Z"
    }
   },
   "outputs": [
    {
     "data": {
      "text/plain": [
       "3813"
      ]
     },
     "execution_count": 27,
     "metadata": {},
     "output_type": "execute_result"
    }
   ],
   "source": [
    "cases = A.casesByLevel(2, terminal=False)\n",
    "signSet = set()\n",
    "for case in cases:\n",
    "    signSet |= set(s for s in L.d(case, otype=\"sign\") if F.type.v(s) == \"ideograph\")\n",
    "signsA = N.sortNodes(signSet)\n",
    "len(signsA)"
   ]
  },
  {
   "cell_type": "markdown",
   "metadata": {},
   "source": [
    "### `search`\n",
    "\n",
    "Note that it is very easy to add the desired condition to the template.\n",
    "\n",
    "This method is much easier to adapt than the first method!"
   ]
  },
  {
   "cell_type": "code",
   "execution_count": 28,
   "metadata": {
    "ExecuteTime": {
     "end_time": "2018-05-09T17:51:07.242458Z",
     "start_time": "2018-05-09T17:51:06.900769Z"
    }
   },
   "outputs": [
    {
     "name": "stdout",
     "output_type": "stream",
     "text": [
      "  0.07s 3813 results\n"
     ]
    }
   ],
   "source": [
    "query = \"\"\"\n",
    "case depth=2\n",
    "  sign type=ideograph\n",
    "\"\"\"\n",
    "results = A.search(query)\n",
    "signsB = N.sortNodes(r[1] for r in results)"
   ]
  },
  {
   "cell_type": "code",
   "execution_count": 29,
   "metadata": {
    "ExecuteTime": {
     "end_time": "2018-05-09T17:51:08.743091Z",
     "start_time": "2018-05-09T17:51:08.736191Z"
    }
   },
   "outputs": [
    {
     "data": {
      "text/plain": [
       "True"
      ]
     },
     "execution_count": 29,
     "metadata": {},
     "output_type": "execute_result"
    }
   ],
   "source": [
    "signsA == signsB"
   ]
  },
  {
   "cell_type": "markdown",
   "metadata": {},
   "source": [
    "## Supercase versus subcase\n",
    "\n",
    "We finish of with a comparison of the frequencies of signs that occur on lines and level-1 cases, and the frequencies of signs that occur on level-2 and deeper cases.\n",
    "\n",
    "From both groups we pick the top-20.\n",
    "We make a nice markdown table showing the frequencies those top-20 signs in both groups.\n",
    "\n",
    "We do this for non-numeric ideographs only.\n",
    "\n",
    "Note that we have already collected the group of the subcases and deeper: `signsB`.\n",
    "\n",
    "We give this sequence an other name: `subSigns`."
   ]
  },
  {
   "cell_type": "code",
   "execution_count": 30,
   "metadata": {
    "ExecuteTime": {
     "end_time": "2018-05-09T17:51:11.031878Z",
     "start_time": "2018-05-09T17:51:11.023641Z"
    }
   },
   "outputs": [
    {
     "data": {
      "text/plain": [
       "3813"
      ]
     },
     "execution_count": 30,
     "metadata": {},
     "output_type": "execute_result"
    }
   ],
   "source": [
    "subSigns = signsB\n",
    "len(subSigns)"
   ]
  },
  {
   "cell_type": "markdown",
   "metadata": {},
   "source": [
    "We need to collect the group of signs in lines and immediate cases.\n",
    "So we have to exclude cases that are subdivided in subcases.\n",
    "\n",
    "For that, we use the feature `terminal`, which exists and is equal to `1` for undivided\n",
    "cases and lines, and which does not exist for divided cases and lines.\n",
    "\n",
    "We get this group by two queries."
   ]
  },
  {
   "cell_type": "code",
   "execution_count": 31,
   "metadata": {
    "ExecuteTime": {
     "end_time": "2018-05-09T17:51:14.123200Z",
     "start_time": "2018-05-09T17:51:13.489034Z"
    }
   },
   "outputs": [
    {
     "name": "stdout",
     "output_type": "stream",
     "text": [
      "  0.13s 41788 results\n"
     ]
    }
   ],
   "source": [
    "query0 = \"\"\"\n",
    "line terminal=1\n",
    "   sign type=ideograph\n",
    "\"\"\"\n",
    "signs0 = [r[1] for r in A.search(query0)]"
   ]
  },
  {
   "cell_type": "code",
   "execution_count": 32,
   "metadata": {
    "ExecuteTime": {
     "end_time": "2018-05-09T17:51:25.872050Z",
     "start_time": "2018-05-09T17:51:25.452155Z"
    }
   },
   "outputs": [
    {
     "name": "stdout",
     "output_type": "stream",
     "text": [
      "  0.09s 7648 results\n"
     ]
    }
   ],
   "source": [
    "query1 = \"\"\"\n",
    "line\n",
    "  -sub> case terminal=1\n",
    "      sign type=ideograph\n",
    "\"\"\"\n",
    "signs1 = [r[2] for r in A.search(query1)]"
   ]
  },
  {
   "cell_type": "markdown",
   "metadata": {},
   "source": [
    "Let us collect both results into `superSigns`.\n",
    "Note that `signs0` and `signs1` have no occurrences in common:\n",
    "a sign in `signs1` is part of a case, so the line that contains that case is divided,\n",
    "so it has no value for the`terminal` feature, so ot is not in the results of `query0`."
   ]
  },
  {
   "cell_type": "code",
   "execution_count": 33,
   "metadata": {
    "ExecuteTime": {
     "end_time": "2018-05-09T17:51:30.106012Z",
     "start_time": "2018-05-09T17:51:30.100850Z"
    }
   },
   "outputs": [],
   "source": [
    "superSigns = signs0 + signs1"
   ]
  },
  {
   "cell_type": "markdown",
   "metadata": {},
   "source": [
    "Also note that `superSigns` and `subSigns` have nothing in common, for the same kind of reasoning as why `signs0` and `signs1` have no occurrences in common.\n",
    "\n",
    "That said, reasoning is one thing, and using data to verify assertions is another thing.\n",
    "Let us just check!"
   ]
  },
  {
   "cell_type": "code",
   "execution_count": 34,
   "metadata": {
    "ExecuteTime": {
     "end_time": "2018-05-09T17:51:34.127191Z",
     "start_time": "2018-05-09T17:51:34.111018Z"
    }
   },
   "outputs": [
    {
     "data": {
      "text/plain": [
       "set()"
      ]
     },
     "execution_count": 34,
     "metadata": {},
     "output_type": "execute_result"
    }
   ],
   "source": [
    "set(signs0) & set(signs1)"
   ]
  },
  {
   "cell_type": "code",
   "execution_count": 35,
   "metadata": {
    "ExecuteTime": {
     "end_time": "2018-05-09T17:51:35.225601Z",
     "start_time": "2018-05-09T17:51:35.212911Z"
    }
   },
   "outputs": [
    {
     "data": {
      "text/plain": [
       "set()"
      ]
     },
     "execution_count": 35,
     "metadata": {},
     "output_type": "execute_result"
    }
   ],
   "source": [
    "set(subSigns) & set(superSigns)"
   ]
  },
  {
   "cell_type": "markdown",
   "metadata": {},
   "source": [
    "Check!"
   ]
  },
  {
   "cell_type": "markdown",
   "metadata": {},
   "source": [
    "Last, but not least, we want to compare the frequencies of the super and sub groups with the\n",
    "overall frequencies."
   ]
  },
  {
   "cell_type": "code",
   "execution_count": 36,
   "metadata": {
    "ExecuteTime": {
     "end_time": "2018-05-09T17:51:41.822173Z",
     "start_time": "2018-05-09T17:51:41.301271Z"
    },
    "lines_to_next_cell": 2
   },
   "outputs": [
    {
     "name": "stdout",
     "output_type": "stream",
     "text": [
      "  0.12s 53249 results\n"
     ]
    }
   ],
   "source": [
    "queryA = \"\"\"\n",
    "line\n",
    "   sign type=ideograph\n",
    "\"\"\"\n",
    "allSigns = [r[1] for r in A.search(queryA)]"
   ]
  },
  {
   "cell_type": "markdown",
   "metadata": {
    "lines_to_next_cell": 2
   },
   "source": [
    "### Frequency and rank\n",
    "\n",
    "We are going to make a frequency distribution for both groups.\n",
    "We do not want to repeat ourselves\n",
    "[DRY](https://en.wikipedia.org/wiki/Don%27t_repeat_yourself),\n",
    "so we write a function that given a list of items,\n",
    "produces a frequency list.\n",
    "\n",
    "While we're at it, we also produce a ranking list: the most frequent item has rank 1,\n",
    "the second frequent item has rank 2, and so on.\n",
    "\n",
    "When we compute the frequencies, we count the number of times a sign, identified by its\n",
    "ATF transcription (without flags), occurs."
   ]
  },
  {
   "cell_type": "code",
   "execution_count": 37,
   "metadata": {
    "ExecuteTime": {
     "end_time": "2018-05-09T17:51:51.655351Z",
     "start_time": "2018-05-09T17:51:51.645870Z"
    }
   },
   "outputs": [],
   "source": [
    "def getFreqs(items):\n",
    "    freqs = collections.Counter()\n",
    "    for item in items:\n",
    "        freqs[A.atfFromSign(item)] += 1\n",
    "    ranks = {}\n",
    "    for item in sorted(freqs, key=lambda i: -freqs[i]):\n",
    "        ranks[item] = len(ranks) + 1\n",
    "    return (freqs, ranks)"
   ]
  },
  {
   "cell_type": "code",
   "execution_count": 38,
   "metadata": {
    "ExecuteTime": {
     "end_time": "2018-05-09T17:51:53.020313Z",
     "start_time": "2018-05-09T17:51:52.435073Z"
    },
    "lines_to_next_cell": 2
   },
   "outputs": [],
   "source": [
    "(allFreqs, allRanks) = getFreqs(allSigns)\n",
    "(superFreqs, superRanks) = getFreqs(superSigns)\n",
    "(subFreqs, subRanks) = getFreqs(subSigns)"
   ]
  },
  {
   "cell_type": "markdown",
   "metadata": {
    "lines_to_next_cell": 2
   },
   "source": [
    "Now we want the top scorers in the super and sub teams.\n",
    "We make it customisable whether you want the top-20 or top-100, or whatever."
   ]
  },
  {
   "cell_type": "code",
   "execution_count": 39,
   "metadata": {
    "ExecuteTime": {
     "end_time": "2018-05-09T17:51:54.201650Z",
     "start_time": "2018-05-09T17:51:54.195913Z"
    }
   },
   "outputs": [],
   "source": [
    "def getTop(ranks, amount):\n",
    "    return sorted(ranks, key=lambda i: ranks[i])[0:amount]"
   ]
  },
  {
   "cell_type": "code",
   "execution_count": 40,
   "metadata": {
    "ExecuteTime": {
     "end_time": "2018-05-09T17:51:55.220801Z",
     "start_time": "2018-05-09T17:51:55.214275Z"
    }
   },
   "outputs": [],
   "source": [
    "AMOUNT = 20\n",
    "superTop = getTop(superRanks, AMOUNT)\n",
    "subTop = getTop(subRanks, AMOUNT)"
   ]
  },
  {
   "cell_type": "markdown",
   "metadata": {},
   "source": [
    "We combine the two tops without duplication ..."
   ]
  },
  {
   "cell_type": "code",
   "execution_count": 41,
   "metadata": {
    "ExecuteTime": {
     "end_time": "2018-05-09T17:51:57.541506Z",
     "start_time": "2018-05-09T17:51:57.535190Z"
    }
   },
   "outputs": [],
   "source": [
    "combiTopSet = set(superTop) | set(subTop)"
   ]
  },
  {
   "cell_type": "markdown",
   "metadata": {},
   "source": [
    "... and sort them by overall rank:"
   ]
  },
  {
   "cell_type": "code",
   "execution_count": 42,
   "metadata": {
    "ExecuteTime": {
     "end_time": "2018-05-09T17:51:58.623765Z",
     "start_time": "2018-05-09T17:51:58.618624Z"
    },
    "lines_to_next_cell": 2
   },
   "outputs": [],
   "source": [
    "combiTop = sorted(combiTopSet, key=lambda i: allRanks[i])"
   ]
  },
  {
   "cell_type": "markdown",
   "metadata": {
    "lines_to_next_cell": 2
   },
   "source": [
    "Since we have now our top characters ready, let us just show them.\n",
    "We group them into horizontal lines."
   ]
  },
  {
   "cell_type": "code",
   "execution_count": 43,
   "metadata": {
    "ExecuteTime": {
     "end_time": "2018-05-09T17:52:00.641095Z",
     "start_time": "2018-05-09T17:52:00.634478Z"
    }
   },
   "outputs": [],
   "source": [
    "def chunk(items, chunkSize):\n",
    "    chunks = [[]]\n",
    "    j = 0\n",
    "    for item in items:\n",
    "        if j == chunkSize:\n",
    "            chunks.append([])\n",
    "            j = 0\n",
    "        chunks[-1].append(item)\n",
    "        j += 1\n",
    "    return chunks"
   ]
  },
  {
   "cell_type": "code",
   "execution_count": 44,
   "metadata": {
    "ExecuteTime": {
     "end_time": "2018-05-09T17:52:02.116647Z",
     "start_time": "2018-05-09T17:52:02.020123Z"
    }
   },
   "outputs": [
    {
     "data": {
      "text/markdown": [
       "\n",
       "\n",
       "---\n",
       "\n"
      ],
      "text/plain": [
       "<IPython.core.display.Markdown object>"
      ]
     },
     "metadata": {},
     "output_type": "display_data"
    },
    {
     "data": {
      "text/html": [
       "<div style=\"display: flex;flex-flow: row nowrap;justify-content: flex-start;align-items: center;align-content: flex-start;\"><div style=\"padding: 0.5rem;\"><div style=\"display: flex;flex-flow: column nowrap;justify-content: space-between;align-items: center;align-content: space-between;\"><div><a target=\"_blank\" href=\"https://cdli.ucla.edu/tools/SignLists/protocuneiform/archsigns/EN~a.jpg\" title=\"to higher resolution lineart on CDLI\"><img src=\"cdli-imagery/lineart-en-a.jpg\" style=\"display: inline;max-height: 80px; max-width: 60px;\"  /></a></div><div><a target=\"_blank\" href=\"https://cdli.ucla.edu/tools/SignLists/protocuneiform/archsigns.html\" title=\"to CDLI main page for this item\">EN~a</a></div></div></div><div style=\"padding: 0.5rem;\"><div style=\"display: flex;flex-flow: column nowrap;justify-content: space-between;align-items: center;align-content: space-between;\"><div><a target=\"_blank\" href=\"https://cdli.ucla.edu/tools/SignLists/protocuneiform/archsigns/SZE~a.jpg\" title=\"to higher resolution lineart on CDLI\"><img src=\"cdli-imagery/lineart-sze-a.jpg\" style=\"display: inline;max-height: 80px; max-width: 60px;\"  /></a></div><div><a target=\"_blank\" href=\"https://cdli.ucla.edu/tools/SignLists/protocuneiform/archsigns.html\" title=\"to CDLI main page for this item\">SZE~a</a></div></div></div><div style=\"padding: 0.5rem;\"><div style=\"display: flex;flex-flow: column nowrap;justify-content: space-between;align-items: center;align-content: space-between;\"><div><a target=\"_blank\" href=\"https://cdli.ucla.edu/tools/SignLists/protocuneiform/archsigns/GAL~a.jpg\" title=\"to higher resolution lineart on CDLI\"><img src=\"cdli-imagery/lineart-gal-a.jpg\" style=\"display: inline;max-height: 80px; max-width: 60px;\"  /></a></div><div><a target=\"_blank\" href=\"https://cdli.ucla.edu/tools/SignLists/protocuneiform/archsigns.html\" title=\"to CDLI main page for this item\">GAL~a</a></div></div></div><div style=\"padding: 0.5rem;\"><div style=\"display: flex;flex-flow: column nowrap;justify-content: space-between;align-items: center;align-content: space-between;\"><div><a target=\"_blank\" href=\"https://cdli.ucla.edu/tools/SignLists/protocuneiform/archsigns/U4.jpg\" title=\"to higher resolution lineart on CDLI\"><img src=\"cdli-imagery/lineart-u4.jpg\" style=\"display: inline;max-height: 80px; max-width: 60px;\"  /></a></div><div><a target=\"_blank\" href=\"https://cdli.ucla.edu/tools/SignLists/protocuneiform/archsigns.html\" title=\"to CDLI main page for this item\">U4</a></div></div></div></div>"
      ],
      "text/plain": [
       "<IPython.core.display.HTML object>"
      ]
     },
     "metadata": {},
     "output_type": "display_data"
    },
    {
     "data": {
      "text/markdown": [
       "\n",
       "\n",
       "---\n",
       "\n"
      ],
      "text/plain": [
       "<IPython.core.display.Markdown object>"
      ]
     },
     "metadata": {},
     "output_type": "display_data"
    },
    {
     "data": {
      "text/html": [
       "<div style=\"display: flex;flex-flow: row nowrap;justify-content: flex-start;align-items: center;align-content: flex-start;\"><div style=\"padding: 0.5rem;\"><div style=\"display: flex;flex-flow: column nowrap;justify-content: space-between;align-items: center;align-content: space-between;\"><div><a target=\"_blank\" href=\"https://cdli.ucla.edu/tools/SignLists/protocuneiform/archsigns/AN.jpg\" title=\"to higher resolution lineart on CDLI\"><img src=\"cdli-imagery/lineart-an.jpg\" style=\"display: inline;max-height: 80px; max-width: 60px;\"  /></a></div><div><a target=\"_blank\" href=\"https://cdli.ucla.edu/tools/SignLists/protocuneiform/archsigns.html\" title=\"to CDLI main page for this item\">AN</a></div></div></div><div style=\"padding: 0.5rem;\"><div style=\"display: flex;flex-flow: column nowrap;justify-content: space-between;align-items: center;align-content: space-between;\"><div><a target=\"_blank\" href=\"https://cdli.ucla.edu/tools/SignLists/protocuneiform/archsigns/SAL.jpg\" title=\"to higher resolution lineart on CDLI\"><img src=\"cdli-imagery/lineart-sal.jpg\" style=\"display: inline;max-height: 80px; max-width: 60px;\"  /></a></div><div><a target=\"_blank\" href=\"https://cdli.ucla.edu/tools/SignLists/protocuneiform/archsigns.html\" title=\"to CDLI main page for this item\">SAL</a></div></div></div><div style=\"padding: 0.5rem;\"><div style=\"display: flex;flex-flow: column nowrap;justify-content: space-between;align-items: center;align-content: space-between;\"><div><a target=\"_blank\" href=\"https://cdli.ucla.edu/tools/SignLists/protocuneiform/archsigns/PAP~a.jpg\" title=\"to higher resolution lineart on CDLI\"><img src=\"cdli-imagery/lineart-pap-a.jpg\" style=\"display: inline;max-height: 80px; max-width: 60px;\"  /></a></div><div><a target=\"_blank\" href=\"https://cdli.ucla.edu/tools/SignLists/protocuneiform/archsigns.html\" title=\"to CDLI main page for this item\">PAP~a</a></div></div></div><div style=\"padding: 0.5rem;\"><div style=\"display: flex;flex-flow: column nowrap;justify-content: space-between;align-items: center;align-content: space-between;\"><div><a target=\"_blank\" href=\"https://cdli.ucla.edu/tools/SignLists/protocuneiform/archsigns/GI.jpg\" title=\"to higher resolution lineart on CDLI\"><img src=\"cdli-imagery/lineart-gi.jpg\" style=\"display: inline;max-height: 80px; max-width: 60px;\"  /></a></div><div><a target=\"_blank\" href=\"https://cdli.ucla.edu/tools/SignLists/protocuneiform/archsigns.html\" title=\"to CDLI main page for this item\">GI</a></div></div></div></div>"
      ],
      "text/plain": [
       "<IPython.core.display.HTML object>"
      ]
     },
     "metadata": {},
     "output_type": "display_data"
    },
    {
     "data": {
      "text/markdown": [
       "\n",
       "\n",
       "---\n",
       "\n"
      ],
      "text/plain": [
       "<IPython.core.display.Markdown object>"
      ]
     },
     "metadata": {},
     "output_type": "display_data"
    },
    {
     "data": {
      "text/html": [
       "<div style=\"display: flex;flex-flow: row nowrap;justify-content: flex-start;align-items: center;align-content: flex-start;\"><div style=\"padding: 0.5rem;\"><div style=\"display: flex;flex-flow: column nowrap;justify-content: space-between;align-items: center;align-content: space-between;\"><div><a target=\"_blank\" href=\"https://cdli.ucla.edu/tools/SignLists/protocuneiform/archsigns/BA.jpg\" title=\"to higher resolution lineart on CDLI\"><img src=\"cdli-imagery/lineart-ba.jpg\" style=\"display: inline;max-height: 80px; max-width: 60px;\"  /></a></div><div><a target=\"_blank\" href=\"https://cdli.ucla.edu/tools/SignLists/protocuneiform/archsigns.html\" title=\"to CDLI main page for this item\">BA</a></div></div></div><div style=\"padding: 0.5rem;\"><div style=\"display: flex;flex-flow: column nowrap;justify-content: space-between;align-items: center;align-content: space-between;\"><div><a target=\"_blank\" href=\"https://cdli.ucla.edu/tools/SignLists/protocuneiform/archsigns/NUN~a.jpg\" title=\"to higher resolution lineart on CDLI\"><img src=\"cdli-imagery/lineart-nun-a.jpg\" style=\"display: inline;max-height: 80px; max-width: 60px;\"  /></a></div><div><a target=\"_blank\" href=\"https://cdli.ucla.edu/tools/SignLists/protocuneiform/archsigns.html\" title=\"to CDLI main page for this item\">NUN~a</a></div></div></div><div style=\"padding: 0.5rem;\"><div style=\"display: flex;flex-flow: column nowrap;justify-content: space-between;align-items: center;align-content: space-between;\"><div><a target=\"_blank\" href=\"https://cdli.ucla.edu/tools/SignLists/protocuneiform/archsigns/SANGA~a.jpg\" title=\"to higher resolution lineart on CDLI\"><img src=\"cdli-imagery/lineart-sanga-a.jpg\" style=\"display: inline;max-height: 80px; max-width: 60px;\"  /></a></div><div><a target=\"_blank\" href=\"https://cdli.ucla.edu/tools/SignLists/protocuneiform/archsigns.html\" title=\"to CDLI main page for this item\">SANGA~a</a></div></div></div><div style=\"padding: 0.5rem;\"><div style=\"display: flex;flex-flow: column nowrap;justify-content: space-between;align-items: center;align-content: space-between;\"><div><a target=\"_blank\" href=\"https://cdli.ucla.edu/tools/SignLists/protocuneiform/archsigns/SZU.jpg\" title=\"to higher resolution lineart on CDLI\"><img src=\"cdli-imagery/lineart-szu.jpg\" style=\"display: inline;max-height: 80px; max-width: 60px;\"  /></a></div><div><a target=\"_blank\" href=\"https://cdli.ucla.edu/tools/SignLists/protocuneiform/archsigns.html\" title=\"to CDLI main page for this item\">SZU</a></div></div></div></div>"
      ],
      "text/plain": [
       "<IPython.core.display.HTML object>"
      ]
     },
     "metadata": {},
     "output_type": "display_data"
    },
    {
     "data": {
      "text/markdown": [
       "\n",
       "\n",
       "---\n",
       "\n"
      ],
      "text/plain": [
       "<IPython.core.display.Markdown object>"
      ]
     },
     "metadata": {},
     "output_type": "display_data"
    },
    {
     "data": {
      "text/html": [
       "<div style=\"display: flex;flex-flow: row nowrap;justify-content: flex-start;align-items: center;align-content: flex-start;\"><div style=\"padding: 0.5rem;\"><div style=\"display: flex;flex-flow: column nowrap;justify-content: space-between;align-items: center;align-content: space-between;\"><div><a target=\"_blank\" href=\"https://cdli.ucla.edu/tools/SignLists/protocuneiform/archsigns/BU~a.jpg\" title=\"to higher resolution lineart on CDLI\"><img src=\"cdli-imagery/lineart-bu-a.jpg\" style=\"display: inline;max-height: 80px; max-width: 60px;\"  /></a></div><div><a target=\"_blank\" href=\"https://cdli.ucla.edu/tools/SignLists/protocuneiform/archsigns.html\" title=\"to CDLI main page for this item\">BU~a</a></div></div></div><div style=\"padding: 0.5rem;\"><div style=\"display: flex;flex-flow: column nowrap;justify-content: space-between;align-items: center;align-content: space-between;\"><div><a target=\"_blank\" href=\"https://cdli.ucla.edu/tools/SignLists/protocuneiform/archsigns/NAM2.jpg\" title=\"to higher resolution lineart on CDLI\"><img src=\"cdli-imagery/lineart-nam2.jpg\" style=\"display: inline;max-height: 80px; max-width: 60px;\"  /></a></div><div><a target=\"_blank\" href=\"https://cdli.ucla.edu/tools/SignLists/protocuneiform/archsigns.html\" title=\"to CDLI main page for this item\">NAM2</a></div></div></div><div style=\"padding: 0.5rem;\"><div style=\"display: flex;flex-flow: column nowrap;justify-content: space-between;align-items: center;align-content: space-between;\"><div><a target=\"_blank\" href=\"https://cdli.ucla.edu/tools/SignLists/protocuneiform/archsigns/E2~a.jpg\" title=\"to higher resolution lineart on CDLI\"><img src=\"cdli-imagery/lineart-e2-a.jpg\" style=\"display: inline;max-height: 80px; max-width: 60px;\"  /></a></div><div><a target=\"_blank\" href=\"https://cdli.ucla.edu/tools/SignLists/protocuneiform/archsigns.html\" title=\"to CDLI main page for this item\">E2~a</a></div></div></div><div style=\"padding: 0.5rem;\"><div style=\"display: flex;flex-flow: column nowrap;justify-content: space-between;align-items: center;align-content: space-between;\"><div><a target=\"_blank\" href=\"https://cdli.ucla.edu/tools/SignLists/protocuneiform/archsigns/UDU~a.jpg\" title=\"to higher resolution lineart on CDLI\"><img src=\"cdli-imagery/lineart-udu-a.jpg\" style=\"display: inline;max-height: 80px; max-width: 60px;\"  /></a></div><div><a target=\"_blank\" href=\"https://cdli.ucla.edu/tools/SignLists/protocuneiform/archsigns.html\" title=\"to CDLI main page for this item\">UDU~a</a></div></div></div></div>"
      ],
      "text/plain": [
       "<IPython.core.display.HTML object>"
      ]
     },
     "metadata": {},
     "output_type": "display_data"
    },
    {
     "data": {
      "text/markdown": [
       "\n",
       "\n",
       "---\n",
       "\n"
      ],
      "text/plain": [
       "<IPython.core.display.Markdown object>"
      ]
     },
     "metadata": {},
     "output_type": "display_data"
    },
    {
     "data": {
      "text/html": [
       "<div style=\"display: flex;flex-flow: row nowrap;justify-content: flex-start;align-items: center;align-content: flex-start;\"><div style=\"padding: 0.5rem;\"><div style=\"display: flex;flex-flow: column nowrap;justify-content: space-between;align-items: center;align-content: space-between;\"><div><a target=\"_blank\" href=\"https://cdli.ucla.edu/tools/SignLists/protocuneiform/archsigns/A.jpg\" title=\"to higher resolution lineart on CDLI\"><img src=\"cdli-imagery/lineart-a.jpg\" style=\"display: inline;max-height: 80px; max-width: 60px;\"  /></a></div><div><a target=\"_blank\" href=\"https://cdli.ucla.edu/tools/SignLists/protocuneiform/archsigns.html\" title=\"to CDLI main page for this item\">A</a></div></div></div><div style=\"padding: 0.5rem;\"><div style=\"display: flex;flex-flow: column nowrap;justify-content: space-between;align-items: center;align-content: space-between;\"><div><a target=\"_blank\" href=\"https://cdli.ucla.edu/tools/SignLists/protocuneiform/archsigns/KI.jpg\" title=\"to higher resolution lineart on CDLI\"><img src=\"cdli-imagery/lineart-ki.jpg\" style=\"display: inline;max-height: 80px; max-width: 60px;\"  /></a></div><div><a target=\"_blank\" href=\"https://cdli.ucla.edu/tools/SignLists/protocuneiform/archsigns.html\" title=\"to CDLI main page for this item\">KI</a></div></div></div><div style=\"padding: 0.5rem;\"><div style=\"display: flex;flex-flow: column nowrap;justify-content: space-between;align-items: center;align-content: space-between;\"><div><a target=\"_blank\" href=\"https://cdli.ucla.edu/tools/SignLists/protocuneiform/archsigns/DUG~b.jpg\" title=\"to higher resolution lineart on CDLI\"><img src=\"cdli-imagery/lineart-dug-b.jpg\" style=\"display: inline;max-height: 80px; max-width: 60px;\"  /></a></div><div><a target=\"_blank\" href=\"https://cdli.ucla.edu/tools/SignLists/protocuneiform/archsigns.html\" title=\"to CDLI main page for this item\">DUG~b</a></div></div></div><div style=\"padding: 0.5rem;\"><div style=\"display: flex;flex-flow: column nowrap;justify-content: space-between;align-items: center;align-content: space-between;\"><div><a target=\"_blank\" href=\"https://cdli.ucla.edu/tools/SignLists/protocuneiform/archsigns/DU.jpg\" title=\"to higher resolution lineart on CDLI\"><img src=\"cdli-imagery/lineart-du.jpg\" style=\"display: inline;max-height: 80px; max-width: 60px;\"  /></a></div><div><a target=\"_blank\" href=\"https://cdli.ucla.edu/tools/SignLists/protocuneiform/archsigns.html\" title=\"to CDLI main page for this item\">DU</a></div></div></div></div>"
      ],
      "text/plain": [
       "<IPython.core.display.HTML object>"
      ]
     },
     "metadata": {},
     "output_type": "display_data"
    },
    {
     "data": {
      "text/markdown": [
       "\n",
       "\n",
       "---\n",
       "\n"
      ],
      "text/plain": [
       "<IPython.core.display.Markdown object>"
      ]
     },
     "metadata": {},
     "output_type": "display_data"
    },
    {
     "data": {
      "text/html": [
       "<div style=\"display: flex;flex-flow: row nowrap;justify-content: flex-start;align-items: center;align-content: flex-start;\"><div style=\"padding: 0.5rem;\"><div style=\"display: flex;flex-flow: column nowrap;justify-content: space-between;align-items: center;align-content: space-between;\"><div><a target=\"_blank\" href=\"https://cdli.ucla.edu/tools/SignLists/protocuneiform/archsigns/GISZ.jpg\" title=\"to higher resolution lineart on CDLI\"><img src=\"cdli-imagery/lineart-gisz.jpg\" style=\"display: inline;max-height: 80px; max-width: 60px;\"  /></a></div><div><a target=\"_blank\" href=\"https://cdli.ucla.edu/tools/SignLists/protocuneiform/archsigns.html\" title=\"to CDLI main page for this item\">GISZ</a></div></div></div><div style=\"padding: 0.5rem;\"><div style=\"display: flex;flex-flow: column nowrap;justify-content: space-between;align-items: center;align-content: space-between;\"><div><a target=\"_blank\" href=\"https://cdli.ucla.edu/tools/SignLists/protocuneiform/archsigns/HI.jpg\" title=\"to higher resolution lineart on CDLI\"><img src=\"cdli-imagery/lineart-hi.jpg\" style=\"display: inline;max-height: 80px; max-width: 60px;\"  /></a></div><div><a target=\"_blank\" href=\"https://cdli.ucla.edu/tools/SignLists/protocuneiform/archsigns.html\" title=\"to CDLI main page for this item\">HI</a></div></div></div><div style=\"padding: 0.5rem;\"><div style=\"display: flex;flex-flow: column nowrap;justify-content: space-between;align-items: center;align-content: space-between;\"><div><a target=\"_blank\" href=\"https://cdli.ucla.edu/tools/SignLists/protocuneiform/archsigns/TUR.jpg\" title=\"to higher resolution lineart on CDLI\"><img src=\"cdli-imagery/lineart-tur.jpg\" style=\"display: inline;max-height: 80px; max-width: 60px;\"  /></a></div><div><a target=\"_blank\" href=\"https://cdli.ucla.edu/tools/SignLists/protocuneiform/archsigns.html\" title=\"to CDLI main page for this item\">TUR</a></div></div></div><div style=\"padding: 0.5rem;\"><div style=\"display: flex;flex-flow: column nowrap;justify-content: space-between;align-items: center;align-content: space-between;\"><div><a target=\"_blank\" href=\"https://cdli.ucla.edu/tools/SignLists/protocuneiform/archsigns/KU3~a.jpg\" title=\"to higher resolution lineart on CDLI\"><img src=\"cdli-imagery/lineart-ku3-a.jpg\" style=\"display: inline;max-height: 80px; max-width: 60px;\"  /></a></div><div><a target=\"_blank\" href=\"https://cdli.ucla.edu/tools/SignLists/protocuneiform/archsigns.html\" title=\"to CDLI main page for this item\">KU3~a</a></div></div></div></div>"
      ],
      "text/plain": [
       "<IPython.core.display.HTML object>"
      ]
     },
     "metadata": {},
     "output_type": "display_data"
    },
    {
     "data": {
      "text/markdown": [
       "\n",
       "\n",
       "---\n",
       "\n"
      ],
      "text/plain": [
       "<IPython.core.display.Markdown object>"
      ]
     },
     "metadata": {},
     "output_type": "display_data"
    },
    {
     "data": {
      "text/html": [
       "<div style=\"display: flex;flex-flow: row nowrap;justify-content: flex-start;align-items: center;align-content: flex-start;\"><div style=\"padding: 0.5rem;\"><div style=\"display: flex;flex-flow: column nowrap;justify-content: space-between;align-items: center;align-content: space-between;\"><div><a target=\"_blank\" href=\"https://cdli.ucla.edu/tools/SignLists/protocuneiform/archsigns/HI@g~a.jpg\" title=\"to higher resolution lineart on CDLI\"><img src=\"cdli-imagery/lineart-hi(a)g-a.jpg\" style=\"display: inline;max-height: 80px; max-width: 60px;\"  /></a></div><div><a target=\"_blank\" href=\"https://cdli.ucla.edu/tools/SignLists/protocuneiform/archsigns.html\" title=\"to CDLI main page for this item\">HI@g~a</a></div></div></div></div>"
      ],
      "text/plain": [
       "<IPython.core.display.HTML object>"
      ]
     },
     "metadata": {},
     "output_type": "display_data"
    }
   ],
   "source": [
    "for batch in chunk(combiTop, 4):\n",
    "    display(Markdown(\"\\n\\n---\\n\\n\"))\n",
    "    A.lineart(batch, height=80, width=60)"
   ]
  },
  {
   "cell_type": "markdown",
   "metadata": {},
   "source": [
    "We can now compose our table.\n",
    "\n",
    "For each sign we make a row in which we report the frequency and rank of that sign in all\n",
    "groups."
   ]
  },
  {
   "cell_type": "code",
   "execution_count": 45,
   "metadata": {
    "ExecuteTime": {
     "end_time": "2018-05-09T17:52:06.119441Z",
     "start_time": "2018-05-09T17:52:06.107390Z"
    }
   },
   "outputs": [
    {
     "data": {
      "text/markdown": [
       "\n",
       "### Frequencies and ranks of non-numeral signs\n",
       "sign | all F | all R | super F | super R | sub F | sub R\n",
       "---  | ---   | ---   | ---     | ---     | ---   | ---\n",
       "**EN~a** | **1830** | **1** | 1670 | *1* | 160 | *1*\n",
       "**SZE~a** | **1294** | **2** | 1178 | *2* | 116 | *2*\n",
       "**GAL~a** | **1164** | **3** | 1136 | *3* | 28 | *30*\n",
       "**U4** | **1022** | **4** | 936 | *5* | 86 | *7*\n",
       "**AN** | **1020** | **5** | 946 | *4* | 74 | *9*\n",
       "**SAL** | **876** | **6** | 795 | *6* | 81 | *8*\n",
       "**PAP~a** | **851** | **7** | 765 | *7* | 86 | *6*\n",
       "**GI** | **849** | **8** | 754 | *8* | 95 | *4*\n",
       "**BA** | **781** | **9** | 679 | *10* | 102 | *3*\n",
       "**NUN~a** | **719** | **10** | 677 | *11* | 42 | *20*\n",
       "**SANGA~a** | **714** | **11** | 698 | *9* | 16 | *60*\n",
       "**SZU** | **680** | **12** | 611 | *13* | 69 | *10*\n",
       "**BU~a** | **653** | **13** | 561 | *16* | 92 | *5*\n",
       "**NAM2** | **649** | **14** | 625 | *12* | 24 | *39*\n",
       "**E2~a** | **646** | **15** | 583 | *14* | 63 | *11*\n",
       "**UDU~a** | **616** | **16** | 574 | *15* | 42 | *19*\n",
       "**A** | **600** | **17** | 557 | *17* | 43 | *18*\n",
       "**KI** | **546** | **18** | 503 | *19* | 43 | *17*\n",
       "**DUG~b** | **509** | **19** | 506 | *18* | 3 | *226*\n",
       "**DU** | **480** | **20** | 435 | *22* | 45 | *14*\n",
       "**GISZ** | **478** | **21** | 461 | *20* | 17 | *57*\n",
       "**HI** | **408** | **29** | 363 | *31* | 45 | *15*\n",
       "**TUR** | **382** | **32** | 330 | *36* | 52 | *12*\n",
       "**KU3~a** | **264** | **52** | 220 | *58* | 44 | *16*\n",
       "**HI@g~a** | **235** | **58** | 186 | *67* | 49 | *13*\n"
      ],
      "text/plain": [
       "<IPython.core.display.Markdown object>"
      ]
     },
     "metadata": {},
     "output_type": "display_data"
    }
   ],
   "source": [
    "table = \"\"\"\n",
    "### Frequencies and ranks of non-numeral signs\n",
    "sign | all F | all R | super F | super R | sub F | sub R\n",
    "---  | ---   | ---   | ---     | ---     | ---   | ---\n",
    "\"\"\"\n",
    "for sign in combiTop:\n",
    "    allF = allFreqs[sign]\n",
    "    allR = allRanks[sign]\n",
    "    superF = superFreqs.get(sign, \" \")\n",
    "    superR = superRanks.get(sign, \" \")\n",
    "    subF = subFreqs.get(sign, \" \")\n",
    "    subR = subRanks.get(sign, \" \")\n",
    "    row = f\"**{sign}** | **{allF}** | **{allR}** | {superF} | *{superR}* | {subF} | *{subR}*\"\n",
    "    table += f\"{row}\\n\"\n",
    "display(Markdown(table))"
   ]
  },
  {
   "cell_type": "markdown",
   "metadata": {},
   "source": [
    "# Next\n",
    "\n",
    "*Ready for advanced ...*\n",
    "\n",
    "Try the\n",
    "[primers](http://nbviewer.jupyter.org/github/Nino-cunei/primers/tree/master/)\n",
    "for introductions into digital cuneiform research.\n",
    "\n",
    "All chapters:\n",
    "[start](start.ipynb)\n",
    "[imagery](imagery.ipynb)\n",
    "[steps](steps.ipynb)\n",
    "[search](search.ipynb)\n",
    "[calc](calc.ipynb)\n",
    "[signs](signs.ipynb)\n",
    "[quads](quads.ipynb)\n",
    "[jumps](jumps.ipynb)\n",
    "**cases**\n",
    "\n",
    "---\n",
    "\n",
    "CC-BY Dirk Roorda"
   ]
  }
 ],
 "metadata": {
  "kernelspec": {
   "display_name": "Python 3 (ipykernel)",
   "language": "python",
   "name": "python3"
  },
  "language_info": {
   "codemirror_mode": {
    "name": "ipython",
    "version": 3
   },
   "file_extension": ".py",
   "mimetype": "text/x-python",
   "name": "python",
   "nbconvert_exporter": "python",
   "pygments_lexer": "ipython3",
   "version": "3.11.1"
  },
  "toc": {
   "base_numbering": 1,
   "nav_menu": {},
   "number_sections": true,
   "sideBar": true,
   "skip_h1_title": true,
   "title_cell": "Table of Contents",
   "title_sidebar": "Contents",
   "toc_cell": true,
   "toc_position": {
    "height": "651px",
    "left": "0px",
    "right": "1054px",
    "top": "66px",
    "width": "226px"
   },
   "toc_section_display": "block",
   "toc_window_display": false
  },
  "widgets": {
   "application/vnd.jupyter.widget-state+json": {
    "state": {},
    "version_major": 2,
    "version_minor": 0
   }
  }
 },
 "nbformat": 4,
 "nbformat_minor": 4
}
