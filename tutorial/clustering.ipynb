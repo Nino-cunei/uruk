{
 "cells": [
  {
   "cell_type": "markdown",
   "metadata": {
    "toc": true
   },
   "source": [
    "<h1>Table of Contents<span class=\"tocSkip\"></span></h1>\n",
    "<div class=\"toc\" style=\"margin-top: 1em;\"><ul class=\"toc-item\"><li><span><a href=\"#Data\" data-toc-modified-id=\"Data-1\"><span class=\"toc-item-num\">1&nbsp;&nbsp;</span>Data</a></span></li><li><span><a href=\"#Reference-docs\" data-toc-modified-id=\"Reference-docs-2\"><span class=\"toc-item-num\">2&nbsp;&nbsp;</span>Reference docs</a></span></li><li><span><a href=\"#Start-up\" data-toc-modified-id=\"Start-up-3\"><span class=\"toc-item-num\">3&nbsp;&nbsp;</span>Start up</a></span></li><li><span><a href=\"#Sign-representations\" data-toc-modified-id=\"Sign-representations-4\"><span class=\"toc-item-num\">4&nbsp;&nbsp;</span>Sign representations</a></span></li><li><span><a href=\"#Object-similarity\" data-toc-modified-id=\"Object-similarity-5\"><span class=\"toc-item-num\">5&nbsp;&nbsp;</span>Object similarity</a></span><ul class=\"toc-item\"><li><span><a href=\"#Storing-similarity-computations\" data-toc-modified-id=\"Storing-similarity-computations-5.1\"><span class=\"toc-item-num\">5.1&nbsp;&nbsp;</span>Storing similarity computations</a></span><ul class=\"toc-item\"><li><span><a data-toc-modified-id=\"source-transcriptions-5.1.1\"><span class=\"toc-item-num\">5.1.1&nbsp;&nbsp;</span>Source transcriptions</a></span></li><li><span><a data-toc-modified-id=\"signs-5.1.2\"><span class=\"toc-item-num\">5.1.2&nbsp;&nbsp;</span>Signs</a></span></li><li><span><a data-toc-modified-id=\"intersection-5.1.3\"><span class=\"toc-item-num\">5.1.3&nbsp;&nbsp;</span>Intersection</a></span></li><li><span><a data-toc-modified-id=\"union-5.1.4\"><span class=\"toc-item-num\">5.1.4&nbsp;&nbsp;</span>Union</a></span></li><li><span><a data-toc-modified-id=\"similarity-5.1.5\"><span class=\"toc-item-num\">5.1.5&nbsp;&nbsp;</span>Similarity</a></span></li></ul></li></ul></li><li><span><a href=\"#Clustering\" data-toc-modified-id=\"Clustering-6\"><span class=\"toc-item-num\">6&nbsp;&nbsp;</span>Clustering</a></span><ul class=\"toc-item\"><li><span><a href=\"#Algorithm\" data-toc-modified-id=\"Algorithm-6.1\"><span class=\"toc-item-num\">6.1&nbsp;&nbsp;</span>Algorithm</a></span></li><li><span><a href=\"#A-few-runs\" data-toc-modified-id=\"A-few-runs-6.2\"><span class=\"toc-item-num\">6.2&nbsp;&nbsp;</span>A few runs</a></span></li></ul></li><li><span><a href=\"#Cluster-evaluation\" data-toc-modified-id=\"Cluster-evaluation-7\"><span class=\"toc-item-num\">7&nbsp;&nbsp;</span>Cluster evaluation</a></span><ul class=\"toc-item\"><li><span><a href=\"#Criteria\" data-toc-modified-id=\"Criteria-7.1\"><span class=\"toc-item-num\">7.1&nbsp;&nbsp;</span>Criteria</a></span></li><li><span><a href=\"#Threshold-search\" data-toc-modified-id=\"Threshold-search-7.2\"><span class=\"toc-item-num\">7.2&nbsp;&nbsp;</span>Threshold search</a></span></li><li><span><a data-toc-modified-id=\"clustering-of-5674-tablets-2043-7.3\"><span class=\"toc-item-num\">7.3&nbsp;&nbsp;</span>Clustering of 5674 tablets =&gt; 2043</a></span></li></ul></li></ul></div>"
   ]
  },
  {
   "cell_type": "markdown",
   "metadata": {
    "ExecuteTime": {
     "end_time": "2018-02-27T08:24:45.190815Z",
     "start_time": "2018-02-27T08:24:45.174943Z"
    }
   },
   "source": [
    "<img align=\"left\" src=\"images/P005381-obverse-photo.png\" width=\"15%\"/>\n",
    "<img align=\"left\" src=\"images/P005381-obverse-lineart-annot.png\" width=\"15%\"/>\n",
    "<img align=\"right\" src=\"images/P005381-reverse-photo.png\" width=\"15%\"/>\n",
    "<img align=\"right\" src=\"images/P005381-reverse-lineart.png\" width=\"15%\"/>\n",
    "\n",
    "<p>\n",
    "```\n",
    "&P005381 = MSVO 3, 70\n",
    "```\n",
    "</p>\n",
    "<p>\n",
    "<img src=\"images/P005381-obverse-atf.png\" width=\"40%\"/>\n",
    "<img src=\"images/P005381-reverse-atf.png\" width=\"40%\"/>\n",
    "</p>"
   ]
  },
  {
   "cell_type": "markdown",
   "metadata": {},
   "source": [
    "<img align=\"right\" src=\"images/tf-small.png\"/>\n",
    "\n",
    "\n",
    "# Clustering\n",
    "\n",
    "We want to get insights in the co-occurrences of signs on tablets in the \n",
    "[Uruk III/IV](http://cdli.ox.ac.uk/wiki/doku.php?id=proto-cuneiform)\n",
    "corpus (4000-3100 BC).\n",
    "These tablets have a poor archival context, since they come from rubbish pits, and may have been transported\n",
    "from various different places than where they have been excavated.\n",
    "\n",
    "In order to get more information about their chronology and context, we need to study the evolution of\n",
    "the signs on the tablets. Clustering and collocation are prerequisites to do so.\n",
    "\n",
    "In [collocation](collocation.ipynb) we did first steps in pairing signs\n",
    "that co-occur on the same tablets, faces, columns, lines.\n",
    "\n",
    "Now we want to *cluster* tablets based on the signs they contain.\n",
    "\n",
    "**N.B.:** This notebook does not use the results from the collocation notebook.\n",
    "\n",
    "The method borrows insights from finding parallel passages in the Hebrew Bible,\n",
    "as executed in the [parallels notebook](https://github.com/ETCBC/parallels/blob/master/programs/parallels.ipynb).\n",
    "\n",
    "At the end of the notebook we show a non-trivial clustering of tablets,\n",
    "with direct links to their images and metadata on [CDLI](https://cdli.ucla.edu).\n",
    "\n",
    "## Data\n",
    "\n",
    "We have downloaded the transcriptions from the \n",
    "**Cuneiform Digital Library Initiative**\n",
    "[CDLI](https://cdli.ucla.edu),\n",
    "and converted them to\n",
    "[Text-Fabric](https://github.com/Dans-labs/text-fabric).\n",
    "Read more about the details of the conversion in the\n",
    "[checks](checks.ipynb) notebook.\n",
    "For an introduction to Text-Fabric, follow the\n",
    "[start](start.ipynb) tutorial.\n",
    "\n",
    "## Reference docs\n",
    "The functions used by this notebook are documented in the following places:\n",
    "\n",
    "[Feature docs](https://github.com/Dans-labs/Nino-cunei/blob/master/docs/transcription.md)\n",
    "\n",
    "[Cunei API](https://github.com/Dans-labs/Nino-cunei/blob/master/docs/cunei.md)\n",
    "\n",
    "[Utils API](https://github.com/Dans-labs/Nino-cunei/blob/master/docs/utils.md)\n",
    "\n",
    "[Text-Fabric API](https://github.com/Dans-labs/text-fabric)\n",
    "\n",
    "\n",
    "# Authors\n",
    "\n",
    "J. Cale Johnson and Dirk Roorda (see the \n",
    "[README](https://github.com/Dans-labs/Nino-cunei)\n",
    "of this repository)."
   ]
  },
  {
   "cell_type": "markdown",
   "metadata": {},
   "source": [
    "## Start up\n",
    "\n",
    "We import the Python modules we need."
   ]
  },
  {
   "cell_type": "code",
   "execution_count": 1,
   "metadata": {
    "ExecuteTime": {
     "end_time": "2018-03-01T19:23:48.138295Z",
     "start_time": "2018-03-01T19:23:48.113429Z"
    }
   },
   "outputs": [],
   "source": [
    "%load_ext autoreload\n",
    "%autoreload 2"
   ]
  },
  {
   "cell_type": "code",
   "execution_count": 2,
   "metadata": {
    "ExecuteTime": {
     "end_time": "2018-03-01T19:23:48.957373Z",
     "start_time": "2018-03-01T19:23:48.934566Z"
    }
   },
   "outputs": [],
   "source": [
    "import sys, os, collections\n",
    "from IPython.display import Markdown, display\n",
    "from tf.fabric import Fabric"
   ]
  },
  {
   "cell_type": "markdown",
   "metadata": {},
   "source": [
    "We set up our working locations on the file system."
   ]
  },
  {
   "cell_type": "code",
   "execution_count": 3,
   "metadata": {
    "ExecuteTime": {
     "end_time": "2018-03-01T19:23:50.249159Z",
     "start_time": "2018-03-01T19:23:50.217709Z"
    }
   },
   "outputs": [],
   "source": [
    "GITHUB = 'https://github.com'\n",
    "REPO_REL = 'Dans-labs/Nino-cunei'\n",
    "REPO = f'~/github/{REPO_REL}'\n",
    "SOURCE = 'uruk'\n",
    "VERSION = '0.1'\n",
    "CORPUS = f'{REPO}/tf/{SOURCE}/{VERSION}'\n",
    "SOURCE_DIR = os.path.expanduser(f'{REPO}/sources/cdli')\n",
    "PROGRAM_DIR = os.path.expanduser(f'{REPO}/programs')\n",
    "TEMP_DIR = os.path.expanduser(f'{REPO}/_temp')\n",
    "REPORT_DIR = os.path.expanduser(f'{REPO}/reports')\n",
    "RESULT_DIR = f'{REPORT_DIR}/clustering'\n",
    "RESULT_GH = f'{GITHUB}/{REPO_REL}/blob/master/reports/clustering'\n",
    "TEMP_RESULT_DIR = f'{TEMP_DIR}/clustering'"
   ]
  },
  {
   "cell_type": "markdown",
   "metadata": {},
   "source": [
    "We create the temporary and report directories, if they do not exist already."
   ]
  },
  {
   "cell_type": "code",
   "execution_count": 4,
   "metadata": {
    "ExecuteTime": {
     "end_time": "2018-03-01T19:23:53.802957Z",
     "start_time": "2018-03-01T19:23:53.787307Z"
    }
   },
   "outputs": [],
   "source": [
    "sys.path.append(PROGRAM_DIR)\n",
    "from cunei import Cunei\n",
    "from utils import Compare"
   ]
  },
  {
   "cell_type": "code",
   "execution_count": 5,
   "metadata": {
    "ExecuteTime": {
     "end_time": "2018-03-01T19:23:55.280678Z",
     "start_time": "2018-03-01T19:23:55.263370Z"
    }
   },
   "outputs": [],
   "source": [
    "for cdir in (TEMP_DIR, REPORT_DIR, RESULT_DIR, TEMP_RESULT_DIR):\n",
    "    os.makedirs(cdir, exist_ok=True)"
   ]
  },
  {
   "cell_type": "code",
   "execution_count": 6,
   "metadata": {
    "ExecuteTime": {
     "end_time": "2018-03-01T19:23:56.328777Z",
     "start_time": "2018-03-01T19:23:56.303988Z"
    }
   },
   "outputs": [
    {
     "name": "stdout",
     "output_type": "stream",
     "text": [
      "This is Text-Fabric 3.2.2\n",
      "Api reference : https://github.com/Dans-labs/text-fabric/wiki/Api\n",
      "Tutorial      : https://github.com/Dans-labs/text-fabric/blob/master/docs/tutorial.ipynb\n",
      "Example data  : https://github.com/Dans-labs/text-fabric-data\n",
      "\n",
      "33 features found and 0 ignored\n"
     ]
    }
   ],
   "source": [
    "TF = Fabric(locations=[CORPUS], modules=[''], silent=False )"
   ]
  },
  {
   "cell_type": "code",
   "execution_count": 7,
   "metadata": {
    "ExecuteTime": {
     "end_time": "2018-03-01T19:23:59.066429Z",
     "start_time": "2018-03-01T19:23:57.955059Z"
    }
   },
   "outputs": [
    {
     "name": "stdout",
     "output_type": "stream",
     "text": [
      "  0.00s loading features ...\n",
      "   |     0.00s B catalogId            from /Users/dirk/github/Dans-labs/Nino-cunei/tf/uruk/0.1\n",
      "   |     0.02s B fullNumber           from /Users/dirk/github/Dans-labs/Nino-cunei/tf/uruk/0.1\n",
      "   |     0.02s B number               from /Users/dirk/github/Dans-labs/Nino-cunei/tf/uruk/0.1\n",
      "   |     0.06s B grapheme             from /Users/dirk/github/Dans-labs/Nino-cunei/tf/uruk/0.1\n",
      "   |     0.04s B srcLn                from /Users/dirk/github/Dans-labs/Nino-cunei/tf/uruk/0.1\n",
      "   |     0.02s B srcLnNum             from /Users/dirk/github/Dans-labs/Nino-cunei/tf/uruk/0.1\n",
      "   |     0.00s B prime                from /Users/dirk/github/Dans-labs/Nino-cunei/tf/uruk/0.1\n",
      "   |     0.01s B repeat               from /Users/dirk/github/Dans-labs/Nino-cunei/tf/uruk/0.1\n",
      "   |     0.01s B variant              from /Users/dirk/github/Dans-labs/Nino-cunei/tf/uruk/0.1\n",
      "   |     0.00s B variantOuter         from /Users/dirk/github/Dans-labs/Nino-cunei/tf/uruk/0.1\n",
      "   |     0.00s B modifier             from /Users/dirk/github/Dans-labs/Nino-cunei/tf/uruk/0.1\n",
      "   |     0.00s B modifierInner        from /Users/dirk/github/Dans-labs/Nino-cunei/tf/uruk/0.1\n",
      "   |     0.00s B modifierFirst        from /Users/dirk/github/Dans-labs/Nino-cunei/tf/uruk/0.1\n",
      "   |     0.01s B damage               from /Users/dirk/github/Dans-labs/Nino-cunei/tf/uruk/0.1\n",
      "   |     0.00s B uncertain            from /Users/dirk/github/Dans-labs/Nino-cunei/tf/uruk/0.1\n",
      "   |     0.00s B remarkable           from /Users/dirk/github/Dans-labs/Nino-cunei/tf/uruk/0.1\n",
      "   |     0.00s B written              from /Users/dirk/github/Dans-labs/Nino-cunei/tf/uruk/0.1\n",
      "   |     0.01s B period               from /Users/dirk/github/Dans-labs/Nino-cunei/tf/uruk/0.1\n",
      "   |     0.00s B name                 from /Users/dirk/github/Dans-labs/Nino-cunei/tf/uruk/0.1\n",
      "   |     0.03s B type                 from /Users/dirk/github/Dans-labs/Nino-cunei/tf/uruk/0.1\n",
      "   |     0.00s B identifier           from /Users/dirk/github/Dans-labs/Nino-cunei/tf/uruk/0.1\n",
      "   |     0.00s B excavation           from /Users/dirk/github/Dans-labs/Nino-cunei/tf/uruk/0.1\n",
      "   |     0.00s B origNumber           from /Users/dirk/github/Dans-labs/Nino-cunei/tf/uruk/0.1\n",
      "   |     0.00s B badNumbering         from /Users/dirk/github/Dans-labs/Nino-cunei/tf/uruk/0.1\n",
      "   |     0.01s B crossref             from /Users/dirk/github/Dans-labs/Nino-cunei/tf/uruk/0.1\n",
      "   |     0.01s B text                 from /Users/dirk/github/Dans-labs/Nino-cunei/tf/uruk/0.1\n",
      "   |     0.00s B op                   from /Users/dirk/github/Dans-labs/Nino-cunei/tf/uruk/0.1\n",
      "   |     0.10s B sub                  from /Users/dirk/github/Dans-labs/Nino-cunei/tf/uruk/0.1\n",
      "   |     0.01s B comments             from /Users/dirk/github/Dans-labs/Nino-cunei/tf/uruk/0.1\n",
      "   |     0.00s Feature overview: 28 for nodes; 4 for edges; 1 configs; 7 computed\n",
      "  1.09s All features loaded/computed - for details use loadLog()\n"
     ]
    }
   ],
   "source": [
    "api = TF.load('''\n",
    "    grapheme prime repeat\n",
    "    variant variantOuter\n",
    "    modifier modifierInner modifierFirst\n",
    "    damage uncertain remarkable written\n",
    "    period name type identifier catalogId excavation\n",
    "    number fullNumber origNumber badNumbering\n",
    "    crossref text\n",
    "    srcLn srcLnNum\n",
    "    op sub comments''')\n",
    "api.makeAvailableIn(globals())\n",
    "CUNEI = Cunei(api)\n",
    "COMP = Compare(api, SOURCE_DIR, TEMP_DIR)"
   ]
  },
  {
   "cell_type": "markdown",
   "metadata": {},
   "source": [
    "We pick up where we left off in the [start](start.ipynb) tutorial: computing co-occurrences\n",
    "by tablet. But we make the move to put our recipes into functions, that we will re-use and refine later on."
   ]
  },
  {
   "cell_type": "markdown",
   "metadata": {},
   "source": [
    "## Sign representations\n",
    "\n",
    "We pre-compute the sets of distinct signs per object.\n",
    "\n",
    "We also make an sign-index of the objects.\n",
    "\n",
    "Objects without signs (after filtering out non-signs), will be excluded.\n",
    "\n",
    "Optionally, we leave the numerals out."
   ]
  },
  {
   "cell_type": "code",
   "execution_count": 8,
   "metadata": {
    "ExecuteTime": {
     "end_time": "2018-02-28T20:15:09.993352Z",
     "start_time": "2018-02-28T20:15:09.955709Z"
    }
   },
   "outputs": [],
   "source": [
    "NA = {'', '…', 'X'}\n",
    "\n",
    "def getSigns(nodeType, withNumerals=True):\n",
    "    signsFromObject = collections.defaultdict(set)\n",
    "    objectsFromSign = collections.defaultdict(set)\n",
    "    emptyObjects = set()\n",
    "\n",
    "    for obj in F.otype.s(nodeType):\n",
    "        theseSigns = {\n",
    "            CUNEI.atfFromSign(s)\n",
    "            for s in L.d(obj, otype='sign')\n",
    "            if F.grapheme.v(s) not in NA\n",
    "        }\n",
    "        for signRep in theseSigns:\n",
    "            signsFromObject[obj].add(signRep)\n",
    "            objectsFromSign[signRep].add(obj)\n",
    "        if len(theseSigns) == 0:\n",
    "            emptyObjects.add(obj)\n",
    "    display(Markdown(f'''\n",
    "**Preparation** {len(signsFromObject)} {nodeType}s =>\n",
    "{len(objectsFromSign)} distinct signs'\n",
    "\n",
    "({len(emptyObjects)} empty {nodeType}s out of {len(emptyObjects) + len(signsFromObject)})\n",
    "\n",
    "'''\n",
    "    ))\n",
    "    return (signsFromObject, objectsFromSign, emptyObjects)"
   ]
  },
  {
   "cell_type": "markdown",
   "metadata": {},
   "source": [
    "First we will work with tablets."
   ]
  },
  {
   "cell_type": "code",
   "execution_count": 9,
   "metadata": {
    "ExecuteTime": {
     "end_time": "2018-02-28T20:15:15.380998Z",
     "start_time": "2018-02-28T20:15:14.774229Z"
    }
   },
   "outputs": [
    {
     "data": {
      "text/markdown": [
       "\n",
       "**Preparation** 5674 tablets =>\n",
       "1526 distinct signs'\n",
       "\n",
       "(722 empty tablets out of 6396)\n",
       "\n"
      ],
      "text/plain": [
       "<IPython.core.display.Markdown object>"
      ]
     },
     "metadata": {},
     "output_type": "display_data"
    }
   ],
   "source": [
    "(signsFromObject, objectsFromSign, emptyObjects) = getSigns('tablet')"
   ]
  },
  {
   "cell_type": "markdown",
   "metadata": {},
   "source": [
    "We show one of the empty tablets."
   ]
  },
  {
   "cell_type": "code",
   "execution_count": 10,
   "metadata": {
    "ExecuteTime": {
     "end_time": "2018-02-28T20:15:17.811656Z",
     "start_time": "2018-02-28T20:15:17.792559Z"
    }
   },
   "outputs": [
    {
     "name": "stdout",
     "output_type": "stream",
     "text": [
      "&P005057 = ATU 6, pl. 91, VAT 21520\n",
      "#version: 0.1\n",
      "#atf: lang qpc\n",
      "@obverse\n",
      "@column 1\n",
      "1. [...] , X [...]\n"
     ]
    }
   ],
   "source": [
    "emptyTablet = sorted(emptyObjects)[100]\n",
    "print('\\n'.join(COMP.getSource(emptyTablet)))"
   ]
  },
  {
   "cell_type": "markdown",
   "metadata": {},
   "source": [
    "![empty](images/P005057-photo.png)"
   ]
  },
  {
   "cell_type": "markdown",
   "metadata": {},
   "source": [
    "## Object similarity\n",
    "\n",
    "We will group the objects into clusters based on a concept of *similarity* between objects.\n",
    "\n",
    "A handy measure is \n",
    "\n",
    "$$|T_1 \\cap T_2| \\over |T_1 \\cup T_2|$$\n",
    "\n",
    "In words: we take the number of signs in the intersection of the sign sets of two objects\n",
    "and divide it by the number of signs in the union of the sign sets of those two objects.\n",
    "\n",
    "It is the ratio between the amount of signs that the objects have in common and the \n",
    "total amount of signs they have.\n",
    "\n",
    "If the two objects are equal, or even if they have the same sign set, their similarity is maximal, \n",
    "i.e. `1`.\n",
    "\n",
    "If two objects have no signs in common, their similarity is minimal, i.e. `0`.\n",
    "\n",
    "If the sign set of one object is contained in that of another object, the similarity is the\n",
    "size of the smaller sign set divided by the bigger sign set."
   ]
  },
  {
   "cell_type": "code",
   "execution_count": 11,
   "metadata": {
    "ExecuteTime": {
     "end_time": "2018-02-28T20:15:21.848684Z",
     "start_time": "2018-02-28T20:15:21.829302Z"
    }
   },
   "outputs": [],
   "source": [
    "def signSimilarity(t1, t2):\n",
    "    signSet1 = signsFromObject[t1]\n",
    "    signSet2 = signsFromObject[t2]\n",
    "    return len(signSet1 & signSet2) / len(signSet1 | signSet2)"
   ]
  },
  {
   "cell_type": "markdown",
   "metadata": {},
   "source": [
    "### Storing similarity computations\n",
    "\n",
    "We are going to need many similarities between tablets, sometimes multiple times per pair.\n",
    "That's why we are going to memoize the results of the similarity function."
   ]
  },
  {
   "cell_type": "code",
   "execution_count": 12,
   "metadata": {
    "ExecuteTime": {
     "end_time": "2018-02-28T20:15:23.448978Z",
     "start_time": "2018-02-28T20:15:23.423302Z"
    }
   },
   "outputs": [],
   "source": [
    "simCache = {}\n",
    "stats = [0, 0]\n",
    "\n",
    "def memoSim(t1, t2):\n",
    "    pair = (t1, t2) if t1 < t2 else (t2, t1)\n",
    "    sim = simCache.get(pair, None)\n",
    "    if sim is None:\n",
    "        sim = signSimilarity(*pair)\n",
    "        simCache[pair] = sim\n",
    "        stats[1] += 1\n",
    "    else:\n",
    "        stats[0] += 1\n",
    "    return sim"
   ]
  },
  {
   "cell_type": "markdown",
   "metadata": {},
   "source": [
    "We need to see an example.\n",
    "Here is the source code of two (admittedly handy chosen) tablets.\n",
    "\n",
    "We then show their similarity."
   ]
  },
  {
   "cell_type": "code",
   "execution_count": 13,
   "metadata": {
    "ExecuteTime": {
     "end_time": "2018-02-28T20:15:25.280659Z",
     "start_time": "2018-02-28T20:15:25.249743Z"
    }
   },
   "outputs": [
    {
     "data": {
      "text/markdown": [
       "\n",
       "#### Source transcriptions\n",
       "```\n",
       "&P001059 = ATU 5, pl. 039, W 9168,d\n",
       "#version: 0.1\n",
       "#atf: lang qpc\n",
       "@obverse\n",
       "@column 1\n",
       "1. 2(N01) , APIN~a SZAM2#\n",
       "2. 2(N14)# [...] , |KA2xLAM|#\n",
       "3. [...] 2(N01)# , KINGAL#\n",
       "4. [...] , [...]\n",
       "```\n",
       "---\n",
       "\n",
       "```\n",
       "&P448701 = www archaeo-auction 003 \n",
       "#atf: lang qpc \n",
       "@obverse \n",
       "@column 1 \n",
       "1. 1(N46) 2(N19) 4(N41) , \n",
       "2. , AB~a APIN~a NUN~a X X \n",
       "@column 2 \n",
       "1. , X X\n",
       "2. , SZE~a DU NUN~a  \n",
       "@reverse \n",
       "$ (not imaged) \n",
       "```\n",
       "\n",
       "#### Signs\n",
       "`2(N01)` `2(N14)` `APIN~a` `KA2` `KINGAL` `LAM` `SZAM2`\n",
       "\n",
       "---\n",
       "\n",
       "`1(N46)` `2(N19)` `4(N41)` `AB~a` `APIN~a` `DU` `NUN~a` `SZE~a`\n",
       "\n",
       "#### Intersection\n",
       "\n",
       "size 1: `APIN~a`\n",
       "\n",
       "#### Union\n",
       "size 14: `1(N46)` `2(N01)` `2(N14)` `2(N19)` `4(N41)` `AB~a` `APIN~a` `DU` `KA2` `KINGAL` `LAM` `NUN~a` `SZAM2` `SZE~a`\n",
       "\n",
       "#### Similarity\n",
       "\n",
       "**0.07142857142857142**\n"
      ],
      "text/plain": [
       "<IPython.core.display.Markdown object>"
      ]
     },
     "metadata": {},
     "output_type": "display_data"
    }
   ],
   "source": [
    "tablet1 = T.nodeFromSection(('P001059',))\n",
    "tablet2 = T.nodeFromSection(('P448701',))\n",
    "source1 = '\\n'.join(COMP.getSource(tablet1))\n",
    "source2 = '\\n'.join(COMP.getSource(tablet2))\n",
    "signs1 = signsFromObject[tablet1]\n",
    "signs2 = signsFromObject[tablet2]\n",
    "intersection = signs1 & signs2\n",
    "union = signs1 | signs2\n",
    "lengthI = len(intersection)\n",
    "lengthU = len(union)\n",
    "\n",
    "display(Markdown(f'''\n",
    "#### Source transcriptions\n",
    "```\n",
    "{source1}\n",
    "```\n",
    "---\n",
    "\n",
    "```\n",
    "{source2}\n",
    "```\n",
    "\n",
    "#### Signs\n",
    "`{\"` `\".join(sorted(signs1))}`\n",
    "\n",
    "---\n",
    "\n",
    "`{\"` `\".join(sorted(signs2))}`\n",
    "\n",
    "#### Intersection\n",
    "\n",
    "size {lengthI}: `{\"` `\".join(sorted(intersection))}`\n",
    "\n",
    "#### Union\n",
    "size {lengthU}: `{\"` `\".join(sorted(union))}`\n",
    "\n",
    "#### Similarity\n",
    "\n",
    "**{memoSim(tablet1, tablet2)}**\n",
    "'''))"
   ]
  },
  {
   "cell_type": "markdown",
   "metadata": {},
   "source": [
    "## Clustering\n",
    "\n",
    "We borrow from the concept of *cliques* and the method of obtaining\n",
    "them demonstrated in the\n",
    "[parallels notebook](http://localhost:8888/notebooks/etcbc/parallels/programs/parallels.ipynb#4.3-Cliques).\n",
    "\n",
    "### Algorithm\n",
    "The idea is to visit all objects, one by one, and form clusters as we go.\n",
    "\n",
    "Suppose we have already a bunch of clusters and we visit a new object.\n",
    "\n",
    "We determine the clusters that are close enough to the object.\n",
    "\n",
    "If there are such clusters, we merge them and add the object to the new cluster.\n",
    "\n",
    "If not, we make a new empty cluster and put the object in it.\n",
    "\n",
    "We set a threshold to define what is \"close enough\"."
   ]
  },
  {
   "cell_type": "code",
   "execution_count": 14,
   "metadata": {
    "ExecuteTime": {
     "end_time": "2018-02-28T20:15:32.807119Z",
     "start_time": "2018-02-28T20:15:32.675982Z"
    }
   },
   "outputs": [],
   "source": [
    "progress = 1000000\n",
    "\n",
    "def clustering(objects, nodeType, threshold, verbose=True):\n",
    "    if verbose:\n",
    "        display(Markdown(f'''\n",
    "**clustering** {len(objects)} objects with *threshold* {threshold}\n",
    "'''))\n",
    "    i = 0\n",
    "    j = 0\n",
    "    clustersUnsorted = []\n",
    "    for (o, obj) in enumerate(objects):\n",
    "        added = None\n",
    "        removable = set()\n",
    "        for (k, cluster) in enumerate(clustersUnsorted):\n",
    "            origCluster = tuple(cluster)\n",
    "            for objC in origCluster:            \n",
    "                if verbose and j >= progress:\n",
    "                    print(\n",
    "                        f'\\t{o:>4} objects - {i:>9} x memoSim'\n",
    "                        f' - {stats[0]:>8} lookups {stats[1]:>9} comps'\n",
    "                    )\n",
    "                    j = 0\n",
    "                sim = memoSim(obj, objC)\n",
    "                i += 1\n",
    "                j += 1\n",
    "                if sim >= threshold:\n",
    "                    if added == None:    \n",
    "                        # obj has not been added to any cluster yet\n",
    "                        cluster.add(obj)\n",
    "                        added = k        \n",
    "                        # remember that we added obj to this cluster\n",
    "                    else:                \n",
    "                        # obj has alreay been added to another cluster:\n",
    "                        # we merge this cluster with that one\n",
    "                        clustersUnsorted[added] |= cluster\n",
    "                        removable.add(k) \n",
    "                        # we remember that we have merged this cluster into another one,\n",
    "                        # so we can throw away this cluster later \n",
    "                    break\n",
    "        if added == None:\n",
    "            clustersUnsorted.append({obj})\n",
    "        else:\n",
    "            if len(removable):\n",
    "                clustersUnsorted = [\n",
    "                    cluster\n",
    "                    for (k,cluster) in enumerate(clustersUnsorted)\n",
    "                    if k not in removable\n",
    "            ]\n",
    "    result = sorted(\n",
    "        [\n",
    "            tuple(sorted(cluster)) \n",
    "            for cluster in clustersUnsorted\n",
    "        ]\n",
    "    )\n",
    "    if verbose:\n",
    "        print(\n",
    "            f'\\t{len(objects):>4} objects - {i:>9} x memoSim'\n",
    "            f' - {stats[0]:>8} lookups {stats[1]:>9} comps'\n",
    "        )\n",
    "\n",
    "        display(Markdown(f'**Clusters**: {len(result)}, *threshold* {threshold}'))\n",
    "    else:\n",
    "        display(Markdown(f'''\n",
    "**clustering** {len(objects)} {nodeType}s => {len(result)} clusters, *threshold* {threshold}\n",
    "'''))\n",
    "\n",
    "    \n",
    "    return result"
   ]
  },
  {
   "cell_type": "markdown",
   "metadata": {},
   "source": [
    "### A few runs\n",
    "\n",
    "We just run the clustering with a similarity threshold of `0.8` to see what happens."
   ]
  },
  {
   "cell_type": "code",
   "execution_count": 15,
   "metadata": {
    "ExecuteTime": {
     "end_time": "2018-02-28T20:15:36.966445Z",
     "start_time": "2018-02-28T20:15:36.950769Z"
    }
   },
   "outputs": [],
   "source": [
    "objects = sorted(signsFromObject)"
   ]
  },
  {
   "cell_type": "code",
   "execution_count": 16,
   "metadata": {
    "ExecuteTime": {
     "end_time": "2018-02-28T20:16:33.067151Z",
     "start_time": "2018-02-28T20:15:39.474883Z"
    }
   },
   "outputs": [
    {
     "data": {
      "text/markdown": [
       "\n",
       "**clustering** 5674 objects with *threshold* 0.8\n"
      ],
      "text/plain": [
       "<IPython.core.display.Markdown object>"
      ]
     },
     "metadata": {},
     "output_type": "display_data"
    },
    {
     "name": "stdout",
     "output_type": "stream",
     "text": [
      "\t1414 objects -   1000000 x memoSim -        1 lookups   1000000 comps\n",
      "\t2000 objects -   2000000 x memoSim -        1 lookups   2000000 comps\n",
      "\t2450 objects -   3000000 x memoSim -        1 lookups   3000000 comps\n",
      "\t2829 objects -   4000000 x memoSim -        1 lookups   4000000 comps\n",
      "\t3163 objects -   5000000 x memoSim -        1 lookups   5000000 comps\n",
      "\t3465 objects -   6000000 x memoSim -        1 lookups   6000000 comps\n",
      "\t3742 objects -   7000000 x memoSim -        1 lookups   7000000 comps\n",
      "\t4000 objects -   8000000 x memoSim -        1 lookups   8000000 comps\n",
      "\t4243 objects -   9000000 x memoSim -        1 lookups   9000000 comps\n",
      "\t4473 objects -  10000000 x memoSim -        1 lookups  10000000 comps\n",
      "\t4691 objects -  11000000 x memoSim -        1 lookups  11000000 comps\n",
      "\t4900 objects -  12000000 x memoSim -        1 lookups  12000000 comps\n",
      "\t5100 objects -  13000000 x memoSim -        1 lookups  13000000 comps\n",
      "\t5292 objects -  14000000 x memoSim -        1 lookups  14000000 comps\n",
      "\t5478 objects -  15000000 x memoSim -        1 lookups  15000000 comps\n",
      "\t5658 objects -  16000000 x memoSim -        1 lookups  16000000 comps\n",
      "\t5674 objects -  16089918 x memoSim -        1 lookups  16089918 comps\n"
     ]
    },
    {
     "data": {
      "text/markdown": [
       "**Clusters**: 5214, *threshold* 0.8"
      ],
      "text/plain": [
       "<IPython.core.display.Markdown object>"
      ]
     },
     "metadata": {},
     "output_type": "display_data"
    }
   ],
   "source": [
    "clusters = clustering(objects, 'tablet', 0.8)"
   ]
  },
  {
   "cell_type": "markdown",
   "metadata": {},
   "source": [
    "Only a few hundred objects got clustered with an other one.\n",
    "Such a rare clustering is not very informative.\n",
    "The threshold is too strict.\n",
    "\n",
    "What if we work with a very generous threshold, say `0.1`?"
   ]
  },
  {
   "cell_type": "code",
   "execution_count": 17,
   "metadata": {
    "ExecuteTime": {
     "end_time": "2018-02-28T20:16:39.464885Z",
     "start_time": "2018-02-28T20:16:39.043132Z"
    }
   },
   "outputs": [
    {
     "data": {
      "text/markdown": [
       "\n",
       "**clustering** 5674 tablets => 9 clusters, *threshold* 0.1\n"
      ],
      "text/plain": [
       "<IPython.core.display.Markdown object>"
      ]
     },
     "metadata": {},
     "output_type": "display_data"
    }
   ],
   "source": [
    "clusters = clustering(objects, 'tablet', 0.1, verbose=False)"
   ]
  },
  {
   "cell_type": "markdown",
   "metadata": {},
   "source": [
    "We now have very few clusters. That is also not very meaningful.\n",
    "\n",
    "How big are the clusters?"
   ]
  },
  {
   "cell_type": "code",
   "execution_count": 18,
   "metadata": {
    "ExecuteTime": {
     "end_time": "2018-02-28T20:16:43.651557Z",
     "start_time": "2018-02-28T20:16:43.632450Z"
    }
   },
   "outputs": [
    {
     "data": {
      "text/plain": [
       "[5666, 1, 1, 1, 1, 1, 1, 1, 1]"
      ]
     },
     "execution_count": 18,
     "metadata": {},
     "output_type": "execute_result"
    }
   ],
   "source": [
    "[len(c) for c in clusters]"
   ]
  },
  {
   "cell_type": "markdown",
   "metadata": {},
   "source": [
    "Yet an other hallmark of bad clustering: there is one big cluster."
   ]
  },
  {
   "cell_type": "markdown",
   "metadata": {},
   "source": [
    "## Cluster evaluation\n",
    "\n",
    "We just arrived at a few quality checks on a clustering: not too few, not too many, and not too large clusters.\n",
    "\n",
    "### Criteria\n",
    "Let's formalize what a good clustering is in terms of a few thresholds.\n",
    "\n",
    "These threshold restrain the number of clusters between a minimun and a maximum,\n",
    "and demand that the largest cluster is smaller than a certain size.\n",
    "\n",
    "All these thresholds are expressed in fractions of the total number of objects."
   ]
  },
  {
   "cell_type": "code",
   "execution_count": 19,
   "metadata": {
    "ExecuteTime": {
     "end_time": "2018-02-28T20:16:46.906987Z",
     "start_time": "2018-02-28T20:16:46.891229Z"
    }
   },
   "outputs": [],
   "source": [
    "N_MIN = 0.02 # at least 2% of amount of objects\n",
    "N_MAX = 0.4  # at most 40% of amount of objects\n",
    "SIZE_MAX = 0.7 # largest cluster at most 70% of the objects"
   ]
  },
  {
   "cell_type": "code",
   "execution_count": 20,
   "metadata": {
    "ExecuteTime": {
     "end_time": "2018-02-28T20:16:47.924780Z",
     "start_time": "2018-02-28T20:16:47.853858Z"
    }
   },
   "outputs": [],
   "source": [
    "def checkQuality(clusters, nodeType, nObjects):\n",
    "    nC = len(clusters)\n",
    "    amountClusters = nC / nObjects\n",
    "    largestCluster = max(len(cluster) for cluster in clusters)\n",
    "    sizeCluster = largestCluster / nObjects\n",
    "\n",
    "    flaws = {}\n",
    "    msgs = {}\n",
    "    if amountClusters < N_MIN:\n",
    "        msgs['amount'] = f'< {N_MIN:>4.2f}'\n",
    "        flaws['amount'] = 'TOO FEW'\n",
    "    elif amountClusters > N_MAX:\n",
    "        msgs['amount'] = f'> {N_MAX:>4.2f}'\n",
    "        flaws['amount'] = 'TOO MANY'\n",
    "    else:\n",
    "        msgs['amount'] = f'>= {N_MIN:>4.2f} and <= {N_MAX:>4.2f}'\n",
    "\n",
    "    if sizeCluster > SIZE_MAX:\n",
    "        msgs['size'] = f'> {SIZE_MAX:>4.2f}'\n",
    "        flaws['size'] = 'TOO LARGE'\n",
    "    else:\n",
    "        msgs['size'] = f'<= {SIZE_MAX:>4.2f}'\n",
    "        \n",
    "    info1 = f'{nC:>4} clusters for {nObjects:>4} objects'\n",
    "    info2 = f'largest cluster has size {largestCluster:>4}'\n",
    "    msg1 = f'{amountClusters:>4.2f} {msgs[\"amount\"]}'\n",
    "    msg2 = f'{sizeCluster:>4.2f} {msgs[\"size\"]}'\n",
    "    flaw1 = f'{flaws.get(\"amount\", \"OK\"):<10}'\n",
    "    flaw2 = f'{flaws.get(\"size\", \"OK\"):<10}'\n",
    "    \n",
    "    display(Markdown(f'''\n",
    "**Quality**\n",
    "\n",
    "* **{flaw1}** {info1:<40} relatively {msg1}\n",
    "* **{flaw2}** {info2:<40} relatively {msg2}\n",
    "'''))\n",
    "\n",
    "    return not flaws    "
   ]
  },
  {
   "cell_type": "code",
   "execution_count": 21,
   "metadata": {
    "ExecuteTime": {
     "end_time": "2018-02-28T20:16:50.035849Z",
     "start_time": "2018-02-28T20:16:50.012527Z"
    }
   },
   "outputs": [
    {
     "data": {
      "text/markdown": [
       "\n",
       "**Quality**\n",
       "\n",
       "* **TOO FEW   **    9 clusters for 5674 objects           relatively 0.00 < 0.02\n",
       "* **TOO LARGE ** largest cluster has size 5666            relatively 1.00 > 0.70\n"
      ],
      "text/plain": [
       "<IPython.core.display.Markdown object>"
      ]
     },
     "metadata": {},
     "output_type": "display_data"
    },
    {
     "data": {
      "text/plain": [
       "False"
      ]
     },
     "execution_count": 21,
     "metadata": {},
     "output_type": "execute_result"
    }
   ],
   "source": [
    "checkQuality(clusters, 'tablet', len(objects))"
   ]
  },
  {
   "cell_type": "markdown",
   "metadata": {},
   "source": [
    "### Threshold search\n",
    "\n",
    "We now run the clustering with a series of thresholds and evaluate the outcomes.\n",
    "\n",
    "If the resulting clustering does not pass the quality check, we discard it.\n",
    "Otherwise we retain it for later inspection.\n",
    "\n",
    "We show the statistics of each clustering (good or bad), and print\n",
    "the good clusterings to file.\n",
    "\n",
    "When we write clusterings, we leave out the singleton clusters and clusters that\n",
    "have half of the objects or more."
   ]
  },
  {
   "cell_type": "code",
   "execution_count": 22,
   "metadata": {
    "ExecuteTime": {
     "end_time": "2018-02-28T20:16:55.663325Z",
     "start_time": "2018-02-28T20:16:55.646371Z"
    }
   },
   "outputs": [],
   "source": [
    "CDLI_URL = 'https://cdli.ucla.edu/search/search_results.php?SearchMode=Text&ObjectID={}'\n",
    "CDLI_IMAGE_URL = 'https://cdli.ucla.edu/dl/photo/{}.jpg'"
   ]
  },
  {
   "cell_type": "code",
   "execution_count": 23,
   "metadata": {
    "ExecuteTime": {
     "end_time": "2018-02-28T20:16:56.573504Z",
     "start_time": "2018-02-28T20:16:56.402763Z"
    }
   },
   "outputs": [],
   "source": [
    "def experiment(objects, nodeType, threshold, verbose=True):\n",
    "    clusters = clustering(objects, nodeType, threshold, verbose=verbose)\n",
    "    if checkQuality(clusters, nodeType, len(objects)):\n",
    "        return clusters\n",
    "    return False\n",
    "\n",
    "def writeClustering(clusterings, signsFromObject, nodeType, idFeature, threshold):\n",
    "    clusterFile = f'{nodeType}-{threshold}.tsv'\n",
    "    clusterPath = f'{RESULT_DIR}/{clusterFile}'\n",
    "    with open(clusterPath, 'w') as fh:\n",
    "        fh.write(f'cluster\\t{nodeType}\\tobjectId\\tsigns\\n')\n",
    "        for (i, cluster) in enumerate(sorted(\n",
    "            clusterings[threshold],\n",
    "            key=lambda x: -len(x),\n",
    "        )):\n",
    "            if len(cluster) == 1 or len(cluster) >= 0.5 * len(signsFromObject):\n",
    "                continue\n",
    "            for obj in cluster:\n",
    "                objId = Fs(idFeature).v(obj)\n",
    "                signs = ' '.join(sorted(signsFromObject[obj]))\n",
    "                fh.write(f'{i}\\t{obj}\\t{objId}\\t{signs}\\n')\n",
    "    display(Markdown(\n",
    "f'''* see [{clusterFile}]({RESULT_GH}/{clusterFile})\n",
    "'''))\n",
    "    \n",
    "def showClustering(clusterings, signsFromObject, nodeType, idFeature, threshold):\n",
    "    clusters = clusterings[threshold]\n",
    "    display(Markdown(f'''\n",
    "### Clustering of {len(signsFromObject)} {nodeType}s => {len(clusters)}\n",
    "*Threshold* = `{threshold}`\n",
    "'''))\n",
    "    for (i, cluster) in enumerate(sorted(\n",
    "        clusters,\n",
    "        key=lambda x: -len(x),\n",
    "    )):\n",
    "        if len(cluster) == 1 or len(cluster) >= 0.5 * len(signsFromObject):\n",
    "            continue\n",
    "        display(Markdown(\n",
    "f'''##### cluster {i} with {len(cluster)} {nodeType}{\"\" if len(cluster) == 1 else \"s\"}\n",
    "'''))\n",
    "        for obj in cluster:\n",
    "            objId = Fs(idFeature).v(obj)\n",
    "            metaUrl = CDLI_URL.format(objId)\n",
    "            imageUrl = CDLI_IMAGE_URL.format(objId)\n",
    "            display(Markdown(\n",
    "f'''[{objId}]({imageUrl}) [metadata]({metaUrl})\n",
    "'''))\n",
    "    \n",
    "def experiments(clusterings, nodeType, idFeature, thresholds, verbose=False, showGood=1):\n",
    "    (signsFromObject, objectsFromSign, emptyObjects) = getSigns(nodeType)\n",
    "    objects = sorted(signsFromObject)\n",
    "    \n",
    "    shown = 0\n",
    "    for threshold in thresholds:\n",
    "        display(Markdown(f'''\n",
    "---\n",
    "\n",
    "**Experiment** {len(objects)} {nodeType}s *threshold* {threshold}\n",
    "'''))\n",
    "        clusters = experiment(objects, nodeType, threshold, verbose=verbose)\n",
    "        if clusters:\n",
    "            clusterings[threshold] = clusters\n",
    "            writeClustering(clusterings, signsFromObject, nodeType, idFeature, threshold)\n",
    "            if showGood and shown < showGood:\n",
    "                showClustering(clusterings, signsFromObject, nodeType, idFeature, threshold)\n",
    "                shown +=1\n",
    "\n",
    "    display(Markdown(f'''\n",
    "**Result** {len(clusterings)} good clustering{\"\" if len(clusterings) == 1 else \"s\"}.\n",
    "'''))"
   ]
  },
  {
   "cell_type": "code",
   "execution_count": 24,
   "metadata": {
    "ExecuteTime": {
     "end_time": "2018-02-28T20:16:57.985603Z",
     "start_time": "2018-02-28T20:16:57.969594Z"
    }
   },
   "outputs": [],
   "source": [
    "clusterings = {}"
   ]
  },
  {
   "cell_type": "markdown",
   "metadata": {},
   "source": [
    "First we walk through parameter space in big steps."
   ]
  },
  {
   "cell_type": "code",
   "execution_count": 25,
   "metadata": {
    "ExecuteTime": {
     "end_time": "2018-02-28T20:18:33.766165Z",
     "start_time": "2018-02-28T20:17:01.523756Z"
    }
   },
   "outputs": [
    {
     "data": {
      "text/markdown": [
       "\n",
       "**Preparation** 5674 tablets =>\n",
       "1526 distinct signs'\n",
       "\n",
       "(722 empty tablets out of 6396)\n",
       "\n"
      ],
      "text/plain": [
       "<IPython.core.display.Markdown object>"
      ]
     },
     "metadata": {},
     "output_type": "display_data"
    },
    {
     "data": {
      "text/markdown": [
       "\n",
       "---\n",
       "\n",
       "**Experiment** 5674 tablets *threshold* 0.1\n"
      ],
      "text/plain": [
       "<IPython.core.display.Markdown object>"
      ]
     },
     "metadata": {},
     "output_type": "display_data"
    },
    {
     "data": {
      "text/markdown": [
       "\n",
       "**clustering** 5674 tablets => 9 clusters, *threshold* 0.1\n"
      ],
      "text/plain": [
       "<IPython.core.display.Markdown object>"
      ]
     },
     "metadata": {},
     "output_type": "display_data"
    },
    {
     "data": {
      "text/markdown": [
       "\n",
       "**Quality**\n",
       "\n",
       "* **TOO FEW   **    9 clusters for 5674 objects           relatively 0.00 < 0.02\n",
       "* **TOO LARGE ** largest cluster has size 5666            relatively 1.00 > 0.70\n"
      ],
      "text/plain": [
       "<IPython.core.display.Markdown object>"
      ]
     },
     "metadata": {},
     "output_type": "display_data"
    },
    {
     "data": {
      "text/markdown": [
       "\n",
       "---\n",
       "\n",
       "**Experiment** 5674 tablets *threshold* 0.2\n"
      ],
      "text/plain": [
       "<IPython.core.display.Markdown object>"
      ]
     },
     "metadata": {},
     "output_type": "display_data"
    },
    {
     "data": {
      "text/markdown": [
       "\n",
       "**clustering** 5674 tablets => 42 clusters, *threshold* 0.2\n"
      ],
      "text/plain": [
       "<IPython.core.display.Markdown object>"
      ]
     },
     "metadata": {},
     "output_type": "display_data"
    },
    {
     "data": {
      "text/markdown": [
       "\n",
       "**Quality**\n",
       "\n",
       "* **TOO FEW   **   42 clusters for 5674 objects           relatively 0.01 < 0.02\n",
       "* **TOO LARGE ** largest cluster has size 5633            relatively 0.99 > 0.70\n"
      ],
      "text/plain": [
       "<IPython.core.display.Markdown object>"
      ]
     },
     "metadata": {},
     "output_type": "display_data"
    },
    {
     "data": {
      "text/markdown": [
       "\n",
       "---\n",
       "\n",
       "**Experiment** 5674 tablets *threshold* 0.3\n"
      ],
      "text/plain": [
       "<IPython.core.display.Markdown object>"
      ]
     },
     "metadata": {},
     "output_type": "display_data"
    },
    {
     "data": {
      "text/markdown": [
       "\n",
       "**clustering** 5674 tablets => 1045 clusters, *threshold* 0.3\n"
      ],
      "text/plain": [
       "<IPython.core.display.Markdown object>"
      ]
     },
     "metadata": {},
     "output_type": "display_data"
    },
    {
     "data": {
      "text/markdown": [
       "\n",
       "**Quality**\n",
       "\n",
       "* **OK        ** 1045 clusters for 5674 objects           relatively 0.18 >= 0.02 and <= 0.40\n",
       "* **TOO LARGE ** largest cluster has size 4502            relatively 0.79 > 0.70\n"
      ],
      "text/plain": [
       "<IPython.core.display.Markdown object>"
      ]
     },
     "metadata": {},
     "output_type": "display_data"
    },
    {
     "data": {
      "text/markdown": [
       "\n",
       "---\n",
       "\n",
       "**Experiment** 5674 tablets *threshold* 0.4\n"
      ],
      "text/plain": [
       "<IPython.core.display.Markdown object>"
      ]
     },
     "metadata": {},
     "output_type": "display_data"
    },
    {
     "data": {
      "text/markdown": [
       "\n",
       "**clustering** 5674 tablets => 2576 clusters, *threshold* 0.4\n"
      ],
      "text/plain": [
       "<IPython.core.display.Markdown object>"
      ]
     },
     "metadata": {},
     "output_type": "display_data"
    },
    {
     "data": {
      "text/markdown": [
       "\n",
       "**Quality**\n",
       "\n",
       "* **TOO MANY  ** 2576 clusters for 5674 objects           relatively 0.45 > 0.40\n",
       "* **OK        ** largest cluster has size 2882            relatively 0.51 <= 0.70\n"
      ],
      "text/plain": [
       "<IPython.core.display.Markdown object>"
      ]
     },
     "metadata": {},
     "output_type": "display_data"
    },
    {
     "data": {
      "text/markdown": [
       "\n",
       "---\n",
       "\n",
       "**Experiment** 5674 tablets *threshold* 0.5\n"
      ],
      "text/plain": [
       "<IPython.core.display.Markdown object>"
      ]
     },
     "metadata": {},
     "output_type": "display_data"
    },
    {
     "data": {
      "text/markdown": [
       "\n",
       "**clustering** 5674 tablets => 3426 clusters, *threshold* 0.5\n"
      ],
      "text/plain": [
       "<IPython.core.display.Markdown object>"
      ]
     },
     "metadata": {},
     "output_type": "display_data"
    },
    {
     "data": {
      "text/markdown": [
       "\n",
       "**Quality**\n",
       "\n",
       "* **TOO MANY  ** 3426 clusters for 5674 objects           relatively 0.60 > 0.40\n",
       "* **OK        ** largest cluster has size 2042            relatively 0.36 <= 0.70\n"
      ],
      "text/plain": [
       "<IPython.core.display.Markdown object>"
      ]
     },
     "metadata": {},
     "output_type": "display_data"
    },
    {
     "data": {
      "text/markdown": [
       "\n",
       "---\n",
       "\n",
       "**Experiment** 5674 tablets *threshold* 0.6\n"
      ],
      "text/plain": [
       "<IPython.core.display.Markdown object>"
      ]
     },
     "metadata": {},
     "output_type": "display_data"
    },
    {
     "data": {
      "text/markdown": [
       "\n",
       "**clustering** 5674 tablets => 4571 clusters, *threshold* 0.6\n"
      ],
      "text/plain": [
       "<IPython.core.display.Markdown object>"
      ]
     },
     "metadata": {},
     "output_type": "display_data"
    },
    {
     "data": {
      "text/markdown": [
       "\n",
       "**Quality**\n",
       "\n",
       "* **TOO MANY  ** 4571 clusters for 5674 objects           relatively 0.81 > 0.40\n",
       "* **OK        ** largest cluster has size  467            relatively 0.08 <= 0.70\n"
      ],
      "text/plain": [
       "<IPython.core.display.Markdown object>"
      ]
     },
     "metadata": {},
     "output_type": "display_data"
    },
    {
     "data": {
      "text/markdown": [
       "\n",
       "---\n",
       "\n",
       "**Experiment** 5674 tablets *threshold* 0.7\n"
      ],
      "text/plain": [
       "<IPython.core.display.Markdown object>"
      ]
     },
     "metadata": {},
     "output_type": "display_data"
    },
    {
     "data": {
      "text/markdown": [
       "\n",
       "**clustering** 5674 tablets => 5116 clusters, *threshold* 0.7\n"
      ],
      "text/plain": [
       "<IPython.core.display.Markdown object>"
      ]
     },
     "metadata": {},
     "output_type": "display_data"
    },
    {
     "data": {
      "text/markdown": [
       "\n",
       "**Quality**\n",
       "\n",
       "* **TOO MANY  ** 5116 clusters for 5674 objects           relatively 0.90 > 0.40\n",
       "* **OK        ** largest cluster has size   81            relatively 0.01 <= 0.70\n"
      ],
      "text/plain": [
       "<IPython.core.display.Markdown object>"
      ]
     },
     "metadata": {},
     "output_type": "display_data"
    },
    {
     "data": {
      "text/markdown": [
       "\n",
       "**Result** 0 good clusterings.\n"
      ],
      "text/plain": [
       "<IPython.core.display.Markdown object>"
      ]
     },
     "metadata": {},
     "output_type": "display_data"
    }
   ],
   "source": [
    "experiments(clusterings, 'tablet', 'catalogId', [i/10 for i in range(1, 8)])"
   ]
  },
  {
   "cell_type": "markdown",
   "metadata": {},
   "source": [
    "Disappointingly, we found\n",
    "not a single clusterings that we can write home about.\n",
    "\n",
    "However, between thresholds 0.3 and 0.4 we crossed an interesting boundary.\n",
    "\n",
    "Let's explore that fragment of parameter space more closely."
   ]
  },
  {
   "cell_type": "code",
   "execution_count": 26,
   "metadata": {
    "ExecuteTime": {
     "end_time": "2018-02-28T20:22:16.865814Z",
     "start_time": "2018-02-28T20:19:55.677019Z"
    },
    "scrolled": false
   },
   "outputs": [
    {
     "data": {
      "text/markdown": [
       "\n",
       "**Preparation** 5674 tablets =>\n",
       "1526 distinct signs'\n",
       "\n",
       "(722 empty tablets out of 6396)\n",
       "\n"
      ],
      "text/plain": [
       "<IPython.core.display.Markdown object>"
      ]
     },
     "metadata": {},
     "output_type": "display_data"
    },
    {
     "data": {
      "text/markdown": [
       "\n",
       "---\n",
       "\n",
       "**Experiment** 5674 tablets *threshold* 0.31\n"
      ],
      "text/plain": [
       "<IPython.core.display.Markdown object>"
      ]
     },
     "metadata": {},
     "output_type": "display_data"
    },
    {
     "data": {
      "text/markdown": [
       "\n",
       "**clustering** 5674 tablets => 1265 clusters, *threshold* 0.31\n"
      ],
      "text/plain": [
       "<IPython.core.display.Markdown object>"
      ]
     },
     "metadata": {},
     "output_type": "display_data"
    },
    {
     "data": {
      "text/markdown": [
       "\n",
       "**Quality**\n",
       "\n",
       "* **OK        ** 1265 clusters for 5674 objects           relatively 0.22 >= 0.02 and <= 0.40\n",
       "* **TOO LARGE ** largest cluster has size 4286            relatively 0.76 > 0.70\n"
      ],
      "text/plain": [
       "<IPython.core.display.Markdown object>"
      ]
     },
     "metadata": {},
     "output_type": "display_data"
    },
    {
     "data": {
      "text/markdown": [
       "\n",
       "---\n",
       "\n",
       "**Experiment** 5674 tablets *threshold* 0.32\n"
      ],
      "text/plain": [
       "<IPython.core.display.Markdown object>"
      ]
     },
     "metadata": {},
     "output_type": "display_data"
    },
    {
     "data": {
      "text/markdown": [
       "\n",
       "**clustering** 5674 tablets => 1384 clusters, *threshold* 0.32\n"
      ],
      "text/plain": [
       "<IPython.core.display.Markdown object>"
      ]
     },
     "metadata": {},
     "output_type": "display_data"
    },
    {
     "data": {
      "text/markdown": [
       "\n",
       "**Quality**\n",
       "\n",
       "* **OK        ** 1384 clusters for 5674 objects           relatively 0.24 >= 0.02 and <= 0.40\n",
       "* **TOO LARGE ** largest cluster has size 4147            relatively 0.73 > 0.70\n"
      ],
      "text/plain": [
       "<IPython.core.display.Markdown object>"
      ]
     },
     "metadata": {},
     "output_type": "display_data"
    },
    {
     "data": {
      "text/markdown": [
       "\n",
       "---\n",
       "\n",
       "**Experiment** 5674 tablets *threshold* 0.33\n"
      ],
      "text/plain": [
       "<IPython.core.display.Markdown object>"
      ]
     },
     "metadata": {},
     "output_type": "display_data"
    },
    {
     "data": {
      "text/markdown": [
       "\n",
       "**clustering** 5674 tablets => 1437 clusters, *threshold* 0.33\n"
      ],
      "text/plain": [
       "<IPython.core.display.Markdown object>"
      ]
     },
     "metadata": {},
     "output_type": "display_data"
    },
    {
     "data": {
      "text/markdown": [
       "\n",
       "**Quality**\n",
       "\n",
       "* **OK        ** 1437 clusters for 5674 objects           relatively 0.25 >= 0.02 and <= 0.40\n",
       "* **TOO LARGE ** largest cluster has size 4071            relatively 0.72 > 0.70\n"
      ],
      "text/plain": [
       "<IPython.core.display.Markdown object>"
      ]
     },
     "metadata": {},
     "output_type": "display_data"
    },
    {
     "data": {
      "text/markdown": [
       "\n",
       "---\n",
       "\n",
       "**Experiment** 5674 tablets *threshold* 0.34\n"
      ],
      "text/plain": [
       "<IPython.core.display.Markdown object>"
      ]
     },
     "metadata": {},
     "output_type": "display_data"
    },
    {
     "data": {
      "text/markdown": [
       "\n",
       "**clustering** 5674 tablets => 2043 clusters, *threshold* 0.34\n"
      ],
      "text/plain": [
       "<IPython.core.display.Markdown object>"
      ]
     },
     "metadata": {},
     "output_type": "display_data"
    },
    {
     "data": {
      "text/markdown": [
       "\n",
       "**Quality**\n",
       "\n",
       "* **OK        ** 2043 clusters for 5674 objects           relatively 0.36 >= 0.02 and <= 0.40\n",
       "* **OK        ** largest cluster has size 3394            relatively 0.60 <= 0.70\n"
      ],
      "text/plain": [
       "<IPython.core.display.Markdown object>"
      ]
     },
     "metadata": {},
     "output_type": "display_data"
    },
    {
     "data": {
      "text/markdown": [
       "* see [tablet-0.34.tsv](https://github.com/Dans-labs/Nino-cunei/blob/master/reports/clustering/tablet-0.34.tsv)\n"
      ],
      "text/plain": [
       "<IPython.core.display.Markdown object>"
      ]
     },
     "metadata": {},
     "output_type": "display_data"
    },
    {
     "data": {
      "text/markdown": [
       "\n",
       "### Clustering of 5674 tablets => 2043\n",
       "*Threshold* = `0.34`\n"
      ],
      "text/plain": [
       "<IPython.core.display.Markdown object>"
      ]
     },
     "metadata": {},
     "output_type": "display_data"
    },
    {
     "data": {
      "text/markdown": [
       "##### cluster 1 with 11 tablets\n"
      ],
      "text/plain": [
       "<IPython.core.display.Markdown object>"
      ]
     },
     "metadata": {},
     "output_type": "display_data"
    },
    {
     "data": {
      "text/markdown": [
       "[P325738](https://cdli.ucla.edu/dl/photo/P325738.jpg) [metadata](https://cdli.ucla.edu/search/search_results.php?SearchMode=Text&ObjectID=P325738)\n"
      ],
      "text/plain": [
       "<IPython.core.display.Markdown object>"
      ]
     },
     "metadata": {},
     "output_type": "display_data"
    },
    {
     "data": {
      "text/markdown": [
       "[P325223](https://cdli.ucla.edu/dl/photo/P325223.jpg) [metadata](https://cdli.ucla.edu/search/search_results.php?SearchMode=Text&ObjectID=P325223)\n"
      ],
      "text/plain": [
       "<IPython.core.display.Markdown object>"
      ]
     },
     "metadata": {},
     "output_type": "display_data"
    },
    {
     "data": {
      "text/markdown": [
       "[P325233](https://cdli.ucla.edu/dl/photo/P325233.jpg) [metadata](https://cdli.ucla.edu/search/search_results.php?SearchMode=Text&ObjectID=P325233)\n"
      ],
      "text/plain": [
       "<IPython.core.display.Markdown object>"
      ]
     },
     "metadata": {},
     "output_type": "display_data"
    },
    {
     "data": {
      "text/markdown": [
       "[P387744](https://cdli.ucla.edu/dl/photo/P387744.jpg) [metadata](https://cdli.ucla.edu/search/search_results.php?SearchMode=Text&ObjectID=P387744)\n"
      ],
      "text/plain": [
       "<IPython.core.display.Markdown object>"
      ]
     },
     "metadata": {},
     "output_type": "display_data"
    },
    {
     "data": {
      "text/markdown": [
       "[P464169](https://cdli.ucla.edu/dl/photo/P464169.jpg) [metadata](https://cdli.ucla.edu/search/search_results.php?SearchMode=Text&ObjectID=P464169)\n"
      ],
      "text/plain": [
       "<IPython.core.display.Markdown object>"
      ]
     },
     "metadata": {},
     "output_type": "display_data"
    },
    {
     "data": {
      "text/markdown": [
       "[P464181](https://cdli.ucla.edu/dl/photo/P464181.jpg) [metadata](https://cdli.ucla.edu/search/search_results.php?SearchMode=Text&ObjectID=P464181)\n"
      ],
      "text/plain": [
       "<IPython.core.display.Markdown object>"
      ]
     },
     "metadata": {},
     "output_type": "display_data"
    },
    {
     "data": {
      "text/markdown": [
       "[P464182](https://cdli.ucla.edu/dl/photo/P464182.jpg) [metadata](https://cdli.ucla.edu/search/search_results.php?SearchMode=Text&ObjectID=P464182)\n"
      ],
      "text/plain": [
       "<IPython.core.display.Markdown object>"
      ]
     },
     "metadata": {},
     "output_type": "display_data"
    },
    {
     "data": {
      "text/markdown": [
       "[P005445](https://cdli.ucla.edu/dl/photo/P005445.jpg) [metadata](https://cdli.ucla.edu/search/search_results.php?SearchMode=Text&ObjectID=P005445)\n"
      ],
      "text/plain": [
       "<IPython.core.display.Markdown object>"
      ]
     },
     "metadata": {},
     "output_type": "display_data"
    },
    {
     "data": {
      "text/markdown": [
       "[P005447](https://cdli.ucla.edu/dl/photo/P005447.jpg) [metadata](https://cdli.ucla.edu/search/search_results.php?SearchMode=Text&ObjectID=P005447)\n"
      ],
      "text/plain": [
       "<IPython.core.display.Markdown object>"
      ]
     },
     "metadata": {},
     "output_type": "display_data"
    },
    {
     "data": {
      "text/markdown": [
       "[P005450](https://cdli.ucla.edu/dl/photo/P005450.jpg) [metadata](https://cdli.ucla.edu/search/search_results.php?SearchMode=Text&ObjectID=P005450)\n"
      ],
      "text/plain": [
       "<IPython.core.display.Markdown object>"
      ]
     },
     "metadata": {},
     "output_type": "display_data"
    },
    {
     "data": {
      "text/markdown": [
       "[P005464](https://cdli.ucla.edu/dl/photo/P005464.jpg) [metadata](https://cdli.ucla.edu/search/search_results.php?SearchMode=Text&ObjectID=P005464)\n"
      ],
      "text/plain": [
       "<IPython.core.display.Markdown object>"
      ]
     },
     "metadata": {},
     "output_type": "display_data"
    },
    {
     "data": {
      "text/markdown": [
       "##### cluster 2 with 11 tablets\n"
      ],
      "text/plain": [
       "<IPython.core.display.Markdown object>"
      ]
     },
     "metadata": {},
     "output_type": "display_data"
    },
    {
     "data": {
      "text/markdown": [
       "[P005152](https://cdli.ucla.edu/dl/photo/P005152.jpg) [metadata](https://cdli.ucla.edu/search/search_results.php?SearchMode=Text&ObjectID=P005152)\n"
      ],
      "text/plain": [
       "<IPython.core.display.Markdown object>"
      ]
     },
     "metadata": {},
     "output_type": "display_data"
    },
    {
     "data": {
      "text/markdown": [
       "[P005153](https://cdli.ucla.edu/dl/photo/P005153.jpg) [metadata](https://cdli.ucla.edu/search/search_results.php?SearchMode=Text&ObjectID=P005153)\n"
      ],
      "text/plain": [
       "<IPython.core.display.Markdown object>"
      ]
     },
     "metadata": {},
     "output_type": "display_data"
    },
    {
     "data": {
      "text/markdown": [
       "[P005154](https://cdli.ucla.edu/dl/photo/P005154.jpg) [metadata](https://cdli.ucla.edu/search/search_results.php?SearchMode=Text&ObjectID=P005154)\n"
      ],
      "text/plain": [
       "<IPython.core.display.Markdown object>"
      ]
     },
     "metadata": {},
     "output_type": "display_data"
    },
    {
     "data": {
      "text/markdown": [
       "[P005156](https://cdli.ucla.edu/dl/photo/P005156.jpg) [metadata](https://cdli.ucla.edu/search/search_results.php?SearchMode=Text&ObjectID=P005156)\n"
      ],
      "text/plain": [
       "<IPython.core.display.Markdown object>"
      ]
     },
     "metadata": {},
     "output_type": "display_data"
    },
    {
     "data": {
      "text/markdown": [
       "[P005157](https://cdli.ucla.edu/dl/photo/P005157.jpg) [metadata](https://cdli.ucla.edu/search/search_results.php?SearchMode=Text&ObjectID=P005157)\n"
      ],
      "text/plain": [
       "<IPython.core.display.Markdown object>"
      ]
     },
     "metadata": {},
     "output_type": "display_data"
    },
    {
     "data": {
      "text/markdown": [
       "[P005161](https://cdli.ucla.edu/dl/photo/P005161.jpg) [metadata](https://cdli.ucla.edu/search/search_results.php?SearchMode=Text&ObjectID=P005161)\n"
      ],
      "text/plain": [
       "<IPython.core.display.Markdown object>"
      ]
     },
     "metadata": {},
     "output_type": "display_data"
    },
    {
     "data": {
      "text/markdown": [
       "[P005162](https://cdli.ucla.edu/dl/photo/P005162.jpg) [metadata](https://cdli.ucla.edu/search/search_results.php?SearchMode=Text&ObjectID=P005162)\n"
      ],
      "text/plain": [
       "<IPython.core.display.Markdown object>"
      ]
     },
     "metadata": {},
     "output_type": "display_data"
    },
    {
     "data": {
      "text/markdown": [
       "[P005163](https://cdli.ucla.edu/dl/photo/P005163.jpg) [metadata](https://cdli.ucla.edu/search/search_results.php?SearchMode=Text&ObjectID=P005163)\n"
      ],
      "text/plain": [
       "<IPython.core.display.Markdown object>"
      ]
     },
     "metadata": {},
     "output_type": "display_data"
    },
    {
     "data": {
      "text/markdown": [
       "[P005164](https://cdli.ucla.edu/dl/photo/P005164.jpg) [metadata](https://cdli.ucla.edu/search/search_results.php?SearchMode=Text&ObjectID=P005164)\n"
      ],
      "text/plain": [
       "<IPython.core.display.Markdown object>"
      ]
     },
     "metadata": {},
     "output_type": "display_data"
    },
    {
     "data": {
      "text/markdown": [
       "[P005166](https://cdli.ucla.edu/dl/photo/P005166.jpg) [metadata](https://cdli.ucla.edu/search/search_results.php?SearchMode=Text&ObjectID=P005166)\n"
      ],
      "text/plain": [
       "<IPython.core.display.Markdown object>"
      ]
     },
     "metadata": {},
     "output_type": "display_data"
    },
    {
     "data": {
      "text/markdown": [
       "[P005167](https://cdli.ucla.edu/dl/photo/P005167.jpg) [metadata](https://cdli.ucla.edu/search/search_results.php?SearchMode=Text&ObjectID=P005167)\n"
      ],
      "text/plain": [
       "<IPython.core.display.Markdown object>"
      ]
     },
     "metadata": {},
     "output_type": "display_data"
    },
    {
     "data": {
      "text/markdown": [
       "##### cluster 3 with 10 tablets\n"
      ],
      "text/plain": [
       "<IPython.core.display.Markdown object>"
      ]
     },
     "metadata": {},
     "output_type": "display_data"
    },
    {
     "data": {
      "text/markdown": [
       "[P325064](https://cdli.ucla.edu/dl/photo/P325064.jpg) [metadata](https://cdli.ucla.edu/search/search_results.php?SearchMode=Text&ObjectID=P325064)\n"
      ],
      "text/plain": [
       "<IPython.core.display.Markdown object>"
      ]
     },
     "metadata": {},
     "output_type": "display_data"
    },
    {
     "data": {
      "text/markdown": [
       "[P005160](https://cdli.ucla.edu/dl/photo/P005160.jpg) [metadata](https://cdli.ucla.edu/search/search_results.php?SearchMode=Text&ObjectID=P005160)\n"
      ],
      "text/plain": [
       "<IPython.core.display.Markdown object>"
      ]
     },
     "metadata": {},
     "output_type": "display_data"
    },
    {
     "data": {
      "text/markdown": [
       "[P005170](https://cdli.ucla.edu/dl/photo/P005170.jpg) [metadata](https://cdli.ucla.edu/search/search_results.php?SearchMode=Text&ObjectID=P005170)\n"
      ],
      "text/plain": [
       "<IPython.core.display.Markdown object>"
      ]
     },
     "metadata": {},
     "output_type": "display_data"
    },
    {
     "data": {
      "text/markdown": [
       "[P005174](https://cdli.ucla.edu/dl/photo/P005174.jpg) [metadata](https://cdli.ucla.edu/search/search_results.php?SearchMode=Text&ObjectID=P005174)\n"
      ],
      "text/plain": [
       "<IPython.core.display.Markdown object>"
      ]
     },
     "metadata": {},
     "output_type": "display_data"
    },
    {
     "data": {
      "text/markdown": [
       "[P005175](https://cdli.ucla.edu/dl/photo/P005175.jpg) [metadata](https://cdli.ucla.edu/search/search_results.php?SearchMode=Text&ObjectID=P005175)\n"
      ],
      "text/plain": [
       "<IPython.core.display.Markdown object>"
      ]
     },
     "metadata": {},
     "output_type": "display_data"
    },
    {
     "data": {
      "text/markdown": [
       "[P005176](https://cdli.ucla.edu/dl/photo/P005176.jpg) [metadata](https://cdli.ucla.edu/search/search_results.php?SearchMode=Text&ObjectID=P005176)\n"
      ],
      "text/plain": [
       "<IPython.core.display.Markdown object>"
      ]
     },
     "metadata": {},
     "output_type": "display_data"
    },
    {
     "data": {
      "text/markdown": [
       "[P005178](https://cdli.ucla.edu/dl/photo/P005178.jpg) [metadata](https://cdli.ucla.edu/search/search_results.php?SearchMode=Text&ObjectID=P005178)\n"
      ],
      "text/plain": [
       "<IPython.core.display.Markdown object>"
      ]
     },
     "metadata": {},
     "output_type": "display_data"
    },
    {
     "data": {
      "text/markdown": [
       "[P005202](https://cdli.ucla.edu/dl/photo/P005202.jpg) [metadata](https://cdli.ucla.edu/search/search_results.php?SearchMode=Text&ObjectID=P005202)\n"
      ],
      "text/plain": [
       "<IPython.core.display.Markdown object>"
      ]
     },
     "metadata": {},
     "output_type": "display_data"
    },
    {
     "data": {
      "text/markdown": [
       "[P005227](https://cdli.ucla.edu/dl/photo/P005227.jpg) [metadata](https://cdli.ucla.edu/search/search_results.php?SearchMode=Text&ObjectID=P005227)\n"
      ],
      "text/plain": [
       "<IPython.core.display.Markdown object>"
      ]
     },
     "metadata": {},
     "output_type": "display_data"
    },
    {
     "data": {
      "text/markdown": [
       "[P005246](https://cdli.ucla.edu/dl/photo/P005246.jpg) [metadata](https://cdli.ucla.edu/search/search_results.php?SearchMode=Text&ObjectID=P005246)\n"
      ],
      "text/plain": [
       "<IPython.core.display.Markdown object>"
      ]
     },
     "metadata": {},
     "output_type": "display_data"
    },
    {
     "data": {
      "text/markdown": [
       "##### cluster 4 with 8 tablets\n"
      ],
      "text/plain": [
       "<IPython.core.display.Markdown object>"
      ]
     },
     "metadata": {},
     "output_type": "display_data"
    },
    {
     "data": {
      "text/markdown": [
       "[P471683](https://cdli.ucla.edu/dl/photo/P471683.jpg) [metadata](https://cdli.ucla.edu/search/search_results.php?SearchMode=Text&ObjectID=P471683)\n"
      ],
      "text/plain": [
       "<IPython.core.display.Markdown object>"
      ]
     },
     "metadata": {},
     "output_type": "display_data"
    },
    {
     "data": {
      "text/markdown": [
       "[P000526](https://cdli.ucla.edu/dl/photo/P000526.jpg) [metadata](https://cdli.ucla.edu/search/search_results.php?SearchMode=Text&ObjectID=P000526)\n"
      ],
      "text/plain": [
       "<IPython.core.display.Markdown object>"
      ]
     },
     "metadata": {},
     "output_type": "display_data"
    },
    {
     "data": {
      "text/markdown": [
       "[P000577](https://cdli.ucla.edu/dl/photo/P000577.jpg) [metadata](https://cdli.ucla.edu/search/search_results.php?SearchMode=Text&ObjectID=P000577)\n"
      ],
      "text/plain": [
       "<IPython.core.display.Markdown object>"
      ]
     },
     "metadata": {},
     "output_type": "display_data"
    },
    {
     "data": {
      "text/markdown": [
       "[P000311](https://cdli.ucla.edu/dl/photo/P000311.jpg) [metadata](https://cdli.ucla.edu/search/search_results.php?SearchMode=Text&ObjectID=P000311)\n"
      ],
      "text/plain": [
       "<IPython.core.display.Markdown object>"
      ]
     },
     "metadata": {},
     "output_type": "display_data"
    },
    {
     "data": {
      "text/markdown": [
       "[P000534](https://cdli.ucla.edu/dl/photo/P000534.jpg) [metadata](https://cdli.ucla.edu/search/search_results.php?SearchMode=Text&ObjectID=P000534)\n"
      ],
      "text/plain": [
       "<IPython.core.display.Markdown object>"
      ]
     },
     "metadata": {},
     "output_type": "display_data"
    },
    {
     "data": {
      "text/markdown": [
       "[P000160](https://cdli.ucla.edu/dl/photo/P000160.jpg) [metadata](https://cdli.ucla.edu/search/search_results.php?SearchMode=Text&ObjectID=P000160)\n"
      ],
      "text/plain": [
       "<IPython.core.display.Markdown object>"
      ]
     },
     "metadata": {},
     "output_type": "display_data"
    },
    {
     "data": {
      "text/markdown": [
       "[P000319](https://cdli.ucla.edu/dl/photo/P000319.jpg) [metadata](https://cdli.ucla.edu/search/search_results.php?SearchMode=Text&ObjectID=P000319)\n"
      ],
      "text/plain": [
       "<IPython.core.display.Markdown object>"
      ]
     },
     "metadata": {},
     "output_type": "display_data"
    },
    {
     "data": {
      "text/markdown": [
       "[P000533](https://cdli.ucla.edu/dl/photo/P000533.jpg) [metadata](https://cdli.ucla.edu/search/search_results.php?SearchMode=Text&ObjectID=P000533)\n"
      ],
      "text/plain": [
       "<IPython.core.display.Markdown object>"
      ]
     },
     "metadata": {},
     "output_type": "display_data"
    },
    {
     "data": {
      "text/markdown": [
       "##### cluster 5 with 8 tablets\n"
      ],
      "text/plain": [
       "<IPython.core.display.Markdown object>"
      ]
     },
     "metadata": {},
     "output_type": "display_data"
    },
    {
     "data": {
      "text/markdown": [
       "[P325362](https://cdli.ucla.edu/dl/photo/P325362.jpg) [metadata](https://cdli.ucla.edu/search/search_results.php?SearchMode=Text&ObjectID=P325362)\n"
      ],
      "text/plain": [
       "<IPython.core.display.Markdown object>"
      ]
     },
     "metadata": {},
     "output_type": "display_data"
    },
    {
     "data": {
      "text/markdown": [
       "[P325234](https://cdli.ucla.edu/dl/photo/P325234.jpg) [metadata](https://cdli.ucla.edu/search/search_results.php?SearchMode=Text&ObjectID=P325234)\n"
      ],
      "text/plain": [
       "<IPython.core.display.Markdown object>"
      ]
     },
     "metadata": {},
     "output_type": "display_data"
    },
    {
     "data": {
      "text/markdown": [
       "[P325229](https://cdli.ucla.edu/dl/photo/P325229.jpg) [metadata](https://cdli.ucla.edu/search/search_results.php?SearchMode=Text&ObjectID=P325229)\n"
      ],
      "text/plain": [
       "<IPython.core.display.Markdown object>"
      ]
     },
     "metadata": {},
     "output_type": "display_data"
    },
    {
     "data": {
      "text/markdown": [
       "[P330049](https://cdli.ucla.edu/dl/photo/P330049.jpg) [metadata](https://cdli.ucla.edu/search/search_results.php?SearchMode=Text&ObjectID=P330049)\n"
      ],
      "text/plain": [
       "<IPython.core.display.Markdown object>"
      ]
     },
     "metadata": {},
     "output_type": "display_data"
    },
    {
     "data": {
      "text/markdown": [
       "[P325069](https://cdli.ucla.edu/dl/photo/P325069.jpg) [metadata](https://cdli.ucla.edu/search/search_results.php?SearchMode=Text&ObjectID=P325069)\n"
      ],
      "text/plain": [
       "<IPython.core.display.Markdown object>"
      ]
     },
     "metadata": {},
     "output_type": "display_data"
    },
    {
     "data": {
      "text/markdown": [
       "[P006381](https://cdli.ucla.edu/dl/photo/P006381.jpg) [metadata](https://cdli.ucla.edu/search/search_results.php?SearchMode=Text&ObjectID=P006381)\n"
      ],
      "text/plain": [
       "<IPython.core.display.Markdown object>"
      ]
     },
     "metadata": {},
     "output_type": "display_data"
    },
    {
     "data": {
      "text/markdown": [
       "[P006384](https://cdli.ucla.edu/dl/photo/P006384.jpg) [metadata](https://cdli.ucla.edu/search/search_results.php?SearchMode=Text&ObjectID=P006384)\n"
      ],
      "text/plain": [
       "<IPython.core.display.Markdown object>"
      ]
     },
     "metadata": {},
     "output_type": "display_data"
    },
    {
     "data": {
      "text/markdown": [
       "[P006391](https://cdli.ucla.edu/dl/photo/P006391.jpg) [metadata](https://cdli.ucla.edu/search/search_results.php?SearchMode=Text&ObjectID=P006391)\n"
      ],
      "text/plain": [
       "<IPython.core.display.Markdown object>"
      ]
     },
     "metadata": {},
     "output_type": "display_data"
    },
    {
     "data": {
      "text/markdown": [
       "##### cluster 6 with 6 tablets\n"
      ],
      "text/plain": [
       "<IPython.core.display.Markdown object>"
      ]
     },
     "metadata": {},
     "output_type": "display_data"
    },
    {
     "data": {
      "text/markdown": [
       "[P004461](https://cdli.ucla.edu/dl/photo/P004461.jpg) [metadata](https://cdli.ucla.edu/search/search_results.php?SearchMode=Text&ObjectID=P004461)\n"
      ],
      "text/plain": [
       "<IPython.core.display.Markdown object>"
      ]
     },
     "metadata": {},
     "output_type": "display_data"
    },
    {
     "data": {
      "text/markdown": [
       "[P283915](https://cdli.ucla.edu/dl/photo/P283915.jpg) [metadata](https://cdli.ucla.edu/search/search_results.php?SearchMode=Text&ObjectID=P283915)\n"
      ],
      "text/plain": [
       "<IPython.core.display.Markdown object>"
      ]
     },
     "metadata": {},
     "output_type": "display_data"
    },
    {
     "data": {
      "text/markdown": [
       "[P328735](https://cdli.ucla.edu/dl/photo/P328735.jpg) [metadata](https://cdli.ucla.edu/search/search_results.php?SearchMode=Text&ObjectID=P328735)\n"
      ],
      "text/plain": [
       "<IPython.core.display.Markdown object>"
      ]
     },
     "metadata": {},
     "output_type": "display_data"
    },
    {
     "data": {
      "text/markdown": [
       "[P006299](https://cdli.ucla.edu/dl/photo/P006299.jpg) [metadata](https://cdli.ucla.edu/search/search_results.php?SearchMode=Text&ObjectID=P006299)\n"
      ],
      "text/plain": [
       "<IPython.core.display.Markdown object>"
      ]
     },
     "metadata": {},
     "output_type": "display_data"
    },
    {
     "data": {
      "text/markdown": [
       "[P274476](https://cdli.ucla.edu/dl/photo/P274476.jpg) [metadata](https://cdli.ucla.edu/search/search_results.php?SearchMode=Text&ObjectID=P274476)\n"
      ],
      "text/plain": [
       "<IPython.core.display.Markdown object>"
      ]
     },
     "metadata": {},
     "output_type": "display_data"
    },
    {
     "data": {
      "text/markdown": [
       "[P005123](https://cdli.ucla.edu/dl/photo/P005123.jpg) [metadata](https://cdli.ucla.edu/search/search_results.php?SearchMode=Text&ObjectID=P005123)\n"
      ],
      "text/plain": [
       "<IPython.core.display.Markdown object>"
      ]
     },
     "metadata": {},
     "output_type": "display_data"
    },
    {
     "data": {
      "text/markdown": [
       "##### cluster 7 with 6 tablets\n"
      ],
      "text/plain": [
       "<IPython.core.display.Markdown object>"
      ]
     },
     "metadata": {},
     "output_type": "display_data"
    },
    {
     "data": {
      "text/markdown": [
       "[P000669](https://cdli.ucla.edu/dl/photo/P000669.jpg) [metadata](https://cdli.ucla.edu/search/search_results.php?SearchMode=Text&ObjectID=P000669)\n"
      ],
      "text/plain": [
       "<IPython.core.display.Markdown object>"
      ]
     },
     "metadata": {},
     "output_type": "display_data"
    },
    {
     "data": {
      "text/markdown": [
       "[P001253](https://cdli.ucla.edu/dl/photo/P001253.jpg) [metadata](https://cdli.ucla.edu/search/search_results.php?SearchMode=Text&ObjectID=P001253)\n"
      ],
      "text/plain": [
       "<IPython.core.display.Markdown object>"
      ]
     },
     "metadata": {},
     "output_type": "display_data"
    },
    {
     "data": {
      "text/markdown": [
       "[P001292](https://cdli.ucla.edu/dl/photo/P001292.jpg) [metadata](https://cdli.ucla.edu/search/search_results.php?SearchMode=Text&ObjectID=P001292)\n"
      ],
      "text/plain": [
       "<IPython.core.display.Markdown object>"
      ]
     },
     "metadata": {},
     "output_type": "display_data"
    },
    {
     "data": {
      "text/markdown": [
       "[P001345](https://cdli.ucla.edu/dl/photo/P001345.jpg) [metadata](https://cdli.ucla.edu/search/search_results.php?SearchMode=Text&ObjectID=P001345)\n"
      ],
      "text/plain": [
       "<IPython.core.display.Markdown object>"
      ]
     },
     "metadata": {},
     "output_type": "display_data"
    },
    {
     "data": {
      "text/markdown": [
       "[P001365](https://cdli.ucla.edu/dl/photo/P001365.jpg) [metadata](https://cdli.ucla.edu/search/search_results.php?SearchMode=Text&ObjectID=P001365)\n"
      ],
      "text/plain": [
       "<IPython.core.display.Markdown object>"
      ]
     },
     "metadata": {},
     "output_type": "display_data"
    },
    {
     "data": {
      "text/markdown": [
       "[P001514](https://cdli.ucla.edu/dl/photo/P001514.jpg) [metadata](https://cdli.ucla.edu/search/search_results.php?SearchMode=Text&ObjectID=P001514)\n"
      ],
      "text/plain": [
       "<IPython.core.display.Markdown object>"
      ]
     },
     "metadata": {},
     "output_type": "display_data"
    },
    {
     "data": {
      "text/markdown": [
       "##### cluster 8 with 6 tablets\n"
      ],
      "text/plain": [
       "<IPython.core.display.Markdown object>"
      ]
     },
     "metadata": {},
     "output_type": "display_data"
    },
    {
     "data": {
      "text/markdown": [
       "[P006268](https://cdli.ucla.edu/dl/photo/P006268.jpg) [metadata](https://cdli.ucla.edu/search/search_results.php?SearchMode=Text&ObjectID=P006268)\n"
      ],
      "text/plain": [
       "<IPython.core.display.Markdown object>"
      ]
     },
     "metadata": {},
     "output_type": "display_data"
    },
    {
     "data": {
      "text/markdown": [
       "[P005573](https://cdli.ucla.edu/dl/photo/P005573.jpg) [metadata](https://cdli.ucla.edu/search/search_results.php?SearchMode=Text&ObjectID=P005573)\n"
      ],
      "text/plain": [
       "<IPython.core.display.Markdown object>"
      ]
     },
     "metadata": {},
     "output_type": "display_data"
    },
    {
     "data": {
      "text/markdown": [
       "[P006048](https://cdli.ucla.edu/dl/photo/P006048.jpg) [metadata](https://cdli.ucla.edu/search/search_results.php?SearchMode=Text&ObjectID=P006048)\n"
      ],
      "text/plain": [
       "<IPython.core.display.Markdown object>"
      ]
     },
     "metadata": {},
     "output_type": "display_data"
    },
    {
     "data": {
      "text/markdown": [
       "[P006054](https://cdli.ucla.edu/dl/photo/P006054.jpg) [metadata](https://cdli.ucla.edu/search/search_results.php?SearchMode=Text&ObjectID=P006054)\n"
      ],
      "text/plain": [
       "<IPython.core.display.Markdown object>"
      ]
     },
     "metadata": {},
     "output_type": "display_data"
    },
    {
     "data": {
      "text/markdown": [
       "[P006056](https://cdli.ucla.edu/dl/photo/P006056.jpg) [metadata](https://cdli.ucla.edu/search/search_results.php?SearchMode=Text&ObjectID=P006056)\n"
      ],
      "text/plain": [
       "<IPython.core.display.Markdown object>"
      ]
     },
     "metadata": {},
     "output_type": "display_data"
    },
    {
     "data": {
      "text/markdown": [
       "[P006140](https://cdli.ucla.edu/dl/photo/P006140.jpg) [metadata](https://cdli.ucla.edu/search/search_results.php?SearchMode=Text&ObjectID=P006140)\n"
      ],
      "text/plain": [
       "<IPython.core.display.Markdown object>"
      ]
     },
     "metadata": {},
     "output_type": "display_data"
    },
    {
     "data": {
      "text/markdown": [
       "##### cluster 9 with 6 tablets\n"
      ],
      "text/plain": [
       "<IPython.core.display.Markdown object>"
      ]
     },
     "metadata": {},
     "output_type": "display_data"
    },
    {
     "data": {
      "text/markdown": [
       "[P325346](https://cdli.ucla.edu/dl/photo/P325346.jpg) [metadata](https://cdli.ucla.edu/search/search_results.php?SearchMode=Text&ObjectID=P325346)\n"
      ],
      "text/plain": [
       "<IPython.core.display.Markdown object>"
      ]
     },
     "metadata": {},
     "output_type": "display_data"
    },
    {
     "data": {
      "text/markdown": [
       "[P002464](https://cdli.ucla.edu/dl/photo/P002464.jpg) [metadata](https://cdli.ucla.edu/search/search_results.php?SearchMode=Text&ObjectID=P002464)\n"
      ],
      "text/plain": [
       "<IPython.core.display.Markdown object>"
      ]
     },
     "metadata": {},
     "output_type": "display_data"
    },
    {
     "data": {
      "text/markdown": [
       "[P001760](https://cdli.ucla.edu/dl/photo/P001760.jpg) [metadata](https://cdli.ucla.edu/search/search_results.php?SearchMode=Text&ObjectID=P001760)\n"
      ],
      "text/plain": [
       "<IPython.core.display.Markdown object>"
      ]
     },
     "metadata": {},
     "output_type": "display_data"
    },
    {
     "data": {
      "text/markdown": [
       "[P004198](https://cdli.ucla.edu/dl/photo/P004198.jpg) [metadata](https://cdli.ucla.edu/search/search_results.php?SearchMode=Text&ObjectID=P004198)\n"
      ],
      "text/plain": [
       "<IPython.core.display.Markdown object>"
      ]
     },
     "metadata": {},
     "output_type": "display_data"
    },
    {
     "data": {
      "text/markdown": [
       "[P003800](https://cdli.ucla.edu/dl/photo/P003800.jpg) [metadata](https://cdli.ucla.edu/search/search_results.php?SearchMode=Text&ObjectID=P003800)\n"
      ],
      "text/plain": [
       "<IPython.core.display.Markdown object>"
      ]
     },
     "metadata": {},
     "output_type": "display_data"
    },
    {
     "data": {
      "text/markdown": [
       "[P003798](https://cdli.ucla.edu/dl/photo/P003798.jpg) [metadata](https://cdli.ucla.edu/search/search_results.php?SearchMode=Text&ObjectID=P003798)\n"
      ],
      "text/plain": [
       "<IPython.core.display.Markdown object>"
      ]
     },
     "metadata": {},
     "output_type": "display_data"
    },
    {
     "data": {
      "text/markdown": [
       "##### cluster 10 with 5 tablets\n"
      ],
      "text/plain": [
       "<IPython.core.display.Markdown object>"
      ]
     },
     "metadata": {},
     "output_type": "display_data"
    },
    {
     "data": {
      "text/markdown": [
       "[P000743](https://cdli.ucla.edu/dl/photo/P000743.jpg) [metadata](https://cdli.ucla.edu/search/search_results.php?SearchMode=Text&ObjectID=P000743)\n"
      ],
      "text/plain": [
       "<IPython.core.display.Markdown object>"
      ]
     },
     "metadata": {},
     "output_type": "display_data"
    },
    {
     "data": {
      "text/markdown": [
       "[P000759](https://cdli.ucla.edu/dl/photo/P000759.jpg) [metadata](https://cdli.ucla.edu/search/search_results.php?SearchMode=Text&ObjectID=P000759)\n"
      ],
      "text/plain": [
       "<IPython.core.display.Markdown object>"
      ]
     },
     "metadata": {},
     "output_type": "display_data"
    },
    {
     "data": {
      "text/markdown": [
       "[P000783](https://cdli.ucla.edu/dl/photo/P000783.jpg) [metadata](https://cdli.ucla.edu/search/search_results.php?SearchMode=Text&ObjectID=P000783)\n"
      ],
      "text/plain": [
       "<IPython.core.display.Markdown object>"
      ]
     },
     "metadata": {},
     "output_type": "display_data"
    },
    {
     "data": {
      "text/markdown": [
       "[P000985](https://cdli.ucla.edu/dl/photo/P000985.jpg) [metadata](https://cdli.ucla.edu/search/search_results.php?SearchMode=Text&ObjectID=P000985)\n"
      ],
      "text/plain": [
       "<IPython.core.display.Markdown object>"
      ]
     },
     "metadata": {},
     "output_type": "display_data"
    },
    {
     "data": {
      "text/markdown": [
       "[P000742](https://cdli.ucla.edu/dl/photo/P000742.jpg) [metadata](https://cdli.ucla.edu/search/search_results.php?SearchMode=Text&ObjectID=P000742)\n"
      ],
      "text/plain": [
       "<IPython.core.display.Markdown object>"
      ]
     },
     "metadata": {},
     "output_type": "display_data"
    },
    {
     "data": {
      "text/markdown": [
       "##### cluster 11 with 5 tablets\n"
      ],
      "text/plain": [
       "<IPython.core.display.Markdown object>"
      ]
     },
     "metadata": {},
     "output_type": "display_data"
    },
    {
     "data": {
      "text/markdown": [
       "[P001873](https://cdli.ucla.edu/dl/photo/P001873.jpg) [metadata](https://cdli.ucla.edu/search/search_results.php?SearchMode=Text&ObjectID=P001873)\n"
      ],
      "text/plain": [
       "<IPython.core.display.Markdown object>"
      ]
     },
     "metadata": {},
     "output_type": "display_data"
    },
    {
     "data": {
      "text/markdown": [
       "[P001961](https://cdli.ucla.edu/dl/photo/P001961.jpg) [metadata](https://cdli.ucla.edu/search/search_results.php?SearchMode=Text&ObjectID=P001961)\n"
      ],
      "text/plain": [
       "<IPython.core.display.Markdown object>"
      ]
     },
     "metadata": {},
     "output_type": "display_data"
    },
    {
     "data": {
      "text/markdown": [
       "[P001962](https://cdli.ucla.edu/dl/photo/P001962.jpg) [metadata](https://cdli.ucla.edu/search/search_results.php?SearchMode=Text&ObjectID=P001962)\n"
      ],
      "text/plain": [
       "<IPython.core.display.Markdown object>"
      ]
     },
     "metadata": {},
     "output_type": "display_data"
    },
    {
     "data": {
      "text/markdown": [
       "[P002503](https://cdli.ucla.edu/dl/photo/P002503.jpg) [metadata](https://cdli.ucla.edu/search/search_results.php?SearchMode=Text&ObjectID=P002503)\n"
      ],
      "text/plain": [
       "<IPython.core.display.Markdown object>"
      ]
     },
     "metadata": {},
     "output_type": "display_data"
    },
    {
     "data": {
      "text/markdown": [
       "[P001965](https://cdli.ucla.edu/dl/photo/P001965.jpg) [metadata](https://cdli.ucla.edu/search/search_results.php?SearchMode=Text&ObjectID=P001965)\n"
      ],
      "text/plain": [
       "<IPython.core.display.Markdown object>"
      ]
     },
     "metadata": {},
     "output_type": "display_data"
    },
    {
     "data": {
      "text/markdown": [
       "##### cluster 12 with 5 tablets\n"
      ],
      "text/plain": [
       "<IPython.core.display.Markdown object>"
      ]
     },
     "metadata": {},
     "output_type": "display_data"
    },
    {
     "data": {
      "text/markdown": [
       "[P003724](https://cdli.ucla.edu/dl/photo/P003724.jpg) [metadata](https://cdli.ucla.edu/search/search_results.php?SearchMode=Text&ObjectID=P003724)\n"
      ],
      "text/plain": [
       "<IPython.core.display.Markdown object>"
      ]
     },
     "metadata": {},
     "output_type": "display_data"
    },
    {
     "data": {
      "text/markdown": [
       "[P003812](https://cdli.ucla.edu/dl/photo/P003812.jpg) [metadata](https://cdli.ucla.edu/search/search_results.php?SearchMode=Text&ObjectID=P003812)\n"
      ],
      "text/plain": [
       "<IPython.core.display.Markdown object>"
      ]
     },
     "metadata": {},
     "output_type": "display_data"
    },
    {
     "data": {
      "text/markdown": [
       "[P003502](https://cdli.ucla.edu/dl/photo/P003502.jpg) [metadata](https://cdli.ucla.edu/search/search_results.php?SearchMode=Text&ObjectID=P003502)\n"
      ],
      "text/plain": [
       "<IPython.core.display.Markdown object>"
      ]
     },
     "metadata": {},
     "output_type": "display_data"
    },
    {
     "data": {
      "text/markdown": [
       "[P003551](https://cdli.ucla.edu/dl/photo/P003551.jpg) [metadata](https://cdli.ucla.edu/search/search_results.php?SearchMode=Text&ObjectID=P003551)\n"
      ],
      "text/plain": [
       "<IPython.core.display.Markdown object>"
      ]
     },
     "metadata": {},
     "output_type": "display_data"
    },
    {
     "data": {
      "text/markdown": [
       "[P005473](https://cdli.ucla.edu/dl/photo/P005473.jpg) [metadata](https://cdli.ucla.edu/search/search_results.php?SearchMode=Text&ObjectID=P005473)\n"
      ],
      "text/plain": [
       "<IPython.core.display.Markdown object>"
      ]
     },
     "metadata": {},
     "output_type": "display_data"
    },
    {
     "data": {
      "text/markdown": [
       "##### cluster 13 with 5 tablets\n"
      ],
      "text/plain": [
       "<IPython.core.display.Markdown object>"
      ]
     },
     "metadata": {},
     "output_type": "display_data"
    },
    {
     "data": {
      "text/markdown": [
       "[P005068](https://cdli.ucla.edu/dl/photo/P005068.jpg) [metadata](https://cdli.ucla.edu/search/search_results.php?SearchMode=Text&ObjectID=P005068)\n"
      ],
      "text/plain": [
       "<IPython.core.display.Markdown object>"
      ]
     },
     "metadata": {},
     "output_type": "display_data"
    },
    {
     "data": {
      "text/markdown": [
       "[P005069](https://cdli.ucla.edu/dl/photo/P005069.jpg) [metadata](https://cdli.ucla.edu/search/search_results.php?SearchMode=Text&ObjectID=P005069)\n"
      ],
      "text/plain": [
       "<IPython.core.display.Markdown object>"
      ]
     },
     "metadata": {},
     "output_type": "display_data"
    },
    {
     "data": {
      "text/markdown": [
       "[P005070](https://cdli.ucla.edu/dl/photo/P005070.jpg) [metadata](https://cdli.ucla.edu/search/search_results.php?SearchMode=Text&ObjectID=P005070)\n"
      ],
      "text/plain": [
       "<IPython.core.display.Markdown object>"
      ]
     },
     "metadata": {},
     "output_type": "display_data"
    },
    {
     "data": {
      "text/markdown": [
       "[P005071](https://cdli.ucla.edu/dl/photo/P005071.jpg) [metadata](https://cdli.ucla.edu/search/search_results.php?SearchMode=Text&ObjectID=P005071)\n"
      ],
      "text/plain": [
       "<IPython.core.display.Markdown object>"
      ]
     },
     "metadata": {},
     "output_type": "display_data"
    },
    {
     "data": {
      "text/markdown": [
       "[P005072](https://cdli.ucla.edu/dl/photo/P005072.jpg) [metadata](https://cdli.ucla.edu/search/search_results.php?SearchMode=Text&ObjectID=P005072)\n"
      ],
      "text/plain": [
       "<IPython.core.display.Markdown object>"
      ]
     },
     "metadata": {},
     "output_type": "display_data"
    },
    {
     "data": {
      "text/markdown": [
       "##### cluster 14 with 5 tablets\n"
      ],
      "text/plain": [
       "<IPython.core.display.Markdown object>"
      ]
     },
     "metadata": {},
     "output_type": "display_data"
    },
    {
     "data": {
      "text/markdown": [
       "[P005371](https://cdli.ucla.edu/dl/photo/P005371.jpg) [metadata](https://cdli.ucla.edu/search/search_results.php?SearchMode=Text&ObjectID=P005371)\n"
      ],
      "text/plain": [
       "<IPython.core.display.Markdown object>"
      ]
     },
     "metadata": {},
     "output_type": "display_data"
    },
    {
     "data": {
      "text/markdown": [
       "[P005372](https://cdli.ucla.edu/dl/photo/P005372.jpg) [metadata](https://cdli.ucla.edu/search/search_results.php?SearchMode=Text&ObjectID=P005372)\n"
      ],
      "text/plain": [
       "<IPython.core.display.Markdown object>"
      ]
     },
     "metadata": {},
     "output_type": "display_data"
    },
    {
     "data": {
      "text/markdown": [
       "[P005373](https://cdli.ucla.edu/dl/photo/P005373.jpg) [metadata](https://cdli.ucla.edu/search/search_results.php?SearchMode=Text&ObjectID=P005373)\n"
      ],
      "text/plain": [
       "<IPython.core.display.Markdown object>"
      ]
     },
     "metadata": {},
     "output_type": "display_data"
    },
    {
     "data": {
      "text/markdown": [
       "[P005374](https://cdli.ucla.edu/dl/photo/P005374.jpg) [metadata](https://cdli.ucla.edu/search/search_results.php?SearchMode=Text&ObjectID=P005374)\n"
      ],
      "text/plain": [
       "<IPython.core.display.Markdown object>"
      ]
     },
     "metadata": {},
     "output_type": "display_data"
    },
    {
     "data": {
      "text/markdown": [
       "[P005375](https://cdli.ucla.edu/dl/photo/P005375.jpg) [metadata](https://cdli.ucla.edu/search/search_results.php?SearchMode=Text&ObjectID=P005375)\n"
      ],
      "text/plain": [
       "<IPython.core.display.Markdown object>"
      ]
     },
     "metadata": {},
     "output_type": "display_data"
    },
    {
     "data": {
      "text/markdown": [
       "##### cluster 15 with 5 tablets\n"
      ],
      "text/plain": [
       "<IPython.core.display.Markdown object>"
      ]
     },
     "metadata": {},
     "output_type": "display_data"
    },
    {
     "data": {
      "text/markdown": [
       "[P001302](https://cdli.ucla.edu/dl/photo/P001302.jpg) [metadata](https://cdli.ucla.edu/search/search_results.php?SearchMode=Text&ObjectID=P001302)\n"
      ],
      "text/plain": [
       "<IPython.core.display.Markdown object>"
      ]
     },
     "metadata": {},
     "output_type": "display_data"
    },
    {
     "data": {
      "text/markdown": [
       "[P001304](https://cdli.ucla.edu/dl/photo/P001304.jpg) [metadata](https://cdli.ucla.edu/search/search_results.php?SearchMode=Text&ObjectID=P001304)\n"
      ],
      "text/plain": [
       "<IPython.core.display.Markdown object>"
      ]
     },
     "metadata": {},
     "output_type": "display_data"
    },
    {
     "data": {
      "text/markdown": [
       "[P001337](https://cdli.ucla.edu/dl/photo/P001337.jpg) [metadata](https://cdli.ucla.edu/search/search_results.php?SearchMode=Text&ObjectID=P001337)\n"
      ],
      "text/plain": [
       "<IPython.core.display.Markdown object>"
      ]
     },
     "metadata": {},
     "output_type": "display_data"
    },
    {
     "data": {
      "text/markdown": [
       "[P001385](https://cdli.ucla.edu/dl/photo/P001385.jpg) [metadata](https://cdli.ucla.edu/search/search_results.php?SearchMode=Text&ObjectID=P001385)\n"
      ],
      "text/plain": [
       "<IPython.core.display.Markdown object>"
      ]
     },
     "metadata": {},
     "output_type": "display_data"
    },
    {
     "data": {
      "text/markdown": [
       "[P001394](https://cdli.ucla.edu/dl/photo/P001394.jpg) [metadata](https://cdli.ucla.edu/search/search_results.php?SearchMode=Text&ObjectID=P001394)\n"
      ],
      "text/plain": [
       "<IPython.core.display.Markdown object>"
      ]
     },
     "metadata": {},
     "output_type": "display_data"
    },
    {
     "data": {
      "text/markdown": [
       "##### cluster 16 with 5 tablets\n"
      ],
      "text/plain": [
       "<IPython.core.display.Markdown object>"
      ]
     },
     "metadata": {},
     "output_type": "display_data"
    },
    {
     "data": {
      "text/markdown": [
       "[P001919](https://cdli.ucla.edu/dl/photo/P001919.jpg) [metadata](https://cdli.ucla.edu/search/search_results.php?SearchMode=Text&ObjectID=P001919)\n"
      ],
      "text/plain": [
       "<IPython.core.display.Markdown object>"
      ]
     },
     "metadata": {},
     "output_type": "display_data"
    },
    {
     "data": {
      "text/markdown": [
       "[P001920](https://cdli.ucla.edu/dl/photo/P001920.jpg) [metadata](https://cdli.ucla.edu/search/search_results.php?SearchMode=Text&ObjectID=P001920)\n"
      ],
      "text/plain": [
       "<IPython.core.display.Markdown object>"
      ]
     },
     "metadata": {},
     "output_type": "display_data"
    },
    {
     "data": {
      "text/markdown": [
       "[P001922](https://cdli.ucla.edu/dl/photo/P001922.jpg) [metadata](https://cdli.ucla.edu/search/search_results.php?SearchMode=Text&ObjectID=P001922)\n"
      ],
      "text/plain": [
       "<IPython.core.display.Markdown object>"
      ]
     },
     "metadata": {},
     "output_type": "display_data"
    },
    {
     "data": {
      "text/markdown": [
       "[P001931](https://cdli.ucla.edu/dl/photo/P001931.jpg) [metadata](https://cdli.ucla.edu/search/search_results.php?SearchMode=Text&ObjectID=P001931)\n"
      ],
      "text/plain": [
       "<IPython.core.display.Markdown object>"
      ]
     },
     "metadata": {},
     "output_type": "display_data"
    },
    {
     "data": {
      "text/markdown": [
       "[P001993](https://cdli.ucla.edu/dl/photo/P001993.jpg) [metadata](https://cdli.ucla.edu/search/search_results.php?SearchMode=Text&ObjectID=P001993)\n"
      ],
      "text/plain": [
       "<IPython.core.display.Markdown object>"
      ]
     },
     "metadata": {},
     "output_type": "display_data"
    },
    {
     "data": {
      "text/markdown": [
       "##### cluster 17 with 4 tablets\n"
      ],
      "text/plain": [
       "<IPython.core.display.Markdown object>"
      ]
     },
     "metadata": {},
     "output_type": "display_data"
    },
    {
     "data": {
      "text/markdown": [
       "[P000734](https://cdli.ucla.edu/dl/photo/P000734.jpg) [metadata](https://cdli.ucla.edu/search/search_results.php?SearchMode=Text&ObjectID=P000734)\n"
      ],
      "text/plain": [
       "<IPython.core.display.Markdown object>"
      ]
     },
     "metadata": {},
     "output_type": "display_data"
    },
    {
     "data": {
      "text/markdown": [
       "[P000735](https://cdli.ucla.edu/dl/photo/P000735.jpg) [metadata](https://cdli.ucla.edu/search/search_results.php?SearchMode=Text&ObjectID=P000735)\n"
      ],
      "text/plain": [
       "<IPython.core.display.Markdown object>"
      ]
     },
     "metadata": {},
     "output_type": "display_data"
    },
    {
     "data": {
      "text/markdown": [
       "[P002591](https://cdli.ucla.edu/dl/photo/P002591.jpg) [metadata](https://cdli.ucla.edu/search/search_results.php?SearchMode=Text&ObjectID=P002591)\n"
      ],
      "text/plain": [
       "<IPython.core.display.Markdown object>"
      ]
     },
     "metadata": {},
     "output_type": "display_data"
    },
    {
     "data": {
      "text/markdown": [
       "[P002606](https://cdli.ucla.edu/dl/photo/P002606.jpg) [metadata](https://cdli.ucla.edu/search/search_results.php?SearchMode=Text&ObjectID=P002606)\n"
      ],
      "text/plain": [
       "<IPython.core.display.Markdown object>"
      ]
     },
     "metadata": {},
     "output_type": "display_data"
    },
    {
     "data": {
      "text/markdown": [
       "##### cluster 18 with 4 tablets\n"
      ],
      "text/plain": [
       "<IPython.core.display.Markdown object>"
      ]
     },
     "metadata": {},
     "output_type": "display_data"
    },
    {
     "data": {
      "text/markdown": [
       "[P001812](https://cdli.ucla.edu/dl/photo/P001812.jpg) [metadata](https://cdli.ucla.edu/search/search_results.php?SearchMode=Text&ObjectID=P001812)\n"
      ],
      "text/plain": [
       "<IPython.core.display.Markdown object>"
      ]
     },
     "metadata": {},
     "output_type": "display_data"
    },
    {
     "data": {
      "text/markdown": [
       "[P000034](https://cdli.ucla.edu/dl/photo/P000034.jpg) [metadata](https://cdli.ucla.edu/search/search_results.php?SearchMode=Text&ObjectID=P000034)\n"
      ],
      "text/plain": [
       "<IPython.core.display.Markdown object>"
      ]
     },
     "metadata": {},
     "output_type": "display_data"
    },
    {
     "data": {
      "text/markdown": [
       "[P411544](https://cdli.ucla.edu/dl/photo/P411544.jpg) [metadata](https://cdli.ucla.edu/search/search_results.php?SearchMode=Text&ObjectID=P411544)\n"
      ],
      "text/plain": [
       "<IPython.core.display.Markdown object>"
      ]
     },
     "metadata": {},
     "output_type": "display_data"
    },
    {
     "data": {
      "text/markdown": [
       "[P004627](https://cdli.ucla.edu/dl/photo/P004627.jpg) [metadata](https://cdli.ucla.edu/search/search_results.php?SearchMode=Text&ObjectID=P004627)\n"
      ],
      "text/plain": [
       "<IPython.core.display.Markdown object>"
      ]
     },
     "metadata": {},
     "output_type": "display_data"
    },
    {
     "data": {
      "text/markdown": [
       "##### cluster 19 with 4 tablets\n"
      ],
      "text/plain": [
       "<IPython.core.display.Markdown object>"
      ]
     },
     "metadata": {},
     "output_type": "display_data"
    },
    {
     "data": {
      "text/markdown": [
       "[P004951](https://cdli.ucla.edu/dl/photo/P004951.jpg) [metadata](https://cdli.ucla.edu/search/search_results.php?SearchMode=Text&ObjectID=P004951)\n"
      ],
      "text/plain": [
       "<IPython.core.display.Markdown object>"
      ]
     },
     "metadata": {},
     "output_type": "display_data"
    },
    {
     "data": {
      "text/markdown": [
       "[P004275](https://cdli.ucla.edu/dl/photo/P004275.jpg) [metadata](https://cdli.ucla.edu/search/search_results.php?SearchMode=Text&ObjectID=P004275)\n"
      ],
      "text/plain": [
       "<IPython.core.display.Markdown object>"
      ]
     },
     "metadata": {},
     "output_type": "display_data"
    },
    {
     "data": {
      "text/markdown": [
       "[P004301](https://cdli.ucla.edu/dl/photo/P004301.jpg) [metadata](https://cdli.ucla.edu/search/search_results.php?SearchMode=Text&ObjectID=P004301)\n"
      ],
      "text/plain": [
       "<IPython.core.display.Markdown object>"
      ]
     },
     "metadata": {},
     "output_type": "display_data"
    },
    {
     "data": {
      "text/markdown": [
       "[P004308](https://cdli.ucla.edu/dl/photo/P004308.jpg) [metadata](https://cdli.ucla.edu/search/search_results.php?SearchMode=Text&ObjectID=P004308)\n"
      ],
      "text/plain": [
       "<IPython.core.display.Markdown object>"
      ]
     },
     "metadata": {},
     "output_type": "display_data"
    },
    {
     "data": {
      "text/markdown": [
       "##### cluster 20 with 4 tablets\n"
      ],
      "text/plain": [
       "<IPython.core.display.Markdown object>"
      ]
     },
     "metadata": {},
     "output_type": "display_data"
    },
    {
     "data": {
      "text/markdown": [
       "[P471694](https://cdli.ucla.edu/dl/photo/P471694.jpg) [metadata](https://cdli.ucla.edu/search/search_results.php?SearchMode=Text&ObjectID=P471694)\n"
      ],
      "text/plain": [
       "<IPython.core.display.Markdown object>"
      ]
     },
     "metadata": {},
     "output_type": "display_data"
    },
    {
     "data": {
      "text/markdown": [
       "[P000455](https://cdli.ucla.edu/dl/photo/P000455.jpg) [metadata](https://cdli.ucla.edu/search/search_results.php?SearchMode=Text&ObjectID=P000455)\n"
      ],
      "text/plain": [
       "<IPython.core.display.Markdown object>"
      ]
     },
     "metadata": {},
     "output_type": "display_data"
    },
    {
     "data": {
      "text/markdown": [
       "[P000431](https://cdli.ucla.edu/dl/photo/P000431.jpg) [metadata](https://cdli.ucla.edu/search/search_results.php?SearchMode=Text&ObjectID=P000431)\n"
      ],
      "text/plain": [
       "<IPython.core.display.Markdown object>"
      ]
     },
     "metadata": {},
     "output_type": "display_data"
    },
    {
     "data": {
      "text/markdown": [
       "[P000614](https://cdli.ucla.edu/dl/photo/P000614.jpg) [metadata](https://cdli.ucla.edu/search/search_results.php?SearchMode=Text&ObjectID=P000614)\n"
      ],
      "text/plain": [
       "<IPython.core.display.Markdown object>"
      ]
     },
     "metadata": {},
     "output_type": "display_data"
    },
    {
     "data": {
      "text/markdown": [
       "##### cluster 21 with 4 tablets\n"
      ],
      "text/plain": [
       "<IPython.core.display.Markdown object>"
      ]
     },
     "metadata": {},
     "output_type": "display_data"
    },
    {
     "data": {
      "text/markdown": [
       "[P005423](https://cdli.ucla.edu/dl/photo/P005423.jpg) [metadata](https://cdli.ucla.edu/search/search_results.php?SearchMode=Text&ObjectID=P005423)\n"
      ],
      "text/plain": [
       "<IPython.core.display.Markdown object>"
      ]
     },
     "metadata": {},
     "output_type": "display_data"
    },
    {
     "data": {
      "text/markdown": [
       "[P005425](https://cdli.ucla.edu/dl/photo/P005425.jpg) [metadata](https://cdli.ucla.edu/search/search_results.php?SearchMode=Text&ObjectID=P005425)\n"
      ],
      "text/plain": [
       "<IPython.core.display.Markdown object>"
      ]
     },
     "metadata": {},
     "output_type": "display_data"
    },
    {
     "data": {
      "text/markdown": [
       "[P005426](https://cdli.ucla.edu/dl/photo/P005426.jpg) [metadata](https://cdli.ucla.edu/search/search_results.php?SearchMode=Text&ObjectID=P005426)\n"
      ],
      "text/plain": [
       "<IPython.core.display.Markdown object>"
      ]
     },
     "metadata": {},
     "output_type": "display_data"
    },
    {
     "data": {
      "text/markdown": [
       "[P005427](https://cdli.ucla.edu/dl/photo/P005427.jpg) [metadata](https://cdli.ucla.edu/search/search_results.php?SearchMode=Text&ObjectID=P005427)\n"
      ],
      "text/plain": [
       "<IPython.core.display.Markdown object>"
      ]
     },
     "metadata": {},
     "output_type": "display_data"
    },
    {
     "data": {
      "text/markdown": [
       "##### cluster 22 with 4 tablets\n"
      ],
      "text/plain": [
       "<IPython.core.display.Markdown object>"
      ]
     },
     "metadata": {},
     "output_type": "display_data"
    },
    {
     "data": {
      "text/markdown": [
       "[P001288](https://cdli.ucla.edu/dl/photo/P001288.jpg) [metadata](https://cdli.ucla.edu/search/search_results.php?SearchMode=Text&ObjectID=P001288)\n"
      ],
      "text/plain": [
       "<IPython.core.display.Markdown object>"
      ]
     },
     "metadata": {},
     "output_type": "display_data"
    },
    {
     "data": {
      "text/markdown": [
       "[P001336](https://cdli.ucla.edu/dl/photo/P001336.jpg) [metadata](https://cdli.ucla.edu/search/search_results.php?SearchMode=Text&ObjectID=P001336)\n"
      ],
      "text/plain": [
       "<IPython.core.display.Markdown object>"
      ]
     },
     "metadata": {},
     "output_type": "display_data"
    },
    {
     "data": {
      "text/markdown": [
       "[P001384](https://cdli.ucla.edu/dl/photo/P001384.jpg) [metadata](https://cdli.ucla.edu/search/search_results.php?SearchMode=Text&ObjectID=P001384)\n"
      ],
      "text/plain": [
       "<IPython.core.display.Markdown object>"
      ]
     },
     "metadata": {},
     "output_type": "display_data"
    },
    {
     "data": {
      "text/markdown": [
       "[P001645](https://cdli.ucla.edu/dl/photo/P001645.jpg) [metadata](https://cdli.ucla.edu/search/search_results.php?SearchMode=Text&ObjectID=P001645)\n"
      ],
      "text/plain": [
       "<IPython.core.display.Markdown object>"
      ]
     },
     "metadata": {},
     "output_type": "display_data"
    },
    {
     "data": {
      "text/markdown": [
       "##### cluster 23 with 4 tablets\n"
      ],
      "text/plain": [
       "<IPython.core.display.Markdown object>"
      ]
     },
     "metadata": {},
     "output_type": "display_data"
    },
    {
     "data": {
      "text/markdown": [
       "[P001402](https://cdli.ucla.edu/dl/photo/P001402.jpg) [metadata](https://cdli.ucla.edu/search/search_results.php?SearchMode=Text&ObjectID=P001402)\n"
      ],
      "text/plain": [
       "<IPython.core.display.Markdown object>"
      ]
     },
     "metadata": {},
     "output_type": "display_data"
    },
    {
     "data": {
      "text/markdown": [
       "[P001531](https://cdli.ucla.edu/dl/photo/P001531.jpg) [metadata](https://cdli.ucla.edu/search/search_results.php?SearchMode=Text&ObjectID=P001531)\n"
      ],
      "text/plain": [
       "<IPython.core.display.Markdown object>"
      ]
     },
     "metadata": {},
     "output_type": "display_data"
    },
    {
     "data": {
      "text/markdown": [
       "[P001552](https://cdli.ucla.edu/dl/photo/P001552.jpg) [metadata](https://cdli.ucla.edu/search/search_results.php?SearchMode=Text&ObjectID=P001552)\n"
      ],
      "text/plain": [
       "<IPython.core.display.Markdown object>"
      ]
     },
     "metadata": {},
     "output_type": "display_data"
    },
    {
     "data": {
      "text/markdown": [
       "[P001565](https://cdli.ucla.edu/dl/photo/P001565.jpg) [metadata](https://cdli.ucla.edu/search/search_results.php?SearchMode=Text&ObjectID=P001565)\n"
      ],
      "text/plain": [
       "<IPython.core.display.Markdown object>"
      ]
     },
     "metadata": {},
     "output_type": "display_data"
    },
    {
     "data": {
      "text/markdown": [
       "##### cluster 24 with 3 tablets\n"
      ],
      "text/plain": [
       "<IPython.core.display.Markdown object>"
      ]
     },
     "metadata": {},
     "output_type": "display_data"
    },
    {
     "data": {
      "text/markdown": [
       "[P001978](https://cdli.ucla.edu/dl/photo/P001978.jpg) [metadata](https://cdli.ucla.edu/search/search_results.php?SearchMode=Text&ObjectID=P001978)\n"
      ],
      "text/plain": [
       "<IPython.core.display.Markdown object>"
      ]
     },
     "metadata": {},
     "output_type": "display_data"
    },
    {
     "data": {
      "text/markdown": [
       "[P002025](https://cdli.ucla.edu/dl/photo/P002025.jpg) [metadata](https://cdli.ucla.edu/search/search_results.php?SearchMode=Text&ObjectID=P002025)\n"
      ],
      "text/plain": [
       "<IPython.core.display.Markdown object>"
      ]
     },
     "metadata": {},
     "output_type": "display_data"
    },
    {
     "data": {
      "text/markdown": [
       "[P002466](https://cdli.ucla.edu/dl/photo/P002466.jpg) [metadata](https://cdli.ucla.edu/search/search_results.php?SearchMode=Text&ObjectID=P002466)\n"
      ],
      "text/plain": [
       "<IPython.core.display.Markdown object>"
      ]
     },
     "metadata": {},
     "output_type": "display_data"
    },
    {
     "data": {
      "text/markdown": [
       "##### cluster 25 with 3 tablets\n"
      ],
      "text/plain": [
       "<IPython.core.display.Markdown object>"
      ]
     },
     "metadata": {},
     "output_type": "display_data"
    },
    {
     "data": {
      "text/markdown": [
       "[P002174](https://cdli.ucla.edu/dl/photo/P002174.jpg) [metadata](https://cdli.ucla.edu/search/search_results.php?SearchMode=Text&ObjectID=P002174)\n"
      ],
      "text/plain": [
       "<IPython.core.display.Markdown object>"
      ]
     },
     "metadata": {},
     "output_type": "display_data"
    },
    {
     "data": {
      "text/markdown": [
       "[P002217](https://cdli.ucla.edu/dl/photo/P002217.jpg) [metadata](https://cdli.ucla.edu/search/search_results.php?SearchMode=Text&ObjectID=P002217)\n"
      ],
      "text/plain": [
       "<IPython.core.display.Markdown object>"
      ]
     },
     "metadata": {},
     "output_type": "display_data"
    },
    {
     "data": {
      "text/markdown": [
       "[P003035](https://cdli.ucla.edu/dl/photo/P003035.jpg) [metadata](https://cdli.ucla.edu/search/search_results.php?SearchMode=Text&ObjectID=P003035)\n"
      ],
      "text/plain": [
       "<IPython.core.display.Markdown object>"
      ]
     },
     "metadata": {},
     "output_type": "display_data"
    },
    {
     "data": {
      "text/markdown": [
       "##### cluster 26 with 3 tablets\n"
      ],
      "text/plain": [
       "<IPython.core.display.Markdown object>"
      ]
     },
     "metadata": {},
     "output_type": "display_data"
    },
    {
     "data": {
      "text/markdown": [
       "[P002150](https://cdli.ucla.edu/dl/photo/P002150.jpg) [metadata](https://cdli.ucla.edu/search/search_results.php?SearchMode=Text&ObjectID=P002150)\n"
      ],
      "text/plain": [
       "<IPython.core.display.Markdown object>"
      ]
     },
     "metadata": {},
     "output_type": "display_data"
    },
    {
     "data": {
      "text/markdown": [
       "[P004247](https://cdli.ucla.edu/dl/photo/P004247.jpg) [metadata](https://cdli.ucla.edu/search/search_results.php?SearchMode=Text&ObjectID=P004247)\n"
      ],
      "text/plain": [
       "<IPython.core.display.Markdown object>"
      ]
     },
     "metadata": {},
     "output_type": "display_data"
    },
    {
     "data": {
      "text/markdown": [
       "[P004238](https://cdli.ucla.edu/dl/photo/P004238.jpg) [metadata](https://cdli.ucla.edu/search/search_results.php?SearchMode=Text&ObjectID=P004238)\n"
      ],
      "text/plain": [
       "<IPython.core.display.Markdown object>"
      ]
     },
     "metadata": {},
     "output_type": "display_data"
    },
    {
     "data": {
      "text/markdown": [
       "##### cluster 27 with 3 tablets\n"
      ],
      "text/plain": [
       "<IPython.core.display.Markdown object>"
      ]
     },
     "metadata": {},
     "output_type": "display_data"
    },
    {
     "data": {
      "text/markdown": [
       "[P002359](https://cdli.ucla.edu/dl/photo/P002359.jpg) [metadata](https://cdli.ucla.edu/search/search_results.php?SearchMode=Text&ObjectID=P002359)\n"
      ],
      "text/plain": [
       "<IPython.core.display.Markdown object>"
      ]
     },
     "metadata": {},
     "output_type": "display_data"
    },
    {
     "data": {
      "text/markdown": [
       "[P004847](https://cdli.ucla.edu/dl/photo/P004847.jpg) [metadata](https://cdli.ucla.edu/search/search_results.php?SearchMode=Text&ObjectID=P004847)\n"
      ],
      "text/plain": [
       "<IPython.core.display.Markdown object>"
      ]
     },
     "metadata": {},
     "output_type": "display_data"
    },
    {
     "data": {
      "text/markdown": [
       "[P004270](https://cdli.ucla.edu/dl/photo/P004270.jpg) [metadata](https://cdli.ucla.edu/search/search_results.php?SearchMode=Text&ObjectID=P004270)\n"
      ],
      "text/plain": [
       "<IPython.core.display.Markdown object>"
      ]
     },
     "metadata": {},
     "output_type": "display_data"
    },
    {
     "data": {
      "text/markdown": [
       "##### cluster 28 with 3 tablets\n"
      ],
      "text/plain": [
       "<IPython.core.display.Markdown object>"
      ]
     },
     "metadata": {},
     "output_type": "display_data"
    },
    {
     "data": {
      "text/markdown": [
       "[P002511](https://cdli.ucla.edu/dl/photo/P002511.jpg) [metadata](https://cdli.ucla.edu/search/search_results.php?SearchMode=Text&ObjectID=P002511)\n"
      ],
      "text/plain": [
       "<IPython.core.display.Markdown object>"
      ]
     },
     "metadata": {},
     "output_type": "display_data"
    },
    {
     "data": {
      "text/markdown": [
       "[P002524](https://cdli.ucla.edu/dl/photo/P002524.jpg) [metadata](https://cdli.ucla.edu/search/search_results.php?SearchMode=Text&ObjectID=P002524)\n"
      ],
      "text/plain": [
       "<IPython.core.display.Markdown object>"
      ]
     },
     "metadata": {},
     "output_type": "display_data"
    },
    {
     "data": {
      "text/markdown": [
       "[P002539](https://cdli.ucla.edu/dl/photo/P002539.jpg) [metadata](https://cdli.ucla.edu/search/search_results.php?SearchMode=Text&ObjectID=P002539)\n"
      ],
      "text/plain": [
       "<IPython.core.display.Markdown object>"
      ]
     },
     "metadata": {},
     "output_type": "display_data"
    },
    {
     "data": {
      "text/markdown": [
       "##### cluster 29 with 3 tablets\n"
      ],
      "text/plain": [
       "<IPython.core.display.Markdown object>"
      ]
     },
     "metadata": {},
     "output_type": "display_data"
    },
    {
     "data": {
      "text/markdown": [
       "[P003714](https://cdli.ucla.edu/dl/photo/P003714.jpg) [metadata](https://cdli.ucla.edu/search/search_results.php?SearchMode=Text&ObjectID=P003714)\n"
      ],
      "text/plain": [
       "<IPython.core.display.Markdown object>"
      ]
     },
     "metadata": {},
     "output_type": "display_data"
    },
    {
     "data": {
      "text/markdown": [
       "[P003817](https://cdli.ucla.edu/dl/photo/P003817.jpg) [metadata](https://cdli.ucla.edu/search/search_results.php?SearchMode=Text&ObjectID=P003817)\n"
      ],
      "text/plain": [
       "<IPython.core.display.Markdown object>"
      ]
     },
     "metadata": {},
     "output_type": "display_data"
    },
    {
     "data": {
      "text/markdown": [
       "[P005471](https://cdli.ucla.edu/dl/photo/P005471.jpg) [metadata](https://cdli.ucla.edu/search/search_results.php?SearchMode=Text&ObjectID=P005471)\n"
      ],
      "text/plain": [
       "<IPython.core.display.Markdown object>"
      ]
     },
     "metadata": {},
     "output_type": "display_data"
    },
    {
     "data": {
      "text/markdown": [
       "##### cluster 30 with 3 tablets\n"
      ],
      "text/plain": [
       "<IPython.core.display.Markdown object>"
      ]
     },
     "metadata": {},
     "output_type": "display_data"
    },
    {
     "data": {
      "text/markdown": [
       "[P004880](https://cdli.ucla.edu/dl/photo/P004880.jpg) [metadata](https://cdli.ucla.edu/search/search_results.php?SearchMode=Text&ObjectID=P004880)\n"
      ],
      "text/plain": [
       "<IPython.core.display.Markdown object>"
      ]
     },
     "metadata": {},
     "output_type": "display_data"
    },
    {
     "data": {
      "text/markdown": [
       "[P003655](https://cdli.ucla.edu/dl/photo/P003655.jpg) [metadata](https://cdli.ucla.edu/search/search_results.php?SearchMode=Text&ObjectID=P003655)\n"
      ],
      "text/plain": [
       "<IPython.core.display.Markdown object>"
      ]
     },
     "metadata": {},
     "output_type": "display_data"
    },
    {
     "data": {
      "text/markdown": [
       "[P003808](https://cdli.ucla.edu/dl/photo/P003808.jpg) [metadata](https://cdli.ucla.edu/search/search_results.php?SearchMode=Text&ObjectID=P003808)\n"
      ],
      "text/plain": [
       "<IPython.core.display.Markdown object>"
      ]
     },
     "metadata": {},
     "output_type": "display_data"
    },
    {
     "data": {
      "text/markdown": [
       "##### cluster 31 with 3 tablets\n"
      ],
      "text/plain": [
       "<IPython.core.display.Markdown object>"
      ]
     },
     "metadata": {},
     "output_type": "display_data"
    },
    {
     "data": {
      "text/markdown": [
       "[P491489](https://cdli.ucla.edu/dl/photo/P491489.jpg) [metadata](https://cdli.ucla.edu/search/search_results.php?SearchMode=Text&ObjectID=P491489)\n"
      ],
      "text/plain": [
       "<IPython.core.display.Markdown object>"
      ]
     },
     "metadata": {},
     "output_type": "display_data"
    },
    {
     "data": {
      "text/markdown": [
       "[P000181](https://cdli.ucla.edu/dl/photo/P000181.jpg) [metadata](https://cdli.ucla.edu/search/search_results.php?SearchMode=Text&ObjectID=P000181)\n"
      ],
      "text/plain": [
       "<IPython.core.display.Markdown object>"
      ]
     },
     "metadata": {},
     "output_type": "display_data"
    },
    {
     "data": {
      "text/markdown": [
       "[P000664](https://cdli.ucla.edu/dl/photo/P000664.jpg) [metadata](https://cdli.ucla.edu/search/search_results.php?SearchMode=Text&ObjectID=P000664)\n"
      ],
      "text/plain": [
       "<IPython.core.display.Markdown object>"
      ]
     },
     "metadata": {},
     "output_type": "display_data"
    },
    {
     "data": {
      "text/markdown": [
       "##### cluster 32 with 3 tablets\n"
      ],
      "text/plain": [
       "<IPython.core.display.Markdown object>"
      ]
     },
     "metadata": {},
     "output_type": "display_data"
    },
    {
     "data": {
      "text/markdown": [
       "[P006376](https://cdli.ucla.edu/dl/photo/P006376.jpg) [metadata](https://cdli.ucla.edu/search/search_results.php?SearchMode=Text&ObjectID=P006376)\n"
      ],
      "text/plain": [
       "<IPython.core.display.Markdown object>"
      ]
     },
     "metadata": {},
     "output_type": "display_data"
    },
    {
     "data": {
      "text/markdown": [
       "[P325192](https://cdli.ucla.edu/dl/photo/P325192.jpg) [metadata](https://cdli.ucla.edu/search/search_results.php?SearchMode=Text&ObjectID=P325192)\n"
      ],
      "text/plain": [
       "<IPython.core.display.Markdown object>"
      ]
     },
     "metadata": {},
     "output_type": "display_data"
    },
    {
     "data": {
      "text/markdown": [
       "[P411613](https://cdli.ucla.edu/dl/photo/P411613.jpg) [metadata](https://cdli.ucla.edu/search/search_results.php?SearchMode=Text&ObjectID=P411613)\n"
      ],
      "text/plain": [
       "<IPython.core.display.Markdown object>"
      ]
     },
     "metadata": {},
     "output_type": "display_data"
    },
    {
     "data": {
      "text/markdown": [
       "##### cluster 33 with 3 tablets\n"
      ],
      "text/plain": [
       "<IPython.core.display.Markdown object>"
      ]
     },
     "metadata": {},
     "output_type": "display_data"
    },
    {
     "data": {
      "text/markdown": [
       "[P325162](https://cdli.ucla.edu/dl/photo/P325162.jpg) [metadata](https://cdli.ucla.edu/search/search_results.php?SearchMode=Text&ObjectID=P325162)\n"
      ],
      "text/plain": [
       "<IPython.core.display.Markdown object>"
      ]
     },
     "metadata": {},
     "output_type": "display_data"
    },
    {
     "data": {
      "text/markdown": [
       "[P325351](https://cdli.ucla.edu/dl/photo/P325351.jpg) [metadata](https://cdli.ucla.edu/search/search_results.php?SearchMode=Text&ObjectID=P325351)\n"
      ],
      "text/plain": [
       "<IPython.core.display.Markdown object>"
      ]
     },
     "metadata": {},
     "output_type": "display_data"
    },
    {
     "data": {
      "text/markdown": [
       "[P006402](https://cdli.ucla.edu/dl/photo/P006402.jpg) [metadata](https://cdli.ucla.edu/search/search_results.php?SearchMode=Text&ObjectID=P006402)\n"
      ],
      "text/plain": [
       "<IPython.core.display.Markdown object>"
      ]
     },
     "metadata": {},
     "output_type": "display_data"
    },
    {
     "data": {
      "text/markdown": [
       "##### cluster 34 with 3 tablets\n"
      ],
      "text/plain": [
       "<IPython.core.display.Markdown object>"
      ]
     },
     "metadata": {},
     "output_type": "display_data"
    },
    {
     "data": {
      "text/markdown": [
       "[P325486](https://cdli.ucla.edu/dl/photo/P325486.jpg) [metadata](https://cdli.ucla.edu/search/search_results.php?SearchMode=Text&ObjectID=P325486)\n"
      ],
      "text/plain": [
       "<IPython.core.display.Markdown object>"
      ]
     },
     "metadata": {},
     "output_type": "display_data"
    },
    {
     "data": {
      "text/markdown": [
       "[P005250](https://cdli.ucla.edu/dl/photo/P005250.jpg) [metadata](https://cdli.ucla.edu/search/search_results.php?SearchMode=Text&ObjectID=P005250)\n"
      ],
      "text/plain": [
       "<IPython.core.display.Markdown object>"
      ]
     },
     "metadata": {},
     "output_type": "display_data"
    },
    {
     "data": {
      "text/markdown": [
       "[P005358](https://cdli.ucla.edu/dl/photo/P005358.jpg) [metadata](https://cdli.ucla.edu/search/search_results.php?SearchMode=Text&ObjectID=P005358)\n"
      ],
      "text/plain": [
       "<IPython.core.display.Markdown object>"
      ]
     },
     "metadata": {},
     "output_type": "display_data"
    },
    {
     "data": {
      "text/markdown": [
       "##### cluster 35 with 3 tablets\n"
      ],
      "text/plain": [
       "<IPython.core.display.Markdown object>"
      ]
     },
     "metadata": {},
     "output_type": "display_data"
    },
    {
     "data": {
      "text/markdown": [
       "[P387541](https://cdli.ucla.edu/dl/photo/P387541.jpg) [metadata](https://cdli.ucla.edu/search/search_results.php?SearchMode=Text&ObjectID=P387541)\n"
      ],
      "text/plain": [
       "<IPython.core.display.Markdown object>"
      ]
     },
     "metadata": {},
     "output_type": "display_data"
    },
    {
     "data": {
      "text/markdown": [
       "[P387571](https://cdli.ucla.edu/dl/photo/P387571.jpg) [metadata](https://cdli.ucla.edu/search/search_results.php?SearchMode=Text&ObjectID=P387571)\n"
      ],
      "text/plain": [
       "<IPython.core.display.Markdown object>"
      ]
     },
     "metadata": {},
     "output_type": "display_data"
    },
    {
     "data": {
      "text/markdown": [
       "[P387540](https://cdli.ucla.edu/dl/photo/P387540.jpg) [metadata](https://cdli.ucla.edu/search/search_results.php?SearchMode=Text&ObjectID=P387540)\n"
      ],
      "text/plain": [
       "<IPython.core.display.Markdown object>"
      ]
     },
     "metadata": {},
     "output_type": "display_data"
    },
    {
     "data": {
      "text/markdown": [
       "##### cluster 36 with 3 tablets\n"
      ],
      "text/plain": [
       "<IPython.core.display.Markdown object>"
      ]
     },
     "metadata": {},
     "output_type": "display_data"
    },
    {
     "data": {
      "text/markdown": [
       "[P006408](https://cdli.ucla.edu/dl/photo/P006408.jpg) [metadata](https://cdli.ucla.edu/search/search_results.php?SearchMode=Text&ObjectID=P006408)\n"
      ],
      "text/plain": [
       "<IPython.core.display.Markdown object>"
      ]
     },
     "metadata": {},
     "output_type": "display_data"
    },
    {
     "data": {
      "text/markdown": [
       "[P006202](https://cdli.ucla.edu/dl/photo/P006202.jpg) [metadata](https://cdli.ucla.edu/search/search_results.php?SearchMode=Text&ObjectID=P006202)\n"
      ],
      "text/plain": [
       "<IPython.core.display.Markdown object>"
      ]
     },
     "metadata": {},
     "output_type": "display_data"
    },
    {
     "data": {
      "text/markdown": [
       "[P004255](https://cdli.ucla.edu/dl/photo/P004255.jpg) [metadata](https://cdli.ucla.edu/search/search_results.php?SearchMode=Text&ObjectID=P004255)\n"
      ],
      "text/plain": [
       "<IPython.core.display.Markdown object>"
      ]
     },
     "metadata": {},
     "output_type": "display_data"
    },
    {
     "data": {
      "text/markdown": [
       "##### cluster 37 with 3 tablets\n"
      ],
      "text/plain": [
       "<IPython.core.display.Markdown object>"
      ]
     },
     "metadata": {},
     "output_type": "display_data"
    },
    {
     "data": {
      "text/markdown": [
       "[P464161](https://cdli.ucla.edu/dl/photo/P464161.jpg) [metadata](https://cdli.ucla.edu/search/search_results.php?SearchMode=Text&ObjectID=P464161)\n"
      ],
      "text/plain": [
       "<IPython.core.display.Markdown object>"
      ]
     },
     "metadata": {},
     "output_type": "display_data"
    },
    {
     "data": {
      "text/markdown": [
       "[P464185](https://cdli.ucla.edu/dl/photo/P464185.jpg) [metadata](https://cdli.ucla.edu/search/search_results.php?SearchMode=Text&ObjectID=P464185)\n"
      ],
      "text/plain": [
       "<IPython.core.display.Markdown object>"
      ]
     },
     "metadata": {},
     "output_type": "display_data"
    },
    {
     "data": {
      "text/markdown": [
       "[P002387](https://cdli.ucla.edu/dl/photo/P002387.jpg) [metadata](https://cdli.ucla.edu/search/search_results.php?SearchMode=Text&ObjectID=P002387)\n"
      ],
      "text/plain": [
       "<IPython.core.display.Markdown object>"
      ]
     },
     "metadata": {},
     "output_type": "display_data"
    },
    {
     "data": {
      "text/markdown": [
       "##### cluster 38 with 3 tablets\n"
      ],
      "text/plain": [
       "<IPython.core.display.Markdown object>"
      ]
     },
     "metadata": {},
     "output_type": "display_data"
    },
    {
     "data": {
      "text/markdown": [
       "[P002809](https://cdli.ucla.edu/dl/photo/P002809.jpg) [metadata](https://cdli.ucla.edu/search/search_results.php?SearchMode=Text&ObjectID=P002809)\n"
      ],
      "text/plain": [
       "<IPython.core.display.Markdown object>"
      ]
     },
     "metadata": {},
     "output_type": "display_data"
    },
    {
     "data": {
      "text/markdown": [
       "[P002782](https://cdli.ucla.edu/dl/photo/P002782.jpg) [metadata](https://cdli.ucla.edu/search/search_results.php?SearchMode=Text&ObjectID=P002782)\n"
      ],
      "text/plain": [
       "<IPython.core.display.Markdown object>"
      ]
     },
     "metadata": {},
     "output_type": "display_data"
    },
    {
     "data": {
      "text/markdown": [
       "[P002727](https://cdli.ucla.edu/dl/photo/P002727.jpg) [metadata](https://cdli.ucla.edu/search/search_results.php?SearchMode=Text&ObjectID=P002727)\n"
      ],
      "text/plain": [
       "<IPython.core.display.Markdown object>"
      ]
     },
     "metadata": {},
     "output_type": "display_data"
    },
    {
     "data": {
      "text/markdown": [
       "##### cluster 39 with 3 tablets\n"
      ],
      "text/plain": [
       "<IPython.core.display.Markdown object>"
      ]
     },
     "metadata": {},
     "output_type": "display_data"
    },
    {
     "data": {
      "text/markdown": [
       "[P003768](https://cdli.ucla.edu/dl/photo/P003768.jpg) [metadata](https://cdli.ucla.edu/search/search_results.php?SearchMode=Text&ObjectID=P003768)\n"
      ],
      "text/plain": [
       "<IPython.core.display.Markdown object>"
      ]
     },
     "metadata": {},
     "output_type": "display_data"
    },
    {
     "data": {
      "text/markdown": [
       "[P003685](https://cdli.ucla.edu/dl/photo/P003685.jpg) [metadata](https://cdli.ucla.edu/search/search_results.php?SearchMode=Text&ObjectID=P003685)\n"
      ],
      "text/plain": [
       "<IPython.core.display.Markdown object>"
      ]
     },
     "metadata": {},
     "output_type": "display_data"
    },
    {
     "data": {
      "text/markdown": [
       "[P003515](https://cdli.ucla.edu/dl/photo/P003515.jpg) [metadata](https://cdli.ucla.edu/search/search_results.php?SearchMode=Text&ObjectID=P003515)\n"
      ],
      "text/plain": [
       "<IPython.core.display.Markdown object>"
      ]
     },
     "metadata": {},
     "output_type": "display_data"
    },
    {
     "data": {
      "text/markdown": [
       "##### cluster 40 with 3 tablets\n"
      ],
      "text/plain": [
       "<IPython.core.display.Markdown object>"
      ]
     },
     "metadata": {},
     "output_type": "display_data"
    },
    {
     "data": {
      "text/markdown": [
       "[P004521](https://cdli.ucla.edu/dl/photo/P004521.jpg) [metadata](https://cdli.ucla.edu/search/search_results.php?SearchMode=Text&ObjectID=P004521)\n"
      ],
      "text/plain": [
       "<IPython.core.display.Markdown object>"
      ]
     },
     "metadata": {},
     "output_type": "display_data"
    },
    {
     "data": {
      "text/markdown": [
       "[P004824](https://cdli.ucla.edu/dl/photo/P004824.jpg) [metadata](https://cdli.ucla.edu/search/search_results.php?SearchMode=Text&ObjectID=P004824)\n"
      ],
      "text/plain": [
       "<IPython.core.display.Markdown object>"
      ]
     },
     "metadata": {},
     "output_type": "display_data"
    },
    {
     "data": {
      "text/markdown": [
       "[P003150](https://cdli.ucla.edu/dl/photo/P003150.jpg) [metadata](https://cdli.ucla.edu/search/search_results.php?SearchMode=Text&ObjectID=P003150)\n"
      ],
      "text/plain": [
       "<IPython.core.display.Markdown object>"
      ]
     },
     "metadata": {},
     "output_type": "display_data"
    },
    {
     "data": {
      "text/markdown": [
       "##### cluster 41 with 3 tablets\n"
      ],
      "text/plain": [
       "<IPython.core.display.Markdown object>"
      ]
     },
     "metadata": {},
     "output_type": "display_data"
    },
    {
     "data": {
      "text/markdown": [
       "[P005078](https://cdli.ucla.edu/dl/photo/P005078.jpg) [metadata](https://cdli.ucla.edu/search/search_results.php?SearchMode=Text&ObjectID=P005078)\n"
      ],
      "text/plain": [
       "<IPython.core.display.Markdown object>"
      ]
     },
     "metadata": {},
     "output_type": "display_data"
    },
    {
     "data": {
      "text/markdown": [
       "[P005100](https://cdli.ucla.edu/dl/photo/P005100.jpg) [metadata](https://cdli.ucla.edu/search/search_results.php?SearchMode=Text&ObjectID=P005100)\n"
      ],
      "text/plain": [
       "<IPython.core.display.Markdown object>"
      ]
     },
     "metadata": {},
     "output_type": "display_data"
    },
    {
     "data": {
      "text/markdown": [
       "[P005103](https://cdli.ucla.edu/dl/photo/P005103.jpg) [metadata](https://cdli.ucla.edu/search/search_results.php?SearchMode=Text&ObjectID=P005103)\n"
      ],
      "text/plain": [
       "<IPython.core.display.Markdown object>"
      ]
     },
     "metadata": {},
     "output_type": "display_data"
    },
    {
     "data": {
      "text/markdown": [
       "##### cluster 42 with 3 tablets\n"
      ],
      "text/plain": [
       "<IPython.core.display.Markdown object>"
      ]
     },
     "metadata": {},
     "output_type": "display_data"
    },
    {
     "data": {
      "text/markdown": [
       "[P004663](https://cdli.ucla.edu/dl/photo/P004663.jpg) [metadata](https://cdli.ucla.edu/search/search_results.php?SearchMode=Text&ObjectID=P004663)\n"
      ],
      "text/plain": [
       "<IPython.core.display.Markdown object>"
      ]
     },
     "metadata": {},
     "output_type": "display_data"
    },
    {
     "data": {
      "text/markdown": [
       "[P002991](https://cdli.ucla.edu/dl/photo/P002991.jpg) [metadata](https://cdli.ucla.edu/search/search_results.php?SearchMode=Text&ObjectID=P002991)\n"
      ],
      "text/plain": [
       "<IPython.core.display.Markdown object>"
      ]
     },
     "metadata": {},
     "output_type": "display_data"
    },
    {
     "data": {
      "text/markdown": [
       "[P004206](https://cdli.ucla.edu/dl/photo/P004206.jpg) [metadata](https://cdli.ucla.edu/search/search_results.php?SearchMode=Text&ObjectID=P004206)\n"
      ],
      "text/plain": [
       "<IPython.core.display.Markdown object>"
      ]
     },
     "metadata": {},
     "output_type": "display_data"
    },
    {
     "data": {
      "text/markdown": [
       "##### cluster 43 with 2 tablets\n"
      ],
      "text/plain": [
       "<IPython.core.display.Markdown object>"
      ]
     },
     "metadata": {},
     "output_type": "display_data"
    },
    {
     "data": {
      "text/markdown": [
       "[P000014](https://cdli.ucla.edu/dl/photo/P000014.jpg) [metadata](https://cdli.ucla.edu/search/search_results.php?SearchMode=Text&ObjectID=P000014)\n"
      ],
      "text/plain": [
       "<IPython.core.display.Markdown object>"
      ]
     },
     "metadata": {},
     "output_type": "display_data"
    },
    {
     "data": {
      "text/markdown": [
       "[P471690](https://cdli.ucla.edu/dl/photo/P471690.jpg) [metadata](https://cdli.ucla.edu/search/search_results.php?SearchMode=Text&ObjectID=P471690)\n"
      ],
      "text/plain": [
       "<IPython.core.display.Markdown object>"
      ]
     },
     "metadata": {},
     "output_type": "display_data"
    },
    {
     "data": {
      "text/markdown": [
       "##### cluster 44 with 2 tablets\n"
      ],
      "text/plain": [
       "<IPython.core.display.Markdown object>"
      ]
     },
     "metadata": {},
     "output_type": "display_data"
    },
    {
     "data": {
      "text/markdown": [
       "[P001708](https://cdli.ucla.edu/dl/photo/P001708.jpg) [metadata](https://cdli.ucla.edu/search/search_results.php?SearchMode=Text&ObjectID=P001708)\n"
      ],
      "text/plain": [
       "<IPython.core.display.Markdown object>"
      ]
     },
     "metadata": {},
     "output_type": "display_data"
    },
    {
     "data": {
      "text/markdown": [
       "[P004487](https://cdli.ucla.edu/dl/photo/P004487.jpg) [metadata](https://cdli.ucla.edu/search/search_results.php?SearchMode=Text&ObjectID=P004487)\n"
      ],
      "text/plain": [
       "<IPython.core.display.Markdown object>"
      ]
     },
     "metadata": {},
     "output_type": "display_data"
    },
    {
     "data": {
      "text/markdown": [
       "##### cluster 45 with 2 tablets\n"
      ],
      "text/plain": [
       "<IPython.core.display.Markdown object>"
      ]
     },
     "metadata": {},
     "output_type": "display_data"
    },
    {
     "data": {
      "text/markdown": [
       "[P002043](https://cdli.ucla.edu/dl/photo/P002043.jpg) [metadata](https://cdli.ucla.edu/search/search_results.php?SearchMode=Text&ObjectID=P002043)\n"
      ],
      "text/plain": [
       "<IPython.core.display.Markdown object>"
      ]
     },
     "metadata": {},
     "output_type": "display_data"
    },
    {
     "data": {
      "text/markdown": [
       "[P002674](https://cdli.ucla.edu/dl/photo/P002674.jpg) [metadata](https://cdli.ucla.edu/search/search_results.php?SearchMode=Text&ObjectID=P002674)\n"
      ],
      "text/plain": [
       "<IPython.core.display.Markdown object>"
      ]
     },
     "metadata": {},
     "output_type": "display_data"
    },
    {
     "data": {
      "text/markdown": [
       "##### cluster 46 with 2 tablets\n"
      ],
      "text/plain": [
       "<IPython.core.display.Markdown object>"
      ]
     },
     "metadata": {},
     "output_type": "display_data"
    },
    {
     "data": {
      "text/markdown": [
       "[P002092](https://cdli.ucla.edu/dl/photo/P002092.jpg) [metadata](https://cdli.ucla.edu/search/search_results.php?SearchMode=Text&ObjectID=P002092)\n"
      ],
      "text/plain": [
       "<IPython.core.display.Markdown object>"
      ]
     },
     "metadata": {},
     "output_type": "display_data"
    },
    {
     "data": {
      "text/markdown": [
       "[P002094](https://cdli.ucla.edu/dl/photo/P002094.jpg) [metadata](https://cdli.ucla.edu/search/search_results.php?SearchMode=Text&ObjectID=P002094)\n"
      ],
      "text/plain": [
       "<IPython.core.display.Markdown object>"
      ]
     },
     "metadata": {},
     "output_type": "display_data"
    },
    {
     "data": {
      "text/markdown": [
       "##### cluster 47 with 2 tablets\n"
      ],
      "text/plain": [
       "<IPython.core.display.Markdown object>"
      ]
     },
     "metadata": {},
     "output_type": "display_data"
    },
    {
     "data": {
      "text/markdown": [
       "[P002099](https://cdli.ucla.edu/dl/photo/P002099.jpg) [metadata](https://cdli.ucla.edu/search/search_results.php?SearchMode=Text&ObjectID=P002099)\n"
      ],
      "text/plain": [
       "<IPython.core.display.Markdown object>"
      ]
     },
     "metadata": {},
     "output_type": "display_data"
    },
    {
     "data": {
      "text/markdown": [
       "[P005324](https://cdli.ucla.edu/dl/photo/P005324.jpg) [metadata](https://cdli.ucla.edu/search/search_results.php?SearchMode=Text&ObjectID=P005324)\n"
      ],
      "text/plain": [
       "<IPython.core.display.Markdown object>"
      ]
     },
     "metadata": {},
     "output_type": "display_data"
    },
    {
     "data": {
      "text/markdown": [
       "##### cluster 48 with 2 tablets\n"
      ],
      "text/plain": [
       "<IPython.core.display.Markdown object>"
      ]
     },
     "metadata": {},
     "output_type": "display_data"
    },
    {
     "data": {
      "text/markdown": [
       "[P006010](https://cdli.ucla.edu/dl/photo/P006010.jpg) [metadata](https://cdli.ucla.edu/search/search_results.php?SearchMode=Text&ObjectID=P006010)\n"
      ],
      "text/plain": [
       "<IPython.core.display.Markdown object>"
      ]
     },
     "metadata": {},
     "output_type": "display_data"
    },
    {
     "data": {
      "text/markdown": [
       "[P004051](https://cdli.ucla.edu/dl/photo/P004051.jpg) [metadata](https://cdli.ucla.edu/search/search_results.php?SearchMode=Text&ObjectID=P004051)\n"
      ],
      "text/plain": [
       "<IPython.core.display.Markdown object>"
      ]
     },
     "metadata": {},
     "output_type": "display_data"
    },
    {
     "data": {
      "text/markdown": [
       "##### cluster 49 with 2 tablets\n"
      ],
      "text/plain": [
       "<IPython.core.display.Markdown object>"
      ]
     },
     "metadata": {},
     "output_type": "display_data"
    },
    {
     "data": {
      "text/markdown": [
       "[P002342](https://cdli.ucla.edu/dl/photo/P002342.jpg) [metadata](https://cdli.ucla.edu/search/search_results.php?SearchMode=Text&ObjectID=P002342)\n"
      ],
      "text/plain": [
       "<IPython.core.display.Markdown object>"
      ]
     },
     "metadata": {},
     "output_type": "display_data"
    },
    {
     "data": {
      "text/markdown": [
       "[P328732](https://cdli.ucla.edu/dl/photo/P328732.jpg) [metadata](https://cdli.ucla.edu/search/search_results.php?SearchMode=Text&ObjectID=P328732)\n"
      ],
      "text/plain": [
       "<IPython.core.display.Markdown object>"
      ]
     },
     "metadata": {},
     "output_type": "display_data"
    },
    {
     "data": {
      "text/markdown": [
       "##### cluster 50 with 2 tablets\n"
      ],
      "text/plain": [
       "<IPython.core.display.Markdown object>"
      ]
     },
     "metadata": {},
     "output_type": "display_data"
    },
    {
     "data": {
      "text/markdown": [
       "[P002499](https://cdli.ucla.edu/dl/photo/P002499.jpg) [metadata](https://cdli.ucla.edu/search/search_results.php?SearchMode=Text&ObjectID=P002499)\n"
      ],
      "text/plain": [
       "<IPython.core.display.Markdown object>"
      ]
     },
     "metadata": {},
     "output_type": "display_data"
    },
    {
     "data": {
      "text/markdown": [
       "[P005049](https://cdli.ucla.edu/dl/photo/P005049.jpg) [metadata](https://cdli.ucla.edu/search/search_results.php?SearchMode=Text&ObjectID=P005049)\n"
      ],
      "text/plain": [
       "<IPython.core.display.Markdown object>"
      ]
     },
     "metadata": {},
     "output_type": "display_data"
    },
    {
     "data": {
      "text/markdown": [
       "##### cluster 51 with 2 tablets\n"
      ],
      "text/plain": [
       "<IPython.core.display.Markdown object>"
      ]
     },
     "metadata": {},
     "output_type": "display_data"
    },
    {
     "data": {
      "text/markdown": [
       "[P002526](https://cdli.ucla.edu/dl/photo/P002526.jpg) [metadata](https://cdli.ucla.edu/search/search_results.php?SearchMode=Text&ObjectID=P002526)\n"
      ],
      "text/plain": [
       "<IPython.core.display.Markdown object>"
      ]
     },
     "metadata": {},
     "output_type": "display_data"
    },
    {
     "data": {
      "text/markdown": [
       "[P000824](https://cdli.ucla.edu/dl/photo/P000824.jpg) [metadata](https://cdli.ucla.edu/search/search_results.php?SearchMode=Text&ObjectID=P000824)\n"
      ],
      "text/plain": [
       "<IPython.core.display.Markdown object>"
      ]
     },
     "metadata": {},
     "output_type": "display_data"
    },
    {
     "data": {
      "text/markdown": [
       "##### cluster 52 with 2 tablets\n"
      ],
      "text/plain": [
       "<IPython.core.display.Markdown object>"
      ]
     },
     "metadata": {},
     "output_type": "display_data"
    },
    {
     "data": {
      "text/markdown": [
       "[P002895](https://cdli.ucla.edu/dl/photo/P002895.jpg) [metadata](https://cdli.ucla.edu/search/search_results.php?SearchMode=Text&ObjectID=P002895)\n"
      ],
      "text/plain": [
       "<IPython.core.display.Markdown object>"
      ]
     },
     "metadata": {},
     "output_type": "display_data"
    },
    {
     "data": {
      "text/markdown": [
       "[P006231](https://cdli.ucla.edu/dl/photo/P006231.jpg) [metadata](https://cdli.ucla.edu/search/search_results.php?SearchMode=Text&ObjectID=P006231)\n"
      ],
      "text/plain": [
       "<IPython.core.display.Markdown object>"
      ]
     },
     "metadata": {},
     "output_type": "display_data"
    },
    {
     "data": {
      "text/markdown": [
       "##### cluster 53 with 2 tablets\n"
      ],
      "text/plain": [
       "<IPython.core.display.Markdown object>"
      ]
     },
     "metadata": {},
     "output_type": "display_data"
    },
    {
     "data": {
      "text/markdown": [
       "[P003542](https://cdli.ucla.edu/dl/photo/P003542.jpg) [metadata](https://cdli.ucla.edu/search/search_results.php?SearchMode=Text&ObjectID=P003542)\n"
      ],
      "text/plain": [
       "<IPython.core.display.Markdown object>"
      ]
     },
     "metadata": {},
     "output_type": "display_data"
    },
    {
     "data": {
      "text/markdown": [
       "[P003593](https://cdli.ucla.edu/dl/photo/P003593.jpg) [metadata](https://cdli.ucla.edu/search/search_results.php?SearchMode=Text&ObjectID=P003593)\n"
      ],
      "text/plain": [
       "<IPython.core.display.Markdown object>"
      ]
     },
     "metadata": {},
     "output_type": "display_data"
    },
    {
     "data": {
      "text/markdown": [
       "##### cluster 54 with 2 tablets\n"
      ],
      "text/plain": [
       "<IPython.core.display.Markdown object>"
      ]
     },
     "metadata": {},
     "output_type": "display_data"
    },
    {
     "data": {
      "text/markdown": [
       "[P003597](https://cdli.ucla.edu/dl/photo/P003597.jpg) [metadata](https://cdli.ucla.edu/search/search_results.php?SearchMode=Text&ObjectID=P003597)\n"
      ],
      "text/plain": [
       "<IPython.core.display.Markdown object>"
      ]
     },
     "metadata": {},
     "output_type": "display_data"
    },
    {
     "data": {
      "text/markdown": [
       "[P002619](https://cdli.ucla.edu/dl/photo/P002619.jpg) [metadata](https://cdli.ucla.edu/search/search_results.php?SearchMode=Text&ObjectID=P002619)\n"
      ],
      "text/plain": [
       "<IPython.core.display.Markdown object>"
      ]
     },
     "metadata": {},
     "output_type": "display_data"
    },
    {
     "data": {
      "text/markdown": [
       "##### cluster 55 with 2 tablets\n"
      ],
      "text/plain": [
       "<IPython.core.display.Markdown object>"
      ]
     },
     "metadata": {},
     "output_type": "display_data"
    },
    {
     "data": {
      "text/markdown": [
       "[P003636](https://cdli.ucla.edu/dl/photo/P003636.jpg) [metadata](https://cdli.ucla.edu/search/search_results.php?SearchMode=Text&ObjectID=P003636)\n"
      ],
      "text/plain": [
       "<IPython.core.display.Markdown object>"
      ]
     },
     "metadata": {},
     "output_type": "display_data"
    },
    {
     "data": {
      "text/markdown": [
       "[P003516](https://cdli.ucla.edu/dl/photo/P003516.jpg) [metadata](https://cdli.ucla.edu/search/search_results.php?SearchMode=Text&ObjectID=P003516)\n"
      ],
      "text/plain": [
       "<IPython.core.display.Markdown object>"
      ]
     },
     "metadata": {},
     "output_type": "display_data"
    },
    {
     "data": {
      "text/markdown": [
       "##### cluster 56 with 2 tablets\n"
      ],
      "text/plain": [
       "<IPython.core.display.Markdown object>"
      ]
     },
     "metadata": {},
     "output_type": "display_data"
    },
    {
     "data": {
      "text/markdown": [
       "[P003716](https://cdli.ucla.edu/dl/photo/P003716.jpg) [metadata](https://cdli.ucla.edu/search/search_results.php?SearchMode=Text&ObjectID=P003716)\n"
      ],
      "text/plain": [
       "<IPython.core.display.Markdown object>"
      ]
     },
     "metadata": {},
     "output_type": "display_data"
    },
    {
     "data": {
      "text/markdown": [
       "[P004307](https://cdli.ucla.edu/dl/photo/P004307.jpg) [metadata](https://cdli.ucla.edu/search/search_results.php?SearchMode=Text&ObjectID=P004307)\n"
      ],
      "text/plain": [
       "<IPython.core.display.Markdown object>"
      ]
     },
     "metadata": {},
     "output_type": "display_data"
    },
    {
     "data": {
      "text/markdown": [
       "##### cluster 57 with 2 tablets\n"
      ],
      "text/plain": [
       "<IPython.core.display.Markdown object>"
      ]
     },
     "metadata": {},
     "output_type": "display_data"
    },
    {
     "data": {
      "text/markdown": [
       "[P004591](https://cdli.ucla.edu/dl/photo/P004591.jpg) [metadata](https://cdli.ucla.edu/search/search_results.php?SearchMode=Text&ObjectID=P004591)\n"
      ],
      "text/plain": [
       "<IPython.core.display.Markdown object>"
      ]
     },
     "metadata": {},
     "output_type": "display_data"
    },
    {
     "data": {
      "text/markdown": [
       "[P002373](https://cdli.ucla.edu/dl/photo/P002373.jpg) [metadata](https://cdli.ucla.edu/search/search_results.php?SearchMode=Text&ObjectID=P002373)\n"
      ],
      "text/plain": [
       "<IPython.core.display.Markdown object>"
      ]
     },
     "metadata": {},
     "output_type": "display_data"
    },
    {
     "data": {
      "text/markdown": [
       "##### cluster 58 with 2 tablets\n"
      ],
      "text/plain": [
       "<IPython.core.display.Markdown object>"
      ]
     },
     "metadata": {},
     "output_type": "display_data"
    },
    {
     "data": {
      "text/markdown": [
       "[P004677](https://cdli.ucla.edu/dl/photo/P004677.jpg) [metadata](https://cdli.ucla.edu/search/search_results.php?SearchMode=Text&ObjectID=P004677)\n"
      ],
      "text/plain": [
       "<IPython.core.display.Markdown object>"
      ]
     },
     "metadata": {},
     "output_type": "display_data"
    },
    {
     "data": {
      "text/markdown": [
       "[P004894](https://cdli.ucla.edu/dl/photo/P004894.jpg) [metadata](https://cdli.ucla.edu/search/search_results.php?SearchMode=Text&ObjectID=P004894)\n"
      ],
      "text/plain": [
       "<IPython.core.display.Markdown object>"
      ]
     },
     "metadata": {},
     "output_type": "display_data"
    },
    {
     "data": {
      "text/markdown": [
       "##### cluster 59 with 2 tablets\n"
      ],
      "text/plain": [
       "<IPython.core.display.Markdown object>"
      ]
     },
     "metadata": {},
     "output_type": "display_data"
    },
    {
     "data": {
      "text/markdown": [
       "[P004775](https://cdli.ucla.edu/dl/photo/P004775.jpg) [metadata](https://cdli.ucla.edu/search/search_results.php?SearchMode=Text&ObjectID=P004775)\n"
      ],
      "text/plain": [
       "<IPython.core.display.Markdown object>"
      ]
     },
     "metadata": {},
     "output_type": "display_data"
    },
    {
     "data": {
      "text/markdown": [
       "[P006125](https://cdli.ucla.edu/dl/photo/P006125.jpg) [metadata](https://cdli.ucla.edu/search/search_results.php?SearchMode=Text&ObjectID=P006125)\n"
      ],
      "text/plain": [
       "<IPython.core.display.Markdown object>"
      ]
     },
     "metadata": {},
     "output_type": "display_data"
    },
    {
     "data": {
      "text/markdown": [
       "##### cluster 60 with 2 tablets\n"
      ],
      "text/plain": [
       "<IPython.core.display.Markdown object>"
      ]
     },
     "metadata": {},
     "output_type": "display_data"
    },
    {
     "data": {
      "text/markdown": [
       "[P004831](https://cdli.ucla.edu/dl/photo/P004831.jpg) [metadata](https://cdli.ucla.edu/search/search_results.php?SearchMode=Text&ObjectID=P004831)\n"
      ],
      "text/plain": [
       "<IPython.core.display.Markdown object>"
      ]
     },
     "metadata": {},
     "output_type": "display_data"
    },
    {
     "data": {
      "text/markdown": [
       "[P002719](https://cdli.ucla.edu/dl/photo/P002719.jpg) [metadata](https://cdli.ucla.edu/search/search_results.php?SearchMode=Text&ObjectID=P002719)\n"
      ],
      "text/plain": [
       "<IPython.core.display.Markdown object>"
      ]
     },
     "metadata": {},
     "output_type": "display_data"
    },
    {
     "data": {
      "text/markdown": [
       "##### cluster 61 with 2 tablets\n"
      ],
      "text/plain": [
       "<IPython.core.display.Markdown object>"
      ]
     },
     "metadata": {},
     "output_type": "display_data"
    },
    {
     "data": {
      "text/markdown": [
       "[P004922](https://cdli.ucla.edu/dl/photo/P004922.jpg) [metadata](https://cdli.ucla.edu/search/search_results.php?SearchMode=Text&ObjectID=P004922)\n"
      ],
      "text/plain": [
       "<IPython.core.display.Markdown object>"
      ]
     },
     "metadata": {},
     "output_type": "display_data"
    },
    {
     "data": {
      "text/markdown": [
       "[P006286](https://cdli.ucla.edu/dl/photo/P006286.jpg) [metadata](https://cdli.ucla.edu/search/search_results.php?SearchMode=Text&ObjectID=P006286)\n"
      ],
      "text/plain": [
       "<IPython.core.display.Markdown object>"
      ]
     },
     "metadata": {},
     "output_type": "display_data"
    },
    {
     "data": {
      "text/markdown": [
       "##### cluster 62 with 2 tablets\n"
      ],
      "text/plain": [
       "<IPython.core.display.Markdown object>"
      ]
     },
     "metadata": {},
     "output_type": "display_data"
    },
    {
     "data": {
      "text/markdown": [
       "[P000625](https://cdli.ucla.edu/dl/photo/P000625.jpg) [metadata](https://cdli.ucla.edu/search/search_results.php?SearchMode=Text&ObjectID=P000625)\n"
      ],
      "text/plain": [
       "<IPython.core.display.Markdown object>"
      ]
     },
     "metadata": {},
     "output_type": "display_data"
    },
    {
     "data": {
      "text/markdown": [
       "[P000590](https://cdli.ucla.edu/dl/photo/P000590.jpg) [metadata](https://cdli.ucla.edu/search/search_results.php?SearchMode=Text&ObjectID=P000590)\n"
      ],
      "text/plain": [
       "<IPython.core.display.Markdown object>"
      ]
     },
     "metadata": {},
     "output_type": "display_data"
    },
    {
     "data": {
      "text/markdown": [
       "##### cluster 63 with 2 tablets\n"
      ],
      "text/plain": [
       "<IPython.core.display.Markdown object>"
      ]
     },
     "metadata": {},
     "output_type": "display_data"
    },
    {
     "data": {
      "text/markdown": [
       "[P000248](https://cdli.ucla.edu/dl/photo/P000248.jpg) [metadata](https://cdli.ucla.edu/search/search_results.php?SearchMode=Text&ObjectID=P000248)\n"
      ],
      "text/plain": [
       "<IPython.core.display.Markdown object>"
      ]
     },
     "metadata": {},
     "output_type": "display_data"
    },
    {
     "data": {
      "text/markdown": [
       "[P000279](https://cdli.ucla.edu/dl/photo/P000279.jpg) [metadata](https://cdli.ucla.edu/search/search_results.php?SearchMode=Text&ObjectID=P000279)\n"
      ],
      "text/plain": [
       "<IPython.core.display.Markdown object>"
      ]
     },
     "metadata": {},
     "output_type": "display_data"
    },
    {
     "data": {
      "text/markdown": [
       "##### cluster 64 with 2 tablets\n"
      ],
      "text/plain": [
       "<IPython.core.display.Markdown object>"
      ]
     },
     "metadata": {},
     "output_type": "display_data"
    },
    {
     "data": {
      "text/markdown": [
       "[P471687](https://cdli.ucla.edu/dl/photo/P471687.jpg) [metadata](https://cdli.ucla.edu/search/search_results.php?SearchMode=Text&ObjectID=P471687)\n"
      ],
      "text/plain": [
       "<IPython.core.display.Markdown object>"
      ]
     },
     "metadata": {},
     "output_type": "display_data"
    },
    {
     "data": {
      "text/markdown": [
       "[P000608](https://cdli.ucla.edu/dl/photo/P000608.jpg) [metadata](https://cdli.ucla.edu/search/search_results.php?SearchMode=Text&ObjectID=P000608)\n"
      ],
      "text/plain": [
       "<IPython.core.display.Markdown object>"
      ]
     },
     "metadata": {},
     "output_type": "display_data"
    },
    {
     "data": {
      "text/markdown": [
       "##### cluster 65 with 2 tablets\n"
      ],
      "text/plain": [
       "<IPython.core.display.Markdown object>"
      ]
     },
     "metadata": {},
     "output_type": "display_data"
    },
    {
     "data": {
      "text/markdown": [
       "[P000369](https://cdli.ucla.edu/dl/photo/P000369.jpg) [metadata](https://cdli.ucla.edu/search/search_results.php?SearchMode=Text&ObjectID=P000369)\n"
      ],
      "text/plain": [
       "<IPython.core.display.Markdown object>"
      ]
     },
     "metadata": {},
     "output_type": "display_data"
    },
    {
     "data": {
      "text/markdown": [
       "[P000308](https://cdli.ucla.edu/dl/photo/P000308.jpg) [metadata](https://cdli.ucla.edu/search/search_results.php?SearchMode=Text&ObjectID=P000308)\n"
      ],
      "text/plain": [
       "<IPython.core.display.Markdown object>"
      ]
     },
     "metadata": {},
     "output_type": "display_data"
    },
    {
     "data": {
      "text/markdown": [
       "##### cluster 66 with 2 tablets\n"
      ],
      "text/plain": [
       "<IPython.core.display.Markdown object>"
      ]
     },
     "metadata": {},
     "output_type": "display_data"
    },
    {
     "data": {
      "text/markdown": [
       "[P000566](https://cdli.ucla.edu/dl/photo/P000566.jpg) [metadata](https://cdli.ucla.edu/search/search_results.php?SearchMode=Text&ObjectID=P000566)\n"
      ],
      "text/plain": [
       "<IPython.core.display.Markdown object>"
      ]
     },
     "metadata": {},
     "output_type": "display_data"
    },
    {
     "data": {
      "text/markdown": [
       "[P000314](https://cdli.ucla.edu/dl/photo/P000314.jpg) [metadata](https://cdli.ucla.edu/search/search_results.php?SearchMode=Text&ObjectID=P000314)\n"
      ],
      "text/plain": [
       "<IPython.core.display.Markdown object>"
      ]
     },
     "metadata": {},
     "output_type": "display_data"
    },
    {
     "data": {
      "text/markdown": [
       "##### cluster 67 with 2 tablets\n"
      ],
      "text/plain": [
       "<IPython.core.display.Markdown object>"
      ]
     },
     "metadata": {},
     "output_type": "display_data"
    },
    {
     "data": {
      "text/markdown": [
       "[P000201](https://cdli.ucla.edu/dl/photo/P000201.jpg) [metadata](https://cdli.ucla.edu/search/search_results.php?SearchMode=Text&ObjectID=P000201)\n"
      ],
      "text/plain": [
       "<IPython.core.display.Markdown object>"
      ]
     },
     "metadata": {},
     "output_type": "display_data"
    },
    {
     "data": {
      "text/markdown": [
       "[P471686](https://cdli.ucla.edu/dl/photo/P471686.jpg) [metadata](https://cdli.ucla.edu/search/search_results.php?SearchMode=Text&ObjectID=P471686)\n"
      ],
      "text/plain": [
       "<IPython.core.display.Markdown object>"
      ]
     },
     "metadata": {},
     "output_type": "display_data"
    },
    {
     "data": {
      "text/markdown": [
       "##### cluster 68 with 2 tablets\n"
      ],
      "text/plain": [
       "<IPython.core.display.Markdown object>"
      ]
     },
     "metadata": {},
     "output_type": "display_data"
    },
    {
     "data": {
      "text/markdown": [
       "[P325217](https://cdli.ucla.edu/dl/photo/P325217.jpg) [metadata](https://cdli.ucla.edu/search/search_results.php?SearchMode=Text&ObjectID=P325217)\n"
      ],
      "text/plain": [
       "<IPython.core.display.Markdown object>"
      ]
     },
     "metadata": {},
     "output_type": "display_data"
    },
    {
     "data": {
      "text/markdown": [
       "[P325487](https://cdli.ucla.edu/dl/photo/P325487.jpg) [metadata](https://cdli.ucla.edu/search/search_results.php?SearchMode=Text&ObjectID=P325487)\n"
      ],
      "text/plain": [
       "<IPython.core.display.Markdown object>"
      ]
     },
     "metadata": {},
     "output_type": "display_data"
    },
    {
     "data": {
      "text/markdown": [
       "##### cluster 69 with 2 tablets\n"
      ],
      "text/plain": [
       "<IPython.core.display.Markdown object>"
      ]
     },
     "metadata": {},
     "output_type": "display_data"
    },
    {
     "data": {
      "text/markdown": [
       "[P326289](https://cdli.ucla.edu/dl/photo/P326289.jpg) [metadata](https://cdli.ucla.edu/search/search_results.php?SearchMode=Text&ObjectID=P326289)\n"
      ],
      "text/plain": [
       "<IPython.core.display.Markdown object>"
      ]
     },
     "metadata": {},
     "output_type": "display_data"
    },
    {
     "data": {
      "text/markdown": [
       "[P411603](https://cdli.ucla.edu/dl/photo/P411603.jpg) [metadata](https://cdli.ucla.edu/search/search_results.php?SearchMode=Text&ObjectID=P411603)\n"
      ],
      "text/plain": [
       "<IPython.core.display.Markdown object>"
      ]
     },
     "metadata": {},
     "output_type": "display_data"
    },
    {
     "data": {
      "text/markdown": [
       "##### cluster 70 with 2 tablets\n"
      ],
      "text/plain": [
       "<IPython.core.display.Markdown object>"
      ]
     },
     "metadata": {},
     "output_type": "display_data"
    },
    {
     "data": {
      "text/markdown": [
       "[P325740](https://cdli.ucla.edu/dl/photo/P325740.jpg) [metadata](https://cdli.ucla.edu/search/search_results.php?SearchMode=Text&ObjectID=P325740)\n"
      ],
      "text/plain": [
       "<IPython.core.display.Markdown object>"
      ]
     },
     "metadata": {},
     "output_type": "display_data"
    },
    {
     "data": {
      "text/markdown": [
       "[P005115](https://cdli.ucla.edu/dl/photo/P005115.jpg) [metadata](https://cdli.ucla.edu/search/search_results.php?SearchMode=Text&ObjectID=P005115)\n"
      ],
      "text/plain": [
       "<IPython.core.display.Markdown object>"
      ]
     },
     "metadata": {},
     "output_type": "display_data"
    },
    {
     "data": {
      "text/markdown": [
       "##### cluster 71 with 2 tablets\n"
      ],
      "text/plain": [
       "<IPython.core.display.Markdown object>"
      ]
     },
     "metadata": {},
     "output_type": "display_data"
    },
    {
     "data": {
      "text/markdown": [
       "[P326287](https://cdli.ucla.edu/dl/photo/P326287.jpg) [metadata](https://cdli.ucla.edu/search/search_results.php?SearchMode=Text&ObjectID=P326287)\n"
      ],
      "text/plain": [
       "<IPython.core.display.Markdown object>"
      ]
     },
     "metadata": {},
     "output_type": "display_data"
    },
    {
     "data": {
      "text/markdown": [
       "[P411609](https://cdli.ucla.edu/dl/photo/P411609.jpg) [metadata](https://cdli.ucla.edu/search/search_results.php?SearchMode=Text&ObjectID=P411609)\n"
      ],
      "text/plain": [
       "<IPython.core.display.Markdown object>"
      ]
     },
     "metadata": {},
     "output_type": "display_data"
    },
    {
     "data": {
      "text/markdown": [
       "##### cluster 72 with 2 tablets\n"
      ],
      "text/plain": [
       "<IPython.core.display.Markdown object>"
      ]
     },
     "metadata": {},
     "output_type": "display_data"
    },
    {
     "data": {
      "text/markdown": [
       "[P325485](https://cdli.ucla.edu/dl/photo/P325485.jpg) [metadata](https://cdli.ucla.edu/search/search_results.php?SearchMode=Text&ObjectID=P325485)\n"
      ],
      "text/plain": [
       "<IPython.core.display.Markdown object>"
      ]
     },
     "metadata": {},
     "output_type": "display_data"
    },
    {
     "data": {
      "text/markdown": [
       "[P330045](https://cdli.ucla.edu/dl/photo/P330045.jpg) [metadata](https://cdli.ucla.edu/search/search_results.php?SearchMode=Text&ObjectID=P330045)\n"
      ],
      "text/plain": [
       "<IPython.core.display.Markdown object>"
      ]
     },
     "metadata": {},
     "output_type": "display_data"
    },
    {
     "data": {
      "text/markdown": [
       "##### cluster 73 with 2 tablets\n"
      ],
      "text/plain": [
       "<IPython.core.display.Markdown object>"
      ]
     },
     "metadata": {},
     "output_type": "display_data"
    },
    {
     "data": {
      "text/markdown": [
       "[P325455](https://cdli.ucla.edu/dl/photo/P325455.jpg) [metadata](https://cdli.ucla.edu/search/search_results.php?SearchMode=Text&ObjectID=P325455)\n"
      ],
      "text/plain": [
       "<IPython.core.display.Markdown object>"
      ]
     },
     "metadata": {},
     "output_type": "display_data"
    },
    {
     "data": {
      "text/markdown": [
       "[P006362](https://cdli.ucla.edu/dl/photo/P006362.jpg) [metadata](https://cdli.ucla.edu/search/search_results.php?SearchMode=Text&ObjectID=P006362)\n"
      ],
      "text/plain": [
       "<IPython.core.display.Markdown object>"
      ]
     },
     "metadata": {},
     "output_type": "display_data"
    },
    {
     "data": {
      "text/markdown": [
       "##### cluster 74 with 2 tablets\n"
      ],
      "text/plain": [
       "<IPython.core.display.Markdown object>"
      ]
     },
     "metadata": {},
     "output_type": "display_data"
    },
    {
     "data": {
      "text/markdown": [
       "[P325063](https://cdli.ucla.edu/dl/photo/P325063.jpg) [metadata](https://cdli.ucla.edu/search/search_results.php?SearchMode=Text&ObjectID=P325063)\n"
      ],
      "text/plain": [
       "<IPython.core.display.Markdown object>"
      ]
     },
     "metadata": {},
     "output_type": "display_data"
    },
    {
     "data": {
      "text/markdown": [
       "[P325074](https://cdli.ucla.edu/dl/photo/P325074.jpg) [metadata](https://cdli.ucla.edu/search/search_results.php?SearchMode=Text&ObjectID=P325074)\n"
      ],
      "text/plain": [
       "<IPython.core.display.Markdown object>"
      ]
     },
     "metadata": {},
     "output_type": "display_data"
    },
    {
     "data": {
      "text/markdown": [
       "##### cluster 75 with 2 tablets\n"
      ],
      "text/plain": [
       "<IPython.core.display.Markdown object>"
      ]
     },
     "metadata": {},
     "output_type": "display_data"
    },
    {
     "data": {
      "text/markdown": [
       "[P325068](https://cdli.ucla.edu/dl/photo/P325068.jpg) [metadata](https://cdli.ucla.edu/search/search_results.php?SearchMode=Text&ObjectID=P325068)\n"
      ],
      "text/plain": [
       "<IPython.core.display.Markdown object>"
      ]
     },
     "metadata": {},
     "output_type": "display_data"
    },
    {
     "data": {
      "text/markdown": [
       "[P006292](https://cdli.ucla.edu/dl/photo/P006292.jpg) [metadata](https://cdli.ucla.edu/search/search_results.php?SearchMode=Text&ObjectID=P006292)\n"
      ],
      "text/plain": [
       "<IPython.core.display.Markdown object>"
      ]
     },
     "metadata": {},
     "output_type": "display_data"
    },
    {
     "data": {
      "text/markdown": [
       "##### cluster 76 with 2 tablets\n"
      ],
      "text/plain": [
       "<IPython.core.display.Markdown object>"
      ]
     },
     "metadata": {},
     "output_type": "display_data"
    },
    {
     "data": {
      "text/markdown": [
       "[P325065](https://cdli.ucla.edu/dl/photo/P325065.jpg) [metadata](https://cdli.ucla.edu/search/search_results.php?SearchMode=Text&ObjectID=P325065)\n"
      ],
      "text/plain": [
       "<IPython.core.display.Markdown object>"
      ]
     },
     "metadata": {},
     "output_type": "display_data"
    },
    {
     "data": {
      "text/markdown": [
       "[P326800](https://cdli.ucla.edu/dl/photo/P326800.jpg) [metadata](https://cdli.ucla.edu/search/search_results.php?SearchMode=Text&ObjectID=P326800)\n"
      ],
      "text/plain": [
       "<IPython.core.display.Markdown object>"
      ]
     },
     "metadata": {},
     "output_type": "display_data"
    },
    {
     "data": {
      "text/markdown": [
       "##### cluster 77 with 2 tablets\n"
      ],
      "text/plain": [
       "<IPython.core.display.Markdown object>"
      ]
     },
     "metadata": {},
     "output_type": "display_data"
    },
    {
     "data": {
      "text/markdown": [
       "[P325746](https://cdli.ucla.edu/dl/photo/P325746.jpg) [metadata](https://cdli.ucla.edu/search/search_results.php?SearchMode=Text&ObjectID=P325746)\n"
      ],
      "text/plain": [
       "<IPython.core.display.Markdown object>"
      ]
     },
     "metadata": {},
     "output_type": "display_data"
    },
    {
     "data": {
      "text/markdown": [
       "[P411624](https://cdli.ucla.edu/dl/photo/P411624.jpg) [metadata](https://cdli.ucla.edu/search/search_results.php?SearchMode=Text&ObjectID=P411624)\n"
      ],
      "text/plain": [
       "<IPython.core.display.Markdown object>"
      ]
     },
     "metadata": {},
     "output_type": "display_data"
    },
    {
     "data": {
      "text/markdown": [
       "##### cluster 78 with 2 tablets\n"
      ],
      "text/plain": [
       "<IPython.core.display.Markdown object>"
      ]
     },
     "metadata": {},
     "output_type": "display_data"
    },
    {
     "data": {
      "text/markdown": [
       "[P325488](https://cdli.ucla.edu/dl/photo/P325488.jpg) [metadata](https://cdli.ucla.edu/search/search_results.php?SearchMode=Text&ObjectID=P325488)\n"
      ],
      "text/plain": [
       "<IPython.core.display.Markdown object>"
      ]
     },
     "metadata": {},
     "output_type": "display_data"
    },
    {
     "data": {
      "text/markdown": [
       "[P330060](https://cdli.ucla.edu/dl/photo/P330060.jpg) [metadata](https://cdli.ucla.edu/search/search_results.php?SearchMode=Text&ObjectID=P330060)\n"
      ],
      "text/plain": [
       "<IPython.core.display.Markdown object>"
      ]
     },
     "metadata": {},
     "output_type": "display_data"
    },
    {
     "data": {
      "text/markdown": [
       "##### cluster 79 with 2 tablets\n"
      ],
      "text/plain": [
       "<IPython.core.display.Markdown object>"
      ]
     },
     "metadata": {},
     "output_type": "display_data"
    },
    {
     "data": {
      "text/markdown": [
       "[P325483](https://cdli.ucla.edu/dl/photo/P325483.jpg) [metadata](https://cdli.ucla.edu/search/search_results.php?SearchMode=Text&ObjectID=P325483)\n"
      ],
      "text/plain": [
       "<IPython.core.display.Markdown object>"
      ]
     },
     "metadata": {},
     "output_type": "display_data"
    },
    {
     "data": {
      "text/markdown": [
       "[P330050](https://cdli.ucla.edu/dl/photo/P330050.jpg) [metadata](https://cdli.ucla.edu/search/search_results.php?SearchMode=Text&ObjectID=P330050)\n"
      ],
      "text/plain": [
       "<IPython.core.display.Markdown object>"
      ]
     },
     "metadata": {},
     "output_type": "display_data"
    },
    {
     "data": {
      "text/markdown": [
       "##### cluster 80 with 2 tablets\n"
      ],
      "text/plain": [
       "<IPython.core.display.Markdown object>"
      ]
     },
     "metadata": {},
     "output_type": "display_data"
    },
    {
     "data": {
      "text/markdown": [
       "[P411621](https://cdli.ucla.edu/dl/photo/P411621.jpg) [metadata](https://cdli.ucla.edu/search/search_results.php?SearchMode=Text&ObjectID=P411621)\n"
      ],
      "text/plain": [
       "<IPython.core.display.Markdown object>"
      ]
     },
     "metadata": {},
     "output_type": "display_data"
    },
    {
     "data": {
      "text/markdown": [
       "[P006303](https://cdli.ucla.edu/dl/photo/P006303.jpg) [metadata](https://cdli.ucla.edu/search/search_results.php?SearchMode=Text&ObjectID=P006303)\n"
      ],
      "text/plain": [
       "<IPython.core.display.Markdown object>"
      ]
     },
     "metadata": {},
     "output_type": "display_data"
    },
    {
     "data": {
      "text/markdown": [
       "##### cluster 81 with 2 tablets\n"
      ],
      "text/plain": [
       "<IPython.core.display.Markdown object>"
      ]
     },
     "metadata": {},
     "output_type": "display_data"
    },
    {
     "data": {
      "text/markdown": [
       "[P449893](https://cdli.ucla.edu/dl/photo/P449893.jpg) [metadata](https://cdli.ucla.edu/search/search_results.php?SearchMode=Text&ObjectID=P449893)\n"
      ],
      "text/plain": [
       "<IPython.core.display.Markdown object>"
      ]
     },
     "metadata": {},
     "output_type": "display_data"
    },
    {
     "data": {
      "text/markdown": [
       "[P002182](https://cdli.ucla.edu/dl/photo/P002182.jpg) [metadata](https://cdli.ucla.edu/search/search_results.php?SearchMode=Text&ObjectID=P002182)\n"
      ],
      "text/plain": [
       "<IPython.core.display.Markdown object>"
      ]
     },
     "metadata": {},
     "output_type": "display_data"
    },
    {
     "data": {
      "text/markdown": [
       "##### cluster 82 with 2 tablets\n"
      ],
      "text/plain": [
       "<IPython.core.display.Markdown object>"
      ]
     },
     "metadata": {},
     "output_type": "display_data"
    },
    {
     "data": {
      "text/markdown": [
       "[P006429](https://cdli.ucla.edu/dl/photo/P006429.jpg) [metadata](https://cdli.ucla.edu/search/search_results.php?SearchMode=Text&ObjectID=P006429)\n"
      ],
      "text/plain": [
       "<IPython.core.display.Markdown object>"
      ]
     },
     "metadata": {},
     "output_type": "display_data"
    },
    {
     "data": {
      "text/markdown": [
       "[P005476](https://cdli.ucla.edu/dl/photo/P005476.jpg) [metadata](https://cdli.ucla.edu/search/search_results.php?SearchMode=Text&ObjectID=P005476)\n"
      ],
      "text/plain": [
       "<IPython.core.display.Markdown object>"
      ]
     },
     "metadata": {},
     "output_type": "display_data"
    },
    {
     "data": {
      "text/markdown": [
       "##### cluster 83 with 2 tablets\n"
      ],
      "text/plain": [
       "<IPython.core.display.Markdown object>"
      ]
     },
     "metadata": {},
     "output_type": "display_data"
    },
    {
     "data": {
      "text/markdown": [
       "[P464148](https://cdli.ucla.edu/dl/photo/P464148.jpg) [metadata](https://cdli.ucla.edu/search/search_results.php?SearchMode=Text&ObjectID=P464148)\n"
      ],
      "text/plain": [
       "<IPython.core.display.Markdown object>"
      ]
     },
     "metadata": {},
     "output_type": "display_data"
    },
    {
     "data": {
      "text/markdown": [
       "[P464149](https://cdli.ucla.edu/dl/photo/P464149.jpg) [metadata](https://cdli.ucla.edu/search/search_results.php?SearchMode=Text&ObjectID=P464149)\n"
      ],
      "text/plain": [
       "<IPython.core.display.Markdown object>"
      ]
     },
     "metadata": {},
     "output_type": "display_data"
    },
    {
     "data": {
      "text/markdown": [
       "##### cluster 84 with 2 tablets\n"
      ],
      "text/plain": [
       "<IPython.core.display.Markdown object>"
      ]
     },
     "metadata": {},
     "output_type": "display_data"
    },
    {
     "data": {
      "text/markdown": [
       "[P382658](https://cdli.ucla.edu/dl/photo/P382658.jpg) [metadata](https://cdli.ucla.edu/search/search_results.php?SearchMode=Text&ObjectID=P382658)\n"
      ],
      "text/plain": [
       "<IPython.core.display.Markdown object>"
      ]
     },
     "metadata": {},
     "output_type": "display_data"
    },
    {
     "data": {
      "text/markdown": [
       "[P464162](https://cdli.ucla.edu/dl/photo/P464162.jpg) [metadata](https://cdli.ucla.edu/search/search_results.php?SearchMode=Text&ObjectID=P464162)\n"
      ],
      "text/plain": [
       "<IPython.core.display.Markdown object>"
      ]
     },
     "metadata": {},
     "output_type": "display_data"
    },
    {
     "data": {
      "text/markdown": [
       "##### cluster 85 with 2 tablets\n"
      ],
      "text/plain": [
       "<IPython.core.display.Markdown object>"
      ]
     },
     "metadata": {},
     "output_type": "display_data"
    },
    {
     "data": {
      "text/markdown": [
       "[P382659](https://cdli.ucla.edu/dl/photo/P382659.jpg) [metadata](https://cdli.ucla.edu/search/search_results.php?SearchMode=Text&ObjectID=P382659)\n"
      ],
      "text/plain": [
       "<IPython.core.display.Markdown object>"
      ]
     },
     "metadata": {},
     "output_type": "display_data"
    },
    {
     "data": {
      "text/markdown": [
       "[P464168](https://cdli.ucla.edu/dl/photo/P464168.jpg) [metadata](https://cdli.ucla.edu/search/search_results.php?SearchMode=Text&ObjectID=P464168)\n"
      ],
      "text/plain": [
       "<IPython.core.display.Markdown object>"
      ]
     },
     "metadata": {},
     "output_type": "display_data"
    },
    {
     "data": {
      "text/markdown": [
       "##### cluster 86 with 2 tablets\n"
      ],
      "text/plain": [
       "<IPython.core.display.Markdown object>"
      ]
     },
     "metadata": {},
     "output_type": "display_data"
    },
    {
     "data": {
      "text/markdown": [
       "[P464183](https://cdli.ucla.edu/dl/photo/P464183.jpg) [metadata](https://cdli.ucla.edu/search/search_results.php?SearchMode=Text&ObjectID=P464183)\n"
      ],
      "text/plain": [
       "<IPython.core.display.Markdown object>"
      ]
     },
     "metadata": {},
     "output_type": "display_data"
    },
    {
     "data": {
      "text/markdown": [
       "[P464184](https://cdli.ucla.edu/dl/photo/P464184.jpg) [metadata](https://cdli.ucla.edu/search/search_results.php?SearchMode=Text&ObjectID=P464184)\n"
      ],
      "text/plain": [
       "<IPython.core.display.Markdown object>"
      ]
     },
     "metadata": {},
     "output_type": "display_data"
    },
    {
     "data": {
      "text/markdown": [
       "##### cluster 87 with 2 tablets\n"
      ],
      "text/plain": [
       "<IPython.core.display.Markdown object>"
      ]
     },
     "metadata": {},
     "output_type": "display_data"
    },
    {
     "data": {
      "text/markdown": [
       "[P002268](https://cdli.ucla.edu/dl/photo/P002268.jpg) [metadata](https://cdli.ucla.edu/search/search_results.php?SearchMode=Text&ObjectID=P002268)\n"
      ],
      "text/plain": [
       "<IPython.core.display.Markdown object>"
      ]
     },
     "metadata": {},
     "output_type": "display_data"
    },
    {
     "data": {
      "text/markdown": [
       "[P003990](https://cdli.ucla.edu/dl/photo/P003990.jpg) [metadata](https://cdli.ucla.edu/search/search_results.php?SearchMode=Text&ObjectID=P003990)\n"
      ],
      "text/plain": [
       "<IPython.core.display.Markdown object>"
      ]
     },
     "metadata": {},
     "output_type": "display_data"
    },
    {
     "data": {
      "text/markdown": [
       "##### cluster 88 with 2 tablets\n"
      ],
      "text/plain": [
       "<IPython.core.display.Markdown object>"
      ]
     },
     "metadata": {},
     "output_type": "display_data"
    },
    {
     "data": {
      "text/markdown": [
       "[P002447](https://cdli.ucla.edu/dl/photo/P002447.jpg) [metadata](https://cdli.ucla.edu/search/search_results.php?SearchMode=Text&ObjectID=P002447)\n"
      ],
      "text/plain": [
       "<IPython.core.display.Markdown object>"
      ]
     },
     "metadata": {},
     "output_type": "display_data"
    },
    {
     "data": {
      "text/markdown": [
       "[P003941](https://cdli.ucla.edu/dl/photo/P003941.jpg) [metadata](https://cdli.ucla.edu/search/search_results.php?SearchMode=Text&ObjectID=P003941)\n"
      ],
      "text/plain": [
       "<IPython.core.display.Markdown object>"
      ]
     },
     "metadata": {},
     "output_type": "display_data"
    },
    {
     "data": {
      "text/markdown": [
       "##### cluster 89 with 2 tablets\n"
      ],
      "text/plain": [
       "<IPython.core.display.Markdown object>"
      ]
     },
     "metadata": {},
     "output_type": "display_data"
    },
    {
     "data": {
      "text/markdown": [
       "[P002728](https://cdli.ucla.edu/dl/photo/P002728.jpg) [metadata](https://cdli.ucla.edu/search/search_results.php?SearchMode=Text&ObjectID=P002728)\n"
      ],
      "text/plain": [
       "<IPython.core.display.Markdown object>"
      ]
     },
     "metadata": {},
     "output_type": "display_data"
    },
    {
     "data": {
      "text/markdown": [
       "[P001659](https://cdli.ucla.edu/dl/photo/P001659.jpg) [metadata](https://cdli.ucla.edu/search/search_results.php?SearchMode=Text&ObjectID=P001659)\n"
      ],
      "text/plain": [
       "<IPython.core.display.Markdown object>"
      ]
     },
     "metadata": {},
     "output_type": "display_data"
    },
    {
     "data": {
      "text/markdown": [
       "##### cluster 90 with 2 tablets\n"
      ],
      "text/plain": [
       "<IPython.core.display.Markdown object>"
      ]
     },
     "metadata": {},
     "output_type": "display_data"
    },
    {
     "data": {
      "text/markdown": [
       "[P002631](https://cdli.ucla.edu/dl/photo/P002631.jpg) [metadata](https://cdli.ucla.edu/search/search_results.php?SearchMode=Text&ObjectID=P002631)\n"
      ],
      "text/plain": [
       "<IPython.core.display.Markdown object>"
      ]
     },
     "metadata": {},
     "output_type": "display_data"
    },
    {
     "data": {
      "text/markdown": [
       "[P002227](https://cdli.ucla.edu/dl/photo/P002227.jpg) [metadata](https://cdli.ucla.edu/search/search_results.php?SearchMode=Text&ObjectID=P002227)\n"
      ],
      "text/plain": [
       "<IPython.core.display.Markdown object>"
      ]
     },
     "metadata": {},
     "output_type": "display_data"
    },
    {
     "data": {
      "text/markdown": [
       "##### cluster 91 with 2 tablets\n"
      ],
      "text/plain": [
       "<IPython.core.display.Markdown object>"
      ]
     },
     "metadata": {},
     "output_type": "display_data"
    },
    {
     "data": {
      "text/markdown": [
       "[P002799](https://cdli.ucla.edu/dl/photo/P002799.jpg) [metadata](https://cdli.ucla.edu/search/search_results.php?SearchMode=Text&ObjectID=P002799)\n"
      ],
      "text/plain": [
       "<IPython.core.display.Markdown object>"
      ]
     },
     "metadata": {},
     "output_type": "display_data"
    },
    {
     "data": {
      "text/markdown": [
       "[P002513](https://cdli.ucla.edu/dl/photo/P002513.jpg) [metadata](https://cdli.ucla.edu/search/search_results.php?SearchMode=Text&ObjectID=P002513)\n"
      ],
      "text/plain": [
       "<IPython.core.display.Markdown object>"
      ]
     },
     "metadata": {},
     "output_type": "display_data"
    },
    {
     "data": {
      "text/markdown": [
       "##### cluster 92 with 2 tablets\n"
      ],
      "text/plain": [
       "<IPython.core.display.Markdown object>"
      ]
     },
     "metadata": {},
     "output_type": "display_data"
    },
    {
     "data": {
      "text/markdown": [
       "[P004033](https://cdli.ucla.edu/dl/photo/P004033.jpg) [metadata](https://cdli.ucla.edu/search/search_results.php?SearchMode=Text&ObjectID=P004033)\n"
      ],
      "text/plain": [
       "<IPython.core.display.Markdown object>"
      ]
     },
     "metadata": {},
     "output_type": "display_data"
    },
    {
     "data": {
      "text/markdown": [
       "[P005318](https://cdli.ucla.edu/dl/photo/P005318.jpg) [metadata](https://cdli.ucla.edu/search/search_results.php?SearchMode=Text&ObjectID=P005318)\n"
      ],
      "text/plain": [
       "<IPython.core.display.Markdown object>"
      ]
     },
     "metadata": {},
     "output_type": "display_data"
    },
    {
     "data": {
      "text/markdown": [
       "##### cluster 93 with 2 tablets\n"
      ],
      "text/plain": [
       "<IPython.core.display.Markdown object>"
      ]
     },
     "metadata": {},
     "output_type": "display_data"
    },
    {
     "data": {
      "text/markdown": [
       "[P003022](https://cdli.ucla.edu/dl/photo/P003022.jpg) [metadata](https://cdli.ucla.edu/search/search_results.php?SearchMode=Text&ObjectID=P003022)\n"
      ],
      "text/plain": [
       "<IPython.core.display.Markdown object>"
      ]
     },
     "metadata": {},
     "output_type": "display_data"
    },
    {
     "data": {
      "text/markdown": [
       "[P001147](https://cdli.ucla.edu/dl/photo/P001147.jpg) [metadata](https://cdli.ucla.edu/search/search_results.php?SearchMode=Text&ObjectID=P001147)\n"
      ],
      "text/plain": [
       "<IPython.core.display.Markdown object>"
      ]
     },
     "metadata": {},
     "output_type": "display_data"
    },
    {
     "data": {
      "text/markdown": [
       "##### cluster 94 with 2 tablets\n"
      ],
      "text/plain": [
       "<IPython.core.display.Markdown object>"
      ]
     },
     "metadata": {},
     "output_type": "display_data"
    },
    {
     "data": {
      "text/markdown": [
       "[P003570](https://cdli.ucla.edu/dl/photo/P003570.jpg) [metadata](https://cdli.ucla.edu/search/search_results.php?SearchMode=Text&ObjectID=P003570)\n"
      ],
      "text/plain": [
       "<IPython.core.display.Markdown object>"
      ]
     },
     "metadata": {},
     "output_type": "display_data"
    },
    {
     "data": {
      "text/markdown": [
       "[P004291](https://cdli.ucla.edu/dl/photo/P004291.jpg) [metadata](https://cdli.ucla.edu/search/search_results.php?SearchMode=Text&ObjectID=P004291)\n"
      ],
      "text/plain": [
       "<IPython.core.display.Markdown object>"
      ]
     },
     "metadata": {},
     "output_type": "display_data"
    },
    {
     "data": {
      "text/markdown": [
       "##### cluster 95 with 2 tablets\n"
      ],
      "text/plain": [
       "<IPython.core.display.Markdown object>"
      ]
     },
     "metadata": {},
     "output_type": "display_data"
    },
    {
     "data": {
      "text/markdown": [
       "[P003571](https://cdli.ucla.edu/dl/photo/P003571.jpg) [metadata](https://cdli.ucla.edu/search/search_results.php?SearchMode=Text&ObjectID=P003571)\n"
      ],
      "text/plain": [
       "<IPython.core.display.Markdown object>"
      ]
     },
     "metadata": {},
     "output_type": "display_data"
    },
    {
     "data": {
      "text/markdown": [
       "[P006258](https://cdli.ucla.edu/dl/photo/P006258.jpg) [metadata](https://cdli.ucla.edu/search/search_results.php?SearchMode=Text&ObjectID=P006258)\n"
      ],
      "text/plain": [
       "<IPython.core.display.Markdown object>"
      ]
     },
     "metadata": {},
     "output_type": "display_data"
    },
    {
     "data": {
      "text/markdown": [
       "##### cluster 96 with 2 tablets\n"
      ],
      "text/plain": [
       "<IPython.core.display.Markdown object>"
      ]
     },
     "metadata": {},
     "output_type": "display_data"
    },
    {
     "data": {
      "text/markdown": [
       "[P003850](https://cdli.ucla.edu/dl/photo/P003850.jpg) [metadata](https://cdli.ucla.edu/search/search_results.php?SearchMode=Text&ObjectID=P003850)\n"
      ],
      "text/plain": [
       "<IPython.core.display.Markdown object>"
      ]
     },
     "metadata": {},
     "output_type": "display_data"
    },
    {
     "data": {
      "text/markdown": [
       "[P002825](https://cdli.ucla.edu/dl/photo/P002825.jpg) [metadata](https://cdli.ucla.edu/search/search_results.php?SearchMode=Text&ObjectID=P002825)\n"
      ],
      "text/plain": [
       "<IPython.core.display.Markdown object>"
      ]
     },
     "metadata": {},
     "output_type": "display_data"
    },
    {
     "data": {
      "text/markdown": [
       "##### cluster 97 with 2 tablets\n"
      ],
      "text/plain": [
       "<IPython.core.display.Markdown object>"
      ]
     },
     "metadata": {},
     "output_type": "display_data"
    },
    {
     "data": {
      "text/markdown": [
       "[P004392](https://cdli.ucla.edu/dl/photo/P004392.jpg) [metadata](https://cdli.ucla.edu/search/search_results.php?SearchMode=Text&ObjectID=P004392)\n"
      ],
      "text/plain": [
       "<IPython.core.display.Markdown object>"
      ]
     },
     "metadata": {},
     "output_type": "display_data"
    },
    {
     "data": {
      "text/markdown": [
       "[P004045](https://cdli.ucla.edu/dl/photo/P004045.jpg) [metadata](https://cdli.ucla.edu/search/search_results.php?SearchMode=Text&ObjectID=P004045)\n"
      ],
      "text/plain": [
       "<IPython.core.display.Markdown object>"
      ]
     },
     "metadata": {},
     "output_type": "display_data"
    },
    {
     "data": {
      "text/markdown": [
       "##### cluster 98 with 2 tablets\n"
      ],
      "text/plain": [
       "<IPython.core.display.Markdown object>"
      ]
     },
     "metadata": {},
     "output_type": "display_data"
    },
    {
     "data": {
      "text/markdown": [
       "[P004406](https://cdli.ucla.edu/dl/photo/P004406.jpg) [metadata](https://cdli.ucla.edu/search/search_results.php?SearchMode=Text&ObjectID=P004406)\n"
      ],
      "text/plain": [
       "<IPython.core.display.Markdown object>"
      ]
     },
     "metadata": {},
     "output_type": "display_data"
    },
    {
     "data": {
      "text/markdown": [
       "[P004668](https://cdli.ucla.edu/dl/photo/P004668.jpg) [metadata](https://cdli.ucla.edu/search/search_results.php?SearchMode=Text&ObjectID=P004668)\n"
      ],
      "text/plain": [
       "<IPython.core.display.Markdown object>"
      ]
     },
     "metadata": {},
     "output_type": "display_data"
    },
    {
     "data": {
      "text/markdown": [
       "##### cluster 99 with 2 tablets\n"
      ],
      "text/plain": [
       "<IPython.core.display.Markdown object>"
      ]
     },
     "metadata": {},
     "output_type": "display_data"
    },
    {
     "data": {
      "text/markdown": [
       "[P006028](https://cdli.ucla.edu/dl/photo/P006028.jpg) [metadata](https://cdli.ucla.edu/search/search_results.php?SearchMode=Text&ObjectID=P006028)\n"
      ],
      "text/plain": [
       "<IPython.core.display.Markdown object>"
      ]
     },
     "metadata": {},
     "output_type": "display_data"
    },
    {
     "data": {
      "text/markdown": [
       "[P006076](https://cdli.ucla.edu/dl/photo/P006076.jpg) [metadata](https://cdli.ucla.edu/search/search_results.php?SearchMode=Text&ObjectID=P006076)\n"
      ],
      "text/plain": [
       "<IPython.core.display.Markdown object>"
      ]
     },
     "metadata": {},
     "output_type": "display_data"
    },
    {
     "data": {
      "text/markdown": [
       "##### cluster 100 with 2 tablets\n"
      ],
      "text/plain": [
       "<IPython.core.display.Markdown object>"
      ]
     },
     "metadata": {},
     "output_type": "display_data"
    },
    {
     "data": {
      "text/markdown": [
       "[P006038](https://cdli.ucla.edu/dl/photo/P006038.jpg) [metadata](https://cdli.ucla.edu/search/search_results.php?SearchMode=Text&ObjectID=P006038)\n"
      ],
      "text/plain": [
       "<IPython.core.display.Markdown object>"
      ]
     },
     "metadata": {},
     "output_type": "display_data"
    },
    {
     "data": {
      "text/markdown": [
       "[P006170](https://cdli.ucla.edu/dl/photo/P006170.jpg) [metadata](https://cdli.ucla.edu/search/search_results.php?SearchMode=Text&ObjectID=P006170)\n"
      ],
      "text/plain": [
       "<IPython.core.display.Markdown object>"
      ]
     },
     "metadata": {},
     "output_type": "display_data"
    },
    {
     "data": {
      "text/markdown": [
       "##### cluster 101 with 2 tablets\n"
      ],
      "text/plain": [
       "<IPython.core.display.Markdown object>"
      ]
     },
     "metadata": {},
     "output_type": "display_data"
    },
    {
     "data": {
      "text/markdown": [
       "[P006047](https://cdli.ucla.edu/dl/photo/P006047.jpg) [metadata](https://cdli.ucla.edu/search/search_results.php?SearchMode=Text&ObjectID=P006047)\n"
      ],
      "text/plain": [
       "<IPython.core.display.Markdown object>"
      ]
     },
     "metadata": {},
     "output_type": "display_data"
    },
    {
     "data": {
      "text/markdown": [
       "[P006066](https://cdli.ucla.edu/dl/photo/P006066.jpg) [metadata](https://cdli.ucla.edu/search/search_results.php?SearchMode=Text&ObjectID=P006066)\n"
      ],
      "text/plain": [
       "<IPython.core.display.Markdown object>"
      ]
     },
     "metadata": {},
     "output_type": "display_data"
    },
    {
     "data": {
      "text/markdown": [
       "##### cluster 102 with 2 tablets\n"
      ],
      "text/plain": [
       "<IPython.core.display.Markdown object>"
      ]
     },
     "metadata": {},
     "output_type": "display_data"
    },
    {
     "data": {
      "text/markdown": [
       "[P006187](https://cdli.ucla.edu/dl/photo/P006187.jpg) [metadata](https://cdli.ucla.edu/search/search_results.php?SearchMode=Text&ObjectID=P006187)\n"
      ],
      "text/plain": [
       "<IPython.core.display.Markdown object>"
      ]
     },
     "metadata": {},
     "output_type": "display_data"
    },
    {
     "data": {
      "text/markdown": [
       "[P006224](https://cdli.ucla.edu/dl/photo/P006224.jpg) [metadata](https://cdli.ucla.edu/search/search_results.php?SearchMode=Text&ObjectID=P006224)\n"
      ],
      "text/plain": [
       "<IPython.core.display.Markdown object>"
      ]
     },
     "metadata": {},
     "output_type": "display_data"
    },
    {
     "data": {
      "text/markdown": [
       "##### cluster 103 with 2 tablets\n"
      ],
      "text/plain": [
       "<IPython.core.display.Markdown object>"
      ]
     },
     "metadata": {},
     "output_type": "display_data"
    },
    {
     "data": {
      "text/markdown": [
       "[P006298](https://cdli.ucla.edu/dl/photo/P006298.jpg) [metadata](https://cdli.ucla.edu/search/search_results.php?SearchMode=Text&ObjectID=P006298)\n"
      ],
      "text/plain": [
       "<IPython.core.display.Markdown object>"
      ]
     },
     "metadata": {},
     "output_type": "display_data"
    },
    {
     "data": {
      "text/markdown": [
       "[P006328](https://cdli.ucla.edu/dl/photo/P006328.jpg) [metadata](https://cdli.ucla.edu/search/search_results.php?SearchMode=Text&ObjectID=P006328)\n"
      ],
      "text/plain": [
       "<IPython.core.display.Markdown object>"
      ]
     },
     "metadata": {},
     "output_type": "display_data"
    },
    {
     "data": {
      "text/markdown": [
       "##### cluster 104 with 2 tablets\n"
      ],
      "text/plain": [
       "<IPython.core.display.Markdown object>"
      ]
     },
     "metadata": {},
     "output_type": "display_data"
    },
    {
     "data": {
      "text/markdown": [
       "[P006301](https://cdli.ucla.edu/dl/photo/P006301.jpg) [metadata](https://cdli.ucla.edu/search/search_results.php?SearchMode=Text&ObjectID=P006301)\n"
      ],
      "text/plain": [
       "<IPython.core.display.Markdown object>"
      ]
     },
     "metadata": {},
     "output_type": "display_data"
    },
    {
     "data": {
      "text/markdown": [
       "[P006337](https://cdli.ucla.edu/dl/photo/P006337.jpg) [metadata](https://cdli.ucla.edu/search/search_results.php?SearchMode=Text&ObjectID=P006337)\n"
      ],
      "text/plain": [
       "<IPython.core.display.Markdown object>"
      ]
     },
     "metadata": {},
     "output_type": "display_data"
    },
    {
     "data": {
      "text/markdown": [
       "##### cluster 105 with 2 tablets\n"
      ],
      "text/plain": [
       "<IPython.core.display.Markdown object>"
      ]
     },
     "metadata": {},
     "output_type": "display_data"
    },
    {
     "data": {
      "text/markdown": [
       "[P006330](https://cdli.ucla.edu/dl/photo/P006330.jpg) [metadata](https://cdli.ucla.edu/search/search_results.php?SearchMode=Text&ObjectID=P006330)\n"
      ],
      "text/plain": [
       "<IPython.core.display.Markdown object>"
      ]
     },
     "metadata": {},
     "output_type": "display_data"
    },
    {
     "data": {
      "text/markdown": [
       "[P005468](https://cdli.ucla.edu/dl/photo/P005468.jpg) [metadata](https://cdli.ucla.edu/search/search_results.php?SearchMode=Text&ObjectID=P005468)\n"
      ],
      "text/plain": [
       "<IPython.core.display.Markdown object>"
      ]
     },
     "metadata": {},
     "output_type": "display_data"
    },
    {
     "data": {
      "text/markdown": [
       "##### cluster 106 with 2 tablets\n"
      ],
      "text/plain": [
       "<IPython.core.display.Markdown object>"
      ]
     },
     "metadata": {},
     "output_type": "display_data"
    },
    {
     "data": {
      "text/markdown": [
       "[P005082](https://cdli.ucla.edu/dl/photo/P005082.jpg) [metadata](https://cdli.ucla.edu/search/search_results.php?SearchMode=Text&ObjectID=P005082)\n"
      ],
      "text/plain": [
       "<IPython.core.display.Markdown object>"
      ]
     },
     "metadata": {},
     "output_type": "display_data"
    },
    {
     "data": {
      "text/markdown": [
       "[P005086](https://cdli.ucla.edu/dl/photo/P005086.jpg) [metadata](https://cdli.ucla.edu/search/search_results.php?SearchMode=Text&ObjectID=P005086)\n"
      ],
      "text/plain": [
       "<IPython.core.display.Markdown object>"
      ]
     },
     "metadata": {},
     "output_type": "display_data"
    },
    {
     "data": {
      "text/markdown": [
       "##### cluster 107 with 2 tablets\n"
      ],
      "text/plain": [
       "<IPython.core.display.Markdown object>"
      ]
     },
     "metadata": {},
     "output_type": "display_data"
    },
    {
     "data": {
      "text/markdown": [
       "[P005093](https://cdli.ucla.edu/dl/photo/P005093.jpg) [metadata](https://cdli.ucla.edu/search/search_results.php?SearchMode=Text&ObjectID=P005093)\n"
      ],
      "text/plain": [
       "<IPython.core.display.Markdown object>"
      ]
     },
     "metadata": {},
     "output_type": "display_data"
    },
    {
     "data": {
      "text/markdown": [
       "[P005094](https://cdli.ucla.edu/dl/photo/P005094.jpg) [metadata](https://cdli.ucla.edu/search/search_results.php?SearchMode=Text&ObjectID=P005094)\n"
      ],
      "text/plain": [
       "<IPython.core.display.Markdown object>"
      ]
     },
     "metadata": {},
     "output_type": "display_data"
    },
    {
     "data": {
      "text/markdown": [
       "##### cluster 108 with 2 tablets\n"
      ],
      "text/plain": [
       "<IPython.core.display.Markdown object>"
      ]
     },
     "metadata": {},
     "output_type": "display_data"
    },
    {
     "data": {
      "text/markdown": [
       "[P005213](https://cdli.ucla.edu/dl/photo/P005213.jpg) [metadata](https://cdli.ucla.edu/search/search_results.php?SearchMode=Text&ObjectID=P005213)\n"
      ],
      "text/plain": [
       "<IPython.core.display.Markdown object>"
      ]
     },
     "metadata": {},
     "output_type": "display_data"
    },
    {
     "data": {
      "text/markdown": [
       "[P005217](https://cdli.ucla.edu/dl/photo/P005217.jpg) [metadata](https://cdli.ucla.edu/search/search_results.php?SearchMode=Text&ObjectID=P005217)\n"
      ],
      "text/plain": [
       "<IPython.core.display.Markdown object>"
      ]
     },
     "metadata": {},
     "output_type": "display_data"
    },
    {
     "data": {
      "text/markdown": [
       "##### cluster 109 with 2 tablets\n"
      ],
      "text/plain": [
       "<IPython.core.display.Markdown object>"
      ]
     },
     "metadata": {},
     "output_type": "display_data"
    },
    {
     "data": {
      "text/markdown": [
       "[P005279](https://cdli.ucla.edu/dl/photo/P005279.jpg) [metadata](https://cdli.ucla.edu/search/search_results.php?SearchMode=Text&ObjectID=P005279)\n"
      ],
      "text/plain": [
       "<IPython.core.display.Markdown object>"
      ]
     },
     "metadata": {},
     "output_type": "display_data"
    },
    {
     "data": {
      "text/markdown": [
       "[P005280](https://cdli.ucla.edu/dl/photo/P005280.jpg) [metadata](https://cdli.ucla.edu/search/search_results.php?SearchMode=Text&ObjectID=P005280)\n"
      ],
      "text/plain": [
       "<IPython.core.display.Markdown object>"
      ]
     },
     "metadata": {},
     "output_type": "display_data"
    },
    {
     "data": {
      "text/markdown": [
       "##### cluster 110 with 2 tablets\n"
      ],
      "text/plain": [
       "<IPython.core.display.Markdown object>"
      ]
     },
     "metadata": {},
     "output_type": "display_data"
    },
    {
     "data": {
      "text/markdown": [
       "[P005325](https://cdli.ucla.edu/dl/photo/P005325.jpg) [metadata](https://cdli.ucla.edu/search/search_results.php?SearchMode=Text&ObjectID=P005325)\n"
      ],
      "text/plain": [
       "<IPython.core.display.Markdown object>"
      ]
     },
     "metadata": {},
     "output_type": "display_data"
    },
    {
     "data": {
      "text/markdown": [
       "[P005329](https://cdli.ucla.edu/dl/photo/P005329.jpg) [metadata](https://cdli.ucla.edu/search/search_results.php?SearchMode=Text&ObjectID=P005329)\n"
      ],
      "text/plain": [
       "<IPython.core.display.Markdown object>"
      ]
     },
     "metadata": {},
     "output_type": "display_data"
    },
    {
     "data": {
      "text/markdown": [
       "##### cluster 111 with 2 tablets\n"
      ],
      "text/plain": [
       "<IPython.core.display.Markdown object>"
      ]
     },
     "metadata": {},
     "output_type": "display_data"
    },
    {
     "data": {
      "text/markdown": [
       "[P005340](https://cdli.ucla.edu/dl/photo/P005340.jpg) [metadata](https://cdli.ucla.edu/search/search_results.php?SearchMode=Text&ObjectID=P005340)\n"
      ],
      "text/plain": [
       "<IPython.core.display.Markdown object>"
      ]
     },
     "metadata": {},
     "output_type": "display_data"
    },
    {
     "data": {
      "text/markdown": [
       "[P005377](https://cdli.ucla.edu/dl/photo/P005377.jpg) [metadata](https://cdli.ucla.edu/search/search_results.php?SearchMode=Text&ObjectID=P005377)\n"
      ],
      "text/plain": [
       "<IPython.core.display.Markdown object>"
      ]
     },
     "metadata": {},
     "output_type": "display_data"
    },
    {
     "data": {
      "text/markdown": [
       "##### cluster 112 with 2 tablets\n"
      ],
      "text/plain": [
       "<IPython.core.display.Markdown object>"
      ]
     },
     "metadata": {},
     "output_type": "display_data"
    },
    {
     "data": {
      "text/markdown": [
       "[P005360](https://cdli.ucla.edu/dl/photo/P005360.jpg) [metadata](https://cdli.ucla.edu/search/search_results.php?SearchMode=Text&ObjectID=P005360)\n"
      ],
      "text/plain": [
       "<IPython.core.display.Markdown object>"
      ]
     },
     "metadata": {},
     "output_type": "display_data"
    },
    {
     "data": {
      "text/markdown": [
       "[P005369](https://cdli.ucla.edu/dl/photo/P005369.jpg) [metadata](https://cdli.ucla.edu/search/search_results.php?SearchMode=Text&ObjectID=P005369)\n"
      ],
      "text/plain": [
       "<IPython.core.display.Markdown object>"
      ]
     },
     "metadata": {},
     "output_type": "display_data"
    },
    {
     "data": {
      "text/markdown": [
       "##### cluster 113 with 2 tablets\n"
      ],
      "text/plain": [
       "<IPython.core.display.Markdown object>"
      ]
     },
     "metadata": {},
     "output_type": "display_data"
    },
    {
     "data": {
      "text/markdown": [
       "[P005379](https://cdli.ucla.edu/dl/photo/P005379.jpg) [metadata](https://cdli.ucla.edu/search/search_results.php?SearchMode=Text&ObjectID=P005379)\n"
      ],
      "text/plain": [
       "<IPython.core.display.Markdown object>"
      ]
     },
     "metadata": {},
     "output_type": "display_data"
    },
    {
     "data": {
      "text/markdown": [
       "[P005395](https://cdli.ucla.edu/dl/photo/P005395.jpg) [metadata](https://cdli.ucla.edu/search/search_results.php?SearchMode=Text&ObjectID=P005395)\n"
      ],
      "text/plain": [
       "<IPython.core.display.Markdown object>"
      ]
     },
     "metadata": {},
     "output_type": "display_data"
    },
    {
     "data": {
      "text/markdown": [
       "##### cluster 114 with 2 tablets\n"
      ],
      "text/plain": [
       "<IPython.core.display.Markdown object>"
      ]
     },
     "metadata": {},
     "output_type": "display_data"
    },
    {
     "data": {
      "text/markdown": [
       "[P005403](https://cdli.ucla.edu/dl/photo/P005403.jpg) [metadata](https://cdli.ucla.edu/search/search_results.php?SearchMode=Text&ObjectID=P005403)\n"
      ],
      "text/plain": [
       "<IPython.core.display.Markdown object>"
      ]
     },
     "metadata": {},
     "output_type": "display_data"
    },
    {
     "data": {
      "text/markdown": [
       "[P005404](https://cdli.ucla.edu/dl/photo/P005404.jpg) [metadata](https://cdli.ucla.edu/search/search_results.php?SearchMode=Text&ObjectID=P005404)\n"
      ],
      "text/plain": [
       "<IPython.core.display.Markdown object>"
      ]
     },
     "metadata": {},
     "output_type": "display_data"
    },
    {
     "data": {
      "text/markdown": [
       "##### cluster 115 with 2 tablets\n"
      ],
      "text/plain": [
       "<IPython.core.display.Markdown object>"
      ]
     },
     "metadata": {},
     "output_type": "display_data"
    },
    {
     "data": {
      "text/markdown": [
       "[P005412](https://cdli.ucla.edu/dl/photo/P005412.jpg) [metadata](https://cdli.ucla.edu/search/search_results.php?SearchMode=Text&ObjectID=P005412)\n"
      ],
      "text/plain": [
       "<IPython.core.display.Markdown object>"
      ]
     },
     "metadata": {},
     "output_type": "display_data"
    },
    {
     "data": {
      "text/markdown": [
       "[P005416](https://cdli.ucla.edu/dl/photo/P005416.jpg) [metadata](https://cdli.ucla.edu/search/search_results.php?SearchMode=Text&ObjectID=P005416)\n"
      ],
      "text/plain": [
       "<IPython.core.display.Markdown object>"
      ]
     },
     "metadata": {},
     "output_type": "display_data"
    },
    {
     "data": {
      "text/markdown": [
       "##### cluster 116 with 2 tablets\n"
      ],
      "text/plain": [
       "<IPython.core.display.Markdown object>"
      ]
     },
     "metadata": {},
     "output_type": "display_data"
    },
    {
     "data": {
      "text/markdown": [
       "[P000776](https://cdli.ucla.edu/dl/photo/P000776.jpg) [metadata](https://cdli.ucla.edu/search/search_results.php?SearchMode=Text&ObjectID=P000776)\n"
      ],
      "text/plain": [
       "<IPython.core.display.Markdown object>"
      ]
     },
     "metadata": {},
     "output_type": "display_data"
    },
    {
     "data": {
      "text/markdown": [
       "[P000790](https://cdli.ucla.edu/dl/photo/P000790.jpg) [metadata](https://cdli.ucla.edu/search/search_results.php?SearchMode=Text&ObjectID=P000790)\n"
      ],
      "text/plain": [
       "<IPython.core.display.Markdown object>"
      ]
     },
     "metadata": {},
     "output_type": "display_data"
    },
    {
     "data": {
      "text/markdown": [
       "##### cluster 117 with 2 tablets\n"
      ],
      "text/plain": [
       "<IPython.core.display.Markdown object>"
      ]
     },
     "metadata": {},
     "output_type": "display_data"
    },
    {
     "data": {
      "text/markdown": [
       "[P000834](https://cdli.ucla.edu/dl/photo/P000834.jpg) [metadata](https://cdli.ucla.edu/search/search_results.php?SearchMode=Text&ObjectID=P000834)\n"
      ],
      "text/plain": [
       "<IPython.core.display.Markdown object>"
      ]
     },
     "metadata": {},
     "output_type": "display_data"
    },
    {
     "data": {
      "text/markdown": [
       "[P000925](https://cdli.ucla.edu/dl/photo/P000925.jpg) [metadata](https://cdli.ucla.edu/search/search_results.php?SearchMode=Text&ObjectID=P000925)\n"
      ],
      "text/plain": [
       "<IPython.core.display.Markdown object>"
      ]
     },
     "metadata": {},
     "output_type": "display_data"
    },
    {
     "data": {
      "text/markdown": [
       "##### cluster 118 with 2 tablets\n"
      ],
      "text/plain": [
       "<IPython.core.display.Markdown object>"
      ]
     },
     "metadata": {},
     "output_type": "display_data"
    },
    {
     "data": {
      "text/markdown": [
       "[P000838](https://cdli.ucla.edu/dl/photo/P000838.jpg) [metadata](https://cdli.ucla.edu/search/search_results.php?SearchMode=Text&ObjectID=P000838)\n"
      ],
      "text/plain": [
       "<IPython.core.display.Markdown object>"
      ]
     },
     "metadata": {},
     "output_type": "display_data"
    },
    {
     "data": {
      "text/markdown": [
       "[P001476](https://cdli.ucla.edu/dl/photo/P001476.jpg) [metadata](https://cdli.ucla.edu/search/search_results.php?SearchMode=Text&ObjectID=P001476)\n"
      ],
      "text/plain": [
       "<IPython.core.display.Markdown object>"
      ]
     },
     "metadata": {},
     "output_type": "display_data"
    },
    {
     "data": {
      "text/markdown": [
       "##### cluster 119 with 2 tablets\n"
      ],
      "text/plain": [
       "<IPython.core.display.Markdown object>"
      ]
     },
     "metadata": {},
     "output_type": "display_data"
    },
    {
     "data": {
      "text/markdown": [
       "[P001028](https://cdli.ucla.edu/dl/photo/P001028.jpg) [metadata](https://cdli.ucla.edu/search/search_results.php?SearchMode=Text&ObjectID=P001028)\n"
      ],
      "text/plain": [
       "<IPython.core.display.Markdown object>"
      ]
     },
     "metadata": {},
     "output_type": "display_data"
    },
    {
     "data": {
      "text/markdown": [
       "[P001283](https://cdli.ucla.edu/dl/photo/P001283.jpg) [metadata](https://cdli.ucla.edu/search/search_results.php?SearchMode=Text&ObjectID=P001283)\n"
      ],
      "text/plain": [
       "<IPython.core.display.Markdown object>"
      ]
     },
     "metadata": {},
     "output_type": "display_data"
    },
    {
     "data": {
      "text/markdown": [
       "##### cluster 120 with 2 tablets\n"
      ],
      "text/plain": [
       "<IPython.core.display.Markdown object>"
      ]
     },
     "metadata": {},
     "output_type": "display_data"
    },
    {
     "data": {
      "text/markdown": [
       "[P001227](https://cdli.ucla.edu/dl/photo/P001227.jpg) [metadata](https://cdli.ucla.edu/search/search_results.php?SearchMode=Text&ObjectID=P001227)\n"
      ],
      "text/plain": [
       "<IPython.core.display.Markdown object>"
      ]
     },
     "metadata": {},
     "output_type": "display_data"
    },
    {
     "data": {
      "text/markdown": [
       "[P001478](https://cdli.ucla.edu/dl/photo/P001478.jpg) [metadata](https://cdli.ucla.edu/search/search_results.php?SearchMode=Text&ObjectID=P001478)\n"
      ],
      "text/plain": [
       "<IPython.core.display.Markdown object>"
      ]
     },
     "metadata": {},
     "output_type": "display_data"
    },
    {
     "data": {
      "text/markdown": [
       "##### cluster 121 with 2 tablets\n"
      ],
      "text/plain": [
       "<IPython.core.display.Markdown object>"
      ]
     },
     "metadata": {},
     "output_type": "display_data"
    },
    {
     "data": {
      "text/markdown": [
       "[P001234](https://cdli.ucla.edu/dl/photo/P001234.jpg) [metadata](https://cdli.ucla.edu/search/search_results.php?SearchMode=Text&ObjectID=P001234)\n"
      ],
      "text/plain": [
       "<IPython.core.display.Markdown object>"
      ]
     },
     "metadata": {},
     "output_type": "display_data"
    },
    {
     "data": {
      "text/markdown": [
       "[P001245](https://cdli.ucla.edu/dl/photo/P001245.jpg) [metadata](https://cdli.ucla.edu/search/search_results.php?SearchMode=Text&ObjectID=P001245)\n"
      ],
      "text/plain": [
       "<IPython.core.display.Markdown object>"
      ]
     },
     "metadata": {},
     "output_type": "display_data"
    },
    {
     "data": {
      "text/markdown": [
       "##### cluster 122 with 2 tablets\n"
      ],
      "text/plain": [
       "<IPython.core.display.Markdown object>"
      ]
     },
     "metadata": {},
     "output_type": "display_data"
    },
    {
     "data": {
      "text/markdown": [
       "[P001313](https://cdli.ucla.edu/dl/photo/P001313.jpg) [metadata](https://cdli.ucla.edu/search/search_results.php?SearchMode=Text&ObjectID=P001313)\n"
      ],
      "text/plain": [
       "<IPython.core.display.Markdown object>"
      ]
     },
     "metadata": {},
     "output_type": "display_data"
    },
    {
     "data": {
      "text/markdown": [
       "[P003077](https://cdli.ucla.edu/dl/photo/P003077.jpg) [metadata](https://cdli.ucla.edu/search/search_results.php?SearchMode=Text&ObjectID=P003077)\n"
      ],
      "text/plain": [
       "<IPython.core.display.Markdown object>"
      ]
     },
     "metadata": {},
     "output_type": "display_data"
    },
    {
     "data": {
      "text/markdown": [
       "##### cluster 123 with 2 tablets\n"
      ],
      "text/plain": [
       "<IPython.core.display.Markdown object>"
      ]
     },
     "metadata": {},
     "output_type": "display_data"
    },
    {
     "data": {
      "text/markdown": [
       "[P001484](https://cdli.ucla.edu/dl/photo/P001484.jpg) [metadata](https://cdli.ucla.edu/search/search_results.php?SearchMode=Text&ObjectID=P001484)\n"
      ],
      "text/plain": [
       "<IPython.core.display.Markdown object>"
      ]
     },
     "metadata": {},
     "output_type": "display_data"
    },
    {
     "data": {
      "text/markdown": [
       "[P003851](https://cdli.ucla.edu/dl/photo/P003851.jpg) [metadata](https://cdli.ucla.edu/search/search_results.php?SearchMode=Text&ObjectID=P003851)\n"
      ],
      "text/plain": [
       "<IPython.core.display.Markdown object>"
      ]
     },
     "metadata": {},
     "output_type": "display_data"
    },
    {
     "data": {
      "text/markdown": [
       "##### cluster 124 with 2 tablets\n"
      ],
      "text/plain": [
       "<IPython.core.display.Markdown object>"
      ]
     },
     "metadata": {},
     "output_type": "display_data"
    },
    {
     "data": {
      "text/markdown": [
       "[P001488](https://cdli.ucla.edu/dl/photo/P001488.jpg) [metadata](https://cdli.ucla.edu/search/search_results.php?SearchMode=Text&ObjectID=P001488)\n"
      ],
      "text/plain": [
       "<IPython.core.display.Markdown object>"
      ]
     },
     "metadata": {},
     "output_type": "display_data"
    },
    {
     "data": {
      "text/markdown": [
       "[P001494](https://cdli.ucla.edu/dl/photo/P001494.jpg) [metadata](https://cdli.ucla.edu/search/search_results.php?SearchMode=Text&ObjectID=P001494)\n"
      ],
      "text/plain": [
       "<IPython.core.display.Markdown object>"
      ]
     },
     "metadata": {},
     "output_type": "display_data"
    },
    {
     "data": {
      "text/markdown": [
       "##### cluster 125 with 2 tablets\n"
      ],
      "text/plain": [
       "<IPython.core.display.Markdown object>"
      ]
     },
     "metadata": {},
     "output_type": "display_data"
    },
    {
     "data": {
      "text/markdown": [
       "[P001574](https://cdli.ucla.edu/dl/photo/P001574.jpg) [metadata](https://cdli.ucla.edu/search/search_results.php?SearchMode=Text&ObjectID=P001574)\n"
      ],
      "text/plain": [
       "<IPython.core.display.Markdown object>"
      ]
     },
     "metadata": {},
     "output_type": "display_data"
    },
    {
     "data": {
      "text/markdown": [
       "[P003199](https://cdli.ucla.edu/dl/photo/P003199.jpg) [metadata](https://cdli.ucla.edu/search/search_results.php?SearchMode=Text&ObjectID=P003199)\n"
      ],
      "text/plain": [
       "<IPython.core.display.Markdown object>"
      ]
     },
     "metadata": {},
     "output_type": "display_data"
    },
    {
     "data": {
      "text/markdown": [
       "##### cluster 126 with 2 tablets\n"
      ],
      "text/plain": [
       "<IPython.core.display.Markdown object>"
      ]
     },
     "metadata": {},
     "output_type": "display_data"
    },
    {
     "data": {
      "text/markdown": [
       "[P002097](https://cdli.ucla.edu/dl/photo/P002097.jpg) [metadata](https://cdli.ucla.edu/search/search_results.php?SearchMode=Text&ObjectID=P002097)\n"
      ],
      "text/plain": [
       "<IPython.core.display.Markdown object>"
      ]
     },
     "metadata": {},
     "output_type": "display_data"
    },
    {
     "data": {
      "text/markdown": [
       "[P004123](https://cdli.ucla.edu/dl/photo/P004123.jpg) [metadata](https://cdli.ucla.edu/search/search_results.php?SearchMode=Text&ObjectID=P004123)\n"
      ],
      "text/plain": [
       "<IPython.core.display.Markdown object>"
      ]
     },
     "metadata": {},
     "output_type": "display_data"
    },
    {
     "data": {
      "text/markdown": [
       "##### cluster 127 with 2 tablets\n"
      ],
      "text/plain": [
       "<IPython.core.display.Markdown object>"
      ]
     },
     "metadata": {},
     "output_type": "display_data"
    },
    {
     "data": {
      "text/markdown": [
       "[P002485](https://cdli.ucla.edu/dl/photo/P002485.jpg) [metadata](https://cdli.ucla.edu/search/search_results.php?SearchMode=Text&ObjectID=P002485)\n"
      ],
      "text/plain": [
       "<IPython.core.display.Markdown object>"
      ]
     },
     "metadata": {},
     "output_type": "display_data"
    },
    {
     "data": {
      "text/markdown": [
       "[P004017](https://cdli.ucla.edu/dl/photo/P004017.jpg) [metadata](https://cdli.ucla.edu/search/search_results.php?SearchMode=Text&ObjectID=P004017)\n"
      ],
      "text/plain": [
       "<IPython.core.display.Markdown object>"
      ]
     },
     "metadata": {},
     "output_type": "display_data"
    },
    {
     "data": {
      "text/markdown": [
       "##### cluster 128 with 2 tablets\n"
      ],
      "text/plain": [
       "<IPython.core.display.Markdown object>"
      ]
     },
     "metadata": {},
     "output_type": "display_data"
    },
    {
     "data": {
      "text/markdown": [
       "[P002520](https://cdli.ucla.edu/dl/photo/P002520.jpg) [metadata](https://cdli.ucla.edu/search/search_results.php?SearchMode=Text&ObjectID=P002520)\n"
      ],
      "text/plain": [
       "<IPython.core.display.Markdown object>"
      ]
     },
     "metadata": {},
     "output_type": "display_data"
    },
    {
     "data": {
      "text/markdown": [
       "[P002545](https://cdli.ucla.edu/dl/photo/P002545.jpg) [metadata](https://cdli.ucla.edu/search/search_results.php?SearchMode=Text&ObjectID=P002545)\n"
      ],
      "text/plain": [
       "<IPython.core.display.Markdown object>"
      ]
     },
     "metadata": {},
     "output_type": "display_data"
    },
    {
     "data": {
      "text/markdown": [
       "##### cluster 129 with 2 tablets\n"
      ],
      "text/plain": [
       "<IPython.core.display.Markdown object>"
      ]
     },
     "metadata": {},
     "output_type": "display_data"
    },
    {
     "data": {
      "text/markdown": [
       "[P002446](https://cdli.ucla.edu/dl/photo/P002446.jpg) [metadata](https://cdli.ucla.edu/search/search_results.php?SearchMode=Text&ObjectID=P002446)\n"
      ],
      "text/plain": [
       "<IPython.core.display.Markdown object>"
      ]
     },
     "metadata": {},
     "output_type": "display_data"
    },
    {
     "data": {
      "text/markdown": [
       "[P003933](https://cdli.ucla.edu/dl/photo/P003933.jpg) [metadata](https://cdli.ucla.edu/search/search_results.php?SearchMode=Text&ObjectID=P003933)\n"
      ],
      "text/plain": [
       "<IPython.core.display.Markdown object>"
      ]
     },
     "metadata": {},
     "output_type": "display_data"
    },
    {
     "data": {
      "text/markdown": [
       "##### cluster 130 with 2 tablets\n"
      ],
      "text/plain": [
       "<IPython.core.display.Markdown object>"
      ]
     },
     "metadata": {},
     "output_type": "display_data"
    },
    {
     "data": {
      "text/markdown": [
       "[P004249](https://cdli.ucla.edu/dl/photo/P004249.jpg) [metadata](https://cdli.ucla.edu/search/search_results.php?SearchMode=Text&ObjectID=P004249)\n"
      ],
      "text/plain": [
       "<IPython.core.display.Markdown object>"
      ]
     },
     "metadata": {},
     "output_type": "display_data"
    },
    {
     "data": {
      "text/markdown": [
       "[P004360](https://cdli.ucla.edu/dl/photo/P004360.jpg) [metadata](https://cdli.ucla.edu/search/search_results.php?SearchMode=Text&ObjectID=P004360)\n"
      ],
      "text/plain": [
       "<IPython.core.display.Markdown object>"
      ]
     },
     "metadata": {},
     "output_type": "display_data"
    },
    {
     "data": {
      "text/markdown": [
       "\n",
       "---\n",
       "\n",
       "**Experiment** 5674 tablets *threshold* 0.35\n"
      ],
      "text/plain": [
       "<IPython.core.display.Markdown object>"
      ]
     },
     "metadata": {},
     "output_type": "display_data"
    },
    {
     "data": {
      "text/markdown": [
       "\n",
       "**clustering** 5674 tablets => 2091 clusters, *threshold* 0.35\n"
      ],
      "text/plain": [
       "<IPython.core.display.Markdown object>"
      ]
     },
     "metadata": {},
     "output_type": "display_data"
    },
    {
     "data": {
      "text/markdown": [
       "\n",
       "**Quality**\n",
       "\n",
       "* **OK        ** 2091 clusters for 5674 objects           relatively 0.37 >= 0.02 and <= 0.40\n",
       "* **OK        ** largest cluster has size 3358            relatively 0.59 <= 0.70\n"
      ],
      "text/plain": [
       "<IPython.core.display.Markdown object>"
      ]
     },
     "metadata": {},
     "output_type": "display_data"
    },
    {
     "data": {
      "text/markdown": [
       "* see [tablet-0.35.tsv](https://github.com/Dans-labs/Nino-cunei/blob/master/reports/clustering/tablet-0.35.tsv)\n"
      ],
      "text/plain": [
       "<IPython.core.display.Markdown object>"
      ]
     },
     "metadata": {},
     "output_type": "display_data"
    },
    {
     "data": {
      "text/markdown": [
       "\n",
       "---\n",
       "\n",
       "**Experiment** 5674 tablets *threshold* 0.36\n"
      ],
      "text/plain": [
       "<IPython.core.display.Markdown object>"
      ]
     },
     "metadata": {},
     "output_type": "display_data"
    },
    {
     "data": {
      "text/markdown": [
       "\n",
       "**clustering** 5674 tablets => 2200 clusters, *threshold* 0.36\n"
      ],
      "text/plain": [
       "<IPython.core.display.Markdown object>"
      ]
     },
     "metadata": {},
     "output_type": "display_data"
    },
    {
     "data": {
      "text/markdown": [
       "\n",
       "**Quality**\n",
       "\n",
       "* **OK        ** 2200 clusters for 5674 objects           relatively 0.39 >= 0.02 and <= 0.40\n",
       "* **OK        ** largest cluster has size 3269            relatively 0.58 <= 0.70\n"
      ],
      "text/plain": [
       "<IPython.core.display.Markdown object>"
      ]
     },
     "metadata": {},
     "output_type": "display_data"
    },
    {
     "data": {
      "text/markdown": [
       "* see [tablet-0.36.tsv](https://github.com/Dans-labs/Nino-cunei/blob/master/reports/clustering/tablet-0.36.tsv)\n"
      ],
      "text/plain": [
       "<IPython.core.display.Markdown object>"
      ]
     },
     "metadata": {},
     "output_type": "display_data"
    },
    {
     "data": {
      "text/markdown": [
       "\n",
       "---\n",
       "\n",
       "**Experiment** 5674 tablets *threshold* 0.37\n"
      ],
      "text/plain": [
       "<IPython.core.display.Markdown object>"
      ]
     },
     "metadata": {},
     "output_type": "display_data"
    },
    {
     "data": {
      "text/markdown": [
       "\n",
       "**clustering** 5674 tablets => 2310 clusters, *threshold* 0.37\n"
      ],
      "text/plain": [
       "<IPython.core.display.Markdown object>"
      ]
     },
     "metadata": {},
     "output_type": "display_data"
    },
    {
     "data": {
      "text/markdown": [
       "\n",
       "**Quality**\n",
       "\n",
       "* **TOO MANY  ** 2310 clusters for 5674 objects           relatively 0.41 > 0.40\n",
       "* **OK        ** largest cluster has size 3141            relatively 0.55 <= 0.70\n"
      ],
      "text/plain": [
       "<IPython.core.display.Markdown object>"
      ]
     },
     "metadata": {},
     "output_type": "display_data"
    },
    {
     "data": {
      "text/markdown": [
       "\n",
       "---\n",
       "\n",
       "**Experiment** 5674 tablets *threshold* 0.38\n"
      ],
      "text/plain": [
       "<IPython.core.display.Markdown object>"
      ]
     },
     "metadata": {},
     "output_type": "display_data"
    },
    {
     "data": {
      "text/markdown": [
       "\n",
       "**clustering** 5674 tablets => 2498 clusters, *threshold* 0.38\n"
      ],
      "text/plain": [
       "<IPython.core.display.Markdown object>"
      ]
     },
     "metadata": {},
     "output_type": "display_data"
    },
    {
     "data": {
      "text/markdown": [
       "\n",
       "**Quality**\n",
       "\n",
       "* **TOO MANY  ** 2498 clusters for 5674 objects           relatively 0.44 > 0.40\n",
       "* **OK        ** largest cluster has size 2934            relatively 0.52 <= 0.70\n"
      ],
      "text/plain": [
       "<IPython.core.display.Markdown object>"
      ]
     },
     "metadata": {},
     "output_type": "display_data"
    },
    {
     "data": {
      "text/markdown": [
       "\n",
       "---\n",
       "\n",
       "**Experiment** 5674 tablets *threshold* 0.39\n"
      ],
      "text/plain": [
       "<IPython.core.display.Markdown object>"
      ]
     },
     "metadata": {},
     "output_type": "display_data"
    },
    {
     "data": {
      "text/markdown": [
       "\n",
       "**clustering** 5674 tablets => 2566 clusters, *threshold* 0.39\n"
      ],
      "text/plain": [
       "<IPython.core.display.Markdown object>"
      ]
     },
     "metadata": {},
     "output_type": "display_data"
    },
    {
     "data": {
      "text/markdown": [
       "\n",
       "**Quality**\n",
       "\n",
       "* **TOO MANY  ** 2566 clusters for 5674 objects           relatively 0.45 > 0.40\n",
       "* **OK        ** largest cluster has size 2887            relatively 0.51 <= 0.70\n"
      ],
      "text/plain": [
       "<IPython.core.display.Markdown object>"
      ]
     },
     "metadata": {},
     "output_type": "display_data"
    },
    {
     "data": {
      "text/markdown": [
       "\n",
       "**Result** 3 good clusterings.\n"
      ],
      "text/plain": [
       "<IPython.core.display.Markdown object>"
      ]
     },
     "metadata": {},
     "output_type": "display_data"
    }
   ],
   "source": [
    "experiments(clusterings, 'tablet', 'catalogId', [i/100 for i in range(31, 40)], showGood=1)"
   ]
  },
  {
   "cell_type": "code",
   "execution_count": null,
   "metadata": {
    "scrolled": true
   },
   "outputs": [],
   "source": []
  }
 ],
 "metadata": {
  "kernelspec": {
   "display_name": "Python 3",
   "language": "python",
   "name": "python3"
  },
  "language_info": {
   "codemirror_mode": {
    "name": "ipython",
    "version": 3
   },
   "file_extension": ".py",
   "mimetype": "text/x-python",
   "name": "python",
   "nbconvert_exporter": "python",
   "pygments_lexer": "ipython3",
   "version": "3.6.4"
  },
  "toc": {
   "nav_menu": {},
   "number_sections": true,
   "sideBar": true,
   "skip_h1_title": true,
   "toc_cell": true,
   "toc_position": {
    "height": "607px",
    "left": "0px",
    "right": "1049px",
    "top": "110px",
    "width": "231px"
   },
   "toc_section_display": "block",
   "toc_window_display": true
  }
 },
 "nbformat": 4,
 "nbformat_minor": 2
}
