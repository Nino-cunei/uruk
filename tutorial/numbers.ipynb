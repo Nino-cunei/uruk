{
 "cells": [
  {
   "cell_type": "markdown",
   "metadata": {
    "toc": true
   },
   "source": [
    "<h1>Table of Contents<span class=\"tocSkip\"></span></h1>\n",
    "<div class=\"toc\" style=\"margin-top: 1em;\"><ul class=\"toc-item\"><li><span><a href=\"#Start-up\" data-toc-modified-id=\"Start-up-1\"><span class=\"toc-item-num\">1&nbsp;&nbsp;</span>Start up</a></span></li></ul></div>"
   ]
  },
  {
   "cell_type": "markdown",
   "metadata": {
    "ExecuteTime": {
     "end_time": "2018-02-27T08:24:45.190815Z",
     "start_time": "2018-02-27T08:24:45.174943Z"
    }
   },
   "source": [
    "<img align=\"left\" src=\"images/P005381-obverse-photo.png\" width=\"15%\"/>\n",
    "<img align=\"left\" src=\"images/P005381-obverse-lineart-annot.png\" width=\"15%\"/>\n",
    "<img align=\"right\" src=\"images/P005381-reverse-photo.png\" width=\"15%\"/>\n",
    "<img align=\"right\" src=\"images/P005381-reverse-lineart.png\" width=\"15%\"/>\n",
    "\n",
    "<p>\n",
    "```\n",
    "&P005381 = MSVO 3, 70\n",
    "```\n",
    "</p>\n",
    "<p>\n",
    "<img src=\"images/P005381-obverse-atf.png\" width=\"40%\"/>\n",
    "<img src=\"images/P005381-reverse-atf.png\" width=\"40%\"/>\n",
    "</p>"
   ]
  },
  {
   "cell_type": "markdown",
   "metadata": {},
   "source": [
    "<img align=\"right\" src=\"images/tf-small.png\"/>\n",
    "\n",
    "\n",
    "# Numbers"
   ]
  },
  {
   "cell_type": "markdown",
   "metadata": {},
   "source": [
    "## Start up\n",
    "\n",
    "We import the Python modules we need."
   ]
  },
  {
   "cell_type": "code",
   "execution_count": 1,
   "metadata": {
    "ExecuteTime": {
     "end_time": "2018-03-05T06:56:32.156286Z",
     "start_time": "2018-03-05T06:56:32.128505Z"
    }
   },
   "outputs": [],
   "source": [
    "%load_ext autoreload\n",
    "%autoreload 2"
   ]
  },
  {
   "cell_type": "code",
   "execution_count": 9,
   "metadata": {
    "ExecuteTime": {
     "end_time": "2018-03-05T06:57:25.567813Z",
     "start_time": "2018-03-05T06:57:25.550315Z"
    }
   },
   "outputs": [],
   "source": [
    "import os, sys, collections\n",
    "from IPython.display import display"
   ]
  },
  {
   "cell_type": "code",
   "execution_count": 2,
   "metadata": {
    "ExecuteTime": {
     "end_time": "2018-03-05T06:56:34.075961Z",
     "start_time": "2018-03-05T06:56:33.034836Z"
    }
   },
   "outputs": [
    {
     "name": "stdout",
     "output_type": "stream",
     "text": [
      "Found 2724 tablet linearts\n",
      "Found 2095 ideographs\n"
     ]
    },
    {
     "data": {
      "text/markdown": [
       "\n",
       "**Documentation:**\n",
       "[Feature docs](https://github.com/Dans-labs/Nino-cunei/blob/master/docs/transcription.md)\n",
       "[Cunei API](https://github.com/Dans-labs/Nino-cunei/blob/master/docs/cunei.md)\n",
       "[Text-Fabric API](https://github.com/Dans-labs/text-fabric)\n"
      ],
      "text/plain": [
       "<IPython.core.display.Markdown object>"
      ]
     },
     "metadata": {},
     "output_type": "display_data"
    }
   ],
   "source": [
    "REPO = f'~/github/Dans-labs/Nino-cunei'\n",
    "PROGRAM_DIR = os.path.expanduser(f'{REPO}/programs')\n",
    "sys.path.append(PROGRAM_DIR)\n",
    "from cunei import Cunei\n",
    "CN = Cunei(REPO)\n",
    "CN.api.makeAvailableIn(globals())"
   ]
  },
  {
   "cell_type": "code",
   "execution_count": 3,
   "metadata": {
    "ExecuteTime": {
     "end_time": "2018-03-05T06:56:55.816406Z",
     "start_time": "2018-03-05T06:56:55.797744Z"
    }
   },
   "outputs": [],
   "source": [
    "def dm(markdown): display(Markdown(markdown))"
   ]
  },
  {
   "cell_type": "markdown",
   "metadata": {},
   "source": [
    "Specification of the Shin systems: just the bare minimum of info."
   ]
  },
  {
   "cell_type": "code",
   "execution_count": 4,
   "metadata": {
    "ExecuteTime": {
     "end_time": "2018-03-05T06:56:57.412471Z",
     "start_time": "2018-03-05T06:56:57.393610Z"
    }
   },
   "outputs": [],
   "source": [
    "numberSystems = dict(\n",
    "    shinP = (40, 3, 18, 24, 45),\n",
    "    shinPP = (4,19, 36, 41, 46, 49),\n",
    "    shinS = (25, 27, 28, 42, 5, 20, 47, 37),\n",
    ")"
   ]
  },
  {
   "cell_type": "markdown",
   "metadata": {},
   "source": [
    "We turn the numbers into numeral graphemes:"
   ]
  },
  {
   "cell_type": "code",
   "execution_count": 5,
   "metadata": {
    "ExecuteTime": {
     "end_time": "2018-03-05T06:56:59.031867Z",
     "start_time": "2018-03-05T06:56:59.011867Z"
    }
   },
   "outputs": [],
   "source": [
    "systems = {}\n",
    "\n",
    "for (shin, numbers) in numberSystems.items():\n",
    "    systems[shin] = {f'N{n:>02}' for n in numbers}"
   ]
  },
  {
   "cell_type": "markdown",
   "metadata": {},
   "source": [
    "Reality check"
   ]
  },
  {
   "cell_type": "code",
   "execution_count": 6,
   "metadata": {
    "ExecuteTime": {
     "end_time": "2018-03-05T06:57:01.219268Z",
     "start_time": "2018-03-05T06:57:01.187492Z"
    }
   },
   "outputs": [
    {
     "data": {
      "text/plain": [
       "{'shinP': {'N03', 'N18', 'N24', 'N40', 'N45'},\n",
       " 'shinPP': {'N04', 'N19', 'N36', 'N41', 'N46', 'N49'},\n",
       " 'shinS': {'N05', 'N20', 'N25', 'N27', 'N28', 'N37', 'N42', 'N47'}}"
      ]
     },
     "execution_count": 6,
     "metadata": {},
     "output_type": "execute_result"
    }
   ],
   "source": [
    "systems"
   ]
  },
  {
   "cell_type": "markdown",
   "metadata": {},
   "source": [
    "We also want the opposite: given a numeral, which system is it?"
   ]
  },
  {
   "cell_type": "code",
   "execution_count": 7,
   "metadata": {
    "ExecuteTime": {
     "end_time": "2018-03-05T06:57:05.057892Z",
     "start_time": "2018-03-05T06:57:05.021282Z"
    }
   },
   "outputs": [
    {
     "data": {
      "text/plain": [
       "{'N03': 'shinP',\n",
       " 'N04': 'shinPP',\n",
       " 'N05': 'shinS',\n",
       " 'N18': 'shinP',\n",
       " 'N19': 'shinPP',\n",
       " 'N20': 'shinS',\n",
       " 'N24': 'shinP',\n",
       " 'N25': 'shinS',\n",
       " 'N27': 'shinS',\n",
       " 'N28': 'shinS',\n",
       " 'N36': 'shinPP',\n",
       " 'N37': 'shinS',\n",
       " 'N40': 'shinP',\n",
       " 'N41': 'shinPP',\n",
       " 'N42': 'shinS',\n",
       " 'N45': 'shinP',\n",
       " 'N46': 'shinPP',\n",
       " 'N47': 'shinS',\n",
       " 'N49': 'shinPP'}"
      ]
     },
     "execution_count": 7,
     "metadata": {},
     "output_type": "execute_result"
    }
   ],
   "source": [
    "numeralMap = {}\n",
    "\n",
    "for (shin, numerals) in systems.items():\n",
    "    for n in numerals:\n",
    "        if n in numeralMap:\n",
    "            dm(f'**warning:** Numeral {n} in {shin} was already in {numeralMap[n]}')\n",
    "        numeralMap[n] = shin\n",
    "\n",
    "numeralMap"
   ]
  },
  {
   "cell_type": "markdown",
   "metadata": {},
   "source": [
    "Exercise:\n",
    "\n",
    "For each tablet, add three properties: hasShinP, hasShinPP, hasShinS.\n",
    "They will be True if and only if the tablet has a numeral in that category.\n",
    "Even better, instead of True or False, we let them record how many numerals in that set they have. "
   ]
  },
  {
   "cell_type": "code",
   "execution_count": 10,
   "metadata": {
    "ExecuteTime": {
     "end_time": "2018-03-05T06:57:30.014490Z",
     "start_time": "2018-03-05T06:57:29.790658Z"
    }
   },
   "outputs": [],
   "source": [
    "tabletNumerics = collections.defaultdict(collections.Counter)\n",
    "\n",
    "for tablet in F.otype.s('tablet'):\n",
    "    pNum = F.catalogId.v(tablet)\n",
    "    for sign in L.d(tablet, otype='sign'):\n",
    "        if F.type.v(sign) == 'numeral':\n",
    "            numeral = F.grapheme.v(sign)\n",
    "            system = numeralMap.get(numeral, None)\n",
    "            if system is not None:\n",
    "                tabletNumerics[pNum][system] += 1"
   ]
  },
  {
   "cell_type": "markdown",
   "metadata": {},
   "source": [
    "Now we write a csv file to the report directory, so that you can work with the data in Excel.\n",
    "\n",
    "We show the first few lines in the notebook"
   ]
  },
  {
   "cell_type": "code",
   "execution_count": 12,
   "metadata": {
    "ExecuteTime": {
     "end_time": "2018-03-05T06:58:29.488012Z",
     "start_time": "2018-03-05T06:58:29.445976Z"
    }
   },
   "outputs": [
    {
     "name": "stdout",
     "output_type": "stream",
     "text": [
      "P000148\t0\t0\t1\n",
      "P000245\t2\t0\t0\n",
      "P000266\t0\t1\t0\n",
      "P000308\t2\t0\t0\n",
      "P000434\t2\t0\t0\n",
      "P000511\t1\t0\t0\n",
      "P000517\t1\t0\t0\n",
      "P000550\t2\t0\t0\n",
      "P000734\t2\t0\t0\n",
      "P000735\t2\t0\t1\n",
      "\n"
     ]
    }
   ],
   "source": [
    "filePath = f'{CN.reportDir}/tabletNumerics.tsv'\n",
    "lines = []\n",
    "systemNames = sorted(systems)\n",
    "fieldNames = \"\\t\".join(systemNames)\n",
    "for pNum in sorted(tabletNumerics):\n",
    "    data = tabletNumerics[pNum]\n",
    "    values = \"\\t\".join(str(data[s]) for s in systemNames)\n",
    "    lines.append(f'{pNum}\\t{values}\\n')\n",
    "with open(filePath, 'w') as fh:\n",
    "    fh.write(f'tablet\\t{fieldNames}\\n')\n",
    "    fh.write(''.join(lines))\n",
    "\n",
    "print(''.join(lines[0:10]))"
   ]
  },
  {
   "cell_type": "code",
   "execution_count": null,
   "metadata": {},
   "outputs": [],
   "source": []
  }
 ],
 "metadata": {
  "kernelspec": {
   "display_name": "Python 3",
   "language": "python",
   "name": "python3"
  },
  "language_info": {
   "codemirror_mode": {
    "name": "ipython",
    "version": 3
   },
   "file_extension": ".py",
   "mimetype": "text/x-python",
   "name": "python",
   "nbconvert_exporter": "python",
   "pygments_lexer": "ipython3",
   "version": "3.6.4"
  },
  "toc": {
   "nav_menu": {},
   "number_sections": true,
   "sideBar": true,
   "skip_h1_title": true,
   "toc_cell": true,
   "toc_position": {
    "height": "857px",
    "left": "0px",
    "right": "1251px",
    "top": "110px",
    "width": "214px"
   },
   "toc_section_display": "block",
   "toc_window_display": false
  }
 },
 "nbformat": 4,
 "nbformat_minor": 2
}
