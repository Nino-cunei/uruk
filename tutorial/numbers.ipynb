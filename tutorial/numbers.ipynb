{
 "cells": [
  {
   "cell_type": "markdown",
   "metadata": {
    "toc": true
   },
   "source": [
    "<h1>Table of Contents<span class=\"tocSkip\"></span></h1>\n",
    "<div class=\"toc\" style=\"margin-top: 1em;\"><ul class=\"toc-item\"><li><span><a href=\"#Start-up\" data-toc-modified-id=\"Start-up-1\"><span class=\"toc-item-num\">1&nbsp;&nbsp;</span>Start up</a></span></li></ul></div>"
   ]
  },
  {
   "cell_type": "markdown",
   "metadata": {
    "ExecuteTime": {
     "end_time": "2018-02-27T08:24:45.190815Z",
     "start_time": "2018-02-27T08:24:45.174943Z"
    }
   },
   "source": [
    "<img align=\"left\" src=\"images/P005381-obverse-photo.png\" width=\"15%\"/>\n",
    "<img align=\"left\" src=\"images/P005381-obverse-lineart-annot.png\" width=\"15%\"/>\n",
    "<img align=\"right\" src=\"images/P005381-reverse-photo.png\" width=\"15%\"/>\n",
    "<img align=\"right\" src=\"images/P005381-reverse-lineart.png\" width=\"15%\"/>\n",
    "\n",
    "<p>\n",
    "```\n",
    "&P005381 = MSVO 3, 70\n",
    "```\n",
    "</p>\n",
    "<p>\n",
    "<img src=\"images/P005381-obverse-atf.png\" width=\"40%\"/>\n",
    "<img src=\"images/P005381-reverse-atf.png\" width=\"40%\"/>\n",
    "</p>"
   ]
  },
  {
   "cell_type": "markdown",
   "metadata": {},
   "source": [
    "<img align=\"right\" src=\"images/tf-small.png\"/>\n",
    "\n",
    "\n",
    "# Numbers"
   ]
  },
  {
   "cell_type": "markdown",
   "metadata": {},
   "source": [
    "## Start up\n",
    "\n",
    "We import the Python modules we need."
   ]
  },
  {
   "cell_type": "code",
   "execution_count": 20,
   "metadata": {
    "ExecuteTime": {
     "end_time": "2018-03-01T20:56:24.999512Z",
     "start_time": "2018-03-01T20:56:24.977130Z"
    }
   },
   "outputs": [],
   "source": [
    "%load_ext autoreload\n",
    "%autoreload 2"
   ]
  },
  {
   "cell_type": "code",
   "execution_count": 21,
   "metadata": {
    "ExecuteTime": {
     "end_time": "2018-03-01T20:56:25.677495Z",
     "start_time": "2018-03-01T20:56:25.646707Z"
    }
   },
   "outputs": [],
   "source": [
    "import sys, os, collections\n",
    "from glob import glob\n",
    "from IPython.display import Markdown, Image, display\n",
    "from tf.fabric import Fabric"
   ]
  },
  {
   "cell_type": "markdown",
   "metadata": {},
   "source": [
    "We set up our working locations on the file system."
   ]
  },
  {
   "cell_type": "code",
   "execution_count": 22,
   "metadata": {
    "ExecuteTime": {
     "end_time": "2018-03-01T20:56:27.218262Z",
     "start_time": "2018-03-01T20:56:27.182149Z"
    }
   },
   "outputs": [],
   "source": [
    "GITHUB = 'https://github.com'\n",
    "REPO_REL = 'Dans-labs/Nino-cunei'\n",
    "REPO = f'~/github/{REPO_REL}'\n",
    "SOURCE = 'uruk'\n",
    "VERSION = '0.1'\n",
    "CORPUS = f'{REPO}/tf/{SOURCE}/{VERSION}'\n",
    "SOURCE_DIR = os.path.expanduser(f'{REPO}/sources/cdli')\n",
    "IDEO_DIR = os.path.expanduser(f'{REPO}/sources/ideographs')\n",
    "PROGRAM_DIR = os.path.expanduser(f'{REPO}/programs')\n",
    "TEMP_DIR = os.path.expanduser(f'{REPO}/_temp')\n",
    "REPORT_DIR = os.path.expanduser(f'{REPO}/reports')"
   ]
  },
  {
   "cell_type": "markdown",
   "metadata": {},
   "source": [
    "We create the temporary and report directories, if they do not exist already."
   ]
  },
  {
   "cell_type": "code",
   "execution_count": 23,
   "metadata": {
    "ExecuteTime": {
     "end_time": "2018-03-01T20:56:28.668168Z",
     "start_time": "2018-03-01T20:56:28.649243Z"
    }
   },
   "outputs": [],
   "source": [
    "sys.path.append(PROGRAM_DIR)\n",
    "from cunei import Cunei\n",
    "from utils import Compare"
   ]
  },
  {
   "cell_type": "code",
   "execution_count": 24,
   "metadata": {
    "ExecuteTime": {
     "end_time": "2018-03-01T20:56:29.551423Z",
     "start_time": "2018-03-01T20:56:29.534374Z"
    }
   },
   "outputs": [],
   "source": [
    "for cdir in (TEMP_DIR, REPORT_DIR):\n",
    "    os.makedirs(cdir, exist_ok=True)"
   ]
  },
  {
   "cell_type": "code",
   "execution_count": 25,
   "metadata": {
    "ExecuteTime": {
     "end_time": "2018-03-01T20:56:30.314214Z",
     "start_time": "2018-03-01T20:56:30.287647Z"
    }
   },
   "outputs": [
    {
     "name": "stdout",
     "output_type": "stream",
     "text": [
      "This is Text-Fabric 3.2.2\n",
      "Api reference : https://github.com/Dans-labs/text-fabric/wiki/Api\n",
      "Tutorial      : https://github.com/Dans-labs/text-fabric/blob/master/docs/tutorial.ipynb\n",
      "Example data  : https://github.com/Dans-labs/text-fabric-data\n",
      "\n",
      "33 features found and 0 ignored\n"
     ]
    }
   ],
   "source": [
    "TF = Fabric(locations=[CORPUS], modules=[''], silent=False )"
   ]
  },
  {
   "cell_type": "code",
   "execution_count": 26,
   "metadata": {
    "ExecuteTime": {
     "end_time": "2018-03-01T20:56:32.206119Z",
     "start_time": "2018-03-01T20:56:31.049458Z"
    }
   },
   "outputs": [
    {
     "name": "stdout",
     "output_type": "stream",
     "text": [
      "  0.00s loading features ...\n",
      "   |     0.00s B catalogId            from /Users/dirk/github/Dans-labs/Nino-cunei/tf/uruk/0.1\n",
      "   |     0.02s B fullNumber           from /Users/dirk/github/Dans-labs/Nino-cunei/tf/uruk/0.1\n",
      "   |     0.02s B number               from /Users/dirk/github/Dans-labs/Nino-cunei/tf/uruk/0.1\n",
      "   |     0.05s B grapheme             from /Users/dirk/github/Dans-labs/Nino-cunei/tf/uruk/0.1\n",
      "   |     0.05s B srcLn                from /Users/dirk/github/Dans-labs/Nino-cunei/tf/uruk/0.1\n",
      "   |     0.02s B srcLnNum             from /Users/dirk/github/Dans-labs/Nino-cunei/tf/uruk/0.1\n",
      "   |     0.00s B prime                from /Users/dirk/github/Dans-labs/Nino-cunei/tf/uruk/0.1\n",
      "   |     0.01s B repeat               from /Users/dirk/github/Dans-labs/Nino-cunei/tf/uruk/0.1\n",
      "   |     0.01s B variant              from /Users/dirk/github/Dans-labs/Nino-cunei/tf/uruk/0.1\n",
      "   |     0.00s B variantOuter         from /Users/dirk/github/Dans-labs/Nino-cunei/tf/uruk/0.1\n",
      "   |     0.00s B modifier             from /Users/dirk/github/Dans-labs/Nino-cunei/tf/uruk/0.1\n",
      "   |     0.00s B modifierInner        from /Users/dirk/github/Dans-labs/Nino-cunei/tf/uruk/0.1\n",
      "   |     0.00s B modifierFirst        from /Users/dirk/github/Dans-labs/Nino-cunei/tf/uruk/0.1\n",
      "   |     0.01s B damage               from /Users/dirk/github/Dans-labs/Nino-cunei/tf/uruk/0.1\n",
      "   |     0.00s B uncertain            from /Users/dirk/github/Dans-labs/Nino-cunei/tf/uruk/0.1\n",
      "   |     0.00s B remarkable           from /Users/dirk/github/Dans-labs/Nino-cunei/tf/uruk/0.1\n",
      "   |     0.00s B written              from /Users/dirk/github/Dans-labs/Nino-cunei/tf/uruk/0.1\n",
      "   |     0.00s B period               from /Users/dirk/github/Dans-labs/Nino-cunei/tf/uruk/0.1\n",
      "   |     0.01s B name                 from /Users/dirk/github/Dans-labs/Nino-cunei/tf/uruk/0.1\n",
      "   |     0.07s B type                 from /Users/dirk/github/Dans-labs/Nino-cunei/tf/uruk/0.1\n",
      "   |     0.00s B identifier           from /Users/dirk/github/Dans-labs/Nino-cunei/tf/uruk/0.1\n",
      "   |     0.00s B excavation           from /Users/dirk/github/Dans-labs/Nino-cunei/tf/uruk/0.1\n",
      "   |     0.00s B origNumber           from /Users/dirk/github/Dans-labs/Nino-cunei/tf/uruk/0.1\n",
      "   |     0.00s B badNumbering         from /Users/dirk/github/Dans-labs/Nino-cunei/tf/uruk/0.1\n",
      "   |     0.01s B crossref             from /Users/dirk/github/Dans-labs/Nino-cunei/tf/uruk/0.1\n",
      "   |     0.01s B text                 from /Users/dirk/github/Dans-labs/Nino-cunei/tf/uruk/0.1\n",
      "   |     0.00s B op                   from /Users/dirk/github/Dans-labs/Nino-cunei/tf/uruk/0.1\n",
      "   |     0.10s B sub                  from /Users/dirk/github/Dans-labs/Nino-cunei/tf/uruk/0.1\n",
      "   |     0.01s B comments             from /Users/dirk/github/Dans-labs/Nino-cunei/tf/uruk/0.1\n",
      "   |     0.00s Feature overview: 28 for nodes; 4 for edges; 1 configs; 7 computed\n",
      "  1.14s All features loaded/computed - for details use loadLog()\n"
     ]
    }
   ],
   "source": [
    "api = TF.load('''\n",
    "    grapheme prime repeat\n",
    "    variant variantOuter\n",
    "    modifier modifierInner modifierFirst\n",
    "    damage uncertain remarkable written\n",
    "    period name type identifier catalogId excavation\n",
    "    number fullNumber origNumber badNumbering\n",
    "    crossref text\n",
    "    srcLn srcLnNum\n",
    "    op sub comments''')\n",
    "api.makeAvailableIn(globals())\n",
    "CUNEI = Cunei(api)\n",
    "COMP = Compare(api, SOURCE_DIR, TEMP_DIR)"
   ]
  },
  {
   "cell_type": "code",
   "execution_count": 27,
   "metadata": {
    "ExecuteTime": {
     "end_time": "2018-03-01T20:56:33.974518Z",
     "start_time": "2018-03-01T20:56:33.952871Z"
    }
   },
   "outputs": [],
   "source": [
    "def dm(markdown): display(Markdown(markdown))"
   ]
  },
  {
   "cell_type": "markdown",
   "metadata": {},
   "source": [
    "Specification of the Shin systems: just the bare minimum of info."
   ]
  },
  {
   "cell_type": "code",
   "execution_count": 28,
   "metadata": {
    "ExecuteTime": {
     "end_time": "2018-03-01T20:56:35.666507Z",
     "start_time": "2018-03-01T20:56:35.641683Z"
    }
   },
   "outputs": [],
   "source": [
    "numberSystems = dict(\n",
    "    shinP = (40, 3, 18, 24, 45),\n",
    "    shinPP = (4,19, 36, 41, 46, 49),\n",
    "    shinS = (25, 27, 28, 42, 5, 20, 47, 37),\n",
    ")"
   ]
  },
  {
   "cell_type": "markdown",
   "metadata": {},
   "source": [
    "We turn the numbers into numeral graphemes:"
   ]
  },
  {
   "cell_type": "code",
   "execution_count": 29,
   "metadata": {
    "ExecuteTime": {
     "end_time": "2018-03-01T20:56:38.084050Z",
     "start_time": "2018-03-01T20:56:38.061735Z"
    }
   },
   "outputs": [],
   "source": [
    "systems = {}\n",
    "\n",
    "for (shin, numbers) in numberSystems.items():\n",
    "    systems[shin] = {f'N{n:>02}' for n in numbers}"
   ]
  },
  {
   "cell_type": "markdown",
   "metadata": {},
   "source": [
    "Reality check"
   ]
  },
  {
   "cell_type": "code",
   "execution_count": 30,
   "metadata": {
    "ExecuteTime": {
     "end_time": "2018-03-01T20:56:39.561130Z",
     "start_time": "2018-03-01T20:56:39.529961Z"
    }
   },
   "outputs": [
    {
     "data": {
      "text/plain": [
       "{'shinP': {'N03', 'N18', 'N24', 'N40', 'N45'},\n",
       " 'shinPP': {'N04', 'N19', 'N36', 'N41', 'N46', 'N49'},\n",
       " 'shinS': {'N05', 'N20', 'N25', 'N27', 'N28', 'N37', 'N42', 'N47'}}"
      ]
     },
     "execution_count": 30,
     "metadata": {},
     "output_type": "execute_result"
    }
   ],
   "source": [
    "systems"
   ]
  },
  {
   "cell_type": "markdown",
   "metadata": {},
   "source": [
    "We also want the opposite: given a numeral, which system is it?"
   ]
  },
  {
   "cell_type": "code",
   "execution_count": 31,
   "metadata": {
    "ExecuteTime": {
     "end_time": "2018-03-01T20:56:42.226884Z",
     "start_time": "2018-03-01T20:56:42.193837Z"
    }
   },
   "outputs": [
    {
     "data": {
      "text/plain": [
       "{'N03': 'shinP',\n",
       " 'N04': 'shinPP',\n",
       " 'N05': 'shinS',\n",
       " 'N18': 'shinP',\n",
       " 'N19': 'shinPP',\n",
       " 'N20': 'shinS',\n",
       " 'N24': 'shinP',\n",
       " 'N25': 'shinS',\n",
       " 'N27': 'shinS',\n",
       " 'N28': 'shinS',\n",
       " 'N36': 'shinPP',\n",
       " 'N37': 'shinS',\n",
       " 'N40': 'shinP',\n",
       " 'N41': 'shinPP',\n",
       " 'N42': 'shinS',\n",
       " 'N45': 'shinP',\n",
       " 'N46': 'shinPP',\n",
       " 'N47': 'shinS',\n",
       " 'N49': 'shinPP'}"
      ]
     },
     "execution_count": 31,
     "metadata": {},
     "output_type": "execute_result"
    }
   ],
   "source": [
    "numeralMap = {}\n",
    "\n",
    "for (shin, numerals) in systems.items():\n",
    "    for n in numerals:\n",
    "        if n in numeralMap:\n",
    "            dm(f'**warning:** Numeral {n} in {shin} was already in {numeralMap[n]}')\n",
    "        numeralMap[n] = shin\n",
    "\n",
    "numeralMap"
   ]
  },
  {
   "cell_type": "markdown",
   "metadata": {},
   "source": [
    "Exercise:\n",
    "\n",
    "For each tablet, add three properties: hasShinP, hasShinPP, hasShinS.\n",
    "They will be True if and only if the tablet has a numeral in that category.\n",
    "Even better, instead of True or False, we let them record how many numerals in that set they have. "
   ]
  },
  {
   "cell_type": "code",
   "execution_count": 33,
   "metadata": {
    "ExecuteTime": {
     "end_time": "2018-03-01T20:57:55.941281Z",
     "start_time": "2018-03-01T20:57:55.697959Z"
    }
   },
   "outputs": [],
   "source": [
    "tabletNumerics = collections.defaultdict(collections.Counter)\n",
    "\n",
    "for tablet in F.otype.s('tablet'):\n",
    "    pNum = F.catalogId.v(tablet)\n",
    "    for sign in L.d(tablet, otype='sign'):\n",
    "        if F.type.v(sign) == 'numeral':\n",
    "            numeral = F.grapheme.v(sign)\n",
    "            system = numeralMap.get(numeral, None)\n",
    "            if system is not None:\n",
    "                tabletNumerics[pNum][system] += 1"
   ]
  },
  {
   "cell_type": "markdown",
   "metadata": {},
   "source": [
    "Now we write a csv file to the report directory, so that you can work with the data in Excel.\n",
    "\n",
    "We show the first few lines in the notebook"
   ]
  },
  {
   "cell_type": "code",
   "execution_count": 39,
   "metadata": {
    "ExecuteTime": {
     "end_time": "2018-03-01T21:10:39.112636Z",
     "start_time": "2018-03-01T21:10:39.071230Z"
    }
   },
   "outputs": [
    {
     "name": "stdout",
     "output_type": "stream",
     "text": [
      "P000148\t0\t0\t1\n",
      "P000245\t2\t0\t0\n",
      "P000266\t0\t1\t0\n",
      "P000308\t2\t0\t0\n",
      "P000434\t2\t0\t0\n",
      "P000511\t1\t0\t0\n",
      "P000517\t1\t0\t0\n",
      "P000550\t2\t0\t0\n",
      "P000734\t2\t0\t0\n",
      "P000735\t2\t0\t1\n",
      "\n"
     ]
    }
   ],
   "source": [
    "filePath = f'{REPORT_DIR}/tabletNumerics.tsv'\n",
    "lines = []\n",
    "systemNames = sorted(systems)\n",
    "fieldNames = \"\\t\".join(systemNames)\n",
    "for pNum in sorted(tabletNumerics):\n",
    "    data = tabletNumerics[pNum]\n",
    "    values = \"\\t\".join(str(data[s]) for s in systemNames)\n",
    "    lines.append(f'{pNum}\\t{values}\\n')\n",
    "with open(filePath, 'w') as fh:\n",
    "    fh.write(f'tablet\\t{fieldNames}\\n')\n",
    "    fh.write(''.join(lines))\n",
    "\n",
    "print(''.join(lines[0:10]))"
   ]
  },
  {
   "cell_type": "markdown",
   "metadata": {},
   "source": [
    "Below is what we did Thursday 2018-03-01 in Leiden"
   ]
  },
  {
   "cell_type": "code",
   "execution_count": 11,
   "metadata": {
    "ExecuteTime": {
     "end_time": "2018-03-01T20:27:36.300613Z",
     "start_time": "2018-03-01T20:27:35.969826Z"
    }
   },
   "outputs": [
    {
     "data": {
      "text/markdown": [
       "**shinPpCases** 684 out of 41142 terminal cases"
      ],
      "text/plain": [
       "<IPython.core.display.Markdown object>"
      ]
     },
     "metadata": {},
     "output_type": "display_data"
    }
   ],
   "source": [
    "shinPpCases = []\n",
    "\n",
    "nCases = 0\n",
    "for case in F.otype.s('case'):\n",
    "    if F.fullNumber.v(case) is None:\n",
    "        continue\n",
    "    nCases += 1\n",
    "    caseGraphemes = {F.grapheme.v(s) for s in L.d(case, otype='sign')}\n",
    "    if caseGraphemes & SHINPP_GRAPHEMES:\n",
    "        shinPpCases.append(case)\n",
    "\n",
    "dm(f'**shinPpCases** {len(shinPpCases)} out of {nCases} terminal cases')"
   ]
  },
  {
   "cell_type": "code",
   "execution_count": 12,
   "metadata": {
    "ExecuteTime": {
     "end_time": "2018-03-01T20:27:39.431210Z",
     "start_time": "2018-03-01T20:27:39.409318Z"
    }
   },
   "outputs": [
    {
     "data": {
      "text/plain": [
       "'tablet\\tface\\tcolumn\\tline\\n'"
      ]
     },
     "execution_count": 12,
     "metadata": {},
     "output_type": "execute_result"
    }
   ],
   "source": [
    "fields = '''\n",
    "    tablet\n",
    "    face\n",
    "    column\n",
    "    line\n",
    "'''.strip().split()\n",
    "\n",
    "formatStr = ('{}\\t' * (len(fields) - 1)) + '{}\\n'\n",
    "\n",
    "headerLine = formatStr.format(*fields)\n",
    "headerLine"
   ]
  },
  {
   "cell_type": "code",
   "execution_count": 13,
   "metadata": {
    "ExecuteTime": {
     "end_time": "2018-03-01T20:27:40.793554Z",
     "start_time": "2018-03-01T20:27:40.743557Z"
    }
   },
   "outputs": [],
   "source": [
    "with open(f'{REPORT_DIR}/shinpp.tsv', 'w') as fh:\n",
    "    for case in shinPpCases:\n",
    "        (tablet, column, ln) = T.sectionFromNode(case)\n",
    "        (face, columnNum) = column.split(':')\n",
    "        line = F.srcLn.v(case)\n",
    "        fh.write(formatStr.format(tablet, face, columnNum, line))"
   ]
  },
  {
   "cell_type": "code",
   "execution_count": null,
   "metadata": {},
   "outputs": [],
   "source": []
  }
 ],
 "metadata": {
  "kernelspec": {
   "display_name": "Python 3",
   "language": "python",
   "name": "python3"
  },
  "language_info": {
   "codemirror_mode": {
    "name": "ipython",
    "version": 3
   },
   "file_extension": ".py",
   "mimetype": "text/x-python",
   "name": "python",
   "nbconvert_exporter": "python",
   "pygments_lexer": "ipython3",
   "version": "3.6.4"
  },
  "toc": {
   "nav_menu": {},
   "number_sections": true,
   "sideBar": true,
   "skip_h1_title": true,
   "toc_cell": true,
   "toc_position": {
    "height": "857px",
    "left": "0px",
    "right": "1251px",
    "top": "110px",
    "width": "214px"
   },
   "toc_section_display": "block",
   "toc_window_display": false
  }
 },
 "nbformat": 4,
 "nbformat_minor": 2
}
