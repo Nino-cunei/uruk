{
 "cells": [
  {
   "cell_type": "markdown",
   "metadata": {
    "toc": true
   },
   "source": [
    "<h1>Table of Contents<span class=\"tocSkip\"></span></h1>\n",
    "<div class=\"toc\" style=\"margin-top: 1em;\"><ul class=\"toc-item\"><li><span><a href=\"#Data\" data-toc-modified-id=\"Data-1\"><span class=\"toc-item-num\">1&nbsp;&nbsp;</span>Data</a></span></li><li><span><a href=\"#Reference-docs\" data-toc-modified-id=\"Reference-docs-2\"><span class=\"toc-item-num\">2&nbsp;&nbsp;</span>Reference docs</a></span></li><li><span><a href=\"#Start-up\" data-toc-modified-id=\"Start-up-3\"><span class=\"toc-item-num\">3&nbsp;&nbsp;</span>Start up</a></span></li><li><span><a href=\"#Sign-representations\" data-toc-modified-id=\"Sign-representations-4\"><span class=\"toc-item-num\">4&nbsp;&nbsp;</span>Sign representations</a></span></li><li><span><a href=\"#Pairs-per-object\" data-toc-modified-id=\"Pairs-per-object-5\"><span class=\"toc-item-num\">5&nbsp;&nbsp;</span>Pairs per object</a></span><ul class=\"toc-item\"><li><span><a href=\"#A-battery-of-collocations\" data-toc-modified-id=\"A-battery-of-collocations-5.1\"><span class=\"toc-item-num\">5.1&nbsp;&nbsp;</span>A battery of collocations</a></span></li><li><span><a href=\"#Simple-versus-refined\" data-toc-modified-id=\"Simple-versus-refined-5.2\"><span class=\"toc-item-num\">5.2&nbsp;&nbsp;</span>Simple versus refined</a></span></li></ul></li><li><span><a href=\"#Results\" data-toc-modified-id=\"Results-6\"><span class=\"toc-item-num\">6&nbsp;&nbsp;</span>Results</a></span></li></ul></div>"
   ]
  },
  {
   "cell_type": "markdown",
   "metadata": {
    "ExecuteTime": {
     "end_time": "2018-02-27T08:24:45.190815Z",
     "start_time": "2018-02-27T08:24:45.174943Z"
    }
   },
   "source": [
    "<img align=\"left\" src=\"images/P005381-obverse-photo.png\" width=\"15%\"/>\n",
    "<img align=\"left\" src=\"images/P005381-obverse-lineart-annot.png\" width=\"15%\"/>\n",
    "<img align=\"right\" src=\"images/P005381-reverse-photo.png\" width=\"15%\"/>\n",
    "<img align=\"right\" src=\"images/P005381-reverse-lineart.png\" width=\"15%\"/>\n",
    "\n",
    "<p>\n",
    "```\n",
    "&P005381 = MSVO 3, 70\n",
    "```\n",
    "</p>\n",
    "<p>\n",
    "<img src=\"images/P005381-obverse-atf.png\" width=\"40%\"/>\n",
    "<img src=\"images/P005381-reverse-atf.png\" width=\"40%\"/>\n",
    "</p>"
   ]
  },
  {
   "cell_type": "markdown",
   "metadata": {},
   "source": [
    "<img align=\"right\" src=\"images/tf-small.png\"/>\n",
    "\n",
    "\n",
    "# Collation\n",
    "\n",
    "We want to get insights in the co-occurrences of signs on tablets in the \n",
    "[Uruk III/IV](http://cdli.ox.ac.uk/wiki/doku.php?id=proto-cuneiform)\n",
    "corpus (4000-3100 BC).\n",
    "These tablets have a poor archival context, since they come from rubbish pits, and may have been transported\n",
    "from various different places than where they have been excavated.\n",
    "\n",
    "In order to get more information about their chronology and context, we need to study the evolution of\n",
    "the signs on the tablets. Collation is one of the pre-requisites to do so.\n",
    "\n",
    "The tutorial ended with a first exercise in collation, where we collated pairs of signs\n",
    "that co-occur on tablets and used an unsophisticated distance measure.\n",
    "\n",
    "We repeat that exercise, and proceed to refine the collation method step by step.\n",
    "\n",
    "## Data\n",
    "\n",
    "We have downloaded the transcriptions from the \n",
    "**Cuneiform Digital Library Initiative**\n",
    "[CDLI](https://cdli.ucla.edu),\n",
    "and converted them to\n",
    "[Text-Fabric](https://github.com/Dans-labs/text-fabric).\n",
    "Read more about the details of the conversion in the\n",
    "[checks](checks.ipynb) notebook.\n",
    "For an introduction to Text-Fabric, follow the\n",
    "[start](start.ipynb) tutorial.\n",
    "\n",
    "## Reference docs\n",
    "The functions used by this notebook are documented in the following places:\n",
    "\n",
    "[Feature docs](https://github.com/Dans-labs/Nino-cunei/blob/master/docs/transcription.md)\n",
    "\n",
    "[Cunei API](https://github.com/Dans-labs/Nino-cunei/blob/master/docs/cunei.md)\n",
    "\n",
    "[Utils API](https://github.com/Dans-labs/Nino-cunei/blob/master/docs/utils.md)\n",
    "\n",
    "[Text-Fabric API](https://github.com/Dans-labs/text-fabric)\n",
    "\n",
    "\n",
    "# Authors\n",
    "\n",
    "J. Cale Johnson and Dirk Roorda (see the \n",
    "[README](https://github.com/Dans-labs/Nino-cunei)\n",
    "of this repository)."
   ]
  },
  {
   "cell_type": "markdown",
   "metadata": {},
   "source": [
    "## Start up\n",
    "\n",
    "We import the Python modules we need."
   ]
  },
  {
   "cell_type": "code",
   "execution_count": 1,
   "metadata": {
    "ExecuteTime": {
     "end_time": "2018-02-28T10:44:40.840653Z",
     "start_time": "2018-02-28T10:44:40.814110Z"
    }
   },
   "outputs": [],
   "source": [
    "%load_ext autoreload\n",
    "%autoreload 2"
   ]
  },
  {
   "cell_type": "code",
   "execution_count": 2,
   "metadata": {
    "ExecuteTime": {
     "end_time": "2018-02-28T10:44:42.074875Z",
     "start_time": "2018-02-28T10:44:42.044937Z"
    }
   },
   "outputs": [],
   "source": [
    "import sys, os, collections\n",
    "from tf.fabric import Fabric"
   ]
  },
  {
   "cell_type": "markdown",
   "metadata": {},
   "source": [
    "We set up our working locations on the file system."
   ]
  },
  {
   "cell_type": "code",
   "execution_count": 110,
   "metadata": {
    "ExecuteTime": {
     "end_time": "2018-02-28T12:56:33.019259Z",
     "start_time": "2018-02-28T12:56:32.988295Z"
    }
   },
   "outputs": [],
   "source": [
    "GITHUB = 'https://github.com'\n",
    "REPO_REL = 'Dans-labs/Nino-cunei/blob/master'\n",
    "REPO = f'~/github/{REPO_REL}'\n",
    "SOURCE = 'uruk'\n",
    "VERSION = '0.1'\n",
    "CORPUS = f'{REPO}/tf/{SOURCE}/{VERSION}'\n",
    "SOURCE_DIR = os.path.expanduser(f'{REPO}/sources/cdli')\n",
    "PROGRAM_DIR = os.path.expanduser(f'{REPO}/programs')\n",
    "TEMP_DIR = os.path.expanduser(f'{REPO}/_temp')\n",
    "REPORT_DIR = os.path.expanduser(f'{REPO}/reports')\n",
    "RESULT_DIR = f'{REPORT_DIR}/collation'\n",
    "RESULT_GH = f'{GITHUB}/{REPO_REL}/reports/collocation'\n",
    "TEMP_RESULT_DIR = f'{TEMP_DIR}/collation'"
   ]
  },
  {
   "cell_type": "markdown",
   "metadata": {},
   "source": [
    "We create the temporary and report directories, if they do not exist already."
   ]
  },
  {
   "cell_type": "code",
   "execution_count": 82,
   "metadata": {
    "ExecuteTime": {
     "end_time": "2018-02-28T12:28:55.929647Z",
     "start_time": "2018-02-28T12:28:55.915327Z"
    }
   },
   "outputs": [],
   "source": [
    "sys.path.append(PROGRAM_DIR)\n",
    "from cunei import Cunei\n",
    "from utils import Compare"
   ]
  },
  {
   "cell_type": "code",
   "execution_count": 83,
   "metadata": {
    "ExecuteTime": {
     "end_time": "2018-02-28T12:28:56.654270Z",
     "start_time": "2018-02-28T12:28:56.639256Z"
    }
   },
   "outputs": [],
   "source": [
    "for cdir in (TEMP_DIR, REPORT_DIR, RESULT_DIR, TEMP_RESULT_DIR):\n",
    "    os.makedirs(cdir, exist_ok=True)"
   ]
  },
  {
   "cell_type": "code",
   "execution_count": 84,
   "metadata": {
    "ExecuteTime": {
     "end_time": "2018-02-28T12:29:07.821763Z",
     "start_time": "2018-02-28T12:29:07.793610Z"
    }
   },
   "outputs": [
    {
     "name": "stdout",
     "output_type": "stream",
     "text": [
      "This is Text-Fabric 3.2.2\n",
      "Api reference : https://github.com/Dans-labs/text-fabric/wiki/Api\n",
      "Tutorial      : https://github.com/Dans-labs/text-fabric/blob/master/docs/tutorial.ipynb\n",
      "Example data  : https://github.com/Dans-labs/text-fabric-data\n",
      "\n",
      "32 features found and 0 ignored\n"
     ]
    }
   ],
   "source": [
    "TF = Fabric(locations=[CORPUS], modules=[''], silent=False )"
   ]
  },
  {
   "cell_type": "code",
   "execution_count": 85,
   "metadata": {
    "ExecuteTime": {
     "end_time": "2018-02-28T12:29:10.918579Z",
     "start_time": "2018-02-28T12:29:09.140846Z"
    }
   },
   "outputs": [
    {
     "name": "stdout",
     "output_type": "stream",
     "text": [
      "  0.00s loading features ...\n",
      "   |     0.00s B catalogId            from /Users/dirk/github/Dans-labs/Nino-cunei/tf/uruk/0.1\n",
      "   |     0.03s B fullNumber           from /Users/dirk/github/Dans-labs/Nino-cunei/tf/uruk/0.1\n",
      "   |     0.02s B number               from /Users/dirk/github/Dans-labs/Nino-cunei/tf/uruk/0.1\n",
      "   |     0.06s B grapheme             from /Users/dirk/github/Dans-labs/Nino-cunei/tf/uruk/0.1\n",
      "   |     0.05s B srcLn                from /Users/dirk/github/Dans-labs/Nino-cunei/tf/uruk/0.1\n",
      "   |     0.03s B srcLnNum             from /Users/dirk/github/Dans-labs/Nino-cunei/tf/uruk/0.1\n",
      "   |     0.00s B prime                from /Users/dirk/github/Dans-labs/Nino-cunei/tf/uruk/0.1\n",
      "   |     0.01s B repeat               from /Users/dirk/github/Dans-labs/Nino-cunei/tf/uruk/0.1\n",
      "   |     0.01s B variant              from /Users/dirk/github/Dans-labs/Nino-cunei/tf/uruk/0.1\n",
      "   |     0.00s B variantOuter         from /Users/dirk/github/Dans-labs/Nino-cunei/tf/uruk/0.1\n",
      "   |     0.00s B modifier             from /Users/dirk/github/Dans-labs/Nino-cunei/tf/uruk/0.1\n",
      "   |     0.00s B modifierInner        from /Users/dirk/github/Dans-labs/Nino-cunei/tf/uruk/0.1\n",
      "   |     0.00s B modifierFirst        from /Users/dirk/github/Dans-labs/Nino-cunei/tf/uruk/0.1\n",
      "   |     0.01s B damage               from /Users/dirk/github/Dans-labs/Nino-cunei/tf/uruk/0.1\n",
      "   |     0.00s B uncertain            from /Users/dirk/github/Dans-labs/Nino-cunei/tf/uruk/0.1\n",
      "   |     0.00s B remarkable           from /Users/dirk/github/Dans-labs/Nino-cunei/tf/uruk/0.1\n",
      "   |     0.00s B written              from /Users/dirk/github/Dans-labs/Nino-cunei/tf/uruk/0.1\n",
      "   |     0.00s B period               from /Users/dirk/github/Dans-labs/Nino-cunei/tf/uruk/0.1\n",
      "   |     0.01s B name                 from /Users/dirk/github/Dans-labs/Nino-cunei/tf/uruk/0.1\n",
      "   |     0.02s B type                 from /Users/dirk/github/Dans-labs/Nino-cunei/tf/uruk/0.1\n",
      "   |     0.00s B identifier           from /Users/dirk/github/Dans-labs/Nino-cunei/tf/uruk/0.1\n",
      "   |     0.00s B origNumber           from /Users/dirk/github/Dans-labs/Nino-cunei/tf/uruk/0.1\n",
      "   |     0.00s B badNumbering         from /Users/dirk/github/Dans-labs/Nino-cunei/tf/uruk/0.1\n",
      "   |     0.01s B crossref             from /Users/dirk/github/Dans-labs/Nino-cunei/tf/uruk/0.1\n",
      "   |     0.01s B text                 from /Users/dirk/github/Dans-labs/Nino-cunei/tf/uruk/0.1\n",
      "   |     0.00s B op                   from /Users/dirk/github/Dans-labs/Nino-cunei/tf/uruk/0.1\n",
      "   |     0.38s B sub                  from /Users/dirk/github/Dans-labs/Nino-cunei/tf/uruk/0.1\n",
      "   |     0.02s B comments             from /Users/dirk/github/Dans-labs/Nino-cunei/tf/uruk/0.1\n",
      "   |     0.00s Feature overview: 27 for nodes; 4 for edges; 1 configs; 7 computed\n",
      "  1.75s All features loaded/computed - for details use loadLog()\n"
     ]
    }
   ],
   "source": [
    "api = TF.load('''\n",
    "    grapheme prime repeat\n",
    "    variant variantOuter\n",
    "    modifier modifierInner modifierFirst\n",
    "    damage uncertain remarkable written\n",
    "    period name type identifier catalogId\n",
    "    number fullNumber origNumber badNumbering\n",
    "    crossref text\n",
    "    srcLn srcLnNum\n",
    "    op sub comments''')\n",
    "api.makeAvailableIn(globals())\n",
    "CUNEI = Cunei(api)\n",
    "COMP = Compare(api, SOURCE_DIR, TEMP_DIR)"
   ]
  },
  {
   "cell_type": "markdown",
   "metadata": {},
   "source": [
    "We pick up where we left off in the [start](start.ipynb) tutorial: computing co-occurrences\n",
    "by tablet. But we make the move to put our recipes into functions, that we will re-use and refine later on."
   ]
  },
  {
   "cell_type": "markdown",
   "metadata": {},
   "source": [
    "## Sign representations\n",
    "\n",
    "We pre-compute the sign representations for each node.\n",
    "We also make an index of occurrences for each sign representation."
   ]
  },
  {
   "cell_type": "code",
   "execution_count": 33,
   "metadata": {
    "ExecuteTime": {
     "end_time": "2018-02-28T11:46:11.583972Z",
     "start_time": "2018-02-28T11:46:10.968685Z"
    }
   },
   "outputs": [
    {
     "name": "stdout",
     "output_type": "stream",
     "text": [
      "computed 1526 distinct sign representations from 93253 nodes\n"
     ]
    }
   ],
   "source": [
    "NA = {'', '…', 'X'}\n",
    "\n",
    "def getSigns():\n",
    "    signFromNode = dict()\n",
    "    nodeFromSign = collections.defaultdict(list)\n",
    "\n",
    "    for tablet in F.otype.s('tablet'):\n",
    "        for s in L.d(tablet, otype='sign'):\n",
    "            if F.grapheme.v(s) in NA:\n",
    "                continue\n",
    "            signRep = CUNEI.atfFromSign(s)\n",
    "            signFromNode[s] = signRep\n",
    "            nodeFromSign[signRep].append(s)\n",
    "    print(f'computed {len(nodeFromSign)} distinct sign representations from {len(signFromNode)} nodes')\n",
    "    return (signFromNode, nodeFromSign)\n",
    "\n",
    "(signFromNode, nodeFromSign) = getSigns()"
   ]
  },
  {
   "cell_type": "markdown",
   "metadata": {},
   "source": [
    "## Pairs per object\n",
    "\n",
    "In the [start](start.ipynb) tutorial we collected pairs per tablet, and we calculated\n",
    "a coarse distance between pairs, based on the distance of signs in the linear sequence\n",
    "by which signs have been transcribed.\n",
    "\n",
    "We are going to write that process as a function, where we abstract from the level at\n",
    "which the pairs must co-occur. We also abstract from how we measure the distance."
   ]
  },
  {
   "cell_type": "markdown",
   "metadata": {
    "ExecuteTime": {
     "end_time": "2018-02-28T12:03:00.908187Z",
     "start_time": "2018-02-28T12:03:00.884604Z"
    }
   },
   "source": [
    "In addition to our coarse definition based on relative closeness, we also\n",
    "want a refined notion of closeness, one that does justice to the\n",
    "geometry of a tablet.\n",
    "\n",
    "Instead of basing closeness on sign distance, we want to base it on quad distance."
   ]
  },
  {
   "cell_type": "code",
   "execution_count": 86,
   "metadata": {
    "ExecuteTime": {
     "end_time": "2018-02-28T12:29:19.592670Z",
     "start_time": "2018-02-28T12:29:19.569704Z"
    }
   },
   "outputs": [],
   "source": [
    "def coarseRelativeCloseness(i, j, signLength=None, quadInfo=None):\n",
    "    return (signLength - abs(j - i)) / signLength\n",
    "\n",
    "def refinedRelativeCloseness(i, j, signLength=None, quadInfo=None):\n",
    "    (quadLength, outerQuadFromSign) = quadInfo\n",
    "    return (quadLength - abs(outerQuadFromSign[i] - outerQuadFromSign[j])) / quadLength"
   ]
  },
  {
   "cell_type": "markdown",
   "metadata": {},
   "source": [
    "We write a function `getPairs(perType, measureName)` that computes co-occurent pairs on objects\n",
    "of type `perType`. Here `measureName` is the name of a function that, given two sign nodes, computes\n",
    "a measure of closeness between those nodes.\n",
    "\n",
    "We also show the top pairs, and save all pairs to disk in a tsv file in your TEMP_RESULT_DIR.\n",
    "A shorter version of the results we write to your RESULT_DIR."
   ]
  },
  {
   "cell_type": "code",
   "execution_count": 93,
   "metadata": {
    "ExecuteTime": {
     "end_time": "2018-02-28T12:35:21.833078Z",
     "start_time": "2018-02-28T12:35:21.593864Z"
    }
   },
   "outputs": [],
   "source": [
    "SHOWPAIRS = 10\n",
    "RESULTPAIRS = 1000\n",
    "\n",
    "def getPairs(perType, measureName):\n",
    "    pairs = collections.Counter()\n",
    "    measure = globals()[measureName]\n",
    "\n",
    "    for obj in F.otype.s(perType):\n",
    "        signs = L.d(obj, otype='sign')\n",
    "        signLength = signs[-1] - signs[0]\n",
    "        \n",
    "        outerQuads = CUNEI.getOuterQuads(obj)\n",
    "        quadLength = len(outerQuads)\n",
    "        outerQuadFromSign = {}\n",
    "        for (i, outerQuad) in enumerate(outerQuads):\n",
    "            if F.otype.v(outerQuad) == 'sign':\n",
    "                outerQuadFromSign[outerQuad] = i\n",
    "            else:\n",
    "                for s in L.d(outerQuad, otype='sign'):\n",
    "                    outerQuadFromSign[s] = i\n",
    "        quadInfo = (quadLength, outerQuadFromSign)\n",
    "\n",
    "        thesePairs = {}\n",
    "        for i in range(len(signs)):\n",
    "            nodeI = signs[i]\n",
    "            if nodeI not in signFromNode:\n",
    "                continue\n",
    "            signI = signFromNode[nodeI]\n",
    "            for j in range(i + 1, len(signs)):\n",
    "                nodeJ = signs[j]\n",
    "                if nodeJ not in signFromNode:\n",
    "                    continue\n",
    "                signJ = signFromNode[nodeJ]\n",
    "                if signJ == signI:\n",
    "                    continue\n",
    "                pair = (signI, signJ) if signI < signJ else (signJ, signI)\n",
    "                closeness = measure(nodeI, nodeJ, signLength=signLength, quadInfo=quadInfo)\n",
    "                oldCloseness = thesePairs.get(pair, None)\n",
    "                if oldCloseness is None or oldCloseness < closeness:\n",
    "                    thesePairs[pair] = closeness\n",
    "        for (pair, closeness) in thesePairs.items():\n",
    "            pairs[pair] += closeness\n",
    "    showPairs(pairs, perType, measureName)\n",
    "    return pairs\n",
    "\n",
    "def sortPairs(pairs):\n",
    "    return sorted(\n",
    "        pairs.items(), \n",
    "        key=lambda x: (-x[1], x[0]),\n",
    "    )\n",
    "\n",
    "def sortPairsBare(pairs):\n",
    "    return sorted(\n",
    "        pairs, \n",
    "        key=lambda x: (-pairs[x], x),\n",
    "    )   \n",
    "\n",
    "def showPairs(pairs, perType, measureName):\n",
    "    print(f'{len(pairs)} co-occurrences in {perType}s with measure {measureName}')\n",
    "    sortedPairs = sortPairs(pairs)\n",
    "    pairFile = f'per-{perType}-{measureName}.tsv'\n",
    "    pairTempPath = f'{TEMP_RESULT_DIR}/{pairFile}'\n",
    "    with open(pairTempPath, 'w') as fh:\n",
    "        fh.write(f'signI\\tsignJ\\t{measureName}\\n')\n",
    "        for ((signI, signJ), closeness) in sortedPairs:\n",
    "            fh.write(f'{signI}\\t{signJ}\\t{closeness}\\n')\n",
    "    print(f'Written {len(pairs)} pairs to {pairFile} in _temp')\n",
    "    \n",
    "    pairPath = f'{RESULT_DIR}/{pairFile}'\n",
    "    with open(pairPath, 'w') as fh:\n",
    "        fh.write('signI\\tsignJ\\t{measureName}\\n')\n",
    "        for ((signI, signJ), closeness) in sortedPairs[0:RESULTPAIRS]:\n",
    "            fh.write(f'{signI}\\t{signJ}\\t{closeness}\\n')\n",
    "    print(f'Written {len(pairs)} pairs to {pairFile} in report')\n",
    "\n",
    "    showPairs = sortedPairs[0:SHOWPAIRS] \n",
    "    for ((signI, signJ), closeness) in showPairs:\n",
    "        print(f'{signI:>10} <=~ {closeness:>7.2f} ~=> {signJ:<10}')\n",
    "    if SHOWPAIRS < len(sortedPairs):\n",
    "        print(f'...and {len(sortedPairs) - SHOWPAIRS} more')"
   ]
  },
  {
   "cell_type": "markdown",
   "metadata": {},
   "source": [
    "### A battery of collocations\n",
    "\n",
    "Let's do business with this function, and get our results back for tablets and a closeness\n",
    "function based on the size of the tablet."
   ]
  },
  {
   "cell_type": "code",
   "execution_count": 94,
   "metadata": {
    "ExecuteTime": {
     "end_time": "2018-02-28T12:35:25.462976Z",
     "start_time": "2018-02-28T12:35:25.358742Z"
    }
   },
   "outputs": [],
   "source": [
    "collocationPairs = {}\n",
    "\n",
    "collocationObjects = '''\n",
    "    tablet\n",
    "    face\n",
    "    column\n",
    "    line\n",
    "'''.strip().split()\n",
    "\n",
    "closenessMethods = '''\n",
    "    coarseRelativeCloseness\n",
    "    refinedRelativeCloseness\n",
    "'''.strip().split()"
   ]
  },
  {
   "cell_type": "code",
   "execution_count": 95,
   "metadata": {
    "ExecuteTime": {
     "end_time": "2018-02-28T12:35:52.059488Z",
     "start_time": "2018-02-28T12:35:26.282026Z"
    }
   },
   "outputs": [
    {
     "name": "stdout",
     "output_type": "stream",
     "text": [
      "126210 co-occurrences in tablets with measure coarseRelativeCloseness\n",
      "Written 126210 pairs to per-tablet-coarseRelativeCloseness.tsv in _temp\n",
      "Written 126210 pairs to per-tablet-coarseRelativeCloseness.tsv in report\n",
      "    1(N01) <=~  795.76 ~=> 2(N01)    \n",
      "    1(N01) <=~  643.09 ~=> 1(N14)    \n",
      "    1(N01) <=~  574.42 ~=> EN~a      \n",
      "    1(N14) <=~  573.26 ~=> 2(N01)    \n",
      "    1(N01) <=~  509.83 ~=> 3(N01)    \n",
      "    2(N01) <=~  440.30 ~=> 3(N01)    \n",
      "    1(N01) <=~  434.06 ~=> N         \n",
      "    1(N14) <=~  415.30 ~=> 3(N01)    \n",
      "    1(N01) <=~  403.51 ~=> AN        \n",
      "    1(N01) <=~  388.05 ~=> GAL~a     \n",
      "...and 126200 more\n",
      "126210 co-occurrences in tablets with measure refinedRelativeCloseness\n",
      "Written 126210 pairs to per-tablet-refinedRelativeCloseness.tsv in _temp\n",
      "Written 126210 pairs to per-tablet-refinedRelativeCloseness.tsv in report\n",
      "    1(N01) <=~  802.53 ~=> 2(N01)    \n",
      "    1(N01) <=~  648.94 ~=> 1(N14)    \n",
      "    1(N01) <=~  579.69 ~=> EN~a      \n",
      "    1(N14) <=~  579.05 ~=> 2(N01)    \n",
      "    1(N01) <=~  514.39 ~=> 3(N01)    \n",
      "    2(N01) <=~  444.39 ~=> 3(N01)    \n",
      "    1(N01) <=~  437.91 ~=> N         \n",
      "    1(N14) <=~  418.33 ~=> 3(N01)    \n",
      "    1(N01) <=~  405.75 ~=> AN        \n",
      "    1(N01) <=~  389.53 ~=> GAL~a     \n",
      "...and 126200 more\n",
      "113732 co-occurrences in faces with measure coarseRelativeCloseness\n",
      "Written 113732 pairs to per-face-coarseRelativeCloseness.tsv in _temp\n",
      "Written 113732 pairs to per-face-coarseRelativeCloseness.tsv in report\n",
      "    1(N01) <=~  768.15 ~=> 2(N01)    \n",
      "    1(N01) <=~  546.86 ~=> 1(N14)    \n",
      "    1(N01) <=~  542.91 ~=> EN~a      \n",
      "    1(N14) <=~  499.50 ~=> 2(N01)    \n",
      "    1(N01) <=~  467.87 ~=> 3(N01)    \n",
      "    2(N01) <=~  400.27 ~=> 3(N01)    \n",
      "    1(N01) <=~  383.07 ~=> AN        \n",
      "    1(N01) <=~  371.56 ~=> GAL~a     \n",
      "    1(N14) <=~  368.83 ~=> 3(N01)    \n",
      "    1(N14) <=~  357.35 ~=> 5(N01)    \n",
      "...and 113722 more\n",
      "113732 co-occurrences in faces with measure refinedRelativeCloseness\n",
      "Written 113732 pairs to per-face-refinedRelativeCloseness.tsv in _temp\n",
      "Written 113732 pairs to per-face-refinedRelativeCloseness.tsv in report\n",
      "    1(N01) <=~  779.78 ~=> 2(N01)    \n",
      "    1(N01) <=~  556.04 ~=> 1(N14)    \n",
      "    1(N01) <=~  551.40 ~=> EN~a      \n",
      "    1(N14) <=~  509.54 ~=> 2(N01)    \n",
      "    1(N01) <=~  475.08 ~=> 3(N01)    \n",
      "    2(N01) <=~  407.05 ~=> 3(N01)    \n",
      "    1(N01) <=~  386.65 ~=> AN        \n",
      "    1(N01) <=~  374.83 ~=> GAL~a     \n",
      "    1(N14) <=~  374.34 ~=> 3(N01)    \n",
      "    1(N14) <=~  362.83 ~=> 5(N01)    \n",
      "...and 113722 more\n",
      "85741 co-occurrences in columns with measure coarseRelativeCloseness\n",
      "Written 85741 pairs to per-column-coarseRelativeCloseness.tsv in _temp\n",
      "Written 85741 pairs to per-column-coarseRelativeCloseness.tsv in report\n",
      "    1(N01) <=~  709.42 ~=> 2(N01)    \n",
      "    1(N01) <=~  499.66 ~=> EN~a      \n",
      "    1(N01) <=~  436.55 ~=> 1(N14)    \n",
      "    1(N01) <=~  429.26 ~=> GAL~a     \n",
      "    1(N14) <=~  418.66 ~=> 2(N01)    \n",
      "    1(N01) <=~  384.84 ~=> AN        \n",
      "    1(N01) <=~  378.14 ~=> 3(N01)    \n",
      "    2(N01) <=~  321.39 ~=> 3(N01)    \n",
      "    1(N14) <=~  316.06 ~=> 3(N01)    \n",
      "    1(N14) <=~  313.14 ~=> 5(N01)    \n",
      "...and 85731 more\n",
      "85741 co-occurrences in columns with measure refinedRelativeCloseness\n",
      "Written 85741 pairs to per-column-refinedRelativeCloseness.tsv in _temp\n",
      "Written 85741 pairs to per-column-refinedRelativeCloseness.tsv in report\n",
      "    1(N01) <=~  733.61 ~=> 2(N01)    \n",
      "    1(N01) <=~  512.11 ~=> EN~a      \n",
      "    1(N01) <=~  450.10 ~=> 1(N14)    \n",
      "    1(N01) <=~  434.80 ~=> GAL~a     \n",
      "    1(N14) <=~  433.55 ~=> 2(N01)    \n",
      "    1(N01) <=~  391.54 ~=> 3(N01)    \n",
      "    1(N01) <=~  391.23 ~=> AN        \n",
      "    2(N01) <=~  332.40 ~=> 3(N01)    \n",
      "    1(N14) <=~  325.61 ~=> 3(N01)    \n",
      "    1(N14) <=~  322.82 ~=> 5(N01)    \n",
      "...and 85731 more\n",
      "36755 co-occurrences in lines with measure coarseRelativeCloseness\n",
      "Written 36755 pairs to per-line-coarseRelativeCloseness.tsv in _temp\n",
      "Written 36755 pairs to per-line-coarseRelativeCloseness.tsv in report\n",
      "    1(N01) <=~  388.44 ~=> GAL~a     \n",
      "    1(N01) <=~  303.22 ~=> EN~a      \n",
      "    1(N01) <=~  198.53 ~=> AN        \n",
      "    1(N01) <=~  197.67 ~=> DUG~b     \n",
      "    1(N01) <=~  182.45 ~=> 1(N14)    \n",
      "    1(N14) <=~  182.27 ~=> 2(N01)    \n",
      "    1(N01) <=~  155.46 ~=> U4        \n",
      "    1(N14) <=~  153.46 ~=> 5(N01)    \n",
      "    1(N14) <=~  142.85 ~=> 3(N01)    \n",
      "    1(N01) <=~  132.31 ~=> NAM2      \n",
      "...and 36745 more\n",
      "36755 co-occurrences in lines with measure refinedRelativeCloseness\n",
      "Written 36755 pairs to per-line-refinedRelativeCloseness.tsv in _temp\n",
      "Written 36755 pairs to per-line-refinedRelativeCloseness.tsv in report\n",
      "    1(N01) <=~  505.41 ~=> GAL~a     \n",
      "    1(N01) <=~  370.28 ~=> EN~a      \n",
      "    1(N01) <=~  249.75 ~=> AN        \n",
      "    1(N01) <=~  212.11 ~=> DUG~b     \n",
      "    1(N14) <=~  210.02 ~=> 2(N01)    \n",
      "    1(N01) <=~  208.91 ~=> 1(N14)    \n",
      "    1(N01) <=~  196.15 ~=> NAM2      \n",
      "    1(N01) <=~  186.56 ~=> U4        \n",
      "    1(N01) <=~  184.42 ~=> GISZ      \n",
      "    1(N57) <=~  172.68 ~=> U4        \n",
      "...and 36745 more\n"
     ]
    }
   ],
   "source": [
    "for obj in collocationObjects:\n",
    "    for method in closenessMethods:\n",
    "        collocationPairs.setdefault(obj, {})[method] = getPairs(obj, method)"
   ]
  },
  {
   "cell_type": "markdown",
   "metadata": {},
   "source": [
    "### Simple versus refined\n",
    "\n",
    "Does the refined measure give other results?"
   ]
  },
  {
   "cell_type": "code",
   "execution_count": 108,
   "metadata": {
    "ExecuteTime": {
     "end_time": "2018-02-28T12:42:49.189602Z",
     "start_time": "2018-02-28T12:42:49.097881Z"
    }
   },
   "outputs": [],
   "source": [
    "def comparePairs(obj, method1, method2):\n",
    "    pairs1 = sortPairsBare(collocationPairs[obj][method1])\n",
    "    pairs2 = sortPairsBare(collocationPairs[obj][method2])\n",
    "    if len(pairs1) != len(pairs2):\n",
    "        print(f'{obj:<6}: !!! {method1:>24} => {len(pairs1):>6} =/= {len(pairs2):>6} <= {method2:<24}')\n",
    "    else:\n",
    "        print(f'{obj:<6}:     {method1:>24} => {len(pairs1):>6} === {len(pairs2):>6} <= {method2:<24}')\n",
    "    firstDiff = -1\n",
    "    for (i, (pair1, pair2)) in enumerate(zip(pairs1, pairs2)):\n",
    "        if pair1 != pair2:\n",
    "            firstDiff = i\n",
    "            break\n",
    "    if firstDiff < 0:\n",
    "        if len(pairs1) == len(pairs2):\n",
    "            print('\\tIDENTICAL')\n",
    "        else:\n",
    "            methodSmall = method1 if len(pairs1) < len(pairs2) else method2\n",
    "            methodBig = method2 if len(pairs1) < len(pairs2) else method1\n",
    "            print(f'\\tPREFIX: pairs by {methodSmall} are a prefix of pairs by {methodBig}')\n",
    "    else:\n",
    "        print(f'\\tFIRST DIFFERENCE at position {firstDiff}')\n",
    "    \n",
    "    topPairs1 = pairs1[0:RESULTPAIRS]\n",
    "    topPairs2 = pairs2[0:RESULTPAIRS]\n",
    "    setTop1 = set(topPairs1)\n",
    "    setTop2 = set(topPairs2)\n",
    "\n",
    "    if setTop1 == setTop2:\n",
    "        print(f'\\tEQUAL as set of the top-{RESULTPAIRS} pairs')\n",
    "    else:\n",
    "        common = setTop1 & setTop2\n",
    "        print(f'\\tSHARE {len(common)} pairs in their top-{RESULTPAIRS}')\n",
    "    print('')"
   ]
  },
  {
   "cell_type": "code",
   "execution_count": 109,
   "metadata": {
    "ExecuteTime": {
     "end_time": "2018-02-28T12:42:53.965273Z",
     "start_time": "2018-02-28T12:42:52.255935Z"
    }
   },
   "outputs": [
    {
     "name": "stdout",
     "output_type": "stream",
     "text": [
      "tablet:      coarseRelativeCloseness => 126210 === 126210 <= refinedRelativeCloseness\n",
      "\tFIRST DIFFERENCE at position 27\n",
      "\tSHARE 999 pairs in their top-1000\n",
      "\n",
      "face  :      coarseRelativeCloseness => 113732 === 113732 <= refinedRelativeCloseness\n",
      "\tFIRST DIFFERENCE at position 13\n",
      "\tSHARE 994 pairs in their top-1000\n",
      "\n",
      "column:      coarseRelativeCloseness =>  85741 ===  85741 <= refinedRelativeCloseness\n",
      "\tFIRST DIFFERENCE at position 5\n",
      "\tSHARE 990 pairs in their top-1000\n",
      "\n",
      "line  :      coarseRelativeCloseness =>  36755 ===  36755 <= refinedRelativeCloseness\n",
      "\tFIRST DIFFERENCE at position 4\n",
      "\tSHARE 935 pairs in their top-1000\n",
      "\n"
     ]
    }
   ],
   "source": [
    "for obj in collocationObjects:\n",
    "    comparePairs(obj, *closenessMethods)"
   ]
  },
  {
   "cell_type": "markdown",
   "metadata": {},
   "source": [
    "**Observation**\n",
    "\n",
    "The more fine-grained your object of collocation is, the bigger the differences between\n",
    "the refined and the coarse closeness measures.\n",
    "\n",
    "But all in all, the difference remains pretty small."
   ]
  },
  {
   "cell_type": "markdown",
   "metadata": {
    "variables": {
     "RESULTPAIRS": "1000"
    }
   },
   "source": [
    "## Results\n",
    "\n",
    "The top {{RESULTPAIRS}} can be viewed online."
   ]
  },
  {
   "cell_type": "code",
   "execution_count": 115,
   "metadata": {
    "ExecuteTime": {
     "end_time": "2018-02-28T12:59:07.698216Z",
     "start_time": "2018-02-28T12:59:07.679265Z"
    }
   },
   "outputs": [],
   "source": [
    "resultLinks = []\n",
    "for obj in collocationObjects:\n",
    "    for method in closenessMethods:\n",
    "        resultLinks.append(f'[{obj}-{method}]({RESULT_GH}/{obj}-{method}.tsv), ')\n",
    "\n",
    "RESULT_LINKS = ''.join(resultLinks)"
   ]
  },
  {
   "cell_type": "markdown",
   "metadata": {
    "variables": {
     "RESULT_LINKS": "<a href=\"https://github.com/Dans-labs/Nino-cunei/blob/master/reports/collocation/tablet-coarseRelativeCloseness.tsv\">tablet-coarseRelativeCloseness</a>, <a href=\"https://github.com/Dans-labs/Nino-cunei/blob/master/reports/collocation/tablet-refinedRelativeCloseness.tsv\">tablet-refinedRelativeCloseness</a>, <a href=\"https://github.com/Dans-labs/Nino-cunei/blob/master/reports/collocation/face-coarseRelativeCloseness.tsv\">face-coarseRelativeCloseness</a>, <a href=\"https://github.com/Dans-labs/Nino-cunei/blob/master/reports/collocation/face-refinedRelativeCloseness.tsv\">face-refinedRelativeCloseness</a>, <a href=\"https://github.com/Dans-labs/Nino-cunei/blob/master/reports/collocation/column-coarseRelativeCloseness.tsv\">column-coarseRelativeCloseness</a>, <a href=\"https://github.com/Dans-labs/Nino-cunei/blob/master/reports/collocation/column-refinedRelativeCloseness.tsv\">column-refinedRelativeCloseness</a>, <a href=\"https://github.com/Dans-labs/Nino-cunei/blob/master/reports/collocation/line-coarseRelativeCloseness.tsv\">line-coarseRelativeCloseness</a>, <a href=\"https://github.com/Dans-labs/Nino-cunei/blob/master/reports/collocation/line-refinedRelativeCloseness.tsv\">line-refinedRelativeCloseness</a>, "
    }
   },
   "source": [
    "{{RESULT_LINKS}}"
   ]
  },
  {
   "cell_type": "code",
   "execution_count": null,
   "metadata": {},
   "outputs": [],
   "source": []
  }
 ],
 "metadata": {
  "kernelspec": {
   "display_name": "Python 3",
   "language": "python",
   "name": "python3"
  },
  "language_info": {
   "codemirror_mode": {
    "name": "ipython",
    "version": 3
   },
   "file_extension": ".py",
   "mimetype": "text/x-python",
   "name": "python",
   "nbconvert_exporter": "python",
   "pygments_lexer": "ipython3",
   "version": "3.6.4"
  },
  "toc": {
   "nav_menu": {},
   "number_sections": true,
   "sideBar": true,
   "skip_h1_title": true,
   "toc_cell": true,
   "toc_position": {},
   "toc_section_display": "block",
   "toc_window_display": true
  }
 },
 "nbformat": 4,
 "nbformat_minor": 2
}
