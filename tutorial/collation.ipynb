{
 "cells": [
  {
   "cell_type": "markdown",
   "metadata": {
    "toc": true
   },
   "source": [
    "<h1>Table of Contents<span class=\"tocSkip\"></span></h1>\n",
    "<div class=\"toc\" style=\"margin-top: 1em;\"><ul class=\"toc-item\"><li><span><a href=\"#Data\" data-toc-modified-id=\"Data-1\"><span class=\"toc-item-num\">1&nbsp;&nbsp;</span>Data</a></span></li><li><span><a href=\"#Reference-docs\" data-toc-modified-id=\"Reference-docs-2\"><span class=\"toc-item-num\">2&nbsp;&nbsp;</span>Reference docs</a></span></li><li><span><a href=\"#Start-up\" data-toc-modified-id=\"Start-up-3\"><span class=\"toc-item-num\">3&nbsp;&nbsp;</span>Start up</a></span></li><li><span><a href=\"#Sign-representations\" data-toc-modified-id=\"Sign-representations-4\"><span class=\"toc-item-num\">4&nbsp;&nbsp;</span>Sign representations</a></span></li><li><span><a href=\"#Pairs-per-object\" data-toc-modified-id=\"Pairs-per-object-5\"><span class=\"toc-item-num\">5&nbsp;&nbsp;</span>Pairs per object</a></span><ul class=\"toc-item\"><li><span><a href=\"#Simple-closeness\" data-toc-modified-id=\"Simple-closeness-5.1\"><span class=\"toc-item-num\">5.1&nbsp;&nbsp;</span>Simple closeness</a></span></li><li><span><a href=\"#Refined-closeness\" data-toc-modified-id=\"Refined-closeness-5.2\"><span class=\"toc-item-num\">5.2&nbsp;&nbsp;</span>Refined closeness</a></span></li></ul></li></ul></div>"
   ]
  },
  {
   "cell_type": "markdown",
   "metadata": {
    "ExecuteTime": {
     "end_time": "2018-02-27T08:24:45.190815Z",
     "start_time": "2018-02-27T08:24:45.174943Z"
    }
   },
   "source": [
    "<img align=\"left\" src=\"images/P005381-obverse-photo.png\" width=\"15%\"/>\n",
    "<img align=\"left\" src=\"images/P005381-obverse-lineart-annot.png\" width=\"15%\"/>\n",
    "<img align=\"right\" src=\"images/P005381-reverse-photo.png\" width=\"15%\"/>\n",
    "<img align=\"right\" src=\"images/P005381-reverse-lineart.png\" width=\"15%\"/>\n",
    "\n",
    "<p>\n",
    "```\n",
    "&P005381 = MSVO 3, 70\n",
    "```\n",
    "</p>\n",
    "<p>\n",
    "<img src=\"images/P005381-obverse-atf.png\" width=\"40%\"/>\n",
    "<img src=\"images/P005381-reverse-atf.png\" width=\"40%\"/>\n",
    "</p>"
   ]
  },
  {
   "cell_type": "markdown",
   "metadata": {},
   "source": [
    "<img align=\"right\" src=\"images/tf-small.png\"/>\n",
    "\n",
    "\n",
    "# Collation\n",
    "\n",
    "We want to get insights in the co-occurrences of signs on tablets in the \n",
    "[Uruk III/IV](http://cdli.ox.ac.uk/wiki/doku.php?id=proto-cuneiform)\n",
    "corpus (4000-3100 BC).\n",
    "These tablets have a poor archival context, since they come from rubbish pits, and may have been transported\n",
    "from various different places than where they have been excavated.\n",
    "\n",
    "In order to get more information about their chronology and context, we need to study the evolution of\n",
    "the signs on the tablets. Collation is one of the pre-requisites to do so.\n",
    "\n",
    "The tutorial ended with a first exercise in collation, where we collated pairs of signs\n",
    "that co-occur on tablets and used an unsophisticated distance measure.\n",
    "\n",
    "We repeat that exercise, and proceed to refine the collation method step by step.\n",
    "\n",
    "## Data\n",
    "\n",
    "We have downloaded the transcriptions from the \n",
    "**Cuneiform Digital Library Initiative**\n",
    "[CDLI](https://cdli.ucla.edu),\n",
    "and converted them to\n",
    "[Text-Fabric](https://github.com/Dans-labs/text-fabric).\n",
    "Read more about the details of the conversion in the\n",
    "[checks](checks.ipynb) notebook.\n",
    "For an introduction to Text-Fabric, follow the\n",
    "[start](start.ipynb) tutorial.\n",
    "\n",
    "## Reference docs\n",
    "The functions used by this notebook are documented in the following places:\n",
    "\n",
    "[Feature docs](https://github.com/Dans-labs/Nino-cunei/blob/master/docs/transcription.md)\n",
    "\n",
    "[Cunei API](https://github.com/Dans-labs/Nino-cunei/blob/master/docs/cunei.md)\n",
    "\n",
    "[Utils API](https://github.com/Dans-labs/Nino-cunei/blob/master/docs/utils.md)\n",
    "\n",
    "[Text-Fabric API](https://github.com/Dans-labs/text-fabric)\n",
    "\n",
    "\n",
    "# Authors\n",
    "\n",
    "J. Cale Johnson and Dirk Roorda (see the \n",
    "[README](https://github.com/Dans-labs/Nino-cunei)\n",
    "of this repository)."
   ]
  },
  {
   "cell_type": "markdown",
   "metadata": {},
   "source": [
    "## Start up\n",
    "\n",
    "We import the Python modules we need."
   ]
  },
  {
   "cell_type": "code",
   "execution_count": 1,
   "metadata": {
    "ExecuteTime": {
     "end_time": "2018-02-28T10:44:40.840653Z",
     "start_time": "2018-02-28T10:44:40.814110Z"
    }
   },
   "outputs": [],
   "source": [
    "%load_ext autoreload\n",
    "%autoreload 2"
   ]
  },
  {
   "cell_type": "code",
   "execution_count": 2,
   "metadata": {
    "ExecuteTime": {
     "end_time": "2018-02-28T10:44:42.074875Z",
     "start_time": "2018-02-28T10:44:42.044937Z"
    }
   },
   "outputs": [],
   "source": [
    "import sys, os, collections\n",
    "from tf.fabric import Fabric"
   ]
  },
  {
   "cell_type": "markdown",
   "metadata": {},
   "source": [
    "We set up our working locations on the file system."
   ]
  },
  {
   "cell_type": "code",
   "execution_count": 3,
   "metadata": {
    "ExecuteTime": {
     "end_time": "2018-02-28T10:44:47.044937Z",
     "start_time": "2018-02-28T10:44:47.016521Z"
    }
   },
   "outputs": [],
   "source": [
    "REPO = '~/github/Dans-labs/Nino-cunei'\n",
    "SOURCE = 'uruk'\n",
    "VERSION = '0.1'\n",
    "CORPUS = f'{REPO}/tf/{SOURCE}/{VERSION}'\n",
    "SOURCE_DIR = os.path.expanduser(f'{REPO}/sources/cdli')\n",
    "PROGRAM_DIR = os.path.expanduser(f'{REPO}/programs')\n",
    "TEMP_DIR = os.path.expanduser(f'{REPO}/_temp')\n",
    "RESULT_DIR = f'{TEMP_DIR}/collation'\n",
    "REPORT_DIR = os.path.expanduser(f'{REPO}/reports')"
   ]
  },
  {
   "cell_type": "markdown",
   "metadata": {},
   "source": [
    "We create the temporary and report directories, if they do not exist already."
   ]
  },
  {
   "cell_type": "code",
   "execution_count": 4,
   "metadata": {
    "ExecuteTime": {
     "end_time": "2018-02-28T10:44:50.168745Z",
     "start_time": "2018-02-28T10:44:50.137968Z"
    }
   },
   "outputs": [],
   "source": [
    "sys.path.append(PROGRAM_DIR)\n",
    "from cunei import Cunei\n",
    "from utils import Compare"
   ]
  },
  {
   "cell_type": "code",
   "execution_count": 5,
   "metadata": {
    "ExecuteTime": {
     "end_time": "2018-02-28T10:44:53.063388Z",
     "start_time": "2018-02-28T10:44:53.046819Z"
    }
   },
   "outputs": [],
   "source": [
    "for cdir in (TEMP_DIR, REPORT_DIR, RESULT_DIR):\n",
    "    os.makedirs(cdir, exist_ok=True)"
   ]
  },
  {
   "cell_type": "code",
   "execution_count": 6,
   "metadata": {
    "ExecuteTime": {
     "end_time": "2018-02-28T10:44:54.364461Z",
     "start_time": "2018-02-28T10:44:54.335773Z"
    }
   },
   "outputs": [
    {
     "name": "stdout",
     "output_type": "stream",
     "text": [
      "This is Text-Fabric 3.2.2\n",
      "Api reference : https://github.com/Dans-labs/text-fabric/wiki/Api\n",
      "Tutorial      : https://github.com/Dans-labs/text-fabric/blob/master/docs/tutorial.ipynb\n",
      "Example data  : https://github.com/Dans-labs/text-fabric-data\n",
      "\n",
      "32 features found and 0 ignored\n"
     ]
    }
   ],
   "source": [
    "TF = Fabric(locations=[CORPUS], modules=[''], silent=False )"
   ]
  },
  {
   "cell_type": "code",
   "execution_count": 7,
   "metadata": {
    "ExecuteTime": {
     "end_time": "2018-02-28T10:45:12.811999Z",
     "start_time": "2018-02-28T10:45:11.640889Z"
    }
   },
   "outputs": [
    {
     "name": "stdout",
     "output_type": "stream",
     "text": [
      "  0.00s loading features ...\n",
      "   |     0.00s B catalogId            from /Users/dirk/github/Dans-labs/Nino-cunei/tf/uruk/0.1\n",
      "   |     0.02s B fullNumber           from /Users/dirk/github/Dans-labs/Nino-cunei/tf/uruk/0.1\n",
      "   |     0.02s B number               from /Users/dirk/github/Dans-labs/Nino-cunei/tf/uruk/0.1\n",
      "   |     0.05s B grapheme             from /Users/dirk/github/Dans-labs/Nino-cunei/tf/uruk/0.1\n",
      "   |     0.05s B srcLn                from /Users/dirk/github/Dans-labs/Nino-cunei/tf/uruk/0.1\n",
      "   |     0.02s B srcLnNum             from /Users/dirk/github/Dans-labs/Nino-cunei/tf/uruk/0.1\n",
      "   |     0.00s B prime                from /Users/dirk/github/Dans-labs/Nino-cunei/tf/uruk/0.1\n",
      "   |     0.01s B repeat               from /Users/dirk/github/Dans-labs/Nino-cunei/tf/uruk/0.1\n",
      "   |     0.01s B variant              from /Users/dirk/github/Dans-labs/Nino-cunei/tf/uruk/0.1\n",
      "   |     0.00s B variantOuter         from /Users/dirk/github/Dans-labs/Nino-cunei/tf/uruk/0.1\n",
      "   |     0.00s B modifier             from /Users/dirk/github/Dans-labs/Nino-cunei/tf/uruk/0.1\n",
      "   |     0.00s B modifierInner        from /Users/dirk/github/Dans-labs/Nino-cunei/tf/uruk/0.1\n",
      "   |     0.00s B modifierFirst        from /Users/dirk/github/Dans-labs/Nino-cunei/tf/uruk/0.1\n",
      "   |     0.01s B damage               from /Users/dirk/github/Dans-labs/Nino-cunei/tf/uruk/0.1\n",
      "   |     0.00s B uncertain            from /Users/dirk/github/Dans-labs/Nino-cunei/tf/uruk/0.1\n",
      "   |     0.00s B remarkable           from /Users/dirk/github/Dans-labs/Nino-cunei/tf/uruk/0.1\n",
      "   |     0.00s B written              from /Users/dirk/github/Dans-labs/Nino-cunei/tf/uruk/0.1\n",
      "   |     0.01s B period               from /Users/dirk/github/Dans-labs/Nino-cunei/tf/uruk/0.1\n",
      "   |     0.01s B name                 from /Users/dirk/github/Dans-labs/Nino-cunei/tf/uruk/0.1\n",
      "   |     0.03s B type                 from /Users/dirk/github/Dans-labs/Nino-cunei/tf/uruk/0.1\n",
      "   |     0.00s B identifier           from /Users/dirk/github/Dans-labs/Nino-cunei/tf/uruk/0.1\n",
      "   |     0.00s B origNumber           from /Users/dirk/github/Dans-labs/Nino-cunei/tf/uruk/0.1\n",
      "   |     0.00s B badNumbering         from /Users/dirk/github/Dans-labs/Nino-cunei/tf/uruk/0.1\n",
      "   |     0.00s B crossref             from /Users/dirk/github/Dans-labs/Nino-cunei/tf/uruk/0.1\n",
      "   |     0.01s B text                 from /Users/dirk/github/Dans-labs/Nino-cunei/tf/uruk/0.1\n",
      "   |     0.01s B op                   from /Users/dirk/github/Dans-labs/Nino-cunei/tf/uruk/0.1\n",
      "   |     0.10s B sub                  from /Users/dirk/github/Dans-labs/Nino-cunei/tf/uruk/0.1\n",
      "   |     0.01s B comments             from /Users/dirk/github/Dans-labs/Nino-cunei/tf/uruk/0.1\n",
      "   |     0.00s Feature overview: 27 for nodes; 4 for edges; 1 configs; 7 computed\n",
      "  1.15s All features loaded/computed - for details use loadLog()\n"
     ]
    }
   ],
   "source": [
    "api = TF.load('''\n",
    "    grapheme prime repeat\n",
    "    variant variantOuter\n",
    "    modifier modifierInner modifierFirst\n",
    "    damage uncertain remarkable written\n",
    "    period name type identifier catalogId\n",
    "    number fullNumber origNumber badNumbering\n",
    "    crossref text\n",
    "    srcLn srcLnNum\n",
    "    op sub comments''')\n",
    "api.makeAvailableIn(globals())\n",
    "CUNEI = Cunei(api)\n",
    "COMP = Compare(api, SOURCE_DIR, TEMP_DIR)"
   ]
  },
  {
   "cell_type": "markdown",
   "metadata": {},
   "source": [
    "We pick up where we left off in the [start](start.ipynb) tutorial: computing co-occurrences\n",
    "by tablet. But we make the move to put our recipes into functions, that we will re-use and refine later on."
   ]
  },
  {
   "cell_type": "markdown",
   "metadata": {},
   "source": [
    "## Sign representations\n",
    "\n",
    "We pre-compute the sign representations for each node.\n",
    "We also make an index of occurrences for each sign representation."
   ]
  },
  {
   "cell_type": "code",
   "execution_count": 8,
   "metadata": {
    "ExecuteTime": {
     "end_time": "2018-02-28T10:45:23.312692Z",
     "start_time": "2018-02-28T10:45:22.700790Z"
    }
   },
   "outputs": [
    {
     "name": "stdout",
     "output_type": "stream",
     "text": [
      "computed 1526 distinct sign representations from 93253 nodes\n"
     ]
    }
   ],
   "source": [
    "NA = {'', '…', 'X'}\n",
    "\n",
    "def getSigns():\n",
    "    signFromNode = dict()\n",
    "    nodeFromSign = collections.defaultdict(list)\n",
    "\n",
    "    for tablet in F.otype.s('tablet'):\n",
    "        for s in L.d(tablet, otype='sign'):\n",
    "            if F.grapheme.v(s) in NA:\n",
    "                continue\n",
    "            signRep = CUNEI.atfFromSign(s)\n",
    "            signFromNode[s] = signRep\n",
    "            nodeFromSign[signRep].append(s)\n",
    "    print(f'computed {len(nodeFromSign)} distinct sign representations from {len(signFromNode)} nodes')\n",
    "    return (signFromNode, nodeFromSign)\n",
    "\n",
    "(signFromNode, nodeFromSign) = getSigns()"
   ]
  },
  {
   "cell_type": "markdown",
   "metadata": {},
   "source": [
    "## Pairs per object\n",
    "\n",
    "In the [start](start.ipynb) tutorial we collected pairs per tablet, and we calculated\n",
    "a coarse distance between pairs, based on the distance of signs in the linear sequence\n",
    "by which signs have been transcribed.\n",
    "\n",
    "We are going to write that process as a function, where we abstract from the level at\n",
    "which the pairs must co-occur. We also abstract from how we measure the distance.\n",
    "\n",
    "We write a function `getPairs(perType, measureName)` that computes co-occurent pairs on objects\n",
    "of type `perType`. Here `measureName` is the name of a function that, given two sign nodes, computes\n",
    "a measure of closeness between those nodes.\n",
    "\n",
    "We also show the top pairs, and save all pairs to disk in a tsv file."
   ]
  },
  {
   "cell_type": "code",
   "execution_count": 14,
   "metadata": {
    "ExecuteTime": {
     "end_time": "2018-02-28T10:56:26.001783Z",
     "start_time": "2018-02-28T10:56:25.983780Z"
    }
   },
   "outputs": [],
   "source": [
    "def simpleRelativeCloseness(i, j, signLength=None, quadInfo=None):\n",
    "    return (signLength - abs(j - i)) / signLength\n",
    "\n",
    "def refinedRelativeCloseness(i, j, signLength=None, quadInfo=None):\n",
    "    (quadLength, outerQuadFromSign) = quadInfo\n",
    "    return (quadLength - abs(outerQuadFromSign[i] - outerQuadFromSign[j])) / quadLength"
   ]
  },
  {
   "cell_type": "code",
   "execution_count": 29,
   "metadata": {
    "ExecuteTime": {
     "end_time": "2018-02-28T11:29:03.256342Z",
     "start_time": "2018-02-28T11:29:03.046848Z"
    }
   },
   "outputs": [],
   "source": [
    "SHOWPAIRS = 10\n",
    "\n",
    "def getPairs(perType, measureName):\n",
    "    pairs = collections.Counter()\n",
    "    measure = globals()[measureName]\n",
    "\n",
    "    for obj in F.otype.s(perType):\n",
    "        signs = L.d(obj, otype='sign')\n",
    "        signLength = signs[-1] - signs[0]\n",
    "        \n",
    "        outerQuads = CUNEI.getOuterQuads(obj)\n",
    "        quadLength = len(outerQuads)\n",
    "        outerQuadFromSign = {}\n",
    "        for (i, outerQuad) in enumerate(outerQuads):\n",
    "            if F.otype.v(outerQuad) == 'sign':\n",
    "                outerQuadFromSign[outerQuad] = i\n",
    "            else:\n",
    "                for s in L.d(outerQuad, otype='sign'):\n",
    "                    outerQuadFromSign[s] = i\n",
    "        if not(set(signs) <= set(outerQuadFromSign)):\n",
    "            print('\\n'.join(COMP.getSource(obj)))\n",
    "            print(outerQuadFromSign)\n",
    "        quadInfo = (quadLength, outerQuadFromSign)\n",
    "\n",
    "        thesePairs = {}\n",
    "        for i in range(len(signs)):\n",
    "            if i not in signFromNode:\n",
    "                continue\n",
    "            signI = signFromNode[i]\n",
    "            for j in range(i + 1, len(signs)):\n",
    "                if j not in signFromNode:\n",
    "                    continue\n",
    "                signJ = signFromNode[j]\n",
    "                if signJ == signI:\n",
    "                    continue\n",
    "                pair = (signI, signJ) if signI < signJ else (signJ, signI)\n",
    "                closeness = measure(i, j, signLength=signLength, quadInfo=quadInfo)\n",
    "                oldCloseness = thesePairs.get(pair, None)\n",
    "                if oldCloseness is None or oldCloseness < closeness:\n",
    "                    thesePairs[pair] = closeness\n",
    "        for (pair, closeness) in thesePairs.items():\n",
    "            pairs[pair] += closeness\n",
    "    showPairs(pairs, perType, measureName, limit=SHOWPAIRS)\n",
    "    return pairs\n",
    "\n",
    "def showPairs(pairs, perType, measureName, limit=None):\n",
    "    print(f'{len(pairs)} co-occurrences in {perType}s with measure {measureName}')\n",
    "    sortedPairs = sorted(\n",
    "        pairs.items(), \n",
    "        key=lambda x: (-x[1], x[0]),\n",
    "    )\n",
    "    pairFile = f'per-{perType}-{measureName}.tsv'\n",
    "    pairPath = f'{RESULT_DIR}/{pairFile}'\n",
    "    with open(pairPath, 'w') as fh:\n",
    "        fh.write('signI\\tsignJ\\t{measureName}\\n')\n",
    "        for ((signI, signJ), closeness) in sortedPairs:\n",
    "            fh.write(f'{signI}\\t{signJ}\\t{closeness}\\n')\n",
    "    print(f'Written {len(pairs)} pairs to {pairFile}')\n",
    "    \n",
    "    showPairs = sortedPairs if limit is None or len(sortedPairs) < limit else sortedPairs[0:limit] \n",
    "    for ((signI, signJ), closeness) in showPairs:\n",
    "        print(f'{signI:>10} <=~ {closeness:>7.2f} ~=> {signJ:<10}')\n",
    "    if limit < len(sortedPairs):\n",
    "        print(f'...and {len(sortedPairs) - limit} more')"
   ]
  },
  {
   "cell_type": "markdown",
   "metadata": {},
   "source": [
    "### Simple closeness\n",
    "\n",
    "Let's do business with this function, and get our results back for tablets and a closeness\n",
    "function based on the size of the tablet."
   ]
  },
  {
   "cell_type": "code",
   "execution_count": 16,
   "metadata": {
    "ExecuteTime": {
     "end_time": "2018-02-28T10:56:32.851316Z",
     "start_time": "2018-02-28T10:56:31.039312Z"
    }
   },
   "outputs": [
    {
     "name": "stdout",
     "output_type": "stream",
     "text": [
      "6903 co-occurrences in tablets with measure simpleRelativeCloseness\n",
      "Written 6903 pairs to per-tablet-simpleRelativeCloseness.tsv\n",
      "    3(N14) <=~ 3946.86 ~=> SANGA~a   \n",
      "    1(N14) <=~ 1691.75 ~=> 3(N14)    \n",
      "    1(N14) <=~ 1658.29 ~=> SUHUR     \n",
      "    3(N14) <=~ 1574.87 ~=> SUHUR     \n",
      "    1(N01) <=~ 1371.65 ~=> DUG~b     \n",
      "    1(N01) <=~ 1368.98 ~=> SUHUR     \n",
      "    1(N01) <=~ 1336.39 ~=> 1(N14)    \n",
      "    1(N57) <=~ 1309.85 ~=> DUG~b     \n",
      "    1(N01) <=~ 1281.73 ~=> 1(N57)    \n",
      "     DUG~b <=~ 1280.59 ~=> SUHUR     \n",
      "...and 6893 more\n"
     ]
    }
   ],
   "source": [
    "pairsTablet = getPairs('tablet', 'simpleRelativeCloseness')"
   ]
  },
  {
   "cell_type": "markdown",
   "metadata": {},
   "source": [
    "And now the beauty: we can do the same for co-occurrences on faces, columns, lines."
   ]
  },
  {
   "cell_type": "code",
   "execution_count": 17,
   "metadata": {
    "ExecuteTime": {
     "end_time": "2018-02-28T10:56:44.043784Z",
     "start_time": "2018-02-28T10:56:42.609382Z"
    }
   },
   "outputs": [
    {
     "name": "stdout",
     "output_type": "stream",
     "text": [
      "6903 co-occurrences in faces with measure simpleRelativeCloseness\n",
      "Written 6903 pairs to per-face-simpleRelativeCloseness.tsv\n",
      "    3(N14) <=~ 3859.17 ~=> SANGA~a   \n",
      "    1(N14) <=~ 1360.27 ~=> 3(N14)    \n",
      "    1(N14) <=~ 1319.55 ~=> SUHUR     \n",
      "    3(N14) <=~ 1250.66 ~=> SUHUR     \n",
      "    1(N01) <=~ 1065.79 ~=> SUHUR     \n",
      "    1(N01) <=~ 1060.74 ~=> DUG~b     \n",
      "    1(N01) <=~ 1039.43 ~=> 1(N14)    \n",
      "    1(N57) <=~ 1002.81 ~=> DUG~b     \n",
      "     DUG~b <=~  987.96 ~=> SUHUR     \n",
      "    1(N01) <=~  986.59 ~=> 3(N14)    \n",
      "...and 6893 more\n"
     ]
    }
   ],
   "source": [
    "pairsFace = getPairs('face', 'simpleRelativeCloseness')"
   ]
  },
  {
   "cell_type": "markdown",
   "metadata": {},
   "source": [
    "The same amount of co-occurrences on tablets as on faces. Are they the same pairs?\n",
    "Let's check. We strip the closeness numbers from the pairs, reduce them to sets, and test\n",
    "whether they are equal."
   ]
  },
  {
   "cell_type": "code",
   "execution_count": 18,
   "metadata": {
    "ExecuteTime": {
     "end_time": "2018-02-28T10:56:48.331946Z",
     "start_time": "2018-02-28T10:56:48.302976Z"
    }
   },
   "outputs": [
    {
     "data": {
      "text/plain": [
       "True"
      ]
     },
     "execution_count": 18,
     "metadata": {},
     "output_type": "execute_result"
    }
   ],
   "source": [
    "set(pairsTablet) == set(pairsFace)"
   ]
  },
  {
   "cell_type": "code",
   "execution_count": 19,
   "metadata": {
    "ExecuteTime": {
     "end_time": "2018-02-28T10:56:53.094506Z",
     "start_time": "2018-02-28T10:56:52.089734Z"
    }
   },
   "outputs": [
    {
     "name": "stdout",
     "output_type": "stream",
     "text": [
      "3321 co-occurrences in columns with measure simpleRelativeCloseness\n",
      "Written 3321 pairs to per-column-simpleRelativeCloseness.tsv\n",
      "    3(N14) <=~ 4640.35 ~=> SANGA~a   \n",
      "    1(N14) <=~  734.40 ~=> 3(N14)    \n",
      "    1(N14) <=~  691.12 ~=> SUHUR     \n",
      "    3(N14) <=~  649.35 ~=> SUHUR     \n",
      "    1(N01) <=~  500.79 ~=> SUHUR     \n",
      "    1(N01) <=~  492.95 ~=> DUG~b     \n",
      "    1(N01) <=~  486.40 ~=> 1(N14)    \n",
      "    1(N01) <=~  457.58 ~=> 3(N14)    \n",
      "    1(N57) <=~  455.30 ~=> DUG~b     \n",
      "     DUG~b <=~  453.81 ~=> SUHUR     \n",
      "...and 3311 more\n"
     ]
    }
   ],
   "source": [
    "pairsColumn = getPairs('column', 'simpleRelativeCloseness')"
   ]
  },
  {
   "cell_type": "code",
   "execution_count": 20,
   "metadata": {
    "ExecuteTime": {
     "end_time": "2018-02-28T10:56:58.186209Z",
     "start_time": "2018-02-28T10:56:57.178716Z"
    }
   },
   "outputs": [
    {
     "name": "stdout",
     "output_type": "stream",
     "text": [
      "190 co-occurrences in lines with measure simpleRelativeCloseness\n",
      "Written 190 pairs to per-line-simpleRelativeCloseness.tsv\n",
      "    3(N14) <=~  875.31 ~=> SANGA~a   \n",
      "    1(N14) <=~   34.61 ~=> 3(N14)    \n",
      "    1(N14) <=~   29.10 ~=> SUHUR     \n",
      "    3(N14) <=~   27.29 ~=> SUHUR     \n",
      "    1(N01) <=~   22.36 ~=> DUG~b     \n",
      "    1(N01) <=~   21.09 ~=> SUHUR     \n",
      "    1(N01) <=~   20.45 ~=> 1(N14)    \n",
      "     DUG~b <=~   20.45 ~=> SUHUR     \n",
      "    1(N14) <=~   19.81 ~=> DUG~b     \n",
      "    1(N57) <=~   19.47 ~=> DUG~b     \n",
      "...and 180 more\n"
     ]
    }
   ],
   "source": [
    "pairsLine = getPairs('line', 'simpleRelativeCloseness')"
   ]
  },
  {
   "cell_type": "markdown",
   "metadata": {},
   "source": [
    "### Refined closeness\n",
    "\n",
    "We want to employ a more refined notion of closeness, one that does justice to the\n",
    "geometry of a tablet.\n",
    "\n",
    "Instead of basing closeness on sign distance, we want to base it on quad distance."
   ]
  },
  {
   "cell_type": "code",
   "execution_count": 30,
   "metadata": {
    "ExecuteTime": {
     "end_time": "2018-02-28T11:29:07.116437Z",
     "start_time": "2018-02-28T11:29:07.079234Z"
    }
   },
   "outputs": [
    {
     "ename": "KeyError",
     "evalue": "6",
     "output_type": "error",
     "traceback": [
      "\u001b[0;31m---------------------------------------------------------------------------\u001b[0m",
      "\u001b[0;31mKeyError\u001b[0m                                  Traceback (most recent call last)",
      "\u001b[0;32m<ipython-input-30-2e5e0e641596>\u001b[0m in \u001b[0;36m<module>\u001b[0;34m()\u001b[0m\n\u001b[0;32m----> 1\u001b[0;31m \u001b[0mpairsTablet\u001b[0m \u001b[0;34m=\u001b[0m \u001b[0mgetPairs\u001b[0m\u001b[0;34m(\u001b[0m\u001b[0;34m'tablet'\u001b[0m\u001b[0;34m,\u001b[0m \u001b[0;34m'refinedRelativeCloseness'\u001b[0m\u001b[0;34m)\u001b[0m\u001b[0;34m\u001b[0m\u001b[0m\n\u001b[0m",
      "\u001b[0;32m<ipython-input-29-f94aea6f2d04>\u001b[0m in \u001b[0;36mgetPairs\u001b[0;34m(perType, measureName)\u001b[0m\n\u001b[1;32m     35\u001b[0m                     \u001b[0;32mcontinue\u001b[0m\u001b[0;34m\u001b[0m\u001b[0m\n\u001b[1;32m     36\u001b[0m                 \u001b[0mpair\u001b[0m \u001b[0;34m=\u001b[0m \u001b[0;34m(\u001b[0m\u001b[0msignI\u001b[0m\u001b[0;34m,\u001b[0m \u001b[0msignJ\u001b[0m\u001b[0;34m)\u001b[0m \u001b[0;32mif\u001b[0m \u001b[0msignI\u001b[0m \u001b[0;34m<\u001b[0m \u001b[0msignJ\u001b[0m \u001b[0;32melse\u001b[0m \u001b[0;34m(\u001b[0m\u001b[0msignJ\u001b[0m\u001b[0;34m,\u001b[0m \u001b[0msignI\u001b[0m\u001b[0;34m)\u001b[0m\u001b[0;34m\u001b[0m\u001b[0m\n\u001b[0;32m---> 37\u001b[0;31m                 \u001b[0mcloseness\u001b[0m \u001b[0;34m=\u001b[0m \u001b[0mmeasure\u001b[0m\u001b[0;34m(\u001b[0m\u001b[0mi\u001b[0m\u001b[0;34m,\u001b[0m \u001b[0mj\u001b[0m\u001b[0;34m,\u001b[0m \u001b[0msignLength\u001b[0m\u001b[0;34m=\u001b[0m\u001b[0msignLength\u001b[0m\u001b[0;34m,\u001b[0m \u001b[0mquadInfo\u001b[0m\u001b[0;34m=\u001b[0m\u001b[0mquadInfo\u001b[0m\u001b[0;34m)\u001b[0m\u001b[0;34m\u001b[0m\u001b[0m\n\u001b[0m\u001b[1;32m     38\u001b[0m                 \u001b[0moldCloseness\u001b[0m \u001b[0;34m=\u001b[0m \u001b[0mthesePairs\u001b[0m\u001b[0;34m.\u001b[0m\u001b[0mget\u001b[0m\u001b[0;34m(\u001b[0m\u001b[0mpair\u001b[0m\u001b[0;34m,\u001b[0m \u001b[0;32mNone\u001b[0m\u001b[0;34m)\u001b[0m\u001b[0;34m\u001b[0m\u001b[0m\n\u001b[1;32m     39\u001b[0m                 \u001b[0;32mif\u001b[0m \u001b[0moldCloseness\u001b[0m \u001b[0;32mis\u001b[0m \u001b[0;32mNone\u001b[0m \u001b[0;32mor\u001b[0m \u001b[0moldCloseness\u001b[0m \u001b[0;34m<\u001b[0m \u001b[0mcloseness\u001b[0m\u001b[0;34m:\u001b[0m\u001b[0;34m\u001b[0m\u001b[0m\n",
      "\u001b[0;32m<ipython-input-14-ae81227c2b03>\u001b[0m in \u001b[0;36mrefinedRelativeCloseness\u001b[0;34m(i, j, signLength, quadInfo)\u001b[0m\n\u001b[1;32m      4\u001b[0m \u001b[0;32mdef\u001b[0m \u001b[0mrefinedRelativeCloseness\u001b[0m\u001b[0;34m(\u001b[0m\u001b[0mi\u001b[0m\u001b[0;34m,\u001b[0m \u001b[0mj\u001b[0m\u001b[0;34m,\u001b[0m \u001b[0msignLength\u001b[0m\u001b[0;34m=\u001b[0m\u001b[0;32mNone\u001b[0m\u001b[0;34m,\u001b[0m \u001b[0mquadInfo\u001b[0m\u001b[0;34m=\u001b[0m\u001b[0;32mNone\u001b[0m\u001b[0;34m)\u001b[0m\u001b[0;34m:\u001b[0m\u001b[0;34m\u001b[0m\u001b[0m\n\u001b[1;32m      5\u001b[0m     \u001b[0;34m(\u001b[0m\u001b[0mquadLength\u001b[0m\u001b[0;34m,\u001b[0m \u001b[0mouterQuadFromSign\u001b[0m\u001b[0;34m)\u001b[0m \u001b[0;34m=\u001b[0m \u001b[0mquadInfo\u001b[0m\u001b[0;34m\u001b[0m\u001b[0m\n\u001b[0;32m----> 6\u001b[0;31m     \u001b[0;32mreturn\u001b[0m \u001b[0;34m(\u001b[0m\u001b[0mquadLength\u001b[0m \u001b[0;34m-\u001b[0m \u001b[0mabs\u001b[0m\u001b[0;34m(\u001b[0m\u001b[0mouterQuadFromSign\u001b[0m\u001b[0;34m[\u001b[0m\u001b[0mi\u001b[0m\u001b[0;34m]\u001b[0m \u001b[0;34m-\u001b[0m \u001b[0mouterQuadFromSign\u001b[0m\u001b[0;34m[\u001b[0m\u001b[0mj\u001b[0m\u001b[0;34m]\u001b[0m\u001b[0;34m)\u001b[0m\u001b[0;34m)\u001b[0m \u001b[0;34m/\u001b[0m \u001b[0mquadLength\u001b[0m\u001b[0;34m\u001b[0m\u001b[0m\n\u001b[0m",
      "\u001b[0;31mKeyError\u001b[0m: 6"
     ]
    }
   ],
   "source": [
    "pairsTablet = getPairs('tablet', 'refinedRelativeCloseness')"
   ]
  },
  {
   "cell_type": "code",
   "execution_count": null,
   "metadata": {},
   "outputs": [],
   "source": []
  }
 ],
 "metadata": {
  "kernelspec": {
   "display_name": "Python 3",
   "language": "python",
   "name": "python3"
  },
  "language_info": {
   "codemirror_mode": {
    "name": "ipython",
    "version": 3
   },
   "file_extension": ".py",
   "mimetype": "text/x-python",
   "name": "python",
   "nbconvert_exporter": "python",
   "pygments_lexer": "ipython3",
   "version": "3.6.4"
  },
  "toc": {
   "nav_menu": {},
   "number_sections": true,
   "sideBar": true,
   "skip_h1_title": true,
   "toc_cell": true,
   "toc_position": {},
   "toc_section_display": "block",
   "toc_window_display": true
  }
 },
 "nbformat": 4,
 "nbformat_minor": 2
}
