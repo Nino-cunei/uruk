{
 "cells": [
  {
   "cell_type": "markdown",
   "metadata": {
    "toc": true
   },
   "source": [
    "<h1>Table of Contents<span class=\"tocSkip\"></span></h1>\n",
    "<div class=\"toc\" style=\"margin-top: 1em;\"><ul class=\"toc-item\"><li><span><a href=\"#Introduction\" data-toc-modified-id=\"Introduction-1\"><span class=\"toc-item-num\">1&nbsp;&nbsp;</span>Introduction</a></span><ul class=\"toc-item\"><li><span><a href=\"#Text-Fabric\" data-toc-modified-id=\"Text-Fabric-1.1\"><span class=\"toc-item-num\">1.1&nbsp;&nbsp;</span>Text-Fabric</a></span></li><li><span><a href=\"#Cuneiform-tablets-in-ATF\" data-toc-modified-id=\"Cuneiform-tablets-in-ATF-1.2\"><span class=\"toc-item-num\">1.2&nbsp;&nbsp;</span>Cuneiform tablets in ATF</a></span></li><li><span><a href=\"#Why-Text-Fabric?\" data-toc-modified-id=\"Why-Text-Fabric?-1.3\"><span class=\"toc-item-num\">1.3&nbsp;&nbsp;</span>Why Text-Fabric?</a></span></li></ul></li><li><span><a href=\"#Overview\" data-toc-modified-id=\"Overview-2\"><span class=\"toc-item-num\">2&nbsp;&nbsp;</span>Overview</a></span></li><li><span><a href=\"#More-information\" data-toc-modified-id=\"More-information-3\"><span class=\"toc-item-num\">3&nbsp;&nbsp;</span>More information</a></span></li><li><span><a href=\"#Installing-Text-Fabric\" data-toc-modified-id=\"Installing-Text-Fabric-4\"><span class=\"toc-item-num\">4&nbsp;&nbsp;</span>Installing Text-Fabric</a></span><ul class=\"toc-item\"><li><span><a href=\"#Prerequisites\" data-toc-modified-id=\"Prerequisites-4.1\"><span class=\"toc-item-num\">4.1&nbsp;&nbsp;</span>Prerequisites</a></span></li><li><span><a href=\"#TF-itself\" data-toc-modified-id=\"TF-itself-4.2\"><span class=\"toc-item-num\">4.2&nbsp;&nbsp;</span>TF itself</a></span></li><li><span><a href=\"#Cuneiform-data\" data-toc-modified-id=\"Cuneiform-data-4.3\"><span class=\"toc-item-num\">4.3&nbsp;&nbsp;</span>Cuneiform data</a></span><ul class=\"toc-item\"><li><span><a href=\"#Tip\" data-toc-modified-id=\"Tip-4.3.1\"><span class=\"toc-item-num\">4.3.1&nbsp;&nbsp;</span>Tip</a></span></li></ul></li></ul></li><li><span><a href=\"#Load-Data\" data-toc-modified-id=\"Load-Data-5\"><span class=\"toc-item-num\">5&nbsp;&nbsp;</span>Load Data</a></span></li><li><span><a href=\"#A-tour-around-the-TF-API\" data-toc-modified-id=\"A-tour-around-the-TF-API-6\"><span class=\"toc-item-num\">6&nbsp;&nbsp;</span>A tour around the TF API</a></span><ul class=\"toc-item\"><li><span><a href=\"#Sections:-tablet---column---line\" data-toc-modified-id=\"Sections:-tablet---column---line-6.1\"><span class=\"toc-item-num\">6.1&nbsp;&nbsp;</span>Sections: tablet - column - line</a></span></li><li><span><a href=\"#Navigation\" data-toc-modified-id=\"Navigation-6.2\"><span class=\"toc-item-num\">6.2&nbsp;&nbsp;</span>Navigation</a></span><ul class=\"toc-item\"><li><span><a href=\"#Source-lines\" data-toc-modified-id=\"Source-lines-6.2.1\"><span class=\"toc-item-num\">6.2.1&nbsp;&nbsp;</span>Source lines</a></span></li><li><span><a href=\"#Source-lines:-refined\" data-toc-modified-id=\"Source-lines:-refined-6.2.2\"><span class=\"toc-item-num\">6.2.2&nbsp;&nbsp;</span>Source lines: refined</a></span></li><li><span><a href=\"#Lines-and-cases\" data-toc-modified-id=\"Lines-and-cases-6.2.3\"><span class=\"toc-item-num\">6.2.3&nbsp;&nbsp;</span>Lines and cases</a></span></li><li><span><a href=\"#Line-numbers\" data-toc-modified-id=\"Line-numbers-6.2.4\"><span class=\"toc-item-num\">6.2.4&nbsp;&nbsp;</span>Line numbers</a></span></li></ul></li></ul></li><li><span><a href=\"#Mass-operations\" data-toc-modified-id=\"Mass-operations-7\"><span class=\"toc-item-num\">7&nbsp;&nbsp;</span>Mass operations</a></span><ul class=\"toc-item\"><li><span><a href=\"#Walking-all-nodes\" data-toc-modified-id=\"Walking-all-nodes-7.1\"><span class=\"toc-item-num\">7.1&nbsp;&nbsp;</span>Walking all nodes</a></span></li><li><span><a href=\"#All-signs\" data-toc-modified-id=\"All-signs-7.2\"><span class=\"toc-item-num\">7.2&nbsp;&nbsp;</span>All signs</a></span></li><li><span><a href=\"#Particular-signs\" data-toc-modified-id=\"Particular-signs-7.3\"><span class=\"toc-item-num\">7.3&nbsp;&nbsp;</span>Particular signs</a></span></li><li><span><a href=\"#From-instance-to-context\" data-toc-modified-id=\"From-instance-to-context-7.4\"><span class=\"toc-item-num\">7.4&nbsp;&nbsp;</span>From instance to context</a></span></li><li><span><a href=\"#Frequency-list\" data-toc-modified-id=\"Frequency-list-7.5\"><span class=\"toc-item-num\">7.5&nbsp;&nbsp;</span>Frequency list</a></span></li></ul></li><li><span><a href=\"#Structures\" data-toc-modified-id=\"Structures-8\"><span class=\"toc-item-num\">8&nbsp;&nbsp;</span>Structures</a></span><ul class=\"toc-item\"><li><span><a href=\"#Quads\" data-toc-modified-id=\"Quads-8.1\"><span class=\"toc-item-num\">8.1&nbsp;&nbsp;</span>Quads</a></span><ul class=\"toc-item\"><li><span><a href=\"#Getting-a-big-quad\" data-toc-modified-id=\"Getting-a-big-quad-8.1.1\"><span class=\"toc-item-num\">8.1.1&nbsp;&nbsp;</span>Getting a big quad</a></span></li><li><span><a href=\"#Unraveling-a-quad\" data-toc-modified-id=\"Unraveling-a-quad-8.1.2\"><span class=\"toc-item-num\">8.1.2&nbsp;&nbsp;</span>Unraveling a quad</a></span></li><li><span><a href=\"#Collecting-quads-by-depth\" data-toc-modified-id=\"Collecting-quads-by-depth-8.1.3\"><span class=\"toc-item-num\">8.1.3&nbsp;&nbsp;</span>Collecting quads by depth</a></span></li><li><span><a href=\"#Distribution-of-quads-by-depth\" data-toc-modified-id=\"Distribution-of-quads-by-depth-8.1.4\"><span class=\"toc-item-num\">8.1.4&nbsp;&nbsp;</span>Distribution of quads by depth</a></span></li></ul></li><li><span><a href=\"#Clusters\" data-toc-modified-id=\"Clusters-8.2\"><span class=\"toc-item-num\">8.2&nbsp;&nbsp;</span>Clusters</a></span><ul class=\"toc-item\"><li><span><a href=\"#Kinds-of-clusters\" data-toc-modified-id=\"Kinds-of-clusters-8.2.1\"><span class=\"toc-item-num\">8.2.1&nbsp;&nbsp;</span>Kinds of clusters</a></span></li><li><span><a href=\"#Lengths-of-clusters\" data-toc-modified-id=\"Lengths-of-clusters-8.2.2\"><span class=\"toc-item-num\">8.2.2&nbsp;&nbsp;</span>Lengths of clusters</a></span></li></ul></li></ul></li><li><span><a href=\"#Signs\" data-toc-modified-id=\"Signs-9\"><span class=\"toc-item-num\">9&nbsp;&nbsp;</span>Signs</a></span><ul class=\"toc-item\"><li><span><a href=\"#Writing-results-to-file\" data-toc-modified-id=\"Writing-results-to-file-9.1\"><span class=\"toc-item-num\">9.1&nbsp;&nbsp;</span>Writing results to file</a></span></li><li><span><a href=\"#Prime\" data-toc-modified-id=\"Prime-9.2\"><span class=\"toc-item-num\">9.2&nbsp;&nbsp;</span>Prime</a></span></li><li><span><a href=\"#Variant\" data-toc-modified-id=\"Variant-9.3\"><span class=\"toc-item-num\">9.3&nbsp;&nbsp;</span>Variant</a></span></li><li><span><a href=\"#Modifier\" data-toc-modified-id=\"Modifier-9.4\"><span class=\"toc-item-num\">9.4&nbsp;&nbsp;</span>Modifier</a></span></li><li><span><a href=\"#Full-grapheme-overview\" data-toc-modified-id=\"Full-grapheme-overview-9.5\"><span class=\"toc-item-num\">9.5&nbsp;&nbsp;</span>Full grapheme overview</a></span></li></ul></li><li><span><a href=\"#Representation\" data-toc-modified-id=\"Representation-10\"><span class=\"toc-item-num\">10&nbsp;&nbsp;</span>Representation</a></span></li><li><span><a href=\"#Collation\" data-toc-modified-id=\"Collation-11\"><span class=\"toc-item-num\">11&nbsp;&nbsp;</span>Collation</a></span><ul class=\"toc-item\"><li><span><a href=\"#TF-ad\" data-toc-modified-id=\"TF-ad-11.1\"><span class=\"toc-item-num\">11.1&nbsp;&nbsp;</span>TF ad</a></span></li><li><span><a href=\"#Back-to-collation\" data-toc-modified-id=\"Back-to-collation-11.2\"><span class=\"toc-item-num\">11.2&nbsp;&nbsp;</span>Back to collation</a></span></li></ul></li><li><span><a href=\"#End\" data-toc-modified-id=\"End-12\"><span class=\"toc-item-num\">12&nbsp;&nbsp;</span>End</a></span></li><li><span><a href=\"#Search\" data-toc-modified-id=\"Search-13\"><span class=\"toc-item-num\">13&nbsp;&nbsp;</span>Search</a></span></li><li><span><a href=\"#Explore-additional-data\" data-toc-modified-id=\"Explore-additional-data-14\"><span class=\"toc-item-num\">14&nbsp;&nbsp;</span>Explore additional data</a></span></li><li><span><a href=\"#Add-your-own-data\" data-toc-modified-id=\"Add-your-own-data-15\"><span class=\"toc-item-num\">15&nbsp;&nbsp;</span>Add your own data</a></span></li><li><span><a href=\"#Export-to-Emdros-MQL\" data-toc-modified-id=\"Export-to-Emdros-MQL-16\"><span class=\"toc-item-num\">16&nbsp;&nbsp;</span>Export to Emdros MQL</a></span></li></ul></div>"
   ]
  },
  {
   "cell_type": "markdown",
   "metadata": {},
   "source": [
    "<img align=\"right\" src=\"images/tf-small.png\"/>\n",
    "\n",
    "\n",
    "# Tutorial\n",
    "\n",
    "This notebook gets you started with using\n",
    "[Text-Fabric](https://github.com/Dans-labs/text-fabric) for coding in cuneiform tablet transcriptions.\n",
    "\n",
    "## Introduction\n",
    "\n",
    "### Text-Fabric\n",
    "\n",
    "Text-Fabric is a model for textual data with annotations that is optimized for efficient data analysis. Not only that, it also facilitates the creation of new, derived data, which can be added to the original data.\n",
    "Data combination is a feature of Text-Fabric.\n",
    "\n",
    "Text-Fabric is being used for the\n",
    "[Hebrew Bible](https://github.com/ETCBC/bhsa)\n",
    "and a large body of linguisitic annotations on top of it. The researchers of the \n",
    "[ETCBC](http://etcbc.nl) thought that a plain database is not a satisfactory text model,\n",
    "and that XML is too limited too express multiple hierarchies in a text smoothly.\n",
    "\n",
    "That's why they adopted a model by\n",
    "[Doedens](http://books.google.nl/books?id=9ggOBRz1dO4C)\n",
    "that reflects more of the essential properties of text (sequence, embedding). This model is the basis of MQL, a working text-database system.\n",
    "Text-Fabric is based on the same\n",
    "[model](https://github.com/Dans-labs/text-fabric/wiki/Data-model),\n",
    "and once the data is in Text-Fabric, it can be exported to MQL.\n",
    "\n",
    "See more on the effort of modeling the Hebrew Bible in Dirk's article\n",
    "[The Hebrew Bible as Data: Laboratory - Sharing - Experiences](https://doi.org/10.5334/bbi.18)\n",
    "\n",
    "With data in Text-Fabric, it becomes possible to build rich online interfaces on the data of ancient texts.\n",
    "For the Hebrew Bible, we have built\n",
    "[SHEBANQ](https://shebanq.ancient-data.org).\n",
    "\n",
    "Working with TF is a bit like buying from IKEA. You get your product in bits and pieces, and you assemble it yourself. TF decomposes any dataset into its components, nicely stacked per component, with every component uniquely labeled. You go to the store, make your selection, enter the warehouse, collect your parts, and, at home, assemble your product.\n",
    "\n",
    "In order to enjoy an IKEA product, you do not need to be a craftsman, but you do need to be able to handle a screw driver.\n",
    "\n",
    "In the TF world, it is the same. You do not have to be a professional programmer, but you do need to be able to program little things. A first course in Python is enough.\n",
    "\n",
    "Another parallel: in IKEA you take a package with components home, and there you assemble it. \n",
    "In TF it is likewise: you download the TF data, and then you write a little program. Inside that program you can call up the Text-Fabric tool, which act as the IKEA user manual. But your program takes control, not Text-Fabric.\n",
    "\n",
    "The best environment to enjoy Text-Fabric is in Python programs that you develop in a \n",
    "[Jupyter Notebook](http://jupyter.readthedocs.io/en/latest/).\n",
    "This tutorial is such a notebook. If you are reading it online, you see text bits and code bits,\n",
    "but you cannot execute the code bits.\n",
    "\n",
    "If you download this tutorial, and you have installed Python, Jupyter, and Text-Fabric,\n",
    "you can *execute* the code bits."
   ]
  },
  {
   "cell_type": "markdown",
   "metadata": {},
   "source": [
    "### Cuneiform tablets in ATF\n",
    "\n",
    "Cuneiform tablets have been transcribed in ATF files, in which the marks on a tablet are represented\n",
    "by ascii characters. The marks on a tablet have structure (they can be composed, they build cases and lines) and properties (they can be uncertain)."
   ]
  },
  {
   "cell_type": "markdown",
   "metadata": {},
   "source": [
    "<img align=\"left\" src=\"images/P005381-obverse-photo.png\" width=\"25%\"/>\n",
    "<img align=\"left\" src=\"images/P005381-obverse-lineart.png\" width=\"25%\"/>\n",
    "```\n",
    "&P005381 = MSVO 3, 70\n",
    "#version: 0.1\n",
    "#atf: lang qpc\n",
    "```\n",
    "<img align=\"right\" src=\"images/P005381-obverse-atf.png\" width=\"50%\"/>"
   ]
  },
  {
   "cell_type": "markdown",
   "metadata": {},
   "source": [
    "<img align=\"left\" src=\"images/P005381-reverse-photo.png\" width=\"25%\"/>\n",
    "<img align=\"left\" src=\"images/P005381-reverse-lineart.png\" width=\"25%\"/>\n",
    "<img align=\"right\" src=\"images/P005381-reverse-atf.png\" width=\"50%\"/>"
   ]
  },
  {
   "cell_type": "markdown",
   "metadata": {},
   "source": [
    "*Obverse* and *reverse* face of tablet\n",
    "[P005381](https://cdli.ucla.edu/search/search_results.php?SearchMode=Text&ObjectID=P005381). \n",
    "\n",
    ">Authors: Robert K. Englund and Peter Damerow\n",
    "\n",
    ">Transcription by Robert K. Englund\n",
    "\n",
    ">UCLA Library ARK\t21198/zz001q057f"
   ]
  },
  {
   "cell_type": "markdown",
   "metadata": {},
   "source": [
    "### Why Text-Fabric?\n",
    "When you search for tablet data in an ATF file, you can do so conveniently by using regular expressions.\n",
    "\n",
    "However, the ATF transcriptions have become packed with information. Not every transcriber uses ATF in the same way, and there are a few coding errors in the sources.\n",
    "\n",
    "That means that the most obvious search expressions will leave out cases. Either you live with that, or you refine your search expressions.\n",
    "\n",
    "An other issue is, that when you look for something, your search expressions must reflect the shape of not\n",
    "only your target, but also everything else. There is virtually no separation of concerns.\n",
    "\n",
    "When your search task becomes complicated, your mind tends to get overloaded with the details of the transcription format, rather than with the quest you would like to have in mind.\n",
    "\n",
    "You also want to be able to divide a research task into smaller chunks.\n",
    "Whereas regular expressions are a wonderful tool to look for patterns, on their own they fall short\n",
    "when your search involves nested structures, intermediate sets of patterns, special functions.\n",
    "\n",
    "\n",
    "\n",
    "## Overview\n",
    "\n",
    "* we tell you how to get Text-Fabric on your system;\n",
    "* we tell you how to get a set of cuneiform tablet transcriptions on your system;\n",
    "* we make a tour, showing how to use the data;\n",
    "* we add a real world exercise in collocation.\n",
    "\n",
    "## More information\n",
    "Chances are that a bit of reading about the underlying\n",
    "[data model](https://github.com/Dans-labs/text-fabric/wiki/Data-model)\n",
    "helps you to follow the exercises below, and vice versa.\n",
    "\n",
    "We have checked the conversion from the transcriptions to Text-Fabric extensively.\n",
    "Cruelly, you might say. You can follow the checks\n",
    "in a separate notebook [checks](checks.ipynb)."
   ]
  },
  {
   "cell_type": "markdown",
   "metadata": {},
   "source": [
    "## Installing Text-Fabric\n",
    "\n",
    "### Prerequisites\n",
    "\n",
    "You need to have Python on your system. Most systems have it out of the box,\n",
    "but alas, that is python2 and we need at least python 3.6.\n",
    "\n",
    "Install it from [python.org]() or from [Anaconda]().\n",
    "If you got it from python.org, you also have to install [Jupyter]().\n",
    "\n",
    "### TF itself\n",
    "\n",
    "```\n",
    "pip install text-fabric\n",
    "```\n",
    "\n",
    "if you have installed Python with the help of Anaconda, or\n",
    "\n",
    "```\n",
    "sudo -H pip3 install text-fabric\n",
    "```\n",
    "if you have installed Python from [python.org](https://www.python.org).\n",
    "\n",
    "###### Execute: If all this is done, the following cells can be executed."
   ]
  },
  {
   "cell_type": "code",
   "execution_count": 1,
   "metadata": {
    "ExecuteTime": {
     "end_time": "2018-02-26T13:03:14.748716Z",
     "start_time": "2018-02-26T13:03:14.728470Z"
    }
   },
   "outputs": [],
   "source": [
    "%load_ext autoreload\n",
    "%autoreload 2"
   ]
  },
  {
   "cell_type": "code",
   "execution_count": 2,
   "metadata": {
    "ExecuteTime": {
     "end_time": "2018-02-26T13:03:28.629061Z",
     "start_time": "2018-02-26T13:03:28.607029Z"
    }
   },
   "outputs": [],
   "source": [
    "import sys, os, collections\n",
    "from tf.fabric import Fabric\n",
    "from tf.cunei import Cunei"
   ]
  },
  {
   "cell_type": "markdown",
   "metadata": {},
   "source": [
    "### Cuneiform data\n",
    "\n",
    "We have prepared a corpus of 6000 tablets, from the Uruk-III/IV period in Text-Fabric.\n",
    "We have downloaded the transcriptions from CDLI, and converted them to Text-Fabric.\n",
    "\n",
    "You can get the results from GitHub as follows.\n",
    "\n",
    "We suggest you make an appropriate directory in your home directory:\n",
    "\n",
    "```\n",
    "github/Dans-labs\n",
    "```\n",
    "\n",
    "then go to that directory in a terminal, and then say\n",
    "\n",
    "```\n",
    "git clone https://github.com/Dans-labs/Nino-cunei\n",
    "```\n",
    "\n",
    "After that your directory structure shold look like this:\n",
    "\n",
    "    your home direcectory\\\n",
    "    |                     - github\\\n",
    "    |                       |      - Dans-labs\\\n",
    "    |                       |        |         - Nino-cunei\n",
    "    \n",
    "#### Tip\n",
    "If you start computing with this tutorial, first copy its parent directory to somewhere else,\n",
    "outside your `Nino-cunei` directory.\n",
    "If you pull changes from the `Nino-cunei` repository later, your work will not be overwritten.\n",
    "Where you put your tutorial directory is up till you.\n",
    "It will work from any directory.\n",
    "\n",
    "###### Execute: it this has been done, you can execute the next cells"
   ]
  },
  {
   "cell_type": "code",
   "execution_count": 3,
   "metadata": {
    "ExecuteTime": {
     "end_time": "2018-02-26T13:03:33.455754Z",
     "start_time": "2018-02-26T13:03:33.435114Z"
    }
   },
   "outputs": [
    {
     "name": "stdout",
     "output_type": "stream",
     "text": [
      "This is Text-Fabric 3.2.0\n",
      "Api reference : https://github.com/Dans-labs/text-fabric/wiki/Api\n",
      "Tutorial      : https://github.com/Dans-labs/text-fabric/blob/master/docs/tutorial.ipynb\n",
      "Example data  : https://github.com/Dans-labs/text-fabric-data\n",
      "\n",
      "33 features found and 0 ignored\n"
     ]
    }
   ],
   "source": [
    "REPO = '~/github/Dans-labs/Nino-cunei'\n",
    "SOURCE = 'uruk'\n",
    "VERSION = '0.1'\n",
    "CORPUS = f'{REPO}/tf/{SOURCE}/{VERSION}'\n",
    "SOURCE_DIR = os.path.expanduser(f'{REPO}/sources/cdli')\n",
    "TEMP_DIR = os.path.expanduser(f'{REPO}/_temp')\n",
    "TF = Fabric(locations=[CORPUS], modules=[''], silent=False )"
   ]
  },
  {
   "cell_type": "markdown",
   "metadata": {},
   "source": [
    "## Load Data\n",
    "\n",
    "The transcriptions of the tablets in their TF form is organized in a model of nodes, edges and features.\n",
    "\n",
    "The things such as tablets, faces, columns, cases, and, at the most basic level, signs, are numbered.\n",
    "The signs correspond to number 1 ... ca. 120,000, in the same order as they occur in the corpus.\n",
    "All other things are built from signs. They have number from ca 120,000 to 450,000.\n",
    "\n",
    "In TF, we call these numbers *nodes*. Like a barcode, this number gives access to a whole bunch of\n",
    "information about the corresponding object.\n",
    "\n",
    "For example, lines have a property (in TF we call it a *feature*) called `fullNumber`. \n",
    "It contains the hierarchical number found at the start of the line in the transcription.\n",
    "\n",
    "If the node for a line is `n`, we can find its hierarchical number by saying\n",
    "\n",
    "```\n",
    "F.fullNumber.v(n)\n",
    "```\n",
    "\n",
    "In words, it reads as:\n",
    "\n",
    "* `F`: I want to look up a `F`eature\n",
    "* `fullNumber`: the name of the feature\n",
    "* `.v`: I want the value of that feature\n",
    "* `(n)`: for the given node `n`\n",
    "\n",
    "Seen in this way, the data is like a gigantic spreadsheet of 450,000 rows (the nodes),\n",
    "with 30 columns (the features).\n",
    "\n",
    "There is a bit more to it, since the nodes can be grouped together in ways we will see later on.\n",
    "\n",
    "###### Execute: the next cell loads most features"
   ]
  },
  {
   "cell_type": "code",
   "execution_count": 4,
   "metadata": {
    "ExecuteTime": {
     "end_time": "2018-02-26T13:03:51.261999Z",
     "start_time": "2018-02-26T13:03:50.170157Z"
    }
   },
   "outputs": [
    {
     "name": "stdout",
     "output_type": "stream",
     "text": [
      "  0.00s loading features ...\n",
      "   |     0.00s B catalogId            from /Users/dirk/github/Dans-labs/Nino-cunei/tf/uruk/0.1\n",
      "   |     0.02s B fullNumber           from /Users/dirk/github/Dans-labs/Nino-cunei/tf/uruk/0.1\n",
      "   |     0.02s B number               from /Users/dirk/github/Dans-labs/Nino-cunei/tf/uruk/0.1\n",
      "   |     0.06s B grapheme             from /Users/dirk/github/Dans-labs/Nino-cunei/tf/uruk/0.1\n",
      "   |     0.05s B srcLn                from /Users/dirk/github/Dans-labs/Nino-cunei/tf/uruk/0.1\n",
      "   |     0.03s B srcLnNum             from /Users/dirk/github/Dans-labs/Nino-cunei/tf/uruk/0.1\n",
      "   |     0.00s B prime                from /Users/dirk/github/Dans-labs/Nino-cunei/tf/uruk/0.1\n",
      "   |     0.01s B repeat               from /Users/dirk/github/Dans-labs/Nino-cunei/tf/uruk/0.1\n",
      "   |     0.01s B variant              from /Users/dirk/github/Dans-labs/Nino-cunei/tf/uruk/0.1\n",
      "   |     0.00s B variantOuter         from /Users/dirk/github/Dans-labs/Nino-cunei/tf/uruk/0.1\n",
      "   |     0.00s B modifier             from /Users/dirk/github/Dans-labs/Nino-cunei/tf/uruk/0.1\n",
      "   |     0.00s B modifierInner        from /Users/dirk/github/Dans-labs/Nino-cunei/tf/uruk/0.1\n",
      "   |     0.00s B modifierFirst        from /Users/dirk/github/Dans-labs/Nino-cunei/tf/uruk/0.1\n",
      "   |     0.01s B damage               from /Users/dirk/github/Dans-labs/Nino-cunei/tf/uruk/0.1\n",
      "   |     0.00s B uncertain            from /Users/dirk/github/Dans-labs/Nino-cunei/tf/uruk/0.1\n",
      "   |     0.00s B remarkable           from /Users/dirk/github/Dans-labs/Nino-cunei/tf/uruk/0.1\n",
      "   |     0.00s B written              from /Users/dirk/github/Dans-labs/Nino-cunei/tf/uruk/0.1\n",
      "   |     0.02s B kind                 from /Users/dirk/github/Dans-labs/Nino-cunei/tf/uruk/0.1\n",
      "   |     0.00s B period               from /Users/dirk/github/Dans-labs/Nino-cunei/tf/uruk/0.1\n",
      "   |     0.00s B name                 from /Users/dirk/github/Dans-labs/Nino-cunei/tf/uruk/0.1\n",
      "   |     0.01s B type                 from /Users/dirk/github/Dans-labs/Nino-cunei/tf/uruk/0.1\n",
      "   |     0.00s B identifier           from /Users/dirk/github/Dans-labs/Nino-cunei/tf/uruk/0.1\n",
      "   |     0.00s B origNumber           from /Users/dirk/github/Dans-labs/Nino-cunei/tf/uruk/0.1\n",
      "   |     0.00s B badNumbering         from /Users/dirk/github/Dans-labs/Nino-cunei/tf/uruk/0.1\n",
      "   |     0.01s B crossref             from /Users/dirk/github/Dans-labs/Nino-cunei/tf/uruk/0.1\n",
      "   |     0.01s B text                 from /Users/dirk/github/Dans-labs/Nino-cunei/tf/uruk/0.1\n",
      "   |     0.00s B op                   from /Users/dirk/github/Dans-labs/Nino-cunei/tf/uruk/0.1\n",
      "   |     0.11s B sub                  from /Users/dirk/github/Dans-labs/Nino-cunei/tf/uruk/0.1\n",
      "   |     0.01s B comments             from /Users/dirk/github/Dans-labs/Nino-cunei/tf/uruk/0.1\n",
      "   |     0.00s Feature overview: 28 for nodes; 4 for edges; 1 configs; 7 computed\n",
      "  1.08s All features loaded/computed - for details use loadLog()\n"
     ]
    }
   ],
   "source": [
    "api = TF.load('''\n",
    "    grapheme prime repeat\n",
    "    variant variantOuter\n",
    "    modifier modifierInner modifierFirst\n",
    "    damage uncertain remarkable written\n",
    "    kind\n",
    "    period name type identifier catalogId\n",
    "    number fullNumber origNumber badNumbering\n",
    "    crossref text\n",
    "    srcLn srcLnNum\n",
    "    op sub comments''')\n",
    "api.makeAvailableIn(globals())\n",
    "CUNEI = Cunei(api, SOURCE_DIR, TEMP_DIR)"
   ]
  },
  {
   "cell_type": "markdown",
   "metadata": {},
   "source": [
    "## A tour around the TF API\n",
    "\n",
    "We have the data of over 6000 tablets at our fingertips now. But how can we see it?\n",
    "In a meaningful way?\n",
    "\n",
    "The following tour shows you the most important parts of the Text-Fabric API.\n",
    "It is a set of functions, defined in the TF package, that you can use in your own program.\n",
    "\n",
    "This notebook itself is our current program, and we have just loaded the API.\n",
    "\n",
    "See in the next cells how we navigate to the tablets we want and pick our data from them.\n",
    "\n",
    "The full API-reference documentation is available on the\n",
    "[Text-Fabric wiki](https://github.com/Dans-labs/text-fabric/wiki/Api)."
   ]
  },
  {
   "cell_type": "markdown",
   "metadata": {},
   "source": [
    "### Sections: tablet - column - line\n",
    "\n",
    "Let's start with just a single, specific tablet P448702.\n",
    "\n",
    "Here is its transcription, copied from the CDLI source.\n",
    "\n",
    "```\n",
    "&P448702 = www archaeo-auction 004 \n",
    "#atf: lang qpc \n",
    "@tablet \n",
    "@obverse \n",
    "@column 1 \n",
    "$ beginning broken \n",
    "1'. [n] , [...] KA~a \n",
    "2.a'. [n] 2(N14) 3(N01) , KASZ~b NUN~a \n",
    "2.b'. 3(N01) , KASZ~a? GI \n",
    "3'. [n] 6(N14)#? 4(N01) 2(N39~a) , X [...] \n",
    "@column 2 \n",
    "$ beginning broken \n",
    "$ blank space \n",
    "1'. , U4 |U4x1(N01)| SUKUD@inversum? NA \n",
    "@column 3 \n",
    "$ beginning broken \n",
    "$ blank space \n",
    "@reverse \n",
    "$ (not imaged) \n",
    "```"
   ]
  },
  {
   "cell_type": "markdown",
   "metadata": {},
   "source": [
    "There is a node for this tablet. How do we find it?\n",
    "\n",
    "The easiest way is to ask TF to find the node on the basis of a section specification.\n",
    "\n",
    "When we converted the transcriptions to TF, we made it so that tablets are the first\n",
    "section level, columns the second, and lines the third. \n",
    "\n",
    "In order to find the node corresponding to a section, we have to give a tuple\n",
    "`(tabletName, columnNumber, lineNumber)` to the appropriate function in TF.\n",
    "\n",
    "Here you may leave out `lineNumber` (to specify a column), or both `columnNumber` and `lineNumber` \n",
    "(to specify a tablet).\n",
    "The latter is our case here."
   ]
  },
  {
   "cell_type": "code",
   "execution_count": 5,
   "metadata": {
    "ExecuteTime": {
     "end_time": "2018-02-26T13:03:58.693529Z",
     "start_time": "2018-02-26T13:03:58.672164Z"
    }
   },
   "outputs": [
    {
     "data": {
      "text/plain": [
       "150865"
      ]
     },
     "execution_count": 5,
     "metadata": {},
     "output_type": "execute_result"
    }
   ],
   "source": [
    "justATablet = T.nodeFromSection(('P448702',))\n",
    "justATablet"
   ]
  },
  {
   "cell_type": "markdown",
   "metadata": {},
   "source": [
    "Ok, this is the node, the barcode, as it were. It gives you access to all data we have stored of this\n",
    "tablet.\n",
    "\n",
    "One of the things we have stored for tablets, columns, and lines, is the original transcription line.\n",
    "Let's retrieve it."
   ]
  },
  {
   "cell_type": "code",
   "execution_count": 6,
   "metadata": {
    "ExecuteTime": {
     "end_time": "2018-02-26T13:04:01.632911Z",
     "start_time": "2018-02-26T13:04:01.613171Z"
    }
   },
   "outputs": [
    {
     "data": {
      "text/plain": [
       "'&P448702 = www archaeo-auction 004 '"
      ]
     },
     "execution_count": 6,
     "metadata": {},
     "output_type": "execute_result"
    }
   ],
   "source": [
    "F.srcLn.v(justATablet)"
   ]
  },
  {
   "cell_type": "markdown",
   "metadata": {},
   "source": [
    "This is the source line of the tablet header.\n",
    "How do we get the other source lines?"
   ]
  },
  {
   "cell_type": "markdown",
   "metadata": {},
   "source": [
    "### Navigation\n",
    "\n",
    "We'll need another concept first.\n",
    "Things on a tablet have spatial relationships. \n",
    "While the transcriptions abstract from the physical relationships, there are still a few\n",
    "important ones left: sequence and embedding.\n",
    "\n",
    "At the most basic level we have signs. \n",
    "For all other levels, TF knows exactly which signs are part of the objects of those levels.\n",
    "\n",
    "And based on that knowledge, we can travel from objects to the objects embedded in it, and back,\n",
    "and to the right and left siblings.\n",
    "\n",
    "All these functions start with `L.`, and they take a starting node as argument.\n",
    "\n",
    "* `L.d()` goes \"down\": from enbedder to embeddee;\n",
    "* `L.u()` goes \"up\": from embeddee to embedder;\n",
    "* `L.p()` goes \"previous\": to the first left sibling;\n",
    "* `L.n()` goes \"next\": to the first right sibling.\n",
    "\n",
    "We can now find all the nodes contained in the example tablet.\n",
    "When we retrieve them, we also fetch their *type*: is it a face, a column, a sign?\n",
    "The type of a node is stored in the feature `otype`. \n",
    "This feature is so central to the TF model that every TF dataset has it."
   ]
  },
  {
   "cell_type": "code",
   "execution_count": 7,
   "metadata": {
    "ExecuteTime": {
     "end_time": "2018-02-26T13:04:05.486568Z",
     "start_time": "2018-02-26T13:04:05.468338Z"
    }
   },
   "outputs": [
    {
     "name": "stdout",
     "output_type": "stream",
     "text": [
      "180739 of type comment\n",
      "    56 of type sign\n",
      "157262 of type face\n",
      "166709 of type column\n",
      "180740 of type comment\n",
      "    57 of type sign\n",
      "229518 of type line\n",
      "266443 of type case\n",
      "196542 of type cluster\n",
      "    58 of type sign\n",
      "196543 of type cluster\n",
      "    59 of type sign\n",
      "    60 of type sign\n",
      "229519 of type line\n",
      "266444 of type case\n",
      "266445 of type case\n",
      "196544 of type cluster\n",
      "    61 of type sign\n",
      "    62 of type sign\n",
      "    63 of type sign\n",
      "    64 of type sign\n",
      "    65 of type sign\n",
      "266446 of type case\n",
      "266447 of type case\n",
      "    66 of type sign\n",
      "    67 of type sign\n",
      "    68 of type sign\n",
      "229520 of type line\n",
      "266448 of type case\n",
      "196545 of type cluster\n",
      "    69 of type sign\n",
      "    70 of type sign\n",
      "    71 of type sign\n",
      "    72 of type sign\n",
      "    73 of type sign\n",
      "196546 of type cluster\n",
      "    74 of type sign\n",
      "166710 of type column\n",
      "180741 of type comment\n",
      "    75 of type sign\n",
      "180742 of type comment\n",
      "    76 of type sign\n",
      "229521 of type line\n",
      "266449 of type case\n",
      "    77 of type sign\n",
      "146957 of type quad\n",
      "    78 of type sign\n",
      "    79 of type sign\n",
      "    80 of type sign\n",
      "    81 of type sign\n",
      "166711 of type column\n",
      "180743 of type comment\n",
      "    82 of type sign\n",
      "180744 of type comment\n",
      "    83 of type sign\n",
      "    84 of type sign\n",
      "157263 of type face\n",
      "180745 of type comment\n",
      "    85 of type sign\n",
      "    86 of type sign\n"
     ]
    }
   ],
   "source": [
    "for child in L.d(justATablet):\n",
    "    print(f'{child:>6} of type {F.otype.v(child)}')"
   ]
  },
  {
   "cell_type": "markdown",
   "metadata": {},
   "source": [
    "A few things to note:\n",
    "\n",
    "* the numbers are not really important to us, only to the program;\n",
    "  soon, we will stop showing them altogether;\n",
    "* the order in which the nodes are delivered, is a natural one:\n",
    "  1. first things first, and \n",
    "  2. bigger things before the smaller things they contain."
   ]
  },
  {
   "cell_type": "markdown",
   "metadata": {},
   "source": [
    "#### Source lines\n",
    "\n",
    "So in order to find all the source lines of this tablet, we can just take all these nodes,\n",
    "see whether they have a value for feature *srcLn*, retrieve it, an print it.\n",
    "\n",
    "Let's do it, and write this as a function, i.e. a recipe that we can apply to every tablet."
   ]
  },
  {
   "cell_type": "code",
   "execution_count": 8,
   "metadata": {
    "ExecuteTime": {
     "end_time": "2018-02-26T13:04:10.261021Z",
     "start_time": "2018-02-26T13:04:10.241510Z"
    }
   },
   "outputs": [],
   "source": [
    "def getSource(tablet):\n",
    "    sourceLines = []\n",
    "    sourceLines.append(F.srcLn.v(tablet))\n",
    "    for child in L.d(tablet):\n",
    "        sourceLine = F.srcLn.v(child)\n",
    "        if sourceLine:\n",
    "            sourceLines.append(sourceLine)\n",
    "    return sourceLines"
   ]
  },
  {
   "cell_type": "markdown",
   "metadata": {},
   "source": [
    "This function gets all source lines in a list.\n",
    "Let's apply it to our sample tablet, and print out the list:"
   ]
  },
  {
   "cell_type": "code",
   "execution_count": 9,
   "metadata": {
    "ExecuteTime": {
     "end_time": "2018-02-26T13:04:13.040499Z",
     "start_time": "2018-02-26T13:04:13.024925Z"
    }
   },
   "outputs": [
    {
     "name": "stdout",
     "output_type": "stream",
     "text": [
      "&P448702 = www archaeo-auction 004 \n",
      "#atf: lang qpc \n",
      "@obverse \n",
      "@column 1 \n",
      "$ beginning broken \n",
      "1'. [n] , [...] KA~a \n",
      "2.a'. [n] 2(N14) 3(N01) , KASZ~b NUN~a \n",
      "2.b'. 3(N01) , KASZ~a? GI \n",
      "3'. [n] 6(N14)#? 4(N01) 2(N39~a) , X [...] \n",
      "@column 2 \n",
      "$ beginning broken \n",
      "$ blank space \n",
      "1'. , U4 |U4x1(N01)| SUKUD@inversum? NA \n",
      "@column 3 \n",
      "$ beginning broken \n",
      "$ blank space \n",
      "@reverse \n",
      "$ (not imaged) \n"
     ]
    }
   ],
   "source": [
    "sourceLines = getSource(justATablet)\n",
    "print('\\n'.join(sourceLines))"
   ]
  },
  {
   "cell_type": "markdown",
   "metadata": {},
   "source": [
    "This is nearly the original. The only difference we spot is that we have left out\n",
    "the `@tablet` line. This has been done because the `&P` line is the true header of the\n",
    "tablet. In fact, the `@tablet` line is not consistently present in the source.\n",
    "\n",
    "This is an example where the TF data is a little bit more streamlined than the source transcriptions.\n",
    "\n",
    "Let's just enjoy the new power, and get the source lines of another, important tablet: \n",
    "[P005381](https://cdli.ucla.edu/search/search_results.php?SearchMode=Text&ObjectID=P005381).\n",
    "\n",
    "We show the photos, lineart and transcriptions of both faces of this tablet.\n",
    "For provenance: see above or follow the link."
   ]
  },
  {
   "cell_type": "markdown",
   "metadata": {},
   "source": [
    "<img align=\"left\" src=\"images/P005381-obverse-photo.png\" width=\"50%\"/>\n",
    "<img align=\"right\" src=\"images/P005381-reverse-photo.png\" width=\"50%\"/>"
   ]
  },
  {
   "cell_type": "markdown",
   "metadata": {},
   "source": [
    "<img align=\"left\" src=\"images/P005381-obverse-lineart-annot.png\" width=\"50%\"/>\n",
    "<img align=\"right\" src=\"images/P005381-reverse-lineart.png\" width=\"50%\"/>"
   ]
  },
  {
   "cell_type": "code",
   "execution_count": 10,
   "metadata": {
    "ExecuteTime": {
     "end_time": "2018-02-26T13:04:19.134215Z",
     "start_time": "2018-02-26T13:04:19.117584Z"
    }
   },
   "outputs": [
    {
     "name": "stdout",
     "output_type": "stream",
     "text": [
      "&P005381 = MSVO 3, 70\n",
      "#version: 0.1\n",
      "#atf: lang qpc\n",
      "@obverse\n",
      "@column 1\n",
      "1.a. 2(N14) , SZE~a SAL TUR3~a NUN~a\n",
      "1.b. 3(N19) , |GISZ.TE|\n",
      "2. 1(N14) , NAR NUN~a SIG7\n",
      "3. 2(N04)# , PIRIG~b1 SIG7 URI3~a NUN~a\n",
      "@column 2\n",
      "1. 3(N04) , |GISZ.TE| GAR |SZU2.((HI+1(N57))+(HI+1(N57)))| GI4~a\n",
      "2. , GU7 AZ SI4~f\n",
      "@reverse\n",
      "@column 1\n",
      "1. 3(N14) , SZE~a\n",
      "2. 3(N19) 5(N04) ,\n",
      "3. , GU7\n",
      "@column 2\n",
      "1. , AZ SI4~f\n"
     ]
    }
   ],
   "source": [
    "exampleTablet = T.nodeFromSection(('P005381',))\n",
    "sourceLines = getSource(exampleTablet)\n",
    "print('\\n'.join(sourceLines))"
   ]
  },
  {
   "cell_type": "markdown",
   "metadata": {},
   "source": [
    "By the way, in column 2, line 1 we find a composition of three levels: \n",
    "`|SZU2.((HI+1(N57))+(HI+1(N57)))|`\n",
    "\n",
    "We call compositions of signs by means of operators such as `.` and `x` and `+` *quads*.\n",
    "They are also a node type, the first node type above the \"atomic\" sign.\n",
    "\n",
    "We'll see a lot of *quads* later on."
   ]
  },
  {
   "cell_type": "markdown",
   "metadata": {},
   "source": [
    "#### Source lines: refined\n",
    "\n",
    "If you just want the lines, and nothing else in between, you can instruct the `L.d` function to\n",
    "let through only nodes of a certain type.\n",
    "\n",
    "Let's improve the `getSource` function to give it an additional, optional argument that\n",
    "tells us the kind of object we want to see."
   ]
  },
  {
   "cell_type": "code",
   "execution_count": 11,
   "metadata": {
    "ExecuteTime": {
     "end_time": "2018-02-26T13:04:23.035603Z",
     "start_time": "2018-02-26T13:04:23.016647Z"
    }
   },
   "outputs": [],
   "source": [
    "def getSource(tablet, nodeType=None):\n",
    "    sourceLines = []\n",
    "    sourceLines.append(F.srcLn.v(tablet))\n",
    "    for child in L.d(tablet, nodeType):\n",
    "        sourceLine = F.srcLn.v(child)\n",
    "        if sourceLine:\n",
    "            sourceLines.append(sourceLine)\n",
    "    return sourceLines"
   ]
  },
  {
   "cell_type": "markdown",
   "metadata": {},
   "source": [
    "If we call it without node type, we get the same results.\n",
    "\n",
    "Let's call it with `nodeType='face'`:"
   ]
  },
  {
   "cell_type": "code",
   "execution_count": 12,
   "metadata": {
    "ExecuteTime": {
     "end_time": "2018-02-26T13:04:25.529348Z",
     "start_time": "2018-02-26T13:04:25.512701Z"
    }
   },
   "outputs": [
    {
     "name": "stdout",
     "output_type": "stream",
     "text": [
      "&P005381 = MSVO 3, 70\n",
      "@obverse\n",
      "@reverse\n"
     ]
    }
   ],
   "source": [
    "sourceLines = getSource(exampleTablet, nodeType='face')\n",
    "print('\\n'.join(sourceLines))"
   ]
  },
  {
   "cell_type": "markdown",
   "metadata": {},
   "source": [
    "We see only the face specifiers.\n",
    "\n",
    "Now let's grab the lines: "
   ]
  },
  {
   "cell_type": "code",
   "execution_count": 13,
   "metadata": {
    "ExecuteTime": {
     "end_time": "2018-02-26T13:04:28.313337Z",
     "start_time": "2018-02-26T13:04:28.297057Z"
    }
   },
   "outputs": [
    {
     "name": "stdout",
     "output_type": "stream",
     "text": [
      "&P005381 = MSVO 3, 70\n",
      "1.a. 2(N14) , SZE~a SAL TUR3~a NUN~a\n",
      "1.b. 3(N19) , |GISZ.TE|\n",
      "2. 1(N14) , NAR NUN~a SIG7\n",
      "3. 2(N04)# , PIRIG~b1 SIG7 URI3~a NUN~a\n",
      "1. 3(N04) , |GISZ.TE| GAR |SZU2.((HI+1(N57))+(HI+1(N57)))| GI4~a\n",
      "2. , GU7 AZ SI4~f\n",
      "1. 3(N14) , SZE~a\n",
      "2. 3(N19) 5(N04) ,\n",
      "3. , GU7\n",
      "1. , AZ SI4~f\n"
     ]
    }
   ],
   "source": [
    "sourceLines = getSource(exampleTablet, nodeType='case')\n",
    "print('\\n'.join(sourceLines))"
   ]
  },
  {
   "cell_type": "markdown",
   "metadata": {},
   "source": [
    "#### Lines and cases\n",
    "\n",
    "Note that we actually supplied `nodeType='case'`.\n",
    "This is because we have modelled the data in such a way, that a line corresponds to all\n",
    "transcription lines in a column that start with the same number.\n",
    "Lines are divided in cases and sub-cases according to the hierarchical line numbers.\n",
    "At the lowest level of sub-case we encounter the material that belong to single\n",
    "transcription lines.\n",
    "\n",
    "Also when lines only have a single case, we will have a case embedded in the line.\n",
    "\n",
    "So *case* is the node type for the geometric divisions of lines,\n",
    "coded by the hierarchical line number."
   ]
  },
  {
   "cell_type": "markdown",
   "metadata": {},
   "source": [
    "#### Line numbers\n",
    "\n",
    "The TF data also retains the original line numbers, i.e. the line number in the file\n",
    "that contains the transcriptions.\n",
    "We do not mean the hierarchical line numbers of the cases!\n",
    "Let us once again improve the `getSource` function by \n",
    "giving it an optional argument for fetching line numbers too:"
   ]
  },
  {
   "cell_type": "code",
   "execution_count": 43,
   "metadata": {
    "ExecuteTime": {
     "end_time": "2018-02-26T13:09:11.771551Z",
     "start_time": "2018-02-26T13:09:11.737883Z"
    }
   },
   "outputs": [],
   "source": [
    "def getSource(tablet, nodeType=None, lineNumbers=False):\n",
    "    sourceLines = []\n",
    "    lineNumber = ''\n",
    "    if lineNumbers:\n",
    "        lineNumber = f'{F.srcLnNum.v(tablet):>5}: '\n",
    "    sourceLines.append(f'{lineNumber}{F.srcLn.v(tablet)}')\n",
    "    for child in L.d(tablet, nodeType):\n",
    "        sourceLine = F.srcLn.v(child)\n",
    "        lineNumber = ''\n",
    "        if sourceLine:\n",
    "            if lineNumbers:\n",
    "                lineNumber = f'{F.srcLnNum.v(child):>5}: '\n",
    "            sourceLines.append(f'{lineNumber}{sourceLine}')\n",
    "    return sourceLines"
   ]
  },
  {
   "cell_type": "markdown",
   "metadata": {},
   "source": [
    "Now we can print the lines with source line numbers, so that we can look them up in the\n",
    "source easily:"
   ]
  },
  {
   "cell_type": "code",
   "execution_count": 15,
   "metadata": {
    "ExecuteTime": {
     "end_time": "2018-02-26T13:04:35.790632Z",
     "start_time": "2018-02-26T13:04:35.774547Z"
    }
   },
   "outputs": [
    {
     "name": "stdout",
     "output_type": "stream",
     "text": [
      "80927: &P005381 = MSVO 3, 70\n",
      "80932: 1.a. 2(N14) , SZE~a SAL TUR3~a NUN~a\n",
      "80933: 1.b. 3(N19) , |GISZ.TE|\n",
      "80934: 2. 1(N14) , NAR NUN~a SIG7\n",
      "80935: 3. 2(N04)# , PIRIG~b1 SIG7 URI3~a NUN~a\n",
      "80937: 1. 3(N04) , |GISZ.TE| GAR |SZU2.((HI+1(N57))+(HI+1(N57)))| GI4~a\n",
      "80938: 2. , GU7 AZ SI4~f\n",
      "80941: 1. 3(N14) , SZE~a\n",
      "80942: 2. 3(N19) 5(N04) ,\n",
      "80943: 3. , GU7\n",
      "80945: 1. , AZ SI4~f\n"
     ]
    }
   ],
   "source": [
    "sourceLines = getSource(exampleTablet, nodeType='case', lineNumbers=True)\n",
    "print('\\n'.join(sourceLines))"
   ]
  },
  {
   "cell_type": "markdown",
   "metadata": {},
   "source": [
    "You'll appreciate the way you can build up your own power tools as you go.\n",
    "The functions of TF provide a foundation, so that start when all the gory details\n",
    "have been taken care of.\n",
    "\n",
    "Speaking of which: see that strange modifier on `SUKUD`, the `@inversum`?\n",
    "It is not in the [Oracc primer on ATF](http://oracc.museum.upenn.edu/doc/help/editinginatf/primer/inlinetutorial/index.html)\n",
    "\n",
    "Probably it is a typo, and the `inversum` should be replaced by a single letter.\n",
    "While Dirk was programming, he decided to \"correct\" this into `@v`, but what really is needed here is\n",
    "to correct the source. Or we could correct the correction.\n",
    "In either case, we expect to run the conversion again, with all issues like these resolved.\n",
    "\n",
    "To see what those issues are, see the complete list of\n",
    "[diagnostics](https://github.com/Dans-labs/Nino-cunei/blob/master/reports/diagnostics.tsv)."
   ]
  },
  {
   "cell_type": "markdown",
   "metadata": {},
   "source": [
    "## Mass operations\n",
    "\n",
    "We have a mass of data, and we want to do meaningful things with that mass.\n",
    "Here are a few ways to address all nodes, and significant subsets of all nodes."
   ]
  },
  {
   "cell_type": "markdown",
   "metadata": {},
   "source": [
    "### Walking all nodes\n",
    "\n",
    "The generator `N()` provides you with all nodes, one by one, in a sequence.\n",
    "They come in the natural order, as we have seen above:\n",
    "\n",
    "* first things first\n",
    "* bigger things before the smaller things they contain.\n",
    "\n",
    "Let's print the first 20 nodes, together with their types."
   ]
  },
  {
   "cell_type": "code",
   "execution_count": 16,
   "metadata": {
    "ExecuteTime": {
     "end_time": "2018-02-26T13:04:44.981940Z",
     "start_time": "2018-02-26T13:04:44.962035Z"
    }
   },
   "outputs": [
    {
     "name": "stdout",
     "output_type": "stream",
     "text": [
      "150862 : tablet\n",
      "180733 : comment\n",
      "     1 : sign\n",
      "180734 : comment\n",
      "     2 : sign\n",
      "157258 : face\n",
      "166700 : column\n",
      "229498 : line\n",
      "266423 : case\n",
      "196539 : cluster\n",
      "     3 : sign\n",
      "     4 : sign\n",
      "     5 : sign\n",
      "166701 : column\n",
      "229499 : line\n",
      "266424 : case\n",
      "     6 : sign\n",
      "     7 : sign\n",
      "     8 : sign\n",
      "196540 : cluster\n"
     ]
    }
   ],
   "source": [
    "LIMIT = 20\n",
    "\n",
    "times = 0\n",
    "for n in N():\n",
    "    print(f'{n:>6} : {F.otype.v(n)}')\n",
    "    times += 1\n",
    "    if times >= 20:\n",
    "        break"
   ]
  },
  {
   "cell_type": "markdown",
   "metadata": {},
   "source": [
    "### All signs\n",
    "\n",
    "Suppose we are only interested in the signs, not how they are organized in cases, lines,\n",
    "columns, faces and tablets.\n",
    "\n",
    "Suppose we just want to count them.\n",
    "\n",
    "We could use `N()` as follows:"
   ]
  },
  {
   "cell_type": "code",
   "execution_count": 17,
   "metadata": {
    "ExecuteTime": {
     "end_time": "2018-02-26T13:04:57.871457Z",
     "start_time": "2018-02-26T13:04:57.551030Z"
    }
   },
   "outputs": [
    {
     "name": "stdout",
     "output_type": "stream",
     "text": [
      "146955\n"
     ]
    }
   ],
   "source": [
    "times = 0\n",
    "for n in N():\n",
    "    if F.otype.v(n) != 'sign':\n",
    "        continue\n",
    "    times += 1\n",
    "print(times)"
   ]
  },
  {
   "cell_type": "markdown",
   "metadata": {},
   "source": [
    "In fact, TF makes it a bit easier to get to all sign nodes, or nodes from whatever type.\n",
    "\n",
    "We have already used the `F.feature.v(n)` idiom.\n",
    "But you can do more with features, beyond fetching particular values.\n",
    "\n",
    "You can also retrieve the sequence of nodes that support a particular value.\n",
    "\n",
    "We want to retrieve all nodes that support the value `sign` in their `otype` feature.\n",
    "\n",
    "Here we go, and note that we use `.s(value)` instead of `.v(node)`."
   ]
  },
  {
   "cell_type": "code",
   "execution_count": 18,
   "metadata": {
    "ExecuteTime": {
     "end_time": "2018-02-26T13:05:01.430199Z",
     "start_time": "2018-02-26T13:05:01.411943Z"
    }
   },
   "outputs": [
    {
     "data": {
      "text/plain": [
       "146955"
      ]
     },
     "execution_count": 18,
     "metadata": {},
     "output_type": "execute_result"
    }
   ],
   "source": [
    "signs = F.otype.s('sign')\n",
    "len(signs)"
   ]
  },
  {
   "cell_type": "markdown",
   "metadata": {},
   "source": [
    "Signs have a feature `grapheme`, filled with the name of the sign, without variants (allographs), modifiers, and flags. Let's see the first 20 graphemes."
   ]
  },
  {
   "cell_type": "code",
   "execution_count": 19,
   "metadata": {
    "ExecuteTime": {
     "end_time": "2018-02-26T13:05:04.141394Z",
     "start_time": "2018-02-26T13:05:04.122311Z"
    }
   },
   "outputs": [
    {
     "name": "stdout",
     "output_type": "stream",
     "text": [
      " 1 : \n",
      " 2 : \n",
      " 3 : …\n",
      " 4 : X\n",
      " 5 : X\n",
      " 6 : N14\n",
      " 7 : X\n",
      " 8 : SANGA\n",
      " 9 : …\n",
      "10 : \n",
      "11 : \n",
      "12 : X\n",
      "13 : X\n",
      "14 : X\n",
      "15 : X\n",
      "16 : X\n",
      "17 : X\n",
      "18 : X\n",
      "19 : X\n",
      "20 : X\n"
     ]
    }
   ],
   "source": [
    "for sign in signs[0:20]:\n",
    "    print(f'{sign:>2} : {F.grapheme.v(sign)}')"
   ]
  },
  {
   "cell_type": "markdown",
   "metadata": {},
   "source": [
    "A few things to note:\n",
    "\n",
    "* there are empty signs\n",
    "* there is the sign `…`\n",
    "\n",
    "During conversion, we have put empty signs in metadata lines and rulings.\n",
    "That is the mechanism by which TF knows where in the corpus they are positioned.\n",
    "They do not belong to the material that corresponds to tablet content, except maybe in the\n",
    "case of rulings.\n",
    "\n",
    "The sign `…` originates from `...` in transcriptions, which is mostly surrounded by\n",
    "`[ ]`. The brackets signify uncertainty, and can be put around other signs as well,\n",
    "even sequences of signs. These brackets denote *clusters*, a node type that we will encounter\n",
    "later.\n",
    "\n",
    "So, the expression `[...]` in the source translates to a *cluster* in TF, with just one\n",
    "sign in it, which has *grapheme* value `…`. \n",
    "Of course, this is not a real grapheme, and it will be easy to weed out such graphemes if\n",
    "you do not need to take them into account. "
   ]
  },
  {
   "cell_type": "markdown",
   "metadata": {},
   "source": [
    "### Particular signs\n",
    "\n",
    "Suppose we want to get all occurrences of the grapheme `SANGA`.\n",
    "\n",
    "We can use the same trick as for getting the `signs`: we ask for the nodes that support\n",
    "the value `SANGA` in their `grapheme` feature."
   ]
  },
  {
   "cell_type": "code",
   "execution_count": 20,
   "metadata": {
    "ExecuteTime": {
     "end_time": "2018-02-26T13:05:08.970226Z",
     "start_time": "2018-02-26T13:05:08.934857Z"
    }
   },
   "outputs": [
    {
     "data": {
      "text/plain": [
       "747"
      ]
     },
     "execution_count": 20,
     "metadata": {},
     "output_type": "execute_result"
    }
   ],
   "source": [
    "sangas = F.grapheme.s('SANGA')\n",
    "len(sangas)"
   ]
  },
  {
   "cell_type": "markdown",
   "metadata": {},
   "source": [
    "As an example of what you can do with such a set, let's pick only those SANGAs that\n",
    "do not have a variant. We want `SANGA`, but not `SANGA~a`."
   ]
  },
  {
   "cell_type": "code",
   "execution_count": 21,
   "metadata": {
    "ExecuteTime": {
     "end_time": "2018-02-26T13:05:11.839839Z",
     "start_time": "2018-02-26T13:05:11.821145Z"
    }
   },
   "outputs": [
    {
     "data": {
      "text/plain": [
       "0"
      ]
     },
     "execution_count": 21,
     "metadata": {},
     "output_type": "execute_result"
    }
   ],
   "source": [
    "pureSangas = [s for s in sangas if F.variant.v(s) is None]\n",
    "len(pureSangas)"
   ]
  },
  {
   "cell_type": "markdown",
   "metadata": {},
   "source": [
    "Ah, all sangas are with variant (allograph) in this corpus. Are they all `~a`?"
   ]
  },
  {
   "cell_type": "code",
   "execution_count": 22,
   "metadata": {
    "ExecuteTime": {
     "end_time": "2018-02-26T13:05:14.601959Z",
     "start_time": "2018-02-26T13:05:14.584107Z"
    }
   },
   "outputs": [
    {
     "data": {
      "text/plain": [
       "729"
      ]
     },
     "execution_count": 22,
     "metadata": {},
     "output_type": "execute_result"
    }
   ],
   "source": [
    "aSangas = [s for s in sangas if F.variant.v(s) == 'a']\n",
    "len(aSangas)"
   ]
  },
  {
   "cell_type": "markdown",
   "metadata": {},
   "source": [
    "Not all of them, let's see what other variants occur:"
   ]
  },
  {
   "cell_type": "code",
   "execution_count": 23,
   "metadata": {
    "ExecuteTime": {
     "end_time": "2018-02-26T13:05:16.955416Z",
     "start_time": "2018-02-26T13:05:16.925907Z"
    }
   },
   "outputs": [
    {
     "name": "stdout",
     "output_type": "stream",
     "text": [
      " 65752 SANGA~b\n",
      "122525 SANGA~b\n",
      "122536 SANGA~b\n",
      "122577 SANGA~b\n",
      "122593 SANGA~b\n",
      "123008 SANGA~b\n",
      "123011 SANGA~b\n",
      "123019 SANGA~b\n",
      "123025 SANGA~b\n",
      "123052 SANGA~b\n",
      "124094 SANGA~b\n",
      "124783 SANGA~b\n",
      "127407 SANGA~b\n",
      "133550 SANGA~b\n",
      "133681 SANGA~c\n",
      "135991 SANGA~b\n",
      "138239 SANGA~b\n",
      "142282 SANGA~c\n",
      "All variants: b, c\n"
     ]
    }
   ],
   "source": [
    "sangaVariants = set()\n",
    "otherSangas = []\n",
    "\n",
    "for s in sangas:\n",
    "    if s not in aSangas:\n",
    "        otherSangas.append(s)\n",
    "        variant = F.variant.v(s)\n",
    "        sangaVariants.add(variant)\n",
    "        print(f'{s:>6} SANGA~{variant}')\n",
    "print(f'All variants: {\", \".join(sorted(sangaVariants))}')"
   ]
  },
  {
   "cell_type": "markdown",
   "metadata": {},
   "source": [
    "### From instance to context\n",
    "\n",
    "We want to know where those other SANGA variants are.\n",
    "\n",
    "Earlier we saw how we could get nodes if we knew the section.\n",
    "Here we need the opposite. We know a few nodes, and want to get the section.\n",
    "TF has a function for that:"
   ]
  },
  {
   "cell_type": "code",
   "execution_count": 24,
   "metadata": {
    "ExecuteTime": {
     "end_time": "2018-02-26T13:05:21.135367Z",
     "start_time": "2018-02-26T13:05:21.114998Z"
    }
   },
   "outputs": [
    {
     "name": "stdout",
     "output_type": "stream",
     "text": [
      "('P273433', 'obverse:2', '3')\n",
      "('P000884', 'obverse:1', '2')\n",
      "('P000884', 'obverse:2', '1')\n",
      "('P000886', 'obverse:2', '2')\n",
      "('P000888', 'obverse:1', '1')\n",
      "('P000958', 'obverse:2', '3')\n",
      "('P000958', 'obverse:2', '4')\n",
      "('P000958', 'obverse:2', '7')\n",
      "('P000958', 'obverse:3', '2')\n",
      "('P000958', 'obverse:5', '2')\n",
      "('P001078', 'obverse:2', '2')\n",
      "('P001161', 'obverse:1', '1')\n",
      "('P001377', 'obverse:3', '3')\n",
      "('P002079', 'obverse:1', '1')\n",
      "('P002207', 'obverse:1', '1')\n",
      "('P003233', 'obverse:2', '2')\n",
      "('P000121', 'obverse:2', '3')\n",
      "('P003454', 'obverse:2', '2')\n"
     ]
    }
   ],
   "source": [
    "for s in otherSangas:\n",
    "    print(T.sectionFromNode(s))"
   ]
  },
  {
   "cell_type": "markdown",
   "metadata": {},
   "source": [
    "If we want to see the source code line of these sangas, we can do it by what we have learned so far:"
   ]
  },
  {
   "cell_type": "code",
   "execution_count": 25,
   "metadata": {
    "ExecuteTime": {
     "end_time": "2018-02-26T13:05:24.340969Z",
     "start_time": "2018-02-26T13:05:24.322266Z"
    }
   },
   "outputs": [
    {
     "name": "stdout",
     "output_type": "stream",
     "text": [
      "53330: 3.b. 2(N14) 6(N01) , SANGA~b? \n",
      " 1292: 2. 2(N01) , SANGA~b MA\n",
      " 1296: 1. 1(N01)# , X SANGA~b#?\n",
      " 1322: 2. 1(N01)# , ZATU713# SANGA~b#\n",
      " 1339: 1. [...] 2(N01)# , HASZHUR# SANGA~b# [...]\n",
      " 1786: 3. 1(N01) , UMUN2# SANGA~b#\n",
      " 1787: 4. 1(N01) , ZATU678# SANGA~b?\n",
      " 1790: 7. 1(N01) , SUG5 SANGA~b\n",
      " 1793: 2. 1(N01) , BU~a SANGA~b\n",
      " 1807: 2. 1(N01)# , SANGA~b#\n",
      " 2687: 2. 3(N01)# [...] , SANGA~b# KUR@g~a# [...]\n",
      " 3280: 1. [...] 3(N01)# , SANGA~b\n",
      " 5564: 3. [...] 1(N01) , SANGA~b#\n",
      "10490: 1. 2(N14)#? , SANGA~b\n",
      "10622: 1. , SANGA~c GIR3~b DUB~c\n",
      "12763: 2. 1(N52)# , SANGA~b\n",
      "14583: 3'. , SANGA~b? IB~b \n",
      "18084: 2. 1(N34) , SANGA~c 1(N58)\n"
     ]
    }
   ],
   "source": [
    "for s in otherSangas:\n",
    "    for case in L.u(s, otype='case'):\n",
    "        srcLine = F.srcLn.v(case)\n",
    "        if srcLine is not None:\n",
    "            print(f'{F.srcLnNum.v(case):>5}: {srcLine}')"
   ]
  },
  {
   "cell_type": "markdown",
   "metadata": {},
   "source": [
    "### Frequency list\n",
    "\n",
    "TF has a standard function that generates a frequency list for any feature of your choice.\n",
    "\n",
    "Let's do the modifiers (`@`*mod*):"
   ]
  },
  {
   "cell_type": "code",
   "execution_count": 26,
   "metadata": {
    "ExecuteTime": {
     "end_time": "2018-02-26T13:05:28.545619Z",
     "start_time": "2018-02-26T13:05:28.528605Z"
    }
   },
   "outputs": [
    {
     "data": {
      "text/plain": [
       "(('g', 648), ('t', 251), ('n', 39), ('r', 6), ('s', 4), ('c', 1), ('v', 1))"
      ]
     },
     "execution_count": 26,
     "metadata": {},
     "output_type": "execute_result"
    }
   ],
   "source": [
    "F.modifier.freqList()"
   ]
  },
  {
   "cell_type": "markdown",
   "metadata": {},
   "source": [
    "The result is a tuple of tuples (*modifier*, *amount of occurrences*), ordered in decreasing frequency.\n",
    "We can print the list a bit more neatly as follows:"
   ]
  },
  {
   "cell_type": "code",
   "execution_count": 27,
   "metadata": {
    "ExecuteTime": {
     "end_time": "2018-02-26T13:05:32.310563Z",
     "start_time": "2018-02-26T13:05:32.291814Z"
    }
   },
   "outputs": [
    {
     "name": "stdout",
     "output_type": "stream",
     "text": [
      " 648 x g\n",
      " 251 x t\n",
      "  39 x n\n",
      "   6 x r\n",
      "   4 x s\n",
      "   1 x c\n",
      "   1 x v\n"
     ]
    }
   ],
   "source": [
    "for (value, amount) in F.modifier.freqList():\n",
    "    print(f'{amount:>4} x {value}')"
   ]
  },
  {
   "cell_type": "markdown",
   "metadata": {},
   "source": [
    "Note that you can call this for any feature.\n",
    "So let us do it for graphemes. Note that we get a frequency list for the bare graphemes, ignoring\n",
    "variants and modifiers. So maybe this is not that useful.\n",
    "\n",
    "Before we print out the complete list, let's make sure the list is not forbiddingly long.\n",
    "Or rather, let us print only the top twenty."
   ]
  },
  {
   "cell_type": "code",
   "execution_count": 28,
   "metadata": {
    "ExecuteTime": {
     "end_time": "2018-02-26T13:05:35.352211Z",
     "start_time": "2018-02-26T13:05:35.236899Z"
    }
   },
   "outputs": [
    {
     "name": "stdout",
     "output_type": "stream",
     "text": [
      "29618 x …\n",
      "21676 x N01\n",
      "17128 x \n",
      "6956 x X\n",
      "5924 x N14\n",
      "1970 x EN\n",
      "1846 x N57\n",
      "1835 x N34\n",
      "1349 x SZE\n",
      "1241 x GAL\n",
      "1125 x DUG\n",
      "1069 x AN\n",
      "1046 x U4\n",
      " 892 x NUN\n",
      " 881 x SAL\n",
      " 879 x PAP\n",
      " 877 x E2\n",
      " 875 x GI\n",
      " 788 x BA\n",
      " 747 x SANGA\n"
     ]
    }
   ],
   "source": [
    "for (value, amount) in F.grapheme.freqList()[0:20]:\n",
    "    print(f'{amount:>4} x {value}')"
   ]
  },
  {
   "cell_type": "markdown",
   "metadata": {},
   "source": [
    "## Structures\n",
    "\n",
    "Some node types represent things with a nested structure. We have seen *quads* above,\n",
    "an other example are *clusters* of quads. Clusters are called *brackets* in the\n",
    "[Oracc primer](http://oracc.museum.upenn.edu/doc/help/editinginatf/primer/inlinetutorial/index.html).\n",
    "\n",
    "In TF, we have two mechanisms to specify that something is a part of an other thing.\n",
    "One we have already encountered: `L.d(`*node*`)`, which gives you the nodes of all things whose signs\n",
    "are contained in the signs belonging to *node*.\n",
    "\n",
    "But for some purposes this is to coarse.\n",
    "Consider the complex quad we encountered before:\n",
    "\n",
    "```\n",
    "|SZU2.((HI+1(N57))+(HI+1(N57)))|\n",
    "```\n",
    "\n",
    "This quad has sub-quads `SZU2`, `(HI+1(N57))+(HI+1(N57))`, and the last one\n",
    "has sub-quads `HI+1(N57)` and `HI+1(N57)`, which have in turn sub-quads `HI` and `1(N57)`.\n",
    "\n",
    "If we only look at embedding, it is a bit awkward to produce the sub-quads per level, because\n",
    "if we ask for all sub-quads embedded in the outer quad, we'll get all sub-quads mentioned, regardless\n",
    "of level. \n",
    "\n",
    "So we need an extra device, and TF offers a very generic one for this: *edge features*.\n",
    "\n",
    "Whereas the *features* we have seen so far, such as `otype`, `grapheme`, and `variant`\n",
    "annotate nodes, there are also features that annotate pairs of nodes.\n",
    "A pair of nodes is called an *edge*, and indicates that there is a relationship between nodes.\n",
    "Edge features give these relationships a name, and can annotate the relationships as well.\n",
    "\n",
    "We could use edge features to relate lines to other, similar lines in the corpus, and annotate it\n",
    "with the degree of similarity.\n",
    "\n",
    "In the case of quads and clusters, we have generated edges in TF between clusters and their components,\n",
    "and between quads and their components."
   ]
  },
  {
   "cell_type": "markdown",
   "metadata": {},
   "source": [
    "### Quads\n",
    "\n",
    "The components of quads are either sub-quads or signs.\n",
    "Sub-quads are also quads in TF, and they are always a composition.\n",
    "Whenever a member of a sub-quad is no longer a composition, it is a *sign*.\n",
    "\n",
    "Let's try to unravel the structure of this example quad by TF means.\n",
    "\n",
    "#### Getting a big quad\n",
    "First we need to get the node of this quad. Above we have seen the source code of the tablet in which\n",
    "it occurs, from that we can pick the node of the case it is in:"
   ]
  },
  {
   "cell_type": "code",
   "execution_count": 29,
   "metadata": {
    "ExecuteTime": {
     "end_time": "2018-02-26T13:05:40.325022Z",
     "start_time": "2018-02-26T13:05:40.307939Z"
    }
   },
   "outputs": [
    {
     "data": {
      "text/plain": [
       "257531"
      ]
     },
     "execution_count": 29,
     "metadata": {},
     "output_type": "execute_result"
    }
   ],
   "source": [
    "line = T.nodeFromSection(('P005381', 'obverse:2', '1'))\n",
    "line"
   ]
  },
  {
   "cell_type": "markdown",
   "metadata": {},
   "source": [
    "Note, that in order to specify a column, you have to specify it as *face type*`:`*column number*"
   ]
  },
  {
   "cell_type": "code",
   "execution_count": 30,
   "metadata": {
    "ExecuteTime": {
     "end_time": "2018-02-26T13:05:43.283586Z",
     "start_time": "2018-02-26T13:05:43.267573Z"
    }
   },
   "outputs": [
    {
     "data": {
      "text/plain": [
       "'1. 3(N04) , |GISZ.TE| GAR |SZU2.((HI+1(N57))+(HI+1(N57)))| GI4~a'"
      ]
     },
     "execution_count": 30,
     "metadata": {},
     "output_type": "execute_result"
    }
   ],
   "source": [
    "case = L.d(line, otype='case')[0]\n",
    "F.srcLn.v(case)"
   ]
  },
  {
   "cell_type": "markdown",
   "metadata": {},
   "source": [
    "In order to identify our super-quad, we list all quad nodes that are part of this case.\n",
    "For every quad we list the node numbers of the signs contained in it.\n",
    "\n",
    "In order to know what signs are contained in any given node, we use the feature `oslots`.\n",
    "Like the feature `otype`, this is a standard feature that is always available in a TF dataset.\n",
    "\n",
    "Unlike `otype`, `oslots` is an edge feature: there is an edge between every node and every slot contained in it.\n",
    "\n",
    "Whereas you use `F` to do stuff with node features, you use `E` to do business with edge features.\n",
    "\n",
    "And whereas you use `F.feature.v(node)` to get the feature value of a node, you use \n",
    "`E.oslots.s(node)` to get the nodes for which there is an `oslots` edge from `node` to it."
   ]
  },
  {
   "cell_type": "code",
   "execution_count": 31,
   "metadata": {
    "ExecuteTime": {
     "end_time": "2018-02-26T13:05:47.701535Z",
     "start_time": "2018-02-26T13:05:47.685143Z"
    }
   },
   "outputs": [
    {
     "name": "stdout",
     "output_type": "stream",
     "text": [
      "149987 (111485, 111486)\n",
      "149988 (111488, 111489, 111490, 111491, 111492)\n",
      "149989 (111489, 111490, 111491, 111492)\n",
      "149990 (111489, 111490)\n",
      "149991 (111491, 111492)\n"
     ]
    }
   ],
   "source": [
    "for node in L.d(case, otype='quad'):\n",
    "    print(f'{node:>6} {E.oslots.s(node)}')"
   ]
  },
  {
   "cell_type": "markdown",
   "metadata": {
    "slideshow": {
     "slide_type": "subslide"
    }
   },
   "source": [
    "On the basis of this see what the biggest quad is.\n",
    "We could have been a bit more friendly to our selves by showing the actual graphemes in the quads."
   ]
  },
  {
   "cell_type": "code",
   "execution_count": 32,
   "metadata": {
    "ExecuteTime": {
     "end_time": "2018-02-26T13:05:50.604839Z",
     "start_time": "2018-02-26T13:05:50.586109Z"
    }
   },
   "outputs": [
    {
     "name": "stdout",
     "output_type": "stream",
     "text": [
      "149987 GISZ TE\n",
      "149988 SZU2 HI N57 HI N57\n",
      "149989 HI N57 HI N57\n",
      "149990 HI N57\n",
      "149991 HI N57\n"
     ]
    }
   ],
   "source": [
    "for node in L.d(case, otype='quad'):\n",
    "    print(f'{node:>6} {\" \".join(F.grapheme.v(s) for s in E.oslots.s(node))}')"
   ]
  },
  {
   "cell_type": "markdown",
   "metadata": {},
   "source": [
    "So let us get the node of the biggest quad."
   ]
  },
  {
   "cell_type": "code",
   "execution_count": 33,
   "metadata": {
    "ExecuteTime": {
     "end_time": "2018-02-26T13:05:53.243996Z",
     "start_time": "2018-02-26T13:05:53.226319Z"
    }
   },
   "outputs": [
    {
     "data": {
      "text/plain": [
       "149988"
      ]
     },
     "execution_count": 33,
     "metadata": {},
     "output_type": "execute_result"
    }
   ],
   "source": [
    "bigQuad = sorted(\n",
    "    (\n",
    "        quad \n",
    "        for quad in L.d(case, otype='quad')\n",
    "    ),\n",
    "    key = lambda q: -len(E.oslots.s(q))\n",
    ")[0]\n",
    "bigQuad"
   ]
  },
  {
   "cell_type": "markdown",
   "metadata": {},
   "source": [
    "Lo and behold, it is precisely the big quad."
   ]
  },
  {
   "cell_type": "markdown",
   "metadata": {},
   "source": [
    "#### Unraveling a quad\n",
    "\n",
    "Now we are going to retrieve its components by following edges.\n",
    "We have made `sub` edges from quads to their components.\n",
    "\n",
    "In order to follow the `sub` edges from a node, you use \n",
    "\n",
    "`E.sub.f(node)`.\n",
    "\n",
    "You can also get the `sub` edges *to* a node:\n",
    "\n",
    "`E.sub.t(node)`."
   ]
  },
  {
   "cell_type": "code",
   "execution_count": 34,
   "metadata": {
    "ExecuteTime": {
     "end_time": "2018-02-26T13:05:57.648481Z",
     "start_time": "2018-02-26T13:05:57.631620Z"
    }
   },
   "outputs": [
    {
     "data": {
      "text/plain": [
       "(111488, 149989)"
      ]
     },
     "execution_count": 34,
     "metadata": {},
     "output_type": "execute_result"
    }
   ],
   "source": [
    "E.sub.f(bigQuad)"
   ]
  },
  {
   "cell_type": "markdown",
   "metadata": {},
   "source": [
    "Let us unravel the whole structure:"
   ]
  },
  {
   "cell_type": "code",
   "execution_count": 35,
   "metadata": {
    "ExecuteTime": {
     "end_time": "2018-02-26T13:06:00.924243Z",
     "start_time": "2018-02-26T13:06:00.899357Z"
    }
   },
   "outputs": [
    {
     "data": {
      "text/plain": [
       "'<SZU2, <<HI, N57>, <HI, N57>>>'"
      ]
     },
     "execution_count": 35,
     "metadata": {},
     "output_type": "execute_result"
    }
   ],
   "source": [
    "def unravelQuad(quad):\n",
    "    if F.otype.v(quad) == 'sign':\n",
    "        return F.grapheme.v(quad)\n",
    "    subQuads = E.sub.f(quad)\n",
    "    unraveledSubQuads = [unravelQuad(subQuad) for subQuad in subQuads]\n",
    "    return f'<{\", \".join(unraveledSubQuads)}>'\n",
    "\n",
    "unravelQuad(bigQuad)"
   ]
  },
  {
   "cell_type": "markdown",
   "metadata": {},
   "source": [
    "Later we see how we can get the exact representation of this quad back, including the operators `.` and `+`."
   ]
  },
  {
   "cell_type": "markdown",
   "metadata": {},
   "source": [
    "#### Collecting quads by depth\n",
    "\n",
    "We want to sort all complex quads by the depth of their structure.\n",
    "In order to do that, we first write a function that computes the depth of a quad.\n",
    "\n",
    "The idea of that function is:\n",
    "* if a quad does not have sub-quads (only signs as members), its depth is 1;\n",
    "* the depth of a quad is 1 more than the maximum of the depths of its sub-quads."
   ]
  },
  {
   "cell_type": "code",
   "execution_count": 36,
   "metadata": {
    "ExecuteTime": {
     "end_time": "2018-02-26T13:06:04.887033Z",
     "start_time": "2018-02-26T13:06:04.868252Z"
    }
   },
   "outputs": [],
   "source": [
    "def depthQuad(quad):\n",
    "    subDepths = [\n",
    "        depthQuad(subQuad) \n",
    "        for subQuad in E.sub.f(quad) \n",
    "        if F.otype.v(subQuad) == 'quad'\n",
    "    ]\n",
    "    if len(subDepths) == 0:\n",
    "        return 1\n",
    "    else:\n",
    "        return max(subDepths) + 1"
   ]
  },
  {
   "cell_type": "markdown",
   "metadata": {},
   "source": [
    "Here is the depth of the big quad:"
   ]
  },
  {
   "cell_type": "code",
   "execution_count": 37,
   "metadata": {
    "ExecuteTime": {
     "end_time": "2018-02-26T13:06:07.720356Z",
     "start_time": "2018-02-26T13:06:07.705155Z"
    }
   },
   "outputs": [
    {
     "data": {
      "text/plain": [
       "3"
      ]
     },
     "execution_count": 37,
     "metadata": {},
     "output_type": "execute_result"
    }
   ],
   "source": [
    "depthQuad(bigQuad)"
   ]
  },
  {
   "cell_type": "markdown",
   "metadata": {},
   "source": [
    "#### Distribution of quads by depth\n",
    "\n",
    "We want to know how many quads there are, how deeply composed they get, and how often deep compositions\n",
    "occur.\n",
    "\n",
    "This is the recipe:\n",
    "we visit all quads, examine their depths, and tally the appropriate depth."
   ]
  },
  {
   "cell_type": "code",
   "execution_count": 38,
   "metadata": {
    "ExecuteTime": {
     "end_time": "2018-02-26T13:06:11.122569Z",
     "start_time": "2018-02-26T13:06:11.079588Z"
    }
   },
   "outputs": [
    {
     "name": "stdout",
     "output_type": "stream",
     "text": [
      " 3735 x depth 1\n",
      "  170 x depth 2\n",
      "    1 x depth 3\n"
     ]
    }
   ],
   "source": [
    "depthDistribution = collections.Counter()\n",
    "\n",
    "for quad in F.otype.s('quad'):\n",
    "    depth = depthQuad(quad)\n",
    "    depthDistribution[depth] += 1\n",
    "    \n",
    "for (depth, amount) in sorted(\n",
    "    depthDistribution.items(),\n",
    "    key=lambda x: (-x[1], x[0]),\n",
    "):\n",
    "    print(f'{amount:>5} x depth {depth}')"
   ]
  },
  {
   "cell_type": "markdown",
   "metadata": {},
   "source": [
    "It turns out we had spotted the deepest quad already.\n",
    "Let's finish off by looking which tablets show how many quads with depth >= 2.\n",
    "\n",
    "The code is much like above, but now we do not tally the depth of a quad, but the tablet\n",
    "it occurs in."
   ]
  },
  {
   "cell_type": "code",
   "execution_count": 39,
   "metadata": {
    "ExecuteTime": {
     "end_time": "2018-02-26T13:06:14.316925Z",
     "start_time": "2018-02-26T13:06:14.276391Z"
    }
   },
   "outputs": [],
   "source": [
    "tabletQuad = collections.Counter()\n",
    "\n",
    "for quad in F.otype.s('quad'):\n",
    "    depth = depthQuad(quad)\n",
    "    if depth >= 2:\n",
    "        tablet = L.u(quad, otype='tablet')[0]\n",
    "        tabletQuad[tablet] += 1"
   ]
  },
  {
   "cell_type": "markdown",
   "metadata": {},
   "source": [
    "Before we look at the output, let us sort the tablets found on decreasing amount of complex quads:"
   ]
  },
  {
   "cell_type": "code",
   "execution_count": 40,
   "metadata": {
    "ExecuteTime": {
     "end_time": "2018-02-26T13:06:17.744138Z",
     "start_time": "2018-02-26T13:06:17.728282Z"
    }
   },
   "outputs": [],
   "source": [
    "tabletQuadList = sorted(\n",
    "    tabletQuad,\n",
    "    key=lambda t: (-tabletQuad[t], t),\n",
    ")"
   ]
  },
  {
   "cell_type": "markdown",
   "metadata": {},
   "source": [
    "We are not interested in tablets with just one complex quad.\n",
    "\n",
    "We collect the tablets by their node, but when we output the results, we\n",
    "want to show the tablet's number, which is stored in the feature `catalogId`."
   ]
  },
  {
   "cell_type": "code",
   "execution_count": 41,
   "metadata": {
    "ExecuteTime": {
     "end_time": "2018-02-26T13:06:20.509451Z",
     "start_time": "2018-02-26T13:06:20.486683Z"
    }
   },
   "outputs": [
    {
     "name": "stdout",
     "output_type": "stream",
     "text": [
      "    6 complex quads in tablet P212396\n",
      "    6 complex quads in tablet P003520\n",
      "    6 complex quads in tablet P003809\n",
      "    4 complex quads in tablet P005152\n",
      "    3 complex quads in tablet P003591\n",
      "    3 complex quads in tablet P471693\n",
      "    3 complex quads in tablet P006378\n",
      "    3 complex quads in tablet P325754\n",
      "    3 complex quads in tablet P235782\n",
      "    3 complex quads in tablet P005323\n",
      "    2 complex quads in tablet P003528\n",
      "    2 complex quads in tablet P004846\n",
      "    2 complex quads in tablet P004893\n",
      "    2 complex quads in tablet P000440\n",
      "    2 complex quads in tablet P000468\n",
      "    2 complex quads in tablet P000514\n",
      "    2 complex quads in tablet P000157\n",
      "    2 complex quads in tablet P000441\n",
      "    2 complex quads in tablet P000442\n",
      "    2 complex quads in tablet P002820\n",
      "    2 complex quads in tablet P003768\n",
      "    2 complex quads in tablet P003613\n",
      "    2 complex quads in tablet P006038\n",
      "    2 complex quads in tablet P005093\n",
      "    2 complex quads in tablet P005188\n",
      "    2 complex quads in tablet P005317\n",
      "    2 complex quads in tablet P005332\n",
      "    2 complex quads in tablet P005381\n",
      "    2 complex quads in tablet P005474\n",
      "    2 complex quads in tablet P003527\n",
      "    2 complex quads in tablet P003578\n",
      "    2 complex quads in tablet P001412\n",
      "    2 complex quads in tablet P003251\n",
      "    2 complex quads in tablet P004112\n",
      "    1 complex quad  in 83 other tablets\n"
     ]
    }
   ],
   "source": [
    "singles = 0\n",
    "\n",
    "for tablet in tabletQuadList:\n",
    "    amount = tabletQuad[tablet]\n",
    "    if amount == 1:\n",
    "        singles += 1\n",
    "    else:\n",
    "        print(f'{amount:>5} complex quads in tablet {F.catalogId.v(tablet)}')\n",
    "print(f'{1:>5} complex quad  in {singles} other tablets')"
   ]
  },
  {
   "cell_type": "markdown",
   "metadata": {},
   "source": [
    "And, for the record, we'll have a look at the source code of one of the tablets at the top of the list.\n",
    "We have already defined a function `getSource(tablet)` above, which comes in handy here. "
   ]
  },
  {
   "cell_type": "code",
   "execution_count": 44,
   "metadata": {
    "ExecuteTime": {
     "end_time": "2018-02-26T13:09:27.024415Z",
     "start_time": "2018-02-26T13:09:27.004251Z"
    }
   },
   "outputs": [
    {
     "name": "stdout",
     "output_type": "stream",
     "text": [
      "&P212396 = CDLB 2003/4 \n",
      "#atf: lang qpc \n",
      "@obverse \n",
      "1.a. 8(N01)# , GAR |U4x2(N57)| AB~a \n",
      "1.a. 8(N01)# , GAR |U4x2(N57)| AB~a \n",
      "1.b. 1(N28) , |U4x1(N57)| SZE~a \n",
      "1.c. 2(N39~a) 1(N24) , |U4.1(N14)| SZE~a \n",
      "1.d1. 1(N01)# [...] , [...] SZE~a \n",
      "1.d2. 4(N14)# , X [...] \n",
      "2.a. 1(N14) , |U4x1(N01)| |LAGAB~axSZITA~a1| PAP~a#? \n",
      "2.b. 1(N24) , |U4x1(N57)| \n",
      "2.c. 1(N04) 1(N01) 1(N41) 1(N39~a) , |U4x(1(N14).2(N01))|# [...] \n",
      "3.a. 1(N01) , X |U4x1(N01)|? GUG2#? \n",
      "3.b. 2(N41) 2(N29A~b) , |U4x(1(N14).2(N01))| \n",
      "4.a. 5(N01)#? , |U4x1(N01)|#? X \n",
      "4.b1. 2(N39~a) 1(N24) , |U4x1(N01)| \n",
      "4.b2. 1(N28)#? , SZE~a# BULUG3?# [...] \n",
      "4.c. 1(N14) 1(N01) 1(N39~a) , |U4x(1(N14).2(N01))| \n",
      "@reverse \n",
      "1.a. X? 1(N28)# , |U4x1(N57)|# SZE~a \n",
      "1.a. X? 1(N28)# , |U4x1(N57)|# SZE~a \n",
      "1.b. 2(N01)# 1(N24)# , |U4x1(N01)|# \n",
      "1.c. 4(N14)# 1(N01) 1(N39~a) , |U4x(1(N14).2(N01))|# SZE~a# \n",
      "1.d. [...] 2(N01)?# [...] , SZE~a# TAR~a 1(N30~e) \n",
      "2.a. 1(N41) , |U4x1(N01)| \n",
      "2.b. 2(N04)# 4(N41)# 2(N29~a)# , |U4x(1(N14).2(N01))| \n",
      "2.c. 1(N41) 1(N39~a) 1(N24~b) 1(N29A~b)# 1(N30~a)# [...] , [...] \n",
      "3. 5(N14)# 1(N04) 1(N24) 1(N26) 1(N31)#? , SZE~a# |U4x(1(N14).2(N01))|# \n",
      "4. KASZ~b DA~a AN AB~a |GI&GI|#? BAR?# \n"
     ]
    }
   ],
   "source": [
    "sourceLines = getSource(tabletQuadList[0])\n",
    "print('\\n'.join(sourceLines))"
   ]
  },
  {
   "cell_type": "markdown",
   "metadata": {},
   "source": [
    "### Clusters\n",
    "\n",
    "Clusters are groups of consecutive quads between brackets.\n",
    "\n",
    "Clusters can be nested.\n",
    "As with quads, we find the members of a cluster by following `sub` edges.\n",
    "\n",
    "#### Kinds of clusters\n",
    "\n",
    "In our corpus we encounter several types of brackets:\n",
    "\n",
    "* `( )a` for proper names\n",
    "* `[ ]` for uncertainty\n",
    "* `< >` for supplied material.\n",
    "\n",
    "The first thing is to get on overview of the distribution of these kinds."
   ]
  },
  {
   "cell_type": "code",
   "execution_count": 45,
   "metadata": {
    "ExecuteTime": {
     "end_time": "2018-02-26T13:09:55.207847Z",
     "start_time": "2018-02-26T13:09:55.148990Z"
    }
   },
   "outputs": [
    {
     "name": "stdout",
     "output_type": "stream",
     "text": [
      "32321 x a uncertain-cluster\n",
      "  637 x a properName-cluster\n",
      "    1 x a supplied-cluster\n"
     ]
    }
   ],
   "source": [
    "clusterKindDistribution = collections.Counter()\n",
    "\n",
    "for cluster in F.otype.s('cluster'):\n",
    "    kind = F.kind.v(cluster)\n",
    "    clusterKindDistribution[kind] += 1\n",
    "\n",
    "for (kind, amount) in sorted(\n",
    "    clusterKindDistribution.items(),\n",
    "    key=lambda x: (-x[1], x[0]),\n",
    "):\n",
    "    print(f'{amount:>5} x a {kind:>8}-cluster')"
   ]
  },
  {
   "cell_type": "markdown",
   "metadata": {},
   "source": [
    "The conversion to TF has transformed `[...]` to a cluster of one sign with grapheme `…`.\n",
    "These are trivial clusters and we want to exclude them from further analysis, so we redo the counting.\n",
    "\n",
    "First we make a sequence of all non-trivial clusters:"
   ]
  },
  {
   "cell_type": "code",
   "execution_count": 46,
   "metadata": {
    "ExecuteTime": {
     "end_time": "2018-02-26T13:09:58.872611Z",
     "start_time": "2018-02-26T13:09:58.758779Z"
    }
   },
   "outputs": [
    {
     "data": {
      "text/plain": [
       "3385"
      ]
     },
     "execution_count": 46,
     "metadata": {},
     "output_type": "execute_result"
    }
   ],
   "source": [
    "realClusters = [\n",
    "    c \n",
    "    for c in F.otype.s('cluster')\n",
    "    if (\n",
    "        F.kind.v(c) != 'uncertain' or\n",
    "        len(E.oslots.s(c)) > 1 or \n",
    "        F.grapheme.v(E.oslots.s(c)[0]) != '…'\n",
    "    )\n",
    "]\n",
    "len(realClusters)"
   ]
  },
  {
   "cell_type": "markdown",
   "metadata": {},
   "source": [
    "Now we redo the same analysis, but we start with the filtered cluster sequence."
   ]
  },
  {
   "cell_type": "code",
   "execution_count": 47,
   "metadata": {
    "ExecuteTime": {
     "end_time": "2018-02-26T13:10:01.698180Z",
     "start_time": "2018-02-26T13:10:01.664743Z"
    }
   },
   "outputs": [
    {
     "name": "stdout",
     "output_type": "stream",
     "text": [
      " 2747 x a uncertain-cluster\n",
      "  637 x a properName-cluster\n",
      "    1 x a supplied-cluster\n"
     ]
    }
   ],
   "source": [
    "clusterKindDistribution = collections.Counter()\n",
    "\n",
    "for cluster in realClusters:\n",
    "    kind = F.kind.v(cluster)\n",
    "    clusterKindDistribution[kind] += 1\n",
    "\n",
    "for (kind, amount) in sorted(\n",
    "    clusterKindDistribution.items(),\n",
    "    key=lambda x: (-x[1], x[0]),\n",
    "):\n",
    "    print(f'{amount:>5} x a {kind:>8}-cluster')"
   ]
  },
  {
   "cell_type": "markdown",
   "metadata": {},
   "source": [
    "#### Lengths of clusters\n",
    "\n",
    "How long are clusters in general?\n",
    "There are two possible ways to measure the length of a cluster:\n",
    "\n",
    "* the amount of signs it occupies;\n",
    "* the amount of top-level members it has (quads or signs)\n",
    "\n",
    "By now, the pattern to answer questions like this is becoming familiar.\n",
    "\n",
    "We express the logic in a function, that takes the way of measuring\n",
    "as a parameter.\n",
    "In that way, we can easily provide a cluster-length distribution based\n",
    "on measurements in signs and in quads."
   ]
  },
  {
   "cell_type": "code",
   "execution_count": 48,
   "metadata": {
    "ExecuteTime": {
     "end_time": "2018-02-26T13:10:05.098536Z",
     "start_time": "2018-02-26T13:10:05.077793Z"
    }
   },
   "outputs": [],
   "source": [
    "def computeDistribution(nodes, measure):\n",
    "    distribution = collections.Counter()\n",
    "\n",
    "    for node in nodes:\n",
    "        m = measure(node)\n",
    "        distribution[m] += 1\n",
    "\n",
    "    for (m, amount) in sorted(\n",
    "        distribution.items(),\n",
    "        key=lambda x: (-x[1], x[0]),\n",
    "    ):\n",
    "        print(f'{amount:>5} x a measure of {m:>8}')"
   ]
  },
  {
   "cell_type": "code",
   "execution_count": 49,
   "metadata": {
    "ExecuteTime": {
     "end_time": "2018-02-26T13:10:08.475288Z",
     "start_time": "2018-02-26T13:10:08.459026Z"
    }
   },
   "outputs": [],
   "source": [
    "def lengthInSigns(node):\n",
    "    return len(L.d(node, otype='sign'))\n",
    "\n",
    "def lengthInMembers(node):\n",
    "    return len(E.sub.f(node))"
   ]
  },
  {
   "cell_type": "markdown",
   "metadata": {},
   "source": [
    "Now we can show the length distributions of clusters by just calling `computeDistribution()`:"
   ]
  },
  {
   "cell_type": "code",
   "execution_count": 50,
   "metadata": {
    "ExecuteTime": {
     "end_time": "2018-02-26T13:10:15.184658Z",
     "start_time": "2018-02-26T13:10:15.157626Z"
    }
   },
   "outputs": [
    {
     "name": "stdout",
     "output_type": "stream",
     "text": [
      " 2691 x a measure of        1\n",
      "  434 x a measure of        2\n",
      "  205 x a measure of        3\n",
      "   41 x a measure of        4\n",
      "    9 x a measure of        5\n",
      "    3 x a measure of        6\n",
      "    2 x a measure of        7\n"
     ]
    }
   ],
   "source": [
    "computeDistribution(realClusters, lengthInSigns)"
   ]
  },
  {
   "cell_type": "code",
   "execution_count": 51,
   "metadata": {
    "ExecuteTime": {
     "end_time": "2018-02-26T13:10:20.125723Z",
     "start_time": "2018-02-26T13:10:20.100846Z"
    }
   },
   "outputs": [
    {
     "name": "stdout",
     "output_type": "stream",
     "text": [
      " 2679 x a measure of        1\n",
      "  452 x a measure of        2\n",
      "  194 x a measure of        3\n",
      "   44 x a measure of        4\n",
      "   11 x a measure of        5\n",
      "    4 x a measure of        6\n",
      "    1 x a measure of        7\n"
     ]
    }
   ],
   "source": [
    "computeDistribution(realClusters, lengthInMembers)"
   ]
  },
  {
   "cell_type": "markdown",
   "metadata": {},
   "source": [
    "If you look closely at the code for these functions, there is nothing in it that \n",
    "is specific for clusters.\n",
    "\n",
    "The measures are in terms of the totally generic `oslots` function, and the fairly generic\n",
    "`sub` edges, which are also defined for quads.\n",
    "\n",
    "So, in one go, we can obtain a length distribution of quads.\n",
    "\n",
    "Note that quads can also be sub-quads."
   ]
  },
  {
   "cell_type": "code",
   "execution_count": 52,
   "metadata": {
    "ExecuteTime": {
     "end_time": "2018-02-26T13:10:23.172350Z",
     "start_time": "2018-02-26T13:10:23.130102Z"
    }
   },
   "outputs": [
    {
     "name": "stdout",
     "output_type": "stream",
     "text": [
      " 3717 x a measure of        2\n",
      "  181 x a measure of        3\n",
      "    7 x a measure of        4\n",
      "    1 x a measure of        5\n"
     ]
    }
   ],
   "source": [
    "computeDistribution(F.otype.s('quad'), lengthInSigns)"
   ]
  },
  {
   "cell_type": "code",
   "execution_count": 53,
   "metadata": {
    "ExecuteTime": {
     "end_time": "2018-02-26T13:10:26.176403Z",
     "start_time": "2018-02-26T13:10:26.146334Z"
    }
   },
   "outputs": [
    {
     "name": "stdout",
     "output_type": "stream",
     "text": [
      " 3887 x a measure of        2\n",
      "   19 x a measure of        3\n"
     ]
    }
   ],
   "source": [
    "computeDistribution(F.otype.s('quad'), lengthInMembers)"
   ]
  },
  {
   "cell_type": "markdown",
   "metadata": {},
   "source": [
    "## Signs\n",
    "\n",
    "The main characteristic of a sign is its `grapheme`.\n",
    "Everything we do with signs, is complicated by the fact that signs can be *augmented* with\n",
    "primes, variants, modifiers and flags.\n",
    "\n",
    "Below we show how you can get frequency lists of signs, with or without taking\n",
    "augments into account."
   ]
  },
  {
   "cell_type": "markdown",
   "metadata": {},
   "source": [
    "### Writing results to file\n",
    "\n",
    "We also want to write the results to files in your `_temp` directory, within this repo.\n",
    "\n",
    "`writeFreqs` writes distribution data of data items called `dataName`\n",
    "to a file `fileName.txt`.\n",
    "In fact, it writes two files: \n",
    "* `fileName-alpha.txt`, ordered by data items\n",
    "* `fileName-freq.txt`, ordered by frequency."
   ]
  },
  {
   "cell_type": "code",
   "execution_count": 54,
   "metadata": {
    "ExecuteTime": {
     "end_time": "2018-02-26T13:14:13.509184Z",
     "start_time": "2018-02-26T13:14:13.489016Z"
    }
   },
   "outputs": [],
   "source": [
    "def writeFreqs(fileName, data, dataName):\n",
    "    print(f'There are {len(data)} {dataName}s')\n",
    "\n",
    "    for (sortName, sortKey) in (\n",
    "        ('alpha', lambda x: (x[0], -x[1])),\n",
    "        ('freq', lambda x: (-x[1], x[0])),\n",
    "    ):\n",
    "        with open(f'{TEMP_DIR}/{fileName}-{sortName}.txt', 'w') as fh:\n",
    "            for (item, freq) in sorted(data, key=sortKey):\n",
    "                if item != '':\n",
    "                    fh.write(f'{freq:>5} x {item}\\n')"
   ]
  },
  {
   "cell_type": "code",
   "execution_count": 55,
   "metadata": {
    "ExecuteTime": {
     "end_time": "2018-02-26T13:14:44.863812Z",
     "start_time": "2018-02-26T13:14:44.763706Z"
    }
   },
   "outputs": [
    {
     "name": "stdout",
     "output_type": "stream",
     "text": [
      "There are 667 bare graphemes\n"
     ]
    }
   ],
   "source": [
    "writeFreqs('grapheme-plain', F.grapheme.freqList(), 'bare grapheme')"
   ]
  },
  {
   "cell_type": "markdown",
   "metadata": {},
   "source": [
    "Now have a look at your TEMP_DIR and you see two generated files:\n",
    "\n",
    "* `graphemes-plain-alpha.txt` (sorted by grapheme)\n",
    "* `graphemes-plain-freq.txt` (sorted by frequency)\n",
    "\n",
    "But we can do better, we also want the prime, variants, and modifiers taken into account.\n",
    "\n",
    "Let us first see what they can be."
   ]
  },
  {
   "cell_type": "markdown",
   "metadata": {},
   "source": [
    "### Prime\n",
    "\n",
    "The prime is a feature with two values: 1 or 0. 1 means: there is a prime.\n",
    "Below you see how often that occurs.\n",
    "Note that we count all primes here: on signs, case numbers and column numbers.\n",
    "\n",
    "For more info and a check on the occurrences of primes, see [checks](checks.ipynb)."
   ]
  },
  {
   "cell_type": "code",
   "execution_count": 56,
   "metadata": {
    "ExecuteTime": {
     "end_time": "2018-02-26T13:15:06.239529Z",
     "start_time": "2018-02-26T13:15:06.223418Z"
    }
   },
   "outputs": [
    {
     "name": "stdout",
     "output_type": "stream",
     "text": [
      " 5184 x 1\n"
     ]
    }
   ],
   "source": [
    "for (value, frequency) in F.prime.freqList():\n",
    "    print(f'{frequency:>5} x {value}')"
   ]
  },
  {
   "cell_type": "markdown",
   "metadata": {},
   "source": [
    "### Variant\n",
    "\n",
    "The variant or *allograph* is what occurs after the grapheme and after the `~` symbol, which should be digits and/or\n",
    "lowercase letters except the `x`.\n",
    "\n",
    "Here is the frequency list of variant values."
   ]
  },
  {
   "cell_type": "code",
   "execution_count": 57,
   "metadata": {
    "ExecuteTime": {
     "end_time": "2018-02-26T13:15:09.437438Z",
     "start_time": "2018-02-26T13:15:09.397246Z"
    }
   },
   "outputs": [
    {
     "name": "stdout",
     "output_type": "stream",
     "text": [
      "23804 x a\n",
      " 4172 x b\n",
      " 1532 x c\n",
      " 1356 x a1\n",
      "  703 x b1\n",
      "  194 x a2\n",
      "  187 x d\n",
      "  127 x b2\n",
      "   85 x f\n",
      "   73 x a3\n",
      "   40 x e\n",
      "   29 x c2\n",
      "   22 x c1\n",
      "   22 x c3\n",
      "   17 x v\n",
      "   14 x c5\n",
      "   13 x b3\n",
      "   12 x a0\n",
      "   12 x d1\n",
      "   11 x c4\n",
      "    6 x a4\n",
      "    6 x g\n",
      "    5 x d2\n",
      "    4 x d4\n",
      "    4 x h\n",
      "    2 x 3a\n",
      "    2 x d3\n",
      "    1 x h2\n"
     ]
    }
   ],
   "source": [
    "for (value, frequency) in F.variant.freqList():\n",
    "    print(f'{frequency:>5} x {value}')"
   ]
  },
  {
   "cell_type": "markdown",
   "metadata": {},
   "source": [
    "### Modifier\n",
    "\n",
    "The modifier is what occurs after the grapheme and after the `@` symbol, which should be digits and/or\n",
    "lowercase letters except the `x`.\n",
    "\n",
    "Sometimes modifiers occur inside a repeat, then we have stored the modifier in the feature\n",
    "*modifierInner*, as in\n",
    "\n",
    "```\n",
    "7(N34@f)\n",
    "```\n",
    "\n",
    "Here is the frequency list of *modifier* and *modifierInner* values."
   ]
  },
  {
   "cell_type": "code",
   "execution_count": 58,
   "metadata": {
    "ExecuteTime": {
     "end_time": "2018-02-26T13:15:13.386911Z",
     "start_time": "2018-02-26T13:15:13.369300Z"
    }
   },
   "outputs": [
    {
     "name": "stdout",
     "output_type": "stream",
     "text": [
      "  648 x g\n",
      "  251 x t\n",
      "   39 x n\n",
      "    6 x r\n",
      "    4 x s\n",
      "    1 x c\n",
      "    1 x v\n"
     ]
    }
   ],
   "source": [
    "for (value, frequency) in F.modifier.freqList():\n",
    "    print(f'{frequency:>5} x {value}')"
   ]
  },
  {
   "cell_type": "code",
   "execution_count": 59,
   "metadata": {
    "ExecuteTime": {
     "end_time": "2018-02-26T13:15:15.231653Z",
     "start_time": "2018-02-26T13:15:15.212538Z"
    }
   },
   "outputs": [
    {
     "name": "stdout",
     "output_type": "stream",
     "text": [
      "   25 x f\n",
      "   15 x t\n",
      "    1 x r\n",
      "    1 x v\n"
     ]
    }
   ],
   "source": [
    "for (value, frequency) in F.modifierInner.freqList():\n",
    "    print(f'{frequency:>5} x {value}')"
   ]
  },
  {
   "cell_type": "markdown",
   "metadata": {},
   "source": [
    "### Full grapheme overview\n",
    "\n",
    "We make a frequency list of all full graphemes, i.e. the grapheme including variant, modifier, and prime.\n",
    "We show them as they appear in transcriptions.\n",
    "\n",
    "First we show on what node types primes, variants and modifiers occur.\n",
    "We only deal with cases where they occur on signs, ignoring the cases where they occur on (sub)quads."
   ]
  },
  {
   "cell_type": "code",
   "execution_count": 60,
   "metadata": {
    "ExecuteTime": {
     "end_time": "2018-02-26T13:15:19.754240Z",
     "start_time": "2018-02-26T13:15:18.772906Z"
    }
   },
   "outputs": [
    {
     "name": "stdout",
     "output_type": "stream",
     "text": [
      "prime     :  4652 x case\n",
      "prime     :   523 x column\n",
      "prime     :     9 x sign\n",
      "variant   : 32455 x sign\n",
      "modifier  :   950 x sign\n"
     ]
    }
   ],
   "source": [
    "for feature in ('prime', 'variant', 'modifier'):\n",
    "    nodeTypes = collections.Counter()\n",
    "    for n in N():\n",
    "        if Fs(feature).v(n):\n",
    "            nodeTypes[F.otype.v(n)] += 1\n",
    "    for (value, frequency) in nodeTypes.items():\n",
    "        print(f'{feature:<10}: {frequency:>5} x {value}')"
   ]
  },
  {
   "cell_type": "markdown",
   "metadata": {},
   "source": [
    "Now the write out the full grapheme distribution.\n",
    "Note that we use a new function, `atfFromSign`. We discuss this one and friends in the next section."
   ]
  },
  {
   "cell_type": "code",
   "execution_count": 62,
   "metadata": {
    "ExecuteTime": {
     "end_time": "2018-02-26T13:15:54.667297Z",
     "start_time": "2018-02-26T13:15:54.021196Z"
    }
   },
   "outputs": [
    {
     "name": "stdout",
     "output_type": "stream",
     "text": [
      "29618 x ...\n",
      "17128 x \n",
      "12996 x 1(N01)\n",
      " 6956 x X\n",
      " 3081 x 2(N01)\n",
      " 2606 x 1(N14)\n",
      " 1849 x EN~a\n",
      " 1603 x 3(N01)\n",
      " 1357 x 2(N14)\n",
      " 1308 x SZE~a\n",
      " 1304 x 5(N01)\n",
      " 1224 x GAL~a\n",
      " 1119 x 4(N01)\n",
      " 1069 x AN\n",
      " 1045 x U4\n",
      " 1001 x 1(N34)\n",
      "  881 x SAL\n",
      "  874 x GI\n",
      "  854 x PAP~a\n",
      "  801 x 1(N57)\n",
      "There are 1529 full graphemes\n"
     ]
    }
   ],
   "source": [
    "fullGraphemes = collections.Counter()\n",
    "\n",
    "for n in F.otype.s('sign'):\n",
    "    fullGrapheme = CUNEI.atfFromSign(n)\n",
    "    fullGraphemes[fullGrapheme] += 1\n",
    "    \n",
    "for (value, frequency) in sorted(fullGraphemes.items(), key=lambda x: (-x[1], x[0]))[0:20]:\n",
    "    print(f'{frequency:>5} x {value}')\n",
    "    \n",
    "writeFreqs('grapheme-full', fullGraphemes.items(), 'full grapheme')"
   ]
  },
  {
   "cell_type": "markdown",
   "metadata": {},
   "source": [
    "Have a look at your `_temp` directory."
   ]
  },
  {
   "cell_type": "markdown",
   "metadata": {},
   "source": [
    "## Representation\n",
    "\n",
    "For line based concepts, such as tablet, face, column, case, comment, you can get the source\n",
    "material by requesting the feature *srcLn*.\n",
    "\n",
    "For inline concepts, such as clusters, quads, and signs, there is no such feature, so one has\n",
    "to wind down the TF data and produce the right ASCII characters.\n",
    "However, it is not completely trivial to generate ATF representations for those entities.\n",
    "Several subtleties are involved.\n",
    "\n",
    "In order to free you (and myself) from spelling out the logic over and over again, I have bundled a\n",
    "few functions that generate ATF representations from TF data:\n",
    "\n",
    "* `atfFromSign(sign, flags=False)`\n",
    "\n",
    "  Returns the ATF representation for a sign, including primes, repeats, variants, modifiers,\n",
    "  and, optionally, flags.\n",
    "\n",
    "\n",
    "* `atfFromQuad(quad, flags=False)`\n",
    "\n",
    "  Returns the ATF representation for a quad, including variants, modifiers,\n",
    "  and, optionally, flags. For the signs belonging to this quad, the\n",
    "  `flags` argument will determine whether the flags will be represented.\n",
    "\n",
    "* `atfFromCluster(cluster)`\n",
    "\n",
    "  Returns the ATF representation for a cluster, including the brackets.\n",
    "  All quads belonging to the cluster will be represented with flags.\n",
    "  Nested clusters will also be represented.\n",
    "\n",
    "These functions have been added to Text-Fabric itself, as a submodule.\n",
    "If you have installed TF (newest version), you have to say in the beginning:\n",
    "\n",
    "```python\n",
    "from tf.cunei import Cunei\n",
    "```\n",
    "\n",
    "And then after you have loaded the TF-API (`api = ...`):\n",
    "\n",
    "```python\n",
    "CUNEI = Cunei(api)\n",
    "```\n",
    "\n",
    "And then you can use the functions:\n",
    "\n",
    "```python\n",
    "print(CUNEI.atfFromQuad(q)\n",
    "```"
   ]
  },
  {
   "cell_type": "markdown",
   "metadata": {},
   "source": [
    "Let us pick a sign, a quad, and a cluster to represent.\n",
    "We pick them from our example tablet P005138."
   ]
  },
  {
   "cell_type": "code",
   "execution_count": 63,
   "metadata": {
    "ExecuteTime": {
     "end_time": "2018-02-26T13:37:06.504551Z",
     "start_time": "2018-02-26T13:37:06.484420Z"
    }
   },
   "outputs": [
    {
     "data": {
      "text/plain": [
       "'1. 3(N04) , |GISZ.TE| GAR |SZU2.((HI+1(N57))+(HI+1(N57)))| GI4~a'"
      ]
     },
     "execution_count": 63,
     "metadata": {},
     "output_type": "execute_result"
    }
   ],
   "source": [
    "line = T.nodeFromSection(('P005381', 'obverse:2', '1'))\n",
    "case = L.d(line, otype='case')[0]\n",
    "F.srcLn.v(case)"
   ]
  },
  {
   "cell_type": "markdown",
   "metadata": {},
   "source": [
    "Above, we stored the big quad in the variable `bigQuad`. \n",
    "Let's see what `atfFromQuad` will get from this."
   ]
  },
  {
   "cell_type": "code",
   "execution_count": 64,
   "metadata": {
    "ExecuteTime": {
     "end_time": "2018-02-26T13:38:49.491037Z",
     "start_time": "2018-02-26T13:38:49.474287Z"
    }
   },
   "outputs": [
    {
     "data": {
      "text/plain": [
       "'|SZU2.((HI+1(N57))+(HI+1(N57)))|'"
      ]
     },
     "execution_count": 64,
     "metadata": {},
     "output_type": "execute_result"
    }
   ],
   "source": [
    "CUNEI.atfFromQuad(bigQuad)"
   ]
  },
  {
   "cell_type": "markdown",
   "metadata": {},
   "source": [
    "Spot on!"
   ]
  },
  {
   "cell_type": "markdown",
   "metadata": {},
   "source": [
    "In P000736 there is a nice quad to show off with."
   ]
  },
  {
   "cell_type": "code",
   "execution_count": 70,
   "metadata": {
    "ExecuteTime": {
     "end_time": "2018-02-26T13:51:51.634544Z",
     "start_time": "2018-02-26T13:51:51.616376Z"
    }
   },
   "outputs": [
    {
     "data": {
      "text/plain": [
       "'3. 1(N14) , |(SZAxHI@g~a)~b|#?'"
      ]
     },
     "execution_count": 70,
     "metadata": {},
     "output_type": "execute_result"
    }
   ],
   "source": [
    "line = T.nodeFromSection(('P000736', 'obverse:2', '3'))\n",
    "case = [\n",
    "    case\n",
    "    for case in L.d(line, otype='case')\n",
    "    if F.fullNumber.v(case) == \"3\"\n",
    "][0]\n",
    "F.srcLn.v(case)"
   ]
  },
  {
   "cell_type": "markdown",
   "metadata": {},
   "source": [
    "We want the big quad.\n",
    "The first thing, `1(N14)`, is a simple sign, not a quad, so we need the first quad in the case."
   ]
  },
  {
   "cell_type": "code",
   "execution_count": 72,
   "metadata": {
    "ExecuteTime": {
     "end_time": "2018-02-26T13:53:21.994744Z",
     "start_time": "2018-02-26T13:53:21.980573Z"
    }
   },
   "outputs": [
    {
     "data": {
      "text/plain": [
       "'|(SZAxHI@g~a)~b|'"
      ]
     },
     "execution_count": 72,
     "metadata": {},
     "output_type": "execute_result"
    }
   ],
   "source": [
    "quad = L.d(case, otype='quad')[0]\n",
    "CUNEI.atfFromQuad(quad)"
   ]
  },
  {
   "cell_type": "markdown",
   "metadata": {},
   "source": [
    "Right. Now with flags:"
   ]
  },
  {
   "cell_type": "code",
   "execution_count": 75,
   "metadata": {
    "ExecuteTime": {
     "end_time": "2018-02-26T13:55:45.959378Z",
     "start_time": "2018-02-26T13:55:45.941394Z"
    }
   },
   "outputs": [
    {
     "data": {
      "text/plain": [
       "'|(SZAxHI@g~a)~b|#?'"
      ]
     },
     "execution_count": 75,
     "metadata": {},
     "output_type": "execute_result"
    }
   ],
   "source": [
    "CUNEI.atfFromQuad(quad, flags=True)"
   ]
  },
  {
   "cell_type": "markdown",
   "metadata": {},
   "source": [
    "Now a cluster. Let's pick one with a cluster nested in it."
   ]
  },
  {
   "cell_type": "code",
   "execution_count": 65,
   "metadata": {
    "ExecuteTime": {
     "end_time": "2018-02-26T13:42:12.616741Z",
     "start_time": "2018-02-26T13:42:12.595739Z"
    }
   },
   "outputs": [
    {
     "data": {
      "text/plain": [
       "\"2.b4'. , (IDIGNA [...])a \""
      ]
     },
     "execution_count": 65,
     "metadata": {},
     "output_type": "execute_result"
    }
   ],
   "source": [
    "line = T.nodeFromSection(('P471695', 'obverse:1', '2'))\n",
    "case = [\n",
    "    case\n",
    "    for case in L.d(line, otype='case')\n",
    "    if F.fullNumber.v(case) == \"2b4'\"\n",
    "][0]\n",
    "F.srcLn.v(case)"
   ]
  },
  {
   "cell_type": "markdown",
   "metadata": {},
   "source": [
    "Let's pick the outer cluster from this case. \n",
    "Remember that TF has order nodes so that nodes that have earlier slots\n",
    "come before nodes that have later slots."
   ]
  },
  {
   "cell_type": "code",
   "execution_count": 67,
   "metadata": {
    "ExecuteTime": {
     "end_time": "2018-02-26T13:45:28.812264Z",
     "start_time": "2018-02-26T13:45:28.791952Z"
    }
   },
   "outputs": [
    {
     "data": {
      "text/plain": [
       "'(IDIGNA [...])a'"
      ]
     },
     "execution_count": 67,
     "metadata": {},
     "output_type": "execute_result"
    }
   ],
   "source": [
    "bigCluster = L.d(case, otype='cluster')[0]\n",
    "CUNEI.atfFromCluster(bigCluster)"
   ]
  },
  {
   "cell_type": "markdown",
   "metadata": {},
   "source": [
    "## Collation\n",
    "\n",
    "We end this tutorial with a cliff hanger: collation.\n",
    "\n",
    "For the study of cuneiform corpora it is useful to know which signs co-occur: on tablets and faces,\n",
    "in columns and lines, and in cases.\n",
    "\n",
    "Here we just show how to compute collation information with respect to tablets.\n",
    "\n",
    "We refer to a future notebook [collation](collation.ipynb) that will be dedicated to the art and craft\n",
    "of collation.\n",
    "\n",
    "### TF ad\n",
    "Already the task of computing collation of signs for tablets shows a typical pattern in the modus operandi of Text-Fabric. In order to compute collation efficiently, we have to grab a significant swath of the data, and reorganise it before we can do business.\n",
    "\n",
    "**The bad news is**: Text-Fabric does not have the right organization for this particular problem.\n",
    "\n",
    "**The good news is**: You can put the data in the right order.\n",
    "\n",
    "**The best news is**: because of the IKEA-like organization of the data in TF, you can easily\n",
    "put your bits and pieces in a cart, walk outside, and stack it in new ways to your liking.\n",
    "Indeed, the bit that draws the data from TF and puts it into the required form, is only\n",
    "a few lines of code.\n",
    "\n",
    "### Back to collation\n",
    "\n",
    "This is what we do:\n",
    "\n",
    "* we collect all pairs of signs that co-occur on a tablet\n",
    "* we compute a measure of co-occurrence: \n",
    "  * closer together is better\n",
    "  * more tablets with the same co-occurence is better\n",
    "  \n",
    "We explain the steps as we go."
   ]
  },
  {
   "cell_type": "markdown",
   "metadata": {},
   "source": [
    "## End\n",
    "\n",
    "Here ends the reburbished tutorial.\n",
    "Below are fragments of the old tutorial.\n",
    "These will be gone or reworked in the final version."
   ]
  },
  {
   "cell_type": "markdown",
   "metadata": {},
   "source": [
    "# Next steps\n",
    "\n",
    "By now you have an impression how to compute around in the Hebrew Bible.\n",
    "While this is still the beginning, I hope you already sense the power of unlimited programmatic access\n",
    "to all the bits and bytes in the data set.\n",
    "\n",
    "Here are a few directions for unleashing that power.\n",
    "\n",
    "## Search\n",
    "Text-Fabric contains a flexible search engine, that does not only work for the BHSA data,\n",
    "but also for data that you add to it.\n",
    "There is a tutorial dedicated to [search](search.ipynb).\n",
    "And if you already know MQL queries, you can build from that in\n",
    "[searchFromMQL](searchFromMQL.ipynb).\n",
    "\n",
    "## Explore additional data\n",
    "The ETCBC has a few other repositories with data that work in conjunction with the BHSA data.\n",
    "One of them you have already seen: \n",
    "[phono](https://github.com/ETCBC/phono),\n",
    "for phonetic transcriptions.\n",
    "\n",
    "There is also\n",
    "[parallels](https://github.com/ETCBC/parallels)\n",
    "for detecting parallel passages,\n",
    "and\n",
    "[valence](https://github.com/ETCBC/valence)\n",
    "for studying patterns around verbs that determine their meanings.\n",
    "\n",
    "## Add your own data\n",
    "If you study the additional data, you can observe how that data is created and also\n",
    "how it is turned into a text-fabric data module.\n",
    "The last step is incredibly easy. You can write out every Python dictionary where the keys are numbers\n",
    "and the values string or numbers as a Text-Fabric feature.\n",
    "When you are creating data, you have already constructed those dictionaries, so writing\n",
    "them out is just one method call.\n",
    "See for example how the\n",
    "[flowchart](https://github.com/ETCBC/valence/blob/master/programs/flowchart.ipynb#Add-sense-feature-to-valence-module)\n",
    "notebook in valence writes out verb sense data.\n",
    "![flow](images/valence.png)\n",
    "\n",
    "You can then easily share your new features on GitHub, so that your colleagues everywhere \n",
    "can try it out for themselves."
   ]
  },
  {
   "cell_type": "markdown",
   "metadata": {},
   "source": [
    "## Export to Emdros MQL\n",
    "\n",
    "[EMDROS](http://emdros.org), written by Ulrik Petersen,\n",
    "is a text database system with the powerful *topographic* query language MQL.\n",
    "The ideas are based on a model devised by Christ-Jan Doedens in\n",
    "[Text Databases: One Database Model and Several Retrieval Languages](https://books.google.nl/books?id=9ggOBRz1dO4C).\n",
    "\n",
    "Text-Fabric's model of slots, nodes and edges is a fairly straightforward translation of the models of Christ-Jan Doedens and Ulrik Petersen.\n",
    "\n",
    "[SHEBANQ](https://shebanq.ancient-data.org) uses EMDROS to offer users to execute and save MQL queries against the Hebrew Text Database of the ETCBC.\n",
    "\n",
    "So it is kind of logical and convenient to be able to work with a Text-Fabric resource through MQL.\n",
    "\n",
    "If you have obtained an MQL dataset somehow, you can turn it into a text-fabric data set by `importMQL()`,\n",
    "which we will not show here.\n",
    "\n",
    "And if you want to export a Text-Fabric data set to MQL, that is also possible.\n",
    "\n",
    "After the `Fabric(modules=...)` call, you can call `exportMQL()` in order to save all features of the\n",
    "indicated modules into a big MQL dump, which can be imported by an EMDROS database."
   ]
  },
  {
   "cell_type": "markdown",
   "metadata": {
    "collapsed": true
   },
   "source": [
    "# Clean caches\n",
    "\n",
    "Text-Fabric pre-computes data for you, so that it can be loaded faster.\n",
    "If the original data is updated, Text-Fabric detects it, and will recompute that data.\n",
    "\n",
    "But there are cases, when the algorithms of Text-Fabric have changed, without any changes in the data, that you might\n",
    "want to clear the cache of precomputed results.\n",
    "\n",
    "There are two ways to do that:\n",
    "\n",
    "* Locate the `.tf` directory of your dataset, and remove all `.tfx` files in it.\n",
    "  This might be a bit awkward to do, because the `.tf` directory is hidden on Unix-like systems.\n",
    "* Call `TF.clearCache()`, which does exactly the same.\n",
    "\n",
    "It is not handy to execute the following cell all the time, that's why I have commented it out.\n",
    "So if you really want to clear the cache, remove the comment sign below."
   ]
  },
  {
   "cell_type": "code",
   "execution_count": null,
   "metadata": {
    "ExecuteTime": {
     "end_time": "2018-02-20T21:14:48.202043Z",
     "start_time": "2018-02-20T21:14:48.189363Z"
    }
   },
   "outputs": [],
   "source": [
    "# TF.clearCache()"
   ]
  },
  {
   "cell_type": "code",
   "execution_count": null,
   "metadata": {},
   "outputs": [],
   "source": []
  }
 ],
 "metadata": {
  "kernelspec": {
   "display_name": "Python 3",
   "language": "python",
   "name": "python3"
  },
  "language_info": {
   "codemirror_mode": {
    "name": "ipython",
    "version": 3
   },
   "file_extension": ".py",
   "mimetype": "text/x-python",
   "name": "python",
   "nbconvert_exporter": "python",
   "pygments_lexer": "ipython3",
   "version": "3.6.4"
  },
  "toc": {
   "nav_menu": {},
   "number_sections": true,
   "sideBar": true,
   "skip_h1_title": true,
   "toc_cell": true,
   "toc_position": {
    "height": "607px",
    "left": "0px",
    "right": "1123px",
    "top": "110px",
    "width": "157px"
   },
   "toc_section_display": "block",
   "toc_window_display": true
  }
 },
 "nbformat": 4,
 "nbformat_minor": 1
}
