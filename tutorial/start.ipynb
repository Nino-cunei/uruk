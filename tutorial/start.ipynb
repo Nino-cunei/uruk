{
 "cells": [
  {
   "cell_type": "markdown",
   "metadata": {
    "toc": true
   },
   "source": [
    "<h1>Table of Contents<span class=\"tocSkip\"></span></h1>\n",
    "<div class=\"toc\" style=\"margin-top: 1em;\"><ul class=\"toc-item\"><li><span><a href=\"#What-is-Text-Fabric?\" data-toc-modified-id=\"What-is-Text-Fabric?-1\"><span class=\"toc-item-num\">1&nbsp;&nbsp;</span>What is Text-Fabric?</a></span><ul class=\"toc-item\"><li><span><a href=\"#Cuneiform-tablets-in-ATF\" data-toc-modified-id=\"Cuneiform-tablets-in-ATF-1.1\"><span class=\"toc-item-num\">1.1&nbsp;&nbsp;</span>Cuneiform tablets in ATF</a></span></li><li><span><a href=\"#Text-Fabric\" data-toc-modified-id=\"Text-Fabric-1.2\"><span class=\"toc-item-num\">1.2&nbsp;&nbsp;</span>Text-Fabric</a></span></li></ul></li><li><span><a href=\"#Overview\" data-toc-modified-id=\"Overview-2\"><span class=\"toc-item-num\">2&nbsp;&nbsp;</span>Overview</a></span></li><li><span><a href=\"#More-information\" data-toc-modified-id=\"More-information-3\"><span class=\"toc-item-num\">3&nbsp;&nbsp;</span>More information</a></span></li><li><span><a href=\"#Installing-Text-Fabric\" data-toc-modified-id=\"Installing-Text-Fabric-4\"><span class=\"toc-item-num\">4&nbsp;&nbsp;</span>Installing Text-Fabric</a></span><ul class=\"toc-item\"><li><span><a href=\"#Prerequisites\" data-toc-modified-id=\"Prerequisites-4.1\"><span class=\"toc-item-num\">4.1&nbsp;&nbsp;</span>Prerequisites</a></span></li><li><span><a href=\"#TF-itself\" data-toc-modified-id=\"TF-itself-4.2\"><span class=\"toc-item-num\">4.2&nbsp;&nbsp;</span>TF itself</a></span></li><li><span><a href=\"#Cuneiform-data\" data-toc-modified-id=\"Cuneiform-data-4.3\"><span class=\"toc-item-num\">4.3&nbsp;&nbsp;</span>Cuneiform data</a></span><ul class=\"toc-item\"><li><span><a href=\"#Tip\" data-toc-modified-id=\"Tip-4.3.1\"><span class=\"toc-item-num\">4.3.1&nbsp;&nbsp;</span>Tip</a></span></li></ul></li></ul></li><li><span><a href=\"#Load-Data\" data-toc-modified-id=\"Load-Data-5\"><span class=\"toc-item-num\">5&nbsp;&nbsp;</span>Load Data</a></span></li><li><span><a href=\"#A-tour-around-the-TF-API\" data-toc-modified-id=\"A-tour-around-the-TF-API-6\"><span class=\"toc-item-num\">6&nbsp;&nbsp;</span>A tour around the TF API</a></span><ul class=\"toc-item\"><li><span><a href=\"#Sections:-tablet---column---line\" data-toc-modified-id=\"Sections:-tablet---column---line-6.1\"><span class=\"toc-item-num\">6.1&nbsp;&nbsp;</span>Sections: tablet - column - line</a></span></li><li><span><a href=\"#Navigation\" data-toc-modified-id=\"Navigation-6.2\"><span class=\"toc-item-num\">6.2&nbsp;&nbsp;</span>Navigation</a></span><ul class=\"toc-item\"><li><span><a href=\"#Source-lines\" data-toc-modified-id=\"Source-lines-6.2.1\"><span class=\"toc-item-num\">6.2.1&nbsp;&nbsp;</span>Source lines</a></span></li><li><span><a href=\"#Source-lines:-refined\" data-toc-modified-id=\"Source-lines:-refined-6.2.2\"><span class=\"toc-item-num\">6.2.2&nbsp;&nbsp;</span>Source lines: refined</a></span></li><li><span><a href=\"#Lines-and-cases\" data-toc-modified-id=\"Lines-and-cases-6.2.3\"><span class=\"toc-item-num\">6.2.3&nbsp;&nbsp;</span>Lines and cases</a></span></li><li><span><a href=\"#Line-numbers\" data-toc-modified-id=\"Line-numbers-6.2.4\"><span class=\"toc-item-num\">6.2.4&nbsp;&nbsp;</span>Line numbers</a></span></li></ul></li></ul></li><li><span><a href=\"#Mass-operations\" data-toc-modified-id=\"Mass-operations-7\"><span class=\"toc-item-num\">7&nbsp;&nbsp;</span>Mass operations</a></span><ul class=\"toc-item\"><li><span><a href=\"#Walking-all-nodes\" data-toc-modified-id=\"Walking-all-nodes-7.1\"><span class=\"toc-item-num\">7.1&nbsp;&nbsp;</span>Walking all nodes</a></span></li><li><span><a href=\"#All-signs\" data-toc-modified-id=\"All-signs-7.2\"><span class=\"toc-item-num\">7.2&nbsp;&nbsp;</span>All signs</a></span></li><li><span><a href=\"#Particular-signs\" data-toc-modified-id=\"Particular-signs-7.3\"><span class=\"toc-item-num\">7.3&nbsp;&nbsp;</span>Particular signs</a></span></li><li><span><a href=\"#From-instance-to-context\" data-toc-modified-id=\"From-instance-to-context-7.4\"><span class=\"toc-item-num\">7.4&nbsp;&nbsp;</span>From instance to context</a></span></li><li><span><a href=\"#Frequency-list\" data-toc-modified-id=\"Frequency-list-7.5\"><span class=\"toc-item-num\">7.5&nbsp;&nbsp;</span>Frequency list</a></span></li></ul></li><li><span><a href=\"#Structures\" data-toc-modified-id=\"Structures-8\"><span class=\"toc-item-num\">8&nbsp;&nbsp;</span>Structures</a></span><ul class=\"toc-item\"><li><span><a href=\"#Quads\" data-toc-modified-id=\"Quads-8.1\"><span class=\"toc-item-num\">8.1&nbsp;&nbsp;</span>Quads</a></span><ul class=\"toc-item\"><li><span><a href=\"#Getting-a-big-quad\" data-toc-modified-id=\"Getting-a-big-quad-8.1.1\"><span class=\"toc-item-num\">8.1.1&nbsp;&nbsp;</span>Getting a big quad</a></span></li><li><span><a href=\"#Unraveling-a-quad\" data-toc-modified-id=\"Unraveling-a-quad-8.1.2\"><span class=\"toc-item-num\">8.1.2&nbsp;&nbsp;</span>Unraveling a quad</a></span></li><li><span><a href=\"#Collecting-quads-by-depth\" data-toc-modified-id=\"Collecting-quads-by-depth-8.1.3\"><span class=\"toc-item-num\">8.1.3&nbsp;&nbsp;</span>Collecting quads by depth</a></span></li><li><span><a href=\"#Distribution-of-quads-by-depth\" data-toc-modified-id=\"Distribution-of-quads-by-depth-8.1.4\"><span class=\"toc-item-num\">8.1.4&nbsp;&nbsp;</span>Distribution of quads by depth</a></span></li></ul></li><li><span><a href=\"#Clusters\" data-toc-modified-id=\"Clusters-8.2\"><span class=\"toc-item-num\">8.2&nbsp;&nbsp;</span>Clusters</a></span><ul class=\"toc-item\"><li><span><a href=\"#Kinds-of-clusters\" data-toc-modified-id=\"Kinds-of-clusters-8.2.1\"><span class=\"toc-item-num\">8.2.1&nbsp;&nbsp;</span>Kinds of clusters</a></span></li><li><span><a href=\"#Lengths-of-clusters\" data-toc-modified-id=\"Lengths-of-clusters-8.2.2\"><span class=\"toc-item-num\">8.2.2&nbsp;&nbsp;</span>Lengths of clusters</a></span></li></ul></li></ul></li><li><span><a href=\"#Signs\" data-toc-modified-id=\"Signs-9\"><span class=\"toc-item-num\">9&nbsp;&nbsp;</span>Signs</a></span><ul class=\"toc-item\"><li><span><a href=\"#Writing-results-to-file\" data-toc-modified-id=\"Writing-results-to-file-9.1\"><span class=\"toc-item-num\">9.1&nbsp;&nbsp;</span>Writing results to file</a></span></li><li><span><a href=\"#Prime\" data-toc-modified-id=\"Prime-9.2\"><span class=\"toc-item-num\">9.2&nbsp;&nbsp;</span>Prime</a></span></li><li><span><a href=\"#Variant\" data-toc-modified-id=\"Variant-9.3\"><span class=\"toc-item-num\">9.3&nbsp;&nbsp;</span>Variant</a></span></li><li><span><a href=\"#Modifier\" data-toc-modified-id=\"Modifier-9.4\"><span class=\"toc-item-num\">9.4&nbsp;&nbsp;</span>Modifier</a></span></li><li><span><a href=\"#Full-grapheme-overview\" data-toc-modified-id=\"Full-grapheme-overview-9.5\"><span class=\"toc-item-num\">9.5&nbsp;&nbsp;</span>Full grapheme overview</a></span></li></ul></li><li><span><a href=\"#End\" data-toc-modified-id=\"End-10\"><span class=\"toc-item-num\">10&nbsp;&nbsp;</span>End</a></span></li><li><span><a href=\"#Search\" data-toc-modified-id=\"Search-11\"><span class=\"toc-item-num\">11&nbsp;&nbsp;</span>Search</a></span></li><li><span><a href=\"#Explore-additional-data\" data-toc-modified-id=\"Explore-additional-data-12\"><span class=\"toc-item-num\">12&nbsp;&nbsp;</span>Explore additional data</a></span></li><li><span><a href=\"#Add-your-own-data\" data-toc-modified-id=\"Add-your-own-data-13\"><span class=\"toc-item-num\">13&nbsp;&nbsp;</span>Add your own data</a></span></li><li><span><a href=\"#Export-to-Emdros-MQL\" data-toc-modified-id=\"Export-to-Emdros-MQL-14\"><span class=\"toc-item-num\">14&nbsp;&nbsp;</span>Export to Emdros MQL</a></span></li></ul></div>"
   ]
  },
  {
   "cell_type": "markdown",
   "metadata": {},
   "source": [
    "<img align=\"right\" src=\"images/quad.png\" width=\"300\"/>\n",
    "<img align=\"right\" src=\"images/tf-small.png\"/>\n",
    "\n",
    "\n",
    "# Tutorial\n",
    "\n",
    "This notebook gets you started with using\n",
    "[Text-Fabric](https://github.com/Dans-labs/text-fabric) for coding in cuneiform tablet transcriptions.\n",
    "\n",
    "## What is Text-Fabric?\n",
    "\n",
    "### Cuneiform tablets in ATF\n",
    "\n",
    "Cuneiform tablets have been transcribed in ATF files, in which the marks on a tablet are represented\n",
    "by ascii characters. The marks on a tablet have structure (they can be composed, they build cases and lines) and properties (they can be uncertain).\n",
    "\n",
    "When you search for tablet data in an ATF file, you can do so conveniently by using regular expressions.\n",
    "\n",
    "However, the ATF transcriptions have become packed with information. Not every transcriber uses ATF in the same way, and there are a few coding errors in the sources.\n",
    "\n",
    "That means that the most obvious search expressions will leave out cases. Either you live with that, or you refine your search expressions.\n",
    "\n",
    "An other issue is, that when you look for something, your search expressions must reflect the shape of not\n",
    "only your target, but also everything else. There is virtually no separation of concerns.\n",
    "\n",
    "### Text-Fabric\n",
    "\n",
    "Text-Fabric is a model for textual data with annotations that is optimized for efficient data analysis. Not only that, it also facilitates the creation of new, derived data, which can be added to the original data.\n",
    "Data combination is a feature of Text-Fabric.\n",
    "\n",
    "Text-Fabric is being used for the\n",
    "[Hebrew Bible](https://github.com/ETCBC/bhsa)\n",
    "and a large body of linguisitic annotations on top of it. The researchers of the \n",
    "[ETCBC](http://etcbc.nl) thought that a plain database is not a satisfactory text model,\n",
    "and that XML is too limited too express multiple hierarchies in a text smoothly.\n",
    "\n",
    "That's why they adopted a model by\n",
    "[Doedens](http://books.google.nl/books?id=9ggOBRz1dO4C)\n",
    "that reflects more of the essential properties of text (sequence, embedding). This model is the basis of MQL, a working text-database system.\n",
    "Text-Fabric is based on the same\n",
    "[model](https://github.com/Dans-labs/text-fabric/wiki/Data-model),\n",
    "and once the data is in Text-Fabric, it can be exported to MQL.\n",
    "\n",
    "See more on the effort of modeling the Hebrew Bible in Dirk's article\n",
    "[The Hebrew Bible as Data: Laboratory - Sharing - Experiences](https://doi.org/10.5334/bbi.18)\n",
    "\n",
    "With data in Text-Fabric, it becomes possible to build rich online interfaces on the data of ancient texts.\n",
    "For the Hebrew Bible, we have built\n",
    "[SHEBANQ](https://shebanq.ancient-data.org).\n",
    "\n",
    "Working with TF is a bit like buying from IKEA. You get your product in bits and pieces, and you assemble it yourself. TF decomposes any dataset into its components, nicely stacked per component, with every component uniquely labeled. You go to the store, make your selection, enter the warehouse, collect your parts, and, at home, assemble your product.\n",
    "\n",
    "In order to enjoy an IKEA product, you do not need to be a craftsman, but you do need to be able to handle a screw driver.\n",
    "\n",
    "In the TF world, it is the same. You do not have to be a professional programmer, but you do need to be able to program little things. A first course in Python is enough.\n",
    "\n",
    "Another parallel: in IKEA you take a package with components home, and there you assemble it. \n",
    "In TF it is likewise: you download the TF data, and then you write a little program. Inside that program you can call up the Text-Fabric tool, which act as the IKEA user manual. But your program takes control, not Text-Fabric.\n",
    "\n",
    "The best environment to enjoy Text-Fabric is in Python programs that you develop in a \n",
    "[Jupyter Notebook](http://jupyter.readthedocs.io/en/latest/).\n",
    "This tutorial is such a notebook. If you are reading it online, you see text bits and code bits,\n",
    "but you cannot execute the code bits.\n",
    "\n",
    "If you download this tutorial, and you have installed Python, Jupyter, and Text-Fabric,\n",
    "you can *execute* the code bits.\n",
    "\n",
    "## Overview\n",
    "\n",
    "* we tell you how to get Text-Fabric on your system\n",
    "* we tell you how to get a set of cuneiform tablet transcriptions on your system\n",
    "* we show how to explore the data:\n",
    "  * finding the relevant nodes\n",
    "  * moving from one place to an other\n",
    "  * collecting the relevant information\n",
    "  * perform analysis\n",
    "  * visualize your results\n",
    "\n",
    "## More information\n",
    "Chances are that a bit of reading about the underlying\n",
    "[data model](https://github.com/Dans-labs/text-fabric/wiki/Data-model)\n",
    "helps you to follow the exercises below, and vice versa.\n",
    "\n",
    "We have checked the conversion from the transcriptions to Text-Fabric extensively.\n",
    "Cruelly, you might say. You can follow the checks\n",
    "in a separate notebook [checks](checks.ipynb)."
   ]
  },
  {
   "cell_type": "markdown",
   "metadata": {},
   "source": [
    "## Installing Text-Fabric\n",
    "\n",
    "### Prerequisites\n",
    "\n",
    "You need to have Python on your system. Most systems have it out of the box,\n",
    "but alas, that is python2 and we need at least python 3.6.\n",
    "\n",
    "Install it from [python.org]() or from [Anaconda]().\n",
    "If you got it from python.org, you also have to install [Jupyter]().\n",
    "\n",
    "### TF itself\n",
    "\n",
    "```\n",
    "pip install text-fabric\n",
    "```\n",
    "\n",
    "if you have installed Python with the help of Anaconda, or\n",
    "\n",
    "```\n",
    "sudo -H pip3 install text-fabric\n",
    "```\n",
    "if you have installed Python from [python.org](https://www.python.org).\n",
    "\n",
    "###### Execute: If all this is done, the following cells can be executed."
   ]
  },
  {
   "cell_type": "code",
   "execution_count": null,
   "metadata": {
    "ExecuteTime": {
     "end_time": "2018-02-25T15:24:48.657056Z",
     "start_time": "2018-02-25T15:24:48.638254Z"
    }
   },
   "outputs": [],
   "source": [
    "%load_ext autoreload\n",
    "%autoreload 2"
   ]
  },
  {
   "cell_type": "code",
   "execution_count": null,
   "metadata": {
    "ExecuteTime": {
     "end_time": "2018-02-25T15:24:49.849004Z",
     "start_time": "2018-02-25T15:24:49.822023Z"
    }
   },
   "outputs": [],
   "source": [
    "import sys, os, collections\n",
    "from tf.fabric import Fabric\n",
    "from utils import Compare"
   ]
  },
  {
   "cell_type": "markdown",
   "metadata": {},
   "source": [
    "### Cuneiform data\n",
    "\n",
    "We have prepared a corpus of 6000 tablets, from the Uruk-III/IV period in Text-Fabric.\n",
    "We have downloaded the transcriptions from CDLI, and converted them to Text-Fabric.\n",
    "\n",
    "You can get the results from GitHub as follows.\n",
    "\n",
    "We suggest you make an appropriate directory in your home directory:\n",
    "\n",
    "```\n",
    "github/Dans-labs\n",
    "```\n",
    "\n",
    "then go to that directory in a terminal, and then say\n",
    "\n",
    "```\n",
    "git clone https://github.com/Dans-labs/Nino-cunei\n",
    "```\n",
    "\n",
    "After that your directory structure shold look like this:\n",
    "\n",
    "    your home direcectory\\\n",
    "    |                     - github\\\n",
    "    |                       |      - Dans-labs\\\n",
    "    |                       |        |         - Nino-cunei\n",
    "    \n",
    "#### Tip\n",
    "If you start computing with this tutorial, first copy its parent directory to somewhere else,\n",
    "outside your `Nino-cunei` directory.\n",
    "If you pull changes from the `Nino-cunei` repository later, your work will not be overwritten.\n",
    "Where you put your tutorial directory is up till you.\n",
    "It will work from any directory.\n",
    "\n",
    "###### Execute: it this has been done, you can execute the next cells"
   ]
  },
  {
   "cell_type": "code",
   "execution_count": null,
   "metadata": {
    "ExecuteTime": {
     "end_time": "2018-02-25T15:24:57.908032Z",
     "start_time": "2018-02-25T15:24:57.877516Z"
    }
   },
   "outputs": [],
   "source": [
    "REPO = '~/github/Dans-labs/Nino-cunei'\n",
    "SOURCE = 'uruk'\n",
    "VERSION = '0.1'\n",
    "CORPUS = f'{REPO}/tf/{SOURCE}/{VERSION}'\n",
    "SOURCE_DIR = os.path.expanduser(f'{REPO}/sources/cdli')\n",
    "TEMP_DIR = os.path.expanduser(f'{REPO}/_temp')\n",
    "TF = Fabric(locations=[CORPUS], modules=[''], silent=False )"
   ]
  },
  {
   "cell_type": "markdown",
   "metadata": {},
   "source": [
    "## Load Data\n",
    "\n",
    "The transcriptions of the tablets in their TF form is organized in a model of nodes, edges and features.\n",
    "\n",
    "The things such as tablets, faces, columns, cases, and, at the most basic level, signs, are numbered.\n",
    "The signs correspond to number 1 ... ca. 120,000, in the same order as they occur in the corpus.\n",
    "All other things are built from signs. They have number from ca 120,000 to 450,000.\n",
    "\n",
    "In TF, we call these numbers *nodes*. Like a barcode, this number gives access to a whole bunch of\n",
    "information about the corresponding object.\n",
    "\n",
    "For example, lines have a property (in TF we call it a *feature*) called `fullNumber`. \n",
    "It contains the hierarchical number found at the start of the line in the transcription.\n",
    "\n",
    "If the node for a line is `n`, we can find its hierarchical number by saying\n",
    "\n",
    "```\n",
    "F.fullNumber.v(n)\n",
    "```\n",
    "\n",
    "In words, it reads as:\n",
    "\n",
    "* `F`: I want to look up a `F`eature\n",
    "* `fullNumber`: the name of the feature\n",
    "* `.v`: I want the value of that feature\n",
    "* `(n)`: for the given node `n`\n",
    "\n",
    "Seen in this way, the data is like a gigantic spreadsheet of 450,000 rows (the nodes),\n",
    "with 30 columns (the features).\n",
    "\n",
    "There is a bit more to it, since the nodes can be grouped together in ways we will see later on.\n",
    "\n",
    "###### Execute: the next cell loads most features"
   ]
  },
  {
   "cell_type": "code",
   "execution_count": null,
   "metadata": {
    "ExecuteTime": {
     "end_time": "2018-02-25T15:25:02.132944Z",
     "start_time": "2018-02-25T15:25:00.892607Z"
    }
   },
   "outputs": [],
   "source": [
    "api = TF.load('''\n",
    "    grapheme prime repeat\n",
    "    variant variantOuter\n",
    "    modifier modifierInner modifierFirst\n",
    "    damage uncertain remarkable written\n",
    "    kind\n",
    "    period name type identifier catalogId\n",
    "    number fullNumber origNumber badNumbering\n",
    "    crossref text\n",
    "    srcLn srcLnNum\n",
    "    op sub comments''')\n",
    "api.makeAvailableIn(globals())\n",
    "COMP = Compare(api, SOURCE_DIR, TEMP_DIR)"
   ]
  },
  {
   "cell_type": "markdown",
   "metadata": {},
   "source": [
    "## A tour around the TF API\n",
    "\n",
    "We have the data of over 6000 tablets at our fingertips now. But how can we see it?\n",
    "In a meaningful way?\n",
    "\n",
    "The following tour shows you the most important parts of the Text-Fabric API.\n",
    "It is a set of functions, defined in the TF package, that you can use in your own program.\n",
    "\n",
    "This notebook itself is our current program, and we have just loaded the API.\n",
    "\n",
    "See in the next cells how we navigate to the tablets we want and pick our data from them.\n",
    "\n",
    "The full API-reference documentation is available on the\n",
    "[Text-Fabric wiki](https://github.com/Dans-labs/text-fabric/wiki/Api)."
   ]
  },
  {
   "cell_type": "markdown",
   "metadata": {},
   "source": [
    "### Sections: tablet - column - line\n",
    "\n",
    "Let's start with a single, specific tablet P448702.\n",
    "\n",
    "Here is its transcription, copied from the CDLI source.\n",
    "\n",
    "```\n",
    "&P448702 = www archaeo-auction 004 \n",
    "#atf: lang qpc \n",
    "@tablet \n",
    "@obverse \n",
    "@column 1 \n",
    "$ beginning broken \n",
    "1'. [n] , [...] KA~a \n",
    "2.a'. [n] 2(N14) 3(N01) , KASZ~b NUN~a \n",
    "2.b'. 3(N01) , KASZ~a? GI \n",
    "3'. [n] 6(N14)#? 4(N01) 2(N39~a) , X [...] \n",
    "@column 2 \n",
    "$ beginning broken \n",
    "$ blank space \n",
    "1'. , U4 |U4x1(N01)| SUKUD@inversum? NA \n",
    "@column 3 \n",
    "$ beginning broken \n",
    "$ blank space \n",
    "@reverse \n",
    "$ (not imaged) \n",
    "```"
   ]
  },
  {
   "cell_type": "markdown",
   "metadata": {},
   "source": [
    "There is a node for this tablet. How do we find it?\n",
    "\n",
    "The easiest way is to ask TF to find the node on the basis of a section specification.\n",
    "\n",
    "When we converted the transcriptions to TF, we made it so that tablets are the first\n",
    "section level, columns the second, and lines the third. \n",
    "\n",
    "In order to find the node corresponding to a section, we have to give a tuple\n",
    "`(tabletName, columnNumber, lineNumber)` to the appropriate function in TF.\n",
    "\n",
    "Here you may leave out `lineNumber` (to specify a column), or both `columnNumber` and `lineNumber` \n",
    "(to specify a tablet).\n",
    "The latter is our case here."
   ]
  },
  {
   "cell_type": "code",
   "execution_count": null,
   "metadata": {
    "ExecuteTime": {
     "end_time": "2018-02-25T15:25:47.387830Z",
     "start_time": "2018-02-25T15:25:47.363100Z"
    }
   },
   "outputs": [],
   "source": [
    "exampleTablet = T.nodeFromSection(('P448702',))\n",
    "exampleTablet"
   ]
  },
  {
   "cell_type": "markdown",
   "metadata": {},
   "source": [
    "Ok, this is the node, the barcode, as it were. It gives you access to all data we have stored of this\n",
    "tablet.\n",
    "\n",
    "One of the things we have stored for tablets, columns, and lines, is the original transcription line.\n",
    "Let's retrieve it."
   ]
  },
  {
   "cell_type": "code",
   "execution_count": null,
   "metadata": {
    "ExecuteTime": {
     "end_time": "2018-02-25T15:25:50.427453Z",
     "start_time": "2018-02-25T15:25:50.410570Z"
    }
   },
   "outputs": [],
   "source": [
    "F.srcLn.v(exampleTablet)"
   ]
  },
  {
   "cell_type": "markdown",
   "metadata": {},
   "source": [
    "This is the source line of the tablet header.\n",
    "How do we get the other source lines?"
   ]
  },
  {
   "cell_type": "markdown",
   "metadata": {},
   "source": [
    "### Navigation\n",
    "\n",
    "We'll need another concept first.\n",
    "Things on a tablet have spatial relationships. \n",
    "While the transcriptions abstract from the physical relationships, there are still a few\n",
    "important ones left: sequence and embedding.\n",
    "\n",
    "At the most basic level we have signs. \n",
    "For all other levels, TF knows exactly which signs are part of the objects of those levels.\n",
    "\n",
    "And based on that knowledge, we can travel from objects to the objects embedded in it, and back,\n",
    "and to the right and left siblings.\n",
    "\n",
    "All these functions start with `L.`, and they take a starting node as argument.\n",
    "\n",
    "* `L.d()` goes \"down\": from enbedder to embeddee;\n",
    "* `L.u()` goes \"up\": from embeddee to embedder;\n",
    "* `L.p()` goes \"previous\": to the first left sibling;\n",
    "* `L.n()` goes \"next\": to the first right sibling.\n",
    "\n",
    "We can now find all the nodes contained in the example tablet.\n",
    "When we retrieve them, we also fetch their *type*: is it a face, a column, a sign?\n",
    "The type of a node is stored in the feature `otype`. \n",
    "This feature is so central to the TF model that every TF dataset has it."
   ]
  },
  {
   "cell_type": "code",
   "execution_count": null,
   "metadata": {
    "ExecuteTime": {
     "end_time": "2018-02-25T15:25:59.321052Z",
     "start_time": "2018-02-25T15:25:59.292852Z"
    }
   },
   "outputs": [],
   "source": [
    "for child in L.d(exampleTablet):\n",
    "    print(f'{child:>6} of type {F.otype.v(child)}')"
   ]
  },
  {
   "cell_type": "markdown",
   "metadata": {},
   "source": [
    "A few things to note:\n",
    "\n",
    "* the numbers are not really important to us, only to the program.\n",
    "  soon, we will stop showing them altogether;\n",
    "* the order in which the nodes are delivered, is a natural one:\n",
    "  1. first things first, and \n",
    "  2. bigger things before the smaller things they contain."
   ]
  },
  {
   "cell_type": "markdown",
   "metadata": {},
   "source": [
    "#### Source lines\n",
    "\n",
    "So in order to find all the source lines of this tablet, we can just take all these nodes,\n",
    "see whether they have a value for feature *srcLn*, retrieve it, an print it.\n",
    "\n",
    "Let's do it, and write this as a function, i.e. a recipe that we can apply to every tablet."
   ]
  },
  {
   "cell_type": "code",
   "execution_count": null,
   "metadata": {
    "ExecuteTime": {
     "end_time": "2018-02-25T15:27:03.866803Z",
     "start_time": "2018-02-25T15:27:03.846389Z"
    }
   },
   "outputs": [],
   "source": [
    "def getSource(tablet):\n",
    "    sourceLines = []\n",
    "    sourceLines.append(F.srcLn.v(tablet))\n",
    "    for child in L.d(tablet):\n",
    "        sourceLine = F.srcLn.v(child)\n",
    "        if sourceLine:\n",
    "            sourceLines.append(sourceLine)\n",
    "    return sourceLines"
   ]
  },
  {
   "cell_type": "markdown",
   "metadata": {},
   "source": [
    "This function gets all source lines in a list.\n",
    "Let's apply it to our sample tablet, and print out the list:"
   ]
  },
  {
   "cell_type": "code",
   "execution_count": null,
   "metadata": {
    "ExecuteTime": {
     "end_time": "2018-02-25T15:27:12.577858Z",
     "start_time": "2018-02-25T15:27:12.560055Z"
    }
   },
   "outputs": [],
   "source": [
    "sourceLines = getSource(exampleTablet)\n",
    "print('\\n'.join(sourceLines))"
   ]
  },
  {
   "cell_type": "markdown",
   "metadata": {},
   "source": [
    "This is nearly the original. The only difference we spot is that we have left out\n",
    "the `@tablet` line. This has been done because the `&P` line is the true header of the\n",
    "tablet. In fact, the `@tablet` line is not consistently present in the source.\n",
    "\n",
    "As you seen, the TF data is a bit more streamlined than the source transcriptions.\n",
    "\n",
    "Let's just enjoy the new power, and get the source lines of another tablet: P005381"
   ]
  },
  {
   "cell_type": "code",
   "execution_count": null,
   "metadata": {
    "ExecuteTime": {
     "end_time": "2018-02-25T15:30:21.081815Z",
     "start_time": "2018-02-25T15:30:21.065606Z"
    }
   },
   "outputs": [],
   "source": [
    "sourceLines = getSource(\n",
    "    T.nodeFromSection(\n",
    "        ('P005381',)\n",
    "    )\n",
    ")\n",
    "print('\\n'.join(sourceLines))"
   ]
  },
  {
   "cell_type": "markdown",
   "metadata": {},
   "source": [
    "By the way, in column 2, line 1 we find a composition of three levels: \n",
    "`|SZU2.((HI+1(N57))+(HI+1(N57)))|`\n",
    "\n",
    "We call compositions of signs by means of operators such as `.` and `x` and `+` *quads*.\n",
    "They are also a node type, the first node type above the \"atomic\" sign.\n",
    "\n",
    "We'll see a lot of *quads* later on."
   ]
  },
  {
   "cell_type": "markdown",
   "metadata": {},
   "source": [
    "#### Source lines: refined\n",
    "\n",
    "If you just want the lines, and nothing else in between, you can instruct the `L.d` function to\n",
    "let through only nodes of a certain type.\n",
    "\n",
    "Let's improve the `getSource` function to give it an additional, optional argument that\n",
    "tells us the kind of object we want to see."
   ]
  },
  {
   "cell_type": "code",
   "execution_count": null,
   "metadata": {
    "ExecuteTime": {
     "end_time": "2018-02-25T15:34:16.919163Z",
     "start_time": "2018-02-25T15:34:16.891200Z"
    }
   },
   "outputs": [],
   "source": [
    "def getSource(tablet, nodeType=None):\n",
    "    sourceLines = []\n",
    "    sourceLines.append(F.srcLn.v(tablet))\n",
    "    for child in L.d(tablet, nodeType):\n",
    "        sourceLine = F.srcLn.v(child)\n",
    "        if sourceLine:\n",
    "            sourceLines.append(sourceLine)\n",
    "    return sourceLines"
   ]
  },
  {
   "cell_type": "markdown",
   "metadata": {},
   "source": [
    "If we call it without node type, we get the same results.\n",
    "\n",
    "Let's call it with `nodeType='face'`:"
   ]
  },
  {
   "cell_type": "code",
   "execution_count": null,
   "metadata": {
    "ExecuteTime": {
     "end_time": "2018-02-25T15:34:27.370945Z",
     "start_time": "2018-02-25T15:34:27.356315Z"
    }
   },
   "outputs": [],
   "source": [
    "sourceLines = getSource(exampleTablet, nodeType='face')\n",
    "print('\\n'.join(sourceLines))"
   ]
  },
  {
   "cell_type": "markdown",
   "metadata": {},
   "source": [
    "We see only the face specifiers.\n",
    "\n",
    "Now let's grab the lines: "
   ]
  },
  {
   "cell_type": "code",
   "execution_count": null,
   "metadata": {
    "ExecuteTime": {
     "end_time": "2018-02-25T15:34:34.283607Z",
     "start_time": "2018-02-25T15:34:34.265890Z"
    }
   },
   "outputs": [],
   "source": [
    "sourceLines = getSource(exampleTablet, nodeType='case')\n",
    "print('\\n'.join(sourceLines))"
   ]
  },
  {
   "cell_type": "markdown",
   "metadata": {},
   "source": [
    "#### Lines and cases\n",
    "\n",
    "Note that we actually supplied `nodeType='case'`.\n",
    "This is because we have modelled the data in such a way, that a line corresponds to all\n",
    "transcription lines in a column that start with the same number.\n",
    "Lines are divided in cases and sub-cases according to the hierarchical line numbers.\n",
    "At the lowest level of sub-case we encounter the material that belong to single\n",
    "transcription lines.\n",
    "\n",
    "Also when lines only have a single case, we will have a case embedded in the line.\n",
    "\n",
    "So *case* is the node type for the geometric divisions of lines,\n",
    "coded by the hierarchical line number."
   ]
  },
  {
   "cell_type": "markdown",
   "metadata": {},
   "source": [
    "#### Line numbers\n",
    "\n",
    "The TF data also retains the original line numbers, i.e. the line number in the file\n",
    "that contains the transcriptions.\n",
    "We do not mean the hierarchical line numbers of the cases!\n",
    "Let us once again improve the `getSource` function by \n",
    "giving it an optional argument for fetching line numbers too:"
   ]
  },
  {
   "cell_type": "code",
   "execution_count": null,
   "metadata": {
    "ExecuteTime": {
     "end_time": "2018-02-25T15:37:56.399899Z",
     "start_time": "2018-02-25T15:37:56.374914Z"
    }
   },
   "outputs": [],
   "source": [
    "def getSource(tablet, nodeType=None, lineNumbers=False):\n",
    "    sourceLines = []\n",
    "    if lineNumbers:\n",
    "        sourceLines.append(f'{F.srcLnNum.v(tablet):>5}: {F.srcLn.v(tablet)}')\n",
    "    for child in L.d(tablet, nodeType):\n",
    "        sourceLine = F.srcLn.v(child)\n",
    "        lineNumber = ''\n",
    "        if sourceLine:\n",
    "            if lineNumbers:\n",
    "                lineNumber = f'{F.srcLnNum.v(child):>5}: '\n",
    "            sourceLines.append(f'{lineNumber}{sourceLine}')\n",
    "    return sourceLines"
   ]
  },
  {
   "cell_type": "markdown",
   "metadata": {},
   "source": [
    "Now we can print the lines with source line numbers, so that we can look them up in the\n",
    "source easily:"
   ]
  },
  {
   "cell_type": "code",
   "execution_count": null,
   "metadata": {
    "ExecuteTime": {
     "end_time": "2018-02-25T15:38:17.402992Z",
     "start_time": "2018-02-25T15:38:17.389115Z"
    }
   },
   "outputs": [],
   "source": [
    "sourceLines = getSource(exampleTablet, nodeType='case', lineNumbers=True)\n",
    "print('\\n'.join(sourceLines))"
   ]
  },
  {
   "cell_type": "markdown",
   "metadata": {},
   "source": [
    "You'll appreciate the way you can build up your own power tools as you go.\n",
    "The functions of TF provide a foundation, so that start when all the gory details\n",
    "have been taken care of.\n",
    "\n",
    "Speaking of which: see that strange modifier on `SUKUD`, the `@inversum`?\n",
    "It is not in the [Oracc primer on ATF](http://oracc.museum.upenn.edu/doc/help/editinginatf/primer/inlinetutorial/index.html)\n",
    "\n",
    "Probably it is a typo, and the `inversum` should be replaced by a single letter.\n",
    "While Dirk was programming, he decided to \"correct\" this into `@v`, but what really is needed here is\n",
    "to correct the source. Or we could correct the correction.\n",
    "In either case, we expect to run the conversion again, with all issues like these resolved.\n",
    "\n",
    "To see what those issues are, see the complete list of\n",
    "[diagnostics](https://github.com/Dans-labs/Nino-cunei/blob/master/reports/diagnostics.tsv)."
   ]
  },
  {
   "cell_type": "markdown",
   "metadata": {},
   "source": [
    "## Mass operations\n",
    "\n",
    "We have a mass of data, and we want to do meaningful things with that mass.\n",
    "Here are a few ways to address all nodes, and significant subsets of all nodes."
   ]
  },
  {
   "cell_type": "markdown",
   "metadata": {},
   "source": [
    "### Walking all nodes\n",
    "\n",
    "The generator `N()` provides you with all nodes, one by one, in a sequence.\n",
    "They come in the natural order, as we have seen above:\n",
    "\n",
    "* first things first\n",
    "* bigger things before the smaller things they contain.\n",
    "\n",
    "Let's print the first 20 nodes, together with their types."
   ]
  },
  {
   "cell_type": "code",
   "execution_count": null,
   "metadata": {
    "ExecuteTime": {
     "end_time": "2018-02-25T10:42:35.674251Z",
     "start_time": "2018-02-25T10:42:35.655192Z"
    }
   },
   "outputs": [],
   "source": [
    "LIMIT = 20\n",
    "\n",
    "times = 0\n",
    "for n in N():\n",
    "    print(f'{n:>6} : {F.otype.v(n)}')\n",
    "    times += 1\n",
    "    if times >= 20:\n",
    "        break"
   ]
  },
  {
   "cell_type": "markdown",
   "metadata": {},
   "source": [
    "### All signs\n",
    "\n",
    "Suppose we are only interested in the signs, not how they are organized in cases, lines,\n",
    "columns, faces and tablets.\n",
    "\n",
    "Suppose we just want to count them.\n",
    "\n",
    "We could use `N()` as follows:"
   ]
  },
  {
   "cell_type": "code",
   "execution_count": null,
   "metadata": {
    "ExecuteTime": {
     "end_time": "2018-02-25T10:45:54.943562Z",
     "start_time": "2018-02-25T10:45:54.642380Z"
    }
   },
   "outputs": [],
   "source": [
    "times = 0\n",
    "for n in N():\n",
    "    if F.otype.v(n) != 'sign':\n",
    "        continue\n",
    "    times += 1\n",
    "print(times)"
   ]
  },
  {
   "cell_type": "markdown",
   "metadata": {},
   "source": [
    "In fact, TF makes it a bit easier to get to all sign nodes, or nodes from whatever type.\n",
    "\n",
    "We have already used the `F.feature.v(n)` idiom.\n",
    "But you can do more with features, beyond fetching particular values.\n",
    "\n",
    "You can also retrieve the sequence of nodes that support a particular value.\n",
    "\n",
    "We want to retrieve all nodes that support the value `sign` in their `otype` feature.\n",
    "\n",
    "Here we go, and note that we use `.s(value)` instead of `.v(node)`."
   ]
  },
  {
   "cell_type": "code",
   "execution_count": null,
   "metadata": {
    "ExecuteTime": {
     "end_time": "2018-02-25T10:49:42.613570Z",
     "start_time": "2018-02-25T10:49:42.595656Z"
    }
   },
   "outputs": [],
   "source": [
    "signs = F.otype.s('sign')\n",
    "len(signs)"
   ]
  },
  {
   "cell_type": "markdown",
   "metadata": {},
   "source": [
    "Signs have a feature `grapheme`, filled with the name of the sign, without variants (allographs), modifiers, and flags. Let's see the first 20 graphemes."
   ]
  },
  {
   "cell_type": "code",
   "execution_count": null,
   "metadata": {
    "ExecuteTime": {
     "end_time": "2018-02-25T10:52:21.192570Z",
     "start_time": "2018-02-25T10:52:21.175502Z"
    }
   },
   "outputs": [],
   "source": [
    "for sign in signs[0:20]:\n",
    "    print(f'{sign:>2} : {F.grapheme.v(sign)}')"
   ]
  },
  {
   "cell_type": "markdown",
   "metadata": {},
   "source": [
    "A few things to note:\n",
    "\n",
    "* there are empty signs\n",
    "* there is the sign `…`\n",
    "\n",
    "During conversion, we have put empty signs in metadata lines and rulings.\n",
    "That is the mechanism by which TF knows where in the corpus they are positioned.\n",
    "They do not belong to the material that corresponds to tablet content, except maybe in the\n",
    "case of rulings.\n",
    "\n",
    "The sign `…` originates from `...` in transcriptions, which is mostly surrounded by\n",
    "`[ ]`. The brackets signify uncertainty, and can be put around other signs as well,\n",
    "even sequences of signs. These brackets denote *clusters*, a node type that we will encounter\n",
    "later.\n",
    "\n",
    "So, the expression `[...]` in the source translates to a *cluster* in TF, with just one\n",
    "sign in it, which has *grapheme* value `…`. \n",
    "Of course, this is not a real grapheme, and it will be easy to weed out such graphemes if\n",
    "you do not need to take them into account. "
   ]
  },
  {
   "cell_type": "markdown",
   "metadata": {},
   "source": [
    "### Particular signs\n",
    "\n",
    "Suppose we want to get all occurrences of the grapheme `SANGA`.\n",
    "\n",
    "We can use the same trick as for getting the `signs`: we ask for the nodes that support\n",
    "the value `SANGA` in their `grapheme` feature."
   ]
  },
  {
   "cell_type": "code",
   "execution_count": null,
   "metadata": {
    "ExecuteTime": {
     "end_time": "2018-02-25T15:59:01.256445Z",
     "start_time": "2018-02-25T15:59:01.222055Z"
    }
   },
   "outputs": [],
   "source": [
    "sangas = F.grapheme.s('SANGA')\n",
    "len(sangas)"
   ]
  },
  {
   "cell_type": "markdown",
   "metadata": {},
   "source": [
    "As an example of what you can do with such a set, let's pick only those SANGAs that\n",
    "do not have a variant. We want `SANGA`, but not `SANGA~a`."
   ]
  },
  {
   "cell_type": "code",
   "execution_count": null,
   "metadata": {
    "ExecuteTime": {
     "end_time": "2018-02-25T15:59:03.606416Z",
     "start_time": "2018-02-25T15:59:03.581984Z"
    }
   },
   "outputs": [],
   "source": [
    "pureSangas = [s for s in sangas if F.variant.v(s) is None]\n",
    "len(pureSangas)"
   ]
  },
  {
   "cell_type": "markdown",
   "metadata": {},
   "source": [
    "Ah, all sangas are with variant (allograph) in this corpus. Are they all `~a`?"
   ]
  },
  {
   "cell_type": "code",
   "execution_count": null,
   "metadata": {
    "ExecuteTime": {
     "end_time": "2018-02-25T15:59:06.562655Z",
     "start_time": "2018-02-25T15:59:06.541652Z"
    }
   },
   "outputs": [],
   "source": [
    "aSangas = [s for s in sangas if F.variant.v(s) == 'a']\n",
    "len(aSangas)"
   ]
  },
  {
   "cell_type": "markdown",
   "metadata": {},
   "source": [
    "Not all of them, let's see what other variants occur:"
   ]
  },
  {
   "cell_type": "code",
   "execution_count": null,
   "metadata": {
    "ExecuteTime": {
     "end_time": "2018-02-25T15:59:12.339680Z",
     "start_time": "2018-02-25T15:59:12.310019Z"
    }
   },
   "outputs": [],
   "source": [
    "sangaVariants = set()\n",
    "otherSangas = []\n",
    "\n",
    "for s in sangas:\n",
    "    if s not in aSangas:\n",
    "        otherSangas.append(s)\n",
    "        variant = F.variant.v(s)\n",
    "        sangaVariants.add(variant)\n",
    "        print(f'{s:>6} SANGA~{variant}')\n",
    "print(f'All variants: {\", \".join(sorted(sangaVariants))}')"
   ]
  },
  {
   "cell_type": "markdown",
   "metadata": {},
   "source": [
    "### From instance to context\n",
    "\n",
    "We want to know where those other SANGA variants are.\n",
    "\n",
    "Earlier we saw how we could get nodes if we knew the section.\n",
    "Here we need the opposite. We know a few nodes, and want to get the section.\n",
    "TF has a function for that:"
   ]
  },
  {
   "cell_type": "code",
   "execution_count": null,
   "metadata": {
    "ExecuteTime": {
     "end_time": "2018-02-25T11:17:06.137439Z",
     "start_time": "2018-02-25T11:17:06.121157Z"
    }
   },
   "outputs": [],
   "source": [
    "for s in otherSangas:\n",
    "    print(T.sectionFromNode(s))"
   ]
  },
  {
   "cell_type": "markdown",
   "metadata": {},
   "source": [
    "If we want to see the source code line of these sangas, we can do it by what we have learned so far:"
   ]
  },
  {
   "cell_type": "code",
   "execution_count": null,
   "metadata": {
    "ExecuteTime": {
     "end_time": "2018-02-25T15:59:37.293293Z",
     "start_time": "2018-02-25T15:59:37.277468Z"
    }
   },
   "outputs": [],
   "source": [
    "for s in otherSangas:\n",
    "    for case in L.u(s, otype='case'):\n",
    "        srcLine = F.srcLn.v(case)\n",
    "        if srcLine is not None:\n",
    "            print(f'{F.srcLnNum.v(case):>5}: {srcLine}')"
   ]
  },
  {
   "cell_type": "markdown",
   "metadata": {},
   "source": [
    "### Frequency list\n",
    "\n",
    "TF has a standard function that generates a frequency list for any feature of your choice.\n",
    "\n",
    "Let's do the modifiers (`@`*mod*):"
   ]
  },
  {
   "cell_type": "code",
   "execution_count": null,
   "metadata": {
    "ExecuteTime": {
     "end_time": "2018-02-25T16:01:17.921599Z",
     "start_time": "2018-02-25T16:01:17.900077Z"
    }
   },
   "outputs": [],
   "source": [
    "F.modifier.freqList()"
   ]
  },
  {
   "cell_type": "markdown",
   "metadata": {},
   "source": [
    "The result is a tuple of tuples (*modifier*, *amount of occurrences*), ordered in decreasing frequency.\n",
    "We can print the list a bit more neatly as follows:"
   ]
  },
  {
   "cell_type": "code",
   "execution_count": null,
   "metadata": {
    "ExecuteTime": {
     "end_time": "2018-02-25T16:03:49.683835Z",
     "start_time": "2018-02-25T16:03:49.664996Z"
    }
   },
   "outputs": [],
   "source": [
    "for (value, amount) in F.modifier.freqList():\n",
    "    print(f'{amount:>4} x {value}')"
   ]
  },
  {
   "cell_type": "markdown",
   "metadata": {},
   "source": [
    "Note that you can call this for any feature.\n",
    "So let us do it for graphemes. Note that we get a frequency list for the bare graphemes, ignoring\n",
    "variants and modifiers. So maybe this is not that useful.\n",
    "\n",
    "Before we print out the complete list, let's make sure the list is not forbiddingly long.\n",
    "Or rather, let us print only the top twenty."
   ]
  },
  {
   "cell_type": "code",
   "execution_count": null,
   "metadata": {
    "ExecuteTime": {
     "end_time": "2018-02-25T16:06:10.948337Z",
     "start_time": "2018-02-25T16:06:10.812959Z"
    }
   },
   "outputs": [],
   "source": [
    "for (value, amount) in F.grapheme.freqList()[0:20]:\n",
    "    print(f'{amount:>4} x {value}')"
   ]
  },
  {
   "cell_type": "markdown",
   "metadata": {},
   "source": [
    "## Structures\n",
    "\n",
    "Some node types represent things with a nested structure. We have seen *quads* above,\n",
    "an other example are *clusters* of quads. Clusters are called *brackets* in the\n",
    "[Oracc primer](http://oracc.museum.upenn.edu/doc/help/editinginatf/primer/inlinetutorial/index.html).\n",
    "\n",
    "In TF, we have two mechanisms to specify that something is a part of an other thing.\n",
    "One we have already encountered: `L.d(`*node*`)`, which gives you the nodes of all things whose signs\n",
    "are contained in the signs belonging to *node*.\n",
    "\n",
    "But for some purposes this is to coarse.\n",
    "Consider the complex quad we encountered before:\n",
    "\n",
    "```\n",
    "|SZU2.((HI+1(N57))+(HI+1(N57)))|\n",
    "```\n",
    "\n",
    "This quad has sub-quads `SZU2`, `(HI+1(N57))+(HI+1(N57))`, and the last one\n",
    "has sub-quads `HI+1(N57)` and `HI+1(N57)`, which have in turn sub-quads `HI` and `1(N57)`.\n",
    "\n",
    "If we only look at embedding, it is a bit awkward to produce the sub-quads per level, because\n",
    "if we ask for all sub-quads embedded in the outer quad, we'll get all sub-quads mentioned, regardless\n",
    "of level. \n",
    "\n",
    "So we need an extra device, and TF offers a very generic one for this: *edge features*.\n",
    "\n",
    "Whereas the *features* we have seen so far, such as `otype`, `grapheme`, and `variant`\n",
    "annotate nodes, there are also features that annotate pairs of nodes.\n",
    "A pair of nodes is called an *edge*, and indicates that there is a relationship between nodes.\n",
    "Edge features give these relationships a name, and can annotate the relationships as well.\n",
    "\n",
    "We could use edge features to relate lines to other, similar lines in the corpus, and annotate it\n",
    "with the degree of similarity.\n",
    "\n",
    "In the case of quads and clusters, we have generated edges in TF between clusters and their components,\n",
    "and between quads and their components."
   ]
  },
  {
   "cell_type": "markdown",
   "metadata": {},
   "source": [
    "### Quads\n",
    "\n",
    "The components of quads are either sub-quads or signs.\n",
    "Sub-quads are also quads in TF, and they are always a composition.\n",
    "Whenever a member of a sub-quad is no longer a composition, it is a *sign*.\n",
    "\n",
    "Let's try to unravel the structure of this example quad by TF means.\n",
    "\n",
    "#### Getting a big quad\n",
    "First we need to get the node of this quad. Above we have seen the source code of the tablet in which\n",
    "it occurs, from that we can pick the node of the case it is in:"
   ]
  },
  {
   "cell_type": "code",
   "execution_count": null,
   "metadata": {
    "ExecuteTime": {
     "end_time": "2018-02-25T16:30:46.703241Z",
     "start_time": "2018-02-25T16:30:46.686765Z"
    }
   },
   "outputs": [],
   "source": [
    "line = T.nodeFromSection(('P005381', 'obverse:2', '1'))\n",
    "line"
   ]
  },
  {
   "cell_type": "markdown",
   "metadata": {},
   "source": [
    "Note, that in order to specify a column, you have to specify it as *face type*`:`*column number*"
   ]
  },
  {
   "cell_type": "code",
   "execution_count": null,
   "metadata": {
    "ExecuteTime": {
     "end_time": "2018-02-25T16:30:55.875172Z",
     "start_time": "2018-02-25T16:30:55.857630Z"
    }
   },
   "outputs": [],
   "source": [
    "case = L.d(line, otype='case')[0]\n",
    "F.srcLn.v(case)"
   ]
  },
  {
   "cell_type": "markdown",
   "metadata": {},
   "source": [
    "In order to identify our super-quad, we list all quad nodes that are part of this case.\n",
    "For every quad we list the node numbers of the signs contained in it.\n",
    "\n",
    "In order to know what signs are contained in any given node, we use the feature `oslots`.\n",
    "Like the feature `otype`, this is a standard feature that is always available in a TF dataset.\n",
    "\n",
    "Unlike `otype`, `oslots` is an edge feature: there is an edge between every node and every slot contained in it.\n",
    "\n",
    "Whereas you use `F` to do stuff with node features, you use `E` to do business with edge features.\n",
    "\n",
    "And whereas you use `F.feature.v(node)` to get the feature value of a node, you use \n",
    "`E.oslots.s(node)` to get the nodes for which there is an `oslots` edge from `node` to it."
   ]
  },
  {
   "cell_type": "code",
   "execution_count": null,
   "metadata": {
    "ExecuteTime": {
     "end_time": "2018-02-25T16:42:22.123455Z",
     "start_time": "2018-02-25T16:42:22.103540Z"
    }
   },
   "outputs": [],
   "source": [
    "for node in L.d(case, otype='quad'):\n",
    "    print(f'{node:>6} {E.oslots.s(node)}')"
   ]
  },
  {
   "cell_type": "markdown",
   "metadata": {
    "slideshow": {
     "slide_type": "subslide"
    }
   },
   "source": [
    "On the basis of this see what the biggest quad is.\n",
    "We could have been a bit more friendly to our selves by showing the actual graphemes in the quads."
   ]
  },
  {
   "cell_type": "code",
   "execution_count": null,
   "metadata": {
    "ExecuteTime": {
     "end_time": "2018-02-25T16:37:55.047698Z",
     "start_time": "2018-02-25T16:37:55.031298Z"
    }
   },
   "outputs": [],
   "source": [
    "for node in L.d(case, otype='quad'):\n",
    "    print(f'{node:>6} {\" \".join(F.grapheme.v(s) for s in E.oslots.s(node))}')"
   ]
  },
  {
   "cell_type": "markdown",
   "metadata": {},
   "source": [
    "So let us get the node of the biggest quad."
   ]
  },
  {
   "cell_type": "code",
   "execution_count": null,
   "metadata": {
    "ExecuteTime": {
     "end_time": "2018-02-25T16:47:25.784563Z",
     "start_time": "2018-02-25T16:47:25.766097Z"
    }
   },
   "outputs": [],
   "source": [
    "bigQuad = sorted(\n",
    "    (\n",
    "        quad \n",
    "        for quad in L.d(case, otype='quad')\n",
    "    ),\n",
    "    key = lambda q: -len(E.oslots.s(q))\n",
    ")[0]\n",
    "bigQuad"
   ]
  },
  {
   "cell_type": "markdown",
   "metadata": {},
   "source": [
    "Lo and behold, it is precisely the big quad."
   ]
  },
  {
   "cell_type": "markdown",
   "metadata": {},
   "source": [
    "#### Unraveling a quad\n",
    "\n",
    "Now we are going to retrieve its components by following edges.\n",
    "We have made `sub` edges from quads to their components.\n",
    "\n",
    "In order to follow the `sub` edges from a node, you use \n",
    "\n",
    "`E.sub.f(node)`.\n",
    "\n",
    "You can also get the `sub` edges *to* a node:\n",
    "\n",
    "`E.sub.t(node)`."
   ]
  },
  {
   "cell_type": "code",
   "execution_count": null,
   "metadata": {
    "ExecuteTime": {
     "end_time": "2018-02-25T16:50:28.334919Z",
     "start_time": "2018-02-25T16:50:28.318911Z"
    }
   },
   "outputs": [],
   "source": [
    "E.sub.f(bigQuad)"
   ]
  },
  {
   "cell_type": "markdown",
   "metadata": {},
   "source": [
    "Let us unravel the whole structure:"
   ]
  },
  {
   "cell_type": "code",
   "execution_count": null,
   "metadata": {
    "ExecuteTime": {
     "end_time": "2018-02-25T16:56:41.817821Z",
     "start_time": "2018-02-25T16:56:41.793449Z"
    }
   },
   "outputs": [],
   "source": [
    "def unravelQuad(quad):\n",
    "    if F.otype.v(quad) == 'sign':\n",
    "        return F.grapheme.v(quad)\n",
    "    subQuads = E.sub.f(quad)\n",
    "    unraveledSubQuads = [unravelQuad(subQuad) for subQuad in subQuads]\n",
    "    return f'<{\", \".join(unraveledSubQuads)}>'\n",
    "\n",
    "unravelQuad(bigQuad)"
   ]
  },
  {
   "cell_type": "markdown",
   "metadata": {},
   "source": [
    "Later we see how we can get the exact representation of this quad back, including the operators `.` and `+`."
   ]
  },
  {
   "cell_type": "markdown",
   "metadata": {},
   "source": [
    "#### Collecting quads by depth\n",
    "\n",
    "We want to sort all complex quads by the depth of their structure.\n",
    "In order to do that, we first write a function that computes the depth of a quad.\n",
    "\n",
    "The idea of that function is:\n",
    "* if a quad does not have sub-quads (only signs as members), its depth is 1;\n",
    "* the depth of a quad is 1 more than the maximum of the depths of its sub-quads."
   ]
  },
  {
   "cell_type": "code",
   "execution_count": null,
   "metadata": {
    "ExecuteTime": {
     "end_time": "2018-02-25T19:29:10.656804Z",
     "start_time": "2018-02-25T19:29:10.639306Z"
    }
   },
   "outputs": [],
   "source": [
    "def depthQuad(quad):\n",
    "    subDepths = [\n",
    "        depthQuad(subQuad) \n",
    "        for subQuad in E.sub.f(quad) \n",
    "        if F.otype.v(subQuad) == 'quad'\n",
    "    ]\n",
    "    if len(subDepths) == 0:\n",
    "        return 1\n",
    "    else:\n",
    "        return max(subDepths) + 1"
   ]
  },
  {
   "cell_type": "markdown",
   "metadata": {},
   "source": [
    "Here is the depth of the big quad:"
   ]
  },
  {
   "cell_type": "code",
   "execution_count": null,
   "metadata": {
    "ExecuteTime": {
     "end_time": "2018-02-25T19:29:13.197622Z",
     "start_time": "2018-02-25T19:29:13.183469Z"
    }
   },
   "outputs": [],
   "source": [
    "depthQuad(bigQuad)"
   ]
  },
  {
   "cell_type": "markdown",
   "metadata": {},
   "source": [
    "#### Distribution of quads by depth\n",
    "\n",
    "We want to know how many quads there are, how deeply composed they get, and how often deep compositions\n",
    "occur.\n",
    "\n",
    "This is the recipe:\n",
    "we visit all quads, examine their depths, and tally the appropriate depth."
   ]
  },
  {
   "cell_type": "code",
   "execution_count": null,
   "metadata": {
    "ExecuteTime": {
     "end_time": "2018-02-25T19:36:12.590853Z",
     "start_time": "2018-02-25T19:36:12.550748Z"
    }
   },
   "outputs": [],
   "source": [
    "depthDistribution = collections.Counter()\n",
    "\n",
    "for quad in F.otype.s('quad'):\n",
    "    depth = depthQuad(quad)\n",
    "    depthDistribution[depth] += 1\n",
    "    \n",
    "for (depth, amount) in sorted(\n",
    "    depthDistribution.items(),\n",
    "    key=lambda x: (-x[1], x[0]),\n",
    "):\n",
    "    print(f'{amount:>5} x depth {depth}')"
   ]
  },
  {
   "cell_type": "markdown",
   "metadata": {},
   "source": [
    "It turns out we had spotted the deepest quad already.\n",
    "Let's finish off by looking which tablets show how many quads with depth >= 2.\n",
    "\n",
    "The code is much like above, but now we do not tally the depth of a quad, but the tablet\n",
    "it occurs in."
   ]
  },
  {
   "cell_type": "code",
   "execution_count": null,
   "metadata": {
    "ExecuteTime": {
     "end_time": "2018-02-25T19:51:38.347024Z",
     "start_time": "2018-02-25T19:51:38.307327Z"
    }
   },
   "outputs": [],
   "source": [
    "tabletQuad = collections.Counter()\n",
    "\n",
    "for quad in F.otype.s('quad'):\n",
    "    depth = depthQuad(quad)\n",
    "    if depth >= 2:\n",
    "        tablet = L.u(quad, otype='tablet')[0]\n",
    "        tabletQuad[tablet] += 1"
   ]
  },
  {
   "cell_type": "markdown",
   "metadata": {},
   "source": [
    "Before we look at the output, let us sort the tablets found on decreasing amount of complex quads:"
   ]
  },
  {
   "cell_type": "code",
   "execution_count": null,
   "metadata": {
    "ExecuteTime": {
     "end_time": "2018-02-25T19:53:40.965102Z",
     "start_time": "2018-02-25T19:53:40.948915Z"
    }
   },
   "outputs": [],
   "source": [
    "tabletQuadList = sorted(\n",
    "    tabletQuad,\n",
    "    key=lambda t: (-tabletQuad[t], t),\n",
    ")"
   ]
  },
  {
   "cell_type": "markdown",
   "metadata": {},
   "source": [
    "We are not interested in tablets with just one complex quad.\n",
    "\n",
    "We collect the tablets by their node, but when we output the results, we\n",
    "want to show the tablet's number, which is stored in the feature `catalogId`."
   ]
  },
  {
   "cell_type": "code",
   "execution_count": null,
   "metadata": {
    "ExecuteTime": {
     "end_time": "2018-02-25T19:54:41.314407Z",
     "start_time": "2018-02-25T19:54:41.289356Z"
    }
   },
   "outputs": [],
   "source": [
    "singles = 0\n",
    "\n",
    "for tablet in tabletQuadList:\n",
    "    amount = tabletQuad[tablet]\n",
    "    if amount == 1:\n",
    "        singles += 1\n",
    "    else:\n",
    "        print(f'{amount:>5} complex quads in tablet {F.catalogId.v(tablet)}')\n",
    "print(f'{1:>5} complex quad  in {singles} other tablets')"
   ]
  },
  {
   "cell_type": "markdown",
   "metadata": {},
   "source": [
    "And, for the record, we'll have a look at the source code of one of the tablets at the top of the list.\n",
    "We have already defined a function `getSource(tablet)` above, which comes in handy here. "
   ]
  },
  {
   "cell_type": "code",
   "execution_count": null,
   "metadata": {
    "ExecuteTime": {
     "end_time": "2018-02-25T19:56:56.569667Z",
     "start_time": "2018-02-25T19:56:56.553503Z"
    }
   },
   "outputs": [],
   "source": [
    "sourceLines = getSource(tabletQuadList[0])\n",
    "print('\\n'.join(sourceLines))"
   ]
  },
  {
   "cell_type": "markdown",
   "metadata": {},
   "source": [
    "### Clusters\n",
    "\n",
    "Clusters are groups of consecutive quads between brackets.\n",
    "\n",
    "Clusters can be nested.\n",
    "As with quads, we find the members of a cluster by following `sub` edges.\n",
    "\n",
    "#### Kinds of clusters\n",
    "\n",
    "In our corpus we encounter several types of brackets:\n",
    "\n",
    "* `( )a` for proper names\n",
    "* `[ ]` for uncertainty\n",
    "* `< >` for supplied material.\n",
    "\n",
    "The first thing is to get on overview of the distribution of these kinds."
   ]
  },
  {
   "cell_type": "code",
   "execution_count": 80,
   "metadata": {
    "ExecuteTime": {
     "end_time": "2018-02-25T20:16:51.051567Z",
     "start_time": "2018-02-25T20:16:50.991812Z"
    }
   },
   "outputs": [
    {
     "name": "stdout",
     "output_type": "stream",
     "text": [
      "32321 x a uncertain-cluster\n",
      "  637 x a properName-cluster\n",
      "    1 x a supplied-cluster\n"
     ]
    }
   ],
   "source": [
    "clusterKindDistribution = collections.Counter()\n",
    "\n",
    "for cluster in F.otype.s('cluster'):\n",
    "    kind = F.kind.v(cluster)\n",
    "    clusterKindDistribution[kind] += 1\n",
    "\n",
    "for (kind, amount) in sorted(\n",
    "    clusterKindDistribution.items(),\n",
    "    key=lambda x: (-x[1], x[0]),\n",
    "):\n",
    "    print(f'{amount:>5} x a {kind:>8}-cluster')"
   ]
  },
  {
   "cell_type": "markdown",
   "metadata": {},
   "source": [
    "The conversion to TF has transformed `[...]` to a cluster of one sign with grapheme `…`.\n",
    "These are trivial clusters and we want to exclude them from further analysis, so we redo the counting.\n",
    "\n",
    "First we make a sequence of all non-trivial clusters:"
   ]
  },
  {
   "cell_type": "code",
   "execution_count": 81,
   "metadata": {
    "ExecuteTime": {
     "end_time": "2018-02-25T20:17:44.188441Z",
     "start_time": "2018-02-25T20:17:44.063489Z"
    }
   },
   "outputs": [
    {
     "data": {
      "text/plain": [
       "3385"
      ]
     },
     "execution_count": 81,
     "metadata": {},
     "output_type": "execute_result"
    }
   ],
   "source": [
    "realClusters = [\n",
    "    c \n",
    "    for c in F.otype.s('cluster')\n",
    "    if (\n",
    "        F.kind.v(c) != 'uncertain' or\n",
    "        len(E.oslots.s(c)) > 1 or \n",
    "        F.grapheme.v(E.oslots.s(c)[0]) != '…'\n",
    "    )\n",
    "]\n",
    "len(realClusters)"
   ]
  },
  {
   "cell_type": "markdown",
   "metadata": {},
   "source": [
    "Now we redo the same analysis, but we start with the filtered cluster sequence."
   ]
  },
  {
   "cell_type": "code",
   "execution_count": 108,
   "metadata": {
    "ExecuteTime": {
     "end_time": "2018-02-25T20:41:36.991179Z",
     "start_time": "2018-02-25T20:41:36.969789Z"
    }
   },
   "outputs": [
    {
     "name": "stdout",
     "output_type": "stream",
     "text": [
      " 2747 x a uncertain-cluster\n",
      "  637 x a properName-cluster\n",
      "    1 x a supplied-cluster\n"
     ]
    }
   ],
   "source": [
    "clusterKindDistribution = collections.Counter()\n",
    "\n",
    "for cluster in realClusters:\n",
    "    kind = F.kind.v(cluster)\n",
    "    clusterKindDistribution[kind] += 1\n",
    "\n",
    "for (kind, amount) in sorted(\n",
    "    clusterKindDistribution.items(),\n",
    "    key=lambda x: (-x[1], x[0]),\n",
    "):\n",
    "    print(f'{amount:>5} x a {kind:>8}-cluster')"
   ]
  },
  {
   "cell_type": "markdown",
   "metadata": {},
   "source": [
    "#### Lengths of clusters\n",
    "\n",
    "How long are clusters in general?\n",
    "There are two possible ways to measure the length of a cluster:\n",
    "\n",
    "* the amount of signs it occupies;\n",
    "* the amount of top-level members it has (quads or signs)\n",
    "\n",
    "By now, the pattern to answer questions like this is becoming familiar.\n",
    "\n",
    "We express the logic in a function, that takes the way of measuring\n",
    "as a parameter.\n",
    "In that way, we can easily provide a cluster-length distribution based\n",
    "on measurements in signs and in quads."
   ]
  },
  {
   "cell_type": "code",
   "execution_count": 121,
   "metadata": {
    "ExecuteTime": {
     "end_time": "2018-02-25T20:43:02.314397Z",
     "start_time": "2018-02-25T20:43:02.294158Z"
    }
   },
   "outputs": [],
   "source": [
    "def computeDistribution(nodes, measure):\n",
    "    distribution = collections.Counter()\n",
    "\n",
    "    for node in nodes:\n",
    "        m = measure(node)\n",
    "        distribution[m] += 1\n",
    "\n",
    "    for (m, amount) in sorted(\n",
    "        distribution.items(),\n",
    "        key=lambda x: (-x[1], x[0]),\n",
    "    ):\n",
    "        print(f'{amount:>5} x a measure of {m:>8}')"
   ]
  },
  {
   "cell_type": "code",
   "execution_count": 122,
   "metadata": {
    "ExecuteTime": {
     "end_time": "2018-02-25T20:43:02.883049Z",
     "start_time": "2018-02-25T20:43:02.867672Z"
    }
   },
   "outputs": [],
   "source": [
    "def lengthInSigns(node):\n",
    "    return len(L.d(node, otype='sign'))\n",
    "\n",
    "def lengthInMembers(node):\n",
    "    return len(E.sub.f(node))"
   ]
  },
  {
   "cell_type": "markdown",
   "metadata": {},
   "source": [
    "Now we can show the length distributions of clusters by just calling `computeDistribution()`:"
   ]
  },
  {
   "cell_type": "code",
   "execution_count": 125,
   "metadata": {
    "ExecuteTime": {
     "end_time": "2018-02-25T20:43:07.019474Z",
     "start_time": "2018-02-25T20:43:06.992775Z"
    }
   },
   "outputs": [
    {
     "name": "stdout",
     "output_type": "stream",
     "text": [
      " 2691 x a measure of        1\n",
      "  434 x a measure of        2\n",
      "  205 x a measure of        3\n",
      "   41 x a measure of        4\n",
      "    9 x a measure of        5\n",
      "    3 x a measure of        6\n",
      "    2 x a measure of        7\n"
     ]
    }
   ],
   "source": [
    "computeDistribution(realClusters, lengthInSigns)"
   ]
  },
  {
   "cell_type": "code",
   "execution_count": 126,
   "metadata": {
    "ExecuteTime": {
     "end_time": "2018-02-25T20:43:21.080476Z",
     "start_time": "2018-02-25T20:43:21.051714Z"
    }
   },
   "outputs": [
    {
     "name": "stdout",
     "output_type": "stream",
     "text": [
      " 2679 x a measure of        1\n",
      "  452 x a measure of        2\n",
      "  194 x a measure of        3\n",
      "   44 x a measure of        4\n",
      "   11 x a measure of        5\n",
      "    4 x a measure of        6\n",
      "    1 x a measure of        7\n"
     ]
    }
   ],
   "source": [
    "computeDistribution(realClusters, lengthInMembers)"
   ]
  },
  {
   "cell_type": "markdown",
   "metadata": {},
   "source": [
    "If you look closely at the code for these functions, there is nothing in it that \n",
    "is specific for clusters.\n",
    "\n",
    "The measures are in terms of the totally generic `oslots` function, and the fairly generic\n",
    "`sub` edges, which are also defined for quads.\n",
    "\n",
    "So, in one go, we can obtain a length distribution of quads.\n",
    "\n",
    "Note that quads can also be sub-quads."
   ]
  },
  {
   "cell_type": "code",
   "execution_count": 128,
   "metadata": {
    "ExecuteTime": {
     "end_time": "2018-02-25T20:48:51.700207Z",
     "start_time": "2018-02-25T20:48:51.666665Z"
    }
   },
   "outputs": [
    {
     "name": "stdout",
     "output_type": "stream",
     "text": [
      " 3717 x a measure of        2\n",
      "  181 x a measure of        3\n",
      "    7 x a measure of        4\n",
      "    1 x a measure of        5\n"
     ]
    }
   ],
   "source": [
    "computeDistribution(F.otype.s('quad'), lengthInSigns)"
   ]
  },
  {
   "cell_type": "code",
   "execution_count": 127,
   "metadata": {
    "ExecuteTime": {
     "end_time": "2018-02-25T20:48:16.836353Z",
     "start_time": "2018-02-25T20:48:16.807835Z"
    }
   },
   "outputs": [
    {
     "name": "stdout",
     "output_type": "stream",
     "text": [
      " 3887 x a measure of        2\n",
      "   19 x a measure of        3\n"
     ]
    }
   ],
   "source": [
    "computeDistribution(F.otype.s('quad'), lengthInMembers)"
   ]
  },
  {
   "cell_type": "markdown",
   "metadata": {},
   "source": [
    "Now we can get the transcription of this tablet."
   ]
  },
  {
   "cell_type": "code",
   "execution_count": null,
   "metadata": {
    "ExecuteTime": {
     "end_time": "2018-02-25T07:44:09.836452Z",
     "start_time": "2018-02-25T07:44:09.818593Z"
    }
   },
   "outputs": [],
   "source": [
    "transObject(tabletNode)"
   ]
  },
  {
   "cell_type": "markdown",
   "metadata": {},
   "source": [
    "## Signs\n",
    "\n",
    "The main characteristic of a sign is its `grapheme`.\n",
    "Everything we do with signs, is complicated by the fact that signs can be *augmented* with\n",
    "primes, variants, modifiers and flags.\n",
    "\n",
    "Below we show how you can get frequency lists of signs, with or without taking\n",
    "augments into account."
   ]
  },
  {
   "cell_type": "markdown",
   "metadata": {},
   "source": [
    "### Writing results to file\n",
    "\n",
    "We also want to write the results to files in your `_temp` directory, within this repo.\n",
    "In order to not clutter this notebook, we use a function `writeFreqs()`, defined in \n",
    "[utils](utils.py) in the same directory.\n",
    "\n",
    "We call this function as `COMP.writeFreqs(fileName, dataItems, dataName)`.\n",
    "\n",
    "`COMP` is an object, created at the start of this notebook, by importing it from the\n",
    "file `utils.py` in this same directory.\n",
    "Functions called from `COMP`, know the TF-API, and know where the temp-directory is.\n",
    "\n",
    "`writeFreqs` writes distribution data of data items called `dataName`\n",
    "to a file `fileName.txt`.\n",
    "In fact, it writes two files: \n",
    "* `fileName-alpha.txt`, ordered by data items\n",
    "* `fileName-freq.txt`, ordered by frequency."
   ]
  },
  {
   "cell_type": "code",
   "execution_count": 129,
   "metadata": {
    "ExecuteTime": {
     "end_time": "2018-02-25T21:14:47.803273Z",
     "start_time": "2018-02-25T21:14:47.695825Z"
    }
   },
   "outputs": [
    {
     "name": "stdout",
     "output_type": "stream",
     "text": [
      "There are 667 bare graphemes\n"
     ]
    }
   ],
   "source": [
    "COMP.writeFreqs('grapheme-plain', F.grapheme.freqList(), 'bare grapheme')"
   ]
  },
  {
   "cell_type": "markdown",
   "metadata": {},
   "source": [
    "Now have a look at your TEMP_DIR and you see two generated files:\n",
    "\n",
    "* `graphemes-plain-alpha.txt` (sorted by grapheme)\n",
    "* `graphemes-plain-freq.txt` (sorted by frequency)\n",
    "\n",
    "But we can do better, we also want the prime, variants, and modifiers taken into account.\n",
    "\n",
    "Let us first see what they can be."
   ]
  },
  {
   "cell_type": "markdown",
   "metadata": {},
   "source": [
    "### Prime\n",
    "\n",
    "The prime is a feature with two values: 1 or 0. 1 means: there is a prime.\n",
    "Below you see how often that occurs.\n",
    "Note that we count all primes here: on signs, case numbers and column numbers.\n",
    "\n",
    "For more info and a check on the occurrences of primes, see [checks](checks.ipynb)."
   ]
  },
  {
   "cell_type": "code",
   "execution_count": 130,
   "metadata": {
    "ExecuteTime": {
     "end_time": "2018-02-25T21:15:16.773069Z",
     "start_time": "2018-02-25T21:15:16.753603Z"
    }
   },
   "outputs": [
    {
     "name": "stdout",
     "output_type": "stream",
     "text": [
      " 5184 x 1\n"
     ]
    }
   ],
   "source": [
    "for (value, frequency) in F.prime.freqList():\n",
    "    print(f'{frequency:>5} x {value}')"
   ]
  },
  {
   "cell_type": "markdown",
   "metadata": {},
   "source": [
    "### Variant\n",
    "\n",
    "The variant or *allograph* is what occurs after the grapheme and after the `~` symbol, which should be digits and/or\n",
    "lowercase letters except the `x`.\n",
    "\n",
    "Here is the frequency list of variant values."
   ]
  },
  {
   "cell_type": "code",
   "execution_count": 131,
   "metadata": {
    "ExecuteTime": {
     "end_time": "2018-02-25T21:15:34.950122Z",
     "start_time": "2018-02-25T21:15:34.913831Z"
    }
   },
   "outputs": [
    {
     "name": "stdout",
     "output_type": "stream",
     "text": [
      "23804 x a\n",
      " 4172 x b\n",
      " 1532 x c\n",
      " 1356 x a1\n",
      "  703 x b1\n",
      "  194 x a2\n",
      "  187 x d\n",
      "  127 x b2\n",
      "   85 x f\n",
      "   73 x a3\n",
      "   40 x e\n",
      "   29 x c2\n",
      "   22 x c1\n",
      "   22 x c3\n",
      "   17 x v\n",
      "   14 x c5\n",
      "   13 x b3\n",
      "   12 x a0\n",
      "   12 x d1\n",
      "   11 x c4\n",
      "    6 x a4\n",
      "    6 x g\n",
      "    5 x d2\n",
      "    4 x d4\n",
      "    4 x h\n",
      "    2 x 3a\n",
      "    2 x d3\n",
      "    1 x h2\n"
     ]
    }
   ],
   "source": [
    "for (value, frequency) in F.variant.freqList():\n",
    "    print(f'{frequency:>5} x {value}')"
   ]
  },
  {
   "cell_type": "markdown",
   "metadata": {},
   "source": [
    "### Modifier\n",
    "\n",
    "The modifier is what occurs after the grapheme and after the `@` symbol, which should be digits and/or\n",
    "lowercase letters except the `x`.\n",
    "\n",
    "Sometimes modifiers occur inside a repeat, then we have stored the modifier in the feature\n",
    "*modifierInner*, as in\n",
    "\n",
    "```\n",
    "7(N34@f)\n",
    "```\n",
    "\n",
    "Here is the frequency list of *modifier* and *modifierInner* values."
   ]
  },
  {
   "cell_type": "code",
   "execution_count": 134,
   "metadata": {
    "ExecuteTime": {
     "end_time": "2018-02-25T21:18:34.104820Z",
     "start_time": "2018-02-25T21:18:34.084979Z"
    }
   },
   "outputs": [
    {
     "name": "stdout",
     "output_type": "stream",
     "text": [
      "  648 x g\n",
      "  251 x t\n",
      "   39 x n\n",
      "    6 x r\n",
      "    4 x s\n",
      "    1 x c\n",
      "    1 x v\n"
     ]
    }
   ],
   "source": [
    "for (value, frequency) in F.modifier.freqList():\n",
    "    print(f'{frequency:>5} x {value}')"
   ]
  },
  {
   "cell_type": "code",
   "execution_count": 135,
   "metadata": {
    "ExecuteTime": {
     "end_time": "2018-02-25T21:18:35.071090Z",
     "start_time": "2018-02-25T21:18:35.048710Z"
    }
   },
   "outputs": [
    {
     "name": "stdout",
     "output_type": "stream",
     "text": [
      "   25 x f\n",
      "   15 x t\n",
      "    1 x r\n",
      "    1 x v\n"
     ]
    }
   ],
   "source": [
    "for (value, frequency) in F.modifierInner.freqList():\n",
    "    print(f'{frequency:>5} x {value}')"
   ]
  },
  {
   "cell_type": "markdown",
   "metadata": {},
   "source": [
    "### Full grapheme overview\n",
    "\n",
    "We make a frequency list of all full graphemes, i.e. the grapheme including variant, modifier, and prime.\n",
    "We show them as they appear in transcriptions.\n",
    "\n",
    "First we show on what node types primes, variants and modifiers occur.\n",
    "We only deal with cases where they occur on signs, ignoring the cases where they occur on (sub)quads."
   ]
  },
  {
   "cell_type": "code",
   "execution_count": 136,
   "metadata": {
    "ExecuteTime": {
     "end_time": "2018-02-25T21:19:39.881319Z",
     "start_time": "2018-02-25T21:19:38.886646Z"
    }
   },
   "outputs": [
    {
     "name": "stdout",
     "output_type": "stream",
     "text": [
      "prime     :  4652 x case\n",
      "prime     :   523 x column\n",
      "prime     :     9 x sign\n",
      "variant   : 32455 x sign\n",
      "modifier  :   950 x sign\n"
     ]
    }
   ],
   "source": [
    "for feature in ('prime', 'variant', 'modifier'):\n",
    "    nodeTypes = collections.Counter()\n",
    "    for n in N():\n",
    "        if Fs(feature).v(n):\n",
    "            nodeTypes[F.otype.v(n)] += 1\n",
    "    for (value, frequency) in nodeTypes.items():\n",
    "        print(f'{feature:<10}: {frequency:>5} x {value}')"
   ]
  },
  {
   "cell_type": "markdown",
   "metadata": {},
   "source": [
    "Now the write out the full grapheme distribution."
   ]
  },
  {
   "cell_type": "code",
   "execution_count": 137,
   "metadata": {
    "ExecuteTime": {
     "end_time": "2018-02-25T21:20:07.429795Z",
     "start_time": "2018-02-25T21:20:06.796817Z"
    }
   },
   "outputs": [
    {
     "name": "stdout",
     "output_type": "stream",
     "text": [
      "29618 x ...\n",
      "17128 x \n",
      "12996 x 1(N01)\n",
      " 6956 x X\n",
      " 3081 x 2(N01)\n",
      " 2606 x 1(N14)\n",
      " 1849 x EN~a\n",
      " 1603 x 3(N01)\n",
      " 1357 x 2(N14)\n",
      " 1308 x SZE~a\n",
      " 1304 x 5(N01)\n",
      " 1224 x GAL~a\n",
      " 1119 x 4(N01)\n",
      " 1069 x AN\n",
      " 1045 x U4\n",
      " 1001 x 1(N34)\n",
      "  881 x SAL\n",
      "  874 x GI\n",
      "  854 x PAP~a\n",
      "  801 x 1(N57)\n",
      "There are 1529 full graphemes\n"
     ]
    }
   ],
   "source": [
    "fullGraphemes = collections.Counter()\n",
    "\n",
    "for n in F.otype.s('sign'):\n",
    "    fullGrapheme = COMP.strFromSign(n)\n",
    "    fullGraphemes[fullGrapheme] += 1\n",
    "    \n",
    "for (value, frequency) in sorted(fullGraphemes.items(), key=lambda x: (-x[1], x[0]))[0:20]:\n",
    "    print(f'{frequency:>5} x {value}')\n",
    "    \n",
    "COMP.writeFreqs('grapheme-full', fullGraphemes.items(), 'full grapheme')"
   ]
  },
  {
   "cell_type": "markdown",
   "metadata": {},
   "source": [
    "Have a look at your `_temp` directory."
   ]
  },
  {
   "cell_type": "markdown",
   "metadata": {},
   "source": [
    "## End\n",
    "\n",
    "Here ends the reburbished tutorial.\n",
    "Below are fragments of the old tutorial.\n",
    "These will be gone or reworked in the final version."
   ]
  },
  {
   "cell_type": "markdown",
   "metadata": {},
   "source": [
    "# Next steps\n",
    "\n",
    "By now you have an impression how to compute around in the Hebrew Bible.\n",
    "While this is still the beginning, I hope you already sense the power of unlimited programmatic access\n",
    "to all the bits and bytes in the data set.\n",
    "\n",
    "Here are a few directions for unleashing that power.\n",
    "\n",
    "## Search\n",
    "Text-Fabric contains a flexible search engine, that does not only work for the BHSA data,\n",
    "but also for data that you add to it.\n",
    "There is a tutorial dedicated to [search](search.ipynb).\n",
    "And if you already know MQL queries, you can build from that in\n",
    "[searchFromMQL](searchFromMQL.ipynb).\n",
    "\n",
    "## Explore additional data\n",
    "The ETCBC has a few other repositories with data that work in conjunction with the BHSA data.\n",
    "One of them you have already seen: \n",
    "[phono](https://github.com/ETCBC/phono),\n",
    "for phonetic transcriptions.\n",
    "\n",
    "There is also\n",
    "[parallels](https://github.com/ETCBC/parallels)\n",
    "for detecting parallel passages,\n",
    "and\n",
    "[valence](https://github.com/ETCBC/valence)\n",
    "for studying patterns around verbs that determine their meanings.\n",
    "\n",
    "## Add your own data\n",
    "If you study the additional data, you can observe how that data is created and also\n",
    "how it is turned into a text-fabric data module.\n",
    "The last step is incredibly easy. You can write out every Python dictionary where the keys are numbers\n",
    "and the values string or numbers as a Text-Fabric feature.\n",
    "When you are creating data, you have already constructed those dictionaries, so writing\n",
    "them out is just one method call.\n",
    "See for example how the\n",
    "[flowchart](https://github.com/ETCBC/valence/blob/master/programs/flowchart.ipynb#Add-sense-feature-to-valence-module)\n",
    "notebook in valence writes out verb sense data.\n",
    "![flow](images/valence.png)\n",
    "\n",
    "You can then easily share your new features on GitHub, so that your colleagues everywhere \n",
    "can try it out for themselves."
   ]
  },
  {
   "cell_type": "markdown",
   "metadata": {},
   "source": [
    "## Export to Emdros MQL\n",
    "\n",
    "[EMDROS](http://emdros.org), written by Ulrik Petersen,\n",
    "is a text database system with the powerful *topographic* query language MQL.\n",
    "The ideas are based on a model devised by Christ-Jan Doedens in\n",
    "[Text Databases: One Database Model and Several Retrieval Languages](https://books.google.nl/books?id=9ggOBRz1dO4C).\n",
    "\n",
    "Text-Fabric's model of slots, nodes and edges is a fairly straightforward translation of the models of Christ-Jan Doedens and Ulrik Petersen.\n",
    "\n",
    "[SHEBANQ](https://shebanq.ancient-data.org) uses EMDROS to offer users to execute and save MQL queries against the Hebrew Text Database of the ETCBC.\n",
    "\n",
    "So it is kind of logical and convenient to be able to work with a Text-Fabric resource through MQL.\n",
    "\n",
    "If you have obtained an MQL dataset somehow, you can turn it into a text-fabric data set by `importMQL()`,\n",
    "which we will not show here.\n",
    "\n",
    "And if you want to export a Text-Fabric data set to MQL, that is also possible.\n",
    "\n",
    "After the `Fabric(modules=...)` call, you can call `exportMQL()` in order to save all features of the\n",
    "indicated modules into a big MQL dump, which can be imported by an EMDROS database."
   ]
  },
  {
   "cell_type": "markdown",
   "metadata": {
    "collapsed": true
   },
   "source": [
    "# Clean caches\n",
    "\n",
    "Text-Fabric pre-computes data for you, so that it can be loaded faster.\n",
    "If the original data is updated, Text-Fabric detects it, and will recompute that data.\n",
    "\n",
    "But there are cases, when the algorithms of Text-Fabric have changed, without any changes in the data, that you might\n",
    "want to clear the cache of precomputed results.\n",
    "\n",
    "There are two ways to do that:\n",
    "\n",
    "* Locate the `.tf` directory of your dataset, and remove all `.tfx` files in it.\n",
    "  This might be a bit awkward to do, because the `.tf` directory is hidden on Unix-like systems.\n",
    "* Call `TF.clearCache()`, which does exactly the same.\n",
    "\n",
    "It is not handy to execute the following cell all the time, that's why I have commented it out.\n",
    "So if you really want to clear the cache, remove the comment sign below."
   ]
  },
  {
   "cell_type": "code",
   "execution_count": null,
   "metadata": {
    "ExecuteTime": {
     "end_time": "2018-02-20T21:14:48.202043Z",
     "start_time": "2018-02-20T21:14:48.189363Z"
    }
   },
   "outputs": [],
   "source": [
    "# TF.clearCache()"
   ]
  },
  {
   "cell_type": "code",
   "execution_count": null,
   "metadata": {},
   "outputs": [],
   "source": []
  }
 ],
 "metadata": {
  "kernelspec": {
   "display_name": "Python 3",
   "language": "python",
   "name": "python3"
  },
  "language_info": {
   "codemirror_mode": {
    "name": "ipython",
    "version": 3
   },
   "file_extension": ".py",
   "mimetype": "text/x-python",
   "name": "python",
   "nbconvert_exporter": "python",
   "pygments_lexer": "ipython3",
   "version": "3.6.4"
  },
  "toc": {
   "nav_menu": {},
   "number_sections": true,
   "sideBar": true,
   "skip_h1_title": true,
   "toc_cell": true,
   "toc_position": {
    "height": "607px",
    "left": "0px",
    "right": "1123px",
    "top": "110px",
    "width": "157px"
   },
   "toc_section_display": "block",
   "toc_window_display": true
  }
 },
 "nbformat": 4,
 "nbformat_minor": 1
}
