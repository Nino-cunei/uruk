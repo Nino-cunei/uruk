{
 "cells": [
  {
   "cell_type": "markdown",
   "metadata": {
    "toc": true
   },
   "source": [
    "<h1>Table of Contents<span class=\"tocSkip\"></span></h1>\n",
    "<div class=\"toc\" style=\"margin-top: 1em;\"><ul class=\"toc-item\"><li><span><a href=\"#Data\" data-toc-modified-id=\"Data-1\"><span class=\"toc-item-num\">1&nbsp;&nbsp;</span>Data</a></span></li><li><span><a href=\"#Start-up\" data-toc-modified-id=\"Start-up-2\"><span class=\"toc-item-num\">2&nbsp;&nbsp;</span>Start up</a></span></li><li><span><a href=\"#Sign-representations\" data-toc-modified-id=\"Sign-representations-3\"><span class=\"toc-item-num\">3&nbsp;&nbsp;</span>Sign representations</a></span></li><li><span><a href=\"#Pairs-per-object\" data-toc-modified-id=\"Pairs-per-object-4\"><span class=\"toc-item-num\">4&nbsp;&nbsp;</span>Pairs per object</a></span><ul class=\"toc-item\"><li><span><a href=\"#A-battery-of-collocations\" data-toc-modified-id=\"A-battery-of-collocations-4.1\"><span class=\"toc-item-num\">4.1&nbsp;&nbsp;</span>A battery of collocations</a></span></li><li><span><a href=\"#Simple-versus-refined\" data-toc-modified-id=\"Simple-versus-refined-4.2\"><span class=\"toc-item-num\">4.2&nbsp;&nbsp;</span>Simple versus refined</a></span></li></ul></li><li><span><a href=\"#Results\" data-toc-modified-id=\"Results-5\"><span class=\"toc-item-num\">5&nbsp;&nbsp;</span>Results</a></span></li><li><span><a href=\"#Alternatives\" data-toc-modified-id=\"Alternatives-6\"><span class=\"toc-item-num\">6&nbsp;&nbsp;</span>Alternatives</a></span></li></ul></div>"
   ]
  },
  {
   "cell_type": "markdown",
   "metadata": {},
   "source": [
    "# Collocation\n",
    "\n",
    "We want to get insights in the co-occurrences of signs on tablets in the \n",
    "[Uruk III/IV](http://cdli.ox.ac.uk/wiki/doku.php?id=proto-cuneiform)\n",
    "corpus (4000-3100 BC).\n",
    "These tablets have a poor archival context, since they come from rubbish pits, and may have been transported\n",
    "from various different places than where they have been excavated.\n",
    "\n",
    "In order to get more information about their chronology and context, we need to study the evolution of\n",
    "the signs on the tablets. Collocation is one of the pre-requisites to do so.\n",
    "\n",
    "The tutorial ended with a first exercise in collocation, where we collated pairs of signs\n",
    "that co-occur on tablets and used an unsophisticated distance measure.\n",
    "\n",
    "We repeat that exercise, and proceed to refine the collocation method step by step.\n",
    "\n",
    "## Data\n",
    "\n",
    "We have downloaded the transcriptions from the \n",
    "**Cuneiform Digital Library Initiative**\n",
    "[CDLI](https://cdli.ucla.edu),\n",
    "and converted them to\n",
    "[Text-Fabric](https://github.com/Dans-labs/text-fabric).\n",
    "Read more about the details of the conversion in the\n",
    "[checks](http://nbviewer.jupyter.org/github/Nino-cunei/uruk/blob/master/programs/checks.ipynb) notebook.\n",
    "For an introduction to Text-Fabric, follow the\n",
    "[start](start.ipynb) tutorial.\n",
    "\n",
    "\n",
    "# Authors\n",
    "\n",
    "J. Cale Johnson and Dirk Roorda (see the \n",
    "[README](https://github.com/Dans-labs/Nino-cunei)\n",
    "of this repository)."
   ]
  },
  {
   "cell_type": "markdown",
   "metadata": {},
   "source": [
    "## Start up\n",
    "\n",
    "We import the Python modules we need."
   ]
  },
  {
   "cell_type": "code",
   "execution_count": 1,
   "metadata": {
    "ExecuteTime": {
     "end_time": "2018-03-05T10:12:22.369801Z",
     "start_time": "2018-03-05T10:12:22.344646Z"
    }
   },
   "outputs": [],
   "source": [
    "%load_ext autoreload\n",
    "%autoreload 2"
   ]
  },
  {
   "cell_type": "code",
   "execution_count": 1,
   "metadata": {
    "ExecuteTime": {
     "end_time": "2018-04-14T09:58:09.177741Z",
     "start_time": "2018-04-14T09:58:09.159791Z"
    }
   },
   "outputs": [],
   "source": [
    "import sys, os, collections\n",
    "from IPython.display import Markdown, display\n",
    "\n",
    "from tf.extra.cunei import Cunei"
   ]
  },
  {
   "cell_type": "code",
   "execution_count": 3,
   "metadata": {
    "ExecuteTime": {
     "end_time": "2018-04-14T09:58:17.052526Z",
     "start_time": "2018-04-14T09:58:16.000727Z"
    }
   },
   "outputs": [
    {
     "name": "stdout",
     "output_type": "stream",
     "text": [
      "Found 2095 ideograph linearts\n",
      "Found 2724 tablet linearts\n",
      "Found 5495 tablet photos\n"
     ]
    },
    {
     "data": {
      "text/markdown": [
       "**Documentation:** <a target=\"_blank\" href=\"https://github.com//Nino-cunei/uruk/blob/master/docs/about.md\" title=\"provenance of this corpus\">Uruk IV-III (v1.0)</a> <a target=\"_blank\" href=\"https://github.com//Nino-cunei/uruk/blob/master/docs/transcription.md\" title=\"feature documentation\">Feature docs</a> <a target=\"_blank\" href=\"https://github.com/Dans-labs/text-fabric/wiki/Cunei\" title=\"cunei api documentation\">Cunei API</a> <a target=\"_blank\" href=\"https://github.com/Dans-labs/text-fabric/wiki/api\" title=\"text-fabric-api\">Text-Fabric API</a>"
      ],
      "text/plain": [
       "<IPython.core.display.Markdown object>"
      ]
     },
     "metadata": {},
     "output_type": "display_data"
    },
    {
     "data": {
      "text/markdown": [
       "\n",
       "This notebook online:\n",
       "<a target=\"_blank\" href=\"http://nbviewer.jupyter.org/github/Nino-cunei/tutorials/blob/master/advanced/collocation.ipynb\">NBViewer</a>\n",
       "<a target=\"_blank\" href=\"https://github.com/Nino-cunei/tutorials/blob/master/advanced/collocation.ipynb\">GitHub</a>\n"
      ],
      "text/plain": [
       "<IPython.core.display.Markdown object>"
      ]
     },
     "metadata": {},
     "output_type": "display_data"
    }
   ],
   "source": [
    "LOC = ('~/github', '/Nino-cunei/uruk', 'collocation')\n",
    "A = Cunei(*LOC)\n",
    "A.api.makeAvailableIn(globals())"
   ]
  },
  {
   "cell_type": "code",
   "execution_count": 4,
   "metadata": {},
   "outputs": [
    {
     "data": {
      "text/html": [
       "        <div style=\"display: flex;flex-flow: row nowrap;justify-content: flex-start;align-items: center;align-content: flex-start;\">            <div style=\"padding: 0.5rem;\">                <div style=\"display: flex;flex-flow: column nowrap;justify-content: space-between;align-items: center;align-content: space-between;\"><div><a target=\"_blank\" href=\"https://cdli.ucla.edu/dl/photo/P005381_d.jpg\" title=\"to higher resolution photo on CDLI\"><img src=\"cdli-imagery/nodeP005381photo.jpg\" style=\"display: inline;\" width=\"200\" /></a></div><div><a target=\"_blank\" href=\"https://cdli.ucla.edu/search/search_results.php?SearchMode=Text&ObjectID=P005381\" title=\"to CDLI main page\">P005381 on CDLI</a></div></div>            </div>        </div>        "
      ],
      "text/plain": [
       "<IPython.core.display.HTML object>"
      ]
     },
     "metadata": {},
     "output_type": "display_data"
    },
    {
     "data": {
      "text/html": [
       "        <div style=\"display: flex;flex-flow: row nowrap;justify-content: flex-start;align-items: center;align-content: flex-start;\">            <div style=\"padding: 0.5rem;\">                <div style=\"display: flex;flex-flow: column nowrap;justify-content: space-between;align-items: center;align-content: space-between;\"><div><a target=\"_blank\" href=\"https://cdli.ucla.edu/dl/lineart/P005381_l.jpg\" title=\"to higher resolution lineart on CDLI\"><img src=\"cdli-imagery/nodeP005381lineart.jpg\" style=\"display: inline;\" width=\"200\" /></a></div><div><a target=\"_blank\" href=\"https://cdli.ucla.edu/search/search_results.php?SearchMode=Text&ObjectID=P005381\" title=\"to CDLI main page\">P005381 on CDLI</a></div></div>            </div>        </div>        "
      ],
      "text/plain": [
       "<IPython.core.display.HTML object>"
      ]
     },
     "metadata": {},
     "output_type": "display_data"
    }
   ],
   "source": [
    "example = 'P005381'\n",
    "display(A.photo(example, width=\"200\"))\n",
    "display(A.lineart(example, width=\"200\"))"
   ]
  },
  {
   "cell_type": "code",
   "execution_count": 4,
   "metadata": {
    "ExecuteTime": {
     "end_time": "2018-03-05T07:03:54.625960Z",
     "start_time": "2018-03-05T07:03:54.604113Z"
    }
   },
   "outputs": [],
   "source": [
    "GITHUB = 'https://github.com'\n",
    "REPO_REL = 'Dans-labs/Nino-cunei'\n",
    "RESULT_GH = f'{GITHUB}/{REPO_REL}/blob/master/reports/collocation'\n",
    "RESULT_DIR = f'{A.reportDir}/collocation'\n",
    "TEMP_RESULT_DIR = f'{A.tempDir}/collocation'"
   ]
  },
  {
   "cell_type": "markdown",
   "metadata": {},
   "source": [
    "We create the temporary and report directories, if they do not exist already."
   ]
  },
  {
   "cell_type": "code",
   "execution_count": 14,
   "metadata": {
    "ExecuteTime": {
     "end_time": "2018-03-05T07:02:32.651493Z",
     "start_time": "2018-03-05T07:02:32.636851Z"
    }
   },
   "outputs": [],
   "source": [
    "for cdir in (TEMP_RESULT_DIR, RESULT_DIR):\n",
    "    os.makedirs(cdir, exist_ok=True)"
   ]
  },
  {
   "cell_type": "markdown",
   "metadata": {},
   "source": [
    "We pick up where we left off in the [start](start.ipynb) tutorial: computing co-occurrences\n",
    "by tablet. But we make the move to put our recipes into functions, that we will re-use and refine later on."
   ]
  },
  {
   "cell_type": "markdown",
   "metadata": {},
   "source": [
    "## Sign representations\n",
    "\n",
    "We pre-compute the sign representations for each node.\n",
    "We also make an index of occurrences for each sign representation."
   ]
  },
  {
   "cell_type": "code",
   "execution_count": 15,
   "metadata": {
    "ExecuteTime": {
     "end_time": "2018-03-05T07:02:48.156604Z",
     "start_time": "2018-03-05T07:02:47.547217Z"
    }
   },
   "outputs": [
    {
     "name": "stdout",
     "output_type": "stream",
     "text": [
      "computed 1476 distinct sign representations from 91371 nodes\n"
     ]
    }
   ],
   "source": [
    "NA = {'', '…', 'X'}\n",
    "\n",
    "def getSigns():\n",
    "    signFromNode = dict()\n",
    "    nodeFromSign = collections.defaultdict(list)\n",
    "\n",
    "    for tablet in F.otype.s('tablet'):\n",
    "        for s in L.d(tablet, otype='sign'):\n",
    "            if F.grapheme.v(s) in NA:\n",
    "                continue\n",
    "            signRep = A.atfFromSign(s)\n",
    "            signFromNode[s] = signRep\n",
    "            nodeFromSign[signRep].append(s)\n",
    "    print(f'computed {len(nodeFromSign)} distinct sign representations from {len(signFromNode)} nodes')\n",
    "    return (signFromNode, nodeFromSign)\n",
    "\n",
    "(signFromNode, nodeFromSign) = getSigns()"
   ]
  },
  {
   "cell_type": "markdown",
   "metadata": {},
   "source": [
    "## Pairs per object\n",
    "\n",
    "In the [start](start.ipynb) tutorial we collected pairs per tablet, and we calculated\n",
    "a coarse distance between pairs, based on the distance of signs in the linear sequence\n",
    "by which signs have been transcribed.\n",
    "\n",
    "We are going to write that process as a function, where we abstract from the level at\n",
    "which the pairs must co-occur. We also abstract from how we measure the distance."
   ]
  },
  {
   "cell_type": "markdown",
   "metadata": {
    "ExecuteTime": {
     "end_time": "2018-02-28T12:03:00.908187Z",
     "start_time": "2018-02-28T12:03:00.884604Z"
    }
   },
   "source": [
    "In addition to our coarse definition based on relative closeness, we also\n",
    "want a refined notion of closeness, one that does justice to the\n",
    "geometry of a tablet.\n",
    "\n",
    "Instead of basing closeness on sign distance, we want to base it on quad distance."
   ]
  },
  {
   "cell_type": "code",
   "execution_count": 16,
   "metadata": {
    "ExecuteTime": {
     "end_time": "2018-03-05T07:02:52.590726Z",
     "start_time": "2018-03-05T07:02:52.564977Z"
    }
   },
   "outputs": [],
   "source": [
    "def coarseRelativeCloseness(i, j, signLength=None, quadInfo=None):\n",
    "    return (signLength - abs(j - i)) / signLength\n",
    "\n",
    "def refinedRelativeCloseness(i, j, signLength=None, quadInfo=None):\n",
    "    (quadLength, outerQuadFromSign) = quadInfo\n",
    "    return (quadLength - abs(outerQuadFromSign[i] - outerQuadFromSign[j])) / quadLength"
   ]
  },
  {
   "cell_type": "markdown",
   "metadata": {},
   "source": [
    "We write a function `getPairs(perType, measureName)` that computes co-occurent pairs on objects\n",
    "of type `perType`. Here `measureName` is the name of a function that, given two sign nodes, computes\n",
    "a measure of closeness between those nodes.\n",
    "\n",
    "We also show the top pairs, and save all pairs to disk in a tsv file in your TEMP_RESULT_DIR.\n",
    "A shorter version of the results we write to your RESULT_DIR."
   ]
  },
  {
   "cell_type": "code",
   "execution_count": 17,
   "metadata": {
    "ExecuteTime": {
     "end_time": "2018-03-05T07:04:08.100578Z",
     "start_time": "2018-03-05T07:04:07.860911Z"
    }
   },
   "outputs": [],
   "source": [
    "SHOWPAIRS = 10\n",
    "RESULTPAIRS = 1000\n",
    "\n",
    "def getPairs(perType, measureName):\n",
    "    pairs = collections.Counter()\n",
    "    measure = globals()[measureName]\n",
    "\n",
    "    for obj in F.otype.s(perType):\n",
    "        signs = L.d(obj, otype='sign')\n",
    "        signLength = signs[-1] - signs[0]\n",
    "        \n",
    "        outerQuads = A.getOuterQuads(obj)\n",
    "        quadLength = len(outerQuads)\n",
    "        outerQuadFromSign = {}\n",
    "        for (i, outerQuad) in enumerate(outerQuads):\n",
    "            if F.otype.v(outerQuad) == 'sign':\n",
    "                outerQuadFromSign[outerQuad] = i\n",
    "            else:\n",
    "                for s in L.d(outerQuad, otype='sign'):\n",
    "                    outerQuadFromSign[s] = i\n",
    "        quadInfo = (quadLength, outerQuadFromSign)\n",
    "\n",
    "        thesePairs = {}\n",
    "        for i in range(len(signs)):\n",
    "            nodeI = signs[i]\n",
    "            if nodeI not in signFromNode:\n",
    "                continue\n",
    "            signI = signFromNode[nodeI]\n",
    "            for j in range(i + 1, len(signs)):\n",
    "                nodeJ = signs[j]\n",
    "                if nodeJ not in signFromNode:\n",
    "                    continue\n",
    "                signJ = signFromNode[nodeJ]\n",
    "                if signJ == signI:\n",
    "                    continue\n",
    "                pair = (signI, signJ) if signI < signJ else (signJ, signI)\n",
    "                closeness = measure(nodeI, nodeJ, signLength=signLength, quadInfo=quadInfo)\n",
    "                oldCloseness = thesePairs.get(pair, None)\n",
    "                if oldCloseness is None or oldCloseness < closeness:\n",
    "                    thesePairs[pair] = closeness\n",
    "        for (pair, closeness) in thesePairs.items():\n",
    "            pairs[pair] += closeness\n",
    "    showPairs(pairs, perType, measureName)\n",
    "    return pairs\n",
    "\n",
    "def sortPairs(pairs):\n",
    "    return sorted(\n",
    "        pairs.items(), \n",
    "        key=lambda x: (-x[1], x[0]),\n",
    "    )\n",
    "\n",
    "def sortPairsBare(pairs):\n",
    "    return sorted(\n",
    "        pairs, \n",
    "        key=lambda x: (-pairs[x], x),\n",
    "    )   \n",
    "\n",
    "def showPairs(pairs, perType, measureName):\n",
    "    print(f'{len(pairs)} co-occurrences in {perType}s with measure {measureName}')\n",
    "    sortedPairs = sortPairs(pairs)\n",
    "    pairFile = f'per-{perType}-{measureName}.tsv'\n",
    "    pairTempPath = f'{TEMP_RESULT_DIR}/{pairFile}'\n",
    "    with open(pairTempPath, 'w') as fh:\n",
    "        fh.write(f'signI\\tsignJ\\t{measureName}\\n')\n",
    "        for ((signI, signJ), closeness) in sortedPairs:\n",
    "            fh.write(f'{signI}\\t{signJ}\\t{closeness}\\n')\n",
    "    print(f'Written {len(pairs)} pairs to {pairFile} in _temp')\n",
    "    \n",
    "    pairPath = f'{RESULT_DIR}/{pairFile}'\n",
    "    with open(pairPath, 'w') as fh:\n",
    "        fh.write('signI\\tsignJ\\t{measureName}\\n')\n",
    "        for ((signI, signJ), closeness) in sortedPairs[0:RESULTPAIRS]:\n",
    "            fh.write(f'{signI}\\t{signJ}\\t{closeness}\\n')\n",
    "    print(f'Written {len(pairs)} pairs to {pairFile} in report')\n",
    "\n",
    "    showPairs = sortedPairs[0:SHOWPAIRS] \n",
    "    for ((signI, signJ), closeness) in showPairs:\n",
    "        print(f'{signI:>10} <=~ {closeness:>7.2f} ~=> {signJ:<10}')\n",
    "    if SHOWPAIRS < len(sortedPairs):\n",
    "        print(f'...and {len(sortedPairs) - SHOWPAIRS} more')"
   ]
  },
  {
   "cell_type": "markdown",
   "metadata": {},
   "source": [
    "### A battery of collocations\n",
    "\n",
    "Let's do business with this function, and get our results back for tablets and a closeness\n",
    "function based on the size of the tablet."
   ]
  },
  {
   "cell_type": "code",
   "execution_count": 18,
   "metadata": {
    "ExecuteTime": {
     "end_time": "2018-03-05T07:04:11.853936Z",
     "start_time": "2018-03-05T07:04:11.835641Z"
    }
   },
   "outputs": [],
   "source": [
    "collocationPairs = {}\n",
    "\n",
    "collocationObjects = '''\n",
    "    tablet\n",
    "    face\n",
    "    column\n",
    "    line\n",
    "'''.strip().split()\n",
    "\n",
    "closenessMethods = '''\n",
    "    coarseRelativeCloseness\n",
    "    refinedRelativeCloseness\n",
    "'''.strip().split()"
   ]
  },
  {
   "cell_type": "code",
   "execution_count": 19,
   "metadata": {
    "ExecuteTime": {
     "end_time": "2018-03-05T07:04:39.416458Z",
     "start_time": "2018-03-05T07:04:14.522279Z"
    }
   },
   "outputs": [
    {
     "name": "stdout",
     "output_type": "stream",
     "text": [
      "117270 co-occurrences in tablets with measure coarseRelativeCloseness\n",
      "Written 117270 pairs to per-tablet-coarseRelativeCloseness.tsv in _temp\n",
      "Written 117270 pairs to per-tablet-coarseRelativeCloseness.tsv in report\n",
      "    1(N01) <=~  786.96 ~=> 2(N01)    \n",
      "    1(N01) <=~  635.92 ~=> 1(N14)    \n",
      "    1(N01) <=~  569.41 ~=> EN~a      \n",
      "    1(N14) <=~  567.37 ~=> 2(N01)    \n",
      "    1(N01) <=~  503.76 ~=> 3(N01)    \n",
      "    2(N01) <=~  435.71 ~=> 3(N01)    \n",
      "    1(N01) <=~  434.62 ~=> N         \n",
      "    1(N14) <=~  410.67 ~=> 3(N01)    \n",
      "    1(N01) <=~  400.25 ~=> AN        \n",
      "    1(N01) <=~  386.27 ~=> GAL~a     \n",
      "...and 117260 more\n",
      "117270 co-occurrences in tablets with measure refinedRelativeCloseness\n",
      "Written 117270 pairs to per-tablet-refinedRelativeCloseness.tsv in _temp\n",
      "Written 117270 pairs to per-tablet-refinedRelativeCloseness.tsv in report\n",
      "    1(N01) <=~  794.63 ~=> 2(N01)    \n",
      "    1(N01) <=~  642.42 ~=> 1(N14)    \n",
      "    1(N01) <=~  575.20 ~=> EN~a      \n",
      "    1(N14) <=~  573.90 ~=> 2(N01)    \n",
      "    1(N01) <=~  508.76 ~=> 3(N01)    \n",
      "    2(N01) <=~  440.13 ~=> 3(N01)    \n",
      "    1(N01) <=~  438.50 ~=> N         \n",
      "    1(N14) <=~  413.96 ~=> 3(N01)    \n",
      "    1(N01) <=~  402.80 ~=> AN        \n",
      "    1(N01) <=~  387.86 ~=> GAL~a     \n",
      "...and 117260 more\n",
      "104474 co-occurrences in faces with measure coarseRelativeCloseness\n",
      "Written 104474 pairs to per-face-coarseRelativeCloseness.tsv in _temp\n",
      "Written 104474 pairs to per-face-coarseRelativeCloseness.tsv in report\n",
      "    1(N01) <=~  767.21 ~=> 2(N01)    \n",
      "    1(N01) <=~  544.88 ~=> 1(N14)    \n",
      "    1(N01) <=~  542.05 ~=> EN~a      \n",
      "    1(N14) <=~  498.51 ~=> 2(N01)    \n",
      "    1(N01) <=~  466.00 ~=> 3(N01)    \n",
      "    2(N01) <=~  399.13 ~=> 3(N01)    \n",
      "    1(N01) <=~  382.12 ~=> AN        \n",
      "    1(N01) <=~  370.84 ~=> GAL~a     \n",
      "    1(N14) <=~  366.81 ~=> 3(N01)    \n",
      "    1(N14) <=~  356.54 ~=> 5(N01)    \n",
      "...and 104464 more\n",
      "104474 co-occurrences in faces with measure refinedRelativeCloseness\n",
      "Written 104474 pairs to per-face-refinedRelativeCloseness.tsv in _temp\n",
      "Written 104474 pairs to per-face-refinedRelativeCloseness.tsv in report\n",
      "    1(N01) <=~  778.86 ~=> 2(N01)    \n",
      "    1(N01) <=~  554.08 ~=> 1(N14)    \n",
      "    1(N01) <=~  550.54 ~=> EN~a      \n",
      "    1(N14) <=~  508.59 ~=> 2(N01)    \n",
      "    1(N01) <=~  473.24 ~=> 3(N01)    \n",
      "    2(N01) <=~  405.93 ~=> 3(N01)    \n",
      "    1(N01) <=~  385.70 ~=> AN        \n",
      "    1(N01) <=~  374.13 ~=> GAL~a     \n",
      "    1(N14) <=~  372.34 ~=> 3(N01)    \n",
      "    1(N14) <=~  362.00 ~=> 5(N01)    \n",
      "...and 104464 more\n",
      "72494 co-occurrences in columns with measure coarseRelativeCloseness\n",
      "Written 72494 pairs to per-column-coarseRelativeCloseness.tsv in _temp\n",
      "Written 72494 pairs to per-column-coarseRelativeCloseness.tsv in report\n",
      "    1(N01) <=~  708.50 ~=> 2(N01)    \n",
      "    1(N01) <=~  499.72 ~=> EN~a      \n",
      "    1(N01) <=~  434.47 ~=> 1(N14)    \n",
      "    1(N01) <=~  428.54 ~=> GAL~a     \n",
      "    1(N14) <=~  417.62 ~=> 2(N01)    \n",
      "    1(N01) <=~  383.68 ~=> AN        \n",
      "    1(N01) <=~  376.11 ~=> 3(N01)    \n",
      "    2(N01) <=~  320.32 ~=> 3(N01)    \n",
      "    1(N14) <=~  314.05 ~=> 3(N01)    \n",
      "    1(N14) <=~  312.34 ~=> 5(N01)    \n",
      "...and 72484 more\n",
      "72494 co-occurrences in columns with measure refinedRelativeCloseness\n",
      "Written 72494 pairs to per-column-refinedRelativeCloseness.tsv in _temp\n",
      "Written 72494 pairs to per-column-refinedRelativeCloseness.tsv in report\n",
      "    1(N01) <=~  732.74 ~=> 2(N01)    \n",
      "    1(N01) <=~  512.17 ~=> EN~a      \n",
      "    1(N01) <=~  448.03 ~=> 1(N14)    \n",
      "    1(N01) <=~  434.11 ~=> GAL~a     \n",
      "    1(N14) <=~  432.59 ~=> 2(N01)    \n",
      "    1(N01) <=~  390.11 ~=> AN        \n",
      "    1(N01) <=~  389.57 ~=> 3(N01)    \n",
      "    2(N01) <=~  331.33 ~=> 3(N01)    \n",
      "    1(N14) <=~  323.64 ~=> 3(N01)    \n",
      "    1(N14) <=~  322.01 ~=> 5(N01)    \n",
      "...and 72484 more\n",
      "36624 co-occurrences in lines with measure coarseRelativeCloseness\n",
      "Written 36624 pairs to per-line-coarseRelativeCloseness.tsv in _temp\n",
      "Written 36624 pairs to per-line-coarseRelativeCloseness.tsv in report\n",
      "    1(N01) <=~  388.44 ~=> GAL~a     \n",
      "    1(N01) <=~  305.27 ~=> EN~a      \n",
      "    1(N01) <=~  199.20 ~=> AN        \n",
      "    1(N01) <=~  197.67 ~=> DUG~b     \n",
      "    1(N01) <=~  182.95 ~=> 1(N14)    \n",
      "    1(N14) <=~  182.77 ~=> 2(N01)    \n",
      "    1(N01) <=~  156.82 ~=> U4        \n",
      "    1(N14) <=~  155.27 ~=> 5(N01)    \n",
      "    1(N14) <=~  143.60 ~=> 3(N01)    \n",
      "    1(N01) <=~  132.31 ~=> NAM2      \n",
      "...and 36614 more\n",
      "36624 co-occurrences in lines with measure refinedRelativeCloseness\n",
      "Written 36624 pairs to per-line-refinedRelativeCloseness.tsv in _temp\n",
      "Written 36624 pairs to per-line-refinedRelativeCloseness.tsv in report\n",
      "    1(N01) <=~  505.41 ~=> GAL~a     \n",
      "    1(N01) <=~  372.13 ~=> EN~a      \n",
      "    1(N01) <=~  250.46 ~=> AN        \n",
      "    1(N01) <=~  212.11 ~=> DUG~b     \n",
      "    1(N14) <=~  210.57 ~=> 2(N01)    \n",
      "    1(N01) <=~  209.45 ~=> 1(N14)    \n",
      "    1(N01) <=~  196.15 ~=> NAM2      \n",
      "    1(N01) <=~  187.65 ~=> U4        \n",
      "    1(N01) <=~  184.42 ~=> GISZ      \n",
      "    1(N57) <=~  172.68 ~=> U4        \n",
      "...and 36614 more\n"
     ]
    }
   ],
   "source": [
    "for obj in collocationObjects:\n",
    "    for method in closenessMethods:\n",
    "        collocationPairs.setdefault(obj, {})[method] = getPairs(obj, method)"
   ]
  },
  {
   "cell_type": "markdown",
   "metadata": {},
   "source": [
    "### Simple versus refined\n",
    "\n",
    "Does the refined measure give other results?"
   ]
  },
  {
   "cell_type": "code",
   "execution_count": 20,
   "metadata": {
    "ExecuteTime": {
     "end_time": "2018-03-05T07:04:55.556594Z",
     "start_time": "2018-03-05T07:04:55.465848Z"
    }
   },
   "outputs": [],
   "source": [
    "def comparePairs(obj, method1, method2):\n",
    "    pairs1 = sortPairsBare(collocationPairs[obj][method1])\n",
    "    pairs2 = sortPairsBare(collocationPairs[obj][method2])\n",
    "    if len(pairs1) != len(pairs2):\n",
    "        print(f'{obj:<6}: !!! {method1:>24} => {len(pairs1):>6} =/= {len(pairs2):>6} <= {method2:<24}')\n",
    "    else:\n",
    "        print(f'{obj:<6}:     {method1:>24} => {len(pairs1):>6} === {len(pairs2):>6} <= {method2:<24}')\n",
    "    firstDiff = -1\n",
    "    for (i, (pair1, pair2)) in enumerate(zip(pairs1, pairs2)):\n",
    "        if pair1 != pair2:\n",
    "            firstDiff = i\n",
    "            break\n",
    "    if firstDiff < 0:\n",
    "        if len(pairs1) == len(pairs2):\n",
    "            print('\\tIDENTICAL')\n",
    "        else:\n",
    "            methodSmall = method1 if len(pairs1) < len(pairs2) else method2\n",
    "            methodBig = method2 if len(pairs1) < len(pairs2) else method1\n",
    "            print(f'\\tPREFIX: pairs by {methodSmall} are a prefix of pairs by {methodBig}')\n",
    "    else:\n",
    "        print(f'\\tFIRST DIFFERENCE at position {firstDiff}')\n",
    "    \n",
    "    topPairs1 = pairs1[0:RESULTPAIRS]\n",
    "    topPairs2 = pairs2[0:RESULTPAIRS]\n",
    "    setTop1 = set(topPairs1)\n",
    "    setTop2 = set(topPairs2)\n",
    "\n",
    "    if setTop1 == setTop2:\n",
    "        print(f'\\tEQUAL as set of the top-{RESULTPAIRS} pairs')\n",
    "    else:\n",
    "        common = setTop1 & setTop2\n",
    "        print(f'\\tSHARE {len(common)} pairs in their top-{RESULTPAIRS}')\n",
    "    print('')"
   ]
  },
  {
   "cell_type": "code",
   "execution_count": 21,
   "metadata": {
    "ExecuteTime": {
     "end_time": "2018-03-05T07:04:58.711964Z",
     "start_time": "2018-03-05T07:04:57.206413Z"
    }
   },
   "outputs": [
    {
     "name": "stdout",
     "output_type": "stream",
     "text": [
      "tablet:      coarseRelativeCloseness => 117270 === 117270 <= refinedRelativeCloseness\n",
      "\tFIRST DIFFERENCE at position 30\n",
      "\tSHARE 996 pairs in their top-1000\n",
      "\n",
      "face  :      coarseRelativeCloseness => 104474 === 104474 <= refinedRelativeCloseness\n",
      "\tFIRST DIFFERENCE at position 25\n",
      "\tSHARE 996 pairs in their top-1000\n",
      "\n",
      "column:      coarseRelativeCloseness =>  72494 ===  72494 <= refinedRelativeCloseness\n",
      "\tFIRST DIFFERENCE at position 26\n",
      "\tSHARE 989 pairs in their top-1000\n",
      "\n",
      "line  :      coarseRelativeCloseness =>  36624 ===  36624 <= refinedRelativeCloseness\n",
      "\tFIRST DIFFERENCE at position 4\n",
      "\tSHARE 934 pairs in their top-1000\n",
      "\n"
     ]
    }
   ],
   "source": [
    "for obj in collocationObjects:\n",
    "    comparePairs(obj, *closenessMethods)"
   ]
  },
  {
   "cell_type": "markdown",
   "metadata": {},
   "source": [
    "**Observation**\n",
    "\n",
    "The more fine-grained your object of collocation is, the bigger the differences between\n",
    "the refined and the coarse closeness measures.\n",
    "\n",
    "But all in all, the difference remains pretty small."
   ]
  },
  {
   "cell_type": "markdown",
   "metadata": {
    "variables": {
     "RESULTPAIRS": "<p><strong>NameError</strong>: name &#39;RESULTPAIRS&#39; is not defined</p>\n"
    }
   },
   "source": [
    "## Results\n",
    "\n",
    "The top {{RESULTPAIRS}} can be viewed online."
   ]
  },
  {
   "cell_type": "code",
   "execution_count": 22,
   "metadata": {
    "ExecuteTime": {
     "end_time": "2018-03-05T07:05:14.735715Z",
     "start_time": "2018-03-05T07:05:14.714062Z"
    }
   },
   "outputs": [
    {
     "data": {
      "text/markdown": [
       "[tablet-coarseRelativeCloseness](https://github.com/Dans-labs/Nino-cunei/blob/master/reports/collocation/per-tablet-coarseRelativeCloseness.tsv)\n",
       "\n",
       "[tablet-refinedRelativeCloseness](https://github.com/Dans-labs/Nino-cunei/blob/master/reports/collocation/per-tablet-refinedRelativeCloseness.tsv)\n",
       "\n",
       "[face-coarseRelativeCloseness](https://github.com/Dans-labs/Nino-cunei/blob/master/reports/collocation/per-face-coarseRelativeCloseness.tsv)\n",
       "\n",
       "[face-refinedRelativeCloseness](https://github.com/Dans-labs/Nino-cunei/blob/master/reports/collocation/per-face-refinedRelativeCloseness.tsv)\n",
       "\n",
       "[column-coarseRelativeCloseness](https://github.com/Dans-labs/Nino-cunei/blob/master/reports/collocation/per-column-coarseRelativeCloseness.tsv)\n",
       "\n",
       "[column-refinedRelativeCloseness](https://github.com/Dans-labs/Nino-cunei/blob/master/reports/collocation/per-column-refinedRelativeCloseness.tsv)\n",
       "\n",
       "[line-coarseRelativeCloseness](https://github.com/Dans-labs/Nino-cunei/blob/master/reports/collocation/per-line-coarseRelativeCloseness.tsv)\n",
       "\n",
       "[line-refinedRelativeCloseness](https://github.com/Dans-labs/Nino-cunei/blob/master/reports/collocation/per-line-refinedRelativeCloseness.tsv)\n",
       "\n"
      ],
      "text/plain": [
       "<IPython.core.display.Markdown object>"
      ]
     },
     "metadata": {},
     "output_type": "display_data"
    }
   ],
   "source": [
    "resultLinks = []\n",
    "for obj in collocationObjects:\n",
    "    for method in closenessMethods:\n",
    "        resultLinks.append(f'[{obj}-{method}]({RESULT_GH}/per-{obj}-{method}.tsv)\\n\\n')\n",
    "\n",
    "RESULT_LINKS = ''.join(resultLinks)\n",
    "display(Markdown(RESULT_LINKS))"
   ]
  },
  {
   "cell_type": "markdown",
   "metadata": {},
   "source": [
    "## Alternatives\n",
    "\n",
    "In [clustering](clustering.ipynb) we explore how we can cluster signs."
   ]
  },
  {
   "cell_type": "code",
   "execution_count": null,
   "metadata": {},
   "outputs": [],
   "source": []
  }
 ],
 "metadata": {
  "kernelspec": {
   "display_name": "Python 3",
   "language": "python",
   "name": "python3"
  },
  "language_info": {
   "codemirror_mode": {
    "name": "ipython",
    "version": 3
   },
   "file_extension": ".py",
   "mimetype": "text/x-python",
   "name": "python",
   "nbconvert_exporter": "python",
   "pygments_lexer": "ipython3",
   "version": "3.6.4"
  },
  "toc": {
   "nav_menu": {},
   "number_sections": true,
   "sideBar": true,
   "skip_h1_title": true,
   "toc_cell": true,
   "toc_position": {},
   "toc_section_display": "block",
   "toc_window_display": true
  }
 },
 "nbformat": 4,
 "nbformat_minor": 2
}
