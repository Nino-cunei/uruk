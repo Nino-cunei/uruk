{
 "cells": [
  {
   "cell_type": "markdown",
   "metadata": {
    "toc": true
   },
   "source": [
    "<h1>Table of Contents<span class=\"tocSkip\"></span></h1>\n",
    "<div class=\"toc\" style=\"margin-top: 1em;\"><ul class=\"toc-item\"><li><span><a href=\"#Lineart\" data-toc-modified-id=\"Lineart-1\"><span class=\"toc-item-num\">1&nbsp;&nbsp;</span>Lineart</a></span><ul class=\"toc-item\"><li><span><a href=\"#Provenance\" data-toc-modified-id=\"Provenance-1.1\"><span class=\"toc-item-num\">1.1&nbsp;&nbsp;</span>Provenance</a></span></li><li><span><a href=\"#Image-processing\" data-toc-modified-id=\"Image-processing-1.2\"><span class=\"toc-item-num\">1.2&nbsp;&nbsp;</span>Image processing</a></span></li><li><span><a href=\"#Image-management\" data-toc-modified-id=\"Image-management-1.3\"><span class=\"toc-item-num\">1.3&nbsp;&nbsp;</span>Image management</a></span></li><li><span><a href=\"#Images-in-Jupyter-notebooks\" data-toc-modified-id=\"Images-in-Jupyter-notebooks-1.4\"><span class=\"toc-item-num\">1.4&nbsp;&nbsp;</span>Images in Jupyter notebooks</a></span></li><li><span><a href=\"#The-lineart-function\" data-toc-modified-id=\"The-lineart-function-1.5\"><span class=\"toc-item-num\">1.5&nbsp;&nbsp;</span>The <code>lineart</code> function</a></span></li><li><span><a href=\"#Reference-docs\" data-toc-modified-id=\"Reference-docs-1.6\"><span class=\"toc-item-num\">1.6&nbsp;&nbsp;</span>Reference docs</a></span></li></ul></li><li><span><a href=\"#Tablets\" data-toc-modified-id=\"Tablets-2\"><span class=\"toc-item-num\">2&nbsp;&nbsp;</span>Tablets</a></span><ul class=\"toc-item\"><li><span><a href=\"#Keys\" data-toc-modified-id=\"Keys-2.1\"><span class=\"toc-item-num\">2.1&nbsp;&nbsp;</span>Keys</a></span></li></ul></li><li><span><a href=\"#Ideographs\" data-toc-modified-id=\"Ideographs-3\"><span class=\"toc-item-num\">3&nbsp;&nbsp;</span>Ideographs</a></span><ul class=\"toc-item\"><li><span><a href=\"#Images-in-a-row\" data-toc-modified-id=\"Images-in-a-row-3.1\"><span class=\"toc-item-num\">3.1&nbsp;&nbsp;</span>Images in a row</a></span></li></ul></li><li><span><a href=\"#Annotated-images\" data-toc-modified-id=\"Annotated-images-4\"><span class=\"toc-item-num\">4&nbsp;&nbsp;</span>Annotated images</a></span><ul class=\"toc-item\"><li><span><a href=\"#Resize\" data-toc-modified-id=\"Resize-4.1\"><span class=\"toc-item-num\">4.1&nbsp;&nbsp;</span>Resize</a></span></li></ul></li></ul></div>"
   ]
  },
  {
   "cell_type": "markdown",
   "metadata": {},
   "source": [
    "<img align=\"right\" src=\"images/tf-small.png\"/>\n",
    "\n",
    "\n",
    "## Lineart\n",
    "\n",
    "The **Cuneiform Digital Library Initiative** [CDLI](https://cdli.ucla.edu)\n",
    "contains lineart imagery for tablets and individual ideographs in the\n",
    "[Uruk IV/III](http://cdli.ox.ac.uk/wiki/doku.php?id=proto-cuneiform)\n",
    "corpus.\n",
    "\n",
    "Here we show how we can employ them.\n",
    "\n",
    "### Provenance\n",
    "\n",
    "We downloaded the image files from CDLI\n",
    "[Downloads page](https://cdli.ucla.edu/?q=downloads),\n",
    "and processed them for optimal usage\n",
    "in GitHub repositories and Jupyter notebooks.\n",
    "\n",
    "Here are the direct download links we used:\n",
    "\n",
    "* for tablets:\n",
    "  [Postscript files, cdli texts](https://cdli.ucla.edu/tools/cdlifiles/cdli_epstextcopies.zip)\n",
    "* for ideographs and numerals:\n",
    "  [Proto-cuneiform signs: 300ppi jpg](https://cdli.ucla.edu/tools/cdlifiles/signlists/archsignfiles_jpg.zip)\n",
    "  \n",
    "### Image processing\n",
    "The tablets came as `.eps` files.\n",
    "We transformed them with `ps2pdf`, a program of GhostScript, downloaded as part of\n",
    "[ImageMagick](https://www.imagemagick.org/script/index.php).\n",
    "\n",
    "This was the command:\n",
    "\n",
    "```\n",
    "ps2pdf -dEPSCrop image.eps image.pdf\n",
    "```\n",
    "\n",
    "For the ideographs and numerals we used the jpg versions.\n",
    "But we needed to crop them, because especially the numerals were little drawings\n",
    "on a page size canvas. We cropped automatically by means of ImageMagick:\n",
    "\n",
    "```\n",
    "magick original.jpg -trim +repage cropped.jpg\n",
    "```\n",
    "\n",
    "### Image management\n",
    "We have ca. 5000 image files, together ca. 100 MB.\n",
    "This fits well into a GitHub repository.\n",
    "\n",
    "In this repo, they are in `/sources/cdli/images`.\n",
    "\n",
    "### Images in Jupyter notebooks\n",
    "When a notebook refers to an image file in one of its markdown cells,\n",
    "the image file must be within reach, i.e. in the directory tree\n",
    "with the notebook directory at the top.\n",
    "\n",
    "A notebook can also display an image as output of a code cell.\n",
    "In that case, Python can find the image from everywhere.\n",
    "\n",
    "We want a consistent availability of images, hence we have chosen for the following\n",
    "tactic.\n",
    "\n",
    "Whenever we call in a notebook by means of the Cunei *lineart* function (see below),\n",
    "the function will be copied to a directory `cdli-imagery` next to the notebook,\n",
    "and from there the image will be included.\n",
    "\n",
    "### The `lineart` function\n",
    "\n",
    "We have made made a utility function `lineart(nodes)` in the *cunei* module.\n",
    "The idea is that it looks up the linearts for nodes, and shows them in a row.\n",
    "We will explain this in the rest of the notebook.\n",
    "\n",
    "\n",
    "### Reference docs\n",
    "The functions used by this notebook are documented in the following places:\n",
    "\n",
    "[Feature docs](https://github.com/Dans-labs/Nino-cunei/blob/master/docs/transcription.md)\n",
    "\n",
    "[Cunei API](https://github.com/Dans-labs/Nino-cunei/blob/master/docs/cunei.md)\n",
    "\n",
    "[Utils API](https://github.com/Dans-labs/Nino-cunei/blob/master/docs/utils.md)\n",
    "\n",
    "[Text-Fabric API](https://github.com/Dans-labs/text-fabric)\n",
    "\n",
    "\n",
    "# Authors\n",
    "\n",
    "J. Cale Johnson and Dirk Roorda (see the \n",
    "[README](https://github.com/Dans-labs/Nino-cunei)\n",
    "of this repository)."
   ]
  },
  {
   "cell_type": "markdown",
   "metadata": {},
   "source": [
    "# Start up\n",
    "\n",
    "We import the Python modules we need."
   ]
  },
  {
   "cell_type": "code",
   "execution_count": 1,
   "metadata": {
    "ExecuteTime": {
     "end_time": "2018-03-04T20:03:08.452139Z",
     "start_time": "2018-03-04T20:03:08.430490Z"
    }
   },
   "outputs": [],
   "source": [
    "%load_ext autoreload\n",
    "%autoreload 2"
   ]
  },
  {
   "cell_type": "code",
   "execution_count": 2,
   "metadata": {
    "ExecuteTime": {
     "end_time": "2018-03-04T20:03:08.473523Z",
     "start_time": "2018-03-04T20:03:08.454611Z"
    }
   },
   "outputs": [],
   "source": [
    "import os, sys\n",
    "from IPython.display import display\n",
    "from tf.fabric import Fabric"
   ]
  },
  {
   "cell_type": "markdown",
   "metadata": {},
   "source": [
    "We set up our working locations on the file system."
   ]
  },
  {
   "cell_type": "code",
   "execution_count": 3,
   "metadata": {
    "ExecuteTime": {
     "end_time": "2018-03-04T20:03:08.642175Z",
     "start_time": "2018-03-04T20:03:08.623101Z"
    }
   },
   "outputs": [],
   "source": [
    "GITHUB = 'https://github.com'\n",
    "REPO_REL = 'Dans-labs/Nino-cunei'\n",
    "REPO = f'~/github/{REPO_REL}'\n",
    "SOURCE = 'uruk'\n",
    "VERSION = '0.1'\n",
    "CORPUS = f'{REPO}/tf/{SOURCE}/{VERSION}'\n",
    "SOURCE_DIR = os.path.expanduser(f'{REPO}/sources/cdli')\n",
    "IMAGE_DIR = f'{SOURCE_DIR}/images'\n",
    "PROGRAM_DIR = os.path.expanduser(f'{REPO}/programs')\n",
    "TEMP_DIR = os.path.expanduser(f'{REPO}/_temp')"
   ]
  },
  {
   "cell_type": "markdown",
   "metadata": {},
   "source": [
    "We create the temporary and report directories, if they do not exist already."
   ]
  },
  {
   "cell_type": "code",
   "execution_count": 4,
   "metadata": {
    "ExecuteTime": {
     "end_time": "2018-03-04T20:03:08.823228Z",
     "start_time": "2018-03-04T20:03:08.806230Z"
    }
   },
   "outputs": [],
   "source": [
    "sys.path.append(PROGRAM_DIR)\n",
    "from cunei import Cunei\n",
    "from utils import Compare"
   ]
  },
  {
   "cell_type": "code",
   "execution_count": 5,
   "metadata": {
    "ExecuteTime": {
     "end_time": "2018-03-04T20:03:08.846274Z",
     "start_time": "2018-03-04T20:03:08.826053Z"
    }
   },
   "outputs": [
    {
     "name": "stdout",
     "output_type": "stream",
     "text": [
      "This is Text-Fabric 3.2.2\n",
      "Api reference : https://github.com/Dans-labs/text-fabric/wiki/Api\n",
      "Tutorial      : https://github.com/Dans-labs/text-fabric/blob/master/docs/tutorial.ipynb\n",
      "Example data  : https://github.com/Dans-labs/text-fabric-data\n",
      "\n",
      "33 features found and 0 ignored\n"
     ]
    }
   ],
   "source": [
    "TF = Fabric(locations=[CORPUS], modules=[''], silent=False )"
   ]
  },
  {
   "cell_type": "code",
   "execution_count": 6,
   "metadata": {
    "ExecuteTime": {
     "end_time": "2018-03-04T20:03:09.883413Z",
     "start_time": "2018-03-04T20:03:08.848898Z"
    }
   },
   "outputs": [
    {
     "name": "stdout",
     "output_type": "stream",
     "text": [
      "  0.00s loading features ...\n",
      "   |     0.00s B catalogId            from /Users/dirk/github/Dans-labs/Nino-cunei/tf/uruk/0.1\n",
      "   |     0.02s B fullNumber           from /Users/dirk/github/Dans-labs/Nino-cunei/tf/uruk/0.1\n",
      "   |     0.01s B number               from /Users/dirk/github/Dans-labs/Nino-cunei/tf/uruk/0.1\n",
      "   |     0.05s B grapheme             from /Users/dirk/github/Dans-labs/Nino-cunei/tf/uruk/0.1\n",
      "   |     0.03s B srcLn                from /Users/dirk/github/Dans-labs/Nino-cunei/tf/uruk/0.1\n",
      "   |     0.02s B srcLnNum             from /Users/dirk/github/Dans-labs/Nino-cunei/tf/uruk/0.1\n",
      "   |     0.00s B prime                from /Users/dirk/github/Dans-labs/Nino-cunei/tf/uruk/0.1\n",
      "   |     0.01s B repeat               from /Users/dirk/github/Dans-labs/Nino-cunei/tf/uruk/0.1\n",
      "   |     0.01s B variant              from /Users/dirk/github/Dans-labs/Nino-cunei/tf/uruk/0.1\n",
      "   |     0.00s B variantOuter         from /Users/dirk/github/Dans-labs/Nino-cunei/tf/uruk/0.1\n",
      "   |     0.00s B modifier             from /Users/dirk/github/Dans-labs/Nino-cunei/tf/uruk/0.1\n",
      "   |     0.00s B modifierInner        from /Users/dirk/github/Dans-labs/Nino-cunei/tf/uruk/0.1\n",
      "   |     0.00s B modifierFirst        from /Users/dirk/github/Dans-labs/Nino-cunei/tf/uruk/0.1\n",
      "   |     0.00s B damage               from /Users/dirk/github/Dans-labs/Nino-cunei/tf/uruk/0.1\n",
      "   |     0.00s B uncertain            from /Users/dirk/github/Dans-labs/Nino-cunei/tf/uruk/0.1\n",
      "   |     0.00s B remarkable           from /Users/dirk/github/Dans-labs/Nino-cunei/tf/uruk/0.1\n",
      "   |     0.00s B written              from /Users/dirk/github/Dans-labs/Nino-cunei/tf/uruk/0.1\n",
      "   |     0.00s B period               from /Users/dirk/github/Dans-labs/Nino-cunei/tf/uruk/0.1\n",
      "   |     0.00s B name                 from /Users/dirk/github/Dans-labs/Nino-cunei/tf/uruk/0.1\n",
      "   |     0.07s B type                 from /Users/dirk/github/Dans-labs/Nino-cunei/tf/uruk/0.1\n",
      "   |     0.00s B identifier           from /Users/dirk/github/Dans-labs/Nino-cunei/tf/uruk/0.1\n",
      "   |     0.00s B origNumber           from /Users/dirk/github/Dans-labs/Nino-cunei/tf/uruk/0.1\n",
      "   |     0.00s B badNumbering         from /Users/dirk/github/Dans-labs/Nino-cunei/tf/uruk/0.1\n",
      "   |     0.00s B crossref             from /Users/dirk/github/Dans-labs/Nino-cunei/tf/uruk/0.1\n",
      "   |     0.01s B text                 from /Users/dirk/github/Dans-labs/Nino-cunei/tf/uruk/0.1\n",
      "   |     0.00s B op                   from /Users/dirk/github/Dans-labs/Nino-cunei/tf/uruk/0.1\n",
      "   |     0.09s B sub                  from /Users/dirk/github/Dans-labs/Nino-cunei/tf/uruk/0.1\n",
      "   |     0.01s B comments             from /Users/dirk/github/Dans-labs/Nino-cunei/tf/uruk/0.1\n",
      "   |     0.00s Feature overview: 28 for nodes; 4 for edges; 1 configs; 7 computed\n",
      "  1.02s All features loaded/computed - for details use loadLog()\n"
     ]
    }
   ],
   "source": [
    "api = TF.load('''\n",
    "    grapheme prime repeat\n",
    "    variant variantOuter\n",
    "    modifier modifierInner modifierFirst\n",
    "    damage uncertain remarkable written\n",
    "    period name type identifier catalogId\n",
    "    number fullNumber origNumber badNumbering\n",
    "    crossref text\n",
    "    srcLn srcLnNum\n",
    "    op sub comments\n",
    "''')\n",
    "api.makeAvailableIn(globals())"
   ]
  },
  {
   "cell_type": "code",
   "execution_count": 7,
   "metadata": {
    "ExecuteTime": {
     "end_time": "2018-03-04T20:03:09.950136Z",
     "start_time": "2018-03-04T20:03:09.887401Z"
    }
   },
   "outputs": [
    {
     "name": "stdout",
     "output_type": "stream",
     "text": [
      "Found 2724 tablet linearts\n",
      "Found 2095 ideographs\n"
     ]
    }
   ],
   "source": [
    "CUNEI = Cunei(api, IMAGE_DIR)\n",
    "COMP = Compare(api, SOURCE_DIR, TEMP_DIR)"
   ]
  },
  {
   "cell_type": "markdown",
   "metadata": {},
   "source": [
    "## Tablets"
   ]
  },
  {
   "cell_type": "markdown",
   "metadata": {},
   "source": [
    "We call lineart with a tablet *node*.\n",
    "We need to give it a width, and a height. \n",
    "The *width* act as a scaling parameter as well."
   ]
  },
  {
   "cell_type": "code",
   "execution_count": 19,
   "metadata": {
    "ExecuteTime": {
     "end_time": "2018-03-04T21:10:39.104435Z",
     "start_time": "2018-03-04T21:10:39.077619Z"
    }
   },
   "outputs": [
    {
     "data": {
      "text/html": [
       "\n",
       "        <div>\n",
       "            \n",
       "<!--<img src=\"cdli-imagery/P003553_l.pdf\" style=\"display: inline;\" height=\"720\" />-->\n",
       "<iframe src=\"cdli-imagery/P003553_l.pdf\" style=\"display: inline;\" height=\"720\" />\n",
       "\n",
       "        </div>\n"
      ],
      "text/plain": [
       "<IPython.core.display.HTML object>"
      ]
     },
     "metadata": {},
     "output_type": "display_data"
    }
   ],
   "source": [
    "testTablet = T.nodeFromSection(('P003553',))\n",
    "display(CUNEI.lineart(testTablet, height=\"720\"))"
   ]
  },
  {
   "cell_type": "markdown",
   "metadata": {},
   "source": [
    "### Keys\n",
    "\n",
    "Some tablets have additional linearts.\n",
    "We can select them by their *key*. \n",
    "The default lineart is keyed by the empty string,\n",
    "and this one will be chosen if you do not pass a key, as we did above.\n",
    "\n",
    "In order to know which keys there are for a tablet, just call lineart with a non-existing key:"
   ]
  },
  {
   "cell_type": "code",
   "execution_count": 9,
   "metadata": {
    "ExecuteTime": {
     "end_time": "2018-03-04T20:03:09.994975Z",
     "start_time": "2018-03-04T20:03:09.976876Z"
    }
   },
   "outputs": [
    {
     "data": {
      "text/html": [
       "\n",
       "        <div>\n",
       "            \n",
       "<b>try</b>\n",
       "<code>key='</code><i>k</i><code>'</code>\n",
       "for <i>k</i> one of\n",
       "<code></code> <code>d</code>\n",
       "\n",
       "        </div>\n"
      ],
      "text/plain": [
       "<IPython.core.display.HTML object>"
      ]
     },
     "metadata": {},
     "output_type": "display_data"
    }
   ],
   "source": [
    "display(CUNEI.lineart(testTablet, key='xxx', width=200, height=400))"
   ]
  },
  {
   "cell_type": "markdown",
   "metadata": {},
   "source": [
    "So this tablet has the empty k, and also key `d`.\n",
    "Let's get the latter one:"
   ]
  },
  {
   "cell_type": "code",
   "execution_count": 22,
   "metadata": {
    "ExecuteTime": {
     "end_time": "2018-03-04T21:11:00.329569Z",
     "start_time": "2018-03-04T21:11:00.309664Z"
    },
    "scrolled": false
   },
   "outputs": [
    {
     "data": {
      "text/html": [
       "\n",
       "        <div>\n",
       "            \n",
       "<!--<img src=\"cdli-imagery/P003553_ld.pdf\" style=\"display: inline;\" width=\"700\" height=\"450\" />-->\n",
       "<iframe src=\"cdli-imagery/P003553_ld.pdf\" style=\"display: inline;\" width=\"700\" height=\"450\" />\n",
       "\n",
       "        </div>\n"
      ],
      "text/plain": [
       "<IPython.core.display.HTML object>"
      ]
     },
     "metadata": {},
     "output_type": "display_data"
    }
   ],
   "source": [
    "display(CUNEI.lineart(testTablet, key='d', width=700, height=450))"
   ]
  },
  {
   "cell_type": "markdown",
   "metadata": {},
   "source": [
    "We navigate to our famous example tablet and show the lineart."
   ]
  },
  {
   "cell_type": "code",
   "execution_count": 23,
   "metadata": {
    "ExecuteTime": {
     "end_time": "2018-03-04T21:11:06.296480Z",
     "start_time": "2018-03-04T21:11:06.275031Z"
    }
   },
   "outputs": [
    {
     "data": {
      "text/html": [
       "\n",
       "        <div>\n",
       "            \n",
       "<!--<img src=\"cdli-imagery/P005381_l.pdf\" style=\"display: inline;\" width=\"200\" height=\"630\" />-->\n",
       "<iframe src=\"cdli-imagery/P005381_l.pdf\" style=\"display: inline;\" width=\"200\" height=\"630\" />\n",
       "\n",
       "        </div>\n"
      ],
      "text/plain": [
       "<IPython.core.display.HTML object>"
      ]
     },
     "execution_count": 23,
     "metadata": {},
     "output_type": "execute_result"
    }
   ],
   "source": [
    "pNum = 'P005381'\n",
    "exampleTablet = T.nodeFromSection((pNum,))\n",
    "CUNEI.lineart(exampleTablet, width=200, height=630)"
   ]
  },
  {
   "cell_type": "markdown",
   "metadata": {},
   "source": [
    "We also want to see the transcription."
   ]
  },
  {
   "cell_type": "code",
   "execution_count": 12,
   "metadata": {
    "ExecuteTime": {
     "end_time": "2018-03-04T20:03:10.081259Z",
     "start_time": "2018-03-04T20:03:10.059294Z"
    }
   },
   "outputs": [
    {
     "name": "stdout",
     "output_type": "stream",
     "text": [
      "&P005381 = MSVO 3, 70\n",
      "#version: 0.1\n",
      "#atf: lang qpc\n",
      "@obverse\n",
      "@column 1\n",
      "1.a. 2(N14) , SZE~a SAL TUR3~a NUN~a\n",
      "1.b. 3(N19) , |GISZ.TE|\n",
      "2. 1(N14) , NAR NUN~a SIG7\n",
      "3. 2(N04)# , PIRIG~b1 SIG7 URI3~a NUN~a\n",
      "@column 2\n",
      "1. 3(N04) , |GISZ.TE| GAR |SZU2.((HI+1(N57))+(HI+1(N57)))| GI4~a\n",
      "2. , GU7 AZ SI4~f\n",
      "@reverse\n",
      "@column 1\n",
      "1. 3(N14) , SZE~a\n",
      "2. 3(N19) 5(N04) ,\n",
      "3. , GU7\n",
      "@column 2\n",
      "1. , AZ SI4~f\n"
     ]
    }
   ],
   "source": [
    "sourceLines = COMP.getSource(exampleTablet)\n",
    "print('\\n'.join(sourceLines))"
   ]
  },
  {
   "cell_type": "markdown",
   "metadata": {},
   "source": [
    "## Ideographs\n",
    "\n",
    "We want to show the ideographs for case `1.a` in column 1."
   ]
  },
  {
   "cell_type": "code",
   "execution_count": 13,
   "metadata": {
    "ExecuteTime": {
     "end_time": "2018-03-04T20:03:10.277113Z",
     "start_time": "2018-03-04T20:03:10.252030Z"
    },
    "scrolled": false
   },
   "outputs": [
    {
     "data": {
      "text/html": [
       "\n",
       "        <div>\n",
       "            \n",
       "<img src=\"cdli-imagery/2(N14).jpg\" style=\"display: inline;\" width=\"50\" />\n",
       "\n",
       "        </div>\n"
      ],
      "text/plain": [
       "<IPython.core.display.HTML object>"
      ]
     },
     "metadata": {},
     "output_type": "display_data"
    },
    {
     "data": {
      "text/html": [
       "\n",
       "        <div>\n",
       "            \n",
       "<img src=\"cdli-imagery/SZE~a.jpg\" style=\"display: inline;\" width=\"50\" />\n",
       "\n",
       "        </div>\n"
      ],
      "text/plain": [
       "<IPython.core.display.HTML object>"
      ]
     },
     "metadata": {},
     "output_type": "display_data"
    },
    {
     "data": {
      "text/html": [
       "\n",
       "        <div>\n",
       "            \n",
       "<img src=\"cdli-imagery/SAL.jpg\" style=\"display: inline;\" width=\"50\" />\n",
       "\n",
       "        </div>\n"
      ],
      "text/plain": [
       "<IPython.core.display.HTML object>"
      ]
     },
     "metadata": {},
     "output_type": "display_data"
    },
    {
     "data": {
      "text/html": [
       "\n",
       "        <div>\n",
       "            \n",
       "<img src=\"cdli-imagery/TUR3~a.jpg\" style=\"display: inline;\" width=\"50\" />\n",
       "\n",
       "        </div>\n"
      ],
      "text/plain": [
       "<IPython.core.display.HTML object>"
      ]
     },
     "metadata": {},
     "output_type": "display_data"
    },
    {
     "data": {
      "text/html": [
       "\n",
       "        <div>\n",
       "            \n",
       "<img src=\"cdli-imagery/NUN~a.jpg\" style=\"display: inline;\" width=\"50\" />\n",
       "\n",
       "        </div>\n"
      ],
      "text/plain": [
       "<IPython.core.display.HTML object>"
      ]
     },
     "metadata": {},
     "output_type": "display_data"
    }
   ],
   "source": [
    "case = CUNEI.nodeFromCase(('P005381', 'obverse:1', '1a'))\n",
    "for ideo in CUNEI.getOuterQuads(case):\n",
    "    display(CUNEI.lineart(ideo, width=50))"
   ]
  },
  {
   "cell_type": "markdown",
   "metadata": {},
   "source": [
    "Note, that in order to output multiple images, we need to wrap the `CUNEI.lineart()` function in a\n",
    "`display()` call.\n",
    "\n",
    "Note also that the images are stacked vertically."
   ]
  },
  {
   "cell_type": "markdown",
   "metadata": {},
   "source": [
    "### Images in a row\n",
    "\n",
    "You can also have `lineart()` put images in a row.\n",
    "Just pass multiple nodes to it:"
   ]
  },
  {
   "cell_type": "code",
   "execution_count": 14,
   "metadata": {
    "ExecuteTime": {
     "end_time": "2018-03-04T20:03:10.639376Z",
     "start_time": "2018-03-04T20:03:10.624243Z"
    }
   },
   "outputs": [
    {
     "data": {
      "text/html": [
       "\n",
       "        <div>\n",
       "            \n",
       "<img src=\"cdli-imagery/2(N14).jpg\" style=\"display: inline;\" width=\"50\" />\n",
       "\n",
       "\n",
       "<img src=\"cdli-imagery/SZE~a.jpg\" style=\"display: inline;\" width=\"50\" />\n",
       "\n",
       "\n",
       "<img src=\"cdli-imagery/SAL.jpg\" style=\"display: inline;\" width=\"50\" />\n",
       "\n",
       "\n",
       "<img src=\"cdli-imagery/TUR3~a.jpg\" style=\"display: inline;\" width=\"50\" />\n",
       "\n",
       "\n",
       "<img src=\"cdli-imagery/NUN~a.jpg\" style=\"display: inline;\" width=\"50\" />\n",
       "\n",
       "        </div>\n"
      ],
      "text/plain": [
       "<IPython.core.display.HTML object>"
      ]
     },
     "metadata": {},
     "output_type": "display_data"
    }
   ],
   "source": [
    "display(CUNEI.lineart(CUNEI.getOuterQuads(case), width=50))"
   ]
  },
  {
   "cell_type": "markdown",
   "metadata": {},
   "source": [
    "## Annotated images\n",
    "\n",
    "If you want to use an annotated image in a markdown cell, just copy one of the\n",
    "images you find in the (new) `cdli-imagery` directory over to the `images` directory\n",
    "(or any near directory you like). You might want to give it an other name.\n",
    "\n",
    "Use an image editor to annotate the image, and use it like this:\n",
    "\n",
    "```markdown\n",
    "![dummy](images/P005381_l-obverse-1a.png)\n",
    "```"
   ]
  },
  {
   "cell_type": "markdown",
   "metadata": {},
   "source": [
    "![dummy](images/P005381_l-obverse-1a.png)"
   ]
  },
  {
   "cell_type": "markdown",
   "metadata": {},
   "source": [
    "### Resize\n",
    "\n",
    "Or, if you want to resize:\n",
    "\n",
    "```html\n",
    "<img src=\"images/P005381_l-obverse-1a.png\" width=\"25%\" />\n",
    "```"
   ]
  },
  {
   "cell_type": "markdown",
   "metadata": {},
   "source": [
    "<img src=\"images/P005381_l-obverse-1a.png\" width=\"25%\" />"
   ]
  },
  {
   "cell_type": "code",
   "execution_count": null,
   "metadata": {},
   "outputs": [],
   "source": []
  }
 ],
 "metadata": {
  "kernelspec": {
   "display_name": "Python 3",
   "language": "python",
   "name": "python3"
  },
  "language_info": {
   "codemirror_mode": {
    "name": "ipython",
    "version": 3
   },
   "file_extension": ".py",
   "mimetype": "text/x-python",
   "name": "python",
   "nbconvert_exporter": "python",
   "pygments_lexer": "ipython3",
   "version": "3.6.4"
  },
  "toc": {
   "nav_menu": {},
   "number_sections": true,
   "sideBar": true,
   "skip_h1_title": true,
   "toc_cell": true,
   "toc_position": {
    "height": "607px",
    "left": "0px",
    "right": "995px",
    "top": "110px",
    "width": "285px"
   },
   "toc_section_display": "block",
   "toc_window_display": true
  }
 },
 "nbformat": 4,
 "nbformat_minor": 2
}
