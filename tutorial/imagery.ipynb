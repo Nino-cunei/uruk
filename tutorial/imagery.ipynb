{
 "cells": [
  {
   "cell_type": "markdown",
   "metadata": {},
   "source": [
    "<img align=\"right\" src=\"images/ninologo.png\" width=\"150\"/>\n",
    "<img align=\"right\" src=\"images/tf-small.png\" width=\"125\"/>\n",
    "<img align=\"right\" src=\"images/dans.png\" width=\"150\"/>\n",
    "\n",
    "# Imagery\n",
    "\n",
    "The **Cuneiform Digital Library Initiative** [CDLI](https://cdli.ucla.edu)\n",
    "contains photographic and lineart imagery for tablets and individual ideographs in the\n",
    "[Uruk IV/III](http://cdli.ox.ac.uk/wiki/doku.php?id=proto-cuneiform)\n",
    "corpus.\n",
    "\n",
    "Here we show how we can employ them.\n",
    "\n",
    "More details of the provenance of the images can be found\n",
    "in [about](https://github.com/Nino-cunei/uruk/blob/master/docs/images.md)."
   ]
  },
  {
   "cell_type": "markdown",
   "metadata": {},
   "source": [
    "## The `lineart` and `photo` and `cdli` functions\n",
    "\n",
    "We have made utility functions `lineart(nodes)` and `photo(nodes)` in the *cunei* module.\n",
    "They look up the photos and linearts for nodes, and show them in a row.\n",
    "\n",
    "The `cdli(node)` function produces a link to the archival page of the tablet corresponding to `node`.\n",
    "\n",
    "**Caveat:** We will use a few functions we have not explained before.\n",
    "See this chapter as a showcase of what can be done.\n",
    "You want to return to this after you have digested further chapters."
   ]
  },
  {
   "cell_type": "markdown",
   "metadata": {
    "tags": []
   },
   "source": [
    "# Start up\n",
    "\n",
    "We import the Python modules we need."
   ]
  },
  {
   "cell_type": "code",
   "execution_count": 1,
   "metadata": {},
   "outputs": [],
   "source": [
    "%load_ext autoreload\n",
    "%autoreload 2"
   ]
  },
  {
   "cell_type": "code",
   "execution_count": 2,
   "metadata": {
    "ExecuteTime": {
     "end_time": "2018-05-11T09:55:49.273562Z",
     "start_time": "2018-05-11T09:55:49.213976Z"
    }
   },
   "outputs": [],
   "source": [
    "from tf.app import use"
   ]
  },
  {
   "cell_type": "markdown",
   "metadata": {},
   "source": [
    "We set up our working locations on the file system."
   ]
  },
  {
   "cell_type": "code",
   "execution_count": 3,
   "metadata": {
    "ExecuteTime": {
     "end_time": "2018-05-11T09:55:52.338159Z",
     "start_time": "2018-05-11T09:55:51.035984Z"
    }
   },
   "outputs": [
    {
     "data": {
      "text/markdown": [
       "**Locating corpus resources ...**"
      ],
      "text/plain": [
       "<IPython.core.display.Markdown object>"
      ]
     },
     "metadata": {},
     "output_type": "display_data"
    },
    {
     "data": {
      "text/html": [
       "<b title=\"local commit\">app:</b> <span title=\"#7da6cb7cd9dffb12aff5e35639078029727a90e7 offline under /Users/me/text-fabric-data/github\">~/text-fabric-data/github/Nino-cunei/uruk/app</span>"
      ],
      "text/plain": [
       "<IPython.core.display.HTML object>"
      ]
     },
     "metadata": {},
     "output_type": "display_data"
    },
    {
     "data": {
      "text/html": [
       "<b title=\"local commit\">data:</b> <span title=\"#7da6cb7cd9dffb12aff5e35639078029727a90e7 offline under /Users/me/text-fabric-data/github\">~/text-fabric-data/github/Nino-cunei/uruk/tf/1.0</span>"
      ],
      "text/plain": [
       "<IPython.core.display.HTML object>"
      ]
     },
     "metadata": {},
     "output_type": "display_data"
    },
    {
     "data": {
      "text/html": [
       "\n",
       "            <b>Text-Fabric:</b> <a target=\"_blank\" href=\"https://annotation.github.io/text-fabric/tf/cheatsheet.html\" title=\"text-fabric-api\">Text-Fabric API 11.3.0</a>, <a target=\"_blank\" href=\"https://github.com/Nino-cunei/uruk/blob/master/app\" title=\"Nino-cunei/uruk app\">Nino-cunei/uruk/app  v3</a>, <a target=\"_blank\" href=\"https://annotation.github.io/text-fabric/tf/about/searchusage.html\" title=\"Search Templates Introduction and Reference\">Search Reference</a><br>\n",
       "            <b>Data:</b> <a target=\"_blank\" href=\"https://github.com/Nino-cunei/uruk/blob/master/tf/docs/about.md\" title=\"provenance of Uruk IV/III: Proto-cuneiform tablets \">Nino-cunei - uruk 1.0</a>, <a target=\"_blank\" href=\"https://annotation.github.io/text-fabric/tf/writing/\" title=\"How TF features represent text\">Character table</a>, <a target=\"_blank\" href=\"https://github.com/Nino-cunei/uruk/blob/master/tf/docs/transcription.md\" title=\"Nino-cunei - uruk feature documentation\">Feature docs</a><br>\n",
       "            <details class=\"nodeinfo\"><summary><b>Node types</b></summary>\n",
       "<table class=\"nodeinfo\">\n",
       "    <tr>\n",
       "        <th>Name</th>\n",
       "        <th># of nodes</th>\n",
       "        <th># slots/node</th>\n",
       "        <th>% coverage</th>\n",
       "    </tr>\n",
       "\n",
       "<tr>\n",
       "    <th>tablet</th>\n",
       "    <td>6364</td>\n",
       "    <td>22.01</td>\n",
       "    <td><b>100</b></td>\n",
       "</tr>\n",
       "\n",
       "<tr>\n",
       "    <th>face</th>\n",
       "    <td>9456</td>\n",
       "    <td>14.10</td>\n",
       "    <td>95</td>\n",
       "</tr>\n",
       "\n",
       "<tr>\n",
       "    <th>column</th>\n",
       "    <td>14023</td>\n",
       "    <td>9.34</td>\n",
       "    <td>93</td>\n",
       "</tr>\n",
       "\n",
       "<tr>\n",
       "    <th>line</th>\n",
       "    <td>35842</td>\n",
       "    <td>3.61</td>\n",
       "    <td>92</td>\n",
       "</tr>\n",
       "\n",
       "<tr>\n",
       "    <th>case</th>\n",
       "    <td>9651</td>\n",
       "    <td>3.46</td>\n",
       "    <td>24</td>\n",
       "</tr>\n",
       "\n",
       "<tr>\n",
       "    <th>cluster</th>\n",
       "    <td>32753</td>\n",
       "    <td>1.03</td>\n",
       "    <td>24</td>\n",
       "</tr>\n",
       "\n",
       "<tr>\n",
       "    <th>quad</th>\n",
       "    <td>3794</td>\n",
       "    <td>2.05</td>\n",
       "    <td>6</td>\n",
       "</tr>\n",
       "\n",
       "<tr>\n",
       "    <th>comment</th>\n",
       "    <td>11090</td>\n",
       "    <td>1.00</td>\n",
       "    <td>8</td>\n",
       "</tr>\n",
       "\n",
       "<tr>\n",
       "    <th><i>sign</i></th>\n",
       "    <td>140094</td>\n",
       "    <td>1.00</td>\n",
       "    <td><b>100</b></td>\n",
       "</tr>\n",
       "</table></details>\n",
       "            <b>Sets:</b> no custom sets<br>\n",
       "            <b>Features:</b><br>\n",
       "<details><summary><b>Uruk IV/III: Proto-cuneiform tablets </b></summary>\n",
       "    <div class=\"fcorpus\">\n",
       "\n",
       "<div class=\"frow\">\n",
       "    <div class=\"fnamecat \">\n",
       "<a target=\"_blank\" href=\"https://github.com/Nino-cunei/uruk/blob/master/tf/docs/transcription.md\" title=\"~/text-fabric-data/github/Nino-cunei/uruk/tf/1.0/catalogId.tf\">catalogId</a>\n",
       "</div>\n",
       "<div class=\"fmono\">str</div>\n",
       "\n",
       "<span> identifier of tablet in catalog (http://www.flutopedia.com/tablets.htm)</span>\n",
       "\n",
       "</div>\n",
       "\n",
       "<div class=\"frow\">\n",
       "    <div class=\"fnamecat \">\n",
       "<a target=\"_blank\" href=\"https://github.com/Nino-cunei/uruk/blob/master/tf/docs/transcription.md\" title=\"~/text-fabric-data/github/Nino-cunei/uruk/tf/1.0/crossref.tf\">crossref</a>\n",
       "</div>\n",
       "<div class=\"fmono\">str</div>\n",
       "\n",
       "<span> </span>\n",
       "\n",
       "</div>\n",
       "\n",
       "<div class=\"frow\">\n",
       "    <div class=\"fnamecat \">\n",
       "<a target=\"_blank\" href=\"https://github.com/Nino-cunei/uruk/blob/master/tf/docs/transcription.md\" title=\"~/text-fabric-data/github/Nino-cunei/uruk/tf/1.0/damage.tf\">damage</a>\n",
       "</div>\n",
       "<div class=\"fmono\">int</div>\n",
       "\n",
       "<span> indicates damage of signs or quads,corresponds to #-flag in transcription</span>\n",
       "\n",
       "</div>\n",
       "\n",
       "<div class=\"frow\">\n",
       "    <div class=\"fnamecat \">\n",
       "<a target=\"_blank\" href=\"https://github.com/Nino-cunei/uruk/blob/master/tf/docs/transcription.md\" title=\"~/text-fabric-data/github/Nino-cunei/uruk/tf/1.0/depth.tf\">depth</a>\n",
       "</div>\n",
       "<div class=\"fmono\">int</div>\n",
       "\n",
       "<span> </span>\n",
       "\n",
       "</div>\n",
       "\n",
       "<div class=\"frow\">\n",
       "    <div class=\"fnamecat \">\n",
       "<a target=\"_blank\" href=\"https://github.com/Nino-cunei/uruk/blob/master/tf/docs/transcription.md\" title=\"~/text-fabric-data/github/Nino-cunei/uruk/tf/1.0/excavation.tf\">excavation</a>\n",
       "</div>\n",
       "<div class=\"fmono\">str</div>\n",
       "\n",
       "<span> excavation number of tablet</span>\n",
       "\n",
       "</div>\n",
       "\n",
       "<div class=\"frow\">\n",
       "    <div class=\"fnamecat \">\n",
       "<a target=\"_blank\" href=\"https://github.com/Nino-cunei/uruk/blob/master/tf/docs/transcription.md\" title=\"~/text-fabric-data/github/Nino-cunei/uruk/tf/1.0/fragment.tf\">fragment</a>\n",
       "</div>\n",
       "<div class=\"fmono\">str</div>\n",
       "\n",
       "<span> level between tablet and face</span>\n",
       "\n",
       "</div>\n",
       "\n",
       "<div class=\"frow\">\n",
       "    <div class=\"fnamecat \">\n",
       "<a target=\"_blank\" href=\"https://github.com/Nino-cunei/uruk/blob/master/tf/docs/transcription.md\" title=\"~/text-fabric-data/github/Nino-cunei/uruk/tf/1.0/fullNumber.tf\">fullNumber</a>\n",
       "</div>\n",
       "<div class=\"fmono\">str</div>\n",
       "\n",
       "<span> the combination of face type and column number on columns</span>\n",
       "\n",
       "</div>\n",
       "\n",
       "<div class=\"frow\">\n",
       "    <div class=\"fnamecat \">\n",
       "<a target=\"_blank\" href=\"https://github.com/Nino-cunei/uruk/blob/master/tf/docs/transcription.md\" title=\"~/text-fabric-data/github/Nino-cunei/uruk/tf/1.0/grapheme.tf\">grapheme</a>\n",
       "</div>\n",
       "<div class=\"fmono\">str</div>\n",
       "\n",
       "<span> name of a grapheme (glyph)</span>\n",
       "\n",
       "</div>\n",
       "\n",
       "<div class=\"frow\">\n",
       "    <div class=\"fnamecat \">\n",
       "<a target=\"_blank\" href=\"https://github.com/Nino-cunei/uruk/blob/master/tf/docs/transcription.md\" title=\"~/text-fabric-data/github/Nino-cunei/uruk/tf/1.0/identifier.tf\">identifier</a>\n",
       "</div>\n",
       "<div class=\"fmono\">str</div>\n",
       "\n",
       "<span> additional information pertaining to the name of a face</span>\n",
       "\n",
       "</div>\n",
       "\n",
       "<div class=\"frow\">\n",
       "    <div class=\"fnamecat \">\n",
       "<a target=\"_blank\" href=\"https://github.com/Nino-cunei/uruk/blob/master/tf/docs/transcription.md\" title=\"~/text-fabric-data/github/Nino-cunei/uruk/tf/1.0/modifier.tf\">modifier</a>\n",
       "</div>\n",
       "<div class=\"fmono\">str</div>\n",
       "\n",
       "<span> indicates modifcation of a sign; corresponds to sign@letter in transcription. if the grapheme is a repeat, the modification applies to the whole repeat.</span>\n",
       "\n",
       "</div>\n",
       "\n",
       "<div class=\"frow\">\n",
       "    <div class=\"fnamecat \">\n",
       "<a target=\"_blank\" href=\"https://github.com/Nino-cunei/uruk/blob/master/tf/docs/transcription.md\" title=\"~/text-fabric-data/github/Nino-cunei/uruk/tf/1.0/modifierFirst.tf\">modifierFirst</a>\n",
       "</div>\n",
       "<div class=\"fmono\">str</div>\n",
       "\n",
       "<span> indicates the order between modifiers and variants on the same object; if 1, modifiers come before variants</span>\n",
       "\n",
       "</div>\n",
       "\n",
       "<div class=\"frow\">\n",
       "    <div class=\"fnamecat \">\n",
       "<a target=\"_blank\" href=\"https://github.com/Nino-cunei/uruk/blob/master/tf/docs/transcription.md\" title=\"~/text-fabric-data/github/Nino-cunei/uruk/tf/1.0/modifierInner.tf\">modifierInner</a>\n",
       "</div>\n",
       "<div class=\"fmono\">str</div>\n",
       "\n",
       "<span> indicates modifcation of a sign within a repeatcorresponds to sign@letter in transcription</span>\n",
       "\n",
       "</div>\n",
       "\n",
       "<div class=\"frow\">\n",
       "    <div class=\"fnamecat \">\n",
       "<a target=\"_blank\" href=\"https://github.com/Nino-cunei/uruk/blob/master/tf/docs/transcription.md\" title=\"~/text-fabric-data/github/Nino-cunei/uruk/tf/1.0/name.tf\">name</a>\n",
       "</div>\n",
       "<div class=\"fmono\">str</div>\n",
       "\n",
       "<span> name of tablet</span>\n",
       "\n",
       "</div>\n",
       "\n",
       "<div class=\"frow\">\n",
       "    <div class=\"fnamecat \">\n",
       "<a target=\"_blank\" href=\"https://github.com/Nino-cunei/uruk/blob/master/tf/docs/transcription.md\" title=\"~/text-fabric-data/github/Nino-cunei/uruk/tf/1.0/number.tf\">number</a>\n",
       "</div>\n",
       "<div class=\"fmono\">str</div>\n",
       "\n",
       "<span> number of a column or line or case</span>\n",
       "\n",
       "</div>\n",
       "\n",
       "<div class=\"frow\">\n",
       "    <div class=\"fnamecat \">\n",
       "<a target=\"_blank\" href=\"https://github.com/Nino-cunei/uruk/blob/master/tf/docs/transcription.md\" title=\"~/text-fabric-data/github/Nino-cunei/uruk/tf/1.0/otype.tf\">otype</a>\n",
       "</div>\n",
       "<div class=\"fmono\">str</div>\n",
       "\n",
       "<span> </span>\n",
       "\n",
       "</div>\n",
       "\n",
       "<div class=\"frow\">\n",
       "    <div class=\"fnamecat \">\n",
       "<a target=\"_blank\" href=\"https://github.com/Nino-cunei/uruk/blob/master/tf/docs/transcription.md\" title=\"~/text-fabric-data/github/Nino-cunei/uruk/tf/1.0/period.tf\">period</a>\n",
       "</div>\n",
       "<div class=\"fmono\">str</div>\n",
       "\n",
       "<span> period that characterises the tablet corpus</span>\n",
       "\n",
       "</div>\n",
       "\n",
       "<div class=\"frow\">\n",
       "    <div class=\"fnamecat \">\n",
       "<a target=\"_blank\" href=\"https://github.com/Nino-cunei/uruk/blob/master/tf/docs/transcription.md\" title=\"~/text-fabric-data/github/Nino-cunei/uruk/tf/1.0/prime.tf\">prime</a>\n",
       "</div>\n",
       "<div class=\"fmono\">int</div>\n",
       "\n",
       "<span> indicates the presence/multiplicity of a prime (single quote)</span>\n",
       "\n",
       "</div>\n",
       "\n",
       "<div class=\"frow\">\n",
       "    <div class=\"fnamecat \">\n",
       "<a target=\"_blank\" href=\"https://github.com/Nino-cunei/uruk/blob/master/tf/docs/transcription.md\" title=\"~/text-fabric-data/github/Nino-cunei/uruk/tf/1.0/remarkable.tf\">remarkable</a>\n",
       "</div>\n",
       "<div class=\"fmono\">int</div>\n",
       "\n",
       "<span> corresponds to ! flag in transcription </span>\n",
       "\n",
       "</div>\n",
       "\n",
       "<div class=\"frow\">\n",
       "    <div class=\"fnamecat \">\n",
       "<a target=\"_blank\" href=\"https://github.com/Nino-cunei/uruk/blob/master/tf/docs/transcription.md\" title=\"~/text-fabric-data/github/Nino-cunei/uruk/tf/1.0/repeat.tf\">repeat</a>\n",
       "</div>\n",
       "<div class=\"fmono\">int</div>\n",
       "\n",
       "<span> number indicating the number of repeats of a grapheme,especially in numerals; -1 comes from repeat N in transcription</span>\n",
       "\n",
       "</div>\n",
       "\n",
       "<div class=\"frow\">\n",
       "    <div class=\"fnamecat \">\n",
       "<a target=\"_blank\" href=\"https://github.com/Nino-cunei/uruk/blob/master/tf/docs/transcription.md\" title=\"~/text-fabric-data/github/Nino-cunei/uruk/tf/1.0/srcLn.tf\">srcLn</a>\n",
       "</div>\n",
       "<div class=\"fmono\">str</div>\n",
       "\n",
       "<span> transcribed line</span>\n",
       "\n",
       "</div>\n",
       "\n",
       "<div class=\"frow\">\n",
       "    <div class=\"fnamecat \">\n",
       "<a target=\"_blank\" href=\"https://github.com/Nino-cunei/uruk/blob/master/tf/docs/transcription.md\" title=\"~/text-fabric-data/github/Nino-cunei/uruk/tf/1.0/srcLnNum.tf\">srcLnNum</a>\n",
       "</div>\n",
       "<div class=\"fmono\">int</div>\n",
       "\n",
       "<span> line number in transcription file</span>\n",
       "\n",
       "</div>\n",
       "\n",
       "<div class=\"frow\">\n",
       "    <div class=\"fnamecat \">\n",
       "<a target=\"_blank\" href=\"https://github.com/Nino-cunei/uruk/blob/master/tf/docs/transcription.md\" title=\"~/text-fabric-data/github/Nino-cunei/uruk/tf/1.0/terminal.tf\">terminal</a>\n",
       "</div>\n",
       "<div class=\"fmono\">str</div>\n",
       "\n",
       "<span> </span>\n",
       "\n",
       "</div>\n",
       "\n",
       "<div class=\"frow\">\n",
       "    <div class=\"fnamecat \">\n",
       "<a target=\"_blank\" href=\"https://github.com/Nino-cunei/uruk/blob/master/tf/docs/transcription.md\" title=\"~/text-fabric-data/github/Nino-cunei/uruk/tf/1.0/text.tf\">text</a>\n",
       "</div>\n",
       "<div class=\"fmono\">str</div>\n",
       "\n",
       "<span> text of comment nodes</span>\n",
       "\n",
       "</div>\n",
       "\n",
       "<div class=\"frow\">\n",
       "    <div class=\"fnamecat \">\n",
       "<a target=\"_blank\" href=\"https://github.com/Nino-cunei/uruk/blob/master/tf/docs/transcription.md\" title=\"~/text-fabric-data/github/Nino-cunei/uruk/tf/1.0/type.tf\">type</a>\n",
       "</div>\n",
       "<div class=\"fmono\">str</div>\n",
       "\n",
       "<span> type of a face; type of a comment; type of a cluster;type of a sign</span>\n",
       "\n",
       "</div>\n",
       "\n",
       "<div class=\"frow\">\n",
       "    <div class=\"fnamecat \">\n",
       "<a target=\"_blank\" href=\"https://github.com/Nino-cunei/uruk/blob/master/tf/docs/transcription.md\" title=\"~/text-fabric-data/github/Nino-cunei/uruk/tf/1.0/uncertain.tf\">uncertain</a>\n",
       "</div>\n",
       "<div class=\"fmono\">int</div>\n",
       "\n",
       "<span> corresponds to ?-flag in transcription</span>\n",
       "\n",
       "</div>\n",
       "\n",
       "<div class=\"frow\">\n",
       "    <div class=\"fnamecat \">\n",
       "<a target=\"_blank\" href=\"https://github.com/Nino-cunei/uruk/blob/master/tf/docs/transcription.md\" title=\"~/text-fabric-data/github/Nino-cunei/uruk/tf/1.0/variant.tf\">variant</a>\n",
       "</div>\n",
       "<div class=\"fmono\">str</div>\n",
       "\n",
       "<span> allograph for a sign, corresponds to ~x in transcription</span>\n",
       "\n",
       "</div>\n",
       "\n",
       "<div class=\"frow\">\n",
       "    <div class=\"fnamecat \">\n",
       "<a target=\"_blank\" href=\"https://github.com/Nino-cunei/uruk/blob/master/tf/docs/transcription.md\" title=\"~/text-fabric-data/github/Nino-cunei/uruk/tf/1.0/variantOuter.tf\">variantOuter</a>\n",
       "</div>\n",
       "<div class=\"fmono\">str</div>\n",
       "\n",
       "<span> allograph for a quad, corresponds to ~x in transcription</span>\n",
       "\n",
       "</div>\n",
       "\n",
       "<div class=\"frow\">\n",
       "    <div class=\"fnamecat \">\n",
       "<a target=\"_blank\" href=\"https://github.com/Nino-cunei/uruk/blob/master/tf/docs/transcription.md\" title=\"~/text-fabric-data/github/Nino-cunei/uruk/tf/1.0/written.tf\">written</a>\n",
       "</div>\n",
       "<div class=\"fmono\">str</div>\n",
       "\n",
       "<span> corresponds to !(xxx) flag in transcription</span>\n",
       "\n",
       "</div>\n",
       "\n",
       "<div class=\"frow\">\n",
       "    <div class=\"fnamecat edge\">\n",
       "<a target=\"_blank\" href=\"https://github.com/Nino-cunei/uruk/blob/master/tf/docs/transcription.md\" title=\"~/text-fabric-data/github/Nino-cunei/uruk/tf/1.0/comments.tf\">comments</a>\n",
       "</div>\n",
       "<div class=\"fmono\">none</div>\n",
       "\n",
       "<span> links comment nodes to their targets</span>\n",
       "\n",
       "</div>\n",
       "\n",
       "<div class=\"frow\">\n",
       "    <div class=\"fnamecat edge\">\n",
       "<a target=\"_blank\" href=\"https://github.com/Nino-cunei/uruk/blob/master/tf/docs/transcription.md\" title=\"~/text-fabric-data/github/Nino-cunei/uruk/tf/1.0/op.tf\">op</a>\n",
       "</div>\n",
       "<div class=\"fmono\">str</div>\n",
       "\n",
       "<span> operator connecting left to right operand in a quad</span>\n",
       "\n",
       "</div>\n",
       "\n",
       "<div class=\"frow\">\n",
       "    <div class=\"fnamecat edge\">\n",
       "<a target=\"_blank\" href=\"https://github.com/Nino-cunei/uruk/blob/master/tf/docs/transcription.md\" title=\"~/text-fabric-data/github/Nino-cunei/uruk/tf/1.0/oslots.tf\">oslots</a>\n",
       "</div>\n",
       "<div class=\"fmono\">none</div>\n",
       "\n",
       "<span> </span>\n",
       "\n",
       "</div>\n",
       "\n",
       "<div class=\"frow\">\n",
       "    <div class=\"fnamecat edge\">\n",
       "<a target=\"_blank\" href=\"https://github.com/Nino-cunei/uruk/blob/master/tf/docs/transcription.md\" title=\"~/text-fabric-data/github/Nino-cunei/uruk/tf/1.0/sub.tf\">sub</a>\n",
       "</div>\n",
       "<div class=\"fmono\">none</div>\n",
       "\n",
       "<span> connects line or case with sub-cases, quad with sub-quads; clusters with sub-clusters</span>\n",
       "\n",
       "</div>\n",
       "\n",
       "    </div>\n",
       "</details>\n",
       "\n"
      ],
      "text/plain": [
       "<IPython.core.display.HTML object>"
      ]
     },
     "metadata": {},
     "output_type": "display_data"
    },
    {
     "data": {
      "text/html": [
       "<style>tr.tf.ltr, td.tf.ltr, th.tf.ltr { text-align: left ! important;}\n",
       "tr.tf.rtl, td.tf.rtl, th.tf.rtl { text-align: right ! important;}\n",
       "@font-face {\n",
       "  font-family: \"Gentium Plus\";\n",
       "  src: local('Gentium Plus'), local('GentiumPlus'),\n",
       "    url('/server/static/fonts/GentiumPlus-R.woff') format('woff'),\n",
       "    url('https://github.com/annotation/text-fabric/blob/master/tf/server/static/fonts/GentiumPlus-R.woff?raw=true') format('woff');\n",
       "}\n",
       "\n",
       "@font-face {\n",
       "  font-family: \"Ezra SIL\";\n",
       "  src: local('Ezra SIL'), local('EzraSIL'),\n",
       "    url('/server/static/fonts/SILEOT.woff') format('woff'),\n",
       "    url('https://github.com/annotation/text-fabric/blob/master/tf/server/static/fonts/SILEOT.woff?raw=true') format('woff');\n",
       "}\n",
       "\n",
       "@font-face {\n",
       "  font-family: \"SBL Hebrew\";\n",
       "  src: local('SBL Hebrew'), local('SBLHebrew'),\n",
       "    url('/server/static/fonts/SBL_Hbrw.woff') format('woff'),\n",
       "    url('https://github.com/annotation/text-fabric/blob/master/tf/server/static/fonts/SBL_Hbrw.woff?raw=true') format('woff');\n",
       "}\n",
       "\n",
       "@font-face {\n",
       "  font-family: \"Estrangelo Edessa\";\n",
       "  src: local('Estrangelo Edessa'), local('EstrangeloEdessa');\n",
       "    url('/server/static/fonts/SyrCOMEdessa.woff') format('woff'),\n",
       "    url('https://github.com/annotation/text-fabric/blob/master/tf/server/static/fonts/SyrCOMEdessa.woff?raw=true') format('woff');\n",
       "}\n",
       "\n",
       "@font-face {\n",
       "  font-family: AmiriQuran;\n",
       "  font-style: normal;\n",
       "  font-weight: 400;\n",
       "  src: local('Amiri Quran'), local('AmiriQuran'),\n",
       "    url('/server/static/fonts/AmiriQuran.woff') format('woff'),\n",
       "    url('https://github.com/annotation/text-fabric/blob/master/tf/server/static/fonts/AmiriQuran.woff?raw=true') format('woff');\n",
       "}\n",
       "\n",
       "@font-face {\n",
       "  font-family: AmiriQuranColored;\n",
       "  font-style: normal;\n",
       "  font-weight: 400;\n",
       "  src: local('Amiri Quran Colored'), local('AmiriQuranColored'),\n",
       "    url('/server/static/fonts/AmiriQuranColored.woff') format('woff'),\n",
       "    url('https://github.com/annotation/text-fabric/blob/master/tf/server/static/fonts/AmiriQuranColored.woff?raw=true') format('woff');\n",
       "}\n",
       "\n",
       "@font-face {\n",
       "  font-family: \"Santakku\";\n",
       "  src: local('Santakku'),\n",
       "    url('/server/static/fonts/Santakku.woff') format('woff'),\n",
       "    url('https://github.com/annotation/text-fabric/blob/master/tf/server/static/fonts/Santakku.woff?raw=true') format('woff');\n",
       "}\n",
       "\n",
       "@font-face {\n",
       "  font-family: \"SantakkuM\";\n",
       "  src: local('SantakkuM'),\n",
       "    url('/server/static/fonts/SantakkuM.woff') format('woff'),\n",
       "    url('https://github.com/annotation/text-fabric/blob/master/tf/server/static/fonts/SantakkuM.woff?raw=true') format('woff');\n",
       "}\n",
       "/* bypassing some classical notebook settings */\n",
       "div#notebook {\n",
       "  line-height: unset;\n",
       "}\n",
       "/* neutral text */\n",
       ".txtn,.txtn a:visited,.txtn a:link {\n",
       "    font-family: sans-serif;\n",
       "    font-size: medium;\n",
       "    direction: ltr;\n",
       "    unicode-bidi: embed;\n",
       "    text-decoration: none;\n",
       "    color: var(--text-color);\n",
       "}\n",
       "/* transcription text */\n",
       ".txtt,.txtt a:visited,.txtt a:link {\n",
       "    font-family: monospace;\n",
       "    font-size: medium;\n",
       "    direction: ltr;\n",
       "    unicode-bidi: embed;\n",
       "    text-decoration: none;\n",
       "    color: var(--text-color);\n",
       "}\n",
       "/* source text */\n",
       ".txto,.txto a:visited,.txto a:link {\n",
       "    font-family: serif;\n",
       "    font-size: medium;\n",
       "    direction: ltr;\n",
       "    unicode-bidi: embed;\n",
       "    text-decoration: none;\n",
       "    color: var(--text-color);\n",
       "}\n",
       "/* phonetic text */\n",
       ".txtp,.txtp a:visited,.txtp a:link {\n",
       "    font-family: Gentium, sans-serif;\n",
       "    font-size: medium;\n",
       "    direction: ltr;\n",
       "    unicode-bidi: embed;\n",
       "    text-decoration: none;\n",
       "    color: var(--text-color);\n",
       "}\n",
       "/* original script text */\n",
       ".txtu,.txtu a:visited,.txtu a:link {\n",
       "    font-family: Gentium, sans-serif;\n",
       "    font-size: medium;\n",
       "    text-decoration: none;\n",
       "    color: var(--text-color);\n",
       "}\n",
       "/* hebrew */\n",
       ".txtu.hbo,.lex.hbo {\n",
       "    font-family: \"Ezra SIL\", \"SBL Hebrew\", sans-serif;\n",
       "    font-size: large;\n",
       "    direction: rtl ! important;\n",
       "    unicode-bidi: embed;\n",
       "}\n",
       "/* syriac */\n",
       ".txtu.syc,.lex.syc {\n",
       "    font-family: \"Estrangelo Edessa\", sans-serif;\n",
       "    font-size: medium;\n",
       "    direction: rtl ! important;\n",
       "    unicode-bidi: embed;\n",
       "}\n",
       "/* neo aramaic */\n",
       ".txtu.cld,.lex.cld {\n",
       "    font-family: \"CharisSIL-R\", sans-serif;\n",
       "    font-size: medium;\n",
       "    direction: ltr ! important;\n",
       "    unicode-bidi: embed;\n",
       "}\n",
       "/* standard arabic */\n",
       ".txtu.ara,.lex.ara {\n",
       "    font-family: \"AmiriQuran\", sans-serif;\n",
       "    font-size: large;\n",
       "    direction: rtl ! important;\n",
       "    unicode-bidi: embed;\n",
       "}\n",
       "/* cuneiform */\n",
       ".txtu.akk,.lex.akk {\n",
       "    font-family: Santakku, sans-serif;\n",
       "    font-size: large;\n",
       "    direction: ltr ! important;\n",
       "    unicode-bidi: embed;\n",
       "}\n",
       "/* greek */\n",
       ".txtu.grc,.lex.grc a:link {\n",
       "    font-family: Gentium, sans-serif;\n",
       "    font-size: medium;\n",
       "    direction: ltr ! important;\n",
       "    unicode-bidi: embed;\n",
       "}\n",
       "a:hover {\n",
       "    text-decoration: underline | important;\n",
       "    color: #0000ff | important;\n",
       "}\n",
       ".ltr {\n",
       "    direction: ltr ! important;\n",
       "    unicode-bidi: embed;\n",
       "}\n",
       ".rtl {\n",
       "    direction: rtl ! important;\n",
       "    unicode-bidi: embed;\n",
       "}\n",
       ".ubd {\n",
       "    unicode-bidi: embed;\n",
       "}\n",
       ".col {\n",
       "   display: inline-block;\n",
       "}\n",
       ".features {\n",
       "    font-family: monospace;\n",
       "    font-size: medium;\n",
       "    font-weight: bold;\n",
       "    color: var(--features);\n",
       "    display: flex;\n",
       "    flex-flow: column nowrap;\n",
       "    justify-content: flex-start;\n",
       "    align-items: flex-start;\n",
       "    align-content: flex-start;\n",
       "    padding: 2px;\n",
       "    margin: 2px;\n",
       "    direction: ltr;\n",
       "    unicode-bidi: embed;\n",
       "    border: var(--meta-width) solid var(--meta-color);\n",
       "    border-radius: var(--meta-width);\n",
       "}\n",
       ".features div,.features span {\n",
       "    padding: 0;\n",
       "    margin: -2px 0;\n",
       "}\n",
       ".features .f {\n",
       "    font-family: sans-serif;\n",
       "    font-size: small;\n",
       "    font-weight: normal;\n",
       "    color: #5555bb;\n",
       "}\n",
       ".features .xft {\n",
       "  color: #000000;\n",
       "  background-color: #eeeeee;\n",
       "  font-size: medium;\n",
       "  margin: 2px 0px;\n",
       "}\n",
       ".features .xft .f {\n",
       "  color: #000000;\n",
       "  background-color: #eeeeee;\n",
       "  font-size: small;\n",
       "  font-weight: normal;\n",
       "}\n",
       ".tfsechead {\n",
       "    font-family: sans-serif;\n",
       "    font-size: small;\n",
       "    font-weight: bold;\n",
       "    color: var(--tfsechead);\n",
       "    unicode-bidi: embed;\n",
       "    text-align: start;\n",
       "}\n",
       ".structure {\n",
       "    font-family: sans-serif;\n",
       "    font-size: small;\n",
       "    font-weight: bold;\n",
       "    color: var(--structure);\n",
       "    unicode-bidi: embed;\n",
       "    text-align: start;\n",
       "}\n",
       ".comments {\n",
       "    display: flex;\n",
       "    justify-content: flex-start;\n",
       "    align-items: flex-start;\n",
       "    align-content: flex-start;\n",
       "    flex-flow: column nowrap;\n",
       "}\n",
       ".nd, a:link.nd {\n",
       "    font-family: sans-serif;\n",
       "    font-size: small;\n",
       "    color: var(--node);\n",
       "    vertical-align: super;\n",
       "    direction: ltr ! important;\n",
       "    unicode-bidi: embed;\n",
       "}\n",
       ".lex {\n",
       "  color: var(--lex-color);;\n",
       "}\n",
       ".children,.children.ltr {\n",
       "    display: flex;\n",
       "    border: 0;\n",
       "    background-color: #ffffff;\n",
       "    justify-content: flex-start;\n",
       "    align-items: flex-start;\n",
       "    align-content: flex-start;\n",
       "}\n",
       ".children.stretch {\n",
       "    align-items: stretch;\n",
       "}\n",
       ".children.hor {\n",
       "    flex-flow: row nowrap;\n",
       "}\n",
       ".children.hor.wrap {\n",
       "    flex-flow: row wrap;\n",
       "}\n",
       ".children.ver {\n",
       "    flex-flow: column nowrap;\n",
       "}\n",
       ".children.ver.wrap {\n",
       "    flex-flow: column wrap;\n",
       "}\n",
       ".contnr {\n",
       "    width: fit-content;\n",
       "    display: flex;\n",
       "    justify-content: flex-start;\n",
       "    align-items: flex-start;\n",
       "    align-content: flex-start;\n",
       "    flex-flow: column nowrap;\n",
       "    background: #ffffff none repeat scroll 0 0;\n",
       "    padding:  10px 2px 2px 2px;\n",
       "    margin: 16px 2px 2px 2px;\n",
       "    border-style: solid;\n",
       "    font-size: small;\n",
       "}\n",
       ".contnr.trm {\n",
       "    background-attachment: local;\n",
       "}\n",
       ".contnr.cnul {\n",
       "    padding:  0;\n",
       "    margin: 0;\n",
       "    border-style: solid;\n",
       "    font-size: xx-small;\n",
       "}\n",
       ".contnr.cnul,.lbl.cnul {\n",
       "    border-color: var(--border-color-nul);\n",
       "    border-width: var(--border-width-nul);\n",
       "    border-radius: var(--border-width-nul);\n",
       "}\n",
       ".contnr.c0,.lbl.c0 {\n",
       "    border-color: var(--border-color0);\n",
       "    border-width: var(--border-width0);\n",
       "    border-radius: var(--border-width0);\n",
       "}\n",
       ".contnr.c1,.lbl.c1 {\n",
       "    border-color: var(--border-color1);\n",
       "    border-width: var(--border-width1);\n",
       "    border-radius: var(--border-width1);\n",
       "}\n",
       ".contnr.c2,.lbl.c2 {\n",
       "    border-color: var(--border-color2);\n",
       "    border-width: var(--border-width2);\n",
       "    border-radius: var(--border-width2);\n",
       "}\n",
       ".contnr.c3,.lbl.c3 {\n",
       "    border-color: var(--border-color3);\n",
       "    border-width: var(--border-width3);\n",
       "    border-radius: var(--border-width3);\n",
       "}\n",
       ".contnr.c4,.lbl.c4 {\n",
       "    border-color: var(--border-color4);\n",
       "    border-width: var(--border-width4);\n",
       "    border-radius: var(--border-width4);\n",
       "}\n",
       "span.plain {\n",
       "    /*display: inline-block;*/\n",
       "    display: inline-flex;\n",
       "    flex-flow: row wrap;\n",
       "    white-space: pre-wrap;\n",
       "}\n",
       ".plain {\n",
       "    background-color: #ffffff;\n",
       "}\n",
       ".plain.l,.contnr.l,.contnr.l>.lbl {\n",
       "    border-left-style: dotted\n",
       "}\n",
       ".plain.r,.contnr.r,.contnr.r>.lbl {\n",
       "    border-right-style: dotted\n",
       "}\n",
       ".plain.lno,.contnr.lno,.contnr.lno>.lbl {\n",
       "    border-left-style: none\n",
       "}\n",
       ".plain.rno,.contnr.rno,.contnr.rno>.lbl {\n",
       "    border-right-style: none\n",
       "}\n",
       ".plain.l {\n",
       "    padding-left: 4px;\n",
       "    margin-left: 2px;\n",
       "    border-width: var(--border-width-plain);\n",
       "}\n",
       ".plain.r {\n",
       "    padding-right: 4px;\n",
       "    margin-right: 2px;\n",
       "    border-width: var(--border-width-plain);\n",
       "}\n",
       ".lbl {\n",
       "    font-family: monospace;\n",
       "    margin-top: -24px;\n",
       "    margin-left: 20px;\n",
       "    background: #ffffff none repeat scroll 0 0;\n",
       "    padding: 0 6px;\n",
       "    border-style: solid;\n",
       "    display: block;\n",
       "    color: var(--label)\n",
       "}\n",
       ".lbl.trm {\n",
       "    background-attachment: local;\n",
       "    margin-top: 2px;\n",
       "    margin-left: 2px;\n",
       "    padding: 2px 2px;\n",
       "    border-style: none;\n",
       "}\n",
       ".lbl.cnul {\n",
       "    font-size: xx-small;\n",
       "}\n",
       ".lbl.c0 {\n",
       "    font-size: small;\n",
       "}\n",
       ".lbl.c1 {\n",
       "    font-size: small;\n",
       "}\n",
       ".lbl.c2 {\n",
       "    font-size: medium;\n",
       "}\n",
       ".lbl.c3 {\n",
       "    font-size: medium;\n",
       "}\n",
       ".lbl.c4 {\n",
       "    font-size: large;\n",
       "}\n",
       ".occs, a:link.occs {\n",
       "    font-size: small;\n",
       "}\n",
       "\n",
       "/* PROVENANCE */\n",
       "\n",
       "div.prov {\n",
       "\tmargin: 40px;\n",
       "\tpadding: 20px;\n",
       "\tborder: 2px solid var(--fog-rim);\n",
       "}\n",
       "div.pline {\n",
       "\tdisplay: flex;\n",
       "\tflex-flow: row nowrap;\n",
       "\tjustify-content: stretch;\n",
       "\talign-items: baseline;\n",
       "}\n",
       "div.p2line {\n",
       "\tmargin-left: 2em;\n",
       "\tdisplay: flex;\n",
       "\tflex-flow: row nowrap;\n",
       "\tjustify-content: stretch;\n",
       "\talign-items: baseline;\n",
       "}\n",
       "div.psline {\n",
       "\tdisplay: flex;\n",
       "\tflex-flow: row nowrap;\n",
       "\tjustify-content: stretch;\n",
       "\talign-items: baseline;\n",
       "\tbackground-color: var(--gold-mist-back);\n",
       "}\n",
       "div.pname {\n",
       "\tflex: 0 0 5rem;\n",
       "\tfont-weight: bold;\n",
       "}\n",
       "div.pval {\n",
       "    flex: 1 1 auto;\n",
       "}\n",
       "\n",
       "/* KEYBOARD */\n",
       ".ccoff {\n",
       "  background-color: inherit;\n",
       "}\n",
       ".ccon {\n",
       "  background-color: yellow ! important;\n",
       "}\n",
       ".ccon,.ccoff {\n",
       "  padding: 0.2rem;\n",
       "  margin: 0.2rem;\n",
       "  border: 0.1rem solid var(--letter-box-border);\n",
       "  border-radius: 0.1rem;\n",
       "}\n",
       ".ccline {\n",
       "  font-size: xx-large ! important;\n",
       "  font-weight: bold;\n",
       "  line-height: 2em ! important;\n",
       "}\n",
       "/* TF header */\n",
       "\n",
       "summary {\n",
       "  /* needed to override the normalize.less\n",
       "   * in the classical jupyter notebook\n",
       "   */\n",
       "  display: list-item ! important;\n",
       "}\n",
       "\n",
       ".fcorpus {\n",
       "  display: flex;\n",
       "  flex-flow: column nowrap;\n",
       "  justify-content: flex-start;\n",
       "  align-items: flex-start;\n",
       "  align-content: flex-start;\n",
       "}\n",
       ".frow {\n",
       "  display: flex;\n",
       "  flex-flow: row nowrap;\n",
       "  justify-content: flex-start;\n",
       "  align-items: flex-start;\n",
       "  align-content: flex-start;\n",
       "}\n",
       ".fmeta {\n",
       "  display: flex;\n",
       "  flex-flow: column nowrap;\n",
       "  justify-content: flex-start;\n",
       "  align-items: flex-start;\n",
       "  align-content: flex-start;\n",
       "}\n",
       ".fmetarow {\n",
       "  display: flex;\n",
       "  flex-flow: row nowrap;\n",
       "  justify-content: flex-start;\n",
       "  align-items: flex-start;\n",
       "  align-content: flex-start;\n",
       "}\n",
       ".fmetakey {\n",
       "  min-width: 8em;\n",
       "  font-family: monospace;\n",
       "}\n",
       ".fnamecat {\n",
       "  min-width: 8em;\n",
       "}\n",
       ".fnamecat.edge {\n",
       "  font-weight: bold;\n",
       "  font-style: italic;\n",
       "}\n",
       ".fmono {\n",
       "    font-family: monospace;\n",
       "}\n",
       "\n",
       ":root {\n",
       "\t--node:               hsla(120, 100%,  20%, 1.0  );\n",
       "\t--label:              hsla(  0, 100%,  20%, 1.0  );\n",
       "\t--tfsechead:          hsla(  0, 100%,  25%, 1.0  );\n",
       "\t--structure:          hsla(120, 100%,  25%, 1.0  );\n",
       "\t--features:           hsla(  0,   0%,  30%, 1.0  );\n",
       "  --text-color:         hsla( 60,  80%,  10%, 1.0  );\n",
       "  --lex-color:          hsla(220,  90%,  60%, 1.0  );\n",
       "  --meta-color:         hsla(  0,   0%,  90%, 0.7  );\n",
       "  --meta-width:         3px;\n",
       "  --border-color-nul:   hsla(  0,   0%,  90%, 0.5  );\n",
       "  --border-color0:      hsla(  0,   0%,  90%, 0.9  );\n",
       "  --border-color1:      hsla(  0,   0%,  80%, 0.9  );\n",
       "  --border-color2:      hsla(  0,   0%,  70%, 0.9  );\n",
       "  --border-color3:      hsla(  0,   0%,  80%, 0.8  );\n",
       "  --border-color4:      hsla(  0,   0%,  60%, 0.9  );\n",
       "\t--letter-box-border:  hsla(  0,   0%,  80%, 0.5  );\n",
       "  --border-width-nul:   2px;\n",
       "  --border-width0:      2px;\n",
       "  --border-width1:      3px;\n",
       "  --border-width2:      4px;\n",
       "  --border-width3:      6px;\n",
       "  --border-width4:      5px;\n",
       "  --border-width-plain: 2px;\n",
       "}\n",
       ".hl {\n",
       "  background-color: var(--hl-strong);\n",
       "}\n",
       "span.hl {\n",
       "\tbackground-color: var(--hl-strong);\n",
       "\tborder-width: 0;\n",
       "\tborder-radius: 2px;\n",
       "\tborder-style: solid;\n",
       "}\n",
       "div.contnr.hl,div.lbl.hl {\n",
       "  background-color: var(--hl-strong);\n",
       "}\n",
       "div.contnr.hl {\n",
       "  border-color: var(--hl-rim) ! important;\n",
       "\tborder-width: 4px ! important;\n",
       "}\n",
       "\n",
       "span.hlbx {\n",
       "\tborder-color: var(--hl-rim);\n",
       "\tborder-width: 4px ! important;\n",
       "\tborder-style: solid;\n",
       "\tborder-radius: 6px;\n",
       "  padding: 4px;\n",
       "  margin: 4px;\n",
       "}\n",
       "\n",
       ":root {\n",
       "\t--hl-strong:        hsla( 60, 100%,  70%, 0.9  );\n",
       "\t--hl-rim:           hsla( 55,  80%,  50%, 1.0  );\n",
       "}\n",
       ".contnr.cluster {\n",
       "    flex-flow: row wrap;\n",
       "    border: 0;\n",
       "}\n",
       ".meta .features {\n",
       "    background-color: #ffeedd;\n",
       "}\n",
       ".lbl.clusterb,.lbl.clustere {\n",
       "    padding:  0.5em 0.1em 0.1em 0.1em;\n",
       "    margin: 0.8em 0.1em 0.1em 0.1em;\n",
       "    color: #888844;\n",
       "    font-size: x-small;\n",
       "}\n",
       ".lbl.clusterb {\n",
       "    border-left: 0.3em solid #cccc99;\n",
       "    border-right: 0;\n",
       "    border-top: 0;\n",
       "    border-bottom: 0;\n",
       "    border-radius: 1rem;\n",
       "}\n",
       ".lbl.clustere {\n",
       "    border-left: 0;\n",
       "    border-right: 0.3em solid #cccc99;\n",
       "    border-top: 0;\n",
       "    border-bottom: 0;\n",
       "    border-radius: 1rem;\n",
       "}\n",
       ".op {\n",
       "    padding:  0.5em 0.1em 0.1em 0.1em;\n",
       "    margin: 0.8em 0.1em 0.1em 0.1em;\n",
       "    font-family: monospace;\n",
       "    font-size: x-large;\n",
       "    font-weight: bold;\n",
       "}\n",
       ".period {\n",
       "    font-family: monospace;\n",
       "    font-size: medium;\n",
       "    font-weight: bold;\n",
       "    color: #0000bb;\n",
       "}\n",
       ".excavation {\n",
       "    font-family: monospace;\n",
       "    font-size: medium;\n",
       "    font-style: italic;\n",
       "    color: #779900;\n",
       "}\n",
       "</style>"
      ],
      "text/plain": [
       "<IPython.core.display.HTML object>"
      ]
     },
     "metadata": {},
     "output_type": "display_data"
    },
    {
     "data": {
      "text/html": [
       "\n",
       "<script>\n",
       "globalThis.copyChar = (el, c) => {\n",
       "    for (const el of document.getElementsByClassName('ccon')) {\n",
       "        el.className = 'ccoff'\n",
       "    }\n",
       "    el.className = 'ccon'\n",
       "    navigator.clipboard.writeText(String.fromCharCode(c))\n",
       "}\n",
       "</script>\n"
      ],
      "text/plain": [
       "<IPython.core.display.HTML object>"
      ]
     },
     "metadata": {},
     "output_type": "display_data"
    },
    {
     "data": {
      "text/html": [
       "<div><b>Text-Fabric API:</b> names <a target=\"_blank\" href=\"https://annotation.github.io/text-fabric/tf/cheatsheet.html\" title=\"doc\">N F E L T S C TF</a> directly usable</div><hr>"
      ],
      "text/plain": [
       "<IPython.core.display.HTML object>"
      ]
     },
     "metadata": {},
     "output_type": "display_data"
    },
    {
     "data": {
      "text/html": [
       "<b title=\"local commit\">data:</b> <span title=\"#7da6cb7cd9dffb12aff5e35639078029727a90e7 offline under /Users/me/text-fabric-data/github\">~/text-fabric-data/github/Nino-cunei/uruk/sources/cdli/images</span>"
      ],
      "text/plain": [
       "<IPython.core.display.HTML object>"
      ]
     },
     "metadata": {},
     "output_type": "display_data"
    },
    {
     "data": {
      "text/html": [
       "Found 2095 ideograph linearts<br>"
      ],
      "text/plain": [
       "<IPython.core.display.HTML object>"
      ]
     },
     "metadata": {},
     "output_type": "display_data"
    },
    {
     "data": {
      "text/html": [
       "Found 2724 tablet linearts<br>"
      ],
      "text/plain": [
       "<IPython.core.display.HTML object>"
      ]
     },
     "metadata": {},
     "output_type": "display_data"
    },
    {
     "data": {
      "text/html": [
       "Found 5495 tablet photos<br>"
      ],
      "text/plain": [
       "<IPython.core.display.HTML object>"
      ]
     },
     "metadata": {},
     "output_type": "display_data"
    }
   ],
   "source": [
    "A = use(\"Nino-cunei/uruk\", hoist=globals())"
   ]
  },
  {
   "cell_type": "markdown",
   "metadata": {},
   "source": [
    "## Tablets\n",
    "\n",
    "We will work with two example tablets."
   ]
  },
  {
   "cell_type": "code",
   "execution_count": 4,
   "metadata": {
    "ExecuteTime": {
     "end_time": "2018-05-01T13:41:47.411111Z",
     "start_time": "2018-05-01T13:41:47.406653Z"
    }
   },
   "outputs": [],
   "source": [
    "pNum1 = \"P000014\"\n",
    "pNum2 = \"P000022\""
   ]
  },
  {
   "cell_type": "markdown",
   "metadata": {},
   "source": [
    "Let's first show the pretty displays of their transcriptions."
   ]
  },
  {
   "cell_type": "code",
   "execution_count": 5,
   "metadata": {},
   "outputs": [],
   "source": [
    "p1Node = T.tabletNode(pNum1)\n",
    "p2Node = T.tabletNode(pNum2)"
   ]
  },
  {
   "cell_type": "code",
   "execution_count": 6,
   "metadata": {},
   "outputs": [
    {
     "data": {
      "text/html": [
       "<div class=\"tfsechead \"><span class=\"ltr\"><a target=\"_blank\" href=\"https://cdli.ucla.edu/search/search_results.php?SearchMode=Text&amp;ObjectID=P000022\" title=\"to CDLI main page for this tablet\" sec=\"P000022\">P000022</a></span></div><div class=\" children\"><div class=\"contnr c4    \" ><div class=\"lbl c4  \" ><span class=\"nd\">tablet </span> <span class=\"txtu\"><span class=\"tfsechead ltr\"><span class=\"ltr\">P000022</span></span></span></div><div class=\"features\"><span class=\"name \" title=\"name\">ATU 3, pl. 082, W 13982</span><span class=\"period \" title=\"period\">uruk-iii</span><span class=\"excavation \" title=\"excavation\">W 13982</span></div><div class=\"children ver  \"><div class=\"contnr c1 trm   \" ><div class=\"lbl c1 trm \" ><span class=\"nd\">comment </span> <span class=\"txtu\"><span class=\"plain   \" ><span class=\"plain \" ></span> </span></span></div><div class=\"features\"><span class=\"text \" title=\"text\">atf: lang qpc</span></div></div><div class=\"contnr c2    \" ><div class=\"lbl c2  \" ><span class=\"nd\">face </span> <span class=\"txtu\"><span title=\"type\">obverse</span></span></div><div class=\"children hor  \"><div class=\"contnr c3    \" ><div class=\"lbl c3  \" ><span class=\"nd\">column </span> <span class=\"txtu\"><span title=\"number\">0</span><span title=\"prime\"></span></span></div><div class=\"children ver  \"><div class=\"contnr c2    \" ><div class=\"lbl c2  \" ><span class=\"nd\">line </span> <span class=\"txtu\"><span title=\"number\">1</span></span></div><div class=\"children hor  \"><div class=\"contnr c0 trm   \" ><div class=\"lbl c0 trm \" ><span class=\"txtu\"><span title=\"atf\">1(N01)</span></span></div><div><a target=\"_blank\" href=\"https://cdli.ucla.edu/tools/SignLists/protocuneiform/archsigns/1(N01).jpg\" title=\"to higher resolution lineart on CDLI\"><img src=\"cdli-imagery/lineart-1(n01).jpg\" style=\"display: inline;max-width: 2em; max-height: 6em;\"  /></a></div></div><div class=\"contnr c0 trm   \" ><div class=\"lbl c0 trm \" ><span class=\"txtu\"><span title=\"atf\">ZATU707~a</span></span></div><div><a target=\"_blank\" href=\"https://cdli.ucla.edu/tools/SignLists/protocuneiform/archsigns/ZATU707~a.jpg\" title=\"to higher resolution lineart on CDLI\"><img src=\"cdli-imagery/lineart-zatu707-a.jpg\" style=\"display: inline;max-width: 2em; max-height: 6em;\"  /></a></div></div><div class=\"contnr c0 trm   \" ><div class=\"lbl c0 trm \" ><span class=\"txtu\"><span title=\"atf\">ZATU686~a</span></span></div><div><a target=\"_blank\" href=\"https://cdli.ucla.edu/tools/SignLists/protocuneiform/archsigns/ZATU686~a.jpg\" title=\"to higher resolution lineart on CDLI\"><img src=\"cdli-imagery/lineart-zatu686-a.jpg\" style=\"display: inline;max-width: 2em; max-height: 6em;\"  /></a></div></div><div class=\"contnr c0 trm   \" ><div class=\"lbl c0 trm \" ><span class=\"txtu\"><span title=\"atf\">ZATU707~a</span></span></div><div><a target=\"_blank\" href=\"https://cdli.ucla.edu/tools/SignLists/protocuneiform/archsigns/ZATU707~a.jpg\" title=\"to higher resolution lineart on CDLI\"><img src=\"cdli-imagery/lineart-zatu707-a.jpg\" style=\"display: inline;max-width: 2em; max-height: 6em;\"  /></a></div></div><div class=\"contnr c0 trm   \" ><div class=\"lbl c0 trm \" ><span class=\"txtu\"><span title=\"atf\">ZATU707~a</span></span></div><div><a target=\"_blank\" href=\"https://cdli.ucla.edu/tools/SignLists/protocuneiform/archsigns/ZATU707~a.jpg\" title=\"to higher resolution lineart on CDLI\"><img src=\"cdli-imagery/lineart-zatu707-a.jpg\" style=\"display: inline;max-width: 2em; max-height: 6em;\"  /></a></div></div><div class=\"contnr c0 trm   \" ><div class=\"lbl c0 trm \" ><span class=\"txtu\"><span title=\"atf\">KA~a</span></span></div><div><a target=\"_blank\" href=\"https://cdli.ucla.edu/tools/SignLists/protocuneiform/archsigns/KA~a.jpg\" title=\"to higher resolution lineart on CDLI\"><img src=\"cdli-imagery/lineart-ka-a.jpg\" style=\"display: inline;max-width: 2em; max-height: 6em;\"  /></a></div></div><div class=\"contnr c0 trm   \" ><div class=\"lbl c0 trm \" ><span class=\"txtu\"><span title=\"atf\">E2~a</span></span></div><div><a target=\"_blank\" href=\"https://cdli.ucla.edu/tools/SignLists/protocuneiform/archsigns/E2~a.jpg\" title=\"to higher resolution lineart on CDLI\"><img src=\"cdli-imagery/lineart-e2-a.jpg\" style=\"display: inline;max-width: 2em; max-height: 6em;\"  /></a></div></div><div class=\"contnr c0 trm   \" ><div class=\"lbl c0 trm \" ><span class=\"txtu\"><span title=\"atf\">E2~a</span></span></div><div><a target=\"_blank\" href=\"https://cdli.ucla.edu/tools/SignLists/protocuneiform/archsigns/E2~a.jpg\" title=\"to higher resolution lineart on CDLI\"><img src=\"cdli-imagery/lineart-e2-a.jpg\" style=\"display: inline;max-width: 2em; max-height: 6em;\"  /></a></div></div><div class=\"contnr c0 trm   \" ><div class=\"lbl c0 trm \" ><span class=\"txtu\"><span title=\"atf\">KA~a</span></span></div><div><a target=\"_blank\" href=\"https://cdli.ucla.edu/tools/SignLists/protocuneiform/archsigns/KA~a.jpg\" title=\"to higher resolution lineart on CDLI\"><img src=\"cdli-imagery/lineart-ka-a.jpg\" style=\"display: inline;max-width: 2em; max-height: 6em;\"  /></a></div></div><div class=\"contnr c0 trm   \" ><div class=\"lbl c0 trm \" ><span class=\"txtu\"><span title=\"atf\">LAGAB~b</span></span></div><div><a target=\"_blank\" href=\"https://cdli.ucla.edu/tools/SignLists/protocuneiform/archsigns/LAGAB~b.jpg\" title=\"to higher resolution lineart on CDLI\"><img src=\"cdli-imagery/lineart-lagab-b.jpg\" style=\"display: inline;max-width: 2em; max-height: 6em;\"  /></a></div></div><div class=\"contnr c0 trm   \" ><div class=\"lbl c0 trm \" ><span class=\"txtu\"><span title=\"atf\">ZATU707~a</span></span></div><div><a target=\"_blank\" href=\"https://cdli.ucla.edu/tools/SignLists/protocuneiform/archsigns/ZATU707~a.jpg\" title=\"to higher resolution lineart on CDLI\"><img src=\"cdli-imagery/lineart-zatu707-a.jpg\" style=\"display: inline;max-width: 2em; max-height: 6em;\"  /></a></div></div></div></div></div></div></div></div><div class=\"contnr c2    \" ><div class=\"lbl c2  \" ><span class=\"nd\">face </span> <span class=\"txtu\"><span title=\"type\">reverse</span></span></div><div class=\"children hor  \"><div class=\"contnr c1 trm   \" ><div class=\"lbl c1 trm \" ><span class=\"nd\">comment </span> <span class=\"txtu\"><span class=\"plain   \" ><span class=\"plain \" ></span> </span></span></div><div class=\"features\"><span class=\"text \" title=\"text\">blank space</span></div></div><div class=\"contnr c1 trm   \" ><div class=\"lbl c1 trm \" ><span class=\"nd\">comment </span> <span class=\"txtu\"><span class=\"plain   \" ><span class=\"plain \" ></span> </span></span></div><div class=\"features\"><span class=\"text \" title=\"text\">scrunched together</span></div></div><div class=\"contnr c0 trm   \" ><div class=\"lbl c0 trm \" ><span class=\"txtu\"><span title=\"atf\"></span></span></div></div></div></div></div></div></div>"
      ],
      "text/plain": [
       "<IPython.core.display.HTML object>"
      ]
     },
     "metadata": {},
     "output_type": "display_data"
    }
   ],
   "source": [
    "A.pretty(p2Node)"
   ]
  },
  {
   "cell_type": "markdown",
   "metadata": {},
   "source": [
    "If you want only one face, you can do that."
   ]
  },
  {
   "cell_type": "code",
   "execution_count": 7,
   "metadata": {},
   "outputs": [
    {
     "data": {
      "text/html": [
       "<div class=\"tfsechead \"><span class=\"ltr\"><a target=\"_blank\" href=\"https://cdli.ucla.edu/search/search_results.php?SearchMode=Text&amp;ObjectID=P000022\" title=\"to CDLI main page for this tablet\" sec=\"P000022 obverse:0:1\">P000022 obverse:0:1</a></span></div><div class=\" children\"><div class=\"contnr c2    \" ><div class=\"lbl c2  \" ><span class=\"nd\">face </span> <span class=\"txtu\"><span title=\"type\">obverse</span></span></div><div class=\"children hor  \"><div class=\"contnr c3    \" ><div class=\"lbl c3  \" ><span class=\"nd\">column </span> <span class=\"txtu\"><span title=\"number\">0</span><span title=\"prime\"></span></span></div><div class=\"children ver  \"><div class=\"contnr c2    \" ><div class=\"lbl c2  \" ><span class=\"nd\">line </span> <span class=\"txtu\"><span title=\"number\">1</span></span></div><div class=\"children hor  \"><div class=\"contnr c0 trm   \" ><div class=\"lbl c0 trm \" ><span class=\"txtu\"><span title=\"atf\">1(N01)</span></span></div><div><a target=\"_blank\" href=\"https://cdli.ucla.edu/tools/SignLists/protocuneiform/archsigns/1(N01).jpg\" title=\"to higher resolution lineart on CDLI\"><img src=\"cdli-imagery/lineart-1(n01).jpg\" style=\"display: inline;max-width: 2em; max-height: 6em;\"  /></a></div></div><div class=\"contnr c0 trm   \" ><div class=\"lbl c0 trm \" ><span class=\"txtu\"><span title=\"atf\">ZATU707~a</span></span></div><div><a target=\"_blank\" href=\"https://cdli.ucla.edu/tools/SignLists/protocuneiform/archsigns/ZATU707~a.jpg\" title=\"to higher resolution lineart on CDLI\"><img src=\"cdli-imagery/lineart-zatu707-a.jpg\" style=\"display: inline;max-width: 2em; max-height: 6em;\"  /></a></div></div><div class=\"contnr c0 trm   \" ><div class=\"lbl c0 trm \" ><span class=\"txtu\"><span title=\"atf\">ZATU686~a</span></span></div><div><a target=\"_blank\" href=\"https://cdli.ucla.edu/tools/SignLists/protocuneiform/archsigns/ZATU686~a.jpg\" title=\"to higher resolution lineart on CDLI\"><img src=\"cdli-imagery/lineart-zatu686-a.jpg\" style=\"display: inline;max-width: 2em; max-height: 6em;\"  /></a></div></div><div class=\"contnr c0 trm   \" ><div class=\"lbl c0 trm \" ><span class=\"txtu\"><span title=\"atf\">ZATU707~a</span></span></div><div><a target=\"_blank\" href=\"https://cdli.ucla.edu/tools/SignLists/protocuneiform/archsigns/ZATU707~a.jpg\" title=\"to higher resolution lineart on CDLI\"><img src=\"cdli-imagery/lineart-zatu707-a.jpg\" style=\"display: inline;max-width: 2em; max-height: 6em;\"  /></a></div></div><div class=\"contnr c0 trm   \" ><div class=\"lbl c0 trm \" ><span class=\"txtu\"><span title=\"atf\">ZATU707~a</span></span></div><div><a target=\"_blank\" href=\"https://cdli.ucla.edu/tools/SignLists/protocuneiform/archsigns/ZATU707~a.jpg\" title=\"to higher resolution lineart on CDLI\"><img src=\"cdli-imagery/lineart-zatu707-a.jpg\" style=\"display: inline;max-width: 2em; max-height: 6em;\"  /></a></div></div><div class=\"contnr c0 trm   \" ><div class=\"lbl c0 trm \" ><span class=\"txtu\"><span title=\"atf\">KA~a</span></span></div><div><a target=\"_blank\" href=\"https://cdli.ucla.edu/tools/SignLists/protocuneiform/archsigns/KA~a.jpg\" title=\"to higher resolution lineart on CDLI\"><img src=\"cdli-imagery/lineart-ka-a.jpg\" style=\"display: inline;max-width: 2em; max-height: 6em;\"  /></a></div></div><div class=\"contnr c0 trm   \" ><div class=\"lbl c0 trm \" ><span class=\"txtu\"><span title=\"atf\">E2~a</span></span></div><div><a target=\"_blank\" href=\"https://cdli.ucla.edu/tools/SignLists/protocuneiform/archsigns/E2~a.jpg\" title=\"to higher resolution lineart on CDLI\"><img src=\"cdli-imagery/lineart-e2-a.jpg\" style=\"display: inline;max-width: 2em; max-height: 6em;\"  /></a></div></div><div class=\"contnr c0 trm   \" ><div class=\"lbl c0 trm \" ><span class=\"txtu\"><span title=\"atf\">E2~a</span></span></div><div><a target=\"_blank\" href=\"https://cdli.ucla.edu/tools/SignLists/protocuneiform/archsigns/E2~a.jpg\" title=\"to higher resolution lineart on CDLI\"><img src=\"cdli-imagery/lineart-e2-a.jpg\" style=\"display: inline;max-width: 2em; max-height: 6em;\"  /></a></div></div><div class=\"contnr c0 trm   \" ><div class=\"lbl c0 trm \" ><span class=\"txtu\"><span title=\"atf\">KA~a</span></span></div><div><a target=\"_blank\" href=\"https://cdli.ucla.edu/tools/SignLists/protocuneiform/archsigns/KA~a.jpg\" title=\"to higher resolution lineart on CDLI\"><img src=\"cdli-imagery/lineart-ka-a.jpg\" style=\"display: inline;max-width: 2em; max-height: 6em;\"  /></a></div></div><div class=\"contnr c0 trm   \" ><div class=\"lbl c0 trm \" ><span class=\"txtu\"><span title=\"atf\">LAGAB~b</span></span></div><div><a target=\"_blank\" href=\"https://cdli.ucla.edu/tools/SignLists/protocuneiform/archsigns/LAGAB~b.jpg\" title=\"to higher resolution lineart on CDLI\"><img src=\"cdli-imagery/lineart-lagab-b.jpg\" style=\"display: inline;max-width: 2em; max-height: 6em;\"  /></a></div></div><div class=\"contnr c0 trm   \" ><div class=\"lbl c0 trm \" ><span class=\"txtu\"><span title=\"atf\">ZATU707~a</span></span></div><div><a target=\"_blank\" href=\"https://cdli.ucla.edu/tools/SignLists/protocuneiform/archsigns/ZATU707~a.jpg\" title=\"to higher resolution lineart on CDLI\"><img src=\"cdli-imagery/lineart-zatu707-a.jpg\" style=\"display: inline;max-width: 2em; max-height: 6em;\"  /></a></div></div></div></div></div></div></div></div></div>"
      ],
      "text/plain": [
       "<IPython.core.display.HTML object>"
      ]
     },
     "metadata": {},
     "output_type": "display_data"
    },
    {
     "data": {
      "text/html": [
       "<div class=\"tfsechead \"><span class=\"ltr\"><a target=\"_blank\" href=\"https://cdli.ucla.edu/search/search_results.php?SearchMode=Text&amp;ObjectID=P000022\" title=\"to CDLI main page for this tablet\" sec=\"P000022\">P000022</a></span></div><div class=\" children\"><div class=\"contnr c2    \" ><div class=\"lbl c2  \" ><span class=\"nd\">face </span> <span class=\"txtu\"><span title=\"type\">reverse</span></span></div><div class=\"children hor  \"><div class=\"contnr c1 trm   \" ><div class=\"lbl c1 trm \" ><span class=\"nd\">comment </span> <span class=\"txtu\"><span class=\"plain   \" ><span class=\"plain \" ></span> </span></span></div><div class=\"features\"><span class=\"text \" title=\"text\">blank space</span></div></div><div class=\"contnr c1 trm   \" ><div class=\"lbl c1 trm \" ><span class=\"nd\">comment </span> <span class=\"txtu\"><span class=\"plain   \" ><span class=\"plain \" ></span> </span></span></div><div class=\"features\"><span class=\"text \" title=\"text\">scrunched together</span></div></div><div class=\"contnr c0 trm   \" ><div class=\"lbl c0 trm \" ><span class=\"txtu\"><span title=\"atf\"></span></span></div></div></div></div></div>"
      ],
      "text/plain": [
       "<IPython.core.display.HTML object>"
      ]
     },
     "metadata": {},
     "output_type": "display_data"
    }
   ],
   "source": [
    "for f in L.d(p2Node, otype=\"face\"):\n",
    "    A.pretty(f)"
   ]
  },
  {
   "cell_type": "markdown",
   "metadata": {},
   "source": [
    "Or we could do it per column:"
   ]
  },
  {
   "cell_type": "code",
   "execution_count": 8,
   "metadata": {},
   "outputs": [
    {
     "data": {
      "text/html": [
       "<div class=\"tfsechead \"><span class=\"ltr\"><a target=\"_blank\" href=\"https://cdli.ucla.edu/search/search_results.php?SearchMode=Text&amp;ObjectID=P000022\" title=\"to CDLI main page for this tablet\" sec=\"P000022 obverse:0\">P000022 obverse:0</a></span></div><div class=\" children\"><div class=\"contnr c3    \" ><div class=\"lbl c3  \" ><span class=\"nd\">column:180530 </span> <span class=\"txtu\"><span title=\"number\">0</span><span title=\"prime\"></span></span></div><div class=\"children ver  \"><div class=\"contnr c2    \" ><div class=\"lbl c2  \" ><span class=\"nd\">line:227556 </span> <span class=\"txtu\"><span title=\"number\">1</span></span></div><div class=\"children hor  \"><div class=\"contnr c0 trm   \" ><div class=\"lbl c0 trm \" ><span class=\"nd\">1107 </span> <span class=\"txtu\"><span title=\"atf\">1(N01)</span></span></div><div><a target=\"_blank\" href=\"https://cdli.ucla.edu/tools/SignLists/protocuneiform/archsigns/1(N01).jpg\" title=\"to higher resolution lineart on CDLI\"><img src=\"cdli-imagery/lineart-1(n01).jpg\" style=\"display: inline;max-width: 2em; max-height: 6em;\"  /></a></div></div><div class=\"contnr c0 trm   \" ><div class=\"lbl c0 trm \" ><span class=\"nd\">1108 </span> <span class=\"txtu\"><span title=\"atf\">ZATU707~a</span></span></div><div><a target=\"_blank\" href=\"https://cdli.ucla.edu/tools/SignLists/protocuneiform/archsigns/ZATU707~a.jpg\" title=\"to higher resolution lineart on CDLI\"><img src=\"cdli-imagery/lineart-zatu707-a.jpg\" style=\"display: inline;max-width: 2em; max-height: 6em;\"  /></a></div></div><div class=\"contnr c0 trm   \" ><div class=\"lbl c0 trm \" ><span class=\"nd\">1109 </span> <span class=\"txtu\"><span title=\"atf\">ZATU686~a</span></span></div><div><a target=\"_blank\" href=\"https://cdli.ucla.edu/tools/SignLists/protocuneiform/archsigns/ZATU686~a.jpg\" title=\"to higher resolution lineart on CDLI\"><img src=\"cdli-imagery/lineart-zatu686-a.jpg\" style=\"display: inline;max-width: 2em; max-height: 6em;\"  /></a></div></div><div class=\"contnr c0 trm   \" ><div class=\"lbl c0 trm \" ><span class=\"nd\">1110 </span> <span class=\"txtu\"><span title=\"atf\">ZATU707~a</span></span></div><div><a target=\"_blank\" href=\"https://cdli.ucla.edu/tools/SignLists/protocuneiform/archsigns/ZATU707~a.jpg\" title=\"to higher resolution lineart on CDLI\"><img src=\"cdli-imagery/lineart-zatu707-a.jpg\" style=\"display: inline;max-width: 2em; max-height: 6em;\"  /></a></div></div><div class=\"contnr c0 trm   \" ><div class=\"lbl c0 trm \" ><span class=\"nd\">1111 </span> <span class=\"txtu\"><span title=\"atf\">ZATU707~a</span></span></div><div><a target=\"_blank\" href=\"https://cdli.ucla.edu/tools/SignLists/protocuneiform/archsigns/ZATU707~a.jpg\" title=\"to higher resolution lineart on CDLI\"><img src=\"cdli-imagery/lineart-zatu707-a.jpg\" style=\"display: inline;max-width: 2em; max-height: 6em;\"  /></a></div></div><div class=\"contnr c0 trm   \" ><div class=\"lbl c0 trm \" ><span class=\"nd\">1112 </span> <span class=\"txtu\"><span title=\"atf\">KA~a</span></span></div><div><a target=\"_blank\" href=\"https://cdli.ucla.edu/tools/SignLists/protocuneiform/archsigns/KA~a.jpg\" title=\"to higher resolution lineart on CDLI\"><img src=\"cdli-imagery/lineart-ka-a.jpg\" style=\"display: inline;max-width: 2em; max-height: 6em;\"  /></a></div></div><div class=\"contnr c0 trm   \" ><div class=\"lbl c0 trm \" ><span class=\"nd\">1113 </span> <span class=\"txtu\"><span title=\"atf\">E2~a</span></span></div><div><a target=\"_blank\" href=\"https://cdli.ucla.edu/tools/SignLists/protocuneiform/archsigns/E2~a.jpg\" title=\"to higher resolution lineart on CDLI\"><img src=\"cdli-imagery/lineart-e2-a.jpg\" style=\"display: inline;max-width: 2em; max-height: 6em;\"  /></a></div></div><div class=\"contnr c0 trm   \" ><div class=\"lbl c0 trm \" ><span class=\"nd\">1114 </span> <span class=\"txtu\"><span title=\"atf\">E2~a</span></span></div><div><a target=\"_blank\" href=\"https://cdli.ucla.edu/tools/SignLists/protocuneiform/archsigns/E2~a.jpg\" title=\"to higher resolution lineart on CDLI\"><img src=\"cdli-imagery/lineart-e2-a.jpg\" style=\"display: inline;max-width: 2em; max-height: 6em;\"  /></a></div></div><div class=\"contnr c0 trm   \" ><div class=\"lbl c0 trm \" ><span class=\"nd\">1115 </span> <span class=\"txtu\"><span title=\"atf\">KA~a</span></span></div><div><a target=\"_blank\" href=\"https://cdli.ucla.edu/tools/SignLists/protocuneiform/archsigns/KA~a.jpg\" title=\"to higher resolution lineart on CDLI\"><img src=\"cdli-imagery/lineart-ka-a.jpg\" style=\"display: inline;max-width: 2em; max-height: 6em;\"  /></a></div></div><div class=\"contnr c0 trm   \" ><div class=\"lbl c0 trm \" ><span class=\"nd\">1116 </span> <span class=\"txtu\"><span title=\"atf\">LAGAB~b</span></span></div><div><a target=\"_blank\" href=\"https://cdli.ucla.edu/tools/SignLists/protocuneiform/archsigns/LAGAB~b.jpg\" title=\"to higher resolution lineart on CDLI\"><img src=\"cdli-imagery/lineart-lagab-b.jpg\" style=\"display: inline;max-width: 2em; max-height: 6em;\"  /></a></div></div><div class=\"contnr c0 trm   \" ><div class=\"lbl c0 trm \" ><span class=\"nd\">1117 </span> <span class=\"txtu\"><span title=\"atf\">ZATU707~a</span></span></div><div><a target=\"_blank\" href=\"https://cdli.ucla.edu/tools/SignLists/protocuneiform/archsigns/ZATU707~a.jpg\" title=\"to higher resolution lineart on CDLI\"><img src=\"cdli-imagery/lineart-zatu707-a.jpg\" style=\"display: inline;max-width: 2em; max-height: 6em;\"  /></a></div></div></div></div></div></div></div>"
      ],
      "text/plain": [
       "<IPython.core.display.HTML object>"
      ]
     },
     "metadata": {},
     "output_type": "display_data"
    }
   ],
   "source": [
    "for f in L.d(p2Node, otype=\"column\"):\n",
    "    A.pretty(f, withNodes=True)"
   ]
  },
  {
   "cell_type": "markdown",
   "metadata": {},
   "source": [
    "We start with showing one photo.\n",
    "Note, that if you click on the photo,\n",
    "you will be taken to a higher resolution version on CDLI.\n",
    "\n",
    "And if you click on the caption, you will be taken to the main page for the tablet on CDLI."
   ]
  },
  {
   "cell_type": "code",
   "execution_count": 9,
   "metadata": {
    "ExecuteTime": {
     "end_time": "2018-05-01T13:41:56.665462Z",
     "start_time": "2018-05-01T13:41:56.655046Z"
    }
   },
   "outputs": [
    {
     "data": {
      "text/html": [
       "<div style=\"display: flex;flex-flow: row nowrap;justify-content: flex-start;align-items: center;align-content: flex-start;\"><div style=\"padding: 0.5rem;\"><div style=\"display: flex;flex-flow: column nowrap;justify-content: space-between;align-items: center;align-content: space-between;\"><div><a target=\"_blank\" href=\"https://cdli.ucla.edu/dl/photo/P000014_d.jpg\" title=\"to higher resolution photo on CDLI\"><img src=\"cdli-imagery/photo-p000014.jpg\" style=\"display: inline;\"  /></a></div><div><a target=\"_blank\" href=\"https://cdli.ucla.edu/search/search_results.php?SearchMode=Text&amp;ObjectID=P000014\" title=\"to CDLI main page for this item\">P000014</a></div></div></div></div>"
      ],
      "text/plain": [
       "<IPython.core.display.HTML object>"
      ]
     },
     "metadata": {},
     "output_type": "display_data"
    }
   ],
   "source": [
    "A.photo(pNum1)"
   ]
  },
  {
   "cell_type": "markdown",
   "metadata": {},
   "source": [
    "If you want it smaller, you can set the width.\n",
    "\n",
    "The width may be an integer indicating the amount of pixels, or any string that is acceptable\n",
    "as a measure in\n",
    "[CSS](https://developer.mozilla.org/en-US/docs/Web/CSS/length)."
   ]
  },
  {
   "cell_type": "code",
   "execution_count": 10,
   "metadata": {
    "ExecuteTime": {
     "end_time": "2018-05-01T13:42:05.624596Z",
     "start_time": "2018-05-01T13:42:05.615191Z"
    }
   },
   "outputs": [
    {
     "data": {
      "text/html": [
       "<div style=\"display: flex;flex-flow: row nowrap;justify-content: flex-start;align-items: center;align-content: flex-start;\"><div style=\"padding: 0.5rem;\"><div style=\"display: flex;flex-flow: column nowrap;justify-content: space-between;align-items: center;align-content: space-between;\"><div><a target=\"_blank\" href=\"https://cdli.ucla.edu/dl/photo/P000014_d.jpg\" title=\"to higher resolution photo on CDLI\"><img src=\"cdli-imagery/photo-p000014.jpg\" style=\"display: inline;max-width: 200px;\"  /></a></div><div><a target=\"_blank\" href=\"https://cdli.ucla.edu/search/search_results.php?SearchMode=Text&amp;ObjectID=P000014\" title=\"to CDLI main page for this item\">P000014</a></div></div></div></div>"
      ],
      "text/plain": [
       "<IPython.core.display.HTML object>"
      ]
     },
     "metadata": {},
     "output_type": "display_data"
    }
   ],
   "source": [
    "A.photo(pNum1, width=200)"
   ]
  },
  {
   "cell_type": "code",
   "execution_count": 11,
   "metadata": {
    "ExecuteTime": {
     "end_time": "2018-05-01T13:42:07.559504Z",
     "start_time": "2018-05-01T13:42:07.551428Z"
    }
   },
   "outputs": [
    {
     "data": {
      "text/html": [
       "<div style=\"display: flex;flex-flow: row nowrap;justify-content: flex-start;align-items: center;align-content: flex-start;\"><div style=\"padding: 0.5rem;\"><div style=\"display: flex;flex-flow: column nowrap;justify-content: space-between;align-items: center;align-content: space-between;\"><div><a target=\"_blank\" href=\"https://cdli.ucla.edu/dl/photo/P000014_d.jpg\" title=\"to higher resolution photo on CDLI\"><img src=\"cdli-imagery/photo-p000014.jpg\" style=\"display: inline;max-width: 10em;\"  /></a></div><div><a target=\"_blank\" href=\"https://cdli.ucla.edu/search/search_results.php?SearchMode=Text&amp;ObjectID=P000014\" title=\"to CDLI main page for this item\">P000014</a></div></div></div></div>"
      ],
      "text/plain": [
       "<IPython.core.display.HTML object>"
      ]
     },
     "metadata": {},
     "output_type": "display_data"
    }
   ],
   "source": [
    "A.photo(pNum1, width=\"10em\")"
   ]
  },
  {
   "cell_type": "markdown",
   "metadata": {
    "slideshow": {
     "slide_type": "slide"
    }
   },
   "source": [
    "If you do not want to show the caption, say:"
   ]
  },
  {
   "cell_type": "code",
   "execution_count": 12,
   "metadata": {
    "ExecuteTime": {
     "end_time": "2018-05-01T13:42:09.007589Z",
     "start_time": "2018-05-01T13:42:08.995427Z"
    }
   },
   "outputs": [
    {
     "data": {
      "text/html": [
       "<div style=\"display: flex;flex-flow: row nowrap;justify-content: flex-start;align-items: center;align-content: flex-start;\"><div style=\"padding: 0.5rem;\"><a target=\"_blank\" href=\"https://cdli.ucla.edu/dl/photo/P000014_d.jpg\" title=\"to higher resolution photo on CDLI\"><img src=\"cdli-imagery/photo-p000014.jpg\" style=\"display: inline;max-width: 100px;\"  /></a></div></div>"
      ],
      "text/plain": [
       "<IPython.core.display.HTML object>"
      ]
     },
     "metadata": {},
     "output_type": "display_data"
    }
   ],
   "source": [
    "A.photo(pNum1, width=100, withCaption=False)"
   ]
  },
  {
   "cell_type": "markdown",
   "metadata": {},
   "source": [
    "You can position the caption:"
   ]
  },
  {
   "cell_type": "code",
   "execution_count": 13,
   "metadata": {
    "ExecuteTime": {
     "end_time": "2018-05-01T13:42:11.284031Z",
     "start_time": "2018-05-01T13:42:11.273275Z"
    }
   },
   "outputs": [
    {
     "data": {
      "text/html": [
       "<div style=\"display: flex;flex-flow: row nowrap;justify-content: flex-start;align-items: center;align-content: flex-start;\"><div style=\"padding: 0.5rem;\"><div style=\"display: flex;flex-flow: column-reverse nowrap;justify-content: space-between;align-items: center;align-content: space-between;\"><div><a target=\"_blank\" href=\"https://cdli.ucla.edu/dl/photo/P000014_d.jpg\" title=\"to higher resolution photo on CDLI\"><img src=\"cdli-imagery/photo-p000014.jpg\" style=\"display: inline;max-width: 100px;\"  /></a></div><div><a target=\"_blank\" href=\"https://cdli.ucla.edu/search/search_results.php?SearchMode=Text&amp;ObjectID=P000014\" title=\"to CDLI main page for this item\">P000014</a></div></div></div></div>"
      ],
      "text/plain": [
       "<IPython.core.display.HTML object>"
      ]
     },
     "metadata": {},
     "output_type": "display_data"
    }
   ],
   "source": [
    "A.photo(pNum1, width=100, withCaption=\"top\")"
   ]
  },
  {
   "cell_type": "code",
   "execution_count": 14,
   "metadata": {
    "ExecuteTime": {
     "end_time": "2018-05-01T13:42:13.038386Z",
     "start_time": "2018-05-01T13:42:13.028012Z"
    }
   },
   "outputs": [
    {
     "data": {
      "text/html": [
       "<div style=\"display: flex;flex-flow: row nowrap;justify-content: flex-start;align-items: center;align-content: flex-start;\"><div style=\"padding: 0.5rem;\"><div style=\"display: flex;flex-flow: row-reverse nowrap;justify-content: space-between;align-items: center;align-content: space-between;\"><div><a target=\"_blank\" href=\"https://cdli.ucla.edu/dl/photo/P000014_d.jpg\" title=\"to higher resolution photo on CDLI\"><img src=\"cdli-imagery/photo-p000014.jpg\" style=\"display: inline;max-width: 100px;\"  /></a></div><div><a target=\"_blank\" href=\"https://cdli.ucla.edu/search/search_results.php?SearchMode=Text&amp;ObjectID=P000014\" title=\"to CDLI main page for this item\">P000014</a></div></div></div></div>"
      ],
      "text/plain": [
       "<IPython.core.display.HTML object>"
      ]
     },
     "metadata": {},
     "output_type": "display_data"
    }
   ],
   "source": [
    "A.photo(pNum1, width=100, withCaption=\"left\")"
   ]
  },
  {
   "cell_type": "code",
   "execution_count": 15,
   "metadata": {
    "ExecuteTime": {
     "end_time": "2018-05-01T13:42:14.360684Z",
     "start_time": "2018-05-01T13:42:14.348821Z"
    }
   },
   "outputs": [
    {
     "data": {
      "text/html": [
       "<div style=\"display: flex;flex-flow: row nowrap;justify-content: flex-start;align-items: center;align-content: flex-start;\"><div style=\"padding: 0.5rem;\"><div style=\"display: flex;flex-flow: row nowrap;justify-content: space-between;align-items: center;align-content: space-between;\"><div><a target=\"_blank\" href=\"https://cdli.ucla.edu/dl/photo/P000014_d.jpg\" title=\"to higher resolution photo on CDLI\"><img src=\"cdli-imagery/photo-p000014.jpg\" style=\"display: inline;max-width: 100px;\"  /></a></div><div><a target=\"_blank\" href=\"https://cdli.ucla.edu/search/search_results.php?SearchMode=Text&amp;ObjectID=P000014\" title=\"to CDLI main page for this item\">P000014</a></div></div></div></div>"
      ],
      "text/plain": [
       "<IPython.core.display.HTML object>"
      ]
     },
     "metadata": {},
     "output_type": "display_data"
    }
   ],
   "source": [
    "A.photo(pNum1, width=100, withCaption=\"right\")"
   ]
  },
  {
   "cell_type": "markdown",
   "metadata": {},
   "source": [
    "Instead of providing a P-number, you can also specify a node:"
   ]
  },
  {
   "cell_type": "code",
   "execution_count": 16,
   "metadata": {
    "ExecuteTime": {
     "end_time": "2018-05-01T13:42:16.152991Z",
     "start_time": "2018-05-01T13:42:16.147640Z"
    }
   },
   "outputs": [],
   "source": [
    "tablet1 = T.nodeFromSection((pNum1,))\n",
    "tablet2 = T.nodeFromSection((pNum2,))"
   ]
  },
  {
   "cell_type": "markdown",
   "metadata": {},
   "source": [
    "If you want to show them in a row:"
   ]
  },
  {
   "cell_type": "code",
   "execution_count": 17,
   "metadata": {
    "ExecuteTime": {
     "end_time": "2018-05-01T13:42:18.527386Z",
     "start_time": "2018-05-01T13:42:18.517665Z"
    }
   },
   "outputs": [
    {
     "data": {
      "text/html": [
       "<div style=\"display: flex;flex-flow: row nowrap;justify-content: flex-start;align-items: center;align-content: flex-start;\"><div style=\"padding: 0.5rem;\"><div style=\"display: flex;flex-flow: column nowrap;justify-content: space-between;align-items: center;align-content: space-between;\"><div><a target=\"_blank\" href=\"https://cdli.ucla.edu/dl/photo/P000014_d.jpg\" title=\"to higher resolution photo on CDLI\"><img src=\"cdli-imagery/photo-p000014.jpg\" style=\"display: inline;max-height: 200px;\"  /></a></div><div><a target=\"_blank\" href=\"https://cdli.ucla.edu/search/search_results.php?SearchMode=Text&amp;ObjectID=P000014\" title=\"to CDLI main page for this item\">P000014</a></div></div></div><div style=\"padding: 0.5rem;\"><div style=\"display: flex;flex-flow: column nowrap;justify-content: space-between;align-items: center;align-content: space-between;\"><div><a target=\"_blank\" href=\"https://cdli.ucla.edu/dl/photo/P000022_d.jpg\" title=\"to higher resolution photo on CDLI\"><img src=\"cdli-imagery/photo-p000022.jpg\" style=\"display: inline;max-height: 200px;\"  /></a></div><div><a target=\"_blank\" href=\"https://cdli.ucla.edu/search/search_results.php?SearchMode=Text&amp;ObjectID=P000022\" title=\"to CDLI main page for this item\">P000022</a></div></div></div></div>"
      ],
      "text/plain": [
       "<IPython.core.display.HTML object>"
      ]
     },
     "metadata": {},
     "output_type": "display_data"
    }
   ],
   "source": [
    "A.photo([tablet1, tablet2], height=\"200\")"
   ]
  },
  {
   "cell_type": "markdown",
   "metadata": {},
   "source": [
    "If you want to show the links only, not the images themselves:"
   ]
  },
  {
   "cell_type": "code",
   "execution_count": 18,
   "metadata": {
    "ExecuteTime": {
     "end_time": "2018-05-01T13:42:19.735577Z",
     "start_time": "2018-05-01T13:42:19.723446Z"
    }
   },
   "outputs": [
    {
     "data": {
      "text/html": [
       "<div style=\"display: flex;flex-flow: row nowrap;justify-content: flex-start;align-items: center;align-content: flex-start;\"><div style=\"padding: 0.5rem;\"><a target=\"_blank\" href=\"https://cdli.ucla.edu/dl/photo/P000014_d.jpg\" title=\"to higher resolution photo on CDLI\">P000014</a></div><div style=\"padding: 0.5rem;\"><a target=\"_blank\" href=\"https://cdli.ucla.edu/dl/photo/P000022_d.jpg\" title=\"to higher resolution photo on CDLI\">P000022</a></div></div>"
      ],
      "text/plain": [
       "<IPython.core.display.HTML object>"
      ]
     },
     "metadata": {},
     "output_type": "display_data"
    }
   ],
   "source": [
    "A.photo([tablet1, tablet2], asLink=True)"
   ]
  },
  {
   "cell_type": "markdown",
   "metadata": {},
   "source": [
    "If you also want the links to the main pages on CDLI:"
   ]
  },
  {
   "cell_type": "code",
   "execution_count": 19,
   "metadata": {
    "ExecuteTime": {
     "end_time": "2018-05-01T13:42:21.212384Z",
     "start_time": "2018-05-01T13:42:21.205011Z"
    }
   },
   "outputs": [
    {
     "data": {
      "text/html": [
       "<div style=\"display: flex;flex-flow: row nowrap;justify-content: flex-start;align-items: center;align-content: flex-start;\"><div style=\"padding: 0.5rem;\"><div style=\"display: flex;flex-flow: column nowrap;justify-content: space-between;align-items: center;align-content: space-between;\"><div><a target=\"_blank\" href=\"https://cdli.ucla.edu/dl/photo/P000014_d.jpg\" title=\"to higher resolution photo on CDLI\">P000014</a></div><div><a target=\"_blank\" href=\"https://cdli.ucla.edu/search/search_results.php?SearchMode=Text&amp;ObjectID=P000014\" title=\"to CDLI main page for this item\">P000014</a></div></div></div><div style=\"padding: 0.5rem;\"><div style=\"display: flex;flex-flow: column nowrap;justify-content: space-between;align-items: center;align-content: space-between;\"><div><a target=\"_blank\" href=\"https://cdli.ucla.edu/dl/photo/P000022_d.jpg\" title=\"to higher resolution photo on CDLI\">P000022</a></div><div><a target=\"_blank\" href=\"https://cdli.ucla.edu/search/search_results.php?SearchMode=Text&amp;ObjectID=P000022\" title=\"to CDLI main page for this item\">P000022</a></div></div></div></div>"
      ],
      "text/plain": [
       "<IPython.core.display.HTML object>"
      ]
     },
     "metadata": {},
     "output_type": "display_data"
    }
   ],
   "source": [
    "A.photo([tablet1, tablet2], asLink=True, withCaption=\"bottom\")"
   ]
  },
  {
   "cell_type": "markdown",
   "metadata": {},
   "source": [
    "## Lineart\n",
    "\n",
    "### Tablets\n",
    "\n",
    "We show the lineart for our example tablets:"
   ]
  },
  {
   "cell_type": "code",
   "execution_count": 20,
   "metadata": {
    "ExecuteTime": {
     "end_time": "2018-05-01T13:42:22.511586Z",
     "start_time": "2018-05-01T13:42:22.499581Z"
    }
   },
   "outputs": [
    {
     "data": {
      "text/html": [
       "<div style=\"display: flex;flex-flow: row nowrap;justify-content: flex-start;align-items: center;align-content: flex-start;\"><div style=\"padding: 0.5rem;\"><div style=\"display: flex;flex-flow: column nowrap;justify-content: space-between;align-items: center;align-content: space-between;\"><div><a target=\"_blank\" href=\"https://cdli.ucla.edu/dl/lineart/P000014_l.jpg\" title=\"to higher resolution lineart on CDLI\"><img src=\"cdli-imagery/lineart-p000014.jpg\" style=\"display: inline;\"  /></a></div><div><a target=\"_blank\" href=\"https://cdli.ucla.edu/search/search_results.php?SearchMode=Text&amp;ObjectID=P000014\" title=\"to CDLI main page for this item\">P000014</a></div></div></div><div style=\"padding: 0.5rem;\"><div style=\"display: flex;flex-flow: column nowrap;justify-content: space-between;align-items: center;align-content: space-between;\"><div><a target=\"_blank\" href=\"https://cdli.ucla.edu/dl/lineart/P000022_l.jpg\" title=\"to higher resolution lineart on CDLI\"><img src=\"cdli-imagery/lineart-p000022.jpg\" style=\"display: inline;\"  /></a></div><div><a target=\"_blank\" href=\"https://cdli.ucla.edu/search/search_results.php?SearchMode=Text&amp;ObjectID=P000022\" title=\"to CDLI main page for this item\">P000022</a></div></div></div></div>"
      ],
      "text/plain": [
       "<IPython.core.display.HTML object>"
      ]
     },
     "metadata": {},
     "output_type": "display_data"
    }
   ],
   "source": [
    "A.lineart([pNum1, pNum2])"
   ]
  },
  {
   "cell_type": "markdown",
   "metadata": {
    "slideshow": {
     "slide_type": "subslide"
    }
   },
   "source": [
    "Again, we can identify the tablets equally well with their nodes.\n",
    "Let's make them smaller:"
   ]
  },
  {
   "cell_type": "code",
   "execution_count": 21,
   "metadata": {
    "ExecuteTime": {
     "end_time": "2018-05-01T13:42:24.227485Z",
     "start_time": "2018-05-01T13:42:24.218813Z"
    }
   },
   "outputs": [
    {
     "data": {
      "text/html": [
       "<div style=\"display: flex;flex-flow: row nowrap;justify-content: flex-start;align-items: center;align-content: flex-start;\"><div style=\"padding: 0.5rem;\"><div style=\"display: flex;flex-flow: column nowrap;justify-content: space-between;align-items: center;align-content: space-between;\"><div><a target=\"_blank\" href=\"https://cdli.ucla.edu/dl/lineart/P000014_l.jpg\" title=\"to higher resolution lineart on CDLI\"><img src=\"cdli-imagery/lineart-p000014.jpg\" style=\"display: inline;max-width: 100px;\"  /></a></div><div><a target=\"_blank\" href=\"https://cdli.ucla.edu/search/search_results.php?SearchMode=Text&amp;ObjectID=P000014\" title=\"to CDLI main page for this item\">P000014</a></div></div></div><div style=\"padding: 0.5rem;\"><div style=\"display: flex;flex-flow: column nowrap;justify-content: space-between;align-items: center;align-content: space-between;\"><div><a target=\"_blank\" href=\"https://cdli.ucla.edu/dl/lineart/P000022_l.jpg\" title=\"to higher resolution lineart on CDLI\"><img src=\"cdli-imagery/lineart-p000022.jpg\" style=\"display: inline;max-width: 100px;\"  /></a></div><div><a target=\"_blank\" href=\"https://cdli.ucla.edu/search/search_results.php?SearchMode=Text&amp;ObjectID=P000022\" title=\"to CDLI main page for this item\">P000022</a></div></div></div></div>"
      ],
      "text/plain": [
       "<IPython.core.display.HTML object>"
      ]
     },
     "metadata": {},
     "output_type": "display_data"
    }
   ],
   "source": [
    "A.lineart([tablet1, tablet2], width=100)"
   ]
  },
  {
   "cell_type": "markdown",
   "metadata": {},
   "source": [
    "We can set a height and a width, they act as maximum constraints."
   ]
  },
  {
   "cell_type": "code",
   "execution_count": 22,
   "metadata": {
    "ExecuteTime": {
     "end_time": "2018-05-01T13:42:25.482675Z",
     "start_time": "2018-05-01T13:42:25.467378Z"
    }
   },
   "outputs": [
    {
     "data": {
      "text/html": [
       "<div style=\"display: flex;flex-flow: row nowrap;justify-content: flex-start;align-items: center;align-content: flex-start;\"><div style=\"padding: 0.5rem;\"><div style=\"display: flex;flex-flow: column nowrap;justify-content: space-between;align-items: center;align-content: space-between;\"><div><a target=\"_blank\" href=\"https://cdli.ucla.edu/dl/lineart/P000014_l.jpg\" title=\"to higher resolution lineart on CDLI\"><img src=\"cdli-imagery/lineart-p000014.jpg\" style=\"display: inline;max-width: 200px; max-height: 100px;\"  /></a></div><div><a target=\"_blank\" href=\"https://cdli.ucla.edu/search/search_results.php?SearchMode=Text&amp;ObjectID=P000014\" title=\"to CDLI main page for this item\">P000014</a></div></div></div><div style=\"padding: 0.5rem;\"><div style=\"display: flex;flex-flow: column nowrap;justify-content: space-between;align-items: center;align-content: space-between;\"><div><a target=\"_blank\" href=\"https://cdli.ucla.edu/dl/lineart/P000022_l.jpg\" title=\"to higher resolution lineart on CDLI\"><img src=\"cdli-imagery/lineart-p000022.jpg\" style=\"display: inline;max-width: 200px; max-height: 100px;\"  /></a></div><div><a target=\"_blank\" href=\"https://cdli.ucla.edu/search/search_results.php?SearchMode=Text&amp;ObjectID=P000022\" title=\"to CDLI main page for this item\">P000022</a></div></div></div></div>"
      ],
      "text/plain": [
       "<IPython.core.display.HTML object>"
      ]
     },
     "metadata": {},
     "output_type": "display_data"
    }
   ],
   "source": [
    "A.lineart([tablet1, tablet2], width=200, height=100)"
   ]
  },
  {
   "cell_type": "markdown",
   "metadata": {},
   "source": [
    "If you insist that the width should be fully realized, you can use a `!` in front of the value."
   ]
  },
  {
   "cell_type": "code",
   "execution_count": 23,
   "metadata": {
    "ExecuteTime": {
     "end_time": "2018-05-01T13:42:26.994644Z",
     "start_time": "2018-05-01T13:42:26.982651Z"
    }
   },
   "outputs": [
    {
     "data": {
      "text/html": [
       "<div style=\"display: flex;flex-flow: row nowrap;justify-content: flex-start;align-items: center;align-content: flex-start;\"><div style=\"padding: 0.5rem;\"><div style=\"display: flex;flex-flow: column nowrap;justify-content: space-between;align-items: center;align-content: space-between;\"><div><a target=\"_blank\" href=\"https://cdli.ucla.edu/dl/lineart/P000014_l.jpg\" title=\"to higher resolution lineart on CDLI\"><img src=\"cdli-imagery/lineart-p000014.jpg\" style=\"display: inline;max-width: 200px; min-width: 200px; max-height: 100px;\"  /></a></div><div><a target=\"_blank\" href=\"https://cdli.ucla.edu/search/search_results.php?SearchMode=Text&amp;ObjectID=P000014\" title=\"to CDLI main page for this item\">P000014</a></div></div></div><div style=\"padding: 0.5rem;\"><div style=\"display: flex;flex-flow: column nowrap;justify-content: space-between;align-items: center;align-content: space-between;\"><div><a target=\"_blank\" href=\"https://cdli.ucla.edu/dl/lineart/P000022_l.jpg\" title=\"to higher resolution lineart on CDLI\"><img src=\"cdli-imagery/lineart-p000022.jpg\" style=\"display: inline;max-width: 200px; min-width: 200px; max-height: 100px;\"  /></a></div><div><a target=\"_blank\" href=\"https://cdli.ucla.edu/search/search_results.php?SearchMode=Text&amp;ObjectID=P000022\" title=\"to CDLI main page for this item\">P000022</a></div></div></div></div>"
      ],
      "text/plain": [
       "<IPython.core.display.HTML object>"
      ]
     },
     "metadata": {},
     "output_type": "display_data"
    }
   ],
   "source": [
    "A.lineart([tablet1, tablet2], width=\"!200\", height=100)"
   ]
  },
  {
   "cell_type": "markdown",
   "metadata": {},
   "source": [
    "Note that this distorts the aspect ratio.\n",
    "But sometimes you may want that."
   ]
  },
  {
   "cell_type": "code",
   "execution_count": 24,
   "metadata": {
    "ExecuteTime": {
     "end_time": "2018-05-01T13:42:28.478534Z",
     "start_time": "2018-05-01T13:42:28.470203Z"
    }
   },
   "outputs": [
    {
     "data": {
      "text/html": [
       "<div style=\"display: flex;flex-flow: row nowrap;justify-content: flex-start;align-items: center;align-content: flex-start;\"><div style=\"padding: 0.5rem;\"><div style=\"display: flex;flex-flow: column nowrap;justify-content: space-between;align-items: center;align-content: space-between;\"><div><a target=\"_blank\" href=\"https://cdli.ucla.edu/dl/lineart/P000014_l.jpg\" title=\"to higher resolution lineart on CDLI\"><img src=\"cdli-imagery/lineart-p000014.jpg\" style=\"display: inline;max-width: 200px; min-width: 200px; max-height: 200px; min-height: 200px;\"  /></a></div><div><a target=\"_blank\" href=\"https://cdli.ucla.edu/search/search_results.php?SearchMode=Text&amp;ObjectID=P000014\" title=\"to CDLI main page for this item\">P000014</a></div></div></div><div style=\"padding: 0.5rem;\"><div style=\"display: flex;flex-flow: column nowrap;justify-content: space-between;align-items: center;align-content: space-between;\"><div><a target=\"_blank\" href=\"https://cdli.ucla.edu/dl/lineart/P000022_l.jpg\" title=\"to higher resolution lineart on CDLI\"><img src=\"cdli-imagery/lineart-p000022.jpg\" style=\"display: inline;max-width: 200px; min-width: 200px; max-height: 200px; min-height: 200px;\"  /></a></div><div><a target=\"_blank\" href=\"https://cdli.ucla.edu/search/search_results.php?SearchMode=Text&amp;ObjectID=P000022\" title=\"to CDLI main page for this item\">P000022</a></div></div></div></div>"
      ],
      "text/plain": [
       "<IPython.core.display.HTML object>"
      ]
     },
     "metadata": {},
     "output_type": "display_data"
    }
   ],
   "source": [
    "A.lineart([tablet1, tablet2], width=\"!200\", height=\"!200\")"
   ]
  },
  {
   "cell_type": "markdown",
   "metadata": {},
   "source": [
    "### Keys\n",
    "\n",
    "Some tablets have additional linearts.\n",
    "We can select them by their *key*.\n",
    "The default lineart is keyed by the empty string,\n",
    "and this one will be chosen if you do not pass a key, as we did above.\n",
    "\n",
    "In order to know which keys there are for a tablet, just call lineart with a non-existing key:"
   ]
  },
  {
   "cell_type": "code",
   "execution_count": 25,
   "metadata": {
    "ExecuteTime": {
     "end_time": "2018-05-01T13:42:29.937136Z",
     "start_time": "2018-05-01T13:42:29.929925Z"
    }
   },
   "outputs": [],
   "source": [
    "pNum3 = \"P003553\""
   ]
  },
  {
   "cell_type": "code",
   "execution_count": 26,
   "metadata": {
    "ExecuteTime": {
     "end_time": "2018-05-01T13:42:32.110769Z",
     "start_time": "2018-05-01T13:42:32.102720Z"
    }
   },
   "outputs": [
    {
     "data": {
      "text/html": [
       "<div style=\"display: flex;flex-flow: row nowrap;justify-content: flex-start;align-items: center;align-content: flex-start;\"><div style=\"padding: 0.5rem;\"><div style=\"display: flex;flex-flow: column nowrap;justify-content: space-between;align-items: center;align-content: space-between;\"><div><a target=\"_blank\" href=\"https://cdli.ucla.edu/dl/lineart/P003553_l.jpg\" title=\"to higher resolution lineart on CDLI\"><span><b>try</b> key=<code></code> <code>d</code></span></a></div><div><a target=\"_blank\" href=\"https://cdli.ucla.edu/search/search_results.php?SearchMode=Text&amp;ObjectID=P003553\" title=\"to CDLI main page for this item\">P003553</a></div></div></div></div>"
      ],
      "text/plain": [
       "<IPython.core.display.HTML object>"
      ]
     },
     "metadata": {},
     "output_type": "display_data"
    }
   ],
   "source": [
    "A.lineart(pNum3, key=\"xxx\")"
   ]
  },
  {
   "cell_type": "markdown",
   "metadata": {},
   "source": [
    "So this tablet has the empty key, and also key `d`.\n",
    "Let's get the latter one:"
   ]
  },
  {
   "cell_type": "code",
   "execution_count": 27,
   "metadata": {
    "ExecuteTime": {
     "end_time": "2018-05-01T13:42:33.556411Z",
     "start_time": "2018-05-01T13:42:33.546349Z"
    }
   },
   "outputs": [
    {
     "data": {
      "text/html": [
       "<div style=\"display: flex;flex-flow: row nowrap;justify-content: flex-start;align-items: center;align-content: flex-start;\"><div style=\"padding: 0.5rem;\"><div style=\"display: flex;flex-flow: column nowrap;justify-content: space-between;align-items: center;align-content: space-between;\"><div><a target=\"_blank\" href=\"https://cdli.ucla.edu/dl/lineart/P003553_l.jpg\" title=\"to higher resolution lineart on CDLI\"><img src=\"cdli-imagery/lineart-p003553-d.jpg\" style=\"display: inline;\"  /></a></div><div><a target=\"_blank\" href=\"https://cdli.ucla.edu/search/search_results.php?SearchMode=Text&amp;ObjectID=P003553\" title=\"to CDLI main page for this item\">P003553</a></div></div></div></div>"
      ],
      "text/plain": [
       "<IPython.core.display.HTML object>"
      ]
     },
     "metadata": {},
     "output_type": "display_data"
    }
   ],
   "source": [
    "A.lineart(pNum3, key=\"d\")"
   ]
  },
  {
   "cell_type": "markdown",
   "metadata": {},
   "source": [
    "A bit smaller:"
   ]
  },
  {
   "cell_type": "code",
   "execution_count": 28,
   "metadata": {
    "ExecuteTime": {
     "end_time": "2018-05-01T13:42:36.494808Z",
     "start_time": "2018-05-01T13:42:36.482889Z"
    }
   },
   "outputs": [
    {
     "data": {
      "text/html": [
       "<div style=\"display: flex;flex-flow: row nowrap;justify-content: flex-start;align-items: center;align-content: flex-start;\"><div style=\"padding: 0.5rem;\"><div style=\"display: flex;flex-flow: column nowrap;justify-content: space-between;align-items: center;align-content: space-between;\"><div><a target=\"_blank\" href=\"https://cdli.ucla.edu/dl/lineart/P003553_l.jpg\" title=\"to higher resolution lineart on CDLI\"><img src=\"cdli-imagery/lineart-p003553-d.jpg\" style=\"display: inline;max-width: 600px;\"  /></a></div><div><a target=\"_blank\" href=\"https://cdli.ucla.edu/search/search_results.php?SearchMode=Text&amp;ObjectID=P003553\" title=\"to CDLI main page for this item\">P003553</a></div></div></div></div>"
      ],
      "text/plain": [
       "<IPython.core.display.HTML object>"
      ]
     },
     "metadata": {},
     "output_type": "display_data"
    }
   ],
   "source": [
    "A.lineart(pNum3, key=\"d\", width=600)"
   ]
  },
  {
   "cell_type": "markdown",
   "metadata": {},
   "source": [
    "We navigate to a famous example tablet and show the lineart."
   ]
  },
  {
   "cell_type": "code",
   "execution_count": 29,
   "metadata": {
    "ExecuteTime": {
     "end_time": "2018-05-01T13:42:37.846120Z",
     "start_time": "2018-05-01T13:42:37.838632Z"
    }
   },
   "outputs": [],
   "source": [
    "pNumX = \"P005381\""
   ]
  },
  {
   "cell_type": "code",
   "execution_count": 30,
   "metadata": {
    "ExecuteTime": {
     "end_time": "2018-05-01T13:42:39.331526Z",
     "start_time": "2018-05-01T13:42:39.322281Z"
    }
   },
   "outputs": [
    {
     "data": {
      "text/html": [
       "<div style=\"display: flex;flex-flow: row nowrap;justify-content: flex-start;align-items: center;align-content: flex-start;\"><div style=\"padding: 0.5rem;\"><div style=\"display: flex;flex-flow: column nowrap;justify-content: space-between;align-items: center;align-content: space-between;\"><div><a target=\"_blank\" href=\"https://cdli.ucla.edu/dl/lineart/P005381_l.jpg\" title=\"to higher resolution lineart on CDLI\"><img src=\"cdli-imagery/lineart-p005381.jpg\" style=\"display: inline;max-width: 300px;\"  /></a></div><div><a target=\"_blank\" href=\"https://cdli.ucla.edu/search/search_results.php?SearchMode=Text&amp;ObjectID=P005381\" title=\"to CDLI main page for this item\">P005381</a></div></div></div></div>"
      ],
      "text/plain": [
       "<IPython.core.display.HTML object>"
      ]
     },
     "metadata": {},
     "output_type": "display_data"
    }
   ],
   "source": [
    "A.lineart(pNumX, width=300)"
   ]
  },
  {
   "cell_type": "markdown",
   "metadata": {},
   "source": [
    "We also want to see the transcription."
   ]
  },
  {
   "cell_type": "code",
   "execution_count": 31,
   "metadata": {
    "ExecuteTime": {
     "end_time": "2018-05-01T13:42:40.742281Z",
     "start_time": "2018-05-01T13:42:40.734533Z"
    }
   },
   "outputs": [
    {
     "name": "stdout",
     "output_type": "stream",
     "text": [
      "&P005381 = MSVO 3, 70\n",
      "#atf: lang qpc \n",
      "@obverse \n",
      "@column 1 \n",
      "1.a. 2(N14) , SZE~a SAL TUR3~a NUN~a \n",
      "1.b. 3(N19) , |GISZ.TE| \n",
      "2. 1(N14) , NAR NUN~a SIG7 \n",
      "3. 2(N04)# , PIRIG~b1 SIG7 URI3~a NUN~a \n",
      "@column 2 \n",
      "1. 3(N04) , |GISZ.TE| GAR |SZU2.((HI+1(N57))+(HI+1(N57)))| GI4~a \n",
      "2. , GU7 AZ SI4~f \n",
      "@reverse \n",
      "@column 1 \n",
      "1. 3(N14) , SZE~a \n",
      "2. 3(N19) 5(N04) , \n",
      "3. , GU7 \n",
      "@column 2 \n",
      "1. , AZ SI4~f \n"
     ]
    }
   ],
   "source": [
    "tabletX = T.nodeFromSection((pNumX,))\n",
    "sourceLines = A.getSource(tabletX)\n",
    "print(\"\\n\".join(sourceLines))"
   ]
  },
  {
   "cell_type": "markdown",
   "metadata": {},
   "source": [
    "### Ideographs\n",
    "\n",
    "We want to show the ideographs for case `1.a` in column 1.\n",
    "\n",
    "If you click on an ideograph, you will be taken to the image file on CDLI.\n",
    "However, due to some discrepancies between the ideographs in the CDLI big list and their\n",
    "download package, some of these links may be broken."
   ]
  },
  {
   "cell_type": "code",
   "execution_count": 32,
   "metadata": {
    "ExecuteTime": {
     "end_time": "2018-05-01T13:42:42.473189Z",
     "start_time": "2018-05-01T13:42:42.443797Z"
    }
   },
   "outputs": [
    {
     "data": {
      "text/html": [
       "<div style=\"display: flex;flex-flow: row nowrap;justify-content: flex-start;align-items: center;align-content: flex-start;\"><div style=\"padding: 0.5rem;\"><a target=\"_blank\" href=\"https://cdli.ucla.edu/tools/SignLists/protocuneiform/archsigns/2(N14).jpg\" title=\"to higher resolution lineart on CDLI\"><img src=\"cdli-imagery/lineart-2(n14).jpg\" style=\"display: inline;max-height: 50px;\"  /></a></div></div>"
      ],
      "text/plain": [
       "<IPython.core.display.HTML object>"
      ]
     },
     "metadata": {},
     "output_type": "display_data"
    },
    {
     "data": {
      "text/html": [
       "<div style=\"display: flex;flex-flow: row nowrap;justify-content: flex-start;align-items: center;align-content: flex-start;\"><div style=\"padding: 0.5rem;\"><a target=\"_blank\" href=\"https://cdli.ucla.edu/tools/SignLists/protocuneiform/archsigns/SZE~a.jpg\" title=\"to higher resolution lineart on CDLI\"><img src=\"cdli-imagery/lineart-sze-a.jpg\" style=\"display: inline;max-height: 50px;\"  /></a></div></div>"
      ],
      "text/plain": [
       "<IPython.core.display.HTML object>"
      ]
     },
     "metadata": {},
     "output_type": "display_data"
    },
    {
     "data": {
      "text/html": [
       "<div style=\"display: flex;flex-flow: row nowrap;justify-content: flex-start;align-items: center;align-content: flex-start;\"><div style=\"padding: 0.5rem;\"><a target=\"_blank\" href=\"https://cdli.ucla.edu/tools/SignLists/protocuneiform/archsigns/SAL.jpg\" title=\"to higher resolution lineart on CDLI\"><img src=\"cdli-imagery/lineart-sal.jpg\" style=\"display: inline;max-height: 50px;\"  /></a></div></div>"
      ],
      "text/plain": [
       "<IPython.core.display.HTML object>"
      ]
     },
     "metadata": {},
     "output_type": "display_data"
    },
    {
     "data": {
      "text/html": [
       "<div style=\"display: flex;flex-flow: row nowrap;justify-content: flex-start;align-items: center;align-content: flex-start;\"><div style=\"padding: 0.5rem;\"><a target=\"_blank\" href=\"https://cdli.ucla.edu/tools/SignLists/protocuneiform/archsigns/TUR3~a.jpg\" title=\"to higher resolution lineart on CDLI\"><img src=\"cdli-imagery/lineart-tur3-a.jpg\" style=\"display: inline;max-height: 50px;\"  /></a></div></div>"
      ],
      "text/plain": [
       "<IPython.core.display.HTML object>"
      ]
     },
     "metadata": {},
     "output_type": "display_data"
    },
    {
     "data": {
      "text/html": [
       "<div style=\"display: flex;flex-flow: row nowrap;justify-content: flex-start;align-items: center;align-content: flex-start;\"><div style=\"padding: 0.5rem;\"><a target=\"_blank\" href=\"https://cdli.ucla.edu/tools/SignLists/protocuneiform/archsigns/NUN~a.jpg\" title=\"to higher resolution lineart on CDLI\"><img src=\"cdli-imagery/lineart-nun-a.jpg\" style=\"display: inline;max-height: 50px;\"  /></a></div></div>"
      ],
      "text/plain": [
       "<IPython.core.display.HTML object>"
      ]
     },
     "metadata": {},
     "output_type": "display_data"
    }
   ],
   "source": [
    "case = A.nodeFromCase((pNumX, \"obverse:1\", \"1a\"))\n",
    "for ideo in A.getOuterQuads(case):\n",
    "    A.lineart(ideo, withCaption=False, height=50)"
   ]
  },
  {
   "cell_type": "markdown",
   "metadata": {},
   "source": [
    "Note that the images are stacked vertically."
   ]
  },
  {
   "cell_type": "markdown",
   "metadata": {},
   "source": [
    "### Images in a row\n",
    "\n",
    "You can also have `lineart()` put images in a row.\n",
    "Just pass multiple nodes to it.\n",
    "\n",
    "In this case we also show the captions.\n",
    "The link under the caption goes to a big list on CDLI with all ideographs."
   ]
  },
  {
   "cell_type": "code",
   "execution_count": 33,
   "metadata": {
    "ExecuteTime": {
     "end_time": "2018-05-01T13:42:44.365883Z",
     "start_time": "2018-05-01T13:42:44.355636Z"
    }
   },
   "outputs": [
    {
     "data": {
      "text/html": [
       "<div style=\"display: flex;flex-flow: row nowrap;justify-content: flex-start;align-items: center;align-content: flex-start;\"><div style=\"padding: 0.5rem;\"><div style=\"display: flex;flex-flow: column nowrap;justify-content: space-between;align-items: center;align-content: space-between;\"><div><a target=\"_blank\" href=\"https://cdli.ucla.edu/tools/SignLists/protocuneiform/archsigns/2(N14).jpg\" title=\"to higher resolution lineart on CDLI\"><img src=\"cdli-imagery/lineart-2(n14).jpg\" style=\"display: inline;max-height: 50px;\"  /></a></div><div><a target=\"_blank\" href=\"https://cdli.ucla.edu/tools/SignLists/protocuneiform/archsigns.html\" title=\"to CDLI main page for this item\">2(N14)</a></div></div></div><div style=\"padding: 0.5rem;\"><div style=\"display: flex;flex-flow: column nowrap;justify-content: space-between;align-items: center;align-content: space-between;\"><div><a target=\"_blank\" href=\"https://cdli.ucla.edu/tools/SignLists/protocuneiform/archsigns/SZE~a.jpg\" title=\"to higher resolution lineart on CDLI\"><img src=\"cdli-imagery/lineart-sze-a.jpg\" style=\"display: inline;max-height: 50px;\"  /></a></div><div><a target=\"_blank\" href=\"https://cdli.ucla.edu/tools/SignLists/protocuneiform/archsigns.html\" title=\"to CDLI main page for this item\">SZE~a</a></div></div></div><div style=\"padding: 0.5rem;\"><div style=\"display: flex;flex-flow: column nowrap;justify-content: space-between;align-items: center;align-content: space-between;\"><div><a target=\"_blank\" href=\"https://cdli.ucla.edu/tools/SignLists/protocuneiform/archsigns/SAL.jpg\" title=\"to higher resolution lineart on CDLI\"><img src=\"cdli-imagery/lineart-sal.jpg\" style=\"display: inline;max-height: 50px;\"  /></a></div><div><a target=\"_blank\" href=\"https://cdli.ucla.edu/tools/SignLists/protocuneiform/archsigns.html\" title=\"to CDLI main page for this item\">SAL</a></div></div></div><div style=\"padding: 0.5rem;\"><div style=\"display: flex;flex-flow: column nowrap;justify-content: space-between;align-items: center;align-content: space-between;\"><div><a target=\"_blank\" href=\"https://cdli.ucla.edu/tools/SignLists/protocuneiform/archsigns/TUR3~a.jpg\" title=\"to higher resolution lineart on CDLI\"><img src=\"cdli-imagery/lineart-tur3-a.jpg\" style=\"display: inline;max-height: 50px;\"  /></a></div><div><a target=\"_blank\" href=\"https://cdli.ucla.edu/tools/SignLists/protocuneiform/archsigns.html\" title=\"to CDLI main page for this item\">TUR3~a</a></div></div></div><div style=\"padding: 0.5rem;\"><div style=\"display: flex;flex-flow: column nowrap;justify-content: space-between;align-items: center;align-content: space-between;\"><div><a target=\"_blank\" href=\"https://cdli.ucla.edu/tools/SignLists/protocuneiform/archsigns/NUN~a.jpg\" title=\"to higher resolution lineart on CDLI\"><img src=\"cdli-imagery/lineart-nun-a.jpg\" style=\"display: inline;max-height: 50px;\"  /></a></div><div><a target=\"_blank\" href=\"https://cdli.ucla.edu/tools/SignLists/protocuneiform/archsigns.html\" title=\"to CDLI main page for this item\">NUN~a</a></div></div></div></div>"
      ],
      "text/plain": [
       "<IPython.core.display.HTML object>"
      ]
     },
     "metadata": {},
     "output_type": "display_data"
    }
   ],
   "source": [
    "A.lineart(A.getOuterQuads(case), height=50)"
   ]
  },
  {
   "cell_type": "markdown",
   "metadata": {},
   "source": [
    "You can also call up these images by the name of the quad or sign:"
   ]
  },
  {
   "cell_type": "code",
   "execution_count": 34,
   "metadata": {
    "ExecuteTime": {
     "end_time": "2018-05-01T13:42:45.855177Z",
     "start_time": "2018-05-01T13:42:45.843138Z"
    }
   },
   "outputs": [
    {
     "data": {
      "text/html": [
       "<div style=\"display: flex;flex-flow: row nowrap;justify-content: flex-start;align-items: center;align-content: flex-start;\"><div style=\"padding: 0.5rem;\"><div style=\"display: flex;flex-flow: column-reverse nowrap;justify-content: space-between;align-items: center;align-content: space-between;\"><div><a target=\"_blank\" href=\"https://cdli.ucla.edu/tools/SignLists/protocuneiform/archsigns/2(N14).jpg\" title=\"to higher resolution lineart on CDLI\"><img src=\"cdli-imagery/lineart-2(n14).jpg\" style=\"display: inline;max-height: 50px;\"  /></a></div><div><a target=\"_blank\" href=\"https://cdli.ucla.edu/tools/SignLists/protocuneiform/archsigns.html\" title=\"to CDLI main page for this item\">2(N14)</a></div></div></div><div style=\"padding: 0.5rem;\"><div style=\"display: flex;flex-flow: column-reverse nowrap;justify-content: space-between;align-items: center;align-content: space-between;\"><div><a target=\"_blank\" href=\"https://cdli.ucla.edu/tools/SignLists/protocuneiform/archsigns/SZE~a.jpg\" title=\"to higher resolution lineart on CDLI\"><img src=\"cdli-imagery/lineart-sze-a.jpg\" style=\"display: inline;max-height: 50px;\"  /></a></div><div><a target=\"_blank\" href=\"https://cdli.ucla.edu/tools/SignLists/protocuneiform/archsigns.html\" title=\"to CDLI main page for this item\">SZE~a</a></div></div></div><div style=\"padding: 0.5rem;\"><div style=\"display: flex;flex-flow: column-reverse nowrap;justify-content: space-between;align-items: center;align-content: space-between;\"><div><a target=\"_blank\" href=\"https://cdli.ucla.edu/tools/SignLists/protocuneiform/archsigns/SAL.jpg\" title=\"to higher resolution lineart on CDLI\"><img src=\"cdli-imagery/lineart-sal.jpg\" style=\"display: inline;max-height: 50px;\"  /></a></div><div><a target=\"_blank\" href=\"https://cdli.ucla.edu/tools/SignLists/protocuneiform/archsigns.html\" title=\"to CDLI main page for this item\">SAL</a></div></div></div><div style=\"padding: 0.5rem;\"><div style=\"display: flex;flex-flow: column-reverse nowrap;justify-content: space-between;align-items: center;align-content: space-between;\"><div><a target=\"_blank\" href=\"https://cdli.ucla.edu/tools/SignLists/protocuneiform/archsigns/TUR3~a.jpg\" title=\"to higher resolution lineart on CDLI\"><img src=\"cdli-imagery/lineart-tur3-a.jpg\" style=\"display: inline;max-height: 50px;\"  /></a></div><div><a target=\"_blank\" href=\"https://cdli.ucla.edu/tools/SignLists/protocuneiform/archsigns.html\" title=\"to CDLI main page for this item\">TUR3~a</a></div></div></div><div style=\"padding: 0.5rem;\"><div style=\"display: flex;flex-flow: column-reverse nowrap;justify-content: space-between;align-items: center;align-content: space-between;\"><div><a target=\"_blank\" href=\"https://cdli.ucla.edu/tools/SignLists/protocuneiform/archsigns/NUN~a.jpg\" title=\"to higher resolution lineart on CDLI\"><img src=\"cdli-imagery/lineart-nun-a.jpg\" style=\"display: inline;max-height: 50px;\"  /></a></div><div><a target=\"_blank\" href=\"https://cdli.ucla.edu/tools/SignLists/protocuneiform/archsigns.html\" title=\"to CDLI main page for this item\">NUN~a</a></div></div></div></div>"
      ],
      "text/plain": [
       "<IPython.core.display.HTML object>"
      ]
     },
     "metadata": {},
     "output_type": "display_data"
    }
   ],
   "source": [
    "A.lineart([\"2(N14)\", \"SZE~a\", \"SAL\", \"TUR3~a\", \"NUN~a\"], height=50, withCaption=\"top\")"
   ]
  },
  {
   "cell_type": "markdown",
   "metadata": {},
   "source": [
    "## Existence of images\n",
    "\n",
    "Sometimes you want to test whether an image exists.\n",
    "So far, if an image does not exist, a placeholder warning text is output.\n",
    "\n",
    "But if you say `warning=False`, the empty string is output.\n",
    "\n",
    "That makes it easy to test whether an image is present and do something about it."
   ]
  },
  {
   "cell_type": "code",
   "execution_count": 35,
   "metadata": {
    "ExecuteTime": {
     "end_time": "2018-05-01T13:42:47.791160Z",
     "start_time": "2018-05-01T13:42:47.786280Z"
    }
   },
   "outputs": [],
   "source": [
    "pNum3 = \"P000013\""
   ]
  },
  {
   "cell_type": "code",
   "execution_count": 36,
   "metadata": {
    "ExecuteTime": {
     "end_time": "2018-05-01T13:42:48.395559Z",
     "start_time": "2018-05-01T13:42:48.389296Z"
    }
   },
   "outputs": [
    {
     "data": {
      "text/html": [
       "<div style=\"display: flex;flex-flow: row nowrap;justify-content: flex-start;align-items: center;align-content: flex-start;\"><div style=\"padding: 0.5rem;\"><div style=\"display: flex;flex-flow: column nowrap;justify-content: space-between;align-items: center;align-content: space-between;\"><div><a target=\"_blank\" href=\"https://cdli.ucla.edu/dl/lineart/P000013_l.jpg\" title=\"to higher resolution lineart on CDLI\"><span><b>no lineart</b> for tablet <code>P000013</code></span></a></div><div><a target=\"_blank\" href=\"https://cdli.ucla.edu/search/search_results.php?SearchMode=Text&amp;ObjectID=P000013\" title=\"to CDLI main page for this item\">P000013</a></div></div></div></div>"
      ],
      "text/plain": [
       "<IPython.core.display.HTML object>"
      ]
     },
     "metadata": {},
     "output_type": "display_data"
    }
   ],
   "source": [
    "A.lineart(pNum3)"
   ]
  },
  {
   "cell_type": "code",
   "execution_count": 37,
   "metadata": {
    "ExecuteTime": {
     "end_time": "2018-05-01T13:42:49.078773Z",
     "start_time": "2018-05-01T13:42:49.069948Z"
    }
   },
   "outputs": [
    {
     "data": {
      "text/plain": [
       "''"
      ]
     },
     "execution_count": 37,
     "metadata": {},
     "output_type": "execute_result"
    }
   ],
   "source": [
    "A.lineart(pNum3, warning=False)"
   ]
  },
  {
   "cell_type": "markdown",
   "metadata": {},
   "source": [
    "If we prefer lineart, but in its absence accept a photo, we can say:"
   ]
  },
  {
   "cell_type": "code",
   "execution_count": 38,
   "metadata": {
    "ExecuteTime": {
     "end_time": "2018-05-01T13:42:50.746164Z",
     "start_time": "2018-05-01T13:42:50.734069Z"
    }
   },
   "outputs": [
    {
     "data": {
      "text/html": [
       "<div style=\"display: flex;flex-flow: row nowrap;justify-content: flex-start;align-items: center;align-content: flex-start;\"><div style=\"padding: 0.5rem;\"><div style=\"display: flex;flex-flow: column nowrap;justify-content: space-between;align-items: center;align-content: space-between;\"><div><a target=\"_blank\" href=\"https://cdli.ucla.edu/dl/photo/P000013_d.jpg\" title=\"to higher resolution photo on CDLI\"><img src=\"cdli-imagery/photo-p000013.jpg\" style=\"display: inline;\"  /></a></div><div><a target=\"_blank\" href=\"https://cdli.ucla.edu/search/search_results.php?SearchMode=Text&amp;ObjectID=P000013\" title=\"to CDLI main page for this item\">P000013</a></div></div></div></div>"
      ],
      "text/plain": [
       "<IPython.core.display.HTML object>"
      ]
     },
     "metadata": {},
     "output_type": "display_data"
    }
   ],
   "source": [
    "A.lineart(pNum3, warning=False) or A.photo(pNum3)"
   ]
  },
  {
   "cell_type": "markdown",
   "metadata": {},
   "source": [
    "When there is lineart, it will be chosen:"
   ]
  },
  {
   "cell_type": "code",
   "execution_count": 39,
   "metadata": {
    "ExecuteTime": {
     "end_time": "2018-05-01T13:42:52.688632Z",
     "start_time": "2018-05-01T13:42:52.673858Z"
    }
   },
   "outputs": [
    {
     "data": {
      "text/html": [
       "<div style=\"display: flex;flex-flow: row nowrap;justify-content: flex-start;align-items: center;align-content: flex-start;\"><div style=\"padding: 0.5rem;\"><div style=\"display: flex;flex-flow: column nowrap;justify-content: space-between;align-items: center;align-content: space-between;\"><div><a target=\"_blank\" href=\"https://cdli.ucla.edu/dl/lineart/P000022_l.jpg\" title=\"to higher resolution lineart on CDLI\"><img src=\"cdli-imagery/lineart-p000022.jpg\" style=\"display: inline;\"  /></a></div><div><a target=\"_blank\" href=\"https://cdli.ucla.edu/search/search_results.php?SearchMode=Text&amp;ObjectID=P000022\" title=\"to CDLI main page for this item\">P000022</a></div></div></div></div>"
      ],
      "text/plain": [
       "<IPython.core.display.HTML object>"
      ]
     },
     "metadata": {},
     "output_type": "display_data"
    },
    {
     "data": {
      "text/plain": [
       "True"
      ]
     },
     "execution_count": 39,
     "metadata": {},
     "output_type": "execute_result"
    }
   ],
   "source": [
    "A.lineart(pNum2, warning=False) or A.photo(pNum2)"
   ]
  },
  {
   "cell_type": "markdown",
   "metadata": {},
   "source": [
    "Likewise, you can test wether there is lineart for ideographs:"
   ]
  },
  {
   "cell_type": "code",
   "execution_count": 40,
   "metadata": {
    "ExecuteTime": {
     "end_time": "2018-05-01T13:42:54.165012Z",
     "start_time": "2018-05-01T13:42:54.158333Z"
    }
   },
   "outputs": [
    {
     "data": {
      "text/plain": [
       "'no lineart for SZE'"
      ]
     },
     "execution_count": 40,
     "metadata": {},
     "output_type": "execute_result"
    }
   ],
   "source": [
    "A.lineart(\"SZE\", warning=False) or \"no lineart for SZE\""
   ]
  },
  {
   "cell_type": "code",
   "execution_count": 41,
   "metadata": {
    "ExecuteTime": {
     "end_time": "2018-05-01T13:42:56.892033Z",
     "start_time": "2018-05-01T13:42:56.877671Z"
    }
   },
   "outputs": [
    {
     "data": {
      "text/html": [
       "<div style=\"display: flex;flex-flow: row nowrap;justify-content: flex-start;align-items: center;align-content: flex-start;\"><div style=\"padding: 0.5rem;\"><div style=\"display: flex;flex-flow: column nowrap;justify-content: space-between;align-items: center;align-content: space-between;\"><div><a target=\"_blank\" href=\"https://cdli.ucla.edu/tools/SignLists/protocuneiform/archsigns/SZE~a.jpg\" title=\"to higher resolution lineart on CDLI\"><img src=\"cdli-imagery/lineart-sze-a.jpg\" style=\"display: inline;\"  /></a></div><div><a target=\"_blank\" href=\"https://cdli.ucla.edu/tools/SignLists/protocuneiform/archsigns.html\" title=\"to CDLI main page for this item\">SZE~a</a></div></div></div></div>"
      ],
      "text/plain": [
       "<IPython.core.display.HTML object>"
      ]
     },
     "metadata": {},
     "output_type": "display_data"
    },
    {
     "data": {
      "text/plain": [
       "True"
      ]
     },
     "execution_count": 41,
     "metadata": {},
     "output_type": "execute_result"
    }
   ],
   "source": [
    "A.lineart(\"SZE~a\", warning=False) or \"no lineart for SZE~a\""
   ]
  },
  {
   "cell_type": "markdown",
   "metadata": {},
   "source": [
    "An other, direct way to test whether an image is present is this:"
   ]
  },
  {
   "cell_type": "code",
   "execution_count": 42,
   "metadata": {
    "ExecuteTime": {
     "end_time": "2018-05-01T13:42:58.032412Z",
     "start_time": "2018-05-01T13:42:58.024273Z"
    }
   },
   "outputs": [
    {
     "data": {
      "text/plain": [
       "False"
      ]
     },
     "execution_count": 42,
     "metadata": {},
     "output_type": "execute_result"
    }
   ],
   "source": [
    "\"SZE\" in A.imagery(\"ideograph\", \"lineart\")"
   ]
  },
  {
   "cell_type": "code",
   "execution_count": 43,
   "metadata": {
    "ExecuteTime": {
     "end_time": "2018-05-01T13:42:58.500622Z",
     "start_time": "2018-05-01T13:42:58.493761Z"
    }
   },
   "outputs": [
    {
     "data": {
      "text/plain": [
       "True"
      ]
     },
     "execution_count": 43,
     "metadata": {},
     "output_type": "execute_result"
    }
   ],
   "source": [
    "\"SZE~a\" in A.imagery(\"ideograph\", \"lineart\")"
   ]
  },
  {
   "cell_type": "code",
   "execution_count": 44,
   "metadata": {
    "ExecuteTime": {
     "end_time": "2018-05-01T13:42:58.951438Z",
     "start_time": "2018-05-01T13:42:58.945547Z"
    }
   },
   "outputs": [
    {
     "data": {
      "text/plain": [
       "False"
      ]
     },
     "execution_count": 44,
     "metadata": {},
     "output_type": "execute_result"
    }
   ],
   "source": [
    "\"P000013\" in A.imagery(\"tablet\", \"lineart\")"
   ]
  },
  {
   "cell_type": "code",
   "execution_count": 45,
   "metadata": {
    "ExecuteTime": {
     "end_time": "2018-05-01T13:42:59.423011Z",
     "start_time": "2018-05-01T13:42:59.415313Z"
    }
   },
   "outputs": [
    {
     "data": {
      "text/plain": [
       "True"
      ]
     },
     "execution_count": 45,
     "metadata": {},
     "output_type": "execute_result"
    }
   ],
   "source": [
    "\"P000013\" in A.imagery(\"tablet\", \"photo\")"
   ]
  },
  {
   "cell_type": "markdown",
   "metadata": {},
   "source": [
    "You can also get the lists of things for which there are images:"
   ]
  },
  {
   "cell_type": "code",
   "execution_count": 46,
   "metadata": {
    "ExecuteTime": {
     "end_time": "2018-05-01T13:43:01.650320Z",
     "start_time": "2018-05-01T13:43:01.643098Z"
    }
   },
   "outputs": [
    {
     "data": {
      "text/plain": [
       "2095"
      ]
     },
     "execution_count": 46,
     "metadata": {},
     "output_type": "execute_result"
    }
   ],
   "source": [
    "ideos = A.imagery(\"ideograph\", \"lineart\")\n",
    "len(ideos)"
   ]
  },
  {
   "cell_type": "code",
   "execution_count": 47,
   "metadata": {
    "ExecuteTime": {
     "end_time": "2018-05-01T13:43:02.455377Z",
     "start_time": "2018-05-01T13:43:02.446602Z"
    }
   },
   "outputs": [
    {
     "name": "stdout",
     "output_type": "stream",
     "text": [
      "1(N01) 1(N01@f) 1(N02) 1(N03) 1(N04) 1(N04@f) 1(N05) 1(N06) 1(N07~a) 1(N07~b) 1(N08) 1(N08@f) 1(N08~b) 1(N09) 1(N11) 1(N12) 1(N14) 1(N14@f) 1(N15) 1(N16) 1(N17) 1(N18) 1(N19) 1(N19@f) 1(N20) 1(N22) 1(N22@f) 1(N23) 1(N24) 1(N24@f) 1(N24~a) 1(N24~b) 1(N25) 1(N26) 1(N26~b) 1(N27) 1(N28) 1(N28~b) 1(N28~c) 1(N29A~b) 1(N29A~c) 1(N29~a) 1(N29~b) 1(N30A~c) 1(N30C~b) 1(N30C~c) 1(N30~a) 1(N30~c) 1(N30~d) 1(N30~e) 1(N31) 1(N32) 1(N33) 1(N34) 1(N34@f) 1(N35) 1(N36) 1(N36@f) 1(N37) 1(N38) 1(N39~a) 1(N39~b) 1(N40) 1(N41) 1(N42~a) 1(N42~b) 1(N43) 1(N44) 1(N45) 1(N45@f) 1(N45~a) 1(N46) 1(N46@f) 1(N47) 1(N48) 1(N48@f) 1(N49) 1(N50) 1(N51) 1(N51@f) 1(N52) 1(N54) 1(N55) 1(N56) 1(N57) 1(N58) 1(N60) 1(N63) 10(N01) 10(N14) 10(N14@f) 10(N57) 10(N58) 12(N14) 12(N58) 2(LAGAB~a) 2(N01) 2(N01@f) 2(N02) 2(N03)\n"
     ]
    }
   ],
   "source": [
    "print(\" \".join(sorted(ideos)[0:100]))"
   ]
  },
  {
   "cell_type": "markdown",
   "metadata": {},
   "source": [
    "We make a list of all `UKKIN` ideographs:"
   ]
  },
  {
   "cell_type": "code",
   "execution_count": 48,
   "metadata": {
    "ExecuteTime": {
     "end_time": "2018-05-01T13:43:03.557067Z",
     "start_time": "2018-05-01T13:43:03.538742Z"
    }
   },
   "outputs": [
    {
     "data": {
      "text/html": [
       "<div style=\"display: flex;flex-flow: row nowrap;justify-content: flex-start;align-items: center;align-content: flex-start;\"><div style=\"padding: 0.5rem;\"><a target=\"_blank\" href=\"https://cdli.ucla.edu/tools/SignLists/protocuneiform/archsigns/UKKIN~a.jpg\" title=\"to higher resolution lineart on CDLI\"><img src=\"cdli-imagery/lineart-ukkin-a.jpg\" style=\"display: inline;max-height: 30px;\"  /></a></div><div style=\"padding: 0.5rem;\"><a target=\"_blank\" href=\"https://cdli.ucla.edu/tools/SignLists/protocuneiform/archsigns/UKKIN~b.jpg\" title=\"to higher resolution lineart on CDLI\"><img src=\"cdli-imagery/lineart-ukkin-b.jpg\" style=\"display: inline;max-height: 30px;\"  /></a></div><div style=\"padding: 0.5rem;\"><a target=\"_blank\" href=\"https://cdli.ucla.edu/tools/SignLists/protocuneiform/archsigns/UKKIN~c.jpg\" title=\"to higher resolution lineart on CDLI\"><img src=\"cdli-imagery/lineart-ukkin-c.jpg\" style=\"display: inline;max-height: 30px;\"  /></a></div><div style=\"padding: 0.5rem;\"><a target=\"_blank\" href=\"https://cdli.ucla.edu/tools/SignLists/protocuneiform/archsigns/|UKKIN~bx(DIN.1(N01))|.jpg\" title=\"to higher resolution lineart on CDLI\"><img src=\"cdli-imagery/lineart-qukkin-bx(din(d)1(n01))q.jpg\" style=\"display: inline;max-height: 30px;\"  /></a></div><div style=\"padding: 0.5rem;\"><a target=\"_blank\" href=\"https://cdli.ucla.edu/tools/SignLists/protocuneiform/archsigns/|UKKIN~bx2(N01)|.jpg\" title=\"to higher resolution lineart on CDLI\"><img src=\"cdli-imagery/lineart-qukkin-bx2(n01)q.jpg\" style=\"display: inline;max-height: 30px;\"  /></a></div><div style=\"padding: 0.5rem;\"><a target=\"_blank\" href=\"https://cdli.ucla.edu/tools/SignLists/protocuneiform/archsigns/|UKKIN~bx3(N01)|.jpg\" title=\"to higher resolution lineart on CDLI\"><img src=\"cdli-imagery/lineart-qukkin-bx3(n01)q.jpg\" style=\"display: inline;max-height: 30px;\"  /></a></div><div style=\"padding: 0.5rem;\"><a target=\"_blank\" href=\"https://cdli.ucla.edu/tools/SignLists/protocuneiform/archsigns/|UKKIN~bx5(N01)|.jpg\" title=\"to higher resolution lineart on CDLI\"><img src=\"cdli-imagery/lineart-qukkin-bx5(n01)q.jpg\" style=\"display: inline;max-height: 30px;\"  /></a></div><div style=\"padding: 0.5rem;\"><a target=\"_blank\" href=\"https://cdli.ucla.edu/tools/SignLists/protocuneiform/archsigns/|UKKIN~bxDIN|.jpg\" title=\"to higher resolution lineart on CDLI\"><img src=\"cdli-imagery/lineart-qukkin-bxdinq.jpg\" style=\"display: inline;max-height: 30px;\"  /></a></div><div style=\"padding: 0.5rem;\"><a target=\"_blank\" href=\"https://cdli.ucla.edu/tools/SignLists/protocuneiform/archsigns/|UKKIN~bxDUG~a|.jpg\" title=\"to higher resolution lineart on CDLI\"><img src=\"cdli-imagery/lineart-qukkin-bxdug-aq.jpg\" style=\"display: inline;max-height: 30px;\"  /></a></div><div style=\"padding: 0.5rem;\"><a target=\"_blank\" href=\"https://cdli.ucla.edu/tools/SignLists/protocuneiform/archsigns/|UKKIN~bxHI@g~a|.jpg\" title=\"to higher resolution lineart on CDLI\"><img src=\"cdli-imagery/lineart-qukkin-bxhi(a)g-aq.jpg\" style=\"display: inline;max-height: 30px;\"  /></a></div><div style=\"padding: 0.5rem;\"><a target=\"_blank\" href=\"https://cdli.ucla.edu/tools/SignLists/protocuneiform/archsigns/|UKKIN~bxNI~a|.jpg\" title=\"to higher resolution lineart on CDLI\"><img src=\"cdli-imagery/lineart-qukkin-bxni-aq.jpg\" style=\"display: inline;max-height: 30px;\"  /></a></div><div style=\"padding: 0.5rem;\"><a target=\"_blank\" href=\"https://cdli.ucla.edu/tools/SignLists/protocuneiform/archsigns/|UKKIN~bxX|.jpg\" title=\"to higher resolution lineart on CDLI\"><img src=\"cdli-imagery/lineart-qukkin-bxxq.jpg\" style=\"display: inline;max-height: 30px;\"  /></a></div></div>"
      ],
      "text/plain": [
       "<IPython.core.display.HTML object>"
      ]
     },
     "metadata": {},
     "output_type": "display_data"
    }
   ],
   "source": [
    "ukkin = sorted(i for i in ideos if \"UKKIN\" in i)\n",
    "A.lineart(ukkin, height=30, withCaption=False)"
   ]
  },
  {
   "cell_type": "markdown",
   "metadata": {},
   "source": [
    "Or a bit bigger, vertically stacked:"
   ]
  },
  {
   "cell_type": "code",
   "execution_count": 49,
   "metadata": {
    "ExecuteTime": {
     "end_time": "2018-05-01T13:43:05.947306Z",
     "start_time": "2018-05-01T13:43:05.904995Z"
    }
   },
   "outputs": [
    {
     "data": {
      "text/html": [
       "<div style=\"display: flex;flex-flow: row nowrap;justify-content: flex-start;align-items: center;align-content: flex-start;\"><div style=\"padding: 0.5rem;\"><div style=\"display: flex;flex-flow: row nowrap;justify-content: space-between;align-items: center;align-content: space-between;\"><div><a target=\"_blank\" href=\"https://cdli.ucla.edu/tools/SignLists/protocuneiform/archsigns/UKKIN~a.jpg\" title=\"to higher resolution lineart on CDLI\"><img src=\"cdli-imagery/lineart-ukkin-a.jpg\" style=\"display: inline;max-width: 50px;\"  /></a></div><div><a target=\"_blank\" href=\"https://cdli.ucla.edu/tools/SignLists/protocuneiform/archsigns.html\" title=\"to CDLI main page for this item\">UKKIN~a</a></div></div></div></div>"
      ],
      "text/plain": [
       "<IPython.core.display.HTML object>"
      ]
     },
     "metadata": {},
     "output_type": "display_data"
    },
    {
     "data": {
      "text/html": [
       "<div style=\"display: flex;flex-flow: row nowrap;justify-content: flex-start;align-items: center;align-content: flex-start;\"><div style=\"padding: 0.5rem;\"><div style=\"display: flex;flex-flow: row nowrap;justify-content: space-between;align-items: center;align-content: space-between;\"><div><a target=\"_blank\" href=\"https://cdli.ucla.edu/tools/SignLists/protocuneiform/archsigns/UKKIN~b.jpg\" title=\"to higher resolution lineart on CDLI\"><img src=\"cdli-imagery/lineart-ukkin-b.jpg\" style=\"display: inline;max-width: 50px;\"  /></a></div><div><a target=\"_blank\" href=\"https://cdli.ucla.edu/tools/SignLists/protocuneiform/archsigns.html\" title=\"to CDLI main page for this item\">UKKIN~b</a></div></div></div></div>"
      ],
      "text/plain": [
       "<IPython.core.display.HTML object>"
      ]
     },
     "metadata": {},
     "output_type": "display_data"
    },
    {
     "data": {
      "text/html": [
       "<div style=\"display: flex;flex-flow: row nowrap;justify-content: flex-start;align-items: center;align-content: flex-start;\"><div style=\"padding: 0.5rem;\"><div style=\"display: flex;flex-flow: row nowrap;justify-content: space-between;align-items: center;align-content: space-between;\"><div><a target=\"_blank\" href=\"https://cdli.ucla.edu/tools/SignLists/protocuneiform/archsigns/UKKIN~c.jpg\" title=\"to higher resolution lineart on CDLI\"><img src=\"cdli-imagery/lineart-ukkin-c.jpg\" style=\"display: inline;max-width: 50px;\"  /></a></div><div><a target=\"_blank\" href=\"https://cdli.ucla.edu/tools/SignLists/protocuneiform/archsigns.html\" title=\"to CDLI main page for this item\">UKKIN~c</a></div></div></div></div>"
      ],
      "text/plain": [
       "<IPython.core.display.HTML object>"
      ]
     },
     "metadata": {},
     "output_type": "display_data"
    },
    {
     "data": {
      "text/html": [
       "<div style=\"display: flex;flex-flow: row nowrap;justify-content: flex-start;align-items: center;align-content: flex-start;\"><div style=\"padding: 0.5rem;\"><div style=\"display: flex;flex-flow: row nowrap;justify-content: space-between;align-items: center;align-content: space-between;\"><div><a target=\"_blank\" href=\"https://cdli.ucla.edu/tools/SignLists/protocuneiform/archsigns/|UKKIN~bx(DIN.1(N01))|.jpg\" title=\"to higher resolution lineart on CDLI\"><img src=\"cdli-imagery/lineart-qukkin-bx(din(d)1(n01))q.jpg\" style=\"display: inline;max-width: 50px;\"  /></a></div><div><a target=\"_blank\" href=\"https://cdli.ucla.edu/tools/SignLists/protocuneiform/archsigns.html\" title=\"to CDLI main page for this item\">|UKKIN~bx(DIN.1(N01))|</a></div></div></div></div>"
      ],
      "text/plain": [
       "<IPython.core.display.HTML object>"
      ]
     },
     "metadata": {},
     "output_type": "display_data"
    },
    {
     "data": {
      "text/html": [
       "<div style=\"display: flex;flex-flow: row nowrap;justify-content: flex-start;align-items: center;align-content: flex-start;\"><div style=\"padding: 0.5rem;\"><div style=\"display: flex;flex-flow: row nowrap;justify-content: space-between;align-items: center;align-content: space-between;\"><div><a target=\"_blank\" href=\"https://cdli.ucla.edu/tools/SignLists/protocuneiform/archsigns/|UKKIN~bx2(N01)|.jpg\" title=\"to higher resolution lineart on CDLI\"><img src=\"cdli-imagery/lineart-qukkin-bx2(n01)q.jpg\" style=\"display: inline;max-width: 50px;\"  /></a></div><div><a target=\"_blank\" href=\"https://cdli.ucla.edu/tools/SignLists/protocuneiform/archsigns.html\" title=\"to CDLI main page for this item\">|UKKIN~bx2(N01)|</a></div></div></div></div>"
      ],
      "text/plain": [
       "<IPython.core.display.HTML object>"
      ]
     },
     "metadata": {},
     "output_type": "display_data"
    },
    {
     "data": {
      "text/html": [
       "<div style=\"display: flex;flex-flow: row nowrap;justify-content: flex-start;align-items: center;align-content: flex-start;\"><div style=\"padding: 0.5rem;\"><div style=\"display: flex;flex-flow: row nowrap;justify-content: space-between;align-items: center;align-content: space-between;\"><div><a target=\"_blank\" href=\"https://cdli.ucla.edu/tools/SignLists/protocuneiform/archsigns/|UKKIN~bx3(N01)|.jpg\" title=\"to higher resolution lineart on CDLI\"><img src=\"cdli-imagery/lineart-qukkin-bx3(n01)q.jpg\" style=\"display: inline;max-width: 50px;\"  /></a></div><div><a target=\"_blank\" href=\"https://cdli.ucla.edu/tools/SignLists/protocuneiform/archsigns.html\" title=\"to CDLI main page for this item\">|UKKIN~bx3(N01)|</a></div></div></div></div>"
      ],
      "text/plain": [
       "<IPython.core.display.HTML object>"
      ]
     },
     "metadata": {},
     "output_type": "display_data"
    },
    {
     "data": {
      "text/html": [
       "<div style=\"display: flex;flex-flow: row nowrap;justify-content: flex-start;align-items: center;align-content: flex-start;\"><div style=\"padding: 0.5rem;\"><div style=\"display: flex;flex-flow: row nowrap;justify-content: space-between;align-items: center;align-content: space-between;\"><div><a target=\"_blank\" href=\"https://cdli.ucla.edu/tools/SignLists/protocuneiform/archsigns/|UKKIN~bx5(N01)|.jpg\" title=\"to higher resolution lineart on CDLI\"><img src=\"cdli-imagery/lineart-qukkin-bx5(n01)q.jpg\" style=\"display: inline;max-width: 50px;\"  /></a></div><div><a target=\"_blank\" href=\"https://cdli.ucla.edu/tools/SignLists/protocuneiform/archsigns.html\" title=\"to CDLI main page for this item\">|UKKIN~bx5(N01)|</a></div></div></div></div>"
      ],
      "text/plain": [
       "<IPython.core.display.HTML object>"
      ]
     },
     "metadata": {},
     "output_type": "display_data"
    },
    {
     "data": {
      "text/html": [
       "<div style=\"display: flex;flex-flow: row nowrap;justify-content: flex-start;align-items: center;align-content: flex-start;\"><div style=\"padding: 0.5rem;\"><div style=\"display: flex;flex-flow: row nowrap;justify-content: space-between;align-items: center;align-content: space-between;\"><div><a target=\"_blank\" href=\"https://cdli.ucla.edu/tools/SignLists/protocuneiform/archsigns/|UKKIN~bxDIN|.jpg\" title=\"to higher resolution lineart on CDLI\"><img src=\"cdli-imagery/lineart-qukkin-bxdinq.jpg\" style=\"display: inline;max-width: 50px;\"  /></a></div><div><a target=\"_blank\" href=\"https://cdli.ucla.edu/tools/SignLists/protocuneiform/archsigns.html\" title=\"to CDLI main page for this item\">|UKKIN~bxDIN|</a></div></div></div></div>"
      ],
      "text/plain": [
       "<IPython.core.display.HTML object>"
      ]
     },
     "metadata": {},
     "output_type": "display_data"
    },
    {
     "data": {
      "text/html": [
       "<div style=\"display: flex;flex-flow: row nowrap;justify-content: flex-start;align-items: center;align-content: flex-start;\"><div style=\"padding: 0.5rem;\"><div style=\"display: flex;flex-flow: row nowrap;justify-content: space-between;align-items: center;align-content: space-between;\"><div><a target=\"_blank\" href=\"https://cdli.ucla.edu/tools/SignLists/protocuneiform/archsigns/|UKKIN~bxDUG~a|.jpg\" title=\"to higher resolution lineart on CDLI\"><img src=\"cdli-imagery/lineart-qukkin-bxdug-aq.jpg\" style=\"display: inline;max-width: 50px;\"  /></a></div><div><a target=\"_blank\" href=\"https://cdli.ucla.edu/tools/SignLists/protocuneiform/archsigns.html\" title=\"to CDLI main page for this item\">|UKKIN~bxDUG~a|</a></div></div></div></div>"
      ],
      "text/plain": [
       "<IPython.core.display.HTML object>"
      ]
     },
     "metadata": {},
     "output_type": "display_data"
    },
    {
     "data": {
      "text/html": [
       "<div style=\"display: flex;flex-flow: row nowrap;justify-content: flex-start;align-items: center;align-content: flex-start;\"><div style=\"padding: 0.5rem;\"><div style=\"display: flex;flex-flow: row nowrap;justify-content: space-between;align-items: center;align-content: space-between;\"><div><a target=\"_blank\" href=\"https://cdli.ucla.edu/tools/SignLists/protocuneiform/archsigns/|UKKIN~bxHI@g~a|.jpg\" title=\"to higher resolution lineart on CDLI\"><img src=\"cdli-imagery/lineart-qukkin-bxhi(a)g-aq.jpg\" style=\"display: inline;max-width: 50px;\"  /></a></div><div><a target=\"_blank\" href=\"https://cdli.ucla.edu/tools/SignLists/protocuneiform/archsigns.html\" title=\"to CDLI main page for this item\">|UKKIN~bxHI@g~a|</a></div></div></div></div>"
      ],
      "text/plain": [
       "<IPython.core.display.HTML object>"
      ]
     },
     "metadata": {},
     "output_type": "display_data"
    },
    {
     "data": {
      "text/html": [
       "<div style=\"display: flex;flex-flow: row nowrap;justify-content: flex-start;align-items: center;align-content: flex-start;\"><div style=\"padding: 0.5rem;\"><div style=\"display: flex;flex-flow: row nowrap;justify-content: space-between;align-items: center;align-content: space-between;\"><div><a target=\"_blank\" href=\"https://cdli.ucla.edu/tools/SignLists/protocuneiform/archsigns/|UKKIN~bxNI~a|.jpg\" title=\"to higher resolution lineart on CDLI\"><img src=\"cdli-imagery/lineart-qukkin-bxni-aq.jpg\" style=\"display: inline;max-width: 50px;\"  /></a></div><div><a target=\"_blank\" href=\"https://cdli.ucla.edu/tools/SignLists/protocuneiform/archsigns.html\" title=\"to CDLI main page for this item\">|UKKIN~bxNI~a|</a></div></div></div></div>"
      ],
      "text/plain": [
       "<IPython.core.display.HTML object>"
      ]
     },
     "metadata": {},
     "output_type": "display_data"
    },
    {
     "data": {
      "text/html": [
       "<div style=\"display: flex;flex-flow: row nowrap;justify-content: flex-start;align-items: center;align-content: flex-start;\"><div style=\"padding: 0.5rem;\"><div style=\"display: flex;flex-flow: row nowrap;justify-content: space-between;align-items: center;align-content: space-between;\"><div><a target=\"_blank\" href=\"https://cdli.ucla.edu/tools/SignLists/protocuneiform/archsigns/|UKKIN~bxX|.jpg\" title=\"to higher resolution lineart on CDLI\"><img src=\"cdli-imagery/lineart-qukkin-bxxq.jpg\" style=\"display: inline;max-width: 50px;\"  /></a></div><div><a target=\"_blank\" href=\"https://cdli.ucla.edu/tools/SignLists/protocuneiform/archsigns.html\" title=\"to CDLI main page for this item\">|UKKIN~bxX|</a></div></div></div></div>"
      ],
      "text/plain": [
       "<IPython.core.display.HTML object>"
      ]
     },
     "metadata": {},
     "output_type": "display_data"
    }
   ],
   "source": [
    "for u in ukkin:\n",
    "    A.lineart(u, width=50, withCaption=\"right\")"
   ]
  },
  {
   "cell_type": "markdown",
   "metadata": {},
   "source": [
    "## Annotated images\n",
    "\n",
    "If you want to use an annotated image in a markdown cell, just copy one of the\n",
    "images you find in the (new) `cdli-imagery` directory over to the `images` directory\n",
    "(or any near directory you like). You might want to give it an other name.\n",
    "\n",
    "Use an image editor to annotate the image, and use it like this:\n",
    "\n",
    "```markdown\n",
    "![dummy](images/P005381_l-obverse-1a.png)\n",
    "```"
   ]
  },
  {
   "cell_type": "markdown",
   "metadata": {},
   "source": [
    "![dummy](images/P005381_l-obverse-1a.png)"
   ]
  },
  {
   "cell_type": "markdown",
   "metadata": {},
   "source": [
    "If you want to resize, do this\n",
    "\n",
    "```html\n",
    "<img src=\"images/P005381_l-obverse-1a.png\" width=\"200\" />\n",
    "```"
   ]
  },
  {
   "cell_type": "markdown",
   "metadata": {},
   "source": [
    "<img src=\"images/P005381_l-obverse-1a.png\" width=\"200\" />"
   ]
  },
  {
   "cell_type": "markdown",
   "metadata": {},
   "source": [
    "## Online images\n",
    "\n",
    "If you do not need to call up images in your notebook, but you want the online\n",
    "links to their counterparts on CDLI, that is also possible.\n",
    "\n",
    "**N.B.:** Some of these links might be broken."
   ]
  },
  {
   "cell_type": "code",
   "execution_count": 50,
   "metadata": {
    "ExecuteTime": {
     "end_time": "2018-05-01T13:43:09.892580Z",
     "start_time": "2018-05-01T13:43:09.881836Z"
    }
   },
   "outputs": [
    {
     "data": {
      "text/html": [
       "<div style=\"display: flex;flex-flow: row nowrap;justify-content: flex-start;align-items: center;align-content: flex-start;\"><div style=\"padding: 0.5rem;\"><a target=\"_blank\" href=\"https://cdli.ucla.edu/tools/SignLists/protocuneiform/archsigns/2(N14).jpg\" title=\"to higher resolution lineart on CDLI\">2(N14)</a></div><div style=\"padding: 0.5rem;\"><a target=\"_blank\" href=\"https://cdli.ucla.edu/tools/SignLists/protocuneiform/archsigns/SZE~a.jpg\" title=\"to higher resolution lineart on CDLI\">SZE~a</a></div><div style=\"padding: 0.5rem;\"><a target=\"_blank\" href=\"https://cdli.ucla.edu/tools/SignLists/protocuneiform/archsigns/SAL.jpg\" title=\"to higher resolution lineart on CDLI\">SAL</a></div><div style=\"padding: 0.5rem;\"><a target=\"_blank\" href=\"https://cdli.ucla.edu/tools/SignLists/protocuneiform/archsigns/TUR3~a.jpg\" title=\"to higher resolution lineart on CDLI\">TUR3~a</a></div><div style=\"padding: 0.5rem;\"><a target=\"_blank\" href=\"https://cdli.ucla.edu/tools/SignLists/protocuneiform/archsigns/NUN~a.jpg\" title=\"to higher resolution lineart on CDLI\">NUN~a</a></div></div>"
      ],
      "text/plain": [
       "<IPython.core.display.HTML object>"
      ]
     },
     "metadata": {},
     "output_type": "display_data"
    }
   ],
   "source": [
    "A.lineart([\"2(N14)\", \"SZE~a\", \"SAL\", \"TUR3~a\", \"NUN~a\"], asLink=True, width=50)"
   ]
  },
  {
   "cell_type": "markdown",
   "metadata": {},
   "source": [
    "# Next\n",
    "\n",
    "[steps](steps.ipynb)\n",
    "\n",
    "*One step at a time ...*\n",
    "\n",
    "All chapters:\n",
    "[start](start.ipynb)\n",
    "**imagery**\n",
    "[steps](steps.ipynb)\n",
    "[search](search.ipynb)\n",
    "[calc](calc.ipynb)\n",
    "[signs](signs.ipynb)\n",
    "[quads](quads.ipynb)\n",
    "[jumps](jumps.ipynb)\n",
    "[cases](cases.ipynb)\n",
    "\n",
    "---\n",
    "\n",
    "CC-BY Dirk Roorda"
   ]
  }
 ],
 "metadata": {
  "kernelspec": {
   "display_name": "Python 3 (ipykernel)",
   "language": "python",
   "name": "python3"
  },
  "language_info": {
   "codemirror_mode": {
    "name": "ipython",
    "version": 3
   },
   "file_extension": ".py",
   "mimetype": "text/x-python",
   "name": "python",
   "nbconvert_exporter": "python",
   "pygments_lexer": "ipython3",
   "version": "3.11.5"
  },
  "toc": {
   "base_numbering": 1,
   "nav_menu": {},
   "number_sections": true,
   "sideBar": true,
   "skip_h1_title": true,
   "title_cell": "Table of Contents",
   "title_sidebar": "Contents",
   "toc_cell": true,
   "toc_position": {
    "height": "607px",
    "left": "0px",
    "right": "995px",
    "top": "110px",
    "width": "285px"
   },
   "toc_section_display": "block",
   "toc_window_display": false
  },
  "toc-showtags": false,
  "widgets": {
   "application/vnd.jupyter.widget-state+json": {
    "state": {},
    "version_major": 2,
    "version_minor": 0
   }
  }
 },
 "nbformat": 4,
 "nbformat_minor": 4
}
