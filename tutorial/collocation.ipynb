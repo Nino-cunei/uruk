{
 "cells": [
  {
   "cell_type": "markdown",
   "metadata": {
    "toc": true
   },
   "source": [
    "<h1>Table of Contents<span class=\"tocSkip\"></span></h1>\n",
    "<div class=\"toc\" style=\"margin-top: 1em;\"><ul class=\"toc-item\"><li><span><a href=\"#Data\" data-toc-modified-id=\"Data-1\"><span class=\"toc-item-num\">1&nbsp;&nbsp;</span>Data</a></span></li><li><span><a href=\"#Reference-docs\" data-toc-modified-id=\"Reference-docs-2\"><span class=\"toc-item-num\">2&nbsp;&nbsp;</span>Reference docs</a></span></li><li><span><a href=\"#Start-up\" data-toc-modified-id=\"Start-up-3\"><span class=\"toc-item-num\">3&nbsp;&nbsp;</span>Start up</a></span></li><li><span><a href=\"#Sign-representations\" data-toc-modified-id=\"Sign-representations-4\"><span class=\"toc-item-num\">4&nbsp;&nbsp;</span>Sign representations</a></span></li><li><span><a href=\"#Pairs-per-object\" data-toc-modified-id=\"Pairs-per-object-5\"><span class=\"toc-item-num\">5&nbsp;&nbsp;</span>Pairs per object</a></span><ul class=\"toc-item\"><li><span><a href=\"#A-battery-of-collocations\" data-toc-modified-id=\"A-battery-of-collocations-5.1\"><span class=\"toc-item-num\">5.1&nbsp;&nbsp;</span>A battery of collocations</a></span></li><li><span><a href=\"#Simple-versus-refined\" data-toc-modified-id=\"Simple-versus-refined-5.2\"><span class=\"toc-item-num\">5.2&nbsp;&nbsp;</span>Simple versus refined</a></span></li></ul></li><li><span><a href=\"#Results\" data-toc-modified-id=\"Results-6\"><span class=\"toc-item-num\">6&nbsp;&nbsp;</span>Results</a></span></li><li><span><a href=\"#Alternatives\" data-toc-modified-id=\"Alternatives-7\"><span class=\"toc-item-num\">7&nbsp;&nbsp;</span>Alternatives</a></span></li></ul></div>"
   ]
  },
  {
   "cell_type": "markdown",
   "metadata": {
    "ExecuteTime": {
     "end_time": "2018-02-27T08:24:45.190815Z",
     "start_time": "2018-02-27T08:24:45.174943Z"
    }
   },
   "source": [
    "<img align=\"left\" src=\"images/P005381-obverse-photo.png\" width=\"15%\"/>\n",
    "<img align=\"left\" src=\"images/P005381-obverse-lineart-annot.png\" width=\"15%\"/>\n",
    "<img align=\"right\" src=\"images/P005381-reverse-photo.png\" width=\"15%\"/>\n",
    "<img align=\"right\" src=\"images/P005381-reverse-lineart.png\" width=\"15%\"/>\n",
    "\n",
    "<p>\n",
    "```\n",
    "&P005381 = MSVO 3, 70\n",
    "```\n",
    "</p>\n",
    "<p>\n",
    "<img src=\"images/P005381-obverse-atf.png\" width=\"40%\"/>\n",
    "<img src=\"images/P005381-reverse-atf.png\" width=\"40%\"/>\n",
    "</p>"
   ]
  },
  {
   "cell_type": "markdown",
   "metadata": {},
   "source": [
    "<img align=\"right\" src=\"images/tf-small.png\"/>\n",
    "\n",
    "\n",
    "# Collocation\n",
    "\n",
    "We want to get insights in the co-occurrences of signs on tablets in the \n",
    "[Uruk III/IV](http://cdli.ox.ac.uk/wiki/doku.php?id=proto-cuneiform)\n",
    "corpus (4000-3100 BC).\n",
    "These tablets have a poor archival context, since they come from rubbish pits, and may have been transported\n",
    "from various different places than where they have been excavated.\n",
    "\n",
    "In order to get more information about their chronology and context, we need to study the evolution of\n",
    "the signs on the tablets. Collocation is one of the pre-requisites to do so.\n",
    "\n",
    "The tutorial ended with a first exercise in collocation, where we collated pairs of signs\n",
    "that co-occur on tablets and used an unsophisticated distance measure.\n",
    "\n",
    "We repeat that exercise, and proceed to refine the collocation method step by step.\n",
    "\n",
    "## Data\n",
    "\n",
    "We have downloaded the transcriptions from the \n",
    "**Cuneiform Digital Library Initiative**\n",
    "[CDLI](https://cdli.ucla.edu),\n",
    "and converted them to\n",
    "[Text-Fabric](https://github.com/Dans-labs/text-fabric).\n",
    "Read more about the details of the conversion in the\n",
    "[checks](checks.ipynb) notebook.\n",
    "For an introduction to Text-Fabric, follow the\n",
    "[start](start.ipynb) tutorial.\n",
    "\n",
    "## Reference docs\n",
    "The functions used by this notebook are documented in the following places:\n",
    "\n",
    "[Feature docs](https://github.com/Dans-labs/Nino-cunei/blob/master/docs/transcription.md)\n",
    "\n",
    "[Cunei API](https://github.com/Dans-labs/Nino-cunei/blob/master/docs/cunei.md)\n",
    "\n",
    "[Utils API](https://github.com/Dans-labs/Nino-cunei/blob/master/docs/utils.md)\n",
    "\n",
    "[Text-Fabric API](https://github.com/Dans-labs/text-fabric)\n",
    "\n",
    "\n",
    "# Authors\n",
    "\n",
    "J. Cale Johnson and Dirk Roorda (see the \n",
    "[README](https://github.com/Dans-labs/Nino-cunei)\n",
    "of this repository)."
   ]
  },
  {
   "cell_type": "markdown",
   "metadata": {},
   "source": [
    "## Start up\n",
    "\n",
    "We import the Python modules we need."
   ]
  },
  {
   "cell_type": "code",
   "execution_count": 1,
   "metadata": {
    "ExecuteTime": {
     "end_time": "2018-03-01T19:19:04.234643Z",
     "start_time": "2018-03-01T19:19:04.211097Z"
    }
   },
   "outputs": [],
   "source": [
    "%load_ext autoreload\n",
    "%autoreload 2"
   ]
  },
  {
   "cell_type": "code",
   "execution_count": 2,
   "metadata": {
    "ExecuteTime": {
     "end_time": "2018-03-01T19:19:05.378252Z",
     "start_time": "2018-03-01T19:19:05.340451Z"
    }
   },
   "outputs": [],
   "source": [
    "import sys, os, collections\n",
    "from IPython.display import Markdown, display\n",
    "from tf.fabric import Fabric"
   ]
  },
  {
   "cell_type": "markdown",
   "metadata": {},
   "source": [
    "We set up our working locations on the file system."
   ]
  },
  {
   "cell_type": "code",
   "execution_count": 3,
   "metadata": {
    "ExecuteTime": {
     "end_time": "2018-03-01T19:19:07.715842Z",
     "start_time": "2018-03-01T19:19:07.679397Z"
    }
   },
   "outputs": [],
   "source": [
    "GITHUB = 'https://github.com'\n",
    "REPO_REL = 'Dans-labs/Nino-cunei'\n",
    "REPO = f'~/github/{REPO_REL}'\n",
    "SOURCE = 'uruk'\n",
    "VERSION = '0.1'\n",
    "CORPUS = f'{REPO}/tf/{SOURCE}/{VERSION}'\n",
    "SOURCE_DIR = os.path.expanduser(f'{REPO}/sources/cdli')\n",
    "PROGRAM_DIR = os.path.expanduser(f'{REPO}/programs')\n",
    "TEMP_DIR = os.path.expanduser(f'{REPO}/_temp')\n",
    "REPORT_DIR = os.path.expanduser(f'{REPO}/reports')\n",
    "RESULT_DIR = f'{REPORT_DIR}/collocation'\n",
    "RESULT_GH = f'{GITHUB}/{REPO_REL}/blob/master/reports/collocation'\n",
    "TEMP_RESULT_DIR = f'{TEMP_DIR}/collocation'"
   ]
  },
  {
   "cell_type": "markdown",
   "metadata": {},
   "source": [
    "We create the temporary and report directories, if they do not exist already."
   ]
  },
  {
   "cell_type": "code",
   "execution_count": 4,
   "metadata": {
    "ExecuteTime": {
     "end_time": "2018-03-01T19:19:10.223711Z",
     "start_time": "2018-03-01T19:19:10.200811Z"
    }
   },
   "outputs": [],
   "source": [
    "sys.path.append(PROGRAM_DIR)\n",
    "from cunei import Cunei\n",
    "from utils import Compare"
   ]
  },
  {
   "cell_type": "code",
   "execution_count": 5,
   "metadata": {
    "ExecuteTime": {
     "end_time": "2018-03-01T19:19:11.520372Z",
     "start_time": "2018-03-01T19:19:11.502948Z"
    }
   },
   "outputs": [],
   "source": [
    "for cdir in (TEMP_DIR, REPORT_DIR, RESULT_DIR, TEMP_RESULT_DIR):\n",
    "    os.makedirs(cdir, exist_ok=True)"
   ]
  },
  {
   "cell_type": "code",
   "execution_count": 6,
   "metadata": {
    "ExecuteTime": {
     "end_time": "2018-03-01T19:19:12.713799Z",
     "start_time": "2018-03-01T19:19:12.688337Z"
    }
   },
   "outputs": [
    {
     "name": "stdout",
     "output_type": "stream",
     "text": [
      "This is Text-Fabric 3.2.2\n",
      "Api reference : https://github.com/Dans-labs/text-fabric/wiki/Api\n",
      "Tutorial      : https://github.com/Dans-labs/text-fabric/blob/master/docs/tutorial.ipynb\n",
      "Example data  : https://github.com/Dans-labs/text-fabric-data\n",
      "\n",
      "33 features found and 0 ignored\n"
     ]
    }
   ],
   "source": [
    "TF = Fabric(locations=[CORPUS], modules=[''], silent=False )"
   ]
  },
  {
   "cell_type": "code",
   "execution_count": 7,
   "metadata": {
    "ExecuteTime": {
     "end_time": "2018-03-01T19:19:15.532060Z",
     "start_time": "2018-03-01T19:19:14.414860Z"
    }
   },
   "outputs": [
    {
     "name": "stdout",
     "output_type": "stream",
     "text": [
      "  0.00s loading features ...\n",
      "   |     0.00s B catalogId            from /Users/dirk/github/Dans-labs/Nino-cunei/tf/uruk/0.1\n",
      "   |     0.02s B fullNumber           from /Users/dirk/github/Dans-labs/Nino-cunei/tf/uruk/0.1\n",
      "   |     0.02s B number               from /Users/dirk/github/Dans-labs/Nino-cunei/tf/uruk/0.1\n",
      "   |     0.05s B grapheme             from /Users/dirk/github/Dans-labs/Nino-cunei/tf/uruk/0.1\n",
      "   |     0.04s B srcLn                from /Users/dirk/github/Dans-labs/Nino-cunei/tf/uruk/0.1\n",
      "   |     0.02s B srcLnNum             from /Users/dirk/github/Dans-labs/Nino-cunei/tf/uruk/0.1\n",
      "   |     0.00s B prime                from /Users/dirk/github/Dans-labs/Nino-cunei/tf/uruk/0.1\n",
      "   |     0.01s B repeat               from /Users/dirk/github/Dans-labs/Nino-cunei/tf/uruk/0.1\n",
      "   |     0.01s B variant              from /Users/dirk/github/Dans-labs/Nino-cunei/tf/uruk/0.1\n",
      "   |     0.00s B variantOuter         from /Users/dirk/github/Dans-labs/Nino-cunei/tf/uruk/0.1\n",
      "   |     0.00s B modifier             from /Users/dirk/github/Dans-labs/Nino-cunei/tf/uruk/0.1\n",
      "   |     0.00s B modifierInner        from /Users/dirk/github/Dans-labs/Nino-cunei/tf/uruk/0.1\n",
      "   |     0.00s B modifierFirst        from /Users/dirk/github/Dans-labs/Nino-cunei/tf/uruk/0.1\n",
      "   |     0.01s B damage               from /Users/dirk/github/Dans-labs/Nino-cunei/tf/uruk/0.1\n",
      "   |     0.00s B uncertain            from /Users/dirk/github/Dans-labs/Nino-cunei/tf/uruk/0.1\n",
      "   |     0.00s B remarkable           from /Users/dirk/github/Dans-labs/Nino-cunei/tf/uruk/0.1\n",
      "   |     0.00s B written              from /Users/dirk/github/Dans-labs/Nino-cunei/tf/uruk/0.1\n",
      "   |     0.01s B period               from /Users/dirk/github/Dans-labs/Nino-cunei/tf/uruk/0.1\n",
      "   |     0.01s B name                 from /Users/dirk/github/Dans-labs/Nino-cunei/tf/uruk/0.1\n",
      "   |     0.03s B type                 from /Users/dirk/github/Dans-labs/Nino-cunei/tf/uruk/0.1\n",
      "   |     0.00s B identifier           from /Users/dirk/github/Dans-labs/Nino-cunei/tf/uruk/0.1\n",
      "   |     0.00s B origNumber           from /Users/dirk/github/Dans-labs/Nino-cunei/tf/uruk/0.1\n",
      "   |     0.00s B badNumbering         from /Users/dirk/github/Dans-labs/Nino-cunei/tf/uruk/0.1\n",
      "   |     0.01s B crossref             from /Users/dirk/github/Dans-labs/Nino-cunei/tf/uruk/0.1\n",
      "   |     0.01s B text                 from /Users/dirk/github/Dans-labs/Nino-cunei/tf/uruk/0.1\n",
      "   |     0.00s B op                   from /Users/dirk/github/Dans-labs/Nino-cunei/tf/uruk/0.1\n",
      "   |     0.11s B sub                  from /Users/dirk/github/Dans-labs/Nino-cunei/tf/uruk/0.1\n",
      "   |     0.01s B comments             from /Users/dirk/github/Dans-labs/Nino-cunei/tf/uruk/0.1\n",
      "   |     0.00s Feature overview: 28 for nodes; 4 for edges; 1 configs; 7 computed\n",
      "  1.09s All features loaded/computed - for details use loadLog()\n"
     ]
    }
   ],
   "source": [
    "api = TF.load('''\n",
    "    grapheme prime repeat\n",
    "    variant variantOuter\n",
    "    modifier modifierInner modifierFirst\n",
    "    damage uncertain remarkable written\n",
    "    period name type identifier catalogId\n",
    "    number fullNumber origNumber badNumbering\n",
    "    crossref text\n",
    "    srcLn srcLnNum\n",
    "    op sub comments''')\n",
    "api.makeAvailableIn(globals())\n",
    "CUNEI = Cunei(api)\n",
    "COMP = Compare(api, SOURCE_DIR, TEMP_DIR)"
   ]
  },
  {
   "cell_type": "markdown",
   "metadata": {},
   "source": [
    "We pick up where we left off in the [start](start.ipynb) tutorial: computing co-occurrences\n",
    "by tablet. But we make the move to put our recipes into functions, that we will re-use and refine later on."
   ]
  },
  {
   "cell_type": "markdown",
   "metadata": {},
   "source": [
    "## Sign representations\n",
    "\n",
    "We pre-compute the sign representations for each node.\n",
    "We also make an index of occurrences for each sign representation."
   ]
  },
  {
   "cell_type": "code",
   "execution_count": 8,
   "metadata": {
    "ExecuteTime": {
     "end_time": "2018-03-01T19:19:21.566715Z",
     "start_time": "2018-03-01T19:19:20.982114Z"
    }
   },
   "outputs": [
    {
     "name": "stdout",
     "output_type": "stream",
     "text": [
      "computed 1481 distinct sign representations from 91362 nodes\n"
     ]
    }
   ],
   "source": [
    "NA = {'', '…', 'X'}\n",
    "\n",
    "def getSigns():\n",
    "    signFromNode = dict()\n",
    "    nodeFromSign = collections.defaultdict(list)\n",
    "\n",
    "    for tablet in F.otype.s('tablet'):\n",
    "        for s in L.d(tablet, otype='sign'):\n",
    "            if F.grapheme.v(s) in NA:\n",
    "                continue\n",
    "            signRep = CUNEI.atfFromSign(s)\n",
    "            signFromNode[s] = signRep\n",
    "            nodeFromSign[signRep].append(s)\n",
    "    print(f'computed {len(nodeFromSign)} distinct sign representations from {len(signFromNode)} nodes')\n",
    "    return (signFromNode, nodeFromSign)\n",
    "\n",
    "(signFromNode, nodeFromSign) = getSigns()"
   ]
  },
  {
   "cell_type": "markdown",
   "metadata": {},
   "source": [
    "## Pairs per object\n",
    "\n",
    "In the [start](start.ipynb) tutorial we collected pairs per tablet, and we calculated\n",
    "a coarse distance between pairs, based on the distance of signs in the linear sequence\n",
    "by which signs have been transcribed.\n",
    "\n",
    "We are going to write that process as a function, where we abstract from the level at\n",
    "which the pairs must co-occur. We also abstract from how we measure the distance."
   ]
  },
  {
   "cell_type": "markdown",
   "metadata": {
    "ExecuteTime": {
     "end_time": "2018-02-28T12:03:00.908187Z",
     "start_time": "2018-02-28T12:03:00.884604Z"
    }
   },
   "source": [
    "In addition to our coarse definition based on relative closeness, we also\n",
    "want a refined notion of closeness, one that does justice to the\n",
    "geometry of a tablet.\n",
    "\n",
    "Instead of basing closeness on sign distance, we want to base it on quad distance."
   ]
  },
  {
   "cell_type": "code",
   "execution_count": 9,
   "metadata": {
    "ExecuteTime": {
     "end_time": "2018-03-01T19:19:28.370392Z",
     "start_time": "2018-03-01T19:19:28.345632Z"
    }
   },
   "outputs": [],
   "source": [
    "def coarseRelativeCloseness(i, j, signLength=None, quadInfo=None):\n",
    "    return (signLength - abs(j - i)) / signLength\n",
    "\n",
    "def refinedRelativeCloseness(i, j, signLength=None, quadInfo=None):\n",
    "    (quadLength, outerQuadFromSign) = quadInfo\n",
    "    return (quadLength - abs(outerQuadFromSign[i] - outerQuadFromSign[j])) / quadLength"
   ]
  },
  {
   "cell_type": "markdown",
   "metadata": {},
   "source": [
    "We write a function `getPairs(perType, measureName)` that computes co-occurent pairs on objects\n",
    "of type `perType`. Here `measureName` is the name of a function that, given two sign nodes, computes\n",
    "a measure of closeness between those nodes.\n",
    "\n",
    "We also show the top pairs, and save all pairs to disk in a tsv file in your TEMP_RESULT_DIR.\n",
    "A shorter version of the results we write to your RESULT_DIR."
   ]
  },
  {
   "cell_type": "code",
   "execution_count": 10,
   "metadata": {
    "ExecuteTime": {
     "end_time": "2018-03-01T19:19:32.867374Z",
     "start_time": "2018-03-01T19:19:32.608076Z"
    }
   },
   "outputs": [],
   "source": [
    "SHOWPAIRS = 10\n",
    "RESULTPAIRS = 1000\n",
    "\n",
    "def getPairs(perType, measureName):\n",
    "    pairs = collections.Counter()\n",
    "    measure = globals()[measureName]\n",
    "\n",
    "    for obj in F.otype.s(perType):\n",
    "        signs = L.d(obj, otype='sign')\n",
    "        signLength = signs[-1] - signs[0]\n",
    "        \n",
    "        outerQuads = CUNEI.getOuterQuads(obj)\n",
    "        quadLength = len(outerQuads)\n",
    "        outerQuadFromSign = {}\n",
    "        for (i, outerQuad) in enumerate(outerQuads):\n",
    "            if F.otype.v(outerQuad) == 'sign':\n",
    "                outerQuadFromSign[outerQuad] = i\n",
    "            else:\n",
    "                for s in L.d(outerQuad, otype='sign'):\n",
    "                    outerQuadFromSign[s] = i\n",
    "        quadInfo = (quadLength, outerQuadFromSign)\n",
    "\n",
    "        thesePairs = {}\n",
    "        for i in range(len(signs)):\n",
    "            nodeI = signs[i]\n",
    "            if nodeI not in signFromNode:\n",
    "                continue\n",
    "            signI = signFromNode[nodeI]\n",
    "            for j in range(i + 1, len(signs)):\n",
    "                nodeJ = signs[j]\n",
    "                if nodeJ not in signFromNode:\n",
    "                    continue\n",
    "                signJ = signFromNode[nodeJ]\n",
    "                if signJ == signI:\n",
    "                    continue\n",
    "                pair = (signI, signJ) if signI < signJ else (signJ, signI)\n",
    "                closeness = measure(nodeI, nodeJ, signLength=signLength, quadInfo=quadInfo)\n",
    "                oldCloseness = thesePairs.get(pair, None)\n",
    "                if oldCloseness is None or oldCloseness < closeness:\n",
    "                    thesePairs[pair] = closeness\n",
    "        for (pair, closeness) in thesePairs.items():\n",
    "            pairs[pair] += closeness\n",
    "    showPairs(pairs, perType, measureName)\n",
    "    return pairs\n",
    "\n",
    "def sortPairs(pairs):\n",
    "    return sorted(\n",
    "        pairs.items(), \n",
    "        key=lambda x: (-x[1], x[0]),\n",
    "    )\n",
    "\n",
    "def sortPairsBare(pairs):\n",
    "    return sorted(\n",
    "        pairs, \n",
    "        key=lambda x: (-pairs[x], x),\n",
    "    )   \n",
    "\n",
    "def showPairs(pairs, perType, measureName):\n",
    "    print(f'{len(pairs)} co-occurrences in {perType}s with measure {measureName}')\n",
    "    sortedPairs = sortPairs(pairs)\n",
    "    pairFile = f'per-{perType}-{measureName}.tsv'\n",
    "    pairTempPath = f'{TEMP_RESULT_DIR}/{pairFile}'\n",
    "    with open(pairTempPath, 'w') as fh:\n",
    "        fh.write(f'signI\\tsignJ\\t{measureName}\\n')\n",
    "        for ((signI, signJ), closeness) in sortedPairs:\n",
    "            fh.write(f'{signI}\\t{signJ}\\t{closeness}\\n')\n",
    "    print(f'Written {len(pairs)} pairs to {pairFile} in _temp')\n",
    "    \n",
    "    pairPath = f'{RESULT_DIR}/{pairFile}'\n",
    "    with open(pairPath, 'w') as fh:\n",
    "        fh.write('signI\\tsignJ\\t{measureName}\\n')\n",
    "        for ((signI, signJ), closeness) in sortedPairs[0:RESULTPAIRS]:\n",
    "            fh.write(f'{signI}\\t{signJ}\\t{closeness}\\n')\n",
    "    print(f'Written {len(pairs)} pairs to {pairFile} in report')\n",
    "\n",
    "    showPairs = sortedPairs[0:SHOWPAIRS] \n",
    "    for ((signI, signJ), closeness) in showPairs:\n",
    "        print(f'{signI:>10} <=~ {closeness:>7.2f} ~=> {signJ:<10}')\n",
    "    if SHOWPAIRS < len(sortedPairs):\n",
    "        print(f'...and {len(sortedPairs) - SHOWPAIRS} more')"
   ]
  },
  {
   "cell_type": "markdown",
   "metadata": {},
   "source": [
    "### A battery of collocations\n",
    "\n",
    "Let's do business with this function, and get our results back for tablets and a closeness\n",
    "function based on the size of the tablet."
   ]
  },
  {
   "cell_type": "code",
   "execution_count": 11,
   "metadata": {
    "ExecuteTime": {
     "end_time": "2018-03-01T19:19:37.140011Z",
     "start_time": "2018-03-01T19:19:37.117373Z"
    }
   },
   "outputs": [],
   "source": [
    "collocationPairs = {}\n",
    "\n",
    "collocationObjects = '''\n",
    "    tablet\n",
    "    face\n",
    "    column\n",
    "    line\n",
    "'''.strip().split()\n",
    "\n",
    "closenessMethods = '''\n",
    "    coarseRelativeCloseness\n",
    "    refinedRelativeCloseness\n",
    "'''.strip().split()"
   ]
  },
  {
   "cell_type": "code",
   "execution_count": 12,
   "metadata": {
    "ExecuteTime": {
     "end_time": "2018-03-01T19:20:03.358907Z",
     "start_time": "2018-03-01T19:19:39.233190Z"
    }
   },
   "outputs": [
    {
     "name": "stdout",
     "output_type": "stream",
     "text": [
      "117472 co-occurrences in tablets with measure coarseRelativeCloseness\n",
      "Written 117472 pairs to per-tablet-coarseRelativeCloseness.tsv in _temp\n",
      "Written 117472 pairs to per-tablet-coarseRelativeCloseness.tsv in report\n",
      "    1(N01) <=~  794.77 ~=> 2(N01)    \n",
      "    1(N01) <=~  641.24 ~=> 1(N14)    \n",
      "    1(N01) <=~  573.55 ~=> EN~a      \n",
      "    1(N14) <=~  572.39 ~=> 2(N01)    \n",
      "    1(N01) <=~  507.99 ~=> 3(N01)    \n",
      "    2(N01) <=~  439.41 ~=> 3(N01)    \n",
      "    1(N01) <=~  434.06 ~=> N         \n",
      "    1(N14) <=~  413.32 ~=> 3(N01)    \n",
      "    1(N01) <=~  402.56 ~=> AN        \n",
      "    1(N01) <=~  387.34 ~=> GAL~a     \n",
      "...and 117462 more\n",
      "117472 co-occurrences in tablets with measure refinedRelativeCloseness\n",
      "Written 117472 pairs to per-tablet-refinedRelativeCloseness.tsv in _temp\n",
      "Written 117472 pairs to per-tablet-refinedRelativeCloseness.tsv in report\n",
      "    1(N01) <=~  801.53 ~=> 2(N01)    \n",
      "    1(N01) <=~  647.10 ~=> 1(N14)    \n",
      "    1(N01) <=~  578.82 ~=> EN~a      \n",
      "    1(N14) <=~  578.19 ~=> 2(N01)    \n",
      "    1(N01) <=~  512.55 ~=> 3(N01)    \n",
      "    2(N01) <=~  443.51 ~=> 3(N01)    \n",
      "    1(N01) <=~  437.91 ~=> N         \n",
      "    1(N14) <=~  416.36 ~=> 3(N01)    \n",
      "    1(N01) <=~  404.80 ~=> AN        \n",
      "    1(N01) <=~  388.83 ~=> GAL~a     \n",
      "...and 117462 more\n",
      "104628 co-occurrences in faces with measure coarseRelativeCloseness\n",
      "Written 104628 pairs to per-face-coarseRelativeCloseness.tsv in _temp\n",
      "Written 104628 pairs to per-face-coarseRelativeCloseness.tsv in report\n",
      "    1(N01) <=~  767.17 ~=> 2(N01)    \n",
      "    1(N01) <=~  545.01 ~=> 1(N14)    \n",
      "    1(N01) <=~  542.05 ~=> EN~a      \n",
      "    1(N14) <=~  498.63 ~=> 2(N01)    \n",
      "    1(N01) <=~  466.03 ~=> 3(N01)    \n",
      "    2(N01) <=~  399.38 ~=> 3(N01)    \n",
      "    1(N01) <=~  382.12 ~=> AN        \n",
      "    1(N01) <=~  370.84 ~=> GAL~a     \n",
      "    1(N14) <=~  366.86 ~=> 3(N01)    \n",
      "    1(N14) <=~  356.37 ~=> 5(N01)    \n",
      "...and 104618 more\n",
      "104628 co-occurrences in faces with measure refinedRelativeCloseness\n",
      "Written 104628 pairs to per-face-refinedRelativeCloseness.tsv in _temp\n",
      "Written 104628 pairs to per-face-refinedRelativeCloseness.tsv in report\n",
      "    1(N01) <=~  778.79 ~=> 2(N01)    \n",
      "    1(N01) <=~  554.20 ~=> 1(N14)    \n",
      "    1(N01) <=~  550.54 ~=> EN~a      \n",
      "    1(N14) <=~  508.68 ~=> 2(N01)    \n",
      "    1(N01) <=~  473.25 ~=> 3(N01)    \n",
      "    2(N01) <=~  406.17 ~=> 3(N01)    \n",
      "    1(N01) <=~  385.70 ~=> AN        \n",
      "    1(N01) <=~  374.14 ~=> GAL~a     \n",
      "    1(N14) <=~  372.36 ~=> 3(N01)    \n",
      "    1(N14) <=~  361.84 ~=> 5(N01)    \n",
      "...and 104618 more\n",
      "72618 co-occurrences in columns with measure coarseRelativeCloseness\n",
      "Written 72618 pairs to per-column-coarseRelativeCloseness.tsv in _temp\n",
      "Written 72618 pairs to per-column-coarseRelativeCloseness.tsv in report\n",
      "    1(N01) <=~  708.44 ~=> 2(N01)    \n",
      "    1(N01) <=~  498.80 ~=> EN~a      \n",
      "    1(N01) <=~  434.70 ~=> 1(N14)    \n",
      "    1(N01) <=~  428.54 ~=> GAL~a     \n",
      "    1(N14) <=~  417.79 ~=> 2(N01)    \n",
      "    1(N01) <=~  383.89 ~=> AN        \n",
      "    1(N01) <=~  376.31 ~=> 3(N01)    \n",
      "    2(N01) <=~  320.51 ~=> 3(N01)    \n",
      "    1(N14) <=~  314.08 ~=> 3(N01)    \n",
      "    1(N14) <=~  312.15 ~=> 5(N01)    \n",
      "...and 72608 more\n",
      "72618 co-occurrences in columns with measure refinedRelativeCloseness\n",
      "Written 72618 pairs to per-column-refinedRelativeCloseness.tsv in _temp\n",
      "Written 72618 pairs to per-column-refinedRelativeCloseness.tsv in report\n",
      "    1(N01) <=~  732.62 ~=> 2(N01)    \n",
      "    1(N01) <=~  511.25 ~=> EN~a      \n",
      "    1(N01) <=~  448.26 ~=> 1(N14)    \n",
      "    1(N01) <=~  434.11 ~=> GAL~a     \n",
      "    1(N14) <=~  432.69 ~=> 2(N01)    \n",
      "    1(N01) <=~  390.28 ~=> AN        \n",
      "    1(N01) <=~  389.71 ~=> 3(N01)    \n",
      "    2(N01) <=~  331.53 ~=> 3(N01)    \n",
      "    1(N14) <=~  323.64 ~=> 3(N01)    \n",
      "    1(N14) <=~  321.84 ~=> 5(N01)    \n",
      "...and 72608 more\n",
      "36507 co-occurrences in lines with measure coarseRelativeCloseness\n",
      "Written 36507 pairs to per-line-coarseRelativeCloseness.tsv in _temp\n",
      "Written 36507 pairs to per-line-coarseRelativeCloseness.tsv in report\n",
      "    1(N01) <=~  388.44 ~=> GAL~a     \n",
      "    1(N01) <=~  303.22 ~=> EN~a      \n",
      "    1(N01) <=~  198.53 ~=> AN        \n",
      "    1(N01) <=~  197.67 ~=> DUG~b     \n",
      "    1(N01) <=~  182.45 ~=> 1(N14)    \n",
      "    1(N14) <=~  182.27 ~=> 2(N01)    \n",
      "    1(N01) <=~  155.46 ~=> U4        \n",
      "    1(N14) <=~  153.46 ~=> 5(N01)    \n",
      "    1(N14) <=~  142.85 ~=> 3(N01)    \n",
      "    1(N01) <=~  132.31 ~=> NAM2      \n",
      "...and 36497 more\n",
      "36507 co-occurrences in lines with measure refinedRelativeCloseness\n",
      "Written 36507 pairs to per-line-refinedRelativeCloseness.tsv in _temp\n",
      "Written 36507 pairs to per-line-refinedRelativeCloseness.tsv in report\n",
      "    1(N01) <=~  505.41 ~=> GAL~a     \n",
      "    1(N01) <=~  370.28 ~=> EN~a      \n",
      "    1(N01) <=~  249.75 ~=> AN        \n",
      "    1(N01) <=~  212.11 ~=> DUG~b     \n",
      "    1(N14) <=~  210.02 ~=> 2(N01)    \n",
      "    1(N01) <=~  208.91 ~=> 1(N14)    \n",
      "    1(N01) <=~  196.15 ~=> NAM2      \n",
      "    1(N01) <=~  186.56 ~=> U4        \n",
      "    1(N01) <=~  184.42 ~=> GISZ      \n",
      "    1(N57) <=~  172.68 ~=> U4        \n",
      "...and 36497 more\n"
     ]
    }
   ],
   "source": [
    "for obj in collocationObjects:\n",
    "    for method in closenessMethods:\n",
    "        collocationPairs.setdefault(obj, {})[method] = getPairs(obj, method)"
   ]
  },
  {
   "cell_type": "markdown",
   "metadata": {},
   "source": [
    "### Simple versus refined\n",
    "\n",
    "Does the refined measure give other results?"
   ]
  },
  {
   "cell_type": "code",
   "execution_count": 13,
   "metadata": {
    "ExecuteTime": {
     "end_time": "2018-03-01T19:20:13.806320Z",
     "start_time": "2018-03-01T19:20:13.718213Z"
    }
   },
   "outputs": [],
   "source": [
    "def comparePairs(obj, method1, method2):\n",
    "    pairs1 = sortPairsBare(collocationPairs[obj][method1])\n",
    "    pairs2 = sortPairsBare(collocationPairs[obj][method2])\n",
    "    if len(pairs1) != len(pairs2):\n",
    "        print(f'{obj:<6}: !!! {method1:>24} => {len(pairs1):>6} =/= {len(pairs2):>6} <= {method2:<24}')\n",
    "    else:\n",
    "        print(f'{obj:<6}:     {method1:>24} => {len(pairs1):>6} === {len(pairs2):>6} <= {method2:<24}')\n",
    "    firstDiff = -1\n",
    "    for (i, (pair1, pair2)) in enumerate(zip(pairs1, pairs2)):\n",
    "        if pair1 != pair2:\n",
    "            firstDiff = i\n",
    "            break\n",
    "    if firstDiff < 0:\n",
    "        if len(pairs1) == len(pairs2):\n",
    "            print('\\tIDENTICAL')\n",
    "        else:\n",
    "            methodSmall = method1 if len(pairs1) < len(pairs2) else method2\n",
    "            methodBig = method2 if len(pairs1) < len(pairs2) else method1\n",
    "            print(f'\\tPREFIX: pairs by {methodSmall} are a prefix of pairs by {methodBig}')\n",
    "    else:\n",
    "        print(f'\\tFIRST DIFFERENCE at position {firstDiff}')\n",
    "    \n",
    "    topPairs1 = pairs1[0:RESULTPAIRS]\n",
    "    topPairs2 = pairs2[0:RESULTPAIRS]\n",
    "    setTop1 = set(topPairs1)\n",
    "    setTop2 = set(topPairs2)\n",
    "\n",
    "    if setTop1 == setTop2:\n",
    "        print(f'\\tEQUAL as set of the top-{RESULTPAIRS} pairs')\n",
    "    else:\n",
    "        common = setTop1 & setTop2\n",
    "        print(f'\\tSHARE {len(common)} pairs in their top-{RESULTPAIRS}')\n",
    "    print('')"
   ]
  },
  {
   "cell_type": "code",
   "execution_count": 14,
   "metadata": {
    "ExecuteTime": {
     "end_time": "2018-03-01T19:20:17.372279Z",
     "start_time": "2018-03-01T19:20:15.858918Z"
    }
   },
   "outputs": [
    {
     "name": "stdout",
     "output_type": "stream",
     "text": [
      "tablet:      coarseRelativeCloseness => 117472 === 117472 <= refinedRelativeCloseness\n",
      "\tFIRST DIFFERENCE at position 27\n",
      "\tSHARE 997 pairs in their top-1000\n",
      "\n",
      "face  :      coarseRelativeCloseness => 104628 === 104628 <= refinedRelativeCloseness\n",
      "\tFIRST DIFFERENCE at position 25\n",
      "\tSHARE 996 pairs in their top-1000\n",
      "\n",
      "column:      coarseRelativeCloseness =>  72618 ===  72618 <= refinedRelativeCloseness\n",
      "\tFIRST DIFFERENCE at position 28\n",
      "\tSHARE 989 pairs in their top-1000\n",
      "\n",
      "line  :      coarseRelativeCloseness =>  36507 ===  36507 <= refinedRelativeCloseness\n",
      "\tFIRST DIFFERENCE at position 4\n",
      "\tSHARE 934 pairs in their top-1000\n",
      "\n"
     ]
    }
   ],
   "source": [
    "for obj in collocationObjects:\n",
    "    comparePairs(obj, *closenessMethods)"
   ]
  },
  {
   "cell_type": "markdown",
   "metadata": {},
   "source": [
    "**Observation**\n",
    "\n",
    "The more fine-grained your object of collocation is, the bigger the differences between\n",
    "the refined and the coarse closeness measures.\n",
    "\n",
    "But all in all, the difference remains pretty small."
   ]
  },
  {
   "cell_type": "markdown",
   "metadata": {
    "variables": {
     "RESULTPAIRS": "<p><strong>NameError</strong>: name &#39;RESULTPAIRS&#39; is not defined</p>\n"
    }
   },
   "source": [
    "## Results\n",
    "\n",
    "The top {{RESULTPAIRS}} can be viewed online."
   ]
  },
  {
   "cell_type": "code",
   "execution_count": 15,
   "metadata": {
    "ExecuteTime": {
     "end_time": "2018-03-01T19:20:29.706389Z",
     "start_time": "2018-03-01T19:20:29.667069Z"
    }
   },
   "outputs": [
    {
     "data": {
      "text/markdown": [
       "[tablet-coarseRelativeCloseness](https://github.com/Dans-labs/Nino-cunei/blob/master/reports/collocation/per-tablet-coarseRelativeCloseness.tsv)\n",
       "\n",
       "[tablet-refinedRelativeCloseness](https://github.com/Dans-labs/Nino-cunei/blob/master/reports/collocation/per-tablet-refinedRelativeCloseness.tsv)\n",
       "\n",
       "[face-coarseRelativeCloseness](https://github.com/Dans-labs/Nino-cunei/blob/master/reports/collocation/per-face-coarseRelativeCloseness.tsv)\n",
       "\n",
       "[face-refinedRelativeCloseness](https://github.com/Dans-labs/Nino-cunei/blob/master/reports/collocation/per-face-refinedRelativeCloseness.tsv)\n",
       "\n",
       "[column-coarseRelativeCloseness](https://github.com/Dans-labs/Nino-cunei/blob/master/reports/collocation/per-column-coarseRelativeCloseness.tsv)\n",
       "\n",
       "[column-refinedRelativeCloseness](https://github.com/Dans-labs/Nino-cunei/blob/master/reports/collocation/per-column-refinedRelativeCloseness.tsv)\n",
       "\n",
       "[line-coarseRelativeCloseness](https://github.com/Dans-labs/Nino-cunei/blob/master/reports/collocation/per-line-coarseRelativeCloseness.tsv)\n",
       "\n",
       "[line-refinedRelativeCloseness](https://github.com/Dans-labs/Nino-cunei/blob/master/reports/collocation/per-line-refinedRelativeCloseness.tsv)\n",
       "\n"
      ],
      "text/plain": [
       "<IPython.core.display.Markdown object>"
      ]
     },
     "metadata": {},
     "output_type": "display_data"
    }
   ],
   "source": [
    "resultLinks = []\n",
    "for obj in collocationObjects:\n",
    "    for method in closenessMethods:\n",
    "        resultLinks.append(f'[{obj}-{method}]({RESULT_GH}/per-{obj}-{method}.tsv)\\n\\n')\n",
    "\n",
    "RESULT_LINKS = ''.join(resultLinks)\n",
    "display(Markdown(RESULT_LINKS))"
   ]
  },
  {
   "cell_type": "markdown",
   "metadata": {},
   "source": [
    "## Alternatives\n",
    "\n",
    "In [clustering](clustering.ipynb) we explore how we can cluster signs."
   ]
  },
  {
   "cell_type": "code",
   "execution_count": null,
   "metadata": {},
   "outputs": [],
   "source": []
  }
 ],
 "metadata": {
  "kernelspec": {
   "display_name": "Python 3",
   "language": "python",
   "name": "python3"
  },
  "language_info": {
   "codemirror_mode": {
    "name": "ipython",
    "version": 3
   },
   "file_extension": ".py",
   "mimetype": "text/x-python",
   "name": "python",
   "nbconvert_exporter": "python",
   "pygments_lexer": "ipython3",
   "version": "3.6.4"
  },
  "toc": {
   "nav_menu": {},
   "number_sections": true,
   "sideBar": true,
   "skip_h1_title": true,
   "toc_cell": true,
   "toc_position": {},
   "toc_section_display": "block",
   "toc_window_display": true
  }
 },
 "nbformat": 4,
 "nbformat_minor": 2
}
