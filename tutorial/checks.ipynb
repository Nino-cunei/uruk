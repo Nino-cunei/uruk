{
 "cells": [
  {
   "cell_type": "markdown",
   "metadata": {
    "toc": true
   },
   "source": [
    "<h1>Table of Contents<span class=\"tocSkip\"></span></h1>\n",
    "<div class=\"toc\" style=\"margin-top: 1em;\"><ul class=\"toc-item\"><li><span><a href=\"#Tablets\" data-toc-modified-id=\"Tablets-1\"><span class=\"toc-item-num\">1&nbsp;&nbsp;</span>Tablets</a></span></li><li><span><a href=\"#Faces\" data-toc-modified-id=\"Faces-2\"><span class=\"toc-item-num\">2&nbsp;&nbsp;</span>Faces</a></span></li><li><span><a href=\"#Columns\" data-toc-modified-id=\"Columns-3\"><span class=\"toc-item-num\">3&nbsp;&nbsp;</span>Columns</a></span></li><li><span><a href=\"#Lines\" data-toc-modified-id=\"Lines-4\"><span class=\"toc-item-num\">4&nbsp;&nbsp;</span>Lines</a></span></li><li><span><a href=\"#Graphemes\" data-toc-modified-id=\"Graphemes-5\"><span class=\"toc-item-num\">5&nbsp;&nbsp;</span>Graphemes</a></span><ul class=\"toc-item\"><li><span><a href=\"#Primes\" data-toc-modified-id=\"Primes-5.1\"><span class=\"toc-item-num\">5.1&nbsp;&nbsp;</span>Primes</a></span></li><li><span><a href=\"#Variants\" data-toc-modified-id=\"Variants-5.2\"><span class=\"toc-item-num\">5.2&nbsp;&nbsp;</span>Variants</a></span></li></ul></li></ul></div>"
   ]
  },
  {
   "cell_type": "markdown",
   "metadata": {},
   "source": [
    "# Checks\n",
    "Various checks on the correctness of the transformation from ascii transcriptions to a text-fabric data set.\n",
    "\n",
    "The [diagnostics]()\n",
    "of the transformation contains valueable issues that may be used to correct mistakes in the sources.\n",
    "Or, equally likely, they correspond to misunderstandings on my (Dirk's) part of the model\n",
    "that underlies the transcriptions.\n",
    "\n",
    "We will perform *grep* commands on the source files, and we will traverse node in Text-Fabric and collect information.\n",
    "\n",
    "Then we compare these sets of information."
   ]
  },
  {
   "cell_type": "code",
   "execution_count": 1,
   "metadata": {
    "ExecuteTime": {
     "end_time": "2018-02-20T14:52:03.223841Z",
     "start_time": "2018-02-20T14:52:03.199524Z"
    }
   },
   "outputs": [],
   "source": [
    "%load_ext autoreload\n",
    "%autoreload 2"
   ]
  },
  {
   "cell_type": "code",
   "execution_count": 2,
   "metadata": {
    "ExecuteTime": {
     "end_time": "2018-02-20T14:52:25.967954Z",
     "start_time": "2018-02-20T14:52:25.938315Z"
    }
   },
   "outputs": [],
   "source": [
    "import sys, os, collections, re\n",
    "from glob import glob\n",
    "from tf.fabric import Fabric\n",
    "from utils import Compare"
   ]
  },
  {
   "cell_type": "code",
   "execution_count": 3,
   "metadata": {
    "ExecuteTime": {
     "end_time": "2018-02-20T14:52:27.590933Z",
     "start_time": "2018-02-20T14:52:27.572591Z"
    }
   },
   "outputs": [],
   "source": [
    "REPO = '~/github/Dans-labs/nino-cunei'\n",
    "SOURCE = 'uruk'\n",
    "VERSION = '0.1'\n",
    "CORPUS = f'{REPO}/tf/{SOURCE}/{VERSION}'\n",
    "SOURCE_DIR = os.path.expanduser(f'{REPO}/sources/cdli')\n",
    "TEMP_DIR = os.path.expanduser(f'{REPO}/_temp')"
   ]
  },
  {
   "cell_type": "code",
   "execution_count": 65,
   "metadata": {
    "ExecuteTime": {
     "end_time": "2018-02-20T15:27:35.727750Z",
     "start_time": "2018-02-20T15:27:35.708499Z"
    }
   },
   "outputs": [
    {
     "name": "stdout",
     "output_type": "stream",
     "text": [
      "This is Text-Fabric 3.2.0\n",
      "Api reference : https://github.com/Dans-labs/text-fabric/wiki/Api\n",
      "Tutorial      : https://github.com/Dans-labs/text-fabric/blob/master/docs/tutorial.ipynb\n",
      "Example data  : https://github.com/Dans-labs/text-fabric-data\n",
      "\n",
      "26 features found and 0 ignored\n"
     ]
    }
   ],
   "source": [
    "TF = Fabric(locations=[CORPUS], modules=[''], silent=False )"
   ]
  },
  {
   "cell_type": "code",
   "execution_count": 66,
   "metadata": {
    "ExecuteTime": {
     "end_time": "2018-02-20T15:27:45.008634Z",
     "start_time": "2018-02-20T15:27:43.944046Z"
    }
   },
   "outputs": [
    {
     "name": "stdout",
     "output_type": "stream",
     "text": [
      "  0.00s loading features ...\n",
      "   |     0.00s B catalogId            from /Users/dirk/github/Dans-labs/nino-cunei/tf/uruk/0.1\n",
      "   |     0.02s B number               from /Users/dirk/github/Dans-labs/nino-cunei/tf/uruk/0.1\n",
      "   |     0.06s B grapheme             from /Users/dirk/github/Dans-labs/nino-cunei/tf/uruk/0.1\n",
      "   |     0.05s B srcLn                from /Users/dirk/github/Dans-labs/nino-cunei/tf/uruk/0.1\n",
      "   |     0.03s B srcLnNum             from /Users/dirk/github/Dans-labs/nino-cunei/tf/uruk/0.1\n",
      "   |     0.00s B prime                from /Users/dirk/github/Dans-labs/nino-cunei/tf/uruk/0.1\n",
      "   |     0.01s B variant              from /Users/dirk/github/Dans-labs/nino-cunei/tf/uruk/0.1\n",
      "   |     0.00s B modifier             from /Users/dirk/github/Dans-labs/nino-cunei/tf/uruk/0.1\n",
      "   |     0.01s B repeat               from /Users/dirk/github/Dans-labs/nino-cunei/tf/uruk/0.1\n",
      "   |     0.01s B damage               from /Users/dirk/github/Dans-labs/nino-cunei/tf/uruk/0.1\n",
      "   |     0.00s B uncertain            from /Users/dirk/github/Dans-labs/nino-cunei/tf/uruk/0.1\n",
      "   |     0.00s B remarkable           from /Users/dirk/github/Dans-labs/nino-cunei/tf/uruk/0.1\n",
      "   |     0.00s B written              from /Users/dirk/github/Dans-labs/nino-cunei/tf/uruk/0.1\n",
      "   |     0.01s B name                 from /Users/dirk/github/Dans-labs/nino-cunei/tf/uruk/0.1\n",
      "   |     0.00s B badNumbering         from /Users/dirk/github/Dans-labs/nino-cunei/tf/uruk/0.1\n",
      "   |     0.01s B period               from /Users/dirk/github/Dans-labs/nino-cunei/tf/uruk/0.1\n",
      "   |     0.02s B type                 from /Users/dirk/github/Dans-labs/nino-cunei/tf/uruk/0.1\n",
      "   |     0.00s B identifier           from /Users/dirk/github/Dans-labs/nino-cunei/tf/uruk/0.1\n",
      "   |     0.00s B op                   from /Users/dirk/github/Dans-labs/nino-cunei/tf/uruk/0.1\n",
      "   |     0.01s B comments             from /Users/dirk/github/Dans-labs/nino-cunei/tf/uruk/0.1\n",
      "   |     0.00s Feature overview: 21 for nodes; 4 for edges; 1 configs; 7 computed\n",
      "  1.05s All features loaded/computed - for details use loadLog()\n"
     ]
    }
   ],
   "source": [
    "api = TF.load('''\n",
    "    grapheme prime variant modifier repeat\n",
    "    damage uncertain remarkable written\n",
    "    name number badNumbering catalogId period\n",
    "    type identifier\n",
    "    srcLn srcLnNum\n",
    "    op comments\n",
    "''')\n",
    "api.makeAvailableIn(globals())\n",
    "COMP = Compare(api, SOURCE_DIR, TEMP_DIR)"
   ]
  },
  {
   "cell_type": "markdown",
   "metadata": {},
   "source": [
    "## Tablets\n",
    "We check whether we have the same sequence of tablet numbers.\n",
    "In TF, the tablet number is stored in the feature `catalogId`.\n",
    "\n",
    "Note that we also check on the order of the tablets."
   ]
  },
  {
   "cell_type": "code",
   "execution_count": 67,
   "metadata": {
    "ExecuteTime": {
     "end_time": "2018-02-20T15:27:52.420953Z",
     "start_time": "2018-02-20T15:27:52.379140Z"
    }
   },
   "outputs": [],
   "source": [
    "def tfTablets():\n",
    "    tablets = []\n",
    "    for t in F.otype.s('tablet'):\n",
    "        (tablet, column, line) = T.sectionFromNode(t)\n",
    "        tablets.append((F.period.v(t), tablet, F.srcLnNum.v(t), F.catalogId.v(t)))\n",
    "    return tablets\n",
    "\n",
    "def grepTablets(gen):\n",
    "    tablets = []\n",
    "    prevTablet = None\n",
    "    for (period, tablet, ln, line, skip) in gen:\n",
    "        if skip:\n",
    "            print(f'GREP: skipping duplicate tablet \"{tablet}\"')\n",
    "            continue\n",
    "        if tablet != prevTablet:\n",
    "            tablets.append((period, tablet, ln, tablet))\n",
    "        prevTablet = tablet\n",
    "    return tablets"
   ]
  },
  {
   "cell_type": "code",
   "execution_count": 68,
   "metadata": {
    "ExecuteTime": {
     "end_time": "2018-02-20T15:27:53.527951Z",
     "start_time": "2018-02-20T15:27:53.221380Z"
    }
   },
   "outputs": [
    {
     "name": "stdout",
     "output_type": "stream",
     "text": [
      "GREP: skipping duplicate tablet \"P002176\"\n",
      "GREP: skipping duplicate tablet \"P252175\"\n",
      "Number of results: TF 6396; GREP 6396\n",
      "IDENTICAL: all 6396 items\n",
      "=    : uruk-iii ◆ P006427 ◆ 1 ◆ P006427\n",
      "=    : uruk-iii ◆ P006428 ◆ 11 ◆ P006428\n",
      "=    : uruk-iii ◆ P448701 ◆ 36 ◆ P448701\n",
      "=    : uruk-iii ◆ P448702 ◆ 50 ◆ P448702\n",
      "=    : uruk-iii ◆ P448703 ◆ 71 ◆ P448703\n",
      "=    : uruk-iii ◆ P471695 ◆ 87 ◆ P471695\n",
      "=    : uruk-iii ◆ P482082 ◆ 114 ◆ P482082\n",
      "=    : uruk-iii ◆ P482083 ◆ 127 ◆ P482083\n",
      "=    : uruk-iii ◆ P499393 ◆ 147 ◆ P499393\n",
      "=    : uruk-iii ◆ P504412 ◆ 166 ◆ P504412\n",
      "=    : uruk-iii ◆ P504413 ◆ 189 ◆ P504413\n",
      "=    : uruk-iii ◆ P006438 ◆ 199 ◆ P006438\n",
      "=    : uruk-iii ◆ P000014 ◆ 220 ◆ P000014\n",
      "=    : uruk-iii ◆ P000456 ◆ 297 ◆ P000456\n",
      "=    : uruk-iii ◆ P002718 ◆ 326 ◆ P002718\n",
      "=    : uruk-iii ◆ P000021 ◆ 341 ◆ P000021\n",
      "=    : uruk-iii ◆ P000023 ◆ 374 ◆ P000023\n",
      "=    : uruk-iii ◆ P000025 ◆ 403 ◆ P000025\n",
      "=    : uruk-iii ◆ P000167 ◆ 500 ◆ P000167\n",
      "=    : uruk-iii ◆ P000453 ◆ 531 ◆ P000453\n",
      "=     and 6376 more\n"
     ]
    }
   ],
   "source": [
    "COMP.checkSanity(\n",
    "    grepTablets,\n",
    "    tfTablets,\n",
    ")"
   ]
  },
  {
   "cell_type": "markdown",
   "metadata": {},
   "source": [
    "## Faces\n",
    "\n",
    "We check whether we see the same faces with GREP and TF.\n",
    "\n",
    "Note that in TF we have inserted missing faces `@noface`.\n",
    "We leave them out again in the comparison."
   ]
  },
  {
   "cell_type": "code",
   "execution_count": 69,
   "metadata": {
    "ExecuteTime": {
     "end_time": "2018-02-20T15:27:55.887679Z",
     "start_time": "2018-02-20T15:27:55.867355Z"
    }
   },
   "outputs": [],
   "source": [
    "FACES = set(\n",
    "    '''\n",
    "    obverse\n",
    "    reverse\n",
    "    top\n",
    "    bottom\n",
    "    left\n",
    "    seal\n",
    "    surface\n",
    "    edge\n",
    "'''.strip().split()\n",
    ")\n",
    "\n",
    "NOFACE = 'noface'\n",
    "\n",
    "facePat = re.compile('^@([a-z]+)')"
   ]
  },
  {
   "cell_type": "code",
   "execution_count": 70,
   "metadata": {
    "ExecuteTime": {
     "end_time": "2018-02-20T15:27:57.127900Z",
     "start_time": "2018-02-20T15:27:57.095893Z"
    }
   },
   "outputs": [],
   "source": [
    "def tfFaces():\n",
    "    faces = []\n",
    "    for tablet in F.otype.s('tablet'):\n",
    "        tabletName = F.catalogId.v(tablet)\n",
    "        period = F.period.v(tablet)\n",
    "        for face in L.d(tablet, otype='face'):\n",
    "            tp = F.type.v(face)\n",
    "            it = F.identifier.v(face) or None\n",
    "            ln = F.srcLnNum.v(face)\n",
    "            itStr = '' if it is None else f' {it}'\n",
    "            if tp != 'noface':\n",
    "                faces.append((period, tabletName, ln, f'@{tp}{itStr}'))\n",
    "    return faces"
   ]
  },
  {
   "cell_type": "code",
   "execution_count": 71,
   "metadata": {
    "ExecuteTime": {
     "end_time": "2018-02-20T15:27:58.077291Z",
     "start_time": "2018-02-20T15:27:58.054744Z"
    }
   },
   "outputs": [],
   "source": [
    "def grepFaces(gen):\n",
    "    faces = []\n",
    "    for (period, tablet, ln, line, skip) in gen:\n",
    "        if skip:\n",
    "            continue\n",
    "        match = facePat.match(line)\n",
    "        if match:\n",
    "            face = match.group(1)\n",
    "            if face in FACES:\n",
    "                faces.append((period, tablet, ln, line.strip()))\n",
    "    return faces"
   ]
  },
  {
   "cell_type": "code",
   "execution_count": 72,
   "metadata": {
    "ExecuteTime": {
     "end_time": "2018-02-20T15:27:59.306194Z",
     "start_time": "2018-02-20T15:27:58.847895Z"
    }
   },
   "outputs": [
    {
     "name": "stdout",
     "output_type": "stream",
     "text": [
      "Number of results: TF 9441; GREP 9441\n",
      "IDENTICAL: all 9441 items\n",
      "=    : uruk-iii ◆ P006427 ◆ 4 ◆ @obverse\n",
      "=    : uruk-iii ◆ P006428 ◆ 14 ◆ @obverse\n",
      "=    : uruk-iii ◆ P448701 ◆ 39 ◆ @obverse\n",
      "=    : uruk-iii ◆ P448701 ◆ 46 ◆ @reverse\n",
      "=    : uruk-iii ◆ P448702 ◆ 53 ◆ @obverse\n",
      "=    : uruk-iii ◆ P448702 ◆ 67 ◆ @reverse\n",
      "=    : uruk-iii ◆ P448703 ◆ 74 ◆ @obverse\n",
      "=    : uruk-iii ◆ P448703 ◆ 83 ◆ @reverse\n",
      "=    : uruk-iii ◆ P471695 ◆ 90 ◆ @obverse\n",
      "=    : uruk-iii ◆ P471695 ◆ 109 ◆ @reverse\n",
      "=    : uruk-iii ◆ P482082 ◆ 117 ◆ @obverse\n",
      "=    : uruk-iii ◆ P482082 ◆ 123 ◆ @reverse\n",
      "=    : uruk-iii ◆ P482083 ◆ 130 ◆ @obverse\n",
      "=    : uruk-iii ◆ P482083 ◆ 143 ◆ @reverse\n",
      "=    : uruk-iii ◆ P499393 ◆ 150 ◆ @obverse\n",
      "=    : uruk-iii ◆ P499393 ◆ 162 ◆ @reverse\n",
      "=    : uruk-iii ◆ P504412 ◆ 169 ◆ @obverse\n",
      "=    : uruk-iii ◆ P504412 ◆ 185 ◆ @reverse\n",
      "=    : uruk-iii ◆ P504413 ◆ 192 ◆ @obverse\n",
      "=    : uruk-iii ◆ P504413 ◆ 195 ◆ @reverse\n",
      "=     and 9421 more\n"
     ]
    }
   ],
   "source": [
    "COMP.checkSanity(\n",
    "    grepFaces,\n",
    "    tfFaces,\n",
    ")"
   ]
  },
  {
   "cell_type": "markdown",
   "metadata": {},
   "source": [
    "## Columns\n",
    "\n",
    "We check whether we see the same columns with GREP and TF.\n",
    "\n",
    "Note that in TF we have inserted missing columns as `@column 0`.\n",
    "We leave them out again in the comparison."
   ]
  },
  {
   "cell_type": "code",
   "execution_count": 73,
   "metadata": {
    "ExecuteTime": {
     "end_time": "2018-02-20T15:28:02.615752Z",
     "start_time": "2018-02-20T15:28:02.581141Z"
    }
   },
   "outputs": [],
   "source": [
    "def tfColumns():\n",
    "    columns = []\n",
    "    for tablet in F.otype.s('tablet'):\n",
    "        tabletName = F.catalogId.v(tablet)\n",
    "        period = F.period.v(tablet)\n",
    "        for face in L.d(tablet, otype='face'):\n",
    "            tp = F.type.v(face)\n",
    "            for column in L.d(face, otype='column'):\n",
    "                number = F.number.v(column)\n",
    "                prime = F.prime.v(column)\n",
    "                ln = F.srcLnNum.v(column)\n",
    "                primeStr = \"'\" if prime else ''\n",
    "                if number != '0':\n",
    "                    columns.append((period, tabletName, ln, tp, f'@column {number}{primeStr}'))\n",
    "    return columns"
   ]
  },
  {
   "cell_type": "code",
   "execution_count": 82,
   "metadata": {
    "ExecuteTime": {
     "end_time": "2018-02-20T15:38:53.071199Z",
     "start_time": "2018-02-20T15:38:53.001796Z"
    }
   },
   "outputs": [],
   "source": [
    "def grepColumns(gen):\n",
    "    columns = []\n",
    "    columnPat = re.compile('^@col')\n",
    "    correctPat = re.compile('^@([a-z]+)(\\s*)(\\S*)')\n",
    "    curFace = NOFACE\n",
    "    prevTablet = None\n",
    "    for (period, tablet, ln, line, skip) in gen:\n",
    "        if skip:\n",
    "            continue\n",
    "        if tablet != prevTablet:\n",
    "            curFace = NOFACE\n",
    "        prevTablet = tablet\n",
    "\n",
    "        match = facePat.match(line)\n",
    "        if match:\n",
    "            face = match.group(1)\n",
    "            if face in FACES:\n",
    "                curFace = face\n",
    "\n",
    "        if columnPat.match(line):\n",
    "            if not line.startswith('@column '):\n",
    "                match = correctPat.match(line)\n",
    "                if match:\n",
    "                    colSpec = match.group(1)\n",
    "                    sep = match.group(2)\n",
    "                    colNum = match.group(3)\n",
    "                    line = f'@column {colNum}'\n",
    "                    print(f'GREP: corrected \"{colSpec}{sep}{colNum}\" => \"{line}\"')\n",
    "                else:\n",
    "                    print(f'GREP: found \"{line}\"')\n",
    "                \n",
    "            columns.append((period, tablet, ln, curFace, line.strip()))\n",
    "    return columns"
   ]
  },
  {
   "cell_type": "code",
   "execution_count": 83,
   "metadata": {
    "ExecuteTime": {
     "end_time": "2018-02-20T15:38:54.988880Z",
     "start_time": "2018-02-20T15:38:54.240281Z"
    }
   },
   "outputs": [
    {
     "name": "stdout",
     "output_type": "stream",
     "text": [
      "GREP: corrected \"columm 4\" => \"@column 4\"\n",
      "GREP: corrected \"column3\" => \"@column 3\"\n",
      "Number of results: TF 13123; GREP 13123\n",
      "IDENTICAL: all 13123 items\n",
      "=    : uruk-iii ◆ P006427 ◆ 5 ◆ obverse ◆ @column 1\n",
      "=    : uruk-iii ◆ P006427 ◆ 7 ◆ obverse ◆ @column 2\n",
      "=    : uruk-iii ◆ P006428 ◆ 15 ◆ obverse ◆ @column 1\n",
      "=    : uruk-iii ◆ P006428 ◆ 18 ◆ obverse ◆ @column 2\n",
      "=    : uruk-iii ◆ P006428 ◆ 21 ◆ obverse ◆ @column 3\n",
      "=    : uruk-iii ◆ P006428 ◆ 29 ◆ obverse ◆ @column 4\n",
      "=    : uruk-iii ◆ P006428 ◆ 32 ◆ obverse ◆ @column 5\n",
      "=    : uruk-iii ◆ P448701 ◆ 40 ◆ obverse ◆ @column 1\n",
      "=    : uruk-iii ◆ P448701 ◆ 43 ◆ obverse ◆ @column 2\n",
      "=    : uruk-iii ◆ P448702 ◆ 54 ◆ obverse ◆ @column 1\n",
      "=    : uruk-iii ◆ P448702 ◆ 60 ◆ obverse ◆ @column 2\n",
      "=    : uruk-iii ◆ P448702 ◆ 64 ◆ obverse ◆ @column 3\n",
      "=    : uruk-iii ◆ P448703 ◆ 75 ◆ obverse ◆ @column 1\n",
      "=    : uruk-iii ◆ P448703 ◆ 81 ◆ obverse ◆ @column 2\n",
      "=    : uruk-iii ◆ P471695 ◆ 91 ◆ obverse ◆ @column 1\n",
      "=    : uruk-iii ◆ P471695 ◆ 104 ◆ obverse ◆ @column 2\n",
      "=    : uruk-iii ◆ P482082 ◆ 118 ◆ obverse ◆ @column 1\n",
      "=    : uruk-iii ◆ P482083 ◆ 131 ◆ obverse ◆ @column 1\n",
      "=    : uruk-iii ◆ P482083 ◆ 138 ◆ obverse ◆ @column 2\n",
      "=    : uruk-iii ◆ P499393 ◆ 151 ◆ obverse ◆ @column 1\n",
      "=     and 13103 more\n"
     ]
    }
   ],
   "source": [
    "COMP.checkSanity(\n",
    "    grepColumns,\n",
    "    tfColumns,\n",
    ")"
   ]
  },
  {
   "cell_type": "markdown",
   "metadata": {},
   "source": [
    "## Lines\n",
    "\n",
    "We check whether we see the same line numbers with GREP and TF.\n",
    "\n",
    "During the conversion to TF we have detected bad numberings in some columns.\n",
    "We flag them here.\n",
    "\n",
    "See also"
   ]
  },
  {
   "cell_type": "code",
   "execution_count": 73,
   "metadata": {
    "ExecuteTime": {
     "end_time": "2018-02-20T15:28:02.615752Z",
     "start_time": "2018-02-20T15:28:02.581141Z"
    }
   },
   "outputs": [],
   "source": [
    "def tfColumns():\n",
    "    columns = []\n",
    "    for tablet in F.otype.s('tablet'):\n",
    "        tabletName = F.catalogId.v(tablet)\n",
    "        period = F.period.v(tablet)\n",
    "        for face in L.d(tablet, otype='face'):\n",
    "            tp = F.type.v(face)\n",
    "            for column in L.d(face, otype='column'):\n",
    "                number = F.number.v(column)\n",
    "                prime = F.prime.v(column)\n",
    "                ln = F.srcLnNum.v(column)\n",
    "                primeStr = \"'\" if prime else ''\n",
    "                if number != '0':\n",
    "                    columns.append((period, tabletName, ln, tp, f'@column {number}{primeStr}'))\n",
    "    return columns"
   ]
  },
  {
   "cell_type": "code",
   "execution_count": 82,
   "metadata": {
    "ExecuteTime": {
     "end_time": "2018-02-20T15:38:53.071199Z",
     "start_time": "2018-02-20T15:38:53.001796Z"
    }
   },
   "outputs": [],
   "source": [
    "def grepColumns(gen):\n",
    "    columns = []\n",
    "    columnPat = re.compile('^@col')\n",
    "    correctPat = re.compile('^@([a-z]+)(\\s*)(\\S*)')\n",
    "    curFace = NOFACE\n",
    "    prevTablet = None\n",
    "    for (period, tablet, ln, line, skip) in gen:\n",
    "        if skip:\n",
    "            continue\n",
    "        if tablet != prevTablet:\n",
    "            curFace = NOFACE\n",
    "        prevTablet = tablet\n",
    "\n",
    "        match = facePat.match(line)\n",
    "        if match:\n",
    "            face = match.group(1)\n",
    "            if face in FACES:\n",
    "                curFace = face\n",
    "\n",
    "        if columnPat.match(line):\n",
    "            if not line.startswith('@column '):\n",
    "                match = correctPat.match(line)\n",
    "                if match:\n",
    "                    colSpec = match.group(1)\n",
    "                    sep = match.group(2)\n",
    "                    colNum = match.group(3)\n",
    "                    line = f'@column {colNum}'\n",
    "                    print(f'GREP: corrected \"{colSpec}{sep}{colNum}\" => \"{line}\"')\n",
    "                else:\n",
    "                    print(f'GREP: found \"{line}\"')\n",
    "                \n",
    "            columns.append((period, tablet, ln, curFace, line.strip()))\n",
    "    return columns"
   ]
  },
  {
   "cell_type": "code",
   "execution_count": 83,
   "metadata": {
    "ExecuteTime": {
     "end_time": "2018-02-20T15:38:54.988880Z",
     "start_time": "2018-02-20T15:38:54.240281Z"
    }
   },
   "outputs": [
    {
     "name": "stdout",
     "output_type": "stream",
     "text": [
      "GREP: corrected \"columm 4\" => \"@column 4\"\n",
      "GREP: corrected \"column3\" => \"@column 3\"\n",
      "Number of results: TF 13123; GREP 13123\n",
      "IDENTICAL: all 13123 items\n",
      "=    : uruk-iii ◆ P006427 ◆ 5 ◆ obverse ◆ @column 1\n",
      "=    : uruk-iii ◆ P006427 ◆ 7 ◆ obverse ◆ @column 2\n",
      "=    : uruk-iii ◆ P006428 ◆ 15 ◆ obverse ◆ @column 1\n",
      "=    : uruk-iii ◆ P006428 ◆ 18 ◆ obverse ◆ @column 2\n",
      "=    : uruk-iii ◆ P006428 ◆ 21 ◆ obverse ◆ @column 3\n",
      "=    : uruk-iii ◆ P006428 ◆ 29 ◆ obverse ◆ @column 4\n",
      "=    : uruk-iii ◆ P006428 ◆ 32 ◆ obverse ◆ @column 5\n",
      "=    : uruk-iii ◆ P448701 ◆ 40 ◆ obverse ◆ @column 1\n",
      "=    : uruk-iii ◆ P448701 ◆ 43 ◆ obverse ◆ @column 2\n",
      "=    : uruk-iii ◆ P448702 ◆ 54 ◆ obverse ◆ @column 1\n",
      "=    : uruk-iii ◆ P448702 ◆ 60 ◆ obverse ◆ @column 2\n",
      "=    : uruk-iii ◆ P448702 ◆ 64 ◆ obverse ◆ @column 3\n",
      "=    : uruk-iii ◆ P448703 ◆ 75 ◆ obverse ◆ @column 1\n",
      "=    : uruk-iii ◆ P448703 ◆ 81 ◆ obverse ◆ @column 2\n",
      "=    : uruk-iii ◆ P471695 ◆ 91 ◆ obverse ◆ @column 1\n",
      "=    : uruk-iii ◆ P471695 ◆ 104 ◆ obverse ◆ @column 2\n",
      "=    : uruk-iii ◆ P482082 ◆ 118 ◆ obverse ◆ @column 1\n",
      "=    : uruk-iii ◆ P482083 ◆ 131 ◆ obverse ◆ @column 1\n",
      "=    : uruk-iii ◆ P482083 ◆ 138 ◆ obverse ◆ @column 2\n",
      "=    : uruk-iii ◆ P499393 ◆ 151 ◆ obverse ◆ @column 1\n",
      "=     and 13103 more\n"
     ]
    }
   ],
   "source": [
    "COMP.checkSanity(\n",
    "    grepColumns,\n",
    "    tfColumns,\n",
    ")"
   ]
  },
  {
   "cell_type": "markdown",
   "metadata": {},
   "source": [
    "## Graphemes"
   ]
  },
  {
   "cell_type": "markdown",
   "metadata": {},
   "source": [
    "Note that we have defined a function to produce a string value for a full grapheme, including \n",
    "repeats, primes, variants and modifiers.\n",
    "See [utils](utils.py).\n",
    "\n",
    "A complication is that there are missing line numbers in a few cases, \n",
    "so the usual grep pattern does not pick them up.\n",
    "\n",
    "There a lines that start with `[` and with `|`, so we have to take care we get them.\n",
    "\n",
    "There are also line numbers with a hyphen in it, such as `6-7`."
   ]
  },
  {
   "cell_type": "code",
   "execution_count": 9,
   "metadata": {
    "ExecuteTime": {
     "end_time": "2018-02-20T14:52:50.011857Z",
     "start_time": "2018-02-20T14:52:49.994291Z"
    }
   },
   "outputs": [],
   "source": [
    "lineNumPat = '^(?:(?:[a-zA-Z0-9.\\'-]+\\s+)|(?=[|\\[]))'"
   ]
  },
  {
   "cell_type": "markdown",
   "metadata": {},
   "source": [
    "### Primes\n",
    "\n",
    "First an overview of the occurrence of primes.\n",
    "\n",
    "**N.B.:** This is about primes on *signs*, not on *column* numbers."
   ]
  },
  {
   "cell_type": "code",
   "execution_count": 10,
   "metadata": {
    "ExecuteTime": {
     "end_time": "2018-02-20T14:52:51.606192Z",
     "start_time": "2018-02-20T14:52:51.584576Z"
    }
   },
   "outputs": [
    {
     "name": "stdout",
     "output_type": "stream",
     "text": [
      "    9 x 1\n"
     ]
    }
   ],
   "source": [
    "for (value, frequency) in F.prime.freqList():\n",
    "    print(f'{frequency:>5} x {value}')"
   ]
  },
  {
   "cell_type": "markdown",
   "metadata": {},
   "source": [
    "Now let us check the primes with grep, directly in the source files.\n",
    "We look into lines starting with a (hierarchical number), followed by space,\n",
    "and then later a single of double prime, but not one within a grapheme, such as `GA'AR`."
   ]
  },
  {
   "cell_type": "code",
   "execution_count": 11,
   "metadata": {
    "ExecuteTime": {
     "end_time": "2018-02-20T14:52:52.814986Z",
     "start_time": "2018-02-20T14:52:52.792812Z"
    }
   },
   "outputs": [],
   "source": [
    "def tfPrimes():\n",
    "    primes = []\n",
    "    for n in F.prime.s(1):\n",
    "        (tablet, column, line) = T.sectionFromNode(n)\n",
    "        t = L.u(n, otype='tablet')[0]\n",
    "        case = L.u(n, otype='case')[0]\n",
    "        \n",
    "        primes.append((F.period.v(t), tablet, F.srcLnNum.v(case), f\"{COMP.strFromSign(n)}\"))\n",
    "    return primes"
   ]
  },
  {
   "cell_type": "code",
   "execution_count": 13,
   "metadata": {
    "ExecuteTime": {
     "end_time": "2018-02-20T14:53:01.890858Z",
     "start_time": "2018-02-20T14:53:01.861385Z"
    }
   },
   "outputs": [],
   "source": [
    "def grepPrimes(gen):\n",
    "    primes = []\n",
    "    primePat = re.compile(f'{lineNumPat}(.*[\\'\"][^A].*)')\n",
    "    graphemePat = re.compile('(?:[0-9]+\\([^)]+[\\'\"]\\))|(?:[A-Z0-9~@a-wyz\\'-]+\\')')\n",
    "    for (period, tablet, ln, line, skip) in gen:\n",
    "        if skip:\n",
    "            continue\n",
    "        match = primePat.match(line)\n",
    "        if match:\n",
    "            material = match.group(1)\n",
    "            graphemes = graphemePat.findall(material)\n",
    "            for grapheme in graphemes:\n",
    "                primes.append((period, tablet, ln, grapheme))\n",
    "    return primes"
   ]
  },
  {
   "cell_type": "code",
   "execution_count": 14,
   "metadata": {
    "ExecuteTime": {
     "end_time": "2018-02-20T14:53:02.813492Z",
     "start_time": "2018-02-20T14:53:02.621310Z"
    }
   },
   "outputs": [
    {
     "name": "stdout",
     "output_type": "stream",
     "text": [
      "Number of results: TF 9; GREP 9\n",
      "DIFFERENT: first different item is at position 1 in the list\n",
      "TF   : uruk-iii ◆ P411604 ◆ 48967 ◆ 1(N24')\n",
      "GREP : uruk-iii ◆ P411604 ◆ 48967 ◆ 1(N24\")\n",
      "remaining items (TF: 8); GREP: 8\n",
      "=    : uruk-iii ◆ P411610 ◆ 49069 ◆ 1(N24')\n",
      "=    : uruk-iii ◆ P411610 ◆ 49071 ◆ 1(N24')\n",
      "=    : uruk-iii ◆ P411610 ◆ 49073 ◆ 1(N24')\n",
      "=    : uruk-iii ◆ P411610 ◆ 49075 ◆ 1(N24')\n",
      "=    : uruk-iii ◆ P411539 ◆ 49391 ◆ 1(N24')\n",
      "=    : uruk-iii ◆ P006437 ◆ 54446 ◆ 1(N30c')\n",
      "=    : uruk-iii ◆ P464140 ◆ 55938 ◆ 1(N24')\n",
      "=    : uruk-iii ◆ P464140 ◆ 55939 ◆ 1(N24')\n",
      "      no more items\n"
     ]
    }
   ],
   "source": [
    "COMP.checkSanity(\n",
    "    grepPrimes,\n",
    "    tfPrimes,\n",
    ")"
   ]
  },
  {
   "cell_type": "markdown",
   "metadata": {},
   "source": [
    "This makes it clear: in the transcription there is a strange double prime on the `N(24\")`."
   ]
  },
  {
   "cell_type": "markdown",
   "metadata": {},
   "source": [
    "### Variants\n",
    "\n",
    "Overview of variants:"
   ]
  },
  {
   "cell_type": "code",
   "execution_count": 15,
   "metadata": {
    "ExecuteTime": {
     "end_time": "2018-02-20T14:53:10.725542Z",
     "start_time": "2018-02-20T14:53:10.685151Z"
    }
   },
   "outputs": [
    {
     "name": "stdout",
     "output_type": "stream",
     "text": [
      "23843 x a\n",
      " 4214 x b\n",
      " 1534 x c\n",
      " 1356 x a1\n",
      "  703 x b1\n",
      "  194 x a2\n",
      "  191 x d\n",
      "  127 x b2\n",
      "   85 x f\n",
      "   73 x a3\n",
      "   40 x e\n",
      "   29 x c2\n",
      "   22 x c1\n",
      "   22 x c3\n",
      "   14 x c5\n",
      "   13 x b3\n",
      "   12 x a0\n",
      "   12 x d1\n",
      "   12 x v\n",
      "   11 x c4\n",
      "    6 x a4\n",
      "    6 x g\n",
      "    5 x d2\n",
      "    4 x d4\n",
      "    4 x h\n",
      "    2 x 3a\n",
      "    2 x d3\n",
      "    1 x h2\n"
     ]
    }
   ],
   "source": [
    "for (value, frequency) in F.variant.freqList():\n",
    "    print(f'{frequency:>5} x {value}')"
   ]
  },
  {
   "cell_type": "markdown",
   "metadata": {},
   "source": [
    "So there are many variants."
   ]
  },
  {
   "cell_type": "markdown",
   "metadata": {},
   "source": [
    "Again, we look for variants in the TF resource and by GREPping them from the sources."
   ]
  },
  {
   "cell_type": "code",
   "execution_count": 16,
   "metadata": {
    "ExecuteTime": {
     "end_time": "2018-02-20T14:53:13.274801Z",
     "start_time": "2018-02-20T14:53:13.225654Z"
    }
   },
   "outputs": [],
   "source": [
    "def tfVariants():\n",
    "    variants = []\n",
    "    for n in F.otype.s('sign'):\n",
    "        variant = F.variant.v(n)\n",
    "        if variant is None:\n",
    "            continue\n",
    "        (tablet, column, line) = T.sectionFromNode(n)\n",
    "        t = L.u(n, otype='tablet')[0]\n",
    "        case = L.u(n, otype='case')[0]\n",
    "        \n",
    "        position = (F.period.v(t), tablet, F.srcLnNum.v(case))\n",
    "        variants.append((*position, f\"{COMP.strFromSign(n)}\"))\n",
    "\n",
    "        written = F.written.v(n)\n",
    "        if written is not None:\n",
    "            if '~' in written:\n",
    "                variants.append((*position, written))\n",
    "\n",
    "    return variants"
   ]
  },
  {
   "cell_type": "markdown",
   "metadata": {},
   "source": [
    "There are complications.\n",
    "\n",
    "#### Order of modifiers and variants\n",
    "When we extract variants by GREP, we face the problem that the order between modifiers and variants is not consistent.\n",
    "We see cases of variant and then modifier:\n",
    "\n",
    "```\n",
    "3. 1(N14) 8(N01) , RAD~a@g ERIM~a SZU2 A?\n",
    "```\n",
    "\n",
    "and cases with modifier and then variant:\n",
    "\n",
    "```\n",
    "4. 2(N01) , URUDU@g~b SZU2#\n",
    "```\n",
    "\n",
    "both from the same tablet P003407.\n",
    "\n",
    "We will normalize the order of variant and modifier."
   ]
  },
  {
   "cell_type": "code",
   "execution_count": 19,
   "metadata": {
    "ExecuteTime": {
     "end_time": "2018-02-20T14:53:39.914622Z",
     "start_time": "2018-02-20T14:53:39.850307Z"
    }
   },
   "outputs": [],
   "source": [
    "def swap(match):\n",
    "    return f'{match.group(2)}{match.group(1)}'\n",
    "\n",
    "def lower(match):\n",
    "    return f'~{match.group(1).lower()}'\n",
    "\n",
    "def grepVariants(gen):\n",
    "    variants = []\n",
    "    variantPat = re.compile(f'{lineNumPat}(.*[~].*)')\n",
    "    varPat = re.compile('[~]([A-Z])')\n",
    "    graphemePat = re.compile('(?:[0-9]+\\([^)]+[~][^)]+\\))|(?:[A-Z0-9@a-wyz\\'-]+[~][0-9@a-wyz]+)')\n",
    "    combiPat = re.compile('(@[a-ywz0-9]+)(~[a-ywz0-9]+)')\n",
    "    for (period, tablet, ln, line, skip) in gen:\n",
    "        if skip:\n",
    "            continue\n",
    "        match = variantPat.match(line)\n",
    "        if match:\n",
    "            material = match.group(1)\n",
    "            material = varPat.sub(lower, material)\n",
    "            graphemes = graphemePat.findall(material)\n",
    "            for grapheme in graphemes:\n",
    "                grapheme = combiPat.sub(swap, grapheme)\n",
    "                variants.append((period, tablet, ln, grapheme))\n",
    "    return variants"
   ]
  },
  {
   "cell_type": "code",
   "execution_count": 20,
   "metadata": {
    "ExecuteTime": {
     "end_time": "2018-02-20T14:53:42.431265Z",
     "start_time": "2018-02-20T14:53:40.656086Z"
    }
   },
   "outputs": [
    {
     "name": "stdout",
     "output_type": "stream",
     "text": [
      "Number of results: TF 32452; GREP 32452\n",
      "IDENTICAL: all 32452 items\n",
      "=    : uruk-iii ◆ P006427 ◆ 8 ◆ SANGA~a\n",
      "=    : uruk-iii ◆ P006428 ◆ 26 ◆ DUG~b\n",
      "=    : uruk-iii ◆ P448701 ◆ 42 ◆ AB~a\n",
      "=    : uruk-iii ◆ P448701 ◆ 42 ◆ APIN~a\n",
      "=    : uruk-iii ◆ P448701 ◆ 42 ◆ NUN~a\n",
      "=    : uruk-iii ◆ P448701 ◆ 45 ◆ SZE~a\n",
      "=    : uruk-iii ◆ P448701 ◆ 45 ◆ NUN~a\n",
      "=    : uruk-iii ◆ P448702 ◆ 56 ◆ KA~a\n",
      "=    : uruk-iii ◆ P448702 ◆ 57 ◆ KASZ~b\n",
      "=    : uruk-iii ◆ P448702 ◆ 57 ◆ NUN~a\n",
      "=    : uruk-iii ◆ P448702 ◆ 58 ◆ KASZ~a\n",
      "=    : uruk-iii ◆ P448702 ◆ 59 ◆ 2(N39~a)\n",
      "=    : uruk-iii ◆ P471695 ◆ 92 ◆ APIN~a\n",
      "=    : uruk-iii ◆ P471695 ◆ 92 ◆ UR4~a\n",
      "=    : uruk-iii ◆ P471695 ◆ 93 ◆ EN~a\n",
      "=    : uruk-iii ◆ P471695 ◆ 94 ◆ BAN~b\n",
      "=    : uruk-iii ◆ P471695 ◆ 94 ◆ KASZ~c\n",
      "=    : uruk-iii ◆ P471695 ◆ 97 ◆ PAP~a\n",
      "=    : uruk-iii ◆ P471695 ◆ 100 ◆ EN~a\n",
      "=    : uruk-iii ◆ P471695 ◆ 100 ◆ EZINU~d\n",
      "=     and 32432 more\n"
     ]
    }
   ],
   "source": [
    "COMP.checkSanity(\n",
    "    grepVariants,\n",
    "    tfVariants,\n",
    ")"
   ]
  },
  {
   "cell_type": "code",
   "execution_count": null,
   "metadata": {},
   "outputs": [],
   "source": []
  }
 ],
 "metadata": {
  "kernelspec": {
   "display_name": "Python 3",
   "language": "python",
   "name": "python3"
  },
  "language_info": {
   "codemirror_mode": {
    "name": "ipython",
    "version": 3
   },
   "file_extension": ".py",
   "mimetype": "text/x-python",
   "name": "python",
   "nbconvert_exporter": "python",
   "pygments_lexer": "ipython3",
   "version": "3.6.4"
  },
  "toc": {
   "nav_menu": {},
   "number_sections": true,
   "sideBar": true,
   "skip_h1_title": true,
   "toc_cell": true,
   "toc_position": {},
   "toc_section_display": "block",
   "toc_window_display": false
  }
 },
 "nbformat": 4,
 "nbformat_minor": 2
}
