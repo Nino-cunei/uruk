{
 "cells": [
  {
   "cell_type": "markdown",
   "metadata": {
    "toc": true
   },
   "source": [
    "<h1>Table of Contents<span class=\"tocSkip\"></span></h1>\n",
    "<div class=\"toc\" style=\"margin-top: 1em;\"><ul class=\"toc-item\"><li><span><a href=\"#Tablets\" data-toc-modified-id=\"Tablets-1\"><span class=\"toc-item-num\">1&nbsp;&nbsp;</span>Tablets</a></span></li><li><span><a href=\"#Primes\" data-toc-modified-id=\"Primes-2\"><span class=\"toc-item-num\">2&nbsp;&nbsp;</span>Primes</a></span></li></ul></div>"
   ]
  },
  {
   "cell_type": "markdown",
   "metadata": {},
   "source": [
    "# Checks\n",
    "Various checks on the correctness of the transformation from ascii transcriptions to a text-fabric data set.\n",
    "\n",
    "We will perform *grep* commands on the source files, and we will traverse node in Text-Fabric and collect information.\n",
    "\n",
    "Then we compare these sets of information."
   ]
  },
  {
   "cell_type": "code",
   "execution_count": 1,
   "metadata": {
    "ExecuteTime": {
     "end_time": "2018-02-18T21:14:04.643180Z",
     "start_time": "2018-02-18T21:14:04.622934Z"
    }
   },
   "outputs": [],
   "source": [
    "import sys, os, collections, re\n",
    "from glob import glob\n",
    "from tf.fabric import Fabric\n",
    "from utils import Compare"
   ]
  },
  {
   "cell_type": "code",
   "execution_count": 2,
   "metadata": {
    "ExecuteTime": {
     "end_time": "2018-02-18T21:14:04.652803Z",
     "start_time": "2018-02-18T21:14:04.645991Z"
    }
   },
   "outputs": [],
   "source": [
    "REPO = '~/github/Dans-labs/nino-cunei'\n",
    "SOURCE = 'uruk'\n",
    "VERSION = '0.1'\n",
    "CORPUS = f'{REPO}/tf/{SOURCE}/{VERSION}'\n",
    "\n",
    "SOURCE_DIR = os.path.expanduser(f'{REPO}/sources/cdli')\n",
    "\n",
    "TEMP_DIR = os.path.expanduser(f'{REPO}/_temp')"
   ]
  },
  {
   "cell_type": "code",
   "execution_count": 3,
   "metadata": {
    "ExecuteTime": {
     "end_time": "2018-02-18T21:14:04.666221Z",
     "start_time": "2018-02-18T21:14:04.655789Z"
    }
   },
   "outputs": [
    {
     "name": "stdout",
     "output_type": "stream",
     "text": [
      "This is Text-Fabric 3.1.5\n",
      "Api reference : https://github.com/Dans-labs/text-fabric/wiki/Api\n",
      "Tutorial      : https://github.com/Dans-labs/text-fabric/blob/master/docs/tutorial.ipynb\n",
      "Example data  : https://github.com/Dans-labs/text-fabric-data\n",
      "\n",
      "24 features found and 0 ignored\n"
     ]
    }
   ],
   "source": [
    "TF = Fabric(locations=[CORPUS], modules=[''], silent=False )\n",
    "COMP = Compare(SOURCE_DIR)"
   ]
  },
  {
   "cell_type": "code",
   "execution_count": 4,
   "metadata": {
    "ExecuteTime": {
     "end_time": "2018-02-18T21:14:05.549482Z",
     "start_time": "2018-02-18T21:14:04.669237Z"
    }
   },
   "outputs": [
    {
     "name": "stdout",
     "output_type": "stream",
     "text": [
      "  0.00s loading features ...\n",
      "   |     0.00s B catalogId            from /Users/dirk/github/Dans-labs/nino-cunei/tf/uruk/0.1\n",
      "   |     0.01s B number               from /Users/dirk/github/Dans-labs/nino-cunei/tf/uruk/0.1\n",
      "   |     0.05s B grapheme             from /Users/dirk/github/Dans-labs/nino-cunei/tf/uruk/0.1\n",
      "   |     0.04s B srcLn                from /Users/dirk/github/Dans-labs/nino-cunei/tf/uruk/0.1\n",
      "   |     0.02s B srcLnNum             from /Users/dirk/github/Dans-labs/nino-cunei/tf/uruk/0.1\n",
      "   |     0.00s B prime                from /Users/dirk/github/Dans-labs/nino-cunei/tf/uruk/0.1\n",
      "   |     0.01s B variant              from /Users/dirk/github/Dans-labs/nino-cunei/tf/uruk/0.1\n",
      "   |     0.00s B modifier             from /Users/dirk/github/Dans-labs/nino-cunei/tf/uruk/0.1\n",
      "   |     0.01s B damage               from /Users/dirk/github/Dans-labs/nino-cunei/tf/uruk/0.1\n",
      "   |     0.00s B uncertain            from /Users/dirk/github/Dans-labs/nino-cunei/tf/uruk/0.1\n",
      "   |     0.00s B remarkable           from /Users/dirk/github/Dans-labs/nino-cunei/tf/uruk/0.1\n",
      "   |     0.00s B written              from /Users/dirk/github/Dans-labs/nino-cunei/tf/uruk/0.1\n",
      "   |     0.00s B name                 from /Users/dirk/github/Dans-labs/nino-cunei/tf/uruk/0.1\n",
      "   |     0.00s B period               from /Users/dirk/github/Dans-labs/nino-cunei/tf/uruk/0.1\n",
      "   |     0.00s B op                   from /Users/dirk/github/Dans-labs/nino-cunei/tf/uruk/0.1\n",
      "   |     0.01s B comments             from /Users/dirk/github/Dans-labs/nino-cunei/tf/uruk/0.1\n",
      "   |     0.00s Feature overview: 19 for nodes; 4 for edges; 1 configs; 7 computed\n",
      "  0.88s All features loaded/computed - for details use loadLog()\n"
     ]
    }
   ],
   "source": [
    "api = TF.load('''\n",
    "    grapheme prime variant modifier\n",
    "    damage uncertain remarkable written\n",
    "    name number catalogId period\n",
    "    srcLn srcLnNum\n",
    "    op comments\n",
    "''')\n",
    "api.makeAvailableIn(globals())"
   ]
  },
  {
   "cell_type": "markdown",
   "metadata": {},
   "source": [
    "## Tablets\n",
    "We check whether we have the same set of tablet numbers.\n",
    "In TF, the tablet number is stored in the feature `catalogId`.\n",
    "\n",
    "--to be done --"
   ]
  },
  {
   "cell_type": "markdown",
   "metadata": {},
   "source": [
    "# Graphemes"
   ]
  },
  {
   "cell_type": "markdown",
   "metadata": {},
   "source": [
    "## Primes"
   ]
  },
  {
   "cell_type": "code",
   "execution_count": 5,
   "metadata": {
    "ExecuteTime": {
     "end_time": "2018-02-18T21:14:05.567132Z",
     "start_time": "2018-02-18T21:14:05.553151Z"
    }
   },
   "outputs": [
    {
     "data": {
      "text/plain": [
       "((1, 9),)"
      ]
     },
     "execution_count": 5,
     "metadata": {},
     "output_type": "execute_result"
    }
   ],
   "source": [
    "F.prime.freqList()"
   ]
  },
  {
   "cell_type": "markdown",
   "metadata": {},
   "source": [
    "So there are very few graphemes with a prime. Which are they?"
   ]
  },
  {
   "cell_type": "markdown",
   "metadata": {},
   "source": [
    "Now let us check the primes with grep, directly in the source files.\n",
    "We look into lines starting with a (hierarchical number), followed by space,\n",
    "and then later a single of double prime, but not one within a grapheme, such as `GA'AR`."
   ]
  },
  {
   "cell_type": "code",
   "execution_count": 6,
   "metadata": {
    "ExecuteTime": {
     "end_time": "2018-02-18T21:14:05.633632Z",
     "start_time": "2018-02-18T21:14:05.626112Z"
    }
   },
   "outputs": [],
   "source": [
    "def getPrimes():\n",
    "    for n in F.prime.s(1):\n",
    "        (tablet, column, line) = T.sectionFromNode(n)\n",
    "        t = L.u(n, otype='tablet')[0]\n",
    "        case = L.u(n, otype='case')[0]\n",
    "        yield f'{F.period.v(t)} {F.srcLnNum.v(case)}: {F.srcLn.v(case)}'"
   ]
  },
  {
   "cell_type": "code",
   "execution_count": 7,
   "metadata": {
    "ExecuteTime": {
     "end_time": "2018-02-18T21:14:05.789966Z",
     "start_time": "2018-02-18T21:14:05.636550Z"
    }
   },
   "outputs": [
    {
     "name": "stdout",
     "output_type": "stream",
     "text": [
      "Number of results: TF 9; GREP 9\n",
      "DIFFERENT\n",
      "----\n",
      "TF\n",
      "----\n",
      "\n",
      "uruk-iii 48967: 3.b. 3(N41) 1(N24\")# , [TAR~a] \n",
      "uruk-iii 49069: 1.b. [1(N40)?] 1(N24') , \n",
      "uruk-iii 49071: 2.b. 1(N40) 1(N24') , \n",
      "uruk-iii 49073: 3.b. 1(N40) 1(N24')# , \n",
      "uruk-iii 49075: 4.b. [1(N40) 1(N24')] , \n",
      "uruk-iii 49391: 1. [...] 1(N24')# , \n",
      "uruk-iii 54446: 1.b. 1(N30c') , \n",
      "uruk-iii 55938: 5.a'. 5(N03) 2(N40) 1(N24') 1(N30~a) , \n",
      "uruk-iii 55939: 5.b'. 1(N03) 4(N40) 1(N24') DUB~a 1(N30~a) , \n",
      "----\n",
      "GREP\n",
      "----\n",
      "\n",
      "uruk-iii 48967: 3.b. 3(N41) 1(N24\")# , [TAR~a] \n",
      "uruk-iii 49069: 1.b. [1(N40)?] 1(N24') , \n",
      "uruk-iii 49071: 2.b. 1(N40) 1(N24') , \n",
      "uruk-iii 49073: 3.b. 1(N40) 1(N24')# , \n",
      "uruk-iii 49075: 4.b. [1(N40) 1(N24')] , \n",
      "uruk-iii 49391: 1. [...] 1(N24')# , \n",
      "uruk-iii 54446: 1.b. 1(N30c') , \n",
      "uruk-iii 55938: 5.a'. 5(N03) 2(N40) 1(N24') 1(N30~a) , \n",
      "uruk-iii 55939: 5.b'. 1(N03) 4(N40) 1(N24') DUB~a 1(N30~a) , \n"
     ]
    }
   ],
   "source": [
    "COMP.checkSanity(\n",
    "    '^[a-zA-Z0-9.\\']+\\s+.*[\\'\"][^A]',\n",
    "    getPrimes,\n",
    ")"
   ]
  },
  {
   "cell_type": "code",
   "execution_count": null,
   "metadata": {},
   "outputs": [],
   "source": []
  }
 ],
 "metadata": {
  "kernelspec": {
   "display_name": "Python 3",
   "language": "python",
   "name": "python3"
  },
  "language_info": {
   "codemirror_mode": {
    "name": "ipython",
    "version": 3
   },
   "file_extension": ".py",
   "mimetype": "text/x-python",
   "name": "python",
   "nbconvert_exporter": "python",
   "pygments_lexer": "ipython3",
   "version": "3.6.4"
  },
  "toc": {
   "nav_menu": {},
   "number_sections": true,
   "sideBar": true,
   "skip_h1_title": true,
   "toc_cell": true,
   "toc_position": {},
   "toc_section_display": "block",
   "toc_window_display": false
  }
 },
 "nbformat": 4,
 "nbformat_minor": 2
}
