{
 "cells": [
  {
   "cell_type": "markdown",
   "metadata": {
    "toc": true
   },
   "source": [
    "<h1>Table of Contents<span class=\"tocSkip\"></span></h1>\n",
    "<div class=\"toc\" style=\"margin-top: 1em;\"><ul class=\"toc-item\"><li><span><a href=\"#Tablets\" data-toc-modified-id=\"Tablets-1\"><span class=\"toc-item-num\">1&nbsp;&nbsp;</span>Tablets</a></span></li><li><span><a href=\"#Graphemes\" data-toc-modified-id=\"Graphemes-2\"><span class=\"toc-item-num\">2&nbsp;&nbsp;</span>Graphemes</a></span><ul class=\"toc-item\"><li><span><a href=\"#Primes\" data-toc-modified-id=\"Primes-2.1\"><span class=\"toc-item-num\">2.1&nbsp;&nbsp;</span>Primes</a></span></li><li><span><a href=\"#Variants\" data-toc-modified-id=\"Variants-2.2\"><span class=\"toc-item-num\">2.2&nbsp;&nbsp;</span>Variants</a></span></li></ul></li></ul></div>"
   ]
  },
  {
   "cell_type": "markdown",
   "metadata": {},
   "source": [
    "# Checks\n",
    "Various checks on the correctness of the transformation from ascii transcriptions to a text-fabric data set.\n",
    "\n",
    "We will perform *grep* commands on the source files, and we will traverse node in Text-Fabric and collect information.\n",
    "\n",
    "Then we compare these sets of information."
   ]
  },
  {
   "cell_type": "code",
   "execution_count": 16,
   "metadata": {
    "ExecuteTime": {
     "end_time": "2018-02-19T20:50:41.908578Z",
     "start_time": "2018-02-19T20:50:41.902010Z"
    }
   },
   "outputs": [],
   "source": [
    "import sys, os, collections, re\n",
    "from glob import glob\n",
    "from tf.fabric import Fabric\n",
    "from utils import Compare"
   ]
  },
  {
   "cell_type": "code",
   "execution_count": 17,
   "metadata": {
    "ExecuteTime": {
     "end_time": "2018-02-19T20:50:42.606398Z",
     "start_time": "2018-02-19T20:50:42.598501Z"
    }
   },
   "outputs": [],
   "source": [
    "REPO = '~/github/Dans-labs/nino-cunei'\n",
    "SOURCE = 'uruk'\n",
    "VERSION = '0.1'\n",
    "CORPUS = f'{REPO}/tf/{SOURCE}/{VERSION}'\n",
    "SOURCE_DIR = os.path.expanduser(f'{REPO}/sources/cdli')\n",
    "TEMP_DIR = os.path.expanduser(f'{REPO}/_temp')"
   ]
  },
  {
   "cell_type": "code",
   "execution_count": 18,
   "metadata": {
    "ExecuteTime": {
     "end_time": "2018-02-19T20:50:43.438083Z",
     "start_time": "2018-02-19T20:50:43.426225Z"
    }
   },
   "outputs": [
    {
     "name": "stdout",
     "output_type": "stream",
     "text": [
      "This is Text-Fabric 3.2.0\n",
      "Api reference : https://github.com/Dans-labs/text-fabric/wiki/Api\n",
      "Tutorial      : https://github.com/Dans-labs/text-fabric/blob/master/docs/tutorial.ipynb\n",
      "Example data  : https://github.com/Dans-labs/text-fabric-data\n",
      "\n",
      "25 features found and 0 ignored\n"
     ]
    }
   ],
   "source": [
    "TF = Fabric(locations=[CORPUS], modules=[''], silent=False )"
   ]
  },
  {
   "cell_type": "code",
   "execution_count": 19,
   "metadata": {
    "ExecuteTime": {
     "end_time": "2018-02-19T20:50:45.621501Z",
     "start_time": "2018-02-19T20:50:44.611915Z"
    }
   },
   "outputs": [
    {
     "name": "stdout",
     "output_type": "stream",
     "text": [
      "  0.00s loading features ...\n",
      "   |     0.00s B catalogId            from /Users/dirk/github/Dans-labs/nino-cunei/tf/uruk/0.1\n",
      "   |     0.02s B number               from /Users/dirk/github/Dans-labs/nino-cunei/tf/uruk/0.1\n",
      "   |     0.06s B grapheme             from /Users/dirk/github/Dans-labs/nino-cunei/tf/uruk/0.1\n",
      "   |     0.05s B srcLn                from /Users/dirk/github/Dans-labs/nino-cunei/tf/uruk/0.1\n",
      "   |     0.03s B srcLnNum             from /Users/dirk/github/Dans-labs/nino-cunei/tf/uruk/0.1\n",
      "   |     0.00s B prime                from /Users/dirk/github/Dans-labs/nino-cunei/tf/uruk/0.1\n",
      "   |     0.01s B variant              from /Users/dirk/github/Dans-labs/nino-cunei/tf/uruk/0.1\n",
      "   |     0.00s B modifier             from /Users/dirk/github/Dans-labs/nino-cunei/tf/uruk/0.1\n",
      "   |     0.01s B repeat               from /Users/dirk/github/Dans-labs/nino-cunei/tf/uruk/0.1\n",
      "   |     0.01s B damage               from /Users/dirk/github/Dans-labs/nino-cunei/tf/uruk/0.1\n",
      "   |     0.00s B uncertain            from /Users/dirk/github/Dans-labs/nino-cunei/tf/uruk/0.1\n",
      "   |     0.00s B remarkable           from /Users/dirk/github/Dans-labs/nino-cunei/tf/uruk/0.1\n",
      "   |     0.00s B written              from /Users/dirk/github/Dans-labs/nino-cunei/tf/uruk/0.1\n",
      "   |     0.01s B name                 from /Users/dirk/github/Dans-labs/nino-cunei/tf/uruk/0.1\n",
      "   |     0.01s B period               from /Users/dirk/github/Dans-labs/nino-cunei/tf/uruk/0.1\n",
      "   |     0.00s B op                   from /Users/dirk/github/Dans-labs/nino-cunei/tf/uruk/0.1\n",
      "   |     0.02s B comments             from /Users/dirk/github/Dans-labs/nino-cunei/tf/uruk/0.1\n",
      "   |     0.00s Feature overview: 20 for nodes; 4 for edges; 1 configs; 7 computed\n",
      "  1.00s All features loaded/computed - for details use loadLog()\n"
     ]
    }
   ],
   "source": [
    "api = TF.load('''\n",
    "    grapheme prime variant modifier repeat\n",
    "    damage uncertain remarkable written\n",
    "    name number catalogId period\n",
    "    srcLn srcLnNum\n",
    "    op comments\n",
    "''')\n",
    "api.makeAvailableIn(globals())\n",
    "COMP = Compare(api, SOURCE_DIR, TEMP_DIR)"
   ]
  },
  {
   "cell_type": "markdown",
   "metadata": {},
   "source": [
    "## Tablets\n",
    "We check whether we have the same sequence of tablet numbers.\n",
    "In TF, the tablet number is stored in the feature `catalogId`.\n",
    "\n",
    "Note that we also check on the order of the tablets."
   ]
  },
  {
   "cell_type": "code",
   "execution_count": 20,
   "metadata": {
    "ExecuteTime": {
     "end_time": "2018-02-19T20:50:49.474581Z",
     "start_time": "2018-02-19T20:50:49.437531Z"
    }
   },
   "outputs": [],
   "source": [
    "def tfTablets():\n",
    "    tablets = []\n",
    "    for t in F.otype.s('tablet'):\n",
    "        (tablet, column, line) = T.sectionFromNode(t)\n",
    "        tablets.append((F.period.v(t), F.srcLnNum.v(t), F.catalogId.v(t)))\n",
    "    return tablets\n",
    "\n",
    "def grepTablets(gen):\n",
    "    tablets = set()\n",
    "    tabletOccs = []\n",
    "    tabletPat = re.compile('^&([^ =]+)')\n",
    "    for (period, ln, line) in gen:\n",
    "        match = tabletPat.match(line)\n",
    "        if match:\n",
    "            tablet = match.group(1)\n",
    "            if tablet in tablets:\n",
    "                print(f'WARNING: duplicate tablet {tablet}: {period}:{ln} {line}')\n",
    "            else:\n",
    "                tablets.add(tablet)\n",
    "                tabletOccs.append((period, ln, tablet))\n",
    "    return tabletOccs"
   ]
  },
  {
   "cell_type": "code",
   "execution_count": 21,
   "metadata": {
    "ExecuteTime": {
     "end_time": "2018-02-19T20:50:50.872120Z",
     "start_time": "2018-02-19T20:50:50.569914Z"
    }
   },
   "outputs": [
    {
     "name": "stdout",
     "output_type": "stream",
     "text": [
      "WARNING: duplicate tablet P002176: uruk-iii:4599 &P002176 = ATU 6, pl. 51, W 14731,ag8 \n",
      "WARNING: duplicate tablet P252175: uruk-iii:72230 &P252175 = MS 3164 \n",
      "Number of results: TF 6396; GREP 6396\n",
      "IDENTICAL: all 6396 items\n",
      "=    : uruk-iii ◆ 1 ◆ P006427\n",
      "=    : uruk-iii ◆ 11 ◆ P006428\n",
      "=    : uruk-iii ◆ 36 ◆ P448701\n",
      "=    : uruk-iii ◆ 50 ◆ P448702\n",
      "=    : uruk-iii ◆ 71 ◆ P448703\n",
      "=    : uruk-iii ◆ 87 ◆ P471695\n",
      "=    : uruk-iii ◆ 114 ◆ P482082\n",
      "=    : uruk-iii ◆ 127 ◆ P482083\n",
      "=    : uruk-iii ◆ 147 ◆ P499393\n",
      "=    : uruk-iii ◆ 166 ◆ P504412\n",
      "=    : uruk-iii ◆ 189 ◆ P504413\n",
      "=    : uruk-iii ◆ 199 ◆ P006438\n",
      "=    : uruk-iii ◆ 220 ◆ P000014\n",
      "=    : uruk-iii ◆ 297 ◆ P000456\n",
      "=    : uruk-iii ◆ 326 ◆ P002718\n",
      "=    : uruk-iii ◆ 341 ◆ P000021\n",
      "=    : uruk-iii ◆ 374 ◆ P000023\n",
      "=    : uruk-iii ◆ 403 ◆ P000025\n",
      "=    : uruk-iii ◆ 500 ◆ P000167\n",
      "=    : uruk-iii ◆ 531 ◆ P000453\n",
      "=     and 6376 more\n"
     ]
    }
   ],
   "source": [
    "COMP.checkSanity(\n",
    "    grepTablets,\n",
    "    tfTablets,\n",
    ")"
   ]
  },
  {
   "cell_type": "markdown",
   "metadata": {},
   "source": [
    "## Graphemes"
   ]
  },
  {
   "cell_type": "markdown",
   "metadata": {},
   "source": [
    "Note that we have defined a function to produce a string value for a full grapheme, including \n",
    "repeats, primes, variants and modifiers.\n",
    "See [utils](utils.py).\n",
    "\n",
    "A complication is that there are missing line numbers in a few cases, \n",
    "so the usual grep pattern does not pick them up.\n",
    "\n",
    "There a lines that start with `[` and with `|`, so we have to take care we get them.\n",
    "\n",
    "There are also line numbers with a hyphen in it, such as `6-7`."
   ]
  },
  {
   "cell_type": "code",
   "execution_count": 22,
   "metadata": {
    "ExecuteTime": {
     "end_time": "2018-02-19T20:50:53.346456Z",
     "start_time": "2018-02-19T20:50:53.343423Z"
    }
   },
   "outputs": [],
   "source": [
    "lineNumPat = '^(?:(?:[a-zA-Z0-9.\\'-]+\\s+)|(?=[|\\[]))'"
   ]
  },
  {
   "cell_type": "markdown",
   "metadata": {},
   "source": [
    "### Primes\n",
    "\n",
    "First an overview of the occurrence of primes.\n",
    "\n",
    "**N.B.:** This is about primes on *signs*, not on *column* numbers."
   ]
  },
  {
   "cell_type": "code",
   "execution_count": 23,
   "metadata": {
    "ExecuteTime": {
     "end_time": "2018-02-19T20:50:54.855447Z",
     "start_time": "2018-02-19T20:50:54.848249Z"
    }
   },
   "outputs": [
    {
     "name": "stdout",
     "output_type": "stream",
     "text": [
      "    9 x 1\n"
     ]
    }
   ],
   "source": [
    "for (value, frequency) in F.prime.freqList():\n",
    "    print(f'{frequency:>5} x {value}')"
   ]
  },
  {
   "cell_type": "markdown",
   "metadata": {},
   "source": [
    "Now let us check the primes with grep, directly in the source files.\n",
    "We look into lines starting with a (hierarchical number), followed by space,\n",
    "and then later a single of double prime, but not one within a grapheme, such as `GA'AR`."
   ]
  },
  {
   "cell_type": "code",
   "execution_count": 24,
   "metadata": {
    "ExecuteTime": {
     "end_time": "2018-02-19T20:50:56.744934Z",
     "start_time": "2018-02-19T20:50:56.733343Z"
    }
   },
   "outputs": [],
   "source": [
    "def tfPrimes():\n",
    "    primes = []\n",
    "    for n in F.prime.s(1):\n",
    "        (tablet, column, line) = T.sectionFromNode(n)\n",
    "        t = L.u(n, otype='tablet')[0]\n",
    "        case = L.u(n, otype='case')[0]\n",
    "        \n",
    "        primes.append((F.period.v(t), F.srcLnNum.v(case), f\"{COMP.strFromSign(n)}\"))\n",
    "    return primes"
   ]
  },
  {
   "cell_type": "code",
   "execution_count": 25,
   "metadata": {
    "ExecuteTime": {
     "end_time": "2018-02-19T20:50:57.524520Z",
     "start_time": "2018-02-19T20:50:57.509894Z"
    }
   },
   "outputs": [],
   "source": [
    "def grepPrimes(gen):\n",
    "    primes = []\n",
    "    primePat = re.compile(f'{lineNumPat}(.*[\\'\"][^A].*)')\n",
    "    graphemePat = re.compile('(?:[0-9]+\\([^)]+[\\'\"]\\))|(?:[A-Z0-9~@a-wyz\\']+\\')')\n",
    "    for (period, ln, line) in gen:\n",
    "        match = primePat.match(line)\n",
    "        if match:\n",
    "            material = match.group(1)\n",
    "            graphemes = graphemePat.findall(material)\n",
    "            for grapheme in graphemes:\n",
    "                primes.append((period, ln, grapheme))\n",
    "    return primes"
   ]
  },
  {
   "cell_type": "code",
   "execution_count": 26,
   "metadata": {
    "ExecuteTime": {
     "end_time": "2018-02-19T20:50:58.678242Z",
     "start_time": "2018-02-19T20:50:58.520258Z"
    }
   },
   "outputs": [
    {
     "name": "stdout",
     "output_type": "stream",
     "text": [
      "Number of results: TF 9; GREP 9\n",
      "DIFFERENT: first different item is at 1\n",
      "TF   : uruk-iii ◆ 48967 ◆ 1(N24')\n",
      "GREP : uruk-iii ◆ 48967 ◆ 1(N24\")\n",
      "remaining items (TF: 8); GREP: 8\n",
      "=    : uruk-iii ◆ 49069 ◆ 1(N24')\n",
      "=    : uruk-iii ◆ 49071 ◆ 1(N24')\n",
      "=    : uruk-iii ◆ 49073 ◆ 1(N24')\n",
      "=    : uruk-iii ◆ 49075 ◆ 1(N24')\n",
      "=    : uruk-iii ◆ 49391 ◆ 1(N24')\n",
      "=    : uruk-iii ◆ 54446 ◆ 1(N30c')\n",
      "=    : uruk-iii ◆ 55938 ◆ 1(N24')\n",
      "=    : uruk-iii ◆ 55939 ◆ 1(N24')\n",
      "      no more items\n"
     ]
    }
   ],
   "source": [
    "COMP.checkSanity(\n",
    "    grepPrimes,\n",
    "    tfPrimes,\n",
    ")"
   ]
  },
  {
   "cell_type": "markdown",
   "metadata": {},
   "source": [
    "This makes it clear: in the transcription there is a strange double prime on the `N(24\")`."
   ]
  },
  {
   "cell_type": "markdown",
   "metadata": {},
   "source": [
    "### Variants\n",
    "\n",
    "Overview of variants:"
   ]
  },
  {
   "cell_type": "code",
   "execution_count": 27,
   "metadata": {
    "ExecuteTime": {
     "end_time": "2018-02-19T20:51:00.781890Z",
     "start_time": "2018-02-19T20:51:00.747095Z"
    }
   },
   "outputs": [
    {
     "name": "stdout",
     "output_type": "stream",
     "text": [
      "23839 x a\n",
      " 4213 x b\n",
      " 1534 x c\n",
      " 1356 x a1\n",
      "  703 x b1\n",
      "  194 x a2\n",
      "  191 x d\n",
      "  127 x b2\n",
      "   85 x f\n",
      "   73 x a3\n",
      "   40 x e\n",
      "   29 x c2\n",
      "   22 x c1\n",
      "   22 x c3\n",
      "   14 x c5\n",
      "   13 x b3\n",
      "   12 x a0\n",
      "   12 x d1\n",
      "   12 x v\n",
      "   11 x c4\n",
      "    6 x a4\n",
      "    6 x g\n",
      "    5 x d2\n",
      "    4 x d4\n",
      "    4 x h\n",
      "    2 x 3a\n",
      "    2 x d3\n",
      "    1 x h2\n"
     ]
    }
   ],
   "source": [
    "for (value, frequency) in F.variant.freqList():\n",
    "    print(f'{frequency:>5} x {value}')"
   ]
  },
  {
   "cell_type": "markdown",
   "metadata": {},
   "source": [
    "So there are many variants."
   ]
  },
  {
   "cell_type": "markdown",
   "metadata": {},
   "source": [
    "Again, we look for variants in the TF resource and by GREPping them from the sources."
   ]
  },
  {
   "cell_type": "code",
   "execution_count": 28,
   "metadata": {
    "ExecuteTime": {
     "end_time": "2018-02-19T20:51:06.719187Z",
     "start_time": "2018-02-19T20:51:06.686238Z"
    }
   },
   "outputs": [],
   "source": [
    "def tfVariants():\n",
    "    variants = []\n",
    "    for n in F.otype.s('sign'):\n",
    "        variant = F.variant.v(n)\n",
    "        if variant is None:\n",
    "            continue\n",
    "        (tablet, column, line) = T.sectionFromNode(n)\n",
    "        t = L.u(n, otype='tablet')[0]\n",
    "        case = L.u(n, otype='case')[0]\n",
    "        \n",
    "        variants.append((F.period.v(t), F.srcLnNum.v(case), f\"{COMP.strFromSign(n)}\"))\n",
    "        written = F.written.v(n)\n",
    "        if written is not None:\n",
    "            if '~' in written:\n",
    "                variants.append((F.period.v(t), F.srcLnNum.v(case), written))\n",
    "\n",
    "    return variants"
   ]
  },
  {
   "cell_type": "markdown",
   "metadata": {},
   "source": [
    "There are complications.\n",
    "\n",
    "#### Order of modifiers and variants\n",
    "When we extract variants by GREP, we face the problem that the order between modifiers and variants is not consistent.\n",
    "We see cases of variant and then modifier:\n",
    "\n",
    "```\n",
    "3. 1(N14) 8(N01) , RAD~a@g ERIM~a SZU2 A?\n",
    "```\n",
    "\n",
    "and cases with modifier and then variant:\n",
    "\n",
    "```\n",
    "4. 2(N01) , URUDU@g~b SZU2#\n",
    "```\n",
    "\n",
    "both from the same tablet P003407.\n",
    "\n",
    "We will normalize the order of variant and modifier."
   ]
  },
  {
   "cell_type": "code",
   "execution_count": 29,
   "metadata": {
    "ExecuteTime": {
     "end_time": "2018-02-19T20:51:08.127058Z",
     "start_time": "2018-02-19T20:51:08.094633Z"
    }
   },
   "outputs": [],
   "source": [
    "def swap(match):\n",
    "    return f'{match.group(2)}{match.group(1)}'\n",
    "\n",
    "def lower(match):\n",
    "    return f'~{match.group(1).lower()}'\n",
    "\n",
    "def grepVariants(gen):\n",
    "    variants = []\n",
    "    variantPat = re.compile(f'{lineNumPat}(.*[~].*)')\n",
    "    varPat = re.compile('[~]([A-Z])')\n",
    "    graphemePat = re.compile('(?:[0-9]+\\([^)]+[~][^)]+\\))|(?:[A-Z0-9@a-wyz\\']+[~][0-9@a-wyz]+)')\n",
    "    combiPat = re.compile('(@[a-ywz0-9]+)(~[a-ywz0-9]+)')\n",
    "    for (period, ln, line) in gen:\n",
    "        match = variantPat.match(line)\n",
    "        if match:\n",
    "            material = match.group(1)\n",
    "            material = varPat.sub(lower, material)\n",
    "            graphemes = graphemePat.findall(material)\n",
    "            for grapheme in graphemes:\n",
    "                grapheme = combiPat.sub(swap, grapheme)\n",
    "                variants.append((period, ln, grapheme))\n",
    "    return variants"
   ]
  },
  {
   "cell_type": "code",
   "execution_count": 30,
   "metadata": {
    "ExecuteTime": {
     "end_time": "2018-02-19T20:51:10.613156Z",
     "start_time": "2018-02-19T20:51:08.938335Z"
    }
   },
   "outputs": [
    {
     "name": "stdout",
     "output_type": "stream",
     "text": [
      "Number of results: TF 32447; GREP 32455\n",
      "DIFFERENT: first different item is at 14156\n",
      "=     start with 14135 items\n",
      "=    : uruk-iii ◆ 53752 ◆ 2(N42~a)\n",
      "=    : uruk-iii ◆ 53752 ◆ HI~a@g\n",
      "=    : uruk-iii ◆ 53753 ◆ 1(N29~a)\n",
      "=    : uruk-iii ◆ 53753 ◆ SZE~a\n",
      "=    : uruk-iii ◆ 53767 ◆ DA~a\n",
      "=    : uruk-iii ◆ 53767 ◆ SZE~a\n",
      "=    : uruk-iii ◆ 53768 ◆ KU6~a\n",
      "=    : uruk-iii ◆ 53768 ◆ KISAL~b1\n",
      "=    : uruk-iii ◆ 53768 ◆ SZE~a\n",
      "=    : uruk-iii ◆ 53768 ◆ UR5~a\n",
      "=    : uruk-iii ◆ 53769 ◆ NUNUZ~a1\n",
      "=    : uruk-iii ◆ 53770 ◆ ZI~a\n",
      "=    : uruk-iii ◆ 53771 ◆ GIR~b@g\n",
      "=    : uruk-iii ◆ 53771 ◆ NIM~b1\n",
      "=    : uruk-iii ◆ 53771 ◆ UNUG~a\n",
      "=    : uruk-iii ◆ 53782 ◆ EN~a\n",
      "=    : uruk-iii ◆ 53782 ◆ NUN~b\n",
      "=    : uruk-iii ◆ 53783 ◆ DU6~b\n",
      "=    : uruk-iii ◆ 53785 ◆ DU8~c\n",
      "=    : uruk-iii ◆ 53791 ◆ DU8~c\n",
      "TF   : uruk-iii ◆ 53812 ◆ E2~a\n",
      "GREP : uruk-iii ◆ 53811 ◆ DU8~c\n",
      "remaining items (TF: 18291); GREP: 18299\n",
      "TF   : uruk-iii ◆ 53811 ◆ DU8~c\n",
      "GREP : uruk-iii ◆ 53812 ◆ E2~a\n",
      "=    : uruk-iii ◆ 53817 ◆ DU8~c\n",
      "=    : uruk-iii ◆ 53827 ◆ 4(N39~a)\n",
      "=    : uruk-iii ◆ 53827 ◆ KU6~a\n",
      "=    : uruk-iii ◆ 53827 ◆ RAD~a\n",
      "=    : uruk-iii ◆ 53828 ◆ 2(N39~a)\n",
      "=    : uruk-iii ◆ 53829 ◆ 2(N39~a)\n",
      "=    : uruk-iii ◆ 53829 ◆ 1(N29~a)\n",
      "=    : uruk-iii ◆ 53830 ◆ 4(N39~a)\n",
      "=    : uruk-iii ◆ 53830 ◆ 1(N29~a)\n",
      "=    : uruk-iii ◆ 53830 ◆ EZEN~b\n",
      "=    : uruk-iii ◆ 53831 ◆ EN~a\n",
      "=    : uruk-iii ◆ 53831 ◆ NAGA~a\n",
      "=    : uruk-iii ◆ 53832 ◆ EZEN~b\n",
      "=    : uruk-iii ◆ 53833 ◆ 3(N39~a)\n",
      "=    : uruk-iii ◆ 53833 ◆ 1(N30~b)\n",
      "=    : uruk-iii ◆ 53834 ◆ 1(N29~a)\n",
      "=    : uruk-iii ◆ 53835 ◆ 3(N39~a)\n",
      "=    : uruk-iii ◆ 53837 ◆ 1(N39~a)\n",
      "TF    and 18273 more\n",
      "GREP  and 18281 more\n"
     ]
    }
   ],
   "source": [
    "COMP.checkSanity(\n",
    "    grepVariants,\n",
    "    tfVariants,\n",
    ")"
   ]
  },
  {
   "cell_type": "code",
   "execution_count": 29,
   "metadata": {
    "ExecuteTime": {
     "end_time": "2018-02-19T20:13:41.485371Z",
     "start_time": "2018-02-19T20:13:41.481983Z"
    }
   },
   "outputs": [],
   "source": [
    "tId = 'P325218'\n",
    "line = T.nodeFromSection((tId, '1', '1'))"
   ]
  },
  {
   "cell_type": "code",
   "execution_count": 30,
   "metadata": {
    "ExecuteTime": {
     "end_time": "2018-02-19T20:13:42.084313Z",
     "start_time": "2018-02-19T20:13:42.078937Z"
    }
   },
   "outputs": [
    {
     "data": {
      "text/plain": [
       "239908"
      ]
     },
     "execution_count": 30,
     "metadata": {},
     "output_type": "execute_result"
    }
   ],
   "source": [
    "line"
   ]
  },
  {
   "cell_type": "code",
   "execution_count": 31,
   "metadata": {
    "ExecuteTime": {
     "end_time": "2018-02-19T20:13:47.817631Z",
     "start_time": "2018-02-19T20:13:47.810923Z"
    }
   },
   "outputs": [
    {
     "name": "stdout",
     "output_type": "stream",
     "text": [
      "53327 6(N34)\n",
      "53328 4(N14)\n",
      "53329 2(N01)\n",
      "53330 LAGAB~b\n",
      "53331 DARA4~c2\n",
      "53332 UDU~a\n",
      "53333 5(N14)\n",
      "53334 6(N01)\n",
      "53335 UDU~a\n",
      "53336 IB~c\n",
      "53337 5(N34)\n",
      "53338 4(N14)\n",
      "53339 6(N01)\n",
      "53340 BA\n",
      "53341 DARA4~c2\n",
      "53342 …\n"
     ]
    }
   ],
   "source": [
    "for s in L.d(line, otype='sign'):\n",
    "    print(f'{s} {COMP.strFromSign(s)}')"
   ]
  },
  {
   "cell_type": "code",
   "execution_count": null,
   "metadata": {},
   "outputs": [],
   "source": []
  }
 ],
 "metadata": {
  "kernelspec": {
   "display_name": "Python 3",
   "language": "python",
   "name": "python3"
  },
  "language_info": {
   "codemirror_mode": {
    "name": "ipython",
    "version": 3
   },
   "file_extension": ".py",
   "mimetype": "text/x-python",
   "name": "python",
   "nbconvert_exporter": "python",
   "pygments_lexer": "ipython3",
   "version": "3.6.4"
  },
  "toc": {
   "nav_menu": {},
   "number_sections": true,
   "sideBar": true,
   "skip_h1_title": true,
   "toc_cell": true,
   "toc_position": {},
   "toc_section_display": "block",
   "toc_window_display": false
  }
 },
 "nbformat": 4,
 "nbformat_minor": 2
}
