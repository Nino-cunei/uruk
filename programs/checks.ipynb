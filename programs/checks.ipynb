{
 "cells": [
  {
   "cell_type": "markdown",
   "metadata": {
    "toc": true
   },
   "source": [
    "<h1>Table of Contents<span class=\"tocSkip\"></span></h1>\n",
    "<div class=\"toc\" style=\"margin-top: 1em;\"><ul class=\"toc-item\"><li><span><a href=\"#Tablets\" data-toc-modified-id=\"Tablets-1\"><span class=\"toc-item-num\">1&nbsp;&nbsp;</span>Tablets</a></span></li><li><span><a href=\"#Faces\" data-toc-modified-id=\"Faces-2\"><span class=\"toc-item-num\">2&nbsp;&nbsp;</span>Faces</a></span></li><li><span><a href=\"#Columns\" data-toc-modified-id=\"Columns-3\"><span class=\"toc-item-num\">3&nbsp;&nbsp;</span>Columns</a></span></li><li><span><a href=\"#Lines\" data-toc-modified-id=\"Lines-4\"><span class=\"toc-item-num\">4&nbsp;&nbsp;</span>Lines</a></span><ul class=\"toc-item\"><li><span><a href=\"#Line-numbers\" data-toc-modified-id=\"Line-numbers-4.1\"><span class=\"toc-item-num\">4.1&nbsp;&nbsp;</span>Line numbers</a></span></li><li><span><a href=\"#Cross-references\" data-toc-modified-id=\"Cross-references-4.2\"><span class=\"toc-item-num\">4.2&nbsp;&nbsp;</span>Cross references</a></span></li></ul></li><li><span><a href=\"#Comments\" data-toc-modified-id=\"Comments-5\"><span class=\"toc-item-num\">5&nbsp;&nbsp;</span>Comments</a></span><ul class=\"toc-item\"><li><span><a href=\"#Object-descriptions\" data-toc-modified-id=\"Object-descriptions-5.1\"><span class=\"toc-item-num\">5.1&nbsp;&nbsp;</span>Object descriptions</a></span></li><li><span><a href=\"#Rulings\" data-toc-modified-id=\"Rulings-5.2\"><span class=\"toc-item-num\">5.2&nbsp;&nbsp;</span>Rulings</a></span></li><li><span><a href=\"#Metadata\" data-toc-modified-id=\"Metadata-5.3\"><span class=\"toc-item-num\">5.3&nbsp;&nbsp;</span>Metadata</a></span></li></ul></li><li><span><a href=\"#Graphemes\" data-toc-modified-id=\"Graphemes-6\"><span class=\"toc-item-num\">6&nbsp;&nbsp;</span>Graphemes</a></span><ul class=\"toc-item\"><li><span><a href=\"#Primes\" data-toc-modified-id=\"Primes-6.1\"><span class=\"toc-item-num\">6.1&nbsp;&nbsp;</span>Primes</a></span></li><li><span><a href=\"#Variants-and-modifiers\" data-toc-modified-id=\"Variants-and-modifiers-6.2\"><span class=\"toc-item-num\">6.2&nbsp;&nbsp;</span>Variants and modifiers</a></span><ul class=\"toc-item\"><li><span><a href=\"#Order\" data-toc-modified-id=\"Order-6.2.1\"><span class=\"toc-item-num\">6.2.1&nbsp;&nbsp;</span>Order</a></span></li><li><span><a href=\"#Uppercase\" data-toc-modified-id=\"Uppercase-6.2.2\"><span class=\"toc-item-num\">6.2.2&nbsp;&nbsp;</span>Uppercase</a></span></li><li><span><a href=\"#Stray-modifier\" data-toc-modified-id=\"Stray-modifier-6.2.3\"><span class=\"toc-item-num\">6.2.3&nbsp;&nbsp;</span>Stray modifier</a></span></li></ul></li><li><span><a href=\"#Tweaks\" data-toc-modified-id=\"Tweaks-6.3\"><span class=\"toc-item-num\">6.3&nbsp;&nbsp;</span>Tweaks</a></span></li><li><span><a href=\"#Flags\" data-toc-modified-id=\"Flags-6.4\"><span class=\"toc-item-num\">6.4&nbsp;&nbsp;</span>Flags</a></span><ul class=\"toc-item\"><li><span><a href=\"#A-bit-of-research\" data-toc-modified-id=\"A-bit-of-research-6.4.1\"><span class=\"toc-item-num\">6.4.1&nbsp;&nbsp;</span>A bit of research</a></span></li></ul></li><li><span><a href=\"#All-signs\" data-toc-modified-id=\"All-signs-6.5\"><span class=\"toc-item-num\">6.5&nbsp;&nbsp;</span>All signs</a></span></li></ul></li><li><span><a href=\"#Quads\" data-toc-modified-id=\"Quads-7\"><span class=\"toc-item-num\">7&nbsp;&nbsp;</span>Quads</a></span><ul class=\"toc-item\"><li><span><a href=\"#Outer-complex-quads\" data-toc-modified-id=\"Outer-complex-quads-7.1\"><span class=\"toc-item-num\">7.1&nbsp;&nbsp;</span>Outer complex quads</a></span></li><li><span><a href=\"#Variants:-inside-or-outside?\" data-toc-modified-id=\"Variants:-inside-or-outside?-7.2\"><span class=\"toc-item-num\">7.2&nbsp;&nbsp;</span>Variants: inside or outside?</a></span></li><li><span><a href=\"#Variants:-extra-level-of-brackets?\" data-toc-modified-id=\"Variants:-extra-level-of-brackets?-7.3\"><span class=\"toc-item-num\">7.3&nbsp;&nbsp;</span>Variants: extra level of brackets?</a></span></li><li><span><a href=\"#More-bracket-issues\" data-toc-modified-id=\"More-bracket-issues-7.4\"><span class=\"toc-item-num\">7.4&nbsp;&nbsp;</span>More bracket issues</a></span></li><li><span><a href=\"#The-most-complex-quads\" data-toc-modified-id=\"The-most-complex-quads-7.5\"><span class=\"toc-item-num\">7.5&nbsp;&nbsp;</span>The most complex quads</a></span></li></ul></li><li><span><a href=\"#Clusters\" data-toc-modified-id=\"Clusters-8\"><span class=\"toc-item-num\">8&nbsp;&nbsp;</span>Clusters</a></span></li><li><span><a href=\"#Conclusion\" data-toc-modified-id=\"Conclusion-9\"><span class=\"toc-item-num\">9&nbsp;&nbsp;</span>Conclusion</a></span></li></ul></div>"
   ]
  },
  {
   "cell_type": "markdown",
   "metadata": {},
   "source": [
    "# Checks\n",
    "Various checks on the correctness of the transformation from ascii transcriptions to a text-fabric data set.\n",
    "\n",
    "The\n",
    "[diagnostics](https://github.com/Dans-labs/Nino-cunei/blob/master/reports/diagnostics.tsv)\n",
    "of the transformation contains valueable issues that may be used to correct mistakes in the sources.\n",
    "Or, equally likely, they correspond to misunderstandings on my (Dirk's) part of the model\n",
    "that underlies the transcriptions.\n",
    "\n",
    "We will perform *grep* commands on the source files, and we will traverse node in Text-Fabric and collect information.\n",
    "\n",
    "Then we compare these sets of information.\n",
    "\n",
    "# Docs\n",
    "\n",
    "[Utils API](https://github.com/Dans-labs/Nino-cunei/blob/master/docs/utils.md)"
   ]
  },
  {
   "cell_type": "code",
   "execution_count": 1,
   "metadata": {
    "ExecuteTime": {
     "end_time": "2018-03-06T06:42:20.966746Z",
     "start_time": "2018-03-06T06:42:20.943352Z"
    }
   },
   "outputs": [],
   "source": [
    "%load_ext autoreload\n",
    "%autoreload 2"
   ]
  },
  {
   "cell_type": "code",
   "execution_count": 2,
   "metadata": {
    "ExecuteTime": {
     "end_time": "2018-03-06T06:42:21.865480Z",
     "start_time": "2018-03-06T06:42:21.847854Z"
    }
   },
   "outputs": [],
   "source": [
    "import sys, os, collections, re\n",
    "from glob import glob"
   ]
  },
  {
   "cell_type": "code",
   "execution_count": 3,
   "metadata": {
    "ExecuteTime": {
     "end_time": "2018-03-06T06:42:24.157740Z",
     "start_time": "2018-03-06T06:42:23.047601Z"
    }
   },
   "outputs": [
    {
     "name": "stdout",
     "output_type": "stream",
     "text": [
      "Found 5495 tablet photos\n",
      "Found 2724 tablet linearts\n",
      "Found 2095 ideographs\n"
     ]
    },
    {
     "data": {
      "text/markdown": [
       "\n",
       "**Documentation:**\n",
       "[Feature docs](https://github.com/Nino-cunei/uruk/blob/master/docs/transcription.md)\n",
       "[Cunei API](https://github.com/Nino-cunei/uruk/blob/master/docs/cunei.md)\n",
       "[Text-Fabric API](https://github.com/Dans-labs/text-fabric)\n"
      ],
      "text/plain": [
       "<IPython.core.display.Markdown object>"
      ]
     },
     "metadata": {},
     "output_type": "display_data"
    },
    {
     "data": {
      "text/markdown": [
       "\n",
       "Go to\n",
       "[nbviewer](http://nbviewer.jupyter.org/github/Nino-cunei/uruk/blob/master/programs/checks.ipynb)\n",
       "to view this notebook with all its pdf images.\n"
      ],
      "text/plain": [
       "<IPython.core.display.Markdown object>"
      ]
     },
     "metadata": {},
     "output_type": "display_data"
    }
   ],
   "source": [
    "LOC = ('~/github', 'Nino-cunei/uruk', 'checks')\n",
    "sys.path.append(os.path.expanduser(f'{LOC[0]}/{LOC[1]}/programs'))\n",
    "from cunei import Cunei\n",
    "CN = Cunei(*LOC)\n",
    "CN.api.makeAvailableIn(globals())"
   ]
  },
  {
   "cell_type": "code",
   "execution_count": 4,
   "metadata": {
    "ExecuteTime": {
     "end_time": "2018-03-06T06:42:25.708283Z",
     "start_time": "2018-03-06T06:42:25.690452Z"
    }
   },
   "outputs": [],
   "source": [
    "from utils import Compare\n",
    "COMP = Compare(CN)"
   ]
  },
  {
   "cell_type": "markdown",
   "metadata": {},
   "source": [
    "## Tablets\n",
    "We check whether we have the same sequence of tablet numbers.\n",
    "In TF, the tablet number is stored in the feature `catalogId`.\n",
    "\n",
    "Note that we also check on the order of the tablets."
   ]
  },
  {
   "cell_type": "code",
   "execution_count": 5,
   "metadata": {
    "ExecuteTime": {
     "end_time": "2018-03-06T06:42:34.353062Z",
     "start_time": "2018-03-06T06:42:34.338252Z"
    }
   },
   "outputs": [],
   "source": [
    "def NCmsg(n): print(f'GREP: skipped {n} tablets: duplicate or non-physical')"
   ]
  },
  {
   "cell_type": "code",
   "execution_count": 6,
   "metadata": {
    "ExecuteTime": {
     "end_time": "2018-03-06T06:42:35.754992Z",
     "start_time": "2018-03-06T06:42:35.709222Z"
    }
   },
   "outputs": [],
   "source": [
    "def tfTablets():\n",
    "    tablets = []\n",
    "    for t in F.otype.s('tablet'):\n",
    "        (tablet, column, line) = T.sectionFromNode(t)\n",
    "        tablets.append((F.period.v(t), tablet, F.srcLnNum.v(t), F.catalogId.v(t)))\n",
    "    return tablets\n",
    "\n",
    "def grepTablets(gen):\n",
    "    tablets = []\n",
    "    prevTablet = None\n",
    "    ncTablets = set()\n",
    "    for (period, tablet, ln, line, skip) in gen:\n",
    "        if skip:\n",
    "            ncTablets.add(tablet)\n",
    "            continue\n",
    "        if tablet != prevTablet:\n",
    "            tablets.append((period, tablet, ln, tablet))\n",
    "        prevTablet = tablet\n",
    "    if ncTablets:\n",
    "        NCmsg(len(ncTablets))\n",
    "    return tablets"
   ]
  },
  {
   "cell_type": "code",
   "execution_count": 7,
   "metadata": {
    "ExecuteTime": {
     "end_time": "2018-03-06T06:42:38.307249Z",
     "start_time": "2018-03-06T06:42:37.990755Z"
    }
   },
   "outputs": [
    {
     "name": "stdout",
     "output_type": "stream",
     "text": [
      "GREP: skipped 34 tablets: duplicate or non-physical\n",
      "HEAD : period ◆ tablet ◆ ln ◆ tablet\n",
      "IDENTICAL: all 6364 items\n",
      "=    : uruk-iii ◆ P006427 ◆ 1 ◆ P006427\n",
      "=    : uruk-iii ◆ P006428 ◆ 12 ◆ P006428\n",
      "=    : uruk-iii ◆ P448701 ◆ 38 ◆ P448701\n",
      "=    : uruk-iii ◆ P448702 ◆ 53 ◆ P448702\n",
      "=    : uruk-iii ◆ P448703 ◆ 75 ◆ P448703\n",
      "=    : uruk-iii ◆ P471695 ◆ 92 ◆ P471695\n",
      "=    : uruk-iii ◆ P482082 ◆ 120 ◆ P482082\n",
      "=    : uruk-iii ◆ P482083 ◆ 134 ◆ P482083\n",
      "=    : uruk-iii ◆ P499393 ◆ 155 ◆ P499393\n",
      "=    : uruk-iii ◆ P504412 ◆ 175 ◆ P504412\n",
      "=    : uruk-iii ◆ P504413 ◆ 199 ◆ P504413\n",
      "=    : uruk-iii ◆ P006438 ◆ 210 ◆ P006438\n",
      "=    : uruk-iii ◆ P000014 ◆ 233 ◆ P000014\n",
      "=    : uruk-iii ◆ P000456 ◆ 311 ◆ P000456\n",
      "=    : uruk-iii ◆ P002718 ◆ 342 ◆ P002718\n",
      "=    : uruk-iii ◆ P000021 ◆ 358 ◆ P000021\n",
      "=    : uruk-iii ◆ P000023 ◆ 391 ◆ P000023\n",
      "=    : uruk-iii ◆ P000025 ◆ 421 ◆ P000025\n",
      "=    : uruk-iii ◆ P000167 ◆ 519 ◆ P000167\n",
      "=    : uruk-iii ◆ P000453 ◆ 551 ◆ P000453\n",
      "=     and 6344 more\n",
      "Number of results: TF 6364; GREP 6364\n"
     ]
    },
    {
     "data": {
      "text/plain": [
       "True"
      ]
     },
     "execution_count": 7,
     "metadata": {},
     "output_type": "execute_result"
    }
   ],
   "source": [
    "COMP.checkSanity(\n",
    "    ('tablet',),\n",
    "    grepTablets,\n",
    "    tfTablets,\n",
    ")"
   ]
  },
  {
   "cell_type": "markdown",
   "metadata": {},
   "source": [
    "## Faces\n",
    "\n",
    "We check whether we see the same faces with GREP and TF.\n",
    "\n",
    "Note that in TF we have inserted missing faces `@noface`.\n",
    "We leave them out again in the comparison."
   ]
  },
  {
   "cell_type": "code",
   "execution_count": 8,
   "metadata": {
    "ExecuteTime": {
     "end_time": "2018-03-06T06:42:55.848821Z",
     "start_time": "2018-03-06T06:42:55.831361Z"
    }
   },
   "outputs": [],
   "source": [
    "FACES = set(\n",
    "    '''\n",
    "    obverse\n",
    "    reverse\n",
    "    top\n",
    "    bottom\n",
    "    left\n",
    "    seal\n",
    "    surface\n",
    "    edge\n",
    "'''.strip().split()\n",
    ")\n",
    "\n",
    "NOFACE = 'noface'\n",
    "\n",
    "faceDetect = '''\n",
    "(?:\n",
    "    ^@([a-z]+)\n",
    ")\n",
    "'''"
   ]
  },
  {
   "cell_type": "code",
   "execution_count": 9,
   "metadata": {
    "ExecuteTime": {
     "end_time": "2018-03-06T06:42:56.827129Z",
     "start_time": "2018-03-06T06:42:56.796606Z"
    }
   },
   "outputs": [],
   "source": [
    "def tfFaces():\n",
    "    faces = []\n",
    "    for tablet in F.otype.s('tablet'):\n",
    "        tabletName = F.catalogId.v(tablet)\n",
    "        period = F.period.v(tablet)\n",
    "        for face in L.d(tablet, otype='face'):\n",
    "            tp = F.type.v(face)\n",
    "            it = F.identifier.v(face) or None\n",
    "            ln = F.srcLnNum.v(face)\n",
    "            itStr = '' if it is None else f' {it}'\n",
    "            if tp != 'noface':\n",
    "                faces.append((period, tabletName, ln, f'@{tp}{itStr}'))\n",
    "    return faces"
   ]
  },
  {
   "cell_type": "code",
   "execution_count": 10,
   "metadata": {
    "ExecuteTime": {
     "end_time": "2018-03-06T06:42:57.821096Z",
     "start_time": "2018-03-06T06:42:57.788963Z"
    }
   },
   "outputs": [],
   "source": [
    "def grepFaces(gen):\n",
    "    faces = []\n",
    "    faceRe = re.compile(faceDetect, re.X)\n",
    "    ncTablets = set()\n",
    "    for (period, tablet, ln, line, skip) in gen:\n",
    "        if skip:\n",
    "            ncTablets.add(tablet)\n",
    "            continue\n",
    "        match = faceRe.match(line)\n",
    "        if match:\n",
    "            face = match.group(1)\n",
    "            if face in FACES:\n",
    "                faces.append((period, tablet, ln, line.strip()))\n",
    "    if ncTablets:\n",
    "        NCmsg(len(ncTablets))\n",
    "    return faces"
   ]
  },
  {
   "cell_type": "code",
   "execution_count": 11,
   "metadata": {
    "ExecuteTime": {
     "end_time": "2018-03-06T06:43:00.018724Z",
     "start_time": "2018-03-06T06:42:59.646177Z"
    }
   },
   "outputs": [
    {
     "name": "stdout",
     "output_type": "stream",
     "text": [
      "GREP: skipped 34 tablets: duplicate or non-physical\n",
      "HEAD : period ◆ tablet ◆ ln ◆ face\n",
      "IDENTICAL: all 9454 items\n",
      "=    : uruk-iii ◆ P006427 ◆ 4 ◆ @obverse\n",
      "=    : uruk-iii ◆ P006428 ◆ 15 ◆ @obverse\n",
      "=    : uruk-iii ◆ P448701 ◆ 41 ◆ @obverse\n",
      "=    : uruk-iii ◆ P448701 ◆ 48 ◆ @reverse\n",
      "=    : uruk-iii ◆ P448702 ◆ 56 ◆ @obverse\n",
      "=    : uruk-iii ◆ P448702 ◆ 70 ◆ @reverse\n",
      "=    : uruk-iii ◆ P448703 ◆ 78 ◆ @obverse\n",
      "=    : uruk-iii ◆ P448703 ◆ 87 ◆ @reverse\n",
      "=    : uruk-iii ◆ P471695 ◆ 95 ◆ @obverse\n",
      "=    : uruk-iii ◆ P471695 ◆ 114 ◆ @reverse\n",
      "=    : uruk-iii ◆ P482082 ◆ 123 ◆ @obverse\n",
      "=    : uruk-iii ◆ P482082 ◆ 129 ◆ @reverse\n",
      "=    : uruk-iii ◆ P482083 ◆ 137 ◆ @obverse\n",
      "=    : uruk-iii ◆ P482083 ◆ 150 ◆ @reverse\n",
      "=    : uruk-iii ◆ P499393 ◆ 158 ◆ @obverse\n",
      "=    : uruk-iii ◆ P499393 ◆ 170 ◆ @reverse\n",
      "=    : uruk-iii ◆ P504412 ◆ 178 ◆ @obverse\n",
      "=    : uruk-iii ◆ P504412 ◆ 194 ◆ @reverse\n",
      "=    : uruk-iii ◆ P504413 ◆ 202 ◆ @obverse\n",
      "=    : uruk-iii ◆ P504413 ◆ 205 ◆ @reverse\n",
      "=     and 9434 more\n",
      "Number of results: TF 9454; GREP 9454\n"
     ]
    },
    {
     "data": {
      "text/plain": [
       "True"
      ]
     },
     "execution_count": 11,
     "metadata": {},
     "output_type": "execute_result"
    }
   ],
   "source": [
    "COMP.checkSanity(\n",
    "    ('face',),\n",
    "    grepFaces,\n",
    "    tfFaces,\n",
    ")"
   ]
  },
  {
   "cell_type": "markdown",
   "metadata": {},
   "source": [
    "## Columns\n",
    "\n",
    "We check whether we see the same columns with GREP and TF.\n",
    "\n",
    "Note that in TF we have inserted missing columns as `@column 0`.\n",
    "We leave them out again in the comparison."
   ]
  },
  {
   "cell_type": "code",
   "execution_count": 12,
   "metadata": {
    "ExecuteTime": {
     "end_time": "2018-03-06T06:43:03.872943Z",
     "start_time": "2018-03-06T06:43:03.840259Z"
    }
   },
   "outputs": [],
   "source": [
    "def tfColumns():\n",
    "    columns = []\n",
    "    for tablet in F.otype.s('tablet'):\n",
    "        tabletName = F.catalogId.v(tablet)\n",
    "        period = F.period.v(tablet)\n",
    "        for face in L.d(tablet, otype='face'):\n",
    "            tp = F.type.v(face)\n",
    "            for column in L.d(face, otype='column'):\n",
    "                number = F.number.v(column)\n",
    "                prime = F.prime.v(column)\n",
    "                ln = F.srcLnNum.v(column)\n",
    "                primeStr = \"'\" if prime else ''\n",
    "                if number != '0':\n",
    "                    columns.append((period, tabletName, ln, tp, f'@column {number}{primeStr}'))\n",
    "    return columns"
   ]
  },
  {
   "cell_type": "code",
   "execution_count": 13,
   "metadata": {
    "ExecuteTime": {
     "end_time": "2018-03-06T06:43:04.810934Z",
     "start_time": "2018-03-06T06:43:04.795315Z"
    }
   },
   "outputs": [],
   "source": [
    "columnDetect = '''\n",
    "(?:\n",
    "    ^@col\n",
    ")\n",
    "'''\n",
    "\n",
    "columnCorrectPat = '''\n",
    "(?:\n",
    "    ^@([a-z]+)\n",
    "    (\\s*)\n",
    "    (\\S*)\n",
    ")\n",
    "'''"
   ]
  },
  {
   "cell_type": "code",
   "execution_count": 14,
   "metadata": {
    "ExecuteTime": {
     "end_time": "2018-03-06T06:43:05.839996Z",
     "start_time": "2018-03-06T06:43:05.750692Z"
    }
   },
   "outputs": [],
   "source": [
    "def grepColumns(gen):\n",
    "    columnRe = re.compile(columnDetect, re.X)\n",
    "    correctRe = re.compile(columnCorrectPat, re.X)\n",
    "    faceRe = re.compile(faceDetect, re.X)\n",
    "\n",
    "    columns = []\n",
    "    curFace = NOFACE\n",
    "    prevTablet = None\n",
    "    ncTablets = set()\n",
    "    for (period, tablet, ln, line, skip) in gen:\n",
    "        if skip:\n",
    "            ncTablets.add(tablet)\n",
    "            continue\n",
    "        if tablet != prevTablet:\n",
    "            curFace = NOFACE\n",
    "        prevTablet = tablet\n",
    "\n",
    "        match = faceRe.match(line)\n",
    "\n",
    "        if match:\n",
    "            face = match.group(1)\n",
    "            if face in FACES:\n",
    "                curFace = face\n",
    "\n",
    "        if columnRe.match(line):\n",
    "            if not line.startswith('@column '):\n",
    "                match = correctRe.match(line)\n",
    "                if match:\n",
    "                    colSpec = match.group(1)\n",
    "                    sep = match.group(2)\n",
    "                    colNum = match.group(3)\n",
    "                    line = f'@column {colNum}'\n",
    "                    print(f'GREP: corrected \"{colSpec}{sep}{colNum}\" => \"{line}\"')\n",
    "                else:\n",
    "                    print(f'GREP: found \"{line}\"')\n",
    "                \n",
    "            columns.append((period, tablet, ln, curFace, line.strip()))\n",
    "    if ncTablets:\n",
    "        NCmsg(len(ncTablets))\n",
    "    return columns"
   ]
  },
  {
   "cell_type": "code",
   "execution_count": 15,
   "metadata": {
    "ExecuteTime": {
     "end_time": "2018-03-06T06:43:07.490571Z",
     "start_time": "2018-03-06T06:43:06.931814Z"
    }
   },
   "outputs": [
    {
     "name": "stdout",
     "output_type": "stream",
     "text": [
      "GREP: skipped 34 tablets: duplicate or non-physical\n",
      "HEAD : period ◆ tablet ◆ ln ◆ face ◆ column\n",
      "IDENTICAL: all 13130 items\n",
      "=    : uruk-iii ◆ P006427 ◆ 5 ◆ obverse ◆ @column 1\n",
      "=    : uruk-iii ◆ P006427 ◆ 7 ◆ obverse ◆ @column 2\n",
      "=    : uruk-iii ◆ P006428 ◆ 16 ◆ obverse ◆ @column 1\n",
      "=    : uruk-iii ◆ P006428 ◆ 19 ◆ obverse ◆ @column 2\n",
      "=    : uruk-iii ◆ P006428 ◆ 22 ◆ obverse ◆ @column 3\n",
      "=    : uruk-iii ◆ P006428 ◆ 30 ◆ obverse ◆ @column 4\n",
      "=    : uruk-iii ◆ P006428 ◆ 33 ◆ obverse ◆ @column 5\n",
      "=    : uruk-iii ◆ P448701 ◆ 42 ◆ obverse ◆ @column 1\n",
      "=    : uruk-iii ◆ P448701 ◆ 45 ◆ obverse ◆ @column 2\n",
      "=    : uruk-iii ◆ P448702 ◆ 57 ◆ obverse ◆ @column 1\n",
      "=    : uruk-iii ◆ P448702 ◆ 63 ◆ obverse ◆ @column 2\n",
      "=    : uruk-iii ◆ P448702 ◆ 67 ◆ obverse ◆ @column 3\n",
      "=    : uruk-iii ◆ P448703 ◆ 79 ◆ obverse ◆ @column 1\n",
      "=    : uruk-iii ◆ P448703 ◆ 85 ◆ obverse ◆ @column 2\n",
      "=    : uruk-iii ◆ P471695 ◆ 96 ◆ obverse ◆ @column 1\n",
      "=    : uruk-iii ◆ P471695 ◆ 109 ◆ obverse ◆ @column 2\n",
      "=    : uruk-iii ◆ P482082 ◆ 124 ◆ obverse ◆ @column 1\n",
      "=    : uruk-iii ◆ P482083 ◆ 138 ◆ obverse ◆ @column 1\n",
      "=    : uruk-iii ◆ P482083 ◆ 145 ◆ obverse ◆ @column 2\n",
      "=    : uruk-iii ◆ P499393 ◆ 159 ◆ obverse ◆ @column 1\n",
      "=     and 13110 more\n",
      "Number of results: TF 13130; GREP 13130\n"
     ]
    },
    {
     "data": {
      "text/plain": [
       "True"
      ]
     },
     "execution_count": 15,
     "metadata": {},
     "output_type": "execute_result"
    }
   ],
   "source": [
    "COMP.checkSanity(\n",
    "    ('face', 'column'),\n",
    "    grepColumns,\n",
    "    tfColumns,\n",
    ")"
   ]
  },
  {
   "cell_type": "markdown",
   "metadata": {},
   "source": [
    "## Lines\n",
    "\n",
    "We check whether we see the same line numbers with GREP and TF.\n",
    "We also check the cross-references on lines.\n",
    "\n",
    "The text material on lines will be checked below, systematically.\n",
    "\n",
    "### Line numbers\n",
    "\n",
    "During the conversion to TF we have \n",
    "detected bad numberings in some columns\n",
    "and stored that fact in the `badNumbering` feature.\n",
    "\n",
    "One way to look at them is in the raw TF file\n",
    "[badNumbering.tf](https://github.com/Dans-labs/Nino-cunei/blob/master/tf/uruk/0.1/badNumbering.tf).\n",
    "\n",
    "There you see case nodes with values `1` (duplicate numbers) or `2` (wrong order).\n",
    "\n",
    "Here is an overview of the cases:"
   ]
  },
  {
   "cell_type": "code",
   "execution_count": 20,
   "metadata": {
    "ExecuteTime": {
     "end_time": "2018-03-06T06:45:24.812827Z",
     "start_time": "2018-03-06T06:45:24.794208Z"
    }
   },
   "outputs": [
    {
     "name": "stdout",
     "output_type": "stream",
     "text": [
      "No badly numbered lines\n"
     ]
    }
   ],
   "source": [
    "if 'badNumbering' in Fall():\n",
    "    for (val, amount) in F.badNumbering.freqList():\n",
    "        print(f'{amount:>3} x {val}')\n",
    "else:\n",
    "    print('No badly numbered lines')"
   ]
  },
  {
   "cell_type": "markdown",
   "metadata": {},
   "source": [
    "For full detail, see the\n",
    "[diagnostics](https://github.com/Dans-labs/Nino-cunei/blob/master/reports/diagnostics.tsv)."
   ]
  },
  {
   "cell_type": "markdown",
   "metadata": {},
   "source": [
    "Note that the numbered lines in the transcriptions do not correspond to the TF node type `line`,\n",
    "but to `case`. \n",
    "Because these lines are filled with material of the smallest cases (those that do not have\n",
    "sub-cases).\n",
    "\n",
    "In TF these are the cases that have the feature `fullNumber`.\n",
    "\n",
    "In TF we have removed the dots from numbers, but kept them otherwise unchanged.\n",
    "In order to make the comparison, we also remove the dots after grepping numbers from the source."
   ]
  },
  {
   "cell_type": "code",
   "execution_count": 21,
   "metadata": {
    "ExecuteTime": {
     "end_time": "2018-03-06T06:45:34.753796Z",
     "start_time": "2018-03-06T06:45:34.721147Z"
    }
   },
   "outputs": [],
   "source": [
    "def tfLines():\n",
    "    cases = []\n",
    "    for tablet in F.otype.s('tablet'):\n",
    "        tabletName = F.catalogId.v(tablet)\n",
    "        period = F.period.v(tablet)\n",
    "        for case in L.d(tablet, otype='case'):\n",
    "            fullNumber = F.fullNumber.v(case)\n",
    "            if fullNumber is None:\n",
    "                continue\n",
    "            ln = F.srcLnNum.v(case)\n",
    "            # origNumber = F.origNumber.v(case)\n",
    "            # theNumber = fullNumber if origNumber is None else origNumber \n",
    "            theNumber = fullNumber\n",
    "            cases.append((period, tabletName, ln, f'{theNumber}'))\n",
    "    return cases"
   ]
  },
  {
   "cell_type": "code",
   "execution_count": 22,
   "metadata": {
    "ExecuteTime": {
     "end_time": "2018-03-06T06:45:36.119815Z",
     "start_time": "2018-03-06T06:45:36.103318Z"
    }
   },
   "outputs": [],
   "source": [
    "lineNumPat = '''\n",
    "(?:\n",
    "    ^\n",
    "    (\n",
    "            (?:[a-zA-Z0-9.\\'-]+)\n",
    "        |\n",
    "            (?=[|\\[])\n",
    "    )\n",
    ")\n",
    "'''\n",
    "lineNumDetect = '''\n",
    "(?:\n",
    "    ^\n",
    "    (?:\n",
    "            (?:[a-zA-Z0-9.\\'-]+\\s+)\n",
    "        |\n",
    "            (?=[|\\[])\n",
    "    )\n",
    ")\n",
    "'''"
   ]
  },
  {
   "cell_type": "code",
   "execution_count": 23,
   "metadata": {
    "ExecuteTime": {
     "end_time": "2018-03-06T06:45:36.965192Z",
     "start_time": "2018-03-06T06:45:36.947769Z"
    }
   },
   "outputs": [],
   "source": [
    "TWEAK_LINES02 = (\n",
    "    ((69856, '3.a'), '3.b'),\n",
    ")\n",
    "TWEAK_LINES = ()"
   ]
  },
  {
   "cell_type": "code",
   "execution_count": 24,
   "metadata": {
    "ExecuteTime": {
     "end_time": "2018-03-06T06:45:37.658225Z",
     "start_time": "2018-03-06T06:45:37.624454Z"
    }
   },
   "outputs": [],
   "source": [
    "def tweakLine01(line):\n",
    "    if line.startswith('1.1('):\n",
    "        print(f'GREP: \"1.1(\" => \"1. 1(\"')\n",
    "        line = line.replace('1.1(', '1. 1(', 1)\n",
    "    return line\n",
    "\n",
    "def tweakLine(line, ln):\n",
    "    for (pat, rep) in TWEAK_LINES:\n",
    "        if type(pat) is tuple:\n",
    "            (lineNum, pat) = pat\n",
    "        else:\n",
    "            lineNum = None\n",
    "        if (\n",
    "            (lineNum is None or ln == lineNum)\n",
    "            and line.startswith(pat)\n",
    "        ):\n",
    "            lnRep = f' on line {lineNum}'\n",
    "            print(f'GREP: \"{pat}\" {lnRep} => \"{rep}\"')\n",
    "            line = line.replace(pat, rep)\n",
    "    return line"
   ]
  },
  {
   "cell_type": "code",
   "execution_count": 25,
   "metadata": {
    "ExecuteTime": {
     "end_time": "2018-03-06T06:45:38.372919Z",
     "start_time": "2018-03-06T06:45:38.340175Z"
    }
   },
   "outputs": [],
   "source": [
    "def grepLines(gen):\n",
    "    cases = []\n",
    "    lineNumRe = re.compile(lineNumPat, re.X)\n",
    "    ncTablets = set()\n",
    "    for (period, tablet, ln, line, skip) in gen:\n",
    "        if skip:\n",
    "            ncTablets.add(tablet)\n",
    "            continue\n",
    "        line = tweakLine(line, ln)\n",
    "        match = lineNumRe.match(line)\n",
    "        if match:\n",
    "            caseNum = match.group(1)\n",
    "            caseNumClean = caseNum.replace('.', '').strip()\n",
    "            cases.append((period, tablet, ln, caseNumClean))\n",
    "    if ncTablets:\n",
    "        NCmsg(len(ncTablets))\n",
    "    return cases"
   ]
  },
  {
   "cell_type": "code",
   "execution_count": 26,
   "metadata": {
    "ExecuteTime": {
     "end_time": "2018-03-06T06:45:40.586730Z",
     "start_time": "2018-03-06T06:45:40.112690Z"
    }
   },
   "outputs": [
    {
     "name": "stdout",
     "output_type": "stream",
     "text": [
      "GREP: skipped 34 tablets: duplicate or non-physical\n",
      "HEAD : period ◆ tablet ◆ ln ◆ lineNum\n",
      "IDENTICAL: all 41132 items\n",
      "=    : uruk-iii ◆ P006427 ◆ 6 ◆ 1\n",
      "=    : uruk-iii ◆ P006427 ◆ 8 ◆ 1\n",
      "=    : uruk-iii ◆ P006428 ◆ 17 ◆ 1\n",
      "=    : uruk-iii ◆ P006428 ◆ 18 ◆ 2\n",
      "=    : uruk-iii ◆ P006428 ◆ 20 ◆ 1\n",
      "=    : uruk-iii ◆ P006428 ◆ 21 ◆ 2\n",
      "=    : uruk-iii ◆ P006428 ◆ 23 ◆ 1\n",
      "=    : uruk-iii ◆ P006428 ◆ 24 ◆ 2\n",
      "=    : uruk-iii ◆ P006428 ◆ 25 ◆ 3\n",
      "=    : uruk-iii ◆ P006428 ◆ 26 ◆ 4\n",
      "=    : uruk-iii ◆ P006428 ◆ 27 ◆ 5\n",
      "=    : uruk-iii ◆ P006428 ◆ 28 ◆ 6\n",
      "=    : uruk-iii ◆ P006428 ◆ 29 ◆ 7\n",
      "=    : uruk-iii ◆ P006428 ◆ 31 ◆ 1\n",
      "=    : uruk-iii ◆ P006428 ◆ 32 ◆ 2\n",
      "=    : uruk-iii ◆ P006428 ◆ 34 ◆ 1\n",
      "=    : uruk-iii ◆ P448701 ◆ 43 ◆ 1\n",
      "=    : uruk-iii ◆ P448701 ◆ 44 ◆ 2\n",
      "=    : uruk-iii ◆ P448701 ◆ 46 ◆ 1\n",
      "=    : uruk-iii ◆ P448701 ◆ 47 ◆ 2\n",
      "=     and 41112 more\n",
      "Number of results: TF 41132; GREP 41132\n"
     ]
    },
    {
     "data": {
      "text/plain": [
       "True"
      ]
     },
     "execution_count": 26,
     "metadata": {},
     "output_type": "execute_result"
    }
   ],
   "source": [
    "COMP.checkSanity(\n",
    "    ('lineNum',),\n",
    "    grepLines,\n",
    "    tfLines,\n",
    ")"
   ]
  },
  {
   "cell_type": "markdown",
   "metadata": {},
   "source": [
    "### Cross references\n",
    "\n",
    "Cross references are the lines starting with `>>`.\n",
    "\n",
    "Example:\n",
    "\n",
    "```\n",
    ">>P000014 oi2 \n",
    "```\n",
    "\n",
    "It means that the preceding line refers to tablet `P000014`, line `oi2`.\n",
    "We do not interpret these values, but we have stored it in the feature *crossref*\n",
    "as `P000014.oi2`.\n",
    "\n",
    "If there are multiple crossrefs, we haven combined them in a comma-separated list."
   ]
  },
  {
   "cell_type": "code",
   "execution_count": 27,
   "metadata": {
    "ExecuteTime": {
     "end_time": "2018-03-06T06:45:44.511630Z",
     "start_time": "2018-03-06T06:45:44.476630Z"
    }
   },
   "outputs": [],
   "source": [
    "def tfCrossrefs():\n",
    "    crossrefs = []\n",
    "    for tablet in F.otype.s('tablet'):\n",
    "        tabletName = F.catalogId.v(tablet)\n",
    "        period = F.period.v(tablet)\n",
    "        for case in L.d(tablet, otype='case'):\n",
    "            crossrefStr = F.crossref.v(case)\n",
    "            if crossrefStr is None:\n",
    "                continue\n",
    "            theseCrossrefs = crossrefStr.split(',')\n",
    "            fullNumber = F.fullNumber.v(case)\n",
    "            ln = F.srcLnNum.v(case)\n",
    "            # origNumber = F.origNumber.v(case)\n",
    "            # theNumber = fullNumber if origNumber is None else origNumber\n",
    "            theNumber = fullNumber\n",
    "            for (offset, crossref) in enumerate(theseCrossrefs):\n",
    "                crossrefs.append((period, tabletName, ln + 1 + offset, theNumber, crossref))\n",
    "    return crossrefs"
   ]
  },
  {
   "cell_type": "code",
   "execution_count": 28,
   "metadata": {
    "ExecuteTime": {
     "end_time": "2018-03-06T06:45:45.465466Z",
     "start_time": "2018-03-06T06:45:45.450422Z"
    }
   },
   "outputs": [],
   "source": [
    "crossrefPat = '''\n",
    "(?:\n",
    "    >>\n",
    "    \\s*\n",
    "    (\\S+)\n",
    "    (.*)\n",
    ")\n",
    "'''"
   ]
  },
  {
   "cell_type": "code",
   "execution_count": 29,
   "metadata": {
    "ExecuteTime": {
     "end_time": "2018-03-06T06:45:46.239758Z",
     "start_time": "2018-03-06T06:45:46.166311Z"
    }
   },
   "outputs": [],
   "source": [
    "def grepCrossrefs(gen):\n",
    "    lineNumRe = re.compile(lineNumPat, re.X)\n",
    "    crossrefRe = re.compile(crossrefPat, re.X)\n",
    "\n",
    "    crossrefs = []\n",
    "    curNum = None\n",
    "    ncTablets = set()\n",
    "    for (period, tablet, ln, line, skip) in gen:\n",
    "        if skip:\n",
    "            ncTablets.add(tablet)\n",
    "            continue\n",
    "        line = tweakLine(line, ln)\n",
    "            \n",
    "        match = lineNumRe.match(line)\n",
    "        if match:\n",
    "            caseNum = match.group(1)\n",
    "            caseNumClean = caseNum.replace('.', '').strip()\n",
    "            curNum = caseNumClean\n",
    "            continue\n",
    "        match = crossrefRe.match(line)\n",
    "        if match:\n",
    "            cTablet = match.group(1)\n",
    "            rest = match.group(2).strip()\n",
    "            if rest:\n",
    "                rest = ':'.join(rest.split(maxsplit=1))\n",
    "            if rest:\n",
    "                rest = f'.{rest}'\n",
    "            crossrefs.append((period, tablet, ln, curNum, f'{cTablet}{rest}'))\n",
    "        \n",
    "    if ncTablets:\n",
    "        NCmsg(len(ncTablets))\n",
    "    return crossrefs"
   ]
  },
  {
   "cell_type": "markdown",
   "metadata": {},
   "source": [
    "If there are comments intervening a line and its crossrefs,\n",
    "TF can no longer produce the exact line numbers for those crossrefs. They will be a bit of.\n",
    "We will allow the comparison a bit of leeway in this respect."
   ]
  },
  {
   "cell_type": "code",
   "execution_count": 30,
   "metadata": {
    "ExecuteTime": {
     "end_time": "2018-03-06T06:45:49.665093Z",
     "start_time": "2018-03-06T06:45:49.201862Z"
    }
   },
   "outputs": [
    {
     "name": "stdout",
     "output_type": "stream",
     "text": [
      "GREP: skipped 34 tablets: duplicate or non-physical\n",
      "HEAD : period ◆ tablet ◆ ln ◆ lineNum ◆ crossref\n",
      "IDENTICAL: all 5927 items\n",
      "=    : uruk-iii ◆ P000456 ◆ 323 ◆ 1 ◆ P000014.oi2\n",
      "=    : uruk-iii ◆ P000456 ◆ 326 ◆ 3 ◆ P000014.oiii5\n",
      "=    : uruk-iii ◆ P000456 ◆ 332 ◆ 1 ◆ P000014.oii8\n",
      "=    : uruk-iii ◆ P000456 ◆ 335 ◆ 3 ◆ P000014.ri2\n",
      "=    : uruk-iii ◆ P002498 ◆ 7071 ◆ 1 ◆ Q000026.007\n",
      "=    : uruk-iii ◆ P002498 ◆ 7073 ◆ 2 ◆ Q000026.008\n",
      "=    : uruk-iii ◆ P002498 ◆ 7075 ◆ 3 ◆ Q000026.009\n",
      "=    : uruk-iii ◆ P002498 ◆ 7077 ◆ 4 ◆ Q000026.010\n",
      "=    : uruk-iii ◆ P002498 ◆ 7079 ◆ 5 ◆ Q000026.011\n",
      "=    : uruk-iii ◆ P002498 ◆ 7083 ◆ 1 ◆ Q000026.n\n",
      "=    : uruk-iii ◆ P002498 ◆ 7085 ◆ 2 ◆ Q000026.n\n",
      "=    : uruk-iii ◆ P002498 ◆ 7087 ◆ 3 ◆ Q000026.n\n",
      "=    : uruk-iii ◆ P002498 ◆ 7089 ◆ 4 ◆ Q000026.n\n",
      "=    : uruk-iii ◆ P002498 ◆ 7093 ◆ 1 ◆ Q000026.colophon\n",
      "=    : uruk-iii ◆ P000106 ◆ 18177 ◆ 1 ◆ Q000002.001\n",
      "=    : uruk-iii ◆ P000106 ◆ 18181 ◆ 1 ◆ Q000002.colophon\n",
      "=    : uruk-iii ◆ P000161 ◆ 18191 ◆ 1 ◆ Q000002.001\n",
      "=    : uruk-iii ◆ P000161 ◆ 18193 ◆ 2 ◆ Q000002.002\n",
      "=    : uruk-iii ◆ P000161 ◆ 18195 ◆ 3 ◆ Q000002.003\n",
      "=    : uruk-iii ◆ P000161 ◆ 18197 ◆ 4 ◆ Q000002.004\n",
      "=     and 5907 more\n",
      "Number of results: TF 5927; GREP 5927\n"
     ]
    },
    {
     "data": {
      "text/plain": [
       "True"
      ]
     },
     "execution_count": 30,
     "metadata": {},
     "output_type": "execute_result"
    }
   ],
   "source": [
    "COMP.checkSanity(\n",
    "    ('lineNum', 'crossref'),\n",
    "    grepCrossrefs,\n",
    "    tfCrossrefs,\n",
    "    leeway=1,\n",
    ")"
   ]
  },
  {
   "cell_type": "markdown",
   "metadata": {},
   "source": [
    "## Comments\n",
    "\n",
    "There are several types of comments: rulings (`$`), metadata (`#`), and object descriptions\n",
    "(`@object`).\n",
    "\n",
    "Comments can be associated with many kinds of source lines."
   ]
  },
  {
   "cell_type": "code",
   "execution_count": 31,
   "metadata": {
    "ExecuteTime": {
     "end_time": "2018-03-06T06:45:52.390830Z",
     "start_time": "2018-03-06T06:45:52.375519Z"
    }
   },
   "outputs": [],
   "source": [
    "cTypes = set('''\n",
    "    tablet\n",
    "    face\n",
    "    column\n",
    "    line\n",
    "    case\n",
    "'''.strip().split())"
   ]
  },
  {
   "cell_type": "markdown",
   "metadata": {},
   "source": [
    "### Object descriptions\n",
    "\n",
    "The object descriptions are tied to tablets."
   ]
  },
  {
   "cell_type": "code",
   "execution_count": 32,
   "metadata": {
    "ExecuteTime": {
     "end_time": "2018-03-06T06:45:53.696447Z",
     "start_time": "2018-03-06T06:45:53.668963Z"
    }
   },
   "outputs": [],
   "source": [
    "def tfObjects():\n",
    "    tobjects = []\n",
    "    for t in F.otype.s('tablet'):\n",
    "        (tablet, column, line) = T.sectionFromNode(t)\n",
    "        objects = (o for o in L.d(t, otype='comment') if F.type.v(o) == 'object')\n",
    "        for obj in objects:\n",
    "            tobjects.append((\n",
    "                F.period.v(t), tablet, F.srcLnNum.v(obj), \n",
    "                F.catalogId.v(t), F.text.v(obj)\n",
    "            ))\n",
    "    return tobjects"
   ]
  },
  {
   "cell_type": "code",
   "execution_count": 33,
   "metadata": {
    "ExecuteTime": {
     "end_time": "2018-03-06T06:45:54.842065Z",
     "start_time": "2018-03-06T06:45:54.826165Z"
    }
   },
   "outputs": [],
   "source": [
    "objectDetect = '''\n",
    "(?:\n",
    "    ^@object\n",
    "    \\s+\n",
    "    (.*)\n",
    ")\n",
    "'''"
   ]
  },
  {
   "cell_type": "code",
   "execution_count": 34,
   "metadata": {
    "ExecuteTime": {
     "end_time": "2018-03-06T06:45:55.708019Z",
     "start_time": "2018-03-06T06:45:55.675810Z"
    }
   },
   "outputs": [],
   "source": [
    "def grepObjects(gen):\n",
    "    objectRe = re.compile(objectDetect, re.X)\n",
    "\n",
    "    tobjects = []\n",
    "    ncTablets = set()\n",
    "    for (period, tablet, ln, line, skip) in gen:\n",
    "        if skip:\n",
    "            ncTablets.add(tablet)\n",
    "            continue\n",
    "        match = objectRe.match(line)\n",
    "        if match:\n",
    "            text = match.group(1).strip()\n",
    "            tobjects.append((period, tablet, ln, tablet, text))\n",
    "    if ncTablets:\n",
    "        NCmsg(len(ncTablets))\n",
    "    return tobjects"
   ]
  },
  {
   "cell_type": "code",
   "execution_count": 35,
   "metadata": {
    "ExecuteTime": {
     "end_time": "2018-03-06T06:45:57.426901Z",
     "start_time": "2018-03-06T06:45:56.947653Z"
    }
   },
   "outputs": [
    {
     "name": "stdout",
     "output_type": "stream",
     "text": [
      "GREP: skipped 34 tablets: duplicate or non-physical\n",
      "HEAD : period ◆ tablet ◆ ln ◆ text\n",
      "IDENTICAL: all 403 items\n",
      "=    : uruk-iii ◆ P274834 ◆ 42143 ◆ P274834 ◆ seal\n",
      "=    : uruk-iii ◆ P368413 ◆ 42152 ◆ P368413 ◆ seal\n",
      "=    : uruk-iii ◆ P454537 ◆ 42160 ◆ P454537 ◆ seal\n",
      "=    : uruk-iii ◆ P456542 ◆ 42201 ◆ P456542 ◆ seal\n",
      "=    : uruk-iii ◆ P472780 ◆ 42209 ◆ P472780 ◆ seal\n",
      "=    : uruk-iii ◆ P472781 ◆ 42217 ◆ P472781 ◆ seal\n",
      "=    : uruk-iii ◆ P472782 ◆ 42225 ◆ P472782 ◆ seal\n",
      "=    : uruk-iii ◆ P472783 ◆ 42233 ◆ P472783 ◆ seal\n",
      "=    : uruk-iii ◆ P472784 ◆ 42241 ◆ P472784 ◆ seal\n",
      "=    : uruk-iii ◆ P472785 ◆ 42249 ◆ P472785 ◆ seal\n",
      "=    : uruk-iii ◆ P472786 ◆ 42257 ◆ P472786 ◆ seal\n",
      "=    : uruk-iii ◆ P472787 ◆ 42265 ◆ P472787 ◆ seal\n",
      "=    : uruk-iii ◆ P472788 ◆ 42273 ◆ P472788 ◆ seal\n",
      "=    : uruk-iii ◆ P472789 ◆ 42281 ◆ P472789 ◆ seal\n",
      "=    : uruk-iii ◆ P472790 ◆ 42289 ◆ P472790 ◆ seal\n",
      "=    : uruk-iii ◆ P472791 ◆ 42297 ◆ P472791 ◆ seal\n",
      "=    : uruk-iii ◆ P472792 ◆ 42305 ◆ P472792 ◆ seal\n",
      "=    : uruk-iii ◆ P472793 ◆ 42313 ◆ P472793 ◆ seal\n",
      "=    : uruk-iii ◆ P472794 ◆ 42321 ◆ P472794 ◆ seal\n",
      "=    : uruk-iii ◆ P472795 ◆ 42329 ◆ P472795 ◆ seal\n",
      "=     and 383 more\n",
      "Number of results: TF 403; GREP 403\n"
     ]
    },
    {
     "data": {
      "text/plain": [
       "True"
      ]
     },
     "execution_count": 35,
     "metadata": {},
     "output_type": "execute_result"
    }
   ],
   "source": [
    "COMP.checkSanity(\n",
    "    ('text',),\n",
    "    grepObjects,\n",
    "    tfObjects,\n",
    ")"
   ]
  },
  {
   "cell_type": "markdown",
   "metadata": {},
   "source": [
    "### Rulings\n",
    "\n",
    "These are not really comments, but markings on the tablets.\n",
    "\n",
    "In order to find rulings that are associated to a node, we \n",
    "traverse from that node via `comments` edges."
   ]
  },
  {
   "cell_type": "code",
   "execution_count": 36,
   "metadata": {
    "ExecuteTime": {
     "end_time": "2018-03-06T06:46:00.408778Z",
     "start_time": "2018-03-06T06:46:00.377684Z"
    }
   },
   "outputs": [],
   "source": [
    "def tfRulings():\n",
    "    rulings = []\n",
    "    for n in N():\n",
    "        if F.otype.v(n) not in cTypes:\n",
    "            continue\n",
    "        cNodes = [c for c in E.comments.f(n) if F.type.v(c) == 'ruling']\n",
    "        if not cNodes:\n",
    "            continue\n",
    "        t = L.u(n, otype='tablet')[0] if F.otype.v(n) != 'tablet' else n\n",
    "        (tablet, column, line) = T.sectionFromNode(n)\n",
    "        for cNode in cNodes:\n",
    "            rulings.append((\n",
    "                F.period.v(t), tablet, F.srcLnNum.v(cNode), \n",
    "                F.text.v(cNode)\n",
    "            ))\n",
    "    return rulings"
   ]
  },
  {
   "cell_type": "code",
   "execution_count": 37,
   "metadata": {
    "ExecuteTime": {
     "end_time": "2018-03-06T06:46:01.144449Z",
     "start_time": "2018-03-06T06:46:01.127923Z"
    }
   },
   "outputs": [],
   "source": [
    "rulingDetect = '''\n",
    "(?:\n",
    "    ^\\$\n",
    "    \\s*\n",
    "    (.*)\n",
    ")\n",
    "'''"
   ]
  },
  {
   "cell_type": "code",
   "execution_count": 38,
   "metadata": {
    "ExecuteTime": {
     "end_time": "2018-03-06T06:46:01.846726Z",
     "start_time": "2018-03-06T06:46:01.817400Z"
    }
   },
   "outputs": [],
   "source": [
    "def grepRulings(gen):\n",
    "    rulingRe = re.compile(rulingDetect, re.X)\n",
    "\n",
    "    rulings = []\n",
    "    ncTablets = set()\n",
    "    for (period, tablet, ln, line, skip) in gen:\n",
    "        if skip:\n",
    "            ncTablets.add(tablet)\n",
    "            continue\n",
    "        match = rulingRe.match(line)\n",
    "        if match:\n",
    "            text = match.group(1).strip()\n",
    "            rulings.append((period, tablet, ln, text))\n",
    "    if ncTablets:\n",
    "        NCmsg(len(ncTablets))\n",
    "    return rulings"
   ]
  },
  {
   "cell_type": "code",
   "execution_count": 39,
   "metadata": {
    "ExecuteTime": {
     "end_time": "2018-03-06T06:46:03.433915Z",
     "start_time": "2018-03-06T06:46:02.764206Z"
    }
   },
   "outputs": [
    {
     "name": "stdout",
     "output_type": "stream",
     "text": [
      "GREP: skipped 34 tablets: duplicate or non-physical\n",
      "HEAD : period ◆ tablet ◆ ln ◆ text\n",
      "IDENTICAL: all 4057 items\n",
      "=    : uruk-iii ◆ P448701 ◆ 49 ◆ (not imaged)\n",
      "=    : uruk-iii ◆ P448702 ◆ 58 ◆ beginning broken\n",
      "=    : uruk-iii ◆ P448702 ◆ 64 ◆ beginning broken\n",
      "=    : uruk-iii ◆ P448702 ◆ 65 ◆ blank space\n",
      "=    : uruk-iii ◆ P448702 ◆ 68 ◆ beginning broken\n",
      "=    : uruk-iii ◆ P448702 ◆ 69 ◆ blank space\n",
      "=    : uruk-iii ◆ P448702 ◆ 71 ◆ (not imaged)\n",
      "=    : uruk-iii ◆ P448703 ◆ 86 ◆ blank space\n",
      "=    : uruk-iii ◆ P448703 ◆ 88 ◆ (not imaged)\n",
      "=    : uruk-iii ◆ P471695 ◆ 104 ◆ n lines broken\n",
      "=    : uruk-iii ◆ P471695 ◆ 107 ◆ rest broken\n",
      "=    : uruk-iii ◆ P471695 ◆ 108 ◆ (for a total of 12 sub-cases with PNN)\n",
      "=    : uruk-iii ◆ P471695 ◆ 112 ◆ blank space\n",
      "=    : uruk-iii ◆ P471695 ◆ 113 ◆ rest broken\n",
      "=    : uruk-iii ◆ P471695 ◆ 115 ◆ beginning broken\n",
      "=    : uruk-iii ◆ P482082 ◆ 125 ◆ beginning broken\n",
      "=    : uruk-iii ◆ P482082 ◆ 130 ◆ (not given)\n",
      "=    : uruk-iii ◆ P482083 ◆ 139 ◆ beginning broken\n",
      "=    : uruk-iii ◆ P482083 ◆ 146 ◆ beginning broken\n",
      "=    : uruk-iii ◆ P482083 ◆ 151 ◆ (not given)\n",
      "=     and 4037 more\n",
      "Number of results: TF 4057; GREP 4057\n"
     ]
    },
    {
     "data": {
      "text/plain": [
       "True"
      ]
     },
     "execution_count": 39,
     "metadata": {},
     "output_type": "execute_result"
    }
   ],
   "source": [
    "COMP.checkSanity(\n",
    "    ('text',),\n",
    "    grepRulings,\n",
    "    tfRulings,\n",
    ")"
   ]
  },
  {
   "cell_type": "markdown",
   "metadata": {},
   "source": [
    "### Metadata\n",
    "\n",
    "These are reall comments, in the sense that they do not correspond to \n",
    "information on the tablets, but remarks supplied by the transcribers.\n",
    "\n",
    "As with rulings, in order to find metadat that is associated to a node, we \n",
    "traverse from that node via `comments` edges."
   ]
  },
  {
   "cell_type": "code",
   "execution_count": 40,
   "metadata": {
    "ExecuteTime": {
     "end_time": "2018-03-06T06:46:06.076775Z",
     "start_time": "2018-03-06T06:46:06.047156Z"
    }
   },
   "outputs": [],
   "source": [
    "def tfMetas():\n",
    "    metas = []\n",
    "    for n in N():\n",
    "        if F.otype.v(n) not in cTypes:\n",
    "            continue\n",
    "        cNodes = [c for c in E.comments.f(n) if F.type.v(c) == 'meta']\n",
    "        if not cNodes:\n",
    "            continue\n",
    "        t = L.u(n, otype='tablet')[0] if F.otype.v(n) != 'tablet' else n\n",
    "        (tablet, column, line) = T.sectionFromNode(n)\n",
    "        for cNode in cNodes:\n",
    "            metas.append((\n",
    "                F.period.v(t), tablet, F.srcLnNum.v(cNode), \n",
    "                F.text.v(cNode)\n",
    "            ))\n",
    "    return metas"
   ]
  },
  {
   "cell_type": "code",
   "execution_count": 41,
   "metadata": {
    "ExecuteTime": {
     "end_time": "2018-03-06T06:46:06.832486Z",
     "start_time": "2018-03-06T06:46:06.815740Z"
    }
   },
   "outputs": [],
   "source": [
    "metaDetect = '''\n",
    "(?:\n",
    "    ^[#]\n",
    "    \\s*\n",
    "    (.*)\n",
    ")\n",
    "'''"
   ]
  },
  {
   "cell_type": "code",
   "execution_count": 42,
   "metadata": {
    "ExecuteTime": {
     "end_time": "2018-03-06T06:46:07.443492Z",
     "start_time": "2018-03-06T06:46:07.414650Z"
    }
   },
   "outputs": [],
   "source": [
    "def grepMetas(gen):\n",
    "    metaRe = re.compile(metaDetect, re.X)\n",
    "\n",
    "    metas = []\n",
    "    ncTablets = set()\n",
    "    for (period, tablet, ln, line, skip) in gen:\n",
    "        if skip:\n",
    "            ncTablets.add(tablet)\n",
    "            continue\n",
    "        match = metaRe.match(line)\n",
    "        if match:\n",
    "            text = match.group(1).strip()\n",
    "            metas.append((period, tablet, ln, text))\n",
    "    if ncTablets:\n",
    "        NCmsg(len(ncTablets))\n",
    "    return metas"
   ]
  },
  {
   "cell_type": "code",
   "execution_count": 43,
   "metadata": {
    "ExecuteTime": {
     "end_time": "2018-03-06T06:46:08.782374Z",
     "start_time": "2018-03-06T06:46:08.037694Z"
    }
   },
   "outputs": [
    {
     "name": "stdout",
     "output_type": "stream",
     "text": [
      "GREP: skipped 34 tablets: duplicate or non-physical\n",
      "HEAD : period ◆ tablet ◆ ln ◆ text\n",
      "IDENTICAL: all 6630 items\n",
      "=    : uruk-iii ◆ P006427 ◆ 2 ◆ atf: lang qpc\n",
      "=    : uruk-iii ◆ P006428 ◆ 13 ◆ atf: lang qpc\n",
      "=    : uruk-iii ◆ P448701 ◆ 39 ◆ atf: lang qpc\n",
      "=    : uruk-iii ◆ P448702 ◆ 54 ◆ atf: lang qpc\n",
      "=    : uruk-iii ◆ P448703 ◆ 76 ◆ atf: lang qpc\n",
      "=    : uruk-iii ◆ P471695 ◆ 93 ◆ atf: lang qpc\n",
      "=    : uruk-iii ◆ P482082 ◆ 121 ◆ atf: lang qpc\n",
      "=    : uruk-iii ◆ P482083 ◆ 135 ◆ atf: lang qpc\n",
      "=    : uruk-iii ◆ P482083 ◆ 144 ◆ calculation: 3(N01) ÷ 10 = 1(N39) 1(N24)\n",
      "=    : uruk-iii ◆ P499393 ◆ 156 ◆ atf: lang qpc\n",
      "=    : uruk-iii ◆ P504412 ◆ 176 ◆ atf: lang qpc\n",
      "=    : uruk-iii ◆ P504413 ◆ 200 ◆ atf: lang qpc\n",
      "=    : uruk-iii ◆ P006438 ◆ 211 ◆ atf: lang qpc\n",
      "=    : uruk-iii ◆ P000014 ◆ 234 ◆ atf: lang qpc\n",
      "=    : uruk-iii ◆ P000014 ◆ 240 ◆ = P000456 obv. ii 1\n",
      "=    : uruk-iii ◆ P000014 ◆ 258 ◆ = P000456 obv. iii 1\n",
      "=    : uruk-iii ◆ P000014 ◆ 267 ◆ = P000456 obv. ii 3\n",
      "=    : uruk-iii ◆ P000014 ◆ 277 ◆ = P000456 obv. iii 3\n",
      "=    : uruk-iii ◆ P000456 ◆ 312 ◆ atf: lang qpc\n",
      "=    : uruk-iii ◆ P002718 ◆ 343 ◆ atf: lang qpc\n",
      "=     and 6610 more\n",
      "Number of results: TF 6630; GREP 6630\n"
     ]
    },
    {
     "data": {
      "text/plain": [
       "True"
      ]
     },
     "execution_count": 43,
     "metadata": {},
     "output_type": "execute_result"
    }
   ],
   "source": [
    "COMP.checkSanity(\n",
    "    ('text',),\n",
    "    grepMetas,\n",
    "    tfMetas,\n",
    ")"
   ]
  },
  {
   "cell_type": "markdown",
   "metadata": {},
   "source": [
    "## Graphemes"
   ]
  },
  {
   "cell_type": "markdown",
   "metadata": {},
   "source": [
    "Note that we have loaded functions to produce atf representations\n",
    "for signs, quads and clusters from the Cunei submodule of TF.\n",
    "These functions take care of repeats, primes, variants modifiers, and flags.\n",
    "See [additions](https://github.com/Dans-labs/text-fabric/wiki/Additions).\n",
    "\n",
    "A complication is that there are missing line numbers in a few cases, \n",
    "so the usual grep pattern does not pick them up.\n",
    "\n",
    "There a lines that start with `[` and with `|`, so we have to take care we get them.\n",
    "\n",
    "There are also line numbers with a hyphen in it, such as `6-7`."
   ]
  },
  {
   "cell_type": "markdown",
   "metadata": {},
   "source": [
    "### Primes\n",
    "\n",
    "First an overview of the occurrence of primes.\n",
    "\n",
    "**N.B.:** This gathers primes on *signs*, *column* numbers and *case* numbers."
   ]
  },
  {
   "cell_type": "code",
   "execution_count": 44,
   "metadata": {
    "ExecuteTime": {
     "end_time": "2018-03-06T06:46:12.241409Z",
     "start_time": "2018-03-06T06:46:12.221431Z"
    }
   },
   "outputs": [
    {
     "name": "stdout",
     "output_type": "stream",
     "text": [
      " 5164 x 1\n",
      "    1 x 2\n"
     ]
    }
   ],
   "source": [
    "for (value, frequency) in F.prime.freqList():\n",
    "    print(f'{frequency:>5} x {value}')"
   ]
  },
  {
   "cell_type": "markdown",
   "metadata": {},
   "source": [
    "We also want so see the node types of primed entities."
   ]
  },
  {
   "cell_type": "code",
   "execution_count": 45,
   "metadata": {
    "ExecuteTime": {
     "end_time": "2018-03-06T06:46:14.858089Z",
     "start_time": "2018-03-06T06:46:14.823800Z"
    }
   },
   "outputs": [
    {
     "name": "stdout",
     "output_type": "stream",
     "text": [
      " 4633 x case\n",
      "  523 x column\n",
      "    8 x sign\n"
     ]
    }
   ],
   "source": [
    "primed = collections.Counter()\n",
    "for n in F.prime.s(1):\n",
    "    primed[F.otype.v(n)] += 1\n",
    "for x in sorted(primed.items()):\n",
    "    print(f'{x[1]:>5} x {x[0]}')"
   ]
  },
  {
   "cell_type": "markdown",
   "metadata": {},
   "source": [
    "Now let us check the primes with grep, directly in the source files.\n",
    "We look into lines starting with a (hierarchical number), followed by space,\n",
    "and then later a single of double prime, but not one within a grapheme, such as `GA'AR`."
   ]
  },
  {
   "cell_type": "code",
   "execution_count": 46,
   "metadata": {
    "ExecuteTime": {
     "end_time": "2018-03-06T06:46:16.591598Z",
     "start_time": "2018-03-06T06:46:16.564247Z"
    }
   },
   "outputs": [],
   "source": [
    "def tfPrimes():\n",
    "    primes = []\n",
    "    for n in F.otype.s('sign'):\n",
    "        if not F.prime.v(n):\n",
    "            continue\n",
    "        (tablet, column, line) = T.sectionFromNode(n)\n",
    "        t = L.u(n, otype='tablet')[0]\n",
    "        case = L.u(n, otype='case')[0]\n",
    "        \n",
    "        primes.append((F.period.v(t), tablet, F.srcLnNum.v(case), f\"{CN.atfFromSign(n)}\"))\n",
    "    return primes"
   ]
  },
  {
   "cell_type": "code",
   "execution_count": 47,
   "metadata": {
    "ExecuteTime": {
     "end_time": "2018-03-06T06:46:17.530729Z",
     "start_time": "2018-03-06T06:46:17.512796Z"
    }
   },
   "outputs": [],
   "source": [
    "primeDetect = f'''\n",
    "(?:\n",
    "    {lineNumDetect}\n",
    "    (\n",
    "        .*\n",
    "        [\\'\"]\n",
    "        [^A]\n",
    "        .*\n",
    "    )\n",
    ")\n",
    "'''\n",
    "\n",
    "graphemePrimePat = '''\n",
    "(?:\n",
    "        (?:\n",
    "            [0-9N]+\n",
    "            \\(\n",
    "                [^)]+[\\'\"]+\n",
    "            \\)\n",
    "        )\n",
    "    |\n",
    "        (?:\n",
    "            [A-Z0-9~@a-wyz\\'-]+\\'+\n",
    "        )\n",
    ")\n",
    "'''"
   ]
  },
  {
   "cell_type": "code",
   "execution_count": 48,
   "metadata": {
    "ExecuteTime": {
     "end_time": "2018-03-06T06:46:18.502639Z",
     "start_time": "2018-03-06T06:46:18.457107Z"
    }
   },
   "outputs": [],
   "source": [
    "def grepPrimes(gen):\n",
    "    primes = []\n",
    "    primeRe = re.compile(primeDetect, re.X)\n",
    "    graphemeRe = re.compile(graphemePrimePat, re.X)\n",
    "    ncTablets = set()\n",
    "    for (period, tablet, ln, line, skip) in gen:\n",
    "        if skip:\n",
    "            ncTablets.add(tablet)\n",
    "            continue\n",
    "        line = tweakLine(line, ln)\n",
    "        match = primeRe.match(line)\n",
    "        if match:\n",
    "            material = match.group(1)\n",
    "            if '\"' in material:\n",
    "                print(f'GREP: in \"{material}\": replacing \" by \\'')\n",
    "                material = material.replace('\"', \"'\")\n",
    "            graphemes = graphemeRe.findall(material)\n",
    "            for grapheme in graphemes:\n",
    "                primes.append((period, tablet, ln, grapheme))\n",
    "    if ncTablets:\n",
    "        NCmsg(len(ncTablets))\n",
    "    return primes"
   ]
  },
  {
   "cell_type": "code",
   "execution_count": 49,
   "metadata": {
    "ExecuteTime": {
     "end_time": "2018-03-06T06:46:19.572383Z",
     "start_time": "2018-03-06T06:46:19.296832Z"
    }
   },
   "outputs": [
    {
     "name": "stdout",
     "output_type": "stream",
     "text": [
      "GREP: skipped 34 tablets: duplicate or non-physical\n",
      "HEAD : period ◆ tablet ◆ ln ◆ grapheme\n",
      "IDENTICAL: all 9 items\n",
      "=    : uruk-iii ◆ P411604 ◆ 51246 ◆ 1(N24'')\n",
      "=    : uruk-iii ◆ P411610 ◆ 51352 ◆ 1(N24')\n",
      "=    : uruk-iii ◆ P411610 ◆ 51354 ◆ 1(N24')\n",
      "=    : uruk-iii ◆ P411610 ◆ 51356 ◆ 1(N24')\n",
      "=    : uruk-iii ◆ P411610 ◆ 51358 ◆ 1(N24')\n",
      "=    : uruk-iii ◆ P411539 ◆ 51690 ◆ 1(N24')\n",
      "=    : uruk-iii ◆ P006437 ◆ 57059 ◆ 1(N30c')\n",
      "=    : uruk-iii ◆ P464140 ◆ 58618 ◆ 1(N24')\n",
      "=    : uruk-iii ◆ P464140 ◆ 58619 ◆ 1(N24')\n",
      "=     no more items\n",
      "Number of results: TF 9; GREP 9\n"
     ]
    },
    {
     "data": {
      "text/plain": [
       "True"
      ]
     },
     "execution_count": 49,
     "metadata": {},
     "output_type": "execute_result"
    }
   ],
   "source": [
    "COMP.checkSanity(\n",
    "    ('grapheme',),\n",
    "    grepPrimes,\n",
    "    tfPrimes,\n",
    ")"
   ]
  },
  {
   "cell_type": "markdown",
   "metadata": {},
   "source": [
    "### Variants and modifiers\n",
    "\n",
    "Overview of variants:"
   ]
  },
  {
   "cell_type": "code",
   "execution_count": 50,
   "metadata": {
    "ExecuteTime": {
     "end_time": "2018-03-06T06:46:23.243118Z",
     "start_time": "2018-03-06T06:46:23.201989Z"
    }
   },
   "outputs": [
    {
     "name": "stdout",
     "output_type": "stream",
     "text": [
      "23162 x a\n",
      " 3994 x b\n",
      " 1505 x c\n",
      " 1308 x a1\n",
      "  689 x b1\n",
      "  188 x a2\n",
      "  183 x d\n",
      "  125 x b2\n",
      "   85 x f\n",
      "   72 x a3\n",
      "   42 x e\n",
      "   29 x c2\n",
      "   22 x c1\n",
      "   22 x c3\n",
      "   14 x c5\n",
      "   12 x a0\n",
      "   12 x b3\n",
      "   12 x d1\n",
      "   12 x v\n",
      "   11 x c4\n",
      "    6 x a4\n",
      "    6 x g\n",
      "    5 x d2\n",
      "    4 x d4\n",
      "    4 x h\n",
      "    2 x 3a\n",
      "    2 x d3\n",
      "    1 x h2\n"
     ]
    }
   ],
   "source": [
    "for (value, frequency) in F.variant.freqList():\n",
    "    print(f'{frequency:>5} x {value}')"
   ]
  },
  {
   "cell_type": "markdown",
   "metadata": {},
   "source": [
    "Overview of modifiers outside a repeat expression, like `1(N57)@t`:"
   ]
  },
  {
   "cell_type": "code",
   "execution_count": 51,
   "metadata": {
    "ExecuteTime": {
     "end_time": "2018-03-06T06:46:25.853024Z",
     "start_time": "2018-03-06T06:46:25.830272Z"
    }
   },
   "outputs": [
    {
     "name": "stdout",
     "output_type": "stream",
     "text": [
      "  634 x g\n",
      "  262 x t\n",
      "   35 x n\n",
      "    6 x r\n",
      "    4 x s\n",
      "    1 x c\n",
      "    1 x h\n"
     ]
    }
   ],
   "source": [
    "for (value, frequency) in F.modifier.freqList():\n",
    "    print(f'{frequency:>5} x {value}')"
   ]
  },
  {
   "cell_type": "markdown",
   "metadata": {},
   "source": [
    "Overview of modifiers within a repeat expression, like `7(N34@f)#`:"
   ]
  },
  {
   "cell_type": "code",
   "execution_count": 52,
   "metadata": {
    "ExecuteTime": {
     "end_time": "2018-03-06T06:46:27.069779Z",
     "start_time": "2018-03-06T06:46:27.052192Z"
    }
   },
   "outputs": [
    {
     "name": "stdout",
     "output_type": "stream",
     "text": [
      "   25 x f\n",
      "    1 x r\n",
      "    1 x v\n"
     ]
    }
   ],
   "source": [
    "for (value, frequency) in F.modifierInner.freqList():\n",
    "    print(f'{frequency:>5} x {value}')"
   ]
  },
  {
   "cell_type": "markdown",
   "metadata": {},
   "source": [
    "So there are many variants and considerably fewer modifiers."
   ]
  },
  {
   "cell_type": "markdown",
   "metadata": {},
   "source": [
    "We look for variants and modifiers in the TF resource and by GREPping them from the sources."
   ]
  },
  {
   "cell_type": "code",
   "execution_count": 53,
   "metadata": {
    "ExecuteTime": {
     "end_time": "2018-03-06T06:46:29.437728Z",
     "start_time": "2018-03-06T06:46:29.386264Z"
    }
   },
   "outputs": [],
   "source": [
    "def tfVarMod():\n",
    "    varmods = []\n",
    "    for n in F.otype.s('sign'):\n",
    "        variant = F.variant.v(n)\n",
    "        modifier = F.modifier.v(n)\n",
    "        modifierInner = F.modifierInner.v(n)\n",
    "        if variant is None and modifier is None and modifierInner is None:\n",
    "            continue\n",
    "        (tablet, column, line) = T.sectionFromNode(n)\n",
    "        t = L.u(n, otype='tablet')[0]\n",
    "        case = L.u(n, otype='case')[0]\n",
    "        \n",
    "        position = (F.period.v(t), tablet, F.srcLnNum.v(case))\n",
    "        varmods.append((*position, f\"{CN.atfFromSign(n)}\"))\n",
    "\n",
    "        written = F.written.v(n)\n",
    "        if written is not None:\n",
    "            if '~' in written:\n",
    "                varmods.append((*position, written))\n",
    "\n",
    "    return varmods"
   ]
  },
  {
   "cell_type": "markdown",
   "metadata": {},
   "source": [
    "#### Order\n",
    "Modifiers and variants may come in any order.\n",
    "The conversion has set *modifierFirst* on those items where the modifier precedes the variant.\n",
    "\n",
    "Hence, when we fetch data from TF, we can and do put modifiers and variants in the right order.\n",
    "\n",
    "Examples:\n",
    "\n",
    "```\n",
    "3. 1(N14) 8(N01) , RAD~a@g ERIM~a SZU2 A?\n",
    "```\n",
    "\n",
    "and cases with modifier and then variant:\n",
    "\n",
    "```\n",
    "4. 2(N01) , URUDU@g~b SZU2#\n",
    "```\n",
    "\n",
    "both from the same tablet P003407.\n",
    "\n",
    "#### Uppercase\n",
    "We encounter modifiers or variants in uppercase.\n",
    "The conversion has brought them to lower case.\n",
    "When we fetch data by grep, we perform this lowercasing before making the comparison.\n",
    "\n",
    "#### Stray modifier\n",
    "Somewhere in the source is `SUKUD@inversum`.\n",
    "The conversion translates the `@inversum` to `@v`.\n",
    "We have to mimick that when we do grep."
   ]
  },
  {
   "cell_type": "markdown",
   "metadata": {},
   "source": [
    "### Tweaks\n",
    "During conversion, we found some problems in the sources and tweaked them.\n",
    "When we grep, we must repeat those tweaks, in order to get comparable results.\n",
    "\n",
    "See the [diagnostics](https://github.com/Dans-labs/Nino-cunei/blob/master/reports/diagnostics.tsv)"
   ]
  },
  {
   "cell_type": "code",
   "execution_count": 54,
   "metadata": {
    "ExecuteTime": {
     "end_time": "2018-03-06T06:46:33.662728Z",
     "start_time": "2018-03-06T06:46:33.596331Z"
    }
   },
   "outputs": [],
   "source": [
    "TWEAK_MATERIAL01 = (\n",
    "#    ('4\"', \"4'\"),\n",
    "#    ('[,', ''),\n",
    "    ('SA|L', 'SAL|'),\n",
    "    ('~x(|EN~c.NUN~a|)', '~v (|EN~c.NUN~a|)a'),\n",
    "    ('~x', '~v'),\n",
    "    ('U2@~b', 'U2~b'),\n",
    "#    (')|U', ') |U'),\n",
    "    ('1N(02)', '1(N02)'),\n",
    "    ('(1N', '1(N'),\n",
    "#    ('~A', '~a'),\n",
    "    ('{', '('),\n",
    "    ('}', ')'),\n",
    "#    ('sag-apin', 'sag-apin'),\n",
    "#    ('@inversum', '@v'),\n",
    "     (('KI@', -1), 'KI#'),\n",
    ")\n",
    "\n",
    "TWEAK_MATERIAL = ()\n",
    "\n",
    "def tweakBeforeGrep(material):\n",
    "    for (pat, rep) in TWEAK_MATERIAL:\n",
    "        if type(pat) is tuple:\n",
    "            (pat, pos) = pat\n",
    "            if pos == 0:\n",
    "                condition = material.startswith(pat)\n",
    "                mark = ' (at start)'\n",
    "            elif pos == -1:\n",
    "                condition = material.endswith(pat)\n",
    "                mark = ' (at end)'\n",
    "        else:\n",
    "            pos = None\n",
    "            condition = pat in material\n",
    "            mark = ''\n",
    "\n",
    "        if condition:\n",
    "            print(f'GREP: tweak \"{pat}\" => \"{rep}\"')\n",
    "            if pos is None:\n",
    "                material = material.replace(pat, rep)\n",
    "            elif pos == 0:\n",
    "                material = material.replace(pat, rep, 1)\n",
    "            else:\n",
    "                material = material[0:-len(pat)] + rep\n",
    "    return material"
   ]
  },
  {
   "cell_type": "code",
   "execution_count": 55,
   "metadata": {
    "ExecuteTime": {
     "end_time": "2018-03-06T06:46:34.732578Z",
     "start_time": "2018-03-06T06:46:34.717249Z"
    }
   },
   "outputs": [],
   "source": [
    "upperPat = '''\n",
    "(?:\n",
    "    [~]([A-Z])\n",
    ")\n",
    "'''"
   ]
  },
  {
   "cell_type": "code",
   "execution_count": 56,
   "metadata": {
    "ExecuteTime": {
     "end_time": "2018-03-06T06:46:35.994691Z",
     "start_time": "2018-03-06T06:46:35.952446Z"
    }
   },
   "outputs": [],
   "source": [
    "upperRe = re.compile(upperPat, re.X)\n",
    "\n",
    "def lower(match):\n",
    "    return f'~{match.group(1).lower()}'\n",
    "\n",
    "def graphemeTweaks(grapheme):\n",
    "    if '@inversum' in grapheme:\n",
    "        print(f'GREP: \"@inversum\" => \"@v\"')\n",
    "        grapheme = grapheme.replace('@inversum', '@v')\n",
    "    if '~a~a' in grapheme:\n",
    "        print(f'GREP: \"~a~a\" => \"~a\"')\n",
    "        grapheme = grapheme.replace('~a~a', '~a')\n",
    "    if upperRe.search(grapheme):\n",
    "        print(f'GREP: uppercase variant/modifier in grapheme changed to lowercase')\n",
    "        grapheme = upperRe.sub(lower, grapheme)\n",
    "    if '\"' in grapheme:\n",
    "        print(f'GREP: double prime replaced by single one')\n",
    "        grapheme = grapheme.replace('\"', \"'\")\n",
    "    if '?#' in grapheme:\n",
    "        print(f'GREP: flags order \"?#\" changed into \"#?\"')\n",
    "        grapheme = grapheme.replace('?#', '#?')\n",
    "    return grapheme"
   ]
  },
  {
   "cell_type": "code",
   "execution_count": 57,
   "metadata": {
    "ExecuteTime": {
     "end_time": "2018-03-06T06:46:36.931529Z",
     "start_time": "2018-03-06T06:46:36.913508Z"
    }
   },
   "outputs": [],
   "source": [
    "varmodDetect = f'''\n",
    "(?:\n",
    "    {lineNumDetect}\n",
    "    (\n",
    "        .*\n",
    "        [@~]\n",
    "        .*\n",
    "    )\n",
    ")\n",
    "'''\n",
    "\n",
    "graphemeVarmodPat = '''\n",
    "(?:\n",
    "        (?:\n",
    "            [0-9N]+\n",
    "            \\(\n",
    "                [^)]+\n",
    "                [@~]\n",
    "                [^)]+\n",
    "            \\)\n",
    "        )\n",
    "    |\n",
    "        (?:\n",
    "            [0-9N]+\n",
    "            \\(\n",
    "                [^)]+\n",
    "            \\)\n",
    "            @[a-z]\n",
    "        )\n",
    "    |\n",
    "        (?:\n",
    "            [A-Z0-9a-wyz\\'-]+\n",
    "            [@~]\n",
    "            [0-9~@a-wyzA-WYZ]+\n",
    "        )\n",
    ")\n",
    "'''"
   ]
  },
  {
   "cell_type": "code",
   "execution_count": 58,
   "metadata": {
    "ExecuteTime": {
     "end_time": "2018-03-06T06:46:37.996189Z",
     "start_time": "2018-03-06T06:46:37.951276Z"
    }
   },
   "outputs": [],
   "source": [
    "def grepVarMod(gen):\n",
    "    varmodRe = re.compile(varmodDetect, re.X)\n",
    "    graphemeRe = re.compile(graphemeVarmodPat, re.X)\n",
    "\n",
    "    varmods = []\n",
    "    ncTablets = set()\n",
    "    for (period, tablet, ln, line, skip) in gen:\n",
    "        if skip:\n",
    "            ncTablets.add(tablet)\n",
    "            continue\n",
    "        line = tweakLine(line, ln)\n",
    "        line = tweakBeforeGrep(line.strip())\n",
    "        match = varmodRe.match(line)\n",
    "        if match:\n",
    "            material = match.group(1)\n",
    "            graphemes = graphemeRe.findall(material)\n",
    "            for grapheme in graphemes:\n",
    "                grapheme = graphemeTweaks(grapheme)\n",
    "                varmods.append((period, tablet, ln, grapheme))\n",
    "    if ncTablets:\n",
    "        NCmsg(len(ncTablets))\n",
    "    return varmods"
   ]
  },
  {
   "cell_type": "code",
   "execution_count": 59,
   "metadata": {
    "ExecuteTime": {
     "end_time": "2018-03-06T06:46:41.143587Z",
     "start_time": "2018-03-06T06:46:39.322223Z"
    }
   },
   "outputs": [
    {
     "name": "stdout",
     "output_type": "stream",
     "text": [
      "GREP: skipped 34 tablets: duplicate or non-physical\n",
      "HEAD : period ◆ tablet ◆ ln ◆ grapheme\n",
      "IDENTICAL: all 31875 items\n",
      "=    : uruk-iii ◆ P006427 ◆ 8 ◆ SANGA~a\n",
      "=    : uruk-iii ◆ P006428 ◆ 27 ◆ DUG~b\n",
      "=    : uruk-iii ◆ P448701 ◆ 44 ◆ AB~a\n",
      "=    : uruk-iii ◆ P448701 ◆ 44 ◆ APIN~a\n",
      "=    : uruk-iii ◆ P448701 ◆ 44 ◆ NUN~a\n",
      "=    : uruk-iii ◆ P448701 ◆ 47 ◆ SZE~a\n",
      "=    : uruk-iii ◆ P448701 ◆ 47 ◆ NUN~a\n",
      "=    : uruk-iii ◆ P448702 ◆ 59 ◆ KA~a\n",
      "=    : uruk-iii ◆ P448702 ◆ 60 ◆ KASZ~b\n",
      "=    : uruk-iii ◆ P448702 ◆ 60 ◆ NUN~a\n",
      "=    : uruk-iii ◆ P448702 ◆ 61 ◆ KASZ~a\n",
      "=    : uruk-iii ◆ P448702 ◆ 62 ◆ 2(N39~a)\n",
      "=    : uruk-iii ◆ P448702 ◆ 66 ◆ SUKUD@h\n",
      "=    : uruk-iii ◆ P471695 ◆ 97 ◆ APIN~a\n",
      "=    : uruk-iii ◆ P471695 ◆ 97 ◆ UR4~a\n",
      "=    : uruk-iii ◆ P471695 ◆ 98 ◆ EN~a\n",
      "=    : uruk-iii ◆ P471695 ◆ 99 ◆ BAN~b\n",
      "=    : uruk-iii ◆ P471695 ◆ 99 ◆ KASZ~c\n",
      "=    : uruk-iii ◆ P471695 ◆ 100 ◆ KI@n\n",
      "=    : uruk-iii ◆ P471695 ◆ 102 ◆ PAP~a\n",
      "=     and 31855 more\n",
      "Number of results: TF 31875; GREP 31875\n"
     ]
    },
    {
     "data": {
      "text/plain": [
       "True"
      ]
     },
     "execution_count": 59,
     "metadata": {},
     "output_type": "execute_result"
    }
   ],
   "source": [
    "COMP.checkSanity(\n",
    "    ('grapheme',),\n",
    "    grepVarMod,\n",
    "    tfVarMod,\n",
    ")"
   ]
  },
  {
   "cell_type": "markdown",
   "metadata": {},
   "source": [
    "### Flags\n",
    "\n",
    "We have several features for flags: \n",
    "\n",
    "mark | feature | comments\n",
    "----|---\n",
    "`*`|*collation* | not encountered in uruk iii-iv\n",
    "`#`|*damage*\n",
    "`?`|*uncertain*\n",
    "`!`|*remarkable*\n",
    "`!(`ggg`)`|*written*\n",
    "\n",
    "#### A bit of research\n",
    "We start by surveying the possible values, including on which node types they occur"
   ]
  },
  {
   "cell_type": "code",
   "execution_count": 60,
   "metadata": {
    "ExecuteTime": {
     "end_time": "2018-03-06T06:46:47.435936Z",
     "start_time": "2018-03-06T06:46:47.418432Z"
    }
   },
   "outputs": [],
   "source": [
    "flagFeatures = '''\n",
    "    damage\n",
    "    remarkable\n",
    "    written\n",
    "    uncertain\n",
    "'''.strip().split()"
   ]
  },
  {
   "cell_type": "code",
   "execution_count": 61,
   "metadata": {
    "ExecuteTime": {
     "end_time": "2018-03-06T06:46:49.657635Z",
     "start_time": "2018-03-06T06:46:48.320435Z"
    }
   },
   "outputs": [
    {
     "name": "stdout",
     "output_type": "stream",
     "text": [
      " 19945 x sign-damage-1\n",
      "  3707 x sign-uncertain-1\n",
      "  1047 x quad-damage-1\n",
      "   319 x quad-uncertain-1\n",
      "    10 x sign-remarkable-1\n",
      "     2 x sign-written-KASKAL\n",
      "     1 x sign-written-GURUSZ~a\n",
      "     1 x sign-written-IB~a\n"
     ]
    }
   ],
   "source": [
    "flagNodeOverview = collections.Counter()\n",
    "flagNodeTypes = set()\n",
    "\n",
    "for n in N():\n",
    "    for ft in flagFeatures:\n",
    "        value = Fs(ft).v(n)\n",
    "        if not value: continue\n",
    "        nType = F.otype.v(n)\n",
    "        flagNodeTypes.add(nType)\n",
    "        flagNodeOverview[f'{nType}-{ft}-{value}'] += 1\n",
    "for (combi, amount) in sorted(flagNodeOverview.items(), key=lambda x: (-x[1], x[0])):\n",
    "    print(f'{amount:>6} x {combi}')"
   ]
  },
  {
   "cell_type": "markdown",
   "metadata": {},
   "source": [
    "Let us see whether there are any cooccurrences of flags."
   ]
  },
  {
   "cell_type": "code",
   "execution_count": 65,
   "metadata": {
    "ExecuteTime": {
     "end_time": "2018-03-06T06:47:05.268840Z",
     "start_time": "2018-03-06T06:47:03.891198Z"
    }
   },
   "outputs": [
    {
     "name": "stdout",
     "output_type": "stream",
     "text": [
      "121462 x     *     -    *     -    *     -    *     \n",
      " 18387 x   damage  -    *     -    *     -    *     \n",
      "  2605 x   damage  -    *     -    *     -uncertain \n",
      "  1420 x     *     -    *     -    *     -uncertain \n",
      "    10 x     *     -remarkable-    *     -    *     \n",
      "     3 x     *     -    *     - written  -    *     \n",
      "     1 x     *     -    *     - written  -uncertain \n"
     ]
    }
   ],
   "source": [
    "flagCombis = collections.Counter()\n",
    "\n",
    "for n in N():\n",
    "    if F.otype.v(n) not in flagNodeTypes:\n",
    "        continue\n",
    "    values = []\n",
    "    for ft in flagFeatures:\n",
    "        rawValue = Fs(ft).v(n)\n",
    "        value = f'{\"*\":^10}' if rawValue is None else f'{ft:^10}' if rawValue else f'{\"\":^10}'\n",
    "        values.append(value)\n",
    "\n",
    "    combi = '-'.join(values)\n",
    "    flagCombis[combi] += 1\n",
    "\n",
    "for (combi, amount) in sorted(flagCombis.items(), key=lambda x: (-x[1], x[0])):\n",
    "    print(f'{amount:>6} x {combi}')"
   ]
  },
  {
   "cell_type": "markdown",
   "metadata": {},
   "source": [
    "We need to address the question about order of flags.\n",
    "\n",
    "A quick inspection in the corpus yields:\n",
    "\n",
    "* damage-uncertain (`#?`) and uncertain-damage (`?#`), but the latter is very rare and all cases\n",
    "  occur in the diagnostics;\n",
    "* uncertain-remarkable (`?!`) does not occur, and remarkable-written-uncertain (`!(`ggg`)?` does occur.\n",
    "\n",
    "Based on this observation, and assuming that the order between *damage* and *uncertain* is not relevant,\n",
    "we produce flags always in the order:\n",
    "\n",
    "* *damage* *remarkable* *written* *uncertain*\n",
    "\n",
    "When grepping, we have to normalize `?#` to `#?`.\n",
    "\n",
    "There is one weird case, diagnosed by the conversion, in tablet P471687:\n",
    "\n",
    "```\n",
    "C1. |DUGb+?|\n",
    "```\n",
    "\n",
    "Here we see an operator `+` of which the second operand `?` consists of a flag without a grapheme.\n",
    "This occurs only once, so I think it is a mistake.\n",
    "\n",
    "Yet we'll find it when we search with TF, so we exclude it."
   ]
  },
  {
   "cell_type": "code",
   "execution_count": 66,
   "metadata": {
    "ExecuteTime": {
     "end_time": "2018-03-06T06:47:08.336589Z",
     "start_time": "2018-03-06T06:47:08.301024Z"
    }
   },
   "outputs": [],
   "source": [
    "def tfFlags():\n",
    "    flags = []\n",
    "    for n in F.otype.s('sign'):\n",
    "        values = [Fs(ft).v(n) for ft in flagFeatures]\n",
    "        if all(value is None for value in values):\n",
    "            continue\n",
    "        (tablet, column, line) = T.sectionFromNode(n)\n",
    "        t = L.u(n, otype='tablet')[0]\n",
    "        case = L.u(n, otype='case')[0]\n",
    "        \n",
    "        sign = f\"{CN.atfFromSign(n, flags=True)}\"\n",
    "        if sign == '?':\n",
    "            print(f'TF: grapheme-less flag skipped in \"{line}\"')\n",
    "            continue\n",
    "        flags.append((F.period.v(t), tablet, F.srcLnNum.v(case), f\"{CN.atfFromSign(n, flags=True)}\"))\n",
    "    return flags"
   ]
  },
  {
   "cell_type": "code",
   "execution_count": 67,
   "metadata": {
    "ExecuteTime": {
     "end_time": "2018-03-06T06:47:09.153686Z",
     "start_time": "2018-03-06T06:47:09.133347Z"
    }
   },
   "outputs": [],
   "source": [
    "flagDetect = f'''\n",
    "(?:\n",
    "    {lineNumDetect}\n",
    "    (\n",
    "        .*\n",
    "        [!?#]\n",
    "        .*\n",
    "    )\n",
    ")\n",
    "'''\n",
    "\n",
    "flagsPat = '''\n",
    "(?:\n",
    "        (?:\n",
    "            !\\([^)]*\\)\n",
    "        )\n",
    "    |\n",
    "        [!#?]\n",
    ")\n",
    "'''\n",
    "\n",
    "graphemeFlagPat = f'''\n",
    "(?:\n",
    "        (?:\n",
    "            [0-9N]+\n",
    "            \\(\n",
    "                [^)]+\n",
    "            \\)\n",
    "            (?:\n",
    "                @[a-z]\n",
    "            )?\n",
    "            {flagsPat}+\n",
    "        )\n",
    "    |\n",
    "        (?:\n",
    "            [A-Z0-9~@a-wyz\\'-]+\n",
    "            {flagsPat}+\n",
    "        )\n",
    ")\n",
    "'''"
   ]
  },
  {
   "cell_type": "code",
   "execution_count": 68,
   "metadata": {
    "ExecuteTime": {
     "end_time": "2018-03-06T06:47:10.430746Z",
     "start_time": "2018-03-06T06:47:10.388673Z"
    }
   },
   "outputs": [],
   "source": [
    "def grepFlags(gen):\n",
    "    flagsRe = re.compile(flagDetect, re.X)\n",
    "    graphemePat = re.compile(graphemeFlagPat, re.X)\n",
    "\n",
    "    flags = []\n",
    "    ncTablets = set()\n",
    "    for (period, tablet, ln, line, skip) in gen:\n",
    "        if skip:\n",
    "            ncTablets.add(tablet)\n",
    "            continue\n",
    "        line = tweakLine(line, ln)\n",
    "        line = tweakBeforeGrep(line.strip())\n",
    "\n",
    "        match = flagsRe.match(line)\n",
    "        if match:\n",
    "            material = match.group(1)\n",
    "            graphemes = graphemePat.findall(material)\n",
    "            for grapheme in graphemes:\n",
    "                grapheme = graphemeTweaks(grapheme)\n",
    "                flags.append((period, tablet, ln, grapheme))\n",
    "    if ncTablets:\n",
    "        NCmsg(len(ncTablets))\n",
    "    return flags"
   ]
  },
  {
   "cell_type": "code",
   "execution_count": 69,
   "metadata": {
    "ExecuteTime": {
     "end_time": "2018-03-06T06:47:13.574443Z",
     "start_time": "2018-03-06T06:47:11.497391Z"
    }
   },
   "outputs": [
    {
     "name": "stdout",
     "output_type": "stream",
     "text": [
      "GREP: skipped 34 tablets: duplicate or non-physical\n",
      "HEAD : period ◆ tablet ◆ ln ◆ grapheme\n",
      "IDENTICAL: all 21245 items\n",
      "=    : uruk-iii ◆ P006427 ◆ 8 ◆ SANGA~a?\n",
      "=    : uruk-iii ◆ P448702 ◆ 61 ◆ KASZ~a?\n",
      "=    : uruk-iii ◆ P448702 ◆ 62 ◆ 6(N14)#?\n",
      "=    : uruk-iii ◆ P471695 ◆ 110 ◆ ISZ~a#?\n",
      "=    : uruk-iii ◆ P471695 ◆ 116 ◆ 6(N01)#\n",
      "=    : uruk-iii ◆ P482082 ◆ 126 ◆ 4(N14)#\n",
      "=    : uruk-iii ◆ P482082 ◆ 127 ◆ 2(N14)#\n",
      "=    : uruk-iii ◆ P482083 ◆ 140 ◆ 1(N14)#\n",
      "=    : uruk-iii ◆ P482083 ◆ 142 ◆ KASZ~b?\n",
      "=    : uruk-iii ◆ P504412 ◆ 185 ◆ MASZ2?\n",
      "=    : uruk-iii ◆ P504412 ◆ 186 ◆ X?\n",
      "=    : uruk-iii ◆ P504412 ◆ 188 ◆ X?\n",
      "=    : uruk-iii ◆ P504412 ◆ 191 ◆ GI4~a#\n",
      "=    : uruk-iii ◆ P504412 ◆ 192 ◆ SAL?\n",
      "=    : uruk-iii ◆ P006438 ◆ 225 ◆ RAD~a#\n",
      "=    : uruk-iii ◆ P006438 ◆ 229 ◆ LAL2~a#?\n",
      "=    : uruk-iii ◆ P006438 ◆ 229 ◆ NIM~b2#?\n",
      "=    : uruk-iii ◆ P000014 ◆ 242 ◆ SZUBUR#\n",
      "=    : uruk-iii ◆ P000014 ◆ 243 ◆ KAB#?\n",
      "=    : uruk-iii ◆ P000014 ◆ 246 ◆ KU3~a#\n",
      "=     and 21225 more\n",
      "Number of results: TF 21245; GREP 21245\n"
     ]
    },
    {
     "data": {
      "text/plain": [
       "True"
      ]
     },
     "execution_count": 69,
     "metadata": {},
     "output_type": "execute_result"
    }
   ],
   "source": [
    "COMP.checkSanity(\n",
    "    ('grapheme',),\n",
    "    grepFlags,\n",
    "    tfFlags,\n",
    ")"
   ]
  },
  {
   "cell_type": "markdown",
   "metadata": {},
   "source": [
    "### All signs\n",
    "\n",
    "Now it is time to do a rigorous comparison of all signs in the transcriptions and in TF.\n",
    "\n",
    "Up till now we included only signs that had primes, variants, modifiers or flags attached to them.\n",
    "Now we extend the comparison to all of them.\n",
    "\n",
    "We still ignore the quad structures with operators and the bracketing of quads (clusters).\n",
    "But we do draw their component signs into the comparison.\n",
    "\n",
    "This comparison lists all signs in textual order, in TF and in GREP, and compares the two lists."
   ]
  },
  {
   "cell_type": "code",
   "execution_count": 70,
   "metadata": {
    "ExecuteTime": {
     "end_time": "2018-03-06T06:47:18.948038Z",
     "start_time": "2018-03-06T06:47:18.916552Z"
    }
   },
   "outputs": [],
   "source": [
    "def tfSigns():\n",
    "    signs = []\n",
    "    for n in F.otype.s('sign'):\n",
    "        if F.grapheme.v(n) == '':\n",
    "            continue\n",
    "        (tablet, column, line) = T.sectionFromNode(n)\n",
    "        t = L.u(n, otype='tablet')[0]\n",
    "        case = L.u(n, otype='case')[0]\n",
    "        \n",
    "        sign = f\"{CN.atfFromSign(n, flags=True)}\"\n",
    "        if sign == '?':\n",
    "            print(f'TF: grapheme-less flag skipped in \"{line}\"')\n",
    "            continue\n",
    "        signs.append((F.period.v(t), tablet, F.srcLnNum.v(case), sign))\n",
    "    return signs"
   ]
  },
  {
   "cell_type": "markdown",
   "metadata": {
    "slideshow": {
     "slide_type": "slide"
    }
   },
   "source": [
    "The regular expression that greps all graphemes from the transcription is quite daunting.\n",
    "Comapare this with the relative easy by which you get all this from the text-fabric representation."
   ]
  },
  {
   "cell_type": "code",
   "execution_count": 71,
   "metadata": {
    "ExecuteTime": {
     "end_time": "2018-03-06T06:47:20.093043Z",
     "start_time": "2018-03-06T06:47:20.072485Z"
    }
   },
   "outputs": [],
   "source": [
    "smallPat = '''\n",
    "(?:\n",
    "    [A-Zn]\n",
    ")\n",
    "'''\n",
    "\n",
    "signDetect = f'''\n",
    "(?:\n",
    "    {lineNumDetect}\n",
    "    (.*)\n",
    ")\n",
    "'''\n",
    "\n",
    "flagsModVarPat = '''\n",
    "(?:\n",
    "        (?:\n",
    "            !\\([^)]*\\)\n",
    "        )\n",
    "    |\n",
    "        [!#?]\n",
    "    |\n",
    "        (?:\n",
    "            @[A-WYZa-wyz]+\n",
    "        )\n",
    "    |\n",
    "        (?:\n",
    "            ~[A-WYZa-wyz0-9]+\n",
    "        )\n",
    ")\n",
    "'''\n",
    "\n",
    "graphemePat = f'''\n",
    "(?:\n",
    "        (?:\n",
    "            \\.\\.\\.                        # three dots, mostly in [...]\n",
    "        )\n",
    "    |\n",
    "        (?:\n",
    "            [0-9N]+\\([^)]+\\)               # a repeat, e.g. 5(N024)\n",
    "            {flagsModVarPat}*\n",
    "        )\n",
    "    |\n",
    "        (?:\n",
    "            [A-Z0-9a-wyzû\\'-]{{2,}}       # a plain grapheme, e.g. GA'AR\n",
    "            {flagsModVarPat}*\n",
    "        )\n",
    "    |\n",
    "        (?:\n",
    "            {smallPat}                    # a single letter grapheme: X or n, mostly in [n]\n",
    "            {flagsModVarPat}*\n",
    "        )\n",
    ")\n",
    "'''"
   ]
  },
  {
   "cell_type": "code",
   "execution_count": 72,
   "metadata": {
    "ExecuteTime": {
     "end_time": "2018-03-06T06:47:21.192719Z",
     "start_time": "2018-03-06T06:47:21.149795Z"
    }
   },
   "outputs": [],
   "source": [
    "def grepSigns(gen):\n",
    "    signRe = re.compile(signDetect, re.X)\n",
    "    graphemeRe = re.compile(graphemePat, re.X)\n",
    "\n",
    "    signs = []\n",
    "    ncTablets = set()\n",
    "    for (period, tablet, ln, line, skip) in gen:\n",
    "        if skip:\n",
    "            ncTablets.add(tablet)\n",
    "            continue\n",
    "        line = tweakLine(line, ln)\n",
    "        match = signRe.match(line)\n",
    "        if match:\n",
    "            material = match.group(1).strip()\n",
    "            material = tweakBeforeGrep(material)\n",
    "            graphemes = graphemeRe.findall(material)\n",
    "            for grapheme in graphemes:\n",
    "                grapheme = graphemeTweaks(grapheme)\n",
    "                signs.append((period, tablet, ln, grapheme))\n",
    "    if ncTablets:\n",
    "        NCmsg(len(ncTablets))\n",
    "    return signs"
   ]
  },
  {
   "cell_type": "markdown",
   "metadata": {},
   "source": [
    "The next one will take 5-10 seconds."
   ]
  },
  {
   "cell_type": "code",
   "execution_count": 73,
   "metadata": {
    "ExecuteTime": {
     "end_time": "2018-03-06T06:47:29.043855Z",
     "start_time": "2018-03-06T06:47:22.929593Z"
    }
   },
   "outputs": [
    {
     "name": "stdout",
     "output_type": "stream",
     "text": [
      "GREP: skipped 34 tablets: duplicate or non-physical\n",
      "HEAD : period ◆ tablet ◆ ln ◆ grapheme\n",
      "IDENTICAL: all 127654 items\n",
      "=    : uruk-iii ◆ P006427 ◆ 6 ◆ ...\n",
      "=    : uruk-iii ◆ P006427 ◆ 6 ◆ X\n",
      "=    : uruk-iii ◆ P006427 ◆ 6 ◆ X\n",
      "=    : uruk-iii ◆ P006427 ◆ 8 ◆ 3(N14)\n",
      "=    : uruk-iii ◆ P006427 ◆ 8 ◆ X\n",
      "=    : uruk-iii ◆ P006427 ◆ 8 ◆ SANGA~a?\n",
      "=    : uruk-iii ◆ P006427 ◆ 8 ◆ ...\n",
      "=    : uruk-iii ◆ P006428 ◆ 17 ◆ X\n",
      "=    : uruk-iii ◆ P006428 ◆ 17 ◆ X\n",
      "=    : uruk-iii ◆ P006428 ◆ 18 ◆ X\n",
      "=    : uruk-iii ◆ P006428 ◆ 18 ◆ X\n",
      "=    : uruk-iii ◆ P006428 ◆ 20 ◆ X\n",
      "=    : uruk-iii ◆ P006428 ◆ 20 ◆ X\n",
      "=    : uruk-iii ◆ P006428 ◆ 21 ◆ X\n",
      "=    : uruk-iii ◆ P006428 ◆ 21 ◆ X\n",
      "=    : uruk-iii ◆ P006428 ◆ 23 ◆ X\n",
      "=    : uruk-iii ◆ P006428 ◆ 23 ◆ X\n",
      "=    : uruk-iii ◆ P006428 ◆ 24 ◆ 3(N14)\n",
      "=    : uruk-iii ◆ P006428 ◆ 24 ◆ X\n",
      "=    : uruk-iii ◆ P006428 ◆ 25 ◆ 1(N14)\n",
      "=     and 127634 more\n",
      "Number of results: TF 127654; GREP 127654\n"
     ]
    },
    {
     "data": {
      "text/plain": [
       "True"
      ]
     },
     "execution_count": 73,
     "metadata": {},
     "output_type": "execute_result"
    }
   ],
   "source": [
    "COMP.checkSanity(\n",
    "    ('grapheme',),\n",
    "    grepSigns,\n",
    "    tfSigns,\n",
    ")"
   ]
  },
  {
   "cell_type": "markdown",
   "metadata": {},
   "source": [
    "## Quads\n",
    "\n",
    "Quads are the compositions of signs by operators. Operators can be applied several times,\n",
    "so quads themselves can be the building blocks for other quads.\n",
    "\n",
    "In transcription, the outermost quads are what you get if you split the transcription\n",
    "line (the part after the line number) of white space.\n",
    "\n",
    "Normally, if an outer quad is complex, it is written between `| |`.\n",
    "\n",
    "Quads and sub-quads may be augmented with variants, modifiers and flags."
   ]
  },
  {
   "cell_type": "markdown",
   "metadata": {},
   "source": [
    "### Outer complex quads\n",
    "\n",
    "Let us first check whether we see the same outer quads by TF as by GREP.\n",
    "We are not interested in the simple quads.\n",
    "They are the signs, and we have already checked them.\n",
    "So we look for all outer complex quads, i.e. quads with an operator in them,\n",
    "such as `x` or `+` or `.`\n",
    "\n",
    "In the transcriptions, complex outer quads should be surrounded by `| |`.\n",
    "However, in this corpus there are a few cases where one or both of the surrounding\n",
    "`|` are missing.\n",
    "\n",
    "We make an explicit list of these cases, and will correct the GREP results for these.\n",
    "\n",
    "In TF, outer quads are characterized by not having an incoming `sub` edge from an other quad.\n",
    "Remember that edges connect the complex quads with their component quads.\n",
    "\n",
    "**N.B.:** There are also `sub` edges between clusters and the quads that they contain,\n",
    "so when we check for incoming `sub` edges, we must only count the ones coming from a quad.\n",
    "\n",
    "In TF we recognize a complex quad as one having an outgoing `sub` edge."
   ]
  },
  {
   "cell_type": "code",
   "execution_count": 74,
   "metadata": {
    "ExecuteTime": {
     "end_time": "2018-03-06T06:47:33.585620Z",
     "start_time": "2018-03-06T06:47:33.553589Z"
    }
   },
   "outputs": [],
   "source": [
    "def tfQuads():\n",
    "    quads = []\n",
    "    for n in F.otype.s('quad'):\n",
    "        if any(\n",
    "            F.otype.v(parent) == 'quad' for parent in E.sub.t(n)\n",
    "        ) or not E.sub.f(n):\n",
    "            continue\n",
    "        (tablet, column, line) = T.sectionFromNode(n)\n",
    "        t = L.u(n, otype='tablet')[0]\n",
    "        case = L.u(n, otype='case')[0]\n",
    "        \n",
    "        quad = f\"{CN.atfFromQuad(n, flags=True)}\"\n",
    "        quads.append((F.period.v(t), tablet, F.srcLnNum.v(case), quad))\n",
    "    return quads"
   ]
  },
  {
   "cell_type": "markdown",
   "metadata": {},
   "source": [
    "### Variants: inside or outside?\n",
    "\n",
    "It seems that in the transcriptions there are two ways to augment an outer quad with a variant:\n",
    "\n",
    "`|(QQxRR)~a|` versus `|QQxRR|~a`\n",
    "\n",
    "Both occur\n",
    "\n",
    "In P000783 we have\n",
    "```\n",
    "6. 2(N14) , |(SZAxHI@g~a)~b|\n",
    "```\n",
    "\n",
    "whereas in P252180 we have\n",
    "\n",
    "```\n",
    "4. UB URI3~a |BAD+DISZ|~a EN~a\n",
    "```"
   ]
  },
  {
   "cell_type": "markdown",
   "metadata": {},
   "source": [
    "### Variants: extra level of brackets?\n",
    "\n",
    "What binds stronger: an operator, or a variant?\n",
    "Consider the following line of P006326:\n",
    "\n",
    "```\n",
    "1.b2. 2(N14)# 3(N01)# , |GA2~a1x(SUKUD&SUKUD)~b|#\n",
    "```\n",
    "\n",
    "If variants bind stronger than operators, we must read the big quad as\n",
    "\n",
    "```\n",
    "|GA2~a1x((SUKUD&SUKUD)~b)|#\n",
    "```\n",
    "\n",
    "If operators bind stronger, we need to read it as\n",
    "\n",
    "```\n",
    "|(GA2~a1x(SUKUD&SUKUD))~b|#\n",
    "```\n",
    "\n",
    "A variant is unary operator, whereas an operator is a binary operator,\n",
    "so it makes much more sense to opt for the first interpretation.\n",
    "\n",
    "However, in the corpus we see cases where there are unnecessary brackets\n",
    "for variants. See the following line in P002269:\n",
    "\n",
    "```\n",
    "1.a. 1(N01) , |NINDA2x((UDU~a+TAR)~b)| KU6~a\n",
    "```\n",
    "\n",
    "Here the brackets around `UDU~a+TAR)~b` are unneccesary. \n",
    "If variants bind stronger, then this should have the same meaning:\n",
    "\n",
    "```\n",
    "1.a. 1(N01) , |NINDA2x(UDU~a+TAR)~b| KU6~a\n",
    "```\n",
    "\n",
    "Since both bracketings occur, and since TF stores the abstract structure, and not\n",
    "the surface bracketing, there is no way for TF to remember the bracketing.\n",
    "\n",
    "We could add a feature to remember this, but as the meaning is not changed by extra\n",
    "brackets, it is silly to do so.\n",
    "\n",
    "Hence, after GREPPING, we will remove these kinds of brackets."
   ]
  },
  {
   "cell_type": "markdown",
   "metadata": {},
   "source": [
    "### More bracket issues\n",
    "\n",
    "In P005112 we find a line\n",
    "\n",
    "```\n",
    "1. [...] , |U4x2(N01).(2(N14).1(N08))| EN~a PA~a\n",
    "```\n",
    "\n",
    "The quad seems the composition of three subquads:\n",
    "`U4` and `2(N01)` and `2(N14).1(N08)`.\n",
    "\n",
    "But whereas it has been made explicit in which order the `.` operator should be applied,\n",
    "we do not know that for `x` versus `.`\n",
    "\n",
    "There are three possible meanings of `GxH.J`\n",
    "\n",
    "1. `Gx(H.J)`\n",
    "2. `(GxH).J`\n",
    "3. the order is immaterial, the previous meanings are equal\n",
    "\n",
    "Given the fact that there are no brackets, I opt for the third possibility."
   ]
  },
  {
   "cell_type": "markdown",
   "metadata": {},
   "source": [
    "### The most complex quads\n",
    "\n",
    "Here are a few really intricate quads:\n",
    "\n",
    "In P005573, column 2, line 2b2\n",
    "\n",
    "P005381 2 1\n",
    "\n",
    "Let's retrieve them using with a bit of Text-Fabric agility:\n",
    "\n",
    "```\n",
    "2.b2. , (|(HIx1(N57))&(HI+1(N57))| EN~a)a \n",
    "```"
   ]
  },
  {
   "cell_type": "code",
   "execution_count": 75,
   "metadata": {
    "ExecuteTime": {
     "end_time": "2018-03-06T06:47:43.727562Z",
     "start_time": "2018-03-06T06:47:43.697848Z"
    }
   },
   "outputs": [
    {
     "name": "stdout",
     "output_type": "stream",
     "text": [
      "2.b2. , (|(HIx1(N57))&(HI+1(N57))| EN~a)a \n",
      "1. 3(N04) , |GISZ.TE| GAR |SZU2.((HI+1(N57))+(HI+1(N57)))| GI4~a \n"
     ]
    }
   ],
   "source": [
    "for passage in (\n",
    "    ('P005573', 'obverse:2', '2', '2b2'),\n",
    "    ('P005381', 'obverse:2', '1'),\n",
    "):\n",
    "    line = T.nodeFromSection(passage[0:3])\n",
    "    cases = L.d(line, otype='case')\n",
    "    caseNr = passage[3] if len(passage) >= 4 else None\n",
    "    for case in cases:\n",
    "        if not caseNr or F.fullNumber.v(case) == caseNr:\n",
    "            print(F.srcLn.v(case))"
   ]
  },
  {
   "cell_type": "code",
   "execution_count": 76,
   "metadata": {
    "ExecuteTime": {
     "end_time": "2018-03-06T06:47:45.338798Z",
     "start_time": "2018-03-06T06:47:45.317493Z"
    }
   },
   "outputs": [],
   "source": [
    "quadVarPat = '''\n",
    "(?:\n",
    "    \\|\n",
    "        ([^|]+)\n",
    "    \\|\n",
    "    ~\n",
    "        ([a-wyz0-9A-WYZ]+)\n",
    ")\n",
    "'''\n",
    "\n",
    "quadVarRe = re.compile(quadVarPat, re.X)\n",
    "\n",
    "def quadVarReplace(match):\n",
    "    quad = match.group(1)\n",
    "    var = match.group(2)\n",
    "    print(f'GREP: pulling variant inside quad: \"|{quad}|~{var}\" => |({quad})~{var}|')\n",
    "    return f'|({quad})~{var}|'"
   ]
  },
  {
   "cell_type": "code",
   "execution_count": 77,
   "metadata": {
    "ExecuteTime": {
     "end_time": "2018-03-06T06:47:46.473409Z",
     "start_time": "2018-03-06T06:47:46.449853Z"
    }
   },
   "outputs": [],
   "source": [
    "quadBracketPat = '''\n",
    "(?:\n",
    "    \\(\n",
    "        \\(\n",
    "            ([^() ]+)\n",
    "        \\)\n",
    "        ~\n",
    "        ([a-wyz0-9A-WYZ]+)\n",
    "    \\)\n",
    ")\n",
    "'''\n",
    "\n",
    "quadBracketRe = re.compile(quadBracketPat, re.X)\n",
    "\n",
    "def quadBracketReplace(match):\n",
    "    quad = match.group(1)\n",
    "    var = match.group(2)\n",
    "    print(f'GREP: removing brackets around a variant: \"(({quad})~{var})\" => ({quad})~{var}')\n",
    "    return f'({quad})~{var}'"
   ]
  },
  {
   "cell_type": "code",
   "execution_count": 78,
   "metadata": {
    "ExecuteTime": {
     "end_time": "2018-03-06T06:47:47.549188Z",
     "start_time": "2018-03-06T06:47:47.533551Z"
    }
   },
   "outputs": [],
   "source": [
    "operatorPat = '''\n",
    "(?:\n",
    "    [x%&.:+]\n",
    ")\n",
    "'''"
   ]
  },
  {
   "cell_type": "code",
   "execution_count": 79,
   "metadata": {
    "ExecuteTime": {
     "end_time": "2018-03-06T06:47:49.125570Z",
     "start_time": "2018-03-06T06:47:49.091108Z"
    }
   },
   "outputs": [],
   "source": [
    "MISSING_PIPES01 = {\n",
    "       ('uruk-iii', 16730): '|SZE~a+NAM2|',\n",
    "       ('uruk-iii', 16896): '|EN~a+NUN~a| UTUL~a',\n",
    "       ('uruk-iii', 16962): 'GAL~a |EZEN~b+6N57|',\n",
    "       ('uruk-iii', 25956): '|GISZ+SZU2~a| |SZE~a+SZE~a|',\n",
    "       ('uruk-iii', 26281): '|GISZ.tenû| E2~b',\n",
    "       ('uruk-iii', 31523): '|MUD3.gunû|',\n",
    "       ('uruk-iii', 40186): '|SZUBUR+1(N57)|',\n",
    "       ('uruk-iii', 40188): '|SZUBUR+2(N57)|',\n",
    "       ('uruk-iii', 45102): '|ZATU737xDI| SANGA~a',\n",
    "       ('uruk-iii', 45533): '|SZE~a+NAM2| A',\n",
    "       ('uruk-iii', 52806): '1(N01) , UDUNITA~a |IDIN+1(N57)|',\n",
    "       ('uruk-iii', 55110): '|U4+1(N08)| |GI+A#|',\n",
    "}\n",
    "\n",
    "MISSING_PIPES02 = {\n",
    "       ('uruk-iii', 47783): '|SZE~a+NAM2|',    \n",
    "       ('uruk-iii', 57752): '|U4+1(N08)| |GI+A#|',\n",
    "}\n",
    "\n",
    "MISSING_PIPES = {}"
   ]
  },
  {
   "cell_type": "code",
   "execution_count": 80,
   "metadata": {
    "ExecuteTime": {
     "end_time": "2018-03-06T06:47:50.222348Z",
     "start_time": "2018-03-06T06:47:50.205104Z"
    }
   },
   "outputs": [],
   "source": [
    "complexQuadDetect = f'''\n",
    "(?:\n",
    "    {lineNumDetect}\n",
    "    (\n",
    "        .*\n",
    "        \\S\n",
    "        {operatorPat}\n",
    "        \\S\n",
    "        .*\n",
    "    )\n",
    ")\n",
    "'''\n",
    "\n",
    "complexQuadPat = f'''\n",
    "(?:\n",
    "    \\|\n",
    "        \\S+\n",
    "        {operatorPat}\n",
    "        \\S+\n",
    "    \\|\n",
    "    {flagsModVarPat}*\n",
    ")\n",
    "'''"
   ]
  },
  {
   "cell_type": "code",
   "execution_count": 81,
   "metadata": {
    "ExecuteTime": {
     "end_time": "2018-03-06T06:47:51.509565Z",
     "start_time": "2018-03-06T06:47:51.492469Z"
    }
   },
   "outputs": [],
   "source": [
    "quadRe = re.compile(complexQuadPat, re.X)"
   ]
  },
  {
   "cell_type": "code",
   "execution_count": 82,
   "metadata": {
    "ExecuteTime": {
     "end_time": "2018-03-06T06:47:52.590375Z",
     "start_time": "2018-03-06T06:47:52.537014Z"
    }
   },
   "outputs": [],
   "source": [
    "def grepQuads(gen):\n",
    "    quadsRe = re.compile(complexQuadDetect, re.X)\n",
    "    quadRe = re.compile(complexQuadPat, re.X)\n",
    "\n",
    "    quads = []\n",
    "    ncTablets = set()\n",
    "    for (period, tablet, ln, line, skip) in gen:\n",
    "        if skip:\n",
    "            ncTablets.add(tablet)\n",
    "            continue\n",
    "        line = tweakLine(line, ln)\n",
    "        material = MISSING_PIPES.get((period, ln), None)\n",
    "        if material == None:\n",
    "            match = quadsRe.match(line)\n",
    "            if match:\n",
    "                material = match.group(1).strip()\n",
    "                material = tweakBeforeGrep(material)\n",
    "        if material is not None:\n",
    "            for quad in quadRe.findall(material):\n",
    "                quad = graphemeTweaks(quad)\n",
    "                quad = quadVarRe.sub(quadVarReplace, quad)\n",
    "                quad = quadBracketRe.sub(quadBracketReplace, quad)\n",
    "                quads.append((period, tablet, ln, quad))\n",
    "    if ncTablets:\n",
    "        NCmsg(len(ncTablets))\n",
    "    return quads"
   ]
  },
  {
   "cell_type": "code",
   "execution_count": 83,
   "metadata": {
    "ExecuteTime": {
     "end_time": "2018-03-06T06:47:54.511215Z",
     "start_time": "2018-03-06T06:47:53.937177Z"
    }
   },
   "outputs": [
    {
     "name": "stdout",
     "output_type": "stream",
     "text": [
      "GREP: removing brackets around a variant: \"((UDU~a+TAR)~b)\" => (UDU~a+TAR)~b\n",
      "GREP: removing brackets around a variant: \"((UDU~axTAR)~a)\" => (UDU~axTAR)~a\n",
      "GREP: skipped 34 tablets: duplicate or non-physical\n",
      "HEAD : period ◆ tablet ◆ ln ◆ quad\n",
      "IDENTICAL: all 3624 items\n",
      "=    : uruk-iii ◆ P006428 ◆ 27 ◆ |DUG~bx1(N57)|\n",
      "=    : uruk-iii ◆ P448702 ◆ 66 ◆ |U4x1(N01)|\n",
      "=    : uruk-iii ◆ P448703 ◆ 80 ◆ |U4.1(N08)|\n",
      "=    : uruk-iii ◆ P448703 ◆ 81 ◆ |U4.1(N08)|\n",
      "=    : uruk-iii ◆ P448703 ◆ 82 ◆ |U4.1(N08)|#\n",
      "=    : uruk-iii ◆ P448703 ◆ 82 ◆ |GI&GI|#\n",
      "=    : uruk-iii ◆ P448703 ◆ 83 ◆ |U4.1(N08)|#\n",
      "=    : uruk-iii ◆ P448703 ◆ 84 ◆ |U4.1(N08)|\n",
      "=    : uruk-iii ◆ P482083 ◆ 142 ◆ |U4x3(N01)|\n",
      "=    : uruk-iii ◆ P499393 ◆ 161 ◆ |LAGAB~bxX|\n",
      "=    : uruk-iii ◆ P499393 ◆ 163 ◆ |MUSZEN.X|\n",
      "=    : uruk-iii ◆ P504412 ◆ 186 ◆ |SILA3~dxNI~a|\n",
      "=    : uruk-iii ◆ P006438 ◆ 217 ◆ |AB~axSUKKAL|\n",
      "=    : uruk-iii ◆ P000014 ◆ 239 ◆ |1(N57).SZUBUR|\n",
      "=    : uruk-iii ◆ P000014 ◆ 241 ◆ |2(N57).SZUBUR|\n",
      "=    : uruk-iii ◆ P000014 ◆ 244 ◆ |SILA3~axGARA2~a|#?\n",
      "=    : uruk-iii ◆ P000014 ◆ 280 ◆ |BU~a+DU6~a|\n",
      "=    : uruk-iii ◆ P000014 ◆ 301 ◆ |3(N57).SZUBUR|\n",
      "=    : uruk-iii ◆ P000456 ◆ 322 ◆ |1(N57).SZUBUR|\n",
      "=    : uruk-iii ◆ P002718 ◆ 349 ◆ |SZE~a&SZE~a|#?\n",
      "=     and 3604 more\n",
      "Number of results: TF 3624; GREP 3624\n"
     ]
    },
    {
     "data": {
      "text/plain": [
       "True"
      ]
     },
     "execution_count": 83,
     "metadata": {},
     "output_type": "execute_result"
    }
   ],
   "source": [
    "COMP.checkSanity(\n",
    "    ('quad',),\n",
    "    grepQuads,\n",
    "    tfQuads,\n",
    ")"
   ]
  },
  {
   "cell_type": "markdown",
   "metadata": {},
   "source": [
    "## Clusters\n",
    "\n",
    "Clusters are groupings of outermost quads.\n",
    "The transcription uses a variety of brackets for several kinds of clustering.\n",
    "\n",
    "In our corpus we encounter:\n",
    "\n",
    "* `[ ]` uncertain\n",
    "* `( )` proper names\n",
    "* `< >` supplied material\n",
    "\n",
    "Clusters may be nested.\n",
    "\n",
    "Most clusters are trivial: `[...]`."
   ]
  },
  {
   "cell_type": "code",
   "execution_count": 84,
   "metadata": {
    "ExecuteTime": {
     "end_time": "2018-03-06T06:48:56.701799Z",
     "start_time": "2018-03-06T06:48:56.677824Z"
    }
   },
   "outputs": [],
   "source": [
    "def tfClusters():\n",
    "    clusters = []\n",
    "    for n in F.otype.s('cluster'):\n",
    "        (tablet, column, line) = T.sectionFromNode(n)\n",
    "        t = L.u(n, otype='tablet')[0]\n",
    "        case = L.u(n, otype='case')[0]\n",
    "        \n",
    "        cluster = f\"{CN.atfFromCluster(n)}\"\n",
    "        clusters.append((F.period.v(t), tablet, F.srcLnNum.v(case), cluster))\n",
    "    return clusters"
   ]
  },
  {
   "cell_type": "code",
   "execution_count": 85,
   "metadata": {
    "ExecuteTime": {
     "end_time": "2018-03-06T06:48:57.564956Z",
     "start_time": "2018-03-06T06:48:57.537669Z"
    }
   },
   "outputs": [],
   "source": [
    "clusterOpen = '[(\\[<]'\n",
    "clusterClose = '[)\\]>]'\n",
    "openCluster = set('[(<')\n",
    "\n",
    "clusterDetect = f'''\n",
    "(?:\n",
    "    {lineNumDetect}\n",
    "    (\n",
    "        (?:\n",
    "                {clusterOpen}\n",
    "            |\n",
    "                (?:\n",
    "                    .*\\s\n",
    "                    {clusterOpen}\n",
    "                )\n",
    "        )\n",
    "        .*\n",
    "    )\n",
    ")\n",
    "'''\n",
    "\n",
    "nextMaterialPat = f'''\n",
    "(?:\n",
    "    \\s{clusterOpen}\n",
    ")\n",
    "'''\n",
    "\n",
    "clusterPat = f'''\n",
    "(?:\n",
    "    {clusterOpen}\n",
    "    (?:\n",
    "        (?:\n",
    "                {complexQuadPat}\n",
    "            |\n",
    "                {graphemePat}\n",
    "        )\n",
    "    )\n",
    "    (?:\n",
    "        \\s\n",
    "        (?:\n",
    "                {complexQuadPat}\n",
    "            |\n",
    "                {graphemePat}\n",
    "        )\n",
    "    )*\n",
    "    {clusterClose}\n",
    "    a?\n",
    ")\n",
    "'''\n",
    "\n",
    "cluster2Pat = f'''\n",
    "(?:\n",
    "    {clusterOpen}\n",
    "    (?:\n",
    "        (?:\n",
    "                {clusterPat}\n",
    "            |\n",
    "                {complexQuadPat}\n",
    "            |\n",
    "                {graphemePat}\n",
    "        )\n",
    "    )\n",
    "    (?:\n",
    "        \\s\n",
    "        (?:\n",
    "                {clusterPat}\n",
    "            |\n",
    "                {complexQuadPat}\n",
    "            |\n",
    "                {graphemePat}\n",
    "        )\n",
    "    )*\n",
    "    {clusterClose}\n",
    "    a?\n",
    ")\n",
    "'''"
   ]
  },
  {
   "cell_type": "code",
   "execution_count": 86,
   "metadata": {
    "ExecuteTime": {
     "end_time": "2018-03-06T06:48:58.646981Z",
     "start_time": "2018-03-06T06:48:58.496460Z"
    }
   },
   "outputs": [],
   "source": [
    "clustersRe = re.compile(clusterDetect, re.X)\n",
    "clusterRe = re.compile(cluster2Pat, re.X)\n",
    "nextRe = re.compile(nextMaterialPat, re.X)\n",
    "\n",
    "def getOuterClusters(material):\n",
    "    clusters = []\n",
    "    rest = 0\n",
    "    while rest < len(material):        \n",
    "        if material[rest] in openCluster:\n",
    "            clusterMatch = clusterRe.match(material[rest:])\n",
    "            if clusterMatch:\n",
    "                clusterRaw = clusterMatch.group(0)\n",
    "                clusters.append(clusterRaw)\n",
    "                clusters.extend(getOuterClusters(clusterRaw[1:-1]))\n",
    "                rest += len(clusterRaw)\n",
    "            else:\n",
    "                rest += 1\n",
    "        else:\n",
    "            nextMatch = nextRe.search(material[rest:])\n",
    "            if nextMatch:\n",
    "                rest += nextMatch.start() + 1\n",
    "            else:\n",
    "                break\n",
    "    return clusters\n",
    "\n",
    "def grepClusters(gen):\n",
    "    clusters = []\n",
    "    ncTablets = set()\n",
    "    for (period, tablet, ln, line, skip) in gen:\n",
    "        if skip:\n",
    "            ncTablets.add(tablet)\n",
    "            continue\n",
    "        line = tweakLine(line, ln)\n",
    "        line = tweakBeforeGrep(line)\n",
    "        line = line.replace(' , ', ' ').replace(',', '')\n",
    "\n",
    "        match = clustersRe.match(line)\n",
    "        if match:\n",
    "            material = match.group(1).strip()\n",
    "            clustersRaw = getOuterClusters(material)\n",
    "            for clusterRaw in clustersRaw:\n",
    "                cluster = graphemeTweaks(clusterRaw)\n",
    "                clusters.append((period, tablet, ln, cluster))\n",
    "    if ncTablets:\n",
    "        NCmsg(len(ncTablets))\n",
    "    return clusters"
   ]
  },
  {
   "cell_type": "code",
   "execution_count": 87,
   "metadata": {
    "ExecuteTime": {
     "end_time": "2018-03-06T06:49:02.886207Z",
     "start_time": "2018-03-06T06:49:00.548629Z"
    }
   },
   "outputs": [
    {
     "name": "stdout",
     "output_type": "stream",
     "text": [
      "GREP: skipped 34 tablets: duplicate or non-physical\n",
      "HEAD : period ◆ tablet ◆ ln ◆ cluster\n",
      "IDENTICAL: all 32753 items\n",
      "=    : uruk-iii ◆ P006427 ◆ 6 ◆ [...]\n",
      "=    : uruk-iii ◆ P006427 ◆ 8 ◆ [...]\n",
      "=    : uruk-iii ◆ P006428 ◆ 34 ◆ [...]\n",
      "=    : uruk-iii ◆ P448702 ◆ 59 ◆ [N]\n",
      "=    : uruk-iii ◆ P448702 ◆ 59 ◆ [...]\n",
      "=    : uruk-iii ◆ P448702 ◆ 60 ◆ [N]\n",
      "=    : uruk-iii ◆ P448702 ◆ 62 ◆ [N]\n",
      "=    : uruk-iii ◆ P448702 ◆ 62 ◆ [...]\n",
      "=    : uruk-iii ◆ P471695 ◆ 98 ◆ (EN~a DU ZATU759)a\n",
      "=    : uruk-iii ◆ P471695 ◆ 99 ◆ (BAN~b KASZ~c)a\n",
      "=    : uruk-iii ◆ P471695 ◆ 100 ◆ (KI@n SAG)a\n",
      "=    : uruk-iii ◆ P471695 ◆ 101 ◆ [...]\n",
      "=    : uruk-iii ◆ P471695 ◆ 102 ◆ (3(N57) PAP~a)a\n",
      "=    : uruk-iii ◆ P471695 ◆ 103 ◆ (SZU KI X)a\n",
      "=    : uruk-iii ◆ P471695 ◆ 105 ◆ (EN~a AN EZINU~d)a\n",
      "=    : uruk-iii ◆ P471695 ◆ 106 ◆ (IDIGNA [...])a\n",
      "=    : uruk-iii ◆ P471695 ◆ 106 ◆ [...]\n",
      "=    : uruk-iii ◆ P471695 ◆ 111 ◆ (PAP~a GIR3~c)a\n",
      "=    : uruk-iii ◆ P471695 ◆ 116 ◆ [1(N14)]\n",
      "=    : uruk-iii ◆ P471695 ◆ 116 ◆ [...]\n",
      "=     and 32733 more\n",
      "Number of results: TF 32753; GREP 32753\n"
     ]
    },
    {
     "data": {
      "text/plain": [
       "True"
      ]
     },
     "execution_count": 87,
     "metadata": {},
     "output_type": "execute_result"
    }
   ],
   "source": [
    "COMP.checkSanity(\n",
    "    ('cluster',),\n",
    "    grepClusters,\n",
    "    tfClusters,\n",
    ")"
   ]
  },
  {
   "cell_type": "markdown",
   "metadata": {},
   "source": [
    "## Conclusion\n",
    "\n",
    "Here ends the checking.\n",
    "\n",
    "This notebook has tested all patterns and quantities found in the transcriptions.\n",
    "\n",
    "By a somewhat convoluted GREP we have extracted patterns from the sources.\n",
    "\n",
    "By somewhat contrived TF alchemy we have produced the same patterns from the Text-Fabric\n",
    "representation of the sources.\n",
    "\n",
    "Then we have made a rigorous comparison: we have checked wether both methods found exactly\n",
    "the same sequence of values.\n",
    "\n",
    "And yes, it is so."
   ]
  },
  {
   "cell_type": "code",
   "execution_count": null,
   "metadata": {},
   "outputs": [],
   "source": []
  }
 ],
 "metadata": {
  "kernelspec": {
   "display_name": "Python 3",
   "language": "python",
   "name": "python3"
  },
  "language_info": {
   "codemirror_mode": {
    "name": "ipython",
    "version": 3
   },
   "file_extension": ".py",
   "mimetype": "text/x-python",
   "name": "python",
   "nbconvert_exporter": "python",
   "pygments_lexer": "ipython3",
   "version": "3.6.4"
  },
  "toc": {
   "nav_menu": {},
   "number_sections": true,
   "sideBar": true,
   "skip_h1_title": true,
   "toc_cell": true,
   "toc_position": {},
   "toc_section_display": "block",
   "toc_window_display": true
  }
 },
 "nbformat": 4,
 "nbformat_minor": 2
}
